{
 "cells": [
  {
   "cell_type": "markdown",
   "metadata": {},
   "source": [
    "# Crawler"
   ]
  },
  {
   "cell_type": "code",
   "execution_count": 3,
   "metadata": {},
   "outputs": [],
   "source": [
    "import sys\n",
    "sys.path.append(\"../\")\n",
    "from src.prepare.website_load import WebPageMDLoader\n",
    "import pandas as pd\n",
    "from uuid import uuid4\n",
    "\n",
    "PATH = \"../data/training_program\"\n",
    "\n",
    "webloader = WebPageMDLoader()\n",
    "df = pd.read_csv(f\"{PATH}/sitemap.csv\")\n",
    "df = df.fillna(value=\"\")\n",
    "save_csv = False\n",
    "for i, row in df.iterrows():\n",
    "    id = row['id']\n",
    "    if id == \"\":\n",
    "        row[\"id\"] = str(uuid4())\n",
    "        id = row['id']\n",
    "        save_csv = True\n",
    "    l = row['source']\n",
    "    a = webloader.load_page(link=l)\n",
    "    with open(f\"{PATH}/{id}.md\", \"a\") as f:\n",
    "        f.write(a)\n",
    "\n",
    "if save_csv:\n",
    "    df.to_csv(f\"{PATH}/sitemap.csv\")\n",
    "    \n",
    "# a = webloader.load_page(link=l)"
   ]
  },
  {
   "cell_type": "code",
   "execution_count": 3,
   "metadata": {},
   "outputs": [],
   "source": [
    "with open(\"a.md\", \"w\") as f:\n",
    "    f.write(a)"
   ]
  },
  {
   "cell_type": "code",
   "execution_count": 4,
   "metadata": {},
   "outputs": [
    {
     "name": "stdout",
     "output_type": "stream",
     "text": [
      "/bin/bash: line 1: pbcopy: command not found\n",
      "cat: write error: Broken pipe\n"
     ]
    }
   ],
   "source": []
  }
 ],
 "metadata": {
  "kernelspec": {
   "display_name": "uni",
   "language": "python",
   "name": "python3"
  },
  "language_info": {
   "codemirror_mode": {
    "name": "ipython",
    "version": 3
   },
   "file_extension": ".py",
   "mimetype": "text/x-python",
   "name": "python",
   "nbconvert_exporter": "python",
   "pygments_lexer": "ipython3",
   "version": "3.9.18"
  },
  "orig_nbformat": 4
 },
 "nbformat": 4,
 "nbformat_minor": 2
}
