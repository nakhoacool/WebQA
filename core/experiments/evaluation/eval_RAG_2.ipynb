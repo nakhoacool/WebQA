{
 "cells": [
  {
   "cell_type": "markdown",
   "id": "24c08713-b9dc-428d-ad60-f55f59de9c44",
   "metadata": {},
   "source": [
    "# Evaluate RAG"
   ]
  },
  {
   "cell_type": "code",
   "execution_count": 1,
   "id": "4f6cf076-a65e-400b-88c3-d65b38a9a3d4",
   "metadata": {},
   "outputs": [],
   "source": [
    "import sys\n",
    "sys.path.append(\"../..\")\n",
    "from datasets import load_dataset\n",
    "from src.service.provider import ProviderService\n",
    "\n",
    "provider = ProviderService()\n",
    "# provider.config.enable_tracing(project=\"EVALUATE_RAG\")"
   ]
  },
  {
   "cell_type": "code",
   "execution_count": 2,
   "id": "ab6510fe-65a8-4d59-90ff-27c5db1c64d7",
   "metadata": {},
   "outputs": [
    {
     "data": {
      "text/plain": [
       "Dataset({\n",
       "    features: ['question', 'answer', 'url', 'group', 'doc_id', 'metadata'],\n",
       "    num_rows: 144\n",
       "})"
      ]
     },
     "execution_count": 2,
     "metadata": {},
     "output_type": "execute_result"
    }
   ],
   "source": [
    "QA_REPO = \"BroDeadlines/QA.TDT.FQA_tu_van_hoc_duong\"\n",
    "QA_SPLIT = \"INDEX.medium_index_TDT\"\n",
    "qa_dataset = load_dataset(QA_REPO, split=QA_SPLIT)\n",
    "qa_dataset"
   ]
  },
  {
   "cell_type": "markdown",
   "id": "ac9f56f0-fdf4-48d0-928f-211640342132",
   "metadata": {},
   "source": [
    "# Run RAG"
   ]
  },
  {
   "cell_type": "code",
   "execution_count": 14,
   "id": "7d9c2fce-9b9e-4511-839e-2d865b5f6254",
   "metadata": {},
   "outputs": [
    {
     "data": {
      "text/plain": [
       "DatasetDict({\n",
       "    train: Dataset({\n",
       "        features: ['url', 'content', 'doc_id', 'metadata', 'split', 'shards', 'propositions', 'proposition_list', '__index_level_0__'],\n",
       "        num_rows: 196\n",
       "    })\n",
       "})"
      ]
     },
     "execution_count": 14,
     "metadata": {},
     "output_type": "execute_result"
    }
   ],
   "source": [
    "# donwload corpora dataset\n",
    "# DATA_REPO = \"BroDeadlines/TEST.UEH.ueh_copora_data\"\n",
    "DATA_REPO = \"BroDeadlines/TEST.UEH.ueh_copora_data\"\n",
    "# DATA_SPLIT = \"INDEX.medium_index_TDT_clean\"\n",
    "SUBSET = \"default\"\n",
    "# dataset = load_dataset(DATA_REPO, split=DATA_SPLIT)\n",
    "dataset = load_dataset(DATA_REPO, SUBSET)\n",
    "# dataset = dataset['train']\n",
    "dataset"
   ]
  },
  {
   "cell_type": "code",
   "execution_count": 3,
   "id": "a557597e-b1ba-4dfc-9ca2-efecc3c1e3c2",
   "metadata": {},
   "outputs": [
    {
     "data": {
      "text/plain": [
       "{'llm': 'gemini-1.0-pro',\n",
       " 'total_k': 8,\n",
       " 'txt_weight': 0.5,\n",
       " 'vec_weight': 0.5,\n",
       " 'vec_index': 'vec-raptor-medium_index_tdt_vi',\n",
       " 'txt_index': 'TEX-raptor-ueh-data-tree-unique'}"
      ]
     },
     "execution_count": 3,
     "metadata": {},
     "output_type": "execute_result"
    }
   ],
   "source": [
    "from src.rag.hg_parent_retriever import HugFaceParentRAG\n",
    "from src.rag.hyde_rag import HydeRAG, HydeHybridSearchRAG, RAG\n",
    "from src.utils.type_utils import get_default_config\n",
    "\n",
    "config = get_default_config()\n",
    "\n",
    "config['vec_index'] = \"vec-raptor-medium_index_tdt_vi\"\n",
    "config['txt_index'] = \"TEX-raptor-ueh-data-tree-unique\"\n",
    "\n",
    "config['total_k'] = 8\n",
    "config['llm'] = \"gemini-1.0-pro\"\n",
    "config"
   ]
  },
  {
   "cell_type": "code",
   "execution_count": 4,
   "id": "4909c2ed-7aba-4909-a6ad-4af59012cf79",
   "metadata": {},
   "outputs": [],
   "source": [
    "UNI = \"Đại học Kinh tế TP. Hồ Chí Minh\"\n",
    "# UNI = \"Tôn Đức Thắng\"\n",
    "dataset = None\n",
    "# rag = HugFaceParentRAG(provider=provider, config=config, text_corpora=dataset, uni = UNI)\n",
    "rag = RAG(provider=provider, config=config, uni=UNI)\n",
    "# rag = HydeHybridSearchRAG(provider=provider, config=config, uni=UNI)"
   ]
  },
  {
   "cell_type": "code",
   "execution_count": 6,
   "id": "9eae5785-c9f6-4e0b-930b-6bfbc906e0f7",
   "metadata": {},
   "outputs": [
    {
     "data": {
      "text/plain": [
       "'Dữ liệu cung cấp không đề cập đến sự khác biệt về học phí và học bổng đào tạo tại Vĩnh Long so với Thành phố Hồ Chí Minh.'"
      ]
     },
     "execution_count": 6,
     "metadata": {},
     "output_type": "execute_result"
    }
   ],
   "source": [
    "# q = \"sinh viên tôn đức thắng\"\n",
    "# q = \"Đại học Tôn Đức Thắng có những phương thức tuyển sinh nào?\"\n",
    "# q = \"Cho em hỏi là nếu em học chất lượg cao thì em sẽ học ở chi nhánh nào , sẽ học khác với đại trà chỗ nào và cơ sở vật chất ra làm sao ạ . Em cảm ơn\"\n",
    "q = \"Câu 2: Học phí và học bổng đào tạo tại Vĩnh Long có gì khác so với đào tại Thành phố Hồ Chí Minh\"\n",
    "a = rag.answer(q)\n",
    "\n",
    "a['answer']"
   ]
  },
  {
   "cell_type": "markdown",
   "id": "26fe684f-0fa8-459c-9d88-4a968b9078aa",
   "metadata": {},
   "source": [
    "## Run"
   ]
  },
  {
   "cell_type": "code",
   "execution_count": 5,
   "id": "9e97b943-adc7-4240-8969-ee9d1b02eb39",
   "metadata": {},
   "outputs": [],
   "source": [
    "def eval_no_score1(row):\n",
    "    resp = rag.answer(row['question'])\n",
    "    row['answer'] = resp['answer']\n",
    "    row['exc_second'] = resp['exc_second']\n",
    "    docs = resp['retrieved_docs']\n",
    "    result = [{'content': d.page_content, \"doc_id\": d.metadata['doc_id'], \"score\": -1.0} for d in docs]\n",
    "    row['evaluation'] = result\n",
    "    return row"
   ]
  },
  {
   "cell_type": "code",
   "execution_count": 6,
   "id": "e0d79fd3-f198-4139-b7a7-ce4eabfef7b2",
   "metadata": {},
   "outputs": [
    {
     "name": "stderr",
     "output_type": "stream",
     "text": [
      "Parameter 'function'=<function eval_no_score1 at 0x7f0924783670> of the transform datasets.arrow_dataset.Dataset._map_single couldn't be hashed properly, a random hash was used instead. Make sure your transforms and parameters are serializable with pickle or dill for the dataset fingerprinting and caching to work. If you reuse this transform, the caching mechanism will consider it to be different from the previous calls and recompute everything. This warning is only showed once. Subsequent hashing failures won't be showed.\n"
     ]
    },
    {
     "data": {
      "application/vnd.jupyter.widget-view+json": {
       "model_id": "6dd82cd81ecd4bf5bb89e16f8b4815ec",
       "version_major": 2,
       "version_minor": 0
      },
      "text/plain": [
       "Map:   0%|          | 0/144 [00:00<?, ? examples/s]"
      ]
     },
     "metadata": {},
     "output_type": "display_data"
    },
    {
     "name": "stderr",
     "output_type": "stream",
     "text": [
      "Retrying langchain_google_genai.llms._completion_with_retry.<locals>._completion_with_retry in 4.0 seconds as it raised ResourceExhausted: 429 Resource has been exhausted (e.g. check quota)..\n",
      "Retrying langchain_google_genai.llms._completion_with_retry.<locals>._completion_with_retry in 4.0 seconds as it raised ResourceExhausted: 429 Resource has been exhausted (e.g. check quota)..\n",
      "Retrying langchain_google_genai.llms._completion_with_retry.<locals>._completion_with_retry in 4.0 seconds as it raised ResourceExhausted: 429 Resource has been exhausted (e.g. check quota)..\n",
      "Retrying langchain_google_genai.llms._completion_with_retry.<locals>._completion_with_retry in 4.0 seconds as it raised ResourceExhausted: 429 Resource has been exhausted (e.g. check quota)..\n",
      "Retrying langchain_google_genai.llms._completion_with_retry.<locals>._completion_with_retry in 4.0 seconds as it raised ResourceExhausted: 429 Resource has been exhausted (e.g. check quota)..\n",
      "Retrying langchain_google_genai.llms._completion_with_retry.<locals>._completion_with_retry in 4.0 seconds as it raised ResourceExhausted: 429 Resource has been exhausted (e.g. check quota)..\n",
      "Retrying langchain_google_genai.llms._completion_with_retry.<locals>._completion_with_retry in 4.0 seconds as it raised ResourceExhausted: 429 Resource has been exhausted (e.g. check quota)..\n"
     ]
    }
   ],
   "source": [
    "eval_dataset = qa_dataset.map(eval_no_score1)"
   ]
  },
  {
   "cell_type": "markdown",
   "id": "5c94db3f-3840-4dd3-9e61-18209df6d102",
   "metadata": {},
   "source": [
    "## Push"
   ]
  },
  {
   "cell_type": "code",
   "execution_count": 7,
   "id": "e7e39644-b57e-416e-bde3-0ea081ad969e",
   "metadata": {},
   "outputs": [
    {
     "data": {
      "text/plain": [
       "Dataset({\n",
       "    features: ['question', 'answer', 'url', 'group', 'doc_id', 'metadata', 'exc_second', 'evaluation'],\n",
       "    num_rows: 144\n",
       "})"
      ]
     },
     "execution_count": 7,
     "metadata": {},
     "output_type": "execute_result"
    }
   ],
   "source": [
    "eval_dataset"
   ]
  },
  {
   "cell_type": "code",
   "execution_count": 8,
   "id": "a819b24a-1de5-4d83-9d13-0ded8a36b106",
   "metadata": {},
   "outputs": [],
   "source": [
    "PUSH_REPO = \"BroDeadlines/EVAL.NEW.raptor.IR_evaluation\"\n",
    "PUSH_SUBSET = \"raptor_no_hyde_k8\""
   ]
  },
  {
   "cell_type": "code",
   "execution_count": 9,
   "id": "d0d1d1fc-32b1-4aa0-8105-a1d45e6939f8",
   "metadata": {},
   "outputs": [
    {
     "data": {
      "application/vnd.jupyter.widget-view+json": {
       "model_id": "473aa76b20c640848c33de988a256d37",
       "version_major": 2,
       "version_minor": 0
      },
      "text/plain": [
       "Uploading the dataset shards:   0%|          | 0/1 [00:00<?, ?it/s]"
      ]
     },
     "metadata": {},
     "output_type": "display_data"
    },
    {
     "data": {
      "application/vnd.jupyter.widget-view+json": {
       "model_id": "80d173b52d924158a941c47ebc3de82d",
       "version_major": 2,
       "version_minor": 0
      },
      "text/plain": [
       "Creating parquet from Arrow format:   0%|          | 0/1 [00:00<?, ?ba/s]"
      ]
     },
     "metadata": {},
     "output_type": "display_data"
    },
    {
     "data": {
      "application/vnd.jupyter.widget-view+json": {
       "model_id": "7b8afb75d1354be6a39179ec82ee8a95",
       "version_major": 2,
       "version_minor": 0
      },
      "text/plain": [
       "README.md:   0%|          | 0.00/7.25k [00:00<?, ?B/s]"
      ]
     },
     "metadata": {},
     "output_type": "display_data"
    },
    {
     "data": {
      "text/plain": [
       "CommitInfo(commit_url='https://huggingface.co/datasets/BroDeadlines/EVAL.NEW.raptor.IR_evaluation/commit/3490dd05b628672619d828007f8b4bed09ca1434', commit_message='Upload dataset', commit_description='', oid='3490dd05b628672619d828007f8b4bed09ca1434', pr_url=None, pr_revision=None, pr_num=None)"
      ]
     },
     "execution_count": 9,
     "metadata": {},
     "output_type": "execute_result"
    }
   ],
   "source": [
    "eval_dataset.push_to_hub(PUSH_REPO, PUSH_SUBSET)"
   ]
  },
  {
   "cell_type": "markdown",
   "id": "913b573d-7bb0-4ca1-ad18-c4d580603a9c",
   "metadata": {},
   "source": [
    "## Update shards"
   ]
  },
  {
   "cell_type": "markdown",
   "id": "9d589da4-546e-4862-895b-d024098c8dc4",
   "metadata": {
    "jp-MarkdownHeadingCollapsed": true
   },
   "source": [
    "### proposition"
   ]
  },
  {
   "cell_type": "code",
   "execution_count": 12,
   "id": "51682c67-8aff-4e9e-96bc-32439480acbf",
   "metadata": {},
   "outputs": [
    {
     "ename": "AttributeError",
     "evalue": "'NoneType' object has no attribute 'map'",
     "output_type": "error",
     "traceback": [
      "\u001b[0;31m---------------------------------------------------------------------------\u001b[0m",
      "\u001b[0;31mAttributeError\u001b[0m                            Traceback (most recent call last)",
      "Cell \u001b[0;32mIn[12], line 7\u001b[0m\n\u001b[1;32m      4\u001b[0m     pros[row[\u001b[38;5;124m'\u001b[39m\u001b[38;5;124mdoc_id\u001b[39m\u001b[38;5;124m'\u001b[39m]] \u001b[38;5;241m=\u001b[39m row[\u001b[38;5;124m'\u001b[39m\u001b[38;5;124mproposition_list\u001b[39m\u001b[38;5;124m'\u001b[39m]\n\u001b[1;32m      5\u001b[0m     \u001b[38;5;28;01mreturn\u001b[39;00m row\n\u001b[0;32m----> 7\u001b[0m \u001b[43mdataset\u001b[49m\u001b[38;5;241;43m.\u001b[39;49m\u001b[43mmap\u001b[49m(map_pros)\n",
      "\u001b[0;31mAttributeError\u001b[0m: 'NoneType' object has no attribute 'map'"
     ]
    }
   ],
   "source": [
    "\n",
    "\n",
    "pros = {}\n",
    "\n",
    "def map_pros(row):\n",
    "    pros[row['doc_id']] = row['proposition_list']\n",
    "    return row\n",
    "\n",
    "dataset.map(map_pros)"
   ]
  },
  {
   "cell_type": "code",
   "execution_count": 16,
   "id": "434ec7e3-c486-4145-90e2-71f42db322f2",
   "metadata": {},
   "outputs": [],
   "source": [
    "import json\n",
    "def parent(row):\n",
    "    row['metadata'] = json.dumps({\"shards\": 1})\n",
    "    return row\n",
    "    \n",
    "def no_parent(row):\n",
    "    shards = pros[row['doc_id']]\n",
    "    row['metadata'] = json.dumps({\"shards\": len(shards)})\n",
    "    return row\n",
    "    "
   ]
  },
  {
   "cell_type": "code",
   "execution_count": 17,
   "id": "edc86648-344f-4d33-86a5-302e857fe13f",
   "metadata": {},
   "outputs": [
    {
     "data": {
      "application/vnd.jupyter.widget-view+json": {
       "model_id": "c2805c9c8d7e4c8e8cfc0e142fbf7efc",
       "version_major": 2,
       "version_minor": 0
      },
      "text/plain": [
       "Map:   0%|          | 0/54 [00:00<?, ? examples/s]"
      ]
     },
     "metadata": {},
     "output_type": "display_data"
    }
   ],
   "source": [
    "eval_dataset = eval_dataset.map(no_parent)"
   ]
  },
  {
   "cell_type": "markdown",
   "id": "03d3c62b-723c-4e63-8234-c5dd40e22c13",
   "metadata": {},
   "source": [
    "### RAPTOR"
   ]
  },
  {
   "cell_type": "code",
   "execution_count": 22,
   "id": "c6036dfb-e518-4fb8-b8bc-08488e07f1cc",
   "metadata": {},
   "outputs": [],
   "source": [
    "CLUSTER_REPO = \"BroDeadlines/TEST.NEW.PART_CLUSTER.raptor.edu_tdt_data\"\n",
    "SUMMERIZE_REPO = \"BroDeadlines/TEST.NEW.PART_SUMMERIZE.raptor.edu_tdt_data\"\n",
    "SPLIT = \"TEST.medium_tdt_raptor_vi\"\n",
    "# \n",
    "# CLUSTER_REPO = \"BroDeadlines/TEST.PART_CLUSTER.UEH.raptor.edu_data\"\n",
    "# SUMMERIZE_REPO = \"BroDeadlines/TEST.PART_SUMMERIZE.UEH.raptor.edu_tdt_data\"\n",
    "# SUBSET = 'unique'\n",
    "\n",
    "cluster_dataset =  load_dataset(CLUSTER_REPO, split=SPLIT)\n",
    "summerize_dataset =  load_dataset(SUMMERIZE_REPO, split=SPLIT)"
   ]
  },
  {
   "cell_type": "code",
   "execution_count": 23,
   "id": "ef36a4f1-0533-4bfb-98dc-5b59c4e5fc30",
   "metadata": {},
   "outputs": [
    {
     "data": {
      "text/plain": [
       "0"
      ]
     },
     "execution_count": 23,
     "metadata": {},
     "output_type": "execute_result"
    }
   ],
   "source": [
    "easy_shards = {}\n",
    "hard_shards = {}\n",
    "\n",
    "def get_shards_cluster5(row):\n",
    "    d_id = row['doc_ids']\n",
    "    if d_id not in hard_shards:\n",
    "        hard_shards[d_id] = row['hard_shards']\n",
    "        easy_shards[d_id] = row['easy_shards']\n",
    "    return row\n",
    "\n",
    "# cluster_dataset.filter(lambda row: row['level_id'] == \"tree_1\").map(get_shards_cluster_1)\n",
    "# summerize_dataset.map(get_shards_cluster_1)\n",
    "len(easy_shards)"
   ]
  },
  {
   "cell_type": "code",
   "execution_count": 24,
   "id": "d7e105fb-5b94-4f01-9ebc-d2e8d8c4b1ad",
   "metadata": {},
   "outputs": [
    {
     "data": {
      "application/vnd.jupyter.widget-view+json": {
       "model_id": "c25ef6cb644e4286b68fda9b570ddd6b",
       "version_major": 2,
       "version_minor": 0
      },
      "text/plain": [
       "Map:   0%|          | 0/1254 [00:00<?, ? examples/s]"
      ]
     },
     "metadata": {},
     "output_type": "display_data"
    },
    {
     "data": {
      "text/plain": [
       "344"
      ]
     },
     "execution_count": 24,
     "metadata": {},
     "output_type": "execute_result"
    }
   ],
   "source": [
    "cluster_dataset.filter(lambda row: row['level_id'] == \"tree_1\").map(get_shards_cluster5)\n",
    "len(easy_shards)"
   ]
  },
  {
   "cell_type": "code",
   "execution_count": 25,
   "id": "26e2ec98-0aed-4aba-84f6-5ed0192e3b57",
   "metadata": {},
   "outputs": [
    {
     "data": {
      "application/vnd.jupyter.widget-view+json": {
       "model_id": "1c43bf9b69bd42d5b7ea3ec82e8b5b50",
       "version_major": 2,
       "version_minor": 0
      },
      "text/plain": [
       "Map:   0%|          | 0/277 [00:00<?, ? examples/s]"
      ]
     },
     "metadata": {},
     "output_type": "display_data"
    },
    {
     "data": {
      "text/plain": [
       "613"
      ]
     },
     "execution_count": 25,
     "metadata": {},
     "output_type": "execute_result"
    }
   ],
   "source": [
    "summerize_dataset.map(get_shards_cluster5)\n",
    "len(easy_shards)"
   ]
  },
  {
   "cell_type": "code",
   "execution_count": 20,
   "id": "6f172968-e2c9-4d4a-8356-9a073a7dc520",
   "metadata": {},
   "outputs": [
    {
     "data": {
      "text/plain": [
       "478"
      ]
     },
     "execution_count": 20,
     "metadata": {},
     "output_type": "execute_result"
    }
   ],
   "source": [
    "195 + 283"
   ]
  },
  {
   "cell_type": "code",
   "execution_count": 26,
   "id": "a7066bb1-7cfd-465b-afb3-844662bbc75d",
   "metadata": {},
   "outputs": [
    {
     "data": {
      "application/vnd.jupyter.widget-view+json": {
       "model_id": "22d2761b8066487d95465d44145fdd6e",
       "version_major": 2,
       "version_minor": 0
      },
      "text/plain": [
       "Map:   0%|          | 0/144 [00:00<?, ? examples/s]"
      ]
     },
     "metadata": {},
     "output_type": "display_data"
    },
    {
     "data": {
      "text/plain": [
       "Dataset({\n",
       "    features: ['question', 'answer', 'url', 'group', 'doc_id', 'metadata', 'exc_second', 'evaluation'],\n",
       "    num_rows: 144\n",
       "})"
      ]
     },
     "execution_count": 26,
     "metadata": {},
     "output_type": "execute_result"
    }
   ],
   "source": [
    "import json\n",
    "def update_shards(row):\n",
    "    id = row['doc_id']\n",
    "    return {**row, \"metadata\": json.dumps({\"easy_shards\": easy_shards[id], \"hard_shards\": hard_shards[id]})}\n",
    "\n",
    "test_ds_update = eval_dataset.map(update_shards)\n",
    "test_ds_update"
   ]
  },
  {
   "cell_type": "code",
   "execution_count": 27,
   "id": "1e08d856-c677-4241-9431-8e1687eb3452",
   "metadata": {},
   "outputs": [
    {
     "data": {
      "application/vnd.jupyter.widget-view+json": {
       "model_id": "c17d9eb8ba224c229ae98517c9ebc33b",
       "version_major": 2,
       "version_minor": 0
      },
      "text/plain": [
       "Filter:   0%|          | 0/144 [00:00<?, ? examples/s]"
      ]
     },
     "metadata": {},
     "output_type": "display_data"
    },
    {
     "data": {
      "text/plain": [
       "Dataset({\n",
       "    features: ['question', 'answer', 'url', 'group', 'doc_id', 'metadata', 'exc_second', 'evaluation'],\n",
       "    num_rows: 144\n",
       "})"
      ]
     },
     "execution_count": 27,
     "metadata": {},
     "output_type": "execute_result"
    }
   ],
   "source": [
    "test_ds_update.filter(lambda e: len(e['metadata']) > 0)"
   ]
  },
  {
   "cell_type": "code",
   "execution_count": 28,
   "id": "843ea34a-7a7f-42b1-a507-28c702353066",
   "metadata": {},
   "outputs": [
    {
     "name": "stdout",
     "output_type": "stream",
     "text": [
      "BroDeadlines/EVAL.NEW.raptor.IR_evaluation\n"
     ]
    },
    {
     "data": {
      "text/plain": [
       "'raptor_no_hyde_k8'"
      ]
     },
     "execution_count": 28,
     "metadata": {},
     "output_type": "execute_result"
    }
   ],
   "source": [
    "print(PUSH_REPO)\n",
    "PUSH_SUBSET"
   ]
  },
  {
   "cell_type": "code",
   "execution_count": 29,
   "id": "06772560-f690-49eb-aa0d-88bd3e49b3b2",
   "metadata": {},
   "outputs": [
    {
     "data": {
      "application/vnd.jupyter.widget-view+json": {
       "model_id": "5ebb650a1b67416e9a57ddfc97525038",
       "version_major": 2,
       "version_minor": 0
      },
      "text/plain": [
       "Uploading the dataset shards:   0%|          | 0/1 [00:00<?, ?it/s]"
      ]
     },
     "metadata": {},
     "output_type": "display_data"
    },
    {
     "data": {
      "application/vnd.jupyter.widget-view+json": {
       "model_id": "9f46538423bc49f483a182ee456afc43",
       "version_major": 2,
       "version_minor": 0
      },
      "text/plain": [
       "Creating parquet from Arrow format:   0%|          | 0/1 [00:00<?, ?ba/s]"
      ]
     },
     "metadata": {},
     "output_type": "display_data"
    },
    {
     "data": {
      "application/vnd.jupyter.widget-view+json": {
       "model_id": "1b8ae8d91b06421d9d6ca523254e239f",
       "version_major": 2,
       "version_minor": 0
      },
      "text/plain": [
       "README.md:   0%|          | 0.00/7.96k [00:00<?, ?B/s]"
      ]
     },
     "metadata": {},
     "output_type": "display_data"
    },
    {
     "data": {
      "text/plain": [
       "CommitInfo(commit_url='https://huggingface.co/datasets/BroDeadlines/EVAL.NEW.raptor.IR_evaluation/commit/c08adf3637470946a786734ba1f0bd3df427cbf9', commit_message='Upload dataset', commit_description='', oid='c08adf3637470946a786734ba1f0bd3df427cbf9', pr_url=None, pr_revision=None, pr_num=None)"
      ]
     },
     "execution_count": 29,
     "metadata": {},
     "output_type": "execute_result"
    }
   ],
   "source": [
    "test_ds_update.push_to_hub(PUSH_REPO, PUSH_SUBSET)"
   ]
  },
  {
   "cell_type": "markdown",
   "id": "fd0cd046-03c7-4bc5-b5e8-264cd80a4c4e",
   "metadata": {
    "jp-MarkdownHeadingCollapsed": true
   },
   "source": [
    "# Report"
   ]
  },
  {
   "cell_type": "code",
   "execution_count": 3,
   "id": "9b92d6a8-4a28-4bc5-9a22-cf5ec906c5ac",
   "metadata": {},
   "outputs": [
    {
     "data": {
      "application/vnd.jupyter.widget-view+json": {
       "model_id": "61736ff7ba694bbc956c8c10ed46903c",
       "version_major": 2,
       "version_minor": 0
      },
      "text/plain": [
       "Downloading readme:   0%|          | 0.00/4.53k [00:00<?, ?B/s]"
      ]
     },
     "metadata": {},
     "output_type": "display_data"
    },
    {
     "name": "stderr",
     "output_type": "stream",
     "text": [
      "Downloading data: 100%|███████████████████████████████████████████| 130k/130k [00:00<00:00, 133kB/s]\n"
     ]
    },
    {
     "data": {
      "application/vnd.jupyter.widget-view+json": {
       "model_id": "427ee0c3bb0447aab914fd24c43e8f31",
       "version_major": 2,
       "version_minor": 0
      },
      "text/plain": [
       "Generating train split:   0%|          | 0/54 [00:00<?, ? examples/s]"
      ]
     },
     "metadata": {},
     "output_type": "display_data"
    }
   ],
   "source": [
    "EVAL_REPO = \"BroDeadlines/EVAL.RAG.UEH.evaluation\"\n",
    "SUBSET = \"raptor\"\n",
    "eval_dataset = load_dataset(EVAL_REPO, SUBSET)"
   ]
  },
  {
   "cell_type": "code",
   "execution_count": 4,
   "id": "0776b733-31e8-4e74-a392-d8aac4af768c",
   "metadata": {},
   "outputs": [],
   "source": [
    "eval_dataset = eval_dataset['train']"
   ]
  },
  {
   "cell_type": "code",
   "execution_count": 12,
   "id": "1f4e49b5-2ba7-425d-8e0c-d18583418433",
   "metadata": {},
   "outputs": [
    {
     "data": {
      "text/plain": [
       "2"
      ]
     },
     "execution_count": 12,
     "metadata": {},
     "output_type": "execute_result"
    }
   ],
   "source": [
    "a = set([4,5])\n",
    "len(a)"
   ]
  },
  {
   "cell_type": "code",
   "execution_count": 13,
   "id": "ee0cbcae-2993-4529-92c0-1aaf12aafbd3",
   "metadata": {},
   "outputs": [],
   "source": [
    "import numpy as np\n",
    "\n",
    "count_docs = []\n",
    "for ques in eval_dataset['evaluation']:\n",
    "    docs = [q['doc_id'] for q in ques]\n",
    "    doc_set = set(docs)\n",
    "    count_docs.append(len(doc_set))"
   ]
  },
  {
   "cell_type": "code",
   "execution_count": 13,
   "id": "e0f0240d-57d5-448f-a02d-963050d8cefc",
   "metadata": {},
   "outputs": [
    {
     "name": "stderr",
     "output_type": "stream",
     "text": [
      "/home/h4438/miniconda3/envs/uni/lib/python3.9/site-packages/nltk/translate/bleu_score.py:552: UserWarning: \n",
      "The hypothesis contains 0 counts of 3-gram overlaps.\n",
      "Therefore the BLEU score evaluates to 0, independently of\n",
      "how many N-gram overlaps of lower order it contains.\n",
      "Consider using lower n-gram order or use SmoothingFunction()\n",
      "  warnings.warn(_msg)\n",
      "/home/h4438/miniconda3/envs/uni/lib/python3.9/site-packages/nltk/translate/bleu_score.py:552: UserWarning: \n",
      "The hypothesis contains 0 counts of 4-gram overlaps.\n",
      "Therefore the BLEU score evaluates to 0, independently of\n",
      "how many N-gram overlaps of lower order it contains.\n",
      "Consider using lower n-gram order or use SmoothingFunction()\n",
      "  warnings.warn(_msg)\n",
      "/home/h4438/miniconda3/envs/uni/lib/python3.9/site-packages/nltk/translate/bleu_score.py:552: UserWarning: \n",
      "The hypothesis contains 0 counts of 2-gram overlaps.\n",
      "Therefore the BLEU score evaluates to 0, independently of\n",
      "how many N-gram overlaps of lower order it contains.\n",
      "Consider using lower n-gram order or use SmoothingFunction()\n",
      "  warnings.warn(_msg)\n"
     ]
    }
   ],
   "source": [
    "from src.utils.eval_utils import evaluate_IR, calculate_BLEU, calculate_ROUGE,evaluate_IR_RAPTOR\n",
    "\n",
    "preds = eval_dataset['answer']\n",
    "grounds = qa_dataset['answer']\n",
    "len(preds) == len(grounds)\n",
    "\n",
    "bleu = calculate_BLEU(grounds=grounds, preds=preds)\n",
    "# bleu\n",
    "rouge = calculate_ROUGE(grounds=grounds, preds=preds)"
   ]
  },
  {
   "cell_type": "markdown",
   "id": "6791afd4-6758-4e46-ae11-000a460416d8",
   "metadata": {},
   "source": [
    "### RAPTOR"
   ]
  },
  {
   "cell_type": "code",
   "execution_count": 14,
   "id": "58065103-8e82-4266-bd0a-ae696b1c780a",
   "metadata": {},
   "outputs": [
    {
     "ename": "KeyError",
     "evalue": "'hard_shards'",
     "output_type": "error",
     "traceback": [
      "\u001b[0;31m---------------------------------------------------------------------------\u001b[0m",
      "\u001b[0;31mKeyError\u001b[0m                                  Traceback (most recent call last)",
      "Cell \u001b[0;32mIn[14], line 6\u001b[0m\n\u001b[1;32m      3\u001b[0m t_to \u001b[38;5;241m=\u001b[39m \u001b[38;5;241m8\u001b[39m\n\u001b[1;32m      5\u001b[0m \u001b[38;5;28;01mfor\u001b[39;00m i \u001b[38;5;129;01min\u001b[39;00m \u001b[38;5;28mrange\u001b[39m(t_from, t_to\u001b[38;5;241m+\u001b[39m\u001b[38;5;241m1\u001b[39m):\n\u001b[0;32m----> 6\u001b[0m     res \u001b[38;5;241m=\u001b[39m \u001b[43mevaluate_IR_RAPTOR\u001b[49m\u001b[43m(\u001b[49m\u001b[43meval_dataset\u001b[49m\u001b[38;5;241;43m=\u001b[39;49m\u001b[43meval_dataset\u001b[49m\u001b[43m,\u001b[49m\u001b[43m \u001b[49m\u001b[43mlimit_k\u001b[49m\u001b[38;5;241;43m=\u001b[39;49m\u001b[43mi\u001b[49m\u001b[43m,\u001b[49m\u001b[43m \u001b[49m\u001b[43mshard_key\u001b[49m\u001b[38;5;241;43m=\u001b[39;49m\u001b[38;5;124;43m'\u001b[39;49m\u001b[38;5;124;43mhard_shards\u001b[39;49m\u001b[38;5;124;43m'\u001b[39;49m\u001b[43m)\u001b[49m\n\u001b[1;32m      7\u001b[0m     \u001b[38;5;28;01mdel\u001b[39;00m res[\u001b[38;5;124m'\u001b[39m\u001b[38;5;124mrelevant\u001b[39m\u001b[38;5;124m'\u001b[39m]\n\u001b[1;32m      8\u001b[0m     data[\u001b[38;5;124mf\u001b[39m\u001b[38;5;124m'\u001b[39m\u001b[38;5;124mk_\u001b[39m\u001b[38;5;132;01m{\u001b[39;00mi\u001b[38;5;132;01m}\u001b[39;00m\u001b[38;5;124m'\u001b[39m] \u001b[38;5;241m=\u001b[39m res\n",
      "File \u001b[0;32m~/Desktop/graduate/WebQA/core/experiments/evaluation/../../src/utils/eval_utils.py:192\u001b[0m, in \u001b[0;36mevaluate_IR_RAPTOR\u001b[0;34m(eval_dataset, limit_k, shard_key)\u001b[0m\n\u001b[1;32m    190\u001b[0m     \u001b[38;5;28;01mcontinue\u001b[39;00m\n\u001b[1;32m    191\u001b[0m target_id \u001b[38;5;241m=\u001b[39m row[\u001b[38;5;124m'\u001b[39m\u001b[38;5;124mdoc_id\u001b[39m\u001b[38;5;124m'\u001b[39m]\n\u001b[0;32m--> 192\u001b[0m shards \u001b[38;5;241m=\u001b[39m \u001b[43mjson\u001b[49m\u001b[38;5;241;43m.\u001b[39;49m\u001b[43mloads\u001b[49m\u001b[43m(\u001b[49m\u001b[43mrow\u001b[49m\u001b[43m[\u001b[49m\u001b[38;5;124;43m'\u001b[39;49m\u001b[38;5;124;43mmetadata\u001b[39;49m\u001b[38;5;124;43m'\u001b[39;49m\u001b[43m]\u001b[49m\u001b[43m)\u001b[49m\u001b[43m[\u001b[49m\u001b[43mshard_key\u001b[49m\u001b[43m]\u001b[49m\n\u001b[1;32m    193\u001b[0m num_relevant \u001b[38;5;241m+\u001b[39m\u001b[38;5;241m=\u001b[39m shards\n\u001b[1;32m    194\u001b[0m re_doc_ids \u001b[38;5;241m=\u001b[39m []\n",
      "\u001b[0;31mKeyError\u001b[0m: 'hard_shards'"
     ]
    }
   ],
   "source": [
    "data = {}\n",
    "t_from = 6\n",
    "t_to = 8\n",
    "\n",
    "for i in range(t_from, t_to+1):\n",
    "    res = evaluate_IR_RAPTOR(eval_dataset=eval_dataset, limit_k=i, shard_key='hard_shards')\n",
    "    del res['relevant']\n",
    "    data[f'k_{i}'] = res\n",
    "data"
   ]
  },
  {
   "cell_type": "markdown",
   "id": "daaf000d-bef3-48cb-a676-9513369ac3d7",
   "metadata": {},
   "source": [
    "### Normal"
   ]
  },
  {
   "cell_type": "code",
   "execution_count": 16,
   "id": "4072004f-dfd8-4f11-8009-e512c6953645",
   "metadata": {},
   "outputs": [
    {
     "data": {
      "text/plain": [
       "{'k_6': {'precision': 0.5425531914893617,\n",
       "  'recall': 0.9444444444444444,\n",
       "  'map_score': 0.2328703703703704,\n",
       "  'relevant_retrieved': 51,\n",
       "  'num_retrieved': 94},\n",
       " 'k_7': {'precision': 0.5555555555555556,\n",
       "  'recall': 1.0185185185185186,\n",
       "  'map_score': 0.23323360208280844,\n",
       "  'relevant_retrieved': 55,\n",
       "  'num_retrieved': 99},\n",
       " 'k_8': {'precision': 0.5544554455445545,\n",
       "  'recall': 1.037037037037037,\n",
       "  'map_score': 0.2319475938523558,\n",
       "  'relevant_retrieved': 56,\n",
       "  'num_retrieved': 101}}"
      ]
     },
     "execution_count": 16,
     "metadata": {},
     "output_type": "execute_result"
    }
   ],
   "source": [
    "data = {}\n",
    "t_from = 6\n",
    "t_to = 8\n",
    "\n",
    "for i in range(t_from, t_to+1):\n",
    "    res = evaluate_IR(eval_dataset=eval_dataset, limit_k=i, shard_key='shards')\n",
    "    del res['relevant']\n",
    "    data[f'k_{i}'] = res\n",
    "data"
   ]
  },
  {
   "cell_type": "code",
   "execution_count": 17,
   "id": "a6d0ebdf-86d5-4610-afbc-5415d6669dae",
   "metadata": {},
   "outputs": [],
   "source": [
    "import numpy as np\n",
    "time = eval_dataset['exc_second']\n",
    "time_np = np.array(time)"
   ]
  },
  {
   "cell_type": "code",
   "execution_count": 13,
   "id": "b7638ee6-1c9a-4347-a415-e2b97166f005",
   "metadata": {},
   "outputs": [
    {
     "ename": "NameError",
     "evalue": "name 'config' is not defined",
     "output_type": "error",
     "traceback": [
      "\u001b[0;31m---------------------------------------------------------------------------\u001b[0m",
      "\u001b[0;31mNameError\u001b[0m                                 Traceback (most recent call last)",
      "Cell \u001b[0;32mIn[13], line 1\u001b[0m\n\u001b[0;32m----> 1\u001b[0m es \u001b[38;5;241m=\u001b[39m provider\u001b[38;5;241m.\u001b[39mget_elasticsearch_store(index\u001b[38;5;241m=\u001b[39m\u001b[43mconfig\u001b[49m[\u001b[38;5;124m'\u001b[39m\u001b[38;5;124mvec_index\u001b[39m\u001b[38;5;124m'\u001b[39m])\n",
      "\u001b[0;31mNameError\u001b[0m: name 'config' is not defined"
     ]
    }
   ],
   "source": [
    "es = provider.get_elasticsearch_store(index=config['vec_index'])"
   ]
  },
  {
   "cell_type": "code",
   "execution_count": 14,
   "id": "30ad271c-1626-471a-a116-e004851514ee",
   "metadata": {},
   "outputs": [
    {
     "ename": "FileNotFoundError",
     "evalue": "[Errno 2] No such file or directory: '/home/h4438/Desktop/graduate/WebQA/core/experiments/evaluation/../../src/service/../.keys/elastic.nodes'",
     "output_type": "error",
     "traceback": [
      "\u001b[0;31m---------------------------------------------------------------------------\u001b[0m",
      "\u001b[0;31mFileNotFoundError\u001b[0m                         Traceback (most recent call last)",
      "Cell \u001b[0;32mIn[14], line 1\u001b[0m\n\u001b[0;32m----> 1\u001b[0m es_connect \u001b[38;5;241m=\u001b[39m \u001b[43mprovider\u001b[49m\u001b[38;5;241;43m.\u001b[39;49m\u001b[43mconfig\u001b[49m\u001b[38;5;241;43m.\u001b[39;49m\u001b[43mload_elasticsearch_connection\u001b[49m\u001b[43m(\u001b[49m\u001b[43m)\u001b[49m\n\u001b[1;32m      3\u001b[0m es_connect\n",
      "File \u001b[0;32m~/Desktop/graduate/WebQA/core/experiments/evaluation/../../src/service/config.py:91\u001b[0m, in \u001b[0;36mConfigurationService.load_elasticsearch_connection\u001b[0;34m(self)\u001b[0m\n\u001b[1;32m     85\u001b[0m \u001b[38;5;28;01mdef\u001b[39;00m \u001b[38;5;21mload_elasticsearch_connection\u001b[39m(\u001b[38;5;28mself\u001b[39m) \u001b[38;5;241m-\u001b[39m\u001b[38;5;241m>\u001b[39m Elasticsearch:\n\u001b[1;32m     86\u001b[0m \u001b[38;5;250m    \u001b[39m\u001b[38;5;124;03m\"\"\"\u001b[39;00m\n\u001b[1;32m     87\u001b[0m \u001b[38;5;124;03m        load elastic search connection from hosted cloud\u001b[39;00m\n\u001b[1;32m     88\u001b[0m \n\u001b[1;32m     89\u001b[0m \u001b[38;5;124;03m        @return a es connection\u001b[39;00m\n\u001b[1;32m     90\u001b[0m \u001b[38;5;124;03m    \"\"\"\u001b[39;00m\n\u001b[0;32m---> 91\u001b[0m     \u001b[38;5;28;01mwith\u001b[39;00m \u001b[38;5;28;43mopen\u001b[39;49m\u001b[43m(\u001b[49m\u001b[38;5;124;43mf\u001b[39;49m\u001b[38;5;124;43m\"\u001b[39;49m\u001b[38;5;132;43;01m{\u001b[39;49;00m\u001b[38;5;28;43mself\u001b[39;49m\u001b[38;5;241;43m.\u001b[39;49m\u001b[43menv_path\u001b[49m\u001b[38;5;132;43;01m}\u001b[39;49;00m\u001b[38;5;124;43m/../.keys/elastic.nodes\u001b[39;49m\u001b[38;5;124;43m\"\u001b[39;49m\u001b[43m)\u001b[49m \u001b[38;5;28;01mas\u001b[39;00m f:\n\u001b[1;32m     92\u001b[0m         nodes \u001b[38;5;241m=\u001b[39m f\u001b[38;5;241m.\u001b[39mreadlines()\n\u001b[1;32m     93\u001b[0m     \u001b[38;5;28;01mwith\u001b[39;00m \u001b[38;5;28mopen\u001b[39m(\u001b[38;5;124mf\u001b[39m\u001b[38;5;124m\"\u001b[39m\u001b[38;5;132;01m{\u001b[39;00m\u001b[38;5;28mself\u001b[39m\u001b[38;5;241m.\u001b[39menv_path\u001b[38;5;132;01m}\u001b[39;00m\u001b[38;5;124m/../.keys/elastic.auth\u001b[39m\u001b[38;5;124m\"\u001b[39m) \u001b[38;5;28;01mas\u001b[39;00m f:\n",
      "\u001b[0;31mFileNotFoundError\u001b[0m: [Errno 2] No such file or directory: '/home/h4438/Desktop/graduate/WebQA/core/experiments/evaluation/../../src/service/../.keys/elastic.nodes'"
     ]
    }
   ],
   "source": [
    "es_connect = provider.config.load_elasticsearch_connection()\n",
    "\n",
    "es_connect"
   ]
  },
  {
   "cell_type": "code",
   "execution_count": 18,
   "id": "3a663828-b421-40da-a09a-f4ad03227713",
   "metadata": {},
   "outputs": [
    {
     "name": "stdout",
     "output_type": "stream",
     "text": [
      "{\n",
      "  \"QA\": {\n",
      "    \"repo\": \"BroDeadlines/QA.UEH.QA_tu_van_tuyen_sinh\",\n",
      "    \"split\": \"train\",\n",
      "    \"size\": 54,\n",
      "    \"total_time(minute)\": 21.167,\n",
      "    \"median_time(second)\": 23.754,\n",
      "    \"avg_time(second)\": 23.519\n",
      "  },\n",
      "  \"RAG\": {\n",
      "    \"algo\": [\n",
      "      \"proposition\",\n",
      "      \"parent retriever\",\n",
      "      \"hybrid search\"\n",
      "    ],\n",
      "    \"llm\": \"gemini-1.0-pro\",\n",
      "    \"total_k\": 8,\n",
      "    \"txt_weight\": 0.5,\n",
      "    \"vec_weight\": 0.5,\n",
      "    \"vec_index\": \"vec-sentence-ueh-unique\",\n",
      "    \"txt_index\": \"text-sentence-ueh-unique\",\n",
      "    \"es_size\": 883\n",
      "  },\n",
      "  \"IR\": {\n",
      "    \"k_6\": {\n",
      "      \"precision\": 0.5425531914893617,\n",
      "      \"recall\": 0.9444444444444444,\n",
      "      \"map_score\": 0.2328703703703704,\n",
      "      \"relevant_retrieved\": 51,\n",
      "      \"num_retrieved\": 94\n",
      "    },\n",
      "    \"k_7\": {\n",
      "      \"precision\": 0.5555555555555556,\n",
      "      \"recall\": 1.0185185185185186,\n",
      "      \"map_score\": 0.23323360208280844,\n",
      "      \"relevant_retrieved\": 55,\n",
      "      \"num_retrieved\": 99\n",
      "    },\n",
      "    \"k_8\": {\n",
      "      \"precision\": 0.5544554455445545,\n",
      "      \"recall\": 1.037037037037037,\n",
      "      \"map_score\": 0.2319475938523558,\n",
      "      \"relevant_retrieved\": 56,\n",
      "      \"num_retrieved\": 101\n",
      "    }\n",
      "  },\n",
      "  \"BLEU\": {\n",
      "    \"BLEU_4_avg\": 0.063,\n",
      "    \"BLEU_4_median\": 0.0,\n",
      "    \"BLEU_avg\": 0.105,\n",
      "    \"BLEU_median\": 0.017\n",
      "  },\n",
      "  \"ROUGE-L\": {\n",
      "    \"ROUGE_L_precision_avg\": 0.669,\n",
      "    \"ROUGE_L_precision_median\": 0.685,\n",
      "    \"ROUGE_L_recall_avg\": 0.221,\n",
      "    \"ROUGE_L_recall_median\": 0.172,\n",
      "    \"ROUGE_L_fmeasure_avg\": 0.288,\n",
      "    \"ROUGE_L_fmeasure_median\": 0.255\n",
      "  }\n",
      "}\n"
     ]
    }
   ],
   "source": [
    "import json\n",
    "\n",
    "ALGO = ['proposition', 'parent retriever', 'hybrid search']\n",
    "ES_SIZE = 883\n",
    "\n",
    "a = {\n",
    "    \"QA\": {\"repo\": QA_REPO, \"split\": QA_SPLIT,\n",
    "           \"size\": qa_dataset.num_rows, \n",
    "           \"total_time(minute)\": round(time_np.sum() / 60, 3), \n",
    "           \"median_time(second)\": round(np.median(time_np), 3),\n",
    "           \"avg_time(second)\": round(time_np.mean(), 3)},\n",
    "    \"RAG\": {\"algo\": ALGO, **config, \"es_size\": ES_SIZE},\n",
    "    \"IR\": data,\n",
    "    \"BLEU\": bleu,\n",
    "    \"ROUGE-L\": rouge\n",
    "}\n",
    " \n",
    "json_formatted_str = json.dumps(a, indent=2)\n",
    "print(json_formatted_str)"
   ]
  },
  {
   "cell_type": "code",
   "execution_count": null,
   "id": "5268de2e-516d-458e-8615-962fccdfff19",
   "metadata": {},
   "outputs": [],
   "source": []
  }
 ],
 "metadata": {
  "kernelspec": {
   "display_name": "Python 3 (ipykernel)",
   "language": "python",
   "name": "python3"
  },
  "language_info": {
   "codemirror_mode": {
    "name": "ipython",
    "version": 3
   },
   "file_extension": ".py",
   "mimetype": "text/x-python",
   "name": "python",
   "nbconvert_exporter": "python",
   "pygments_lexer": "ipython3",
   "version": "3.9.18"
  }
 },
 "nbformat": 4,
 "nbformat_minor": 5
}
