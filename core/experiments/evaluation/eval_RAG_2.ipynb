{
 "cells": [
  {
   "cell_type": "markdown",
   "id": "24c08713-b9dc-428d-ad60-f55f59de9c44",
   "metadata": {},
   "source": [
    "# Evaluate RAG"
   ]
  },
  {
   "cell_type": "code",
   "execution_count": 1,
   "id": "4f6cf076-a65e-400b-88c3-d65b38a9a3d4",
   "metadata": {},
   "outputs": [],
   "source": [
    "import sys\n",
    "sys.path.append(\"../..\")\n",
    "from datasets import load_dataset\n",
    "from src.service.provider import ProviderService\n",
    "\n",
    "provider = ProviderService()"
   ]
  },
  {
   "cell_type": "code",
   "execution_count": 2,
   "id": "ab6510fe-65a8-4d59-90ff-27c5db1c64d7",
   "metadata": {},
   "outputs": [
    {
     "data": {
      "text/plain": [
       "Dataset({\n",
       "    features: ['question', 'answer', 'url', 'group', 'doc_id', 'metadata'],\n",
       "    num_rows: 144\n",
       "})"
      ]
     },
     "execution_count": 2,
     "metadata": {},
     "output_type": "execute_result"
    }
   ],
   "source": [
    "QA_REPO = \"BroDeadlines/QA.TDT.FQA_tu_van_hoc_duong\"\n",
    "QA_SPLIT = \"INDEX.medium_index_TDT\"\n",
    "qa_dataset = load_dataset(QA_REPO, split=QA_SPLIT)\n",
    "qa_dataset"
   ]
  },
  {
   "cell_type": "markdown",
   "id": "ac9f56f0-fdf4-48d0-928f-211640342132",
   "metadata": {},
   "source": [
    "# Run RAG"
   ]
  },
  {
   "cell_type": "code",
   "execution_count": 7,
   "id": "7d9c2fce-9b9e-4511-839e-2d865b5f6254",
   "metadata": {},
   "outputs": [
    {
     "data": {
      "text/plain": [
       "Dataset({\n",
       "    features: ['content', 'url', 'doc_id', 'shards', 'splits', 'split', 'propositions', 'proposition_list'],\n",
       "    num_rows: 344\n",
       "})"
      ]
     },
     "execution_count": 7,
     "metadata": {},
     "output_type": "execute_result"
    }
   ],
   "source": [
    "# donwload corpora dataset\n",
    "DATA_REPO = \"BroDeadlines/TEST.TDT.edu_tdt_proposition_data\"\n",
    "DATA_SPLIT = \"INDEX.medium_index_TDT_clean\"\n",
    "\n",
    "dataset = load_dataset(DATA_REPO, split=DATA_SPLIT)\n",
    "dataset"
   ]
  },
  {
   "cell_type": "code",
   "execution_count": 11,
   "id": "a557597e-b1ba-4dfc-9ca2-efecc3c1e3c2",
   "metadata": {},
   "outputs": [
    {
     "data": {
      "text/plain": [
       "{'llm': 'gemini-1.5-flash',\n",
       " 'total_k': 4,\n",
       " 'txt_weight': 0.5,\n",
       " 'vec_weight': 0.5,\n",
       " 'vec_index': 'vec-sentence-propositon_medium_edu_tdt',\n",
       " 'txt_index': 'text-sentence-propositon_medium_edu_tdt'}"
      ]
     },
     "execution_count": 11,
     "metadata": {},
     "output_type": "execute_result"
    }
   ],
   "source": [
    "from src.rag.hg_parent_retriever import HugFaceParentRAG, get_default_config\n",
    "\n",
    "config = get_default_config()\n",
    "\n",
    "config['vec_index'] = \"vec-sentence-propositon_medium_edu_tdt\"\n",
    "config['txt_index'] = \"text-sentence-propositon_medium_edu_tdt\"\n",
    "\n",
    "config"
   ]
  },
  {
   "cell_type": "code",
   "execution_count": 8,
   "id": "4909c2ed-7aba-4909-a6ad-4af59012cf79",
   "metadata": {},
   "outputs": [],
   "source": [
    "rag = HugFaceParentRAG(provider=provider, config=config, text_corpora=dataset)"
   ]
  },
  {
   "cell_type": "markdown",
   "id": "26fe684f-0fa8-459c-9d88-4a968b9078aa",
   "metadata": {},
   "source": [
    "## Run"
   ]
  },
  {
   "cell_type": "code",
   "execution_count": 3,
   "id": "6a0962d4-b436-4c7a-a53d-cfd32c04b5d6",
   "metadata": {},
   "outputs": [
    {
     "data": {
      "text/plain": [
       "'Điều kiện để được xét miễn các học phần Anh văn giao tiếp là như thế nào?\\nNhững lưu ý đối với kỳ thi chứng chỉ quốc tế sau khi kết thúc học phần tiếng Anh cuối cùng trong chương trình học là gì'"
      ]
     },
     "execution_count": 3,
     "metadata": {},
     "output_type": "execute_result"
    }
   ],
   "source": [
    "a = \"Điều kiện để được xét miễn các học phần Anh văn giao tiếp là như thế nào\"\n",
    "b = \"Những lưu ý đối với kỳ thi chứng chỉ quốc tế sau khi kết thúc học phần tiếng Anh cuối cùng trong chương trình học là gì\"\n",
    "\n",
    "a = [a, b]\n",
    "\"?\\n\".join(a)"
   ]
  },
  {
   "cell_type": "code",
   "execution_count": 1,
   "id": "9e97b943-adc7-4240-8969-ee9d1b02eb39",
   "metadata": {},
   "outputs": [],
   "source": [
    "def eval_no_score(row):\n",
    "    resp = rag.answer(row['question'])\n",
    "    row['answer'] = resp['answer']\n",
    "    row['exc_second'] = resp['exc_second']\n",
    "    docs = resp['retrieved_docs']\n",
    "    result = [{'content': d.page_content, \"doc_id\": d.metadata['doc_id'], \"score\": -1.0} for d in docs]\n",
    "    row['evaluation'] = result\n",
    "    return row\n",
    "\n",
    "class MultiDocEval:\n",
    "    \n",
    "    def __init__(self, rag):\n",
    "        self.questions = []\n",
    "        self.rag = rag\n",
    "        return\n",
    "\n",
    "    def eval_multi_doc(self, row, n_doc:int = 2, overlap = False):\n",
    "        ques = row['question'] \n",
    "        while len(self.questions) != n_doc:\n",
    "            self.questions.append(ques)\n",
    "        resp = self.rag.answer(\"?\\n\".join())\n",
    "        row['answer'] = resp['answer']\n",
    "        row['exc_second'] = resp['exc_second']\n",
    "        docs = resp['retrieved_docs']\n",
    "        result = [{'content': d.page_content, \"doc_id\": d.metadata['doc_id'], \"score\": -1.0} for d in docs]\n",
    "        row['evaluation'] = result\n",
    "        return row"
   ]
  },
  {
   "cell_type": "code",
   "execution_count": 10,
   "id": "e0d79fd3-f198-4139-b7a7-ce4eabfef7b2",
   "metadata": {},
   "outputs": [
    {
     "name": "stderr",
     "output_type": "stream",
     "text": [
      "Parameter 'function'=<function eval_no_score at 0x7f6f89f91040> of the transform datasets.arrow_dataset.Dataset._map_single couldn't be hashed properly, a random hash was used instead. Make sure your transforms and parameters are serializable with pickle or dill for the dataset fingerprinting and caching to work. If you reuse this transform, the caching mechanism will consider it to be different from the previous calls and recompute everything. This warning is only showed once. Subsequent hashing failures won't be showed.\n"
     ]
    },
    {
     "data": {
      "application/vnd.jupyter.widget-view+json": {
       "model_id": "e956113eef31407cb28f61f4e66bc1d4",
       "version_major": 2,
       "version_minor": 0
      },
      "text/plain": [
       "Map:   0%|          | 0/144 [00:00<?, ? examples/s]"
      ]
     },
     "metadata": {},
     "output_type": "display_data"
    },
    {
     "name": "stdout",
     "output_type": "stream",
     "text": [
      "page_content='Khi thí sinh hoàn tất các thủ tục nhập học như đóng lệ phí, nộp hồ sơ… thí sinh sẽ chính thức là sinh viên của trường.' metadata={'doc_id': 'ebe592de-13cc-11ef-b548-0242ac1c000c'}\n"
     ]
    },
    {
     "data": {
      "application/vnd.jupyter.widget-view+json": {
       "model_id": "dcdc46178de94e4a9482c82a4a6d7ee0",
       "version_major": 2,
       "version_minor": 0
      },
      "text/plain": [
       "Filter:   0%|          | 0/344 [00:00<?, ? examples/s]"
      ]
     },
     "metadata": {},
     "output_type": "display_data"
    },
    {
     "name": "stdout",
     "output_type": "stream",
     "text": [
      "page_content='Điều khiển các thiết bị và hệ thống tự động' metadata={'doc_id': 'ebe5a04e-13cc-11ef-b548-0242ac1c000c'}\n"
     ]
    },
    {
     "data": {
      "application/vnd.jupyter.widget-view+json": {
       "model_id": "828f854b45e04e1eaf61d65a2f61b3c9",
       "version_major": 2,
       "version_minor": 0
      },
      "text/plain": [
       "Filter:   0%|          | 0/344 [00:00<?, ? examples/s]"
      ]
     },
     "metadata": {},
     "output_type": "display_data"
    },
    {
     "name": "stdout",
     "output_type": "stream",
     "text": [
      "page_content='Tiếp tục theo học tại các chương trình sau đại học trong nước hoặc quốc tế;' metadata={'doc_id': 'ebe66e20-13cc-11ef-b548-0242ac1c000c'}\n"
     ]
    },
    {
     "data": {
      "application/vnd.jupyter.widget-view+json": {
       "model_id": "ecb8d6b659d1422c8d84cfec694490ec",
       "version_major": 2,
       "version_minor": 0
      },
      "text/plain": [
       "Filter:   0%|          | 0/344 [00:00<?, ? examples/s]"
      ]
     },
     "metadata": {},
     "output_type": "display_data"
    },
    {
     "name": "stdout",
     "output_type": "stream",
     "text": [
      "page_content='Nếu sinh viên có nguyện vọng gia hạn thời gian đóng học phí ở các đợt đóng tiếp theo, sinh viên có thể nộp đơn gia hạn thời gian đóng học phí.' metadata={'doc_id': '573ca174-1b6d-11ef-a755-d38426455a06'}\n"
     ]
    },
    {
     "data": {
      "application/vnd.jupyter.widget-view+json": {
       "model_id": "ff5fb961ff1342558f3fc33eb8877043",
       "version_major": 2,
       "version_minor": 0
      },
      "text/plain": [
       "Filter:   0%|          | 0/344 [00:00<?, ? examples/s]"
      ]
     },
     "metadata": {},
     "output_type": "display_data"
    },
    {
     "name": "stdout",
     "output_type": "stream",
     "text": [
      "page_content='Tham gia các khoá học ngắn hạn quốc tế' metadata={'doc_id': 'ebe6791a-13cc-11ef-b548-0242ac1c000c'}\n"
     ]
    },
    {
     "data": {
      "application/vnd.jupyter.widget-view+json": {
       "model_id": "69788b8995474e8482c417091fb7ce62",
       "version_major": 2,
       "version_minor": 0
      },
      "text/plain": [
       "Filter:   0%|          | 0/344 [00:00<?, ? examples/s]"
      ]
     },
     "metadata": {},
     "output_type": "display_data"
    },
    {
     "name": "stdout",
     "output_type": "stream",
     "text": [
      "page_content='Thí sinh xem chi tiết hướng dẫn thủ tục nhập học, các khoản phí phải nộp, cách thức nộp các khoản phí tại website: https://tracuuxettuyen.tdtu.edu.vn' metadata={'doc_id': 'ebe8c68e-13cc-11ef-b548-0242ac1c000c'}\n"
     ]
    },
    {
     "data": {
      "application/vnd.jupyter.widget-view+json": {
       "model_id": "be401459a9d2499dab7d34ce55b34ed7",
       "version_major": 2,
       "version_minor": 0
      },
      "text/plain": [
       "Filter:   0%|          | 0/344 [00:00<?, ? examples/s]"
      ]
     },
     "metadata": {},
     "output_type": "display_data"
    },
    {
     "name": "stdout",
     "output_type": "stream",
     "text": [
      "page_content='Thí sinh xem chi tiết hướng dẫn thủ tục nhập học, các khoản phí phải nộp, cách thức nộp các khoản phí tại website: https://tracuuxettuyen.tdtu.edu.vn .' metadata={'doc_id': 'ebe8c292-13cc-11ef-b548-0242ac1c000c'}\n"
     ]
    },
    {
     "data": {
      "application/vnd.jupyter.widget-view+json": {
       "model_id": "a9a93a1f3f7147e396f03305ed6daa79",
       "version_major": 2,
       "version_minor": 0
      },
      "text/plain": [
       "Filter:   0%|          | 0/344 [00:00<?, ? examples/s]"
      ]
     },
     "metadata": {},
     "output_type": "display_data"
    },
    {
     "name": "stdout",
     "output_type": "stream",
     "text": [
      "page_content='Vận dụng thành thạo tin học ứng dụng trong công việc' metadata={'doc_id': 'ebe5b87c-13cc-11ef-b548-0242ac1c000c'}\n"
     ]
    },
    {
     "data": {
      "application/vnd.jupyter.widget-view+json": {
       "model_id": "14e80630f8b74012be290e06c51b2793",
       "version_major": 2,
       "version_minor": 0
      },
      "text/plain": [
       "Filter:   0%|          | 0/344 [00:00<?, ? examples/s]"
      ]
     },
     "metadata": {},
     "output_type": "display_data"
    },
    {
     "name": "stdout",
     "output_type": "stream",
     "text": [
      "page_content='Sinh viên đổi Biên lai học phí theo thông báo của Phòng Tài chính.' metadata={'doc_id': 'ebe8436c-13cc-11ef-b548-0242ac1c000c'}\n"
     ]
    },
    {
     "data": {
      "application/vnd.jupyter.widget-view+json": {
       "model_id": "9118c02f7db844a88e68af146629dfd3",
       "version_major": 2,
       "version_minor": 0
      },
      "text/plain": [
       "Filter:   0%|          | 0/344 [00:00<?, ? examples/s]"
      ]
     },
     "metadata": {},
     "output_type": "display_data"
    },
    {
     "name": "stdout",
     "output_type": "stream",
     "text": [
      "page_content='Cách thức đổi biên lai học phí: đúng thời gian ghi trong thông báo, sinh viên mang giấy nộp tiền tại ngân hàng đến Phòng Tài chính (A.0007) đổi biên lai thu học phí.' metadata={'doc_id': '573ca175-1b6d-11ef-a755-d38426455a06'}\n"
     ]
    },
    {
     "data": {
      "application/vnd.jupyter.widget-view+json": {
       "model_id": "6a0e132a6ba64290b4cd4beb268fe134",
       "version_major": 2,
       "version_minor": 0
      },
      "text/plain": [
       "Filter:   0%|          | 0/344 [00:00<?, ? examples/s]"
      ]
     },
     "metadata": {},
     "output_type": "display_data"
    },
    {
     "name": "stdout",
     "output_type": "stream",
     "text": [
      "page_content='Đơn xin gia hạn thời gian nghỉ học tạm thời phải đính kèm các minh chứng liên quan.' metadata={'doc_id': '573ca1f7-1b6d-11ef-a755-d38426455a06'}\n"
     ]
    },
    {
     "data": {
      "application/vnd.jupyter.widget-view+json": {
       "model_id": "759702ecc8d345d2adc81f969eb1a143",
       "version_major": 2,
       "version_minor": 0
      },
      "text/plain": [
       "Filter:   0%|          | 0/344 [00:00<?, ? examples/s]"
      ]
     },
     "metadata": {},
     "output_type": "display_data"
    },
    {
     "name": "stdout",
     "output_type": "stream",
     "text": [
      "page_content='Cơ hội học tập với giáo viên bản xứ nhiều.' metadata={'doc_id': 'ebe5c524-13cc-11ef-b548-0242ac1c000c'}\n"
     ]
    },
    {
     "data": {
      "application/vnd.jupyter.widget-view+json": {
       "model_id": "f082501c7b9041858f3309c4c774f42f",
       "version_major": 2,
       "version_minor": 0
      },
      "text/plain": [
       "Filter:   0%|          | 0/344 [00:00<?, ? examples/s]"
      ]
     },
     "metadata": {},
     "output_type": "display_data"
    },
    {
     "name": "stdout",
     "output_type": "stream",
     "text": [
      "page_content='Thời gian đổi biên lai học phí của từng học kỳ được ghi trong thông báo thu học phí từng đợt.' metadata={'doc_id': '573ca175-1b6d-11ef-a755-d38426455a06'}\n",
      "page_content='Xuất trình Biên lai thu tiền học phí.' metadata={'doc_id': 'ebe592de-13cc-11ef-b548-0242ac1c000c'}\n",
      "page_content='Nhà trường sẽ tiến hành thủ tục hoàn lại chi phí thi cho thí sinh trong thời gian sớm nhất.' metadata={'doc_id': 'ebe82760-13cc-11ef-b548-0242ac1c000c'}\n"
     ]
    },
    {
     "data": {
      "application/vnd.jupyter.widget-view+json": {
       "model_id": "329f6866462b4b6fa99a3f4120471192",
       "version_major": 2,
       "version_minor": 0
      },
      "text/plain": [
       "Filter:   0%|          | 0/344 [00:00<?, ? examples/s]"
      ]
     },
     "metadata": {},
     "output_type": "display_data"
    },
    {
     "name": "stdout",
     "output_type": "stream",
     "text": [
      "page_content='Mức thu hộ chi hộ chi phí tổ chức thi theo đúng quy định của kỳ thi chứng chỉ quốc tế MOS.' metadata={'doc_id': '573ca1c7-1b6d-11ef-a755-d38426455a06'}\n"
     ]
    },
    {
     "data": {
      "application/vnd.jupyter.widget-view+json": {
       "model_id": "1b611cb86745469c949e106c806d0d9e",
       "version_major": 2,
       "version_minor": 0
      },
      "text/plain": [
       "Filter:   0%|          | 0/344 [00:00<?, ? examples/s]"
      ]
     },
     "metadata": {},
     "output_type": "display_data"
    },
    {
     "name": "stdout",
     "output_type": "stream",
     "text": [
      "page_content='Môn Năng khiếu thể dục thể thao được phép mang vào phòng thi:' metadata={'doc_id': 'ebe89d3a-13cc-11ef-b548-0242ac1c000c'}\n",
      "page_content='Đơn vị tiếp nhận: Khoa khoa học thể thao' metadata={'doc_id': '3369b8e4-1b47-11ef-a755-d38426455a06'}\n"
     ]
    },
    {
     "data": {
      "application/vnd.jupyter.widget-view+json": {
       "model_id": "6d1feccf7d464925abb5ad6a7b73b99a",
       "version_major": 2,
       "version_minor": 0
      },
      "text/plain": [
       "Filter:   0%|          | 0/344 [00:00<?, ? examples/s]"
      ]
     },
     "metadata": {},
     "output_type": "display_data"
    },
    {
     "name": "stdout",
     "output_type": "stream",
     "text": [
      "page_content='Sinh viên có thể thi chứng chỉ MOS và nộp đơn trực tuyến nộp chứng chỉ MOS để xét miễn.' metadata={'doc_id': '573ca1c7-1b6d-11ef-a755-d38426455a06'}\n",
      "page_content='Lệ phí ôn và thi tốt nghiệp là khoản lệ phí riêng chi phí cho toàn bộ quá trình ôn và thi tốt nghiệp.' metadata={'doc_id': '573ca1b4-1b6d-11ef-a755-d38426455a06'}\n"
     ]
    },
    {
     "data": {
      "application/vnd.jupyter.widget-view+json": {
       "model_id": "c5a39884895f4fa8bacd928d4f4189db",
       "version_major": 2,
       "version_minor": 0
      },
      "text/plain": [
       "Filter:   0%|          | 0/344 [00:00<?, ? examples/s]"
      ]
     },
     "metadata": {},
     "output_type": "display_data"
    },
    {
     "name": "stdout",
     "output_type": "stream",
     "text": [
      "page_content='Vật dụng được phép mang vào phòng thi môn Năng khiếu thể dục thể thao:' metadata={'doc_id': 'ebe8794a-13cc-11ef-b548-0242ac1c000c'}\n"
     ]
    },
    {
     "data": {
      "application/vnd.jupyter.widget-view+json": {
       "model_id": "16eca967f97f4c9488312553b2468c68",
       "version_major": 2,
       "version_minor": 0
      },
      "text/plain": [
       "Filter:   0%|          | 0/344 [00:00<?, ? examples/s]"
      ]
     },
     "metadata": {},
     "output_type": "display_data"
    },
    {
     "name": "stdout",
     "output_type": "stream",
     "text": [
      "page_content='Môn Vẽ Hình họa mỹ thuật được phép mang vào phòng thi:' metadata={'doc_id': 'ebe89d3a-13cc-11ef-b548-0242ac1c000c'}\n",
      "page_content='Sinh viên khóa tuyển sinh 2022 trở về sau không hoàn tất lệ phí thi thì sẽ không có tên trong danh sách thi MOS.' metadata={'doc_id': '573ca1c7-1b6d-11ef-a755-d38426455a06'}\n",
      "page_content='Nhà trường sẽ tiến hành hậu kiểm hồ sơ\\xa0nhập học sau khi thí sinh đã nộp hồ sơ nhập học (bản giấy).' metadata={'doc_id': 'ebe5e14e-13cc-11ef-b548-0242ac1c000c'}\n",
      "page_content='Thẻ tạm hoặc phiếu báo mất thẻ sinh viên không được sử dụng cho bất kỳ lý do nào khác.' metadata={'doc_id': '573ca190-1b6d-11ef-a755-d38426455a06'}\n",
      "page_content='Những môn học được quy định không tham gia tính điểm trung bình sẽ không đưa vào công thức này để tính' metadata={'doc_id': '573ca1c3-1b6d-11ef-a755-d38426455a06'}\n",
      "page_content='Số tiền còn nợ bằng học phí phải nộp của học kỳ trừ đi số tiền đã nộp (học phí tạm thu).' metadata={'doc_id': '3369b8e1-1b47-11ef-a755-d38426455a06'}\n",
      "page_content='Phần chênh lệch học phí của học kỳ 1 sẽ được cấn trừ sang học kỳ 2 (trong cột nợ kỳ trước).' metadata={'doc_id': '3369b8e1-1b47-11ef-a755-d38426455a06'}\n",
      "page_content='Môn học thay thế được sử dụng khi một môn học có trong CTĐT nhưng nay không còn tổ chức giảng dạy nữa và được thay thế bằng một môn học khác đang còn tổ chức giảng dạy.' metadata={'doc_id': '3369b8de-1b47-11ef-a755-d38426455a06'}\n",
      "page_content='Nếu sinh viên học ngành 2, mức học phí sẽ được áp dụng theo mức học phí của ngành thứ 2.' metadata={'doc_id': '573ca177-1b6d-11ef-a755-d38426455a06'}\n"
     ]
    },
    {
     "data": {
      "application/vnd.jupyter.widget-view+json": {
       "model_id": "ccf783da776d4de1b433b2b1c7ab7af6",
       "version_major": 2,
       "version_minor": 0
      },
      "text/plain": [
       "Filter:   0%|          | 0/344 [00:00<?, ? examples/s]"
      ]
     },
     "metadata": {},
     "output_type": "display_data"
    },
    {
     "name": "stdout",
     "output_type": "stream",
     "text": [
      "page_content='Nếu môn học không được tổ chức giảng dạy nữa thì sinh viên phải học môn học khác để thay thế đang còn tổ chức giảng dạy.' metadata={'doc_id': '573ca1e7-1b6d-11ef-a755-d38426455a06'}\n"
     ]
    },
    {
     "data": {
      "application/vnd.jupyter.widget-view+json": {
       "model_id": "621360a7b47541e7adbe2ec2beed593b",
       "version_major": 2,
       "version_minor": 0
      },
      "text/plain": [
       "Filter:   0%|          | 0/344 [00:00<?, ? examples/s]"
      ]
     },
     "metadata": {},
     "output_type": "display_data"
    },
    {
     "name": "stdout",
     "output_type": "stream",
     "text": [
      "page_content='Thí sinh thuộc các đối tượng sau không dự thi năng khiếu đợt 2:' metadata={'doc_id': 'ebe7ca2c-13cc-11ef-b548-0242ac1c000c'}\n"
     ]
    },
    {
     "data": {
      "application/vnd.jupyter.widget-view+json": {
       "model_id": "edc1fcabb40a4255bb7863dc253dbeca",
       "version_major": 2,
       "version_minor": 0
      },
      "text/plain": [
       "Filter:   0%|          | 0/344 [00:00<?, ? examples/s]"
      ]
     },
     "metadata": {},
     "output_type": "display_data"
    },
    {
     "name": "stdout",
     "output_type": "stream",
     "text": [
      "page_content='Nếu sinh viên được tái ký hợp đồng gia hạn ở trong năm học tiếp theo thì số lỗi ở năm học trước sẽ không tính nữa.' metadata={'doc_id': '573ca1a5-1b6d-11ef-a755-d38426455a06'}\n"
     ]
    },
    {
     "data": {
      "application/vnd.jupyter.widget-view+json": {
       "model_id": "8fd5e44353c3447ea569fffc72a53e23",
       "version_major": 2,
       "version_minor": 0
      },
      "text/plain": [
       "Filter:   0%|          | 0/344 [00:00<?, ? examples/s]"
      ]
     },
     "metadata": {},
     "output_type": "display_data"
    },
    {
     "name": "stdout",
     "output_type": "stream",
     "text": [
      "page_content='Sinh viên có thể đăng ký dự thi học phần Cơ sở tin học 2.' metadata={'doc_id': '573ca1c6-1b6d-11ef-a755-d38426455a06'}\n"
     ]
    },
    {
     "data": {
      "application/vnd.jupyter.widget-view+json": {
       "model_id": "bb1855d232a246cd85be767db567b3b5",
       "version_major": 2,
       "version_minor": 0
      },
      "text/plain": [
       "Filter:   0%|          | 0/344 [00:00<?, ? examples/s]"
      ]
     },
     "metadata": {},
     "output_type": "display_data"
    },
    {
     "name": "stdout",
     "output_type": "stream",
     "text": [
      "page_content='Thí sinh tham khảo ngành, tổ hợp xét tuyển theo phương thức 2 tại đây' metadata={'doc_id': 'ebe88066-13cc-11ef-b548-0242ac1c000c'}\n"
     ]
    },
    {
     "data": {
      "application/vnd.jupyter.widget-view+json": {
       "model_id": "eb8236b82e8f4857a82a0d0d6d0de7e7",
       "version_major": 2,
       "version_minor": 0
      },
      "text/plain": [
       "Filter:   0%|          | 0/344 [00:00<?, ? examples/s]"
      ]
     },
     "metadata": {},
     "output_type": "display_data"
    },
    {
     "name": "stdout",
     "output_type": "stream",
     "text": [
      "page_content='Lệ phí tập sự nghề nghiệp, ôn và thi tốt nghiệp, khóa luận tốt nghiệp không được tính như học phí học kỳ.' metadata={'doc_id': '573ca1b4-1b6d-11ef-a755-d38426455a06'}\n",
      "page_content='Lệ phí tập sự nghề nghiệp, ôn và thi tốt nghiệp, khóa luận tốt nghiệp được tính tại thời điểm tốt nghiệp.' metadata={'doc_id': '573ca1b4-1b6d-11ef-a755-d38426455a06'}\n",
      "page_content='Lớp học có sĩ số thấp; Cơ sở vật chất và điều kiện học tập đầy đủ, tiện nghi, hiện đại;' metadata={'doc_id': 'ebe5bcb4-13cc-11ef-b548-0242ac1c000c'}\n"
     ]
    },
    {
     "data": {
      "application/vnd.jupyter.widget-view+json": {
       "model_id": "a5a2676b00724bb4bdf5f293d88d88d8",
       "version_major": 2,
       "version_minor": 0
      },
      "text/plain": [
       "Filter:   0%|          | 0/344 [00:00<?, ? examples/s]"
      ]
     },
     "metadata": {},
     "output_type": "display_data"
    },
    {
     "name": "stdout",
     "output_type": "stream",
     "text": [
      "page_content='Việc tính lệ phí tập sự nghề nghiệp, ôn và thi tốt nghiệp, khóa luận tốt nghiệp được thực hiện theo qui định của nhà trường.' metadata={'doc_id': '573ca1b4-1b6d-11ef-a755-d38426455a06'}\n",
      "page_content='Lệ phí ôn và thi tốt nghiệp là khoản lệ phí riêng chi phí cho toàn bộ quá trình ôn và thi tốt nghiệp.' metadata={'doc_id': '573ca1b4-1b6d-11ef-a755-d38426455a06'}\n",
      "page_content='Điểm không nhân hệ số, đã bao gồm điểm ưu tiên khu vực và ưu tiên đối tượng' metadata={'doc_id': 'ebe71618-13cc-11ef-b548-0242ac1c000c'}\n"
     ]
    },
    {
     "data": {
      "application/vnd.jupyter.widget-view+json": {
       "model_id": "aa3ec3b06bf6404eb9c07dd620e081a8",
       "version_major": 2,
       "version_minor": 0
      },
      "text/plain": [
       "Filter:   0%|          | 0/344 [00:00<?, ? examples/s]"
      ]
     },
     "metadata": {},
     "output_type": "display_data"
    },
    {
     "name": "stdout",
     "output_type": "stream",
     "text": [
      "page_content='Trong trường hợp sinh viên chưa được cấp chứng chỉ Giáo dục Quốc phòng thì sinh viên có thể làm đơn xin hủy kết quả đăng ký môn học đối với các học phần Giáo dục Quốc phòng.' metadata={'doc_id': '573ca1bb-1b6d-11ef-a755-d38426455a06'}\n"
     ]
    },
    {
     "data": {
      "application/vnd.jupyter.widget-view+json": {
       "model_id": "7374733bf0884f6487954deb3bc95256",
       "version_major": 2,
       "version_minor": 0
      },
      "text/plain": [
       "Filter:   0%|          | 0/344 [00:00<?, ? examples/s]"
      ]
     },
     "metadata": {},
     "output_type": "display_data"
    },
    {
     "name": "stdout",
     "output_type": "stream",
     "text": [
      "page_content='Ngoài ra, sinh viên sau khi tốt nghiệp còn có cơ hội trở thành giảng viên giảng dạy các môn học thuộc chuyên ngành Kiến trúc tại các trường đại học trên cả nước hoặc nước ngoài.' metadata={'doc_id': 'ebe5f2d8-13cc-11ef-b548-0242ac1c000c'}\n"
     ]
    },
    {
     "data": {
      "application/vnd.jupyter.widget-view+json": {
       "model_id": "a345d20237cf4045a6f8367168231d51",
       "version_major": 2,
       "version_minor": 0
      },
      "text/plain": [
       "Filter:   0%|          | 0/344 [00:00<?, ? examples/s]"
      ]
     },
     "metadata": {},
     "output_type": "display_data"
    },
    {
     "name": "stdout",
     "output_type": "stream",
     "text": [
      "page_content='Sinh viên đủ điều kiện nhưng không tham gia thi hoặc kết quả thi không đạt thì chỉ đăng ký thi lại, không học lại.' metadata={'doc_id': '573ca1d5-1b6d-11ef-a755-d38426455a06'}\n"
     ]
    },
    {
     "data": {
      "application/vnd.jupyter.widget-view+json": {
       "model_id": "d327dc55361544d6af06f5445313cdc9",
       "version_major": 2,
       "version_minor": 0
      },
      "text/plain": [
       "Filter:   0%|          | 0/344 [00:00<?, ? examples/s]"
      ]
     },
     "metadata": {},
     "output_type": "display_data"
    },
    {
     "name": "stdout",
     "output_type": "stream",
     "text": [
      "page_content='Sinh viên không cần làm đơn xin không tính điểm môn tự chọn không đạt đối với các môn Giáo dục Thể chất.' metadata={'doc_id': '573ca1e9-1b6d-11ef-a755-d38426455a06'}\n"
     ]
    },
    {
     "data": {
      "application/vnd.jupyter.widget-view+json": {
       "model_id": "0c61d64205234fd2b55440e619f6cdd8",
       "version_major": 2,
       "version_minor": 0
      },
      "text/plain": [
       "Filter:   0%|          | 0/344 [00:00<?, ? examples/s]"
      ]
     },
     "metadata": {},
     "output_type": "display_data"
    },
    {
     "name": "stdout",
     "output_type": "stream",
     "text": [
      "page_content='Khối lượng học tối đa mà sinh viên có thể đăng ký trong mỗi học kỳ được thực hiện theo quy định sau:' metadata={'doc_id': '573ca1d7-1b6d-11ef-a755-d38426455a06'}\n"
     ]
    },
    {
     "data": {
      "application/vnd.jupyter.widget-view+json": {
       "model_id": "3ec00ae9c7b1431bbdd9255e9f5f5917",
       "version_major": 2,
       "version_minor": 0
      },
      "text/plain": [
       "Filter:   0%|          | 0/344 [00:00<?, ? examples/s]"
      ]
     },
     "metadata": {},
     "output_type": "display_data"
    },
    {
     "name": "stdout",
     "output_type": "stream",
     "text": [
      "page_content='Đối với môn học bắt buộc hoặc môn học lựa chọn bắt buộc theo ngành/chuyên ngành, nếu sinh viên có điểm tổng kết môn học không đạt thì bắt buộc phải đăng ký học lại khi môn học đó được tổ chức giảng.' metadata={'doc_id': '573ca1eb-1b6d-11ef-a755-d38426455a06'}\n"
     ]
    },
    {
     "data": {
      "application/vnd.jupyter.widget-view+json": {
       "model_id": "033dd41c9d9c464e8583524b403a1d83",
       "version_major": 2,
       "version_minor": 0
      },
      "text/plain": [
       "Filter:   0%|          | 0/344 [00:00<?, ? examples/s]"
      ]
     },
     "metadata": {},
     "output_type": "display_data"
    },
    {
     "name": "stdout",
     "output_type": "stream",
     "text": [
      "page_content='Sau thời gian trên, kết quả đăng ký môn học của sinh viên sẽ được cố định, sinh viên không được điều chỉnh môn học.' metadata={'doc_id': '573ca1d8-1b6d-11ef-a755-d38426455a06'}\n"
     ]
    },
    {
     "data": {
      "application/vnd.jupyter.widget-view+json": {
       "model_id": "735b29f4ae074e0f8f87f26d21257ff1",
       "version_major": 2,
       "version_minor": 0
      },
      "text/plain": [
       "Filter:   0%|          | 0/344 [00:00<?, ? examples/s]"
      ]
     },
     "metadata": {},
     "output_type": "display_data"
    },
    {
     "name": "stdout",
     "output_type": "stream",
     "text": [
      "page_content='Môn học tiên quyết là môn học mà sinh viên phải học xong và có kết quả đạt trước khi đăng ký học môn sau.' metadata={'doc_id': '573ca1e2-1b6d-11ef-a755-d38426455a06'}\n"
     ]
    },
    {
     "data": {
      "application/vnd.jupyter.widget-view+json": {
       "model_id": "0c232b78b26248bbaf888935994883ed",
       "version_major": 2,
       "version_minor": 0
      },
      "text/plain": [
       "Filter:   0%|          | 0/344 [00:00<?, ? examples/s]"
      ]
     },
     "metadata": {},
     "output_type": "display_data"
    },
    {
     "name": "stdout",
     "output_type": "stream",
     "text": [
      "page_content='Cử nhân Khoa học máy tính Chất lượng cao có thể đảm nhận các vị trí công việc sau:' metadata={'doc_id': 'ebe64666-13cc-11ef-b548-0242ac1c000c'}\n"
     ]
    },
    {
     "data": {
      "application/vnd.jupyter.widget-view+json": {
       "model_id": "f7ec830d15d34a1b92353449c01ba666",
       "version_major": 2,
       "version_minor": 0
      },
      "text/plain": [
       "Filter:   0%|          | 0/344 [00:00<?, ? examples/s]"
      ]
     },
     "metadata": {},
     "output_type": "display_data"
    },
    {
     "name": "stdout",
     "output_type": "stream",
     "text": [
      "page_content='Sinh viên đóng học phí theo từng học kỳ, theo đúng lộ trình đào tạo đã được công bố.' metadata={'doc_id': 'ebe8436c-13cc-11ef-b548-0242ac1c000c'}\n",
      "page_content='Học phí chương trình Chất lượng cao khóa tuyển sinh năm 2021 được xác định theo lộ trình đào tạo trong 4 năm học.' metadata={'doc_id': 'ebe8436c-13cc-11ef-b548-0242ac1c000c'}\n",
      "page_content='Học phí Chương trình Chất lượng cao sẽ được nộp theo lộ trình học phí nhà Trường đã công bố.' metadata={'doc_id': '573ca17a-1b6d-11ef-a755-d38426455a06'}\n"
     ]
    },
    {
     "data": {
      "application/vnd.jupyter.widget-view+json": {
       "model_id": "70b50f94265d45b8941d2f39c0d6fb45",
       "version_major": 2,
       "version_minor": 0
      },
      "text/plain": [
       "Filter:   0%|          | 0/344 [00:00<?, ? examples/s]"
      ]
     },
     "metadata": {},
     "output_type": "display_data"
    },
    {
     "name": "stdout",
     "output_type": "stream",
     "text": [
      "page_content='Chương trình Chất Lượng Cao ngành Công nghệ sinh học đã tuyển sinh và tổ chức đào tạo từ năm 2015.' metadata={'doc_id': 'ebe65174-13cc-11ef-b548-0242ac1c000c'}\n"
     ]
    },
    {
     "data": {
      "application/vnd.jupyter.widget-view+json": {
       "model_id": "3e31245e0f594aaeaddb823aacb53585",
       "version_major": 2,
       "version_minor": 0
      },
      "text/plain": [
       "Filter:   0%|          | 0/344 [00:00<?, ? examples/s]"
      ]
     },
     "metadata": {},
     "output_type": "display_data"
    },
    {
     "name": "stdout",
     "output_type": "stream",
     "text": [
      "page_content='Tốt nghiệp ngành Ngôn ngữ Anh Chất lượng cao, sinh viên thường làm việc tại các vị trí như:' metadata={'doc_id': 'ebe5c524-13cc-11ef-b548-0242ac1c000c'}\n",
      "page_content='Sinh viên đã có Chứng chỉ MOS (Microsoft Office Specialist) quốc tế đạt 750 điểm sẽ được miễn học và không đóng tiền cho học phần Cơ sở Tin học tương ứng.' metadata={'doc_id': 'ebe8436c-13cc-11ef-b548-0242ac1c000c'}\n",
      "page_content='Môn học và nhóm môn học tự chọn là các môn học trong chương trình đào tạo chứa đựng những nội dung cần thiết cho định hướng nghề nghiệp mà sinh viên có thể lựa chọn đăng ký học.' metadata={'doc_id': '3369b8de-1b47-11ef-a755-d38426455a06'}\n",
      "page_content='Môn học bắt buộc là các môn học trong chương trình đào tạo chứa đựng những nội dung chính yếu của ngành và chuyên ngành đào tạo mà sinh viên bắt buộc phải hoàn tất đạt yêu cầu để được xét tốt nghiệp.' metadata={'doc_id': '3369b8de-1b47-11ef-a755-d38426455a06'}\n",
      "page_content='Sinh viên đã có Chứng chỉ MOS (Microsoft Office Specialist) quốc tế đạt 750 điểm sẽ được miễn học và không đóng tiền cho học phần cơ sở Tin học tương ứng.' metadata={'doc_id': 'ebe8436c-13cc-11ef-b548-0242ac1c000c'}\n",
      "page_content='Nếu sinh viên chọn học môn khác, ở học kỳ cuối cùng của khóa học, sinh viên có thể nộp đơn xin không tính điểm môn học tự chọn không đạt.' metadata={'doc_id': '573ca1eb-1b6d-11ef-a755-d38426455a06'}\n",
      "page_content='Trường hợp đạt trình độ Tiếng Anh ở các cấp độ theo quy định trong khung chương trình đào tạo hoặc nộp Chứng chỉ quốc tế còn giá trị thời hạn, sẽ được miễn học và không đóng tiền cho học phần được miễn.' metadata={'doc_id': 'ebe8436c-13cc-11ef-b548-0242ac1c000c'}\n",
      "page_content='Khi học chương trình thứ hai, sinh viên được bảo lưu điểm của những môn học có nội dung và khối lượng kiến thức tương đương có trong chương trình thứ nhất.' metadata={'doc_id': '573ca1ed-1b6d-11ef-a755-d38426455a06'}\n"
     ]
    },
    {
     "data": {
      "application/vnd.jupyter.widget-view+json": {
       "model_id": "59b898c098bf4249ab6d971d1b672f24",
       "version_major": 2,
       "version_minor": 0
      },
      "text/plain": [
       "Filter:   0%|          | 0/344 [00:00<?, ? examples/s]"
      ]
     },
     "metadata": {},
     "output_type": "display_data"
    },
    {
     "name": "stdout",
     "output_type": "stream",
     "text": [
      "page_content='Đơn đăng ký; Bản sao công chứng bằng tốt nghiệp trung học phổ thông; Bản sao công chứng bảng điểm học tập trung học phổ thông; Bản sao chứng chỉ tiếng Việt, tiếng Anh (nếu có); Bản sao chứng minh nhân dân hoặc hộ chiếu (nếu có); Các tài liệu liên quan khác (nếu có).' metadata={'doc_id': 'ebe77356-13cc-11ef-b548-0242ac1c000c'}\n"
     ]
    },
    {
     "data": {
      "application/vnd.jupyter.widget-view+json": {
       "model_id": "d6d073b1770f4ce2a9aa4ae86d09447b",
       "version_major": 2,
       "version_minor": 0
      },
      "text/plain": [
       "Filter:   0%|          | 0/344 [00:00<?, ? examples/s]"
      ]
     },
     "metadata": {},
     "output_type": "display_data"
    },
    {
     "name": "stdout",
     "output_type": "stream",
     "text": [
      "page_content='Lĩnh vực thiết kế vi mạch điện tử' metadata={'doc_id': 'ebe5a486-13cc-11ef-b548-0242ac1c000c'}\n"
     ]
    },
    {
     "data": {
      "application/vnd.jupyter.widget-view+json": {
       "model_id": "7aa5860ed3f44b72809e4ff071cc8c44",
       "version_major": 2,
       "version_minor": 0
      },
      "text/plain": [
       "Filter:   0%|          | 0/344 [00:00<?, ? examples/s]"
      ]
     },
     "metadata": {},
     "output_type": "display_data"
    },
    {
     "name": "stdout",
     "output_type": "stream",
     "text": [
      "page_content='Khóa luận tốt nghiệp làm bằng tiếng Anh.' metadata={'doc_id': 'ebe68194-13cc-11ef-b548-0242ac1c000c'}\n"
     ]
    },
    {
     "data": {
      "application/vnd.jupyter.widget-view+json": {
       "model_id": "cda05a0e081c46d7a9a2eb7b56385e78",
       "version_major": 2,
       "version_minor": 0
      },
      "text/plain": [
       "Filter:   0%|          | 0/344 [00:00<?, ? examples/s]"
      ]
     },
     "metadata": {},
     "output_type": "display_data"
    },
    {
     "name": "stdout",
     "output_type": "stream",
     "text": [
      "page_content='Phiếu đăng ký tuyển thẳng' metadata={'doc_id': 'ebe4db50-13cc-11ef-b548-0242ac1c000c'}\n"
     ]
    },
    {
     "data": {
      "application/vnd.jupyter.widget-view+json": {
       "model_id": "ebd49b868cf14eab9765c614b77ad0c4",
       "version_major": 2,
       "version_minor": 0
      },
      "text/plain": [
       "Filter:   0%|          | 0/344 [00:00<?, ? examples/s]"
      ]
     },
     "metadata": {},
     "output_type": "display_data"
    },
    {
     "name": "stdout",
     "output_type": "stream",
     "text": [
      "page_content='Khoá luận tốt nghiệp hoặc tương đương' metadata={'doc_id': 'ebe5bcb4-13cc-11ef-b548-0242ac1c000c'}\n",
      "page_content='Em sẽ làm tốt hơn nếu mình có niềm vui trong việc học tập tiếng Anh.' metadata={'doc_id': '573ca17e-1b6d-11ef-a755-d38426455a06'}\n"
     ]
    },
    {
     "data": {
      "application/vnd.jupyter.widget-view+json": {
       "model_id": "dab8c26f77dd4d2599439e2078c4d9d2",
       "version_major": 2,
       "version_minor": 0
      },
      "text/plain": [
       "Filter:   0%|          | 0/344 [00:00<?, ? examples/s]"
      ]
     },
     "metadata": {},
     "output_type": "display_data"
    },
    {
     "name": "stdout",
     "output_type": "stream",
     "text": [
      "page_content='Lĩnh vực mạch điện tử ứng dụng' metadata={'doc_id': 'ebe5a486-13cc-11ef-b548-0242ac1c000c'}\n",
      "page_content='Bản sao công chứng học bạ THPT (kèm bản chính học bạ THPT để đối chiếu)' metadata={'doc_id': 'ebe71618-13cc-11ef-b548-0242ac1c000c'}\n",
      "page_content='Xin học bù vì vắng có lý do chính đáng nhưng không có lớp/ca học phù hợp.' metadata={'doc_id': '573ca181-1b6d-11ef-a755-d38426455a06'}\n"
     ]
    },
    {
     "data": {
      "application/vnd.jupyter.widget-view+json": {
       "model_id": "90e37f953bc64cbdb8ae7a2e5b5d7fb2",
       "version_major": 2,
       "version_minor": 0
      },
      "text/plain": [
       "Filter:   0%|          | 0/344 [00:00<?, ? examples/s]"
      ]
     },
     "metadata": {},
     "output_type": "display_data"
    },
    {
     "name": "stdout",
     "output_type": "stream",
     "text": [
      "page_content='Sinh viên trễ lộ trình theo quy định có thể được xét miễn Tiếng Anh nếu thỏa mãn các điều kiện sau:' metadata={'doc_id': '573ca184-1b6d-11ef-a755-d38426455a06'}\n"
     ]
    },
    {
     "data": {
      "application/vnd.jupyter.widget-view+json": {
       "model_id": "4ee7ce16c7fc4d579341c496d07b26e7",
       "version_major": 2,
       "version_minor": 0
      },
      "text/plain": [
       "Filter:   0%|          | 0/344 [00:00<?, ? examples/s]"
      ]
     },
     "metadata": {},
     "output_type": "display_data"
    },
    {
     "name": "stdout",
     "output_type": "stream",
     "text": [
      "page_content='Sau khi kết thúc học phần Tiếng Anh/Anh văn cuối cùng trong chương trình đào tạo, sinh viên bắt buộc phải tham gia kỳ thi Tiến Anh quốc tế để lấy điểm cho học phần Tiếng Anh /Anh văn cuối cùng' metadata={'doc_id': '573ca182-1b6d-11ef-a755-d38426455a06'}\n"
     ]
    },
    {
     "data": {
      "application/vnd.jupyter.widget-view+json": {
       "model_id": "8c33849721e746009695486784f4f7e1",
       "version_major": 2,
       "version_minor": 0
      },
      "text/plain": [
       "Filter:   0%|          | 0/344 [00:00<?, ? examples/s]"
      ]
     },
     "metadata": {},
     "output_type": "display_data"
    },
    {
     "name": "stdout",
     "output_type": "stream",
     "text": [
      "page_content='Trường hợp sinh viên không làm thủ tục dự thi nhưng không làm đơn hoãn thi hoặc có làm thủ tục dự thi nhưng vắng thi (không có lý do chính đáng) sẽ bị tính điểm 0 cho học phần Tiếng Anh/Anh văn đã đăng ký trong học kỳ hiện tại' metadata={'doc_id': '573ca182-1b6d-11ef-a755-d38426455a06'}\n",
      "page_content='Thí sinh xét tuyển vào chương trình đại học bằng tiếng Anh, chương trình liên kết đào tạo quốc tế:' metadata={'doc_id': 'ebe747a0-13cc-11ef-b548-0242ac1c000c'}\n"
     ]
    },
    {
     "data": {
      "application/vnd.jupyter.widget-view+json": {
       "model_id": "d37d7a54acd94c61968c22c5c6c119cb",
       "version_major": 2,
       "version_minor": 0
      },
      "text/plain": [
       "Filter:   0%|          | 0/344 [00:00<?, ? examples/s]"
      ]
     },
     "metadata": {},
     "output_type": "display_data"
    },
    {
     "name": "stdout",
     "output_type": "stream",
     "text": [
      "page_content='Vắng học vì lý do cá nhân không được giải quyết học bù.' metadata={'doc_id': '573ca17f-1b6d-11ef-a755-d38426455a06'}\n"
     ]
    },
    {
     "data": {
      "application/vnd.jupyter.widget-view+json": {
       "model_id": "3ca9555313fe44b3bb8720ba42df8a3c",
       "version_major": 2,
       "version_minor": 0
      },
      "text/plain": [
       "Filter:   0%|          | 0/344 [00:00<?, ? examples/s]"
      ]
     },
     "metadata": {},
     "output_type": "display_data"
    },
    {
     "name": "stdout",
     "output_type": "stream",
     "text": [
      "page_content='Sinh viên chương trình chất lượng cao được tăng cường vốn từ chuyên ngành khi học môn chuyên ngành bằng tiếng Anh.' metadata={'doc_id': 'ebe702b8-13cc-11ef-b548-0242ac1c000c'}\n"
     ]
    },
    {
     "data": {
      "application/vnd.jupyter.widget-view+json": {
       "model_id": "1134f41d2ba04a6eb8afced3b1bce674",
       "version_major": 2,
       "version_minor": 0
      },
      "text/plain": [
       "Filter:   0%|          | 0/344 [00:00<?, ? examples/s]"
      ]
     },
     "metadata": {},
     "output_type": "display_data"
    },
    {
     "name": "stdout",
     "output_type": "stream",
     "text": [
      "page_content='Sinh viên được phép học bù, vì vậy Trung tâm không xem xét dự thi nếu vắng quá 20%.' metadata={'doc_id': '573ca181-1b6d-11ef-a755-d38426455a06'}\n",
      "page_content='Giảng viên giảng dạy môn chuyên ngành bằng tiếng Anh có kiến thức chuyên môn sâu.' metadata={'doc_id': 'ebe702b8-13cc-11ef-b548-0242ac1c000c'}\n",
      "page_content='Sinh viên trễ lộ trình theo quy định có thể được xét miễn Tiếng Anh nếu thỏa mãn các điều kiện sau:' metadata={'doc_id': '573ca184-1b6d-11ef-a755-d38426455a06'}\n",
      "page_content='Sinh viên được quyền lựa chọn hình thức thi' metadata={'doc_id': '573ca182-1b6d-11ef-a755-d38426455a06'}\n",
      "page_content='Giảng viên giảng dạy môn chuyên ngành bằng tiếng Anh có trình độ tiếng Anh IELTS 6.5 hoặc tương đương.' metadata={'doc_id': 'ebe702b8-13cc-11ef-b548-0242ac1c000c'}\n",
      "page_content='Gần 50% thời lượng chương trình được giảng dạy bằng tiếng Anh với các giảng viên có kinh nghiệm và kiến thức chuyên môn cao.' metadata={'doc_id': 'ebe6960c-13cc-11ef-b548-0242ac1c000c'}\n"
     ]
    },
    {
     "data": {
      "application/vnd.jupyter.widget-view+json": {
       "model_id": "02b71dcfa91c4f6892cafc84862e8b33",
       "version_major": 2,
       "version_minor": 0
      },
      "text/plain": [
       "Filter:   0%|          | 0/344 [00:00<?, ? examples/s]"
      ]
     },
     "metadata": {},
     "output_type": "display_data"
    },
    {
     "name": "stdout",
     "output_type": "stream",
     "text": [
      "page_content='Sinh viên đăng ký giấy xác nhận sinh viên trên Cổng thông tin sinh viên' metadata={'doc_id': '573ca198-1b6d-11ef-a755-d38426455a06'}\n"
     ]
    },
    {
     "data": {
      "application/vnd.jupyter.widget-view+json": {
       "model_id": "01dfaa566e8e436782e52f65d880ea07",
       "version_major": 2,
       "version_minor": 0
      },
      "text/plain": [
       "Filter:   0%|          | 0/344 [00:00<?, ? examples/s]"
      ]
     },
     "metadata": {},
     "output_type": "display_data"
    },
    {
     "name": "stdout",
     "output_type": "stream",
     "text": [
      "page_content='Điểm khác biệt của chương trình CLC so với chương trình đào tạo thông thường là được giảng dạy bởi các giảng viên giỏi và có năng lực nghiên cứu khoa học tốt; 50% các môn học cơ sở ngành và chuyên ngành được giảng dạy bằng tiếng Anh; được các doanh nghiệp đào tạo chuyên môn thực tế và cấp chứng chỉ; sinh viên nếu mong muốn và có đủ điều kiện tài chính cũng như học thuật có thể đăng ký học, trao đổi 01 học kỳ hoặc thực tập tốt nghiệp tại một trường đại học có uy tín ở nước ngoài, ví dụ như ở Đài Loan hoặc Công hoà Séc' metadata={'doc_id': 'ebe66600-13cc-11ef-b548-0242ac1c000c'}\n"
     ]
    },
    {
     "data": {
      "application/vnd.jupyter.widget-view+json": {
       "model_id": "8a194c3b2e144e47976d4408af470a8f",
       "version_major": 2,
       "version_minor": 0
      },
      "text/plain": [
       "Filter:   0%|          | 0/344 [00:00<?, ? examples/s]"
      ]
     },
     "metadata": {},
     "output_type": "display_data"
    },
    {
     "name": "stdout",
     "output_type": "stream",
     "text": [
      "page_content='Sinh viên nếu\\xa0chưa đủ trình độ tiếng Anh phải tham gia học tiếng Anh tăng cường theo qui định của chương trình.' metadata={'doc_id': 'ebe6bca4-13cc-11ef-b548-0242ac1c000c'}\n"
     ]
    },
    {
     "data": {
      "application/vnd.jupyter.widget-view+json": {
       "model_id": "dc9f880c954d4069ac011685122e9d28",
       "version_major": 2,
       "version_minor": 0
      },
      "text/plain": [
       "Filter:   0%|          | 0/344 [00:00<?, ? examples/s]"
      ]
     },
     "metadata": {},
     "output_type": "display_data"
    },
    {
     "name": "stdout",
     "output_type": "stream",
     "text": [
      "page_content='Môn Năng lực tiếng Anh được phép mang vào phòng thi:' metadata={'doc_id': 'ebe89d3a-13cc-11ef-b548-0242ac1c000c'}\n",
      "page_content='Để nhận điểm M học phần Tiếng Anh cuối, sinh viên Khóa tuyển sinh 2016 trở về trước cần tham gia học học phần Tiếng Anh cuối và đủ điều kiện dự thi cuối kỳ.' metadata={'doc_id': '3369b8e7-1b47-11ef-a755-d38426455a06'}\n"
     ]
    },
    {
     "data": {
      "application/vnd.jupyter.widget-view+json": {
       "model_id": "0124e1dfcd084e52b8697b4a4b389403",
       "version_major": 2,
       "version_minor": 0
      },
      "text/plain": [
       "Filter:   0%|          | 0/344 [00:00<?, ? examples/s]"
      ]
     },
     "metadata": {},
     "output_type": "display_data"
    },
    {
     "name": "stdout",
     "output_type": "stream",
     "text": [
      "page_content='Thí sinh xét tuyển vào chương trình đại học bằng tiếng Anh, chương trình liên kết đào tạo quốc tế:' metadata={'doc_id': 'ebe747a0-13cc-11ef-b548-0242ac1c000c'}\n",
      "page_content='Sinh viên có học phần được ghi nhận điểm P đủ điều kiện để được học các môn vướng điều kiện Tiếng Anh cuối cùng là môn tiên quyết (trừ các môn học ở học kỳ cuối).' metadata={'doc_id': '3369b8e7-1b47-11ef-a755-d38426455a06'}\n",
      "page_content='Sinh viên có đăng ký học phần tiếng Anh cuối, đủ điều kiện dự thi và đạt kỳ thi kết thúc môn tại trường sẽ được ghi nhận điểm P.' metadata={'doc_id': '3369b8e7-1b47-11ef-a755-d38426455a06'}\n",
      "page_content='Các ngành xét tuyển chương trình đại học bằng tiếng Anh' metadata={'doc_id': 'ebe858ca-13cc-11ef-b548-0242ac1c000c'}\n",
      "page_content='Sinh viên đủ điều kiện dự thi kết thúc môn Tiếng Anh cuối và đạt điểm P (đối với chương trình Tiêu chuẩn khóa tuyển sinh 2017 trở về sau và chương trình Chất lượng cao khóa tuyển sinh 2019 trở về sau) và đủ điều kiện dự thi cuối kỳ (đối với chương trình Tiêu chuẩn khóa tuyển sinh 2016 trở về trước và chương trình Chất lượng cao 2018 trở về trước) có thể tham gia kỳ thi Tiếng Anh quốc tế theo thông báo của Trung Tâm ngôn ngữ sáng tạo hoặc em có thể chủ động đăng ký thi ở các trung tâm ngoài trường.' metadata={'doc_id': '573ca1c2-1b6d-11ef-a755-d38426455a06'}\n"
     ]
    },
    {
     "data": {
      "application/vnd.jupyter.widget-view+json": {
       "model_id": "b7518ac7b6824bbc95e0267ed467e972",
       "version_major": 2,
       "version_minor": 0
      },
      "text/plain": [
       "Filter:   0%|          | 0/344 [00:00<?, ? examples/s]"
      ]
     },
     "metadata": {},
     "output_type": "display_data"
    },
    {
     "name": "stdout",
     "output_type": "stream",
     "text": [
      "page_content='Vật dụng được phép mang vào phòng thi môn Năng lực tiếng Anh:' metadata={'doc_id': 'ebe8794a-13cc-11ef-b548-0242ac1c000c'}\n",
      "page_content='Thí sinh xét tuyển vào chương trình đại học bằng tiếng Anh, chương trình liên kết đào tạo quốc tế:' metadata={'doc_id': 'ebe747a0-13cc-11ef-b548-0242ac1c000c'}\n",
      "page_content='Trường hợp sinh viên không làm thủ tục dự thi nhưng không làm đơn hoãn thi hoặc có làm thủ tục dự thi nhưng vắng thi (không có lý do chính đáng) sẽ bị tính điểm 0 cho học phần Tiếng Anh/Anh văn đã đăng ký trong học kỳ hiện tại' metadata={'doc_id': '573ca182-1b6d-11ef-a755-d38426455a06'}\n",
      "page_content='Sinh viên phải tham gia học tiếng Anh tăng cường theo qui định của chương trình nếu chưa đủ trình độ tiếng Anh.' metadata={'doc_id': 'ebe51c28-13cc-11ef-b548-0242ac1c000c'}\n"
     ]
    },
    {
     "data": {
      "application/vnd.jupyter.widget-view+json": {
       "model_id": "21ebc9477295449dbfe0af12e7e12041",
       "version_major": 2,
       "version_minor": 0
      },
      "text/plain": [
       "Filter:   0%|          | 0/344 [00:00<?, ? examples/s]"
      ]
     },
     "metadata": {},
     "output_type": "display_data"
    },
    {
     "name": "stdout",
     "output_type": "stream",
     "text": [
      "page_content='Sinh viên có đăng ký học phần tiếng Anh cuối, đủ điều kiện dự thi và đạt kỳ thi kết thúc môn tại trường sẽ được ghi nhận điểm P.' metadata={'doc_id': '3369b8e7-1b47-11ef-a755-d38426455a06'}\n",
      "page_content='Sinh viên được phép học bù, vì vậy Trung tâm không xem xét dự thi nếu vắng quá 20%.' metadata={'doc_id': '573ca181-1b6d-11ef-a755-d38426455a06'}\n",
      "page_content='Quy định để đồ tại tầng hầm lửng của Thư viện có ghi là không để vật dụng có giá trị.' metadata={'doc_id': '573ca206-1b6d-11ef-a755-d38426455a06'}\n"
     ]
    },
    {
     "data": {
      "application/vnd.jupyter.widget-view+json": {
       "model_id": "1339bacc4836459ab57d329fb1558565",
       "version_major": 2,
       "version_minor": 0
      },
      "text/plain": [
       "Filter:   0%|          | 0/344 [00:00<?, ? examples/s]"
      ]
     },
     "metadata": {},
     "output_type": "display_data"
    },
    {
     "name": "stdout",
     "output_type": "stream",
     "text": [
      "page_content='Sinh viên tốt nghiệp ngành Mạng máy tính và truyền thông dữ liệu có khả năng quản lý và vận hành những công nghệ mạng phổ biến như tính toán di động.' metadata={'doc_id': 'ebe60bec-13cc-11ef-b548-0242ac1c000c'}\n"
     ]
    },
    {
     "data": {
      "application/vnd.jupyter.widget-view+json": {
       "model_id": "0f48285ec3e24012b5d9b353956e084a",
       "version_major": 2,
       "version_minor": 0
      },
      "text/plain": [
       "Filter:   0%|          | 0/344 [00:00<?, ? examples/s]"
      ]
     },
     "metadata": {},
     "output_type": "display_data"
    },
    {
     "name": "stdout",
     "output_type": "stream",
     "text": [
      "page_content='Không xem xét dự thi nếu vắng quá 20%.' metadata={'doc_id': '573ca181-1b6d-11ef-a755-d38426455a06'}\n",
      "page_content='Sau khi kết thúc học phần Tiếng Anh/Anh văn cuối cùng trong chương trình đào tạo, sinh viên bắt buộc phải tham gia kỳ thi Tiến Anh quốc tế để lấy điểm cho học phần Tiếng Anh /Anh văn cuối cùng' metadata={'doc_id': '573ca182-1b6d-11ef-a755-d38426455a06'}\n",
      "page_content='Nhà trường sẽ không giải quyết bất kỳ khiếu nại về sau nếu thí sinh không thực hiện việc xác nhận nhập học theo quy định đã thông báo' metadata={'doc_id': 'ebe7ce64-13cc-11ef-b548-0242ac1c000c'}\n"
     ]
    },
    {
     "data": {
      "application/vnd.jupyter.widget-view+json": {
       "model_id": "078ead055dbd44ed8a93457c1c216454",
       "version_major": 2,
       "version_minor": 0
      },
      "text/plain": [
       "Filter:   0%|          | 0/344 [00:00<?, ? examples/s]"
      ]
     },
     "metadata": {},
     "output_type": "display_data"
    },
    {
     "name": "stdout",
     "output_type": "stream",
     "text": [
      "page_content='Những môn học được quy định không tham gia tính điểm trung bình sẽ không đưa vào công thức này để tính' metadata={'doc_id': '573ca1c3-1b6d-11ef-a755-d38426455a06'}\n",
      "page_content='Nếu sinh viên đạt điểm E ở kỳ thi kết thúc môn thì phải đăng ký học lại Tiếng Anh cuối vào học kỳ kế tiếp (đối với chương trình Tiêu chuẩn khóa tuyển sinh 2017 trở về sau và chương trình Chất lượng cao khóa tuyển sinh 2019 trở về sau).' metadata={'doc_id': '573ca205-1b6d-11ef-a755-d38426455a06'}\n"
     ]
    },
    {
     "data": {
      "application/vnd.jupyter.widget-view+json": {
       "model_id": "99d1b6aea2ed4197abeb240c7d6b201e",
       "version_major": 2,
       "version_minor": 0
      },
      "text/plain": [
       "Filter:   0%|          | 0/344 [00:00<?, ? examples/s]"
      ]
     },
     "metadata": {},
     "output_type": "display_data"
    },
    {
     "name": "stdout",
     "output_type": "stream",
     "text": [
      "page_content='Thí sinh xét tuyển vào chương trình đại học bằng tiếng Anh, chương trình liên kết đào tạo quốc tế:' metadata={'doc_id': 'ebe747a0-13cc-11ef-b548-0242ac1c000c'}\n",
      "page_content='Sinh viên học đúng lộ trình theo quy định có thể được xét miễn học phần Tiếng Anh nếu nộp bảng điểm/chứng chỉ Tiếng Anh quốc tế trước khi bắt đầu học kỳ hoặc trước khi môn học bắt đầu (đối với các học phần Tiếng Anh ở giai đoạn 2 của học kỳ) ít nhất 02 tuần.' metadata={'doc_id': '573ca184-1b6d-11ef-a755-d38426455a06'}\n",
      "page_content='Sinh viên trễ lộ trình theo quy định có thể được xét miễn Tiếng Anh nếu thỏa mãn các điều kiện sau:' metadata={'doc_id': '573ca184-1b6d-11ef-a755-d38426455a06'}\n",
      "page_content='Sinh viên trễ lộ trình theo quy định có thể được xét miễn học phần Tiếng Anh nếu nộp bảng điểm/chứng chỉ Tiếng Anh quốc tế trước khi bắt đầu học kỳ hoặc trước khi môn học bắt đầu (đối với các học phần Tiếng Anh ở giai đoạn 2 của học kỳ) ít nhất 02 tuần.' metadata={'doc_id': '573ca184-1b6d-11ef-a755-d38426455a06'}\n",
      "page_content='Thí sinh xét tuyển vào chương trình đại học bằng tiếng Anh, chương trình liên kết đào tạo quốc tế:' metadata={'doc_id': 'ebe747a0-13cc-11ef-b548-0242ac1c000c'}\n",
      "page_content='Trong kế hoạch Tốt nghiệp sẽ có thời hạn cuối cùng để nộp bảng điểm/chứng chỉ Tiếng Anh quốc tế chuẩn đầu ra cho Nhà Trường.' metadata={'doc_id': '573ca183-1b6d-11ef-a755-d38426455a06'}\n"
     ]
    },
    {
     "data": {
      "application/vnd.jupyter.widget-view+json": {
       "model_id": "9fa25dcd4a664509855f059390ca95bf",
       "version_major": 2,
       "version_minor": 0
      },
      "text/plain": [
       "Filter:   0%|          | 0/344 [00:00<?, ? examples/s]"
      ]
     },
     "metadata": {},
     "output_type": "display_data"
    },
    {
     "name": "stdout",
     "output_type": "stream",
     "text": [
      "page_content='Sinh viên căn cứ vào thời gian trong kế hoạch để nộp Bảng điểm/chứng chỉ Tiếng Anh quốc tế chuẩn đầu ra đúng hạn yêu cầu.' metadata={'doc_id': '573ca183-1b6d-11ef-a755-d38426455a06'}\n",
      "page_content='Chương trình đại học bằng tiếng Anh đảm bảo chất lượng đào tạo và đầu ra đáp ứng tốt nhu cầu của xã hội.' metadata={'doc_id': 'ebe685b8-13cc-11ef-b548-0242ac1c000c'}\n"
     ]
    },
    {
     "data": {
      "application/vnd.jupyter.widget-view+json": {
       "model_id": "7bf12e6cabdf48638cf04464a12c124c",
       "version_major": 2,
       "version_minor": 0
      },
      "text/plain": [
       "Filter:   0%|          | 0/344 [00:00<?, ? examples/s]"
      ]
     },
     "metadata": {},
     "output_type": "display_data"
    },
    {
     "name": "stdout",
     "output_type": "stream",
     "text": [
      "page_content='Sau khi kết thúc học phần Tiếng Anh/Anh văn cuối cùng trong chương trình đào tạo, sinh viên bắt buộc phải tham gia kỳ thi Tiến Anh quốc tế để lấy điểm cho học phần Tiếng Anh /Anh văn cuối cùng' metadata={'doc_id': '573ca182-1b6d-11ef-a755-d38426455a06'}\n",
      "page_content='Các ngành xét tuyển chương trình đại học bằng tiếng Anh' metadata={'doc_id': 'ebe858ca-13cc-11ef-b548-0242ac1c000c'}\n",
      "page_content='Sinh viên có học phần được ghi nhận điểm P đủ điều kiện để được học các môn vướng điều kiện Tiếng Anh cuối cùng là môn tiên quyết (trừ các môn học ở học kỳ cuối).' metadata={'doc_id': '3369b8e7-1b47-11ef-a755-d38426455a06'}\n",
      "page_content='Chương trình đại học bằng tiếng Anh đào tạo nguồn nhân lực chất lượng cao đáp ứng yêu cầu hội nhập quốc tế.' metadata={'doc_id': 'ebe45bee-13cc-11ef-b548-0242ac1c000c'}\n"
     ]
    },
    {
     "data": {
      "application/vnd.jupyter.widget-view+json": {
       "model_id": "62f80211b3e84dfd92cffa5735529cd1",
       "version_major": 2,
       "version_minor": 0
      },
      "text/plain": [
       "Filter:   0%|          | 0/344 [00:00<?, ? examples/s]"
      ]
     },
     "metadata": {},
     "output_type": "display_data"
    },
    {
     "name": "stdout",
     "output_type": "stream",
     "text": [
      "page_content='Sinh viên trễ lộ trình theo quy định có thể được xét miễn Tiếng Anh nếu thỏa mãn các điều kiện sau:' metadata={'doc_id': '573ca184-1b6d-11ef-a755-d38426455a06'}\n",
      "page_content='Thí sinh xét tuyển vào chương trình đại học bằng tiếng Anh, chương trình liên kết đào tạo quốc tế:' metadata={'doc_id': 'ebe747a0-13cc-11ef-b548-0242ac1c000c'}\n",
      "page_content='Sinh viên có học phần được ghi nhận điểm P đủ điều kiện để được học các môn vướng điều kiện Tiếng Anh cuối cùng là môn tiên quyết (trừ các môn học ở học kỳ cuối).' metadata={'doc_id': '3369b8e7-1b47-11ef-a755-d38426455a06'}\n",
      "page_content='Các ngành xét tuyển chương trình đại học bằng tiếng Anh' metadata={'doc_id': 'ebe858ca-13cc-11ef-b548-0242ac1c000c'}\n",
      "page_content='Điều kiện tiếng Anh để chuyển tiếp giai đoạn 2 của chương trình cấp 2 bằng đại học của Đại học West of England, Bristol là IELTS ≥ 6.5 (điểm thành phần ≥ 5.5) hoặc IELTS 6.0 (điểm thành phần ≥ 6.0).' metadata={'doc_id': 'ebe6ca32-13cc-11ef-b548-0242ac1c000c'}\n"
     ]
    },
    {
     "data": {
      "application/vnd.jupyter.widget-view+json": {
       "model_id": "e9e6304f5f2b4db3bc47420c2519bf7c",
       "version_major": 2,
       "version_minor": 0
      },
      "text/plain": [
       "Filter:   0%|          | 0/344 [00:00<?, ? examples/s]"
      ]
     },
     "metadata": {},
     "output_type": "display_data"
    },
    {
     "name": "stdout",
     "output_type": "stream",
     "text": [
      "page_content='Điều kiện đạt sơ tuyển của các đối tượng xét tuyển thẳng khác' metadata={'doc_id': 'ebe7b866-13cc-11ef-b548-0242ac1c000c'}\n"
     ]
    },
    {
     "data": {
      "application/vnd.jupyter.widget-view+json": {
       "model_id": "36ec4b60407146c891cf872b5e0b0c84",
       "version_major": 2,
       "version_minor": 0
      },
      "text/plain": [
       "Filter:   0%|          | 0/344 [00:00<?, ? examples/s]"
      ]
     },
     "metadata": {},
     "output_type": "display_data"
    },
    {
     "name": "stdout",
     "output_type": "stream",
     "text": [
      "page_content='Thủ tục xét miễn học Anh văn:' metadata={'doc_id': '573ca183-1b6d-11ef-a755-d38426455a06'}\n",
      "page_content='Chuyên viên đầu tư Tài chính' metadata={'doc_id': 'ebe68194-13cc-11ef-b548-0242ac1c000c'}\n",
      "page_content='Tiếng Anh đạt chuẩn IELTS 6.5 là một trong những chuẩn đầu ra.' metadata={'doc_id': 'ebe5b412-13cc-11ef-b548-0242ac1c000c'}\n"
     ]
    },
    {
     "data": {
      "application/vnd.jupyter.widget-view+json": {
       "model_id": "a7764eddf0334e52a013d0a759d511ed",
       "version_major": 2,
       "version_minor": 0
      },
      "text/plain": [
       "Filter:   0%|          | 0/344 [00:00<?, ? examples/s]"
      ]
     },
     "metadata": {},
     "output_type": "display_data"
    },
    {
     "name": "stdout",
     "output_type": "stream",
     "text": [
      "page_content='Sinh viên chọn phân hệ Công tác sinh viên' metadata={'doc_id': '573ca198-1b6d-11ef-a755-d38426455a06'}\n",
      "page_content='- Có bảng điểm/chứng chỉ tiếng Anh quốc tế chuẩn đầu ra theo quy định của trường.' metadata={'doc_id': '573ca184-1b6d-11ef-a755-d38426455a06'}\n",
      "page_content='SV phải đạt được chuẩn đầu ra Tiếng Anh theo quy định.' metadata={'doc_id': 'ebe5bcb4-13cc-11ef-b548-0242ac1c000c'}\n",
      "page_content='Sinh viên đăng ký giấy xác nhận sinh viên trên Cổng thông tin sinh viên' metadata={'doc_id': '573ca198-1b6d-11ef-a755-d38426455a06'}\n",
      "page_content='Công nghệ sinh học' metadata={'doc_id': 'ebe81c98-13cc-11ef-b548-0242ac1c000c'}\n"
     ]
    },
    {
     "data": {
      "application/vnd.jupyter.widget-view+json": {
       "model_id": "22bfc68e351b43169d0bb809fb754ea4",
       "version_major": 2,
       "version_minor": 0
      },
      "text/plain": [
       "Filter:   0%|          | 0/344 [00:00<?, ? examples/s]"
      ]
     },
     "metadata": {},
     "output_type": "display_data"
    },
    {
     "name": "stdout",
     "output_type": "stream",
     "text": [
      "page_content='Nếu có bảng điểm tiếng Anh quốc tế đạt chuẩn đầu ra của Trường, sinh viên Khóa tuyển sinh 2016 trở về trước nộp đơn tại Văn phòng và Tư vấn và hỗ trợ sinh viên.' metadata={'doc_id': '3369b8e7-1b47-11ef-a755-d38426455a06'}\n",
      "page_content='Theo quy định hiện tại, nếu sinh viên đã được ghi nhận điểm Miễn (M) cho học phần Tiếng Anh cuối thì không cần nộp lại Bảng điểm mới.' metadata={'doc_id': '573ca185-1b6d-11ef-a755-d38426455a06'}\n"
     ]
    },
    {
     "data": {
      "application/vnd.jupyter.widget-view+json": {
       "model_id": "2829759f596549c28624c400a960d38b",
       "version_major": 2,
       "version_minor": 0
      },
      "text/plain": [
       "Filter:   0%|          | 0/344 [00:00<?, ? examples/s]"
      ]
     },
     "metadata": {},
     "output_type": "display_data"
    },
    {
     "name": "stdout",
     "output_type": "stream",
     "text": [
      "page_content='Sinh viên trễ lộ trình theo quy định có thể được xét miễn Tiếng Anh nếu thỏa mãn các điều kiện sau:' metadata={'doc_id': '573ca184-1b6d-11ef-a755-d38426455a06'}\n",
      "page_content='Sinh viên nếu\\xa0chưa đủ trình độ tiếng Anh phải tham gia học tiếng Anh tăng cường theo qui định của chương trình.' metadata={'doc_id': 'ebe6bca4-13cc-11ef-b548-0242ac1c000c'}\n",
      "page_content='Nếu có bảng điểm tiếng Anh quốc tế đạt chuẩn đầu ra của Trường, sinh viên Khóa tuyển sinh 2016 trở về trước nộp đơn tại Văn phòng và Tư vấn và hỗ trợ sinh viên.' metadata={'doc_id': '3369b8e7-1b47-11ef-a755-d38426455a06'}\n",
      "page_content='Sinh viên chưa đủ trình độ tiếng Anh phải tham gia học tiếng Anh tăng cường theo qui định của chương trình.' metadata={'doc_id': 'ebe4f126-13cc-11ef-b548-0242ac1c000c'}\n"
     ]
    },
    {
     "data": {
      "application/vnd.jupyter.widget-view+json": {
       "model_id": "97d578f043f7499587f3d32c2ccad3f1",
       "version_major": 2,
       "version_minor": 0
      },
      "text/plain": [
       "Filter:   0%|          | 0/344 [00:00<?, ? examples/s]"
      ]
     },
     "metadata": {},
     "output_type": "display_data"
    },
    {
     "name": "stdout",
     "output_type": "stream",
     "text": [
      "page_content='Trong kế hoạch Tốt nghiệp sẽ có thời hạn cuối cùng để nộp bảng điểm/chứng chỉ Tiếng Anh quốc tế chuẩn đầu ra cho Nhà Trường.' metadata={'doc_id': '573ca183-1b6d-11ef-a755-d38426455a06'}\n",
      "page_content='Sinh viên căn cứ vào thời gian trong kế hoạch để nộp Bảng điểm/chứng chỉ Tiếng Anh quốc tế chuẩn đầu ra đúng hạn yêu cầu.' metadata={'doc_id': '573ca183-1b6d-11ef-a755-d38426455a06'}\n",
      "page_content='Các sinh viên không đạt trình độ tiếng Anh được quy định trong Quy định đào tạo tiếng Anh của Trường sẽ bị hạn chế số tín chỉ đăng ký hoặc phải ngừng học các môn học khác ngoại trừ môn tiếng Anh.' metadata={'doc_id': '573ca1d7-1b6d-11ef-a755-d38426455a06'}\n",
      "page_content='Sinh viên có học phần được ghi nhận điểm P đủ điều kiện để được học các môn vướng điều kiện Tiếng Anh cuối cùng là môn tiên quyết (trừ các môn học ở học kỳ cuối).' metadata={'doc_id': '3369b8e7-1b47-11ef-a755-d38426455a06'}\n",
      "page_content='Môn Năng lực tiếng Anh được phép mang vào phòng thi:' metadata={'doc_id': 'ebe89d3a-13cc-11ef-b548-0242ac1c000c'}\n",
      "page_content='Sinh viên Khóa tuyển sinh từ 2017 đến 2020 học chương trình tiêu chuẩn phải đạt điểm P học phần tiếng Anh cuối.' metadata={'doc_id': '3369b8e7-1b47-11ef-a755-d38426455a06'}\n",
      "page_content='Vật dụng được phép mang vào phòng thi môn Năng lực tiếng Anh:' metadata={'doc_id': 'ebe8794a-13cc-11ef-b548-0242ac1c000c'}\n",
      "page_content='Thí sinh xét tuyển vào chương trình đại học bằng tiếng Anh, chương trình liên kết đào tạo quốc tế:' metadata={'doc_id': 'ebe747a0-13cc-11ef-b548-0242ac1c000c'}\n",
      "page_content='Sinh viên có đăng ký học phần tiếng Anh cuối, đủ điều kiện dự thi và đạt kỳ thi kết thúc môn tại trường sẽ được ghi nhận điểm P.' metadata={'doc_id': '3369b8e7-1b47-11ef-a755-d38426455a06'}\n",
      "page_content='Sau khi kết thúc học phần Tiếng Anh/Anh văn cuối cùng trong chương trình đào tạo, sinh viên bắt buộc phải tham gia kỳ thi Tiến Anh quốc tế để lấy điểm cho học phần Tiếng Anh /Anh văn cuối cùng' metadata={'doc_id': '573ca182-1b6d-11ef-a755-d38426455a06'}\n",
      "page_content='Các ngành xét tuyển chương trình đại học bằng tiếng Anh' metadata={'doc_id': 'ebe858ca-13cc-11ef-b548-0242ac1c000c'}\n",
      "page_content='Sinh viên có thể thi chứng chỉ MOS và nộp đơn trực tuyến nộp chứng chỉ MOS để xét miễn.' metadata={'doc_id': '573ca1c7-1b6d-11ef-a755-d38426455a06'}\n",
      "page_content='Bên cạnh đó, Nhà trường còn cập nhật cho sinh viên các kiến thức chuyên môn về tư duy thiết kế, ngôn ngữ thiết kế đồ họa, các kỹ thuật về in ấn cơ bản, phương pháp chọn giấy và phát triển giải pháp thiết kế.' metadata={'doc_id': 'ebe5eeaa-13cc-11ef-b548-0242ac1c000c'}\n"
     ]
    },
    {
     "data": {
      "application/vnd.jupyter.widget-view+json": {
       "model_id": "334b27f64772495690e33274e405d4e9",
       "version_major": 2,
       "version_minor": 0
      },
      "text/plain": [
       "Filter:   0%|          | 0/344 [00:00<?, ? examples/s]"
      ]
     },
     "metadata": {},
     "output_type": "display_data"
    },
    {
     "name": "stdout",
     "output_type": "stream",
     "text": [
      "page_content='Nhà trường còn thường xuyên tổ chức các cuộc thi thiết kế bổ ích nhằm giúp sinh viên phát triển toàn diện về kiến thức và kỹ năng nghề nghiệp.' metadata={'doc_id': 'ebe6039a-13cc-11ef-b548-0242ac1c000c'}\n"
     ]
    },
    {
     "data": {
      "application/vnd.jupyter.widget-view+json": {
       "model_id": "2a4f1c989eee4508814bfd091b672817",
       "version_major": 2,
       "version_minor": 0
      },
      "text/plain": [
       "Filter:   0%|          | 0/344 [00:00<?, ? examples/s]"
      ]
     },
     "metadata": {},
     "output_type": "display_data"
    },
    {
     "name": "stdout",
     "output_type": "stream",
     "text": [
      "page_content='Lưu ý: Các chứng chỉ tiếng Anh quốc tế phải được tổ chức thi trực tiếp tại các đơn vị liên kết được Bộ Giáo dục và Đào tạo phê duyệt Đề án liên kết tổ chức thi cấp chứng chỉ theo quy định.' metadata={'doc_id': '3369b8da-1b47-11ef-a755-d38426455a06'}\n"
     ]
    },
    {
     "data": {
      "application/vnd.jupyter.widget-view+json": {
       "model_id": "554dd307f7eb4c20976c99db969e0671",
       "version_major": 2,
       "version_minor": 0
      },
      "text/plain": [
       "Filter:   0%|          | 0/344 [00:00<?, ? examples/s]"
      ]
     },
     "metadata": {},
     "output_type": "display_data"
    },
    {
     "name": "stdout",
     "output_type": "stream",
     "text": [
      "page_content='Lĩnh vực chế tạo robot hiện nay là một trong những ngành công nghệ mũi nhọn thu hút nhiều sự chú ý của các nhà khoa học, trong đó vấn đề lập trình trí tuệ nhân tạo cho các robot là vấn đề được quan tâm nhất.' metadata={'doc_id': 'ebe5a04e-13cc-11ef-b548-0242ac1c000c'}\n",
      "page_content='Có kiến thức nền tảng vững chắc để tiếp tục học tập nâng cao trình độ ở các bậc cao hơn: thạc sĩ, tiến sĩ ngành Giảng dạy Tiếng Anh, Ngôn ngữ học ứng dụng' metadata={'doc_id': 'ebe5b412-13cc-11ef-b548-0242ac1c000c'}\n",
      "page_content='Cử nhân Thiết kế đồ họa chất lượng cao có cơ hội trở thành: Nghiên cứu, giảng dạy tại các cơ sở giáo dục chuyên ngành.' metadata={'doc_id': 'ebe64c7e-13cc-11ef-b548-0242ac1c000c'}\n"
     ]
    },
    {
     "data": {
      "application/vnd.jupyter.widget-view+json": {
       "model_id": "b556b4877a704be099ad85b07138ce9e",
       "version_major": 2,
       "version_minor": 0
      },
      "text/plain": [
       "Filter:   0%|          | 0/344 [00:00<?, ? examples/s]"
      ]
     },
     "metadata": {},
     "output_type": "display_data"
    },
    {
     "name": "stdout",
     "output_type": "stream",
     "text": [
      "page_content='Thí sinh có chứng chỉ tiếng Anh quốc tế còn thời hạn trong vòng 2 năm tính đến ngày 01/10/2021 , nhập thông tin chứng chỉ và tải hình chụp Chứng chỉ lên hệ thống để nhà trường xét miễn bài thi tiếng Anh xếp lớp đầu vào.' metadata={'doc_id': 'ebe81338-13cc-11ef-b548-0242ac1c000c'}\n"
     ]
    },
    {
     "data": {
      "application/vnd.jupyter.widget-view+json": {
       "model_id": "492cc39f567a4cb8802477c99082a5b4",
       "version_major": 2,
       "version_minor": 0
      },
      "text/plain": [
       "Filter:   0%|          | 0/344 [00:00<?, ? examples/s]"
      ]
     },
     "metadata": {},
     "output_type": "display_data"
    },
    {
     "name": "stdout",
     "output_type": "stream",
     "text": [
      "page_content='Sinh viên ở KTX sẽ nhận thẻ có gắn chíp ở KTX.' metadata={'doc_id': '573ca204-1b6d-11ef-a755-d38426455a06'}\n"
     ]
    },
    {
     "data": {
      "application/vnd.jupyter.widget-view+json": {
       "model_id": "fc5ed4f8496c44a7805dc786273e4d7c",
       "version_major": 2,
       "version_minor": 0
      },
      "text/plain": [
       "Filter:   0%|          | 0/344 [00:00<?, ? examples/s]"
      ]
     },
     "metadata": {},
     "output_type": "display_data"
    },
    {
     "name": "stdout",
     "output_type": "stream",
     "text": [
      "page_content='Sinh viên sẽ nhận thẻ ở KTX khi có thẻ.' metadata={'doc_id': '573ca189-1b6d-11ef-a755-d38426455a06'}\n"
     ]
    },
    {
     "data": {
      "application/vnd.jupyter.widget-view+json": {
       "model_id": "1c3c21a1baeb4350be3e91025d5957d0",
       "version_major": 2,
       "version_minor": 0
      },
      "text/plain": [
       "Filter:   0%|          | 0/344 [00:00<?, ? examples/s]"
      ]
     },
     "metadata": {},
     "output_type": "display_data"
    },
    {
     "name": "stdout",
     "output_type": "stream",
     "text": [
      "page_content='Ban quản trị KTX sẽ lập danh sách gửi Phòng Công tác học sinh – sinh viên đề nghị cấp thẻ cho sinh viên sau khi có quyết định tiếp nhận vào ở KTX.' metadata={'doc_id': '573ca189-1b6d-11ef-a755-d38426455a06'}\n",
      "page_content='Trước khi vào phòng sinh viên, viên chức KTX có gõ cửa thông báo trước.' metadata={'doc_id': '573ca1a3-1b6d-11ef-a755-d38426455a06'}\n"
     ]
    },
    {
     "data": {
      "application/vnd.jupyter.widget-view+json": {
       "model_id": "3fa28b5eea234df3aeb74094d30f6a4c",
       "version_major": 2,
       "version_minor": 0
      },
      "text/plain": [
       "Filter:   0%|          | 0/344 [00:00<?, ? examples/s]"
      ]
     },
     "metadata": {},
     "output_type": "display_data"
    },
    {
     "name": "stdout",
     "output_type": "stream",
     "text": [
      "page_content='Sinh viên không được tàng trữ và sử dụng các dụng cụ đun, nấu, dễ gây cháy nổ trong KTX.' metadata={'doc_id': '573ca1a6-1b6d-11ef-a755-d38426455a06'}\n"
     ]
    },
    {
     "data": {
      "application/vnd.jupyter.widget-view+json": {
       "model_id": "5eab15ff64d542a5a30a9ed953a62e09",
       "version_major": 2,
       "version_minor": 0
      },
      "text/plain": [
       "Filter:   0%|          | 0/344 [00:00<?, ? examples/s]"
      ]
     },
     "metadata": {},
     "output_type": "display_data"
    },
    {
     "name": "stdout",
     "output_type": "stream",
     "text": [
      "page_content='Sinh viên nội trú (SVNT) quên mang thẻ sinh viên thì có thể liên hệ phòng trực I.005 KTX để xin cấp thẻ nội trú mới.' metadata={'doc_id': '573ca1a9-1b6d-11ef-a755-d38426455a06'}\n"
     ]
    },
    {
     "data": {
      "application/vnd.jupyter.widget-view+json": {
       "model_id": "a2648408746246219d72ef2632d10d86",
       "version_major": 2,
       "version_minor": 0
      },
      "text/plain": [
       "Filter:   0%|          | 0/344 [00:00<?, ? examples/s]"
      ]
     },
     "metadata": {},
     "output_type": "display_data"
    },
    {
     "name": "stdout",
     "output_type": "stream",
     "text": [
      "page_content='Người có công với cách mạng và con của họ được hưởng chế độ ưu đãi trong giáo dục và đào tạo theo quy định tại mục b, điểm 1, phần I Thông tư số 16/2006/TTLT- BLĐ-TB&XH-BGD&ĐT-BTC ngày 20 tháng 11 năm 2006 của Bộ Lao động - Thương binh và Xã hội, Bộ Giáo dục và Đào tạo, Bộ Tài chính.' metadata={'doc_id': '573ca18a-1b6d-11ef-a755-d38426455a06'}\n"
     ]
    },
    {
     "data": {
      "application/vnd.jupyter.widget-view+json": {
       "model_id": "10429651bd014c45b1aa602afa579387",
       "version_major": 2,
       "version_minor": 0
      },
      "text/plain": [
       "Filter:   0%|          | 0/344 [00:00<?, ? examples/s]"
      ]
     },
     "metadata": {},
     "output_type": "display_data"
    },
    {
     "name": "stdout",
     "output_type": "stream",
     "text": [
      "page_content='Sinh viên sau khi ra trường sinh viên có đủ kiến thức về chuyên môn, khả năng ngoại ngữ và kỹ nămg mềm để có thể thiết kế, giám sát, quản lý thi công các công trình xây dựng, cũng như có khả năng tự học tập và cập nhật kiến thức mới trong lĩnh vực xây dựng.' metadata={'doc_id': 'ebe63928-13cc-11ef-b548-0242ac1c000c'}\n"
     ]
    },
    {
     "data": {
      "application/vnd.jupyter.widget-view+json": {
       "model_id": "248195968d9a4edaa412388d6ec4982b",
       "version_major": 2,
       "version_minor": 0
      },
      "text/plain": [
       "Filter:   0%|          | 0/344 [00:00<?, ? examples/s]"
      ]
     },
     "metadata": {},
     "output_type": "display_data"
    },
    {
     "name": "stdout",
     "output_type": "stream",
     "text": [
      "page_content='Sinh viên sẽ có kỹ năng phục vụ khách hàng, kỹ năng giao tiếp, đàm phán thương lượng trong kinh doanh, khả năng tự học và năng lực nghiên cứu chuyên sâu khi cần thiết.' metadata={'doc_id': 'ebe4f572-13cc-11ef-b548-0242ac1c000c'}\n"
     ]
    },
    {
     "data": {
      "application/vnd.jupyter.widget-view+json": {
       "model_id": "9a1681d29eec41389aea3f2322c88874",
       "version_major": 2,
       "version_minor": 0
      },
      "text/plain": [
       "Filter:   0%|          | 0/344 [00:00<?, ? examples/s]"
      ]
     },
     "metadata": {},
     "output_type": "display_data"
    },
    {
     "name": "stdout",
     "output_type": "stream",
     "text": [
      "page_content='Xác nhận sinh viên để hưởng chế độ ưu đãi cho con các gia đình có công với cách mạng' metadata={'doc_id': '573ca198-1b6d-11ef-a755-d38426455a06'}\n",
      "page_content='Sinh viên được hưởng nhiều chính sách ưu đãi về học phí, ký túc xá tại cơ sở.' metadata={'doc_id': 'ebe7072c-13cc-11ef-b548-0242ac1c000c'}\n"
     ]
    },
    {
     "data": {
      "application/vnd.jupyter.widget-view+json": {
       "model_id": "03cffa735cdb436b9d97ec199355dbe5",
       "version_major": 2,
       "version_minor": 0
      },
      "text/plain": [
       "Filter:   0%|          | 0/344 [00:00<?, ? examples/s]"
      ]
     },
     "metadata": {},
     "output_type": "display_data"
    },
    {
     "name": "stdout",
     "output_type": "stream",
     "text": [
      "page_content='Sinh viên có điều kiện ứng dụng kiến thức vào thực tế và làm việc như một nhân viên thực thụ để trao dồi, học hỏi và tích lũy thêm những kỹ năng làm việc hiệu quả.' metadata={'doc_id': 'ebe607be-13cc-11ef-b548-0242ac1c000c'}\n"
     ]
    },
    {
     "data": {
      "application/vnd.jupyter.widget-view+json": {
       "model_id": "8bd6af81c9c84250927abc25f9268b82",
       "version_major": 2,
       "version_minor": 0
      },
      "text/plain": [
       "Filter:   0%|          | 0/344 [00:00<?, ? examples/s]"
      ]
     },
     "metadata": {},
     "output_type": "display_data"
    },
    {
     "name": "stdout",
     "output_type": "stream",
     "text": [
      "page_content='Sinh viên sẽ có tinh thần trách nhiệm, lương tâm nghề nghiệp, có ý thức kỷ luật, tác phong công nghiệp và thái độ phục vụ tốt.' metadata={'doc_id': 'ebe6b114-13cc-11ef-b548-0242ac1c000c'}\n"
     ]
    },
    {
     "data": {
      "application/vnd.jupyter.widget-view+json": {
       "model_id": "cc88c910aafe4c4e84540acf3701a712",
       "version_major": 2,
       "version_minor": 0
      },
      "text/plain": [
       "Filter:   0%|          | 0/344 [00:00<?, ? examples/s]"
      ]
     },
     "metadata": {},
     "output_type": "display_data"
    },
    {
     "name": "stdout",
     "output_type": "stream",
     "text": [
      "page_content='Thông tư số 16/2006/TTLT- BLĐ-TB&XH-BGD&ĐT-BTC ngày 20 tháng 11 năm 2006 là văn bản hướng dẫn về chế độ ưu đãi trong giáo dục và đào tạo đối với người có công với cách mạng và con của họ.' metadata={'doc_id': '573ca18a-1b6d-11ef-a755-d38426455a06'}\n",
      "page_content='Nếu sinh viên làm mất giấy nộp tiền tại ngân hàng, Phòng sẽ hướng dẫn sinh viên làm đơn xin cấp biên lai học phí.' metadata={'doc_id': '573ca175-1b6d-11ef-a755-d38426455a06'}\n",
      "page_content='Quyết định số 157/2007/QĐ-TTg ngày 27/9/2007 về tín dụng đối với học sinh, sinh viên quy định đối tượng được vay vốn tín dụng tại Ngân hàng chính sách Xã hội bao gồm:' metadata={'doc_id': '573ca18b-1b6d-11ef-a755-d38426455a06'}\n"
     ]
    },
    {
     "data": {
      "application/vnd.jupyter.widget-view+json": {
       "model_id": "583209ef493549c38fe7156e50807a6c",
       "version_major": 2,
       "version_minor": 0
      },
      "text/plain": [
       "Filter:   0%|          | 0/344 [00:00<?, ? examples/s]"
      ]
     },
     "metadata": {},
     "output_type": "display_data"
    },
    {
     "name": "stdout",
     "output_type": "stream",
     "text": [
      "page_content='Xác nhận sinh viên để tạm hoãn nghĩa vụ quân sự' metadata={'doc_id': '573ca198-1b6d-11ef-a755-d38426455a06'}\n",
      "page_content='Nếu em xác nhận sinh viên để làm thủ tục Vay vốn ngân hàng, em chọn chứng nhận Bổ sung hồ sơ cá nhân ->Vay vốn ngân hàng -> Gõ số chứng minh nhân dân, ngày cấp, chọn nơi cấp -> Chọn đối tượng' metadata={'doc_id': '573ca18f-1b6d-11ef-a755-d38426455a06'}\n"
     ]
    },
    {
     "data": {
      "application/vnd.jupyter.widget-view+json": {
       "model_id": "84df2178fd5a41e491b757d2064d02ae",
       "version_major": 2,
       "version_minor": 0
      },
      "text/plain": [
       "Filter:   0%|          | 0/344 [00:00<?, ? examples/s]"
      ]
     },
     "metadata": {},
     "output_type": "display_data"
    },
    {
     "name": "stdout",
     "output_type": "stream",
     "text": [
      "page_content='Sinh viên sẽ có kiến thức chuyên sâu về tài chính - tiền tệ, ngân hàng, các kiến thức về quản trị tín dụng, quản trị vốn và tài sản của ngân hàng.' metadata={'doc_id': 'ebe4e6fe-13cc-11ef-b548-0242ac1c000c'}\n"
     ]
    },
    {
     "data": {
      "application/vnd.jupyter.widget-view+json": {
       "model_id": "8375b0b191ba494d939c08f0b7a2ac3a",
       "version_major": 2,
       "version_minor": 0
      },
      "text/plain": [
       "Filter:   0%|          | 0/344 [00:00<?, ? examples/s]"
      ]
     },
     "metadata": {},
     "output_type": "display_data"
    },
    {
     "name": "stdout",
     "output_type": "stream",
     "text": [
      "page_content='Sinh viên tốt nghiệp ngành Kỹ thuật điện sau khi ra trường có thể làm việc ở những vị trí như:' metadata={'doc_id': 'ebe66e20-13cc-11ef-b548-0242ac1c000c'}\n",
      "page_content='Sinh viên chương trình chất lượng cao được đào tạo nguồn nhân lực chất lượng cao đáp ứng yêu cầu hội nhập quốc tế.' metadata={'doc_id': 'ebe702b8-13cc-11ef-b548-0242ac1c000c'}\n",
      "page_content='Xác nhận sinh viên để tham gia chương trình “Vay vốn tín dụng”' metadata={'doc_id': '573ca198-1b6d-11ef-a755-d38426455a06'}\n",
      "page_content='Sinh viên có hoàn cảnh khó khăn không được vay vốn khi sinh viên bị các cơ quan xử phạt hành chính trở lên về các hành vi trộm cắp.' metadata={'doc_id': '3369b8e0-1b47-11ef-a755-d38426455a06'}\n"
     ]
    },
    {
     "data": {
      "application/vnd.jupyter.widget-view+json": {
       "model_id": "38b4475fc01b45d7b1ca0e0943cbd70b",
       "version_major": 2,
       "version_minor": 0
      },
      "text/plain": [
       "Filter:   0%|          | 0/344 [00:00<?, ? examples/s]"
      ]
     },
     "metadata": {},
     "output_type": "display_data"
    },
    {
     "name": "stdout",
     "output_type": "stream",
     "text": [
      "page_content='Sinh viên có hoàn cảnh khó khăn không được vay vốn khi sinh viên bị các cơ quan xử phạt hành chính trở lên về các hành vi cờ bạc.' metadata={'doc_id': '3369b8e0-1b47-11ef-a755-d38426455a06'}\n",
      "page_content='Sau khi hoàn tất các thủ tục, sinh viên nộp hồ sơ về cho Văn phòng Tư vấn và Hỗ trợ người học (thời hạn: ít nhất 2 tuần trước khi học kỳ bắt đầu).' metadata={'doc_id': '573ca1bb-1b6d-11ef-a755-d38426455a06'}\n",
      "page_content='Sinh viên có hoàn cảnh khó khăn không được vay vốn khi sinh viên bị các cơ quan xử phạt hành chính trở lên về các hành vi nghiện hút.' metadata={'doc_id': '3369b8e0-1b47-11ef-a755-d38426455a06'}\n",
      "page_content='Khối lượng học tập tối đa mà sinh viên có thể đăng ký trong mỗi học kỳ được thực hiện theo quy định sau:' metadata={'doc_id': '573ca1d7-1b6d-11ef-a755-d38426455a06'}\n",
      "page_content='Sinh viên có hoàn cảnh khó khăn không được vay vốn khi sinh viên bị các cơ quan xử phạt hành chính trở lên về các hành vi buôn lậu.' metadata={'doc_id': '3369b8e0-1b47-11ef-a755-d38426455a06'}\n",
      "page_content='Xác nhận sinh viên để tạm hoãn nghĩa vụ quân sự' metadata={'doc_id': '573ca198-1b6d-11ef-a755-d38426455a06'}\n",
      "page_content='Quyết định số 157/2007/QĐ –TTg ngày 27/9/2007 về tín dụng đối với học sinh, sinh viên quy định để được vay vốn sinh viên phải có đủ các điều kiện sau:' metadata={'doc_id': '573ca18c-1b6d-11ef-a755-d38426455a06'}\n"
     ]
    },
    {
     "data": {
      "application/vnd.jupyter.widget-view+json": {
       "model_id": "04db42bac00a4f7aa8121234a9668cb5",
       "version_major": 2,
       "version_minor": 0
      },
      "text/plain": [
       "Filter:   0%|          | 0/344 [00:00<?, ? examples/s]"
      ]
     },
     "metadata": {},
     "output_type": "display_data"
    },
    {
     "name": "stdout",
     "output_type": "stream",
     "text": [
      "page_content='Sinh viên chọn mục Đăng ký chứng nhận' metadata={'doc_id': '573ca198-1b6d-11ef-a755-d38426455a06'}\n",
      "page_content='Xác nhận sinh viên để tham gia chương trình “Vay vốn tín dụng”' metadata={'doc_id': '573ca198-1b6d-11ef-a755-d38426455a06'}\n",
      "page_content='Nhà trường sẽ tổ chức mở lớp ôn tập cho sinh viên được cứu xét gia hạn đào tạo.' metadata={'doc_id': '3369b8e3-1b47-11ef-a755-d38426455a06'}\n"
     ]
    },
    {
     "data": {
      "application/vnd.jupyter.widget-view+json": {
       "model_id": "6a5f47cac2394efb9ff27e0bbe0d4663",
       "version_major": 2,
       "version_minor": 0
      },
      "text/plain": [
       "Filter:   0%|          | 0/344 [00:00<?, ? examples/s]"
      ]
     },
     "metadata": {},
     "output_type": "display_data"
    },
    {
     "name": "stdout",
     "output_type": "stream",
     "text": [
      "page_content='Quyết định số 157/2007/QĐ-TTg ngày 27/9/2007 về tín dụng đối với học sinh, sinh viên quy định đối tượng được vay vốn tín dụng tại Ngân hàng chính sách Xã hội bao gồm:' metadata={'doc_id': '573ca18b-1b6d-11ef-a755-d38426455a06'}\n",
      "page_content='Xác nhận sinh viên phục vụ những mục đích khác' metadata={'doc_id': '573ca198-1b6d-11ef-a755-d38426455a06'}\n",
      "page_content='Nếu em xác nhận sinh viên để làm thủ tục Vay vốn ngân hàng, em chọn chứng nhận Bổ sung hồ sơ cá nhân ->Vay vốn ngân hàng -> Gõ số chứng minh nhân dân, ngày cấp, chọn nơi cấp -> Chọn đối tượng' metadata={'doc_id': '573ca18f-1b6d-11ef-a755-d38426455a06'}\n",
      "page_content='Sinh viên tốt nghiệp trước tiến độ hoặc đúng tiến độ theo kế hoạch đào tạo chuẩn được thiết kế của chương trình đào tạo (chỉ xét sinh viên học ngành thứ nhất) và đạt các điều kiện chuẩn đầu ra như sau:' metadata={'doc_id': '573ca1ae-1b6d-11ef-a755-d38426455a06'}\n"
     ]
    },
    {
     "data": {
      "application/vnd.jupyter.widget-view+json": {
       "model_id": "05fb6f5cee084f6bb3ae947bccdb9e2f",
       "version_major": 2,
       "version_minor": 0
      },
      "text/plain": [
       "Filter:   0%|          | 0/344 [00:00<?, ? examples/s]"
      ]
     },
     "metadata": {},
     "output_type": "display_data"
    },
    {
     "name": "stdout",
     "output_type": "stream",
     "text": [
      "page_content='Khi thí sinh hoàn tất các thủ tục nhập học như đóng lệ phí, nộp hồ sơ… thí sinh sẽ chính thức là sinh viên của trường.' metadata={'doc_id': 'ebe592de-13cc-11ef-b548-0242ac1c000c'}\n",
      "page_content='Trước khi đến Trường làm thủ tục nhập học, thí sinh vui lòng đọc kỹ Hướng dẫn thủ tục nhập học trên website https://admission.tdtu.edu.vn hoặc mục “Hướng dẫn thủ tục nhập học” trên hệ thống https://xettuyen.tdtu.edu.vn' metadata={'doc_id': 'ebe7ce64-13cc-11ef-b548-0242ac1c000c'}\n",
      "page_content='Tài khoản Hệ thống thông tin sinh viên: Đây là cổng thông tin sinh viên và đồng thời là kênh liên lạc chính thức giữa Nhà trường với sinh viên, là nơi sinh viên theo dõi quá trình học cũng như những qui định, chương trình, kết quả học tập…' metadata={'doc_id': 'ebe592de-13cc-11ef-b548-0242ac1c000c'}\n",
      "page_content='Trường hợp sinh viên không làm thủ tục dự thi nhưng không làm đơn hoãn thi hoặc có làm thủ tục dự thi nhưng vắng thi (không có lý do chính đáng) sẽ bị tính điểm 0 cho học phần Tiếng Anh/Anh văn đã đăng ký trong học kỳ hiện tại' metadata={'doc_id': '573ca182-1b6d-11ef-a755-d38426455a06'}\n",
      "page_content='Sau khi hoàn tất các thủ tục, sinh viên nộp hồ sơ về cho Văn phòng Tư vấn và Hỗ trợ người học (thời hạn: ít nhất 2 tuần trước khi học kỳ bắt đầu).' metadata={'doc_id': '573ca1bb-1b6d-11ef-a755-d38426455a06'}\n",
      "page_content='Sau khi Kết quả ghi nhận báo đã \"Hợp lệ\" thì sinh viên vui lòng liên hệ với Phòng Công tác Học sinh - Sinh viên (A.0003) để nhận chứng nhận sinh viên' metadata={'doc_id': '573ca198-1b6d-11ef-a755-d38426455a06'}\n",
      "page_content='Sinh viên tốt nghiệp loại giỏi sẽ được học bổng học cao học tại trường đại học Tôn Đức Thắng, hoặc được ưu tiên giới thiệu xin học bổng toàn phần ở các trường đại học trên thế giới có liên kết với trường đại học Tôn Đức Thắng' metadata={'doc_id': 'ebe5b87c-13cc-11ef-b548-0242ac1c000c'}\n",
      "page_content='Trước khi chỉnh sửa thông tin sinh viên, sinh viên phải kiểm tra số lần chỉnh sửa còn lại.' metadata={'doc_id': '573ca18e-1b6d-11ef-a755-d38426455a06'}\n"
     ]
    },
    {
     "data": {
      "application/vnd.jupyter.widget-view+json": {
       "model_id": "4b4c67d5871e40eeae9e3edc9342f6d0",
       "version_major": 2,
       "version_minor": 0
      },
      "text/plain": [
       "Filter:   0%|          | 0/344 [00:00<?, ? examples/s]"
      ]
     },
     "metadata": {},
     "output_type": "display_data"
    },
    {
     "name": "stdout",
     "output_type": "stream",
     "text": [
      "page_content='Sinh viên đăng ký giấy xác nhận sinh viên trên Cổng thông tin sinh viên' metadata={'doc_id': '573ca198-1b6d-11ef-a755-d38426455a06'}\n",
      "page_content='Sinh viên chọn mục Đăng ký chứng nhận' metadata={'doc_id': '573ca198-1b6d-11ef-a755-d38426455a06'}\n",
      "page_content='Nếu số lần chỉnh sửa còn lại lớn hơn 0 thì sinh viên được chỉnh sửa thông tin sinh viên.' metadata={'doc_id': '573ca18e-1b6d-11ef-a755-d38426455a06'}\n",
      "page_content='Sinh viên được xét chuyển trường nếu có các điều kiện sau:' metadata={'doc_id': '573ca1ff-1b6d-11ef-a755-d38426455a06'}\n"
     ]
    },
    {
     "data": {
      "application/vnd.jupyter.widget-view+json": {
       "model_id": "d96a1b78af6d4b84be5d0ba4c98a5448",
       "version_major": 2,
       "version_minor": 0
      },
      "text/plain": [
       "Filter:   0%|          | 0/344 [00:00<?, ? examples/s]"
      ]
     },
     "metadata": {},
     "output_type": "display_data"
    },
    {
     "name": "stdout",
     "output_type": "stream",
     "text": [
      "page_content='Sau thời gian trên, KHHT của sinh viên được cố định, không được chỉnh sửa.' metadata={'doc_id': '573ca1dc-1b6d-11ef-a755-d38426455a06'}\n"
     ]
    },
    {
     "data": {
      "application/vnd.jupyter.widget-view+json": {
       "model_id": "e7659f0bfab24384bebdbe2257777807",
       "version_major": 2,
       "version_minor": 0
      },
      "text/plain": [
       "Filter:   0%|          | 0/344 [00:00<?, ? examples/s]"
      ]
     },
     "metadata": {},
     "output_type": "display_data"
    },
    {
     "name": "stdout",
     "output_type": "stream",
     "text": [
      "page_content='Sinh viên không cần điền các thông tin đã được làm mờ' metadata={'doc_id': '573ca198-1b6d-11ef-a755-d38426455a06'}\n",
      "page_content='Sinh viên còn trong thời hạn khóa học bị cảnh báo khi:' metadata={'doc_id': '573ca1f8-1b6d-11ef-a755-d38426455a06'}\n"
     ]
    },
    {
     "data": {
      "application/vnd.jupyter.widget-view+json": {
       "model_id": "67a5970f378f463490b9370009f937ab",
       "version_major": 2,
       "version_minor": 0
      },
      "text/plain": [
       "Filter:   0%|          | 0/344 [00:00<?, ? examples/s]"
      ]
     },
     "metadata": {},
     "output_type": "display_data"
    },
    {
     "name": "stdout",
     "output_type": "stream",
     "text": [
      "page_content='Sinh viên đăng ký giấy xác nhận sinh viên trên Cổng thông tin sinh viên' metadata={'doc_id': '573ca198-1b6d-11ef-a755-d38426455a06'}\n",
      "page_content='Sinh viên chọn mục Đăng ký chứng nhận' metadata={'doc_id': '573ca198-1b6d-11ef-a755-d38426455a06'}\n",
      "page_content='Sinh viên làm giấy xác nhận vui lòng đăng ký tại phòng Công tác Học sinh - Sinh viên trước khi thi 24 giờ.' metadata={'doc_id': '3369b8d7-1b47-11ef-a755-d38426455a06'}\n"
     ]
    },
    {
     "data": {
      "application/vnd.jupyter.widget-view+json": {
       "model_id": "d0cd005d79e34216a5b7616ec355cef4",
       "version_major": 2,
       "version_minor": 0
      },
      "text/plain": [
       "Filter:   0%|          | 0/344 [00:00<?, ? examples/s]"
      ]
     },
     "metadata": {},
     "output_type": "display_data"
    },
    {
     "name": "stdout",
     "output_type": "stream",
     "text": [
      "page_content='Sinh viên được quyền lựa chọn hình thức thi' metadata={'doc_id': '573ca182-1b6d-11ef-a755-d38426455a06'}\n",
      "page_content='Sinh viên làm giấy xác nhận trước khi thi 24 giờ.' metadata={'doc_id': '573ca192-1b6d-11ef-a755-d38426455a06'}\n"
     ]
    },
    {
     "data": {
      "application/vnd.jupyter.widget-view+json": {
       "model_id": "f84e84699ec04e5ea283c7d3d61dffd8",
       "version_major": 2,
       "version_minor": 0
      },
      "text/plain": [
       "Filter:   0%|          | 0/344 [00:00<?, ? examples/s]"
      ]
     },
     "metadata": {},
     "output_type": "display_data"
    },
    {
     "name": "stdout",
     "output_type": "stream",
     "text": [
      "page_content='Sinh viên không tính thứ Bảy và Chủ nhật khi làm giấy xác nhận.' metadata={'doc_id': '573ca192-1b6d-11ef-a755-d38426455a06'}\n",
      "page_content='Khối lượng học tối đa mà sinh viên có thể đăng ký trong mỗi học kỳ được thực hiện theo quy định sau:' metadata={'doc_id': '573ca1d7-1b6d-11ef-a755-d38426455a06'}\n",
      "page_content='Sinh viên được quyền lựa chọn hình thức thi' metadata={'doc_id': '573ca182-1b6d-11ef-a755-d38426455a06'}\n",
      "page_content='Trong quá trình báo mất thẻ sinh viên hoặc đã làm thẻ tạm hoặc thẻ sinh viên, nếu sinh viên tìm được thẻ bị mất, sinh viên gửi trả lại phiếu hẹn hoặc thẻ tạm cho phòng CTHSSV (A.0003).' metadata={'doc_id': '573ca190-1b6d-11ef-a755-d38426455a06'}\n",
      "page_content='Thẻ tạm hoặc phiếu báo mất thẻ sinh viên không được sử dụng cho bất kỳ lý do nào khác.' metadata={'doc_id': '573ca190-1b6d-11ef-a755-d38426455a06'}\n",
      "page_content='Để xét miễn, sinh viên cần thực hiện các thủ tục sau:' metadata={'doc_id': '573ca184-1b6d-11ef-a755-d38426455a06'}\n",
      "page_content='Sinh viên được xét chuyển trường nếu có các điều kiện sau:' metadata={'doc_id': '573ca1ff-1b6d-11ef-a755-d38426455a06'}\n",
      "page_content='Tấm bằng cử nhân Kế toán - Chất lượng cao tại TDTU sẽ là thẻ thông hành để sinh viên làm việc bất cứ nơi nào trên thế giới.' metadata={'doc_id': 'ebe7402a-13cc-11ef-b548-0242ac1c000c'}\n"
     ]
    },
    {
     "data": {
      "application/vnd.jupyter.widget-view+json": {
       "model_id": "674c795a74f346e6a3b80e32b3c06ba9",
       "version_major": 2,
       "version_minor": 0
      },
      "text/plain": [
       "Filter:   0%|          | 0/344 [00:00<?, ? examples/s]"
      ]
     },
     "metadata": {},
     "output_type": "display_data"
    },
    {
     "name": "stdout",
     "output_type": "stream",
     "text": [
      "page_content='Sinh viên chọn mục Đăng ký chứng nhận' metadata={'doc_id': '573ca198-1b6d-11ef-a755-d38426455a06'}\n",
      "page_content='Sinh viên liên hệ Phòng CTHSSV (A.0003) để báo mất thẻ sinh viên.' metadata={'doc_id': '573ca190-1b6d-11ef-a755-d38426455a06'}\n",
      "page_content='Sinh viên ở xa có thể gọi điện thoại để được cấp lại mật khẩu.' metadata={'doc_id': '573ca19a-1b6d-11ef-a755-d38426455a06'}\n"
     ]
    },
    {
     "data": {
      "application/vnd.jupyter.widget-view+json": {
       "model_id": "042a418c2dd044548a99967ef0d305de",
       "version_major": 2,
       "version_minor": 0
      },
      "text/plain": [
       "Filter:   0%|          | 0/344 [00:00<?, ? examples/s]"
      ]
     },
     "metadata": {},
     "output_type": "display_data"
    },
    {
     "name": "stdout",
     "output_type": "stream",
     "text": [
      "page_content='Sinh viên làm giấy xác nhận trước khi thi 24 giờ.' metadata={'doc_id': '573ca192-1b6d-11ef-a755-d38426455a06'}\n",
      "page_content='Sinh viên không tính thứ Bảy và Chủ nhật khi làm giấy xác nhận.' metadata={'doc_id': '573ca192-1b6d-11ef-a755-d38426455a06'}\n",
      "page_content='Sinh viên được quyền lựa chọn hình thức thi' metadata={'doc_id': '573ca182-1b6d-11ef-a755-d38426455a06'}\n",
      "page_content='Thí sinh đã xác nhận nhập học trực tuyến nộp Giấy chứng nhận kết quả thi THPT năm 2019 để xác nhận và làm thủ tục nhập học chính thức .' metadata={'doc_id': 'ebe6d39c-13cc-11ef-b548-0242ac1c000c'}\n"
     ]
    },
    {
     "data": {
      "application/vnd.jupyter.widget-view+json": {
       "model_id": "7a2c444dfc5f48e5af43e034912dc5f7",
       "version_major": 2,
       "version_minor": 0
      },
      "text/plain": [
       "Filter:   0%|          | 0/344 [00:00<?, ? examples/s]"
      ]
     },
     "metadata": {},
     "output_type": "display_data"
    },
    {
     "name": "stdout",
     "output_type": "stream",
     "text": [
      "page_content='Sinh viên được học tập trong môi trường xanh, đẳng cấp thế giới.' metadata={'doc_id': 'ebe77356-13cc-11ef-b548-0242ac1c000c'}\n",
      "page_content='Sinh viên có thể nộp đơn xin giấy đi làm và làm thêm (20 giờ/ tuần) sau khi hoàn tất thủ tục nhập học và có thẻ cư trú và thẻ đi làm.' metadata={'doc_id': 'ebe51c28-13cc-11ef-b548-0242ac1c000c'}\n",
      "page_content='Sinh viên được xét chuyển trường nếu có các điều kiện sau:' metadata={'doc_id': '573ca1ff-1b6d-11ef-a755-d38426455a06'}\n",
      "page_content='Sinh viên được quyền lựa chọn hình thức thi' metadata={'doc_id': '573ca182-1b6d-11ef-a755-d38426455a06'}\n",
      "page_content='Tấm bằng cử nhân Kế toán - Chất lượng cao tại TDTU sẽ là thẻ thông hành để sinh viên làm việc bất cứ nơi nào trên thế giới.' metadata={'doc_id': 'ebe7402a-13cc-11ef-b548-0242ac1c000c'}\n",
      "page_content='Sinh viên đã biết bơi và muốn chuyển sang môn GDTC 1 khác thay thế môn bơi.' metadata={'doc_id': '573ca1e0-1b6d-11ef-a755-d38426455a06'}\n"
     ]
    },
    {
     "data": {
      "application/vnd.jupyter.widget-view+json": {
       "model_id": "46ec26230cdb4345a863117c0af3571f",
       "version_major": 2,
       "version_minor": 0
      },
      "text/plain": [
       "Filter:   0%|          | 0/344 [00:00<?, ? examples/s]"
      ]
     },
     "metadata": {},
     "output_type": "display_data"
    },
    {
     "name": "stdout",
     "output_type": "stream",
     "text": [
      "page_content='Để xét miễn, sinh viên cần thực hiện các thủ tục sau:' metadata={'doc_id': '573ca184-1b6d-11ef-a755-d38426455a06'}\n",
      "page_content='Sinh viên được xét chuyển trường nếu có các điều kiện sau:' metadata={'doc_id': '573ca1ff-1b6d-11ef-a755-d38426455a06'}\n",
      "page_content='Trong quá trình báo mất thẻ sinh viên hoặc đã làm thẻ tạm hoặc thẻ sinh viên, nếu sinh viên tìm được thẻ bị mất, sinh viên gửi trả lại phiếu hẹn hoặc thẻ tạm cho phòng CTHSSV (A.0003).' metadata={'doc_id': '573ca190-1b6d-11ef-a755-d38426455a06'}\n",
      "page_content='Thẻ tạm hoặc phiếu báo mất thẻ sinh viên không được sử dụng cho bất kỳ lý do nào khác.' metadata={'doc_id': '573ca190-1b6d-11ef-a755-d38426455a06'}\n",
      "page_content='Sinh viên còn trong thời hạn khóa học bị cảnh báo khi:' metadata={'doc_id': '573ca1f8-1b6d-11ef-a755-d38426455a06'}\n",
      "page_content='Sinh viên không nhất thiết phải học lại môn tự chọn chưa đạt nếu đã tích lũy đủ tín chỉ cần thiết.' metadata={'doc_id': '573ca1e9-1b6d-11ef-a755-d38426455a06'}\n",
      "page_content='Thí sinh thuộc đối tượng được nhận Học bổng tuyển sinh và thuộc đối tượng hoàn trả Bảo hiểm y tế vẫn đóng đủ các khoản phí nhập học, nhà trường sẽ xét và hoàn trả lại sau.' metadata={'doc_id': 'ebe81338-13cc-11ef-b548-0242ac1c000c'}\n",
      "page_content='Phòng Công tác Học sinh - Sinh viên sẽ đề xuất tặng giấy khen cho sinh viên có hành động đẹp (trả lại tài sản nhặt được cho người mất).' metadata={'doc_id': '573ca193-1b6d-11ef-a755-d38426455a06'}\n"
     ]
    },
    {
     "data": {
      "application/vnd.jupyter.widget-view+json": {
       "model_id": "fb33beb24d6d46a48049a9770b947601",
       "version_major": 2,
       "version_minor": 0
      },
      "text/plain": [
       "Filter:   0%|          | 0/344 [00:00<?, ? examples/s]"
      ]
     },
     "metadata": {},
     "output_type": "display_data"
    },
    {
     "name": "stdout",
     "output_type": "stream",
     "text": [
      "page_content='Trong quá trình báo mất thẻ sinh viên hoặc đã làm thẻ tạm hoặc thẻ sinh viên, nếu sinh viên tìm được thẻ bị mất, sinh viên gửi trả lại phiếu hẹn hoặc thẻ tạm cho phòng CTHSSV (A.0003).' metadata={'doc_id': '573ca190-1b6d-11ef-a755-d38426455a06'}\n",
      "page_content='Sinh viên không nhất thiết phải học lại môn học tự chọn chưa đạt nếu đã tích lũy đủ số tín chỉ của nhóm.' metadata={'doc_id': '3369b8de-1b47-11ef-a755-d38426455a06'}\n",
      "page_content='Sinh viên tốt nghiệp ngành Kỹ thuật điện sau khi ra trường có thể làm việc ở những vị trí như:' metadata={'doc_id': 'ebe66e20-13cc-11ef-b548-0242ac1c000c'}\n",
      "page_content='Sinh viên nộp lại mẫu đơn cho bộ phận tiếp nhận.' metadata={'doc_id': '573ca191-1b6d-11ef-a755-d38426455a06'}\n"
     ]
    },
    {
     "data": {
      "application/vnd.jupyter.widget-view+json": {
       "model_id": "c094ba45d04c4ab894bf1cc5ca164614",
       "version_major": 2,
       "version_minor": 0
      },
      "text/plain": [
       "Filter:   0%|          | 0/344 [00:00<?, ? examples/s]"
      ]
     },
     "metadata": {},
     "output_type": "display_data"
    },
    {
     "name": "stdout",
     "output_type": "stream",
     "text": [
      "page_content='Sinh viên ở xa có thể gọi điện thoại để được cấp lại mật khẩu.' metadata={'doc_id': '573ca19a-1b6d-11ef-a755-d38426455a06'}\n",
      "page_content='Trong quá trình báo mất thẻ sinh viên hoặc đã làm thẻ tạm hoặc thẻ sinh viên, nếu sinh viên tìm được thẻ bị mất, sinh viên gửi trả lại phiếu hẹn hoặc thẻ tạm cho phòng CTHSSV (A.0003).' metadata={'doc_id': '573ca190-1b6d-11ef-a755-d38426455a06'}\n",
      "page_content='Sinh viên chọn mục Đăng ký chứng nhận' metadata={'doc_id': '573ca198-1b6d-11ef-a755-d38426455a06'}\n",
      "page_content='Thí sinh đã xác nhận nhập học trực tuyến nhưng không nộp Giấy chứng nhận kết quả thi THPT 2019 trong theo gian quy định ở mục 3 xem như thí sinh từ chối nhập học.' metadata={'doc_id': 'ebe6d39c-13cc-11ef-b548-0242ac1c000c'}\n",
      "page_content='Nếu sinh viên làm mất giấy nộp tiền tại ngân hàng, Phòng sẽ hướng dẫn sinh viên làm đơn xin cấp biên lai học phí.' metadata={'doc_id': '573ca175-1b6d-11ef-a755-d38426455a06'}\n",
      "page_content='Đơn xin hoãn thi cần đính kèm “giấy cớ mất” có xác nhận của Công an.' metadata={'doc_id': '573ca1c5-1b6d-11ef-a755-d38426455a06'}\n"
     ]
    },
    {
     "data": {
      "application/vnd.jupyter.widget-view+json": {
       "model_id": "a8dec2d5c79045e6adcfe87c4499e9f1",
       "version_major": 2,
       "version_minor": 0
      },
      "text/plain": [
       "Filter:   0%|          | 0/344 [00:00<?, ? examples/s]"
      ]
     },
     "metadata": {},
     "output_type": "display_data"
    },
    {
     "name": "stdout",
     "output_type": "stream",
     "text": [
      "page_content='Sinh viên được quyền lựa chọn hình thức thi' metadata={'doc_id': '573ca182-1b6d-11ef-a755-d38426455a06'}\n",
      "page_content='Bộ phận tiếp nhận sẽ báo lịch hẹn để sinh viên nhận lại sổ ưu đãi.' metadata={'doc_id': '573ca195-1b6d-11ef-a755-d38426455a06'}\n"
     ]
    },
    {
     "data": {
      "application/vnd.jupyter.widget-view+json": {
       "model_id": "6a89843efe264692b7ff4ec4deaa1385",
       "version_major": 2,
       "version_minor": 0
      },
      "text/plain": [
       "Filter:   0%|          | 0/344 [00:00<?, ? examples/s]"
      ]
     },
     "metadata": {},
     "output_type": "display_data"
    },
    {
     "name": "stdout",
     "output_type": "stream",
     "text": [
      "page_content='Sinh viên chọn mục Đăng ký chứng nhận' metadata={'doc_id': '573ca198-1b6d-11ef-a755-d38426455a06'}\n",
      "page_content='Sinh viên liên hệ Phòng Công tác Học sinh - Sinh viên (A.0003) để nộp sổ.' metadata={'doc_id': '573ca195-1b6d-11ef-a755-d38426455a06'}\n",
      "page_content='Sinh viên được xét chuyển trường nếu có các điều kiện sau:' metadata={'doc_id': '573ca1ff-1b6d-11ef-a755-d38426455a06'}\n",
      "page_content='Sinh viên được hưởng nhiều chính sách ưu đãi về học phí, ký túc xá tại cơ sở.' metadata={'doc_id': 'ebe7072c-13cc-11ef-b548-0242ac1c000c'}\n",
      "page_content='Sinh viên không được phép chuyển trường trong các trường hợp sau:' metadata={'doc_id': '573ca1ff-1b6d-11ef-a755-d38426455a06'}\n",
      "page_content='Em có thể xem danh sách môn tương đương thay thế ở đâu?' metadata={'doc_id': '573ca1f2-1b6d-11ef-a755-d38426455a06'}\n"
     ]
    },
    {
     "data": {
      "application/vnd.jupyter.widget-view+json": {
       "model_id": "ad42e184a76742c8ab9d13200f34e82a",
       "version_major": 2,
       "version_minor": 0
      },
      "text/plain": [
       "Filter:   0%|          | 0/344 [00:00<?, ? examples/s]"
      ]
     },
     "metadata": {},
     "output_type": "display_data"
    },
    {
     "name": "stdout",
     "output_type": "stream",
     "text": [
      "page_content='Sinh viên không nhất thiết phải học lại môn tự chọn chưa đạt nếu đã tích lũy đủ tín chỉ cần thiết.' metadata={'doc_id': '573ca1e9-1b6d-11ef-a755-d38426455a06'}\n",
      "page_content='Mỗi đợt thí sinh được đăng ký 02 nguyện vọng xét tuyển vào chương trình liên kết quốc tế;' metadata={'doc_id': 'ebe71a14-13cc-11ef-b548-0242ac1c000c'}\n"
     ]
    },
    {
     "data": {
      "application/vnd.jupyter.widget-view+json": {
       "model_id": "ef43e333d3dc443f87327ed49863ecf6",
       "version_major": 2,
       "version_minor": 0
      },
      "text/plain": [
       "Filter:   0%|          | 0/344 [00:00<?, ? examples/s]"
      ]
     },
     "metadata": {},
     "output_type": "display_data"
    },
    {
     "name": "stdout",
     "output_type": "stream",
     "text": [
      "page_content='Bộ phận tiếp nhận sẽ báo lịch hẹn để sinh viên nhận lại sổ ưu đãi.' metadata={'doc_id': '573ca195-1b6d-11ef-a755-d38426455a06'}\n",
      "page_content='Xác nhận sinh viên để hưởng chế độ ưu đãi cho con các gia đình có công với cách mạng' metadata={'doc_id': '573ca198-1b6d-11ef-a755-d38426455a06'}\n",
      "page_content='Sinh viên có thể đăng ký dự thi học phần Cơ sở tin học 2.' metadata={'doc_id': '573ca1c6-1b6d-11ef-a755-d38426455a06'}\n",
      "page_content='Sinh viên đã biết bơi và muốn chuyển sang môn GDTC 1 khác thay thế môn bơi.' metadata={'doc_id': '573ca1e0-1b6d-11ef-a755-d38426455a06'}\n",
      "page_content='- Trường Đại học Tôn Đức Thắng sẽ xác minh các hồ sơ minh chứng đối tượng ưu tiên, khu vực ưu tiên khi thí sinh làm thủ tục nhập học. Nếu kết quả xác minh hồ sơ minh chứng không đủ điều kiện để được hưởng chế độ ưu tiên tuyển sinh dẫn đến thay đổi kết quả trúng tuyển thì TDTU sẽ từ chối tiếp nhận thí sinh nhập học.' metadata={'doc_id': 'ebe8a3e8-13cc-11ef-b548-0242ac1c000c'}\n"
     ]
    },
    {
     "data": {
      "application/vnd.jupyter.widget-view+json": {
       "model_id": "b8c96f81a6d34a1182b611bb004f8315",
       "version_major": 2,
       "version_minor": 0
      },
      "text/plain": [
       "Filter:   0%|          | 0/344 [00:00<?, ? examples/s]"
      ]
     },
     "metadata": {},
     "output_type": "display_data"
    },
    {
     "name": "stdout",
     "output_type": "stream",
     "text": [
      "page_content='Ngoài ra, sinh viên được hướng dẫn tham gia kiến tập tại các công ty trong và ngoài nước để làm quen và tiếp cận với môi trường văn hoá doanh nghiệp, tạo cơ hội tìm kiếm cơ hội nghề nghiệp cho tương lai.' metadata={'doc_id': 'ebe5f2d8-13cc-11ef-b548-0242ac1c000c'}\n",
      "page_content='Xác nhận sinh viên để tạm hoãn nghĩa vụ quân sự' metadata={'doc_id': '573ca198-1b6d-11ef-a755-d38426455a06'}\n",
      "page_content='Sinh viên phải đảm bảo các yêu cầu về thời lượng tham gia các hoạt động ngoại khóa bổ trợ theo Quy định của Nhà trường.' metadata={'doc_id': '573ca180-1b6d-11ef-a755-d38426455a06'}\n"
     ]
    },
    {
     "data": {
      "application/vnd.jupyter.widget-view+json": {
       "model_id": "0255802626e44d55ba105d2d7c37444f",
       "version_major": 2,
       "version_minor": 0
      },
      "text/plain": [
       "Filter:   0%|          | 0/344 [00:00<?, ? examples/s]"
      ]
     },
     "metadata": {},
     "output_type": "display_data"
    },
    {
     "name": "stdout",
     "output_type": "stream",
     "text": [
      "page_content='Nếu em bổ sung hồ sơ hoãn nghĩa vụ quân sự, em chọn chứng nhận Nghĩa vụ quân sự -> Bổ sung hồ sơ địa phương' metadata={'doc_id': '573ca18f-1b6d-11ef-a755-d38426455a06'}\n",
      "page_content='Ở học kỳ cuối cùng của khóa học, sinh viên nên làm đơn đề nghị không tính điểm môn tự chọn không đạt nộp cho Văn phòng Tư vấn và Hỗ trợ để tránh ảnh hưởng đến điểm trung bình tích lũy khi xét tốt nghiệp.' metadata={'doc_id': '573ca1ba-1b6d-11ef-a755-d38426455a06'}\n"
     ]
    },
    {
     "data": {
      "application/vnd.jupyter.widget-view+json": {
       "model_id": "1ebedb3297d44f1f9b69c3430d8b1fa2",
       "version_major": 2,
       "version_minor": 0
      },
      "text/plain": [
       "Filter:   0%|          | 0/344 [00:00<?, ? examples/s]"
      ]
     },
     "metadata": {},
     "output_type": "display_data"
    },
    {
     "name": "stdout",
     "output_type": "stream",
     "text": [
      "page_content='Giấy chứng nhận đăng ký nghĩa vụ quân sự do Ban chỉ huy quân sự cấp huyện cấp và Giấy xác nhận đăng ký vắng mặt do Ban chỉ huy quân sự cấp xã nơi cư trú cấp (đối với nam trong độ tuổi nghĩa vụ quân sự): 01 bản photocopy' metadata={'doc_id': 'ebe592de-13cc-11ef-b548-0242ac1c000c'}\n",
      "page_content='Nếu em xác nhận sinh viên để làm thủ tục Vay vốn ngân hàng, em chọn chứng nhận Bổ sung hồ sơ cá nhân ->Vay vốn ngân hàng -> Gõ số chứng minh nhân dân, ngày cấp, chọn nơi cấp -> Chọn đối tượng' metadata={'doc_id': '573ca18f-1b6d-11ef-a755-d38426455a06'}\n",
      "page_content='Sinh viên tốt nghiệp ngành Kỹ thuật Điều khiển và Tự động hóa sau khi ra trường có thể làm việc ở những vị trí như sau:' metadata={'doc_id': 'ebe5a04e-13cc-11ef-b548-0242ac1c000c'}\n",
      "page_content='Sinh viên không nhất thiết phải học lại môn tự chọn chưa đạt nếu đã tích lũy đủ tín chỉ cần thiết.' metadata={'doc_id': '573ca1e9-1b6d-11ef-a755-d38426455a06'}\n",
      "page_content='Môn Năng lực tiếng Anh được phép mang vào phòng thi:' metadata={'doc_id': 'ebe89d3a-13cc-11ef-b548-0242ac1c000c'}\n",
      "page_content='Từ khóa 12 (khóa tuyển sinh năm 2008) đến Khóa 14, sinh viên rớt Anh văn 6 không nhất thiết phải đăng ký học Anh văn 6 trong trường.' metadata={'doc_id': '573ca199-1b6d-11ef-a755-d38426455a06'}\n"
     ]
    },
    {
     "data": {
      "application/vnd.jupyter.widget-view+json": {
       "model_id": "40f1a39e73db4f52abae2482abe33802",
       "version_major": 2,
       "version_minor": 0
      },
      "text/plain": [
       "Filter:   0%|          | 0/344 [00:00<?, ? examples/s]"
      ]
     },
     "metadata": {},
     "output_type": "display_data"
    },
    {
     "name": "stdout",
     "output_type": "stream",
     "text": [
      "page_content='Môn Vẽ Hình họa mỹ thuật được phép mang vào phòng thi:' metadata={'doc_id': 'ebe89d3a-13cc-11ef-b548-0242ac1c000c'}\n",
      "page_content='Nếu sinh viên rớt môn GDTC1- Thể dục, sinh viên có thể học thay thế bằng 1 trong 8 môn học sau:' metadata={'doc_id': '573ca1e1-1b6d-11ef-a755-d38426455a06'}\n"
     ]
    },
    {
     "data": {
      "application/vnd.jupyter.widget-view+json": {
       "model_id": "0c92e59029b24992b5e6a2a69ec437c9",
       "version_major": 2,
       "version_minor": 0
      },
      "text/plain": [
       "Filter:   0%|          | 0/344 [00:00<?, ? examples/s]"
      ]
     },
     "metadata": {},
     "output_type": "display_data"
    },
    {
     "name": "stdout",
     "output_type": "stream",
     "text": [
      "page_content='Vật dụng được phép mang vào phòng thi môn Năng lực tiếng Anh:' metadata={'doc_id': 'ebe8794a-13cc-11ef-b548-0242ac1c000c'}\n",
      "page_content='Ngoài ra, sinh viên tốt nghiệp ngành Ngôn ngữ Anh Chất lượng cao:' metadata={'doc_id': 'ebe5b412-13cc-11ef-b548-0242ac1c000c'}\n",
      "page_content='Em phải xin bảng điểm các môn em đã học ở trường cũ mà trong chương trình hiện tại của trường mới có.' metadata={'doc_id': '573ca1bd-1b6d-11ef-a755-d38426455a06'}\n",
      "page_content='Em phải đưa đề cương và bảng điểm các môn em đã học ở trường cũ mà trong chương trình hiện tại của trường mới có cho Tổ trưởng bộ môn xem xét.' metadata={'doc_id': '573ca1bd-1b6d-11ef-a755-d38426455a06'}\n",
      "page_content='Em phải đưa đề cương và bảng điểm các môn em đã học ở trường cũ mà trong chương trình hiện tại của trường mới có về Khoa.' metadata={'doc_id': '573ca1bd-1b6d-11ef-a755-d38426455a06'}\n",
      "page_content='Em phải đưa đề cương và bảng điểm các môn em đã học ở trường cũ mà trong chương trình hiện tại của trường mới có cho Trưởng Khoa xem xét.' metadata={'doc_id': '573ca1bd-1b6d-11ef-a755-d38426455a06'}\n",
      "page_content='Thí sinh sẽ nhận thư mời nhập học sau khi tập trung tại trường' metadata={'doc_id': 'ebe80b2c-13cc-11ef-b548-0242ac1c000c'}\n",
      "page_content='Thí sinh phải đạt ngưỡng đảm bảo chất lượng đầu vào của từng ngành như sau:' metadata={'doc_id': 'ebe8b28e-13cc-11ef-b548-0242ac1c000c'}\n"
     ]
    },
    {
     "data": {
      "application/vnd.jupyter.widget-view+json": {
       "model_id": "5ca41e3ea4144b91aeb4dab37e2bbc9c",
       "version_major": 2,
       "version_minor": 0
      },
      "text/plain": [
       "Filter:   0%|          | 0/344 [00:00<?, ? examples/s]"
      ]
     },
     "metadata": {},
     "output_type": "display_data"
    },
    {
     "name": "stdout",
     "output_type": "stream",
     "text": [
      "page_content='Em phải xin đề cương các môn em đã học ở trường cũ mà trong chương trình hiện tại của trường mới có.' metadata={'doc_id': '573ca1bd-1b6d-11ef-a755-d38426455a06'}\n",
      "page_content='Sinh viên ở xa cần cung cấp thông tin liên quan cho nhân viên tư vấn khi gọi điện thoại để được cấp lại mật khẩu.' metadata={'doc_id': '573ca19a-1b6d-11ef-a755-d38426455a06'}\n",
      "page_content='Sinh viên được quyền lựa chọn hình thức thi' metadata={'doc_id': '573ca182-1b6d-11ef-a755-d38426455a06'}\n",
      "page_content='Sinh viên còn trong thời hạn khóa học bị cảnh báo khi:' metadata={'doc_id': '573ca1f8-1b6d-11ef-a755-d38426455a06'}\n",
      "page_content='Sinh viên có thể liên hệ trực tiếp phòng Đại học (A0005) để được cấp lại mật khẩu.' metadata={'doc_id': '573ca19a-1b6d-11ef-a755-d38426455a06'}\n",
      "page_content='Sinh viên có thể liên hệ trực tiếp Văn phòng tư vấn và hỗ trợ (E0001) để được cấp lại mật khẩu.' metadata={'doc_id': '573ca19a-1b6d-11ef-a755-d38426455a06'}\n",
      "page_content='Khối lượng học tối thiểu mà sinh viên phải đăng ký trong mỗi học kỳ được thực hiện theo quy định sau:' metadata={'doc_id': '573ca1d7-1b6d-11ef-a755-d38426455a06'}\n",
      "page_content='Sinh viên ở xa có thể gọi điện thoại để được cấp lại mật khẩu.' metadata={'doc_id': '573ca19a-1b6d-11ef-a755-d38426455a06'}\n",
      "page_content='Sinh viên đăng ký giấy xác nhận sinh viên trên Cổng thông tin sinh viên' metadata={'doc_id': '573ca198-1b6d-11ef-a755-d38426455a06'}\n",
      "page_content='Trong trường hợp sinh viên chưa được cấp chứng chỉ Giáo dục Quốc phòng thì sinh viên có thể làm đơn xin hủy kết quả đăng ký môn học đối với các học phần Giáo dục Quốc phòng.' metadata={'doc_id': '573ca1bb-1b6d-11ef-a755-d38426455a06'}\n",
      "page_content='Được hỗ trợ một số linh kiện chuyên dụng trong quá trình làm Đồ án tốt nghiệp' metadata={'doc_id': 'ebe5b87c-13cc-11ef-b548-0242ac1c000c'}\n",
      "page_content='Ngoài ra, sinh viên tốt nghiệp ngành Ngôn ngữ Anh Chất lượng cao:' metadata={'doc_id': 'ebe5b412-13cc-11ef-b548-0242ac1c000c'}\n",
      "page_content='Sinh viên nộp hồ sơ về Trung tâm Quốc phòng An ninh để được xem xét.' metadata={'doc_id': '573ca1bb-1b6d-11ef-a755-d38426455a06'}\n",
      "page_content='Ứng dụng phân tích dữ liệu lớn trong quản lý, Khởi nghiệp, Quản trị sự thay đổi' metadata={'doc_id': 'ebe5bcb4-13cc-11ef-b548-0242ac1c000c'}\n",
      "page_content='Sinh viên nộp hồ sơ tại Văn phòng Tư vấn và Hỗ trợ người học (thời hạn: ngay khi được xếp lịch học môn Giáo dục Quốc phòng).' metadata={'doc_id': '573ca1bb-1b6d-11ef-a755-d38426455a06'}\n",
      "page_content='Tốt nghiệp ngành Ngôn ngữ Anh Chất lượng cao, sinh viên thường làm việc tại các vị trí như:' metadata={'doc_id': 'ebe5c524-13cc-11ef-b548-0242ac1c000c'}\n",
      "page_content='Sinh viên có các chứng chỉ giáo dục quốc phòng và chứng chỉ giáo dục thể chất.' metadata={'doc_id': '573ca1b1-1b6d-11ef-a755-d38426455a06'}\n"
     ]
    },
    {
     "data": {
      "application/vnd.jupyter.widget-view+json": {
       "model_id": "bb749f8bee3044df979bd9a28252d80f",
       "version_major": 2,
       "version_minor": 0
      },
      "text/plain": [
       "Filter:   0%|          | 0/344 [00:00<?, ? examples/s]"
      ]
     },
     "metadata": {},
     "output_type": "display_data"
    },
    {
     "name": "stdout",
     "output_type": "stream",
     "text": [
      "page_content='Sinh viên đang trong thời gian nghỉ học tạm thời không thuộc đối tượng được hỗ trợ chỗ ở nội trú tại KTX.' metadata={'doc_id': '573ca19e-1b6d-11ef-a755-d38426455a06'}\n"
     ]
    },
    {
     "data": {
      "application/vnd.jupyter.widget-view+json": {
       "model_id": "bfd05a71e8d8412cb2ffb6914db5949b",
       "version_major": 2,
       "version_minor": 0
      },
      "text/plain": [
       "Filter:   0%|          | 0/344 [00:00<?, ? examples/s]"
      ]
     },
     "metadata": {},
     "output_type": "display_data"
    },
    {
     "name": "stdout",
     "output_type": "stream",
     "text": [
      "page_content='Sinh viên nội trú sẽ nhận diện được viên chức KTX đi kiểm tra thông qua bảng tên.' metadata={'doc_id': '573ca1a3-1b6d-11ef-a755-d38426455a06'}\n",
      "page_content='Sinh viên vì lý do cá nhân khác nhưng phải học tối thiểu 01 học kỳ ở Trường, không thuộc các trường hợp bị xem xét buộc thôi học hoặc xem xét kỷ luật, phải đạt điểm trung bình chung tích lũy không dưới 5,00 thì được nghỉ học tạm thời.' metadata={'doc_id': '3369b8d9-1b47-11ef-a755-d38426455a06'}\n"
     ]
    },
    {
     "data": {
      "application/vnd.jupyter.widget-view+json": {
       "model_id": "3c83d451c3fc4600818089dadee44eae",
       "version_major": 2,
       "version_minor": 0
      },
      "text/plain": [
       "Filter:   0%|          | 0/344 [00:00<?, ? examples/s]"
      ]
     },
     "metadata": {},
     "output_type": "display_data"
    },
    {
     "name": "stdout",
     "output_type": "stream",
     "text": [
      "page_content='Sinh viên có hộ khẩu thường trú tại tất cả các tỉnh thành đều có thể đăng ký KTX.' metadata={'doc_id': '573ca19f-1b6d-11ef-a755-d38426455a06'}\n"
     ]
    },
    {
     "data": {
      "application/vnd.jupyter.widget-view+json": {
       "model_id": "d20fbd584caa408dbe846e41e435a2dd",
       "version_major": 2,
       "version_minor": 0
      },
      "text/plain": [
       "Filter:   0%|          | 0/344 [00:00<?, ? examples/s]"
      ]
     },
     "metadata": {},
     "output_type": "display_data"
    },
    {
     "name": "stdout",
     "output_type": "stream",
     "text": [
      "page_content='Điều kiện tái ký hợp đồng: Trong quá trình sinh hoạt tại KTX sinh viên không vi phạm quá số lỗi quy định và không vi phạm nội quy Nhà trường.' metadata={'doc_id': '573ca19f-1b6d-11ef-a755-d38426455a06'}\n",
      "page_content='Sinh viên không được tàng trữ và sử dụng các dụng cụ đun, nấu, dễ gây cháy nổ trong KTX.' metadata={'doc_id': '573ca1a6-1b6d-11ef-a755-d38426455a06'}\n",
      "page_content='Sinh viên bị ốm, thai sản hoặc tai nạn phải điều trị thời gian dài có chứng nhận của cơ sở khám bệnh, chữa bệnh có thẩm quyền theo quy định của Bộ Y tế thì được nghỉ học tạm thời.' metadata={'doc_id': '3369b8d9-1b47-11ef-a755-d38426455a06'}\n",
      "page_content='Sinh viên chỉ được xét tốt nghiệp chương trình thứ hai, nếu có đủ điều kiện tốt nghiệp ở chương trình thứ nhất.' metadata={'doc_id': '573ca1ed-1b6d-11ef-a755-d38426455a06'}\n",
      "page_content='Môn học tiên quyết của môn học 2 là môn học mà sinh viên phải đạt yêu cầu mới được học môn học 2.' metadata={'doc_id': '573ca201-1b6d-11ef-a755-d38426455a06'}\n"
     ]
    },
    {
     "data": {
      "application/vnd.jupyter.widget-view+json": {
       "model_id": "4b746678a9294a3ea10240be29c5e7d0",
       "version_major": 2,
       "version_minor": 0
      },
      "text/plain": [
       "Filter:   0%|          | 0/344 [00:00<?, ? examples/s]"
      ]
     },
     "metadata": {},
     "output_type": "display_data"
    },
    {
     "name": "stdout",
     "output_type": "stream",
     "text": [
      "page_content='Sinh viên được tạo điều kiện để tham gia các chuyến đi khảo sát thực địa tại nhiều địa phương.' metadata={'doc_id': 'ebe69c4c-13cc-11ef-b548-0242ac1c000c'}\n"
     ]
    },
    {
     "data": {
      "application/vnd.jupyter.widget-view+json": {
       "model_id": "5ccfd861a2a54fb4a3476524f84efe03",
       "version_major": 2,
       "version_minor": 0
      },
      "text/plain": [
       "Filter:   0%|          | 0/344 [00:00<?, ? examples/s]"
      ]
     },
     "metadata": {},
     "output_type": "display_data"
    },
    {
     "name": "stdout",
     "output_type": "stream",
     "text": [
      "page_content='Sinh viên không ở Ký túc xá (KTX) sẽ nhận thẻ ở văn phòng Khoa.' metadata={'doc_id': '573ca204-1b6d-11ef-a755-d38426455a06'}\n",
      "page_content='Sinh viên được điều động vào lực lượng vũ trang được nghỉ học tạm thời và bảo lưu kết quả đã học.' metadata={'doc_id': '3369b8d9-1b47-11ef-a755-d38426455a06'}\n",
      "page_content='Để được xét tốt nghiệp, sinh viên phải tích lũy và đạt được các yêu cầu theo chuẩn kiến thức, kỹ năng quy định trong chương trình đào tạo và phải đạt các chuẩn đầu ra.' metadata={'doc_id': 'ebe63d10-13cc-11ef-b548-0242ac1c000c'}\n"
     ]
    },
    {
     "data": {
      "application/vnd.jupyter.widget-view+json": {
       "model_id": "334ed8c13b244749a2ccfcf267034b1f",
       "version_major": 2,
       "version_minor": 0
      },
      "text/plain": [
       "Filter:   0%|          | 0/344 [00:00<?, ? examples/s]"
      ]
     },
     "metadata": {},
     "output_type": "display_data"
    },
    {
     "name": "stdout",
     "output_type": "stream",
     "text": [
      "page_content='Để được xét tốt nghiệp, sinh viên phải tích lũy và đạt được các yêu cầu theo chuẩn kiến thức, kỹ năng quy định trong chương trình đào tạo và phải đạt các chuẩn đầu ra:' metadata={'doc_id': 'ebe65174-13cc-11ef-b548-0242ac1c000c'}\n",
      "page_content='Điểm không nhân hệ số, đã bao gồm điểm ưu tiên khu vực và ưu tiên đối tượng' metadata={'doc_id': 'ebe71618-13cc-11ef-b548-0242ac1c000c'}\n",
      "page_content='Nếu sinh viên được tái ký hợp đồng gia hạn ở trong năm học tiếp theo thì số lỗi ở năm học trước sẽ không tính nữa.' metadata={'doc_id': '573ca1a5-1b6d-11ef-a755-d38426455a06'}\n",
      "page_content='Sinh viên không ở Ký túc xá (KTX) sẽ nhận thẻ ở văn phòng Khoa.' metadata={'doc_id': '573ca204-1b6d-11ef-a755-d38426455a06'}\n",
      "page_content='Chương trình học được xây dựng có tính ứng dụng cao;' metadata={'doc_id': 'ebe5a04e-13cc-11ef-b548-0242ac1c000c'}\n",
      "page_content='Tệ nạn tham nhũng là những hiện tượng xã hội cần nghiên cứu để tìm ra giải pháp.' metadata={'doc_id': 'ebe69c4c-13cc-11ef-b548-0242ac1c000c'}\n",
      "page_content='Ký túc xá (KTX) chỉ hỗ trợ chỗ ở nội trú cho sinh viên đang học tại trường.' metadata={'doc_id': '573ca19e-1b6d-11ef-a755-d38426455a06'}\n",
      "page_content='Các vị trí người học sau khi tốt nghiệp có thể đảm nhận trong và ngoài nước:' metadata={'doc_id': 'ebe68194-13cc-11ef-b548-0242ac1c000c'}\n",
      "page_content='Ký túc xá hỗ trợ cho phụ huynh lên thăm chỗ ăn ở sinh hoạt của sinh viên.' metadata={'doc_id': '573ca1ad-1b6d-11ef-a755-d38426455a06'}\n"
     ]
    },
    {
     "data": {
      "application/vnd.jupyter.widget-view+json": {
       "model_id": "220eaddedfad49ffa5b8e4f4d2694f88",
       "version_major": 2,
       "version_minor": 0
      },
      "text/plain": [
       "Filter:   0%|          | 0/344 [00:00<?, ? examples/s]"
      ]
     },
     "metadata": {},
     "output_type": "display_data"
    },
    {
     "name": "stdout",
     "output_type": "stream",
     "text": [
      "page_content='Sinh viên không ở Ký túc xá (KTX) sẽ nhận thẻ ở văn phòng Khoa.' metadata={'doc_id': '573ca204-1b6d-11ef-a755-d38426455a06'}\n",
      "page_content='Sinh viên chọn mục Đăng ký chứng nhận' metadata={'doc_id': '573ca198-1b6d-11ef-a755-d38426455a06'}\n",
      "page_content='Xác nhận sinh viên phục vụ những mục đích khác' metadata={'doc_id': '573ca198-1b6d-11ef-a755-d38426455a06'}\n",
      "page_content='Ký túc xá (KTX) chỉ hỗ trợ chỗ ở nội trú cho sinh viên đang học tại trường.' metadata={'doc_id': '573ca19e-1b6d-11ef-a755-d38426455a06'}\n",
      "page_content='Sinh viên được quyền lựa chọn hình thức thi' metadata={'doc_id': '573ca182-1b6d-11ef-a755-d38426455a06'}\n",
      "page_content='Ký túc xá hỗ trợ cho phụ huynh lên thăm chỗ ăn ở sinh hoạt của sinh viên.' metadata={'doc_id': '573ca1ad-1b6d-11ef-a755-d38426455a06'}\n",
      "page_content='Sinh viên được hưởng nhiều chính sách ưu đãi về học phí, ký túc xá tại cơ sở.' metadata={'doc_id': 'ebe7072c-13cc-11ef-b548-0242ac1c000c'}\n",
      "page_content='Để xét miễn, sinh viên cần thực hiện các thủ tục sau:' metadata={'doc_id': '573ca184-1b6d-11ef-a755-d38426455a06'}\n",
      "page_content='Sinh viên có thể đăng ký vào bất kỳ học kỳ nào mà môn học có mở lớp.' metadata={'doc_id': '573ca1eb-1b6d-11ef-a755-d38426455a06'}\n",
      "page_content='Sinh viên vẫn có thể đăng ký những môn học khác để bù vào thời biểu còn trống.' metadata={'doc_id': '573ca1dd-1b6d-11ef-a755-d38426455a06'}\n"
     ]
    },
    {
     "data": {
      "application/vnd.jupyter.widget-view+json": {
       "model_id": "91f6016040974eaf8e922f75798aee30",
       "version_major": 2,
       "version_minor": 0
      },
      "text/plain": [
       "Filter:   0%|          | 0/344 [00:00<?, ? examples/s]"
      ]
     },
     "metadata": {},
     "output_type": "display_data"
    },
    {
     "name": "stdout",
     "output_type": "stream",
     "text": [
      "page_content='Khi đăng kí học bổ sung, sinh viên phải theo dõi và đóng học phí đầy đủ các môn học đã đăng ký thành công.' metadata={'doc_id': '573ca1cc-1b6d-11ef-a755-d38426455a06'}\n"
     ]
    },
    {
     "data": {
      "application/vnd.jupyter.widget-view+json": {
       "model_id": "28bc1e5cc14d442887c6a7d57a35f3ba",
       "version_major": 2,
       "version_minor": 0
      },
      "text/plain": [
       "Filter:   0%|          | 0/344 [00:00<?, ? examples/s]"
      ]
     },
     "metadata": {},
     "output_type": "display_data"
    },
    {
     "name": "stdout",
     "output_type": "stream",
     "text": [
      "page_content='Thí sinh đăng kí dự thi năng khiếu Vẽ Hình họa mỹ thuật, Vẽ trang trí màu đợt 1, đợt 2 đăng nhập vào trang https://thinangkhieu.tdtu.edu.vn bằng tài khoản đã được cấp lúc đăng ký dự thi.' metadata={'doc_id': 'ebe8556e-13cc-11ef-b548-0242ac1c000c'}\n"
     ]
    },
    {
     "data": {
      "application/vnd.jupyter.widget-view+json": {
       "model_id": "54d84aa27b1b48178a3a71d57519becd",
       "version_major": 2,
       "version_minor": 0
      },
      "text/plain": [
       "Filter:   0%|          | 0/344 [00:00<?, ? examples/s]"
      ]
     },
     "metadata": {},
     "output_type": "display_data"
    },
    {
     "name": "stdout",
     "output_type": "stream",
     "text": [
      "page_content='Sinh viên có quyền chọn đăng ký học lại chính môn học tự chọn không đạt hoặc lựa chọn học các môn tự chọn khác cùng nhóm để đảm bảo tích lũy đủ số tín chỉ.' metadata={'doc_id': '573ca1ba-1b6d-11ef-a755-d38426455a06'}\n",
      "page_content='Sinh viên chỉ được xét tốt nghiệp chương trình thứ hai, nếu có đủ điều kiện tốt nghiệp ở chương trình thứ nhất và đã đăng kí học chương trình thứ hai từ 02 năm trở lên cho đến thời điểm xét tốt nghiệp chương trình thứ hai.' metadata={'doc_id': '573ca1fc-1b6d-11ef-a755-d38426455a06'}\n"
     ]
    },
    {
     "data": {
      "application/vnd.jupyter.widget-view+json": {
       "model_id": "0ea28692dd5e4eecb2e0eccc719e2546",
       "version_major": 2,
       "version_minor": 0
      },
      "text/plain": [
       "Filter:   0%|          | 0/344 [00:00<?, ? examples/s]"
      ]
     },
     "metadata": {},
     "output_type": "display_data"
    },
    {
     "name": "stdout",
     "output_type": "stream",
     "text": [
      "page_content='Đối với trường hợp sinh viên đang ở nội trú có nhu cầu tiếp tục ở HK hè, KTX sẽ thông báo thời gian đăng ký ở HK hè cho sinh viên đăng ký.' metadata={'doc_id': '573ca1a1-1b6d-11ef-a755-d38426455a06'}\n"
     ]
    },
    {
     "data": {
      "application/vnd.jupyter.widget-view+json": {
       "model_id": "5f6f9701595d4c5d9867ffb455ee3457",
       "version_major": 2,
       "version_minor": 0
      },
      "text/plain": [
       "Filter:   0%|          | 0/344 [00:00<?, ? examples/s]"
      ]
     },
     "metadata": {},
     "output_type": "display_data"
    },
    {
     "name": "stdout",
     "output_type": "stream",
     "text": [
      "page_content='Sinh viên tốt nghiệp ngành Kỹ thuật Điều khiển và Tự động hóa sau khi ra trường có thể làm việc ở những vị trí như sau:' metadata={'doc_id': 'ebe5a04e-13cc-11ef-b548-0242ac1c000c'}\n",
      "page_content='Khi viên chức nam đi kiểm tra sẽ có 1 sinh viên tự quản nữ, hoặc sinh viên liên chi hội nữ đi cùng.' metadata={'doc_id': '573ca1a3-1b6d-11ef-a755-d38426455a06'}\n",
      "page_content='Sinh viên nội trú (SVNT) quên mang thẻ sinh viên thì có thể dùng chứng minh nhân dân (CMND) cùng với biên lai thu phí (bằng giấy hoặc hình ảnh) để ra vào ký túc xá (KTX) tạm thời.' metadata={'doc_id': '573ca1a9-1b6d-11ef-a755-d38426455a06'}\n",
      "page_content='Khối lượng học tập tối đa mà sinh viên có thể đăng ký trong mỗi học kỳ được thực hiện theo quy định sau:' metadata={'doc_id': '573ca1d7-1b6d-11ef-a755-d38426455a06'}\n",
      "page_content='Ký túc xá (KTX) chỉ hỗ trợ chỗ ở nội trú cho sinh viên đang học tại trường.' metadata={'doc_id': '573ca19e-1b6d-11ef-a755-d38426455a06'}\n",
      "page_content='Nếu kết quả học tập không đúng với dữ liệu tuyển sinh trong hồ sơ xét tuyển của thí sinh đã khai báo trên hệ thống xét tuyển, thí sinh sẽ bị hủy kết quả trúng tuyển' metadata={'doc_id': 'ebe7ce64-13cc-11ef-b548-0242ac1c000c'}\n",
      "page_content='Sinh viên được hưởng nhiều chính sách ưu đãi về học phí, ký túc xá tại cơ sở.' metadata={'doc_id': 'ebe7072c-13cc-11ef-b548-0242ac1c000c'}\n",
      "page_content='Thời gian tối đa được phép học đối với sinh viên học cùng lúc hai chương trình là thời gian tối đa quy định cho chương trình thứ nhất.' metadata={'doc_id': '573ca1fa-1b6d-11ef-a755-d38426455a06'}\n"
     ]
    },
    {
     "data": {
      "application/vnd.jupyter.widget-view+json": {
       "model_id": "d53e48bcce9f46c4a69d0b868920b7ec",
       "version_major": 2,
       "version_minor": 0
      },
      "text/plain": [
       "Filter:   0%|          | 0/344 [00:00<?, ? examples/s]"
      ]
     },
     "metadata": {},
     "output_type": "display_data"
    },
    {
     "name": "stdout",
     "output_type": "stream",
     "text": [
      "page_content='Sinh viên không ở Ký túc xá (KTX) sẽ nhận thẻ ở văn phòng Khoa.' metadata={'doc_id': '573ca204-1b6d-11ef-a755-d38426455a06'}\n",
      "page_content='Thời gian nộp hồ sơ và tổ chức thi' metadata={'doc_id': 'ebe858ca-13cc-11ef-b548-0242ac1c000c'}\n",
      "page_content='Thời gian đăng ký nộp hồ sơ và tổ chức thi:' metadata={'doc_id': 'ebe4d1fa-13cc-11ef-b548-0242ac1c000c'}\n"
     ]
    },
    {
     "data": {
      "application/vnd.jupyter.widget-view+json": {
       "model_id": "5187c44c7d83427bade395b7d3e684fd",
       "version_major": 2,
       "version_minor": 0
      },
      "text/plain": [
       "Filter:   0%|          | 0/344 [00:00<?, ? examples/s]"
      ]
     },
     "metadata": {},
     "output_type": "display_data"
    },
    {
     "name": "stdout",
     "output_type": "stream",
     "text": [
      "page_content='Thời gian làm thủ tục nhập học' metadata={'doc_id': 'ebe70b32-13cc-11ef-b548-0242ac1c000c'}\n"
     ]
    },
    {
     "data": {
      "application/vnd.jupyter.widget-view+json": {
       "model_id": "111aec391c3541b3ac1e7c848fcc4939",
       "version_major": 2,
       "version_minor": 0
      },
      "text/plain": [
       "Filter:   0%|          | 0/344 [00:00<?, ? examples/s]"
      ]
     },
     "metadata": {},
     "output_type": "display_data"
    },
    {
     "name": "stdout",
     "output_type": "stream",
     "text": [
      "page_content='Trong thời gian bị xếp hạng học lực yếu:' metadata={'doc_id': '573ca1d7-1b6d-11ef-a755-d38426455a06'}\n",
      "page_content='Ký túc xá (KTX) chỉ hỗ trợ chỗ ở nội trú cho sinh viên đang học tại trường.' metadata={'doc_id': '573ca19e-1b6d-11ef-a755-d38426455a06'}\n",
      "page_content='Nếu sinh viên được tái ký hợp đồng gia hạn ở trong năm học tiếp theo thì số lỗi ở năm học trước sẽ không tính nữa.' metadata={'doc_id': '573ca1a5-1b6d-11ef-a755-d38426455a06'}\n",
      "page_content='- Sinh viên đã kết thúc học kỳ thứ nhất năm học đầu tiên của chương trình thứ nhất;' metadata={'doc_id': '573ca1ed-1b6d-11ef-a755-d38426455a06'}\n",
      "page_content='Sinh viên không được phép chuyển trường nếu là sinh viên năm thứ nhất và năm cuối khóa.' metadata={'doc_id': '573ca1ff-1b6d-11ef-a755-d38426455a06'}\n",
      "page_content='Thời gian ghi nhận và tính lỗi vi phạm trong quá trình sinh hoạt tại KTX chỉ tính trong một năm học.' metadata={'doc_id': '573ca1a5-1b6d-11ef-a755-d38426455a06'}\n",
      "page_content='Nội quy KTX quy định sinh viên vi phạm từ 04 lỗi trở lên sẽ không được tái ký hợp đồng cho năm học tiếp theo.' metadata={'doc_id': '573ca1a0-1b6d-11ef-a755-d38426455a06'}\n"
     ]
    },
    {
     "data": {
      "application/vnd.jupyter.widget-view+json": {
       "model_id": "7cc70afc820a4237b659d95e1f3d2a12",
       "version_major": 2,
       "version_minor": 0
      },
      "text/plain": [
       "Filter:   0%|          | 0/344 [00:00<?, ? examples/s]"
      ]
     },
     "metadata": {},
     "output_type": "display_data"
    },
    {
     "name": "stdout",
     "output_type": "stream",
     "text": [
      "page_content='Sinh viên đăng ký giấy xác nhận sinh viên trên Cổng thông tin sinh viên' metadata={'doc_id': '573ca198-1b6d-11ef-a755-d38426455a06'}\n",
      "page_content='Sinh viên không ở Ký túc xá (KTX) sẽ nhận thẻ ở văn phòng Khoa.' metadata={'doc_id': '573ca204-1b6d-11ef-a755-d38426455a06'}\n",
      "page_content='Sinh viên được tái ký hợp đồng vào năm học tiếp theo.' metadata={'doc_id': '573ca19f-1b6d-11ef-a755-d38426455a06'}\n",
      "page_content='Sinh viên không ở Ký túc xá (KTX) sẽ nhận thẻ ở văn phòng Khoa.' metadata={'doc_id': '573ca204-1b6d-11ef-a755-d38426455a06'}\n",
      "page_content='Sinh viên được xét chuyển trường nếu có các điều kiện sau:' metadata={'doc_id': '573ca1ff-1b6d-11ef-a755-d38426455a06'}\n",
      "page_content='Sinh viên đăng ký giấy xác nhận sinh viên trên Cổng thông tin sinh viên' metadata={'doc_id': '573ca198-1b6d-11ef-a755-d38426455a06'}\n",
      "page_content='Sinh viên ngành Bảo hộ lao động được cung cấp những kiến thức cơ bản và chuyên sâu về các lĩnh vực có liên quan đến hoạt động trong doanh nghiệp như kỹ thuật điện, hóa chất, cơ khí, phòng cháy chữa cháy, máy móc thiết bị sản xuất, tâm sinh lý của người lao động, bệnh nghề nghiệp, tiêu chuẩn chất lượng an toàn môi trường trong và ngoài nước.' metadata={'doc_id': 'ebe5cd6c-13cc-11ef-b548-0242ac1c000c'}\n"
     ]
    },
    {
     "data": {
      "application/vnd.jupyter.widget-view+json": {
       "model_id": "1c8e9b3c2ce34b1886a71e1aa95c8f2e",
       "version_major": 2,
       "version_minor": 0
      },
      "text/plain": [
       "Filter:   0%|          | 0/344 [00:00<?, ? examples/s]"
      ]
     },
     "metadata": {},
     "output_type": "display_data"
    },
    {
     "name": "stdout",
     "output_type": "stream",
     "text": [
      "page_content='Tại hành lang mỗi dãy lầu đều có trang bị bình chữa cháy mini.' metadata={'doc_id': '573ca1a6-1b6d-11ef-a755-d38426455a06'}\n",
      "page_content='Xác nhận sinh viên phục vụ những mục đích khác' metadata={'doc_id': '573ca198-1b6d-11ef-a755-d38426455a06'}\n",
      "page_content='Sinh viên chọn mục Đăng ký chứng nhận' metadata={'doc_id': '573ca198-1b6d-11ef-a755-d38426455a06'}\n",
      "page_content='Sinh viên không được tàng trữ và sử dụng các dụng cụ đun, nấu, dễ gây cháy nổ trong KTX.' metadata={'doc_id': '573ca1a6-1b6d-11ef-a755-d38426455a06'}\n",
      "page_content='Khi sinh viên theo học chương trình chất lượng cao, bên cạnh những tiêu chuẩn mà sinh viên trường Đại học Tôn Đức Thắng nhận được, một số đặc trưng của sinh viên chương trình chất lượng cao được Nhà trường tổ chức và đào tạo như sau:' metadata={'doc_id': 'ebe78594-13cc-11ef-b548-0242ac1c000c'}\n"
     ]
    },
    {
     "data": {
      "application/vnd.jupyter.widget-view+json": {
       "model_id": "5233126349814cebab87bfa34b4b8c21",
       "version_major": 2,
       "version_minor": 0
      },
      "text/plain": [
       "Filter:   0%|          | 0/344 [00:00<?, ? examples/s]"
      ]
     },
     "metadata": {},
     "output_type": "display_data"
    },
    {
     "name": "stdout",
     "output_type": "stream",
     "text": [
      "page_content='KTX quy định sinh viên nội trú phải tham gia ít nhất 01 câu lạc bộ TDTT.' metadata={'doc_id': '573ca1a7-1b6d-11ef-a755-d38426455a06'}\n"
     ]
    },
    {
     "data": {
      "application/vnd.jupyter.widget-view+json": {
       "model_id": "b7795ca6a941420ea1277ad02e24271d",
       "version_major": 2,
       "version_minor": 0
      },
      "text/plain": [
       "Filter:   0%|          | 0/344 [00:00<?, ? examples/s]"
      ]
     },
     "metadata": {},
     "output_type": "display_data"
    },
    {
     "name": "stdout",
     "output_type": "stream",
     "text": [
      "page_content='Sinh viên có thể nộp đơn đề nghị không tính điểm trung bình chung tích lũy khi xét tốt nghiệp đối với môn học tự chọn mà sinh viên tích lũy vượt số tín chỉ so với yêu cầu của chương trình đào tạo.' metadata={'doc_id': '3369b8de-1b47-11ef-a755-d38426455a06'}\n",
      "page_content='Sinh viên được ưu tiên tham gia tất cả các câu lạc bộ ngoại khóa của khoa/trường.' metadata={'doc_id': 'ebe45bee-13cc-11ef-b548-0242ac1c000c'}\n",
      "page_content='Khối lượng học tối đa mà sinh viên có thể đăng ký trong mỗi học kỳ được thực hiện theo quy định sau:' metadata={'doc_id': '573ca1d7-1b6d-11ef-a755-d38426455a06'}\n",
      "page_content='Các câu lạc bộ học thuật do các Khoa- ngành tổ chức không được tính vào quy định này.' metadata={'doc_id': '573ca1a7-1b6d-11ef-a755-d38426455a06'}\n",
      "page_content='Khi sinh viên theo học chương trình đào tạo hệ đại học chính quy, chương trình chất lượng cao, bên cạnh những tiêu chuẩn mà sinh viên trường Đại học Tôn Đức Thắng nhận được, một số đặc trưng của sinh viên chương trình chất lượng cao được Nhà trường tổ chức và đào tạo như sau:' metadata={'doc_id': 'ebe702b8-13cc-11ef-b548-0242ac1c000c'}\n",
      "page_content='Sinh viên theo học chương trình Kế toán - F7340301 có cơ hội tham gia các câu lạc bộ, sân chơi học thuật và tăng cường các kỹ năng mềm.' metadata={'doc_id': 'ebe66a06-13cc-11ef-b548-0242ac1c000c'}\n"
     ]
    },
    {
     "data": {
      "application/vnd.jupyter.widget-view+json": {
       "model_id": "009e98deea6449d2a6ea10b4f3ae28b0",
       "version_major": 2,
       "version_minor": 0
      },
      "text/plain": [
       "Filter:   0%|          | 0/344 [00:00<?, ? examples/s]"
      ]
     },
     "metadata": {},
     "output_type": "display_data"
    },
    {
     "name": "stdout",
     "output_type": "stream",
     "text": [
      "page_content='Sinh viên nội trú sẽ nhận diện được viên chức KTX đi kiểm tra thông qua bảng tên.' metadata={'doc_id': '573ca1a3-1b6d-11ef-a755-d38426455a06'}\n",
      "page_content='Sau thời hạn 01 năm, nếu sinh viên chưa đăng ký dự thi lại thì điểm H sẽ được chuyển thành điểm 0.' metadata={'doc_id': '573ca1bf-1b6d-11ef-a755-d38426455a06'}\n"
     ]
    },
    {
     "data": {
      "application/vnd.jupyter.widget-view+json": {
       "model_id": "18fb854f2ccf40cebaf82403885c1d9a",
       "version_major": 2,
       "version_minor": 0
      },
      "text/plain": [
       "Filter:   0%|          | 0/344 [00:00<?, ? examples/s]"
      ]
     },
     "metadata": {},
     "output_type": "display_data"
    },
    {
     "name": "stdout",
     "output_type": "stream",
     "text": [
      "page_content='Điều kiện tái ký hợp đồng: Trong quá trình sinh hoạt tại KTX sinh viên không vi phạm quá số lỗi quy định và không vi phạm nội quy Nhà trường.' metadata={'doc_id': '573ca19f-1b6d-11ef-a755-d38426455a06'}\n",
      "page_content='Sinh viên đang trong thời gian nghỉ học tạm thời không thuộc đối tượng được hỗ trợ chỗ ở nội trú tại KTX.' metadata={'doc_id': '573ca19e-1b6d-11ef-a755-d38426455a06'}\n",
      "page_content='Nội quy KTX quy định sinh viên vi phạm từ 04 lỗi trở lên sẽ không được tái ký hợp đồng cho năm học tiếp theo.' metadata={'doc_id': '573ca1a0-1b6d-11ef-a755-d38426455a06'}\n",
      "page_content='Sinh viên có hộ khẩu thường trú tại tất cả các tỉnh thành đều có thể đăng ký KTX.' metadata={'doc_id': '573ca19f-1b6d-11ef-a755-d38426455a06'}\n",
      "page_content='Đối với trường hợp sinh viên đang ở nội trú có nhu cầu tiếp tục ở HK hè, KTX sẽ thông báo thời gian đăng ký ở HK hè cho sinh viên đăng ký.' metadata={'doc_id': '573ca1a1-1b6d-11ef-a755-d38426455a06'}\n",
      "page_content='Sinh viên không ở Ký túc xá (KTX) sẽ nhận thẻ ở văn phòng Khoa.' metadata={'doc_id': '573ca204-1b6d-11ef-a755-d38426455a06'}\n",
      "page_content='Thí sinh sẽ nhận thư mời nhập học sau khi tập trung tại trường' metadata={'doc_id': 'ebe80b2c-13cc-11ef-b548-0242ac1c000c'}\n",
      "page_content='Em có thể trả nợ bằng môn tương đương, thay thế.' metadata={'doc_id': '573ca1f2-1b6d-11ef-a755-d38426455a06'}\n",
      "page_content='Sinh viên nội trú (SVNT) quên mang thẻ sinh viên thì có thể dùng chứng minh nhân dân (CMND) cùng với biên lai thu phí (bằng giấy hoặc hình ảnh) để ra vào ký túc xá (KTX) tạm thời.' metadata={'doc_id': '573ca1a9-1b6d-11ef-a755-d38426455a06'}\n",
      "page_content='Em thi không đạt nên em không cần học lại.' metadata={'doc_id': '573ca1d6-1b6d-11ef-a755-d38426455a06'}\n"
     ]
    },
    {
     "data": {
      "application/vnd.jupyter.widget-view+json": {
       "model_id": "414f43e8ac7a469aaab7d556f6e008b6",
       "version_major": 2,
       "version_minor": 0
      },
      "text/plain": [
       "Filter:   0%|          | 0/344 [00:00<?, ? examples/s]"
      ]
     },
     "metadata": {},
     "output_type": "display_data"
    },
    {
     "name": "stdout",
     "output_type": "stream",
     "text": [
      "page_content='Sinh viên được hưởng nhiều chính sách ưu đãi về học phí, ký túc xá tại cơ sở.' metadata={'doc_id': 'ebe7072c-13cc-11ef-b548-0242ac1c000c'}\n",
      "page_content='Điểm không nhân hệ số, đã bao gồm điểm ưu tiên khu vực và ưu tiên đối tượng' metadata={'doc_id': 'ebe71618-13cc-11ef-b548-0242ac1c000c'}\n",
      "page_content='Ký túc xá (KTX) chỉ hỗ trợ chỗ ở nội trú cho sinh viên đang học tại trường.' metadata={'doc_id': '573ca19e-1b6d-11ef-a755-d38426455a06'}\n",
      "page_content='Sinh viên không ở Ký túc xá (KTX) sẽ nhận thẻ ở văn phòng Khoa.' metadata={'doc_id': '573ca204-1b6d-11ef-a755-d38426455a06'}\n",
      "page_content='Sinh viên chọn mục Đăng ký chứng nhận' metadata={'doc_id': '573ca198-1b6d-11ef-a755-d38426455a06'}\n",
      "page_content='Nếu sinh viên được tái ký hợp đồng gia hạn ở trong năm học tiếp theo thì số lỗi ở năm học trước sẽ không tính nữa.' metadata={'doc_id': '573ca1a5-1b6d-11ef-a755-d38426455a06'}\n",
      "page_content='Khối lượng học tập tối thiểu mà sinh viên phải đăng ký trong mỗi học kỳ được quy định như sau:' metadata={'doc_id': '573ca1d7-1b6d-11ef-a755-d38426455a06'}\n",
      "page_content='Khối lượng học tối thiểu mà sinh viên phải đăng ký trong mỗi học kỳ được thực hiện theo quy định sau:' metadata={'doc_id': '573ca1d7-1b6d-11ef-a755-d38426455a06'}\n",
      "page_content='Ký túc xá hỗ trợ cho phụ huynh lên thăm chỗ ăn ở sinh hoạt của sinh viên.' metadata={'doc_id': '573ca1ad-1b6d-11ef-a755-d38426455a06'}\n",
      "page_content='Xác nhận sinh viên phục vụ những mục đích khác' metadata={'doc_id': '573ca198-1b6d-11ef-a755-d38426455a06'}\n",
      "page_content='Ký túc xá (KTX) chỉ hỗ trợ chỗ ở nội trú cho sinh viên đang học tại trường.' metadata={'doc_id': '573ca19e-1b6d-11ef-a755-d38426455a06'}\n",
      "page_content='Các ngành xét tuyển sinh với tổ hợp có môn năng khiếu' metadata={'doc_id': 'ebe858ca-13cc-11ef-b548-0242ac1c000c'}\n",
      "page_content='Ký túc xá hỗ trợ cho phụ huynh lên thăm chỗ ăn ở sinh hoạt của sinh viên.' metadata={'doc_id': '573ca1ad-1b6d-11ef-a755-d38426455a06'}\n",
      "page_content='Sinh viên không ở Ký túc xá (KTX) sẽ nhận thẻ ở văn phòng Khoa.' metadata={'doc_id': '573ca204-1b6d-11ef-a755-d38426455a06'}\n",
      "page_content='Chương trình học được xây dựng có tính ứng dụng cao;' metadata={'doc_id': 'ebe5a04e-13cc-11ef-b548-0242ac1c000c'}\n",
      "page_content='Ký túc xá (KTX) chỉ hỗ trợ chỗ ở nội trú cho sinh viên đang học tại trường.' metadata={'doc_id': '573ca19e-1b6d-11ef-a755-d38426455a06'}\n",
      "page_content='Cử nhân công tác xã hội có thể làm chuyên viên cao cấp trong các trường học.' metadata={'doc_id': 'ebe6a142-13cc-11ef-b548-0242ac1c000c'}\n"
     ]
    },
    {
     "data": {
      "application/vnd.jupyter.widget-view+json": {
       "model_id": "fccc44ae915347c8a2358d5f91d3eb88",
       "version_major": 2,
       "version_minor": 0
      },
      "text/plain": [
       "Filter:   0%|          | 0/344 [00:00<?, ? examples/s]"
      ]
     },
     "metadata": {},
     "output_type": "display_data"
    },
    {
     "name": "stdout",
     "output_type": "stream",
     "text": [
      "page_content='Đính kèm minh chứng cho lý do nghỉ học tạm thời' metadata={'doc_id': '573ca1f6-1b6d-11ef-a755-d38426455a06'}\n"
     ]
    },
    {
     "data": {
      "application/vnd.jupyter.widget-view+json": {
       "model_id": "28826ccc31e54a74a2a54d1b1357b35f",
       "version_major": 2,
       "version_minor": 0
      },
      "text/plain": [
       "Filter:   0%|          | 0/344 [00:00<?, ? examples/s]"
      ]
     },
     "metadata": {},
     "output_type": "display_data"
    },
    {
     "name": "stdout",
     "output_type": "stream",
     "text": [
      "page_content='Sinh viên được hưởng nhiều chính sách ưu đãi về học phí, ký túc xá tại cơ sở.' metadata={'doc_id': 'ebe7072c-13cc-11ef-b548-0242ac1c000c'}\n",
      "page_content='Phiếu đăng ký ưu tiên xét tuyển' metadata={'doc_id': 'ebe4db50-13cc-11ef-b548-0242ac1c000c'}\n",
      "page_content='Điều kiện cấp giấy chứng nhận Cử nhân ưu tú/Kỹ sư ưu tú/Kiến trúc sư ưu tú/Dược sĩ ưu tú áp dụng từ đợt tốt nghiệp tháng 09/2023 trở về sau.' metadata={'doc_id': '573ca1ae-1b6d-11ef-a755-d38426455a06'}\n",
      "page_content='Việc cấp giấy chứng nhận Cử nhân ưu tú/Kỹ sư ưu tú/Kiến trúc sư ưu tú/Dược sĩ ưu tú nhằm vinh danh, khen thưởng kết quả và thành tích học tập, cũng như ghi nhận nỗ lực của sinh viên trong học tập và rèn luyện.' metadata={'doc_id': '573ca1ae-1b6d-11ef-a755-d38426455a06'}\n",
      "page_content='Phiếu đăng ký\\xa0xét\\xa0tuyển thẳng' metadata={'doc_id': 'ebe4db50-13cc-11ef-b548-0242ac1c000c'}\n",
      "page_content='Phiếu đăng ký tuyển thẳng' metadata={'doc_id': 'ebe4db50-13cc-11ef-b548-0242ac1c000c'}\n",
      "page_content='Giấy chứng nhận Cử nhân ưu tú/Kỹ sư ưu tú/Kiến trúc sư ưu tú/Dược sĩ ưu tú được Hiệu trưởng xem xét và ra quyết định cấp cho các sinh viên tốt nghiệp trình độ đại học/chuyên sâu đặc thù đúng tiến độ hoặc trước tiến độ theo kế hoạch đào tạo, đạt các tiêu chuẩn đầu ra về năng lực chuyên môn, kỹ năng nghề nghiệp và ý thức thái độ xã hội cao hơn tiêu chuẩn chung theo quy định của Trường.' metadata={'doc_id': '573ca1ae-1b6d-11ef-a755-d38426455a06'}\n",
      "page_content='Kỹ thuật cơ điện tử' metadata={'doc_id': 'ebe81c98-13cc-11ef-b548-0242ac1c000c'}\n",
      "page_content='Thí sinh xem chi tiết danh mục ngành và điều kiện xét tuyển theo điểm thi THPT 2022 tại đây.' metadata={'doc_id': 'ebe8997a-13cc-11ef-b548-0242ac1c000c'}\n"
     ]
    },
    {
     "data": {
      "application/vnd.jupyter.widget-view+json": {
       "model_id": "399d5ad6ed2a481596508c0a42203f8b",
       "version_major": 2,
       "version_minor": 0
      },
      "text/plain": [
       "Filter:   0%|          | 0/344 [00:00<?, ? examples/s]"
      ]
     },
     "metadata": {},
     "output_type": "display_data"
    },
    {
     "name": "stdout",
     "output_type": "stream",
     "text": [
      "page_content='Không nợ học phí (tính đến thời điểm sinh viên đề nghị nghỉ học tạm thời)' metadata={'doc_id': '573ca1f6-1b6d-11ef-a755-d38426455a06'}\n",
      "page_content='Để liên hệ với nơi tập sự nghề nghiệp, em vui lòng liên hệ với Văn phòng Khoa để đăng ký nhận giấy giới thiệu.' metadata={'doc_id': '573ca1b0-1b6d-11ef-a755-d38426455a06'}\n"
     ]
    },
    {
     "data": {
      "application/vnd.jupyter.widget-view+json": {
       "model_id": "025d971780484cbbb063ceca083daaa4",
       "version_major": 2,
       "version_minor": 0
      },
      "text/plain": [
       "Filter:   0%|          | 0/344 [00:00<?, ? examples/s]"
      ]
     },
     "metadata": {},
     "output_type": "display_data"
    },
    {
     "name": "stdout",
     "output_type": "stream",
     "text": [
      "page_content='Vật dụng được phép mang vào phòng thi môn Năng khiếu thể dục thể thao:' metadata={'doc_id': 'ebe8794a-13cc-11ef-b548-0242ac1c000c'}\n",
      "page_content='Để liên hệ với nơi tập sự nghề nghiệp, em vui lòng nộp hồ sơ đến cơ quan/công ty đó.' metadata={'doc_id': '573ca1b0-1b6d-11ef-a755-d38426455a06'}\n",
      "page_content='Các em nên liên hệ với các công ty, cơ quan để tập sự nghề nghiệp.' metadata={'doc_id': '573ca1af-1b6d-11ef-a755-d38426455a06'}\n"
     ]
    },
    {
     "data": {
      "application/vnd.jupyter.widget-view+json": {
       "model_id": "d5836550314e47eda5c9e508d3968b92",
       "version_major": 2,
       "version_minor": 0
      },
      "text/plain": [
       "Filter:   0%|          | 0/344 [00:00<?, ? examples/s]"
      ]
     },
     "metadata": {},
     "output_type": "display_data"
    },
    {
     "name": "stdout",
     "output_type": "stream",
     "text": [
      "page_content='Sinh viên tốt nghiệp ngành Kỹ thuật điện sau khi ra trường có thể làm việc ở những vị trí như:' metadata={'doc_id': 'ebe66e20-13cc-11ef-b548-0242ac1c000c'}\n",
      "page_content='Lệ phí tập sự nghề nghiệp là khoản lệ phí riêng chi phí cho toàn bộ quá trình tập sự nghề nghiệp.' metadata={'doc_id': '573ca1b4-1b6d-11ef-a755-d38426455a06'}\n",
      "page_content='Khối lượng học tập tối thiểu mà sinh viên phải đăng ký trong mỗi học kỳ được quy định như sau:' metadata={'doc_id': '573ca1d7-1b6d-11ef-a755-d38426455a06'}\n",
      "page_content='Để liên hệ với nơi tập sự nghề nghiệp, em vui lòng nộp hồ sơ đến cơ quan/công ty đó.' metadata={'doc_id': '573ca1b0-1b6d-11ef-a755-d38426455a06'}\n",
      "page_content='Các em nên liên hệ với các công ty, cơ quan để tập sự nghề nghiệp.' metadata={'doc_id': '573ca1af-1b6d-11ef-a755-d38426455a06'}\n",
      "page_content='Kỹ năng thực hành chuyên môn cao được bổ trợ bằng các chứng chỉ nghề nghiệp quốc gia/quốc tế' metadata={'doc_id': 'ebe78594-13cc-11ef-b548-0242ac1c000c'}\n",
      "page_content='Để liên hệ với nơi tập sự nghề nghiệp, em vui lòng liên hệ với Văn phòng Khoa để đăng ký nhận giấy giới thiệu.' metadata={'doc_id': '573ca1b0-1b6d-11ef-a755-d38426455a06'}\n",
      "page_content='Không quy định khối lượng học tập tối thiểu đối với sinh viên ở các học kỳ phụ (học kỳ hè, học kỳ dự thính)' metadata={'doc_id': '573ca1d7-1b6d-11ef-a755-d38426455a06'}\n",
      "page_content='Nếu không liên hệ được thì em vui lòng liên hệ với Văn phòng Khoa để được hướng dẫn.' metadata={'doc_id': '573ca1af-1b6d-11ef-a755-d38426455a06'}\n",
      "page_content='Thí sinh chỉ được xét đủ điều kiện trúng tuyển chính thức khi thí sinh được công nhận tốt nghiệp THPT năm 2021 và thực hiện việc Xác nhận và đăng ký nhập học trực tuyến theo quy định của Trường Đại học Tôn Đức Thắng.' metadata={'doc_id': 'ebe80b2c-13cc-11ef-b548-0242ac1c000c'}\n",
      "page_content='Điểm không nhân hệ số, đã bao gồm điểm ưu tiên khu vực và ưu tiên đối tượng' metadata={'doc_id': 'ebe71618-13cc-11ef-b548-0242ac1c000c'}\n",
      "page_content='Thí sinh tốt nghiệp THPT và đạt điều kiện xét công nhận hoặc tiếp nhận nộp các giấy tờ sau để xác nhận nhập học từ ngày 07/8/2018 đến 17h00 ngày 12/8/2018 , gồm có:' metadata={'doc_id': 'ebe71618-13cc-11ef-b548-0242ac1c000c'}\n",
      "page_content='Thí sinh đủ điều kiện trúng tuyển khi được công nhận tốt nghiệp THPT năm 2022.' metadata={'doc_id': 'ebe8a3e8-13cc-11ef-b548-0242ac1c000c'}\n",
      "page_content='Điều kiện đạt sơ tuyển của các đối tượng xét tuyển thẳng khác' metadata={'doc_id': 'ebe7b866-13cc-11ef-b548-0242ac1c000c'}\n",
      "page_content='Chương trình có các điểm khác biệt như sau:' metadata={'doc_id': 'ebe7a61e-13cc-11ef-b548-0242ac1c000c'}\n"
     ]
    },
    {
     "data": {
      "application/vnd.jupyter.widget-view+json": {
       "model_id": "1536ec6da6404c44bd6849c1eb3ba2d6",
       "version_major": 2,
       "version_minor": 0
      },
      "text/plain": [
       "Filter:   0%|          | 0/344 [00:00<?, ? examples/s]"
      ]
     },
     "metadata": {},
     "output_type": "display_data"
    },
    {
     "name": "stdout",
     "output_type": "stream",
     "text": [
      "page_content='Để xét miễn, sinh viên cần thực hiện các thủ tục sau:' metadata={'doc_id': '573ca184-1b6d-11ef-a755-d38426455a06'}\n",
      "page_content='Nếu sinh viên đủ điều kiện làm luận văn thì sinh viên có thể nộp đơn đề nghị làm luận văn tốt nghiệp trước tiến độ trên Cổng thông tin sinh viên.' metadata={'doc_id': '573ca1b2-1b6d-11ef-a755-d38426455a06'}\n"
     ]
    },
    {
     "data": {
      "application/vnd.jupyter.widget-view+json": {
       "model_id": "93b40c876a9441a881f0205c59662fce",
       "version_major": 2,
       "version_minor": 0
      },
      "text/plain": [
       "Filter:   0%|          | 0/344 [00:00<?, ? examples/s]"
      ]
     },
     "metadata": {},
     "output_type": "display_data"
    },
    {
     "name": "stdout",
     "output_type": "stream",
     "text": [
      "page_content='Điều kiện để nghỉ học tạm thời vì lý do cá nhân:' metadata={'doc_id': '573ca1f6-1b6d-11ef-a755-d38426455a06'}\n",
      "page_content='Kỹ thuật cơ điện tử' metadata={'doc_id': 'ebe81c98-13cc-11ef-b548-0242ac1c000c'}\n",
      "page_content='Sinh viên nộp đơn đề nghị làm luận văn tốt nghiệp trước tiến độ căn cứ theo kế hoạch chung thông báo cho từng đợt.' metadata={'doc_id': '573ca1b2-1b6d-11ef-a755-d38426455a06'}\n",
      "page_content='Em có thể làm đơn đề nghị ngưng học Chuyên ngành 2 nộp Văn phòng Tư vấn và Hỗ trợ.' metadata={'doc_id': '573ca1df-1b6d-11ef-a755-d38426455a06'}\n"
     ]
    },
    {
     "data": {
      "application/vnd.jupyter.widget-view+json": {
       "model_id": "02588f4777fd488e83d24a95d4f469c4",
       "version_major": 2,
       "version_minor": 0
      },
      "text/plain": [
       "Filter:   0%|          | 0/344 [00:00<?, ? examples/s]"
      ]
     },
     "metadata": {},
     "output_type": "display_data"
    },
    {
     "name": "stdout",
     "output_type": "stream",
     "text": [
      "page_content='Tư vấn tuyển sinh sau đại học:' metadata={'doc_id': 'ebe88066-13cc-11ef-b548-0242ac1c000c'}\n",
      "page_content='Sinh viên được xét chuyển trường nếu có các điều kiện sau:' metadata={'doc_id': '573ca1ff-1b6d-11ef-a755-d38426455a06'}\n",
      "page_content='Sau khi có điểm thi, nếu em không hài lòng về kết quả, em có thể nộp đơn đề nghị phúc khảo bài thi trên Cổng thông tin sinh viên, phân hệ Nộp đơn trực tuyến trong vòng 14 ngày làm việc kể từ ngày có kết quả thi.' metadata={'doc_id': '573ca1c8-1b6d-11ef-a755-d38426455a06'}\n"
     ]
    },
    {
     "data": {
      "application/vnd.jupyter.widget-view+json": {
       "model_id": "7b36cb7d3f1f4353885a292ca9f18831",
       "version_major": 2,
       "version_minor": 0
      },
      "text/plain": [
       "Filter:   0%|          | 0/344 [00:00<?, ? examples/s]"
      ]
     },
     "metadata": {},
     "output_type": "display_data"
    },
    {
     "name": "stdout",
     "output_type": "stream",
     "text": [
      "page_content='Nếu tốt nghiệp trễ tiến độ, điểm trung bình tích lũy của sinh viên vẫn được xếp loại dựa theo mức trên.' metadata={'doc_id': '573ca1b3-1b6d-11ef-a755-d38426455a06'}\n"
     ]
    },
    {
     "data": {
      "application/vnd.jupyter.widget-view+json": {
       "model_id": "55155830a69b49cc8959b3085db9e24e",
       "version_major": 2,
       "version_minor": 0
      },
      "text/plain": [
       "Filter:   0%|          | 0/344 [00:00<?, ? examples/s]"
      ]
     },
     "metadata": {},
     "output_type": "display_data"
    },
    {
     "name": "stdout",
     "output_type": "stream",
     "text": [
      "page_content='Những môn học được quy định không tham gia tính điểm trung bình sẽ không đưa vào công thức này để tính' metadata={'doc_id': '573ca1c3-1b6d-11ef-a755-d38426455a06'}\n",
      "page_content='Tệ nạn tham nhũng là những hiện tượng xã hội cần nghiên cứu để tìm ra giải pháp.' metadata={'doc_id': 'ebe69c4c-13cc-11ef-b548-0242ac1c000c'}\n",
      "page_content='Xếp loại tốt nghiệp đạt từ loại giỏi trở lên.' metadata={'doc_id': '573ca1ae-1b6d-11ef-a755-d38426455a06'}\n",
      "page_content='Các vị trí người học sau khi tốt nghiệp có thể đảm nhận trong và ngoài nước:' metadata={'doc_id': 'ebe68194-13cc-11ef-b548-0242ac1c000c'}\n",
      "page_content='Xếp loại tốt nghiệp dựa vào điểm trung bình tích lũy toàn khóa học.' metadata={'doc_id': '573ca1b3-1b6d-11ef-a755-d38426455a06'}\n",
      "page_content='Nếu sinh viên đủ điều kiện làm luận văn thì sinh viên có thể nộp đơn đề nghị làm luận văn tốt nghiệp trước tiến độ trên Cổng thông tin sinh viên.' metadata={'doc_id': '573ca1b2-1b6d-11ef-a755-d38426455a06'}\n",
      "page_content='Hiện nay điểm trung bình tích lũy vẫn tính cả những môn tự chọn nhưng chưa đạt, em nên liên hệ với giảng viên cố vấn để được tư vấn cách chọn môn học hợp lý.' metadata={'doc_id': '573ca1eb-1b6d-11ef-a755-d38426455a06'}\n",
      "page_content='Lệ phí tập sự nghề nghiệp, ôn và thi tốt nghiệp, khóa luận tốt nghiệp không được tính như học phí học kỳ.' metadata={'doc_id': '573ca1b4-1b6d-11ef-a755-d38426455a06'}\n",
      "page_content='Lệ phí tập sự nghề nghiệp, ôn và thi tốt nghiệp, khóa luận tốt nghiệp được tính tại thời điểm tốt nghiệp.' metadata={'doc_id': '573ca1b4-1b6d-11ef-a755-d38426455a06'}\n",
      "page_content='Lớp học có sĩ số thấp; Cơ sở vật chất và điều kiện học tập đầy đủ, tiện nghi, hiện đại;' metadata={'doc_id': 'ebe5bcb4-13cc-11ef-b548-0242ac1c000c'}\n",
      "page_content='Việc tính lệ phí tập sự nghề nghiệp, ôn và thi tốt nghiệp, khóa luận tốt nghiệp được thực hiện theo qui định của nhà trường.' metadata={'doc_id': '573ca1b4-1b6d-11ef-a755-d38426455a06'}\n",
      "page_content='Lệ phí ôn và thi tốt nghiệp là khoản lệ phí riêng chi phí cho toàn bộ quá trình ôn và thi tốt nghiệp.' metadata={'doc_id': '573ca1b4-1b6d-11ef-a755-d38426455a06'}\n",
      "page_content='Khi nộp đơn, hệ thống sẽ thông báo kết quả nộp và thời gian kiểm tra lại kết quả giải quyết đơn.' metadata={'doc_id': '573ca1ea-1b6d-11ef-a755-d38426455a06'}\n"
     ]
    },
    {
     "data": {
      "application/vnd.jupyter.widget-view+json": {
       "model_id": "b9a238313f614726b2b995758f473d6b",
       "version_major": 2,
       "version_minor": 0
      },
      "text/plain": [
       "Filter:   0%|          | 0/344 [00:00<?, ? examples/s]"
      ]
     },
     "metadata": {},
     "output_type": "display_data"
    },
    {
     "name": "stdout",
     "output_type": "stream",
     "text": [
      "page_content='Người nhận bằng tốt nghiệp cần mang theo chứng minh nhân dân bản chính và biên lai thu hộ lệ phí tốt nghiệp.' metadata={'doc_id': '573ca1b6-1b6d-11ef-a755-d38426455a06'}\n"
     ]
    },
    {
     "data": {
      "application/vnd.jupyter.widget-view+json": {
       "model_id": "cfa209b6c1ec4a1f85aac343545dfa2d",
       "version_major": 2,
       "version_minor": 0
      },
      "text/plain": [
       "Filter:   0%|          | 0/344 [00:00<?, ? examples/s]"
      ]
     },
     "metadata": {},
     "output_type": "display_data"
    },
    {
     "name": "stdout",
     "output_type": "stream",
     "text": [
      "page_content='Những vật dụng cần thiết được mang vào phòng thi' metadata={'doc_id': 'ebe858ca-13cc-11ef-b548-0242ac1c000c'}\n",
      "page_content='Những vật dụng cần thiết được mang vào phòng thi:' metadata={'doc_id': 'ebe4d1fa-13cc-11ef-b548-0242ac1c000c'}\n",
      "page_content='Trong vòng 24h00 sau khi thi em mang giấy tờ tới phòng Khảo thí và kiểm định chất lượng (A0302) để bổ sung.' metadata={'doc_id': '573ca1ca-1b6d-11ef-a755-d38426455a06'}\n"
     ]
    },
    {
     "data": {
      "application/vnd.jupyter.widget-view+json": {
       "model_id": "32bb126d62b24854be054959f520db49",
       "version_major": 2,
       "version_minor": 0
      },
      "text/plain": [
       "Filter:   0%|          | 0/344 [00:00<?, ? examples/s]"
      ]
     },
     "metadata": {},
     "output_type": "display_data"
    },
    {
     "name": "stdout",
     "output_type": "stream",
     "text": [
      "page_content='Khi đến Phòng Công tác học sinh - sinh viên, sinh viên vui lòng mang theo văn bằng đầu vào (bằng tốt nghiệp THPT, THBT, THCN, bằng CĐ).' metadata={'doc_id': '573ca18d-1b6d-11ef-a755-d38426455a06'}\n"
     ]
    },
    {
     "data": {
      "application/vnd.jupyter.widget-view+json": {
       "model_id": "aa812c4c2a764f02abf276f0734ce5e0",
       "version_major": 2,
       "version_minor": 0
      },
      "text/plain": [
       "Filter:   0%|          | 0/344 [00:00<?, ? examples/s]"
      ]
     },
     "metadata": {},
     "output_type": "display_data"
    },
    {
     "name": "stdout",
     "output_type": "stream",
     "text": [
      "page_content='Vật dụng được phép mang vào phòng thi môn Năng khiếu thể dục thể thao:' metadata={'doc_id': 'ebe8794a-13cc-11ef-b548-0242ac1c000c'}\n",
      "page_content='Điểm không nhân hệ số, đã bao gồm điểm ưu tiên khu vực và ưu tiên đối tượng' metadata={'doc_id': 'ebe71618-13cc-11ef-b548-0242ac1c000c'}\n",
      "page_content='Thí sinh tốt nghiệp THPT và đạt điều kiện xét công nhận hoặc tiếp nhận nộp các giấy tờ sau để xác nhận nhập học từ ngày 07/8/2018 đến 17h00 ngày 12/8/2018 , gồm có:' metadata={'doc_id': 'ebe71618-13cc-11ef-b548-0242ac1c000c'}\n",
      "page_content='Sinh viên chỉ được xét tốt nghiệp chương trình thứ hai, nếu có đủ điều kiện tốt nghiệp ở chương trình thứ nhất.' metadata={'doc_id': '573ca1ed-1b6d-11ef-a755-d38426455a06'}\n",
      "page_content='Sinh viên không nhất thiết phải học lại môn tự chọn chưa đạt nếu đã tích lũy đủ tín chỉ cần thiết.' metadata={'doc_id': '573ca1e9-1b6d-11ef-a755-d38426455a06'}\n",
      "page_content='Để xét miễn, sinh viên cần thực hiện các thủ tục sau:' metadata={'doc_id': '573ca184-1b6d-11ef-a755-d38426455a06'}\n",
      "page_content='Sinh viên không cần làm bất cứ thủ tục gì, chỉ theo dõi lịch thi trên website Hệ thống thông tin sinh viên, phân hệ Thông báo.' metadata={'doc_id': '573ca1bf-1b6d-11ef-a755-d38426455a06'}\n",
      "page_content='Sinh viên nộp đơn đề nghị xét tốt nghiệp trước tiến độ trên Cổng thông tin sinh viên, phân hệ Nộp đơn trực tuyến.' metadata={'doc_id': '573ca1b7-1b6d-11ef-a755-d38426455a06'}\n"
     ]
    },
    {
     "data": {
      "application/vnd.jupyter.widget-view+json": {
       "model_id": "a6d95220093a453eb83d0c198f49b787",
       "version_major": 2,
       "version_minor": 0
      },
      "text/plain": [
       "Filter:   0%|          | 0/344 [00:00<?, ? examples/s]"
      ]
     },
     "metadata": {},
     "output_type": "display_data"
    },
    {
     "name": "stdout",
     "output_type": "stream",
     "text": [
      "page_content='Sinh viên tốt nghiệp trước tiến độ hoặc đúng tiến độ theo kế hoạch đào tạo chuẩn được thiết kế của chương trình đào tạo (chỉ xét sinh viên học ngành thứ nhất) và đạt các điều kiện chuẩn đầu ra như sau:' metadata={'doc_id': '573ca1ae-1b6d-11ef-a755-d38426455a06'}\n",
      "page_content='Học ở trường ít nhất 1 học kỳ' metadata={'doc_id': '573ca1f6-1b6d-11ef-a755-d38426455a06'}\n",
      "page_content='Đối với Khóa tuyển sinh năm 2021 trở về sau: Thứ hạng tốt nghiệp của những sinh viên có kết quả học tập toàn khóa đối với loại giỏi và xuất sắc, thứ hạng tốt nghiệp sẽ bị giảm đi một mức nếu thuộc một trong các trường hợp sau:' metadata={'doc_id': '573ca1b9-1b6d-11ef-a755-d38426455a06'}\n"
     ]
    },
    {
     "data": {
      "application/vnd.jupyter.widget-view+json": {
       "model_id": "1dd29ffea0df416298e97d4788c03994",
       "version_major": 2,
       "version_minor": 0
      },
      "text/plain": [
       "Filter:   0%|          | 0/344 [00:00<?, ? examples/s]"
      ]
     },
     "metadata": {},
     "output_type": "display_data"
    },
    {
     "name": "stdout",
     "output_type": "stream",
     "text": [
      "page_content='Thứ hạng tốt nghiệp của sinh viên những sinh viên có kết quả học tập toàn khóa đối với loại giỏi và loại xuất sắc, thứ hạng tốt nghiệp sẽ bị giảm đi 1 mức nếu sinh viên đã bị kỷ luật trong thời gian học từ mức cảnh cáo ở cấp trường trở lên.' metadata={'doc_id': '573ca1b1-1b6d-11ef-a755-d38426455a06'}\n",
      "page_content='Tất cả thí sinh đã đăng ký xét tuyển Đợt 1 kiểm tra dữ liệu đăng ký và xác nhận thông tin xét tuyển:' metadata={'doc_id': 'ebe5973e-13cc-11ef-b548-0242ac1c000c'}\n"
     ]
    },
    {
     "data": {
      "application/vnd.jupyter.widget-view+json": {
       "model_id": "50800c4f47f043a1acc77b6b3dde4d22",
       "version_major": 2,
       "version_minor": 0
      },
      "text/plain": [
       "Filter:   0%|          | 0/344 [00:00<?, ? examples/s]"
      ]
     },
     "metadata": {},
     "output_type": "display_data"
    },
    {
     "name": "stdout",
     "output_type": "stream",
     "text": [
      "page_content='Đối với Khóa tuyển sinh năm 2020 trở về trước: Thứ hạng tốt nghiệp của sinh viên có kết quả học tập toàn khóa đối với loại giỏi và loại xuất sắc, thứ hạng tốt nghiệp sẽ bị giảm đi 1 mức nếu sinh viên đã bị kỷ luật trong thời gian học từ mức cảnh cáo ở cấp trường trở lên.' metadata={'doc_id': '573ca1b9-1b6d-11ef-a755-d38426455a06'}\n",
      "page_content='Khoá luận tốt nghiệp hoặc tương đương' metadata={'doc_id': 'ebe5bcb4-13cc-11ef-b548-0242ac1c000c'}\n",
      "page_content='Đối với Khóa tuyển sinh năm 2021 trở về sau, thứ hạng tốt nghiệp của những sinh viên có kết quả học tập toàn khóa đối với loại giỏi và xuất sắc sẽ bị giảm đi một mức nếu thuộc một trong các trường hợp sau:' metadata={'doc_id': '573ca1b1-1b6d-11ef-a755-d38426455a06'}\n",
      "page_content='Chương trình cấp bằng cử nhân:' metadata={'doc_id': '3369b8da-1b47-11ef-a755-d38426455a06'}\n",
      "page_content='Đối với một môn học tự chọn nếu không đạt sinh viên có quyền chọn đăng ký học lại chính môn học đó hoặc lựa chọn học các môn tự chọn khác cùng nhóm để đảm bảo tích lũy đủ số tín chỉ.' metadata={'doc_id': '3369b8de-1b47-11ef-a755-d38426455a06'}\n",
      "page_content='Đối với môn học tự chọn nếu không đạt sinh viên có quyền chọn đăng ký học lại chính môn học đó hoặc lựa chọn học các môn tự chọn khác cùng nhóm để đảm bảo tích lũy đủ số tín chỉ.' metadata={'doc_id': '573ca1eb-1b6d-11ef-a755-d38426455a06'}\n",
      "page_content='Em phải xin bảng điểm các môn em đã học ở trường cũ mà trong chương trình hiện tại của trường mới có.' metadata={'doc_id': '573ca1bd-1b6d-11ef-a755-d38426455a06'}\n",
      "page_content='Em phải đưa đề cương và bảng điểm các môn em đã học ở trường cũ mà trong chương trình hiện tại của trường mới có cho Tổ trưởng bộ môn xem xét.' metadata={'doc_id': '573ca1bd-1b6d-11ef-a755-d38426455a06'}\n",
      "page_content='Sinh viên có quyền chọn đăng ký học lại chính môn học tự chọn không đạt hoặc lựa chọn học các môn tự chọn khác cùng nhóm để đảm bảo tích lũy đủ số tín chỉ.' metadata={'doc_id': '573ca1ba-1b6d-11ef-a755-d38426455a06'}\n",
      "page_content='Em phải xin đề cương các môn em đã học ở trường cũ mà trong chương trình hiện tại của trường mới có.' metadata={'doc_id': '573ca1bd-1b6d-11ef-a755-d38426455a06'}\n",
      "page_content='Sinh viên không nhất thiết phải học lại môn học tự chọn chưa đạt nếu đã tích lũy đủ số tín chỉ của nhóm.' metadata={'doc_id': '3369b8de-1b47-11ef-a755-d38426455a06'}\n",
      "page_content='Trong trường hợp sinh viên chưa được cấp chứng chỉ Giáo dục Quốc phòng thì sinh viên có thể làm đơn xin hủy kết quả đăng ký môn học đối với các học phần Giáo dục Quốc phòng.' metadata={'doc_id': '573ca1bb-1b6d-11ef-a755-d38426455a06'}\n",
      "page_content='Những môn học được quy định không tham gia tính điểm trung bình sẽ không đưa vào công thức này để tính' metadata={'doc_id': '573ca1c3-1b6d-11ef-a755-d38426455a06'}\n",
      "page_content='Em phải xin đề cương các môn em đã học ở trường cũ mà trong chương trình hiện tại của trường mới có.' metadata={'doc_id': '573ca1bd-1b6d-11ef-a755-d38426455a06'}\n",
      "page_content='Khi muốn trở lại học tiếp tại trường, sinh viên phải viết đơn gửi Hiệu trưởng ít nhất một tuần trước khi bắt đầu học kỳ mới' metadata={'doc_id': '573ca1f6-1b6d-11ef-a755-d38426455a06'}\n",
      "page_content='Em phải xin bảng điểm các môn em đã học ở trường cũ mà trong chương trình hiện tại của trường mới có.' metadata={'doc_id': '573ca1bd-1b6d-11ef-a755-d38426455a06'}\n",
      "page_content='Trưởng khoa sẽ chuyển đề cương và bảng điểm các môn em đã học ở trường cũ mà trong chương trình hiện tại của trường mới có lên phòng Đại học.' metadata={'doc_id': '573ca1bd-1b6d-11ef-a755-d38426455a06'}\n",
      "page_content='Trong đó có một số môn học được các Giáo sư ở những trường đại học từ các Quốc gia khác về giảng dạy.' metadata={'doc_id': 'ebe68194-13cc-11ef-b548-0242ac1c000c'}\n",
      "page_content='Sinh viên không tốt nghiệp ngành thứ 2 vẫn có thể đề nghị phòng Đại học cấp bảng điểm ngành 2 để bổ sung vào hồ sơ xin việc.' metadata={'doc_id': '573ca1bc-1b6d-11ef-a755-d38426455a06'}\n"
     ]
    },
    {
     "data": {
      "application/vnd.jupyter.widget-view+json": {
       "model_id": "16b21c19f1c940c9874d1ed4ecfef0fb",
       "version_major": 2,
       "version_minor": 0
      },
      "text/plain": [
       "Filter:   0%|          | 0/344 [00:00<?, ? examples/s]"
      ]
     },
     "metadata": {},
     "output_type": "display_data"
    },
    {
     "name": "stdout",
     "output_type": "stream",
     "text": [
      "page_content='Nếu sinh viên học ngành 2, mức học phí sẽ được áp dụng theo mức học phí của ngành thứ 2.' metadata={'doc_id': '573ca177-1b6d-11ef-a755-d38426455a06'}\n",
      "page_content='Em có thể làm đơn đề nghị ngưng học Chuyên ngành 2 nộp Văn phòng Tư vấn và Hỗ trợ.' metadata={'doc_id': '573ca1df-1b6d-11ef-a755-d38426455a06'}\n",
      "page_content='Em phải xin bảng điểm các môn em đã học ở trường cũ mà trong chương trình hiện tại của trường mới có.' metadata={'doc_id': '573ca1bd-1b6d-11ef-a755-d38426455a06'}\n",
      "page_content='Em phải đưa đề cương và bảng điểm các môn em đã học ở trường cũ mà trong chương trình hiện tại của trường mới có về Khoa.' metadata={'doc_id': '573ca1bd-1b6d-11ef-a755-d38426455a06'}\n",
      "page_content='Em phải đưa đề cương và bảng điểm các môn em đã học ở trường cũ mà trong chương trình hiện tại của trường mới có cho Trưởng Khoa xem xét.' metadata={'doc_id': '573ca1bd-1b6d-11ef-a755-d38426455a06'}\n",
      "page_content='Thí sinh tham khảo ngành, tổ hợp xét tuyển theo phương thức 2 tại đây' metadata={'doc_id': 'ebe88066-13cc-11ef-b548-0242ac1c000c'}\n",
      "page_content='Nếu sinh viên bị bệnh không thể học môn Bơi lội được thì sinh viên làm đơn xin chuyển môn học nộp kèm hồ sơ minh chứng bệnh án.' metadata={'doc_id': '3369b8e4-1b47-11ef-a755-d38426455a06'}\n",
      "page_content='Xác nhận sinh viên phục vụ những mục đích khác' metadata={'doc_id': '573ca198-1b6d-11ef-a755-d38426455a06'}\n",
      "page_content='Hồ sơ của sinh viên cần có minh chứng chỉ định rõ về việc có Bơi lội được hay không, minh chứng sinh viên bị bệnh từ lâu điều trị qua nhiều lần theo chỉ định của bác sĩ nhưng vẫn không khỏi (nộp tất cả giấy tờ sinh viên khám bệnh trước giờ).' metadata={'doc_id': '3369b8e4-1b47-11ef-a755-d38426455a06'}\n",
      "page_content='Sinh viên chọn mục Đăng ký chứng nhận' metadata={'doc_id': '573ca198-1b6d-11ef-a755-d38426455a06'}\n",
      "page_content='Sinh viên tốt nghiệp ngành Kỹ thuật điện sau khi ra trường có thể làm việc ở những vị trí như:' metadata={'doc_id': 'ebe66e20-13cc-11ef-b548-0242ac1c000c'}\n",
      "page_content='Trong trường hợp môn học tương đương hay môn học cần đăng ký không còn mở thì sinh viên có nguyện vọng trả nợ với chương trình tiêu chuẩn phải làm đơn.' metadata={'doc_id': '573ca1ee-1b6d-11ef-a755-d38426455a06'}\n"
     ]
    },
    {
     "data": {
      "application/vnd.jupyter.widget-view+json": {
       "model_id": "b4e62c33054243bf95753a16ae56db5e",
       "version_major": 2,
       "version_minor": 0
      },
      "text/plain": [
       "Filter:   0%|          | 0/344 [00:00<?, ? examples/s]"
      ]
     },
     "metadata": {},
     "output_type": "display_data"
    },
    {
     "name": "stdout",
     "output_type": "stream",
     "text": [
      "page_content='Sinh viên đạt điểm tối đa (10 điểm) các tiêu chí trên được giải quyết chuyển môn bơi lội sang học một môn GDTC -1 khác thay thế.' metadata={'doc_id': '573ca1e0-1b6d-11ef-a755-d38426455a06'}\n",
      "page_content='Khối lượng học tập tối thiểu mà sinh viên phải đăng ký trong mỗi học kỳ được quy định như sau:' metadata={'doc_id': '573ca1d7-1b6d-11ef-a755-d38426455a06'}\n",
      "page_content='Những môn học được quy định không tham gia tính điểm trung bình sẽ không đưa vào công thức này để tính' metadata={'doc_id': '573ca1c3-1b6d-11ef-a755-d38426455a06'}\n",
      "page_content='Trưởng khoa sẽ chuyển đề cương và bảng điểm các môn em đã học ở trường cũ mà trong chương trình hiện tại của trường mới có lên phòng Đại học.' metadata={'doc_id': '573ca1bd-1b6d-11ef-a755-d38426455a06'}\n",
      "page_content='Trưởng khoa sẽ chuyển đề cương và bảng điểm các môn em đã học ở trường cũ mà trong chương trình hiện tại của trường mới có lên phòng Đại học thông qua Văn phòng Tư vấn và Hỗ trợ người học (E.0001).' metadata={'doc_id': '573ca1bd-1b6d-11ef-a755-d38426455a06'}\n",
      "page_content='Điểm không nhân hệ số, đã bao gồm điểm ưu tiên khu vực và ưu tiên đối tượng' metadata={'doc_id': 'ebe71618-13cc-11ef-b548-0242ac1c000c'}\n",
      "page_content='Khối lượng học tập tối thiểu mà sinh viên phải đăng ký trong mỗi học kỳ được quy định như sau:' metadata={'doc_id': '573ca1d7-1b6d-11ef-a755-d38426455a06'}\n",
      "page_content='Em phải xin bảng điểm các môn em đã học ở trường cũ mà trong chương trình hiện tại của trường mới có.' metadata={'doc_id': '573ca1bd-1b6d-11ef-a755-d38426455a06'}\n",
      "page_content='Em phải đưa đề cương và bảng điểm các môn em đã học ở trường cũ mà trong chương trình hiện tại của trường mới có cho Tổ trưởng bộ môn xem xét.' metadata={'doc_id': '573ca1bd-1b6d-11ef-a755-d38426455a06'}\n",
      "page_content='Các vị trí người học sau khi tốt nghiệp có thể đảm nhận trong và ngoài nước:' metadata={'doc_id': 'ebe68194-13cc-11ef-b548-0242ac1c000c'}\n",
      "page_content='Sinh viên muốn đổi ngôn ngữ thi, hoặc đăng ký dự thi lại do kỳ trước không đạt thì bắt buộc phải đăng ký.' metadata={'doc_id': '573ca1ce-1b6d-11ef-a755-d38426455a06'}\n"
     ]
    },
    {
     "data": {
      "application/vnd.jupyter.widget-view+json": {
       "model_id": "8cfe0c1cb123474990e71d5517ce0143",
       "version_major": 2,
       "version_minor": 0
      },
      "text/plain": [
       "Filter:   0%|          | 0/344 [00:00<?, ? examples/s]"
      ]
     },
     "metadata": {},
     "output_type": "display_data"
    },
    {
     "name": "stdout",
     "output_type": "stream",
     "text": [
      "page_content='làm việc với tư cách luật sư độc lập (sau khi tốt nghiệp sinh viên có thể học thêm chứng chỉ đào tạo luật sư tại học viện tư pháp và có giấy phép hành nghề luật sư…)' metadata={'doc_id': 'ebe5ad1e-13cc-11ef-b548-0242ac1c000c'}\n"
     ]
    },
    {
     "data": {
      "application/vnd.jupyter.widget-view+json": {
       "model_id": "b81af793f5fd4e51adfb31130e0a4c0a",
       "version_major": 2,
       "version_minor": 0
      },
      "text/plain": [
       "Filter:   0%|          | 0/344 [00:00<?, ? examples/s]"
      ]
     },
     "metadata": {},
     "output_type": "display_data"
    },
    {
     "name": "stdout",
     "output_type": "stream",
     "text": [
      "page_content='Nếu sinh viên được giải quyết cho hoãn thi giữa kỳ hoặc hoãn thi cuối kỳ trong học kỳ dự thính thì Phòng Đại học sẽ tổ chức thi lại cho sinh viên hoãn thi.' metadata={'doc_id': '573ca1bf-1b6d-11ef-a755-d38426455a06'}\n",
      "page_content='Khối lượng học tập tối thiểu mà sinh viên phải đăng ký trong mỗi học kỳ được quy định như sau:' metadata={'doc_id': '573ca1d7-1b6d-11ef-a755-d38426455a06'}\n",
      "page_content='Nếu sinh viên được giải quyết cho hoãn thi cuối kỳ thì trong thời hạn 01 năm học kế tiếp, sinh viên có quyết định điểm \"H\" (điểm Hoãn thi) phải theo dõi lịch học, lịch thi (tất cả các học kỳ, kể cả học kỳ dự thính) để đăng ký dự thi.' metadata={'doc_id': '573ca1bf-1b6d-11ef-a755-d38426455a06'}\n",
      "page_content='Khối lượng học tập tối đa mà sinh viên có thể đăng ký trong mỗi học kỳ được thực hiện theo quy định sau:' metadata={'doc_id': '573ca1d7-1b6d-11ef-a755-d38426455a06'}\n",
      "page_content='Khối lượng học tối thiểu mà sinh viên phải đăng ký trong mỗi học kỳ được thực hiện theo quy định sau:' metadata={'doc_id': '573ca1d7-1b6d-11ef-a755-d38426455a06'}\n",
      "page_content='Em chỉ cần đăng ký dự thi lại.' metadata={'doc_id': '573ca1d6-1b6d-11ef-a755-d38426455a06'}\n",
      "page_content='Điểm không nhân hệ số, đã bao gồm điểm ưu tiên khu vực và ưu tiên đối tượng' metadata={'doc_id': 'ebe71618-13cc-11ef-b548-0242ac1c000c'}\n",
      "page_content='Điểm P sẽ không tham gia tính Điểm trung bình học kỳ, Điểm trung bình tích lũy và Tổng số tín chỉ tích lũy của sinh viên.' metadata={'doc_id': '3369b8e7-1b47-11ef-a755-d38426455a06'}\n",
      "page_content='Điểm trung bình tích lũy hiện nay vẫn tính cả những môn tự chọn chưa đạt.' metadata={'doc_id': '3369b8de-1b47-11ef-a755-d38426455a06'}\n",
      "page_content='Sinh viên hoàn tất toàn bộ chương trình đào tạo của ngành/chuyên ngành, có đủ số tín chỉ tích lũy quy định cho khóa ngành đào tạo và có điểm trung bình tích lũy không dưới 5,00.' metadata={'doc_id': '573ca1b1-1b6d-11ef-a755-d38426455a06'}\n",
      "page_content='Sinh viên đã tích lũy đủ số tín chỉ của nhóm tự chọn có quyền nộp đơn đề nghị loại bỏ những môn học có kết quả không đạt để không tham gia vào tính điểm trung bình chung tích lũy.' metadata={'doc_id': '3369b8de-1b47-11ef-a755-d38426455a06'}\n",
      "page_content='Điểm trung bình tích lũy hiện nay vẫn tính cả những môn tự chọn nhưng chưa đạt.' metadata={'doc_id': '573ca1e9-1b6d-11ef-a755-d38426455a06'}\n",
      "page_content='Điểm trung bình tích lũy >=5.0' metadata={'doc_id': '573ca1f6-1b6d-11ef-a755-d38426455a06'}\n",
      "page_content='Cơ sở vật chất và điều kiện học tập tiện nghi và hiện đại.' metadata={'doc_id': 'ebe6618c-13cc-11ef-b548-0242ac1c000c'}\n"
     ]
    },
    {
     "data": {
      "application/vnd.jupyter.widget-view+json": {
       "model_id": "81f622d6302f476ca4c7873c9450905c",
       "version_major": 2,
       "version_minor": 0
      },
      "text/plain": [
       "Filter:   0%|          | 0/344 [00:00<?, ? examples/s]"
      ]
     },
     "metadata": {},
     "output_type": "display_data"
    },
    {
     "name": "stdout",
     "output_type": "stream",
     "text": [
      "page_content='Sau khi kết thúc học phần Tiếng Anh/Anh văn cuối cùng trong chương trình đào tạo, sinh viên bắt buộc phải tham gia kỳ thi Tiến Anh quốc tế để lấy điểm cho học phần Tiếng Anh /Anh văn cuối cùng' metadata={'doc_id': '573ca182-1b6d-11ef-a755-d38426455a06'}\n",
      "page_content='Khi trình độ được thể hiện ổn định nhất, lúc đó trình độ tiếng Anh của thí sinh sẽ được xác định một cách chính xác.' metadata={'doc_id': 'ebe63144-13cc-11ef-b548-0242ac1c000c'}\n"
     ]
    },
    {
     "data": {
      "application/vnd.jupyter.widget-view+json": {
       "model_id": "55368c6f2bfd440c995af4d5f9737d0f",
       "version_major": 2,
       "version_minor": 0
      },
      "text/plain": [
       "Filter:   0%|          | 0/344 [00:00<?, ? examples/s]"
      ]
     },
     "metadata": {},
     "output_type": "display_data"
    },
    {
     "name": "stdout",
     "output_type": "stream",
     "text": [
      "page_content='Trường hợp sinh viên không làm thủ tục dự thi nhưng không làm đơn hoãn thi hoặc có làm thủ tục dự thi nhưng vắng thi (không có lý do chính đáng) sẽ bị tính điểm 0 cho học phần Tiếng Anh/Anh văn đã đăng ký trong học kỳ hiện tại' metadata={'doc_id': '573ca182-1b6d-11ef-a755-d38426455a06'}\n",
      "page_content='Sinh viên trễ lộ trình theo quy định có thể được xét miễn Tiếng Anh nếu thỏa mãn các điều kiện sau:' metadata={'doc_id': '573ca184-1b6d-11ef-a755-d38426455a06'}\n",
      "page_content='Để nhận điểm M học phần Tiếng Anh cuối, sinh viên Khóa tuyển sinh 2016 trở về trước cần tham gia học học phần Tiếng Anh cuối và đủ điều kiện dự thi cuối kỳ.' metadata={'doc_id': '3369b8e7-1b47-11ef-a755-d38426455a06'}\n",
      "page_content='Khi thí sinh tiến hành làm bài thi đánh giá năng lực tiếng Anh đầu khóa chương trình đại học bằng tiếng Anh, các câu hỏi tiếp theo sẽ dựa vào kết quả trả lời câu hỏi trước của thí sinh.' metadata={'doc_id': 'ebe63144-13cc-11ef-b548-0242ac1c000c'}\n",
      "page_content='Thí sinh xét tuyển vào chương trình đại học bằng tiếng Anh, chương trình liên kết đào tạo quốc tế:' metadata={'doc_id': 'ebe747a0-13cc-11ef-b548-0242ac1c000c'}\n",
      "page_content='+ Trường hợp thí sinh dự thi có kết quả chưa đạt điều kiện đầu vào tiếng Anh nhưng đủ điểm sơ tuyển của chương trình, thí sinh có thể đăng ký tham gia Chương trình dự bị tiếng Anh (01 học kỳ hoặc 01 năm) để đảm bảo đầu vào tiếng Anh trước khi có quyết định nhập học chính thức.' metadata={'doc_id': 'ebe70b32-13cc-11ef-b548-0242ac1c000c'}\n",
      "page_content='Điểm trung bình tích lũy hiện nay vẫn tính cả những môn tự chọn nhưng chưa đạt.' metadata={'doc_id': '573ca1e9-1b6d-11ef-a755-d38426455a06'}\n",
      "page_content='Điểm K không ảnh hưởng đến điểm trung bình học kỳ, trung bình tích lũy' metadata={'doc_id': '573ca182-1b6d-11ef-a755-d38426455a06'}\n",
      "page_content='Điểm trung bình tích lũy hiện nay vẫn tính cả những môn tự chọn chưa đạt.' metadata={'doc_id': '3369b8de-1b47-11ef-a755-d38426455a06'}\n",
      "page_content='Điểm P sẽ không tham gia tính Điểm trung bình học kỳ, Điểm trung bình tích lũy và Tổng số tín chỉ tích lũy của sinh viên.' metadata={'doc_id': '3369b8e7-1b47-11ef-a755-d38426455a06'}\n",
      "page_content='Điểm môn học sinh viên xin rút bớt sẽ được ghi nhận là điểm R và không ảnh hưởng đến điểm trung bình học kỳ và điểm trung bình tích lũy.' metadata={'doc_id': '573ca1ea-1b6d-11ef-a755-d38426455a06'}\n",
      "page_content='Chuyên viên nghiên cứu thị trường, phân tích khách hàng' metadata={'doc_id': 'ebe5bcb4-13cc-11ef-b548-0242ac1c000c'}\n",
      "page_content='Điểm trung bình tích lũy >=5.0' metadata={'doc_id': '573ca1f6-1b6d-11ef-a755-d38426455a06'}\n",
      "page_content='Được ưu tiên tiếp cận sớm với các thiết bị thí nghiệm mới, chất lượng cao chưa được sử dụng ở các lớp đại trà' metadata={'doc_id': 'ebe5b87c-13cc-11ef-b548-0242ac1c000c'}\n",
      "page_content='Thí sinh phải mang theo Giấy báo dự thi, CMND/CCCD/Hộ chiếu trong tất cả các buổi thi.' metadata={'doc_id': 'ebe8307a-13cc-11ef-b548-0242ac1c000c'}\n"
     ]
    },
    {
     "data": {
      "application/vnd.jupyter.widget-view+json": {
       "model_id": "715d15df4be54118a3aa7fbe03c3f8d4",
       "version_major": 2,
       "version_minor": 0
      },
      "text/plain": [
       "Filter:   0%|          | 0/344 [00:00<?, ? examples/s]"
      ]
     },
     "metadata": {},
     "output_type": "display_data"
    },
    {
     "name": "stdout",
     "output_type": "stream",
     "text": [
      "page_content='Thí sinh phải mang theo Giấy báo dự thi, CMND/CCCD trong tất cả các buổi thi.' metadata={'doc_id': 'ebe89d3a-13cc-11ef-b548-0242ac1c000c'}\n",
      "page_content='Môn Năng khiếu thể dục thể thao được phép mang vào phòng thi:' metadata={'doc_id': 'ebe89d3a-13cc-11ef-b548-0242ac1c000c'}\n",
      "page_content='Vật dụng được phép mang vào phòng thi môn Năng khiếu thể dục thể thao:' metadata={'doc_id': 'ebe8794a-13cc-11ef-b548-0242ac1c000c'}\n",
      "page_content='Môn Vẽ Hình họa mỹ thuật được phép mang vào phòng thi:' metadata={'doc_id': 'ebe89d3a-13cc-11ef-b548-0242ac1c000c'}\n",
      "page_content='Thí sinh phải đạt ngưỡng đảm bảo chất lượng đầu vào của từng ngành như sau:' metadata={'doc_id': 'ebe8b28e-13cc-11ef-b548-0242ac1c000c'}\n",
      "page_content='Sinh viên đang học trong học kỳ, đủ điều kiện dự thi và muốn thi bằng ngôn ngữ mặc định thì không phải đăng ký thi MOS.' metadata={'doc_id': '573ca1ce-1b6d-11ef-a755-d38426455a06'}\n",
      "page_content='Môn học tiên quyết của môn học 2 là môn học mà sinh viên phải đạt yêu cầu mới được học môn học 2.' metadata={'doc_id': '573ca201-1b6d-11ef-a755-d38426455a06'}\n",
      "page_content='Sinh viên có thể đăng ký dự thi 2 học phần Cơ sở tin học 1 và Cơ sở tin học 2 trong cùng 1 đợt thi.' metadata={'doc_id': '573ca1c6-1b6d-11ef-a755-d38426455a06'}\n",
      "page_content='Môn học trước của môn học 2 là môn học mà sinh viên từng học và có điểm.' metadata={'doc_id': '573ca201-1b6d-11ef-a755-d38426455a06'}\n",
      "page_content='Toán kinh tế, Cơ sở tin học 1, Cơ sở tin học 2, Cơ sở tin học 3 và dự thi chứng chỉ MOS về MS.Word, Excel, Power Point' metadata={'doc_id': 'ebe5bcb4-13cc-11ef-b548-0242ac1c000c'}\n",
      "page_content='Sinh viên không cần đăng ký học lại môn Cơ sở tin học mà có thể đăng ký dự thi ở các đợt tổ chức thi MOS tiếp theo theo thông báo của phòng Đại học để hoàn tất môn học.' metadata={'doc_id': '573ca1c7-1b6d-11ef-a755-d38426455a06'}\n",
      "page_content='Môn học A là môn học trước của môn học B khi điều kiện bắt buộc để đăng ký học môn học B là sinh viên đã đăng ký và được xác nhận học xong môn A (có thể chưa đạt).' metadata={'doc_id': '3369b8de-1b47-11ef-a755-d38426455a06'}\n",
      "page_content='Môn học A là môn tiên quyết của môn học B khi điều kiện bắt buộc để đăng ký học môn học B là sinh viên đã đăng ký học và hoàn tất đạt môn A.' metadata={'doc_id': '3369b8de-1b47-11ef-a755-d38426455a06'}\n",
      "page_content='Sinh viên có thể đăng ký dự thi học phần Cơ sở tin học 2.' metadata={'doc_id': '573ca1c6-1b6d-11ef-a755-d38426455a06'}\n",
      "page_content='Em thi không đạt nên em không cần học lại.' metadata={'doc_id': '573ca1d6-1b6d-11ef-a755-d38426455a06'}\n",
      "page_content='Thí sinh phải đạt ngưỡng đảm bảo chất lượng đầu vào của từng ngành như sau:' metadata={'doc_id': 'ebe8b28e-13cc-11ef-b548-0242ac1c000c'}\n",
      "page_content='Vật dụng được phép mang vào phòng thi môn Năng khiếu thể dục thể thao:' metadata={'doc_id': 'ebe8794a-13cc-11ef-b548-0242ac1c000c'}\n",
      "page_content='Đến thời hạn nhập học, em phải làm đơn xin gia hạn thời gian nghỉ học tạm thời.' metadata={'doc_id': '573ca1f7-1b6d-11ef-a755-d38426455a06'}\n",
      "page_content='Môn Năng khiếu thể dục thể thao được phép mang vào phòng thi:' metadata={'doc_id': 'ebe89d3a-13cc-11ef-b548-0242ac1c000c'}\n",
      "page_content='Hệ thống sẽ lưu yêu cầu của em thành công -> Kết quả ghi nhận -> Xem Tình trạng xử lý -> xem Mã YC -> Nếu hợp lệ, em liên hệ Phòng Công tác Học sinh – Sinh viên (A.003) \\xa0nhận lại xác nhận sinh viên trong thời gian tiếp sinh viên, Nếu không hợp lệ, em vui lòng xem phần \\\\\"Ghi chú\\\\' metadata={'doc_id': '573ca18f-1b6d-11ef-a755-d38426455a06'}\n",
      "page_content='Môn học thay thế do Khoa quản lý môn đề xuất.' metadata={'doc_id': '573ca1e7-1b6d-11ef-a755-d38426455a06'}\n",
      "page_content='Em vui lòng báo với giám thị coi thi về trường hợp của em.' metadata={'doc_id': '573ca1ca-1b6d-11ef-a755-d38426455a06'}\n",
      "page_content='Bên cạnh đó, sinh viên còn được tham gia các học phần thực tế tại nước ngoài, tìm hiểu văn hóa và kiến trúc đặc trưng của các quốc gia có lịch sử lâu đời trên thế giới, qua đó nâng cao hiểu biết về văn hóa và kiến thức chuyên ngành, đồng thời giúp sinh viên phát triển tư duy thẩm mỹ và năng lực nghiên cứu, sáng tạo trong nghệ thuật.' metadata={'doc_id': 'ebe5f2d8-13cc-11ef-b548-0242ac1c000c'}\n",
      "page_content='Nhà trường cũng đặc biệt hỗ trợ, giới thiệu việc làm cho sinh viên sau khi tốt nghiệp.' metadata={'doc_id': 'ebe5f2d8-13cc-11ef-b548-0242ac1c000c'}\n",
      "page_content='Em thi không đạt nên em không cần học lại.' metadata={'doc_id': '573ca1d6-1b6d-11ef-a755-d38426455a06'}\n",
      "page_content='Điểm không nhân hệ số, đã bao gồm điểm ưu tiên khu vực và ưu tiên đối tượng' metadata={'doc_id': 'ebe71618-13cc-11ef-b548-0242ac1c000c'}\n",
      "page_content='Sau khi chọn xong, em check chọn vào ô cam kết và nhấn nút Gửi' metadata={'doc_id': '573ca18f-1b6d-11ef-a755-d38426455a06'}\n",
      "page_content='Nhà trường sẽ không giải quyết bất kỳ khiếu nại về sau nếu thí sinh không thực hiện việc xác nhận nhập học theo quy định đã thông báo' metadata={'doc_id': 'ebe7ce64-13cc-11ef-b548-0242ac1c000c'}\n",
      "page_content='Sau khi thí sinh nhập học, Nhà trường sẽ tổ chức cho thí sinh kiểm tra bài thi năng lực tiếng Anh.' metadata={'doc_id': 'ebe82760-13cc-11ef-b548-0242ac1c000c'}\n",
      "page_content='Em nộp đơn phản ánh ngay sau khi thi môn đó.' metadata={'doc_id': '3369b8e5-1b47-11ef-a755-d38426455a06'}\n"
     ]
    },
    {
     "data": {
      "application/vnd.jupyter.widget-view+json": {
       "model_id": "139f9a2ce15e43a7807d91853d7e21ba",
       "version_major": 2,
       "version_minor": 0
      },
      "text/plain": [
       "Filter:   0%|          | 0/344 [00:00<?, ? examples/s]"
      ]
     },
     "metadata": {},
     "output_type": "display_data"
    },
    {
     "name": "stdout",
     "output_type": "stream",
     "text": [
      "page_content='Khi phát hiện có sai sót, thí sinh mang giấy báo dự thi và giấy tờ liên quan đến trực tiếp Phòng Đại học (A005) - Trường Đại học Tôn Đức Thắng để điều chỉnh (trong giờ hành chính, kể từ ngày nhận giấy báo dự thi đến trước buổi thi thứ nhất; hoặc điều chỉnh trực tiếp tại phòng thi).' metadata={'doc_id': 'ebe89d3a-13cc-11ef-b548-0242ac1c000c'}\n",
      "page_content='Những vật dụng cần thiết được mang vào phòng thi' metadata={'doc_id': 'ebe858ca-13cc-11ef-b548-0242ac1c000c'}\n",
      "page_content='Trong vòng 24h00 sau khi thi em mang giấy tờ tới phòng Khảo thí và kiểm định chất lượng (A0302) để bổ sung.' metadata={'doc_id': '573ca1ca-1b6d-11ef-a755-d38426455a06'}\n",
      "page_content='Ngôn ngữ của đề thi phụ thuộc vào ngôn ngữ thí sinh lựa chọn để dự thi.' metadata={'doc_id': '573ca1cf-1b6d-11ef-a755-d38426455a06'}\n",
      "page_content='Điểm không nhân hệ số, đã bao gồm điểm ưu tiên khu vực và ưu tiên đối tượng' metadata={'doc_id': 'ebe71618-13cc-11ef-b548-0242ac1c000c'}\n",
      "page_content='Thí sinh phát hiện có sai sót, mang giấy báo dự thi và giấy tờ liên quan đến trực tiếp Phòng Đại học (A005) - Trường Đại học Tôn Đức Thắng để điều chỉnh.' metadata={'doc_id': 'ebe8307a-13cc-11ef-b548-0242ac1c000c'}\n",
      "page_content='Nhà trường sẽ không giải quyết bất kỳ khiếu nại về sau nếu thí sinh không thực hiện việc xác nhận nhập học theo quy định đã thông báo' metadata={'doc_id': 'ebe7ce64-13cc-11ef-b548-0242ac1c000c'}\n",
      "page_content='Thí sinh sẽ nhận thư mời nhập học sau khi tập trung tại trường' metadata={'doc_id': 'ebe80b2c-13cc-11ef-b548-0242ac1c000c'}\n",
      "page_content='Em phải xin đề cương các môn em đã học ở trường cũ mà trong chương trình hiện tại của trường mới có.' metadata={'doc_id': '573ca1bd-1b6d-11ef-a755-d38426455a06'}\n",
      "page_content='Em phải đưa đề cương và bảng điểm các môn em đã học ở trường cũ mà trong chương trình hiện tại của trường mới có về Khoa.' metadata={'doc_id': '573ca1bd-1b6d-11ef-a755-d38426455a06'}\n",
      "page_content='Những vật dụng cần thiết được mang vào phòng thi' metadata={'doc_id': 'ebe858ca-13cc-11ef-b548-0242ac1c000c'}\n",
      "page_content='Em phải đưa đề cương và bảng điểm các môn em đã học ở trường cũ mà trong chương trình hiện tại của trường mới có cho Trưởng Khoa xem xét.' metadata={'doc_id': '573ca1bd-1b6d-11ef-a755-d38426455a06'}\n",
      "page_content='Ngôn ngữ của đề thi phụ thuộc vào ngôn ngữ thí sinh lựa chọn để dự thi.' metadata={'doc_id': '573ca1cf-1b6d-11ef-a755-d38426455a06'}\n",
      "page_content='Em phải đưa đề cương và bảng điểm các môn em đã học ở trường cũ mà trong chương trình hiện tại của trường mới có cho Tổ trưởng bộ môn xem xét.' metadata={'doc_id': '573ca1bd-1b6d-11ef-a755-d38426455a06'}\n",
      "page_content='Môn Năng khiếu thể dục thể thao được phép mang vào phòng thi:' metadata={'doc_id': 'ebe89d3a-13cc-11ef-b548-0242ac1c000c'}\n",
      "page_content='Thẻ tạm hoặc phiếu báo mất thẻ sinh viên không được sử dụng cho bất kỳ lý do nào khác.' metadata={'doc_id': '573ca190-1b6d-11ef-a755-d38426455a06'}\n",
      "page_content='Em làm đơn phản ánh vấn đề trên.' metadata={'doc_id': '3369b8e5-1b47-11ef-a755-d38426455a06'}\n",
      "page_content='Nhà trường sẽ tiến hành thủ tục hoàn lại chi phí thi cho thí sinh trong thời gian sớm nhất.' metadata={'doc_id': 'ebe82760-13cc-11ef-b548-0242ac1c000c'}\n",
      "page_content='Em nộp đơn phản ánh ngay sau khi thi môn đó.' metadata={'doc_id': '3369b8e5-1b47-11ef-a755-d38426455a06'}\n",
      "page_content='Nếu thí sinh không đăng ký lựa chọn ngôn ngữ thì đề thi sẽ là ngôn ngữ mặc định.' metadata={'doc_id': '573ca1cf-1b6d-11ef-a755-d38426455a06'}\n",
      "page_content='Em ghi rõ số điện thoại của em vào đơn phản ánh.' metadata={'doc_id': '3369b8e5-1b47-11ef-a755-d38426455a06'}\n",
      "page_content='Cử nhân tốt nghiệp ngành Thống kê có nền tảng chuyên môn tốt, có tư duy logic và tư duy phản biện, có năng lực tổ chức và thực hiện các vấn đề liên quan đến dữ liệu, như thu thập/khảo sát dữ liệu, tổng hợp thông tin từ dữ liệu, phân tích dữ liệu để rút ra các kết luận, dự báo từ dữ liệu, … đồng thời có khả năng sử dụng tốt các phần mềm thống kê chuyên dụng.' metadata={'doc_id': 'ebe58384-13cc-11ef-b548-0242ac1c000c'}\n"
     ]
    },
    {
     "data": {
      "application/vnd.jupyter.widget-view+json": {
       "model_id": "5132c2c3da8c4d488720ca374ceebae7",
       "version_major": 2,
       "version_minor": 0
      },
      "text/plain": [
       "Filter:   0%|          | 0/344 [00:00<?, ? examples/s]"
      ]
     },
     "metadata": {},
     "output_type": "display_data"
    },
    {
     "name": "stdout",
     "output_type": "stream",
     "text": [
      "page_content='Nhà trường đặc biệt chú ý gắn kết lý thuyết với thực tiễn trong chương trình đào tạo của sinh viên chương trình chất lượng cao.' metadata={'doc_id': 'ebe702b8-13cc-11ef-b548-0242ac1c000c'}\n",
      "page_content='Khi đăng kí học bổ sung, sinh viên phải theo dõi và đóng học phí đầy đủ các môn học đã đăng ký thành công.' metadata={'doc_id': '573ca1cc-1b6d-11ef-a755-d38426455a06'}\n",
      "page_content='Ngoài ra, sau khi tốt nghiệp sinh viên có thể được đào tạo hoặc học tập bổ sung kiến thức ở các cấp học cao hơn như, thạc sĩ, tiến sĩ.' metadata={'doc_id': 'ebe63928-13cc-11ef-b548-0242ac1c000c'}\n",
      "page_content='Nếu em xác nhận sinh viên để Bổ sung hồ sơ cá nhân, em chọn chứng nhận Bổ sung hồ sơ cá nhân -> Bổ sung hồ sơ cá nhân' metadata={'doc_id': '573ca18f-1b6d-11ef-a755-d38426455a06'}\n",
      "page_content='Khối lượng học tối đa mà sinh viên có thể đăng ký trong mỗi học kỳ được thực hiện theo quy định sau:' metadata={'doc_id': '573ca1d7-1b6d-11ef-a755-d38426455a06'}\n",
      "page_content='Điểm không nhân hệ số, đã bao gồm điểm ưu tiên khu vực và ưu tiên đối tượng' metadata={'doc_id': 'ebe71618-13cc-11ef-b548-0242ac1c000c'}\n",
      "page_content='Nếu em bổ sung hồ sơ hoãn nghĩa vụ quân sự, em chọn chứng nhận Nghĩa vụ quân sự -> Bổ sung hồ sơ địa phương' metadata={'doc_id': '573ca18f-1b6d-11ef-a755-d38426455a06'}\n",
      "page_content='Khối lượng học tập tối đa mà sinh viên có thể đăng ký trong mỗi học kỳ được thực hiện theo quy định sau:' metadata={'doc_id': '573ca1d7-1b6d-11ef-a755-d38426455a06'}\n",
      "page_content='Nếu em là sinh viên trễ tiến độ đăng ký xác nhận sinh viên, em chọn chứng nhận cho sinh viên nợ môn học ->Tạm hoãn nghĩa vụ quân sự tại địa phương (Bổ sung hồ sơ cá nhân, Bổ sung hồ sơ địa phương) -> Nhập môn học còn nợ -> Nhấn cam kết -> Gửi' metadata={'doc_id': '573ca18f-1b6d-11ef-a755-d38426455a06'}\n",
      "page_content='Kỹ sư phần mềm' metadata={'doc_id': 'ebe685b8-13cc-11ef-b548-0242ac1c000c'}\n",
      "page_content='Sinh viên không cần đăng ký học lại môn Cơ sở tin học mà có thể đăng ký dự thi ở các đợt tổ chức thi MOS tiếp theo theo thông báo của phòng Đại học để hoàn tất môn học.' metadata={'doc_id': '573ca1c7-1b6d-11ef-a755-d38426455a06'}\n",
      "page_content='Em thi không đạt nên em không cần học lại.' metadata={'doc_id': '573ca1d6-1b6d-11ef-a755-d38426455a06'}\n",
      "page_content='Kỹ thuật cơ điện tử' metadata={'doc_id': 'ebe81c98-13cc-11ef-b548-0242ac1c000c'}\n",
      "page_content='Thí sinh đăng ký các ngành có tổ hợp môn T00, T01 cần có điểm thi Năng khiếu TDTT thi tại TDTU để xét tuyển.' metadata={'doc_id': 'ebe88066-13cc-11ef-b548-0242ac1c000c'}\n",
      "page_content='Công nghệ kỹ thuật môi trường' metadata={'doc_id': 'ebe6df04-13cc-11ef-b548-0242ac1c000c'}\n"
     ]
    },
    {
     "data": {
      "application/vnd.jupyter.widget-view+json": {
       "model_id": "e0cda4e274414a7dbcf261e5a25fc17b",
       "version_major": 2,
       "version_minor": 0
      },
      "text/plain": [
       "Filter:   0%|          | 0/344 [00:00<?, ? examples/s]"
      ]
     },
     "metadata": {},
     "output_type": "display_data"
    },
    {
     "name": "stdout",
     "output_type": "stream",
     "text": [
      "page_content='Lĩnh vực mạch điện tử ứng dụng' metadata={'doc_id': 'ebe5a486-13cc-11ef-b548-0242ac1c000c'}\n",
      "page_content='Hiện nay điểm trung bình tích lũy vẫn tính cả những môn tự chọn nhưng chưa đạt, em nên liên hệ với giảng viên cố vấn để được tư vấn cách chọn môn học hợp lý.' metadata={'doc_id': '573ca1eb-1b6d-11ef-a755-d38426455a06'}\n",
      "page_content='Khoa học máy tính' metadata={'doc_id': 'ebe6df04-13cc-11ef-b548-0242ac1c000c'}\n",
      "page_content='Lĩnh vực mạch điện tử ứng dụng' metadata={'doc_id': 'ebe5a486-13cc-11ef-b548-0242ac1c000c'}\n",
      "page_content='Em có thể xem danh sách môn tương đương thay thế ở đâu?' metadata={'doc_id': '573ca1f2-1b6d-11ef-a755-d38426455a06'}\n",
      "page_content='Các cơ hội khác' metadata={'doc_id': 'ebe5a04e-13cc-11ef-b548-0242ac1c000c'}\n",
      "page_content='Sinh viên có thể thi chứng chỉ MOS và nộp đơn trực tuyến nộp chứng chỉ MOS để xét miễn.' metadata={'doc_id': '573ca1c7-1b6d-11ef-a755-d38426455a06'}\n",
      "page_content='Chứng chỉ tin học MOS quốc tế (750 điểm)' metadata={'doc_id': 'ebe5b87c-13cc-11ef-b548-0242ac1c000c'}\n",
      "page_content='- Chứng chỉ tin học MOS 750/1000 (Word/Excel/Powerpoint)' metadata={'doc_id': 'ebe7a61e-13cc-11ef-b548-0242ac1c000c'}\n",
      "page_content='Em chỉ cần đăng ký dự thi lại.' metadata={'doc_id': '573ca1d6-1b6d-11ef-a755-d38426455a06'}\n",
      "page_content='Tra cứu kết quả thi' metadata={'doc_id': 'ebe858ca-13cc-11ef-b548-0242ac1c000c'}\n",
      "page_content='Hồ sơ đăng ký dự thi gồm:' metadata={'doc_id': 'ebe4d1fa-13cc-11ef-b548-0242ac1c000c'}\n",
      "page_content='Sinh viên không cần đăng ký học lại môn Cơ sở tin học mà có thể đăng ký dự thi ở các đợt tổ chức thi MOS tiếp theo theo thông báo của phòng Đại học để hoàn tất môn học.' metadata={'doc_id': '573ca1c7-1b6d-11ef-a755-d38426455a06'}\n",
      "page_content='Sinh viên có thể đăng ký thi MOS ở các đợt thi tiếp theo của phòng Đại học.' metadata={'doc_id': '573ca1c7-1b6d-11ef-a755-d38426455a06'}\n",
      "page_content='Em thi không đạt nên em không cần học lại.' metadata={'doc_id': '573ca1d6-1b6d-11ef-a755-d38426455a06'}\n",
      "page_content='Kỹ thuật cơ điện tử' metadata={'doc_id': 'ebe81c98-13cc-11ef-b548-0242ac1c000c'}\n",
      "page_content='Kỹ thuật cơ điện tử' metadata={'doc_id': 'ebe81c98-13cc-11ef-b548-0242ac1c000c'}\n",
      "page_content='Mặt sau Giấy báo nhập học sẽ có thủ tục nhập học đầy đủ, bao gồm những giấy tờ cần thiết, số tiền nhập học và các thông tin liên quan.' metadata={'doc_id': 'ebe592de-13cc-11ef-b548-0242ac1c000c'}\n",
      "page_content='Công nghệ kỹ thuật môi trường' metadata={'doc_id': 'ebe6df04-13cc-11ef-b548-0242ac1c000c'}\n",
      "page_content='Trong vòng 24h00 sau khi thi em mang giấy tờ tới phòng Khảo thí và kiểm định chất lượng (A0302) để bổ sung.' metadata={'doc_id': '573ca1ca-1b6d-11ef-a755-d38426455a06'}\n",
      "page_content='Thí sinh phát hiện có sai sót, mang giấy báo dự thi và giấy tờ liên quan đến trực tiếp Phòng Đại học (A005) - Trường Đại học Tôn Đức Thắng để điều chỉnh.' metadata={'doc_id': 'ebe8307a-13cc-11ef-b548-0242ac1c000c'}\n",
      "page_content='Lĩnh vực thiết kế vi mạch điện tử' metadata={'doc_id': 'ebe5a486-13cc-11ef-b548-0242ac1c000c'}\n",
      "page_content='Khoa học máy tính' metadata={'doc_id': 'ebe81c98-13cc-11ef-b548-0242ac1c000c'}\n",
      "page_content='Khi phát hiện có sai sót, thí sinh mang giấy báo dự thi và giấy tờ liên quan đến trực tiếp Phòng Đại học (A005) - Trường Đại học Tôn Đức Thắng để điều chỉnh (trong giờ hành chính, kể từ ngày nhận giấy báo dự thi đến trước buổi thi thứ nhất; hoặc điều chỉnh trực tiếp tại phòng thi).' metadata={'doc_id': 'ebe8794a-13cc-11ef-b548-0242ac1c000c'}\n",
      "page_content='Vật dụng được phép mang vào phòng thi môn Vẽ Trang trí màu:' metadata={'doc_id': 'ebe8794a-13cc-11ef-b548-0242ac1c000c'}\n",
      "page_content='Sinh viên đang học trong học kỳ, đủ điều kiện dự thi và muốn thi bằng ngôn ngữ mặc định thì không phải đăng ký thi MOS.' metadata={'doc_id': '573ca1ce-1b6d-11ef-a755-d38426455a06'}\n",
      "page_content='Môn Năng lực tiếng Anh được phép mang vào phòng thi:' metadata={'doc_id': 'ebe89d3a-13cc-11ef-b548-0242ac1c000c'}\n",
      "page_content='Trong thông báo tổ chức thi MOS, phòng Đại học cũng có hướng dẫn cụ thể về các vấn đề trên.' metadata={'doc_id': '3369b8d4-1b47-11ef-a755-d38426455a06'}\n"
     ]
    },
    {
     "data": {
      "application/vnd.jupyter.widget-view+json": {
       "model_id": "8cee4ef52bc74ab4bcc6f2293d8ea995",
       "version_major": 2,
       "version_minor": 0
      },
      "text/plain": [
       "Filter:   0%|          | 0/344 [00:00<?, ? examples/s]"
      ]
     },
     "metadata": {},
     "output_type": "display_data"
    },
    {
     "name": "stdout",
     "output_type": "stream",
     "text": [
      "page_content='Môn Vẽ Trang trí màu được phép mang vào phòng thi:' metadata={'doc_id': 'ebe89d3a-13cc-11ef-b548-0242ac1c000c'}\n",
      "page_content='Sinh viên khóa tuyển sinh 2022 trở về sau không hoàn tất lệ phí thi thì sẽ không có tên trong danh sách thi MOS.' metadata={'doc_id': '573ca1c7-1b6d-11ef-a755-d38426455a06'}\n",
      "page_content='Nếu thí sinh không đăng ký lựa chọn ngôn ngữ thì đề thi sẽ là ngôn ngữ mặc định.' metadata={'doc_id': '573ca1cf-1b6d-11ef-a755-d38426455a06'}\n",
      "page_content='Vật dụng được phép mang vào phòng thi môn Năng lực tiếng Anh:' metadata={'doc_id': 'ebe8794a-13cc-11ef-b548-0242ac1c000c'}\n",
      "page_content='Em sẽ xem được điểm của những lần thi trước.' metadata={'doc_id': '3369b8df-1b47-11ef-a755-d38426455a06'}\n"
     ]
    },
    {
     "data": {
      "application/vnd.jupyter.widget-view+json": {
       "model_id": "2ee19bc86c0448088df194bce1f01642",
       "version_major": 2,
       "version_minor": 0
      },
      "text/plain": [
       "Filter:   0%|          | 0/344 [00:00<?, ? examples/s]"
      ]
     },
     "metadata": {},
     "output_type": "display_data"
    },
    {
     "name": "stdout",
     "output_type": "stream",
     "text": [
      "page_content='Những môn học được quy định không tham gia tính điểm trung bình sẽ không đưa vào công thức này để tính' metadata={'doc_id': '573ca1c3-1b6d-11ef-a755-d38426455a06'}\n",
      "page_content='Thí sinh sẽ nhận thư mời nhập học sau khi tập trung tại trường' metadata={'doc_id': 'ebe80b2c-13cc-11ef-b548-0242ac1c000c'}\n",
      "page_content='Em có thể xem danh sách môn tương đương thay thế ở đâu?' metadata={'doc_id': '573ca1f2-1b6d-11ef-a755-d38426455a06'}\n",
      "page_content='Em thi không đạt nên em không cần học lại.' metadata={'doc_id': '573ca1d6-1b6d-11ef-a755-d38426455a06'}\n",
      "page_content='Thí sinh có thể thi một hoặc cả hai môn Vẽ hình họa mỹ thuật và Vẽ trang trí màu.' metadata={'doc_id': 'ebe6352c-13cc-11ef-b548-0242ac1c000c'}\n"
     ]
    },
    {
     "data": {
      "application/vnd.jupyter.widget-view+json": {
       "model_id": "d6dd60a7cad14732b4a135c0e33229a8",
       "version_major": 2,
       "version_minor": 0
      },
      "text/plain": [
       "Filter:   0%|          | 0/344 [00:00<?, ? examples/s]"
      ]
     },
     "metadata": {},
     "output_type": "display_data"
    },
    {
     "name": "stdout",
     "output_type": "stream",
     "text": [
      "page_content='Em phải đưa đề cương và bảng điểm các môn em đã học ở trường cũ mà trong chương trình hiện tại của trường mới có cho Trưởng Khoa xem xét.' metadata={'doc_id': '573ca1bd-1b6d-11ef-a755-d38426455a06'}\n",
      "page_content='Điểm không nhân hệ số, đã bao gồm điểm ưu tiên khu vực và ưu tiên đối tượng' metadata={'doc_id': 'ebe71618-13cc-11ef-b548-0242ac1c000c'}\n",
      "page_content='Mỗi tháng đều có mở lớp ôn.' metadata={'doc_id': '573ca1d3-1b6d-11ef-a755-d38426455a06'}\n"
     ]
    },
    {
     "data": {
      "application/vnd.jupyter.widget-view+json": {
       "model_id": "f4ae2e5311a2429595a5dd685543d630",
       "version_major": 2,
       "version_minor": 0
      },
      "text/plain": [
       "Filter:   0%|          | 0/344 [00:00<?, ? examples/s]"
      ]
     },
     "metadata": {},
     "output_type": "display_data"
    },
    {
     "name": "stdout",
     "output_type": "stream",
     "text": [
      "page_content='Sinh viên có thể đăng ký vào bất kỳ học kỳ nào mà môn học có mở lớp.' metadata={'doc_id': '573ca1ba-1b6d-11ef-a755-d38426455a06'}\n",
      "page_content='Em nộp đơn phản ánh ngay sau khi thi môn đó.' metadata={'doc_id': '3369b8e5-1b47-11ef-a755-d38426455a06'}\n",
      "page_content='Mẫu đơn đăng ký tải tại đây.' metadata={'doc_id': 'ebe77356-13cc-11ef-b548-0242ac1c000c'}\n",
      "page_content='Nếu không bài thi sẽ bị hủy.' metadata={'doc_id': '573ca1ca-1b6d-11ef-a755-d38426455a06'}\n",
      "page_content='Lệ phí ôn và thi tốt nghiệp là khoản lệ phí riêng chi phí cho toàn bộ quá trình ôn và thi tốt nghiệp.' metadata={'doc_id': '573ca1b4-1b6d-11ef-a755-d38426455a06'}\n",
      "page_content='Em thi không đạt nên em không cần học lại.' metadata={'doc_id': '573ca1d6-1b6d-11ef-a755-d38426455a06'}\n",
      "page_content='Môn học bắt buộc theo lựa chọn chuyên ngành hoặc hướng chuyên môn là các môn học trong chương trình đào tạo chứa đựng những nội dung cơ bản của một chuyên ngành hay hướng chuyên môn, mà tất cả các sinh viên sau khi lựa chọn hoặc được phân vào chuyên ngành đào tạo tương ứng đều bắt buộc phải hoàn tất đạt yêu cầu để được xét tốt nghiệp.' metadata={'doc_id': '3369b8de-1b47-11ef-a755-d38426455a06'}\n",
      "page_content='Cử nhân Khoa học máy tính Chất lượng cao có thể đảm nhận các vị trí công việc sau:' metadata={'doc_id': 'ebe64666-13cc-11ef-b548-0242ac1c000c'}\n",
      "page_content='Sinh viên nên cân nhắc có nên tiếp tục học như đã đăng ký hay không vì học lại cũng là một hình thức để ôn lại kiến thức.' metadata={'doc_id': '573ca1d5-1b6d-11ef-a755-d38426455a06'}\n",
      "page_content='Sinh viên không cần đăng ký học lại môn Cơ sở tin học mà có thể đăng ký dự thi ở các đợt tổ chức thi MOS tiếp theo theo thông báo của phòng Đại học để hoàn tất môn học.' metadata={'doc_id': '573ca1c7-1b6d-11ef-a755-d38426455a06'}\n",
      "page_content='Các môn học chuyên ngành được chọn lựa dựa theo nhu cầu của thị trường lao động;' metadata={'doc_id': 'ebe5a04e-13cc-11ef-b548-0242ac1c000c'}\n",
      "page_content='Em nên cần cân nhắc kỹ trước khi quyết định.' metadata={'doc_id': '573ca1df-1b6d-11ef-a755-d38426455a06'}\n",
      "page_content='Môn học bắt buộc là các môn học trong chương trình đào tạo chứa đựng những nội dung chính yếu của ngành và chuyên ngành đào tạo mà sinh viên bắt buộc phải hoàn tất đạt yêu cầu để được xét tốt nghiệp.' metadata={'doc_id': '3369b8de-1b47-11ef-a755-d38426455a06'}\n",
      "page_content='Em chỉ cần đăng ký dự thi lại.' metadata={'doc_id': '573ca1d6-1b6d-11ef-a755-d38426455a06'}\n",
      "page_content='Khối lượng học tối đa mà sinh viên có thể đăng ký trong mỗi học kỳ được thực hiện theo quy định sau:' metadata={'doc_id': '573ca1d7-1b6d-11ef-a755-d38426455a06'}\n",
      "page_content='Em thi không đạt nên em không cần học lại.' metadata={'doc_id': '573ca1d6-1b6d-11ef-a755-d38426455a06'}\n",
      "page_content='Khối lượng học tập tối đa mà sinh viên có thể đăng ký trong mỗi học kỳ được thực hiện theo quy định sau:' metadata={'doc_id': '573ca1d7-1b6d-11ef-a755-d38426455a06'}\n",
      "page_content='Sinh viên không cần đăng ký học lại môn Cơ sở tin học mà có thể đăng ký dự thi ở các đợt tổ chức thi MOS tiếp theo theo thông báo của phòng Đại học để hoàn tất môn học.' metadata={'doc_id': '573ca1c7-1b6d-11ef-a755-d38426455a06'}\n",
      "page_content='Các môn học chuyên ngành được chọn lựa dựa theo nhu cầu của thị trường lao động;' metadata={'doc_id': 'ebe5a04e-13cc-11ef-b548-0242ac1c000c'}\n",
      "page_content='Sinh viên đủ điều kiện nhưng không tham gia thi hoặc kết quả thi không đạt thì chỉ đăng ký thi lại, không học lại.' metadata={'doc_id': '573ca1d5-1b6d-11ef-a755-d38426455a06'}\n",
      "page_content='Trong các học kỳ chính, số môn học còn lại sau khi rút bớt không được dưới số tín chỉ quy định cho từng loại học lực:' metadata={'doc_id': '573ca1ea-1b6d-11ef-a755-d38426455a06'}\n",
      "page_content='Đối với những trường hợp CMND/Hộ chiếu không hợp lệ: CMND bị ép lại, bong tróc, thông tin không rõ ràng…' metadata={'doc_id': '3369b8d4-1b47-11ef-a755-d38426455a06'}\n",
      "page_content='Đơn hủy/rút môn học (tùy vào thời điểm nộp bảng điểm TOEIC. Nếu nộp bảng điểm/chứng chỉ trong 7 tuần đầu tiên của HK chính và 2 tuần đầu tiên của HK hè thì sinh viên có thể nộp đơn rút môn học trực tuyến).' metadata={'doc_id': '573ca184-1b6d-11ef-a755-d38426455a06'}\n",
      "page_content='+ Thí sinh không có chứng chỉ tiếng Anh theo quy định có thể đăng ký xét tuyển vào: chương trình dự bị đại học bằng tiếng Anh; chương trình dự bị liên kết đào tạo quốc tế thí sinh phải có chứng chỉ tiếng Anh tương đương IELTS 4.5 trở lên hoặc điểm thi ĐGNL môn tiếng Anh từ 130 trở lên.' metadata={'doc_id': 'ebe747a0-13cc-11ef-b548-0242ac1c000c'}\n",
      "page_content='Tấm bằng cử nhân Kế toán chất lượng cao của Trường Đại học Tôn Đức Thắng sẽ giúp sinh viên có thể làm việc tại bất cứ nơi nào trên thế giới.' metadata={'doc_id': 'ebe66a06-13cc-11ef-b548-0242ac1c000c'}\n",
      "page_content='Để được xét tốt nghiệp, sinh viên phải tích lũy và đạt được các yêu cầu theo chuẩn kiến thức, kỹ năng quy định trong chương trình đào tạo và đạt các chuẩn đầu ra: Chứng chỉ tiếng Anh quốc tế IELTS 5.5 hoặc TOEFL iBT 50 hoặc các chứng chỉ khác tương đương.' metadata={'doc_id': 'ebe67d7a-13cc-11ef-b548-0242ac1c000c'}\n"
     ]
    },
    {
     "data": {
      "application/vnd.jupyter.widget-view+json": {
       "model_id": "4db3db8210a6451db329aadbdbb07b02",
       "version_major": 2,
       "version_minor": 0
      },
      "text/plain": [
       "Filter:   0%|          | 0/344 [00:00<?, ? examples/s]"
      ]
     },
     "metadata": {},
     "output_type": "display_data"
    },
    {
     "name": "stdout",
     "output_type": "stream",
     "text": [
      "page_content='Trường hợp sinh viên không làm thủ tục dự thi nhưng không làm đơn hoãn thi hoặc có làm thủ tục dự thi nhưng vắng thi (không có lý do chính đáng) sẽ bị tính điểm 0 cho học phần Tiếng Anh/Anh văn đã đăng ký trong học kỳ hiện tại' metadata={'doc_id': '573ca182-1b6d-11ef-a755-d38426455a06'}\n",
      "page_content='Bảng pha màu (bằng nhựa hoặc gỗ ván ép);' metadata={'doc_id': 'ebe8794a-13cc-11ef-b548-0242ac1c000c'}\n",
      "page_content='Trường hợp 3: Sinh viên học trễ lộ trình nhưng có chứng chỉ TOEIC (hoặc tương đương) tương ứng với khung điểm Đạt của học phần AV đang học theo quy định học tiếng Anh của Nhà trường.' metadata={'doc_id': '573ca17f-1b6d-11ef-a755-d38426455a06'}\n",
      "page_content='Khối lượng học tối đa mà sinh viên có thể đăng ký trong mỗi học kỳ được thực hiện theo quy định sau:' metadata={'doc_id': '573ca1d7-1b6d-11ef-a755-d38426455a06'}\n",
      "page_content='Khối lượng học tập tối đa mà sinh viên có thể đăng ký trong mỗi học kỳ được thực hiện theo quy định sau:' metadata={'doc_id': '573ca1d7-1b6d-11ef-a755-d38426455a06'}\n",
      "page_content='Khối lượng học tập tối thiểu mà sinh viên phải đăng ký trong mỗi học kỳ được quy định như sau:' metadata={'doc_id': '573ca1d7-1b6d-11ef-a755-d38426455a06'}\n",
      "page_content='Điểm không nhân hệ số, đã bao gồm điểm ưu tiên khu vực và ưu tiên đối tượng' metadata={'doc_id': 'ebe71618-13cc-11ef-b548-0242ac1c000c'}\n",
      "page_content='Nhóm học mà em đăng ký không đủ số lượng tối thiểu.' metadata={'doc_id': '573ca1e3-1b6d-11ef-a755-d38426455a06'}\n"
     ]
    },
    {
     "data": {
      "application/vnd.jupyter.widget-view+json": {
       "model_id": "33f17f21533643dcab533ecf2e62ceb1",
       "version_major": 2,
       "version_minor": 0
      },
      "text/plain": [
       "Filter:   0%|          | 0/344 [00:00<?, ? examples/s]"
      ]
     },
     "metadata": {},
     "output_type": "display_data"
    },
    {
     "name": "stdout",
     "output_type": "stream",
     "text": [
      "page_content='Em có thể lựa chọn những nhóm học khác hoặc môn học khác để đăng ký.' metadata={'doc_id': '573ca1e3-1b6d-11ef-a755-d38426455a06'}\n",
      "page_content='Em chỉ cần đăng ký dự thi lại.' metadata={'doc_id': '573ca1d6-1b6d-11ef-a755-d38426455a06'}\n",
      "page_content='Em phải xin bảng điểm các môn em đã học ở trường cũ mà trong chương trình hiện tại của trường mới có.' metadata={'doc_id': '573ca1bd-1b6d-11ef-a755-d38426455a06'}\n",
      "page_content='Em thi không đạt nên em không cần học lại.' metadata={'doc_id': '573ca1d6-1b6d-11ef-a755-d38426455a06'}\n",
      "page_content='Nhóm học mà em đăng ký không đủ số lượng tối thiểu.' metadata={'doc_id': '573ca1e3-1b6d-11ef-a755-d38426455a06'}\n",
      "page_content='Nếu em là sinh viên trễ tiến độ đăng ký xác nhận sinh viên, em chọn chứng nhận cho sinh viên nợ môn học ->Tạm hoãn nghĩa vụ quân sự tại địa phương (Bổ sung hồ sơ cá nhân, Bổ sung hồ sơ địa phương) -> Nhập môn học còn nợ -> Nhấn cam kết -> Gửi' metadata={'doc_id': '573ca18f-1b6d-11ef-a755-d38426455a06'}\n",
      "page_content='Em phải xin đề cương các môn em đã học ở trường cũ mà trong chương trình hiện tại của trường mới có.' metadata={'doc_id': '573ca1bd-1b6d-11ef-a755-d38426455a06'}\n",
      "page_content='Thủ tục đăng ký học lại hoặc đăng ký học cải thiện điểm hoàn toàn giống như thủ tục đăng ký môn học lần đầu.' metadata={'doc_id': '573ca1ba-1b6d-11ef-a755-d38426455a06'}\n",
      "page_content='Thí sinh sẽ nhận thư mời nhập học sau khi tập trung tại trường' metadata={'doc_id': 'ebe80b2c-13cc-11ef-b548-0242ac1c000c'}\n",
      "page_content='Khối lượng học tập tối thiểu mà sinh viên phải đăng ký trong mỗi học kỳ được quy định như sau:' metadata={'doc_id': '573ca1d7-1b6d-11ef-a755-d38426455a06'}\n",
      "page_content='Khối lượng học tối thiểu mà sinh viên phải đăng ký trong mỗi học kỳ được thực hiện theo quy định sau:' metadata={'doc_id': '573ca1d7-1b6d-11ef-a755-d38426455a06'}\n",
      "page_content='Sinh viên không cần làm bất cứ thủ tục gì, chỉ theo dõi lịch thi trên website Hệ thống thông tin sinh viên, phân hệ Thông báo.' metadata={'doc_id': '573ca1bf-1b6d-11ef-a755-d38426455a06'}\n",
      "page_content='Sinh viên có thể đăng ký học lại các môn học đã tích luỹ để cải thiện điểm.' metadata={'doc_id': '573ca1d9-1b6d-11ef-a755-d38426455a06'}\n"
     ]
    },
    {
     "data": {
      "application/vnd.jupyter.widget-view+json": {
       "model_id": "69195996489241439521cd38de18dabe",
       "version_major": 2,
       "version_minor": 0
      },
      "text/plain": [
       "Filter:   0%|          | 0/344 [00:00<?, ? examples/s]"
      ]
     },
     "metadata": {},
     "output_type": "display_data"
    },
    {
     "name": "stdout",
     "output_type": "stream",
     "text": [
      "page_content='Điểm không nhân hệ số, đã bao gồm điểm ưu tiên khu vực và ưu tiên đối tượng' metadata={'doc_id': 'ebe71618-13cc-11ef-b548-0242ac1c000c'}\n",
      "page_content='Khoa học máy tính' metadata={'doc_id': 'ebe6df04-13cc-11ef-b548-0242ac1c000c'}\n",
      "page_content='Sinh viên ngành Công tác xã hội tại Trường Đại học Tôn Đức Thắng được vận dụng các kiến thức đã học vào thực tiễn để nghiên cứu, phân tích và đề xuất các giải pháp đảm bảo lợi ích cho cộng đồng.' metadata={'doc_id': 'ebe6a142-13cc-11ef-b548-0242ac1c000c'}\n",
      "page_content='Với việc học 2 chương trình (hay chuyên ngành 2) thì trong cùng 1 khoảng thời gian, Sinh viên có thể học cùng lúc 2 chương trình.' metadata={'doc_id': '573ca1db-1b6d-11ef-a755-d38426455a06'}\n"
     ]
    },
    {
     "data": {
      "application/vnd.jupyter.widget-view+json": {
       "model_id": "949891ab38b246b78389b456b5d9b897",
       "version_major": 2,
       "version_minor": 0
      },
      "text/plain": [
       "Filter:   0%|          | 0/344 [00:00<?, ? examples/s]"
      ]
     },
     "metadata": {},
     "output_type": "display_data"
    },
    {
     "name": "stdout",
     "output_type": "stream",
     "text": [
      "page_content='Thuận lợi hơn khi xin việc cũng như trong quá trình làm việc.' metadata={'doc_id': '573ca1db-1b6d-11ef-a755-d38426455a06'}\n",
      "page_content='Những người có kiến thức chuyên môn của nhiều lĩnh vực sẽ có nhiều lợi thế hơn.' metadata={'doc_id': '573ca1db-1b6d-11ef-a755-d38426455a06'}\n",
      "page_content='Kỹ thuật điện tử - viễn thông' metadata={'doc_id': 'ebe81c98-13cc-11ef-b548-0242ac1c000c'}\n",
      "page_content='Theo nguyên tắc, khi kết thúc thời gian đăng ký kế hoạch học tập (KHHT) thì sinh viên không được phép hủy môn đã đăng ký trong KHHT.' metadata={'doc_id': '573ca1e4-1b6d-11ef-a755-d38426455a06'}\n"
     ]
    },
    {
     "data": {
      "application/vnd.jupyter.widget-view+json": {
       "model_id": "15a887ab59e54920a7d87d8a56e4d1e4",
       "version_major": 2,
       "version_minor": 0
      },
      "text/plain": [
       "Filter:   0%|          | 0/344 [00:00<?, ? examples/s]"
      ]
     },
     "metadata": {},
     "output_type": "display_data"
    },
    {
     "name": "stdout",
     "output_type": "stream",
     "text": [
      "page_content='Khối lượng học tập tối đa mà sinh viên có thể đăng ký trong mỗi học kỳ được thực hiện theo quy định sau:' metadata={'doc_id': '573ca1d7-1b6d-11ef-a755-d38426455a06'}\n",
      "page_content='Sinh viên có thể đăng ký thêm môn học vào đợt đăng ký dành cho sinh viên chưa xây dựng Kế hoạch học tập.' metadata={'doc_id': '573ca1f0-1b6d-11ef-a755-d38426455a06'}\n"
     ]
    },
    {
     "data": {
      "application/vnd.jupyter.widget-view+json": {
       "model_id": "2a481217278b4ebcafce29b31333672b",
       "version_major": 2,
       "version_minor": 0
      },
      "text/plain": [
       "Filter:   0%|          | 0/344 [00:00<?, ? examples/s]"
      ]
     },
     "metadata": {},
     "output_type": "display_data"
    },
    {
     "name": "stdout",
     "output_type": "stream",
     "text": [
      "page_content='Những môn học được quy định không tham gia tính điểm trung bình sẽ không đưa vào công thức này để tính' metadata={'doc_id': '573ca1c3-1b6d-11ef-a755-d38426455a06'}\n",
      "page_content='Thời gian đăng ký môn học dành cho sinh viên đăng ký lại các nhóm môn học bị hủy do không đủ số lượng được thông báo chi tiết trong thông báo đăng ký môn học.' metadata={'doc_id': '573ca1e3-1b6d-11ef-a755-d38426455a06'}\n",
      "page_content='Khối lượng học tập tối thiểu mà sinh viên phải đăng ký trong mỗi học kỳ được quy định như sau:' metadata={'doc_id': '573ca1d7-1b6d-11ef-a755-d38426455a06'}\n",
      "page_content='Khối lượng học tối đa mà sinh viên có thể đăng ký trong mỗi học kỳ được thực hiện theo quy định sau:' metadata={'doc_id': '573ca1d7-1b6d-11ef-a755-d38426455a06'}\n",
      "page_content='Nhóm học mà em đăng ký không đủ số lượng tối thiểu.' metadata={'doc_id': '573ca1e3-1b6d-11ef-a755-d38426455a06'}\n",
      "page_content='Sau thời hạn đăng ký môn học, nhà trường sẽ không giải quyết bất kỳ trường hợp nào cho sinh viên do không theo dõi thông báo.' metadata={'doc_id': '573ca1e8-1b6d-11ef-a755-d38426455a06'}\n"
     ]
    },
    {
     "data": {
      "application/vnd.jupyter.widget-view+json": {
       "model_id": "290ea0f22efc485ab5fd75b94424a6cb",
       "version_major": 2,
       "version_minor": 0
      },
      "text/plain": [
       "Filter:   0%|          | 0/344 [00:00<?, ? examples/s]"
      ]
     },
     "metadata": {},
     "output_type": "display_data"
    },
    {
     "name": "stdout",
     "output_type": "stream",
     "text": [
      "page_content='Môn học song hành là hai môn học mà sinh viên có thể đăng ký học trong cùng một học kỳ hoặc có thể học môn 1 trước, tuy nhiên không thể đăng ký học môn 2 trước.' metadata={'doc_id': '573ca201-1b6d-11ef-a755-d38426455a06'}\n",
      "page_content='Sinh viên nên cân nhắc kỹ trước khi nộp đơn, tránh rút các môn học trước và môn tiên quyết vì việc rút các môn học này sẽ ảnh hưởng đến tiến độ đăng ký môn học sau này của sinh viên.' metadata={'doc_id': '573ca1ea-1b6d-11ef-a755-d38426455a06'}\n",
      "page_content='Bên cạnh đó, Nhà trường đặc biệt chú ý gắn kết lý thuyết với thực tiễn; kết hợp kiến thức chuyên môn với rèn luyện kỹ năng thực hành; chú trọng đến các kỹ năng mềm và thực tập doanh nghiệp.' metadata={'doc_id': 'ebe78594-13cc-11ef-b548-0242ac1c000c'}\n",
      "page_content='làm việc với tư cách luật sư độc lập (sau khi tốt nghiệp sinh viên có thể học thêm chứng chỉ đào tạo luật sư tại học viện tư pháp và có giấy phép hành nghề luật sư…)' metadata={'doc_id': 'ebe5ad1e-13cc-11ef-b548-0242ac1c000c'}\n",
      "page_content='Sinh viên nên cân nhắc có nên tiếp tục học như đã đăng ký hay không vì học lại cũng là một hình thức để ôn lại kiến thức.' metadata={'doc_id': '573ca1d5-1b6d-11ef-a755-d38426455a06'}\n",
      "page_content='Nếu sinh viên không đạt môn học tự chọn, sinh viên có quyền chọn đăng ký học lại chính môn học đó hoặc lựa chọn học các môn tự chọn khác cùng nhóm.' metadata={'doc_id': '573ca1e1-1b6d-11ef-a755-d38426455a06'}\n",
      "page_content='Nếu sinh viên không đạt môn học tự chọn, sinh viên có quyền chọn đăng ký học lại chính môn học đó hoặc lựa chọn học các môn tự chọn khác cùng nhóm.' metadata={'doc_id': '573ca1e1-1b6d-11ef-a755-d38426455a06'}\n",
      "page_content='Đối với một môn học tự chọn nếu không đạt sinh viên có quyền chọn đăng ký học lại chính môn học đó hoặc lựa chọn học các môn tự chọn khác cùng nhóm để đảm bảo tích lũy đủ số tín chỉ.' metadata={'doc_id': '3369b8de-1b47-11ef-a755-d38426455a06'}\n",
      "page_content='Em có thể lựa chọn những nhóm học khác hoặc môn học khác để đăng ký.' metadata={'doc_id': '573ca1e3-1b6d-11ef-a755-d38426455a06'}\n",
      "page_content='Những môn học được quy định không tham gia tính điểm trung bình sẽ không đưa vào công thức này để tính' metadata={'doc_id': '573ca1c3-1b6d-11ef-a755-d38426455a06'}\n",
      "page_content='Đối với môn học tự chọn nếu không đạt sinh viên có quyền chọn đăng ký học lại chính môn học đó hoặc lựa chọn học các môn tự chọn khác cùng nhóm để đảm bảo tích lũy đủ số tín chỉ.' metadata={'doc_id': '573ca1eb-1b6d-11ef-a755-d38426455a06'}\n",
      "page_content='Trong trường hợp môn học tương đương hay môn học cần đăng ký không còn mở thì sinh viên có nguyện vọng trả nợ với chương trình tiêu chuẩn phải làm đơn.' metadata={'doc_id': '573ca1ee-1b6d-11ef-a755-d38426455a06'}\n",
      "page_content='Em có thể làm đơn đề nghị ngưng học Chuyên ngành 2 nộp Văn phòng Tư vấn và Hỗ trợ.' metadata={'doc_id': '573ca1df-1b6d-11ef-a755-d38426455a06'}\n",
      "page_content='Em thi không đạt nên em không cần học lại.' metadata={'doc_id': '573ca1d6-1b6d-11ef-a755-d38426455a06'}\n",
      "page_content='Nếu sinh viên học ngành 2, mức học phí sẽ được áp dụng theo mức học phí của ngành thứ 2.' metadata={'doc_id': '573ca177-1b6d-11ef-a755-d38426455a06'}\n",
      "page_content='Môn học thay thế được sử dụng khi một môn học có trong CTĐT nhưng nay không còn tổ chức giảng dạy nữa và được thay thế bằng một môn học khác đang còn tổ chức giảng dạy.' metadata={'doc_id': '3369b8de-1b47-11ef-a755-d38426455a06'}\n",
      "page_content='Sinh viên không tốt nghiệp ngành thứ 2 vẫn có thể đề nghị phòng Đại học cấp bảng điểm ngành 2 để bổ sung vào hồ sơ xin việc.' metadata={'doc_id': '573ca1bc-1b6d-11ef-a755-d38426455a06'}\n",
      "page_content='Không nợ học phí (tính đến thời điểm sinh viên đề nghị nghỉ học tạm thời)' metadata={'doc_id': '573ca1f6-1b6d-11ef-a755-d38426455a06'}\n",
      "page_content='Xin học bù vì vắng có lý do chính đáng nhưng không có lớp/ca học phù hợp.' metadata={'doc_id': '573ca181-1b6d-11ef-a755-d38426455a06'}\n",
      "page_content='Sinh viên đã biết bơi và muốn chuyển sang môn GDTC 1 khác thay thế môn bơi.' metadata={'doc_id': '573ca1e0-1b6d-11ef-a755-d38426455a06'}\n",
      "page_content='Thí sinh tải minh chứng về đối tượng ưu tiên (nếu có) lên hệ thống đăng ký của Bộ Giáo dục và Đào tạo' metadata={'doc_id': 'ebe83c78-13cc-11ef-b548-0242ac1c000c'}\n"
     ]
    },
    {
     "data": {
      "application/vnd.jupyter.widget-view+json": {
       "model_id": "7a6c670652c74b9db30aefdc101bd0c1",
       "version_major": 2,
       "version_minor": 0
      },
      "text/plain": [
       "Filter:   0%|          | 0/344 [00:00<?, ? examples/s]"
      ]
     },
     "metadata": {},
     "output_type": "display_data"
    },
    {
     "name": "stdout",
     "output_type": "stream",
     "text": [
      "page_content='Sinh viên đạt điểm tối đa (10 điểm) các tiêu chí trên được giải quyết chuyển môn bơi lội sang học một môn GDTC -1 khác thay thế.' metadata={'doc_id': '573ca1e0-1b6d-11ef-a755-d38426455a06'}\n",
      "page_content='Sinh viên không cần làm đơn xin không tính điểm môn tự chọn không đạt đối với các môn Giáo dục Thể chất.' metadata={'doc_id': '573ca1e9-1b6d-11ef-a755-d38426455a06'}\n",
      "page_content='Nếu sinh viên bị bệnh không thể học môn Bơi lội được thì sinh viên làm đơn xin chuyển môn học nộp kèm hồ sơ minh chứng bệnh án.' metadata={'doc_id': '3369b8e4-1b47-11ef-a755-d38426455a06'}\n",
      "page_content='Các sinh viên giỏi có thể được xét học chuyển tiếp lên bậc đào tạo thạc sĩ hoặc tiến sĩ của Khoa Công nghệ thông tin , Trường đại học Tôn Đức Thắng' metadata={'doc_id': 'ebe66600-13cc-11ef-b548-0242ac1c000c'}\n",
      "page_content='Sinh viên tốt nghiệp ngành Kỹ thuật điện sau khi ra trường có thể làm việc ở những vị trí như:' metadata={'doc_id': 'ebe66e20-13cc-11ef-b548-0242ac1c000c'}\n",
      "page_content='Nếu môn học không được tổ chức giảng dạy nữa thì sinh viên phải học môn học khác để thay thế đang còn tổ chức giảng dạy.' metadata={'doc_id': '573ca1fd-1b6d-11ef-a755-d38426455a06'}\n"
     ]
    },
    {
     "data": {
      "application/vnd.jupyter.widget-view+json": {
       "model_id": "071b4bfd530c4538810220b8490e7ef8",
       "version_major": 2,
       "version_minor": 0
      },
      "text/plain": [
       "Filter:   0%|          | 0/344 [00:00<?, ? examples/s]"
      ]
     },
     "metadata": {},
     "output_type": "display_data"
    },
    {
     "name": "stdout",
     "output_type": "stream",
     "text": [
      "page_content='Học ở trường ít nhất 1 học kỳ' metadata={'doc_id': '573ca1f6-1b6d-11ef-a755-d38426455a06'}\n",
      "page_content='Nếu sinh viên rớt môn GDTC1- Thể dục, sinh viên có thể học thay thế bằng 1 trong 8 môn học sau:' metadata={'doc_id': '573ca1e1-1b6d-11ef-a755-d38426455a06'}\n",
      "page_content='Em có thể trả nợ bằng môn tương đương, thay thế.' metadata={'doc_id': '573ca1f2-1b6d-11ef-a755-d38426455a06'}\n",
      "page_content='Tất cả thí sinh thuộc đối tượng ở mục 1 chỉ được công nhận trúng tuyển chính thức khi:' metadata={'doc_id': 'ebe6d39c-13cc-11ef-b548-0242ac1c000c'}\n",
      "page_content='Em có thể xem danh sách môn tương đương thay thế ở đâu?' metadata={'doc_id': '573ca1f2-1b6d-11ef-a755-d38426455a06'}\n",
      "page_content='Tất cả thí sinh thuộc đối tượng 1 phải thực hiện xác nhận trúng tuyển nhập học theo 2 bước:' metadata={'doc_id': 'ebe6d39c-13cc-11ef-b548-0242ac1c000c'}\n",
      "page_content='Khu vực/Đối tượng ưu tiên' metadata={'doc_id': 'ebe747a0-13cc-11ef-b548-0242ac1c000c'}\n",
      "page_content='8 môn học sinh viên có thể học thay thế môn Thể dục gồm:' metadata={'doc_id': '573ca1e1-1b6d-11ef-a755-d38426455a06'}\n",
      "page_content='Mỗi ngành học quy định số tín chỉ khác nhau.' metadata={'doc_id': '573ca200-1b6d-11ef-a755-d38426455a06'}\n"
     ]
    },
    {
     "data": {
      "application/vnd.jupyter.widget-view+json": {
       "model_id": "346aba42c72249fd90b21130026b5fbc",
       "version_major": 2,
       "version_minor": 0
      },
      "text/plain": [
       "Filter:   0%|          | 0/344 [00:00<?, ? examples/s]"
      ]
     },
     "metadata": {},
     "output_type": "display_data"
    },
    {
     "name": "stdout",
     "output_type": "stream",
     "text": [
      "page_content='Môn học tiên quyết là môn học mà sinh viên phải học xong và có kết quả đạt trước khi đăng ký học môn sau.' metadata={'doc_id': '573ca1e2-1b6d-11ef-a755-d38426455a06'}\n",
      "page_content='Sinh viên được phép hủy môn trong các trường hợp: trùng thời khóa biểu, vướng điều kiện môn học trước, môn học tiên quyết, lớp đầy.' metadata={'doc_id': '573ca1e4-1b6d-11ef-a755-d38426455a06'}\n",
      "page_content='Các vị trí người học sau khi tốt nghiệp có thể đảm nhận trong và ngoài nước:' metadata={'doc_id': 'ebe68194-13cc-11ef-b548-0242ac1c000c'}\n",
      "page_content='Sinh viên nên cân nhắc kỹ trước khi nộp đơn, tránh rút các môn học trước và môn tiên quyết vì việc rút các môn học này sẽ ảnh hưởng đến tiến độ đăng ký môn học sau này của sinh viên.' metadata={'doc_id': '573ca1ea-1b6d-11ef-a755-d38426455a06'}\n",
      "page_content='Vắng học vì lý do cá nhân không được giải quyết học bù.' metadata={'doc_id': '573ca17f-1b6d-11ef-a755-d38426455a06'}\n",
      "page_content='Việc rút môn học sẽ không được hoàn lại học phí.' metadata={'doc_id': '573ca1ea-1b6d-11ef-a755-d38426455a06'}\n",
      "page_content='Sinh viên đạt điểm tối đa (10 điểm) các tiêu chí trên được giải quyết chuyển môn bơi lội sang học một môn GDTC -1 khác thay thế.' metadata={'doc_id': '573ca1e0-1b6d-11ef-a755-d38426455a06'}\n",
      "page_content='Em phải xin đề cương các môn em đã học ở trường cũ mà trong chương trình hiện tại của trường mới có.' metadata={'doc_id': '573ca1bd-1b6d-11ef-a755-d38426455a06'}\n",
      "page_content='Khối lượng học tối đa mà sinh viên có thể đăng ký trong mỗi học kỳ được thực hiện theo quy định sau:' metadata={'doc_id': '573ca1d7-1b6d-11ef-a755-d38426455a06'}\n",
      "page_content='Điểm không nhân hệ số, đã bao gồm điểm ưu tiên khu vực và ưu tiên đối tượng' metadata={'doc_id': 'ebe71618-13cc-11ef-b548-0242ac1c000c'}\n",
      "page_content='Em phải xin bảng điểm các môn em đã học ở trường cũ mà trong chương trình hiện tại của trường mới có.' metadata={'doc_id': '573ca1bd-1b6d-11ef-a755-d38426455a06'}\n",
      "page_content='Khối lượng học tập tối đa mà sinh viên có thể đăng ký trong mỗi học kỳ được thực hiện theo quy định sau:' metadata={'doc_id': '573ca1d7-1b6d-11ef-a755-d38426455a06'}\n",
      "page_content='Nhóm học mà em đăng ký không đủ số lượng tối thiểu.' metadata={'doc_id': '573ca1e3-1b6d-11ef-a755-d38426455a06'}\n",
      "page_content='Thời gian đăng ký môn học dành cho sinh viên đăng ký lại các nhóm môn học bị hủy do không đủ số lượng được thông báo chi tiết trong thông báo đăng ký môn học.' metadata={'doc_id': '573ca1e3-1b6d-11ef-a755-d38426455a06'}\n",
      "page_content='Khối lượng học tối thiểu mà sinh viên phải đăng ký trong mỗi học kỳ được thực hiện theo quy định sau:' metadata={'doc_id': '573ca1d7-1b6d-11ef-a755-d38426455a06'}\n",
      "page_content='Sinh viên có thể đăng ký thêm môn học vào đợt đăng ký dành cho sinh viên chưa xây dựng Kế hoạch học tập.' metadata={'doc_id': '573ca1f0-1b6d-11ef-a755-d38426455a06'}\n",
      "page_content='Kết quả đăng ký môn học là cơ sở cho việc mở/hủy nhóm môn học.' metadata={'doc_id': '573ca1f4-1b6d-11ef-a755-d38426455a06'}\n"
     ]
    },
    {
     "data": {
      "application/vnd.jupyter.widget-view+json": {
       "model_id": "3f44e75a3d0b48399679d30eef021c87",
       "version_major": 2,
       "version_minor": 0
      },
      "text/plain": [
       "Filter:   0%|          | 0/344 [00:00<?, ? examples/s]"
      ]
     },
     "metadata": {},
     "output_type": "display_data"
    },
    {
     "name": "stdout",
     "output_type": "stream",
     "text": [
      "page_content='Môn học song hành là hai môn học mà sinh viên có thể đăng ký học trong cùng một học kỳ hoặc có thể học môn 1 trước, tuy nhiên không thể đăng ký học môn 2 trước.' metadata={'doc_id': '573ca201-1b6d-11ef-a755-d38426455a06'}\n",
      "page_content='Các ngành xét tuyển sinh với tổ hợp có môn năng khiếu' metadata={'doc_id': 'ebe858ca-13cc-11ef-b548-0242ac1c000c'}\n",
      "page_content='Tham gia các khoá học ngắn hạn quốc tế' metadata={'doc_id': 'ebe6791a-13cc-11ef-b548-0242ac1c000c'}\n",
      "page_content='Theo nguyên tắc, khi kết thúc thời gian đăng ký kế hoạch học tập (KHHT) thì sinh viên không được phép hủy môn đã đăng ký trong KHHT.' metadata={'doc_id': '573ca1e4-1b6d-11ef-a755-d38426455a06'}\n",
      "page_content='Sinh viên được phép đăng ký nhiều môn học hơn so với số lượng môn học theo tiến độ chương trình đào tạo nhưng vẫn đảm bảo không vượt quá 3/2 khối lượng trung bình một học kỳ theo kế hoạch học tập chuẩn.' metadata={'doc_id': '573ca1d7-1b6d-11ef-a755-d38426455a06'}\n",
      "page_content='Các môn học chuyên ngành được chọn lựa dựa theo nhu cầu của thị trường lao động' metadata={'doc_id': 'ebe5b87c-13cc-11ef-b548-0242ac1c000c'}\n",
      "page_content='Sinh viên có thể đăng ký thêm môn học vào đợt đăng ký dành cho sinh viên chưa xây dựng Kế hoạch học tập.' metadata={'doc_id': '573ca1f0-1b6d-11ef-a755-d38426455a06'}\n",
      "page_content='Khối lượng học tập tối thiểu mà sinh viên phải đăng ký trong mỗi học kỳ được quy định như sau:' metadata={'doc_id': '573ca1d7-1b6d-11ef-a755-d38426455a06'}\n",
      "page_content='Theo nguyên tắc, khi kết thúc thời gian đăng ký kế hoạch học tập (KHHT) thì sinh viên không được phép hủy môn đã đăng ký trong KHHT.' metadata={'doc_id': '573ca1e4-1b6d-11ef-a755-d38426455a06'}\n",
      "page_content='Khối lượng học tập tối đa mà sinh viên có thể đăng ký trong mỗi học kỳ được thực hiện theo quy định sau:' metadata={'doc_id': '573ca1d7-1b6d-11ef-a755-d38426455a06'}\n",
      "page_content='Sinh viên đóng học phí theo từng học kỳ, dựa vào kết quả đăng ký kế hoạch học tập, đăng ký môn học của sinh viên.' metadata={'doc_id': 'ebe8436c-13cc-11ef-b548-0242ac1c000c'}\n",
      "page_content='Khối lượng học tối đa mà sinh viên có thể đăng ký trong mỗi học kỳ được thực hiện theo quy định sau:' metadata={'doc_id': '573ca1d7-1b6d-11ef-a755-d38426455a06'}\n",
      "page_content='Khối lượng học tối thiểu mà sinh viên phải đăng ký trong mỗi học kỳ được thực hiện theo quy định sau:' metadata={'doc_id': '573ca1d7-1b6d-11ef-a755-d38426455a06'}\n",
      "page_content='Sau khi kết thúc thời gian đăng ký, phòng Đại học sẽ thống kê số lượng sinh viên và gửi về Khoa để xem xét về việc có tăng thêm sĩ số hoặc mở thêm nhóm.' metadata={'doc_id': '573ca1f5-1b6d-11ef-a755-d38426455a06'}\n"
     ]
    },
    {
     "data": {
      "application/vnd.jupyter.widget-view+json": {
       "model_id": "0b9d1b35d64e44f6b04d99b1f4983af4",
       "version_major": 2,
       "version_minor": 0
      },
      "text/plain": [
       "Filter:   0%|          | 0/344 [00:00<?, ? examples/s]"
      ]
     },
     "metadata": {},
     "output_type": "display_data"
    },
    {
     "name": "stdout",
     "output_type": "stream",
     "text": [
      "page_content='Trong trường hợp môn học tương đương hay môn học cần đăng ký không còn mở thì sinh viên có nguyện vọng trả nợ với chương trình tiêu chuẩn phải làm đơn.' metadata={'doc_id': '573ca1ee-1b6d-11ef-a755-d38426455a06'}\n",
      "page_content='Sau khi đăng ký môn học thành công thì sinh viên không được thay đổi lịch học.' metadata={'doc_id': '573ca1f4-1b6d-11ef-a755-d38426455a06'}\n",
      "page_content='Theo nguyên tắc, khi kết thúc thời gian đăng ký kế hoạch học tập (KHHT) thì sinh viên không được phép hủy môn đã đăng ký trong KHHT.' metadata={'doc_id': '573ca1e4-1b6d-11ef-a755-d38426455a06'}\n",
      "page_content='Đối với môn học bắt buộc hoặc môn học lựa chọn bắt buộc theo ngành/chuyên ngành, nếu sinh viên có điểm tổng kết môn học không đạt thì bắt buộc phải đăng ký học lại khi môn học đó được tổ chức giảng.' metadata={'doc_id': '573ca1eb-1b6d-11ef-a755-d38426455a06'}\n",
      "page_content='Sau thời hạn đăng ký môn học, nhà trường sẽ không giải quyết bất kỳ trường hợp nào cho sinh viên do không theo dõi thông báo.' metadata={'doc_id': '573ca1e8-1b6d-11ef-a755-d38426455a06'}\n",
      "page_content='Trong trường hợp Khoa không mở thêm nhóm hoặc không tăng thêm sĩ số, thì kết quả đăng ký môn học vào các nhóm đầy sĩ số sẽ bị hủy.' metadata={'doc_id': '573ca1f5-1b6d-11ef-a755-d38426455a06'}\n",
      "page_content='Nếu môn học không được tổ chức giảng dạy nữa thì sinh viên phải học môn học khác để thay thế đang còn tổ chức giảng dạy.' metadata={'doc_id': '573ca1e7-1b6d-11ef-a755-d38426455a06'}\n",
      "page_content='Môn học thay thế được sử dụng khi một môn học có trong CTĐT nhưng nay không còn tổ chức giảng dạy nữa và được thay thế bằng một môn học khác đang còn tổ chức giảng dạy.' metadata={'doc_id': '3369b8de-1b47-11ef-a755-d38426455a06'}\n",
      "page_content='Nếu sinh viên không đạt môn học tự chọn, sinh viên có quyền chọn đăng ký học lại chính môn học đó hoặc lựa chọn học các môn tự chọn khác cùng nhóm.' metadata={'doc_id': '573ca1e1-1b6d-11ef-a755-d38426455a06'}\n",
      "page_content='Đối với một môn học tự chọn nếu không đạt sinh viên có quyền chọn đăng ký học lại chính môn học đó hoặc lựa chọn học các môn tự chọn khác cùng nhóm để đảm bảo tích lũy đủ số tín chỉ.' metadata={'doc_id': '3369b8de-1b47-11ef-a755-d38426455a06'}\n",
      "page_content='Ngoài ra, sinh viên sau khi tốt nghiệp còn có cơ hội trở thành giảng viên giảng dạy các môn học thuộc chuyên ngành Kiến trúc tại các trường đại học trên cả nước hoặc nước ngoài.' metadata={'doc_id': 'ebe5f2d8-13cc-11ef-b548-0242ac1c000c'}\n",
      "page_content='Em có thể trả nợ bằng môn tương đương, thay thế.' metadata={'doc_id': '573ca1f2-1b6d-11ef-a755-d38426455a06'}\n",
      "page_content='Sau thời hạn đăng ký môn học, nhà trường sẽ không giải quyết bất kỳ trường hợp nào cho sinh viên do không theo dõi thông báo.' metadata={'doc_id': '573ca1e8-1b6d-11ef-a755-d38426455a06'}\n",
      "page_content='Em có thể trả nợ bằng môn tương đương, thay thế.' metadata={'doc_id': '573ca1f2-1b6d-11ef-a755-d38426455a06'}\n",
      "page_content='Em chỉ cần đăng ký dự thi lại.' metadata={'doc_id': '573ca1d6-1b6d-11ef-a755-d38426455a06'}\n",
      "page_content='Em có thể lựa chọn những nhóm học khác hoặc môn học khác để đăng ký.' metadata={'doc_id': '573ca1e3-1b6d-11ef-a755-d38426455a06'}\n",
      "page_content='Điểm không nhân hệ số, đã bao gồm điểm ưu tiên khu vực và ưu tiên đối tượng' metadata={'doc_id': 'ebe71618-13cc-11ef-b548-0242ac1c000c'}\n",
      "page_content='Nếu em là sinh viên trễ tiến độ đăng ký xác nhận sinh viên, em chọn chứng nhận cho sinh viên nợ môn học ->Tạm hoãn nghĩa vụ quân sự tại địa phương (Bổ sung hồ sơ cá nhân, Bổ sung hồ sơ địa phương) -> Nhập môn học còn nợ -> Nhấn cam kết -> Gửi' metadata={'doc_id': '573ca18f-1b6d-11ef-a755-d38426455a06'}\n",
      "page_content='Em phải xin bảng điểm các môn em đã học ở trường cũ mà trong chương trình hiện tại của trường mới có.' metadata={'doc_id': '573ca1bd-1b6d-11ef-a755-d38426455a06'}\n",
      "page_content='Để đăng ký xác nhận sinh viên, em vui lòng đăng nhập vào Cổng thông tin sinh viên: https://stdportal.tdtu.edu.vn' metadata={'doc_id': '573ca18f-1b6d-11ef-a755-d38426455a06'}\n",
      "page_content='Em phải xin đề cương các môn em đã học ở trường cũ mà trong chương trình hiện tại của trường mới có.' metadata={'doc_id': '573ca1bd-1b6d-11ef-a755-d38426455a06'}\n",
      "page_content='Những môn học được quy định không tham gia tính điểm trung bình sẽ không đưa vào công thức này để tính' metadata={'doc_id': '573ca1c3-1b6d-11ef-a755-d38426455a06'}\n",
      "page_content='Nếu sinh viên không đạt môn học tự chọn, sinh viên có quyền chọn đăng ký học lại chính môn học đó hoặc lựa chọn học các môn tự chọn khác cùng nhóm.' metadata={'doc_id': '573ca1e1-1b6d-11ef-a755-d38426455a06'}\n",
      "page_content='Các vị trí người học sau khi tốt nghiệp có thể đảm nhận trong và ngoài nước:' metadata={'doc_id': 'ebe68194-13cc-11ef-b548-0242ac1c000c'}\n",
      "page_content='Nếu sinh viên chọn học môn khác, ở học kỳ cuối cùng của khóa học, sinh viên có thể nộp đơn xin không tính điểm môn học tự chọn không đạt.' metadata={'doc_id': '573ca1eb-1b6d-11ef-a755-d38426455a06'}\n",
      "page_content='Nếu sinh viên chọn học môn khác để học thay thế thì ở học kỳ cuối cùng của khóa học, sinh viên có thể nộp đơn xin không tính điểm môn học tự chọn không đạt tại Văn phòng Tư vấn và Hỗ trợ.' metadata={'doc_id': '573ca1e9-1b6d-11ef-a755-d38426455a06'}\n",
      "page_content='Điểm không nhân hệ số, đã bao gồm điểm ưu tiên khu vực và ưu tiên đối tượng' metadata={'doc_id': 'ebe71618-13cc-11ef-b548-0242ac1c000c'}\n",
      "page_content='Đối với môn học tự chọn nếu không đạt sinh viên có quyền chọn đăng ký học lại chính môn học đó hoặc lựa chọn học các môn tự chọn khác cùng nhóm để đảm bảo tích lũy đủ số tín chỉ.' metadata={'doc_id': '573ca1eb-1b6d-11ef-a755-d38426455a06'}\n",
      "page_content='Trong các học kỳ chính, số môn học còn lại sau khi rút bớt không được dưới số tín chỉ quy định cho từng loại học lực:' metadata={'doc_id': '573ca1ea-1b6d-11ef-a755-d38426455a06'}\n",
      "page_content='Em có thể lựa chọn những nhóm học khác hoặc môn học khác để đăng ký.' metadata={'doc_id': '573ca1e3-1b6d-11ef-a755-d38426455a06'}\n",
      "page_content='Khối lượng học tối đa mà sinh viên có thể đăng ký trong mỗi học kỳ được thực hiện theo quy định sau:' metadata={'doc_id': '573ca1d7-1b6d-11ef-a755-d38426455a06'}\n",
      "page_content='Môn tương đương là một hay một nhóm môn học thuộc chương trình đào tạo (CTĐT) một khóa-ngành khác đang tổ chức đào tạo tại trường được phép tích lũy để thay cho một môn học hay một nhóm môn học trong CTĐT của ngành đào tạo.' metadata={'doc_id': '3369b8de-1b47-11ef-a755-d38426455a06'}\n",
      "page_content='Khối lượng học tập tối thiểu mà sinh viên phải đăng ký trong mỗi học kỳ được quy định như sau:' metadata={'doc_id': '573ca1d7-1b6d-11ef-a755-d38426455a06'}\n",
      "page_content='Khối lượng học tập tối đa mà sinh viên có thể đăng ký trong mỗi học kỳ được thực hiện theo quy định sau:' metadata={'doc_id': '573ca1d7-1b6d-11ef-a755-d38426455a06'}\n",
      "page_content='Em phải đưa đề cương và bảng điểm các môn em đã học ở trường cũ mà trong chương trình hiện tại của trường mới có cho Tổ trưởng bộ môn xem xét.' metadata={'doc_id': '573ca1bd-1b6d-11ef-a755-d38426455a06'}\n",
      "page_content='Em phải đưa đề cương và bảng điểm các môn em đã học ở trường cũ mà trong chương trình hiện tại của trường mới có cho Trưởng Khoa xem xét.' metadata={'doc_id': '573ca1bd-1b6d-11ef-a755-d38426455a06'}\n",
      "page_content='Khối lượng học tối thiểu mà sinh viên phải đăng ký trong mỗi học kỳ được thực hiện theo quy định sau:' metadata={'doc_id': '573ca1d7-1b6d-11ef-a755-d38426455a06'}\n",
      "page_content='Thủ tục đăng ký học lại hoặc đăng ký học cải thiện điểm hoàn toàn giống như thủ tục đăng ký môn học lần đầu.' metadata={'doc_id': '573ca1ba-1b6d-11ef-a755-d38426455a06'}\n",
      "page_content='Em có thể lựa chọn những nhóm học khác hoặc môn học khác để đăng ký.' metadata={'doc_id': '573ca1e3-1b6d-11ef-a755-d38426455a06'}\n",
      "page_content='Nhóm học mà em đăng ký không đủ số lượng tối thiểu.' metadata={'doc_id': '573ca1e3-1b6d-11ef-a755-d38426455a06'}\n",
      "page_content='Sinh viên có thể đăng ký học lại các môn học đã tích luỹ để cải thiện điểm.' metadata={'doc_id': '573ca1d9-1b6d-11ef-a755-d38426455a06'}\n",
      "page_content='Lớp học có sĩ số thấp; Cơ sở vật chất và điều kiện học tập đầy đủ, tiện nghi, hiện đại;' metadata={'doc_id': 'ebe5bcb4-13cc-11ef-b548-0242ac1c000c'}\n",
      "page_content='Điểm không nhân hệ số, đã bao gồm điểm ưu tiên khu vực và ưu tiên đối tượng' metadata={'doc_id': 'ebe71618-13cc-11ef-b548-0242ac1c000c'}\n",
      "page_content='Sinh viên được phép đăng ký học lại môn học bất kỳ đã có kết quả đạt để cải thiện điểm.' metadata={'doc_id': '573ca1ba-1b6d-11ef-a755-d38426455a06'}\n",
      "page_content='Em có thể lựa chọn những nhóm học khác hoặc môn học khác để đăng ký.' metadata={'doc_id': '573ca1e3-1b6d-11ef-a755-d38426455a06'}\n",
      "page_content='Trong mục Thời khóa biểu, sinh viên chọn học kỳ cần xem.' metadata={'doc_id': '573ca1ec-1b6d-11ef-a755-d38426455a06'}\n"
     ]
    },
    {
     "data": {
      "application/vnd.jupyter.widget-view+json": {
       "model_id": "bdf9298e31f44d1d843eb2b515f9522d",
       "version_major": 2,
       "version_minor": 0
      },
      "text/plain": [
       "Filter:   0%|          | 0/344 [00:00<?, ? examples/s]"
      ]
     },
     "metadata": {},
     "output_type": "display_data"
    },
    {
     "name": "stdout",
     "output_type": "stream",
     "text": [
      "page_content='Sau khi chọn học kỳ cần xem, sinh viên chọn Thời khóa biểu tổng quát.' metadata={'doc_id': '573ca1ec-1b6d-11ef-a755-d38426455a06'}\n",
      "page_content='Em sẽ xem được điểm của những lần thi trước.' metadata={'doc_id': '3369b8df-1b47-11ef-a755-d38426455a06'}\n",
      "page_content='Nhóm học mà em đăng ký không đủ số lượng tối thiểu.' metadata={'doc_id': '573ca1e3-1b6d-11ef-a755-d38426455a06'}\n",
      "page_content='Sau khi chọn môn đã đăng ký, sinh viên chọn học kỳ cần xem thời khóa biểu.' metadata={'doc_id': '573ca1ec-1b6d-11ef-a755-d38426455a06'}\n",
      "page_content='Chương trình có các điểm khác biệt như sau:' metadata={'doc_id': 'ebe7a61e-13cc-11ef-b548-0242ac1c000c'}\n",
      "page_content='Khi xem tiếng Anh là một ngôn ngữ, em sẽ có cách nhìn khác về nó.' metadata={'doc_id': '573ca17e-1b6d-11ef-a755-d38426455a06'}\n",
      "page_content='Đối với Khóa tuyển sinh năm 2020 trở về trước, ' metadata={'doc_id': '573ca1f8-1b6d-11ef-a755-d38426455a06'}\n",
      "page_content='Đối với Khóa tuyển sinh năm 2020 trở về trước:' metadata={'doc_id': '573ca1b1-1b6d-11ef-a755-d38426455a06'}\n",
      "page_content='Thí sinh Đăng ký thứ tự nguyện vọng xét tuyển với các thông tin: Thứ tự nguyện vọng; mã trường, tên trường; mã ngành, tên ngành.' metadata={'doc_id': 'ebe5e982-13cc-11ef-b548-0242ac1c000c'}\n"
     ]
    },
    {
     "data": {
      "application/vnd.jupyter.widget-view+json": {
       "model_id": "75c15cb7b70540f5b177a2738ca2cd74",
       "version_major": 2,
       "version_minor": 0
      },
      "text/plain": [
       "Filter:   0%|          | 0/344 [00:00<?, ? examples/s]"
      ]
     },
     "metadata": {},
     "output_type": "display_data"
    },
    {
     "name": "stdout",
     "output_type": "stream",
     "text": [
      "page_content='Đối với Khóa tuyển sinh năm 2020 trở về trước: Thứ hạng tốt nghiệp của sinh viên có kết quả học tập toàn khóa đối với loại giỏi và loại xuất sắc, thứ hạng tốt nghiệp sẽ bị giảm đi 1 mức nếu sinh viên đã bị kỷ luật trong thời gian học từ mức cảnh cáo ở cấp trường trở lên.' metadata={'doc_id': '573ca1b9-1b6d-11ef-a755-d38426455a06'}\n",
      "page_content='Đối với Khóa tuyển sinh năm 2021 trở về sau, sinh viên bị cảnh báo kết quả học tập khi thuộc một trong các trường hợp sau:' metadata={'doc_id': '573ca1f8-1b6d-11ef-a755-d38426455a06'}\n",
      "page_content='Sinh viên khóa tuyển sinh năm 2021 trở về sau được xin nghỉ học tạm thời và bảo lưu kết quả đã học trong các trường hợp sau:' metadata={'doc_id': '3369b8d9-1b47-11ef-a755-d38426455a06'}\n",
      "page_content='Sinh viên chương trình Tiêu chuẩn, chương trình Chất lượng cao: SV dựa vào KHHT và thời khóa biểu trong HK do trường công bố để đăng ký môn học theo kế hoạch đăng ký môn học của Trường.' metadata={'doc_id': '573ca1d8-1b6d-11ef-a755-d38426455a06'}\n",
      "page_content='Sinh viên có quyền chọn đăng ký học lại chính môn học tự chọn không đạt hoặc lựa chọn học các môn tự chọn khác cùng nhóm để đảm bảo tích lũy đủ số tín chỉ.' metadata={'doc_id': '573ca1ba-1b6d-11ef-a755-d38426455a06'}\n",
      "page_content='Nếu sinh viên đạt điểm E ở kỳ thi kết thúc môn thì phải đăng ký học lại Tiếng Anh cuối vào học kỳ kế tiếp (đối với chương trình Tiêu chuẩn khóa tuyển sinh 2017 trở về sau và chương trình Chất lượng cao khóa tuyển sinh 2019 trở về sau).' metadata={'doc_id': '573ca205-1b6d-11ef-a755-d38426455a06'}\n",
      "page_content='Sinh viên nên cân nhắc có nên tiếp tục học như đã đăng ký hay không vì học lại cũng là một hình thức để ôn lại kiến thức.' metadata={'doc_id': '573ca1d5-1b6d-11ef-a755-d38426455a06'}\n",
      "page_content='Sinh viên phải đăng ký học lại môn học bắt buộc hoặc môn học lựa chọn bắt buộc theo ngành/chuyên ngành nếu điểm tổng kết môn học không đạt.' metadata={'doc_id': '573ca1ba-1b6d-11ef-a755-d38426455a06'}\n",
      "page_content='Sinh viên chương trình Chất lượng cao, chương trình Đại học bằng Tiếng Anh chỉ đăng ký KHHT các môn Giáo dục thể chất, giáo dục quốc phòng HP3, HP4, các môn học thuộc nhóm Kỹ năng phát triển bền vững, các môn học đã học nhưng chưa đạt hoặc các môn học trễ tiến độ.' metadata={'doc_id': '573ca1d8-1b6d-11ef-a755-d38426455a06'}\n",
      "page_content='Nếu sinh viên đạt điểm E ở kỳ thi kết thúc môn thì phải đăng ký học lại Tiếng Anh cuối vào học kỳ kế tiếp (đối với chương trình Tiêu chuẩn khóa tuyển sinh 2017 đến khóa tuyển sinh 2021 và chương trình Chất lượng cao khóa tuyển sinh 2019 đến khóa tuyển sinh 2021).' metadata={'doc_id': '573ca1c2-1b6d-11ef-a755-d38426455a06'}\n",
      "page_content='Sinh viên chỉ được hưởng các quyền lợi chính thức và được xem xét công nhận tốt nghiệp chương trình thứ hai khi đã đăng ký thành công học chương trình thứ hai.' metadata={'doc_id': '573ca1fc-1b6d-11ef-a755-d38426455a06'}\n",
      "page_content='Không nợ học phí (tính đến thời điểm sinh viên đề nghị nghỉ học tạm thời)' metadata={'doc_id': '573ca1f6-1b6d-11ef-a755-d38426455a06'}\n",
      "page_content='Theo nguyên tắc, khi kết thúc thời gian đăng ký kế hoạch học tập (KHHT) thì sinh viên không được phép hủy môn đã đăng ký trong KHHT.' metadata={'doc_id': '573ca1e4-1b6d-11ef-a755-d38426455a06'}\n",
      "page_content='Hồ sơ đăng ký dự thi gồm:' metadata={'doc_id': 'ebe4d1fa-13cc-11ef-b548-0242ac1c000c'}\n",
      "page_content='Nhóm học mà em đăng ký không đủ số lượng tối thiểu.' metadata={'doc_id': '573ca1e3-1b6d-11ef-a755-d38426455a06'}\n",
      "page_content='Kỹ thuật cơ điện tử' metadata={'doc_id': 'ebe81c98-13cc-11ef-b548-0242ac1c000c'}\n",
      "page_content='Sinh viên phải đăng ký đúng các môn đã xây dựng trong KHHT.' metadata={'doc_id': '573ca1dc-1b6d-11ef-a755-d38426455a06'}\n",
      "page_content='Sinh viên còn trong thời hạn khóa học bị cảnh báo khi:' metadata={'doc_id': '573ca1f8-1b6d-11ef-a755-d38426455a06'}\n",
      "page_content='Em phải xin đề cương các môn em đã học ở trường cũ mà trong chương trình hiện tại của trường mới có.' metadata={'doc_id': '573ca1bd-1b6d-11ef-a755-d38426455a06'}\n",
      "page_content='Sinh viên có thể bổ sung hoặc điều chỉnh KHHT trong thời gian đăng ký KHHT chính thức.' metadata={'doc_id': '573ca1dc-1b6d-11ef-a755-d38426455a06'}\n",
      "page_content='Sinh viên có thể bổ sung hoặc điều chỉnh KHHT trong thời gian giảng viên cố vấn hỗ trợ sinh viên điều chỉnh KHHT.' metadata={'doc_id': '573ca1dc-1b6d-11ef-a755-d38426455a06'}\n",
      "page_content='Đối với HK chính (HK1 và HK2): Sinh viên liên hệ với GVCV (trong đợt GVCV phê duyệt KHHT cho sinh viên) để được hỗ trợ đăng ký KHHT bổ sung.' metadata={'doc_id': '573ca1f1-1b6d-11ef-a755-d38426455a06'}\n"
     ]
    },
    {
     "data": {
      "application/vnd.jupyter.widget-view+json": {
       "model_id": "99866c9145ac4590bbfa6a0977c39015",
       "version_major": 2,
       "version_minor": 0
      },
      "text/plain": [
       "Filter:   0%|          | 0/344 [00:00<?, ? examples/s]"
      ]
     },
     "metadata": {},
     "output_type": "display_data"
    },
    {
     "name": "stdout",
     "output_type": "stream",
     "text": [
      "page_content='Lưu ý: Nếu không đăng ký KHHT, sinh viên sẽ bị hạn chế chọn các nhóm môn học (do nhóm đầy sĩ số), sinh viên chỉ đăng ký vào những nhóm còn trống sĩ số.' metadata={'doc_id': '573ca1f1-1b6d-11ef-a755-d38426455a06'}\n",
      "page_content='Theo nguyên tắc, khi kết thúc thời gian đăng ký kế hoạch học tập (KHHT) thì sinh viên không được phép hủy môn đã đăng ký trong KHHT.' metadata={'doc_id': '573ca1e4-1b6d-11ef-a755-d38426455a06'}\n",
      "page_content='Trường hợp sinh viên không liên hệ được với GVCV hoặc sinh viên có nhu cầu đăng ký thêm môn ngoài KHHT: Sinh viên có thể đăng ký môn học vào đợt dành cho sinh viên chưa xây dựng KHHT.' metadata={'doc_id': '573ca1f1-1b6d-11ef-a755-d38426455a06'}\n",
      "page_content='Do đó, sinh viên cần cân nhắc, suy nghĩ kỹ khi đăng ký KHHT.' metadata={'doc_id': '573ca1e4-1b6d-11ef-a755-d38426455a06'}\n",
      "page_content='Nhà trường không mở lớp cho nhóm học của em.' metadata={'doc_id': '573ca1e3-1b6d-11ef-a755-d38426455a06'}\n",
      "page_content='Em có thể trả nợ bằng môn tương đương, thay thế.' metadata={'doc_id': '573ca1f2-1b6d-11ef-a755-d38426455a06'}\n",
      "page_content='Em thi không đạt nên em không cần học lại.' metadata={'doc_id': '573ca1d6-1b6d-11ef-a755-d38426455a06'}\n",
      "page_content='Trong trường hợp môn học tương đương hay môn học cần đăng ký không còn mở thì sinh viên có nguyện vọng trả nợ với chương trình tiêu chuẩn phải làm đơn.' metadata={'doc_id': '573ca1ee-1b6d-11ef-a755-d38426455a06'}\n",
      "page_content='Nếu em là sinh viên trễ tiến độ đăng ký xác nhận sinh viên, em chọn chứng nhận cho sinh viên nợ môn học ->Tạm hoãn nghĩa vụ quân sự tại địa phương (Bổ sung hồ sơ cá nhân, Bổ sung hồ sơ địa phương) -> Nhập môn học còn nợ -> Nhấn cam kết -> Gửi' metadata={'doc_id': '573ca18f-1b6d-11ef-a755-d38426455a06'}\n",
      "page_content='Em vui lòng báo với giám thị coi thi về trường hợp của em.' metadata={'doc_id': '573ca1ca-1b6d-11ef-a755-d38426455a06'}\n",
      "page_content='Những nguyên lý cơ bản của chủ nghĩa Mac – Lênin, Tư tưởng Hồ Chí Minh, Đường lối cách mạng của\\xa0 Đảng Cộng sản Việt nam, Pháp luật đại cương' metadata={'doc_id': 'ebe5bcb4-13cc-11ef-b548-0242ac1c000c'}\n",
      "page_content='Đối với sinh viên học theo chương trình do Trường đại học liên kết cấp bằng: sinh viên chỉ học 02 học phần GDTC là Bơi và GDTC 1 (không học chính trị Mác – Lênin, Tư tưởng Hồ Chí Minh, Đường lối cách mạng Việt Nam và GDQP).' metadata={'doc_id': '3369b8e6-1b47-11ef-a755-d38426455a06'}\n"
     ]
    },
    {
     "data": {
      "application/vnd.jupyter.widget-view+json": {
       "model_id": "54349e537fe94ce8a9c083c865b15e78",
       "version_major": 2,
       "version_minor": 0
      },
      "text/plain": [
       "Filter:   0%|          | 0/344 [00:00<?, ? examples/s]"
      ]
     },
     "metadata": {},
     "output_type": "display_data"
    },
    {
     "name": "stdout",
     "output_type": "stream",
     "text": [
      "page_content='Các sinh viên giỏi có thể được xét học chuyển tiếp lên bậc đào tạo thạc sĩ hoặc tiến sĩ của Khoa Công nghệ thông tin, Trường đại học Tôn Đức Thắng.' metadata={'doc_id': 'ebe64238-13cc-11ef-b548-0242ac1c000c'}\n"
     ]
    },
    {
     "data": {
      "application/vnd.jupyter.widget-view+json": {
       "model_id": "4934935a0cde465ba20d17d76e012143",
       "version_major": 2,
       "version_minor": 0
      },
      "text/plain": [
       "Filter:   0%|          | 0/344 [00:00<?, ? examples/s]"
      ]
     },
     "metadata": {},
     "output_type": "display_data"
    },
    {
     "name": "stdout",
     "output_type": "stream",
     "text": [
      "page_content='Sinh viên ngành Công nghệ sinh học - Chương trình Chất Lượng Cao tại TDTU được thực hành tại phòng thí nghiệm, tham gia các đợt học tập ngoài thực địa, tại doanh nghiệp; được tham gia cùng thực hiện các đề tài, dự án cùng với giảng viên và doanh nghiệp.' metadata={'doc_id': 'ebe7534e-13cc-11ef-b548-0242ac1c000c'}\n"
     ]
    },
    {
     "data": {
      "application/vnd.jupyter.widget-view+json": {
       "model_id": "ad8efcbb92094f308dbd16028adaebb3",
       "version_major": 2,
       "version_minor": 0
      },
      "text/plain": [
       "Filter:   0%|          | 0/344 [00:00<?, ? examples/s]"
      ]
     },
     "metadata": {},
     "output_type": "display_data"
    },
    {
     "name": "stdout",
     "output_type": "stream",
     "text": [
      "page_content='Đại học Tôn Đức Thắng có trụ sở tại số 19 Nguyễn Hữu Thọ, Phường Tân Phong, Quận 7, TP. Hồ Chí Minh, Việt Nam.' metadata={'doc_id': 'ebe77fea-13cc-11ef-b548-0242ac1c000c'}\n"
     ]
    },
    {
     "data": {
      "application/vnd.jupyter.widget-view+json": {
       "model_id": "55de60e2eba5445cada422f297f1b42f",
       "version_major": 2,
       "version_minor": 0
      },
      "text/plain": [
       "Filter:   0%|          | 0/344 [00:00<?, ? examples/s]"
      ]
     },
     "metadata": {},
     "output_type": "display_data"
    },
    {
     "name": "stdout",
     "output_type": "stream",
     "text": [
      "page_content='Sinh viên học CTLK sẽ được học tại Trường đại học Tôn Đức Thắng, số 19 Đường Nguyễn Hữu Thọ, Phường Tân Phong, Quận 7, TP. Hồ Chí Minh trong giai đoạn 1 và học tại Trường đại học liên kết tại nước ngoài trong giai đoạn 2' metadata={'doc_id': 'ebe71618-13cc-11ef-b548-0242ac1c000c'}\n",
      "page_content='Sinh viên nộp hồ sơ tại Văn phòng Tư vấn và Hỗ trợ người học (thời hạn: ngay khi được xếp lịch học môn Giáo dục Quốc phòng).' metadata={'doc_id': '573ca1bb-1b6d-11ef-a755-d38426455a06'}\n",
      "page_content='Ngoài ra, sinh viên sau khi tốt nghiệp còn có cơ hội trở thành giảng viên giảng dạy các môn học thuộc chuyên ngành Kiến trúc tại các trường đại học trên cả nước hoặc nước ngoài.' metadata={'doc_id': 'ebe5f2d8-13cc-11ef-b548-0242ac1c000c'}\n",
      "page_content='Nhà trường sẽ tổ chức mở lớp ôn tập cho sinh viên được cứu xét gia hạn đào tạo.' metadata={'doc_id': '3369b8e3-1b47-11ef-a755-d38426455a06'}\n",
      "page_content='Em có thể trả nợ bằng môn tương đương, thay thế.' metadata={'doc_id': '573ca1f2-1b6d-11ef-a755-d38426455a06'}\n",
      "page_content='Nhà trường sẽ không giải quyết bất kỳ khiếu nại về sau nếu thí sinh không thực hiện việc xác nhận nhập học theo quy định đã thông báo' metadata={'doc_id': 'ebe7ce64-13cc-11ef-b548-0242ac1c000c'}\n",
      "page_content='Những môn học được quy định không tham gia tính điểm trung bình sẽ không đưa vào công thức này để tính' metadata={'doc_id': '573ca1c3-1b6d-11ef-a755-d38426455a06'}\n",
      "page_content='Trong trường hợp môn học tương đương hay môn học cần đăng ký không còn mở thì sinh viên có nguyện vọng trả nợ với chương trình tiêu chuẩn phải làm đơn.' metadata={'doc_id': '573ca1ee-1b6d-11ef-a755-d38426455a06'}\n",
      "page_content='Môn học thay thế được sử dụng khi một môn học có trong CTĐT nhưng nay không còn tổ chức giảng dạy nữa và được thay thế bằng một môn học khác đang còn tổ chức giảng dạy.' metadata={'doc_id': '3369b8de-1b47-11ef-a755-d38426455a06'}\n",
      "page_content='Nếu sinh viên không đạt môn học tự chọn, sinh viên có quyền chọn đăng ký học lại chính môn học đó hoặc lựa chọn học các môn tự chọn khác cùng nhóm.' metadata={'doc_id': '573ca1e1-1b6d-11ef-a755-d38426455a06'}\n",
      "page_content='Sinh viên có thể đăng ký vào bất kỳ học kỳ nào mà môn học có mở lớp.' metadata={'doc_id': '573ca1ba-1b6d-11ef-a755-d38426455a06'}\n",
      "page_content='Em có thể lựa chọn những nhóm học khác hoặc môn học khác để đăng ký.' metadata={'doc_id': '573ca1e3-1b6d-11ef-a755-d38426455a06'}\n",
      "page_content='Em phải xin bảng điểm các môn em đã học ở trường cũ mà trong chương trình hiện tại của trường mới có.' metadata={'doc_id': '573ca1bd-1b6d-11ef-a755-d38426455a06'}\n",
      "page_content='Những môn học được quy định không tham gia tính điểm trung bình sẽ không đưa vào công thức này để tính' metadata={'doc_id': '573ca1c3-1b6d-11ef-a755-d38426455a06'}\n",
      "page_content='Trong trường hợp môn học tương đương hay môn học cần đăng ký không còn mở thì sinh viên có nguyện vọng trả nợ với chương trình tiêu chuẩn phải làm đơn.' metadata={'doc_id': '573ca1ee-1b6d-11ef-a755-d38426455a06'}\n",
      "page_content='Trong trường hợp Khoa không mở thêm nhóm hoặc không tăng thêm sĩ số, thì kết quả đăng ký môn học vào các nhóm đầy sĩ số sẽ bị hủy.' metadata={'doc_id': '573ca1f5-1b6d-11ef-a755-d38426455a06'}\n",
      "page_content='Sau khi đăng ký môn học thành công thì sinh viên không được thay đổi lịch học.' metadata={'doc_id': '573ca1f4-1b6d-11ef-a755-d38426455a06'}\n",
      "page_content='Bên cạnh đó, sinh viên còn được tham gia các học phần thực tế tại nước ngoài, tìm hiểu văn hóa và kiến trúc đặc trưng của các quốc gia có lịch sử lâu đời trên thế giới, qua đó nâng cao hiểu biết về văn hóa và kiến thức chuyên ngành, đồng thời giúp sinh viên phát triển tư duy thẩm mỹ và năng lực nghiên cứu, sáng tạo trong nghệ thuật.' metadata={'doc_id': 'ebe5f2d8-13cc-11ef-b548-0242ac1c000c'}\n",
      "page_content='Các môn học chuyên ngành được chọn lựa dựa theo nhu cầu của thị trường lao động;' metadata={'doc_id': 'ebe5a04e-13cc-11ef-b548-0242ac1c000c'}\n",
      "page_content='Bên cạnh đó, sinh viên được học thực tế nghê nghiệp, thực tập tại doanh nghiệp du lịch trong và ngoài nước.' metadata={'doc_id': 'ebe72cd4-13cc-11ef-b548-0242ac1c000c'}\n"
     ]
    },
    {
     "data": {
      "application/vnd.jupyter.widget-view+json": {
       "model_id": "818c0e4567034fa48fb2ca4bec217cc9",
       "version_major": 2,
       "version_minor": 0
      },
      "text/plain": [
       "Filter:   0%|          | 0/344 [00:00<?, ? examples/s]"
      ]
     },
     "metadata": {},
     "output_type": "display_data"
    },
    {
     "name": "stdout",
     "output_type": "stream",
     "text": [
      "page_content='Các môn học chuyên ngành được chọn lựa dựa theo nhu cầu của thị trường lao động' metadata={'doc_id': 'ebe5b87c-13cc-11ef-b548-0242ac1c000c'}\n",
      "page_content='Được học tăng cường tiếng Anh trong mô hình nước Anh thu nhỏ “Litle UK”, giao tiếp 100% tiếng Anh trong không gian mở, bảo đảm năng lực học trực tiếp bằng tiếng Anh trong chương trình liên kết và dễ dàng chuyển tiếp sang học giai đoạn 2 ở nước ngoài.' metadata={'doc_id': 'ebe52db2-13cc-11ef-b548-0242ac1c000c'}\n"
     ]
    },
    {
     "data": {
      "application/vnd.jupyter.widget-view+json": {
       "model_id": "49ec1e5f455a4d128c3991754fd4eae4",
       "version_major": 2,
       "version_minor": 0
      },
      "text/plain": [
       "Filter:   0%|          | 0/344 [00:00<?, ? examples/s]"
      ]
     },
     "metadata": {},
     "output_type": "display_data"
    },
    {
     "name": "stdout",
     "output_type": "stream",
     "text": [
      "page_content='Những môn học được quy định không tham gia tính điểm trung bình sẽ không đưa vào công thức này để tính' metadata={'doc_id': '573ca1c3-1b6d-11ef-a755-d38426455a06'}\n",
      "page_content='Sinh viên đạt được các kiến thức cơ bản về Hán tự, ngôn ngữ, văn hóa văn học, lịch sử, đất nước con người Trung Quốc; có kỹ năng giao tiếp, soạn thảo văn bản bằng tiếng Trung Quốc và tiếng Anh (chuyên ngành Ngôn ngữ văn học).' metadata={'doc_id': 'ebe5c934-13cc-11ef-b548-0242ac1c000c'}\n"
     ]
    },
    {
     "data": {
      "application/vnd.jupyter.widget-view+json": {
       "model_id": "35f0ae8974f0463bb7b19d746fae7a37",
       "version_major": 2,
       "version_minor": 0
      },
      "text/plain": [
       "Filter:   0%|          | 0/344 [00:00<?, ? examples/s]"
      ]
     },
     "metadata": {},
     "output_type": "display_data"
    },
    {
     "name": "stdout",
     "output_type": "stream",
     "text": [
      "page_content='Khối lượng học tối đa mà sinh viên có thể đăng ký trong mỗi học kỳ được thực hiện theo quy định sau:' metadata={'doc_id': '573ca1d7-1b6d-11ef-a755-d38426455a06'}\n",
      "page_content='Em có thể lựa chọn những nhóm học khác hoặc môn học khác để đăng ký.' metadata={'doc_id': '573ca1e3-1b6d-11ef-a755-d38426455a06'}\n",
      "page_content='Trong trường hợp Khoa không mở thêm nhóm hoặc không tăng thêm sĩ số, thì kết quả đăng ký môn học vào các nhóm đầy sĩ số sẽ bị hủy.' metadata={'doc_id': '573ca1f5-1b6d-11ef-a755-d38426455a06'}\n",
      "page_content='Sinh viên chọn mục Đăng ký chứng nhận' metadata={'doc_id': '573ca198-1b6d-11ef-a755-d38426455a06'}\n",
      "page_content='Lưu ý: Nếu không đăng ký KHHT, sinh viên sẽ bị hạn chế chọn các nhóm môn học (do nhóm đầy sĩ số), sinh viên chỉ đăng ký vào những nhóm còn trống sĩ số.' metadata={'doc_id': '573ca1f1-1b6d-11ef-a755-d38426455a06'}\n",
      "page_content='Nhóm học mà em đăng ký không đủ số lượng tối thiểu.' metadata={'doc_id': '573ca1e3-1b6d-11ef-a755-d38426455a06'}\n",
      "page_content='Tư vấn tuyển sinh sau đại học:' metadata={'doc_id': 'ebe88066-13cc-11ef-b548-0242ac1c000c'}\n",
      "page_content='Em chỉ cần đăng ký dự thi lại.' metadata={'doc_id': '573ca1d6-1b6d-11ef-a755-d38426455a06'}\n",
      "page_content='Sinh viên vẫn có thể đăng ký bù vào học kỳ tiếp theo có lớp.' metadata={'doc_id': '573ca1dd-1b6d-11ef-a755-d38426455a06'}\n",
      "page_content='Nếu sinh viên được tái ký hợp đồng gia hạn ở trong năm học tiếp theo thì số lỗi ở năm học trước sẽ không tính nữa.' metadata={'doc_id': '573ca1a5-1b6d-11ef-a755-d38426455a06'}\n",
      "page_content='Hệ thống sẽ lưu yêu cầu của em thành công -> Kết quả ghi nhận -> Xem Tình trạng xử lý -> xem Mã YC -> Nếu hợp lệ, em liên hệ Phòng Công tác Học sinh – Sinh viên (A.003) \\xa0nhận lại xác nhận sinh viên trong thời gian tiếp sinh viên, Nếu không hợp lệ, em vui lòng xem phần \\\\\"Ghi chú\\\\' metadata={'doc_id': '573ca18f-1b6d-11ef-a755-d38426455a06'}\n",
      "page_content='Sinh viên không được phép chuyển trường nếu là sinh viên năm thứ nhất và năm cuối khóa.' metadata={'doc_id': '573ca1ff-1b6d-11ef-a755-d38426455a06'}\n",
      "page_content='Đến thời hạn nhập học, em phải làm đơn xin gia hạn thời gian nghỉ học tạm thời.' metadata={'doc_id': '573ca1f7-1b6d-11ef-a755-d38426455a06'}\n",
      "page_content='Em thi không đạt nên em không cần học lại.' metadata={'doc_id': '573ca1d6-1b6d-11ef-a755-d38426455a06'}\n",
      "page_content='- Sinh viên đã kết thúc học kỳ thứ nhất năm học đầu tiên của chương trình thứ nhất;' metadata={'doc_id': '573ca1ed-1b6d-11ef-a755-d38426455a06'}\n",
      "page_content='Sinh viên khóa tuyển sinh năm 2021 trở về sau được xin nghỉ học tạm thời và bảo lưu kết quả đã học trong các trường hợp sau:' metadata={'doc_id': '3369b8d9-1b47-11ef-a755-d38426455a06'}\n",
      "page_content='Sinh viên nộp học phí tạm thu của học kỳ 1 năm nhất và các khoản chi phí khác khi làm thủ tục nhập học đầu năm.' metadata={'doc_id': '3369b8e1-1b47-11ef-a755-d38426455a06'}\n",
      "page_content='làm việc với tư cách luật sư độc lập (sau khi tốt nghiệp sinh viên có thể học thêm chứng chỉ đào tạo luật sư tại học viện tư pháp và có giấy phép hành nghề luật sư…)' metadata={'doc_id': 'ebe5ad1e-13cc-11ef-b548-0242ac1c000c'}\n",
      "page_content='Đến thời hạn nhập học, em phải làm đơn xin gia hạn thời gian nghỉ học tạm thời.' metadata={'doc_id': '573ca1f7-1b6d-11ef-a755-d38426455a06'}\n",
      "page_content='Điểm không nhân hệ số, đã bao gồm điểm ưu tiên khu vực và ưu tiên đối tượng' metadata={'doc_id': 'ebe71618-13cc-11ef-b548-0242ac1c000c'}\n",
      "page_content='Trường hợp sinh viên không làm thủ tục dự thi nhưng không làm đơn hoãn thi hoặc có làm thủ tục dự thi nhưng vắng thi (không có lý do chính đáng) sẽ bị tính điểm 0 cho học phần Tiếng Anh/Anh văn đã đăng ký trong học kỳ hiện tại' metadata={'doc_id': '573ca182-1b6d-11ef-a755-d38426455a06'}\n",
      "page_content='Những môn học được quy định không tham gia tính điểm trung bình sẽ không đưa vào công thức này để tính' metadata={'doc_id': '573ca1c3-1b6d-11ef-a755-d38426455a06'}\n",
      "page_content='Em phải xin đề cương các môn em đã học ở trường cũ mà trong chương trình hiện tại của trường mới có.' metadata={'doc_id': '573ca1bd-1b6d-11ef-a755-d38426455a06'}\n",
      "page_content='Khối lượng học tập tối thiểu mà sinh viên phải đăng ký trong mỗi học kỳ được quy định như sau:' metadata={'doc_id': '573ca1d7-1b6d-11ef-a755-d38426455a06'}\n",
      "page_content='Em phải xin bảng điểm các môn em đã học ở trường cũ mà trong chương trình hiện tại của trường mới có.' metadata={'doc_id': '573ca1bd-1b6d-11ef-a755-d38426455a06'}\n",
      "page_content='Sinh viên bị buộc thôi học khi thuộc vào một trong các trường hợp sau:' metadata={'doc_id': '573ca1f8-1b6d-11ef-a755-d38426455a06'}\n",
      "page_content='Sinh viên bị buộc thôi học khi rơi vào một trong các trường hợp sau:' metadata={'doc_id': '573ca1f8-1b6d-11ef-a755-d38426455a06'}\n",
      "page_content='Sinh viên vì lý do cá nhân khác nhưng phải học tối thiểu 01 học kỳ ở Trường, không thuộc các trường hợp bị xem xét buộc thôi học hoặc xem xét kỷ luật, phải đạt điểm trung bình chung tích lũy không dưới 5,00 thì được nghỉ học tạm thời.' metadata={'doc_id': '3369b8d9-1b47-11ef-a755-d38426455a06'}\n",
      "page_content='Thí sinh sẽ nhận thư mời nhập học sau khi tập trung tại trường' metadata={'doc_id': 'ebe80b2c-13cc-11ef-b548-0242ac1c000c'}\n",
      "page_content='Các vị trí người học sau khi tốt nghiệp có thể đảm nhận trong và ngoài nước:' metadata={'doc_id': 'ebe68194-13cc-11ef-b548-0242ac1c000c'}\n",
      "page_content='Sinh viên có nhu cầu cá nhân được nghỉ học tạm thời và bảo lưu kết quả đã học nếu đã học ít nhất một học kỳ ở trường, không rơi vào các trường hợp bị buộc thôi học và phải đạt điểm trung bình chung tích lũy không dưới 5.00.' metadata={'doc_id': '3369b8d9-1b47-11ef-a755-d38426455a06'}\n",
      "page_content='Sinh viên chưa đủ trình độ tiếng Anh phải tham gia học tiếng Anh tăng cường theo qui định của chương trình.' metadata={'doc_id': 'ebe4f126-13cc-11ef-b548-0242ac1c000c'}\n",
      "page_content='Chương trình đại học bằng tiếng Anh đảm bảo chất lượng đào tạo và đầu ra đáp ứng tốt nhu cầu của xã hội.' metadata={'doc_id': 'ebe685b8-13cc-11ef-b548-0242ac1c000c'}\n",
      "page_content='Nếu tiếng Anh chưa đạt các chuẩn trên, nhưng người học vẫn muốn học chương trình này, thì phải chấp nhận “chỉ được công nhận trúng tuyển”, nhưng chưa có quyết định nhập học; và phải tham gia học bổ túc tiếng Anh tại TDTU cho đến khi đạt trình độ tương đương chuẩn nói trên để được “quyết định nhập học và công nhận là sinh viên”.' metadata={'doc_id': 'ebe63928-13cc-11ef-b548-0242ac1c000c'}\n",
      "page_content='Có các lớp học tăng cường tiếng Anh nhằm trang bị khả năng sử dụng tiếng Anh cho các bạn sinh viên sau khi ra trường.' metadata={'doc_id': 'ebe68194-13cc-11ef-b548-0242ac1c000c'}\n",
      "page_content='- Thí sinh đăng ký xét tuyển vào chương trình đại học chất lượng cao giảng dạy bằng tiếng Anh:' metadata={'doc_id': 'ebe70b32-13cc-11ef-b548-0242ac1c000c'}\n",
      "page_content='Sinh viên nếu\\xa0chưa đủ trình độ tiếng Anh phải tham gia học tiếng Anh tăng cường theo qui định của chương trình.' metadata={'doc_id': 'ebe6bca4-13cc-11ef-b548-0242ac1c000c'}\n",
      "page_content='Bài kiểm tra tương thích phù hợp với tất cả các thí sinh cho dù tiếng Anh của thí sinh đang ở cấp độ nào đi nữa.' metadata={'doc_id': 'ebe63144-13cc-11ef-b548-0242ac1c000c'}\n",
      "page_content='Sinh viên phải tham gia học tiếng Anh tăng cường theo qui định của chương trình nếu chưa đủ trình độ tiếng Anh.' metadata={'doc_id': 'ebe51c28-13cc-11ef-b548-0242ac1c000c'}\n",
      "page_content='Ngành đào tạo chính ở chương trình thứ hai phải khác ngành đào tạo chính ở chương trình thứ nhất.' metadata={'doc_id': '573ca1fc-1b6d-11ef-a755-d38426455a06'}\n",
      "page_content='Thời gian đăng ký nộp hồ sơ và tổ chức thi:' metadata={'doc_id': 'ebe4d1fa-13cc-11ef-b548-0242ac1c000c'}\n",
      "page_content='Thầy cô phòng Công tác Học sinh - Sinh viên sẽ cho sinh viên lịch hẹn để nhận lại giấy xác nhận.' metadata={'doc_id': '573ca194-1b6d-11ef-a755-d38426455a06'}\n"
     ]
    },
    {
     "data": {
      "application/vnd.jupyter.widget-view+json": {
       "model_id": "ac1914244b794e85889b6c8dd5429d06",
       "version_major": 2,
       "version_minor": 0
      },
      "text/plain": [
       "Filter:   0%|          | 0/344 [00:00<?, ? examples/s]"
      ]
     },
     "metadata": {},
     "output_type": "display_data"
    },
    {
     "name": "stdout",
     "output_type": "stream",
     "text": [
      "page_content='Thời gian nộp hồ sơ và tổ chức thi' metadata={'doc_id': 'ebe858ca-13cc-11ef-b548-0242ac1c000c'}\n",
      "page_content='Bài thi đánh giá gồm các tiêu chí sau:' metadata={'doc_id': '573ca1e0-1b6d-11ef-a755-d38426455a06'}\n",
      "page_content='- Ngành đào tạo chính ở chương trình thứ hai phải khác ngành đào tạo chính ở chương trình thứ nhất; Riêng một số ngành đặc thù (về sức khỏe, mỹ thuật công nghiệp, kiến trúc, luật,...), sinh viên phải đáp ứng các yêu cầu đầu vào của chương trình thứ 2 do khoa chuyên môn xét.' metadata={'doc_id': '573ca1ed-1b6d-11ef-a755-d38426455a06'}\n",
      "page_content='Sinh viên chỉ được xét tốt nghiệp chương trình thứ hai, nếu có đủ điều kiện tốt nghiệp ở chương trình thứ nhất và đã đăng kí học chương trình thứ hai từ 02 năm trở lên cho đến thời điểm xét tốt nghiệp chương trình thứ hai.' metadata={'doc_id': '573ca1fc-1b6d-11ef-a755-d38426455a06'}\n",
      "page_content='Các lưu ý về đăng ký thi năng khiếu/năng lực tiếng Anh' metadata={'doc_id': 'ebe858ca-13cc-11ef-b548-0242ac1c000c'}\n",
      "page_content='Sinh viên khóa tuyển sinh năm 2021 trở về sau được xin nghỉ học tạm thời và bảo lưu kết quả đã học trong các trường hợp sau:' metadata={'doc_id': '3369b8d9-1b47-11ef-a755-d38426455a06'}\n",
      "page_content='Sinh viên được điều động vào lực lượng vũ trang được nghỉ học tạm thời và bảo lưu kết quả đã học.' metadata={'doc_id': '3369b8d9-1b47-11ef-a755-d38426455a06'}\n",
      "page_content='Sinh viên có các trường hợp đặc biệt khác do Hiệu trưởng quyết định được nghỉ học tạm thời và bảo lưu kết quả đã học.' metadata={'doc_id': '3369b8d9-1b47-11ef-a755-d38426455a06'}\n",
      "page_content='Sinh viên có thể tự mình thành lập các công ty khởi nghiệp.' metadata={'doc_id': 'ebe64238-13cc-11ef-b548-0242ac1c000c'}\n",
      "page_content='Sinh viên được điều động vào các lực lượng vũ trang được nghỉ học tạm thời và bảo lưu kết quả đã học.' metadata={'doc_id': '3369b8d9-1b47-11ef-a755-d38426455a06'}\n",
      "page_content='Sinh viên khóa tuyển sinh năm 2020 trở về trước được quyền viết đơn gửi Hiệu trưởng xin nghỉ học tạm thời và bảo lưu kết quả đã học trong các trường hợp sau:' metadata={'doc_id': '3369b8d9-1b47-11ef-a755-d38426455a06'}\n",
      "page_content='Sinh viên đang trong thời gian nghỉ học tạm thời không thuộc đối tượng được hỗ trợ chỗ ở nội trú tại KTX.' metadata={'doc_id': '573ca19e-1b6d-11ef-a755-d38426455a06'}\n",
      "page_content='Sinh viên có thể tự trang bị túi cho phù hợp để mang vật dụng lên Thư viện.' metadata={'doc_id': '573ca206-1b6d-11ef-a755-d38426455a06'}\n",
      "page_content='Đối với Khóa tuyển sinh năm 2021 trở về sau, thứ hạng tốt nghiệp của những sinh viên có kết quả học tập toàn khóa đối với loại giỏi và xuất sắc sẽ bị giảm đi một mức nếu thuộc một trong các trường hợp sau:' metadata={'doc_id': '573ca1b1-1b6d-11ef-a755-d38426455a06'}\n",
      "page_content='Đối với Khóa tuyển sinh năm 2021 trở về sau, sinh viên bị cảnh báo kết quả học tập khi thuộc một trong các trường hợp sau:' metadata={'doc_id': '573ca1f8-1b6d-11ef-a755-d38426455a06'}\n",
      "page_content='Thí sinh Đăng ký thứ tự nguyện vọng xét tuyển với các thông tin: Thứ tự nguyện vọng; mã trường, tên trường; mã ngành, tên ngành.' metadata={'doc_id': 'ebe5e982-13cc-11ef-b548-0242ac1c000c'}\n",
      "page_content='Sinh viên khóa tuyển sinh năm 2021 trở về sau được xin nghỉ học tạm thời và bảo lưu kết quả đã học trong các trường hợp sau:' metadata={'doc_id': '3369b8d9-1b47-11ef-a755-d38426455a06'}\n",
      "page_content='Đối với Khóa tuyển sinh năm 2021 trở về sau: Thứ hạng tốt nghiệp của những sinh viên có kết quả học tập toàn khóa đối với loại giỏi và xuất sắc, thứ hạng tốt nghiệp sẽ bị giảm đi một mức nếu thuộc một trong các trường hợp sau:' metadata={'doc_id': '573ca1b9-1b6d-11ef-a755-d38426455a06'}\n",
      "page_content='Đối với Khóa tuyển sinh năm 2020 trở về trước, ' metadata={'doc_id': '573ca1f8-1b6d-11ef-a755-d38426455a06'}\n",
      "page_content='Trong trường hợp môn học tương đương hay môn học cần đăng ký không còn mở thì sinh viên có nguyện vọng trả nợ với chương trình tiêu chuẩn phải làm đơn.' metadata={'doc_id': '573ca1ee-1b6d-11ef-a755-d38426455a06'}\n",
      "page_content='Em có thể lựa chọn những nhóm học khác hoặc môn học khác để đăng ký.' metadata={'doc_id': '573ca1e3-1b6d-11ef-a755-d38426455a06'}\n",
      "page_content='Những môn học được quy định không tham gia tính điểm trung bình sẽ không đưa vào công thức này để tính' metadata={'doc_id': '573ca1c3-1b6d-11ef-a755-d38426455a06'}\n",
      "page_content='Sinh viên theo học ngành Thống kê bên cạnh việc được đào tạo về kiến thức chuyên môn, nghiệp vụ còn được rèn luyện, bồi dưỡng thêm nhiều kỹ năng mềm, như kỹ năng làm việc nhóm, kỹ năng tổ chức công việc, kỹ năng giải quyết vấn đề, kỹ năng giao tiếp, kỹ năng thuyết trình, …; được rèn luyện tinh thần vì tập thể, vì cộng đồng thông qua rất nhiều hoạt động sôi nổi và ý nghĩa của Đoàn thanh niên, Hội sinh viên Khoa Toán - Thống kê.' metadata={'doc_id': 'ebe58384-13cc-11ef-b548-0242ac1c000c'}\n",
      "page_content='Em phải xin bảng điểm các môn em đã học ở trường cũ mà trong chương trình hiện tại của trường mới có.' metadata={'doc_id': '573ca1bd-1b6d-11ef-a755-d38426455a06'}\n",
      "page_content='Môn tương đương là một hay một nhóm môn học thuộc chương trình đào tạo (CTĐT) một khóa-ngành khác đang tổ chức đào tạo tại trường được phép tích lũy để thay cho một môn học hay một nhóm môn học trong CTĐT của ngành đào tạo.' metadata={'doc_id': '3369b8de-1b47-11ef-a755-d38426455a06'}\n",
      "page_content='Em phải đưa đề cương và bảng điểm các môn em đã học ở trường cũ mà trong chương trình hiện tại của trường mới có cho Tổ trưởng bộ môn xem xét.' metadata={'doc_id': '573ca1bd-1b6d-11ef-a755-d38426455a06'}\n",
      "page_content='Tệ nạn tham nhũng là những hiện tượng xã hội cần nghiên cứu để tìm ra giải pháp.' metadata={'doc_id': 'ebe69c4c-13cc-11ef-b548-0242ac1c000c'}\n",
      "page_content='Khi xem tiếng Anh là một ngôn ngữ, em sẽ có cách nhìn khác về nó.' metadata={'doc_id': '573ca17e-1b6d-11ef-a755-d38426455a06'}\n",
      "page_content='Em có thể trả nợ bằng môn tương đương, thay thế.' metadata={'doc_id': '573ca1f2-1b6d-11ef-a755-d38426455a06'}\n",
      "page_content='Nếu môn học không được tổ chức giảng dạy nữa thì sinh viên phải học môn học khác để thay thế đang còn tổ chức giảng dạy.' metadata={'doc_id': '573ca1e7-1b6d-11ef-a755-d38426455a06'}\n",
      "page_content='Môn học thay thế được sử dụng khi một môn học có trong CTĐT nhưng nay không còn tổ chức giảng dạy nữa và được thay thế bằng một môn học khác đang còn tổ chức giảng dạy.' metadata={'doc_id': '3369b8de-1b47-11ef-a755-d38426455a06'}\n",
      "page_content='Em phải xin đề cương các môn em đã học ở trường cũ mà trong chương trình hiện tại của trường mới có.' metadata={'doc_id': '573ca1bd-1b6d-11ef-a755-d38426455a06'}\n",
      "page_content='Em phải xin bảng điểm các môn em đã học ở trường cũ mà trong chương trình hiện tại của trường mới có.' metadata={'doc_id': '573ca1bd-1b6d-11ef-a755-d38426455a06'}\n",
      "page_content='Em phải đưa đề cương và bảng điểm các môn em đã học ở trường cũ mà trong chương trình hiện tại của trường mới có cho Tổ trưởng bộ môn xem xét.' metadata={'doc_id': '573ca1bd-1b6d-11ef-a755-d38426455a06'}\n",
      "page_content='Các trường hợp thí sinh khai báo thông tin liên quan đến tuyển sinh (điểm học bạ, khu vực/đối tượng ưu tiên,…) không đúng, Trường sẽ hủy kết quả trúng tuyển nếu thông tin đúng của thí sinh làm thay đổi kết quả trúng tuyển và xử lý theo đúng quy chế tuyển sinh và các quy định khác liên quan.' metadata={'doc_id': 'ebe8c292-13cc-11ef-b548-0242ac1c000c'}\n",
      "page_content='Nếu phát hiện các trường hợp thí sinh khai báo thông tin liên quan đến tuyển sinh (điểm, khu vực/đối tượng ưu tiên,…) không đúng, Nhà trường sẽ ra quyết định kỷ luật và buộc thôi học theo đúng quy chế tuyển sinh và các quy định khác.' metadata={'doc_id': 'ebe5e14e-13cc-11ef-b548-0242ac1c000c'}\n",
      "page_content='Sinh viên trễ lộ trình theo quy định có thể được xét miễn Tiếng Anh nếu thỏa mãn các điều kiện sau:' metadata={'doc_id': '573ca184-1b6d-11ef-a755-d38426455a06'}\n",
      "page_content='Theo quy định hiện hành của Trường, sinh viên chương trình liên kết phải học như sau:' metadata={'doc_id': '3369b8e6-1b47-11ef-a755-d38426455a06'}\n",
      "page_content='Khối lượng học tối thiểu mà sinh viên phải đăng ký trong mỗi học kỳ được thực hiện theo quy định sau:' metadata={'doc_id': '573ca1d7-1b6d-11ef-a755-d38426455a06'}\n",
      "page_content='Chỉ tiêu ưu tiên xét tuyển thuộc đối tượng 2.3 không quá 1% tổng chỉ tiêu tuyển sinh của các ngành này.' metadata={'doc_id': 'ebe4db50-13cc-11ef-b548-0242ac1c000c'}\n",
      "page_content='Khối lượng học tối đa mà sinh viên có thể đăng ký trong mỗi học kỳ được thực hiện theo quy định sau:' metadata={'doc_id': '573ca1d7-1b6d-11ef-a755-d38426455a06'}\n",
      "page_content='Nhằm tạo điều kiện cho thí sinh không phải di chuyển nhiều lần, khi đến nhận giấy báo nhập học thí sính có thể làm thủ tục nhập học (nếu có nhu cầu và chuẩn bị đầy đủ hồ sơ nhập học)' metadata={'doc_id': 'ebe71618-13cc-11ef-b548-0242ac1c000c'}\n",
      "page_content='Điều khiển các thiết bị và hệ thống tự động' metadata={'doc_id': 'ebe5a04e-13cc-11ef-b548-0242ac1c000c'}\n",
      "page_content='- Nhằm tạo điều kiện cho thí sinh không phải di chuyển nhiều lần, khi đến nhận Thư mời nhập học, thí sinh có thể làm thủ tục nhập học (nếu có nhu cầu và chuẩn bị đầy đủ hồ sơ nhập học)' metadata={'doc_id': 'ebe70b32-13cc-11ef-b548-0242ac1c000c'}\n",
      "page_content='Điều kiện trúng tuyển và xác nhận trúng tuyển nhập học' metadata={'doc_id': 'ebe70b32-13cc-11ef-b548-0242ac1c000c'}\n",
      "page_content='Điều kiện đạt sơ tuyển của các đối tượng xét tuyển thẳng khác' metadata={'doc_id': 'ebe7b866-13cc-11ef-b548-0242ac1c000c'}\n",
      "page_content='Thủ tục tiếp nhận sinh viên chuyển trường:' metadata={'doc_id': '573ca1ff-1b6d-11ef-a755-d38426455a06'}\n",
      "page_content='Sinh viên sẽ có kiến thức về công cụ và phương pháp vận dụng các nguyên lý khoa học quản trị kinh doanh trong hoạt động thực tiễn phù hợp với điều kiện môi trường cụ thể.' metadata={'doc_id': 'ebe6b8bc-13cc-11ef-b548-0242ac1c000c'}\n"
     ]
    },
    {
     "data": {
      "application/vnd.jupyter.widget-view+json": {
       "model_id": "f8e90952d1ec4967b6ab5af5896d4f89",
       "version_major": 2,
       "version_minor": 0
      },
      "text/plain": [
       "Filter:   0%|          | 0/344 [00:00<?, ? examples/s]"
      ]
     },
     "metadata": {},
     "output_type": "display_data"
    },
    {
     "name": "stdout",
     "output_type": "stream",
     "text": [
      "page_content='Điều kiện để nghỉ học tạm thời vì lý do cá nhân:' metadata={'doc_id': '573ca1f6-1b6d-11ef-a755-d38426455a06'}\n",
      "page_content='Các cơ hội khác' metadata={'doc_id': 'ebe5a04e-13cc-11ef-b548-0242ac1c000c'}\n",
      "page_content='STCMH là số tín chỉ của môn học' metadata={'doc_id': '573ca1c3-1b6d-11ef-a755-d38426455a06'}\n",
      "page_content='Nhà khoa học dữ liệu' metadata={'doc_id': 'ebe685b8-13cc-11ef-b548-0242ac1c000c'}\n",
      "page_content='Số tín chỉ tối thiểu cho mỗi học kỳ chính là 10 tín chỉ (trừ học kỳ cuối khóa học và sinh viên không đạt trình độ tiếng Anh quy định).' metadata={'doc_id': '573ca1d7-1b6d-11ef-a755-d38426455a06'}\n",
      "page_content='Sinh viên không cần làm bất cứ thủ tục gì, chỉ theo dõi lịch thi trên website Hệ thống thông tin sinh viên, phân hệ Thông báo.' metadata={'doc_id': '573ca1bf-1b6d-11ef-a755-d38426455a06'}\n",
      "page_content='Kỹ thuật cơ điện tử' metadata={'doc_id': 'ebe81c98-13cc-11ef-b548-0242ac1c000c'}\n",
      "page_content='TDTU không giải quyết bất cứ khiếu nại gì về sau.' metadata={'doc_id': 'ebe834c6-13cc-11ef-b548-0242ac1c000c'}\n"
     ]
    },
    {
     "data": {
      "application/vnd.jupyter.widget-view+json": {
       "model_id": "e1a72b5eb369423c9178bdd525268d13",
       "version_major": 2,
       "version_minor": 0
      },
      "text/plain": [
       "Filter:   0%|          | 0/344 [00:00<?, ? examples/s]"
      ]
     },
     "metadata": {},
     "output_type": "display_data"
    },
    {
     "name": "stdout",
     "output_type": "stream",
     "text": [
      "page_content='Sinh viên không nhất thiết phải học lại môn tự chọn chưa đạt nếu đã tích lũy đủ tín chỉ cần thiết.' metadata={'doc_id': '573ca1e9-1b6d-11ef-a755-d38426455a06'}\n",
      "page_content='Điểm không nhân hệ số, đã bao gồm điểm ưu tiên khu vực và ưu tiên đối tượng' metadata={'doc_id': 'ebe71618-13cc-11ef-b548-0242ac1c000c'}\n",
      "page_content='Tệ nạn tham nhũng là những hiện tượng xã hội cần nghiên cứu để tìm ra giải pháp.' metadata={'doc_id': 'ebe69c4c-13cc-11ef-b548-0242ac1c000c'}\n",
      "page_content='Sinh viên không nhất thiết phải học lại môn học tự chọn chưa đạt nếu đã tích lũy đủ số tín chỉ của nhóm.' metadata={'doc_id': '3369b8de-1b47-11ef-a755-d38426455a06'}\n",
      "page_content='Những vật dụng cần thiết được mang vào phòng thi' metadata={'doc_id': 'ebe858ca-13cc-11ef-b548-0242ac1c000c'}\n",
      "page_content='Sinh viên không nhất thiết phải học lại môn học tự chọn chưa đạt nếu đã tích lũy đủ số tín chỉ của nhóm tương ứng.' metadata={'doc_id': '573ca1eb-1b6d-11ef-a755-d38426455a06'}\n",
      "page_content='Sinh viên chọn mục Đăng ký chứng nhận' metadata={'doc_id': '573ca198-1b6d-11ef-a755-d38426455a06'}\n",
      "page_content='Các vị trí người học sau khi tốt nghiệp có thể đảm nhận trong và ngoài nước:' metadata={'doc_id': 'ebe68194-13cc-11ef-b548-0242ac1c000c'}\n",
      "page_content='Môn học tiên quyết là môn học mà sinh viên phải học xong và có kết quả đạt trước khi đăng ký học môn sau.' metadata={'doc_id': '573ca1e2-1b6d-11ef-a755-d38426455a06'}\n",
      "page_content='Sinh viên nên cân nhắc kỹ trước khi nộp đơn, tránh rút các môn học trước và môn tiên quyết vì việc rút các môn học này sẽ ảnh hưởng đến tiến độ đăng ký môn học sau này của sinh viên.' metadata={'doc_id': '573ca1ea-1b6d-11ef-a755-d38426455a06'}\n",
      "page_content='Khoá luận tốt nghiệp hoặc tương đương' metadata={'doc_id': 'ebe5bcb4-13cc-11ef-b548-0242ac1c000c'}\n",
      "page_content='Sinh viên được phép hủy môn trong các trường hợp: trùng thời khóa biểu, vướng điều kiện môn học trước, môn học tiên quyết, lớp đầy.' metadata={'doc_id': '573ca1e4-1b6d-11ef-a755-d38426455a06'}\n",
      "page_content='Tiếp tục theo học tại các chương trình sau đại học trong nước hoặc quốc tế;' metadata={'doc_id': 'ebe66e20-13cc-11ef-b548-0242ac1c000c'}\n",
      "page_content='Môn học A là môn tiên quyết của môn học B khi điều kiện bắt buộc để đăng ký học môn học B là sinh viên đã đăng ký học và hoàn tất đạt môn A.' metadata={'doc_id': '3369b8de-1b47-11ef-a755-d38426455a06'}\n",
      "page_content='Tham gia các khoá học ngắn hạn quốc tế' metadata={'doc_id': 'ebe6791a-13cc-11ef-b548-0242ac1c000c'}\n",
      "page_content='Thí sinh tham khảo ngành, tổ hợp xét tuyển theo phương thức 2 tại đây' metadata={'doc_id': 'ebe88066-13cc-11ef-b548-0242ac1c000c'}\n",
      "page_content='Khi tốt nghiệp được cấp 2 văn bằng, có 2 chuyên môn khác nhau.' metadata={'doc_id': '573ca1db-1b6d-11ef-a755-d38426455a06'}\n",
      "page_content='Nhà khoa học dữ liệu' metadata={'doc_id': 'ebe685b8-13cc-11ef-b548-0242ac1c000c'}\n",
      "page_content='Sinh viên không tốt nghiệp ngành thứ 2 vẫn có thể đề nghị phòng Đại học cấp bảng điểm ngành 2 để bổ sung vào hồ sơ xin việc.' metadata={'doc_id': '573ca1bc-1b6d-11ef-a755-d38426455a06'}\n",
      "page_content='Mỗi đợt thí sinh được đăng ký 02 nguyện vọng xét tuyển vào chương trình liên kết quốc tế;' metadata={'doc_id': 'ebe71a14-13cc-11ef-b548-0242ac1c000c'}\n",
      "page_content='Sinh viên có đơn gửi phòng Đại học đề nghị được xét tốt nghiệp trong trường hợp đủ điều kiện tốt nghiệp sớm so với thời gian thiết kế của khóa học bằng cách nộp đơn trực tuyến trên cổng Hệ thống thông tin sinh viên --> Phân hệ Nộp đơn trực tuyến.' metadata={'doc_id': '573ca1b1-1b6d-11ef-a755-d38426455a06'}\n",
      "page_content='Sinh viên chọn mục Đăng ký chứng nhận' metadata={'doc_id': '573ca198-1b6d-11ef-a755-d38426455a06'}\n",
      "page_content='Thí sinh thi tốt nghiệp THPT - Đợt 2 hoặc đã tốt nghiệp THPT năm 2021 nhưng chưa nhận được Giấy chứng nhận kết quả thi vẫn phải xác nhận nguyện vọng nhập học trực tuyến theo thời gian quy định nếu có nguyện vọng nhập học tại TDTU.' metadata={'doc_id': 'ebe5e14e-13cc-11ef-b548-0242ac1c000c'}\n",
      "page_content='Sinh viên phải chụp hình làm thẻ sinh viên.' metadata={'doc_id': '573ca204-1b6d-11ef-a755-d38426455a06'}\n",
      "page_content='Để xét miễn, sinh viên cần thực hiện các thủ tục sau:' metadata={'doc_id': '573ca184-1b6d-11ef-a755-d38426455a06'}\n",
      "page_content='Sinh viên không cần làm bất cứ thủ tục gì, chỉ theo dõi lịch thi trên website Hệ thống thông tin sinh viên, phân hệ Thông báo.' metadata={'doc_id': '573ca1bf-1b6d-11ef-a755-d38426455a06'}\n",
      "page_content='Sinh viên được quyền lựa chọn hình thức thi' metadata={'doc_id': '573ca182-1b6d-11ef-a755-d38426455a06'}\n",
      "page_content='Trước khi chỉnh sửa thông tin sinh viên, sinh viên phải kiểm tra số lần chỉnh sửa còn lại.' metadata={'doc_id': '573ca18e-1b6d-11ef-a755-d38426455a06'}\n",
      "page_content='Trong quá trình báo mất thẻ sinh viên hoặc đã làm thẻ tạm hoặc thẻ sinh viên, nếu sinh viên tìm được thẻ bị mất, sinh viên gửi trả lại phiếu hẹn hoặc thẻ tạm cho phòng CTHSSV (A.0003).' metadata={'doc_id': '573ca190-1b6d-11ef-a755-d38426455a06'}\n",
      "page_content='Nếu sinh viên có hình, sinh viên nộp luôn và nhận phiếu hẹn để nhận lại thẻ tạm.' metadata={'doc_id': '573ca190-1b6d-11ef-a755-d38426455a06'}\n",
      "page_content='Sinh viên phải nhập hồ sơ sinh viên đầy đủ để được cấp thẻ sinh viên.' metadata={'doc_id': '573ca204-1b6d-11ef-a755-d38426455a06'}\n",
      "page_content='Sau khi kết thúc học phần Tiếng Anh/Anh văn cuối cùng trong chương trình đào tạo, sinh viên bắt buộc phải tham gia kỳ thi Tiến Anh quốc tế để lấy điểm cho học phần Tiếng Anh /Anh văn cuối cùng' metadata={'doc_id': '573ca182-1b6d-11ef-a755-d38426455a06'}\n",
      "page_content='Khi thí sinh tiến hành làm bài thi đánh giá năng lực tiếng Anh đầu khóa chương trình đại học bằng tiếng Anh, các câu hỏi tiếp theo sẽ dựa vào kết quả trả lời câu hỏi trước của thí sinh.' metadata={'doc_id': 'ebe63144-13cc-11ef-b548-0242ac1c000c'}\n",
      "page_content='Bài thi đánh giá năng lực tiếng Anh đầu khóa chương trình đại học bằng tiếng Anh sẽ trở nên dễ hơn hay khó hơn cho đến khi trình độ được thể hiện ổn định nhất.' metadata={'doc_id': 'ebe63144-13cc-11ef-b548-0242ac1c000c'}\n",
      "page_content='Sinh viên học đúng lộ trình theo quy định có thể được xét miễn học phần Tiếng Anh nếu nộp bảng điểm/chứng chỉ Tiếng Anh quốc tế trước khi bắt đầu học kỳ hoặc trước khi môn học bắt đầu (đối với các học phần Tiếng Anh ở giai đoạn 2 của học kỳ) ít nhất 02 tuần.' metadata={'doc_id': '573ca184-1b6d-11ef-a755-d38426455a06'}\n",
      "page_content='Thí sinh xét tuyển vào chương trình đại học bằng tiếng Anh, chương trình liên kết đào tạo quốc tế:' metadata={'doc_id': 'ebe747a0-13cc-11ef-b548-0242ac1c000c'}\n",
      "page_content='Sinh viên trễ lộ trình theo quy định có thể được xét miễn học phần Tiếng Anh nếu nộp bảng điểm/chứng chỉ Tiếng Anh quốc tế trước khi bắt đầu học kỳ hoặc trước khi môn học bắt đầu (đối với các học phần Tiếng Anh ở giai đoạn 2 của học kỳ) ít nhất 02 tuần.' metadata={'doc_id': '573ca184-1b6d-11ef-a755-d38426455a06'}\n",
      "page_content='+ Thí sinh không có chứng chỉ tiếng Anh theo quy định có thể đăng ký xét tuyển vào: chương trình dự bị đại học bằng tiếng Anh; chương trình dự bị liên kết đào tạo quốc tế thí sinh phải có chứng chỉ tiếng Anh tương đương IELTS 4.5 trở lên hoặc điểm thi ĐGNL môn tiếng Anh từ 130 trở lên.' metadata={'doc_id': 'ebe747a0-13cc-11ef-b548-0242ac1c000c'}\n",
      "page_content='Sinh viên trễ lộ trình theo quy định có thể được xét miễn Tiếng Anh nếu thỏa mãn các điều kiện sau:' metadata={'doc_id': '573ca184-1b6d-11ef-a755-d38426455a06'}\n",
      "page_content='Nếu sinh viên bị bệnh không thể học môn Bơi lội được thì sinh viên làm đơn xin chuyển môn học nộp kèm hồ sơ minh chứng bệnh án.' metadata={'doc_id': '3369b8e4-1b47-11ef-a755-d38426455a06'}\n",
      "page_content='Sinh viên lưu ý là không dùng Cặp sách/Balo đựng các vật dụng này để mang lên Thư viện.' metadata={'doc_id': '573ca206-1b6d-11ef-a755-d38426455a06'}\n",
      "page_content='Nhằm mục đích kiểm soát an ninh tài sản của Thư viện, Cặp sách/ Balo không được phép mang vào Thư viện.' metadata={'doc_id': '573ca206-1b6d-11ef-a755-d38426455a06'}\n",
      "page_content='Khi thí sinh hoàn tất các thủ tục nhập học như đóng lệ phí, nộp hồ sơ… thí sinh sẽ chính thức là sinh viên của trường.' metadata={'doc_id': 'ebe592de-13cc-11ef-b548-0242ac1c000c'}\n",
      "page_content='Quy định để đồ tại tầng hầm lửng của Thư viện có ghi là không để vật dụng có giá trị.' metadata={'doc_id': '573ca206-1b6d-11ef-a755-d38426455a06'}\n",
      "page_content='Sinh viên được xét chuyển trường nếu xin chuyển đến trường có cùng ngành hoặc thuộc cùng nhóm ngành với ngành đào tạo mà sinh viên đang học.' metadata={'doc_id': '573ca1ff-1b6d-11ef-a755-d38426455a06'}\n",
      "page_content='Để xét miễn, sinh viên cần thực hiện các thủ tục sau:' metadata={'doc_id': '573ca184-1b6d-11ef-a755-d38426455a06'}\n",
      "page_content='Vật giá trị của sinh viên được phép mang lên Thư viện.' metadata={'doc_id': '573ca206-1b6d-11ef-a755-d38426455a06'}\n",
      "page_content='Khối lượng học tối thiểu mà sinh viên phải đăng ký trong mỗi học kỳ được thực hiện theo quy định sau:' metadata={'doc_id': '573ca1d7-1b6d-11ef-a755-d38426455a06'}\n",
      "page_content='Điều kiện tái ký hợp đồng: Trong quá trình sinh hoạt tại KTX sinh viên không vi phạm quá số lỗi quy định và không vi phạm nội quy Nhà trường.' metadata={'doc_id': '573ca19f-1b6d-11ef-a755-d38426455a06'}\n",
      "page_content='Sinh viên không ở Ký túc xá (KTX) sẽ nhận thẻ ở văn phòng Khoa.' metadata={'doc_id': '573ca204-1b6d-11ef-a755-d38426455a06'}\n",
      "page_content='Khối lượng học tối đa mà sinh viên có thể đăng ký trong mỗi học kỳ được thực hiện theo quy định sau:' metadata={'doc_id': '573ca1d7-1b6d-11ef-a755-d38426455a06'}\n",
      "page_content='Nội quy KTX quy định sinh viên vi phạm từ 04 lỗi trở lên sẽ không được tái ký hợp đồng cho năm học tiếp theo.' metadata={'doc_id': '573ca1a0-1b6d-11ef-a755-d38426455a06'}\n",
      "page_content='Sinh viên tốt nghiệp ngành Kỹ thuật điện sau khi ra trường có thể làm việc ở những vị trí như:' metadata={'doc_id': 'ebe66e20-13cc-11ef-b548-0242ac1c000c'}\n",
      "page_content='Khối lượng học tập tối đa mà sinh viên có thể đăng ký trong mỗi học kỳ được thực hiện theo quy định sau:' metadata={'doc_id': '573ca1d7-1b6d-11ef-a755-d38426455a06'}\n",
      "page_content='Sinh viên được hưởng nhiều chính sách ưu đãi về học phí, ký túc xá tại cơ sở.' metadata={'doc_id': 'ebe7072c-13cc-11ef-b548-0242ac1c000c'}\n",
      "page_content='Richard Sermon viết rằng \"thỏ thường được nhìn thấy trong các khu vườn vào mùa xuân, và do đó có thể là một lời giải thích thuận tiện cho nguồn gốc của những quả trứng màu được giấu ở đó cho trẻ em\".' metadata={'doc_id': 'ebe68d7e-13cc-11ef-b548-0242ac1c000c'}\n"
     ]
    },
    {
     "data": {
      "application/vnd.jupyter.widget-view+json": {
       "model_id": "981365685b344905bd740f3c7a097e95",
       "version_major": 2,
       "version_minor": 0
      },
      "text/plain": [
       "Filter:   0%|          | 0/344 [00:00<?, ? examples/s]"
      ]
     },
     "metadata": {},
     "output_type": "display_data"
    },
    {
     "name": "stdout",
     "output_type": "stream",
     "text": [
      "page_content='Sinh viên nộp hồ sơ tại Văn phòng Tư vấn và Hỗ trợ người học (thời hạn: ngay khi được xếp lịch học môn Giáo dục Quốc phòng).' metadata={'doc_id': '573ca1bb-1b6d-11ef-a755-d38426455a06'}\n",
      "page_content='Thí sinh điều chỉnh thông tin cá nhân, nguyện vọng; cập nhật học lực lớp 12 (dành cho thí sinh đăng ký xét tuyển vào ngành Dược học)' metadata={'doc_id': 'ebe5973e-13cc-11ef-b548-0242ac1c000c'}\n",
      "page_content='Sinh viên không ở Ký túc xá (KTX) sẽ nhận thẻ ở văn phòng Khoa.' metadata={'doc_id': '573ca204-1b6d-11ef-a755-d38426455a06'}\n",
      "page_content='Trường hợp chưa đạt cấp độ Tiếng Anh 1, sinh viên phải học bổ sung các học phần Tiếng Anh dự bị và nộp riêng học phí cho học phần Tiếng Anh dự bị này (ngoài khung chương trình đào tạo).' metadata={'doc_id': 'ebe8436c-13cc-11ef-b548-0242ac1c000c'}\n",
      "page_content='Từ 05/5 - 17h00 ngày 18 / 6 /2022: Thí sinh nộp Phiếu đăng ký xét tuyển và minh chứng (nếu có) về TDTU qua đường bưu điện (chuyển phát nhanh) hoặc nộp trực tiếp hồ sơ: Phòng Đại học (A0005), Trường Đại học Tôn Đức Thắng, số 19 Nguyễn Hữu Thọ, P. Tân Phong, Quận 7, TP. Hồ Chí Minh.' metadata={'doc_id': 'ebe83fe8-13cc-11ef-b548-0242ac1c000c'}\n"
     ]
    },
    {
     "data": {
      "application/vnd.jupyter.widget-view+json": {
       "model_id": "e1a44c50279e4277909b92b82c8f09e2",
       "version_major": 2,
       "version_minor": 0
      },
      "text/plain": [
       "Filter:   0%|          | 0/344 [00:00<?, ? examples/s]"
      ]
     },
     "metadata": {},
     "output_type": "display_data"
    },
    {
     "name": "stdout",
     "output_type": "stream",
     "text": [
      "page_content='Thí sinh đăng ký xét tuyển vào ngành \"Dược học\" phải cập nhật học lực lớp 12 từ loại \"Giỏi\" trở lên mới đủ điều kiện xét tuyển.' metadata={'doc_id': 'ebe866bc-13cc-11ef-b548-0242ac1c000c'}\n"
     ]
    },
    {
     "data": {
      "application/vnd.jupyter.widget-view+json": {
       "model_id": "8823565c47b049e8a17c9c39373f3c28",
       "version_major": 2,
       "version_minor": 0
      },
      "text/plain": [
       "Filter:   0%|          | 0/344 [00:00<?, ? examples/s]"
      ]
     },
     "metadata": {},
     "output_type": "display_data"
    },
    {
     "name": "stdout",
     "output_type": "stream",
     "text": [
      "page_content='Theo công văn hỗ trợ con em CBCĐ, mỗi tháng sẽ hỗ trợ 100.000đ cho sinh viên là con em CBCĐ.' metadata={'doc_id': '573ca209-1b6d-11ef-a755-d38426455a06'}\n"
     ]
    },
    {
     "data": {
      "application/vnd.jupyter.widget-view+json": {
       "model_id": "cd8b4a899d3d44b09ce28fe83cc7a30e",
       "version_major": 2,
       "version_minor": 0
      },
      "text/plain": [
       "Filter:   0%|          | 0/344 [00:00<?, ? examples/s]"
      ]
     },
     "metadata": {},
     "output_type": "display_data"
    },
    {
     "name": "stdout",
     "output_type": "stream",
     "text": [
      "page_content='Điểm không nhân hệ số, đã bao gồm điểm ưu tiên khu vực và ưu tiên đối tượng' metadata={'doc_id': 'ebe71618-13cc-11ef-b548-0242ac1c000c'}\n",
      "page_content='Các môn học chuyên ngành được chọn lựa dựa theo nhu cầu của thị trường lao động' metadata={'doc_id': 'ebe5b87c-13cc-11ef-b548-0242ac1c000c'}\n",
      "page_content='Ký túc xá hỗ trợ cho phụ huynh lên thăm chỗ ăn ở sinh hoạt của sinh viên.' metadata={'doc_id': '573ca1ad-1b6d-11ef-a755-d38426455a06'}\n",
      "page_content='Những môn học được quy định không tham gia tính điểm trung bình sẽ không đưa vào công thức này để tính' metadata={'doc_id': '573ca1c3-1b6d-11ef-a755-d38426455a06'}\n",
      "page_content='Ký túc xá (KTX) chỉ hỗ trợ chỗ ở nội trú cho sinh viên đang học tại trường.' metadata={'doc_id': '573ca19e-1b6d-11ef-a755-d38426455a06'}\n",
      "page_content='Các môn học chuyên ngành được chọn lựa dựa theo nhu cầu của thị trường lao động;' metadata={'doc_id': 'ebe5a04e-13cc-11ef-b548-0242ac1c000c'}\n",
      "page_content='Sinh viên được hưởng nhiều chính sách ưu đãi về học phí, ký túc xá tại cơ sở.' metadata={'doc_id': 'ebe7072c-13cc-11ef-b548-0242ac1c000c'}\n"
     ]
    }
   ],
   "source": [
    "eval_dataset = qa_dataset.map(eval_no_score)"
   ]
  },
  {
   "cell_type": "markdown",
   "id": "5c94db3f-3840-4dd3-9e61-18209df6d102",
   "metadata": {},
   "source": [
    "## Push"
   ]
  },
  {
   "cell_type": "code",
   "execution_count": 13,
   "id": "d0d1d1fc-32b1-4aa0-8105-a1d45e6939f8",
   "metadata": {},
   "outputs": [
    {
     "data": {
      "application/vnd.jupyter.widget-view+json": {
       "model_id": "ec4e90a1037a4765991159945a3e8b89",
       "version_major": 2,
       "version_minor": 0
      },
      "text/plain": [
       "Uploading the dataset shards:   0%|          | 0/1 [00:00<?, ?it/s]"
      ]
     },
     "metadata": {},
     "output_type": "display_data"
    },
    {
     "data": {
      "application/vnd.jupyter.widget-view+json": {
       "model_id": "0067af787dda4aa5b62752bbf9f06e00",
       "version_major": 2,
       "version_minor": 0
      },
      "text/plain": [
       "Creating parquet from Arrow format:   0%|          | 0/1 [00:00<?, ?ba/s]"
      ]
     },
     "metadata": {},
     "output_type": "display_data"
    },
    {
     "data": {
      "application/vnd.jupyter.widget-view+json": {
       "model_id": "ac313a17cad04d1d8337b8b2972d0fb4",
       "version_major": 2,
       "version_minor": 0
      },
      "text/plain": [
       "README.md:   0%|          | 0.00/680 [00:00<?, ?B/s]"
      ]
     },
     "metadata": {},
     "output_type": "display_data"
    },
    {
     "data": {
      "text/plain": [
       "CommitInfo(commit_url='https://huggingface.co/datasets/BroDeadlines/EVAL.RAG.evaluation/commit/8f625288677917ced4e9a728f25a12e7bf438265', commit_message='Upload dataset', commit_description='', oid='8f625288677917ced4e9a728f25a12e7bf438265', pr_url=None, pr_revision=None, pr_num=None)"
      ]
     },
     "execution_count": 13,
     "metadata": {},
     "output_type": "execute_result"
    }
   ],
   "source": [
    "eval_dataset.push_to_hub(\"BroDeadlines/EVAL.RAG.evaluation\", split=\"tdt_propostion_parent_k4\")"
   ]
  },
  {
   "cell_type": "markdown",
   "id": "fd0cd046-03c7-4bc5-b5e8-264cd80a4c4e",
   "metadata": {},
   "source": [
    "# Report"
   ]
  },
  {
   "cell_type": "code",
   "execution_count": 4,
   "id": "9b92d6a8-4a28-4bc5-9a22-cf5ec906c5ac",
   "metadata": {},
   "outputs": [],
   "source": [
    "eval_dataset = load_dataset(\"BroDeadlines/EVAL.RAG.evaluation\", split=\"tdt_propostion_parent_k4\")"
   ]
  },
  {
   "cell_type": "code",
   "execution_count": 5,
   "id": "e0f0240d-57d5-448f-a02d-963050d8cefc",
   "metadata": {},
   "outputs": [
    {
     "name": "stderr",
     "output_type": "stream",
     "text": [
      "/home/h4438/miniconda3/envs/uni/lib/python3.9/site-packages/nltk/translate/bleu_score.py:552: UserWarning: \n",
      "The hypothesis contains 0 counts of 2-gram overlaps.\n",
      "Therefore the BLEU score evaluates to 0, independently of\n",
      "how many N-gram overlaps of lower order it contains.\n",
      "Consider using lower n-gram order or use SmoothingFunction()\n",
      "  warnings.warn(_msg)\n",
      "/home/h4438/miniconda3/envs/uni/lib/python3.9/site-packages/nltk/translate/bleu_score.py:552: UserWarning: \n",
      "The hypothesis contains 0 counts of 3-gram overlaps.\n",
      "Therefore the BLEU score evaluates to 0, independently of\n",
      "how many N-gram overlaps of lower order it contains.\n",
      "Consider using lower n-gram order or use SmoothingFunction()\n",
      "  warnings.warn(_msg)\n",
      "/home/h4438/miniconda3/envs/uni/lib/python3.9/site-packages/nltk/translate/bleu_score.py:552: UserWarning: \n",
      "The hypothesis contains 0 counts of 4-gram overlaps.\n",
      "Therefore the BLEU score evaluates to 0, independently of\n",
      "how many N-gram overlaps of lower order it contains.\n",
      "Consider using lower n-gram order or use SmoothingFunction()\n",
      "  warnings.warn(_msg)\n"
     ]
    }
   ],
   "source": [
    "from src.utils.eval_utils import evaluate_IR, calculate_BLEU, calculate_ROUGE\n",
    "\n",
    "preds = eval_dataset['answer']\n",
    "grounds = qa_dataset['answer']\n",
    "len(preds) == len(grounds)\n",
    "\n",
    "bleu = calculate_BLEU(grounds=grounds, preds=preds)\n",
    "# bleu\n",
    "rouge = calculate_ROUGE(grounds=grounds, preds=preds)"
   ]
  },
  {
   "cell_type": "code",
   "execution_count": 6,
   "id": "4072004f-dfd8-4f11-8009-e512c6953645",
   "metadata": {},
   "outputs": [
    {
     "data": {
      "text/plain": [
       "{'k_6': {'precision': 0.6510416666666666,\n",
       "  'recall': 0.8680555555555556,\n",
       "  'map_score': 0.2829166666666666,\n",
       "  'relevant_retrieved': 125,\n",
       "  'num_retrieved': 192},\n",
       " 'k_7': {'precision': 0.6386138613861386,\n",
       "  'recall': 0.8958333333333334,\n",
       "  'map_score': 0.28290426587301587,\n",
       "  'relevant_retrieved': 129,\n",
       "  'num_retrieved': 202},\n",
       " 'k_8': {'precision': 0.6650485436893204,\n",
       "  'recall': 0.9513888888888888,\n",
       "  'map_score': 0.2726467427248678,\n",
       "  'relevant_retrieved': 137,\n",
       "  'num_retrieved': 206}}"
      ]
     },
     "execution_count": 6,
     "metadata": {},
     "output_type": "execute_result"
    }
   ],
   "source": [
    "data = {}\n",
    "t_from = 6\n",
    "t_to = 8\n",
    "\n",
    "for i in range(t_from, t_to+1):\n",
    "    res = evaluate_IR(eval_dataset=eval_dataset, limit_k=i)\n",
    "    del res['relevant']\n",
    "    data[f'k_{i}'] = res\n",
    "data"
   ]
  },
  {
   "cell_type": "code",
   "execution_count": 9,
   "id": "a6d0ebdf-86d5-4610-afbc-5415d6669dae",
   "metadata": {},
   "outputs": [],
   "source": [
    "import numpy as np\n",
    "time = eval_dataset['exc_second']\n",
    "time_np = np.array(time)"
   ]
  },
  {
   "cell_type": "code",
   "execution_count": 31,
   "id": "b7638ee6-1c9a-4347-a415-e2b97166f005",
   "metadata": {},
   "outputs": [],
   "source": [
    "es = provider.get_elasticsearch_store(index=config['vec_index'])"
   ]
  },
  {
   "cell_type": "code",
   "execution_count": 13,
   "id": "3a663828-b421-40da-a09a-f4ad03227713",
   "metadata": {},
   "outputs": [
    {
     "name": "stdout",
     "output_type": "stream",
     "text": [
      "{\n",
      "  \"QA\": {\n",
      "    \"repo\": \"BroDeadlines/QA.TDT.FQA_tu_van_hoc_duong\",\n",
      "    \"split\": \"INDEX.medium_index_TDT\",\n",
      "    \"size\": 144,\n",
      "    \"total_time(minute)\": 11.475,\n",
      "    \"median_time(second)\": 4.443,\n",
      "    \"avg_time(second)\": 4.781\n",
      "  },\n",
      "  \"RAG\": {\n",
      "    \"algo\": [\n",
      "      \"proposition\",\n",
      "      \"parent retriever\",\n",
      "      \"hybrid search\"\n",
      "    ],\n",
      "    \"llm\": \"gemini-1.5-flash\",\n",
      "    \"total_k\": 4,\n",
      "    \"txt_weight\": 0.5,\n",
      "    \"vec_weight\": 0.5,\n",
      "    \"vec_index\": \"vec-sentence-propositon_medium_edu_tdt\",\n",
      "    \"txt_index\": \"text-sentence-propositon_medium_edu_tdt\",\n",
      "    \"es_size\": 4910\n",
      "  },\n",
      "  \"IR\": {\n",
      "    \"k_6\": {\n",
      "      \"precision\": 0.6510416666666666,\n",
      "      \"recall\": 0.8680555555555556,\n",
      "      \"map_score\": 0.2829166666666666,\n",
      "      \"relevant_retrieved\": 125,\n",
      "      \"num_retrieved\": 192\n",
      "    },\n",
      "    \"k_7\": {\n",
      "      \"precision\": 0.6386138613861386,\n",
      "      \"recall\": 0.8958333333333334,\n",
      "      \"map_score\": 0.28290426587301587,\n",
      "      \"relevant_retrieved\": 129,\n",
      "      \"num_retrieved\": 202\n",
      "    },\n",
      "    \"k_8\": {\n",
      "      \"precision\": 0.6650485436893204,\n",
      "      \"recall\": 0.9513888888888888,\n",
      "      \"map_score\": 0.2726467427248678,\n",
      "      \"relevant_retrieved\": 137,\n",
      "      \"num_retrieved\": 206\n",
      "    }\n",
      "  },\n",
      "  \"BLEU\": {\n",
      "    \"BLEU_4_avg\": 0.133,\n",
      "    \"BLEU_4_median\": 0.012,\n",
      "    \"BLEU_avg\": 0.196,\n",
      "    \"BLEU_median\": 0.083\n",
      "  },\n",
      "  \"ROUGE-L\": {\n",
      "    \"ROUGE_L_precision_avg\": 0.672,\n",
      "    \"ROUGE_L_precision_median\": 0.727,\n",
      "    \"ROUGE_L_recall_avg\": 0.29,\n",
      "    \"ROUGE_L_recall_median\": 0.231,\n",
      "    \"ROUGE_L_fmeasure_avg\": 0.361,\n",
      "    \"ROUGE_L_fmeasure_median\": 0.314\n",
      "  }\n",
      "}\n"
     ]
    }
   ],
   "source": [
    "import json\n",
    "\n",
    "ALGO = ['proposition', 'parent retriever', 'hybrid search']\n",
    "ES_SIZE = 4910\n",
    "\n",
    "a = {\n",
    "    \"QA\": {\"repo\": QA_REPO, \"split\": QA_SPLIT,\n",
    "           \"size\": qa_dataset.num_rows, \n",
    "           \"total_time(minute)\": round(time_np.sum() / 60, 3), \n",
    "           \"median_time(second)\": round(np.median(time_np), 3),\n",
    "           \"avg_time(second)\": round(time_np.mean(), 3)},\n",
    "    \"RAG\": {\"algo\": ALGO, **config, \"es_size\": ES_SIZE},\n",
    "    \"IR\": data,\n",
    "    \"BLEU\": bleu,\n",
    "    \"ROUGE-L\": rouge\n",
    "}\n",
    " \n",
    "json_formatted_str = json.dumps(a, indent=2)\n",
    "print(json_formatted_str)"
   ]
  },
  {
   "cell_type": "code",
   "execution_count": null,
   "id": "5268de2e-516d-458e-8615-962fccdfff19",
   "metadata": {},
   "outputs": [],
   "source": []
  }
 ],
 "metadata": {
  "kernelspec": {
   "display_name": "Python 3 (ipykernel)",
   "language": "python",
   "name": "python3"
  },
  "language_info": {
   "codemirror_mode": {
    "name": "ipython",
    "version": 3
   },
   "file_extension": ".py",
   "mimetype": "text/x-python",
   "name": "python",
   "nbconvert_exporter": "python",
   "pygments_lexer": "ipython3",
   "version": "3.9.18"
  }
 },
 "nbformat": 4,
 "nbformat_minor": 5
}
