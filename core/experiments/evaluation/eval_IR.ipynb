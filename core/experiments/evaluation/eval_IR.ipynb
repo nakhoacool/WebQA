{
 "cells": [
  {
   "cell_type": "markdown",
   "metadata": {},
   "source": [
    "# Evaluate IR (Information Retrieval)"
   ]
  },
  {
   "cell_type": "code",
   "execution_count": 1,
   "metadata": {},
   "outputs": [],
   "source": [
    "import sys\n",
    "sys.path.append(\"../..\")\n",
    "from datasets import load_dataset\n",
    "from src.service.provider import ProviderService\n",
    "\n",
    "provider = ProviderService()"
   ]
  },
  {
   "cell_type": "code",
   "execution_count": 2,
   "metadata": {},
   "outputs": [
    {
     "data": {
      "text/plain": [
       "Dataset({\n",
       "    features: ['question', 'answer', 'url', 'group', 'doc_id'],\n",
       "    num_rows: 54\n",
       "})"
      ]
     },
     "execution_count": 2,
     "metadata": {},
     "output_type": "execute_result"
    }
   ],
   "source": [
    "# QA_REPO = \"BroDeadlines/QA.TDT.FQA_tu_van_hoc_duong\"\n",
    "# QA_SPLIT = \"INDEX.medium_index_TDT\"\n",
    "# qa_dataset = load_dataset(QA_REPO, split=QA_SPLIT)\n",
    "# qa_dataset\n",
    "\n",
    "QA_REPO = \"BroDeadlines/QA.UEH.QA_tu_van_tuyen_sinh\"\n",
    "QA_SPLIT = \"train\"\n",
    "qa_dataset = load_dataset(QA_REPO, split=QA_SPLIT)\n",
    "qa_dataset"
   ]
  },
  {
   "cell_type": "markdown",
   "metadata": {},
   "source": [
    "## Run IR"
   ]
  },
  {
   "cell_type": "code",
   "execution_count": 3,
   "metadata": {},
   "outputs": [
    {
     "data": {
      "text/plain": [
       "'{\"shards\": 1}'"
      ]
     },
     "execution_count": 3,
     "metadata": {},
     "output_type": "execute_result"
    }
   ],
   "source": [
    "qa_dataset[0]['metadata']"
   ]
  },
  {
   "cell_type": "code",
   "execution_count": 4,
   "metadata": {},
   "outputs": [
    {
     "data": {
      "application/vnd.jupyter.widget-view+json": {
       "model_id": "4b2a113a0da146f3a7b8a04f57e0a8de",
       "version_major": 2,
       "version_minor": 0
      },
      "text/plain": [
       "Downloading readme:   0%|          | 0.00/1.10k [00:00<?, ?B/s]"
      ]
     },
     "metadata": {},
     "output_type": "display_data"
    },
    {
     "name": "stderr",
     "output_type": "stream",
     "text": [
      "Downloading data: 100%|████████████████████████████████████████| 5.02M/5.02M [00:00<00:00, 5.34MB/s]\n",
      "Downloading data: 100%|████████████████████████████████████████| 5.02M/5.02M [00:00<00:00, 5.35MB/s]\n"
     ]
    },
    {
     "data": {
      "application/vnd.jupyter.widget-view+json": {
       "model_id": "c3ba20a156964b228846c55f1cd43c17",
       "version_major": 2,
       "version_minor": 0
      },
      "text/plain": [
       "Generating propositon_medium_edu_tdt split:   0%|          | 0/344 [00:00<?, ? examples/s]"
      ]
     },
     "metadata": {},
     "output_type": "display_data"
    },
    {
     "data": {
      "application/vnd.jupyter.widget-view+json": {
       "model_id": "9c3a762e26234839afef000aba26afff",
       "version_major": 2,
       "version_minor": 0
      },
      "text/plain": [
       "Generating INDEX.medium_index_TDT split:   0%|          | 0/344 [00:00<?, ? examples/s]"
      ]
     },
     "metadata": {},
     "output_type": "display_data"
    }
   ],
   "source": [
    "DATA_REPO = \"BroDeadlines/TEST.edu_tdt_proposition_data\"\n",
    "DATA_SPLIT = \"INDEX.medium_index_TDT\"\n",
    "index_dataset = load_dataset(DATA_REPO, split=\"INDEX.medium_index_TDT\")"
   ]
  },
  {
   "cell_type": "code",
   "execution_count": 5,
   "metadata": {},
   "outputs": [
    {
     "data": {
      "text/plain": [
       "Dataset({\n",
       "    features: ['content', 'url', 'doc_id', 'shards', 'splits', 'split', 'propositions', 'proposition_list'],\n",
       "    num_rows: 344\n",
       "})"
      ]
     },
     "execution_count": 5,
     "metadata": {},
     "output_type": "execute_result"
    }
   ],
   "source": [
    "index_dataset"
   ]
  },
  {
   "cell_type": "markdown",
   "metadata": {
    "jp-MarkdownHeadingCollapsed": true
   },
   "source": [
    "## Update shards"
   ]
  },
  {
   "cell_type": "code",
   "execution_count": 7,
   "metadata": {},
   "outputs": [
    {
     "data": {
      "application/vnd.jupyter.widget-view+json": {
       "model_id": "f77b14e666d6473bb46ac5318b1c3ca4",
       "version_major": 2,
       "version_minor": 0
      },
      "text/plain": [
       "Map:   0%|          | 0/144 [00:00<?, ? examples/s]"
      ]
     },
     "metadata": {},
     "output_type": "display_data"
    },
    {
     "data": {
      "text/plain": [
       "144"
      ]
     },
     "execution_count": 7,
     "metadata": {},
     "output_type": "execute_result"
    }
   ],
   "source": [
    "ids = {}\n",
    "\n",
    "def build_ids(row):\n",
    "    ids[row['doc_id']] = 1\n",
    "    return\n",
    "    \n",
    "eval_dataset.map(build_ids)\n",
    "len(ids)"
   ]
  },
  {
   "cell_type": "code",
   "execution_count": 8,
   "metadata": {},
   "outputs": [
    {
     "data": {
      "text/plain": [
       "Dataset({\n",
       "    features: ['question', 'answer', 'url', 'group', 'doc_id', 'evaluation', 'metadata'],\n",
       "    num_rows: 144\n",
       "})"
      ]
     },
     "execution_count": 8,
     "metadata": {},
     "output_type": "execute_result"
    }
   ],
   "source": [
    "eval_dataset"
   ]
  },
  {
   "cell_type": "code",
   "execution_count": 12,
   "metadata": {},
   "outputs": [
    {
     "data": {
      "application/vnd.jupyter.widget-view+json": {
       "model_id": "f3df403fef1842c7b85336c1a23b18fc",
       "version_major": 2,
       "version_minor": 0
      },
      "text/plain": [
       "Map:   0%|          | 0/344 [00:00<?, ? examples/s]"
      ]
     },
     "metadata": {},
     "output_type": "display_data"
    },
    {
     "data": {
      "text/plain": [
       "144"
      ]
     },
     "execution_count": 12,
     "metadata": {},
     "output_type": "execute_result"
    }
   ],
   "source": [
    "shards = {}\n",
    "\n",
    "def build_shards(row):\n",
    "    if row['doc_id'] not in ids:\n",
    "        return\n",
    "    # shards[row['doc_id']] = row['shards']\n",
    "    shards[row['doc_id']] = len(row['proposition_list'])\n",
    "    return\n",
    "    \n",
    "index_dataset.map(build_shards)\n",
    "len(shards)"
   ]
  },
  {
   "cell_type": "code",
   "execution_count": 13,
   "metadata": {},
   "outputs": [
    {
     "data": {
      "application/vnd.jupyter.widget-view+json": {
       "model_id": "175c177b69e540d296e3dfe817677665",
       "version_major": 2,
       "version_minor": 0
      },
      "text/plain": [
       "Map:   0%|          | 0/144 [00:00<?, ? examples/s]"
      ]
     },
     "metadata": {},
     "output_type": "display_data"
    }
   ],
   "source": [
    "import json\n",
    "\n",
    "eval_dataset = eval_dataset.map(lambda e: {**e, \"metadata\": json.dumps({'shards': shards[e['doc_id']]})})"
   ]
  },
  {
   "cell_type": "code",
   "execution_count": 15,
   "metadata": {},
   "outputs": [
    {
     "data": {
      "application/vnd.jupyter.widget-view+json": {
       "model_id": "26c68506b053416cb52de0f8f3b1f4ba",
       "version_major": 2,
       "version_minor": 0
      },
      "text/plain": [
       "Uploading the dataset shards:   0%|          | 0/1 [00:00<?, ?it/s]"
      ]
     },
     "metadata": {},
     "output_type": "display_data"
    },
    {
     "data": {
      "application/vnd.jupyter.widget-view+json": {
       "model_id": "54f6d7e798864241a7069a3829bffff6",
       "version_major": 2,
       "version_minor": 0
      },
      "text/plain": [
       "Creating parquet from Arrow format:   0%|          | 0/1 [00:00<?, ?ba/s]"
      ]
     },
     "metadata": {},
     "output_type": "display_data"
    },
    {
     "data": {
      "application/vnd.jupyter.widget-view+json": {
       "model_id": "2e3dda679a0441c9b2e7fa17e068daf3",
       "version_major": 2,
       "version_minor": 0
      },
      "text/plain": [
       "README.md:   0%|          | 0.00/3.28k [00:00<?, ?B/s]"
      ]
     },
     "metadata": {},
     "output_type": "display_data"
    },
    {
     "data": {
      "text/plain": [
       "CommitInfo(commit_url='https://huggingface.co/datasets/BroDeadlines/EVAL.IR_evaluation/commit/78086836d46c649e532b5ea084e80f4b518d12a6', commit_message='Upload dataset', commit_description='', oid='78086836d46c649e532b5ea084e80f4b518d12a6', pr_url=None, pr_revision=None, pr_num=None)"
      ]
     },
     "execution_count": 15,
     "metadata": {},
     "output_type": "execute_result"
    }
   ],
   "source": [
    "EVAL_REPO = \"BroDeadlines/EVAL.IR_evaluation\"\n",
    "split = \"INDEX.medium_index_TDT.proposition.sentence.hybrid\"\n",
    "# split = \"INDEX.medium_index_TDT.proposition.hybrid\"\n",
    "eval_dataset.push_to_hub(EVAL_REPO, split=split)"
   ]
  },
  {
   "cell_type": "code",
   "execution_count": 33,
   "metadata": {},
   "outputs": [
    {
     "data": {
      "application/vnd.jupyter.widget-view+json": {
       "model_id": "f6f497950a8f4be18ca27de5d5bdb14d",
       "version_major": 2,
       "version_minor": 0
      },
      "text/plain": [
       "Map:   0%|          | 0/144 [00:00<?, ? examples/s]"
      ]
     },
     "metadata": {},
     "output_type": "display_data"
    },
    {
     "data": {
      "text/plain": [
       "144"
      ]
     },
     "execution_count": 33,
     "metadata": {},
     "output_type": "execute_result"
    }
   ],
   "source": [
    "metas = {}\n",
    "\n",
    "def build_meta(row):\n",
    "    metas[row['doc_id']] = row['metadata']\n",
    "    pass\n",
    "\n",
    "qa_dataset_updated.map(build_meta)\n",
    "len(metas)"
   ]
  },
  {
   "cell_type": "code",
   "execution_count": 32,
   "metadata": {},
   "outputs": [
    {
     "data": {
      "application/vnd.jupyter.widget-view+json": {
       "model_id": "383cc32af1484b1db2cdcd14e776b704",
       "version_major": 2,
       "version_minor": 0
      },
      "text/plain": [
       "Uploading the dataset shards:   0%|          | 0/1 [00:00<?, ?it/s]"
      ]
     },
     "metadata": {},
     "output_type": "display_data"
    },
    {
     "data": {
      "application/vnd.jupyter.widget-view+json": {
       "model_id": "2d52d15ee7754abbb8e76983f171f58f",
       "version_major": 2,
       "version_minor": 0
      },
      "text/plain": [
       "Creating parquet from Arrow format:   0%|          | 0/1 [00:00<?, ?ba/s]"
      ]
     },
     "metadata": {},
     "output_type": "display_data"
    },
    {
     "data": {
      "application/vnd.jupyter.widget-view+json": {
       "model_id": "56afa5ab1a374022a9aca5e2471a4dfe",
       "version_major": 2,
       "version_minor": 0
      },
      "text/plain": [
       "README.md:   0%|          | 0.00/785 [00:00<?, ?B/s]"
      ]
     },
     "metadata": {},
     "output_type": "display_data"
    },
    {
     "data": {
      "text/plain": [
       "CommitInfo(commit_url='https://huggingface.co/datasets/BroDeadlines/QA.FQA_tu_van_hoc_duong/commit/293b6e18f98f99f46239da08961939357d5f88c1', commit_message='Upload dataset', commit_description='', oid='293b6e18f98f99f46239da08961939357d5f88c1', pr_url=None, pr_revision=None, pr_num=None)"
      ]
     },
     "execution_count": 32,
     "metadata": {},
     "output_type": "execute_result"
    }
   ],
   "source": [
    "\n",
    "qa_dataset_updated.push_to_hub(QA_REPO, split=SPLIT)"
   ]
  },
  {
   "cell_type": "code",
   "execution_count": 31,
   "metadata": {},
   "outputs": [
    {
     "data": {
      "application/vnd.jupyter.widget-view+json": {
       "model_id": "7a298d5140ae40ec86a052068e355bac",
       "version_major": 2,
       "version_minor": 0
      },
      "text/plain": [
       "Map:   0%|          | 0/170 [00:00<?, ? examples/s]"
      ]
     },
     "metadata": {},
     "output_type": "display_data"
    }
   ],
   "source": [
    "qa_dataset['train'] = qa_dataset['train'].map(lambda e: {**e, \"metadata\": \"\"})"
   ]
  },
  {
   "cell_type": "code",
   "execution_count": 24,
   "metadata": {},
   "outputs": [],
   "source": [
    "qa_dataset['TEST.basic_test_tdt_dataset'] = qa_dataset['TEST.basic_test_tdt_dataset'].remove_columns(['shards'])\n",
    "# dir(a)"
   ]
  },
  {
   "cell_type": "code",
   "execution_count": 32,
   "metadata": {},
   "outputs": [
    {
     "data": {
      "application/vnd.jupyter.widget-view+json": {
       "model_id": "c0c772dce482440cbc49f3139c4b74e7",
       "version_major": 2,
       "version_minor": 0
      },
      "text/plain": [
       "Uploading the dataset shards:   0%|          | 0/1 [00:00<?, ?it/s]"
      ]
     },
     "metadata": {},
     "output_type": "display_data"
    },
    {
     "data": {
      "application/vnd.jupyter.widget-view+json": {
       "model_id": "f7ec9dc945b7448b9caea9e483787362",
       "version_major": 2,
       "version_minor": 0
      },
      "text/plain": [
       "Creating parquet from Arrow format:   0%|          | 0/1 [00:00<?, ?ba/s]"
      ]
     },
     "metadata": {},
     "output_type": "display_data"
    },
    {
     "data": {
      "application/vnd.jupyter.widget-view+json": {
       "model_id": "c0c9a6ed29fe464c829c13344d7e4af8",
       "version_major": 2,
       "version_minor": 0
      },
      "text/plain": [
       "Uploading the dataset shards:   0%|          | 0/1 [00:00<?, ?it/s]"
      ]
     },
     "metadata": {},
     "output_type": "display_data"
    },
    {
     "data": {
      "application/vnd.jupyter.widget-view+json": {
       "model_id": "eae8f06a3c2e41a78ebe2ead52bb924b",
       "version_major": 2,
       "version_minor": 0
      },
      "text/plain": [
       "Creating parquet from Arrow format:   0%|          | 0/1 [00:00<?, ?ba/s]"
      ]
     },
     "metadata": {},
     "output_type": "display_data"
    },
    {
     "data": {
      "application/vnd.jupyter.widget-view+json": {
       "model_id": "a4c32d19d21249f99ca648f3d147a8f2",
       "version_major": 2,
       "version_minor": 0
      },
      "text/plain": [
       "README.md:   0%|          | 0.00/529 [00:00<?, ?B/s]"
      ]
     },
     "metadata": {},
     "output_type": "display_data"
    },
    {
     "data": {
      "text/plain": [
       "CommitInfo(commit_url='https://huggingface.co/datasets/BroDeadlines/QA.FQA_tu_van_hoc_duong/commit/c2e94ef7977fb20e5b69ae47e42a4ac2f811a40c', commit_message='Upload dataset', commit_description='', oid='c2e94ef7977fb20e5b69ae47e42a4ac2f811a40c', pr_url=None, pr_revision=None, pr_num=None)"
      ]
     },
     "execution_count": 32,
     "metadata": {},
     "output_type": "execute_result"
    }
   ],
   "source": [
    "qa_dataset.push_to_hub(\"BroDeadlines/QA.FQA_tu_van_hoc_duong\")"
   ]
  },
  {
   "cell_type": "markdown",
   "metadata": {},
   "source": [
    "## Run RAG"
   ]
  },
  {
   "cell_type": "code",
   "execution_count": 4,
   "metadata": {},
   "outputs": [],
   "source": [
    "from src.rag.hg_parent_retriever import HugFaceParentRAG\n",
    "from src.rag.hyde_rag import HydeRAG, HydeHybridSearchRAG\n",
    "from src.utils.type_utils import get_default_config\n",
    "\n",
    "config = get_default_config()\n",
    "\n",
    "# config['vec_index'] = \"vec-sentence-propositon_medium_edu_tdt\"\n",
    "# config['txt_index'] = \"text-sentence-propositon_medium_edu_tdt\"\n",
    "\n",
    "# config['vec_index'] = \"vec-sentence-mini-hub-sentence\"\n",
    "# config['txt_index'] = \"text-sentence-mines_sizei-hub-sentence\"\n",
    "\n",
    "# config['vec_index'] = \"vec-sentence-compact-tdt-sentence\"\n",
    "# config['txt_index'] = \"text-sentence-compact-tdt-sentence\"\n",
    "# config['vec_index'] = \"vec-raptor-ueh-data-tree\"\n",
    "# config['txt_index'] = \"text-raptor-ueh-data-tree\"\n",
    "\n",
    "# config['vec_index'] = \"vec-sentence-ueh-sentence\"\n",
    "# config['txt_index'] = \"text-sentence-ueh-sentence\"\n",
    "\n",
    "config['vec_index'] = \"vec-sentence-ueh-unique\"\n",
    "config['txt_index'] = \"text-sentence-ueh-unique\"\n",
    "\n",
    "config['total_k'] = 8\n",
    "config['llm'] = \"gemini-1.0-pro\"\n",
    "config\n",
    "\n",
    "rag = HugFaceParentRAG(provider=provider, config=config, text_corpora=None)\n",
    "\n",
    "# rag = HydeHybridSearchRAG(provider=provider, config=config)"
   ]
  },
  {
   "cell_type": "code",
   "execution_count": 4,
   "metadata": {},
   "outputs": [],
   "source": [
    "from src.rag.hyde_rag import HydeRAG, HydeHybridSearchRAG\n",
    "from src.utils.config_utils import get_gemini_hyde_config\n",
    "\n",
    "# rag = HydeRAG(provider=provider, index=\"test-basic_test_tdt_dataset\")\n",
    "# text_idx = \"text-raptor-medium_index_tdt_vi\"\n",
    "# vec_idx = \"vec-raptor-medium_index_tdt_vi\"\n",
    "vec_idx = \"vec-raptor-proposition-medium_index_tdt_vi\"\n",
    "text_idx = \"text-raptor-proposition-medium_index_tdt_vi\"\n",
    "\n",
    "text_idx = \"text-sentence-compact-tdt-sentence\"\n",
    "vec_idx = \"vec-sentence-compact-tdt-sentence\"\n",
    "\n",
    "\n",
    "config = get_gemini_hyde_config()\n",
    "config.vector_index = vec_idx\n",
    "config.text_index = text_idx\n",
    "\n",
    "# print(config.)\n",
    "\n",
    "# config.vector_index = \"vec-raptor-basic_index_tdt_clean\"\n",
    "# config.text_index = \"text-raptor-basic_index_tdt_clean\"\n",
    "\n",
    "# config.vector_index = \"vec-sentence-propositon_medium_edu_tdt\"\n",
    "# config.text_index = 'text-sentence-propositon_medium_edu_tdt'\n",
    "\n",
    "# rag = HydeRAG(provider=provider, index=config.vector_index)\n",
    "rag = HydeHybridSearchRAG(provider=provider,config=config, k=4)"
   ]
  },
  {
   "cell_type": "markdown",
   "metadata": {},
   "source": [
    "### simple RAG"
   ]
  },
  {
   "cell_type": "code",
   "execution_count": 5,
   "metadata": {},
   "outputs": [],
   "source": [
    "from langchain import hub\n",
    "from langchain_core.runnables import RunnablePassthrough\n",
    "from langchain_core.output_parsers import StrOutputParser\n",
    "retriever = rag.ensemble_retriever\n",
    "model = provider.get_simple_gemini_pro()\n",
    "# Prompt\n",
    "prompt = hub.pull(\"rlm/rag-prompt\")\n",
    "RETRIEVE_DOCS = []\n",
    "\n",
    "# Post-processing\n",
    "def format_docs(docs):\n",
    "    return \"\\n\\n\".join(doc.page_content for doc in docs)\n",
    "\n",
    "def store_docs(docs):\n",
    "    RETRIEVE_DOCS.append(docs)\n",
    "    return docs\n",
    "\n",
    "# Chain\n",
    "rag_chain = (\n",
    "    {\"context\": retriever | store_docs | format_docs, \"question\": RunnablePassthrough()}\n",
    "    | prompt\n",
    "    | model\n",
    "    | StrOutputParser()\n",
    ")\n"
   ]
  },
  {
   "cell_type": "code",
   "execution_count": 5,
   "metadata": {},
   "outputs": [
    {
     "data": {
      "text/plain": [
       "EnsembleRetriever(retrievers=[MyElasticSearchBM25Retriever(client=<Elasticsearch(['https://158.178.243.160:9201', 'https://158.178.243.160:9202', 'https://158.178.243.160:9203'])>, index_name='text-sentence-ueh-unique'), VectorStoreRetriever(tags=['ElasticsearchStore', 'GoogleGenerativeAIEmbeddings'], vectorstore=<langchain_community.vectorstores.elasticsearch.ElasticsearchStore object at 0x7f95bfb0ce50>, search_kwargs={'k': 4.0, 'fetch_k': 10})], weights=[0.5, 0.5])"
      ]
     },
     "execution_count": 5,
     "metadata": {},
     "output_type": "execute_result"
    }
   ],
   "source": [
    "rag.ensemble_retriever"
   ]
  },
  {
   "cell_type": "code",
   "execution_count": 6,
   "metadata": {},
   "outputs": [
    {
     "name": "stderr",
     "output_type": "stream",
     "text": [
      "Parameter 'function'=<function eval_no_score at 0x7f95bc174ee0> of the transform datasets.arrow_dataset.Dataset._map_single couldn't be hashed properly, a random hash was used instead. Make sure your transforms and parameters are serializable with pickle or dill for the dataset fingerprinting and caching to work. If you reuse this transform, the caching mechanism will consider it to be different from the previous calls and recompute everything. This warning is only showed once. Subsequent hashing failures won't be showed.\n"
     ]
    },
    {
     "data": {
      "application/vnd.jupyter.widget-view+json": {
       "model_id": "42794bc90a32490b8e57c74b5ee69469",
       "version_major": 2,
       "version_minor": 0
      },
      "text/plain": [
       "Map:   0%|          | 0/54 [00:00<?, ? examples/s]"
      ]
     },
     "metadata": {},
     "output_type": "display_data"
    }
   ],
   "source": [
    "def eval(row):\n",
    "    docs = rag.search(question=row['question'])\n",
    "    if (docs == None):\n",
    "        row['evaluation'] = []\n",
    "        return row\n",
    "    result = [{'content': d[0].page_content, \"doc_id\": d[0].metadata['doc_id'], \"score\": d[1]} for d in docs]\n",
    "    row['evaluation'] = result\n",
    "    return row\n",
    "\n",
    "def eval_no_score(row):\n",
    "    docs = rag.ensemble_retriever.invoke(row['question'])\n",
    "    if (docs == None):\n",
    "        row['evaluation'] = []\n",
    "        return row\n",
    "    result = [{'content': d.page_content, \"doc_id\": d.metadata['doc_id'], \"score\": 0} for d in docs]\n",
    "    row['evaluation'] = result\n",
    "    return row\n",
    "\n",
    "def eval_no_score_answer(row):\n",
    "    # answer = rag.invoke(row['question'])\n",
    "    answer = rag.answer(row['question'])\n",
    "    docs = rag.retrieve_docs.pop()\n",
    "    result = [{'content': d.page_content, \"doc_id\": d.metadata['doc_id'], \"score\": -1.0} for d in docs]\n",
    "    row['evaluation'] = result\n",
    "    row['answer'] = answer\n",
    "    return row\n",
    "\n",
    "test_ds = qa_dataset.map(eval_no_score)"
   ]
  },
  {
   "cell_type": "code",
   "execution_count": 7,
   "metadata": {},
   "outputs": [
    {
     "data": {
      "text/plain": [
       "Dataset({\n",
       "    features: ['question', 'answer', 'url', 'group', 'doc_id', 'evaluation'],\n",
       "    num_rows: 54\n",
       "})"
      ]
     },
     "execution_count": 7,
     "metadata": {},
     "output_type": "execute_result"
    }
   ],
   "source": [
    "test_ds"
   ]
  },
  {
   "cell_type": "code",
   "execution_count": 8,
   "metadata": {},
   "outputs": [
    {
     "data": {
      "application/vnd.jupyter.widget-view+json": {
       "model_id": "4a4f3427c9a946c389d318367d871672",
       "version_major": 2,
       "version_minor": 0
      },
      "text/plain": [
       "Filter:   0%|          | 0/54 [00:00<?, ? examples/s]"
      ]
     },
     "metadata": {},
     "output_type": "display_data"
    },
    {
     "data": {
      "text/plain": [
       "Dataset({\n",
       "    features: ['question', 'answer', 'url', 'group', 'doc_id', 'evaluation'],\n",
       "    num_rows: 54\n",
       "})"
      ]
     },
     "execution_count": 8,
     "metadata": {},
     "output_type": "execute_result"
    }
   ],
   "source": [
    "test_ds.filter(lambda row: len(row['evaluation']) > 1 )"
   ]
  },
  {
   "cell_type": "code",
   "execution_count": 12,
   "metadata": {},
   "outputs": [
    {
     "data": {
      "application/vnd.jupyter.widget-view+json": {
       "model_id": "0c430497bce14cf5bae58ddfb4fd21c0",
       "version_major": 2,
       "version_minor": 0
      },
      "text/plain": [
       "Map:   0%|          | 0/54 [00:00<?, ? examples/s]"
      ]
     },
     "metadata": {},
     "output_type": "display_data"
    }
   ],
   "source": [
    "import json\n",
    "def update_meta(row):\n",
    "    row['metadata'] = json.dumps({\"shards\": 1})\n",
    "    return row\n",
    "    \n",
    "test_ds_updated = test_ds.map(update_meta)"
   ]
  },
  {
   "cell_type": "code",
   "execution_count": 8,
   "metadata": {},
   "outputs": [
    {
     "data": {
      "text/plain": [
       "Dataset({\n",
       "    features: ['question', 'answer', 'url', 'group', 'doc_id', 'metadata', 'evaluation'],\n",
       "    num_rows: 144\n",
       "})"
      ]
     },
     "execution_count": 8,
     "metadata": {},
     "output_type": "execute_result"
    }
   ],
   "source": [
    "test_ds"
   ]
  },
  {
   "cell_type": "code",
   "execution_count": 15,
   "metadata": {},
   "outputs": [
    {
     "data": {
      "application/vnd.jupyter.widget-view+json": {
       "model_id": "f4204673ca1e44b1a3c12190c414a813",
       "version_major": 2,
       "version_minor": 0
      },
      "text/plain": [
       "Map:   0%|          | 0/144 [00:00<?, ? examples/s]"
      ]
     },
     "metadata": {},
     "output_type": "display_data"
    }
   ],
   "source": [
    "def update_score(row):\n",
    "    tmp = row['evaluation']\n",
    "    n_tmp = [{**i, \"score\": -1.1} for i in tmp]\n",
    "    row['evaluation'] = n_tmp\n",
    "    return row\n",
    "\n",
    "test_ds_updated_one = test_ds.map(update_score)"
   ]
  },
  {
   "cell_type": "code",
   "execution_count": 10,
   "metadata": {},
   "outputs": [
    {
     "data": {
      "text/plain": [
       "'INDEX.medium_index_TDT'"
      ]
     },
     "execution_count": 10,
     "metadata": {},
     "output_type": "execute_result"
    }
   ],
   "source": [
    "SPLIT"
   ]
  },
  {
   "cell_type": "code",
   "execution_count": 15,
   "metadata": {},
   "outputs": [],
   "source": [
    "from src.utils.eval_utils import evaluate_IR, evaluate_IR_RAPTOR\n",
    "\n",
    "res = evaluate_IR(eval_dataset=test_ds_updated, limit_k=8, shard_key=\"shards\")"
   ]
  },
  {
   "cell_type": "code",
   "execution_count": 16,
   "metadata": {},
   "outputs": [
    {
     "data": {
      "text/plain": [
       "{'relevant': 1.037037037037037,\n",
       " 'precision': 0.56,\n",
       " 'recall': 1.037037037037037,\n",
       " 'map_score': 0.24446963970773494,\n",
       " 'relevant_retrieved': 56,\n",
       " 'num_retrieved': 100}"
      ]
     },
     "execution_count": 16,
     "metadata": {},
     "output_type": "execute_result"
    }
   ],
   "source": [
    "res"
   ]
  },
  {
   "cell_type": "markdown",
   "metadata": {},
   "source": [
    "### RAPTOR: Update Shards"
   ]
  },
  {
   "cell_type": "code",
   "execution_count": 4,
   "metadata": {},
   "outputs": [
    {
     "data": {
      "application/vnd.jupyter.widget-view+json": {
       "model_id": "94f3ce74d30d482c89bf3f0549abcd3d",
       "version_major": 2,
       "version_minor": 0
      },
      "text/plain": [
       "Downloading readme:   0%|          | 0.00/918 [00:00<?, ?B/s]"
      ]
     },
     "metadata": {},
     "output_type": "display_data"
    },
    {
     "name": "stderr",
     "output_type": "stream",
     "text": [
      "Downloading data: 100%|████████████████████████████████████████| 13.5M/13.5M [00:04<00:00, 3.27MB/s]\n",
      "Downloading data: 100%|████████████████████████████████████████| 10.7M/10.7M [00:02<00:00, 4.49MB/s]\n",
      "Downloading data: 100%|████████████████████████████████████████| 11.1M/11.1M [00:03<00:00, 3.50MB/s]\n"
     ]
    },
    {
     "data": {
      "application/vnd.jupyter.widget-view+json": {
       "model_id": "1a71eab1b6c94d938cc80b579fcbc9dc",
       "version_major": 2,
       "version_minor": 0
      },
      "text/plain": [
       "Generating TEST.medium_tdt_raptor split:   0%|          | 0/1925 [00:00<?, ? examples/s]"
      ]
     },
     "metadata": {},
     "output_type": "display_data"
    },
    {
     "data": {
      "application/vnd.jupyter.widget-view+json": {
       "model_id": "672bf67104d74840a0a0994376c4f798",
       "version_major": 2,
       "version_minor": 0
      },
      "text/plain": [
       "Generating TEST.medium_tdt_raptor_vi split:   0%|          | 0/1523 [00:00<?, ? examples/s]"
      ]
     },
     "metadata": {},
     "output_type": "display_data"
    },
    {
     "data": {
      "application/vnd.jupyter.widget-view+json": {
       "model_id": "fb583896817d4a71ad757913aacd64d6",
       "version_major": 2,
       "version_minor": 0
      },
      "text/plain": [
       "Generating TEST.medium_tdt_proposition_raptor_vi split:   0%|          | 0/1570 [00:00<?, ? examples/s]"
      ]
     },
     "metadata": {},
     "output_type": "display_data"
    },
    {
     "data": {
      "application/vnd.jupyter.widget-view+json": {
       "model_id": "7bf585a404414304a8bc9d7c770e1e01",
       "version_major": 2,
       "version_minor": 0
      },
      "text/plain": [
       "Downloading readme:   0%|          | 0.00/1.06k [00:00<?, ?B/s]"
      ]
     },
     "metadata": {},
     "output_type": "display_data"
    },
    {
     "name": "stderr",
     "output_type": "stream",
     "text": [
      "Downloading data: 100%|███████████████████████████████████████████| 510k/510k [00:01<00:00, 506kB/s]\n",
      "Downloading data: 100%|███████████████████████████████████████████| 191k/191k [00:00<00:00, 215kB/s]\n",
      "Downloading data: 100%|████████████████████████████████████████| 6.01M/6.01M [00:01<00:00, 4.12MB/s]\n"
     ]
    },
    {
     "data": {
      "application/vnd.jupyter.widget-view+json": {
       "model_id": "4bd5fc470a5048269cabe56d901ec640",
       "version_major": 2,
       "version_minor": 0
      },
      "text/plain": [
       "Generating TEST.medium_tdt_raptor split:   0%|          | 0/332 [00:00<?, ? examples/s]"
      ]
     },
     "metadata": {},
     "output_type": "display_data"
    },
    {
     "data": {
      "application/vnd.jupyter.widget-view+json": {
       "model_id": "2bf27c9403174f8db9798ebe420d960e",
       "version_major": 2,
       "version_minor": 0
      },
      "text/plain": [
       "Generating TEST.medium_tdt_raptor_vi split:   0%|          | 0/277 [00:00<?, ? examples/s]"
      ]
     },
     "metadata": {},
     "output_type": "display_data"
    },
    {
     "data": {
      "application/vnd.jupyter.widget-view+json": {
       "model_id": "6fb7708711c046ad980b61b27450516e",
       "version_major": 2,
       "version_minor": 0
      },
      "text/plain": [
       "Generating TEST.medium_tdt_proposition_raptor_vi split:   0%|          | 0/278 [00:00<?, ? examples/s]"
      ]
     },
     "metadata": {},
     "output_type": "display_data"
    }
   ],
   "source": [
    "CLUSTER_REPO = \"BroDeadlines/TEST.NEW.PART_CLUSTER.raptor.edu_tdt_data\"\n",
    "SUMMERIZE_REPO = \"BroDeadlines/TEST.NEW.PART_SUMMERIZE.raptor.edu_tdt_data\"\n",
    "SPLIT = \"TEST.medium_tdt_proposition_raptor_vi\"\n",
    "\n",
    "cluster_dataset =  load_dataset(CLUSTER_REPO, split=SPLIT)\n",
    "summerize_dataset =  load_dataset(SUMMERIZE_REPO, split=SPLIT)"
   ]
  },
  {
   "cell_type": "code",
   "execution_count": 5,
   "metadata": {},
   "outputs": [
    {
     "data": {
      "application/vnd.jupyter.widget-view+json": {
       "model_id": "b6a3d1f102f84fb2a61d5224209432f3",
       "version_major": 2,
       "version_minor": 0
      },
      "text/plain": [
       "Filter:   0%|          | 0/1570 [00:00<?, ? examples/s]"
      ]
     },
     "metadata": {},
     "output_type": "display_data"
    },
    {
     "data": {
      "application/vnd.jupyter.widget-view+json": {
       "model_id": "37cd011912fa49e98b9272c1ab5b3320",
       "version_major": 2,
       "version_minor": 0
      },
      "text/plain": [
       "Map:   0%|          | 0/1302 [00:00<?, ? examples/s]"
      ]
     },
     "metadata": {},
     "output_type": "display_data"
    },
    {
     "data": {
      "text/plain": [
       "344"
      ]
     },
     "execution_count": 5,
     "metadata": {},
     "output_type": "execute_result"
    }
   ],
   "source": [
    "easy_shards = {}\n",
    "hard_shards = {}\n",
    "\n",
    "def get_shards_cluster_1(row):\n",
    "    d_id = row['doc_ids']\n",
    "    if d_id not in hard_shards:\n",
    "        hard_shards[d_id] = row['hard_shards']\n",
    "        easy_shards[d_id] = row['easy_shards']\n",
    "    return row\n",
    "\n",
    "cluster_dataset.filter(lambda row: row['level_id'] == \"tree_1\").map(get_shards_cluster_1)\n",
    "\n",
    "len(easy_shards)"
   ]
  },
  {
   "cell_type": "code",
   "execution_count": 20,
   "metadata": {},
   "outputs": [
    {
     "data": {
      "application/vnd.jupyter.widget-view+json": {
       "model_id": "d941b4379eeb4c43b7c83fc3c797e7b3",
       "version_major": 2,
       "version_minor": 0
      },
      "text/plain": [
       "Map:   0%|          | 0/277 [00:00<?, ? examples/s]"
      ]
     },
     "metadata": {},
     "output_type": "display_data"
    },
    {
     "data": {
      "text/plain": [
       "Dataset({\n",
       "    features: ['summaries', 'level', 'cluster', 'doc_ids', 'level_id', 'easy_shards', 'hard_shards'],\n",
       "    num_rows: 277\n",
       "})"
      ]
     },
     "execution_count": 20,
     "metadata": {},
     "output_type": "execute_result"
    }
   ],
   "source": [
    "summerize_dataset.map(get_shards_cluster_1)"
   ]
  },
  {
   "cell_type": "code",
   "execution_count": 21,
   "metadata": {},
   "outputs": [
    {
     "data": {
      "text/plain": [
       "1531"
      ]
     },
     "execution_count": 21,
     "metadata": {},
     "output_type": "execute_result"
    }
   ],
   "source": [
    "sum(easy_shards.values())"
   ]
  },
  {
   "cell_type": "code",
   "execution_count": 9,
   "metadata": {},
   "outputs": [
    {
     "data": {
      "application/vnd.jupyter.widget-view+json": {
       "model_id": "ce50c29795704bb18ed3e93427e489b2",
       "version_major": 2,
       "version_minor": 0
      },
      "text/plain": [
       "Map:   0%|          | 0/144 [00:00<?, ? examples/s]"
      ]
     },
     "metadata": {},
     "output_type": "display_data"
    },
    {
     "data": {
      "text/plain": [
       "Dataset({\n",
       "    features: ['question', 'answer', 'url', 'group', 'doc_id', 'metadata', 'evaluation', 'easy_shards', 'hard_shards'],\n",
       "    num_rows: 144\n",
       "})"
      ]
     },
     "execution_count": 9,
     "metadata": {},
     "output_type": "execute_result"
    }
   ],
   "source": [
    "def update_shards(row):\n",
    "    id = row['doc_id']\n",
    "    return {**row, 'easy_shards': easy_shards[id], 'hard_shards': hard_shards[id]}\n",
    "\n",
    "test_ds_update = test_ds.map(update_shards)\n",
    "test_ds_update"
   ]
  },
  {
   "cell_type": "code",
   "execution_count": 10,
   "metadata": {},
   "outputs": [
    {
     "data": {
      "application/vnd.jupyter.widget-view+json": {
       "model_id": "eed6d6eea3304ec2bb4a8f0a9480c900",
       "version_major": 2,
       "version_minor": 0
      },
      "text/plain": [
       "Uploading the dataset shards:   0%|          | 0/1 [00:00<?, ?it/s]"
      ]
     },
     "metadata": {},
     "output_type": "display_data"
    },
    {
     "data": {
      "application/vnd.jupyter.widget-view+json": {
       "model_id": "92d728a80f2b4022b29c6451451eea7a",
       "version_major": 2,
       "version_minor": 0
      },
      "text/plain": [
       "Creating parquet from Arrow format:   0%|          | 0/1 [00:00<?, ?ba/s]"
      ]
     },
     "metadata": {},
     "output_type": "display_data"
    },
    {
     "data": {
      "application/vnd.jupyter.widget-view+json": {
       "model_id": "a0cfb02a496241db91e6c73121b3e93a",
       "version_major": 2,
       "version_minor": 0
      },
      "text/plain": [
       "README.md:   0%|          | 0.00/2.75k [00:00<?, ?B/s]"
      ]
     },
     "metadata": {},
     "output_type": "display_data"
    },
    {
     "data": {
      "text/plain": [
       "CommitInfo(commit_url='https://huggingface.co/datasets/BroDeadlines/EVAL.NEW.raptor.IR_evaluation/commit/5db35cda4bc3463f3ed5c64c51a336a828b689de', commit_message='Upload dataset', commit_description='', oid='5db35cda4bc3463f3ed5c64c51a336a828b689de', pr_url=None, pr_revision=None, pr_num=None)"
      ]
     },
     "execution_count": 10,
     "metadata": {},
     "output_type": "execute_result"
    }
   ],
   "source": [
    "REPO = \"BroDeadlines/EVAL.NEW.raptor.IR_evaluation\"\n",
    "SPLIT = \"TEST.Hyde.medium_tdt_proposition_raptor_vi\"\n",
    "\n",
    "test_ds_update.push_to_hub(REPO, split=SPLIT)"
   ]
  },
  {
   "cell_type": "markdown",
   "metadata": {
    "jp-MarkdownHeadingCollapsed": true
   },
   "source": [
    "### Upload"
   ]
  },
  {
   "cell_type": "code",
   "execution_count": 9,
   "metadata": {},
   "outputs": [
    {
     "data": {
      "text/plain": [
       "'INDEX.medium_index_TDT'"
      ]
     },
     "execution_count": 9,
     "metadata": {},
     "output_type": "execute_result"
    }
   ],
   "source": [
    "SPLIT"
   ]
  },
  {
   "cell_type": "code",
   "execution_count": 10,
   "metadata": {},
   "outputs": [
    {
     "data": {
      "application/vnd.jupyter.widget-view+json": {
       "model_id": "d5e21ac3106e4ae4816633f3c74ba3a0",
       "version_major": 2,
       "version_minor": 0
      },
      "text/plain": [
       "Uploading the dataset shards:   0%|          | 0/1 [00:00<?, ?it/s]"
      ]
     },
     "metadata": {},
     "output_type": "display_data"
    },
    {
     "data": {
      "application/vnd.jupyter.widget-view+json": {
       "model_id": "f8604844d22042a48ce19555d41b08d6",
       "version_major": 2,
       "version_minor": 0
      },
      "text/plain": [
       "Creating parquet from Arrow format:   0%|          | 0/1 [00:00<?, ?ba/s]"
      ]
     },
     "metadata": {},
     "output_type": "display_data"
    },
    {
     "data": {
      "application/vnd.jupyter.widget-view+json": {
       "model_id": "8c31c83a2f114766942d27c658333b26",
       "version_major": 2,
       "version_minor": 0
      },
      "text/plain": [
       "README.md:   0%|          | 0.00/725 [00:00<?, ?B/s]"
      ]
     },
     "metadata": {},
     "output_type": "display_data"
    },
    {
     "ename": "ValueError",
     "evalue": "Features of the new split don't match the features of the existing splits on the hub: {'question': Value(dtype='string', id=None), 'answer': Value(dtype='string', id=None), 'url': Value(dtype='string', id=None), 'group': Value(dtype='string', id=None), 'doc_id': Value(dtype='string', id=None), 'metadata': Value(dtype='string', id=None), 'evaluation': [{'content': Value(dtype='string', id=None), 'doc_id': Value(dtype='string', id=None), 'score': Value(dtype='float64', id=None)}]} != {'question': Value(dtype='string', id=None), 'answer': Value(dtype='string', id=None), 'url': Value(dtype='string', id=None), 'group': Value(dtype='string', id=None), 'doc_id': Value(dtype='string', id=None), 'metadata': Value(dtype='string', id=None), 'evaluation': [{'content': Value(dtype='string', id=None), 'doc_id': Value(dtype='string', id=None), 'score': Value(dtype='float64', id=None)}], 'easy_shards': Value(dtype='int64', id=None), 'hard_shards': Value(dtype='int64', id=None)}",
     "output_type": "error",
     "traceback": [
      "\u001b[0;31m---------------------------------------------------------------------------\u001b[0m",
      "\u001b[0;31mValueError\u001b[0m                                Traceback (most recent call last)",
      "Cell \u001b[0;32mIn[10], line 1\u001b[0m\n\u001b[0;32m----> 1\u001b[0m \u001b[43mtest_ds\u001b[49m\u001b[38;5;241;43m.\u001b[39;49m\u001b[43mpush_to_hub\u001b[49m\u001b[43m(\u001b[49m\u001b[38;5;124;43m\"\u001b[39;49m\u001b[38;5;124;43mBroDeadlines/EVAL.NEW.raptor.IR_evaluation\u001b[39;49m\u001b[38;5;124;43m\"\u001b[39;49m\u001b[43m,\u001b[49m\u001b[43m \u001b[49m\u001b[43msplit\u001b[49m\u001b[38;5;241;43m=\u001b[39;49m\u001b[38;5;124;43m\"\u001b[39;49m\u001b[38;5;124;43mTEST.medium_tdt_raptor_vi\u001b[39;49m\u001b[38;5;124;43m\"\u001b[39;49m\u001b[43m)\u001b[49m\n",
      "File \u001b[0;32m~/miniconda3/envs/uni/lib/python3.9/site-packages/datasets/arrow_dataset.py:5489\u001b[0m, in \u001b[0;36mDataset.push_to_hub\u001b[0;34m(self, repo_id, config_name, set_default, split, data_dir, commit_message, commit_description, private, token, revision, branch, create_pr, max_shard_size, num_shards, embed_external_files)\u001b[0m\n\u001b[1;32m   5487\u001b[0m \u001b[38;5;28;01mif\u001b[39;00m repo_info\u001b[38;5;241m.\u001b[39msplits \u001b[38;5;129;01mand\u001b[39;00m \u001b[38;5;28mlist\u001b[39m(repo_info\u001b[38;5;241m.\u001b[39msplits) \u001b[38;5;241m!=\u001b[39m [split]:\n\u001b[1;32m   5488\u001b[0m     \u001b[38;5;28;01mif\u001b[39;00m \u001b[38;5;28mself\u001b[39m\u001b[38;5;241m.\u001b[39m_info\u001b[38;5;241m.\u001b[39mfeatures \u001b[38;5;241m!=\u001b[39m repo_info\u001b[38;5;241m.\u001b[39mfeatures:\n\u001b[0;32m-> 5489\u001b[0m         \u001b[38;5;28;01mraise\u001b[39;00m \u001b[38;5;167;01mValueError\u001b[39;00m(\n\u001b[1;32m   5490\u001b[0m             \u001b[38;5;124mf\u001b[39m\u001b[38;5;124m\"\u001b[39m\u001b[38;5;124mFeatures of the new split don\u001b[39m\u001b[38;5;124m'\u001b[39m\u001b[38;5;124mt match the features of the existing splits on the hub: \u001b[39m\u001b[38;5;132;01m{\u001b[39;00m\u001b[38;5;28mself\u001b[39m\u001b[38;5;241m.\u001b[39m_info\u001b[38;5;241m.\u001b[39mfeatures\u001b[38;5;132;01m}\u001b[39;00m\u001b[38;5;124m != \u001b[39m\u001b[38;5;132;01m{\u001b[39;00mrepo_info\u001b[38;5;241m.\u001b[39mfeatures\u001b[38;5;132;01m}\u001b[39;00m\u001b[38;5;124m\"\u001b[39m\n\u001b[1;32m   5491\u001b[0m         )\n\u001b[1;32m   5493\u001b[0m     \u001b[38;5;28;01mif\u001b[39;00m split \u001b[38;5;129;01min\u001b[39;00m repo_info\u001b[38;5;241m.\u001b[39msplits:\n\u001b[1;32m   5494\u001b[0m         repo_info\u001b[38;5;241m.\u001b[39mdownload_size \u001b[38;5;241m-\u001b[39m\u001b[38;5;241m=\u001b[39m deleted_size\n",
      "\u001b[0;31mValueError\u001b[0m: Features of the new split don't match the features of the existing splits on the hub: {'question': Value(dtype='string', id=None), 'answer': Value(dtype='string', id=None), 'url': Value(dtype='string', id=None), 'group': Value(dtype='string', id=None), 'doc_id': Value(dtype='string', id=None), 'metadata': Value(dtype='string', id=None), 'evaluation': [{'content': Value(dtype='string', id=None), 'doc_id': Value(dtype='string', id=None), 'score': Value(dtype='float64', id=None)}]} != {'question': Value(dtype='string', id=None), 'answer': Value(dtype='string', id=None), 'url': Value(dtype='string', id=None), 'group': Value(dtype='string', id=None), 'doc_id': Value(dtype='string', id=None), 'metadata': Value(dtype='string', id=None), 'evaluation': [{'content': Value(dtype='string', id=None), 'doc_id': Value(dtype='string', id=None), 'score': Value(dtype='float64', id=None)}], 'easy_shards': Value(dtype='int64', id=None), 'hard_shards': Value(dtype='int64', id=None)}"
     ]
    }
   ],
   "source": [
    "test_ds.push_to_hub(\"BroDeadlines/EVAL.NEW.raptor.IR_evaluation\", split=\"TEST.medium_tdt_raptor_vi\")"
   ]
  },
  {
   "cell_type": "code",
   "execution_count": 17,
   "metadata": {},
   "outputs": [
    {
     "data": {
      "text/plain": [
       "Dataset({\n",
       "    features: ['question', 'answer', 'url', 'group', 'doc_id', 'metadata', 'evaluation'],\n",
       "    num_rows: 144\n",
       "})"
      ]
     },
     "execution_count": 17,
     "metadata": {},
     "output_type": "execute_result"
    }
   ],
   "source": [
    "test_ds"
   ]
  },
  {
   "cell_type": "code",
   "execution_count": 19,
   "metadata": {},
   "outputs": [
    {
     "data": {
      "text/plain": [
       "''"
      ]
     },
     "execution_count": 19,
     "metadata": {},
     "output_type": "execute_result"
    }
   ],
   "source": [
    "test_ds[6]['metadata']"
   ]
  },
  {
   "cell_type": "markdown",
   "metadata": {},
   "source": [
    "# Evaluation IR"
   ]
  },
  {
   "cell_type": "code",
   "execution_count": 5,
   "metadata": {},
   "outputs": [
    {
     "data": {
      "application/vnd.jupyter.widget-view+json": {
       "model_id": "fd19d41d7668427986c47c5824228965",
       "version_major": 2,
       "version_minor": 0
      },
      "text/plain": [
       "Downloading readme:   0%|          | 0.00/2.96k [00:00<?, ?B/s]"
      ]
     },
     "metadata": {},
     "output_type": "display_data"
    },
    {
     "name": "stderr",
     "output_type": "stream",
     "text": [
      "Downloading data: 100%|███████████████████████████████████████████| 152k/152k [00:00<00:00, 165kB/s]\n",
      "Downloading data: 100%|███████████████████████████████████████████| 166k/166k [00:01<00:00, 160kB/s]\n",
      "Downloading data: 100%|███████████████████████████████████████████| 209k/209k [00:00<00:00, 306kB/s]\n",
      "Downloading data: 100%|███████████████████████████████████████████| 212k/212k [00:00<00:00, 292kB/s]\n"
     ]
    },
    {
     "data": {
      "application/vnd.jupyter.widget-view+json": {
       "model_id": "8e2adf0c66ee4bceb4e578aec6bc5fcb",
       "version_major": 2,
       "version_minor": 0
      },
      "text/plain": [
       "Generating TEST.medium_tdt_raptor split:   0%|          | 0/144 [00:00<?, ? examples/s]"
      ]
     },
     "metadata": {},
     "output_type": "display_data"
    },
    {
     "data": {
      "application/vnd.jupyter.widget-view+json": {
       "model_id": "3a5fdb63c4414e79bc2c6d744ecc1dc3",
       "version_major": 2,
       "version_minor": 0
      },
      "text/plain": [
       "Generating TEST.medium_tdt_raptor_vi split:   0%|          | 0/144 [00:00<?, ? examples/s]"
      ]
     },
     "metadata": {},
     "output_type": "display_data"
    },
    {
     "data": {
      "application/vnd.jupyter.widget-view+json": {
       "model_id": "2513631f64974b70a8ff43d82ca652cc",
       "version_major": 2,
       "version_minor": 0
      },
      "text/plain": [
       "Generating TEST.Hyde.medium_tdt_raptor_vi split:   0%|          | 0/144 [00:00<?, ? examples/s]"
      ]
     },
     "metadata": {},
     "output_type": "display_data"
    },
    {
     "data": {
      "application/vnd.jupyter.widget-view+json": {
       "model_id": "2fc6645dc91d4864a8fd9208bd42b9f7",
       "version_major": 2,
       "version_minor": 0
      },
      "text/plain": [
       "Generating TEST.Hyde.medium_tdt_proposition_raptor_vi split:   0%|          | 0/144 [00:00<?, ? examples/s]"
      ]
     },
     "metadata": {},
     "output_type": "display_data"
    }
   ],
   "source": [
    "EVAL_REPO = \"BroDeadlines/EVAL.IR_evaluation\"\n",
    "EVAL_REPO = \"BroDeadlines/EVAL.NEW.raptor.IR_evaluation\"\n",
    "# split = \"INDEX.medium_index_TDT.proposition.sentence.hybrid\"\n",
    "split = \"INDEX.medium_index_TDT.proposition.hybrid\"\n",
    "split = \"INDEX.medium_index_TDT.fulltext.clean.8.proposition.sentence.hybrid\"\n",
    "# eval_dataset = load_dataset(EVAL_REPO, split=split)\n",
    "split = \"TEST.Hyde.medium_tdt_proposition_raptor_vi\"\n",
    "eval_dataset = load_dataset(EVAL_REPO, split=split)"
   ]
  },
  {
   "cell_type": "code",
   "execution_count": 6,
   "metadata": {},
   "outputs": [
    {
     "name": "stdout",
     "output_type": "stream",
     "text": [
      "INDEX.medium_index_TDT\n"
     ]
    },
    {
     "data": {
      "text/plain": [
       "144"
      ]
     },
     "execution_count": 6,
     "metadata": {},
     "output_type": "execute_result"
    }
   ],
   "source": [
    "print(SPLIT)\n",
    "len(eval_dataset)"
   ]
  },
  {
   "cell_type": "code",
   "execution_count": 16,
   "metadata": {},
   "outputs": [],
   "source": [
    "KEY = 'INDEX.medium_index_TDT.fulltext.clean.proposition.sentence.hybrid'\n",
    "KEY = 'INDEX.medium_index_TDT.fulltext.clean.8.proposition.sentence.hybrid'\n",
    "KEY = 'INDEX.medium_index_TDT.fulltext.clean.2.proposition.sentence.hybrid'\n",
    "eval = eval_dataset[KEY]"
   ]
  },
  {
   "cell_type": "code",
   "execution_count": 17,
   "metadata": {},
   "outputs": [
    {
     "data": {
      "text/plain": [
       "4"
      ]
     },
     "execution_count": 17,
     "metadata": {},
     "output_type": "execute_result"
    }
   ],
   "source": [
    "a = eval[0]['evaluation']\n",
    "len(a)"
   ]
  },
  {
   "cell_type": "code",
   "execution_count": 7,
   "metadata": {},
   "outputs": [
    {
     "data": {
      "application/vnd.jupyter.widget-view+json": {
       "model_id": "9545b4389a5f4315b07d09ba0cad0210",
       "version_major": 2,
       "version_minor": 0
      },
      "text/plain": [
       "Map:   0%|          | 0/144 [00:00<?, ? examples/s]"
      ]
     },
     "metadata": {},
     "output_type": "display_data"
    },
    {
     "data": {
      "text/plain": [
       "144"
      ]
     },
     "execution_count": 7,
     "metadata": {},
     "output_type": "execute_result"
    }
   ],
   "source": [
    "import json\n",
    "\n",
    "shards = []\n",
    "\n",
    "def count_shards(row):\n",
    "    meta = json.loads(row['metadata'])\n",
    "    shards.append(meta['shards'])\n",
    "    return row\n",
    "\n",
    "eval_dataset.map(count_shards)\n",
    "sum(shards)"
   ]
  },
  {
   "cell_type": "code",
   "execution_count": 18,
   "metadata": {},
   "outputs": [],
   "source": [
    "ads = eval_dataset.map(lambda e: {**e, \"easy_shards\": 1})"
   ]
  },
  {
   "cell_type": "code",
   "execution_count": 19,
   "metadata": {},
   "outputs": [
    {
     "data": {
      "text/plain": [
       "Dataset({\n",
       "    features: ['question', 'answer', 'url', 'group', 'doc_id', 'metadata', 'evaluation', 'easy_shards'],\n",
       "    num_rows: 144\n",
       "})"
      ]
     },
     "execution_count": 19,
     "metadata": {},
     "output_type": "execute_result"
    }
   ],
   "source": [
    "ads"
   ]
  },
  {
   "cell_type": "code",
   "execution_count": 21,
   "metadata": {},
   "outputs": [
    {
     "data": {
      "text/plain": [
       "{'precision': 0.637,\n",
       " 'recall': 0.854,\n",
       " 'map_score': 0.273,\n",
       " 'relevant_retrieved': 123,\n",
       " 'num_retrieved': 193,\n",
       " 'nulls': 0}"
      ]
     },
     "execution_count": 21,
     "metadata": {},
     "output_type": "execute_result"
    }
   ],
   "source": [
    "from src.utils.eval_utils import evaluate_IR, evaluate_IR_RAPTOR\n",
    "\n",
    "# res = evaluate_IR(eval_dataset=eval, limit_k=4)\n",
    "eval_dataset = ads\n",
    "res = evaluate_IR_RAPTOR(eval_dataset, 7, 'easy_shards')\n",
    "res"
   ]
  },
  {
   "cell_type": "markdown",
   "metadata": {},
   "source": [
    "## RAPTOR"
   ]
  },
  {
   "cell_type": "code",
   "execution_count": 1,
   "metadata": {},
   "outputs": [],
   "source": [
    "import sys\n",
    "sys.path.append(\"../..\")\n",
    "from datasets import load_dataset\n",
    "from src.service.provider import ProviderService\n",
    "\n",
    "provider = ProviderService()"
   ]
  },
  {
   "cell_type": "code",
   "execution_count": 2,
   "metadata": {},
   "outputs": [
    {
     "data": {
      "application/vnd.jupyter.widget-view+json": {
       "model_id": "667995b510a24a548d41278d0036201b",
       "version_major": 2,
       "version_minor": 0
      },
      "text/plain": [
       "Downloading readme:   0%|          | 0.00/3.31k [00:00<?, ?B/s]"
      ]
     },
     "metadata": {},
     "output_type": "display_data"
    },
    {
     "name": "stderr",
     "output_type": "stream",
     "text": [
      "Downloading data: 100%|███████████████████████████████████████████| 152k/152k [00:01<00:00, 139kB/s]\n",
      "Downloading data: 100%|███████████████████████████████████████████| 166k/166k [00:00<00:00, 196kB/s]\n",
      "Downloading data: 100%|███████████████████████████████████████████| 209k/209k [00:01<00:00, 208kB/s]\n",
      "Downloading data: 100%|███████████████████████████████████████████| 212k/212k [00:00<00:00, 237kB/s]\n"
     ]
    },
    {
     "data": {
      "application/vnd.jupyter.widget-view+json": {
       "model_id": "5fd56ea0433349f6b0137ce089ea75ed",
       "version_major": 2,
       "version_minor": 0
      },
      "text/plain": [
       "Generating TEST.medium_tdt_raptor split:   0%|          | 0/144 [00:00<?, ? examples/s]"
      ]
     },
     "metadata": {},
     "output_type": "display_data"
    },
    {
     "data": {
      "application/vnd.jupyter.widget-view+json": {
       "model_id": "5e1fbd2243964e2fb4eded5883a843c8",
       "version_major": 2,
       "version_minor": 0
      },
      "text/plain": [
       "Generating TEST.medium_tdt_raptor_vi split:   0%|          | 0/144 [00:00<?, ? examples/s]"
      ]
     },
     "metadata": {},
     "output_type": "display_data"
    },
    {
     "data": {
      "application/vnd.jupyter.widget-view+json": {
       "model_id": "ed5d07ac8fb84cfeb4c681bffa5091d1",
       "version_major": 2,
       "version_minor": 0
      },
      "text/plain": [
       "Generating TEST.Hyde.medium_tdt_raptor_vi split:   0%|          | 0/144 [00:00<?, ? examples/s]"
      ]
     },
     "metadata": {},
     "output_type": "display_data"
    },
    {
     "data": {
      "application/vnd.jupyter.widget-view+json": {
       "model_id": "c8cab313845a435b94e37532e0ced47e",
       "version_major": 2,
       "version_minor": 0
      },
      "text/plain": [
       "Generating TEST.Hyde.medium_tdt_proposition_raptor_vi split:   0%|          | 0/144 [00:00<?, ? examples/s]"
      ]
     },
     "metadata": {},
     "output_type": "display_data"
    },
    {
     "data": {
      "text/plain": [
       "Dataset({\n",
       "    features: ['question', 'answer', 'url', 'group', 'doc_id', 'metadata', 'evaluation', 'easy_shards', 'hard_shards'],\n",
       "    num_rows: 144\n",
       "})"
      ]
     },
     "execution_count": 2,
     "metadata": {},
     "output_type": "execute_result"
    }
   ],
   "source": [
    "QA_REPO = \"BroDeadlines/EVAL.NEW.raptor.IR_evaluation\"\n",
    "SPLIT = \"TEST.medium_tdt_raptor_vi\"\n",
    "test_ds_update = load_dataset(QA_REPO, split=SPLIT)\n",
    "test_ds_update"
   ]
  },
  {
   "cell_type": "code",
   "execution_count": 3,
   "metadata": {},
   "outputs": [
    {
     "data": {
      "text/plain": [
       "'{\"k_6_hard\": {\"precision\": 0.58, \"recall\": 0.19, \"map_score\": 0.282, \"relevant_retrieved\": 116, \"num_retrieved\": 200, \"nulls\": 0}, \"k_7_hard\": {\"precision\": 0.581, \"recall\": 0.207, \"map_score\": 0.275, \"relevant_retrieved\": 126, \"num_retrieved\": 217, \"nulls\": 0}, \"k_8_hard\": {\"precision\": 0.595, \"recall\": 0.221, \"map_score\": 0.271, \"relevant_retrieved\": 135, \"num_retrieved\": 227, \"nulls\": 0}}'"
      ]
     },
     "execution_count": 3,
     "metadata": {},
     "output_type": "execute_result"
    }
   ],
   "source": [
    "import json \n",
    "from src.utils.eval_utils import evaluate_IR_RAPTOR\n",
    "\n",
    "t_from = 6\n",
    "t_to = 8\n",
    "type = \"hard\"\n",
    "data = {}\n",
    "for i in range(t_from, t_to+1):\n",
    "    res = evaluate_IR_RAPTOR(test_ds_update, i, f'{type}_shards')\n",
    "    k = f\"k_{i}_{type}\"\n",
    "    data[k] = res\n",
    "json.dumps(data)"
   ]
  }
 ],
 "metadata": {
  "kernelspec": {
   "display_name": "Python 3 (ipykernel)",
   "language": "python",
   "name": "python3"
  },
  "language_info": {
   "codemirror_mode": {
    "name": "ipython",
    "version": 3
   },
   "file_extension": ".py",
   "mimetype": "text/x-python",
   "name": "python",
   "nbconvert_exporter": "python",
   "pygments_lexer": "ipython3",
   "version": "3.9.18"
  }
 },
 "nbformat": 4,
 "nbformat_minor": 4
}
