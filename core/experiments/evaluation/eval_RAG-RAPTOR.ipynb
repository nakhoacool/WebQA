{
 "cells": [
  {
   "cell_type": "markdown",
   "id": "24c08713-b9dc-428d-ad60-f55f59de9c44",
   "metadata": {},
   "source": [
    "# Evaluate RAG"
   ]
  },
  {
   "cell_type": "code",
   "execution_count": 1,
   "id": "4f6cf076-a65e-400b-88c3-d65b38a9a3d4",
   "metadata": {},
   "outputs": [],
   "source": [
    "import sys\n",
    "sys.path.append(\"../..\")\n",
    "from datasets import load_dataset\n",
    "from src.service.provider import ProviderService\n",
    "\n",
    "provider = ProviderService()\n",
    "\n",
    "# provider.config.enable_tracing(project=\"EVALUATE_RAG\")"
   ]
  },
  {
   "cell_type": "code",
   "execution_count": 2,
   "id": "ab6510fe-65a8-4d59-90ff-27c5db1c64d7",
   "metadata": {},
   "outputs": [
    {
     "data": {
      "text/plain": [
       "Dataset({\n",
       "    features: ['question', 'answer', 'url', 'group', 'doc_id'],\n",
       "    num_rows: 54\n",
       "})"
      ]
     },
     "execution_count": 2,
     "metadata": {},
     "output_type": "execute_result"
    }
   ],
   "source": [
    "QA_REPO = \"BroDeadlines/QA.UEH.QA_tu_van_tuyen_sinh\"\n",
    "QA_SPLIT = \"train\"\n",
    "qa_dataset = load_dataset(QA_REPO, split=QA_SPLIT)\n",
    "qa_dataset"
   ]
  },
  {
   "cell_type": "markdown",
   "id": "ac9f56f0-fdf4-48d0-928f-211640342132",
   "metadata": {},
   "source": [
    "# Run RAG"
   ]
  },
  {
   "cell_type": "code",
   "execution_count": 3,
   "id": "7d9c2fce-9b9e-4511-839e-2d865b5f6254",
   "metadata": {},
   "outputs": [
    {
     "data": {
      "text/plain": [
       "Dataset({\n",
       "    features: ['url', 'content', 'doc_id', 'metadata', 'split', 'shards', 'propositions', 'proposition_list', '__index_level_0__'],\n",
       "    num_rows: 196\n",
       "})"
      ]
     },
     "execution_count": 3,
     "metadata": {},
     "output_type": "execute_result"
    }
   ],
   "source": [
    "# donwload corpora dataset\n",
    "# DATA_REPO = \"BroDeadlines/TEST.UEH.ueh_copora_data\"\n",
    "DATA_REPO = \"BroDeadlines/TEST.UEH.ueh_copora_data\"\n",
    "DATA_SPLIT = \"train\"\n",
    "\n",
    "dataset = load_dataset(DATA_REPO)\n",
    "dataset = dataset['train']\n",
    "dataset"
   ]
  },
  {
   "cell_type": "code",
   "execution_count": 4,
   "id": "a557597e-b1ba-4dfc-9ca2-efecc3c1e3c2",
   "metadata": {},
   "outputs": [
    {
     "data": {
      "text/plain": [
       "{'llm': 'gemini-1.0-pro',\n",
       " 'total_k': 8,\n",
       " 'txt_weight': 0.5,\n",
       " 'vec_weight': 0.5,\n",
       " 'vec_index': 'vec-sentence-ueh-unique',\n",
       " 'txt_index': 'text-sentence-ueh-unique'}"
      ]
     },
     "execution_count": 4,
     "metadata": {},
     "output_type": "execute_result"
    }
   ],
   "source": [
    "from src.rag.hg_parent_retriever import HugFaceParentRAG\n",
    "from src.rag.hyde_rag import HydeRAG, HydeHybridSearchRAG\n",
    "from src.utils.type_utils import get_default_config\n",
    "\n",
    "config = get_default_config()\n",
    "\n",
    "# config['vec_index'] = \"vec-sentence-propositon_medium_edu_tdt\"\n",
    "# config['txt_index'] = \"text-sentence-propositon_medium_edu_tdt\"\n",
    "\n",
    "# config['vec_index'] = \"vec-sentence-mini-hub-sentence\"\n",
    "# config['txt_index'] = \"text-sentence-mines_sizei-hub-sentence\"\n",
    "\n",
    "# config['vec_index'] = \"vec-sentence-compact-tdt-sentence\"\n",
    "# config['txt_index'] = \"text-sentence-compact-tdt-sentence\"\n",
    "# config['vec_index'] = \"vec-raptor-ueh-data-tree\"\n",
    "# config['txt_index'] = \"text-raptor-ueh-data-tree\"\n",
    "\n",
    "# config['vec_index'] = \"vec-sentence-ueh-sentence\"\n",
    "# config['txt_index'] = \"text-sentence-ueh-sentence\"\n",
    "\n",
    "config['vec_index'] = \"vec-sentence-ueh-unique\"\n",
    "config['txt_index'] = \"text-sentence-ueh-unique\"\n",
    "\n",
    "config['total_k'] = 8\n",
    "config['llm'] = \"gemini-1.0-pro\"\n",
    "config"
   ]
  },
  {
   "cell_type": "code",
   "execution_count": 7,
   "id": "4909c2ed-7aba-4909-a6ad-4af59012cf79",
   "metadata": {},
   "outputs": [],
   "source": [
    "UNI = \"Đại học Kinh tế TP. Hồ Chí Minh\"\n",
    "rag = HugFaceParentRAG(provider=provider, config=config, text_corpora=dataset, uni = UNI)\n",
    "\n",
    "# rag = HydeHybridSearchRAG(provider=provider, config=config)"
   ]
  },
  {
   "cell_type": "code",
   "execution_count": 6,
   "id": "9eae5785-c9f6-4e0b-930b-6bfbc906e0f7",
   "metadata": {},
   "outputs": [
    {
     "data": {
      "text/plain": [
       "'Học phí tại Vĩnh Long thấp hơn 65% so với Thành phố Hồ Chí Minh, học bổng cũng ít hơn về số lượng và giá trị.'"
      ]
     },
     "execution_count": 6,
     "metadata": {},
     "output_type": "execute_result"
    }
   ],
   "source": [
    "# q = \"sinh viên tôn đức thắng\"\n",
    "# q = \"Đại học Tôn Đức Thắng có những phương thức tuyển sinh nào?\"\n",
    "# q = \"Cho em hỏi là nếu em học chất lượg cao thì em sẽ học ở chi nhánh nào , sẽ học khác với đại trà chỗ nào và cơ sở vật chất ra làm sao ạ . Em cảm ơn\"\n",
    "q = \"Câu 2: Học phí và học bổng đào tạo tại Vĩnh Long có gì khác so với đào tại Thành phố Hồ Chí Minh\"\n",
    "a = rag.answer(q)\n",
    "\n",
    "a['answer']"
   ]
  },
  {
   "cell_type": "markdown",
   "id": "26fe684f-0fa8-459c-9d88-4a968b9078aa",
   "metadata": {},
   "source": [
    "## Run"
   ]
  },
  {
   "cell_type": "code",
   "execution_count": 8,
   "id": "9e97b943-adc7-4240-8969-ee9d1b02eb39",
   "metadata": {},
   "outputs": [],
   "source": [
    "def eval_no_score1(row):\n",
    "    resp = rag.answer(row['question'])\n",
    "    row['answer'] = resp['answer']\n",
    "    row['exc_second'] = resp['exc_second']\n",
    "    docs = resp['retrieved_docs']\n",
    "    result = [{'content': d.page_content, \"doc_id\": d.metadata['doc_id'], \"score\": -1.0} for d in docs]\n",
    "    row['evaluation'] = result\n",
    "    return row"
   ]
  },
  {
   "cell_type": "code",
   "execution_count": 9,
   "id": "e0d79fd3-f198-4139-b7a7-ce4eabfef7b2",
   "metadata": {},
   "outputs": [
    {
     "name": "stderr",
     "output_type": "stream",
     "text": [
      "Parameter 'function'=<function eval_no_score1 at 0x7fb712ab83a0> of the transform datasets.arrow_dataset.Dataset._map_single couldn't be hashed properly, a random hash was used instead. Make sure your transforms and parameters are serializable with pickle or dill for the dataset fingerprinting and caching to work. If you reuse this transform, the caching mechanism will consider it to be different from the previous calls and recompute everything. This warning is only showed once. Subsequent hashing failures won't be showed.\n"
     ]
    },
    {
     "data": {
      "application/vnd.jupyter.widget-view+json": {
       "model_id": "3c5d2fb6673a427ca9c736269b33029f",
       "version_major": 2,
       "version_minor": 0
      },
      "text/plain": [
       "Map:   0%|          | 0/54 [00:00<?, ? examples/s]"
      ]
     },
     "metadata": {},
     "output_type": "display_data"
    },
    {
     "name": "stdout",
     "output_type": "stream",
     "text": [
      "page_content='Bạn sẽ có rất nhiều câu hỏi để khám phá các cơ sở vật chất của UEH ngay từ những ngày đầu bỡ ngỡ.' metadata={'doc_id': '99c7f6be-168e-4a08-957c-fefe2094700a'}\n",
      "page_content='Em chỉ cần thoả “Điều kiện đăng ký xét tuyển” theo từng Phương thức là em đã có thể nộp hồ sơ xét tuyển phương thức mình muốn.' metadata={'doc_id': '944c6354-fbfe-438b-b630-c2a0df97a69e'}\n",
      "page_content='Điều kiện tham gia học bổng hỗ trợ học tập là sinh viên trúng tuyển vào UEH năm 2024.' metadata={'doc_id': '6937ab00-202f-4782-bed6-76551089fdb3'}\n",
      "page_content='Năm 2024, UEH xét tuyển gồm 6 phương thức.' metadata={'doc_id': 'aa3ad130-fbd1-48bb-b7ca-a2a4ff6681e4'}\n",
      "page_content='Đại học Kinh tế Thành phố Hồ Chí Minh thường đăng thông báo tuyển sinh 02 đợt vào tháng 01 và tháng 6 (tùy tình hình sẽ có thời gian chi tiết cụ thể về thời gian nộp hồ sơ dự tuyển, xét tuyển).' metadata={'doc_id': 'cc28dec2-a642-409d-8c85-efedeec297f4'}\n",
      "page_content='Thời gian nộp hồ sơ nhập học kết thúc vào ngày 21/6/2024.' metadata={'doc_id': '9cdc1fd4-cf2b-490b-a993-6566842036d6'}\n",
      "page_content='Trong giai đoạn 2021-2025, UEH sẽ tiến hành thực hiện tái cấu trúc thành đại học đa ngành.' metadata={'doc_id': '48e2cddd-15fb-479d-a732-e05bdcf2d118'}\n",
      "page_content='Tên tài khoản: Phân hiệu Đại học Kinh tế Thành phố Hồ Chí Minh tại tỉnh Vĩnh Long' metadata={'doc_id': 'cf421e55-47ee-4499-8709-16afb1c94708'}\n",
      "page_content='Mức học phí tại UEH – Phân hiệu Vĩnh Long (KSV) bằng 65% học phí của cơ sở tại Thành Phố Hồ Chí Minh.' metadata={'doc_id': 'e53667f0-d952-4396-a0c3-745c8462d6fe'}\n",
      "page_content='Học phí tại Phân hiệu Vĩnh Long chỉ bằng 80% so với học tại TP.HCM.' metadata={'doc_id': '730c5cad-1bf7-4b56-8932-06145bd04ab6'}\n",
      "page_content='Đối với thí sinh học tại Phân hiệu Vĩnh Long, thông tin chuyển khoản như sau:' metadata={'doc_id': 'cf421e55-47ee-4499-8709-16afb1c94708'}\n",
      "page_content='Tư vấn trước nhập học là một phần của Phân hiệu Vĩnh Long' metadata={'doc_id': 'e500cddd-2fa4-41ea-8971-300d89059838'}\n",
      "page_content='Đăng ký nhập học là một phần của Phân hiệu Vĩnh Long' metadata={'doc_id': 'e500cddd-2fa4-41ea-8971-300d89059838'}\n",
      "page_content='Học phí tại Phân hiệu Vĩnh Long bằng 80% học phí tại cơ sở TP. Hồ Chí Minh.' metadata={'doc_id': '730c5cad-1bf7-4b56-8932-06145bd04ab6'}\n",
      "page_content='Điều kiện tham gia học bổng hỗ trợ học tập là sinh viên trúng tuyển vào UEH năm 2024.' metadata={'doc_id': '6937ab00-202f-4782-bed6-76551089fdb3'}\n",
      "page_content='Năm 2023, UEH chính thức tuyển sinh 08 chương trình đào tạo mới.' metadata={'doc_id': '56961a22-5643-4ae6-8231-56f2319f8160'}\n",
      "page_content='Năm 2024, UEH xét tuyển gồm 6 phương thức.' metadata={'doc_id': 'aa3ad130-fbd1-48bb-b7ca-a2a4ff6681e4'}\n",
      "page_content='Mùa nào UEH cũng có những chương trình tình nguyện.' metadata={'doc_id': '63e725d6-45d4-4809-974a-564a7da6b1a8'}\n",
      "page_content='Năm 2024, UEH Vĩnh Long (Mã KSV) tiếp tục tuyển sinh 16 chương trình học.' metadata={'doc_id': '9e7670a2-06eb-47ad-8d62-3b3ba6477484'}\n",
      "page_content='Trong giai đoạn 2021-2025, UEH sẽ tiến hành thực hiện tái cấu trúc thành đại học đa ngành.' metadata={'doc_id': '48e2cddd-15fb-479d-a732-e05bdcf2d118'}\n",
      "page_content='Chương trình đào tạo mới của UEH có tính xu thế.' metadata={'doc_id': '56961a22-5643-4ae6-8231-56f2319f8160'}\n",
      "page_content='Sinh viên trúng tuyển vào UEH năm 2023 được đăng ký học bổng Hỗ trợ học tập.' metadata={'doc_id': 'e500cddd-2fa4-41ea-8971-300d89059838'}\n",
      "page_content='Bạn sẽ có rất nhiều câu hỏi để khám phá các cơ sở vật chất của UEH ngay từ những ngày đầu bỡ ngỡ.' metadata={'doc_id': '99c7f6be-168e-4a08-957c-fefe2094700a'}\n",
      "page_content='Nhiệm vụ của trường đại học khối ngành kinh tế, quản lý đầu tiên ra đời là đào tạo cán bộ nghiên cứu, quản lý, giảng dạy cho khối ngành kinh tế.' metadata={'doc_id': '48e2cddd-15fb-479d-a732-e05bdcf2d118'}\n",
      "page_content='Chương trình đào tạo tiên tiến quốc tế của Đại học Kinh tế TP. Hồ Chí Minh (UEH) có phương châm: “Dạy những gì các đại học hàng đầu thế giới đang dạy”.' metadata={'doc_id': '56961a22-5643-4ae6-8231-56f2319f8160'}\n",
      "page_content='Đây là sự khác biệt lớn nhất của chương trình đào tạo ngành Bảo hiểm của UEH với các trường đào tạo về ngành này.' metadata={'doc_id': '3594db3e-f229-46f8-84ef-9eb8ea76d4c3'}\n",
      "page_content='Chương trình đào tạo mới của UEH lấy yếu tố công nghệ làm trung tâm trải nghiệm Đại học thế hệ mới.' metadata={'doc_id': '56961a22-5643-4ae6-8231-56f2319f8160'}\n",
      "page_content='Người học có thể tìm kiếm thông tin từ các cây thư mục dữ liệu được phân theo các loại hình đào tạo của UEH.' metadata={'doc_id': '341cb8f6-cd4e-4550-a9e0-391c424f90a3'}\n",
      "page_content='Trường Đại học Kinh tế TP. Hồ Chí Minh (UEH) thiết kế chương trình đào tạo ngành Bảo hiểm với 2 khối kiến thức chuyên ngành là Bảo hiểm và Đầu tư tài chính.' metadata={'doc_id': '3594db3e-f229-46f8-84ef-9eb8ea76d4c3'}\n",
      "page_content='Môi trường học tập mới như thế nào?' metadata={'doc_id': 'd0037893-a126-4d18-a984-a1de45e76f92'}\n",
      "page_content='Cổng thông tin việc làm UEH có đội ngũ phụ trách chuyên nghiệp, sẵn lòng hỗ trợ kịp thời.' metadata={'doc_id': '4745fc85-0c67-4513-ab84-ca4bc9b2a2dd'}\n",
      "page_content='Người học tại UEH được định hướng để trở thành những công dân toàn cầu hành động vì sự phát triển bền vững.' metadata={'doc_id': 'ebc344fe-4de3-4f9d-a4c2-f5fa27c084a7'}\n",
      "page_content='Webometrics là một bảng xếp hạng các trường đại học.' metadata={'doc_id': 'a4c70fbe-9445-45ab-b745-b319a667a09a'}\n",
      "page_content='UEH có một nhóm các chương trình đào tạo được xếp vào nhóm Tiên tiến.' metadata={'doc_id': '56961a22-5643-4ae6-8231-56f2319f8160'}\n",
      "page_content='Eduniversal là một bảng xếp hạng các trường đại học.' metadata={'doc_id': 'a4c70fbe-9445-45ab-b745-b319a667a09a'}\n",
      "page_content='U-Multirank là một bảng xếp hạng các trường đại học.' metadata={'doc_id': 'a4c70fbe-9445-45ab-b745-b319a667a09a'}\n",
      "page_content='Cổng thông tin việc làm UEH có các tính năng tương tự những sàn giao dịch việc làm hiện nay.' metadata={'doc_id': '4745fc85-0c67-4513-ab84-ca4bc9b2a2dd'}\n",
      "page_content='Chứng chỉ tiếng Anh quốc tế là bắt buộc đối với thí sinh trúng tuyển PT3, PT4 có cộng điểm tiêu chí chứng chỉ tiếng Anh quốc tế.' metadata={'doc_id': '9b1674b3-34cd-43e2-a6f3-3903b1e38ffe'}\n",
      "page_content='Giấy chứng nhận hoặc Giấy khen đạt giải thưởng (Nhất, Nhì, Ba) kỳ thi chọn học sinh Giỏi THPT cấp tỉnh, cấp thành phố (trực thuộc trung ương) các môn: Toán, Vật lý, Hóa học, Tiếng Anh, Ngữ văn, Tin học là bắt buộc đối với thí sinh trúng tuyển PT3, PT4 có cộng điểm tiêu chí đạt giải thưởng kỳ thi chọn học sinh Giỏi THPT cấp tỉnh, cấp thành phố (trực thuộc trung ương).' metadata={'doc_id': '9b1674b3-34cd-43e2-a6f3-3903b1e38ffe'}\n",
      "page_content='Thời gian đăng ký mở lớp học phần cho học kỳ cuối là tháng 4, 5, 6.' metadata={'doc_id': '028f2b03-fbac-43b5-b83f-97eb83d88942'}\n",
      "page_content='Chứng chỉ tiếng Anh quốc tế là bắt buộc đối với thí sinh trúng tuyển Chương trình Kế toán tích hợp chứng chỉ nghề nghiệp quốc tế.' metadata={'doc_id': '9b1674b3-34cd-43e2-a6f3-3903b1e38ffe'}\n",
      "page_content='Phương thức 2: Xét tuyển đối với thí sinh tốt nghiệp chương trình trung học phổ thông nước ngoài và có chứng chỉ quốc tế.' metadata={'doc_id': 'aa3ad130-fbd1-48bb-b7ca-a2a4ff6681e4'}\n",
      "page_content='Thời gian dự kiến thông báo kế hoạch đăng ký học phần được chia thành 3 học kỳ:' metadata={'doc_id': '6f36549f-7719-4de2-a180-74ee410108ac'}\n",
      "page_content='Đối với Phương thức 2, 3, 4, 5, thời gian đăng ký dự kiến từ 08g00 ngày 19/3/2024 đến 16g00 ngày 10/5/2024.' metadata={'doc_id': 'aa3ad130-fbd1-48bb-b7ca-a2a4ff6681e4'}\n",
      "page_content='Dự kiến kết quả thi các học phần em đăng ký học với sinh viên khóa sau sẽ không kịp để xét tốt nghiệp đợt 4.' metadata={'doc_id': 'eadbdee0-50f6-47dd-8155-76b5ff312063'}\n",
      "page_content='Kết quả học phần trả nợ kịp để xét tốt nghiệp đợt 1.' metadata={'doc_id': 'eadbdee0-50f6-47dd-8155-76b5ff312063'}\n",
      "page_content='Thời gian đăng ký mở lớp học phần cho học kỳ cuối là tháng 4, 5, 6.' metadata={'doc_id': '028f2b03-fbac-43b5-b83f-97eb83d88942'}\n",
      "page_content='Thời gian xét tốt nghiệp đợt 4 tháng 12.' metadata={'doc_id': 'eadbdee0-50f6-47dd-8155-76b5ff312063'}\n",
      "page_content='Điều kiện để tham gia xét học bổng Hỗ trợ học tập là:' metadata={'doc_id': '2fdaff03-6f6e-4f0f-84b3-2406cc19cfa6'}\n",
      "page_content='Sinh viên đăng ký học chương trình thứ hai đáp ứng một trong hai điều kiện sau:' metadata={'doc_id': '27b378fd-51f2-4da1-8304-7c04b290781b'}\n",
      "page_content='UEH thường có 4 đợt xét tốt nghiệp trong năm (dự kiến vào tháng 3, 5, 9 và tháng 12) hoặc linh động dành cho sinh viên đại học chính quy.' metadata={'doc_id': 'd4b68b07-a868-4f1b-88c9-10806f9e1345'}\n",
      "page_content='Nếu cần hỏi CBCT điều gì, sinh viên phải hỏi công khai.' metadata={'doc_id': 'ebb889e5-7de7-42e5-96d8-8dc2fab2fc85'}\n",
      "page_content='Sinh viên đăng ký học chương trình thứ hai đáp ứng một trong hai điều kiện sau:' metadata={'doc_id': '27b378fd-51f2-4da1-8304-7c04b290781b'}\n",
      "page_content='Kết quả học tập của sinh viên được đánh giá dựa trên kết quả các học phần nằm trong yêu cầu của CTĐT mà sinh viên đã học và có điểm.' metadata={'doc_id': '168be259-44d9-436a-85a1-5b2620e20b00'}\n",
      "page_content='Kết quả học tập của sinh viên được đánh giá theo các tiêu chí sau đây:' metadata={'doc_id': '168be259-44d9-436a-85a1-5b2620e20b00'}\n",
      "page_content='Điều kiện tham gia trao đổi sinh viên và hợp tác trong đào tạo:' metadata={'doc_id': '99512c78-6827-48d5-83d8-77546c340ae1'}\n",
      "page_content='Kết quả thi được công bố sau 15 (mười lăm) ngày làm việc kể từ ngày thi kết thúc học phần.' metadata={'doc_id': '168be259-44d9-436a-85a1-5b2620e20b00'}\n",
      "page_content='Bạn có thể thử một trong các liên kết bên dưới hoặc tìm kiếm?' metadata={'doc_id': '0a9d5ae7-3a60-4e75-a654-6318088fc754'}\n",
      "page_content='Như vậy, em không thể lấy lại điểm cũ và phải đăng ký học lại học phần A.' metadata={'doc_id': '0ecaf7af-fbb5-4c82-9154-822fd2c21fda'}\n",
      "page_content='Em kiểm tra lại điểm môn A tại học kỳ này.' metadata={'doc_id': '286a3def-412e-4426-8368-a5044bbdd385'}\n",
      "page_content='Bạn có thể thử một trong các liên kết bên dưới hoặc tìm kiếm?' metadata={'doc_id': '0a9d5ae7-3a60-4e75-a654-6318088fc754'}\n",
      "page_content='Môi trường học tập mới như thế nào?' metadata={'doc_id': 'd0037893-a126-4d18-a984-a1de45e76f92'}\n",
      "page_content='Em không thể lấy lại điểm cũ.' metadata={'doc_id': '0ecaf7af-fbb5-4c82-9154-822fd2c21fda'}\n",
      "page_content='Tại tài khoản cá nhân (Portal), mục “Kết quả học tập” thể hiện kết quả các môn đã đăng ký học theo từng học kỳ tương ứng.' metadata={'doc_id': '286a3def-412e-4426-8368-a5044bbdd385'}\n",
      "page_content='Điều kiện để tham gia xét học bổng Hỗ trợ học tập là:' metadata={'doc_id': '2fdaff03-6f6e-4f0f-84b3-2406cc19cfa6'}\n",
      "page_content='Kết quả cần điều chỉnh là kết quả học phần của em.' metadata={'doc_id': '1d4b9103-d854-4ec1-9bd4-cbfbce60948c'}\n",
      "page_content='Để đề nghị nghỉ học tạm thời, sinh viên cần chuẩn bị hồ sơ bao gồm Giấy đề nghị nghỉ học tạm thời và bảo lưu kết quả học tập.' metadata={'doc_id': '59488173-eef7-4789-a256-bbbb505fb4bc'}\n",
      "page_content='Nếu kết quả sai hoặc chưa có, em có thể liên hệ với chuyên viên quản lý kết quả học tập của phòng Đào tạo để điều chỉnh.' metadata={'doc_id': '286a3def-412e-4426-8368-a5044bbdd385'}\n",
      "page_content='Điều kiện để tham gia xét học bổng Hỗ trợ học tập là:' metadata={'doc_id': '2fdaff03-6f6e-4f0f-84b3-2406cc19cfa6'}\n",
      "page_content='Để đăng ký học lại sau thời gian nghỉ học tạm thời, sinh viên cần chuẩn bị hồ sơ bao gồm Giấy đề nghị học lại.' metadata={'doc_id': '59488173-eef7-4789-a256-bbbb505fb4bc'}\n",
      "page_content='Em liên hệ với chuyên viên quản lý kết quả học tập của phòng Đào tạo để kiểm tra và điều chỉnh lại nếu có sai sót.' metadata={'doc_id': '501c3b81-1e2c-4e36-a10c-b5bf874f24df'}\n",
      "page_content='Kết quả học phần cần điều chỉnh là kết quả có sai sót.' metadata={'doc_id': '1d4b9103-d854-4ec1-9bd4-cbfbce60948c'}\n",
      "page_content='Hồ sơ vay bao gồm giấy đề nghị cấp thẻ tín dụng' metadata={'doc_id': 'df237e88-7229-4870-8d37-43c52a9a4f33'}\n"
     ]
    },
    {
     "name": "stderr",
     "output_type": "stream",
     "text": [
      "Retrying langchain_google_genai.llms._completion_with_retry.<locals>._completion_with_retry in 4.0 seconds as it raised ResourceExhausted: 429 Resource has been exhausted (e.g. check quota)..\n",
      "Retrying langchain_google_genai.llms._completion_with_retry.<locals>._completion_with_retry in 4.0 seconds as it raised ResourceExhausted: 429 Resource has been exhausted (e.g. check quota)..\n"
     ]
    },
    {
     "name": "stdout",
     "output_type": "stream",
     "text": [
      "page_content='Để đảm bảo kế hoạch học tập trong từng học kỳ, cũng như trong toàn khóa học, bạn cần chú ý:' metadata={'doc_id': '6f36549f-7719-4de2-a180-74ee410108ac'}\n",
      "page_content='Trường hợp sinh viên không có tên trong danh sách nhận học bổng, sinh viên cần xem lại điểm rèn luyện của mình.' metadata={'doc_id': 'a94ae88b-2cdb-4248-bf58-64590325a806'}\n",
      "page_content='Sinh viên học các chương trình Tiên tiến được ưu tiên bố trí học tại các cơ sở trung tâm của thành phố' metadata={'doc_id': '56961a22-5643-4ae6-8231-56f2319f8160'}\n",
      "page_content='Em có thể nộp hồ sơ để xét học bổng hỗ trợ học tập.' metadata={'doc_id': 'f88bab16-aafe-4bce-8670-12a53fd80daa'}\n",
      "page_content='Học bổng tạo cơ hội học tập cho các em có hoàn cảnh khó khăn.' metadata={'doc_id': 'e500cddd-2fa4-41ea-8971-300d89059838'}\n",
      "page_content='Em không thể lấy lại điểm cũ.' metadata={'doc_id': '0ecaf7af-fbb5-4c82-9154-822fd2c21fda'}\n",
      "page_content='Như vậy, em không thể lấy lại điểm cũ và phải đăng ký học lại học phần A.' metadata={'doc_id': '0ecaf7af-fbb5-4c82-9154-822fd2c21fda'}\n",
      "page_content='Do đó nếu em đã đạt học phần trên ở lần học trước thì kết quả đó sẽ là kết quả cuối cùng của học phần.' metadata={'doc_id': '0ecaf7af-fbb5-4c82-9154-822fd2c21fda'}\n",
      "page_content='Em không thể lấy lại điểm cũ.' metadata={'doc_id': '0ecaf7af-fbb5-4c82-9154-822fd2c21fda'}\n",
      "page_content='Em kiểm tra lại điểm môn A tại học kỳ này.' metadata={'doc_id': '286a3def-412e-4426-8368-a5044bbdd385'}\n",
      "page_content='Do đó, nếu học viên đăng ký học phần không đúng như gợi ý, có thể trùng lịch học và lịch thi.' metadata={'doc_id': '6b167083-f241-4454-a83b-4049f5802934'}\n",
      "page_content='Em phải đăng ký học lại học phần A.' metadata={'doc_id': '0ecaf7af-fbb5-4c82-9154-822fd2c21fda'}\n",
      "page_content='Để có đủ năng lực ngoại ngữ để tham khảo tài liệu, tham gia hoạt động quốc tế về chuyên môn phục vụ nghiên cứu khoa học và thực hiện đề tài luận án, người dự tuyển phải đáp ứng một trong các điều kiện sau:' metadata={'doc_id': 'cc28dec2-a642-409d-8c85-efedeec297f4'}\n",
      "page_content='Môi trường học tập mới như thế nào?' metadata={'doc_id': 'd0037893-a126-4d18-a984-a1de45e76f92'}\n",
      "page_content='Bản lĩnh sinh viên UEH được thể hiện ở khắp mọi nơi.' metadata={'doc_id': '63e725d6-45d4-4809-974a-564a7da6b1a8'}\n",
      "page_content='Trường sẽ không cố định ngành nào học ở cơ sở nào.' metadata={'doc_id': 'a1362279-1e95-4d22-8ceb-2b73cad56e15'}\n",
      "page_content='Ký túc xá UEH có phòng tự học.' metadata={'doc_id': '4e4f3567-f5a0-4755-950b-04b3e9a55879'}\n",
      "page_content='Khoa Tài chính còn liên kết đào tạo ở các bậc cao hơn với một số trường trong Top 100 trường lớn nhất thế giới như Aberdeen, Rennes I.' metadata={'doc_id': '3594db3e-f229-46f8-84ef-9eb8ea76d4c3'}\n",
      "page_content='Hướng dẫn sử dụng thư viện UEH.' metadata={'doc_id': '5765763a-800b-4910-94da-7d53eed84136'}\n",
      "page_content='Đăng ký nhập học là một dịch vụ của UEH.' metadata={'doc_id': '14a123b6-cc19-4dab-ad5d-17b9bfc04636'}\n",
      "page_content='Học viên đã đăng ký học phần nào thì phải học đúng thời gian của lớp học phần đã đăng ký.' metadata={'doc_id': '6f1c6efa-805f-458b-b56c-98cd20517676'}\n",
      "page_content='Đối với tổng số tín chỉ, không đạt trong học kỳ vượt quá 50% khối lượng đăng ký.' metadata={'doc_id': '99512c78-6827-48d5-83d8-77546c340ae1'}\n",
      "page_content='Mục tiêu của học tập bậc đại học là gì?' metadata={'doc_id': 'd0037893-a126-4d18-a984-a1de45e76f92'}\n",
      "page_content='Môi trường học tập mới như thế nào?' metadata={'doc_id': 'd0037893-a126-4d18-a984-a1de45e76f92'}\n",
      "page_content='Sinh viên đăng ký học lại (trả nợ) trong các học kỳ tương tự như đăng ký học phần lần 1.' metadata={'doc_id': 'd1fa941e-629b-40ee-9177-2b5586c71ebe'}\n",
      "page_content='Học đại học dễ hay khó?' metadata={'doc_id': 'd0037893-a126-4d18-a984-a1de45e76f92'}\n",
      "page_content='Bạn có thể thử một trong các liên kết bên dưới hoặc tìm kiếm?' metadata={'doc_id': '0a9d5ae7-3a60-4e75-a654-6318088fc754'}\n",
      "page_content='Lớp học phần được tổ chức trong 01 học kỳ đăng ký.' metadata={'doc_id': '27b378fd-51f2-4da1-8304-7c04b290781b'}\n",
      "page_content='Lớp học phần là tập hợp sinh viên đăng ký cùng học phần, cùng thời khóa biểu.' metadata={'doc_id': '59488173-eef7-4789-a256-bbbb505fb4bc'}\n",
      "page_content='Bạn có thể thử một trong các liên kết bên dưới hoặc tìm kiếm?' metadata={'doc_id': '0a9d5ae7-3a60-4e75-a654-6318088fc754'}\n",
      "page_content='Như vậy, em không thể lấy lại điểm cũ và phải đăng ký học lại học phần A.' metadata={'doc_id': '0ecaf7af-fbb5-4c82-9154-822fd2c21fda'}\n",
      "page_content='Sinh viên đăng ký học chương trình thứ hai đáp ứng một trong hai điều kiện sau:' metadata={'doc_id': '27b378fd-51f2-4da1-8304-7c04b290781b'}\n",
      "page_content='Để có năng lực nghiên cứu khoa học, người dự tuyển phải đáp ứng một trong những điều kiện sau:' metadata={'doc_id': 'cc28dec2-a642-409d-8c85-efedeec297f4'}\n",
      "page_content='Điều kiện để tham gia xét học bổng Hỗ trợ học tập là:' metadata={'doc_id': '2fdaff03-6f6e-4f0f-84b3-2406cc19cfa6'}\n"
     ]
    },
    {
     "name": "stderr",
     "output_type": "stream",
     "text": [
      "Retrying langchain_google_genai.llms._completion_with_retry.<locals>._completion_with_retry in 4.0 seconds as it raised ResourceExhausted: 429 Resource has been exhausted (e.g. check quota)..\n"
     ]
    },
    {
     "name": "stdout",
     "output_type": "stream",
     "text": [
      "page_content='Sinh viên đăng ký học phần sau khi được xét học chương trình thứ 2.' metadata={'doc_id': '27b378fd-51f2-4da1-8304-7c04b290781b'}\n",
      "page_content='Sinh viên tự đăng ký các môn học của chương trình đào tạo thứ 2 sau khi được duyệt đăng ký học chương trình đào tạo thứ 2.' metadata={'doc_id': 'c7581575-ad6c-4d18-ac73-236f0d29f792'}\n",
      "page_content='Sinh viên có thể thực hiện đóng lệ phí theo 1 trong 2 cách sau:' metadata={'doc_id': '57bedf1c-a5a2-4e59-a88c-f77e6d7c27ae'}\n",
      "page_content='Ban Đào tạo thông báo kết quả đăng ký học chương trình thứ 2 đến sinh viên.' metadata={'doc_id': '27b378fd-51f2-4da1-8304-7c04b290781b'}\n",
      "page_content='Sinh viên đăng ký học chương trình thứ hai đáp ứng một trong hai điều kiện sau:' metadata={'doc_id': '27b378fd-51f2-4da1-8304-7c04b290781b'}\n",
      "page_content='Sinh viên đăng ký các môn học của chương trình đào tạo thứ 2 trong các học kỳ.' metadata={'doc_id': 'c7581575-ad6c-4d18-ac73-236f0d29f792'}\n",
      "page_content='Sinh viên thực hiện đóng lệ phí xét tuyển bằng 1 trong 2 cách sau:' metadata={'doc_id': 'de195bbb-45f5-4606-8446-44d84f01beaf'}\n",
      "page_content='Văn bằng 2 ĐHCQ là một chương trình đào tạo.' metadata={'doc_id': '39bf808d-a854-4f30-8648-10a8b30e5dc3'}\n",
      "page_content='Sinh viên có thể chọn học phần tự chọn khác cùng nhóm.' metadata={'doc_id': '028f2b03-fbac-43b5-b83f-97eb83d88942'}\n",
      "page_content='Môi trường học tập mới như thế nào?' metadata={'doc_id': 'd0037893-a126-4d18-a984-a1de45e76f92'}\n",
      "page_content='Sinh viên có thể đổi sang học phần tự chọn khác trong cùng nhóm đối với học phần tự chọn không đạt.' metadata={'doc_id': '71bb5967-e5cd-4e0d-897c-dc98018bbbcb'}\n",
      "page_content='Học viên có thể đổi sang học phần khác tương đương (nếu là học phần tự chọn).' metadata={'doc_id': 'a980a077-5a9a-43df-88c1-609e0e1dc135'}\n",
      "page_content='Bạn có thể thử một trong các liên kết bên dưới hoặc tìm kiếm?' metadata={'doc_id': '0a9d5ae7-3a60-4e75-a654-6318088fc754'}\n",
      "page_content='Mục tiêu của học tập bậc đại học là gì?' metadata={'doc_id': 'd0037893-a126-4d18-a984-a1de45e76f92'}\n",
      "page_content='Học đại học dễ hay khó?' metadata={'doc_id': 'd0037893-a126-4d18-a984-a1de45e76f92'}\n",
      "page_content='Portal cá nhân của học viên có thể được truy cập tại địa chỉ https://student.ueh.edu.vn.' metadata={'doc_id': 'cf2d8734-1888-4654-9515-9f283ace9edc'}\n",
      "page_content='Em phải đăng ký học lại học phần A.' metadata={'doc_id': '0ecaf7af-fbb5-4c82-9154-822fd2c21fda'}\n",
      "page_content='Sinh viên đăng ký học lại (trả nợ) bằng cách đăng nhập vào portal https://student.ueh.edu.vn.' metadata={'doc_id': 'd1fa941e-629b-40ee-9177-2b5586c71ebe'}\n",
      "page_content='Địa chỉ truy cập tài khoản portal học viên là student.ueh.edu.vn.' metadata={'doc_id': '385cacdd-1e97-46cf-b0d7-5e744f78040f'}\n",
      "page_content='Nếu quên mật khẩu, người học tự thực hiện khởi tạo lại mật khẩu tương ứng với từng tài khoản tại trang https://cntt.ueh.edu.vn/email.' metadata={'doc_id': '23e105c4-5ed1-41ec-b032-93dad0a08958'}\n",
      "page_content='Nếu quên mật khẩu, người học tự thực hiện khởi tạo lại mật khẩu tương ứng với từng tài khoản tại trang https://login.st.ueh.edu.vn/Account/ForgotPassword.' metadata={'doc_id': '23e105c4-5ed1-41ec-b032-93dad0a08958'}\n",
      "page_content='Portal sinh viên có địa chỉ https://student.ueh.edu.vn/.' metadata={'doc_id': '5edd45ef-2c72-4d9f-874e-cc2fa7c515e7'}\n"
     ]
    },
    {
     "name": "stderr",
     "output_type": "stream",
     "text": [
      "Retrying langchain_google_genai.llms._completion_with_retry.<locals>._completion_with_retry in 4.0 seconds as it raised ResourceExhausted: 429 Resource has been exhausted (e.g. check quota)..\n"
     ]
    },
    {
     "name": "stdout",
     "output_type": "stream",
     "text": [
      "page_content='Thông tin về các chương trình đào tạo Thạc sĩ tại UEH có thể được tìm thấy tại đây.' metadata={'doc_id': '5b24bf8c-6565-4f0e-b3f5-0aad4130c45e'}\n",
      "page_content='Viện Đào tạo Sau đại học (https://sdh.ueh.edu.vn/dao-tao-thac-si-24268/khuyen-khich-viet-va-bao-ve-khoa-luan-tot-nghiep-luan-van-luan-an-tien-si-bang-tieng-anh.html) là nơi cung cấp thông tin liên lạc và tham khảo.' metadata={'doc_id': 'c25f0a59-655b-485b-bc92-11b12a7e8830'}\n",
      "page_content='Website của VIỆN ĐÀO TẠO SAU ĐẠI HỌC UEH là http://sdh.ueh.edu.vn' metadata={'doc_id': 'cc28dec2-a642-409d-8c85-efedeec297f4'}\n",
      "page_content='Học viên được xét chuyển cở sở đào tạo (chuyển đến UEH), chuyển nơi học và chuyển chương trình đào tạo nếu đáp ứng các yêu cầu sau:' metadata={'doc_id': 'a4d5987f-c6b6-49d8-8511-628dd1b242c3'}\n"
     ]
    },
    {
     "data": {
      "application/vnd.jupyter.widget-view+json": {
       "model_id": "6ddbefd27fd241b598be112dc0dcebe9",
       "version_major": 2,
       "version_minor": 0
      },
      "text/plain": [
       "Filter:   0%|          | 0/196 [00:00<?, ? examples/s]"
      ]
     },
     "metadata": {},
     "output_type": "display_data"
    },
    {
     "name": "stdout",
     "output_type": "stream",
     "text": [
      "page_content='Mỗi giữa học kỳ, Phòng Đào tạo sẽ thông báo trên website: daotao.ueh.edu.vn kế hoạch mở hệ thống Portal sinh viên.' metadata={'doc_id': '0208ec4e-737d-49a7-a6ff-e5aa245f49a7'}\n"
     ]
    },
    {
     "data": {
      "application/vnd.jupyter.widget-view+json": {
       "model_id": "65c59f4263304241a8977bd6cf29a696",
       "version_major": 2,
       "version_minor": 0
      },
      "text/plain": [
       "Filter:   0%|          | 0/196 [00:00<?, ? examples/s]"
      ]
     },
     "metadata": {},
     "output_type": "display_data"
    },
    {
     "name": "stdout",
     "output_type": "stream",
     "text": [
      "page_content='Làm sao để di chuyển đến các cơ sở học tại UEH?' metadata={'doc_id': 'bea30813-4a32-4b79-a80c-4d27102dd158'}\n"
     ]
    },
    {
     "data": {
      "application/vnd.jupyter.widget-view+json": {
       "model_id": "0f2c064532034ceaa38cde94f08ada23",
       "version_major": 2,
       "version_minor": 0
      },
      "text/plain": [
       "Filter:   0%|          | 0/196 [00:00<?, ? examples/s]"
      ]
     },
     "metadata": {},
     "output_type": "display_data"
    },
    {
     "name": "stdout",
     "output_type": "stream",
     "text": [
      "page_content='Email của Viện Đào tạo Sau đại học là sdh@ueh.edu.vn.' metadata={'doc_id': 'd4b68b07-a868-4f1b-88c9-10806f9e1345'}\n",
      "page_content='Bạn hoàn toàn có thể nộp chứng chỉ TOEIC 4 kỹ năng để đạt chuẩn đầu vào.' metadata={'doc_id': 'e652a11a-5335-4f2d-a952-6d0d3e3d5aad'}\n"
     ]
    },
    {
     "data": {
      "application/vnd.jupyter.widget-view+json": {
       "model_id": "d997969a59a34e089cc269c92cb41b5d",
       "version_major": 2,
       "version_minor": 0
      },
      "text/plain": [
       "Filter:   0%|          | 0/196 [00:00<?, ? examples/s]"
      ]
     },
     "metadata": {},
     "output_type": "display_data"
    },
    {
     "name": "stdout",
     "output_type": "stream",
     "text": [
      "page_content='Điểm TOEIC 4 kỹ năng để đạt chuẩn đầu vào là: Nghe: 275-399; Đọc: 275-384; Nói: 120-159; Viết: 120-149.' metadata={'doc_id': 'e652a11a-5335-4f2d-a952-6d0d3e3d5aad'}\n",
      "page_content='Chứng chỉ TOEIC 4 kỹ năng bao gồm 4 kỹ năng: Nghe, Đọc, Nói, Viết.' metadata={'doc_id': 'e652a11a-5335-4f2d-a952-6d0d3e3d5aad'}\n",
      "page_content='Bạn hoàn toàn có thể nộp chứng chỉ IELTS để đạt chuẩn đầu ra.' metadata={'doc_id': 'e652a11a-5335-4f2d-a952-6d0d3e3d5aad'}\n",
      "page_content='Việc nộp chứng chỉ, văn bằng để đạt chuẩn ngoại ngữ đầu vào và đạt chuẩn ngoại ngữ đầu ra là hai việc độc lập với nhau.' metadata={'doc_id': 'e652a11a-5335-4f2d-a952-6d0d3e3d5aad'}\n",
      "page_content='Điểm IELTS để đạt chuẩn đầu ra là từ 5.5 trở lên.' metadata={'doc_id': 'e652a11a-5335-4f2d-a952-6d0d3e3d5aad'}\n",
      "page_content='Yêu cầu ngoại ngữ đầu vào và ngoại ngữ đầu ra đối với người học không yêu cầu cùng một loại chứng chỉ.' metadata={'doc_id': 'e652a11a-5335-4f2d-a952-6d0d3e3d5aad'}\n",
      "page_content='Hằng năm, Trường Đại học Kinh tế TP. Hồ Chí Minh tổ chức tuyển sinh Thạc sĩ 02 đợt.' metadata={'doc_id': '0e684424-d119-4554-9445-a5a12a1076c9'}\n"
     ]
    },
    {
     "data": {
      "application/vnd.jupyter.widget-view+json": {
       "model_id": "9b33618542574f5785f89f314d4c2cdd",
       "version_major": 2,
       "version_minor": 0
      },
      "text/plain": [
       "Filter:   0%|          | 0/196 [00:00<?, ? examples/s]"
      ]
     },
     "metadata": {},
     "output_type": "display_data"
    },
    {
     "name": "stdout",
     "output_type": "stream",
     "text": [
      "page_content='Học đại học dễ hay khó?' metadata={'doc_id': 'd0037893-a126-4d18-a984-a1de45e76f92'}\n",
      "page_content='Môi trường học tập mới như thế nào?' metadata={'doc_id': 'd0037893-a126-4d18-a984-a1de45e76f92'}\n",
      "page_content='Quy định trình bày luận văn thạc sĩ được áp dụng cho các khóa tuyển sinh trước năm 2022.' metadata={'doc_id': '39bf808d-a854-4f30-8648-10a8b30e5dc3'}\n",
      "page_content='Chúng ta nên dành một ngày bao nhiêu thời gian để tự học?' metadata={'doc_id': 'd0037893-a126-4d18-a984-a1de45e76f92'}\n",
      "page_content='Quy trình, thủ tục bảo vệ luận văn thạc sĩ được áp dụng cho các khóa tuyển sinh trước năm 2022.' metadata={'doc_id': '39bf808d-a854-4f30-8648-10a8b30e5dc3'}\n",
      "page_content='Quy định trình bày luận văn thạc sĩ được áp dụng cho các khóa tuyển sinh từ năm 2022 trở về sau.' metadata={'doc_id': '39bf808d-a854-4f30-8648-10a8b30e5dc3'}\n",
      "page_content='Mục tiêu của học tập bậc đại học là gì?' metadata={'doc_id': 'd0037893-a126-4d18-a984-a1de45e76f92'}\n",
      "page_content='Môi trường học tập mới như thế nào?' metadata={'doc_id': 'd0037893-a126-4d18-a984-a1de45e76f92'}\n",
      "page_content='Các chương trình Thạc sĩ tại Trường Đại học Kinh tế TP. Hồ Chí Minh được đào tạo theo 02 hướng.' metadata={'doc_id': '0e191456-b01d-4e24-af3d-9217590685b4'}\n"
     ]
    },
    {
     "data": {
      "application/vnd.jupyter.widget-view+json": {
       "model_id": "e5cda63be1394d7687fc0e5efe8694f0",
       "version_major": 2,
       "version_minor": 0
      },
      "text/plain": [
       "Filter:   0%|          | 0/196 [00:00<?, ? examples/s]"
      ]
     },
     "metadata": {},
     "output_type": "display_data"
    },
    {
     "name": "stdout",
     "output_type": "stream",
     "text": [
      "page_content='Có các chương trình đào tạo Thạc sĩ tại UEH.' metadata={'doc_id': '5b24bf8c-6565-4f0e-b3f5-0aad4130c45e'}\n",
      "page_content='Mục tiêu của học tập bậc đại học là gì?' metadata={'doc_id': 'd0037893-a126-4d18-a984-a1de45e76f92'}\n",
      "page_content='Học đại học dễ hay khó?' metadata={'doc_id': 'd0037893-a126-4d18-a984-a1de45e76f92'}\n",
      "page_content='Các chương trình Thạc sĩ tại Trường Đại học Kinh tế TP. Hồ Chí Minh được đào tạo theo hướng nghiên cứu.' metadata={'doc_id': '0e191456-b01d-4e24-af3d-9217590685b4'}\n",
      "page_content='Bạn có thể thử một trong các liên kết bên dưới hoặc tìm kiếm?' metadata={'doc_id': '0a9d5ae7-3a60-4e75-a654-6318088fc754'}\n",
      "page_content='Các chương trình Thạc sĩ tại Trường Đại học Kinh tế TP. Hồ Chí Minh được đào tạo theo hướng ứng dụng.' metadata={'doc_id': '0e191456-b01d-4e24-af3d-9217590685b4'}\n",
      "page_content='Trình độ Đại học' metadata={'doc_id': '90faf914-1b2e-4322-8e80-7c47a642fc04'}\n"
     ]
    },
    {
     "data": {
      "application/vnd.jupyter.widget-view+json": {
       "model_id": "e61077c9c4b14ba5b7ceb3753669b266",
       "version_major": 2,
       "version_minor": 0
      },
      "text/plain": [
       "Filter:   0%|          | 0/196 [00:00<?, ? examples/s]"
      ]
     },
     "metadata": {},
     "output_type": "display_data"
    },
    {
     "name": "stdout",
     "output_type": "stream",
     "text": [
      "page_content='Thông tin về học phí' metadata={'doc_id': 'f2c3a684-de27-4e6a-a270-330f0c9f8b6d'}\n"
     ]
    },
    {
     "data": {
      "application/vnd.jupyter.widget-view+json": {
       "model_id": "3809609870174468bfa3b85ab2b33af5",
       "version_major": 2,
       "version_minor": 0
      },
      "text/plain": [
       "Filter:   0%|          | 0/196 [00:00<?, ? examples/s]"
      ]
     },
     "metadata": {},
     "output_type": "display_data"
    },
    {
     "name": "stdout",
     "output_type": "stream",
     "text": [
      "page_content='Mỗi môn bổ túc kiến thức có 2 tín chỉ.' metadata={'doc_id': 'fb1b40fc-fee3-4557-b07d-82d0fb79648d'}\n"
     ]
    },
    {
     "data": {
      "application/vnd.jupyter.widget-view+json": {
       "model_id": "f1a166569bf44fb9bdf18ee0918e672a",
       "version_major": 2,
       "version_minor": 0
      },
      "text/plain": [
       "Filter:   0%|          | 0/196 [00:00<?, ? examples/s]"
      ]
     },
     "metadata": {},
     "output_type": "display_data"
    },
    {
     "name": "stdout",
     "output_type": "stream",
     "text": [
      "page_content='Bạn cần học và được cấp giấy chứng nhận bổ túc kiến thức 6 môn.' metadata={'doc_id': 'fb1b40fc-fee3-4557-b07d-82d0fb79648d'}\n",
      "page_content='Tìm kiếm và xử lý thông tin là cách thức thu thập thông tin, kiến thức và cách thức sàng lọc, lựa chọn thông tin.' metadata={'doc_id': '67b78897-9187-48e8-b593-a71809198210'}\n",
      "page_content='Hỗ trợ thông tin' metadata={'doc_id': '4745fc85-0c67-4513-ab84-ca4bc9b2a2dd'}\n",
      "page_content='Nắm rõ các thông tin về lớp cố vấn.' metadata={'doc_id': '24ed7680-815b-4fb2-a36a-21a8ac19e289'}\n"
     ]
    },
    {
     "data": {
      "application/vnd.jupyter.widget-view+json": {
       "model_id": "44bb6ddafc9649d8b61e2825e8e887f0",
       "version_major": 2,
       "version_minor": 0
      },
      "text/plain": [
       "Filter:   0%|          | 0/196 [00:00<?, ? examples/s]"
      ]
     },
     "metadata": {},
     "output_type": "display_data"
    },
    {
     "name": "stderr",
     "output_type": "stream",
     "text": [
      "Retrying langchain_google_genai.llms._completion_with_retry.<locals>._completion_with_retry in 4.0 seconds as it raised ResourceExhausted: 429 Resource has been exhausted (e.g. check quota)..\n"
     ]
    },
    {
     "name": "stdout",
     "output_type": "stream",
     "text": [
      "page_content='Môi trường học tập mới như thế nào?' metadata={'doc_id': 'd0037893-a126-4d18-a984-a1de45e76f92'}\n",
      "page_content='Bạn chỉ có thể nộp hồ sơ dự tuyển vào một ngành trong một đợt tuyển sinh thôi.' metadata={'doc_id': '9b2efbec-51ef-4630-a42b-01fb886bc496'}\n"
     ]
    },
    {
     "data": {
      "application/vnd.jupyter.widget-view+json": {
       "model_id": "e50c5c66b7d44acba45a503038c6737b",
       "version_major": 2,
       "version_minor": 0
      },
      "text/plain": [
       "Filter:   0%|          | 0/196 [00:00<?, ? examples/s]"
      ]
     },
     "metadata": {},
     "output_type": "display_data"
    },
    {
     "name": "stdout",
     "output_type": "stream",
     "text": [
      "page_content='Bạn có thể thử một trong các liên kết bên dưới hoặc tìm kiếm?' metadata={'doc_id': '0a9d5ae7-3a60-4e75-a654-6318088fc754'}\n",
      "page_content='Hồ sơ dự tuyển chỉ được nộp vào một ngành duy nhất trong một đợt tuyển sinh.' metadata={'doc_id': '9b2efbec-51ef-4630-a42b-01fb886bc496'}\n",
      "page_content='Bước 2: Nộp hồ sơ' metadata={'doc_id': '27b378fd-51f2-4da1-8304-7c04b290781b'}\n",
      "page_content='Mục tiêu của học tập bậc đại học là gì?' metadata={'doc_id': 'd0037893-a126-4d18-a984-a1de45e76f92'}\n",
      "page_content='Bạn chưa đạt điều kiện về văn bằng để nộp hồ sơ dự tuyển.' metadata={'doc_id': 'fb1b40fc-fee3-4557-b07d-82d0fb79648d'}\n",
      "page_content='Sinh viên cần phải trang bị những kỹ năng nào để phục vụ cho việc học tập?' metadata={'doc_id': 'd0037893-a126-4d18-a984-a1de45e76f92'}\n",
      "page_content='Nếu tại thời điểm nộp hồ sơ bạn chưa có bằng tốt nghiệp chính thức thì bạn có thể nộp giấy chứng nhận tốt nghiệp tạm thời.' metadata={'doc_id': '935e2e54-008a-4d82-8098-6aaa568a71de'}\n"
     ]
    },
    {
     "data": {
      "application/vnd.jupyter.widget-view+json": {
       "model_id": "0dfb55bef7b04ca2aa1ebf1e4b2366e0",
       "version_major": 2,
       "version_minor": 0
      },
      "text/plain": [
       "Filter:   0%|          | 0/196 [00:00<?, ? examples/s]"
      ]
     },
     "metadata": {},
     "output_type": "display_data"
    },
    {
     "name": "stdout",
     "output_type": "stream",
     "text": [
      "page_content='Giấy chứng nhận tốt nghiệp tạm thời thay cho bản sao bằng tốt nghiệp chính thức.' metadata={'doc_id': '935e2e54-008a-4d82-8098-6aaa568a71de'}\n",
      "page_content='Để có đủ năng lực ngoại ngữ để tham khảo tài liệu, tham gia hoạt động quốc tế về chuyên môn phục vụ nghiên cứu khoa học và thực hiện đề tài luận án, người dự tuyển phải đáp ứng một trong các điều kiện sau:' metadata={'doc_id': 'cc28dec2-a642-409d-8c85-efedeec297f4'}\n",
      "page_content='Trước khi bắt tay vào thao tác tìm kiếm thông tin, bạn cần xác định được mục đích của việc tìm kiếm liên quan đến vấn đề nào.' metadata={'doc_id': '67b78897-9187-48e8-b593-a71809198210'}\n",
      "page_content='Giấy chứng nhận tốt nghiệp THPT (Giấy chứng nhận tốt nghiệp tạm thời) là' metadata={'doc_id': '9b1674b3-34cd-43e2-a6f3-3903b1e38ffe'}\n",
      "page_content='Giấy chứng nhận tốt nghiệp tạm thời là một loại giấy tờ.' metadata={'doc_id': '5edd45ef-2c72-4d9f-874e-cc2fa7c515e7'}\n",
      "page_content='Mặc dù có nhiều nguồn thông tin để tìm kiếm nhưng chúng ta cần phải xác định chỉ sử dụng những nguồn tin chính thống, trích dẫn rõ ràng và có độ tin cậy cao.' metadata={'doc_id': '67b78897-9187-48e8-b593-a71809198210'}\n",
      "page_content='Người dự tuyển phải có luận văn thạc sĩ của chương trình đào tạo thạc sĩ hướng nghiên cứu đã tốt nghiệp.' metadata={'doc_id': 'cc28dec2-a642-409d-8c85-efedeec297f4'}\n",
      "page_content='Để có năng lực nghiên cứu khoa học, người dự tuyển phải đáp ứng một trong những điều kiện sau:' metadata={'doc_id': 'cc28dec2-a642-409d-8c85-efedeec297f4'}\n",
      "page_content='Trường hợp cụ thể của bạn chưa thể nộp luận văn tốt nghiệp.' metadata={'doc_id': '8bcf99b2-7433-4b65-abc6-db68d11cfebe'}\n"
     ]
    },
    {
     "data": {
      "application/vnd.jupyter.widget-view+json": {
       "model_id": "b8be015c0ee64f2899ad2c359af3bf20",
       "version_major": 2,
       "version_minor": 0
      },
      "text/plain": [
       "Filter:   0%|          | 0/196 [00:00<?, ? examples/s]"
      ]
     },
     "metadata": {},
     "output_type": "display_data"
    },
    {
     "name": "stdout",
     "output_type": "stream",
     "text": [
      "page_content='Sinh viên cần phải trang bị những kỹ năng nào để phục vụ cho việc học tập?' metadata={'doc_id': 'd0037893-a126-4d18-a984-a1de45e76f92'}\n",
      "page_content='Môi trường học tập mới như thế nào?' metadata={'doc_id': 'd0037893-a126-4d18-a984-a1de45e76f92'}\n",
      "page_content='Học viên sẽ được bảo vệ luận văn bằng tiếng Anh trước Hội đồng bảo vệ luận văn tốt nghiệp.' metadata={'doc_id': 'a980a077-5a9a-43df-88c1-609e0e1dc135'}\n",
      "page_content='Do vậy, chương trình đào tạo của khoa Tài chính xây dựng được liên thông với các trường đào tạo quốc tế.' metadata={'doc_id': '3594db3e-f229-46f8-84ef-9eb8ea76d4c3'}\n",
      "page_content='Quy trình đăng ký học lại sau thời gian nghỉ học tạm thời gồm các bước:' metadata={'doc_id': '27b378fd-51f2-4da1-8304-7c04b290781b'}\n"
     ]
    },
    {
     "name": "stderr",
     "output_type": "stream",
     "text": [
      "Retrying langchain_google_genai.llms._completion_with_retry.<locals>._completion_with_retry in 4.0 seconds as it raised ResourceExhausted: 429 Resource has been exhausted (e.g. check quota)..\n"
     ]
    },
    {
     "name": "stdout",
     "output_type": "stream",
     "text": [
      "page_content='Nếu cảm thấy quyết định ban đầu chưa đúng hướng, bạn có thể tham khảo điều kiện để chuyển ngành, chuyển nơi học trong UEH:' metadata={'doc_id': '99512c78-6827-48d5-83d8-77546c340ae1'}\n",
      "page_content='Trường sẽ không cố định ngành nào học ở cơ sở nào.' metadata={'doc_id': 'a1362279-1e95-4d22-8ceb-2b73cad56e15'}\n",
      "page_content='Nếu trúng tuyển vào ngành Kinh doanh nông nghiệp tại UEH – Phân hiệu Vĩnh Long, người học sẽ có cơ hội đăng ký chương trình song ngành.' metadata={'doc_id': '730c5cad-1bf7-4b56-8932-06145bd04ab6'}\n",
      "page_content='Ngay khi chính thức gia nhập đại gia đình UEH, trở thành một UEHer chính hiệu, mỗi sinh viên sẽ được cung cấp một Tài khoản học tập.' metadata={'doc_id': '67b78897-9187-48e8-b593-a71809198210'}\n",
      "page_content='Môn nào có trong bảng điểm đại học sẽ được xem xét miễn.' metadata={'doc_id': 'fb1b40fc-fee3-4557-b07d-82d0fb79648d'}\n",
      "page_content='Trường hợp thí sinh đã học môn nào trong chương trình bổ túc kiến thức ở bậc đại học thì sẽ được xem xét miễn môn đó.' metadata={'doc_id': 'edbed7a2-384c-45b1-b8fa-c658c21eed66'}\n"
     ]
    },
    {
     "data": {
      "application/vnd.jupyter.widget-view+json": {
       "model_id": "ae75a7a83bdd41b39ed199774ab35e83",
       "version_major": 2,
       "version_minor": 0
      },
      "text/plain": [
       "Filter:   0%|          | 0/196 [00:00<?, ? examples/s]"
      ]
     },
     "metadata": {},
     "output_type": "display_data"
    },
    {
     "name": "stdout",
     "output_type": "stream",
     "text": [
      "page_content='Làm sao để di chuyển đến các cơ sở học tại UEH?' metadata={'doc_id': 'bea30813-4a32-4b79-a80c-4d27102dd158'}\n",
      "page_content='Trường đại học khối ngành kinh tế, quản lý đầu tiên ra đời đặt nền móng ban đầu trở thành một trong các trường đại học hàng đầu cả nước trong đào tạo và nghiên cứu về khoa học kinh tế, quản trị kinh doanh, và luật.' metadata={'doc_id': '48e2cddd-15fb-479d-a732-e05bdcf2d118'}\n",
      "page_content='Thí sinh dự tuyển thạc sĩ khối ngành Kinh tế, Kinh doanh và quản lý.' metadata={'doc_id': 'edbed7a2-384c-45b1-b8fa-c658c21eed66'}\n",
      "page_content='Giấy chứng nhận hoặc Giấy khen đạt giải thưởng (Nhất, Nhì, Ba) kỳ thi chọn học sinh Giỏi THPT cấp tỉnh, cấp thành phố (trực thuộc trung ương) các môn: Toán, Vật lý, Hóa học, Tiếng Anh, Ngữ văn, Tin học là bắt buộc đối với thí sinh trúng tuyển PT3, PT4 có cộng điểm tiêu chí đạt giải thưởng kỳ thi chọn học sinh Giỏi THPT cấp tỉnh, cấp thành phố (trực thuộc trung ương).' metadata={'doc_id': '9b1674b3-34cd-43e2-a6f3-3903b1e38ffe'}\n",
      "page_content='Để dự tuyển vào các chương trình cao học khối Kinh tế, Kinh doanh và Quản lý, các anh chị cần có bằng cử nhân khối ngành này.' metadata={'doc_id': '5b24bf8c-6565-4f0e-b3f5-0aad4130c45e'}\n",
      "page_content='Có một nhóm chương trình tiên tiến thuộc khối ngành Kinh doanh, Kinh tế, Quản lý.' metadata={'doc_id': '9b1674b3-34cd-43e2-a6f3-3903b1e38ffe'}\n",
      "page_content='Đối tượng áp dụng tạm ngừng học, bảo lưu kết quả là sinh viên còn trong thời gian đào tạo kế hoạch của khóa học có nhu cầu nghỉ học tạm thời và bảo lưu kết quả học tập.' metadata={'doc_id': '27b378fd-51f2-4da1-8304-7c04b290781b'}\n",
      "page_content='Những thay đổi nhanh chóng trong môi trường kinh tế – xã hội dẫn đến sự thay đổi nhu cầu từ phía nhà tuyển dụng về kiến thức, kỹ năng, tinh thần và thái độ của người học.' metadata={'doc_id': '7c0fde5a-805a-4ada-9028-d0845433bd79'}\n"
     ]
    },
    {
     "data": {
      "application/vnd.jupyter.widget-view+json": {
       "model_id": "db18741aae164b0db6ca8c1c8c52fa11",
       "version_major": 2,
       "version_minor": 0
      },
      "text/plain": [
       "Filter:   0%|          | 0/196 [00:00<?, ? examples/s]"
      ]
     },
     "metadata": {},
     "output_type": "display_data"
    },
    {
     "name": "stdout",
     "output_type": "stream",
     "text": [
      "page_content='Thí sinh tốt nghiệp đại học hoặc đã đủ điều kiện công nhận tốt nghiệp đại học các ngành khác khối ngành Kinh tế, Kinh doanh và quản lý phải học 6 môn.' metadata={'doc_id': 'edbed7a2-384c-45b1-b8fa-c658c21eed66'}\n",
      "page_content='Ngành Tài chính - Ngân hàng là một ngành học.' metadata={'doc_id': 'a588aa35-2c50-4bd0-a555-570ecd8c3af6'}\n"
     ]
    },
    {
     "data": {
      "application/vnd.jupyter.widget-view+json": {
       "model_id": "cc38cfb59b3247989ae6897f7054fdf4",
       "version_major": 2,
       "version_minor": 0
      },
      "text/plain": [
       "Filter:   0%|          | 0/196 [00:00<?, ? examples/s]"
      ]
     },
     "metadata": {},
     "output_type": "display_data"
    },
    {
     "name": "stdout",
     "output_type": "stream",
     "text": [
      "page_content='Người học chương trình Cử nhân Quản lý Công có khả năng nhận dạng và đưa ra những phân tích sâu sắc về các vấn đề quản lý công ở các cấp chính quyền từ Trung ương đến địa phương.' metadata={'doc_id': '7c0fde5a-805a-4ada-9028-d0845433bd79'}\n",
      "page_content='Người học các chương trình Tiên tiến quốc tế dễ dàng phát triển lộ trình học tập lên cao ở những môi trường quốc tế.' metadata={'doc_id': '56961a22-5643-4ae6-8231-56f2319f8160'}\n",
      "page_content='Thực tế các ngành có nhiều học viên có nhu cầu theo học hướng nghiên cứu gồm Quản trị kinh doanh, Kế toán, Tài chính – Ngân hàng và Kinh tế phát triển.' metadata={'doc_id': '5b24bf8c-6565-4f0e-b3f5-0aad4130c45e'}\n",
      "page_content='Ngành Bảo hiểm là một trong những ngành rất phát triển ở nước ta cùng với ngành Tài chính – Ngân hàng.' metadata={'doc_id': '3594db3e-f229-46f8-84ef-9eb8ea76d4c3'}\n",
      "page_content='Các nghiên cứu sinh và học viên cao học các khóa đang theo học tại Trường sử dụng mã ngành theo quy định hiện hành.' metadata={'doc_id': '6afebe7f-f771-4ab6-a6e2-4a402319bf64'}\n"
     ]
    },
    {
     "data": {
      "application/vnd.jupyter.widget-view+json": {
       "model_id": "40ca909062b149d780ccaa5273311aae",
       "version_major": 2,
       "version_minor": 0
      },
      "text/plain": [
       "Filter:   0%|          | 0/196 [00:00<?, ? examples/s]"
      ]
     },
     "metadata": {},
     "output_type": "display_data"
    },
    {
     "name": "stdout",
     "output_type": "stream",
     "text": [
      "page_content='Đội ngũ giảng viên của chương trình Cử nhân Quản lý Công tham gia trao đổi học thuật với các trường và các tổ chức quốc tế.' metadata={'doc_id': '7c0fde5a-805a-4ada-9028-d0845433bd79'}\n",
      "page_content='Đối với các ngành có số lượng học viên ít, Trường có thể chỉ mở được 1 lớp.' metadata={'doc_id': 'a1362279-1e95-4d22-8ceb-2b73cad56e15'}\n",
      "page_content='Môi trường học tập mới như thế nào?' metadata={'doc_id': 'd0037893-a126-4d18-a984-a1de45e76f92'}\n",
      "page_content='Sinh viên là người dân tộc thiểu số thuộc hộ nghèo và hộ cận nghèo được miễn giảm học phí.' metadata={'doc_id': 'df237e88-7229-4870-8d37-43c52a9a4f33'}\n",
      "page_content='Sinh viên là người dân tộc thiểu số thuộc hộ nghèo và hộ cận nghèo mới được miễn giảm học phí.' metadata={'doc_id': 'f88bab16-aafe-4bce-8670-12a53fd80daa'}\n",
      "page_content='Sinh viên cần phải trang bị những kỹ năng nào để phục vụ cho việc học tập?' metadata={'doc_id': 'd0037893-a126-4d18-a984-a1de45e76f92'}\n",
      "page_content='Bạn có thể thử một trong các liên kết bên dưới hoặc tìm kiếm?' metadata={'doc_id': '0a9d5ae7-3a60-4e75-a654-6318088fc754'}\n",
      "page_content='Theo Quy định thì Sinh viên là người dân tộc thiểu số thuộc hộ nghèo và hộ cận nghèo mới được miễn giảm học phí.' metadata={'doc_id': 'f88bab16-aafe-4bce-8670-12a53fd80daa'}\n",
      "page_content='Sinh viên thuộc diện hộ nghèo, dân tộc Kinh cần cung cấp sổ hộ nghèo/giấy xác nhận hộ nghèo có cụ thể số sổ quản lý năm 2024.' metadata={'doc_id': '6937ab00-202f-4782-bed6-76551089fdb3'}\n",
      "page_content='Mục tiêu của học tập bậc đại học là gì?' metadata={'doc_id': 'd0037893-a126-4d18-a984-a1de45e76f92'}\n"
     ]
    },
    {
     "name": "stderr",
     "output_type": "stream",
     "text": [
      "Retrying langchain_google_genai.llms._completion_with_retry.<locals>._completion_with_retry in 4.0 seconds as it raised ResourceExhausted: 429 Resource has been exhausted (e.g. check quota)..\n"
     ]
    },
    {
     "name": "stdout",
     "output_type": "stream",
     "text": [
      "page_content='Bạn có thể thử một trong các liên kết bên dưới hoặc tìm kiếm?' metadata={'doc_id': '0a9d5ae7-3a60-4e75-a654-6318088fc754'}\n",
      "page_content='Theo Quy định thì Sinh viên là người dân tộc thiểu số thuộc hộ nghèo và hộ cận nghèo mới được miễn giảm học phí.' metadata={'doc_id': 'f88bab16-aafe-4bce-8670-12a53fd80daa'}\n",
      "page_content='Môi trường học tập mới như thế nào?' metadata={'doc_id': 'd0037893-a126-4d18-a984-a1de45e76f92'}\n",
      "page_content='Sinh viên là người dân tộc thiểu số thuộc hộ nghèo và hộ cận nghèo được miễn giảm học phí.' metadata={'doc_id': 'df237e88-7229-4870-8d37-43c52a9a4f33'}\n",
      "page_content='Sinh viên là người dân tộc thiểu số thuộc hộ nghèo và hộ cận nghèo mới được miễn giảm học phí.' metadata={'doc_id': 'f88bab16-aafe-4bce-8670-12a53fd80daa'}\n",
      "page_content='Sinh viên cần phải trang bị những kỹ năng nào để phục vụ cho việc học tập?' metadata={'doc_id': 'd0037893-a126-4d18-a984-a1de45e76f92'}\n",
      "page_content='Khu vực 1 chưa biết có được miễn giảm hay không.' metadata={'doc_id': '29d85bff-9429-48e0-a9e9-c52123e76e6c'}\n"
     ]
    },
    {
     "data": {
      "application/vnd.jupyter.widget-view+json": {
       "model_id": "4d4dbf21208744099470aca0b1005d3f",
       "version_major": 2,
       "version_minor": 0
      },
      "text/plain": [
       "Filter:   0%|          | 0/196 [00:00<?, ? examples/s]"
      ]
     },
     "metadata": {},
     "output_type": "display_data"
    },
    {
     "name": "stdout",
     "output_type": "stream",
     "text": [
      "page_content='Làm sao để thích nghi với phương pháp giảng dạy và môi trường học tập mới?' metadata={'doc_id': 'd0037893-a126-4d18-a984-a1de45e76f92'}\n",
      "page_content='Em cứ nộp hồ sơ miễn giảm.' metadata={'doc_id': '29d85bff-9429-48e0-a9e9-c52123e76e6c'}\n",
      "page_content='Bạn có thể thử một trong các liên kết bên dưới hoặc tìm kiếm?' metadata={'doc_id': '0a9d5ae7-3a60-4e75-a654-6318088fc754'}\n",
      "page_content='Phòng Tài chính – Kế toán sẽ thông báo hình thức chi trả khi tiền miễn giảm được giải ngân.' metadata={'doc_id': '3f6f112d-32ea-4bec-80fe-821e107ebe25'}\n"
     ]
    },
    {
     "data": {
      "application/vnd.jupyter.widget-view+json": {
       "model_id": "5ca87f44305745148fea6aefca7474c4",
       "version_major": 2,
       "version_minor": 0
      },
      "text/plain": [
       "Filter:   0%|          | 0/196 [00:00<?, ? examples/s]"
      ]
     },
     "metadata": {},
     "output_type": "display_data"
    },
    {
     "name": "stdout",
     "output_type": "stream",
     "text": [
      "page_content='Sinh viên cần phải trang bị những kỹ năng nào để phục vụ cho việc học tập?' metadata={'doc_id': 'd0037893-a126-4d18-a984-a1de45e76f92'}\n",
      "page_content='Môi trường học tập mới như thế nào?' metadata={'doc_id': 'd0037893-a126-4d18-a984-a1de45e76f92'}\n",
      "page_content='Môn nào có trong bảng điểm đại học sẽ được xem xét miễn.' metadata={'doc_id': 'fb1b40fc-fee3-4557-b07d-82d0fb79648d'}\n",
      "page_content='Ngân hàng sẽ đóng học phí giúp em.' metadata={'doc_id': 'a43e24a9-d493-4757-94cf-ad58097b5ae9'}\n"
     ]
    },
    {
     "data": {
      "application/vnd.jupyter.widget-view+json": {
       "model_id": "109ffd3ef157418abe76b60e1a096e0d",
       "version_major": 2,
       "version_minor": 0
      },
      "text/plain": [
       "Filter:   0%|          | 0/196 [00:00<?, ? examples/s]"
      ]
     },
     "metadata": {},
     "output_type": "display_data"
    },
    {
     "name": "stdout",
     "output_type": "stream",
     "text": [
      "page_content='Làm sao để thích nghi với phương pháp giảng dạy và môi trường học tập mới?' metadata={'doc_id': 'd0037893-a126-4d18-a984-a1de45e76f92'}\n",
      "page_content='Nếu hồ sơ không được duyệt, sinh viên sẽ được hướng dẫn bổ sung hồ sơ hoặc thông báo từ chối hồ sơ.' metadata={'doc_id': '6f36549f-7719-4de2-a180-74ee410108ac'}\n",
      "page_content='Thông tin mã sinh viên có thể xem trong danh sách trúng tuyển.' metadata={'doc_id': '6ed19e47-5874-4a9b-93e0-1527f62b59a3'}\n"
     ]
    },
    {
     "data": {
      "application/vnd.jupyter.widget-view+json": {
       "model_id": "cea6391adcef4f38823a5275aaade0b8",
       "version_major": 2,
       "version_minor": 0
      },
      "text/plain": [
       "Filter:   0%|          | 0/196 [00:00<?, ? examples/s]"
      ]
     },
     "metadata": {},
     "output_type": "display_data"
    },
    {
     "name": "stdout",
     "output_type": "stream",
     "text": [
      "page_content='Sinh viên cần chuẩn bị hồ sơ theo hướng dẫn với từng đối tượng được miễn 100% hoặc giảm 70%/50% học phí.' metadata={'doc_id': 'df237e88-7229-4870-8d37-43c52a9a4f33'}\n",
      "page_content='Sinh viên cần điền đầy đủ thông tin và chuẩn bị các giấy tờ xác nhận liên quan (nếu có).' metadata={'doc_id': '59488173-eef7-4789-a256-bbbb505fb4bc'}\n",
      "page_content='Nếu vẫn không thể tự khắc phục được, sinh viên vui lòng liên hệ phòng Công nghệ thông tin.' metadata={'doc_id': '1dcff6b9-ea0d-4663-8cad-13f1b39218b6'}\n"
     ]
    },
    {
     "data": {
      "application/vnd.jupyter.widget-view+json": {
       "model_id": "0efcce008e284f3897329beaf9591d38",
       "version_major": 2,
       "version_minor": 0
      },
      "text/plain": [
       "Filter:   0%|          | 0/196 [00:00<?, ? examples/s]"
      ]
     },
     "metadata": {},
     "output_type": "display_data"
    },
    {
     "name": "stdout",
     "output_type": "stream",
     "text": [
      "page_content='Sinh viên có thể liên hệ Phòng Chăm sóc và hỗ trợ người học để biết thêm thông tin về việc xét học bổng.' metadata={'doc_id': 'a94ae88b-2cdb-4248-bf58-64590325a806'}\n"
     ]
    },
    {
     "name": "stderr",
     "output_type": "stream",
     "text": [
      "Retrying langchain_google_genai.llms._completion_with_retry.<locals>._completion_with_retry in 4.0 seconds as it raised ResourceExhausted: 429 Resource has been exhausted (e.g. check quota)..\n"
     ]
    },
    {
     "name": "stdout",
     "output_type": "stream",
     "text": [
      "page_content='Để nộp hồ sơ mua BHYT và BHTN, sinh viên cần thu thập các thông tin sau:' metadata={'doc_id': '61171969-32a2-4fbd-9a36-d26a566742f0'}\n"
     ]
    },
    {
     "data": {
      "application/vnd.jupyter.widget-view+json": {
       "model_id": "7fefba3a1742404fb130b07f18615bad",
       "version_major": 2,
       "version_minor": 0
      },
      "text/plain": [
       "Filter:   0%|          | 0/196 [00:00<?, ? examples/s]"
      ]
     },
     "metadata": {},
     "output_type": "display_data"
    },
    {
     "name": "stdout",
     "output_type": "stream",
     "text": [
      "page_content='Nếu sinh viên nhận chưa đến 01 suất học bổng toàn phần thì vẫn có cơ hội tham gia các học bổng khác.' metadata={'doc_id': '14f82a6f-e892-4a5d-a86d-43a67afade9f'}\n"
     ]
    },
    {
     "data": {
      "application/vnd.jupyter.widget-view+json": {
       "model_id": "72af8af2bf8541668681a8e8f87be0ca",
       "version_major": 2,
       "version_minor": 0
      },
      "text/plain": [
       "Filter:   0%|          | 0/196 [00:00<?, ? examples/s]"
      ]
     },
     "metadata": {},
     "output_type": "display_data"
    },
    {
     "name": "stdout",
     "output_type": "stream",
     "text": [
      "page_content='Chính sách học bổng tại UEH đa dạng từ học bổng khuyến khích học tập, học bổng hỗ trợ học tập hay học bổng từ doanh nghiệp sẽ giúp cho nhiều bạn sinh viên có thể tiếp cận và nhận những học bổng hiện kim.' metadata={'doc_id': 'df237e88-7229-4870-8d37-43c52a9a4f33'}\n",
      "page_content='Sinh viên cần phải trang bị những kỹ năng nào để phục vụ cho việc học tập?' metadata={'doc_id': 'd0037893-a126-4d18-a984-a1de45e76f92'}\n",
      "page_content='Môi trường học tập mới như thế nào?' metadata={'doc_id': 'd0037893-a126-4d18-a984-a1de45e76f92'}\n",
      "page_content='Sinh viên còn lại được nhận học bổng 50% học phí học kỳ đầu.' metadata={'doc_id': 'e500cddd-2fa4-41ea-8971-300d89059838'}\n",
      "page_content='Bạn có thể thử một trong các liên kết bên dưới hoặc tìm kiếm?' metadata={'doc_id': '0a9d5ae7-3a60-4e75-a654-6318088fc754'}\n",
      "page_content='Trường không nhận hồ sơ trực tiếp nếu sinh viên chưa đăng ký học bổng online.' metadata={'doc_id': '6937ab00-202f-4782-bed6-76551089fdb3'}\n",
      "page_content='Sinh viên không nhất định phải thuộc hộ nghèo/cận nghèo mới có thể đăng ký học bổng Hỗ trợ học tập.' metadata={'doc_id': '594cecaa-5f44-4c73-8cc1-5dd3e9b605c4'}\n"
     ]
    },
    {
     "data": {
      "application/vnd.jupyter.widget-view+json": {
       "model_id": "dfa4195320ba4af8a31a0dc2b72941f4",
       "version_major": 2,
       "version_minor": 0
      },
      "text/plain": [
       "Filter:   0%|          | 0/196 [00:00<?, ? examples/s]"
      ]
     },
     "metadata": {},
     "output_type": "display_data"
    },
    {
     "name": "stdout",
     "output_type": "stream",
     "text": [
      "page_content='Sinh viên cần phải trang bị những kỹ năng nào để phục vụ cho việc học tập?' metadata={'doc_id': 'd0037893-a126-4d18-a984-a1de45e76f92'}\n",
      "page_content='Môi trường học tập mới như thế nào?' metadata={'doc_id': 'd0037893-a126-4d18-a984-a1de45e76f92'}\n",
      "page_content='Điều kiện tham gia học bổng hỗ trợ học tập là sinh viên thuộc diện mồ côi, hộ nghèo, hộ cận nghèo hoặc có hoàn cảnh gia đình khó khăn.' metadata={'doc_id': '6937ab00-202f-4782-bed6-76551089fdb3'}\n",
      "page_content='Học bổng Hỗ trợ học tập dành cho sinh viên thuộc hộ nghèo/cận nghèo và sinh viên có hoàn cảnh khó khăn.' metadata={'doc_id': '594cecaa-5f44-4c73-8cc1-5dd3e9b605c4'}\n",
      "page_content='Mục tiêu của học tập bậc đại học là gì?' metadata={'doc_id': 'd0037893-a126-4d18-a984-a1de45e76f92'}\n",
      "page_content='Bạn có thể thử một trong các liên kết bên dưới hoặc tìm kiếm?' metadata={'doc_id': '0a9d5ae7-3a60-4e75-a654-6318088fc754'}\n",
      "page_content='Sinh viên thuộc diện mồ côi, hộ nghèo, hộ cận nghèo hoặc có hoàn cảnh gia đình khó khăn được đăng ký học bổng Hỗ trợ học tập.' metadata={'doc_id': 'e500cddd-2fa4-41ea-8971-300d89059838'}\n"
     ]
    },
    {
     "name": "stderr",
     "output_type": "stream",
     "text": [
      "Retrying langchain_google_genai.llms._completion_with_retry.<locals>._completion_with_retry in 4.0 seconds as it raised ResourceExhausted: 429 Resource has been exhausted (e.g. check quota)..\n"
     ]
    },
    {
     "name": "stdout",
     "output_type": "stream",
     "text": [
      "page_content='Môi trường học tập mới như thế nào?' metadata={'doc_id': 'd0037893-a126-4d18-a984-a1de45e76f92'}\n",
      "page_content='Hỗ trợ người học khuyết tật, các trường hợp đột xuất' metadata={'doc_id': '4745fc85-0c67-4513-ab84-ca4bc9b2a2dd'}\n",
      "page_content='Hỗ trợ người học khuyết tật, các trường hợp đột xuất là một phần của website.' metadata={'doc_id': '61171969-32a2-4fbd-9a36-d26a566742f0'}\n",
      "page_content='Mục tiêu của học tập bậc đại học là gì?' metadata={'doc_id': 'd0037893-a126-4d18-a984-a1de45e76f92'}\n",
      "page_content='Sinh viên cần phải trang bị những kỹ năng nào để phục vụ cho việc học tập?' metadata={'doc_id': 'd0037893-a126-4d18-a984-a1de45e76f92'}\n",
      "page_content='Hỗ trợ người học khuyết tật, các trường hợp đột xuất là một phần của trang web.' metadata={'doc_id': '8cec64c5-8f88-48fc-ae8d-765b9bd94ce4'}\n"
     ]
    },
    {
     "data": {
      "application/vnd.jupyter.widget-view+json": {
       "model_id": "8a033f628ccb4862ace811ebd283bc91",
       "version_major": 2,
       "version_minor": 0
      },
      "text/plain": [
       "Filter:   0%|          | 0/196 [00:00<?, ? examples/s]"
      ]
     },
     "metadata": {},
     "output_type": "display_data"
    },
    {
     "name": "stdout",
     "output_type": "stream",
     "text": [
      "page_content='Em có thể nộp hồ sơ để xét học bổng hỗ trợ học tập.' metadata={'doc_id': 'f88bab16-aafe-4bce-8670-12a53fd80daa'}\n",
      "page_content='Bạn có thể thử một trong các liên kết bên dưới hoặc tìm kiếm?' metadata={'doc_id': '0a9d5ae7-3a60-4e75-a654-6318088fc754'}\n",
      "page_content='Môi trường học tập mới như thế nào?' metadata={'doc_id': 'd0037893-a126-4d18-a984-a1de45e76f92'}\n",
      "page_content='Học bổng Hỗ trợ học tập không được xét vào học kỳ giữa.' metadata={'doc_id': 'b823b633-b94e-4555-b9b7-772815e714d1'}\n"
     ]
    },
    {
     "data": {
      "application/vnd.jupyter.widget-view+json": {
       "model_id": "441d5be01c08421590c6109e212aec0e",
       "version_major": 2,
       "version_minor": 0
      },
      "text/plain": [
       "Filter:   0%|          | 0/196 [00:00<?, ? examples/s]"
      ]
     },
     "metadata": {},
     "output_type": "display_data"
    },
    {
     "name": "stdout",
     "output_type": "stream",
     "text": [
      "page_content='Chúng ta nên dành một ngày bao nhiêu thời gian để tự học?' metadata={'doc_id': 'd0037893-a126-4d18-a984-a1de45e76f92'}\n",
      "page_content='Học bổng Hỗ trợ học tập được xét vào học kỳ đầu và học kỳ cuối.' metadata={'doc_id': 'b823b633-b94e-4555-b9b7-772815e714d1'}\n",
      "page_content='Học bổng Hỗ trợ học tập được xét 02 lần mỗi năm.' metadata={'doc_id': 'b823b633-b94e-4555-b9b7-772815e714d1'}\n",
      "page_content='Điều kiện để tham gia xét học bổng Hỗ trợ học tập là:' metadata={'doc_id': '2fdaff03-6f6e-4f0f-84b3-2406cc19cfa6'}\n",
      "page_content='Căn cứ để xét học bổng hỗ trợ học tập là hoàn cảnh khó khăn và điểm xét tuyển đầu vào UEH.' metadata={'doc_id': '6937ab00-202f-4782-bed6-76551089fdb3'}\n",
      "page_content='Mục tiêu của học tập bậc đại học là gì?' metadata={'doc_id': 'd0037893-a126-4d18-a984-a1de45e76f92'}\n",
      "page_content='Điều kiện để tham gia xét học bổng Hỗ trợ học tập là:' metadata={'doc_id': '2fdaff03-6f6e-4f0f-84b3-2406cc19cfa6'}\n",
      "page_content='Mục tiêu của học tập bậc đại học là gì?' metadata={'doc_id': 'd0037893-a126-4d18-a984-a1de45e76f92'}\n",
      "page_content='Môi trường học tập mới như thế nào?' metadata={'doc_id': 'd0037893-a126-4d18-a984-a1de45e76f92'}\n",
      "page_content='Điều kiện tham gia học bổng hỗ trợ học tập là sinh viên trúng tuyển vào UEH năm 2024.' metadata={'doc_id': '6937ab00-202f-4782-bed6-76551089fdb3'}\n",
      "page_content='Điều kiện tham gia học bổng hỗ trợ học tập là sinh viên thuộc diện mồ côi, hộ nghèo, hộ cận nghèo hoặc có hoàn cảnh gia đình khó khăn.' metadata={'doc_id': '6937ab00-202f-4782-bed6-76551089fdb3'}\n",
      "page_content='Điều kiện tham gia học bổng hỗ trợ học tập là sinh viên chưa nhận bất kỳ học bổng nào có giá trị tương đương từ 01 (một) suất học bổng toàn phần trở lên trong học kỳ cuối năm 2024.' metadata={'doc_id': '6937ab00-202f-4782-bed6-76551089fdb3'}\n",
      "page_content='Bạn có thể thử một trong các liên kết bên dưới hoặc tìm kiếm?' metadata={'doc_id': '0a9d5ae7-3a60-4e75-a654-6318088fc754'}\n"
     ]
    },
    {
     "name": "stderr",
     "output_type": "stream",
     "text": [
      "Retrying langchain_google_genai.llms._completion_with_retry.<locals>._completion_with_retry in 4.0 seconds as it raised ResourceExhausted: 429 Resource has been exhausted (e.g. check quota)..\n"
     ]
    },
    {
     "name": "stdout",
     "output_type": "stream",
     "text": [
      "page_content='Điều kiện để tham gia xét học bổng Hỗ trợ học tập là:' metadata={'doc_id': '2fdaff03-6f6e-4f0f-84b3-2406cc19cfa6'}\n",
      "page_content='Môi trường học tập mới như thế nào?' metadata={'doc_id': 'd0037893-a126-4d18-a984-a1de45e76f92'}\n",
      "page_content='Bạn có thể thử một trong các liên kết bên dưới hoặc tìm kiếm?' metadata={'doc_id': '0a9d5ae7-3a60-4e75-a654-6318088fc754'}\n",
      "page_content='Loại đạt không phân mức, áp dụng cho các học phần chỉ yêu cầu đạt, không tính vào điểm trung bình học tập được ký hiệu là P.' metadata={'doc_id': '168be259-44d9-436a-85a1-5b2620e20b00'}\n",
      "page_content='Trường hợp sinh viên có điểm quá trình hoặc điểm kết thúc học phần là vắng (không có điểm) hoặc điểm 0 (điểm không) thì điểm học phần chỉ được tính tối đa là 4,9 theo thang điểm 10 (điểm không đạt).' metadata={'doc_id': '168be259-44d9-436a-85a1-5b2620e20b00'}\n",
      "page_content='Mục tiêu của học tập bậc đại học là gì?' metadata={'doc_id': 'd0037893-a126-4d18-a984-a1de45e76f92'}\n",
      "page_content='Sinh viên được xét chuẩn trình độ tiếng Anh đầu ra theo chương trình đào tạo khi có chứng chỉ tiếng Anh quốc tế đạt mức điểm tối thiểu như sau:' metadata={'doc_id': 'c9e1cbdd-49e6-43cc-8d0b-d4d941b3c412'}\n"
     ]
    },
    {
     "data": {
      "application/vnd.jupyter.widget-view+json": {
       "model_id": "c0708dbe623f496a9997a695b50594c0",
       "version_major": 2,
       "version_minor": 0
      },
      "text/plain": [
       "Filter:   0%|          | 0/196 [00:00<?, ? examples/s]"
      ]
     },
     "metadata": {},
     "output_type": "display_data"
    },
    {
     "name": "stdout",
     "output_type": "stream",
     "text": [
      "page_content='Điều kiện để tham gia xét học bổng Hỗ trợ học tập là:' metadata={'doc_id': '2fdaff03-6f6e-4f0f-84b3-2406cc19cfa6'}\n",
      "page_content='Môi trường học tập mới như thế nào?' metadata={'doc_id': 'd0037893-a126-4d18-a984-a1de45e76f92'}\n",
      "page_content='Phòng Chăm sóc và hỗ trợ người học là nơi đăng thông báo đăng ký học bổng Hỗ trợ học tập.' metadata={'doc_id': '742c3318-c944-46e6-9606-241aae70c4bb'}\n"
     ]
    },
    {
     "data": {
      "application/vnd.jupyter.widget-view+json": {
       "model_id": "c594c45344ea4ae795f1f7208057e62f",
       "version_major": 2,
       "version_minor": 0
      },
      "text/plain": [
       "Filter:   0%|          | 0/196 [00:00<?, ? examples/s]"
      ]
     },
     "metadata": {},
     "output_type": "display_data"
    },
    {
     "name": "stdout",
     "output_type": "stream",
     "text": [
      "page_content='Mục tiêu của học tập bậc đại học là gì?' metadata={'doc_id': 'd0037893-a126-4d18-a984-a1de45e76f92'}\n",
      "page_content='Đối tượng được tham gia học bổng Hỗ trợ học tập em có thể tham khảo tại đây.' metadata={'doc_id': '594cecaa-5f44-4c73-8cc1-5dd3e9b605c4'}\n",
      "page_content='Bạn có thể thử một trong các liên kết bên dưới hoặc tìm kiếm?' metadata={'doc_id': '0a9d5ae7-3a60-4e75-a654-6318088fc754'}\n",
      "page_content='Sinh viên chọn “Học bổng Hỗ trợ học tập – HKC2024 – Khóa 50” và nhấp đăng ký.' metadata={'doc_id': '6937ab00-202f-4782-bed6-76551089fdb3'}\n",
      "page_content='Môi trường học tập mới như thế nào?' metadata={'doc_id': 'd0037893-a126-4d18-a984-a1de45e76f92'}\n",
      "page_content='Mức cho vay tối đa của hộ gia đình là tổng số mức vay tối đa của từng sinh viên trong hộ.' metadata={'doc_id': '6dd99be2-878e-44ec-a0b0-e18d3fe33d49'}\n"
     ]
    },
    {
     "data": {
      "application/vnd.jupyter.widget-view+json": {
       "model_id": "fb07bc58d5bd463f8efa30134364b3f3",
       "version_major": 2,
       "version_minor": 0
      },
      "text/plain": [
       "Filter:   0%|          | 0/196 [00:00<?, ? examples/s]"
      ]
     },
     "metadata": {},
     "output_type": "display_data"
    },
    {
     "name": "stdout",
     "output_type": "stream",
     "text": [
      "page_content='Mức cho vay tối đa là 100% học phí HKC2023.' metadata={'doc_id': 'df237e88-7229-4870-8d37-43c52a9a4f33'}\n",
      "page_content='Sinh viên cần phải trang bị những kỹ năng nào để phục vụ cho việc học tập?' metadata={'doc_id': 'd0037893-a126-4d18-a984-a1de45e76f92'}\n",
      "page_content='Chương trình Cho vay học phí có thời hạn cho vay tối đa 3 tháng.' metadata={'doc_id': 'df237e88-7229-4870-8d37-43c52a9a4f33'}\n",
      "page_content='Học đại học dễ hay khó?' metadata={'doc_id': 'd0037893-a126-4d18-a984-a1de45e76f92'}\n",
      "page_content='Mức cho vay tối đa của Chương trình Cho vay học phí của Ngân hàng TMCP Phương Đông (OCB) là 10' metadata={'doc_id': 'df237e88-7229-4870-8d37-43c52a9a4f33'}\n",
      "page_content='Mục tiêu của học tập bậc đại học là gì?' metadata={'doc_id': 'd0037893-a126-4d18-a984-a1de45e76f92'}\n"
     ]
    },
    {
     "name": "stderr",
     "output_type": "stream",
     "text": [
      "Retrying langchain_google_genai.llms._completion_with_retry.<locals>._completion_with_retry in 4.0 seconds as it raised ResourceExhausted: 429 Resource has been exhausted (e.g. check quota)..\n"
     ]
    },
    {
     "name": "stdout",
     "output_type": "stream",
     "text": [
      "page_content='Sinh viên đăng ký học chương trình thứ hai đáp ứng một trong hai điều kiện sau:' metadata={'doc_id': '27b378fd-51f2-4da1-8304-7c04b290781b'}\n",
      "page_content='Đến hạn trả nợ cuối cùng, người vay chưa trả được nợ.' metadata={'doc_id': '4335433d-98aa-4ab5-935e-e4cec13632f1'}\n"
     ]
    },
    {
     "data": {
      "application/vnd.jupyter.widget-view+json": {
       "model_id": "b6c264338a55413c853c404ce4ed4863",
       "version_major": 2,
       "version_minor": 0
      },
      "text/plain": [
       "Filter:   0%|          | 0/196 [00:00<?, ? examples/s]"
      ]
     },
     "metadata": {},
     "output_type": "display_data"
    },
    {
     "name": "stdout",
     "output_type": "stream",
     "text": [
      "page_content='Sinh viên đăng ký học phần sau khi được xét học chương trình thứ 2.' metadata={'doc_id': '27b378fd-51f2-4da1-8304-7c04b290781b'}\n",
      "page_content='Thời hạn cho vay là 3 tháng.' metadata={'doc_id': 'df237e88-7229-4870-8d37-43c52a9a4f33'}\n",
      "page_content='Điều kiện tham gia trao đổi sinh viên và hợp tác trong đào tạo:' metadata={'doc_id': '99512c78-6827-48d5-83d8-77546c340ae1'}\n",
      "page_content='Đến hạn trả nợ cuối cùng, người vay không trả nợ.' metadata={'doc_id': '4335433d-98aa-4ab5-935e-e4cec13632f1'}\n",
      "page_content='Chương trình Cho vay học phí có thời hạn cho vay tối đa 3 tháng.' metadata={'doc_id': 'df237e88-7229-4870-8d37-43c52a9a4f33'}\n",
      "page_content='Sinh viên được xét chuẩn trình độ tiếng Anh đầu ra theo chương trình đào tạo khi có chứng chỉ tiếng Anh quốc tế đạt mức điểm tối thiểu như sau:' metadata={'doc_id': 'c9e1cbdd-49e6-43cc-8d0b-d4d941b3c412'}\n",
      "page_content='Ngân hàng Sacombank sẽ duyệt hạn mức thẻ cho sinh viên tham gia chương trình trả góp học phí qua thẻ tín dụng.' metadata={'doc_id': '0aa5e308-47d0-4509-93a4-5b3ec2834688'}\n"
     ]
    },
    {
     "data": {
      "application/vnd.jupyter.widget-view+json": {
       "model_id": "7c8509a4ed884d86bc9115feb9445e7b",
       "version_major": 2,
       "version_minor": 0
      },
      "text/plain": [
       "Filter:   0%|          | 0/196 [00:00<?, ? examples/s]"
      ]
     },
     "metadata": {},
     "output_type": "display_data"
    },
    {
     "name": "stdout",
     "output_type": "stream",
     "text": [
      "page_content='Chương trình trả góp học phí qua thẻ tín dụng của Ngân hàng Sacombank cho phép sinh viên trả góp học phí.' metadata={'doc_id': '0aa5e308-47d0-4509-93a4-5b3ec2834688'}\n",
      "page_content='Đối với Ngân hàng TMCP Sài Gòn Thương tín (Sacombank), cần tải mẫu biểu cho chương trình trả góp học phí qua thẻ tín dụng.' metadata={'doc_id': 'df237e88-7229-4870-8d37-43c52a9a4f33'}\n",
      "page_content='Chương trình trả góp học phí qua thẻ tín dụng được cung cấp bởi Ngân hàng TMCP Sài Gòn Thương tín (Sacombank).' metadata={'doc_id': 'df237e88-7229-4870-8d37-43c52a9a4f33'}\n",
      "page_content='Chương trình Trả góp học phí qua thẻ tín dụng của Ngân hàng hỗ trợ trả góp học phí với lãi suất 0% thông qua hình thức phát hành thẻ tín dụng.' metadata={'doc_id': 'df237e88-7229-4870-8d37-43c52a9a4f33'}\n",
      "page_content='Ngân hàng Sacombank sẽ duyệt hạn mức thẻ cho sinh viên tham gia chương trình trả góp học phí qua thẻ tín dụng.' metadata={'doc_id': '0aa5e308-47d0-4509-93a4-5b3ec2834688'}\n",
      "page_content='Chương trình trả góp học phí qua thẻ tín dụng của Ngân hàng Sacombank cho phép sinh viên trả góp học phí.' metadata={'doc_id': '0aa5e308-47d0-4509-93a4-5b3ec2834688'}\n",
      "page_content='Chương trình trả góp học phí qua thẻ tín dụng được cung cấp bởi Ngân hàng TMCP Sài Gòn Thương tín (Sacombank).' metadata={'doc_id': 'df237e88-7229-4870-8d37-43c52a9a4f33'}\n",
      "page_content='Sinh viên cần tránh rơi vào các trường hợp sau để không bị xử lý học vụ cảnh báo học tập:' metadata={'doc_id': '59488173-eef7-4789-a256-bbbb505fb4bc'}\n",
      "page_content='Chương trình trả góp học phí qua thẻ tín dụng của Ngân hàng TMCP Sài Gòn Thương tín (Sacombank) yêu cầu Giấy đề nghị kiêm hợp đồng cấp thẻ tín dụng.' metadata={'doc_id': 'df237e88-7229-4870-8d37-43c52a9a4f33'}\n",
      "page_content='Người dự tuyển nghiên cứu sinh phải có năng lực nghiên cứu khoa học, được minh chứng bằng một trong những điều kiện sau:' metadata={'doc_id': 'cc28dec2-a642-409d-8c85-efedeec297f4'}\n"
     ]
    },
    {
     "name": "stderr",
     "output_type": "stream",
     "text": [
      "Retrying langchain_google_genai.llms._completion_with_retry.<locals>._completion_with_retry in 4.0 seconds as it raised ResourceExhausted: 429 Resource has been exhausted (e.g. check quota)..\n"
     ]
    },
    {
     "name": "stdout",
     "output_type": "stream",
     "text": [
      "page_content='Môi trường học tập mới như thế nào?' metadata={'doc_id': 'd0037893-a126-4d18-a984-a1de45e76f92'}\n",
      "page_content='Chương trình trả góp học phí qua thẻ tín dụng của Ngân hàng Sacombank cho phép sinh viên trả góp học phí.' metadata={'doc_id': '0aa5e308-47d0-4509-93a4-5b3ec2834688'}\n",
      "page_content='Bạn có thể thử một trong các liên kết bên dưới hoặc tìm kiếm?' metadata={'doc_id': '0a9d5ae7-3a60-4e75-a654-6318088fc754'}\n",
      "page_content='Phí thường niên thẻ tín dụng được miễn phí thường niên năm đầu tiên.' metadata={'doc_id': 'df237e88-7229-4870-8d37-43c52a9a4f33'}\n",
      "page_content='Chương trình Trả góp học phí qua thẻ tín dụng của Ngân hàng hỗ trợ trả góp học phí với lãi suất 0% thông qua hình thức phát hành thẻ tín dụng.' metadata={'doc_id': 'df237e88-7229-4870-8d37-43c52a9a4f33'}\n",
      "page_content='Mục tiêu của học tập bậc đại học là gì?' metadata={'doc_id': 'd0037893-a126-4d18-a984-a1de45e76f92'}\n",
      "page_content='UEH sẽ hỗ trợ mức phí chuyển đổi trả góp cho 130 suất (KSA: 100 suất, KSV: 30 suất) theo mức phí chuyển đổi trả góp thấp nhất giữa các ngân hàng trong Chương trình Trả góp học phí qua thẻ tín dụng của Ngân hàng.' metadata={'doc_id': 'df237e88-7229-4870-8d37-43c52a9a4f33'}\n",
      "page_content='Sinh viên cần phải trang bị những kỹ năng nào để phục vụ cho việc học tập?' metadata={'doc_id': 'd0037893-a126-4d18-a984-a1de45e76f92'}\n",
      "page_content='Chọn Phương thức thanh toán.' metadata={'doc_id': '6afd7804-64cb-4cce-ab34-e97fb451eb96'}\n"
     ]
    },
    {
     "data": {
      "application/vnd.jupyter.widget-view+json": {
       "model_id": "582d1a07a4a34383b499d97979d2c127",
       "version_major": 2,
       "version_minor": 0
      },
      "text/plain": [
       "Filter:   0%|          | 0/196 [00:00<?, ? examples/s]"
      ]
     },
     "metadata": {},
     "output_type": "display_data"
    },
    {
     "name": "stdout",
     "output_type": "stream",
     "text": [
      "page_content='Hạng tốt nghiệp được xác định theo thang điểm đánh giá và điểm trung bình chung tích lũy của toàn khoá học, như sau:' metadata={'doc_id': 'd4b68b07-a868-4f1b-88c9-10806f9e1345'}\n",
      "page_content='Phương thức trả góp cụ thể như sau:' metadata={'doc_id': '12005adc-7c2a-4ec8-842e-5d47ad903755'}\n"
     ]
    },
    {
     "data": {
      "application/vnd.jupyter.widget-view+json": {
       "model_id": "139f25125f8045f1adedef5280b7f2a2",
       "version_major": 2,
       "version_minor": 0
      },
      "text/plain": [
       "Filter:   0%|          | 0/196 [00:00<?, ? examples/s]"
      ]
     },
     "metadata": {},
     "output_type": "display_data"
    },
    {
     "name": "stdout",
     "output_type": "stream",
     "text": [
      "page_content='Học viên chụp lại màn hình sau khi thanh toán học phí thành công để kiểm tra sau này.' metadata={'doc_id': 'cf2d8734-1888-4654-9515-9f283ace9edc'}\n",
      "page_content='Phương thức trả nợ vay là gốc, lãi cuối kỳ.' metadata={'doc_id': 'df237e88-7229-4870-8d37-43c52a9a4f33'}\n",
      "page_content='Bạn có thể thử một trong các liên kết bên dưới hoặc tìm kiếm?' metadata={'doc_id': '0a9d5ae7-3a60-4e75-a654-6318088fc754'}\n",
      "page_content='Chọn Phương thức thanh toán là một hành động.' metadata={'doc_id': 'a1f95814-e8e6-4cba-8f4f-6d9a7e8fb68a'}\n"
     ]
    },
    {
     "data": {
      "application/vnd.jupyter.widget-view+json": {
       "model_id": "421e695fc13b4f7692c71d2fb1269334",
       "version_major": 2,
       "version_minor": 0
      },
      "text/plain": [
       "Filter:   0%|          | 0/196 [00:00<?, ? examples/s]"
      ]
     },
     "metadata": {},
     "output_type": "display_data"
    },
    {
     "name": "stdout",
     "output_type": "stream",
     "text": [
      "page_content='Hồ sơ vay vốn bao gồm văn bản cam kết đồng trả nợ của gia đình (theo mẫu HDBank).' metadata={'doc_id': 'df237e88-7229-4870-8d37-43c52a9a4f33'}\n",
      "page_content='Để có đủ năng lực ngoại ngữ để tham khảo tài liệu, tham gia hoạt động quốc tế về chuyên môn phục vụ nghiên cứu khoa học và thực hiện đề tài luận án, người dự tuyển phải đáp ứng một trong các điều kiện sau:' metadata={'doc_id': 'cc28dec2-a642-409d-8c85-efedeec297f4'}\n",
      "page_content='Hồ sơ nhân thân bao gồm chứng từ thể hiện nơi cư trú của KH (Bản in kết quả tra cứu QRCode CCCD/Văn bản xác nhận nơi cư trú/…).' metadata={'doc_id': 'df237e88-7229-4870-8d37-43c52a9a4f33'}\n",
      "page_content='Bạn có thể tránh lỗi đạo văn trong học tập bằng cách làm rõ thông tin bạn sử dụng đến từ đâu bằng việc trích dẫn phải kèm theo chỉ dẫn về nguồn gốc tác phẩm và tên tác giả.' metadata={'doc_id': 'c40db932-e5a2-4cff-b88c-1186bade661a'}\n"
     ]
    },
    {
     "data": {
      "application/vnd.jupyter.widget-view+json": {
       "model_id": "837db125b53045fe8aae8ab7e9e92dad",
       "version_major": 2,
       "version_minor": 0
      },
      "text/plain": [
       "Filter:   0%|          | 0/196 [00:00<?, ? examples/s]"
      ]
     },
     "metadata": {},
     "output_type": "display_data"
    },
    {
     "name": "stdout",
     "output_type": "stream",
     "text": [
      "page_content='Chứng chỉ tiếng Anh quốc tế cần 01 bản sao (bản photo có công chứng).' metadata={'doc_id': '9b1674b3-34cd-43e2-a6f3-3903b1e38ffe'}\n",
      "page_content='Bạn có thể tránh lỗi đạo văn trong học tập bằng cách báo cáo chính xác các kết quả nghiên cứu và tuân thủ các chính sách nghiên cứu.' metadata={'doc_id': 'c40db932-e5a2-4cff-b88c-1186bade661a'}\n",
      "page_content='Chương trình vay học phí của Ngân hàng TMCP Phương Đông (OCB) yêu cầu Giấy cam kết trả nợ và Giấy đề nghị kiêm phương án vay.' metadata={'doc_id': 'df237e88-7229-4870-8d37-43c52a9a4f33'}\n",
      "page_content='Bạn sẽ được dạy nhiều kinh nghiệm thú vị và kỹ năng thực tế mà không lý thuyết nào miêu tả được khi tham gia các CLB, đội, nhóm.' metadata={'doc_id': '63e725d6-45d4-4809-974a-564a7da6b1a8'}\n"
     ]
    },
    {
     "name": "stderr",
     "output_type": "stream",
     "text": [
      "Retrying langchain_google_genai.llms._completion_with_retry.<locals>._completion_with_retry in 4.0 seconds as it raised ResourceExhausted: 429 Resource has been exhausted (e.g. check quota)..\n"
     ]
    },
    {
     "name": "stdout",
     "output_type": "stream",
     "text": [
      "page_content='Ngân hàng sẽ đóng học phí giúp em.' metadata={'doc_id': 'a43e24a9-d493-4757-94cf-ad58097b5ae9'}\n",
      "page_content='Sinh viên cần phải trang bị những kỹ năng nào để phục vụ cho việc học tập?' metadata={'doc_id': 'd0037893-a126-4d18-a984-a1de45e76f92'}\n",
      "page_content='Môi trường học tập mới như thế nào?' metadata={'doc_id': 'd0037893-a126-4d18-a984-a1de45e76f92'}\n",
      "page_content='Ngân hàng sẽ hỗ trợ em đóng học phí.' metadata={'doc_id': 'a43e24a9-d493-4757-94cf-ad58097b5ae9'}\n",
      "page_content='Em không đang nợ ngân hàng nào.' metadata={'doc_id': '5bd121d3-c7c7-40ca-8df3-cdbe28c0c279'}\n"
     ]
    },
    {
     "data": {
      "application/vnd.jupyter.widget-view+json": {
       "model_id": "42afda3e55bb43bd80c5717ab8d99ea4",
       "version_major": 2,
       "version_minor": 0
      },
      "text/plain": [
       "Filter:   0%|          | 0/196 [00:00<?, ? examples/s]"
      ]
     },
     "metadata": {},
     "output_type": "display_data"
    },
    {
     "name": "stdout",
     "output_type": "stream",
     "text": [
      "page_content='Mục tiêu của học tập bậc đại học là gì?' metadata={'doc_id': 'd0037893-a126-4d18-a984-a1de45e76f92'}\n",
      "page_content='Ngân hàng sẽ xác minh nguồn thu nhập của em.' metadata={'doc_id': 'b0080fdb-25bc-495a-94bb-e7aeb04c2ffa'}\n"
     ]
    },
    {
     "data": {
      "application/vnd.jupyter.widget-view+json": {
       "model_id": "ae18d59a214942c48b91a3017c231fd0",
       "version_major": 2,
       "version_minor": 0
      },
      "text/plain": [
       "Filter:   0%|          | 0/196 [00:00<?, ? examples/s]"
      ]
     },
     "metadata": {},
     "output_type": "display_data"
    },
    {
     "name": "stdout",
     "output_type": "stream",
     "text": [
      "page_content='Làm sao để thích nghi với phương pháp giảng dạy và môi trường học tập mới?' metadata={'doc_id': 'd0037893-a126-4d18-a984-a1de45e76f92'}\n",
      "page_content='Môi trường học tập mới như thế nào?' metadata={'doc_id': 'd0037893-a126-4d18-a984-a1de45e76f92'}\n",
      "page_content='Em chắc chắn được vay.' metadata={'doc_id': '5bd121d3-c7c7-40ca-8df3-cdbe28c0c279'}\n",
      "page_content='Bước 6: Sinh viên được phê duyệt vay và hoàn tất các thủ tục liên quan.' metadata={'doc_id': 'df237e88-7229-4870-8d37-43c52a9a4f33'}\n",
      "page_content='Bạn có thể thử một trong các liên kết bên dưới hoặc tìm kiếm?' metadata={'doc_id': '0a9d5ae7-3a60-4e75-a654-6318088fc754'}\n",
      "page_content='Việc công nhận này sẽ được ghi nhận đến khi sinh viên hoàn tất quá trình học và xét tốt nghiệp.' metadata={'doc_id': 'c9e1cbdd-49e6-43cc-8d0b-d4d941b3c412'}\n",
      "page_content='Mục tiêu của học tập bậc đại học là gì?' metadata={'doc_id': 'd0037893-a126-4d18-a984-a1de45e76f92'}\n",
      "page_content='Sau khi hoàn tất thủ tục nhập học, các bạn đã chính thức trở thành Tân sinh viên của Đại học Kinh tế TP. Hồ Chí Minh.' metadata={'doc_id': '9b1674b3-34cd-43e2-a6f3-3903b1e38ffe'}\n",
      "page_content='Sinh viên cần phải trang bị những kỹ năng nào để phục vụ cho việc học tập?' metadata={'doc_id': 'd0037893-a126-4d18-a984-a1de45e76f92'}\n"
     ]
    },
    {
     "name": "stderr",
     "output_type": "stream",
     "text": [
      "Retrying langchain_google_genai.llms._completion_with_retry.<locals>._completion_with_retry in 4.0 seconds as it raised ResourceExhausted: 429 Resource has been exhausted (e.g. check quota)..\n",
      "Retrying langchain_google_genai.llms._completion_with_retry.<locals>._completion_with_retry in 4.0 seconds as it raised ResourceExhausted: 429 Resource has been exhausted (e.g. check quota)..\n"
     ]
    },
    {
     "name": "stdout",
     "output_type": "stream",
     "text": [
      "page_content='Môi trường học tập mới như thế nào?' metadata={'doc_id': 'd0037893-a126-4d18-a984-a1de45e76f92'}\n",
      "page_content='Việc chuyển tiền học phí không liên quan đến tài khoản của em.' metadata={'doc_id': '2b2054bd-ca0b-4ec1-84c9-dd5b404f22d7'}\n"
     ]
    },
    {
     "data": {
      "application/vnd.jupyter.widget-view+json": {
       "model_id": "5bfa1834baf1469abed01052853d03d9",
       "version_major": 2,
       "version_minor": 0
      },
      "text/plain": [
       "Filter:   0%|          | 0/196 [00:00<?, ? examples/s]"
      ]
     },
     "metadata": {},
     "output_type": "display_data"
    },
    {
     "name": "stdout",
     "output_type": "stream",
     "text": [
      "page_content='Sinh viên khóa 49 ĐHCQ KSA có nhu cầu vay để đóng học phí HKC2023 và chưa tham gia vay vốn tại các tổ chức tín dụng khác có thể tham gia Chương trình Cho vay học phí của Ngân hàng TMCP Phương Đông (OCB).' metadata={'doc_id': 'df237e88-7229-4870-8d37-43c52a9a4f33'}\n",
      "page_content='Mục tiêu của học tập bậc đại học là gì?' metadata={'doc_id': 'd0037893-a126-4d18-a984-a1de45e76f92'}\n",
      "page_content='Bạn có thể thử một trong các liên kết bên dưới hoặc tìm kiếm?' metadata={'doc_id': '0a9d5ae7-3a60-4e75-a654-6318088fc754'}\n",
      "page_content='Có vẻ như không có gì được tìm thấy ở vị trí này.' metadata={'doc_id': '0a9d5ae7-3a60-4e75-a654-6318088fc754'}\n",
      "page_content='Nơi chuyển đến có đủ điều kiện đảm bảo chất lượng, chưa vượt quá năng lực đào tạo.' metadata={'doc_id': '27b378fd-51f2-4da1-8304-7c04b290781b'}\n",
      "page_content='Sinh viên cần phải trang bị những kỹ năng nào để phục vụ cho việc học tập?' metadata={'doc_id': 'd0037893-a126-4d18-a984-a1de45e76f92'}\n",
      "page_content='Sinh viên có thể tham khảo điều kiện để chuyển ngành, chuyển nơi học trong UEH:' metadata={'doc_id': '59488173-eef7-4789-a256-bbbb505fb4bc'}\n",
      "page_content='Hồ sơ vay vốn bao gồm phiếu đóng học phí (sinh viên ký tên vào phiếu này).' metadata={'doc_id': 'df237e88-7229-4870-8d37-43c52a9a4f33'}\n",
      "page_content='Phiếu thông tin sinh viên VB2ĐHCQ (In trong tài khoản đăng ký)' metadata={'doc_id': 'de195bbb-45f5-4606-8446-44d84f01beaf'}\n",
      "page_content='Sinh viên UEH hay cân bằng tốt giữa giữa việc học và giải trí thư giãn.' metadata={'doc_id': 'bd124936-49e6-403b-be60-471232ffb3f8'}\n"
     ]
    },
    {
     "data": {
      "application/vnd.jupyter.widget-view+json": {
       "model_id": "67895740a1d04f27afb7e1ce01c10424",
       "version_major": 2,
       "version_minor": 0
      },
      "text/plain": [
       "Filter:   0%|          | 0/196 [00:00<?, ? examples/s]"
      ]
     },
     "metadata": {},
     "output_type": "display_data"
    },
    {
     "name": "stdout",
     "output_type": "stream",
     "text": [
      "page_content='Phiếu thông tin sinh viên LTTCVLVH (In trong tài khoản đăng ký).' metadata={'doc_id': '6afd7804-64cb-4cce-ab34-e97fb451eb96'}\n",
      "page_content='UEH đã triển khai các dịch vụ cung cấp hồ sơ điện tử có xác thực trực tiếp trên Portal sinh viên.' metadata={'doc_id': '5edd45ef-2c72-4d9f-874e-cc2fa7c515e7'}\n",
      "page_content='Nhịp sống sinh viên là một phần của website UEH' metadata={'doc_id': '540c82e1-c8f4-48ad-a5f9-4c416140fd6c'}\n",
      "page_content='Phiếu thông tin sinh viên LTCĐVLVH (In trong tài khoản đăng ký).' metadata={'doc_id': 'cbc2cfff-a2ba-4fc4-aa2d-d12d9290506a'}\n"
     ]
    },
    {
     "data": {
      "application/vnd.jupyter.widget-view+json": {
       "model_id": "f13b9284551b4f8abf7acfc43277a652",
       "version_major": 2,
       "version_minor": 0
      },
      "text/plain": [
       "Filter:   0%|          | 0/196 [00:00<?, ? examples/s]"
      ]
     },
     "metadata": {},
     "output_type": "display_data"
    },
    {
     "name": "stderr",
     "output_type": "stream",
     "text": [
      "Retrying langchain_google_genai.llms._completion_with_retry.<locals>._completion_with_retry in 4.0 seconds as it raised ResourceExhausted: 429 Resource has been exhausted (e.g. check quota)..\n",
      "Retrying langchain_google_genai.llms._completion_with_retry.<locals>._completion_with_retry in 4.0 seconds as it raised ResourceExhausted: 429 Resource has been exhausted (e.g. check quota)..\n"
     ]
    },
    {
     "name": "stdout",
     "output_type": "stream",
     "text": [
      "page_content='Môi trường học tập mới như thế nào?' metadata={'doc_id': 'd0037893-a126-4d18-a984-a1de45e76f92'}\n",
      "page_content='Mức cho vay tối đa của hộ gia đình là tổng số mức vay tối đa của từng sinh viên trong hộ.' metadata={'doc_id': '6dd99be2-878e-44ec-a0b0-e18d3fe33d49'}\n",
      "page_content='Mức cho vay tối đa là 100% học phí HKC2023.' metadata={'doc_id': 'df237e88-7229-4870-8d37-43c52a9a4f33'}\n",
      "page_content='Sinh viên cần phải trang bị những kỹ năng nào để phục vụ cho việc học tập?' metadata={'doc_id': 'd0037893-a126-4d18-a984-a1de45e76f92'}\n",
      "page_content='Chương trình Cho vay học phí có thời hạn cho vay tối đa 3 tháng.' metadata={'doc_id': 'df237e88-7229-4870-8d37-43c52a9a4f33'}\n",
      "page_content='Học đại học dễ hay khó?' metadata={'doc_id': 'd0037893-a126-4d18-a984-a1de45e76f92'}\n",
      "page_content='Mức cho vay tối đa của Chương trình Cho vay học phí của Ngân hàng TMCP Phương Đông (OCB) là 10' metadata={'doc_id': 'df237e88-7229-4870-8d37-43c52a9a4f33'}\n",
      "page_content='Mục tiêu của học tập bậc đại học là gì?' metadata={'doc_id': 'd0037893-a126-4d18-a984-a1de45e76f92'}\n",
      "page_content='Bạn có thể thử một trong các liên kết bên dưới hoặc tìm kiếm?' metadata={'doc_id': '0a9d5ae7-3a60-4e75-a654-6318088fc754'}\n",
      "page_content='Người vay không được NHCSXH cho gia hạn nợ.' metadata={'doc_id': '4335433d-98aa-4ab5-935e-e4cec13632f1'}\n",
      "page_content='Nếu không có xe máy, chúng mình có thể dùng phương tiện nào?' metadata={'doc_id': 'bea30813-4a32-4b79-a80c-4d27102dd158'}\n",
      "page_content='Khu vực 1 chưa biết có được miễn giảm hay không.' metadata={'doc_id': '29d85bff-9429-48e0-a9e9-c52123e76e6c'}\n",
      "page_content='Sinh viên đăng ký học chương trình thứ hai đáp ứng một trong hai điều kiện sau:' metadata={'doc_id': '27b378fd-51f2-4da1-8304-7c04b290781b'}\n",
      "page_content='Người vay được xem xét cho gia hạn nợ.' metadata={'doc_id': '4335433d-98aa-4ab5-935e-e4cec13632f1'}\n",
      "page_content='Đến hạn trả nợ cuối cùng, người vay chưa trả được nợ.' metadata={'doc_id': '4335433d-98aa-4ab5-935e-e4cec13632f1'}\n",
      "page_content='Kết quả học tập của sinh viên được đánh giá theo các tiêu chí sau đây:' metadata={'doc_id': '168be259-44d9-436a-85a1-5b2620e20b00'}\n",
      "page_content='Quy trình đăng ký học chương trình thứ hai bao gồm các bước sau:' metadata={'doc_id': '27b378fd-51f2-4da1-8304-7c04b290781b'}\n",
      "page_content='Mức cho vay tối đa của hộ gia đình là tổng số mức vay tối đa của từng sinh viên trong hộ.' metadata={'doc_id': '6dd99be2-878e-44ec-a0b0-e18d3fe33d49'}\n",
      "page_content='Môi trường học tập mới như thế nào?' metadata={'doc_id': 'd0037893-a126-4d18-a984-a1de45e76f92'}\n",
      "page_content='Một hộ gia đình có nhiều sinh viên được vay vốn.' metadata={'doc_id': '6dd99be2-878e-44ec-a0b0-e18d3fe33d49'}\n",
      "page_content='Bạn có thể thử một trong các liên kết bên dưới hoặc tìm kiếm?' metadata={'doc_id': '0a9d5ae7-3a60-4e75-a654-6318088fc754'}\n",
      "page_content='Mức cho vay tối đa là 100% học phí HKC2023.' metadata={'doc_id': 'df237e88-7229-4870-8d37-43c52a9a4f33'}\n",
      "page_content='Sinh viên khóa 49 ĐHCQ KSA có nhu cầu vay để đóng học phí HKC2023 và chưa tham gia vay vốn tại các tổ chức tín dụng khác có thể tham gia Chương trình Cho vay học phí của Ngân hàng TMCP Phương Đông (OCB).' metadata={'doc_id': 'df237e88-7229-4870-8d37-43c52a9a4f33'}\n",
      "page_content='Sinh viên cần phải trang bị những kỹ năng nào để phục vụ cho việc học tập?' metadata={'doc_id': 'd0037893-a126-4d18-a984-a1de45e76f92'}\n"
     ]
    },
    {
     "name": "stderr",
     "output_type": "stream",
     "text": [
      "Retrying langchain_google_genai.llms._completion_with_retry.<locals>._completion_with_retry in 4.0 seconds as it raised ResourceExhausted: 429 Resource has been exhausted (e.g. check quota)..\n"
     ]
    }
   ],
   "source": [
    "eval_dataset = qa_dataset.map(eval_no_score1)"
   ]
  },
  {
   "cell_type": "markdown",
   "id": "5c94db3f-3840-4dd3-9e61-18209df6d102",
   "metadata": {},
   "source": [
    "## Push"
   ]
  },
  {
   "cell_type": "code",
   "execution_count": 11,
   "id": "a819b24a-1de5-4d83-9d13-0ded8a36b106",
   "metadata": {},
   "outputs": [
    {
     "data": {
      "application/vnd.jupyter.widget-view+json": {
       "model_id": "77e2fbb3602f476fabc9461d8a207190",
       "version_major": 2,
       "version_minor": 0
      },
      "text/plain": [
       "Saving the dataset (0/1 shards):   0%|          | 0/54 [00:00<?, ? examples/s]"
      ]
     },
     "metadata": {},
     "output_type": "display_data"
    }
   ],
   "source": [
    "eval_dataset.save_to_disk(\"ueh_raptor\")"
   ]
  },
  {
   "cell_type": "code",
   "execution_count": 10,
   "id": "d0d1d1fc-32b1-4aa0-8105-a1d45e6939f8",
   "metadata": {},
   "outputs": [
    {
     "data": {
      "application/vnd.jupyter.widget-view+json": {
       "model_id": "65f930d1acd541c5b86f2622002754e0",
       "version_major": 2,
       "version_minor": 0
      },
      "text/plain": [
       "Uploading the dataset shards:   0%|          | 0/1 [00:00<?, ?it/s]"
      ]
     },
     "metadata": {},
     "output_type": "display_data"
    },
    {
     "data": {
      "application/vnd.jupyter.widget-view+json": {
       "model_id": "b99e52ccfb7446e1bf4d2b948ef977df",
       "version_major": 2,
       "version_minor": 0
      },
      "text/plain": [
       "Creating parquet from Arrow format:   0%|          | 0/1 [00:00<?, ?ba/s]"
      ]
     },
     "metadata": {},
     "output_type": "display_data"
    },
    {
     "data": {
      "application/vnd.jupyter.widget-view+json": {
       "model_id": "56c9a342481d40bf87edb685e7f6fbc0",
       "version_major": 2,
       "version_minor": 0
      },
      "text/plain": [
       "README.md:   0%|          | 0.00/4.53k [00:00<?, ?B/s]"
      ]
     },
     "metadata": {},
     "output_type": "display_data"
    },
    {
     "data": {
      "text/plain": [
       "CommitInfo(commit_url='https://huggingface.co/datasets/BroDeadlines/EVAL.RAG.UEH.evaluation/commit/0b9aea7977271f0cae56ab1424eea7c67e4d7a70', commit_message='Upload dataset', commit_description='', oid='0b9aea7977271f0cae56ab1424eea7c67e4d7a70', pr_url=None, pr_revision=None, pr_num=None)"
      ]
     },
     "execution_count": 10,
     "metadata": {},
     "output_type": "execute_result"
    }
   ],
   "source": [
    "eval_dataset.push_to_hub(\"BroDeadlines/EVAL.RAG.UEH.evaluation\", \"clean\")"
   ]
  },
  {
   "cell_type": "markdown",
   "id": "913b573d-7bb0-4ca1-ad18-c4d580603a9c",
   "metadata": {},
   "source": [
    "## Update shards"
   ]
  },
  {
   "cell_type": "markdown",
   "id": "9d589da4-546e-4862-895b-d024098c8dc4",
   "metadata": {},
   "source": [
    "### proposition"
   ]
  },
  {
   "cell_type": "code",
   "execution_count": 11,
   "id": "434ec7e3-c486-4145-90e2-71f42db322f2",
   "metadata": {},
   "outputs": [
    {
     "data": {
      "application/vnd.jupyter.widget-view+json": {
       "model_id": "185c53059f564ee799a528fb92151cf6",
       "version_major": 2,
       "version_minor": 0
      },
      "text/plain": [
       "Map:   0%|          | 0/54 [00:00<?, ? examples/s]"
      ]
     },
     "metadata": {},
     "output_type": "display_data"
    }
   ],
   "source": [
    "import json\n",
    "def meta(row):\n",
    "    row['metadata'] = json.dumps({\"shards\": 1})\n",
    "    return row\n",
    "eval_dataset = eval_dataset.map(meta)"
   ]
  },
  {
   "cell_type": "code",
   "execution_count": 12,
   "id": "25963f60-afc4-412b-bf23-1bb96230b22e",
   "metadata": {},
   "outputs": [],
   "source": [
    "test_ds = eval_dataset"
   ]
  },
  {
   "cell_type": "markdown",
   "id": "03d3c62b-723c-4e63-8234-c5dd40e22c13",
   "metadata": {},
   "source": [
    "### RAPTOR"
   ]
  },
  {
   "cell_type": "code",
   "execution_count": 15,
   "id": "c6036dfb-e518-4fb8-b8bc-08488e07f1cc",
   "metadata": {},
   "outputs": [],
   "source": [
    "CLUSTER_REPO = \"BroDeadlines/TEST.PART_CLUSTER.UEH.raptor.edu_data\"\n",
    "SUMMERIZE_REPO = \"BroDeadlines/TEST.PART_SUMMERIZE.UEH.raptor.edu_tdt_data\"\n",
    "SPLIT = \"train\"\n",
    "\n",
    "cluster_dataset =  load_dataset(CLUSTER_REPO, split=SPLIT)\n",
    "summerize_dataset =  load_dataset(SUMMERIZE_REPO, split=SPLIT)"
   ]
  },
  {
   "cell_type": "code",
   "execution_count": 20,
   "id": "ef36a4f1-0533-4bfb-98dc-5b59c4e5fc30",
   "metadata": {},
   "outputs": [
    {
     "data": {
      "text/plain": [
       "0"
      ]
     },
     "execution_count": 20,
     "metadata": {},
     "output_type": "execute_result"
    }
   ],
   "source": [
    "easy_shards = {}\n",
    "hard_shards = {}\n",
    "\n",
    "def get_shards_cluster2(row):\n",
    "    d_id = row['doc_ids']\n",
    "    if d_id not in hard_shards:\n",
    "        hard_shards[d_id] = row['hard_shards']\n",
    "        easy_shards[d_id] = row['easy_shards']\n",
    "    return row\n",
    "\n",
    "# cluster_dataset.filter(lambda row: row['level_id'] == \"tree_1\").map(get_shards_cluster_1)\n",
    "# summerize_dataset.map(get_shards_cluster_1)\n",
    "len(easy_shards)"
   ]
  },
  {
   "cell_type": "code",
   "execution_count": 21,
   "id": "d7e105fb-5b94-4f01-9ebc-d2e8d8c4b1ad",
   "metadata": {},
   "outputs": [
    {
     "data": {
      "application/vnd.jupyter.widget-view+json": {
       "model_id": "a1e3cadd7a594f80bd807e9c111a00ba",
       "version_major": 2,
       "version_minor": 0
      },
      "text/plain": [
       "Map:   0%|          | 0/690 [00:00<?, ? examples/s]"
      ]
     },
     "metadata": {},
     "output_type": "display_data"
    },
    {
     "data": {
      "text/plain": [
       "255"
      ]
     },
     "execution_count": 21,
     "metadata": {},
     "output_type": "execute_result"
    }
   ],
   "source": [
    "cluster_dataset.filter(lambda row: row['level_id'] == \"tree_1\").map(get_shards_cluster2)\n",
    "len(easy_shards)"
   ]
  },
  {
   "cell_type": "code",
   "execution_count": 22,
   "id": "26e2ec98-0aed-4aba-84f6-5ed0192e3b57",
   "metadata": {},
   "outputs": [
    {
     "data": {
      "application/vnd.jupyter.widget-view+json": {
       "model_id": "cbc00a4fa8c940daaeac0b37770bfe3a",
       "version_major": 2,
       "version_minor": 0
      },
      "text/plain": [
       "Map:   0%|          | 0/193 [00:00<?, ? examples/s]"
      ]
     },
     "metadata": {},
     "output_type": "display_data"
    },
    {
     "data": {
      "text/plain": [
       "440"
      ]
     },
     "execution_count": 22,
     "metadata": {},
     "output_type": "execute_result"
    }
   ],
   "source": [
    "summerize_dataset.map(get_shards_cluster2)\n",
    "len(easy_shards)"
   ]
  },
  {
   "cell_type": "code",
   "execution_count": 24,
   "id": "a7066bb1-7cfd-465b-afb3-844662bbc75d",
   "metadata": {},
   "outputs": [
    {
     "data": {
      "application/vnd.jupyter.widget-view+json": {
       "model_id": "3ddb2e38c31543679d641a45a7f7771d",
       "version_major": 2,
       "version_minor": 0
      },
      "text/plain": [
       "Map:   0%|          | 0/54 [00:00<?, ? examples/s]"
      ]
     },
     "metadata": {},
     "output_type": "display_data"
    },
    {
     "data": {
      "text/plain": [
       "Dataset({\n",
       "    features: ['question', 'answer', 'url', 'group', 'doc_id', 'exc_second', 'evaluation', 'metadata'],\n",
       "    num_rows: 54\n",
       "})"
      ]
     },
     "execution_count": 24,
     "metadata": {},
     "output_type": "execute_result"
    }
   ],
   "source": [
    "import json\n",
    "def update_shards(row):\n",
    "    id = row['doc_id']\n",
    "    return {**row, \"metadata\": json.dumps({\"easy_shards\": easy_shards[id], \"hard_shards\": hard_shards[id]})}\n",
    "\n",
    "test_ds_update = eval_dataset.map(update_shards)\n",
    "test_ds_update"
   ]
  },
  {
   "cell_type": "code",
   "execution_count": 27,
   "id": "06772560-f690-49eb-aa0d-88bd3e49b3b2",
   "metadata": {},
   "outputs": [
    {
     "data": {
      "application/vnd.jupyter.widget-view+json": {
       "model_id": "560157cd1d644bf380d74dcff8f5a578",
       "version_major": 2,
       "version_minor": 0
      },
      "text/plain": [
       "Uploading the dataset shards:   0%|          | 0/1 [00:00<?, ?it/s]"
      ]
     },
     "metadata": {},
     "output_type": "display_data"
    },
    {
     "data": {
      "application/vnd.jupyter.widget-view+json": {
       "model_id": "4f1ed929fdce495cbdbf8c7370ae8664",
       "version_major": 2,
       "version_minor": 0
      },
      "text/plain": [
       "Creating parquet from Arrow format:   0%|          | 0/1 [00:00<?, ?ba/s]"
      ]
     },
     "metadata": {},
     "output_type": "display_data"
    },
    {
     "data": {
      "application/vnd.jupyter.widget-view+json": {
       "model_id": "dbd56f95278941febb5c84b5d2c18a3d",
       "version_major": 2,
       "version_minor": 0
      },
      "text/plain": [
       "README.md:   0%|          | 0.00/3.15k [00:00<?, ?B/s]"
      ]
     },
     "metadata": {},
     "output_type": "display_data"
    },
    {
     "data": {
      "text/plain": [
       "CommitInfo(commit_url='https://huggingface.co/datasets/BroDeadlines/EVAL.RAG.UEH.evaluation/commit/d2ab09b895b68aa7aef2a6d31625ee02b7ca5dec', commit_message='Upload dataset', commit_description='', oid='d2ab09b895b68aa7aef2a6d31625ee02b7ca5dec', pr_url=None, pr_revision=None, pr_num=None)"
      ]
     },
     "execution_count": 27,
     "metadata": {},
     "output_type": "execute_result"
    }
   ],
   "source": [
    "test_ds_update.push_to_hub(\"BroDeadlines/EVAL.RAG.UEH.evaluation\", \"raptor\")"
   ]
  },
  {
   "cell_type": "markdown",
   "id": "fd0cd046-03c7-4bc5-b5e8-264cd80a4c4e",
   "metadata": {},
   "source": [
    "# Report"
   ]
  },
  {
   "cell_type": "code",
   "execution_count": 3,
   "id": "9b92d6a8-4a28-4bc5-9a22-cf5ec906c5ac",
   "metadata": {},
   "outputs": [
    {
     "data": {
      "application/vnd.jupyter.widget-view+json": {
       "model_id": "61736ff7ba694bbc956c8c10ed46903c",
       "version_major": 2,
       "version_minor": 0
      },
      "text/plain": [
       "Downloading readme:   0%|          | 0.00/4.53k [00:00<?, ?B/s]"
      ]
     },
     "metadata": {},
     "output_type": "display_data"
    },
    {
     "name": "stderr",
     "output_type": "stream",
     "text": [
      "Downloading data: 100%|███████████████████████████████████████████| 130k/130k [00:00<00:00, 133kB/s]\n"
     ]
    },
    {
     "data": {
      "application/vnd.jupyter.widget-view+json": {
       "model_id": "427ee0c3bb0447aab914fd24c43e8f31",
       "version_major": 2,
       "version_minor": 0
      },
      "text/plain": [
       "Generating train split:   0%|          | 0/54 [00:00<?, ? examples/s]"
      ]
     },
     "metadata": {},
     "output_type": "display_data"
    }
   ],
   "source": [
    "EVAL_REPO = \"BroDeadlines/EVAL.RAG.UEH.evaluation\"\n",
    "SUBSET = \"raptor\"\n",
    "eval_dataset = load_dataset(EVAL_REPO, SUBSET)"
   ]
  },
  {
   "cell_type": "code",
   "execution_count": 4,
   "id": "0776b733-31e8-4e74-a392-d8aac4af768c",
   "metadata": {},
   "outputs": [],
   "source": [
    "eval_dataset = eval_dataset['train']"
   ]
  },
  {
   "cell_type": "code",
   "execution_count": 12,
   "id": "1f4e49b5-2ba7-425d-8e0c-d18583418433",
   "metadata": {},
   "outputs": [
    {
     "data": {
      "text/plain": [
       "2"
      ]
     },
     "execution_count": 12,
     "metadata": {},
     "output_type": "execute_result"
    }
   ],
   "source": [
    "a = set([4,5])\n",
    "len(a)"
   ]
  },
  {
   "cell_type": "code",
   "execution_count": 13,
   "id": "ee0cbcae-2993-4529-92c0-1aaf12aafbd3",
   "metadata": {},
   "outputs": [],
   "source": [
    "import numpy as np\n",
    "\n",
    "count_docs = []\n",
    "for ques in eval_dataset['evaluation']:\n",
    "    docs = [q['doc_id'] for q in ques]\n",
    "    doc_set = set(docs)\n",
    "    count_docs.append(len(doc_set))"
   ]
  },
  {
   "cell_type": "code",
   "execution_count": 13,
   "id": "e0f0240d-57d5-448f-a02d-963050d8cefc",
   "metadata": {},
   "outputs": [
    {
     "name": "stderr",
     "output_type": "stream",
     "text": [
      "/home/h4438/miniconda3/envs/uni/lib/python3.9/site-packages/nltk/translate/bleu_score.py:552: UserWarning: \n",
      "The hypothesis contains 0 counts of 3-gram overlaps.\n",
      "Therefore the BLEU score evaluates to 0, independently of\n",
      "how many N-gram overlaps of lower order it contains.\n",
      "Consider using lower n-gram order or use SmoothingFunction()\n",
      "  warnings.warn(_msg)\n",
      "/home/h4438/miniconda3/envs/uni/lib/python3.9/site-packages/nltk/translate/bleu_score.py:552: UserWarning: \n",
      "The hypothesis contains 0 counts of 4-gram overlaps.\n",
      "Therefore the BLEU score evaluates to 0, independently of\n",
      "how many N-gram overlaps of lower order it contains.\n",
      "Consider using lower n-gram order or use SmoothingFunction()\n",
      "  warnings.warn(_msg)\n",
      "/home/h4438/miniconda3/envs/uni/lib/python3.9/site-packages/nltk/translate/bleu_score.py:552: UserWarning: \n",
      "The hypothesis contains 0 counts of 2-gram overlaps.\n",
      "Therefore the BLEU score evaluates to 0, independently of\n",
      "how many N-gram overlaps of lower order it contains.\n",
      "Consider using lower n-gram order or use SmoothingFunction()\n",
      "  warnings.warn(_msg)\n"
     ]
    }
   ],
   "source": [
    "from src.utils.eval_utils import evaluate_IR, calculate_BLEU, calculate_ROUGE,evaluate_IR_RAPTOR\n",
    "\n",
    "preds = eval_dataset['answer']\n",
    "grounds = qa_dataset['answer']\n",
    "len(preds) == len(grounds)\n",
    "\n",
    "bleu = calculate_BLEU(grounds=grounds, preds=preds)\n",
    "# bleu\n",
    "rouge = calculate_ROUGE(grounds=grounds, preds=preds)"
   ]
  },
  {
   "cell_type": "markdown",
   "id": "6791afd4-6758-4e46-ae11-000a460416d8",
   "metadata": {},
   "source": [
    "### RAPTOR"
   ]
  },
  {
   "cell_type": "code",
   "execution_count": 14,
   "id": "58065103-8e82-4266-bd0a-ae696b1c780a",
   "metadata": {},
   "outputs": [
    {
     "ename": "KeyError",
     "evalue": "'hard_shards'",
     "output_type": "error",
     "traceback": [
      "\u001b[0;31m---------------------------------------------------------------------------\u001b[0m",
      "\u001b[0;31mKeyError\u001b[0m                                  Traceback (most recent call last)",
      "Cell \u001b[0;32mIn[14], line 6\u001b[0m\n\u001b[1;32m      3\u001b[0m t_to \u001b[38;5;241m=\u001b[39m \u001b[38;5;241m8\u001b[39m\n\u001b[1;32m      5\u001b[0m \u001b[38;5;28;01mfor\u001b[39;00m i \u001b[38;5;129;01min\u001b[39;00m \u001b[38;5;28mrange\u001b[39m(t_from, t_to\u001b[38;5;241m+\u001b[39m\u001b[38;5;241m1\u001b[39m):\n\u001b[0;32m----> 6\u001b[0m     res \u001b[38;5;241m=\u001b[39m \u001b[43mevaluate_IR_RAPTOR\u001b[49m\u001b[43m(\u001b[49m\u001b[43meval_dataset\u001b[49m\u001b[38;5;241;43m=\u001b[39;49m\u001b[43meval_dataset\u001b[49m\u001b[43m,\u001b[49m\u001b[43m \u001b[49m\u001b[43mlimit_k\u001b[49m\u001b[38;5;241;43m=\u001b[39;49m\u001b[43mi\u001b[49m\u001b[43m,\u001b[49m\u001b[43m \u001b[49m\u001b[43mshard_key\u001b[49m\u001b[38;5;241;43m=\u001b[39;49m\u001b[38;5;124;43m'\u001b[39;49m\u001b[38;5;124;43mhard_shards\u001b[39;49m\u001b[38;5;124;43m'\u001b[39;49m\u001b[43m)\u001b[49m\n\u001b[1;32m      7\u001b[0m     \u001b[38;5;28;01mdel\u001b[39;00m res[\u001b[38;5;124m'\u001b[39m\u001b[38;5;124mrelevant\u001b[39m\u001b[38;5;124m'\u001b[39m]\n\u001b[1;32m      8\u001b[0m     data[\u001b[38;5;124mf\u001b[39m\u001b[38;5;124m'\u001b[39m\u001b[38;5;124mk_\u001b[39m\u001b[38;5;132;01m{\u001b[39;00mi\u001b[38;5;132;01m}\u001b[39;00m\u001b[38;5;124m'\u001b[39m] \u001b[38;5;241m=\u001b[39m res\n",
      "File \u001b[0;32m~/Desktop/graduate/WebQA/core/experiments/evaluation/../../src/utils/eval_utils.py:192\u001b[0m, in \u001b[0;36mevaluate_IR_RAPTOR\u001b[0;34m(eval_dataset, limit_k, shard_key)\u001b[0m\n\u001b[1;32m    190\u001b[0m     \u001b[38;5;28;01mcontinue\u001b[39;00m\n\u001b[1;32m    191\u001b[0m target_id \u001b[38;5;241m=\u001b[39m row[\u001b[38;5;124m'\u001b[39m\u001b[38;5;124mdoc_id\u001b[39m\u001b[38;5;124m'\u001b[39m]\n\u001b[0;32m--> 192\u001b[0m shards \u001b[38;5;241m=\u001b[39m \u001b[43mjson\u001b[49m\u001b[38;5;241;43m.\u001b[39;49m\u001b[43mloads\u001b[49m\u001b[43m(\u001b[49m\u001b[43mrow\u001b[49m\u001b[43m[\u001b[49m\u001b[38;5;124;43m'\u001b[39;49m\u001b[38;5;124;43mmetadata\u001b[39;49m\u001b[38;5;124;43m'\u001b[39;49m\u001b[43m]\u001b[49m\u001b[43m)\u001b[49m\u001b[43m[\u001b[49m\u001b[43mshard_key\u001b[49m\u001b[43m]\u001b[49m\n\u001b[1;32m    193\u001b[0m num_relevant \u001b[38;5;241m+\u001b[39m\u001b[38;5;241m=\u001b[39m shards\n\u001b[1;32m    194\u001b[0m re_doc_ids \u001b[38;5;241m=\u001b[39m []\n",
      "\u001b[0;31mKeyError\u001b[0m: 'hard_shards'"
     ]
    }
   ],
   "source": [
    "data = {}\n",
    "t_from = 6\n",
    "t_to = 8\n",
    "\n",
    "for i in range(t_from, t_to+1):\n",
    "    res = evaluate_IR_RAPTOR(eval_dataset=eval_dataset, limit_k=i, shard_key='hard_shards')\n",
    "    del res['relevant']\n",
    "    data[f'k_{i}'] = res\n",
    "data"
   ]
  },
  {
   "cell_type": "markdown",
   "id": "daaf000d-bef3-48cb-a676-9513369ac3d7",
   "metadata": {},
   "source": [
    "### Normal"
   ]
  },
  {
   "cell_type": "code",
   "execution_count": 16,
   "id": "4072004f-dfd8-4f11-8009-e512c6953645",
   "metadata": {},
   "outputs": [
    {
     "data": {
      "text/plain": [
       "{'k_6': {'precision': 0.5425531914893617,\n",
       "  'recall': 0.9444444444444444,\n",
       "  'map_score': 0.2328703703703704,\n",
       "  'relevant_retrieved': 51,\n",
       "  'num_retrieved': 94},\n",
       " 'k_7': {'precision': 0.5555555555555556,\n",
       "  'recall': 1.0185185185185186,\n",
       "  'map_score': 0.23323360208280844,\n",
       "  'relevant_retrieved': 55,\n",
       "  'num_retrieved': 99},\n",
       " 'k_8': {'precision': 0.5544554455445545,\n",
       "  'recall': 1.037037037037037,\n",
       "  'map_score': 0.2319475938523558,\n",
       "  'relevant_retrieved': 56,\n",
       "  'num_retrieved': 101}}"
      ]
     },
     "execution_count": 16,
     "metadata": {},
     "output_type": "execute_result"
    }
   ],
   "source": [
    "data = {}\n",
    "t_from = 6\n",
    "t_to = 8\n",
    "\n",
    "for i in range(t_from, t_to+1):\n",
    "    res = evaluate_IR(eval_dataset=eval_dataset, limit_k=i, shard_key='shards')\n",
    "    del res['relevant']\n",
    "    data[f'k_{i}'] = res\n",
    "data"
   ]
  },
  {
   "cell_type": "code",
   "execution_count": 17,
   "id": "a6d0ebdf-86d5-4610-afbc-5415d6669dae",
   "metadata": {},
   "outputs": [],
   "source": [
    "import numpy as np\n",
    "time = eval_dataset['exc_second']\n",
    "time_np = np.array(time)"
   ]
  },
  {
   "cell_type": "code",
   "execution_count": 13,
   "id": "b7638ee6-1c9a-4347-a415-e2b97166f005",
   "metadata": {},
   "outputs": [
    {
     "ename": "NameError",
     "evalue": "name 'config' is not defined",
     "output_type": "error",
     "traceback": [
      "\u001b[0;31m---------------------------------------------------------------------------\u001b[0m",
      "\u001b[0;31mNameError\u001b[0m                                 Traceback (most recent call last)",
      "Cell \u001b[0;32mIn[13], line 1\u001b[0m\n\u001b[0;32m----> 1\u001b[0m es \u001b[38;5;241m=\u001b[39m provider\u001b[38;5;241m.\u001b[39mget_elasticsearch_store(index\u001b[38;5;241m=\u001b[39m\u001b[43mconfig\u001b[49m[\u001b[38;5;124m'\u001b[39m\u001b[38;5;124mvec_index\u001b[39m\u001b[38;5;124m'\u001b[39m])\n",
      "\u001b[0;31mNameError\u001b[0m: name 'config' is not defined"
     ]
    }
   ],
   "source": [
    "es = provider.get_elasticsearch_store(index=config['vec_index'])"
   ]
  },
  {
   "cell_type": "code",
   "execution_count": 14,
   "id": "30ad271c-1626-471a-a116-e004851514ee",
   "metadata": {},
   "outputs": [
    {
     "ename": "FileNotFoundError",
     "evalue": "[Errno 2] No such file or directory: '/home/h4438/Desktop/graduate/WebQA/core/experiments/evaluation/../../src/service/../.keys/elastic.nodes'",
     "output_type": "error",
     "traceback": [
      "\u001b[0;31m---------------------------------------------------------------------------\u001b[0m",
      "\u001b[0;31mFileNotFoundError\u001b[0m                         Traceback (most recent call last)",
      "Cell \u001b[0;32mIn[14], line 1\u001b[0m\n\u001b[0;32m----> 1\u001b[0m es_connect \u001b[38;5;241m=\u001b[39m \u001b[43mprovider\u001b[49m\u001b[38;5;241;43m.\u001b[39;49m\u001b[43mconfig\u001b[49m\u001b[38;5;241;43m.\u001b[39;49m\u001b[43mload_elasticsearch_connection\u001b[49m\u001b[43m(\u001b[49m\u001b[43m)\u001b[49m\n\u001b[1;32m      3\u001b[0m es_connect\n",
      "File \u001b[0;32m~/Desktop/graduate/WebQA/core/experiments/evaluation/../../src/service/config.py:91\u001b[0m, in \u001b[0;36mConfigurationService.load_elasticsearch_connection\u001b[0;34m(self)\u001b[0m\n\u001b[1;32m     85\u001b[0m \u001b[38;5;28;01mdef\u001b[39;00m \u001b[38;5;21mload_elasticsearch_connection\u001b[39m(\u001b[38;5;28mself\u001b[39m) \u001b[38;5;241m-\u001b[39m\u001b[38;5;241m>\u001b[39m Elasticsearch:\n\u001b[1;32m     86\u001b[0m \u001b[38;5;250m    \u001b[39m\u001b[38;5;124;03m\"\"\"\u001b[39;00m\n\u001b[1;32m     87\u001b[0m \u001b[38;5;124;03m        load elastic search connection from hosted cloud\u001b[39;00m\n\u001b[1;32m     88\u001b[0m \n\u001b[1;32m     89\u001b[0m \u001b[38;5;124;03m        @return a es connection\u001b[39;00m\n\u001b[1;32m     90\u001b[0m \u001b[38;5;124;03m    \"\"\"\u001b[39;00m\n\u001b[0;32m---> 91\u001b[0m     \u001b[38;5;28;01mwith\u001b[39;00m \u001b[38;5;28;43mopen\u001b[39;49m\u001b[43m(\u001b[49m\u001b[38;5;124;43mf\u001b[39;49m\u001b[38;5;124;43m\"\u001b[39;49m\u001b[38;5;132;43;01m{\u001b[39;49;00m\u001b[38;5;28;43mself\u001b[39;49m\u001b[38;5;241;43m.\u001b[39;49m\u001b[43menv_path\u001b[49m\u001b[38;5;132;43;01m}\u001b[39;49;00m\u001b[38;5;124;43m/../.keys/elastic.nodes\u001b[39;49m\u001b[38;5;124;43m\"\u001b[39;49m\u001b[43m)\u001b[49m \u001b[38;5;28;01mas\u001b[39;00m f:\n\u001b[1;32m     92\u001b[0m         nodes \u001b[38;5;241m=\u001b[39m f\u001b[38;5;241m.\u001b[39mreadlines()\n\u001b[1;32m     93\u001b[0m     \u001b[38;5;28;01mwith\u001b[39;00m \u001b[38;5;28mopen\u001b[39m(\u001b[38;5;124mf\u001b[39m\u001b[38;5;124m\"\u001b[39m\u001b[38;5;132;01m{\u001b[39;00m\u001b[38;5;28mself\u001b[39m\u001b[38;5;241m.\u001b[39menv_path\u001b[38;5;132;01m}\u001b[39;00m\u001b[38;5;124m/../.keys/elastic.auth\u001b[39m\u001b[38;5;124m\"\u001b[39m) \u001b[38;5;28;01mas\u001b[39;00m f:\n",
      "\u001b[0;31mFileNotFoundError\u001b[0m: [Errno 2] No such file or directory: '/home/h4438/Desktop/graduate/WebQA/core/experiments/evaluation/../../src/service/../.keys/elastic.nodes'"
     ]
    }
   ],
   "source": [
    "es_connect = provider.config.load_elasticsearch_connection()\n",
    "\n",
    "es_connect"
   ]
  },
  {
   "cell_type": "code",
   "execution_count": 18,
   "id": "3a663828-b421-40da-a09a-f4ad03227713",
   "metadata": {},
   "outputs": [
    {
     "name": "stdout",
     "output_type": "stream",
     "text": [
      "{\n",
      "  \"QA\": {\n",
      "    \"repo\": \"BroDeadlines/QA.UEH.QA_tu_van_tuyen_sinh\",\n",
      "    \"split\": \"train\",\n",
      "    \"size\": 54,\n",
      "    \"total_time(minute)\": 21.167,\n",
      "    \"median_time(second)\": 23.754,\n",
      "    \"avg_time(second)\": 23.519\n",
      "  },\n",
      "  \"RAG\": {\n",
      "    \"algo\": [\n",
      "      \"proposition\",\n",
      "      \"parent retriever\",\n",
      "      \"hybrid search\"\n",
      "    ],\n",
      "    \"llm\": \"gemini-1.0-pro\",\n",
      "    \"total_k\": 8,\n",
      "    \"txt_weight\": 0.5,\n",
      "    \"vec_weight\": 0.5,\n",
      "    \"vec_index\": \"vec-sentence-ueh-unique\",\n",
      "    \"txt_index\": \"text-sentence-ueh-unique\",\n",
      "    \"es_size\": 883\n",
      "  },\n",
      "  \"IR\": {\n",
      "    \"k_6\": {\n",
      "      \"precision\": 0.5425531914893617,\n",
      "      \"recall\": 0.9444444444444444,\n",
      "      \"map_score\": 0.2328703703703704,\n",
      "      \"relevant_retrieved\": 51,\n",
      "      \"num_retrieved\": 94\n",
      "    },\n",
      "    \"k_7\": {\n",
      "      \"precision\": 0.5555555555555556,\n",
      "      \"recall\": 1.0185185185185186,\n",
      "      \"map_score\": 0.23323360208280844,\n",
      "      \"relevant_retrieved\": 55,\n",
      "      \"num_retrieved\": 99\n",
      "    },\n",
      "    \"k_8\": {\n",
      "      \"precision\": 0.5544554455445545,\n",
      "      \"recall\": 1.037037037037037,\n",
      "      \"map_score\": 0.2319475938523558,\n",
      "      \"relevant_retrieved\": 56,\n",
      "      \"num_retrieved\": 101\n",
      "    }\n",
      "  },\n",
      "  \"BLEU\": {\n",
      "    \"BLEU_4_avg\": 0.063,\n",
      "    \"BLEU_4_median\": 0.0,\n",
      "    \"BLEU_avg\": 0.105,\n",
      "    \"BLEU_median\": 0.017\n",
      "  },\n",
      "  \"ROUGE-L\": {\n",
      "    \"ROUGE_L_precision_avg\": 0.669,\n",
      "    \"ROUGE_L_precision_median\": 0.685,\n",
      "    \"ROUGE_L_recall_avg\": 0.221,\n",
      "    \"ROUGE_L_recall_median\": 0.172,\n",
      "    \"ROUGE_L_fmeasure_avg\": 0.288,\n",
      "    \"ROUGE_L_fmeasure_median\": 0.255\n",
      "  }\n",
      "}\n"
     ]
    }
   ],
   "source": [
    "import json\n",
    "\n",
    "ALGO = ['proposition', 'parent retriever', 'hybrid search']\n",
    "ES_SIZE = 883\n",
    "\n",
    "a = {\n",
    "    \"QA\": {\"repo\": QA_REPO, \"split\": QA_SPLIT,\n",
    "           \"size\": qa_dataset.num_rows, \n",
    "           \"total_time(minute)\": round(time_np.sum() / 60, 3), \n",
    "           \"median_time(second)\": round(np.median(time_np), 3),\n",
    "           \"avg_time(second)\": round(time_np.mean(), 3)},\n",
    "    \"RAG\": {\"algo\": ALGO, **config, \"es_size\": ES_SIZE},\n",
    "    \"IR\": data,\n",
    "    \"BLEU\": bleu,\n",
    "    \"ROUGE-L\": rouge\n",
    "}\n",
    " \n",
    "json_formatted_str = json.dumps(a, indent=2)\n",
    "print(json_formatted_str)"
   ]
  },
  {
   "cell_type": "code",
   "execution_count": null,
   "id": "5268de2e-516d-458e-8615-962fccdfff19",
   "metadata": {},
   "outputs": [],
   "source": []
  }
 ],
 "metadata": {
  "kernelspec": {
   "display_name": "Python 3 (ipykernel)",
   "language": "python",
   "name": "python3"
  },
  "language_info": {
   "codemirror_mode": {
    "name": "ipython",
    "version": 3
   },
   "file_extension": ".py",
   "mimetype": "text/x-python",
   "name": "python",
   "nbconvert_exporter": "python",
   "pygments_lexer": "ipython3",
   "version": "3.9.18"
  }
 },
 "nbformat": 4,
 "nbformat_minor": 5
}
