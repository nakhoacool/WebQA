{
 "cells": [
  {
   "cell_type": "markdown",
   "id": "2e21da2d-f63d-4de5-a680-11dcfa0ce358",
   "metadata": {},
   "source": [
    "# Experiment\n",
    "- Hybrid search\n",
    "- Doc split\n",
    "\n",
    "Reference: https://python.langchain.com/docs/modules/data_connection/retrievers/ensemble"
   ]
  },
  {
   "cell_type": "markdown",
   "id": "bbe2f135-d790-4829-9f63-490446a45e3c",
   "metadata": {},
   "source": [
    "# Config"
   ]
  },
  {
   "cell_type": "code",
   "execution_count": 1,
   "id": "ee4d282a-4bca-4bd0-adff-2905184eee69",
   "metadata": {},
   "outputs": [],
   "source": [
    "WEIGHTS = [0.5, 0.5]\n",
    "K = 1\n",
    "INDEX = \"labse-major\"\n",
    "# INDEX = \"gemini-major\"\n",
    "\n",
    "MODEL = \"sentence-transformers/LaBSE\"\n",
    "# MODEL = \"models/embedding-001\"\n",
    "\n",
    "DIST = \"EUCLIDEAN_DISTANCE\"\n",
    "\n",
    "META = {\n",
    "    \"model\": MODEL,\n",
    "    \"doc_size\": 460,\n",
    "    \"doc_overlap\": 20,\n",
    "    \"bm25-weight\": WEIGHTS[0],\n",
    "    \"elastic-weight\": WEIGHTS[1],\n",
    "    \"index\": INDEX,\n",
    "    \"top k\": K,\n",
    "    \"distance\": DIST, \n",
    "    \"technique\": f\"{MODEL} + Hybrid\"\n",
    "}"
   ]
  },
  {
   "cell_type": "markdown",
   "id": "19ff3ebd-7bb7-4613-8f27-42886256ea9d",
   "metadata": {},
   "source": [
    "# My code"
   ]
  },
  {
   "cell_type": "code",
   "execution_count": 2,
   "id": "bb4998e0-191c-457f-9b94-001697d4f738",
   "metadata": {},
   "outputs": [
    {
     "name": "stderr",
     "output_type": "stream",
     "text": [
      "/home/h4438/miniconda3/envs/uni/lib/python3.9/site-packages/tqdm/auto.py:21: TqdmWarning: IProgress not found. Please update jupyter and ipywidgets. See https://ipywidgets.readthedocs.io/en/stable/user_install.html\n",
      "  from .autonotebook import tqdm as notebook_tqdm\n"
     ]
    },
    {
     "name": "stdout",
     "output_type": "stream",
     "text": [
      "From (44, 5) to 44\n",
      "From (11, 4) to 11\n"
     ]
    }
   ],
   "source": [
    "# import\n",
    "import sys\n",
    "sys.path.append(\"../\")\n",
    "\n",
    "from src.rag.hybrid_rag import HybridGeminiRAG\n",
    "from src.service.provider import ProviderService\n",
    "services = ProviderService()\n",
    "\n",
    "major = services.get_categories().major\n",
    "rag = HybridGeminiRAG(\n",
    "    provider=services, \n",
    "    rag_config=services.get_categories().major, \n",
    "    update_notification_func=lambda x: x)\n",
    "\n",
    "ensemble_retriever = rag.ensemble_retriever"
   ]
  },
  {
   "cell_type": "markdown",
   "id": "66575a30-9584-44ac-a3ef-b7c0b58b252e",
   "metadata": {},
   "source": [
    "# Test"
   ]
  },
  {
   "cell_type": "code",
   "execution_count": 3,
   "id": "039d6dcc-742a-4881-8111-0f4ac72dc948",
   "metadata": {},
   "outputs": [
    {
     "name": "stdout",
     "output_type": "stream",
     "text": [
      "config.txt  hard_private_test_case.csv\tpublic_test_case.csv\n",
      "docs.csv    private_test_case.csv\tsample_test_case.csv\n"
     ]
    }
   ],
   "source": [
    "from src.tests.retriever_eval import RetrieverEvaluation\n",
    "eval = RetrieverEvaluation(root_path=\"../data\", test_folder=\"test_major\", save_path=\"./results\")\n",
    "\n",
    "!ls ../data/test_major"
   ]
  },
  {
   "cell_type": "markdown",
   "id": "bfa75e5d-22a6-4e45-88ff-d540c819e0c7",
   "metadata": {},
   "source": [
    "# Labse"
   ]
  },
  {
   "cell_type": "code",
   "execution_count": 4,
   "id": "c625d3c3-e143-4cbc-bc51-66c2f083658d",
   "metadata": {},
   "outputs": [],
   "source": [
    "eval.eval_sample(\"sample_hybrid_docsplit.txt\", ensemble_retriever, META)"
   ]
  },
  {
   "cell_type": "code",
   "execution_count": 4,
   "id": "66792603-da00-4af8-8641-d93f7c68c66d",
   "metadata": {},
   "outputs": [],
   "source": [
    "eval.eval_public(\"labse_major_hybrid_public_docsplit.txt\", ensemble_retriever, META)"
   ]
  },
  {
   "cell_type": "code",
   "execution_count": 4,
   "id": "b3abc572-22f3-4050-af25-e5565a7411b0",
   "metadata": {},
   "outputs": [],
   "source": [
    "eval.eval_private_hard(\"labse_major_hybrid_hard_private_docsplit.txt\", ensemble_retriever, META)"
   ]
  },
  {
   "cell_type": "markdown",
   "id": "faa40611",
   "metadata": {},
   "source": [
    "# BM25"
   ]
  },
  {
   "cell_type": "code",
   "execution_count": 4,
   "id": "69663f51",
   "metadata": {},
   "outputs": [],
   "source": [
    "bm25 = rag.bm25"
   ]
  },
  {
   "cell_type": "code",
   "execution_count": 5,
   "id": "893d578b",
   "metadata": {},
   "outputs": [],
   "source": [
    "eval.eval_sample(\"sample_bm25_docsplit.txt\", bm25, META)"
   ]
  },
  {
   "cell_type": "code",
   "execution_count": 6,
   "id": "fb9edf4b",
   "metadata": {},
   "outputs": [],
   "source": [
    "eval.eval_public(\"public_bm25_docsplit.txt\", bm25, META)"
   ]
  },
  {
   "cell_type": "code",
   "execution_count": 7,
   "id": "a8b32a56",
   "metadata": {},
   "outputs": [],
   "source": [
    "eval.eval_private_hard(\"private_bm25_docsplit.txt\", bm25, META)"
   ]
  },
  {
   "cell_type": "markdown",
   "id": "b90a7688-005e-43eb-8fdb-fe8c182972ac",
   "metadata": {},
   "source": [
    "# Gemini"
   ]
  },
  {
   "cell_type": "code",
   "execution_count": 6,
   "id": "040c199e-1320-4eff-8dce-af108f7a639d",
   "metadata": {},
   "outputs": [],
   "source": [
    "eval.eval_public(\"gemini_major_hybrid_public_docsplit.txt\", ensemble_retriever, META)"
   ]
  },
  {
   "cell_type": "code",
   "execution_count": 7,
   "id": "95d2fea6-bce6-4993-be98-80a692b1ad92",
   "metadata": {},
   "outputs": [],
   "source": [
    "eval.eval_private_hard(\"gemini_major_hybrid_hard_private_docsplit.txt\", ensemble_retriever, META)"
   ]
  }
 ],
 "metadata": {
  "kernelspec": {
   "display_name": "Python 3 (ipykernel)",
   "language": "python",
   "name": "python3"
  },
  "language_info": {
   "codemirror_mode": {
    "name": "ipython",
    "version": 3
   },
   "file_extension": ".py",
   "mimetype": "text/x-python",
   "name": "python",
   "nbconvert_exporter": "python",
   "pygments_lexer": "ipython3",
   "version": "3.9.18"
  }
 },
 "nbformat": 4,
 "nbformat_minor": 5
}
