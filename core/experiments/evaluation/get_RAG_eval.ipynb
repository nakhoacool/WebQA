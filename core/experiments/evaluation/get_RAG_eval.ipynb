{
 "cells": [
  {
   "cell_type": "markdown",
   "id": "19f80025-e95c-4c57-bf3d-95eb239d47d3",
   "metadata": {},
   "source": [
    "# GET Evaluation"
   ]
  },
  {
   "cell_type": "code",
   "execution_count": 11,
   "id": "401c2cb9-a658-461a-a977-7f7fbd82735a",
   "metadata": {},
   "outputs": [],
   "source": [
    "import sys\n",
    "sys.path.append(\"../..\")\n",
    "from datasets import load_dataset\n",
    "from src.service.provider import ProviderService\n",
    "provider = ProviderService()"
   ]
  },
  {
   "cell_type": "code",
   "execution_count": 12,
   "id": "d4dc36f9-80e3-485f-8b04-7bea5193c33b",
   "metadata": {},
   "outputs": [
    {
     "data": {
      "text/plain": [
       "Dataset({\n",
       "    features: ['question', 'answer', 'url', 'group', 'doc_id', 'metadata'],\n",
       "    num_rows: 144\n",
       "})"
      ]
     },
     "execution_count": 12,
     "metadata": {},
     "output_type": "execute_result"
    }
   ],
   "source": [
    "QA_REPO = \"BroDeadlines/QA.TDT.FQA_tu_van_hoc_duong\"\n",
    "QA_SPLIT = \"INDEX.medium_index_TDT\"\n",
    "qa_dataset = load_dataset(QA_REPO, split=QA_SPLIT)\n",
    "qa_dataset"
   ]
  },
  {
   "cell_type": "code",
   "execution_count": 13,
   "id": "19acf0ff-7a2c-49e0-89ca-616a634c63de",
   "metadata": {},
   "outputs": [
    {
     "data": {
      "application/vnd.jupyter.widget-view+json": {
       "model_id": "3b7951ee8ee044a9a9687ddca333b778",
       "version_major": 2,
       "version_minor": 0
      },
      "text/plain": [
       "Downloading readme:   0%|          | 0.00/7.96k [00:00<?, ?B/s]"
      ]
     },
     "metadata": {},
     "output_type": "display_data"
    },
    {
     "name": "stderr",
     "output_type": "stream",
     "text": [
      "Downloading data: 100%|████████████████████████████████████████| 49.2k/49.2k [00:00<00:00, 58.7kB/s]\n"
     ]
    },
    {
     "data": {
      "application/vnd.jupyter.widget-view+json": {
       "model_id": "d56be1386cfa48b5a4401451bf1a0a01",
       "version_major": 2,
       "version_minor": 0
      },
      "text/plain": [
       "Generating INDEX.medium_index_TDT split:   0%|          | 0/144 [00:00<?, ? examples/s]"
      ]
     },
     "metadata": {},
     "output_type": "display_data"
    }
   ],
   "source": [
    "EVAL_REPO = \"BroDeadlines/EVAL.NEW.raptor.IR_evaluation\"\n",
    "SUBSET = \"raptor_no_hyde_k8\"\n",
    "# SPLIT = \"TEST.Hyde.medium_tdt_raptor_vi\"\n",
    "# eval_dataset = load_dataset(EVAL_REPO, split=SPLIT)\n",
    "eval_dataset = load_dataset(EVAL_REPO, SUBSET)"
   ]
  },
  {
   "cell_type": "code",
   "execution_count": 15,
   "id": "d7263d9f-e316-4378-a63a-9ebd3dcab707",
   "metadata": {},
   "outputs": [],
   "source": [
    "eval_dataset = eval_dataset['INDEX.medium_index_TDT']"
   ]
  },
  {
   "cell_type": "code",
   "execution_count": 16,
   "id": "8f074bcf-9f23-4c4c-b6c6-dd74e1e6a5c2",
   "metadata": {},
   "outputs": [
    {
     "data": {
      "text/plain": [
       "{'llm': 'gemini-1.0-pro',\n",
       " 'total_k': 8,\n",
       " 'txt_weight': 0.5,\n",
       " 'vec_weight': 0.5,\n",
       " 'vec_index': 'vec-raptor-medium_index_tdt_vi',\n",
       " 'txt_index': 'text-raptor-medium_index_tdt_vi'}"
      ]
     },
     "execution_count": 16,
     "metadata": {},
     "output_type": "execute_result"
    }
   ],
   "source": [
    "from src.utils.type_utils import get_default_config\n",
    "\n",
    "config = get_default_config()\n",
    "\n",
    "config['vec_index'] = \"vec-raptor-medium_index_tdt_vi\"\n",
    "config['txt_index'] = \"text-raptor-medium_index_tdt_vi\"\n",
    "\n",
    "config['total_k'] = 8\n",
    "config['llm'] = \"gemini-1.0-pro\"\n",
    "config"
   ]
  },
  {
   "cell_type": "code",
   "execution_count": 17,
   "id": "7b0e43f9-aa98-4ed6-9952-8db891f6b57c",
   "metadata": {},
   "outputs": [],
   "source": [
    "import numpy as np\n",
    "\n",
    "count_docs = []\n",
    "for ques in eval_dataset['evaluation']:\n",
    "    docs = [q['doc_id'] for q in ques]\n",
    "    doc_set = set(docs)\n",
    "    count_docs.append(len(doc_set))"
   ]
  },
  {
   "cell_type": "code",
   "execution_count": 18,
   "id": "5c46c791-1c6a-4a77-961a-572f5cb67cbe",
   "metadata": {},
   "outputs": [],
   "source": [
    "from src.utils.eval_utils import evaluate_IR, calculate_BLEU, calculate_ROUGE,evaluate_IR_RAPTOR\n",
    "\n",
    "preds = eval_dataset['answer']\n",
    "grounds = qa_dataset['answer']\n",
    "len(preds) == len(grounds)\n",
    "\n",
    "bleu = calculate_BLEU(grounds=grounds, preds=preds)\n",
    "# bleu\n",
    "rouge = calculate_ROUGE(grounds=grounds, preds=preds)"
   ]
  },
  {
   "cell_type": "markdown",
   "id": "013b1538-d0bb-49b2-8a39-f1b8fa9e6b04",
   "metadata": {},
   "source": [
    "## RAPTOR"
   ]
  },
  {
   "cell_type": "code",
   "execution_count": 19,
   "id": "ea8ce333-992c-4273-ad80-c4a390a075fb",
   "metadata": {},
   "outputs": [
    {
     "data": {
      "text/plain": [
       "{'k_6': {'precision': 0.269,\n",
       "  'recall': 0.034,\n",
       "  'map_score': 0.081,\n",
       "  'relevant_retrieved': 21,\n",
       "  'num_retrieved': 78},\n",
       " 'k_7': {'precision': 0.31,\n",
       "  'recall': 0.043,\n",
       "  'map_score': 0.085,\n",
       "  'relevant_retrieved': 26,\n",
       "  'num_retrieved': 84},\n",
       " 'k_8': {'precision': 0.33,\n",
       "  'recall': 0.048,\n",
       "  'map_score': 0.087,\n",
       "  'relevant_retrieved': 29,\n",
       "  'num_retrieved': 88}}"
      ]
     },
     "execution_count": 19,
     "metadata": {},
     "output_type": "execute_result"
    }
   ],
   "source": [
    "data = {}\n",
    "t_from = 6\n",
    "t_to = 8\n",
    "\n",
    "for i in range(t_from, t_to+1):\n",
    "    res = evaluate_IR_RAPTOR(eval_dataset=eval_dataset, limit_k=i, shard_key='hard_shards')\n",
    "    del res['relevant']\n",
    "    data[f'k_{i}'] = res\n",
    "data"
   ]
  },
  {
   "cell_type": "markdown",
   "id": "0af58b7a-da09-4723-a076-798a9daf0dd8",
   "metadata": {},
   "source": [
    "## Normal"
   ]
  },
  {
   "cell_type": "code",
   "execution_count": 21,
   "id": "942dcf62-953e-489f-9609-fea1bfcc8308",
   "metadata": {},
   "outputs": [
    {
     "data": {
      "text/plain": [
       "{'k_6': {'precision': 0.5483870967741935,\n",
       "  'recall': 0.1186046511627907,\n",
       "  'map_score': 0.27515432098765435,\n",
       "  'relevant_retrieved': 51,\n",
       "  'num_retrieved': 93},\n",
       " 'k_7': {'precision': 0.5612244897959183,\n",
       "  'recall': 0.12790697674418605,\n",
       "  'map_score': 0.2694622910892753,\n",
       "  'relevant_retrieved': 55,\n",
       "  'num_retrieved': 98},\n",
       " 'k_8': {'precision': 0.5656565656565656,\n",
       "  'recall': 0.13023255813953488,\n",
       "  'map_score': 0.2665301923238432,\n",
       "  'relevant_retrieved': 56,\n",
       "  'num_retrieved': 99}}"
      ]
     },
     "execution_count": 21,
     "metadata": {},
     "output_type": "execute_result"
    }
   ],
   "source": [
    "data = {}\n",
    "t_from = 6\n",
    "t_to = 8\n",
    "\n",
    "for i in range(t_from, t_to+1):\n",
    "    res = evaluate_IR(eval_dataset=eval_dataset, limit_k=i, shard_key='shards')\n",
    "    del res['relevant']\n",
    "    data[f'k_{i}'] = res\n",
    "data"
   ]
  },
  {
   "cell_type": "code",
   "execution_count": 20,
   "id": "70b609a4-daf1-4c2b-a805-23100379e006",
   "metadata": {},
   "outputs": [],
   "source": [
    "import numpy as np\n",
    "time = eval_dataset['exc_second']\n",
    "time_np = np.array(time)\n",
    "# time_np = np.array([])"
   ]
  },
  {
   "cell_type": "code",
   "execution_count": 21,
   "id": "f2f066eb-0460-4cc7-9bbf-bdfb37b47e25",
   "metadata": {},
   "outputs": [
    {
     "name": "stdout",
     "output_type": "stream",
     "text": [
      "{\n",
      "  \"QA\": {\n",
      "    \"repo\": \"BroDeadlines/QA.TDT.FQA_tu_van_hoc_duong\",\n",
      "    \"split\": \"INDEX.medium_index_TDT\",\n",
      "    \"size\": 144,\n",
      "    \"total_time(minute)\": 8.854,\n",
      "    \"median_time(second)\": 3.376,\n",
      "    \"avg_time(second)\": 3.689\n",
      "  },\n",
      "  \"RAG\": {\n",
      "    \"algo\": [\n",
      "      \"proposition\",\n",
      "      \"parent retriever\",\n",
      "      \"hybrid search\"\n",
      "    ],\n",
      "    \"llm\": \"gemini-1.0-pro\",\n",
      "    \"total_k\": 8,\n",
      "    \"txt_weight\": 0.5,\n",
      "    \"vec_weight\": 0.5,\n",
      "    \"vec_index\": \"vec-raptor-medium_index_tdt_vi\",\n",
      "    \"txt_index\": \"text-raptor-medium_index_tdt_vi\",\n",
      "    \"es_size\": 479\n",
      "  },\n",
      "  \"IR\": {\n",
      "    \"k_6\": {\n",
      "      \"precision\": 0.269,\n",
      "      \"recall\": 0.034,\n",
      "      \"map_score\": 0.081,\n",
      "      \"relevant_retrieved\": 21,\n",
      "      \"num_retrieved\": 78\n",
      "    },\n",
      "    \"k_7\": {\n",
      "      \"precision\": 0.31,\n",
      "      \"recall\": 0.043,\n",
      "      \"map_score\": 0.085,\n",
      "      \"relevant_retrieved\": 26,\n",
      "      \"num_retrieved\": 84\n",
      "    },\n",
      "    \"k_8\": {\n",
      "      \"precision\": 0.33,\n",
      "      \"recall\": 0.048,\n",
      "      \"map_score\": 0.087,\n",
      "      \"relevant_retrieved\": 29,\n",
      "      \"num_retrieved\": 88\n",
      "    }\n",
      "  },\n",
      "  \"BLEU\": {\n",
      "    \"BLEU_4_avg\": 0.06,\n",
      "    \"BLEU_4_median\": 0.0,\n",
      "    \"BLEU_avg\": 0.077,\n",
      "    \"BLEU_median\": 0.0\n",
      "  },\n",
      "  \"ROUGE-L\": {\n",
      "    \"ROUGE_L_precision_avg\": 0.307,\n",
      "    \"ROUGE_L_precision_median\": 0.0,\n",
      "    \"ROUGE_L_recall_avg\": 0.116,\n",
      "    \"ROUGE_L_recall_median\": 0.0,\n",
      "    \"ROUGE_L_fmeasure_avg\": 0.146,\n",
      "    \"ROUGE_L_fmeasure_median\": 0.0\n",
      "  }\n",
      "}\n"
     ]
    }
   ],
   "source": [
    "import json\n",
    "\n",
    "ALGO = ['proposition', 'parent retriever', 'hybrid search']\n",
    "ES_SIZE = 479\n",
    "\n",
    "a = {\n",
    "    \"QA\": {\"repo\": QA_REPO, \"split\": QA_SPLIT,\n",
    "           \"size\": qa_dataset.num_rows, \n",
    "           \"total_time(minute)\": round(time_np.sum() / 60, 3), \n",
    "           \"median_time(second)\": round(np.median(time_np), 3),\n",
    "           \"avg_time(second)\": round(time_np.mean(), 3)},\n",
    "    \"RAG\": {\"algo\": ALGO, **config, \"es_size\": ES_SIZE},\n",
    "    \"IR\": data,\n",
    "    \"BLEU\": bleu,\n",
    "    \"ROUGE-L\": rouge\n",
    "}\n",
    " \n",
    "json_formatted_str = json.dumps(a, indent=2)\n",
    "print(json_formatted_str)"
   ]
  }
 ],
 "metadata": {
  "kernelspec": {
   "display_name": "Python 3 (ipykernel)",
   "language": "python",
   "name": "python3"
  },
  "language_info": {
   "codemirror_mode": {
    "name": "ipython",
    "version": 3
   },
   "file_extension": ".py",
   "mimetype": "text/x-python",
   "name": "python",
   "nbconvert_exporter": "python",
   "pygments_lexer": "ipython3",
   "version": "3.9.18"
  }
 },
 "nbformat": 4,
 "nbformat_minor": 5
}
