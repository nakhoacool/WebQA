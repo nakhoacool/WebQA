{
 "cells": [
  {
   "cell_type": "markdown",
   "id": "3437a048-f0b3-4962-9cc5-d1acf4d35bd3",
   "metadata": {},
   "source": [
    "# Config ElasticSearch\n",
    "- test_db\n",
    "- test_qas"
   ]
  },
  {
   "cell_type": "code",
   "execution_count": 1,
   "id": "456bea08-2409-4b17-aa24-1570e0690d47",
   "metadata": {},
   "outputs": [
    {
     "name": "stderr",
     "output_type": "stream",
     "text": [
      "/home/h4438/miniconda3/envs/uni/lib/python3.9/site-packages/tqdm/auto.py:21: TqdmWarning: IProgress not found. Please update jupyter and ipywidgets. See https://ipywidgets.readthedocs.io/en/stable/user_install.html\n",
      "  from .autonotebook import tqdm as notebook_tqdm\n"
     ]
    }
   ],
   "source": [
    "import sys\n",
    "sys.path.append(\"../\")\n",
    "from src.config import Configuration\n",
    "from pprint import pprint\n",
    "conf = Configuration()\n",
    "es = conf.load_elasticsearch_connection()"
   ]
  },
  {
   "cell_type": "code",
   "execution_count": 2,
   "id": "6d996ac7-f0b4-4925-a50d-28bbc5b52827",
   "metadata": {},
   "outputs": [
    {
     "name": "stdout",
     "output_type": "stream",
     "text": [
      "True\n"
     ]
    }
   ],
   "source": [
    "a = es.indices.exists(index=\"labse-major\")\n",
    "print(a)"
   ]
  },
  {
   "cell_type": "code",
   "execution_count": 9,
   "id": "236241cd",
   "metadata": {},
   "outputs": [
    {
     "name": "stdout",
     "output_type": "stream",
     "text": [
      "ObjectApiResponse({'text-split-major': {'settings': {'index': {'routing': {'allocation': {'include': {'_tier_preference': 'data_content'}}}, 'number_of_shards': '1', 'provided_name': 'text-split-major', 'creation_date': '1708189630645', 'number_of_replicas': '1', 'uuid': 'T_omcrS2T5CBTcZtBE1L7g', 'version': {'created': '8500003'}}}}})\n"
     ]
    }
   ],
   "source": [
    "a = es.indices.get_settings(index=\"text-split-major\")\n",
    "pprint(a)"
   ]
  },
  {
   "cell_type": "code",
   "execution_count": 5,
   "id": "c2bbfd25-f3b8-4185-8d5c-4b21e3d55bc4",
   "metadata": {},
   "outputs": [
    {
     "data": {
      "text/plain": [
       "HeadApiResponse(True)"
      ]
     },
     "execution_count": 5,
     "metadata": {},
     "output_type": "execute_result"
    }
   ],
   "source": [
    "es.indices.exists(index=\"text-split-major\")"
   ]
  },
  {
   "cell_type": "code",
   "execution_count": 5,
   "id": "f495f00f-e538-409e-8e37-59d9c2ed8097",
   "metadata": {},
   "outputs": [
    {
     "name": "stdout",
     "output_type": "stream",
     "text": [
      "True\n"
     ]
    },
    {
     "data": {
      "text/plain": [
       "HeadApiResponse(False)"
      ]
     },
     "execution_count": 5,
     "metadata": {},
     "output_type": "execute_result"
    }
   ],
   "source": [
    "IDX = \"gemini-major\"\n",
    "a = es.indices.exists(index=IDX)\n",
    "print(a)\n",
    "es.indices.delete(index=IDX)\n",
    "es.indices.exists(index=IDX)"
   ]
  },
  {
   "cell_type": "code",
   "execution_count": 6,
   "id": "24266fd3-3da3-49ab-b671-e82a9d798a7c",
   "metadata": {},
   "outputs": [
    {
     "name": "stdout",
     "output_type": "stream",
     "text": [
      "True\n"
     ]
    },
    {
     "data": {
      "text/plain": [
       "HeadApiResponse(False)"
      ]
     },
     "execution_count": 6,
     "metadata": {},
     "output_type": "execute_result"
    }
   ],
   "source": [
    "IDX = \"vnsbert-major\"\n",
    "a = es.indices.exists(index=IDX)\n",
    "print(a)\n",
    "es.indices.delete(index=IDX)\n",
    "es.indices.exists(index=IDX)"
   ]
  },
  {
   "cell_type": "code",
   "execution_count": 7,
   "id": "9c6e1d5a-8a0f-4960-9477-416dba837a73",
   "metadata": {},
   "outputs": [
    {
     "name": "stdout",
     "output_type": "stream",
     "text": [
      "True\n"
     ]
    },
    {
     "data": {
      "text/plain": [
       "HeadApiResponse(False)"
      ]
     },
     "execution_count": 7,
     "metadata": {},
     "output_type": "execute_result"
    }
   ],
   "source": [
    "IDX = \"test-basic\"\n",
    "a = es.indices.exists(index=IDX)\n",
    "print(a)\n",
    "es.indices.delete(index=IDX)\n",
    "es.indices.exists(index=IDX)"
   ]
  },
  {
   "cell_type": "markdown",
   "id": "abed7a2e",
   "metadata": {},
   "source": [
    "## Create index"
   ]
  },
  {
   "cell_type": "code",
   "execution_count": 4,
   "id": "b734e651",
   "metadata": {},
   "outputs": [
    {
     "data": {
      "text/plain": [
       "ObjectApiResponse({'acknowledged': True, 'shards_acknowledged': True, 'index': 'text-split-major'})"
      ]
     },
     "execution_count": 4,
     "metadata": {},
     "output_type": "execute_result"
    }
   ],
   "source": [
    "index_name = \"text-split-major\"\n",
    "k1 = 2.0\n",
    "b = .75\n",
    "\n",
    "# Define the index settings and mappings\n",
    "settings = {\n",
    "    \"analysis\": {\"analyzer\": {\"default\": {\"type\": \"standard\"}}},\n",
    "    \"similarity\": {\n",
    "        \"custom_bm25\": {\n",
    "            \"type\": \"BM25\",\n",
    "            \"k1\": k1,\n",
    "            \"b\": b,\n",
    "        }\n",
    "    },\n",
    "}\n",
    "mappings = {\n",
    "    \"properties\": {\n",
    "        \"content\": {\n",
    "            \"type\": \"text\",\n",
    "            \"similarity\": \"custom_bm25\",  # Use the custom BM25 similarity\n",
    "        }\n",
    "    }\n",
    "}\n",
    "\n",
    "# Create the index with the specified settings and mappings\n",
    "es.indices.create(index=index_name, mappings=mappings, settings=settings)"
   ]
  }
 ],
 "metadata": {
  "kernelspec": {
   "display_name": "Python 3 (ipykernel)",
   "language": "python",
   "name": "python3"
  },
  "language_info": {
   "codemirror_mode": {
    "name": "ipython",
    "version": 3
   },
   "file_extension": ".py",
   "mimetype": "text/x-python",
   "name": "python",
   "nbconvert_exporter": "python",
   "pygments_lexer": "ipython3",
   "version": "3.9.18"
  }
 },
 "nbformat": 4,
 "nbformat_minor": 5
}
