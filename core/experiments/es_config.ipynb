{
 "cells": [
  {
   "cell_type": "markdown",
   "id": "3437a048-f0b3-4962-9cc5-d1acf4d35bd3",
   "metadata": {},
   "source": [
    "# Config ElasticSearch\n",
    "- test_db\n",
    "- test_qas"
   ]
  },
  {
   "cell_type": "code",
   "execution_count": 5,
   "id": "456bea08-2409-4b17-aa24-1570e0690d47",
   "metadata": {},
   "outputs": [],
   "source": [
    "import sys\n",
    "sys.path.append(\"../\")\n",
    "from src.config import Configuration\n",
    "conf = Configuration()\n",
    "es = conf.load_elasticsearch_connection()"
   ]
  },
  {
   "cell_type": "code",
   "execution_count": 4,
   "id": "6d996ac7-f0b4-4925-a50d-28bbc5b52827",
   "metadata": {},
   "outputs": [
    {
     "name": "stdout",
     "output_type": "stream",
     "text": [
      "True\n"
     ]
    },
    {
     "data": {
      "text/plain": [
       "HeadApiResponse(False)"
      ]
     },
     "execution_count": 4,
     "metadata": {},
     "output_type": "execute_result"
    }
   ],
   "source": [
    "a = es.indices.exists(index=\"test_db\")\n",
    "print(a)\n",
    "es.indices.delete(index=\"test_db\")\n",
    "es.indices.exists(index=\"test_db\")"
   ]
  },
  {
   "cell_type": "code",
   "execution_count": 13,
   "id": "c2bbfd25-f3b8-4185-8d5c-4b21e3d55bc4",
   "metadata": {},
   "outputs": [
    {
     "data": {
      "text/plain": [
       "HeadApiResponse(False)"
      ]
     },
     "execution_count": 13,
     "metadata": {},
     "output_type": "execute_result"
    }
   ],
   "source": [
    "es.indices.delete(index=\"test_qas\")\n",
    "es.indices.exists(index=\"test_qas\")"
   ]
  },
  {
   "cell_type": "code",
   "execution_count": 6,
   "id": "f495f00f-e538-409e-8e37-59d9c2ed8097",
   "metadata": {},
   "outputs": [
    {
     "name": "stdout",
     "output_type": "stream",
     "text": [
      "False\n"
     ]
    }
   ],
   "source": [
    "IDX = \"gemini-major\"\n",
    "a = es.indices.exists(index=IDX)\n",
    "print(a)\n",
    "# es.indices.delete(index=IDX)\n",
    "# es.indices.exists(index=IDX)"
   ]
  }
 ],
 "metadata": {
  "kernelspec": {
   "display_name": "Python 3 (ipykernel)",
   "language": "python",
   "name": "python3"
  },
  "language_info": {
   "codemirror_mode": {
    "name": "ipython",
    "version": 3
   },
   "file_extension": ".py",
   "mimetype": "text/x-python",
   "name": "python",
   "nbconvert_exporter": "python",
   "pygments_lexer": "ipython3",
   "version": "3.9.18"
  }
 },
 "nbformat": 4,
 "nbformat_minor": 5
}
