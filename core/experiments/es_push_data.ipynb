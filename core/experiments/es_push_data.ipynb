{
 "cells": [
  {
   "cell_type": "markdown",
   "id": "589633bf-8577-452c-af7c-786653ea471a",
   "metadata": {},
   "source": [
    "# Push data to ES"
   ]
  },
  {
   "cell_type": "markdown",
   "id": "f6cf6511-92c5-472d-9ad5-4885e1e4ff8d",
   "metadata": {},
   "source": [
    "## Major"
   ]
  },
  {
   "cell_type": "code",
   "execution_count": 1,
   "id": "5d0ef849-b1f4-4202-8ff2-37d8cd163a72",
   "metadata": {},
   "outputs": [
    {
     "data": {
      "text/plain": [
       "(39, 4)"
      ]
     },
     "execution_count": 1,
     "metadata": {},
     "output_type": "execute_result"
    }
   ],
   "source": [
    "import sys\n",
    "sys.path.append(\"../\")\n",
    "from src.config import Configuration\n",
    "import pandas as pd\n",
    "import os\n",
    "\n",
    "PATH = '../data/test_major'\n",
    "docs = pd.read_csv(f\"{PATH}/docs.csv\")\n",
    "docs = docs[docs['id'] >= 6]\n",
    "conf = Configuration()\n",
    "# docs = docs[:20]\n",
    "docs.shape"
   ]
  },
  {
   "cell_type": "code",
   "execution_count": 2,
   "id": "d8e48987-976a-456c-bdae-10f1abacb04c",
   "metadata": {},
   "outputs": [
    {
     "name": "stdout",
     "output_type": "stream",
     "text": [
      "92\n"
     ]
    },
    {
     "data": {
      "text/plain": [
       "Counter({2: 24, 3: 13, 1: 1, 4: 1})"
      ]
     },
     "execution_count": 2,
     "metadata": {},
     "output_type": "execute_result"
    }
   ],
   "source": [
    "from collections import Counter\n",
    "from langchain.text_splitter import RecursiveCharacterTextSplitter\n",
    "\n",
    "db_df = docs\n",
    "db = []\n",
    "dist = []\n",
    "\n",
    "text_splitter = RecursiveCharacterTextSplitter(\n",
    "    separators=[\"\\n\\n\\n\",\"\\n\\n\", \"\\n\"],\n",
    "    chunk_size=1800,\n",
    "    chunk_overlap=120,\n",
    "    length_function=len,\n",
    "    is_separator_regex=False,\n",
    ")\n",
    "\n",
    "for i, data in db_df.iterrows():\n",
    "    doc = text_splitter.create_documents([data['content']])\n",
    "    dist.append(len(doc))\n",
    "    [d.metadata.update({\"id\": data['id']}) for d in doc]\n",
    "    db.extend(doc)\n",
    "\n",
    "print(len(db))\n",
    "Counter(dist)"
   ]
  },
  {
   "cell_type": "markdown",
   "id": "717321d6-6075-492f-853e-768c247f3381",
   "metadata": {},
   "source": [
    "### Gemini"
   ]
  },
  {
   "cell_type": "code",
   "execution_count": 3,
   "id": "a23a50f1-4253-460f-a868-e5f7305854d6",
   "metadata": {},
   "outputs": [
    {
     "name": "stderr",
     "output_type": "stream",
     "text": [
      "/home/h4438/miniconda3/envs/uni/lib/python3.9/site-packages/tqdm/auto.py:21: TqdmWarning: IProgress not found. Please update jupyter and ipywidgets. See https://ipywidgets.readthedocs.io/en/stable/user_install.html\n",
      "  from .autonotebook import tqdm as notebook_tqdm\n"
     ]
    }
   ],
   "source": [
    "INDEX = \"gemini-major\"\n",
    "\n",
    "if \"GOOGLE_API_KEY\" not in os.environ:\n",
    "    os.environ[\"GOOGLE_API_KEY\"] = conf.load_gemini_token()\n",
    "from langchain_google_genai import GoogleGenerativeAIEmbeddings\n",
    "embeddings = GoogleGenerativeAIEmbeddings(model=\"models/embedding-001\")"
   ]
  },
  {
   "cell_type": "code",
   "execution_count": 5,
   "id": "4fbf3c99-d97a-48b1-a9ec-4fc449b40a19",
   "metadata": {},
   "outputs": [],
   "source": [
    "# a = embeddings.embed_documents([\"AI\", \"CNTT\", \"Arts\"])\n",
    "# a"
   ]
  },
  {
   "cell_type": "markdown",
   "id": "74e4be4b-d560-4dcb-9a40-2cbe1962372d",
   "metadata": {},
   "source": [
    "### VN SBert"
   ]
  },
  {
   "cell_type": "code",
   "execution_count": 3,
   "id": "72280a4d-4ab7-4d97-b85a-48073aa61d4c",
   "metadata": {},
   "outputs": [],
   "source": [
    "from langchain_community.embeddings import HuggingFaceInferenceAPIEmbeddings\n",
    "INDEX = \"vnsbert-major\"\n",
    "\n",
    "MODEL = \"keepitreal/vietnamese-sbert\"\n",
    "embeddings = HuggingFaceInferenceAPIEmbeddings(\n",
    "    api_key=conf.load_hg_token(0),\n",
    "    model_name=MODEL)"
   ]
  },
  {
   "cell_type": "markdown",
   "id": "299c4e8b-dee8-4a48-8465-0c3faa936585",
   "metadata": {},
   "source": [
    "### LaBSE"
   ]
  },
  {
   "cell_type": "code",
   "execution_count": null,
   "id": "a870dac9-0e0f-4c1a-8ba2-993ba8c3e2ff",
   "metadata": {},
   "outputs": [],
   "source": [
    "from langchain_community.embeddings import HuggingFaceInferenceAPIEmbeddings\n",
    "INDEX = \"test-db\"\n",
    "\n",
    "MODEL = \"sentence-transformers/LaBSE\"\n",
    "\n",
    "embeddings = HuggingFaceInferenceAPIEmbeddings(\n",
    "    api_key=conf.load_hg_token(1),\n",
    "    model_name=MODEL)"
   ]
  },
  {
   "cell_type": "markdown",
   "id": "29a78f0e-50e9-4166-a249-02c2644d783f",
   "metadata": {},
   "source": [
    "## Load"
   ]
  },
  {
   "cell_type": "code",
   "execution_count": 6,
   "id": "d3b5c338-8732-47ec-b176-04ab48ece125",
   "metadata": {},
   "outputs": [],
   "source": [
    "from langchain_community.vectorstores.elasticsearch import ElasticsearchStore\n",
    "\n",
    "es = ElasticsearchStore.from_documents(db, embedding=embeddings,\n",
    "                          es_connection=conf.load_elasticsearch_connection(),\n",
    "                          index_name=INDEX,\n",
    "                          distance_strategy=\"EUCLIDEAN_DISTANCE\")"
   ]
  }
 ],
 "metadata": {
  "kernelspec": {
   "display_name": "Python 3 (ipykernel)",
   "language": "python",
   "name": "python3"
  },
  "language_info": {
   "codemirror_mode": {
    "name": "ipython",
    "version": 3
   },
   "file_extension": ".py",
   "mimetype": "text/x-python",
   "name": "python",
   "nbconvert_exporter": "python",
   "pygments_lexer": "ipython3",
   "version": "3.9.18"
  }
 },
 "nbformat": 4,
 "nbformat_minor": 5
}
