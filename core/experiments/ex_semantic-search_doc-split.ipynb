{
 "cells": [
  {
   "cell_type": "markdown",
   "id": "2e21da2d-f63d-4de5-a680-11dcfa0ce358",
   "metadata": {},
   "source": [
    "# Experiment\n",
    "- Hybrid search\n",
    "- Doc split\n",
    "\n",
    "Reference: https://python.langchain.com/docs/modules/data_connection/retrievers/ensemble"
   ]
  },
  {
   "cell_type": "code",
   "execution_count": 1,
   "id": "9b54b1f8-44c4-4678-8bc1-77fc157539f1",
   "metadata": {},
   "outputs": [],
   "source": [
    "from langchain.retrievers import BM25Retriever, EnsembleRetriever\n",
    "from langchain_community.embeddings import HuggingFaceInferenceAPIEmbeddings\n",
    "from langchain_community.vectorstores import FAISS\n",
    "import sys\n",
    "import pandas as pd\n",
    "from collections import Counter\n",
    "from langchain.text_splitter import RecursiveCharacterTextSplitter\n",
    "from langchain_core.documents.base import Document\n",
    "sys.path.append(\"../\")\n",
    "from src.config import Configuration\n",
    "from src.prepare.data_load import DocDataLoader"
   ]
  },
  {
   "cell_type": "markdown",
   "id": "bbe2f135-d790-4829-9f63-490446a45e3c",
   "metadata": {},
   "source": [
    "# Config"
   ]
  },
  {
   "cell_type": "code",
   "execution_count": 2,
   "id": "ee4d282a-4bca-4bd0-adff-2905184eee69",
   "metadata": {},
   "outputs": [],
   "source": [
    "conf = Configuration()\n",
    "\n",
    "K = 1\n",
    "INDEX = \"labse-major\"\n",
    "# INDEX = \"gemini-major\"\n",
    "\n",
    "MODEL = \"sentence-transformers/LaBSE\"\n",
    "# MODEL = \"models/embedding-001\"\n",
    "\n",
    "DIST = \"EUCLIDEAN_DISTANCE\"\n",
    "\n",
    "META = {\n",
    "    \"model\": MODEL,\n",
    "    \"doc_size\": 460,\n",
    "    \"doc_overlap\": 20,\n",
    "    \"index\": INDEX,\n",
    "    \"top k\": K,\n",
    "    \"distance\": DIST, \n",
    "    \"technique\": f\"Vector: {MODEL}\"\n",
    "}"
   ]
  },
  {
   "cell_type": "markdown",
   "id": "6f1fa2ae-f111-489a-8ebe-4cd367fc350a",
   "metadata": {},
   "source": [
    "# Retriever"
   ]
  },
  {
   "cell_type": "code",
   "execution_count": 5,
   "id": "8cbc7eb0-fb6c-4c7e-b9db-f7e589fc1245",
   "metadata": {},
   "outputs": [],
   "source": [
    "from langchain_community.vectorstores.elasticsearch import ElasticsearchStore\n",
    "from langchain_google_genai import GoogleGenerativeAIEmbeddings\n",
    "\n",
    "embeddings = HuggingFaceInferenceAPIEmbeddings(\n",
    "    api_key=conf.load_hg_token(0),\n",
    "    model_name=MODEL)\n",
    "\n",
    "elastic_vector_search = ElasticsearchStore(\n",
    "            es_connection=conf.load_elasticsearch_connection(),\n",
    "            index_name=INDEX,\n",
    "            embedding=embeddings,\n",
    "            distance_strategy=DIST)\n",
    "\n",
    "es_retriever = elastic_vector_search.as_retriever(search_kwargs={\"k\": K})"
   ]
  },
  {
   "cell_type": "markdown",
   "id": "66575a30-9584-44ac-a3ef-b7c0b58b252e",
   "metadata": {},
   "source": [
    "# Test"
   ]
  },
  {
   "cell_type": "code",
   "execution_count": 6,
   "id": "039d6dcc-742a-4881-8111-0f4ac72dc948",
   "metadata": {},
   "outputs": [
    {
     "name": "stdout",
     "output_type": "stream",
     "text": [
      "docs.csv\t\t    private_test_case.csv  sample_test_case.csv\n",
      "hard_private_test_case.csv  public_test_case.csv\n"
     ]
    }
   ],
   "source": [
    "from tests.major_eval import MajorBlogPostEvaluation\n",
    "eval = MajorBlogPostEvaluation(root_path=\"../\", save_path=\"./results\")\n",
    "\n",
    "!ls ../data/test_major"
   ]
  },
  {
   "cell_type": "markdown",
   "id": "bfa75e5d-22a6-4e45-88ff-d540c819e0c7",
   "metadata": {},
   "source": [
    "# Labse"
   ]
  },
  {
   "cell_type": "code",
   "execution_count": 6,
   "id": "c625d3c3-e143-4cbc-bc51-66c2f083658d",
   "metadata": {},
   "outputs": [],
   "source": [
    "eval.eval_sample(\"sample_vector_l2_docsplit.txt\", es_retriever, META)"
   ]
  },
  {
   "cell_type": "code",
   "execution_count": 7,
   "id": "66792603-da00-4af8-8641-d93f7c68c66d",
   "metadata": {},
   "outputs": [],
   "source": [
    "eval.eval_public(\"labse_major_vector_l2_public_docsplit.txt\", es_retriever, META)"
   ]
  },
  {
   "cell_type": "code",
   "execution_count": 7,
   "id": "b3abc572-22f3-4050-af25-e5565a7411b0",
   "metadata": {},
   "outputs": [],
   "source": [
    "eval.eval_private_hard(\"labse_major_vector_l2_hard_private_docsplit.txt\", es_retriever, META)"
   ]
  },
  {
   "cell_type": "markdown",
   "id": "b90a7688-005e-43eb-8fdb-fe8c182972ac",
   "metadata": {
    "jp-MarkdownHeadingCollapsed": true
   },
   "source": [
    "# Gemini"
   ]
  },
  {
   "cell_type": "code",
   "execution_count": 6,
   "id": "040c199e-1320-4eff-8dce-af108f7a639d",
   "metadata": {},
   "outputs": [],
   "source": [
    "eval.eval_public(\"gemini_major_hybrid_public_docsplit.txt\", ensemble_retriever, META)"
   ]
  },
  {
   "cell_type": "code",
   "execution_count": 7,
   "id": "95d2fea6-bce6-4993-be98-80a692b1ad92",
   "metadata": {},
   "outputs": [],
   "source": [
    "eval.eval_private_hard(\"gemini_major_hybrid_hard_private_docsplit.txt\", ensemble_retriever, META)"
   ]
  }
 ],
 "metadata": {
  "kernelspec": {
   "display_name": "Python 3 (ipykernel)",
   "language": "python",
   "name": "python3"
  },
  "language_info": {
   "codemirror_mode": {
    "name": "ipython",
    "version": 3
   },
   "file_extension": ".py",
   "mimetype": "text/x-python",
   "name": "python",
   "nbconvert_exporter": "python",
   "pygments_lexer": "ipython3",
   "version": "3.9.18"
  }
 },
 "nbformat": 4,
 "nbformat_minor": 5
}
