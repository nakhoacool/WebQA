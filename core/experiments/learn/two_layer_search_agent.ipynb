{
 "cells": [
  {
   "cell_type": "markdown",
   "id": "7740919e-01e1-4420-b72b-228962ec4a3f",
   "metadata": {},
   "source": [
    "# 2 Layer search agent\n",
    "- search for local documnet when it present\n",
    "- search for the internet when no information"
   ]
  },
  {
   "cell_type": "code",
   "execution_count": 3,
   "id": "331d8cc4-bbae-4e8f-97ae-afa6e560d750",
   "metadata": {},
   "outputs": [],
   "source": [
    "from langchain_community.tools.tavily_search import TavilySearchResults\n",
    "import sys\n",
    "sys.path.append(\"../../\")\n",
    "from src.config import Configuration\n",
    "from langchain.tools.retriever import create_retriever_tool\n",
    "conf = Configuration()"
   ]
  },
  {
   "cell_type": "code",
   "execution_count": 4,
   "id": "48353ae5-265d-477e-a455-4bbb80c36283",
   "metadata": {},
   "outputs": [],
   "source": [
    "conf.set_tavily_token()\n",
    "tavily = TavilySearchResults()"
   ]
  },
  {
   "cell_type": "markdown",
   "id": "d474dc74-b4c8-43ca-8de2-3374b35d12bc",
   "metadata": {},
   "source": [
    "## Server RAG"
   ]
  },
  {
   "cell_type": "code",
   "execution_count": 5,
   "id": "f4a2033e-a02e-4e64-a9a0-6d57e6677609",
   "metadata": {},
   "outputs": [
    {
     "name": "stdout",
     "output_type": "stream",
     "text": [
      "From (44, 4) to Counter({2: 37, 1: 6, 3: 1})\n",
      "From (44, 4) to 44\n"
     ]
    }
   ],
   "source": [
    "from src.rag.hybrid_gemini import HybridGeminiRag\n",
    "INDEX = \"labse-major\"\n",
    "MODEL = \"sentence-transformers/LaBSE\"\n",
    "rag = HybridGeminiRag(config=conf, es_index=INDEX, embed_model=MODEL)\n"
   ]
  },
  {
   "cell_type": "code",
   "execution_count": 6,
   "id": "5e524acf-8eb0-41cd-bc02-dec799f24557",
   "metadata": {},
   "outputs": [],
   "source": [
    "rag_tool = create_retriever_tool(\n",
    "    retriever=rag.ensemble_retriever,\n",
    "    name=\"rag_hybrid_search\",\n",
    "    description=\"Find information about the training programs (majors) of Ton Duc Thang University. You must use this tool to answer questions related to the training programs (majors) of Ton Duc Thang University.\",\n",
    ")"
   ]
  },
  {
   "cell_type": "markdown",
   "id": "38251c0f",
   "metadata": {},
   "source": [
    "## Local RAG"
   ]
  },
  {
   "cell_type": "code",
   "execution_count": 7,
   "id": "08540a82",
   "metadata": {},
   "outputs": [
    {
     "name": "stdout",
     "output_type": "stream",
     "text": [
      "From (44, 4) to 44\n"
     ]
    },
    {
     "data": {
      "text/plain": [
       "'Kỹ thuật hoá học là ngành học'"
      ]
     },
     "execution_count": 7,
     "metadata": {},
     "output_type": "execute_result"
    }
   ],
   "source": [
    "from src.prepare.data_load import DocDataLoader\n",
    "\n",
    "doc_loader = DocDataLoader()\n",
    "docs = doc_loader.load_major_docs_full()\n",
    "d1 = docs[15]\n",
    "d1.page_content[:30]"
   ]
  },
  {
   "cell_type": "code",
   "execution_count": 8,
   "id": "af56032a-39bd-45f8-bdee-c2a8c4f62b12",
   "metadata": {},
   "outputs": [],
   "source": [
    "from src.chain.followup import LocalFollowUpChain\n",
    "followup = LocalFollowUpChain(config=conf, doc_content=d1.page_content)"
   ]
  },
  {
   "cell_type": "code",
   "execution_count": 21,
   "id": "473ea6d5-6553-4877-b236-fd20bb6b3fbd",
   "metadata": {},
   "outputs": [
    {
     "data": {
      "text/plain": [
       "'Nội dung chính của văn bản là giới thiệu về ngành Kỹ thuật hóa học tại trường Đại học Tôn Đức Thắng, bao gồm chương trình đào tạo, cơ hội nghề nghiệp và các hoạt động ngoại khóa dành cho sinh viên.'"
      ]
     },
     "execution_count": 21,
     "metadata": {},
     "output_type": "execute_result"
    }
   ],
   "source": [
    "q = \"Xin bạn hãy viết một mô tả chính về nội dung văn bản được cho theo dạng mô tả guideline bằng một câu\"\n",
    "q = \"văn bản được cho nói về nội dung chính là gì?\"\n",
    "a = followup.answer(question=q)\n",
    "a"
   ]
  },
  {
   "cell_type": "code",
   "execution_count": 22,
   "id": "e54ea61e",
   "metadata": {},
   "outputs": [],
   "source": [
    "a = \"ngành Kỹ thuật hóa họ\""
   ]
  },
  {
   "cell_type": "code",
   "execution_count": 23,
   "id": "a39c558a-5121-49ab-8d4f-043edd940f31",
   "metadata": {},
   "outputs": [],
   "source": [
    "def local_retrieve(question:str) -> str:\n",
    "    \n",
    "    return d1.page_content\n",
    "\n",
    "desc = \"Find information about the {main} of Ton Duc Thang University. You must use this tool to answer questions related to {main} of Ton Duc Thang University.\"\n",
    "\n",
    "local_tool = create_retriever_tool(\n",
    "    retriever=local_retrieve,\n",
    "    name=\"local_hybrid_search\",\n",
    "    description=desc.format(main = a),\n",
    ")"
   ]
  },
  {
   "cell_type": "markdown",
   "id": "6efb0773-edfd-402a-b106-ea8876c2ff23",
   "metadata": {},
   "source": [
    "## Agent"
   ]
  },
  {
   "cell_type": "code",
   "execution_count": 24,
   "id": "8e2d3e20-a46c-47e6-8363-402df2a7b2ca",
   "metadata": {},
   "outputs": [],
   "source": [
    "from langchain import agents\n",
    "from langchain import hub\n",
    "from langchain.agents import AgentExecutor, create_openai_functions_agent\n",
    "\n",
    "# Get the prompt to use - you can modify this!\n",
    "prompt = hub.pull(\"hwchase17/openai-functions-agent\")\n",
    "# Choose the LLM that will drive the agent\n",
    "llm = conf.get_gemini_pro(True)\n",
    "\n",
    "tools = [local_tool, rag_tool]\n",
    "# Construct the JSON agent\n",
    "agent = create_openai_functions_agent(llm, tools, prompt)"
   ]
  },
  {
   "cell_type": "code",
   "execution_count": 25,
   "id": "74d32d50-bd51-4280-80bc-6d9d968d5c4b",
   "metadata": {},
   "outputs": [],
   "source": [
    "# Create an agent executor by passing in the agent and tools\n",
    "agent_executor = AgentExecutor(\n",
    "    agent=agent, tools=tools, verbose=True, handle_parsing_errors=True\n",
    ")"
   ]
  },
  {
   "cell_type": "code",
   "execution_count": 26,
   "id": "b7d12092-7932-4334-93ab-7fa0d970f294",
   "metadata": {},
   "outputs": [],
   "source": [
    "from langsmith.run_helpers import traceable\n",
    "\n",
    "conf.enable_tracing(project=\"LEARN\")\n",
    "\n",
    "@traceable(tags=[\"agent\"])\n",
    "def run_agent(q:str):\n",
    "    a = agent_executor.invoke({\"input\": q})\n",
    "    return a"
   ]
  },
  {
   "cell_type": "code",
   "execution_count": 27,
   "id": "71687fed-0829-4696-837c-99d9dab8f66f",
   "metadata": {},
   "outputs": [
    {
     "name": "stdout",
     "output_type": "stream",
     "text": [
      "\n",
      "\n",
      "\u001b[1m> Entering new AgentExecutor chain...\u001b[0m\n",
      "\u001b[32;1m\u001b[1;3m**Ngành Kỹ thuật Hóa học tại Trường**\n",
      "\n",
      "**Giới thiệu**\n",
      "\n",
      "Ngành Kỹ thuật Hóa học tại trường chúng tôi là một chương trình học tập toàn diện cung cấp cho sinh viên nền tảng vững chắc về các nguyên tắc khoa học và kỹ thuật liên quan đến quá trình thiết kế, vận hành và tối ưu hóa các hệ thống hóa học.\n",
      "\n",
      "**Mục tiêu chương trình**\n",
      "\n",
      "Chương trình Kỹ thuật Hóa học của chúng tôi nhằm mục đích:\n",
      "\n",
      "* Trang bị cho sinh viên kiến thức và kỹ năng cần thiết để giải quyết các vấn đề phức tạp trong ngành công nghiệp hóa học.\n",
      "* Phát triển khả năng phân tích, giải quyết vấn đề và thiết kế của sinh viên.\n",
      "* Chuẩn bị sinh viên cho sự nghiệp thành công trong các lĩnh vực liên quan đến hóa học.\n",
      "\n",
      "**Điểm nổi bật của chương trình**\n",
      "\n",
      "* **Giáo trình toàn diện:** Chương trình học bao gồm các khóa học về hóa học, toán học, vật lý, kỹ thuật và các lĩnh vực liên quan.\n",
      "* **Cơ sở vật chất hiện đại:** Sinh viên có quyền truy cập vào các phòng thí nghiệm và cơ sở nghiên cứu tiên tiến.\n",
      "* **Kinh nghiệm thực tế:** Chương trình bao gồm các cơ hội thực tập và dự án thiết kế để cung cấp cho sinh viên kinh nghiệm thực tế.\n",
      "* **Khoa giảng viên giàu kinh nghiệm:** Khoa giảng viên của chúng tôi bao gồm các chuyên gia trong ngành và các nhà nghiên cứu có kinh nghiệm.\n",
      "* **Mạng lưới cựu sinh viên mạnh mẽ:** Trường có một mạng lưới cựu sinh viên rộng lớn trong ngành công nghiệp hóa học, cung cấp cơ hội kết nối và cố vấn.\n",
      "\n",
      "**Cơ hội nghề nghiệp**\n",
      "\n",
      "Sinh viên tốt nghiệp ngành Kỹ thuật Hóa học có thể theo đuổi sự nghiệp trong các lĩnh vực sau:\n",
      "\n",
      "* Công nghiệp hóa chất\n",
      "* Dược phẩm\n",
      "* Năng lượng\n",
      "* Vật liệu\n",
      "* Môi trường\n",
      "* Nghiên cứu và phát triển\n",
      "\n",
      "**Thông tin thêm**\n",
      "\n",
      "Để biết thêm thông tin về ngành Kỹ thuật Hóa học tại trường chúng tôi, vui lòng truy cập trang web của trường hoặc liên hệ với văn phòng tuyển sinh.\u001b[0m\n",
      "\n",
      "\u001b[1m> Finished chain.\u001b[0m\n"
     ]
    },
    {
     "data": {
      "text/plain": [
       "{'input': 'em muốn biết thêm thông tin về ngành kỹ thuật hóa học của trường ạ',\n",
       " 'output': '**Ngành Kỹ thuật Hóa học tại Trường**\\n\\n**Giới thiệu**\\n\\nNgành Kỹ thuật Hóa học tại trường chúng tôi là một chương trình học tập toàn diện cung cấp cho sinh viên nền tảng vững chắc về các nguyên tắc khoa học và kỹ thuật liên quan đến quá trình thiết kế, vận hành và tối ưu hóa các hệ thống hóa học.\\n\\n**Mục tiêu chương trình**\\n\\nChương trình Kỹ thuật Hóa học của chúng tôi nhằm mục đích:\\n\\n* Trang bị cho sinh viên kiến thức và kỹ năng cần thiết để giải quyết các vấn đề phức tạp trong ngành công nghiệp hóa học.\\n* Phát triển khả năng phân tích, giải quyết vấn đề và thiết kế của sinh viên.\\n* Chuẩn bị sinh viên cho sự nghiệp thành công trong các lĩnh vực liên quan đến hóa học.\\n\\n**Điểm nổi bật của chương trình**\\n\\n* **Giáo trình toàn diện:** Chương trình học bao gồm các khóa học về hóa học, toán học, vật lý, kỹ thuật và các lĩnh vực liên quan.\\n* **Cơ sở vật chất hiện đại:** Sinh viên có quyền truy cập vào các phòng thí nghiệm và cơ sở nghiên cứu tiên tiến.\\n* **Kinh nghiệm thực tế:** Chương trình bao gồm các cơ hội thực tập và dự án thiết kế để cung cấp cho sinh viên kinh nghiệm thực tế.\\n* **Khoa giảng viên giàu kinh nghiệm:** Khoa giảng viên của chúng tôi bao gồm các chuyên gia trong ngành và các nhà nghiên cứu có kinh nghiệm.\\n* **Mạng lưới cựu sinh viên mạnh mẽ:** Trường có một mạng lưới cựu sinh viên rộng lớn trong ngành công nghiệp hóa học, cung cấp cơ hội kết nối và cố vấn.\\n\\n**Cơ hội nghề nghiệp**\\n\\nSinh viên tốt nghiệp ngành Kỹ thuật Hóa học có thể theo đuổi sự nghiệp trong các lĩnh vực sau:\\n\\n* Công nghiệp hóa chất\\n* Dược phẩm\\n* Năng lượng\\n* Vật liệu\\n* Môi trường\\n* Nghiên cứu và phát triển\\n\\n**Thông tin thêm**\\n\\nĐể biết thêm thông tin về ngành Kỹ thuật Hóa học tại trường chúng tôi, vui lòng truy cập trang web của trường hoặc liên hệ với văn phòng tuyển sinh.'}"
      ]
     },
     "execution_count": 27,
     "metadata": {},
     "output_type": "execute_result"
    }
   ],
   "source": [
    "q = \"em muốn biết thêm thông tin về ngành kỹ thuật hóa học của trường ạ\"\n",
    "a = run_agent(q)\n",
    "a"
   ]
  }
 ],
 "metadata": {
  "kernelspec": {
   "display_name": "Python 3 (ipykernel)",
   "language": "python",
   "name": "python3"
  },
  "language_info": {
   "codemirror_mode": {
    "name": "ipython",
    "version": 3
   },
   "file_extension": ".py",
   "mimetype": "text/x-python",
   "name": "python",
   "nbconvert_exporter": "python",
   "pygments_lexer": "ipython3",
   "version": "3.9.18"
  }
 },
 "nbformat": 4,
 "nbformat_minor": 5
}
