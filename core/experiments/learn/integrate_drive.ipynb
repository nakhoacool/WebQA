{
 "cells": [
  {
   "cell_type": "markdown",
   "metadata": {},
   "source": [
    "# Integrate Google drive"
   ]
  },
  {
   "cell_type": "code",
   "execution_count": 6,
   "metadata": {},
   "outputs": [],
   "source": [
    "def get_size_format(b, factor=1024, suffix=\"B\"):\n",
    "    \"\"\"\n",
    "    Scale bytes to its proper byte format\n",
    "    e.g:\n",
    "        1253656 => '1.20MB'\n",
    "        1253656678 => '1.17GB'\n",
    "    \"\"\"\n",
    "    for unit in [\"\", \"K\", \"M\", \"G\", \"T\", \"P\", \"E\", \"Z\"]:\n",
    "        if b < factor:\n",
    "            return f\"{b:.2f}{unit}{suffix}\"\n",
    "        b /= factor\n",
    "    return f\"{b:.2f}Y{suffix}\"\n",
    "\n",
    "def list_files(items):\n",
    "    \"\"\"given items returned by Google Drive API, prints them in a tabular way\"\"\"\n",
    "    if not items:\n",
    "        # empty drive\n",
    "        print('No files found.')\n",
    "        return []\n",
    "    rows = []\n",
    "    for item in items:\n",
    "        # get the File ID\n",
    "        id = item[\"id\"]\n",
    "        # get the name of file\n",
    "        name = item[\"name\"]\n",
    "        try:\n",
    "            # parent directory ID\n",
    "            parents = item[\"parents\"]\n",
    "        except:\n",
    "            # has no parrents\n",
    "            parents = \"N/A\"\n",
    "        try:\n",
    "            # get the size in nice bytes format (KB, MB, etc.)\n",
    "            size = get_size_format(int(item[\"size\"]))\n",
    "        except:\n",
    "            # not a file, may be a folder\n",
    "            size = \"N/A\"\n",
    "        # get the Google Drive type of file\n",
    "        mime_type = item[\"mimeType\"]\n",
    "        # get last modified date time\n",
    "        modified_time = item[\"modifiedTime\"]\n",
    "        # append everything to the list\n",
    "        rows.append((id, name, parents, size, mime_type, modified_time))\n",
    "    # table = tabulate(rows, headers=[\"ID\", \"Name\", \"Parents\", \"Size\", \"Type\", \"Modified Time\"])\n",
    "    # print(table)\n",
    "    return rows\n"
   ]
  },
  {
   "cell_type": "markdown",
   "metadata": {},
   "source": [
    "## Create service"
   ]
  },
  {
   "cell_type": "code",
   "execution_count": 3,
   "metadata": {},
   "outputs": [],
   "source": [
    "import os.path\n",
    "from google.auth.transport.requests import Request\n",
    "from google.oauth2.credentials import Credentials\n",
    "from google_auth_oauthlib.flow import InstalledAppFlow\n",
    "from googleapiclient.discovery import build\n",
    "from googleapiclient.errors import HttpError\n",
    "from googleapiclient.http import MediaIoBaseDownload, MediaFileUpload\n",
    "# from tabulate import tabulate\n",
    "\n",
    "# If modifying these scopes, delete the file token.json.\n",
    "SCOPES = [\"https://www.googleapis.com/auth/drive\"]\n",
    "\n",
    "def gdrive_service():\n",
    "  credential_path = \"../.keys/drive_desktop.json\"\n",
    "  creds = None\n",
    "  # The file token.json stores the user's access and refresh tokens, and is\n",
    "  # created automatically when the authorization flow completes for the first\n",
    "  # time.\n",
    "  if os.path.exists(\"token.json\"):\n",
    "    creds = Credentials.from_authorized_user_file(\"token.json\", SCOPES)\n",
    "  # If there are no (valid) credentials available, let the user log in.\n",
    "  if not creds or not creds.valid:\n",
    "    if creds and creds.expired and creds.refresh_token:\n",
    "      creds.refresh(Request())\n",
    "    else:\n",
    "      flow = InstalledAppFlow.from_client_secrets_file(\n",
    "        credential_path, SCOPES\n",
    "      )\n",
    "      creds = flow.run_local_server(port=0)\n",
    "    # Save the credentials for the next run\n",
    "    with open(\"token.json\", \"w\") as token:\n",
    "      token.write(creds.to_json())\n",
    "\n",
    "  try:\n",
    "    service = build(\"drive\", \"v3\", credentials=creds)\n",
    "    return service\n",
    "  except HttpError as error:\n",
    "    # TODO(developer) - Handle errors from drive API.\n",
    "    print(f\"An error occurred: {error}\")"
   ]
  },
  {
   "cell_type": "code",
   "execution_count": 17,
   "metadata": {},
   "outputs": [],
   "source": [
    "service = gdrive_service()\n"
   ]
  },
  {
   "cell_type": "code",
   "execution_count": 23,
   "metadata": {},
   "outputs": [
    {
     "data": {
      "text/plain": [
       "<googleapiclient.discovery.Resource at 0x7fd8219b0fa0>"
      ]
     },
     "execution_count": 23,
     "metadata": {},
     "output_type": "execute_result"
    }
   ],
   "source": [
    "service.about()"
   ]
  },
  {
   "cell_type": "markdown",
   "metadata": {},
   "source": [
    "## List all files"
   ]
  },
  {
   "cell_type": "code",
   "execution_count": 13,
   "metadata": {},
   "outputs": [
    {
     "name": "stdout",
     "output_type": "stream",
     "text": [
      "Search result:\n",
      "1\n"
     ]
    }
   ],
   "source": [
    "def search_file_or_folder(service, name):\n",
    "    \"\"\"Search for a file or folder in the user's Google Drive.\"\"\"\n",
    "    query = f\"name='{name}'\"\n",
    "    results = service.files().list(q=query, fields=\"nextPageToken, files(id, name, mimeType, size, parents, modifiedTime)\").execute()\n",
    "    items = results.get('files', [])\n",
    "    if not items:\n",
    "        print('No files found.')\n",
    "        return None\n",
    "    else:\n",
    "        print('Search result:')\n",
    "        list_files(items)\n",
    "        print(len(items))\n",
    "        return items\n",
    "\n",
    "afile = search_file_or_folder(service, 'finalreport.pdf')"
   ]
  },
  {
   "cell_type": "code",
   "execution_count": 16,
   "metadata": {},
   "outputs": [
    {
     "data": {
      "text/plain": [
       "[{'mimeType': 'application/pdf',\n",
       "  'parents': ['0AIcsLxwAQS3zUk9PVA'],\n",
       "  'size': '1886160',\n",
       "  'id': '10QNEaFza_gRJFsoB0KstD2kjSsIguVlA',\n",
       "  'name': 'finalreport.pdf',\n",
       "  'modifiedTime': '2023-12-17T22:59:58.000Z'}]"
      ]
     },
     "execution_count": 16,
     "metadata": {},
     "output_type": "execute_result"
    }
   ],
   "source": [
    "afile"
   ]
  },
  {
   "cell_type": "code",
   "execution_count": 107,
   "metadata": {},
   "outputs": [],
   "source": [
    "def gdrive_folder(service):\n",
    "    \"\"\"List all folders in the user's Google Drive.\"\"\"\n",
    "    print(\"Folders:\")\n",
    "    results = service.files().list(q=\"mimeType='application/vnd.google-apps.folder'\",pageSize=100, fields=\"nextPageToken, files(id, name, mimeType, size, parents, modifiedTime)\").execute()\n",
    "    items = results.get('files', [])\n",
    "    list_files(items)\n",
    "\n",
    "def gdrive_file(service):\n",
    "    \"\"\"List all files in the user's Google Drive.\"\"\"\n",
    "    print(\"Files:\")\n",
    "    results = service.files().list(q=\"mimeType!='application/vnd.google-apps.folder'\",pageSize=100, fields=\"nextPageToken, files(id, name, mimeType, size, parents, modifiedTime)\").execute()\n",
    "    items = results.get('files', [])\n",
    "    list_files(items)"
   ]
  },
  {
   "cell_type": "code",
   "execution_count": 108,
   "metadata": {},
   "outputs": [],
   "source": []
  },
  {
   "cell_type": "code",
   "execution_count": 109,
   "metadata": {},
   "outputs": [],
   "source": [
    "def get_files_or_folders_by_parent(service, parent_id):\n",
    "    \"\"\"Get files or folders by parent ID.\"\"\"\n",
    "    query = f\"'{parent_id}' in parents and trashed = false\"\n",
    "    results = service.files().list(q=query, fields=\"nextPageToken, files(id, name, mimeType, size, parents, modifiedTime)\").execute()\n",
    "    items = results.get('files', [])\n",
    "    if not items:\n",
    "        print('The folder is empty or not found or not a folder.')\n",
    "    else:\n",
    "        print('The folder contents:')\n",
    "        list_files(items)  "
   ]
  },
  {
   "cell_type": "code",
   "execution_count": 110,
   "metadata": {},
   "outputs": [],
   "source": [
    "import csv\n",
    "def read_csv_file(file_path):\n",
    "    \"\"\"Read a CSV file and return a list of dictionaries.\"\"\"\n",
    "    with open(file_path, 'r') as file:\n",
    "        reader = csv.DictReader(file)\n",
    "        return list(reader)\n",
    "\n",
    "def write_files_to_csv(all_files):\n",
    "    \"\"\"Write file data to a CSV file.\"\"\"\n",
    "    with open('drive_files.csv', 'w', newline='') as file:\n",
    "        writer = csv.writer(file)\n",
    "        writer.writerow([\"id\", \"name\", \"mimeType\", \"size\", \"parents\", \"modifiedTime\"])\n",
    "        for file in all_files:\n",
    "            writer.writerow([file['id'], file['name'], file['mimeType'], file.get('size', 'N/A'), file['parents'], file['modifiedTime']])"
   ]
  },
  {
   "cell_type": "code",
   "execution_count": 111,
   "metadata": {},
   "outputs": [],
   "source": [
    "def list_files_recursive(service, folder_id):\n",
    "    \"\"\"List all files under the specified folder.\"\"\"\n",
    "    # Query to get all files and folders under the current folder\n",
    "    query = f\"'{folder_id}' in parents and trashed = false\"\n",
    "\n",
    "    # Call the Drive v3 API\n",
    "    results = service.files().list(q=query, fields=\"nextPageToken, files(id, name, mimeType, size, parents, modifiedTime)\").execute()\n",
    "    items = results.get('files', [])\n",
    "\n",
    "    all_files = []\n",
    "    for item in items:\n",
    "        # If the item is a file, add it to the list\n",
    "        if item['mimeType'] != 'application/vnd.google-apps.folder':\n",
    "            all_files.append(item)\n",
    "        else:\n",
    "            # If the item is a folder, get all files in this folder (recursive call)\n",
    "            all_files.extend(list_files_recursive(service, item['id']))\n",
    "    return all_files"
   ]
  },
  {
   "cell_type": "code",
   "execution_count": 112,
   "metadata": {},
   "outputs": [],
   "source": [
    "def check_delete(service, folder_id, csv_file):\n",
    "    all_files = list_files_recursive(service, folder_id)\n",
    "    csv_files = read_csv_file(csv_file)\n",
    "    \n",
    "    # Create a set of file IDs from the csv_files\n",
    "    csv_file_dict = {file['id']: file for file in csv_files}\n",
    "    all_file_ids = set([file['id'] for file in all_files])\n",
    "    # Get the difference between the two sets\n",
    "    deleted_files = set(csv_file_dict.keys()) - all_file_ids\n",
    "    #print the deleted files\n",
    "    print(\"Deleted files:\")\n",
    "    deleted_files_list = [csv_file_dict[file_id] for file_id in deleted_files]\n",
    "    list_files(deleted_files_list)\n",
    "    "
   ]
  },
  {
   "cell_type": "code",
   "execution_count": 113,
   "metadata": {},
   "outputs": [],
   "source": [
    "def check_rename(service, folder_id, csv_file):\n",
    "    all_files = list_files_recursive(service, folder_id)\n",
    "    csv_files = read_csv_file(csv_file)\n",
    "\n",
    "    # Create a dictionary of file id and name from the csv_files\n",
    "    csv_file_dict = {file['id']: file['name'] for file in csv_files}\n",
    "    # Create a dictionary of file id and name from the all_files\n",
    "    all_file_dict = {file['id']: file['name'] for file in all_files}\n",
    "    # Get the difference between the two dictionaries\n",
    "    renamed_files = {file_id: (csv_file_dict[file_id], all_file_dict[file_id]) for file_id in csv_file_dict if file_id in all_file_dict and csv_file_dict[file_id] != all_file_dict[file_id]}\n",
    "    #print the renamed files\n",
    "    print(\"Renamed files:\")\n",
    "    print(renamed_files)\n",
    "\n",
    "    "
   ]
  },
  {
   "cell_type": "code",
   "execution_count": 114,
   "metadata": {},
   "outputs": [],
   "source": [
    "import os\n",
    "from docx import Document\n",
    "import io\n",
    "\n",
    "def extract_doc_content(files, service):\n",
    "    \"\"\"Extract the content of the .docx files and save it to a .txt file.\"\"\"\n",
    "    for file in files:\n",
    "        file_id = file['id']\n",
    "        # Get the file's metadata\n",
    "        file_metadata = service.files().get(fileId=file_id).execute()\n",
    "\n",
    "        # Check if it's a .docx file\n",
    "        if file_metadata['mimeType'] in ['application/msword', 'application/vnd.openxmlformats-officedocument.wordprocessingml.document']:\n",
    "        # It's a .docx file, download it\n",
    "            request = service.files().get_media(fileId=file_id)\n",
    "            fh = io.BytesIO()\n",
    "            downloader = MediaIoBaseDownload(fh, request)\n",
    "            done = False\n",
    "            while done is False:\n",
    "                status, done = downloader.next_chunk()\n",
    "        \n",
    "            # Use python-docx to read the content of the .docx file\n",
    "            document = Document(io.BytesIO(fh.getvalue()))\n",
    "            content = ' '.join(paragraph.text for paragraph in document.paragraphs)\n",
    "        elif file_metadata['mimeType'] in ['application/vnd.google-apps.document']:\n",
    "            # It's a Google Docs file, export it to text plain and read it\n",
    "            request = service.files().export_media(fileId=file_id, mimeType='text/plain')\n",
    "            fh = io.BytesIO()\n",
    "            downloader = MediaIoBaseDownload(fh, request)\n",
    "            done = False\n",
    "            while done is False:\n",
    "                status, done = downloader.next_chunk()\n",
    "            content = fh.getvalue().decode('utf-8')\n",
    "        else:\n",
    "            # It's not a .docx file, skip it\n",
    "            print(f\"Skipping file '{file_metadata['name']}' as it's not a word file\")\n",
    "            continue\n",
    "\n",
    "        # Create a .txt file with the content of the document\n",
    "        file_name = os.path.splitext(file_metadata['name'])[0] + '.txt'\n",
    "        with open(os.path.join('text_data', file_name), 'w') as f:\n",
    "            f.write(content)\n",
    "        print(f'The content of the file has been saved to text_data/{file_name}')"
   ]
  },
  {
   "cell_type": "markdown",
   "metadata": {},
   "source": [
    "# Main"
   ]
  },
  {
   "cell_type": "code",
   "execution_count": 115,
   "metadata": {},
   "outputs": [
    {
     "name": "stdout",
     "output_type": "stream",
     "text": [
      "Search result:\n",
      "ID                                 Name    Parents                  Size    Type                                Modified Time\n",
      "---------------------------------  ------  -----------------------  ------  ----------------------------------  ------------------------\n",
      "1JqkD75WXrok6iY4qEafzZtNcgHhdmEIS  CV      ['0AHU8XzNXkA9AUk9PVA']  N/A     application/vnd.google-apps.folder  2023-11-07T14:26:33.945Z\n",
      "\n",
      "\n",
      "\n",
      "\n",
      "The folder contents:\n",
      "ID                                            Name                   Parents                                Size      Type                                                                     Modified Time\n",
      "--------------------------------------------  ---------------------  -------------------------------------  --------  -----------------------------------------------------------------------  ------------------------\n",
      "1Q5hgY9JUtaj31TCCD12LQre-a2_qTFXm             CV_NguyenAnhKhoa1.pdf  ['1JqkD75WXrok6iY4qEafzZtNcgHhdmEIS']  35.51KB   application/pdf                                                          2024-02-27T04:43:44.826Z\n",
      "1NtxN8PTqS4Cm2uZalRElVMBBXVOMSKRp5bBbXBMSxDQ  Test gg doc            ['1JqkD75WXrok6iY4qEafzZtNcgHhdmEIS']  1.00KB    application/vnd.google-apps.document                                     2024-02-26T03:20:22.243Z\n",
      "1ARF_JnPoB0U2ymRBpZftQoE9wQ__ZaVa             test.docx              ['1JqkD75WXrok6iY4qEafzZtNcgHhdmEIS']  11.76KB   application/vnd.openxmlformats-officedocument.wordprocessingml.document  2024-02-25T14:24:15.000Z\n",
      "1DSoWM4IPDifUE6TOSRG78NYF29q4PsDq             Hello                  ['1JqkD75WXrok6iY4qEafzZtNcgHhdmEIS']  N/A       application/vnd.google-apps.folder                                       2024-02-25T13:52:25.376Z\n",
      "1QmBjsKlHv2nF_SoUOczUAPUIywXtDT9-             IELTS_Score.jpg        ['1JqkD75WXrok6iY4qEafzZtNcgHhdmEIS']  485.16KB  image/jpeg                                                               2023-11-07T14:35:03.000Z\n",
      "\n",
      "\n",
      "\n",
      "\n",
      "Recursive list of files under the specified folder:\n",
      "ID                                            Name                         Parents                                Size      Type                                                                     Modified Time\n",
      "--------------------------------------------  ---------------------------  -------------------------------------  --------  -----------------------------------------------------------------------  ------------------------\n",
      "1Q5hgY9JUtaj31TCCD12LQre-a2_qTFXm             CV_NguyenAnhKhoa1.pdf        ['1JqkD75WXrok6iY4qEafzZtNcgHhdmEIS']  35.51KB   application/pdf                                                          2024-02-27T04:43:44.826Z\n",
      "1NtxN8PTqS4Cm2uZalRElVMBBXVOMSKRp5bBbXBMSxDQ  Test gg doc                  ['1JqkD75WXrok6iY4qEafzZtNcgHhdmEIS']  1.00KB    application/vnd.google-apps.document                                     2024-02-26T03:20:22.243Z\n",
      "1ARF_JnPoB0U2ymRBpZftQoE9wQ__ZaVa             test.docx                    ['1JqkD75WXrok6iY4qEafzZtNcgHhdmEIS']  11.76KB   application/vnd.openxmlformats-officedocument.wordprocessingml.document  2024-02-25T14:24:15.000Z\n",
      "1-OKUB1WOuB39l1MfVBfavTtg0QpmC2WxiOEMASpOGH4  Inside another hello folder  ['19n-mSs-9EYSiduYGxi6Xmn2xlN3Bm099']  1.00KB    application/vnd.google-apps.spreadsheet                                  2024-02-26T03:43:12.561Z\n",
      "103PL8LTnGsRfH0vL62nQPTCtxAWE4hXP-XzvsCSrFik  Inside Hello folder          ['1DSoWM4IPDifUE6TOSRG78NYF29q4PsDq']  1.00KB    application/vnd.google-apps.document                                     2024-02-26T03:42:26.564Z\n",
      "1QmBjsKlHv2nF_SoUOczUAPUIywXtDT9-             IELTS_Score.jpg              ['1JqkD75WXrok6iY4qEafzZtNcgHhdmEIS']  485.16KB  image/jpeg                                                               2023-11-07T14:35:03.000Z\n",
      "\n",
      "\n",
      "\n",
      "\n",
      "\n",
      "\n",
      "\n",
      "\n",
      "\n",
      "\n",
      "\n",
      "\n",
      "Renamed files:\n",
      "{'1Q5hgY9JUtaj31TCCD12LQre-a2_qTFXm': ('CV_NguyenAnhKhoa.pdf', 'CV_NguyenAnhKhoa1.pdf')}\n"
     ]
    }
   ],
   "source": [
    "def main():\n",
    "    service = gdrive_service()\n",
    "    #gdrive_folder(service)\n",
    "    #gdrive_file(service)\n",
    "    #print(\"\\n\\n\\n\")\n",
    "    # get the ID of the folder named 'CV'\n",
    "    id = search_file_or_folder(service, 'CV')\n",
    "    print(\"\\n\\n\\n\")\n",
    "    get_files_or_folders_by_parent(service, id)\n",
    "    print(\"\\n\\n\\n\")\n",
    "    print(\"Recursive list of files under the specified folder:\")\n",
    "    all_files = list_files_recursive(service, id)\n",
    "    list_files(all_files)\n",
    "    # write the file data to a CSV file\n",
    "    #write_files_to_csv(all_files)\n",
    "    print(\"\\n\\n\\n\")\n",
    "    #extract_doc_content(all_files, service)\n",
    "    print(\"\\n\\n\\n\")\n",
    "    #check_delete(service, id, 'drive_files.csv')\n",
    "    print(\"\\n\\n\\n\")\n",
    "    check_rename(service, id, 'drive_files.csv')\n",
    "\n",
    "    \n",
    "\n",
    "if __name__ == \"__main__\":\n",
    "    main()"
   ]
  }
 ],
 "metadata": {
  "kernelspec": {
   "display_name": ".venv",
   "language": "python",
   "name": "python3"
  },
  "language_info": {
   "codemirror_mode": {
    "name": "ipython",
    "version": 3
   },
   "file_extension": ".py",
   "mimetype": "text/x-python",
   "name": "python",
   "nbconvert_exporter": "python",
   "pygments_lexer": "ipython3",
   "version": "3.9.18"
  }
 },
 "nbformat": 4,
 "nbformat_minor": 2
}
