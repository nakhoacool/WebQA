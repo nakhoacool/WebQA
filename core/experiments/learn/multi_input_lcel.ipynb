{
 "cells": [
  {
   "cell_type": "markdown",
   "metadata": {},
   "source": [
    "# Multi Inputs LCEL"
   ]
  },
  {
   "cell_type": "code",
   "execution_count": 1,
   "metadata": {},
   "outputs": [
    {
     "name": "stdout",
     "output_type": "stream",
     "text": [
      "11-langchain-expression-language.ipynb\tmulti_input_lcel.ipynb\n",
      "lcel_custom.ipynb\t\t\tpipe_operator.ipynb\n"
     ]
    }
   ],
   "source": [
    "!ls"
   ]
  },
  {
   "cell_type": "code",
   "execution_count": 2,
   "metadata": {},
   "outputs": [],
   "source": [
    "import sys\n",
    "sys.path.append(\"../../\")\n",
    "from src.config import Configuration\n",
    "config = Configuration()"
   ]
  },
  {
   "cell_type": "code",
   "execution_count": 11,
   "metadata": {},
   "outputs": [],
   "source": [
    "from langchain.prompts import ChatPromptTemplate\n",
    "from langchain.schema.output_parser import StrOutputParser\n",
    "from langchain_google_genai.chat_models import ChatGoogleGenerativeAI\n",
    "from operator import itemgetter\n",
    "from langsmith.run_helpers import traceable\n",
    "\n",
    "template = \"Tell me {smt} about {topic}\"\n",
    "prompt = ChatPromptTemplate.from_template(template=template)\n",
    "\n",
    "chat_model = ChatGoogleGenerativeAI(\n",
    "    model=\"gemini-pro\", \n",
    "    temperature=0, \n",
    "    google_api_key=config.load_gemini_token())\n",
    "\n",
    "chain = {\n",
    "    \"smt\": itemgetter(\"smt\"), \n",
    "    \"topic\": itemgetter(\"topic\")\n",
    "    } | prompt | chat_model | StrOutputParser()\n",
    "\n",
    "@traceable(tags=['learn', \"multi-input\"])\n",
    "def ask(input):\n",
    "    return chain.invoke(input)"
   ]
  },
  {
   "cell_type": "code",
   "execution_count": 13,
   "metadata": {},
   "outputs": [
    {
     "data": {
      "text/plain": [
       "'Why did the sea get arrested?\\n\\nBecause it was caught stealing the shore!'"
      ]
     },
     "execution_count": 13,
     "metadata": {},
     "output_type": "execute_result"
    }
   ],
   "source": [
    "config.enable_tracing(project=\"TEST\")\n",
    "ask({\"smt\": \"joke\", \"topic\": \"Sea\"})"
   ]
  }
 ],
 "metadata": {
  "kernelspec": {
   "display_name": "uni",
   "language": "python",
   "name": "python3"
  },
  "language_info": {
   "codemirror_mode": {
    "name": "ipython",
    "version": 3
   },
   "file_extension": ".py",
   "mimetype": "text/x-python",
   "name": "python",
   "nbconvert_exporter": "python",
   "pygments_lexer": "ipython3",
   "version": "3.9.18"
  },
  "orig_nbformat": 4
 },
 "nbformat": 4,
 "nbformat_minor": 2
}
