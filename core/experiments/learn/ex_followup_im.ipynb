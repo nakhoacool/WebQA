{
 "cells": [
  {
   "cell_type": "markdown",
   "metadata": {},
   "source": [
    "# Follow up answering RAG"
   ]
  },
  {
   "cell_type": "code",
   "execution_count": 1,
   "metadata": {},
   "outputs": [
    {
     "name": "stderr",
     "output_type": "stream",
     "text": [
      "/home/h4438/miniconda3/envs/uni/lib/python3.9/site-packages/tqdm/auto.py:21: TqdmWarning: IProgress not found. Please update jupyter and ipywidgets. See https://ipywidgets.readthedocs.io/en/stable/user_install.html\n",
      "  from .autonotebook import tqdm as notebook_tqdm\n"
     ]
    }
   ],
   "source": [
    "from langchain_google_genai.chat_models import ChatGoogleGenerativeAI\n",
    "from langsmith.run_helpers import traceable\n",
    "from langchain_core.prompts import ChatPromptTemplate, MessagesPlaceholder\n",
    "from langchain_core.runnables import RunnableLambda, RunnablePassthrough\n",
    "from langchain.memory import ConversationBufferMemory\n",
    "from operator import itemgetter\n",
    "\n",
    "import sys\n",
    "sys.path.append(\"../\")\n",
    "from src.config import Configuration\n",
    "\n",
    "\n",
    "class FollowUpChain:\n",
    "    def __init__(self, config: Configuration, doc_content: str) -> None:\n",
    "        # chat model\n",
    "        self.chat_model = ChatGoogleGenerativeAI(\n",
    "            model=\"gemini-pro\",\n",
    "            temperature=0,\n",
    "            convert_system_message_to_human=True,\n",
    "            google_api_key=config.load_gemini_token()\n",
    "        )\n",
    "        self.memory = ConversationBufferMemory(return_messages=True)\n",
    "        self.chain = None\n",
    "        self.doc = doc_content\n",
    "        self._build_chain()\n",
    "        return\n",
    "\n",
    "    def _build_chain(self, reset_memory: False):\n",
    "        if self.chain != None:\n",
    "            del self.chain\n",
    "        system_msg = \"You are a helpful admission assitant for Ton Duc Thang university.\\n\"\n",
    "        system_msg += 'Give you the following context to answer my questions. Output \"None\" if you cannot answer:\\n'\n",
    "        system_msg += f'```\\n{self.doc}\\n```\\n' \n",
    "        self.prompt = ChatPromptTemplate.from_messages([\n",
    "            (\"system\", system_msg),\n",
    "            MessagesPlaceholder(variable_name=\"history\"),\n",
    "            (\"human\", \"{question}\")])\n",
    "        if reset_memory:\n",
    "            self.memory = ConversationBufferMemory(return_messages=True)\n",
    "\n",
    "        self.chain = RunnablePassthrough.aschain = (\n",
    "            {\n",
    "                \"doc_content\": itemgetter(\"doc_content\"),\n",
    "                \"question\": itemgetter(\"question\"),\n",
    "            }\n",
    "            |RunnablePassthrough.assign(\n",
    "                history=RunnableLambda(self.memory.load_memory_variables) | itemgetter(\"history\"),\n",
    "            )\n",
    "            | self.prompt\n",
    "            | self.chat_model\n",
    "        )\n",
    "        return\n",
    "\n",
    "    def set_doc(self, doc_content: str):\n",
    "        self.doc = doc_content\n",
    "        self._build_chain(reset_memory=False)\n",
    "        return \n",
    "\n",
    "    @traceable(tags=[\"followup\"])\n",
    "    def answer(self, question: str) -> str:\n",
    "        if self.doc == None:\n",
    "            return 404\n",
    "        inputs = {\"question\": question, \"doc_content\": self.doc}\n",
    "        response = self.chain.invoke(inputs)\n",
    "        self.memory.save_context(inputs=inputs, outputs={\"output\": response.content})\n",
    "        return response\n",
    "\n"
   ]
  },
  {
   "cell_type": "markdown",
   "metadata": {},
   "source": [
    "# My code"
   ]
  },
  {
   "cell_type": "code",
   "execution_count": 7,
   "metadata": {},
   "outputs": [
    {
     "name": "stdout",
     "output_type": "stream",
     "text": [
      "From (44, 5) to 44\n",
      "From (11, 4) to 11\n",
      "From (8, 4) to 8\n"
     ]
    },
    {
     "data": {
      "text/plain": [
       "'Công nghệ sinh học là ngành ứng dụng các kiến thức trong lĩnh vực sinh học nhằm nghiên cứu và sản xuất ra các sản phẩm sinh học thiết yếu, sản phẩm có giá trị cao như vaccine, kháng sinh, xăng sinh học; cải tiến chất lượng giống cây trồng, ứng dụng vi sinh để xử lý nước thải công nghiệp, ứng dụng các hợp chất tự nhiên để điều trị bệnh và những ứng dụng khác phục vụ cho đời sống con người.\\n\\nVới cách tiếp cận và xây dựng chương trình đào tạo hiện đại, tiệm cận với các nền giáo dục tiên tiến và sát với yêu cầu về nguồn nhân lực của thị trường lao động, sinh viên sau khi tốt nghiệp ngành Công nghệ sinh học có thể đảm nhiệm các vị trí như: Phụ trách nghiên cứu và phát triển sản phẩm mới; phụ trách quản lý hệ thống và kiểm định dây chuyền sản xuất của nhà máy; phụ trách theo dõi và kiểm soát vi sinh sản phẩm; chẩn đoán bệnh bằng công nghệ di truyền, liệu pháp gene, công nghệ tế bào gốc; phụ trách theo dõi và phát triển phôi thụ tinh trong ống nghiệm, nghiên cứu và chế tạo vaccine; phụ trách lai tạo, chuyển gen để tạo ra giống cây trồng mới, … Ngoài ra, Kỹ sư Công nghệ sinh học còn có thể tiếp tục học lên cao học trong các lĩnh vực tin sinh học, di truyền, …\\nSinh viên được học các kiến thức từ cơ bản đến chuyên sâu như sinh học phân tử, sinh học tế bào, di truyền học, vi sinh vật học, hóa sinh, hóa lý, sinh thái học, công nghệ protein - enzyme, công nghệ gene tái tổ hợp…\\n\\nNgoài kiến thức chuyên môn được trang bị theo chương trình đào tạo quốc tế, sinh viên còn được thực hành trong các trung tâm thí nghiệm với thiết bị hiện đại và liên tục cập nhật. Ngoài ra, Nhà trường còn chú trọng đầu tư xây dựng các phòng thí nghiệm vi sinh, sinh học phân tử, nuôi cấy mô, vườn ươm, nhà kính thủy canh, nhà nấm, vườn dược liệu, … nhằm phục vụ nhu cầu học tập và nghiên cứu của sinh viên.\\n\\nSố tiết học thực hành chiếm khoảng 50% trong chương trình đào tạo, giúp sinh viên được trải nghiệm thực tế, góp phần nâng cao tay nghề bên cạnh việc tiếp thu kiến thức chuyên môn.\\n\\nCác học phần thuộc khối kiến thức chuyên ngành đều có sự tham gia của các doanh nghiệp dưới hình thức tham quan, trải nghiệm thực tế quy trình sản xuất, phân tích tình huống hoặc các buổi sinh hoạt học thuật về ứng dụng kiến thức sinh học vào thực tiễn như: quản lý nước thải, cải tiến chất lượng giống cây trồng, sản xuất nhiên liệu sinh học, nghiên cứu phương pháp chế tạo vaccine, thiết kế thuốc và liệu pháp gene, …\\n\\nTrong một số môn học chuyên sâu, các chuyên gia đến từ doanh nghiệp sẽ cùng với giảng viên của trường giảng dạy và hướng dẫn sinh viên thực hiện các dự án nghiên cứu ngay tại doanh nghiệp, từ đó nâng cao khả năng thực hành nghề nghiệp cho sinh viên ngay khi còn ngồi trên ghế Nhà trường. Tính ứng dụng của các học phần được thiết kế theo hướng tăng dần từ cấp độ cơ bản đến cấp độ sinh viên tự mình nghiên cứu và thực nghiệm các đề tài khoa học mang tính ứng dụng vào thực tiễn trong quá trình thực hiện khóa luận tốt nghiệp.'"
      ]
     },
     "execution_count": 7,
     "metadata": {},
     "output_type": "execute_result"
    }
   ],
   "source": [
    "import sys\n",
    "sys.path.append(\"../\")\n",
    "from src.service.provider import ProviderService\n",
    "from src.chain.local_followup import LocalFollowUpChain\n",
    "from src.prepare.data_load import DocDataLoader\n",
    "doc_loader = DocDataLoader()\n",
    "\n",
    "provider = ProviderService()\n",
    "provider.config.enable_tracing(project=\"OPTIMIZE\")\n",
    "\n",
    "\n",
    "doc = provider.docstore.find_document(category=\"major\", id=7)\n",
    "followup = LocalFollowUpChain(provider=provider, document=doc)\n",
    "doc.content\n"
   ]
  },
  {
   "cell_type": "code",
   "execution_count": 9,
   "metadata": {},
   "outputs": [
    {
     "data": {
      "text/plain": [
       "<src.rag.types.RAGResponse at 0x7f6bd86ea6d0>"
      ]
     },
     "execution_count": 9,
     "metadata": {},
     "output_type": "execute_result"
    }
   ],
   "source": [
    "q = \"cho em hỏi chuyên ngành này tên là gì?\"\n",
    "a = followup.answer(question=q)\n",
    "a"
   ]
  },
  {
   "cell_type": "code",
   "execution_count": 10,
   "metadata": {},
   "outputs": [
    {
     "data": {
      "text/plain": [
       "'Công nghệ sinh học'"
      ]
     },
     "execution_count": 10,
     "metadata": {},
     "output_type": "execute_result"
    }
   ],
   "source": [
    "a.answer"
   ]
  },
  {
   "cell_type": "code",
   "execution_count": 6,
   "metadata": {},
   "outputs": [
    {
     "data": {
      "text/plain": [
       "{'history': [HumanMessage(content='Ngành học này tên là gì?'),\n",
       "  AIMessage(content='Việt Nam học – Chuyên ngành Du lịch và Quản lý du lịch')]}"
      ]
     },
     "execution_count": 6,
     "metadata": {},
     "output_type": "execute_result"
    }
   ],
   "source": [
    "followup.memory.load_memory_variables({})"
   ]
  },
  {
   "cell_type": "code",
   "execution_count": 7,
   "metadata": {},
   "outputs": [
    {
     "data": {
      "text/plain": [
       "AIMessage(content='Cử nhân Việt Nam học – Chuyên ngành Du lịch và Quản lý du lịch có thể ứng tuyển vào các vị trí như:\\n- Chuyên viên cung cấp dịch vụ du lịch tại các khu du lịch, điểm vui chơi tham quan du lịch\\n- Chuyên gia tư vấn về chiến lược kinh doanh, khai thác, xây dựng và cung cấp sản phẩm du lịch\\n- Chuyên viên thuộc Bộ và Sở văn hóa – Thể thao – Du lịch như Trung tâm bồi dưỡng nghiệp vụ du lịch, Viện nghiên cứu và phát triển du lịch, Quy hoạch du lịch, Trung tâm xúc tiến du lịch\\n- Tự tạo lập doanh nghiệp du lịch mới với quy mô nhỏ hoặc tham gia giảng dạy tại các cơ sở đào tạo về du lịch')"
      ]
     },
     "execution_count": 7,
     "metadata": {},
     "output_type": "execute_result"
    }
   ],
   "source": [
    "q = \"Vậy cử nhân ngành này có thể ứng tuyển vào vị trí nào?\"\n",
    "a = followup.answer(question=q)\n",
    "a"
   ]
  },
  {
   "cell_type": "code",
   "execution_count": 23,
   "metadata": {},
   "outputs": [
    {
     "data": {
      "text/plain": [
       "'Việt Nam học – Chuyên ngành Du lịch và Quản lý du lịch'"
      ]
     },
     "execution_count": 23,
     "metadata": {},
     "output_type": "execute_result"
    }
   ],
   "source": [
    "a.content"
   ]
  },
  {
   "cell_type": "code",
   "execution_count": 8,
   "metadata": {},
   "outputs": [
    {
     "data": {
      "text/plain": [
       "{'history': [HumanMessage(content='Ngành học này tên là gì?'),\n",
       "  AIMessage(content='Việt Nam học – Chuyên ngành Du lịch và Quản lý du lịch'),\n",
       "  HumanMessage(content='Vậy cử nhân ngành này có thể ứng tuyển vào vị trí nào?'),\n",
       "  AIMessage(content='Cử nhân Việt Nam học – Chuyên ngành Du lịch và Quản lý du lịch có thể ứng tuyển vào các vị trí như:\\n- Chuyên viên cung cấp dịch vụ du lịch tại các khu du lịch, điểm vui chơi tham quan du lịch\\n- Chuyên gia tư vấn về chiến lược kinh doanh, khai thác, xây dựng và cung cấp sản phẩm du lịch\\n- Chuyên viên thuộc Bộ và Sở văn hóa – Thể thao – Du lịch như Trung tâm bồi dưỡng nghiệp vụ du lịch, Viện nghiên cứu và phát triển du lịch, Quy hoạch du lịch, Trung tâm xúc tiến du lịch\\n- Tự tạo lập doanh nghiệp du lịch mới với quy mô nhỏ hoặc tham gia giảng dạy tại các cơ sở đào tạo về du lịch')]}"
      ]
     },
     "execution_count": 8,
     "metadata": {},
     "output_type": "execute_result"
    }
   ],
   "source": [
    "followup.memory.load_memory_variables({})"
   ]
  }
 ],
 "metadata": {
  "kernelspec": {
   "display_name": "Python 3 (ipykernel)",
   "language": "python",
   "name": "python3"
  },
  "language_info": {
   "codemirror_mode": {
    "name": "ipython",
    "version": 3
   },
   "file_extension": ".py",
   "mimetype": "text/x-python",
   "name": "python",
   "nbconvert_exporter": "python",
   "pygments_lexer": "ipython3",
   "version": "3.9.18"
  }
 },
 "nbformat": 4,
 "nbformat_minor": 4
}
