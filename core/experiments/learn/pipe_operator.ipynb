{
 "cells": [
  {
   "cell_type": "markdown",
   "id": "7cc86ac4-9970-49a6-ae12-476f80f7dcea",
   "metadata": {},
   "source": [
    "# Learn pipe operator"
   ]
  },
  {
   "cell_type": "code",
   "execution_count": 1,
   "id": "14bd2c3c-bea4-406a-be66-a1cb5ad41d2d",
   "metadata": {},
   "outputs": [],
   "source": [
    "class Runnable:\n",
    "    def __init__(self, func):\n",
    "        self.func = func\n",
    "\n",
    "    def __or__(self, other):\n",
    "        def chained_func(*args, **kwargs):\n",
    "            # the other func consumes the result of this func\n",
    "            print(\"invoke\")\n",
    "            return other(self.func(*args, **kwargs))\n",
    "        return Runnable(chained_func)\n",
    "\n",
    "    def __call__(self, *args, **kwargs):\n",
    "        return self.func(*args, **kwargs)"
   ]
  },
  {
   "cell_type": "code",
   "execution_count": 6,
   "id": "fc41500d-4cd8-4644-8a5d-47b8657e3417",
   "metadata": {},
   "outputs": [],
   "source": [
    "class MyRunnable:\n",
    "    def __init__(self, func):\n",
    "        self.func = func\n",
    "        self.mem = None\n",
    "\n",
    "    def __setmem__(self, mem):\n",
    "        print(\"Install mem\")\n",
    "        self.mem = mem\n",
    "    \n",
    "    def __or__(self, other):\n",
    "        print(\"chained\")\n",
    "        def chained_func(*args, **kwargs):\n",
    "            # the other func consumes the result of this func\n",
    "            print(\"invoke\")\n",
    "            res = self.func(*args, **kwargs)\n",
    "            return other(res)\n",
    "        return Runnable(chained_func)\n",
    "\n",
    "    def __call__(self, *args, **kwargs):\n",
    "        res = self.func(*args, **kwargs)\n",
    "        self.mem.append(res)\n",
    "        return res"
   ]
  },
  {
   "cell_type": "code",
   "execution_count": 7,
   "id": "e16307e2-2392-4cef-ab2e-be4c2138c88c",
   "metadata": {},
   "outputs": [
    {
     "name": "stdout",
     "output_type": "stream",
     "text": [
      "Install mem\n",
      "invoke\n",
      "invoke\n",
      "15\n"
     ]
    },
    {
     "data": {
      "text/plain": [
       "[10]"
      ]
     },
     "execution_count": 7,
     "metadata": {},
     "output_type": "execute_result"
    }
   ],
   "source": [
    "def add_five(x):\n",
    "    return x + 5\n",
    "\n",
    "def multiply_by_two(x):\n",
    "    return x * 2\n",
    "\n",
    "# wrap the functions with Runnable\n",
    "mem = []\n",
    "add_five = Runnable(add_five)\n",
    "add_two_store = MyRunnable(lambda e: e + 2)\n",
    "add_two_store.__setmem__(mem)\n",
    "multiply_by_two = Runnable(multiply_by_two)\n",
    "\n",
    "etl = add_five | add_two_store | add_five\n",
    "print(etl(3))\n",
    "mem"
   ]
  },
  {
   "cell_type": "code",
   "execution_count": 23,
   "id": "14b98fa5-7531-43a5-897e-9423916cd290",
   "metadata": {},
   "outputs": [
    {
     "name": "stdout",
     "output_type": "stream",
     "text": [
      "chained\n",
      "call\n",
      "invoke\n",
      "call\n"
     ]
    },
    {
     "data": {
      "text/plain": [
       "16"
      ]
     },
     "execution_count": 23,
     "metadata": {},
     "output_type": "execute_result"
    }
   ],
   "source": [
    "def add_five(x):\n",
    "    return x + 5\n",
    "\n",
    "def multiply_by_two(x):\n",
    "    return x * 2\n",
    "\n",
    "# wrap the functions with Runnable\n",
    "mem = []\n",
    "add_five = Runnable(add_five, mem)\n",
    "multiply_by_two = Runnable(multiply_by_two, mem)\n",
    "\n",
    "# run them using the object approach\n",
    "chain = add_five.__or__(multiply_by_two)\n",
    "chain(3)  # should return 16\n"
   ]
  },
  {
   "cell_type": "code",
   "execution_count": 8,
   "id": "3d28d7b5-1eb1-4fde-981d-778c6f10ff20",
   "metadata": {},
   "outputs": [
    {
     "ename": "TypeError",
     "evalue": "unsupported operand type(s) for |: 'dict' and 'Runnable'",
     "output_type": "error",
     "traceback": [
      "\u001b[0;31m---------------------------------------------------------------------------\u001b[0m",
      "\u001b[0;31mTypeError\u001b[0m                                 Traceback (most recent call last)",
      "Cell \u001b[0;32mIn[8], line 6\u001b[0m\n\u001b[1;32m      2\u001b[0m     \u001b[38;5;28;01mreturn\u001b[39;00m data[\u001b[38;5;124m'\u001b[39m\u001b[38;5;124ma\u001b[39m\u001b[38;5;124m'\u001b[39m] \u001b[38;5;241m+\u001b[39m data[\u001b[38;5;124m'\u001b[39m\u001b[38;5;124mb\u001b[39m\u001b[38;5;124m'\u001b[39m]\n\u001b[1;32m      4\u001b[0m \u001b[38;5;28msum\u001b[39m \u001b[38;5;241m=\u001b[39m Runnable(\u001b[38;5;28msum\u001b[39m)\n\u001b[0;32m----> 6\u001b[0m a \u001b[38;5;241m=\u001b[39m \u001b[43m{\u001b[49m\u001b[38;5;124;43m\"\u001b[39;49m\u001b[38;5;124;43ma\u001b[39;49m\u001b[38;5;124;43m\"\u001b[39;49m\u001b[43m:\u001b[49m\u001b[43m \u001b[49m\u001b[38;5;241;43m1\u001b[39;49m\u001b[43m,\u001b[49m\u001b[43m \u001b[49m\u001b[38;5;124;43m\"\u001b[39;49m\u001b[38;5;124;43mb\u001b[39;49m\u001b[38;5;124;43m\"\u001b[39;49m\u001b[43m:\u001b[49m\u001b[38;5;241;43m2\u001b[39;49m\u001b[43m}\u001b[49m\u001b[43m \u001b[49m\u001b[38;5;241;43m|\u001b[39;49m\u001b[43m \u001b[49m\u001b[38;5;28;43msum\u001b[39;49m\n\u001b[1;32m      7\u001b[0m a\n",
      "\u001b[0;31mTypeError\u001b[0m: unsupported operand type(s) for |: 'dict' and 'Runnable'"
     ]
    }
   ],
   "source": [
    "def sum(data):\n",
    "    return data['a'] + data['b']\n",
    "\n",
    "sum = Runnable(sum)\n",
    "\n",
    "a = {\"a\": 1, \"b\":2} | sum\n",
    "a"
   ]
  }
 ],
 "metadata": {
  "kernelspec": {
   "display_name": "Python 3 (ipykernel)",
   "language": "python",
   "name": "python3"
  },
  "language_info": {
   "codemirror_mode": {
    "name": "ipython",
    "version": 3
   },
   "file_extension": ".py",
   "mimetype": "text/x-python",
   "name": "python",
   "nbconvert_exporter": "python",
   "pygments_lexer": "ipython3",
   "version": "3.9.18"
  }
 },
 "nbformat": 4,
 "nbformat_minor": 5
}
