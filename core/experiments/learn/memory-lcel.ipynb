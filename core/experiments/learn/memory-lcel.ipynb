{
 "cells": [
  {
   "cell_type": "code",
   "execution_count": 1,
   "metadata": {},
   "outputs": [
    {
     "name": "stderr",
     "output_type": "stream",
     "text": [
      "/home/h4438/miniconda3/envs/uni/lib/python3.9/site-packages/tqdm/auto.py:21: TqdmWarning: IProgress not found. Please update jupyter and ipywidgets. See https://ipywidgets.readthedocs.io/en/stable/user_install.html\n",
      "  from .autonotebook import tqdm as notebook_tqdm\n"
     ]
    }
   ],
   "source": [
    "from operator import itemgetter\n",
    "from langchain_google_genai import GoogleGenerativeAIEmbeddings, ChatGoogleGenerativeAI\n",
    "from langchain.memory import ConversationBufferMemory\n",
    "from langchain_core.prompts import ChatPromptTemplate, MessagesPlaceholder\n",
    "from langchain_core.runnables import RunnableLambda, RunnablePassthrough\n",
    "from langchain.schema import messages_from_dict, messages_to_dict\n",
    "\n",
    "import sys\n",
    "sys.path.append(\"../..\")\n",
    "from src.config import Configuration\n",
    "\n",
    "config = Configuration()\n",
    "\n",
    "chat_model = ChatGoogleGenerativeAI(\n",
    "    model=\"gemini-pro\",\n",
    "    temperature=0, \n",
    "    convert_system_message_to_human=True,\n",
    "    google_api_key=config.load_gemini_token()\n",
    ")\n",
    "\n",
    "prompt = ChatPromptTemplate.from_messages(\n",
    "    [\n",
    "        (\"system\", \"You are a helpful chatbot\"),\n",
    "        MessagesPlaceholder(variable_name=\"history\"),\n",
    "        (\"human\", \"{input}\"),\n",
    "    ]\n",
    ")\n",
    "\n",
    "memory = ConversationBufferMemory(return_messages=True)\n",
    "\n",
    "chain = RunnablePassthrough.aschain = (\n",
    "    RunnablePassthrough.assign(\n",
    "        history=RunnableLambda(memory.load_memory_variables) | itemgetter(\"history\")\n",
    "    )\n",
    "    | prompt\n",
    "    | chat_model\n",
    ")"
   ]
  },
  {
   "cell_type": "code",
   "execution_count": 2,
   "metadata": {},
   "outputs": [
    {
     "data": {
      "text/plain": [
       "AIMessage(content=\"It's nice to meet you, Bob! I'm here to help you with anything you need. Just ask me a question or give me a command, and I'll do my best to assist you.\\n\\nHere are some things I can do:\\n\\n* Answer your questions about a wide range of topics\\n* Translate text from one language to another\\n* Write different types of creative content, such as stories, poems, and songs\\n* Generate code in various programming languages\\n* Help you with math problems\\n* Play games with you\\n* And much more!\\n\\nI'm still under development, but I'm learning new things every day. I'm always eager to help, so please don't hesitate to ask me anything.\\n\\nHow can I help you today, Bob?\")"
      ]
     },
     "execution_count": 2,
     "metadata": {},
     "output_type": "execute_result"
    }
   ],
   "source": [
    "inputs = {\"input\": \"hi! My name is Bob\"}\n",
    "response = chain.invoke(inputs)\n",
    "memory.save_context(inputs=inputs, outputs={\"output\": response.content})\n",
    "response"
   ]
  },
  {
   "cell_type": "code",
   "execution_count": 10,
   "metadata": {},
   "outputs": [
    {
     "data": {
      "text/plain": [
       "'```\\nBOB\\n```\\n\\nIs there anything else I can help you with today, Bob?'"
      ]
     },
     "execution_count": 10,
     "metadata": {},
     "output_type": "execute_result"
    }
   ],
   "source": [
    "response.content"
   ]
  },
  {
   "cell_type": "code",
   "execution_count": 3,
   "metadata": {},
   "outputs": [
    {
     "data": {
      "text/plain": [
       "AIMessage(content='```\\nBOB\\n```\\n\\nIs there anything else I can help you with today, Bob?')"
      ]
     },
     "execution_count": 3,
     "metadata": {},
     "output_type": "execute_result"
    }
   ],
   "source": [
    "inputs = {\"input\": \"Write my name in full capitalized\"}\n",
    "response = chain.invoke(inputs)\n",
    "memory.save_context(inputs=inputs, outputs={\"output\": response.content})\n",
    "response"
   ]
  },
  {
   "cell_type": "code",
   "execution_count": 4,
   "metadata": {},
   "outputs": [
    {
     "data": {
      "text/plain": [
       "{'history': [HumanMessage(content='hi! My name is Bob'),\n",
       "  AIMessage(content=\"It's nice to meet you, Bob! I'm here to help you with anything you need. Just ask me a question or give me a command, and I'll do my best to assist you.\\n\\nHere are some things I can do:\\n\\n* Answer your questions about a wide range of topics\\n* Translate text from one language to another\\n* Write different types of creative content, such as stories, poems, and songs\\n* Generate code in various programming languages\\n* Help you with math problems\\n* Play games with you\\n* And much more!\\n\\nI'm still under development, but I'm learning new things every day. I'm always eager to help, so please don't hesitate to ask me anything.\\n\\nHow can I help you today, Bob?\"),\n",
       "  HumanMessage(content='Write my name in full capitalized'),\n",
       "  AIMessage(content='```\\nBOB\\n```\\n\\nIs there anything else I can help you with today, Bob?')]}"
      ]
     },
     "execution_count": 4,
     "metadata": {},
     "output_type": "execute_result"
    }
   ],
   "source": [
    "memory.load_memory_variables({})"
   ]
  },
  {
   "cell_type": "code",
   "execution_count": 5,
   "metadata": {},
   "outputs": [
    {
     "data": {
      "text/plain": [
       "[{'type': 'human',\n",
       "  'data': {'content': 'hi! My name is Bob',\n",
       "   'additional_kwargs': {},\n",
       "   'type': 'human',\n",
       "   'example': False}},\n",
       " {'type': 'ai',\n",
       "  'data': {'content': \"It's nice to meet you, Bob! I'm here to help you with anything you need. Just ask me a question or give me a command, and I'll do my best to assist you.\\n\\nHere are some things I can do:\\n\\n* Answer your questions about a wide range of topics\\n* Translate text from one language to another\\n* Write different types of creative content, such as stories, poems, and songs\\n* Generate code in various programming languages\\n* Help you with math problems\\n* Play games with you\\n* And much more!\\n\\nI'm still under development, but I'm learning new things every day. I'm always eager to help, so please don't hesitate to ask me anything.\\n\\nHow can I help you today, Bob?\",\n",
       "   'additional_kwargs': {},\n",
       "   'type': 'ai',\n",
       "   'example': False}},\n",
       " {'type': 'human',\n",
       "  'data': {'content': 'Write my name in full capitalized',\n",
       "   'additional_kwargs': {},\n",
       "   'type': 'human',\n",
       "   'example': False}},\n",
       " {'type': 'ai',\n",
       "  'data': {'content': '```\\nBOB\\n```\\n\\nIs there anything else I can help you with today, Bob?',\n",
       "   'additional_kwargs': {},\n",
       "   'type': 'ai',\n",
       "   'example': False}}]"
      ]
     },
     "execution_count": 5,
     "metadata": {},
     "output_type": "execute_result"
    }
   ],
   "source": [
    "a = messages_to_dict(messages=memory.buffer_as_messages)\n",
    "a"
   ]
  },
  {
   "cell_type": "code",
   "execution_count": 4,
   "metadata": {},
   "outputs": [
    {
     "data": {
      "text/plain": [
       "{'history': []}"
      ]
     },
     "execution_count": 4,
     "metadata": {},
     "output_type": "execute_result"
    }
   ],
   "source": [
    "memory.clear()\n",
    "memory.load_memory_variables({})"
   ]
  },
  {
   "cell_type": "code",
   "execution_count": 7,
   "metadata": {},
   "outputs": [
    {
     "data": {
      "text/plain": [
       "AIMessage(content='I do not have access to your personal information, therefore I cannot tell you your name.')"
      ]
     },
     "execution_count": 7,
     "metadata": {},
     "output_type": "execute_result"
    }
   ],
   "source": [
    "inputs = {\"input\": \"What is my name?\"}\n",
    "response = chain.invoke(inputs)\n",
    "memory.save_context(inputs=inputs, outputs={\"output\": response.content})\n",
    "response\n"
   ]
  },
  {
   "cell_type": "code",
   "execution_count": 8,
   "metadata": {},
   "outputs": [],
   "source": [
    "from langchain.memory.chat_message_histories.in_memory import ChatMessageHistory\n",
    "\n",
    "restored_chat = ChatMessageHistory(messages=messages_from_dict(a))\n",
    "\n",
    "memory = ConversationBufferMemory(chat_memory=restored_chat)"
   ]
  },
  {
   "cell_type": "code",
   "execution_count": 9,
   "metadata": {},
   "outputs": [
    {
     "data": {
      "text/plain": [
       "{'history': \"Human: hi! My name is Bob\\nAI: It's nice to meet you, Bob! I'm here to help you with anything you need. Just ask me a question or give me a command, and I'll do my best to assist you.\\n\\nHere are some things I can do:\\n\\n* Answer your questions about a wide range of topics\\n* Translate text from one language to another\\n* Write different types of creative content, such as stories, poems, and songs\\n* Generate code in various programming languages\\n* Help you with math problems\\n* Play games with you\\n* And much more!\\n\\nI'm still under development, but I'm learning new things every day. I'm always eager to help, so please don't hesitate to ask me anything.\\n\\nHow can I help you today, Bob?\\nHuman: Write my name in full capitalized\\nAI: ```\\nBOB\\n```\\n\\nIs there anything else I can help you with today, Bob?\"}"
      ]
     },
     "execution_count": 9,
     "metadata": {},
     "output_type": "execute_result"
    }
   ],
   "source": [
    "memory.load_memory_variables({})"
   ]
  },
  {
   "cell_type": "code",
   "execution_count": 10,
   "metadata": {},
   "outputs": [
    {
     "data": {
      "text/plain": [
       "AIMessage(content='I do not have access to your personal information, therefore I cannot tell you your name.')"
      ]
     },
     "execution_count": 10,
     "metadata": {},
     "output_type": "execute_result"
    }
   ],
   "source": [
    "inputs = {\"input\": \"What is my name?\"}\n",
    "response = chain.invoke(inputs)\n",
    "memory.save_context(inputs=inputs, outputs={\"output\": response.content})\n",
    "response\n"
   ]
  },
  {
   "cell_type": "code",
   "execution_count": 9,
   "metadata": {},
   "outputs": [
    {
     "name": "stdout",
     "output_type": "stream",
     "text": [
      "None\n"
     ]
    }
   ],
   "source": [
    "memory."
   ]
  }
 ],
 "metadata": {
  "kernelspec": {
   "display_name": "uni",
   "language": "python",
   "name": "python3"
  },
  "language_info": {
   "codemirror_mode": {
    "name": "ipython",
    "version": 3
   },
   "file_extension": ".py",
   "mimetype": "text/x-python",
   "name": "python",
   "nbconvert_exporter": "python",
   "pygments_lexer": "ipython3",
   "version": "3.9.18"
  },
  "orig_nbformat": 4
 },
 "nbformat": 4,
 "nbformat_minor": 2
}
