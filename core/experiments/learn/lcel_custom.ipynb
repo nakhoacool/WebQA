{
 "cells": [
  {
   "cell_type": "markdown",
   "metadata": {},
   "source": [
    "# LCEL custom "
   ]
  },
  {
   "cell_type": "code",
   "execution_count": 5,
   "metadata": {},
   "outputs": [],
   "source": [
    "from langchain_google_genai.chat_models import ChatGoogleGenerativeAI\n",
    "from langchain_google_genai.embeddings import GoogleGenerativeAIEmbeddings \n",
    "from langchain_community.vectorstores.elasticsearch import ElasticsearchStore\n",
    "from langchain_community.embeddings import HuggingFaceInferenceAPIEmbeddings\n",
    "from langchain.retrievers import BM25Retriever, EnsembleRetriever\n",
    "from langchain_core.output_parsers import StrOutputParser\n",
    "from langsmith.run_helpers import traceable\n",
    "from langchain_core.prompts import ChatPromptTemplate\n",
    "from langchain_core.prompts import ChatPromptTemplate\n",
    "from langchain_core.runnables import RunnableLambda, RunnablePassthrough\n",
    "\n",
    "import sys\n",
    "sys.path.append(\"../../\")\n",
    "from src.config import Configuration\n",
    "from src.prepare.data_load import DocDataLoader\n",
    "\n",
    "class HybridGeminiRagLearn:\n",
    "\n",
    "    def __init__(self, es_index: str, embed_model: str, config: Configuration):\n",
    "        \"\"\"\n",
    "            Initialize the RAG\n",
    "            @param es_index elastic search index\n",
    "            @param embed_model hugging face sentence-transformer model\n",
    "            @param config Configuration\n",
    "        \"\"\"\n",
    "        self.chat_model = ChatGoogleGenerativeAI(\n",
    "            model=\"gemini-pro\", \n",
    "            temperature=0, \n",
    "            google_api_key=config.load_gemini_token()\n",
    "        )\n",
    "        template = \"\"\"\\\n",
    "            Answer the question based only on the following context:\\n \\\n",
    "                {context} \\\n",
    "            \\nQuestion: {question}\"\"\"\n",
    "        prompt = ChatPromptTemplate.from_template(template)\n",
    "        self._init_retriever(es_index=es_index, embed_model=embed_model, config=config)\n",
    "        self.rag = (\n",
    "            {\"context\": self.ensemble_retriever, \"question\": RunnablePassthrough()}\n",
    "            | RunnableLambda(data)\n",
    "            | prompt \n",
    "        ) \n",
    "        return\n",
    "    \n",
    "    @traceable(tags=['learn', \"custom-lcel\"])\n",
    "    def run(self, input):\n",
    "        return self.rag.invoke(input)\n",
    "\n",
    "    def _init_retriever(self, es_index:str, embed_model:str, config:Configuration):\n",
    "        \"\"\"\n",
    "            Initialize Elastic, BM25 instances and combine them into hybrid search\n",
    "            This method is intented for private use. Please be cautious modifying.\n",
    "        \"\"\"\n",
    "        # embeddings = HuggingFaceInferenceAPIEmbeddings(\n",
    "        #     model_name=embed_model, api_key=config.load_hg_token(nth=0))\n",
    "        embeddings = GoogleGenerativeAIEmbeddings(model=\"models/embedding-001\", google_api_key=config.load_gemini_token())\n",
    "        # elastic\n",
    "        es = ElasticsearchStore(\n",
    "            es_connection=config.load_elasticsearch_connection(),\n",
    "            embedding=embeddings,\n",
    "            index_name=es_index, distance_strategy=\"EUCLIDEAN_DISTANCE\") \n",
    "        self.es_retriever = es.as_retriever(search_kwargs={\"k\": 2})\n",
    "        # BM-25\n",
    "        doc_loader = DocDataLoader()\n",
    "        self.bm25_retriever = BM25Retriever.from_documents(doc_loader.load_major_docs())\n",
    "        self.bm25_retriever.k = 2\n",
    "        self.ensemble_retriever = EnsembleRetriever(\n",
    "            retrievers=[self.bm25_retriever, self.es_retriever],\n",
    "            weights=[0.5, 0.5])\n",
    "        del doc_loader\n",
    "        return self.ensemble_retriever"
   ]
  },
  {
   "cell_type": "code",
   "execution_count": 6,
   "metadata": {},
   "outputs": [
    {
     "name": "stdout",
     "output_type": "stream",
     "text": [
      "From (44, 4) to Counter({1: 44})\n"
     ]
    }
   ],
   "source": [
    "config = Configuration()\n",
    "hybrid = HybridGeminiRagLearn(es_index=\"labse-major\", embed_model=\"sentence-transformer/LaBSE\", config=config)"
   ]
  },
  {
   "cell_type": "code",
   "execution_count": 7,
   "metadata": {},
   "outputs": [
    {
     "data": {
      "text/plain": [
       "ChatPromptValue(messages=[HumanMessage(content=\"            Answer the question based only on the following context:\\n                 [Document(page_content='Công nghệ sinh học là ngành ứng dụng các kiến thức trong lĩnh vực sinh học nhằm nghiên cứu và sản xuất ra các sản phẩm sinh học thiết yếu, sản phẩm có giá trị cao như vaccine, kháng sinh, xăng sinh học; cải tiến chất lượng giống cây trồng, ứng dụng vi sinh để xử lý nước thải công nghiệp, ứng dụng các hợp chất tự nhiên để điều trị bệnh và những ứng dụng khác phục vụ cho đời sống con người.\\\\n\\\\nVới cách tiếp cận và xây dựng chương trình đào tạo hiện đại, tiệm cận với các nền giáo dục tiên tiến và sát với yêu cầu về nguồn nhân lực của thị trường lao động, sinh viên sau khi tốt nghiệp ngành Công nghệ sinh học có thể đảm nhiệm các vị trí như: Phụ trách nghiên cứu và phát triển sản phẩm mới; phụ trách quản lý hệ thống và kiểm định dây chuyền sản xuất của nhà máy; phụ trách theo dõi và kiểm soát vi sinh sản phẩm; chẩn đoán bệnh bằng công nghệ di truyền, liệu pháp gene, công nghệ tế bào gốc; phụ trách theo dõi và phát triển phôi thụ tinh trong ống nghiệm, nghiên cứu và chế tạo vaccine; phụ trách lai tạo, chuyển gen để tạo ra giống cây trồng mới, … Ngoài ra, Kỹ sư Công nghệ sinh học còn có thể tiếp tục học lên cao học trong các lĩnh vực tin sinh học, di truyền, …\\\\nSinh viên được học các kiến thức từ cơ bản đến chuyên sâu như sinh học phân tử, sinh học tế bào, di truyền học, vi sinh vật học, hóa sinh, hóa lý, sinh thái học, công nghệ protein - enzyme, công nghệ gene tái tổ hợp…\\\\n\\\\nNgoài kiến thức chuyên môn được trang bị theo chương trình đào tạo quốc tế, sinh viên còn được thực hành trong các trung tâm thí nghiệm với thiết bị hiện đại và liên tục cập nhật. Ngoài ra, Nhà trường còn chú trọng đầu tư xây dựng các phòng thí nghiệm vi sinh, sinh học phân tử, nuôi cấy mô, vườn ươm, nhà kính thủy canh, nhà nấm, vườn dược liệu, … nhằm phục vụ nhu cầu học tập và nghiên cứu của sinh viên.\\\\n\\\\nSố tiết học thực hành chiếm khoảng 50% trong chương trình đào tạo, giúp sinh viên được trải nghiệm thực tế, góp phần nâng cao tay nghề bên cạnh việc tiếp thu kiến thức chuyên môn.', metadata={'id': 7}), Document(page_content='Dược học là ngành học ứng dụng khoa học công nghệ để nghiên cứu về sự tương quan giữa thuốc với cơ thể người và cách sử dụng thuốc trong điều trị bệnh, đảm bảo chất lượng và phân phối thuốc cũng như cung cấp thông tin, hướng dẫn sử dụng thuốc cho cộng đồng.\\\\n\\\\nSinh viên sau khi tốt nghiệp được trang bị đầy đủ kiến thức và kỹ năng chuyên môn về quản lý, bào chế, sản xuất và lưu thông thuốc để có đủ tự tin hòa nhập vào đội ngũ y tế cộng đồng và tham gia vào tất cả các cơ sở hành nghề dược với các vị trí như: dược sĩ tư vấn sử dụng thuốc tại các nhà thuốc; dược sĩ nghiên cứu và phát triển thuốc của các công ty, xí nghiệp sản xuất thuốc tân dược, đông dược và sinh phẩm y tế, công ty xuất nhập khẩu và phân phối thuốc; chuyên viên kiểm nghiệm chất lượng và nguyên liệu làm thuốc tại các bệnh viện, trung tâm kiểm nghiệm của Trung ương, địa phương; dược sĩ cung ứng thuốc nội - ngoại trú bệnh viện; giảng viên giảng dạy chuyên ngành Dược tại các trường Đại học, …\\\\nSinh viên theo học ngành Dược được trang bị khối kiến thức khoa học cơ bản và dược học cơ sở như hoá đại cương, sinh học đại cương, vật lý đại cương, giải phẫu - sinh lý, thực vật dược, công nghệ sinh học Dược, hóa lý dược, hóa phân tích, … Nhà trường còn cung cấp kiến thức chuyên môn cũng như kỹ năng về tất cả các lĩnh vực của chuyên ngành dược như hoá dược, dược liệu, dược lý, dược lâm sàng, kiểm nghiệm - đảm bảo chất lượng thuốc, kinh tế dược, quản lý và phân phối thuốc, …\\\\n\\\\nBên cạnh đó, sinh viên còn được thực hành tại các phòng thí nghiệm liên tục cập nhật trang thiết bị và máy móc hiện đại. Giáo trình lý thuyết và thực hành được thiết kế theo xu hướng nghề nghiệp nhằm cung cấp kịp thời cho sinh viên kiến thức mới nhất. Với thời lượng các môn thí nghiệm cao, sinh viên được củng cố và vận dụng lý thuyết đã học để ứng dụng vào thực tế, từ đó nâng cao tay nghề và kỹ năng cần thiết, đáp ứng yêu cầu của thị trường lao động trong lĩnh vực sức khỏe cộng đồng.\\\\n\\\\nSinh viên được tham gia công tác nghiên cứu khoa học với các đề tài có liên quan mật thiết đến nghiên cứu, phát triển thuốc và mối liên hệ của thuốc với sức khỏe con người, dưới sự hướng dẫn tận tình của các giảng viên giàu kinh nghiệm, giúp sinh viên bước đầu tiếp xúc với công tác nghiên cứu, áp dụng kiến thức đã học vào thực tế.\\\\n\\\\nVới chương trình học được xây dựng theo hướng kết nối với doanh nghiệp, sinh viên được đạo điều kiện để tham gia học hỏi và kiến tập tại các cơ sở hành nghề Dược uy tín như chuỗi nhà thuốc Long Châu, An Khang, công ty Bepharco, Tipharco, Trung tâm bảo tồn Dược liệu Mephydica, Bệnh viện Pháp Việt, Vinmec, …giúp sinh viên làm quen với môi trường nghề nghiệp thực tế, rèn luyện tác phong, kỷ luật làm việc cũng như tích lũy kinh nghiệm chuyên môn.', metadata={'id': 9}), Document(page_content='Xã hội học là một ngành chuyên điều tra, khảo sát xã hội, phản biện xã hội, tìm ra nguyên nhân của các hiện tượng xã hội bất ổn. Chẳng hạn như các vấn đề bạo lực đang dần trở thành bình thường ở nhiều nơi; sự xuống dốc của giáo dục; sự bất bình đẳng xã hội ngày càng gia tăng; tội phạm gia tăng; công nghệ truyền thông mạng ngày càng ảnh hưởng đến đời sống xã hội, tệ nạn tham nhũng, … là những hiện tượng xã hội cần nghiên cứu để tìm ra giải pháp, góp phần vào việc quản lý xã hội hiệu quả hơn trong giai đoạn hội nhập và phát triển.\\\\n\\\\nSinh viên tốt nghiệp ngành Xã hội học hoàn toàn có đủ kiến thức và kỹ năng nghề nghiệp để tự tin ứng tuyển vào làm việc cho các tổ chức xã hội, doanh nghiệp, trung tâm nghiên cứu; làm việc trong khu vực nhà nước , đoàn thể chính trị - xã hội; hỗ trợ và tư vấn kỹ thuật trong các cuộc khảo sát điều tra, viết đề xuất các dự án phát triển, hoạch định chính sách xã hội cho các tổ chức chính phủ và phi chính phủ; làm việc trong lĩnh vực báo chí, truyền thông, xuất bản; làm việc trong các bộ phận tiếp thị, quảng cáo, tư vấn khách hàng, quan hệ công chúng, quản lý hệ thống thông tin nội bộ, tổ chức sự kiện truyền thông doanh nghiệp hoặc tham gia giảng dạy tại các trường đại học về lĩnh vực nghiên cứu xã hội. Ngoài ra, cử nhân ngành Xã hội học còn có thể tiếp tục trau dồi thêm kiến thức ở các chương trình sau đại học.\\\\nNgoài những kiến thức cơ bản, sinh viên theo học ngành Xã hội học tại TDTU còn được trang bị các kiến thức chuyên sâu bao gồm xã hội học đô thị, xã hội học nông thôn, xã hội học lao động, xã hội học kinh tế, xã hội học văn hóa, xã hội học giáo dục, nghiên cứu giới, xã hội học gia đình, … nhằm đáp ứng nhu cầu của xã hội.', metadata={'id': 44}), Document(page_content='Quản lý xây dựng là ngành học vận dụng kiến thức chuyên môn để quản lý các dự án xây dựng, hoặc thực hiện nhiệm vụ tư vấn quản lý toàn bộ dự án, lập và thẩm định dự án đầu tư, lập hồ sơ thiết kế tổ chức thi công, tư vấn đấu thầu, quản lý thi công, nghiệm thu bàn giao công trình đưa vào sử dụng và thanh quyết toán công trình, kiểm định công trình xây dựng, v.v. Đối với một quốc gia đang phát triển nhanh như Việt Nam, nhu cầu về các chuyên gia quản lý xây dựng ngày càng cao, nhằm đảm bảo hiệu quả đầu tư dự án trong ngành xây dựng và sự phát triển bền vững của đất nước.\\\\n\\\\nSinh viên tốt nghiệp ngành Quản lý xây dựng có đủ năng lực và kỹ năng để ứng tuyển vào hầu hết các vị trí công việc liên quan đến công tác quản lý dự án tại doanh nghiệp xây dựng, đầu tư bất động sản như thiết kế, giám sát, thi công, đấu thầu, đầu tư, thanh quyết toán,…; làm việc tại các cơ quan quản lý Nhà nước và cơ quan chuyên môn của chủ đầu tư về xây dựng; trở thành giảng viên, nghiên cứu viên, hoặc tiếp tục bậc học cao hơn tại các cơ sở đào tạo trong và ngoài nước.\\\\nKhoa Kỹ thuật công trình, một trong những khoa mạnh của Trường Đại học Tôn Đức Thắng quản lý và tổ chức đào tạo cử nhân ngành Quản lý xây dựng. Chương trình Quản lý xây dựng được thiết kế trong 4 năm học, chia thành 8 học kỳ. Từ học kỳ 3, sinh viên bắt đầu vào học các môn cơ sở ngành, như: trắc địa công trình, cơ học kết cấu, nền móng, bê tông cốt thép, kết cấu thép công trình, kỹ thuật và tổ chức thi công, pháp luật trong quản lý dự án… ; và được trang bị thêm kiến thức chuyên ngành về giám sát công trình xây dựng, lập tổng mức đầu tư và tổng dự toán công trình, lập và thẩm định dự án đầu tư; quản lý các vấn đề liên quan về hợp đồng, đấu thầu, mua sắm, rủi ro, chất lượng, an toàn xây dựng, kiểm định công trình… Thời lượng thực hành thực tế chiếm hơn 30% tổng thời lượng đào tạo, sinh viên được trải nghiệm tại các dự án xây dựng, nhằm nhanh chóng tiếp cận kinh nghiệm giám sát và quản lý thực tiễn ngay từ những năm đầu tiên học tập.\\\\n\\\\nĐiểm nổi bật là chương trình đào tạo được thiết kế theo tiêu chuẩn quốc tế với 80% giáo trình, tài liệu bằng tiếng Anh cùng đội ngũ giảng viên có nhiều kinh nghiệm kinh nghiệm trong quản lý dự án chuyên nghiệp, là các Giáo sư, Tiến sĩ tốt nghiệp nước ngoài như Nhật Bản, Đài Loan, Úc, Hàn Quốc... Nội dung và phương pháp giảng dạy hiện đại, liên tục đổi mới nhằm khuyến khích và phát huy tính sáng tạo của người học.', metadata={'id': 31})]             \\nQuestion: hãy tư vấn ngành Dược\")])"
      ]
     },
     "execution_count": 7,
     "metadata": {},
     "output_type": "execute_result"
    }
   ],
   "source": [
    "config.enable_tracing(project=\"LEARN\")\n",
    "a = hybrid.run(\"hãy tư vấn ngành Dược\")\n",
    "a"
   ]
  },
  {
   "cell_type": "code",
   "execution_count": 11,
   "metadata": {},
   "outputs": [
    {
     "data": {
      "text/plain": [
       "\"Human:             Answer the question based only on the following context:\\n                 [Document(page_content='Công nghệ sinh học là ngành ứng dụng các kiến thức trong lĩnh vực sinh học nhằm nghiên cứu và sản xuất ra các sản phẩm sinh học thiết yếu, sản phẩm có giá trị cao như vaccine, kháng sinh, xăng sinh học; cải tiến chất lượng giống cây trồng, ứng dụng vi sinh để xử lý nước thải công nghiệp, ứng dụng các hợp chất tự nhiên để điều trị bệnh và những ứng dụng khác phục vụ cho đời sống con người.\\\\n\\\\nVới cách tiếp cận và xây dựng chương trình đào tạo hiện đại, tiệm cận với các nền giáo dục tiên tiến và sát với yêu cầu về nguồn nhân lực của thị trường lao động, sinh viên sau khi tốt nghiệp ngành Công nghệ sinh học có thể đảm nhiệm các vị trí như: Phụ trách nghiên cứu và phát triển sản phẩm mới; phụ trách quản lý hệ thống và kiểm định dây chuyền sản xuất của nhà máy; phụ trách theo dõi và kiểm soát vi sinh sản phẩm; chẩn đoán bệnh bằng công nghệ di truyền, liệu pháp gene, công nghệ tế bào gốc; phụ trách theo dõi và phát triển phôi thụ tinh trong ống nghiệm, nghiên cứu và chế tạo vaccine; phụ trách lai tạo, chuyển gen để tạo ra giống cây trồng mới, … Ngoài ra, Kỹ sư Công nghệ sinh học còn có thể tiếp tục học lên cao học trong các lĩnh vực tin sinh học, di truyền, …\\\\nSinh viên được học các kiến thức từ cơ bản đến chuyên sâu như sinh học phân tử, sinh học tế bào, di truyền học, vi sinh vật học, hóa sinh, hóa lý, sinh thái học, công nghệ protein - enzyme, công nghệ gene tái tổ hợp…\\\\n\\\\nNgoài kiến thức chuyên môn được trang bị theo chương trình đào tạo quốc tế, sinh viên còn được thực hành trong các trung tâm thí nghiệm với thiết bị hiện đại và liên tục cập nhật. Ngoài ra, Nhà trường còn chú trọng đầu tư xây dựng các phòng thí nghiệm vi sinh, sinh học phân tử, nuôi cấy mô, vườn ươm, nhà kính thủy canh, nhà nấm, vườn dược liệu, … nhằm phục vụ nhu cầu học tập và nghiên cứu của sinh viên.\\\\n\\\\nSố tiết học thực hành chiếm khoảng 50% trong chương trình đào tạo, giúp sinh viên được trải nghiệm thực tế, góp phần nâng cao tay nghề bên cạnh việc tiếp thu kiến thức chuyên môn.', metadata={'id': 7}), Document(page_content='Dược học là ngành học ứng dụng khoa học công nghệ để nghiên cứu về sự tương quan giữa thuốc với cơ thể người và cách sử dụng thuốc trong điều trị bệnh, đảm bảo chất lượng và phân phối thuốc cũng như cung cấp thông tin, hướng dẫn sử dụng thuốc cho cộng đồng.\\\\n\\\\nSinh viên sau khi tốt nghiệp được trang bị đầy đủ kiến thức và kỹ năng chuyên môn về quản lý, bào chế, sản xuất và lưu thông thuốc để có đủ tự tin hòa nhập vào đội ngũ y tế cộng đồng và tham gia vào tất cả các cơ sở hành nghề dược với các vị trí như: dược sĩ tư vấn sử dụng thuốc tại các nhà thuốc; dược sĩ nghiên cứu và phát triển thuốc của các công ty, xí nghiệp sản xuất thuốc tân dược, đông dược và sinh phẩm y tế, công ty xuất nhập khẩu và phân phối thuốc; chuyên viên kiểm nghiệm chất lượng và nguyên liệu làm thuốc tại các bệnh viện, trung tâm kiểm nghiệm của Trung ương, địa phương; dược sĩ cung ứng thuốc nội - ngoại trú bệnh viện; giảng viên giảng dạy chuyên ngành Dược tại các trường Đại học, …\\\\nSinh viên theo học ngành Dược được trang bị khối kiến thức khoa học cơ bản và dược học cơ sở như hoá đại cương, sinh học đại cương, vật lý đại cương, giải phẫu - sinh lý, thực vật dược, công nghệ sinh học Dược, hóa lý dược, hóa phân tích, … Nhà trường còn cung cấp kiến thức chuyên môn cũng như kỹ năng về tất cả các lĩnh vực của chuyên ngành dược như hoá dược, dược liệu, dược lý, dược lâm sàng, kiểm nghiệm - đảm bảo chất lượng thuốc, kinh tế dược, quản lý và phân phối thuốc, …\\\\n\\\\nBên cạnh đó, sinh viên còn được thực hành tại các phòng thí nghiệm liên tục cập nhật trang thiết bị và máy móc hiện đại. Giáo trình lý thuyết và thực hành được thiết kế theo xu hướng nghề nghiệp nhằm cung cấp kịp thời cho sinh viên kiến thức mới nhất. Với thời lượng các môn thí nghiệm cao, sinh viên được củng cố và vận dụng lý thuyết đã học để ứng dụng vào thực tế, từ đó nâng cao tay nghề và kỹ năng cần thiết, đáp ứng yêu cầu của thị trường lao động trong lĩnh vực sức khỏe cộng đồng.\\\\n\\\\nSinh viên được tham gia công tác nghiên cứu khoa học với các đề tài có liên quan mật thiết đến nghiên cứu, phát triển thuốc và mối liên hệ của thuốc với sức khỏe con người, dưới sự hướng dẫn tận tình của các giảng viên giàu kinh nghiệm, giúp sinh viên bước đầu tiếp xúc với công tác nghiên cứu, áp dụng kiến thức đã học vào thực tế.\\\\n\\\\nVới chương trình học được xây dựng theo hướng kết nối với doanh nghiệp, sinh viên được đạo điều kiện để tham gia học hỏi và kiến tập tại các cơ sở hành nghề Dược uy tín như chuỗi nhà thuốc Long Châu, An Khang, công ty Bepharco, Tipharco, Trung tâm bảo tồn Dược liệu Mephydica, Bệnh viện Pháp Việt, Vinmec, …giúp sinh viên làm quen với môi trường nghề nghiệp thực tế, rèn luyện tác phong, kỷ luật làm việc cũng như tích lũy kinh nghiệm chuyên môn.', metadata={'id': 9}), Document(page_content='Xã hội học là một ngành chuyên điều tra, khảo sát xã hội, phản biện xã hội, tìm ra nguyên nhân của các hiện tượng xã hội bất ổn. Chẳng hạn như các vấn đề bạo lực đang dần trở thành bình thường ở nhiều nơi; sự xuống dốc của giáo dục; sự bất bình đẳng xã hội ngày càng gia tăng; tội phạm gia tăng; công nghệ truyền thông mạng ngày càng ảnh hưởng đến đời sống xã hội, tệ nạn tham nhũng, … là những hiện tượng xã hội cần nghiên cứu để tìm ra giải pháp, góp phần vào việc quản lý xã hội hiệu quả hơn trong giai đoạn hội nhập và phát triển.\\\\n\\\\nSinh viên tốt nghiệp ngành Xã hội học hoàn toàn có đủ kiến thức và kỹ năng nghề nghiệp để tự tin ứng tuyển vào làm việc cho các tổ chức xã hội, doanh nghiệp, trung tâm nghiên cứu; làm việc trong khu vực nhà nước , đoàn thể chính trị - xã hội; hỗ trợ và tư vấn kỹ thuật trong các cuộc khảo sát điều tra, viết đề xuất các dự án phát triển, hoạch định chính sách xã hội cho các tổ chức chính phủ và phi chính phủ; làm việc trong lĩnh vực báo chí, truyền thông, xuất bản; làm việc trong các bộ phận tiếp thị, quảng cáo, tư vấn khách hàng, quan hệ công chúng, quản lý hệ thống thông tin nội bộ, tổ chức sự kiện truyền thông doanh nghiệp hoặc tham gia giảng dạy tại các trường đại học về lĩnh vực nghiên cứu xã hội. Ngoài ra, cử nhân ngành Xã hội học còn có thể tiếp tục trau dồi thêm kiến thức ở các chương trình sau đại học.\\\\nNgoài những kiến thức cơ bản, sinh viên theo học ngành Xã hội học tại TDTU còn được trang bị các kiến thức chuyên sâu bao gồm xã hội học đô thị, xã hội học nông thôn, xã hội học lao động, xã hội học kinh tế, xã hội học văn hóa, xã hội học giáo dục, nghiên cứu giới, xã hội học gia đình, … nhằm đáp ứng nhu cầu của xã hội.', metadata={'id': 44}), Document(page_content='Quản lý xây dựng là ngành học vận dụng kiến thức chuyên môn để quản lý các dự án xây dựng, hoặc thực hiện nhiệm vụ tư vấn quản lý toàn bộ dự án, lập và thẩm định dự án đầu tư, lập hồ sơ thiết kế tổ chức thi công, tư vấn đấu thầu, quản lý thi công, nghiệm thu bàn giao công trình đưa vào sử dụng và thanh quyết toán công trình, kiểm định công trình xây dựng, v.v. Đối với một quốc gia đang phát triển nhanh như Việt Nam, nhu cầu về các chuyên gia quản lý xây dựng ngày càng cao, nhằm đảm bảo hiệu quả đầu tư dự án trong ngành xây dựng và sự phát triển bền vững của đất nước.\\\\n\\\\nSinh viên tốt nghiệp ngành Quản lý xây dựng có đủ năng lực và kỹ năng để ứng tuyển vào hầu hết các vị trí công việc liên quan đến công tác quản lý dự án tại doanh nghiệp xây dựng, đầu tư bất động sản như thiết kế, giám sát, thi công, đấu thầu, đầu tư, thanh quyết toán,…; làm việc tại các cơ quan quản lý Nhà nước và cơ quan chuyên môn của chủ đầu tư về xây dựng; trở thành giảng viên, nghiên cứu viên, hoặc tiếp tục bậc học cao hơn tại các cơ sở đào tạo trong và ngoài nước.\\\\nKhoa Kỹ thuật công trình, một trong những khoa mạnh của Trường Đại học Tôn Đức Thắng quản lý và tổ chức đào tạo cử nhân ngành Quản lý xây dựng. Chương trình Quản lý xây dựng được thiết kế trong 4 năm học, chia thành 8 học kỳ. Từ học kỳ 3, sinh viên bắt đầu vào học các môn cơ sở ngành, như: trắc địa công trình, cơ học kết cấu, nền móng, bê tông cốt thép, kết cấu thép công trình, kỹ thuật và tổ chức thi công, pháp luật trong quản lý dự án… ; và được trang bị thêm kiến thức chuyên ngành về giám sát công trình xây dựng, lập tổng mức đầu tư và tổng dự toán công trình, lập và thẩm định dự án đầu tư; quản lý các vấn đề liên quan về hợp đồng, đấu thầu, mua sắm, rủi ro, chất lượng, an toàn xây dựng, kiểm định công trình… Thời lượng thực hành thực tế chiếm hơn 30% tổng thời lượng đào tạo, sinh viên được trải nghiệm tại các dự án xây dựng, nhằm nhanh chóng tiếp cận kinh nghiệm giám sát và quản lý thực tiễn ngay từ những năm đầu tiên học tập.\\\\n\\\\nĐiểm nổi bật là chương trình đào tạo được thiết kế theo tiêu chuẩn quốc tế với 80% giáo trình, tài liệu bằng tiếng Anh cùng đội ngũ giảng viên có nhiều kinh nghiệm kinh nghiệm trong quản lý dự án chuyên nghiệp, là các Giáo sư, Tiến sĩ tốt nghiệp nước ngoài như Nhật Bản, Đài Loan, Úc, Hàn Quốc... Nội dung và phương pháp giảng dạy hiện đại, liên tục đổi mới nhằm khuyến khích và phát huy tính sáng tạo của người học.', metadata={'id': 31})]             \\nQuestion: hãy tư vấn ngành Dược\""
      ]
     },
     "execution_count": 11,
     "metadata": {},
     "output_type": "execute_result"
    }
   ],
   "source": [
    "a.to_string()"
   ]
  }
 ],
 "metadata": {
  "kernelspec": {
   "display_name": "uni",
   "language": "python",
   "name": "python3"
  },
  "language_info": {
   "codemirror_mode": {
    "name": "ipython",
    "version": 3
   },
   "file_extension": ".py",
   "mimetype": "text/x-python",
   "name": "python",
   "nbconvert_exporter": "python",
   "pygments_lexer": "ipython3",
   "version": "3.9.18"
  },
  "orig_nbformat": 4
 },
 "nbformat": 4,
 "nbformat_minor": 2
}
