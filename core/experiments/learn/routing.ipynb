{
 "cells": [
  {
   "cell_type": "code",
   "execution_count": 1,
   "metadata": {},
   "outputs": [
    {
     "name": "stderr",
     "output_type": "stream",
     "text": [
      "/home/h4438/miniconda3/envs/uni/lib/python3.9/site-packages/tqdm/auto.py:21: TqdmWarning: IProgress not found. Please update jupyter and ipywidgets. See https://ipywidgets.readthedocs.io/en/stable/user_install.html\n",
      "  from .autonotebook import tqdm as notebook_tqdm\n"
     ]
    }
   ],
   "source": [
    "from langchain.prompts import PromptTemplate\n",
    "from langchain_community.chat_models import ChatAnthropic\n",
    "from langchain_core.output_parsers import StrOutputParser\n",
    "import sys\n",
    "sys.path.append(\"../../\")\n",
    "from src.config import Configuration\n",
    "\n",
    "config = Configuration()"
   ]
  },
  {
   "cell_type": "markdown",
   "metadata": {},
   "source": [
    "## Server RAG"
   ]
  },
  {
   "cell_type": "code",
   "execution_count": 2,
   "metadata": {},
   "outputs": [
    {
     "name": "stdout",
     "output_type": "stream",
     "text": [
      "From (44, 4) to Counter({2: 37, 1: 6, 3: 1})\n",
      "From (44, 4) to 44\n"
     ]
    }
   ],
   "source": [
    "from src.rag.hybrid_gemini import HybridGeminiRag\n",
    "INDEX = \"labse-major\"\n",
    "MODEL = \"sentence-transformers/LaBSE\"\n",
    "rag = HybridGeminiRag(config=config, es_index=INDEX, embed_model=MODEL)\n"
   ]
  },
  {
   "cell_type": "code",
   "execution_count": null,
   "metadata": {},
   "outputs": [],
   "source": [
    "a = rag.chain.invoke()"
   ]
  },
  {
   "cell_type": "markdown",
   "metadata": {},
   "source": [
    "## Local Follow Up"
   ]
  },
  {
   "cell_type": "code",
   "execution_count": 3,
   "metadata": {},
   "outputs": [
    {
     "name": "stdout",
     "output_type": "stream",
     "text": [
      "From (44, 4) to 44\n"
     ]
    },
    {
     "data": {
      "text/plain": [
       "'Kỹ thuật hoá học là ngành học'"
      ]
     },
     "execution_count": 3,
     "metadata": {},
     "output_type": "execute_result"
    }
   ],
   "source": [
    "from src.prepare.data_load import DocDataLoader\n",
    "\n",
    "doc_loader = DocDataLoader()\n",
    "docs = doc_loader.load_major_docs_full()\n",
    "d1 = docs[15]\n",
    "d1.page_content[:30]"
   ]
  },
  {
   "cell_type": "code",
   "execution_count": 4,
   "metadata": {},
   "outputs": [],
   "source": [
    "from src.chain.followup import LocalFollowUpChain\n",
    "followup = LocalFollowUpChain(config=config, doc_content=d1.page_content)"
   ]
  },
  {
   "cell_type": "code",
   "execution_count": null,
   "metadata": {},
   "outputs": [],
   "source": []
  },
  {
   "cell_type": "markdown",
   "metadata": {},
   "source": [
    "## Router"
   ]
  },
  {
   "cell_type": "code",
   "execution_count": 6,
   "metadata": {},
   "outputs": [],
   "source": [
    "from langchain_core.runnables import RunnableBranch\n",
    "\n",
    "\n",
    "branch = RunnableBranch(\n",
    "    (lambda x: \"local\" in x[\"topic\"].lower(), followup.chain),\n",
    "    rag.chain\n",
    ")\n"
   ]
  },
  {
   "cell_type": "code",
   "execution_count": 8,
   "metadata": {},
   "outputs": [],
   "source": [
    "llm = config.get_gemini_pro(convert_system_message=False)\n",
    "template = \"\"\"Given the user question below, classify it as either being about `Local`, or `Other`. Known that:\n",
    "```\n",
    "    Local: when the question related to \"ngành kỹ thuật hóa học\" or \"ngành kỹ thuật hóa học trường Tôn Đức Thắng\".\n",
    "```\n",
    "Do not respond with more than one word.\n",
    "\n",
    "<question>\n",
    "{question}\n",
    "</question>\n",
    "\n",
    "Classification:\"\"\"\n",
    "chain = (\n",
    "    PromptTemplate.from_template(template=template)\n",
    "    | llm\n",
    "    | StrOutputParser()\n",
    ")"
   ]
  },
  {
   "cell_type": "code",
   "execution_count": 9,
   "metadata": {},
   "outputs": [],
   "source": [
    "full_chain = {\"topic\": chain, \"question\": lambda x: x[\"question\"]} | branch"
   ]
  },
  {
   "cell_type": "code",
   "execution_count": 10,
   "metadata": {},
   "outputs": [],
   "source": [
    "config.enable_tracing(project=\"LEARN\")"
   ]
  },
  {
   "cell_type": "code",
   "execution_count": 11,
   "metadata": {},
   "outputs": [],
   "source": [
    "from langsmith.run_helpers import traceable\n",
    "\n",
    "@traceable(tags=['route'])\n",
    "def run_full_chain(q):\n",
    "    a = full_chain.invoke({\"question\": q})\n",
    "    return a"
   ]
  },
  {
   "cell_type": "code",
   "execution_count": 13,
   "metadata": {},
   "outputs": [
    {
     "data": {
      "text/plain": [
       "AIMessage(content='**Điểm mạnh của ngành Kỹ thuật Hóa học tại Trường Đại học Tôn Đức Thắng:**\\n\\n* Chương trình đào tạo quốc tế\\n* Trang bị kiến thức chuyên sâu về hóa lý, vật liệu vô cơ, vật liệu hữu cơ, tách chiết hợp chất\\n* Thực hành chiếm 50% chương trình đào tạo với các phòng thí nghiệm hiện đại\\n* Kết nối doanh nghiệp chặt chẽ, tạo cơ hội trải nghiệm thực tế và thực hiện dự án nghiên cứu\\n* Hỗ trợ sinh viên tham gia các dự án nghiên cứu khoa học và cuộc thi học thuật\\n\\n**Cơ hội nghề nghiệp:**\\n\\n* Chuyên viên vận hành và quản lý sản xuất\\n* Chuyên viên nghiên cứu phát triển sản phẩm\\n* Chuyên viên tư vấn quản lý và chuyển giao công nghệ\\n* Nhân viên kinh doanh hóa chất\\n* Nhân viên kiểm soát chất lượng sản phẩm\\n* Nghiên cứu, giảng dạy tại các trung tâm, viện nghiên cứu, trường đại học cao đẳng')"
      ]
     },
     "execution_count": 13,
     "metadata": {},
     "output_type": "execute_result"
    }
   ],
   "source": [
    "q = \"em muốn anh tư vấn ngành kỹ thuật hóa học ạ\"\n",
    "a = run_full_chain(q)\n",
    "a"
   ]
  }
 ],
 "metadata": {
  "kernelspec": {
   "display_name": "uni",
   "language": "python",
   "name": "python3"
  },
  "language_info": {
   "codemirror_mode": {
    "name": "ipython",
    "version": 3
   },
   "file_extension": ".py",
   "mimetype": "text/x-python",
   "name": "python",
   "nbconvert_exporter": "python",
   "pygments_lexer": "ipython3",
   "version": "3.9.18"
  },
  "orig_nbformat": 4
 },
 "nbformat": 4,
 "nbformat_minor": 2
}
