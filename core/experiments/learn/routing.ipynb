{
 "cells": [
  {
   "cell_type": "code",
   "execution_count": 1,
   "metadata": {},
   "outputs": [
    {
     "name": "stderr",
     "output_type": "stream",
     "text": [
      "/home/h4438/miniconda3/envs/uni/lib/python3.9/site-packages/tqdm/auto.py:21: TqdmWarning: IProgress not found. Please update jupyter and ipywidgets. See https://ipywidgets.readthedocs.io/en/stable/user_install.html\n",
      "  from .autonotebook import tqdm as notebook_tqdm\n"
     ]
    }
   ],
   "source": [
    "from langchain.prompts import PromptTemplate\n",
    "from langchain_community.chat_models import ChatAnthropic\n",
    "from langchain_core.output_parsers import StrOutputParser\n",
    "import sys\n",
    "sys.path.append(\"../../\")\n",
    "from src.config import Configuration\n",
    "\n",
    "config = Configuration()"
   ]
  },
  {
   "cell_type": "code",
   "execution_count": 2,
   "metadata": {},
   "outputs": [
    {
     "name": "stdout",
     "output_type": "stream",
     "text": [
      "From (44, 5) to 44\n",
      "From (44, 4) to 44\n"
     ]
    }
   ],
   "source": [
    "from src.robot import RAGRobot\n",
    "from src.service.provider import ProviderService\n",
    "from langsmith.run_helpers import traceable\n",
    "\n",
    "config.enable_tracing(project=\"LEARN\")\n",
    "provider = ProviderService()\n",
    "robot = RAGRobot(provider=provider)\n",
    "\n",
    "\n",
    "@traceable(tags=['route'])\n",
    "def run_full_chain(q):\n",
    "    a = robot.main_chain.invoke({\"question\": q})\n",
    "    return a\n"
   ]
  },
  {
   "cell_type": "code",
   "execution_count": 4,
   "metadata": {},
   "outputs": [
    {
     "data": {
      "text/plain": [
       "langchain_core.runnables.base.RunnableSequence"
      ]
     },
     "execution_count": 4,
     "metadata": {},
     "output_type": "execute_result"
    }
   ],
   "source": [
    "type (robot.major_rag.chain)"
   ]
  },
  {
   "cell_type": "code",
   "execution_count": 3,
   "metadata": {},
   "outputs": [
    {
     "data": {
      "text/plain": [
       "'Local'"
      ]
     },
     "execution_count": 3,
     "metadata": {},
     "output_type": "execute_result"
    }
   ],
   "source": [
    "q = \"sinh viên tốt nghiệp ngành kỹ thuật hóa học có thể ứng tuyển vào vị trí nào?\"\n",
    "a = robot.router.invoke({\"question\": q})\n",
    "a"
   ]
  },
  {
   "cell_type": "code",
   "execution_count": 4,
   "metadata": {},
   "outputs": [
    {
     "data": {
      "text/plain": [
       "'Major'"
      ]
     },
     "execution_count": 4,
     "metadata": {},
     "output_type": "execute_result"
    }
   ],
   "source": [
    "q = \"sinh viên tốt nghiệp ngành công nghệ phần mềm có thể ứng tuyển vào vị trí nào?\"\n",
    "a = robot.router.invoke({\"question\": q})\n",
    "a"
   ]
  },
  {
   "cell_type": "code",
   "execution_count": 5,
   "metadata": {},
   "outputs": [
    {
     "data": {
      "text/plain": [
       "'Major'"
      ]
     },
     "execution_count": 5,
     "metadata": {},
     "output_type": "execute_result"
    }
   ],
   "source": [
    "q = \"trường có dạy AI không ạ?\"\n",
    "a = robot.router.invoke({\"question\": q})\n",
    "a"
   ]
  },
  {
   "cell_type": "code",
   "execution_count": 6,
   "metadata": {},
   "outputs": [
    {
     "data": {
      "text/plain": [
       "'Other'"
      ]
     },
     "execution_count": 6,
     "metadata": {},
     "output_type": "execute_result"
    }
   ],
   "source": [
    "q = \"trường có khuôn viên như thế nào?\"\n",
    "a = robot.router.invoke({\"question\": q})\n",
    "a"
   ]
  },
  {
   "cell_type": "code",
   "execution_count": 8,
   "metadata": {},
   "outputs": [
    {
     "data": {
      "text/plain": [
       "AIMessage(content='- Chuyên viên vận hành và quản lý sản xuất\\n- Chuyên viên nghiên cứu phát triển sản phẩm\\n- Chuyên viên tư vấn quản lí và chuyển giao công nghệ\\n- Nhân viên kinh doanh hóa chất\\n- Nhân viên kiểm soát chất lượng sản phẩm')"
      ]
     },
     "execution_count": 8,
     "metadata": {},
     "output_type": "execute_result"
    }
   ],
   "source": [
    "a = robot.followup.chain.invoke({\"question\": q})\n",
    "a"
   ]
  },
  {
   "cell_type": "markdown",
   "metadata": {},
   "source": [
    "## Server RAG"
   ]
  },
  {
   "cell_type": "code",
   "execution_count": 3,
   "metadata": {},
   "outputs": [
    {
     "name": "stdout",
     "output_type": "stream",
     "text": [
      "From (44, 4) to 44\n"
     ]
    }
   ],
   "source": [
    "from src.rag.hybrid_rag import HybridGeminiRAG\n",
    "from src.service.provider import ProviderService\n",
    "services = ProviderService()\n",
    "\n",
    "major = services.get_categories().major\n",
    "\n",
    "rag = HybridGeminiRAG(\n",
    "    vector_es_index=\"labse-major\", \n",
    "    txt_es_index=\"text-split-major\", \n",
    "    db_category=major, provider=services)"
   ]
  },
  {
   "cell_type": "markdown",
   "metadata": {},
   "source": [
    "## Local Follow Up"
   ]
  },
  {
   "cell_type": "code",
   "execution_count": 4,
   "metadata": {},
   "outputs": [
    {
     "name": "stdout",
     "output_type": "stream",
     "text": [
      "From (44, 4) to 44\n"
     ]
    },
    {
     "data": {
      "text/plain": [
       "'Kỹ thuật hoá học là ngành học'"
      ]
     },
     "execution_count": 4,
     "metadata": {},
     "output_type": "execute_result"
    }
   ],
   "source": [
    "from src.prepare.data_load import DocDataLoader\n",
    "\n",
    "doc_loader = DocDataLoader()\n",
    "docs = doc_loader.load_major_docs_full()\n",
    "d1 = docs[15]\n",
    "d1.page_content[:30]"
   ]
  },
  {
   "cell_type": "code",
   "execution_count": 5,
   "metadata": {},
   "outputs": [],
   "source": [
    "from src.chain.followup import LocalFollowUpChain\n",
    "followup = LocalFollowUpChain(config=config, doc_content=d1.page_content)"
   ]
  },
  {
   "cell_type": "markdown",
   "metadata": {},
   "source": [
    "## Router"
   ]
  },
  {
   "cell_type": "code",
   "execution_count": 6,
   "metadata": {},
   "outputs": [],
   "source": [
    "from langchain_core.runnables import RunnableBranch\n",
    "\n",
    "\n",
    "branch = RunnableBranch(\n",
    "    (lambda x: \"local\" in x[\"topic\"].lower(), followup.chain),\n",
    "    rag.chain\n",
    ")\n"
   ]
  },
  {
   "cell_type": "code",
   "execution_count": 7,
   "metadata": {},
   "outputs": [],
   "source": [
    "llm = config.get_gemini_pro(convert_system_message=False)\n",
    "template = \"\"\"Given the user question below, classify it as either being about `Local`, or `Other`. Known that:\n",
    "```\n",
    "    Local: when the question related to \"ngành kỹ thuật hóa học\" or \"ngành kỹ thuật hóa học trường Tôn Đức Thắng\".\n",
    "```\n",
    "Do not respond with more than one word.\n",
    "\n",
    "<question>\n",
    "{question}\n",
    "</question>\n",
    "\n",
    "Classification:\"\"\"\n",
    "chain = (\n",
    "    PromptTemplate.from_template(template=template)\n",
    "    | llm\n",
    "    | StrOutputParser()\n",
    ")"
   ]
  },
  {
   "cell_type": "code",
   "execution_count": 8,
   "metadata": {},
   "outputs": [],
   "source": [
    "full_chain = {\"topic\": chain, \"question\": lambda x: x[\"question\"]} | branch"
   ]
  },
  {
   "cell_type": "code",
   "execution_count": 9,
   "metadata": {},
   "outputs": [],
   "source": [
    "config.enable_tracing(project=\"LEARN\")"
   ]
  },
  {
   "cell_type": "code",
   "execution_count": 10,
   "metadata": {},
   "outputs": [],
   "source": [
    "from langsmith.run_helpers import traceable\n",
    "\n",
    "@traceable(tags=['route'])\n",
    "def run_full_chain(q):\n",
    "    a = full_chain.invoke({\"question\": q})\n",
    "    return a"
   ]
  },
  {
   "cell_type": "code",
   "execution_count": 11,
   "metadata": {},
   "outputs": [
    {
     "data": {
      "text/plain": [
       "AIMessage(content='- Chuyên viên vận hành và quản lý sản xuất\\n- Chuyên viên nghiên cứu phát triển sản phẩm\\n- Chuyên viên tư vấn quản lí và chuyển giao công nghệ\\n- Nhân viên kinh doanh hóa chất\\n- Nhân viên kiểm soát chất lượng sản phẩm')"
      ]
     },
     "execution_count": 11,
     "metadata": {},
     "output_type": "execute_result"
    }
   ],
   "source": [
    "q = \"sinh viên tốt nghiệp ngành kỹ thuật hóa học có thể ứng tuyển vào vị trí nào?\"\n",
    "a = run_full_chain(q)\n",
    "a"
   ]
  },
  {
   "cell_type": "code",
   "execution_count": 12,
   "metadata": {},
   "outputs": [
    {
     "data": {
      "text/plain": [
       "'Chuyên viên phân tích yêu cầu (BA), Kiến trúc sư phần mềm (SA), Lập trình viên (Developer), Chuyên viên thử nghiệm phần mềm (Tester), chuyên viên cầu nối (BrSE), chuyên viên nghiên cứu và phát triển ứng dụng (R&D), giảng viên giảng dạy các môn học về ngành kỹ thuật phần mềm'"
      ]
     },
     "execution_count": 12,
     "metadata": {},
     "output_type": "execute_result"
    }
   ],
   "source": [
    "q = \"sinh viên tốt nghiệp ngành công nghệ phần mềm có thể ứng tuyển vào vị trí nào?\"\n",
    "a = run_full_chain(q)\n",
    "a"
   ]
  }
 ],
 "metadata": {
  "kernelspec": {
   "display_name": "Python 3 (ipykernel)",
   "language": "python",
   "name": "python3"
  },
  "language_info": {
   "codemirror_mode": {
    "name": "ipython",
    "version": 3
   },
   "file_extension": ".py",
   "mimetype": "text/x-python",
   "name": "python",
   "nbconvert_exporter": "python",
   "pygments_lexer": "ipython3",
   "version": "3.9.18"
  }
 },
 "nbformat": 4,
 "nbformat_minor": 4
}
