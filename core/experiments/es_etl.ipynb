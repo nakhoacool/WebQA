{
 "cells": [
  {
   "cell_type": "markdown",
   "id": "589633bf-8577-452c-af7c-786653ea471a",
   "metadata": {},
   "source": [
    "# Load the Documents"
   ]
  },
  {
   "cell_type": "code",
   "execution_count": 1,
   "id": "5d0ef849-b1f4-4202-8ff2-37d8cd163a72",
   "metadata": {},
   "outputs": [
    {
     "name": "stderr",
     "output_type": "stream",
     "text": [
      "/home/h4438/miniconda3/envs/uni/lib/python3.9/site-packages/tqdm/auto.py:21: TqdmWarning: IProgress not found. Please update jupyter and ipywidgets. See https://ipywidgets.readthedocs.io/en/stable/user_install.html\n",
      "  from .autonotebook import tqdm as notebook_tqdm\n"
     ]
    },
    {
     "name": "stdout",
     "output_type": "stream",
     "text": [
      "From (8, 4) to Counter({1: 4, 2: 2, 4: 1, 3: 1})\n"
     ]
    }
   ],
   "source": [
    "import sys\n",
    "sys.path.append(\"../\")\n",
    "from src.config import Configuration\n",
    "from src.prepare import data_load\n",
    "\n",
    "doc_loader = data_load.DocDataLoader()\n",
    "config = Configuration()\n",
    "\n",
    "folder = \"test_training_program\"\n",
    "db = doc_loader.load_docs(data_folder=folder,size=800, overlap=40)"
   ]
  },
  {
   "cell_type": "markdown",
   "id": "de21816c",
   "metadata": {},
   "source": [
    "# Choose model"
   ]
  },
  {
   "cell_type": "markdown",
   "id": "717321d6-6075-492f-853e-768c247f3381",
   "metadata": {},
   "source": [
    "### Gemini"
   ]
  },
  {
   "cell_type": "code",
   "execution_count": 3,
   "id": "a23a50f1-4253-460f-a868-e5f7305854d6",
   "metadata": {},
   "outputs": [
    {
     "name": "stderr",
     "output_type": "stream",
     "text": [
      "/home/h4438/miniconda3/envs/uni/lib/python3.9/site-packages/tqdm/auto.py:21: TqdmWarning: IProgress not found. Please update jupyter and ipywidgets. See https://ipywidgets.readthedocs.io/en/stable/user_install.html\n",
      "  from .autonotebook import tqdm as notebook_tqdm\n"
     ]
    }
   ],
   "source": [
    "from langchain_google_genai import GoogleGenerativeAIEmbeddings\n",
    "\n",
    "INDEX = \"gemini-major\"\n",
    "embeddings = GoogleGenerativeAIEmbeddings(model=\"models/embedding-001\",\n",
    "                                          google_api_key=config.load_gemini_token())"
   ]
  },
  {
   "cell_type": "markdown",
   "id": "74e4be4b-d560-4dcb-9a40-2cbe1962372d",
   "metadata": {},
   "source": [
    "### VN SBert"
   ]
  },
  {
   "cell_type": "code",
   "execution_count": 3,
   "id": "72280a4d-4ab7-4d97-b85a-48073aa61d4c",
   "metadata": {},
   "outputs": [],
   "source": [
    "from langchain_community.embeddings import HuggingFaceInferenceAPIEmbeddings\n",
    "INDEX = \"vnsbert-major\"\n",
    "\n",
    "MODEL = \"keepitreal/vietnamese-sbert\"\n",
    "embeddings = HuggingFaceInferenceAPIEmbeddings(\n",
    "    api_key=conf.load_hg_token(0),\n",
    "    model_name=MODEL)"
   ]
  },
  {
   "cell_type": "markdown",
   "id": "299c4e8b-dee8-4a48-8465-0c3faa936585",
   "metadata": {},
   "source": [
    "### LaBSE"
   ]
  },
  {
   "cell_type": "code",
   "execution_count": 3,
   "id": "a870dac9-0e0f-4c1a-8ba2-993ba8c3e2ff",
   "metadata": {},
   "outputs": [],
   "source": [
    "from langchain_community.embeddings import HuggingFaceInferenceAPIEmbeddings\n",
    "INDEX = \"labse-uni\"\n",
    "\n",
    "MODEL = \"sentence-transformers/LaBSE\"\n",
    "\n",
    "embeddings = HuggingFaceInferenceAPIEmbeddings(\n",
    "    api_key=config.load_hg_token(0),\n",
    "    model_name=MODEL)"
   ]
  },
  {
   "cell_type": "markdown",
   "id": "07b70cfd",
   "metadata": {},
   "source": [
    "# Push vector to  ES"
   ]
  },
  {
   "cell_type": "code",
   "execution_count": 4,
   "id": "431f0885",
   "metadata": {},
   "outputs": [],
   "source": [
    "from langchain_community.vectorstores.elasticsearch import ElasticsearchStore\n",
    "\n",
    "es = ElasticsearchStore.from_documents(db, embedding=embeddings,\n",
    "                          es_connection=config.load_elasticsearch_connection(),\n",
    "                          index_name=INDEX,\n",
    "                          distance_strategy=\"EUCLIDEAN_DISTANCE\")\n"
   ]
  },
  {
   "cell_type": "markdown",
   "id": "b7ad0513",
   "metadata": {},
   "source": [
    "# Push text data to ES"
   ]
  },
  {
   "cell_type": "code",
   "execution_count": 2,
   "id": "26d6e029",
   "metadata": {},
   "outputs": [
    {
     "data": {
      "text/plain": [
       "15"
      ]
     },
     "execution_count": 2,
     "metadata": {},
     "output_type": "execute_result"
    }
   ],
   "source": [
    "INDEX = \"text-split-training_program\"\n",
    "\n",
    "k1 = 1.2\n",
    "b = 0.75\n",
    "\n",
    "# Define the index settings and mappings\n",
    "settings = {\n",
    "    \"analysis\": {\"analyzer\": {\"default\": {\"type\": \"standard\"}}},\n",
    "    \"similarity\": {\n",
    "        \"custom_bm25\": {\n",
    "            \"type\": \"BM25\",\n",
    "            \"k1\": k1,\n",
    "            \"b\": b,\n",
    "        }\n",
    "    },\n",
    "}\n",
    "mappings = {\n",
    "    \"properties\": {\n",
    "        \"content\": {\n",
    "            \"type\": \"text\",\n",
    "            \"similarity\": \"custom_bm25\",  # Use the custom BM25 similarity\n",
    "        }\n",
    "    }\n",
    "}\n",
    "\n",
    "# Create the index with the specified settings and mappings\n",
    "es_connect = config.load_elasticsearch_connection()\n",
    "es_connect.indices.create(index=INDEX, mappings=mappings, settings=settings)\n",
    "len(db)"
   ]
  },
  {
   "cell_type": "code",
   "execution_count": 3,
   "id": "aef4bae3",
   "metadata": {},
   "outputs": [],
   "source": [
    "from langchain.retrievers import ElasticSearchBM25Retriever\n",
    "from src.custom.es_bm25_retriever import MyElasticSearchBM25Retriever\n",
    "retriever = MyElasticSearchBM25Retriever(client=es_connect, index_name=INDEX)"
   ]
  },
  {
   "cell_type": "code",
   "execution_count": 4,
   "id": "14f53670",
   "metadata": {},
   "outputs": [],
   "source": [
    "a = retriever.add_documents(documents=db)"
   ]
  },
  {
   "cell_type": "markdown",
   "id": "af51bd21",
   "metadata": {},
   "source": [
    "## Load"
   ]
  },
  {
   "cell_type": "code",
   "execution_count": 20,
   "id": "e50372c9",
   "metadata": {},
   "outputs": [
    {
     "data": {
      "text/plain": [
       "[Document(page_content='Chương trình giáo dục đại học tiêu chuẩn có 40 chương trình:\\n01. Bảo hộ lao động         21. Kỹ thuật cơ điện tử\\n02. Công nghệ kỹ thuật môi trường (chuyên ngành Cấp thoát nước - Môi trường nước)         22. Quan hệ lao động\\n03. Công nghệ sinh học         23. Quản lý thể dục thể thao – CN Kinh doanh thể thao và tổ chức sự kiện\\n04. Công tác xã hội         24. Quản trị kinh doanh - CN Quản trị nguồn nhân lực\\n05. Dược học         25. Marketing\\n06. Kế toán         26. Quản trị kinh doanh - CN Quản trị Nhà hàng-Khách sạn\\n07. Khoa học máy tính         27. Quy hoạch vùng và đô thị\\n08. Khoa học môi trường         28. Tài chính - Ngân hàng\\n09. Kiến trúc         29. Quản lý thể dục thể thao – chuyên ngành Golf\\n10. Kinh doanh quốc tế         30. Thiết kế nội thất\\n11. Kỹ thuật xây dựng         31. Thiết kế thời trang\\n12. Kỹ thuật hóa học         32. Thiết kế đồ họa\\n13. Kỹ thuật phần mềm         33. Thống kê\\n14. Kỹ thuật xây dựng công trình giao thông         34. Toán ứng dụng\\n15. Kỹ thuật điện tử - viễn thông         35. Mạng máy tính và Truyền thông dữ liệu\\n16. Kỹ thuật Điện         36. Việt Nam học - chuyên ngành Du lịch và Lữ hành\\n17. Kỹ thuật điều khiển và tự động hóa         37. Việt Nam học - chuyên ngành Du lịch và Quản lý du lịch\\n18. Luật         38. Việt Nam học - Việt ngữ học và văn hóa xã hội Việt Nam\\n19. Ngôn ngữ Anh         39. Xã hội học\\n20. Ngôn ngữ Trung Quốc         40. Quản lý xây dựng', metadata={'id': 1}),\n",
       " Document(page_content='Hiện nay, Trường tổ chức đào tạo 19 ngành đại học chất lượng cao, bao gồm:\\n\\n1. Công nghệ sinh học\\n\\n2. Kế toán\\n\\n3. Khoa học máy tính\\n\\n4. Thiết kế đồ họa\\n\\n5. Kinh doanh quốc tế\\n\\n6. Kỹ thuật xây dựng\\n\\n7. Kỹ thuật phần mềm\\n\\n8. Kỹ thuật Điện\\n\\n9. Kỹ thuật điện tử viễn thông\\n\\n10. Kỹ thuật điều khiển và Tự động hóa\\n\\n11. Luật\\n\\n12. Ngôn ngữ Anh\\n\\n13. Marketing\\n\\n14. Quản trị kinh doanh - Chuyên ngành quản trị Nhà hàng - Khách sạn\\n\\n15. Quản trị kinh doanh - Chuyên ngành Quản trị nguồn nhân lực\\n\\n16. Tài chính - Ngân hàng\\n\\n17. Việt Nam học - Chuyên ngành du lịch và quản lý du lịch\\n\\n18. Kiến trúc\\n\\n19. Kỹ thuật hóa học', metadata={'id': 2})]"
      ]
     },
     "execution_count": 20,
     "metadata": {},
     "output_type": "execute_result"
    }
   ],
   "source": [
    "retriever.k = 2\n",
    "a = retriever.get_relevant_documents(\"Hóa học\")\n",
    "a"
   ]
  },
  {
   "cell_type": "code",
   "execution_count": 5,
   "id": "5002d6b8",
   "metadata": {},
   "outputs": [
    {
     "data": {
      "text/plain": [
       "[Document(page_content='Sinh viên còn được chú trọng tới việc nâng cao các kỹ năng nghề nghiệp cần thiết như: rèn luyện các phương pháp vẽ minh họa, vẽ kỹ thuật trong thiết kế thời trang, hướng dẫn các kỹ thuật cắt may từ đơn giản đến phức tạp. Số tiết học thực hành được thiết kế để cân bằng với số môn học lý thuyết và mang tính ứng dụng cao. Thông qua các đồ án chuyên ngành đa dạng và phong phú, sinh viên được học từ lý thuyết cơ bản đến khi có thể tự chuyển đổi ý tưởng thành sản phẩm hoàn thiện để trình diễn trước công chúng. Nhà trường còn tăng cường đầu tư phòng thực hành với không gian sáng tạo và các trang thiết bị chuyên dụng liên tục cập nhật, giúp sinh viên tiếp cận nhanh chóng với công nghệ và các xu hướng mới của ngành thời trang.\\n\\nĐiểm nổi bật của chương trình học là được xây dựng theo hướng kết nối với doanh nghiệp. Nhà trường thường xuyên kết hợp với các công ty trong và ngoài nước thuộc lĩnh vực thời trang để tổ chức các buổi tham quan, kiến tập, các cuộc thi thiết kế chuyên nghiệp nhằm giúp sinh viên phát triển toàn diện về kiến thức và kỹ năng nghề nghiệp. Ngoài các chương trình học chính khóa, sinh viên ngành Thiết kế thời trang có cơ hội tham gia sinh hoạt tại Câu lạc bộ thời trang của khoa và các hoạt động sôi nổi của trường.\\n\\nSinh viên tốt nghiệp ngành Thiết kế thời trang tại Trường Đại học Tôn Đức Thắng được trang bị đầy đủ kỹ năng về nguyên lý thiết kế và quy trình thiết kế một bộ sưu tập thời trang từ khâu đầu đến khâu cuối; vận dụng những hiểu biết về thị hiếu thẩm mỹ, về lịch sử mỹ thuật, lịch sử trang phục để từ đó có những thiết kế phù hợp với nhu cầu của người tiêu dùng; xây dựng, định hướng, thúc đẩy trình độ thẩm mỹ của người tiêu dùng thông qua các sản phẩm thời trang. Bên cạnh đó, sinh viên sau khi tốt nghiệp còn có khả năng tự cập nhật kiến thức, sử dụng thành thạo các phần mềm thiết kế 2D, 3D làm công cụ phân tích về trào lưu, xu hướng mốt, tìm kiếm và phát triển ý tưởng để thiết kế các loại hình trang phục đa dạng như: trang phục trẻ em, trang phục dạo phố, trang phục dạ hội, trang phục cưới, …', metadata={'id': 37})]"
      ]
     },
     "execution_count": 5,
     "metadata": {},
     "output_type": "execute_result"
    }
   ],
   "source": [
    "retriever.k = 1\n",
    "a = retriever.get_relevant_documents(\"em muốn biết ngành kỹ thuật phần mềm\")\n",
    "a\n"
   ]
  }
 ],
 "metadata": {
  "kernelspec": {
   "display_name": "Python 3 (ipykernel)",
   "language": "python",
   "name": "python3"
  },
  "language_info": {
   "codemirror_mode": {
    "name": "ipython",
    "version": 3
   },
   "file_extension": ".py",
   "mimetype": "text/x-python",
   "name": "python",
   "nbconvert_exporter": "python",
   "pygments_lexer": "ipython3",
   "version": "3.9.18"
  }
 },
 "nbformat": 4,
 "nbformat_minor": 5
}
