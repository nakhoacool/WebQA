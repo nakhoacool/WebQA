{
 "cells": [
  {
   "cell_type": "markdown",
   "id": "589633bf-8577-452c-af7c-786653ea471a",
   "metadata": {},
   "source": [
    "# Push data to ES"
   ]
  },
  {
   "cell_type": "markdown",
   "id": "f6cf6511-92c5-472d-9ad5-4885e1e4ff8d",
   "metadata": {},
   "source": [
    "## Major"
   ]
  },
  {
   "cell_type": "code",
   "execution_count": 1,
   "id": "5d0ef849-b1f4-4202-8ff2-37d8cd163a72",
   "metadata": {},
   "outputs": [],
   "source": [
    "import sys\n",
    "sys.path.append(\"../\")\n",
    "from src.config import Configuration\n",
    "from src.prepare import data_load\n",
    "\n",
    "doc_loader = data_load.DocDataLoader()\n",
    "config = Configuration()"
   ]
  },
  {
   "cell_type": "code",
   "execution_count": 2,
   "id": "06ee62ee-c8ed-4538-a106-385f04f33841",
   "metadata": {},
   "outputs": [
    {
     "name": "stdout",
     "output_type": "stream",
     "text": [
      "From (44, 4) to Counter({2: 37, 1: 6, 3: 1})\n"
     ]
    }
   ],
   "source": [
    "db = doc_loader.load_major_docs(size = 460, overlap=20)"
   ]
  },
  {
   "cell_type": "markdown",
   "id": "717321d6-6075-492f-853e-768c247f3381",
   "metadata": {},
   "source": [
    "### Gemini"
   ]
  },
  {
   "cell_type": "code",
   "execution_count": 3,
   "id": "a23a50f1-4253-460f-a868-e5f7305854d6",
   "metadata": {},
   "outputs": [
    {
     "name": "stderr",
     "output_type": "stream",
     "text": [
      "/home/h4438/miniconda3/envs/uni/lib/python3.9/site-packages/tqdm/auto.py:21: TqdmWarning: IProgress not found. Please update jupyter and ipywidgets. See https://ipywidgets.readthedocs.io/en/stable/user_install.html\n",
      "  from .autonotebook import tqdm as notebook_tqdm\n"
     ]
    }
   ],
   "source": [
    "from langchain_google_genai import GoogleGenerativeAIEmbeddings\n",
    "\n",
    "INDEX = \"gemini-major\"\n",
    "embeddings = GoogleGenerativeAIEmbeddings(model=\"models/embedding-001\",\n",
    "                                          google_api_key=config.load_gemini_token())"
   ]
  },
  {
   "cell_type": "markdown",
   "id": "74e4be4b-d560-4dcb-9a40-2cbe1962372d",
   "metadata": {},
   "source": [
    "### VN SBert"
   ]
  },
  {
   "cell_type": "code",
   "execution_count": 3,
   "id": "72280a4d-4ab7-4d97-b85a-48073aa61d4c",
   "metadata": {},
   "outputs": [],
   "source": [
    "from langchain_community.embeddings import HuggingFaceInferenceAPIEmbeddings\n",
    "INDEX = \"vnsbert-major\"\n",
    "\n",
    "MODEL = \"keepitreal/vietnamese-sbert\"\n",
    "embeddings = HuggingFaceInferenceAPIEmbeddings(\n",
    "    api_key=conf.load_hg_token(0),\n",
    "    model_name=MODEL)"
   ]
  },
  {
   "cell_type": "markdown",
   "id": "299c4e8b-dee8-4a48-8465-0c3faa936585",
   "metadata": {},
   "source": [
    "### LaBSE"
   ]
  },
  {
   "cell_type": "code",
   "execution_count": 3,
   "id": "a870dac9-0e0f-4c1a-8ba2-993ba8c3e2ff",
   "metadata": {},
   "outputs": [],
   "source": [
    "from langchain_community.embeddings import HuggingFaceInferenceAPIEmbeddings\n",
    "INDEX = \"labse-major\"\n",
    "\n",
    "MODEL = \"sentence-transformers/LaBSE\"\n",
    "\n",
    "embeddings = HuggingFaceInferenceAPIEmbeddings(\n",
    "    api_key=config.load_hg_token(1),\n",
    "    model_name=MODEL)"
   ]
  },
  {
   "cell_type": "markdown",
   "id": "29a78f0e-50e9-4166-a249-02c2644d783f",
   "metadata": {},
   "source": [
    "## Load"
   ]
  },
  {
   "cell_type": "code",
   "execution_count": 4,
   "id": "d3b5c338-8732-47ec-b176-04ab48ece125",
   "metadata": {},
   "outputs": [],
   "source": [
    "from langchain_community.vectorstores.elasticsearch import ElasticsearchStore\n",
    "\n",
    "es = ElasticsearchStore.from_documents(db, embedding=embeddings,\n",
    "                          es_connection=config.load_elasticsearch_connection(),\n",
    "                          index_name=INDEX,\n",
    "                          distance_strategy=\"EUCLIDEAN_DISTANCE\")"
   ]
  }
 ],
 "metadata": {
  "kernelspec": {
   "display_name": "Python 3 (ipykernel)",
   "language": "python",
   "name": "python3"
  },
  "language_info": {
   "codemirror_mode": {
    "name": "ipython",
    "version": 3
   },
   "file_extension": ".py",
   "mimetype": "text/x-python",
   "name": "python",
   "nbconvert_exporter": "python",
   "pygments_lexer": "ipython3",
   "version": "3.9.18"
  }
 },
 "nbformat": 4,
 "nbformat_minor": 5
}
