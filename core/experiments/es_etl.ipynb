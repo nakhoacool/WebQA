{
 "cells": [
  {
   "cell_type": "markdown",
   "id": "589633bf-8577-452c-af7c-786653ea471a",
   "metadata": {},
   "source": [
    "# Push vector data to ES"
   ]
  },
  {
   "cell_type": "markdown",
   "id": "f6cf6511-92c5-472d-9ad5-4885e1e4ff8d",
   "metadata": {},
   "source": [
    "## Major"
   ]
  },
  {
   "cell_type": "code",
   "execution_count": 1,
   "id": "5d0ef849-b1f4-4202-8ff2-37d8cd163a72",
   "metadata": {},
   "outputs": [],
   "source": [
    "import sys\n",
    "sys.path.append(\"../\")\n",
    "from src.config import Configuration\n",
    "from src.prepare import data_load\n",
    "\n",
    "doc_loader = data_load.DocDataLoader()\n",
    "config = Configuration()"
   ]
  },
  {
   "cell_type": "code",
   "execution_count": 2,
   "id": "06ee62ee-c8ed-4538-a106-385f04f33841",
   "metadata": {},
   "outputs": [
    {
     "name": "stdout",
     "output_type": "stream",
     "text": [
      "From (44, 4) to Counter({2: 37, 1: 6, 3: 1})\n"
     ]
    }
   ],
   "source": [
    "db = doc_loader.load_major_docs(size = 460, overlap=20)"
   ]
  },
  {
   "cell_type": "markdown",
   "id": "717321d6-6075-492f-853e-768c247f3381",
   "metadata": {},
   "source": [
    "### Gemini"
   ]
  },
  {
   "cell_type": "code",
   "execution_count": 3,
   "id": "a23a50f1-4253-460f-a868-e5f7305854d6",
   "metadata": {},
   "outputs": [
    {
     "name": "stderr",
     "output_type": "stream",
     "text": [
      "/home/h4438/miniconda3/envs/uni/lib/python3.9/site-packages/tqdm/auto.py:21: TqdmWarning: IProgress not found. Please update jupyter and ipywidgets. See https://ipywidgets.readthedocs.io/en/stable/user_install.html\n",
      "  from .autonotebook import tqdm as notebook_tqdm\n"
     ]
    }
   ],
   "source": [
    "from langchain_google_genai import GoogleGenerativeAIEmbeddings\n",
    "\n",
    "INDEX = \"gemini-major\"\n",
    "embeddings = GoogleGenerativeAIEmbeddings(model=\"models/embedding-001\",\n",
    "                                          google_api_key=config.load_gemini_token())"
   ]
  },
  {
   "cell_type": "markdown",
   "id": "74e4be4b-d560-4dcb-9a40-2cbe1962372d",
   "metadata": {},
   "source": [
    "### VN SBert"
   ]
  },
  {
   "cell_type": "code",
   "execution_count": 3,
   "id": "72280a4d-4ab7-4d97-b85a-48073aa61d4c",
   "metadata": {},
   "outputs": [],
   "source": [
    "from langchain_community.embeddings import HuggingFaceInferenceAPIEmbeddings\n",
    "INDEX = \"vnsbert-major\"\n",
    "\n",
    "MODEL = \"keepitreal/vietnamese-sbert\"\n",
    "embeddings = HuggingFaceInferenceAPIEmbeddings(\n",
    "    api_key=conf.load_hg_token(0),\n",
    "    model_name=MODEL)"
   ]
  },
  {
   "cell_type": "markdown",
   "id": "299c4e8b-dee8-4a48-8465-0c3faa936585",
   "metadata": {},
   "source": [
    "### LaBSE"
   ]
  },
  {
   "cell_type": "code",
   "execution_count": 3,
   "id": "a870dac9-0e0f-4c1a-8ba2-993ba8c3e2ff",
   "metadata": {},
   "outputs": [],
   "source": [
    "from langchain_community.embeddings import HuggingFaceInferenceAPIEmbeddings\n",
    "INDEX = \"labse-major\"\n",
    "\n",
    "MODEL = \"sentence-transformers/LaBSE\"\n",
    "\n",
    "embeddings = HuggingFaceInferenceAPIEmbeddings(\n",
    "    api_key=config.load_hg_token(1),\n",
    "    model_name=MODEL)"
   ]
  },
  {
   "cell_type": "markdown",
   "id": "07b70cfd",
   "metadata": {},
   "source": [
    "## Load"
   ]
  },
  {
   "cell_type": "code",
   "execution_count": null,
   "id": "431f0885",
   "metadata": {},
   "outputs": [],
   "source": [
    "from langchain_community.vectorstores.elasticsearch import ElasticsearchStore\n",
    "\n",
    "es = ElasticsearchStore.from_documents(db, embedding=embeddings,\n",
    "                          es_connection=config.load_elasticsearch_connection(),\n",
    "                          index_name=INDEX,\n",
    "                          distance_strategy=\"EUCLIDEAN_DISTANCE\")\n"
   ]
  },
  {
   "cell_type": "markdown",
   "id": "b7ad0513",
   "metadata": {},
   "source": [
    "# Push text data to ES"
   ]
  },
  {
   "cell_type": "markdown",
   "id": "29a78f0e-50e9-4166-a249-02c2644d783f",
   "metadata": {},
   "source": [
    "## Major text "
   ]
  },
  {
   "cell_type": "code",
   "execution_count": 1,
   "id": "26d6e029",
   "metadata": {},
   "outputs": [
    {
     "name": "stderr",
     "output_type": "stream",
     "text": [
      "/home/h4438/miniconda3/envs/uni/lib/python3.9/site-packages/tqdm/auto.py:21: TqdmWarning: IProgress not found. Please update jupyter and ipywidgets. See https://ipywidgets.readthedocs.io/en/stable/user_install.html\n",
      "  from .autonotebook import tqdm as notebook_tqdm\n"
     ]
    },
    {
     "name": "stdout",
     "output_type": "stream",
     "text": [
      "From (44, 4) to Counter({2: 37, 1: 6, 3: 1})\n"
     ]
    },
    {
     "data": {
      "text/plain": [
       "83"
      ]
     },
     "execution_count": 1,
     "metadata": {},
     "output_type": "execute_result"
    }
   ],
   "source": [
    "import sys\n",
    "sys.path.append(\"../\")\n",
    "from src.config import Configuration\n",
    "from src.prepare.data_load import DocDataLoader\n",
    "\n",
    "config = Configuration()\n",
    "doc_loader = DocDataLoader()\n",
    "\n",
    "db = doc_loader.load_major_docs(size=460, overlap=20)\n",
    "len(db)"
   ]
  },
  {
   "cell_type": "code",
   "execution_count": 2,
   "id": "aef4bae3",
   "metadata": {},
   "outputs": [],
   "source": [
    "from langchain.retrievers import ElasticSearchBM25Retriever\n",
    "from src.custom.es_bm25_retriever import MyElasticSearchBM25Retriever\n",
    "es = config.load_elasticsearch_connection()\n",
    "INDEX = \"text-split-major\"\n",
    "retriever = MyElasticSearchBM25Retriever(client=es, index_name=INDEX)"
   ]
  },
  {
   "cell_type": "code",
   "execution_count": 3,
   "id": "14f53670",
   "metadata": {},
   "outputs": [],
   "source": [
    "a = retriever.add_documents(documents=db)"
   ]
  },
  {
   "cell_type": "markdown",
   "id": "af51bd21",
   "metadata": {},
   "source": [
    "## Load"
   ]
  },
  {
   "cell_type": "code",
   "execution_count": 4,
   "id": "e50372c9",
   "metadata": {},
   "outputs": [
    {
     "data": {
      "text/plain": [
       "[Document(page_content='Việt Nam học - Chuyên ngành Việt ngữ học và văn hóa xã hội Việt Nam là một ngành khoa học nghiên cứu về đất nước, con người Việt Nam theo hướng tiếp cận liên ngành. Chương trình đào tạo ngành Việt Nam học, chuyên ngành Việt ngữ học và Văn hóa xã hội Việt Nam tại Trường Đại học Tôn Đức Thắng là chương trình dành cho đối tượng là người nước ngoài, nhằm đáp ứng nhu cầu về nguồn nhân lực là người nước ngoài sử dụng thông thạo tiếng Việt, am hiểu về đất nước và con người Việt Nam.\\n\\nSau khi tốt nghiệp ngành Việt Nam học, chuyên ngành Việt ngữ học và Văn hóa xã hội Việt Nam, học viên có thể tìm kiếm việc làm phù hợp ở các cơ quan ngoại giao, tổ chức quốc tế, công ty du lịch, văn phòng thương mại, tổ chức chính phủ và phi chính phủ có nhu cầu sử dụng nguồn nhân lực am hiểu về Việt Nam (ở Việt Nam và nước ngoài). Ngoài ra sinh viên cũng có thể làm công tác phiên dịch, biên dịch, nghiên cứu và giảng dạy tiếng Việt tại các trường đại học, cao đẳng hoặc các trung tâm ngôn ngữ trong và ngoài nước. \\nKhi lựa chọn chương trình này, học viên được cung cấp kiến thức toàn diện về ngôn ngữ, đất nước và con người Việt Nam thông qua những môn học mới, hiện đại, được thiết kế để phù hợp với sự phát triển của xã hội và đáp ứng được nhu cầu hội nhập quốc tế.\\n\\nBên cạnh đó, học viên còn được rèn luyện kỹ năng giao tiếp, kỹ năng làm việc nhóm, kỹ năng tổ chức sự kiện, … thông qua các hoạt động ngoại khóa sôi nổi, giúp học viên vững vàng về kiến thức, tự tin, năng động trong môi trường đa văn hóa và xu thế hội nhập.\\n\\nVới phương pháp lấy người học làm trung tâm, chương trình đào tạo ngành học này được biên soạn theo hướng đặt trọng tâm vào thực hành và kỹ năng mềm cần thiết cho học viên sau khi tốt nghiệp, qua đó tăng khả năng tự học, khả năng tự nghiên cứu và xử lý tình huống linh hoạt cho học viên.', metadata={'id': 41}),\n",
       " Document(page_content='Trường Đại học Tôn Đức Thắng có trách nhiệm phát triển con người; phụng sự đất nước Việt Nam; giáo dục nguồn nhân lực chất lượng cao cho Thành phố Hồ Chí Minh và cả nước; trong đó, có sự chú trọng đào tạo đội ngũ công nhân - lao động; thực hiện nghiên cứu ứng dụng, nghiên cứu khoa học ngày càng hiệu quả để thúc đẩy đất nước phát triển trong dài hạn; cam kết cống hiến ngày càng nhiều và tốt hơn cho một Việt Nam phồn vinh, ổn định và bền vững; cũng như góp phần tạo dựng một thế giới văn minh và hòa bình.\\n\\nMục tiêu dài hạn của Trường Đại học Tôn Đức Thắng là một đại học nghiên cứu trong vòng ba thập niên tới, song song với việc giữ vai trò đào tạo, đào tạo lại, bồi dưỡng và nâng cao trình độ chuyên môn, tay nghề, phục vụ nhu cầu cung ứng nhân lực chất lượng cao cho tiến trình công nghiệp hóa, hiện đại hóa của Việt Nam. Để thực hiện mục tiêu này, chính sách cơ bản của TDTU là:\\nLiên tục tuyển lựa kỹ và đào tạo lực lượng chuyên môn; xây dựng đội ngũ khoa học có trình độ cao, chuyên nghiệp và trách nhiệm;\\nPhát triển liên tục, bền vững hoạt động nghiên cứu khoa học, nghiên cứu ứng dụng, quản trị giáo dục; thói quen làm việc theo ISO trong các lĩnh vực; thực hiện kiểm định khách quan để tiêu chuẩn hóa tất cả đầu ra;\\nĐầu tư lâu dài và liên tục cho cơ sở vật chất trong ba thập niên; bảo đảm trang bị, thiết bị ngày càng đầy đủ, chuyên sâu và kịp thời cho việc thực hiện các mục tiêu chất lượng trong giáo dục và khoa học - công nghệ từng giai đoạn;\\nTruyền thông về TDTU trong nước và quốc tế; mở rộng số lượng chuyên gia và du học sinh nước ngoài; TDTU trở thành đầu mối quốc tế hóa của khu vực;\\nTiếp tục mở rộng hợp tác với các đại học TOP 500 của thế giới; tạo nhiều cơ hội học tập kinh nghiệm quản lý hiện đại, tiếp cận nền học thuật tiên tiến và phương thức giáo dục tối ưu; bảo đảm chất lượng đạt chuẩn quốc tế. Chương trình giáo dục và văn bằng của TDTU được kiểm định và công nhận bởi các Tổ chức quốc tế.', metadata={'id': 3})]"
      ]
     },
     "execution_count": 4,
     "metadata": {},
     "output_type": "execute_result"
    }
   ],
   "source": [
    "retriever.k = 2\n",
    "a = retriever.get_relevant_documents(\"Hóa học\")\n",
    "a"
   ]
  },
  {
   "cell_type": "code",
   "execution_count": 5,
   "id": "5002d6b8",
   "metadata": {},
   "outputs": [
    {
     "data": {
      "text/plain": [
       "[Document(page_content='Sinh viên còn được chú trọng tới việc nâng cao các kỹ năng nghề nghiệp cần thiết như: rèn luyện các phương pháp vẽ minh họa, vẽ kỹ thuật trong thiết kế thời trang, hướng dẫn các kỹ thuật cắt may từ đơn giản đến phức tạp. Số tiết học thực hành được thiết kế để cân bằng với số môn học lý thuyết và mang tính ứng dụng cao. Thông qua các đồ án chuyên ngành đa dạng và phong phú, sinh viên được học từ lý thuyết cơ bản đến khi có thể tự chuyển đổi ý tưởng thành sản phẩm hoàn thiện để trình diễn trước công chúng. Nhà trường còn tăng cường đầu tư phòng thực hành với không gian sáng tạo và các trang thiết bị chuyên dụng liên tục cập nhật, giúp sinh viên tiếp cận nhanh chóng với công nghệ và các xu hướng mới của ngành thời trang.\\n\\nĐiểm nổi bật của chương trình học là được xây dựng theo hướng kết nối với doanh nghiệp. Nhà trường thường xuyên kết hợp với các công ty trong và ngoài nước thuộc lĩnh vực thời trang để tổ chức các buổi tham quan, kiến tập, các cuộc thi thiết kế chuyên nghiệp nhằm giúp sinh viên phát triển toàn diện về kiến thức và kỹ năng nghề nghiệp. Ngoài các chương trình học chính khóa, sinh viên ngành Thiết kế thời trang có cơ hội tham gia sinh hoạt tại Câu lạc bộ thời trang của khoa và các hoạt động sôi nổi của trường.\\n\\nSinh viên tốt nghiệp ngành Thiết kế thời trang tại Trường Đại học Tôn Đức Thắng được trang bị đầy đủ kỹ năng về nguyên lý thiết kế và quy trình thiết kế một bộ sưu tập thời trang từ khâu đầu đến khâu cuối; vận dụng những hiểu biết về thị hiếu thẩm mỹ, về lịch sử mỹ thuật, lịch sử trang phục để từ đó có những thiết kế phù hợp với nhu cầu của người tiêu dùng; xây dựng, định hướng, thúc đẩy trình độ thẩm mỹ của người tiêu dùng thông qua các sản phẩm thời trang. Bên cạnh đó, sinh viên sau khi tốt nghiệp còn có khả năng tự cập nhật kiến thức, sử dụng thành thạo các phần mềm thiết kế 2D, 3D làm công cụ phân tích về trào lưu, xu hướng mốt, tìm kiếm và phát triển ý tưởng để thiết kế các loại hình trang phục đa dạng như: trang phục trẻ em, trang phục dạo phố, trang phục dạ hội, trang phục cưới, …', metadata={'id': 37})]"
      ]
     },
     "execution_count": 5,
     "metadata": {},
     "output_type": "execute_result"
    }
   ],
   "source": [
    "retriever.k = 1\n",
    "a = retriever.get_relevant_documents(\"em muốn biết ngành kỹ thuật phần mềm\")\n",
    "a\n"
   ]
  }
 ],
 "metadata": {
  "kernelspec": {
   "display_name": "Python 3 (ipykernel)",
   "language": "python",
   "name": "python3"
  },
  "language_info": {
   "codemirror_mode": {
    "name": "ipython",
    "version": 3
   },
   "file_extension": ".py",
   "mimetype": "text/x-python",
   "name": "python",
   "nbconvert_exporter": "python",
   "pygments_lexer": "ipython3",
   "version": "3.9.18"
  }
 },
 "nbformat": 4,
 "nbformat_minor": 5
}
