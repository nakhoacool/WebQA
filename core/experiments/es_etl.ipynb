{
 "cells": [
  {
   "cell_type": "markdown",
   "id": "589633bf-8577-452c-af7c-786653ea471a",
   "metadata": {},
   "source": [
    "# Load the Documents"
   ]
  },
  {
   "cell_type": "code",
   "execution_count": 1,
   "id": "5d0ef849-b1f4-4202-8ff2-37d8cd163a72",
   "metadata": {},
   "outputs": [
    {
     "name": "stderr",
     "output_type": "stream",
     "text": [
      "/home/h4438/miniconda3/envs/uni/lib/python3.9/site-packages/tqdm/auto.py:21: TqdmWarning: IProgress not found. Please update jupyter and ipywidgets. See https://ipywidgets.readthedocs.io/en/stable/user_install.html\n",
      "  from .autonotebook import tqdm as notebook_tqdm\n"
     ]
    },
    {
     "name": "stdout",
     "output_type": "stream",
     "text": [
      "From (44, 4) to Counter({2: 37, 1: 6, 3: 1})\n",
      "From (44, 4) to 44\n"
     ]
    }
   ],
   "source": [
    "import sys\n",
    "sys.path.append(\"../\")\n",
    "from src.config import Configuration\n",
    "from src.prepare import data_load\n",
    "\n",
    "doc_loader = data_load.DocDataLoader()\n",
    "config = Configuration()\n",
    "\n",
    "folder = \"test_training_program\"\n",
    "folder = \"test_major\"\n",
    "db = doc_loader.load_docs(data_folder=folder,size=460, overlap=20)\n",
    "db = doc_loader.load_major_docs_full(data_folder=folder)"
   ]
  },
  {
   "cell_type": "markdown",
   "id": "de21816c",
   "metadata": {},
   "source": [
    "# Choose model"
   ]
  },
  {
   "cell_type": "markdown",
   "id": "717321d6-6075-492f-853e-768c247f3381",
   "metadata": {},
   "source": [
    "### Gemini"
   ]
  },
  {
   "cell_type": "code",
   "execution_count": 3,
   "id": "a23a50f1-4253-460f-a868-e5f7305854d6",
   "metadata": {},
   "outputs": [
    {
     "name": "stderr",
     "output_type": "stream",
     "text": [
      "/home/h4438/miniconda3/envs/uni/lib/python3.9/site-packages/tqdm/auto.py:21: TqdmWarning: IProgress not found. Please update jupyter and ipywidgets. See https://ipywidgets.readthedocs.io/en/stable/user_install.html\n",
      "  from .autonotebook import tqdm as notebook_tqdm\n"
     ]
    }
   ],
   "source": [
    "from langchain_google_genai import GoogleGenerativeAIEmbeddings\n",
    "\n",
    "INDEX = \"gemini-major\"\n",
    "embeddings = GoogleGenerativeAIEmbeddings(model=\"models/embedding-001\",\n",
    "                                          google_api_key=config.load_gemini_token())"
   ]
  },
  {
   "cell_type": "markdown",
   "id": "74e4be4b-d560-4dcb-9a40-2cbe1962372d",
   "metadata": {},
   "source": [
    "### VN SBert"
   ]
  },
  {
   "cell_type": "code",
   "execution_count": 3,
   "id": "72280a4d-4ab7-4d97-b85a-48073aa61d4c",
   "metadata": {},
   "outputs": [],
   "source": [
    "from langchain_community.embeddings import HuggingFaceInferenceAPIEmbeddings\n",
    "INDEX = \"vnsbert-major\"\n",
    "\n",
    "MODEL = \"keepitreal/vietnamese-sbert\"\n",
    "embeddings = HuggingFaceInferenceAPIEmbeddings(\n",
    "    api_key=conf.load_hg_token(0),\n",
    "    model_name=MODEL)"
   ]
  },
  {
   "cell_type": "markdown",
   "id": "299c4e8b-dee8-4a48-8465-0c3faa936585",
   "metadata": {},
   "source": [
    "### LaBSE"
   ]
  },
  {
   "cell_type": "code",
   "execution_count": 4,
   "id": "a870dac9-0e0f-4c1a-8ba2-993ba8c3e2ff",
   "metadata": {},
   "outputs": [],
   "source": [
    "from langchain_community.embeddings import HuggingFaceInferenceAPIEmbeddings\n",
    "INDEX = \"labse-uni\"\n",
    "\n",
    "MODEL = \"sentence-transformers/LaBSE\"\n",
    "\n",
    "embeddings = HuggingFaceInferenceAPIEmbeddings(\n",
    "    api_key=config.load_hg_token(0),\n",
    "    model_name=MODEL)"
   ]
  },
  {
   "cell_type": "markdown",
   "id": "07b70cfd",
   "metadata": {},
   "source": [
    "# Push vector to  ES"
   ]
  },
  {
   "cell_type": "code",
   "execution_count": 4,
   "id": "431f0885",
   "metadata": {},
   "outputs": [],
   "source": [
    "from langchain_community.vectorstores.elasticsearch import ElasticsearchStore\n",
    "\n",
    "es = ElasticsearchStore.from_documents(db, embedding=embeddings,\n",
    "                          es_connection=config.load_elasticsearch_connection(),\n",
    "                          index_name=INDEX,\n",
    "                          distance_strategy=\"EUCLIDEAN_DISTANCE\")\n"
   ]
  },
  {
   "cell_type": "markdown",
   "id": "b7ad0513",
   "metadata": {},
   "source": [
    "# Push text data to ES"
   ]
  },
  {
   "cell_type": "code",
   "execution_count": 5,
   "id": "26d6e029",
   "metadata": {},
   "outputs": [
    {
     "data": {
      "text/plain": [
       "44"
      ]
     },
     "execution_count": 5,
     "metadata": {},
     "output_type": "execute_result"
    }
   ],
   "source": [
    "INDEX = \"text-split-training_program\"\n",
    "INDEX = \"text-full-major\"\n",
    "\n",
    "k1 = 1.5\n",
    "b = 0.75\n",
    "\n",
    "# Define the index settings and mappings\n",
    "settings = {\n",
    "    \"analysis\": {\"analyzer\": {\"default\": {\"type\": \"standard\"}}},\n",
    "    \"similarity\": {\n",
    "        \"custom_bm25\": {\n",
    "            \"type\": \"BM25\",\n",
    "            \"k1\": k1,\n",
    "            \"b\": b,\n",
    "        }\n",
    "    },\n",
    "}\n",
    "mappings = {\n",
    "    \"properties\": {\n",
    "        \"content\": {\n",
    "            \"type\": \"text\",\n",
    "            \"similarity\": \"custom_bm25\",  # Use the custom BM25 similarity\n",
    "        }\n",
    "    }\n",
    "}\n",
    "\n",
    "# Create the index with the specified settings and mappings\n",
    "es_connect = config.load_elasticsearch_connection()\n",
    "es_connect.indices.create(index=INDEX, mappings=mappings, settings=settings)\n",
    "len(db)"
   ]
  },
  {
   "cell_type": "code",
   "execution_count": 6,
   "id": "aef4bae3",
   "metadata": {},
   "outputs": [],
   "source": [
    "from langchain.retrievers import ElasticSearchBM25Retriever\n",
    "from src.custom.es_bm25_retriever import MyElasticSearchBM25Retriever\n",
    "retriever = MyElasticSearchBM25Retriever(client=es_connect, index_name=INDEX)"
   ]
  },
  {
   "cell_type": "code",
   "execution_count": 7,
   "id": "e89f9e75",
   "metadata": {},
   "outputs": [
    {
     "data": {
      "text/plain": [
       "44"
      ]
     },
     "execution_count": 7,
     "metadata": {},
     "output_type": "execute_result"
    }
   ],
   "source": [
    "len(db)"
   ]
  },
  {
   "cell_type": "code",
   "execution_count": 8,
   "id": "14f53670",
   "metadata": {},
   "outputs": [],
   "source": [
    "a = retriever.add_documents(documents=db)"
   ]
  },
  {
   "cell_type": "markdown",
   "id": "af51bd21",
   "metadata": {},
   "source": [
    "## Load"
   ]
  },
  {
   "cell_type": "code",
   "execution_count": 9,
   "id": "e50372c9",
   "metadata": {},
   "outputs": [
    {
     "data": {
      "text/plain": [
       "[Document(page_content='Việt Nam học - Chuyên ngành Việt ngữ học và văn hóa xã hội Việt Nam là một ngành khoa học nghiên cứu về đất nước, con người Việt Nam theo hướng tiếp cận liên ngành. Chương trình đào tạo ngành Việt Nam học, chuyên ngành Việt ngữ học và Văn hóa xã hội Việt Nam tại Trường Đại học Tôn Đức Thắng là chương trình dành cho đối tượng là người nước ngoài, nhằm đáp ứng nhu cầu về nguồn nhân lực là người nước ngoài sử dụng thông thạo tiếng Việt, am hiểu về đất nước và con người Việt Nam.\\n\\nSau khi tốt nghiệp ngành Việt Nam học, chuyên ngành Việt ngữ học và Văn hóa xã hội Việt Nam, học viên có thể tìm kiếm việc làm phù hợp ở các cơ quan ngoại giao, tổ chức quốc tế, công ty du lịch, văn phòng thương mại, tổ chức chính phủ và phi chính phủ có nhu cầu sử dụng nguồn nhân lực am hiểu về Việt Nam (ở Việt Nam và nước ngoài). Ngoài ra sinh viên cũng có thể làm công tác phiên dịch, biên dịch, nghiên cứu và giảng dạy tiếng Việt tại các trường đại học, cao đẳng hoặc các trung tâm ngôn ngữ trong và ngoài nước. \\nKhi lựa chọn chương trình này, học viên được cung cấp kiến thức toàn diện về ngôn ngữ, đất nước và con người Việt Nam thông qua những môn học mới, hiện đại, được thiết kế để phù hợp với sự phát triển của xã hội và đáp ứng được nhu cầu hội nhập quốc tế.\\n\\nBên cạnh đó, học viên còn được rèn luyện kỹ năng giao tiếp, kỹ năng làm việc nhóm, kỹ năng tổ chức sự kiện, … thông qua các hoạt động ngoại khóa sôi nổi, giúp học viên vững vàng về kiến thức, tự tin, năng động trong môi trường đa văn hóa và xu thế hội nhập.\\n\\nVới phương pháp lấy người học làm trung tâm, chương trình đào tạo ngành học này được biên soạn theo hướng đặt trọng tâm vào thực hành và kỹ năng mềm cần thiết cho học viên sau khi tốt nghiệp, qua đó tăng khả năng tự học, khả năng tự nghiên cứu và xử lý tình huống linh hoạt cho học viên. ', metadata={'id': 41}),\n",
       " Document(page_content='Trường Đại học Tôn Đức Thắng có trách nhiệm phát triển con người; phụng sự đất nước Việt Nam; giáo dục nguồn nhân lực chất lượng cao cho Thành phố Hồ Chí Minh và cả nước; trong đó, có sự chú trọng đào tạo đội ngũ công nhân - lao động; thực hiện nghiên cứu ứng dụng, nghiên cứu khoa học ngày càng hiệu quả để thúc đẩy đất nước phát triển trong dài hạn; cam kết cống hiến ngày càng nhiều và tốt hơn cho một Việt Nam phồn vinh, ổn định và bền vững; cũng như góp phần tạo dựng một thế giới văn minh và hòa bình.\\n\\nMục tiêu dài hạn của Trường Đại học Tôn Đức Thắng là một đại học nghiên cứu trong vòng ba thập niên tới, song song với việc giữ vai trò đào tạo, đào tạo lại, bồi dưỡng và nâng cao trình độ chuyên môn, tay nghề, phục vụ nhu cầu cung ứng nhân lực chất lượng cao cho tiến trình công nghiệp hóa, hiện đại hóa của Việt Nam. Để thực hiện mục tiêu này, chính sách cơ bản của TDTU là:\\nLiên tục tuyển lựa kỹ và đào tạo lực lượng chuyên môn; xây dựng đội ngũ khoa học có trình độ cao, chuyên nghiệp và trách nhiệm;\\nPhát triển liên tục, bền vững hoạt động nghiên cứu khoa học, nghiên cứu ứng dụng, quản trị giáo dục; thói quen làm việc theo ISO trong các lĩnh vực; thực hiện kiểm định khách quan để tiêu chuẩn hóa tất cả đầu ra;\\nĐầu tư lâu dài và liên tục cho cơ sở vật chất trong ba thập niên; bảo đảm trang bị, thiết bị ngày càng đầy đủ, chuyên sâu và kịp thời cho việc thực hiện các mục tiêu chất lượng trong giáo dục và khoa học - công nghệ từng giai đoạn;\\nTruyền thông về TDTU trong nước và quốc tế; mở rộng số lượng chuyên gia và du học sinh nước ngoài; TDTU trở thành đầu mối quốc tế hóa của khu vực;\\nTiếp tục mở rộng hợp tác với các đại học TOP 500 của thế giới; tạo nhiều cơ hội học tập kinh nghiệm quản lý hiện đại, tiếp cận nền học thuật tiên tiến và phương thức giáo dục tối ưu; bảo đảm chất lượng đạt chuẩn quốc tế. Chương trình giáo dục và văn bằng của TDTU được kiểm định và công nhận bởi các Tổ chức quốc tế.', metadata={'id': 3})]"
      ]
     },
     "execution_count": 9,
     "metadata": {},
     "output_type": "execute_result"
    }
   ],
   "source": [
    "retriever.k = 2\n",
    "a = retriever.get_relevant_documents(\"Hóa học\")\n",
    "a"
   ]
  },
  {
   "cell_type": "code",
   "execution_count": 12,
   "id": "5002d6b8",
   "metadata": {},
   "outputs": [
    {
     "data": {
      "text/plain": [
       "[Document(page_content='Thiết kế thời trang là ngành đào tạo nhân sự có khả năng thiết kế, sản xuất quần áo và phụ kiện phục vụ các nhu cầu của xã hội. Ngoài các kỹ năng thông thường như sáng tạo, phác hoạ và sử dụng các phần mềm đồ họa chuyên nghiệp để làm cho mẫu phục trang trở nên sống động, ngành học còn đào tạo các nhà thiết kế thời trang trở thành những người tiên phong, đi đầu và dự đoán trước những xu hướng mới về ngành thiết kế lẫn xu hướng thời trang trong những năm tiếp theo.\\n\\nSinh viên theo học ngành Thiết kế thời trang tại TDTU có đầy đủ năng lực để tự tin ứng tuyển vào các vị trí như: Nhà thiết kế (Fashion Designer), giám đốc sáng tạo (Creative Director) tại các doanh nghiệp trong nước và quốc tế; biên tập viên thời trang (Fashion Editor), người tạo phong cách (Stylist) trong các tạp chí thời trang, tạp chí mốt; tạo lập công ty hoặc thương hiệu riêng hoặc trở thành cán bộ giảng dạy, cán bộ nghiên cứu tại các cơ sở giáo dục đại học, cao đẳng và viện nghiên cứu liên quan.\\nChương trình cung cấp cho sinh viên những kiến thức cơ bản về nguyên lý thiết kế, kiến thức về thẩm mỹ, lịch sử Mỹ thuật Việt Nam và thế giới, lịch sử thời trang, kiến thức cơ bản về các phương tiện tạo hình, màu sắc, các nguyên lý trong tạo hình, xu hướng thời trang, thời trang và ứng dụng, … Ngoài ra, chương trình còn cập nhật cho sinh viên kiến thức về chất liệu và xử lý chất liệu độc đáo như: Ribbon stitch (thêu ruy băng ), nhuộm Batik (nhuộm sáp ong), Knitting (đan), Smocking (khiếu vải), Shibori (nhuộm buộc), Marbling (vẽ hoa văn đá) ...\\n\\nSinh viên còn được chú trọng tới việc nâng cao các kỹ năng nghề nghiệp cần thiết như: rèn luyện các phương pháp vẽ minh họa, vẽ kỹ thuật trong thiết kế thời trang, hướng dẫn các kỹ thuật cắt may từ đơn giản đến phức tạp. Số tiết học thực hành được thiết kế để cân bằng với số môn học lý thuyết và mang tính ứng dụng cao. Thông qua các đồ án chuyên ngành đa dạng và phong phú, sinh viên được học từ lý thuyết cơ bản đến khi có thể tự chuyển đổi ý tưởng thành sản phẩm hoàn thiện để trình diễn trước công chúng. Nhà trường còn tăng cường đầu tư phòng thực hành với không gian sáng tạo và các trang thiết bị chuyên dụng liên tục cập nhật, giúp sinh viên tiếp cận nhanh chóng với công nghệ và các xu hướng mới của ngành thời trang.\\n\\nĐiểm nổi bật của chương trình học là được xây dựng theo hướng kết nối với doanh nghiệp. Nhà trường thường xuyên kết hợp với các công ty trong và ngoài nước thuộc lĩnh vực thời trang để tổ chức các buổi tham quan, kiến tập, các cuộc thi thiết kế chuyên nghiệp nhằm giúp sinh viên phát triển toàn diện về kiến thức và kỹ năng nghề nghiệp. Ngoài các chương trình học chính khóa, sinh viên ngành Thiết kế thời trang có cơ hội tham gia sinh hoạt tại Câu lạc bộ thời trang của khoa và các hoạt động sôi nổi của trường.\\n\\nSinh viên tốt nghiệp ngành Thiết kế thời trang tại Trường Đại học Tôn Đức Thắng được trang bị đầy đủ kỹ năng về nguyên lý thiết kế và quy trình thiết kế một bộ sưu tập thời trang từ khâu đầu đến khâu cuối; vận dụng những hiểu biết về thị hiếu thẩm mỹ, về lịch sử mỹ thuật, lịch sử trang phục để từ đó có những thiết kế phù hợp với nhu cầu của người tiêu dùng; xây dựng, định hướng, thúc đẩy trình độ thẩm mỹ của người tiêu dùng thông qua các sản phẩm thời trang. Bên cạnh đó, sinh viên sau khi tốt nghiệp còn có khả năng tự cập nhật kiến thức, sử dụng thành thạo các phần mềm thiết kế 2D, 3D làm công cụ phân tích về trào lưu, xu hướng mốt, tìm kiếm và phát triển ý tưởng để thiết kế các loại hình trang phục đa dạng như: trang phục trẻ em, trang phục dạo phố, trang phục dạ hội, trang phục cưới, … ', metadata={'id': 37}),\n",
       " Document(page_content='Kiến trúc là ngành tích hợp kiến thức ở cả 2 lĩnh vực nghệ thuật và kỹ thuật, vận dụng tư duy logic và khả năng sáng tạo để thiết kế, tổ chức và sắp xếp không gian của các công trình kiến trúc, cung cấp các giải pháp trong lĩnh vực xây dựng nhằm đáp ứng nhu cầu thực tế về nơi ở, khu vui chơi, nơi làm việc và đi lại của xã hội.\\n\\nKiến trúc sư tốt nghiệp tại Đại học Tôn Đức Thắng hoàn toàn có thể tự tin ứng tuyển vào làm việc tại các công ty tư vấn thiết kế kiến trúc - xây dựng, viện nghiên cứu kiến trúc, ban quản lý các dự án, cơ quan quản lý kiến trúc và quy hoạch xây dựng đô thị hoặc tự thành lập doanh nghiệp để phát triển năng lực của bản thân. Ngoài ra, sinh viên sau khi tốt nghiệp còn có cơ hội trở thành giảng viên giảng dạy các môn học thuộc chuyên ngành Kiến trúc tại các trường đại học trên cả nước hoặc nước ngoài. \\nSinh viên được trang bị đầy đủ kiến thức cơ bản về nghệ thuật kiến trúc, kỹ thuật vẽ hình học, hoạ hình, bố cục tạo hình, lịch sử mỹ thuật đến các kiến thức chuyên ngành như nguyên lý thiết kế nhà ở, kỹ thuật thi công, công tác quy hoạch, thiết kế đô thị, phương pháp sáng tác kiến trúc, phương pháp vẽ nhà 2D, 3D, các phần mềm đồ hoạ hiện đại và liên tục cập nhật như Revit, Autocad, Sketchup, 3D Max, …\\n\\nKhông những cung cấp kiến thức nền tảng cho sinh viên, nội dung chương trình đào tạo còn tập trung phát triển các kỹ năng thực hành cho người học, giúp cho người học rèn luyện kỹ năng thiết kế kiến trúc, thiết kế nội thất và phát triển năng lực tư duy thẩm mỹ về không gian, nhận thức và tạo dựng cái đẹp nhằm đáp ứng nhu cầu thực tế của xã hội. Với phương pháp giảng dạy hiện đại, kết hợp thực hành tại xưởng mô hình hoặc các học phần quan sát thực tế, giúp sinh viên được ứng dụng lý thuyết, tìm ý tưởng, vẽ phác thảo mô hình và triển khai ý tưởng thiết kế dễ dàng hơn.\\n\\nSinh viên còn được tạo điều kiện để tham gia các buổi liên hoan nghệ thuật, chương trình triển lãm và các cuộc thi thiết kế lớn trong và ngoài nước để tích luỹ kinh nghiệm thực tế, giao lưu văn hoá và nâng cao khả năng sáng tạo.\\n\\nThông qua mạng lưới đối tác doanh nghiệp thân hữu, sinh viên được hướng dẫn tham gia kiến tập tại các công ty trong và ngoài nước, qua đó giúp sinh viên sớm làm quen và tiếp cận với môi trường văn hoá doanh nghiệp, tạo cơ hội tìm kiếm cơ hội nghề nghiệp cho tương lai. Đặc biệt, đối với một số môn học chuyên ngành, Nhà trường sẽ kết hợp với các đối tác quốc tế là những trường Đại học hàng đầu trong lĩnh vực Kiến trúc, tổ chức các chương trình học tập trao đổi ngắn hạn nhằm tạo điều kiện cho sinh viên được tìm hiểu về lịch sử và các công trình kiến trúc của mỗi quốc gia và giao lưu văn hoá giữa các nền văn hoá trên thế giới.\\n\\nSinh viên sau khi tốt nghiệp được trang bị đầy đủ kiến thức và kỹ năng sử dụng thành thạo các phần mềm phục vụ thiết kế; phân tích, tổng hợp và ứng dụng khoa học công nghệ để thực hiện các đồ án thiết kế kiến trúc; vận dụng khả năng tư duy sáng tạo để phác thảo ý tưởng thiết kế ban đầu cho đến triển khai bản vẽ kỹ thuật thi công; hiểu biết căn bản về các giải pháp kết cấu công trình và sử dụng vật liệu xây dựng trong kiến trúc nội – ngoại thất công trình. ', metadata={'id': 13}),\n",
       " Document(page_content='Trong bối cảnh hiện nay, Marketing đã không còn quá xa lạ với mọi người và có tầm quan trọng đặc biệt đối với các doanh nghiệp, xã hội đang phát triển và hội nhập quốc tế như Việt Nam. Đây cũng được xem là một trong số những ngành “hot”; thu hút sự quan tâm đông đảo của học sinh, sinh viên trên cả nước.\\n\\nCử nhân marketing sau khi ra trường có thể tự tin ứng tuyển vào các vị trí như chuyên viên tại các công ty hoạt động trong lĩnh vực Marketing; chuyên viên nghiên cứu thị trường, tổ chức sự kiện; chuyên viên chăm sóc khách hàng; chuyên viên truyền thông và quan hệ công chúng; chuyên viên phát triển nội dung; chuyên viên phát triển và quản trị thương hiệu. Ngoài ra, cử nhân Marketing còn có thể tham gia giảng dạy, nghiên cứu về lĩnh vực tiếp thị và quảng cáo hoặc tiếp tục nghiên cứu và học tập các bậc học cao hơn ở các chương trình sau đại học. \\nSinh viên được trang bị hệ thống kiến thức nền tảng về Marketing hiện đại; cung cấp nhiều kiến thức về tiếp thị kỹ thuật số, nghiên cứu thị trường, hành vi khách hàng, quản lý bán hàng, truyền thông tích hợp quảng cáo và tổ chức sự kiện, xây dựng và phát triển các mối quan hệ khách hàng, tiếp thị quốc tế, tiếp thị xã hội, quản lý sản phẩm và bán hàng chuyên nghiệp, …\\n\\nVới mục tiêu đào tạo sinh viên trở thành một Marketer toàn diện về cả năng lực chuyên môn lẫn kỹ năng nghề nghiệp, chương trình học được nghiên cứu và xây dựng theo hướng kết hợp hài hoà giữa lý thuyết và thực tiễn thông qua các bài giảng trên lớp và kinh nghiệm thực tế từ các đợt thực tập, kiến tập tại doanh nghiệp, các buổi hội thảo chuyên ngành hiện đại.\\n\\nSinh viên còn có cơ hội học hỏi, thực hiện dự án thực tế thông qua các bài tập mô phỏng, vận dụng kiến thức để phân tích, tổng hợp thông tin và đưa ra giải pháp nhằm giải quyết tình huống cụ thể.\\n\\nTrong một số môn học chuyên sâu, các chuyên gia hàng đầu trong lĩnh vực Marketing sẽ cùng với giảng viên của trường trực tiếp giảng dạy và hướng dẫn sinh viên thực hiện các dự án thực tế ngay tại doanh nghiệp, đồng thời tham gia vào các buổi chia sẻ và định hướng nghề nghiệp với vai trò là các diễn giả, giúp sinh viên chủ động hoạch định con đường nghề nghiệp cho tương lai.\\n\\nTính ứng dụng của các học phần được thiết kế theo hướng tăng dần từ cấp độ kiến thức cơ bản cho đến cấp độ sinh viên có khả năng tự tiếp nhận tình huống, phân tích mục tiêu và đối tượng khách hàng, lên ý tưởng triển khai một dự án tiếp thị hoàn chỉnh. Bên cạnh đó, sinh viên ngành Marketing được hỗ trợ dự thi các chứng chỉ nghề quốc tế để phục vụ cho mục đích công việc.\\n\\nSinh viên tốt nghiệp ngành Marketing tại Trường Đại học Tôn Đức Thắng được cung cấp đầy đủ kiến thức và kỹ năng chuyên môn để tham gia vào gần như tất cả các khía cạnh của hoạt động kinh doanh, bắt đầu bằng việc xác định sứ mệnh của công ty, đánh giá mong muốn và nhu cầu của người tiêu dùng, xây dựng chiến lược, thiết kế sản phẩm và dịch vụ, thực hiện các chương trình khuyến mãi và giám sát sự hài lòng của người tiêu dùng với sản phẩm của công ty.', metadata={'id': 25})]"
      ]
     },
     "execution_count": 12,
     "metadata": {},
     "output_type": "execute_result"
    }
   ],
   "source": [
    "retriever.k = 3\n",
    "a = retriever.get_relevant_documents(\"em muốn biết ngành kỹ thuật phần mềm\")\n",
    "a\n"
   ]
  }
 ],
 "metadata": {
  "kernelspec": {
   "display_name": "Python 3 (ipykernel)",
   "language": "python",
   "name": "python3"
  },
  "language_info": {
   "codemirror_mode": {
    "name": "ipython",
    "version": 3
   },
   "file_extension": ".py",
   "mimetype": "text/x-python",
   "name": "python",
   "nbconvert_exporter": "python",
   "pygments_lexer": "ipython3",
   "version": "3.9.18"
  }
 },
 "nbformat": 4,
 "nbformat_minor": 5
}
