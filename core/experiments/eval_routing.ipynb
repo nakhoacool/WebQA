{
 "cells": [
  {
   "cell_type": "markdown",
   "id": "9240ba32",
   "metadata": {},
   "source": [
    "# eval on real questions"
   ]
  },
  {
   "cell_type": "code",
   "execution_count": 11,
   "id": "a33b8a58",
   "metadata": {},
   "outputs": [
    {
     "name": "stdout",
     "output_type": "stream",
     "text": [
      "(115, 8)\n",
      "39\n",
      "(22, 8)\n",
      "9\n",
      "(20, 9)\n",
      "11\n"
     ]
    }
   ],
   "source": [
    "import pandas as pd\n",
    "import os\n",
    "\n",
    "folders = ['major','training_program', \"uni\"]\n",
    "data = []\n",
    "tmpdf = None\n",
    "df = None\n",
    "for folder in folders:\n",
    "    path = f\"../data/{folder}/test/\"\n",
    "    files = os.listdir(path=path)\n",
    "    all_files = [os.path.join(path, f) for f in files]\n",
    "    tmpdf = pd.concat((pd.read_csv(f) for f in all_files), ignore_index=True)\n",
    "    print(tmpdf.shape)\n",
    "    label = folder.replace(\"_program\", \"\") if folder == \"training_program\" else folder\n",
    "    tmpdf['label'] = label\n",
    "    if df is None:\n",
    "        df = tmpdf\n",
    "    else:\n",
    "        df = pd.concat([df, tmpdf], axis=0)\n",
    "    print(len(files))"
   ]
  },
  {
   "cell_type": "code",
   "execution_count": 2,
   "id": "18ea8411",
   "metadata": {},
   "outputs": [
    {
     "data": {
      "text/plain": [
       "(157, 7)"
      ]
     },
     "execution_count": 2,
     "metadata": {},
     "output_type": "execute_result"
    }
   ],
   "source": [
    "df = df.sample(frac = 1)\n",
    "df.shape"
   ]
  },
  {
   "cell_type": "code",
   "execution_count": 3,
   "id": "7d3f2662",
   "metadata": {},
   "outputs": [
    {
     "name": "stderr",
     "output_type": "stream",
     "text": [
      "/home/h4438/miniconda3/envs/uni/lib/python3.9/site-packages/tqdm/auto.py:21: TqdmWarning: IProgress not found. Please update jupyter and ipywidgets. See https://ipywidgets.readthedocs.io/en/stable/user_install.html\n",
      "  from .autonotebook import tqdm as notebook_tqdm\n"
     ]
    },
    {
     "name": "stdout",
     "output_type": "stream",
     "text": [
      "loaded index doc\n",
      "loaded index doc\n",
      "loaded index doc\n"
     ]
    }
   ],
   "source": [
    "import sys\n",
    "sys.path.append(\"../\")\n",
    "from src.config import Configuration\n",
    "from src.robot import RAGRobot\n",
    "from src.service.provider import ProviderService\n",
    "\n",
    "config = Configuration()\n",
    "\n",
    "provider = ProviderService()\n",
    "robot = RAGRobot(provider=provider)"
   ]
  },
  {
   "cell_type": "code",
   "execution_count": 4,
   "id": "1e70fd86",
   "metadata": {},
   "outputs": [],
   "source": [
    "df['prediction']= df['question'].apply(lambda x: robot.router.invoke({\"question\": x}).lower())"
   ]
  },
  {
   "cell_type": "code",
   "execution_count": 9,
   "metadata": {},
   "outputs": [],
   "source": [
    "df.to_csv(\"../experiments/results/eval_routing.csv\")"
   ]
  },
  {
   "cell_type": "code",
   "execution_count": 12,
   "id": "83069a09",
   "metadata": {},
   "outputs": [],
   "source": [
    "df = pd.read_csv(\"../experiments/results/eval_routing.csv\")"
   ]
  },
  {
   "cell_type": "code",
   "execution_count": 13,
   "id": "ac3cc202",
   "metadata": {},
   "outputs": [
    {
     "name": "stdout",
     "output_type": "stream",
     "text": [
      "              precision    recall  f1-score   support\n",
      "\n",
      "       major       0.97      0.74      0.84       115\n",
      "       other       0.00      0.00      0.00         0\n",
      "    training       0.40      0.64      0.49        22\n",
      "         uni       0.79      0.75      0.77        20\n",
      "\n",
      "    accuracy                           0.73       157\n",
      "   macro avg       0.54      0.53      0.52       157\n",
      "weighted avg       0.86      0.73      0.78       157\n",
      "\n"
     ]
    },
    {
     "name": "stderr",
     "output_type": "stream",
     "text": [
      "/home/h4438/miniconda3/envs/uni/lib/python3.9/site-packages/sklearn/metrics/_classification.py:1509: UndefinedMetricWarning: Recall is ill-defined and being set to 0.0 in labels with no true samples. Use `zero_division` parameter to control this behavior.\n",
      "  _warn_prf(average, modifier, f\"{metric.capitalize()} is\", len(result))\n",
      "/home/h4438/miniconda3/envs/uni/lib/python3.9/site-packages/sklearn/metrics/_classification.py:1509: UndefinedMetricWarning: Recall is ill-defined and being set to 0.0 in labels with no true samples. Use `zero_division` parameter to control this behavior.\n",
      "  _warn_prf(average, modifier, f\"{metric.capitalize()} is\", len(result))\n",
      "/home/h4438/miniconda3/envs/uni/lib/python3.9/site-packages/sklearn/metrics/_classification.py:1509: UndefinedMetricWarning: Recall is ill-defined and being set to 0.0 in labels with no true samples. Use `zero_division` parameter to control this behavior.\n",
      "  _warn_prf(average, modifier, f\"{metric.capitalize()} is\", len(result))\n"
     ]
    }
   ],
   "source": [
    "labels = df['label'].to_list()\n",
    "preds = df['prediction'].to_list()\n",
    "\n",
    "from sklearn.metrics import classification_report\n",
    "\n",
    "report = classification_report(y_true=labels, y_pred=preds)\n",
    "print(report)"
   ]
  },
  {
   "cell_type": "code",
   "execution_count": null,
   "id": "00be01cc",
   "metadata": {},
   "outputs": [],
   "source": [
    "with open(\"./intent_classification.txt\", \"w\") as f:\n",
    "    f.write(report)"
   ]
  },
  {
   "cell_type": "markdown",
   "id": "762bc8a5",
   "metadata": {},
   "source": [
    "# eval on random questions"
   ]
  },
  {
   "cell_type": "code",
   "execution_count": 1,
   "id": "fb793ea9",
   "metadata": {},
   "outputs": [
    {
     "name": "stderr",
     "output_type": "stream",
     "text": [
      "/home/h4438/miniconda3/envs/uni/lib/python3.9/site-packages/tqdm/auto.py:21: TqdmWarning: IProgress not found. Please update jupyter and ipywidgets. See https://ipywidgets.readthedocs.io/en/stable/user_install.html\n",
      "  from .autonotebook import tqdm as notebook_tqdm\n"
     ]
    },
    {
     "name": "stdout",
     "output_type": "stream",
     "text": [
      "loaded index doc\n",
      "loaded index doc\n",
      "loaded index doc\n"
     ]
    }
   ],
   "source": [
    "import pandas as pd\n",
    "import sys\n",
    "sys.path.append(\"../\")\n",
    "from src.config import Configuration\n",
    "from src.robot import RAGRobot\n",
    "from src.service.provider import ProviderService\n",
    "\n",
    "\n",
    "path = \"../data/random_questions.csv\"\n",
    "df = pd.read_csv(path)\n",
    "\n",
    "config = Configuration()\n",
    "\n",
    "provider = ProviderService()\n",
    "robot = RAGRobot(provider=provider)\n"
   ]
  },
  {
   "cell_type": "code",
   "execution_count": 10,
   "id": "97ad6b65",
   "metadata": {},
   "outputs": [
    {
     "name": "stdout",
     "output_type": "stream",
     "text": [
      "0.0\n",
      "None\n",
      "None\n"
     ]
    }
   ],
   "source": [
    "ai = provider.get_simple_gemini_pro()\n",
    "t = ai.temperature\n",
    "print(t)\n",
    "t = ai.top_k\n",
    "print(t)\n",
    "t = ai.top_p\n",
    "print(t)"
   ]
  },
  {
   "cell_type": "code",
   "execution_count": 4,
   "id": "5500a268",
   "metadata": {},
   "outputs": [],
   "source": [
    "df['prediction']= df['question'].apply(lambda x: robot.router.invoke({\"question\": x}).lower())\n"
   ]
  },
  {
   "cell_type": "code",
   "execution_count": 5,
   "id": "b66ec33f",
   "metadata": {},
   "outputs": [],
   "source": [
    "df.to_csv(\"../experiments/results/eval_routing_other.csv\")\n"
   ]
  },
  {
   "cell_type": "code",
   "execution_count": 6,
   "id": "217d8a51",
   "metadata": {},
   "outputs": [
    {
     "name": "stdout",
     "output_type": "stream",
     "text": [
      "              precision    recall  f1-score   support\n",
      "\n",
      "       other       1.00      1.00      1.00        30\n",
      "\n",
      "    accuracy                           1.00        30\n",
      "   macro avg       1.00      1.00      1.00        30\n",
      "weighted avg       1.00      1.00      1.00        30\n",
      "\n"
     ]
    }
   ],
   "source": [
    "labels = df['label'].to_list()\n",
    "preds = df['prediction'].to_list()\n",
    "\n",
    "from sklearn.metrics import classification_report\n",
    "\n",
    "report = classification_report(y_true=labels, y_pred=preds)\n",
    "print(report)\n"
   ]
  }
 ],
 "metadata": {
  "kernelspec": {
   "display_name": "Python 3 (ipykernel)",
   "language": "python",
   "name": "python3"
  },
  "language_info": {
   "codemirror_mode": {
    "name": "ipython",
    "version": 3
   },
   "file_extension": ".py",
   "mimetype": "text/x-python",
   "name": "python",
   "nbconvert_exporter": "python",
   "pygments_lexer": "ipython3",
   "version": "3.9.18"
  }
 },
 "nbformat": 4,
 "nbformat_minor": 5
}
