{
 "cells": [
  {
   "cell_type": "markdown",
   "id": "e22a1840-bdd7-405a-9efe-74695ab89d12",
   "metadata": {},
   "source": [
    "# Title matching experiment\n",
    "@author Hieu\n",
    "@date 30/12/2023\n",
    "\n",
    "## Description\n",
    "In this experiment, I matches user query with page title\n",
    "\n",
    "## Tools\n",
    "- FAISS\n",
    "- LaBSE\n",
    "\n",
    "## Lesson\n",
    "The sentence transformer model is simply a embedding model that knows the distribution of words. \\\n",
    "It do not have any knowledge on word to a long sentence.\\\n",
    "Therefore, matching a user query to a title is not effective.\n",
    "\n",
    "## Cause\n",
    "- not enough information (a title is not enough)\n",
    "- similar words present in the text cause the score to be high"
   ]
  },
  {
   "cell_type": "code",
   "execution_count": 1,
   "id": "1d85dfde-cba6-4659-9bd0-80bcc20dd05a",
   "metadata": {},
   "outputs": [
    {
     "data": {
      "text/html": [
       "<div>\n",
       "<style scoped>\n",
       "    .dataframe tbody tr th:only-of-type {\n",
       "        vertical-align: middle;\n",
       "    }\n",
       "\n",
       "    .dataframe tbody tr th {\n",
       "        vertical-align: top;\n",
       "    }\n",
       "\n",
       "    .dataframe thead th {\n",
       "        text-align: right;\n",
       "    }\n",
       "</style>\n",
       "<table border=\"1\" class=\"dataframe\">\n",
       "  <thead>\n",
       "    <tr style=\"text-align: right;\">\n",
       "      <th></th>\n",
       "      <th>Major</th>\n",
       "      <th>Description</th>\n",
       "      <th>Additional Description</th>\n",
       "    </tr>\n",
       "  </thead>\n",
       "  <tbody>\n",
       "    <tr>\n",
       "      <th>0</th>\n",
       "      <td>Bảo hộ lao động</td>\n",
       "      <td>Bảo hộ lao động là ngành học đón đầu xu hướng ...</td>\n",
       "      <td>Bằng cấp\\nCử nhân\\nKỹ sư Thời gian đào tạo\\nTo...</td>\n",
       "    </tr>\n",
       "    <tr>\n",
       "      <th>1</th>\n",
       "      <td>Công nghệ kỹ thuật môi trường - Chuyên ngành C...</td>\n",
       "      <td>Công nghệ kỹ thuật môi trường – Chuyên ngành C...</td>\n",
       "      <td>Bằng cấp\\nCử nhân\\nKỹ sư Thời gian đào tạo\\nTo...</td>\n",
       "    </tr>\n",
       "    <tr>\n",
       "      <th>2</th>\n",
       "      <td>Công tác xã hội</td>\n",
       "      <td>Công tác xã hội là ngành khoa học vận dụng nhữ...</td>\n",
       "      <td>Bằng cấp\\nCử nhân Thời gian đào tạo\\nToàn thời...</td>\n",
       "    </tr>\n",
       "    <tr>\n",
       "      <th>3</th>\n",
       "      <td>Kế toán</td>\n",
       "      <td>Kế toán, kiểm toán không chỉ là công cụ quản l...</td>\n",
       "      <td>Bằng cấp\\nCử nhân Thời gian đào tạo\\nToàn thời...</td>\n",
       "    </tr>\n",
       "  </tbody>\n",
       "</table>\n",
       "</div>"
      ],
      "text/plain": [
       "                                               Major  \\\n",
       "0                                    Bảo hộ lao động   \n",
       "1  Công nghệ kỹ thuật môi trường - Chuyên ngành C...   \n",
       "2                                    Công tác xã hội   \n",
       "3                                            Kế toán   \n",
       "\n",
       "                                         Description  \\\n",
       "0  Bảo hộ lao động là ngành học đón đầu xu hướng ...   \n",
       "1  Công nghệ kỹ thuật môi trường – Chuyên ngành C...   \n",
       "2  Công tác xã hội là ngành khoa học vận dụng nhữ...   \n",
       "3  Kế toán, kiểm toán không chỉ là công cụ quản l...   \n",
       "\n",
       "                              Additional Description  \n",
       "0  Bằng cấp\\nCử nhân\\nKỹ sư Thời gian đào tạo\\nTo...  \n",
       "1  Bằng cấp\\nCử nhân\\nKỹ sư Thời gian đào tạo\\nTo...  \n",
       "2  Bằng cấp\\nCử nhân Thời gian đào tạo\\nToàn thời...  \n",
       "3  Bằng cấp\\nCử nhân Thời gian đào tạo\\nToàn thời...  "
      ]
     },
     "execution_count": 1,
     "metadata": {},
     "output_type": "execute_result"
    }
   ],
   "source": [
    "import pandas as pd\n",
    "\n",
    "db_df = pd.read_csv(\"../majors_info.csv\")\n",
    "db_df.head(4)"
   ]
  },
  {
   "cell_type": "code",
   "execution_count": 1,
   "id": "8c53fd86-0108-4f1c-b59e-06094a2253d6",
   "metadata": {},
   "outputs": [],
   "source": [
    "from langchain.embeddings import HuggingFaceInferenceAPIEmbeddings, HuggingFaceEmbeddings\n",
    "from langchain_community.vectorstores import FAISS\n",
    "from getpass import getpass\n",
    "\n",
    "# HUGGING_FACE_KEY = getpass(\"Hugging face key: \")\n",
    "HUGGING_FACE_KEY = open(\"../../hg_key\").read()"
   ]
  },
  {
   "cell_type": "markdown",
   "id": "ca3cd308-1eb1-45c2-b726-ae40d2236024",
   "metadata": {},
   "source": [
    "# Data"
   ]
  },
  {
   "cell_type": "code",
   "execution_count": 5,
   "id": "4ecdc55b-ba9a-41dc-8d34-2605a0370e91",
   "metadata": {},
   "outputs": [],
   "source": [
    "MODEL = \"sentence-transformers/LaBSE\"\n",
    "embeddings = HuggingFaceInferenceAPIEmbeddings(\n",
    "    api_key=HUGGING_FACE_KEY,\n",
    "    model_name=MODEL)"
   ]
  },
  {
   "cell_type": "code",
   "execution_count": 6,
   "id": "30afea5f-a276-4d1b-b80a-778aae37b5d2",
   "metadata": {},
   "outputs": [],
   "source": [
    "db = db_df['Major'].tolist()\n",
    "faiss_db = FAISS.from_texts(db, embeddings)"
   ]
  },
  {
   "cell_type": "markdown",
   "id": "cf5716ab-9c37-429a-b4b5-e3acca1252db",
   "metadata": {},
   "source": [
    "# Learn"
   ]
  },
  {
   "cell_type": "code",
   "execution_count": 31,
   "id": "3bf586fd-597f-4895-9897-0b71dce0a990",
   "metadata": {},
   "outputs": [
    {
     "name": "stdout",
     "output_type": "stream",
     "text": [
      "1.0123114538765887\n",
      "1.1077420049467213\n",
      "1.095200175904101\n",
      "0.9544046579578791\n",
      "1.2669979125528543\n",
      "1.163662254111237\n",
      "0.973616333800583\n"
     ]
    }
   ],
   "source": [
    "import numpy as np\n",
    "\n",
    "a = embeddings.embed_query(\"Tôi muốn học về lập trình\")\n",
    "test_docs = embeddings.embed_documents(\\\n",
    "    [\"kỹ thuật xây dựng\", \"xây dựng\",\\\n",
    "     \"phần mềm\", \"khoa học máy tính\", \"python\", \"java\",\\\n",
    "     \"Phần mềm vẽ kỹ thuật cho thiết kế\"])\n",
    "\n",
    "npa = np.array(a)\n",
    "for b in test_docs:\n",
    "    npb = np.array(b)\n",
    "    distance = np.linalg.norm(npa - npb)\n",
    "    print(distance)"
   ]
  },
  {
   "cell_type": "markdown",
   "id": "ce9ff1ab-c150-48ff-8509-9235f0c1630a",
   "metadata": {},
   "source": [
    "# RUN"
   ]
  },
  {
   "cell_type": "code",
   "execution_count": 7,
   "id": "30057351-8ae5-4071-9549-b9563528f9d6",
   "metadata": {
    "scrolled": true
   },
   "outputs": [
    {
     "name": "stdout",
     "output_type": "stream",
     "text": [
      "Query: Tôi muốn học về lập trình\n",
      "Khoa học máy tính - euclid:  0.92115736\n",
      "Kỹ thuật phần mềm - euclid:  0.9530451\n",
      "Kỹ thuật xây dựng - euclid:  1.014338\n",
      "Kỹ thuật xây dựng công trình giao thông - euclid:  1.1019566\n"
     ]
    }
   ],
   "source": [
    "query = \"Tôi muốn học về lập trình\"\n",
    "res = faiss_db.similarity_search_with_score(query)\n",
    "print(\"Query: \"+query)\n",
    "a = [print(r[0].page_content[:40], \"- euclid: \", r[1]) for r in res]"
   ]
  },
  {
   "cell_type": "code",
   "execution_count": 8,
   "id": "fdbd5308-3397-4b4d-9f5d-a91e81cd410c",
   "metadata": {},
   "outputs": [
    {
     "name": "stdout",
     "output_type": "stream",
     "text": [
      "Khoa học máy tính - euclid:  0.3378064\n",
      "Khoa học môi trường - euclid:  0.8905713\n",
      "Kỹ thuật phần mềm - euclid:  0.94126093\n",
      "Mạng máy tính và truyền thông dữ liệu - euclid:  0.9495206\n"
     ]
    }
   ],
   "source": [
    "query = \"\"\n",
    "res = faiss_db.similarity_search_with_score(query)\n",
    "a = [print(r[0].page_content[:40], \"- euclid: \", r[1]) for r in res]"
   ]
  },
  {
   "cell_type": "code",
   "execution_count": 9,
   "id": "8dcc332b-235d-45ea-a2d9-ef5b38e5af54",
   "metadata": {},
   "outputs": [
    {
     "name": "stdout",
     "output_type": "stream",
     "text": [
      "Khoa học máy tính - euclid:  0.96717566\n",
      "Kỹ thuật phần mềm - euclid:  1.0049202\n",
      "Mạng máy tính và truyền thông  - euclid:  1.0302649\n",
      "Công nghệ kỹ thuật môi trường  - euclid:  1.1638519\n"
     ]
    }
   ],
   "source": [
    "query = \"Hãy tư vấn ngành công nghệ thông tin\"\n",
    "res = faiss_db.similarity_search_with_score(query)\n",
    "a = [print(r[0].page_content[:30], \"- euclid: \", r[1]) for r in res]"
   ]
  },
  {
   "cell_type": "code",
   "execution_count": 10,
   "id": "2908ac6d-1ee6-4e57-9a2f-5b01c13e9839",
   "metadata": {},
   "outputs": [
    {
     "name": "stdout",
     "output_type": "stream",
     "text": [
      "Quản lý thể dục thể thao - Chu - euclid:  1.1387161\n",
      "Việt Nam học - Chuyên ngành Vi - euclid:  1.1471713\n",
      "Việt Nam học – Chuyên ngành Du - euclid:  1.1800578\n",
      "Quản trị kinh doanh – Chuyên n - euclid:  1.2042801\n"
     ]
    }
   ],
   "source": [
    "query = \"Tôi học giỏi môn toán nhất, nếu vậy thì nên theo ngành nào\"\n",
    "res = faiss_db.similarity_search_with_score(query)\n",
    "a = [print(r[0].page_content[:30], \"- euclid: \", r[1]) for r in res]"
   ]
  },
  {
   "cell_type": "code",
   "execution_count": 11,
   "id": "385d5e5d-573e-4b53-b220-a99e572b95a4",
   "metadata": {},
   "outputs": [
    {
     "name": "stdout",
     "output_type": "stream",
     "text": [
      "Khoa học máy tính - euclid:  1.1363082\n",
      "Việt Nam học - Chuyên ngành Vi - euclid:  1.2076757\n",
      "Việt Nam học – Chuyên ngành Du - euclid:  1.2271353\n",
      "Việt Nam học – Chuyên ngành Du - euclid:  1.2549353\n"
     ]
    }
   ],
   "source": [
    "query = \"Tôi học giỏi môn toán nhất\"\n",
    "res = faiss_db.similarity_search_with_score(query)\n",
    "a = [print(r[0].page_content[:30], \"- euclid: \", r[1]) for r in res]"
   ]
  },
  {
   "cell_type": "code",
   "execution_count": 13,
   "id": "18039e18-71fe-4a8f-a1e5-ebd9a1a0f261",
   "metadata": {},
   "outputs": [
    {
     "name": "stdout",
     "output_type": "stream",
     "text": [
      "Khoa học máy tính - euclid:  0.47827107\n",
      "Toán ứng dụng - euclid:  0.5811865\n",
      "Kế toán - euclid:  0.6899358\n",
      "Thống kê - euclid:  0.7004967\n"
     ]
    }
   ],
   "source": [
    "query = \"Toán học\"\n",
    "res = faiss_db.similarity_search_with_score(query)\n",
    "a = [print(r[0].page_content[:30], \"- euclid: \", r[1]) for r in res]"
   ]
  },
  {
   "cell_type": "code",
   "execution_count": 14,
   "id": "4ea3f4c9-11df-4670-b15c-fe9355922076",
   "metadata": {},
   "outputs": [
    {
     "name": "stdout",
     "output_type": "stream",
     "text": [
      "Việt Nam học - Chuyên ngành Vi - euclid:  1.2253768\n",
      "Việt Nam học – Chuyên ngành Du - euclid:  1.2376243\n",
      "Quản trị kinh doanh – Chuyên n - euclid:  1.2407134\n",
      "Quản lý thể dục thể thao - Chu - euclid:  1.2475836\n"
     ]
    }
   ],
   "source": [
    "query = \"Tôi có định hướng làm về AI thì nên theo học ngành nào?\"\n",
    "res = faiss_db.similarity_search_with_score(query)\n",
    "a = [print(r[0].page_content[:30], \"- euclid: \", r[1]) for r in res]"
   ]
  },
  {
   "cell_type": "code",
   "execution_count": 18,
   "id": "709cbf84-31af-4e60-94c9-c71a8d28c786",
   "metadata": {},
   "outputs": [
    {
     "name": "stdout",
     "output_type": "stream",
     "text": [
      "Khoa học máy tính - euclid:  0.68308187\n",
      "Quy hoạch vùng và đô thị - euclid:  0.6861647\n",
      "Thiết kế đồ họa - euclid:  0.72297275\n",
      "Kỹ thuật xây dựng - euclid:  0.7528972\n"
     ]
    }
   ],
   "source": [
    "query = \"Toán học và thiết kế\"\n",
    "res = faiss_db.similarity_search_with_score(query)\n",
    "a = [print(r[0].page_content[:30], \"- euclid: \", r[1]) for r in res]"
   ]
  },
  {
   "cell_type": "code",
   "execution_count": null,
   "id": "682448b8-e2a5-40a4-8056-e85fb4c71742",
   "metadata": {},
   "outputs": [],
   "source": [
    "https://github.com/Searchium-ai/hybrid-search"
   ]
  }
 ],
 "metadata": {
  "kernelspec": {
   "display_name": "Python 3 (ipykernel)",
   "language": "python",
   "name": "python3"
  },
  "language_info": {
   "codemirror_mode": {
    "name": "ipython",
    "version": 3
   },
   "file_extension": ".py",
   "mimetype": "text/x-python",
   "name": "python",
   "nbconvert_exporter": "python",
   "pygments_lexer": "ipython3",
   "version": "3.9.18"
  }
 },
 "nbformat": 4,
 "nbformat_minor": 5
}
