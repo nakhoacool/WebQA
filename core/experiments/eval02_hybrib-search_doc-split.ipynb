{
 "cells": [
  {
   "cell_type": "markdown",
   "id": "2e21da2d-f63d-4de5-a680-11dcfa0ce358",
   "metadata": {},
   "source": [
    "# Experiment\n",
    "- Hybrid search\n",
    "- Doc split\n",
    "\n",
    "Reference: https://python.langchain.com/docs/modules/data_connection/retrievers/ensemble"
   ]
  },
  {
   "cell_type": "markdown",
   "id": "bbe2f135-d790-4829-9f63-490446a45e3c",
   "metadata": {},
   "source": [
    "# Config"
   ]
  },
  {
   "cell_type": "code",
   "execution_count": 1,
   "id": "ee4d282a-4bca-4bd0-adff-2905184eee69",
   "metadata": {},
   "outputs": [
    {
     "name": "stderr",
     "output_type": "stream",
     "text": [
      "/home/h4438/miniconda3/envs/uni/lib/python3.9/site-packages/tqdm/auto.py:21: TqdmWarning: IProgress not found. Please update jupyter and ipywidgets. See https://ipywidgets.readthedocs.io/en/stable/user_install.html\n",
      "  from .autonotebook import tqdm as notebook_tqdm\n"
     ]
    }
   ],
   "source": [
    "import sys\n",
    "sys.path.append(\"../\")\n",
    "from src.rag.hybrid_rag import HybridGeminiRAG\n",
    "from src.service.provider import ProviderService\n",
    "services = ProviderService()\n",
    "\n",
    "# fix this\n",
    "config = services.categories.major_gemini\n",
    "TEST_FOLDER = config.folder_name\n",
    "\n",
    "WEIGHTS = [0.5, 0.5]\n",
    "K = 1\n",
    "\n",
    "DIST = \"EUCLIDEAN_DISTANCE\"\n",
    "\n",
    "META = {\n",
    "    \"model\": config.embed_model,\n",
    "    \"doc_size\": config.size,\n",
    "    \"doc_overlap\": config.overlap,\n",
    "    \"bm25-weight\": WEIGHTS[0],\n",
    "    \"elastic-weight\": WEIGHTS[1],\n",
    "    \"vec_index\": config.vector_index,\n",
    "    \"txt_index\": config.text_index,\n",
    "    \"db_category\": config.db_category,\n",
    "    \"top k\": K,\n",
    "    \"distance\": DIST,\n",
    "    \"technique\": f\"{config.embed_model} + Hybrid\"\n",
    "}"
   ]
  },
  {
   "cell_type": "markdown",
   "id": "19ff3ebd-7bb7-4613-8f27-42886256ea9d",
   "metadata": {},
   "source": [
    "# My code"
   ]
  },
  {
   "cell_type": "code",
   "execution_count": 2,
   "id": "bb4998e0-191c-457f-9b94-001697d4f738",
   "metadata": {},
   "outputs": [
    {
     "name": "stdout",
     "output_type": "stream",
     "text": [
      "loaded index doc\n"
     ]
    }
   ],
   "source": [
    "from src.tests.retriever_eval import RetrieverEvaluation\n",
    "\n",
    "eval = RetrieverEvaluation(root_path=\"../data\", test_folder=TEST_FOLDER, save_path=\"./results\")\n",
    "\n",
    "rag = HybridGeminiRAG(\n",
    "    provider=services, \n",
    "    rag_config=config,\n",
    "    update_notification_func=lambda x: x)\n",
    "\n",
    "ensemble_retriever = rag.ensemble_retriever"
   ]
  },
  {
   "cell_type": "markdown",
   "id": "66575a30-9584-44ac-a3ef-b7c0b58b252e",
   "metadata": {},
   "source": [
    "# Test"
   ]
  },
  {
   "cell_type": "code",
   "execution_count": 3,
   "id": "039d6dcc-742a-4881-8111-0f4ac72dc948",
   "metadata": {},
   "outputs": [
    {
     "name": "stdout",
     "output_type": "stream",
     "text": [
      "config.txt  docs.csv  public_test_case.csv  sample_test_case.csv\n"
     ]
    }
   ],
   "source": [
    "\n",
    "!ls ../data/test_uni"
   ]
  },
  {
   "cell_type": "code",
   "execution_count": 4,
   "id": "c625d3c3-e143-4cbc-bc51-66c2f083658d",
   "metadata": {},
   "outputs": [],
   "source": [
    "eval.eval_sample(\"sample_hybrid_docsplit.txt\", ensemble_retriever, META)"
   ]
  },
  {
   "cell_type": "code",
   "execution_count": 5,
   "id": "66792603-da00-4af8-8641-d93f7c68c66d",
   "metadata": {},
   "outputs": [],
   "source": [
    "eval.eval_public(\"labse_major_hybrid_public_docsplit.txt\", ensemble_retriever, META)"
   ]
  },
  {
   "cell_type": "code",
   "execution_count": 7,
   "id": "b3abc572-22f3-4050-af25-e5565a7411b0",
   "metadata": {},
   "outputs": [],
   "source": [
    "eval.eval_private_hard(\"labse_major_hybrid_hard_private_docsplit.txt\", ensemble_retriever, META)"
   ]
  },
  {
   "cell_type": "markdown",
   "id": "b90a7688-005e-43eb-8fdb-fe8c182972ac",
   "metadata": {},
   "source": [
    "# Gemini"
   ]
  },
  {
   "cell_type": "code",
   "execution_count": 3,
   "id": "040c199e-1320-4eff-8dce-af108f7a639d",
   "metadata": {},
   "outputs": [],
   "source": [
    "eval.eval_public(f\"eval_public_{config.db_category}.txt\", ensemble_retriever, META)"
   ]
  },
  {
   "cell_type": "code",
   "execution_count": 4,
   "id": "95d2fea6-bce6-4993-be98-80a692b1ad92",
   "metadata": {},
   "outputs": [],
   "source": [
    "eval.eval_private_hard(f\"eval_private_{config.db_category}.txt\", ensemble_retriever, META)"
   ]
  }
 ],
 "metadata": {
  "kernelspec": {
   "display_name": "Python 3 (ipykernel)",
   "language": "python",
   "name": "python3"
  },
  "language_info": {
   "codemirror_mode": {
    "name": "ipython",
    "version": 3
   },
   "file_extension": ".py",
   "mimetype": "text/x-python",
   "name": "python",
   "nbconvert_exporter": "python",
   "pygments_lexer": "ipython3",
   "version": "3.9.18"
  }
 },
 "nbformat": 4,
 "nbformat_minor": 5
}
