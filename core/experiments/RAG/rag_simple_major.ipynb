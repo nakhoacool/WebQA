{
 "cells": [
  {
   "cell_type": "code",
   "execution_count": 5,
   "metadata": {},
   "outputs": [
    {
     "name": "stderr",
     "output_type": "stream",
     "text": [
      "/home/h4438/miniconda3/envs/uni/lib/python3.9/site-packages/tqdm/auto.py:21: TqdmWarning: IProgress not found. Please update jupyter and ipywidgets. See https://ipywidgets.readthedocs.io/en/stable/user_install.html\n",
      "  from .autonotebook import tqdm as notebook_tqdm\n"
     ]
    },
    {
     "name": "stdout",
     "output_type": "stream",
     "text": [
      "loaded index doc\n"
     ]
    }
   ],
   "source": [
    "import sys\n",
    "sys.path.append(\"../../\")\n",
    "from src.service.provider import ProviderService\n",
    "from src.rag.hybrid_rag import HybridGeminiRAG\n",
    "\n",
    "provider = ProviderService()\n",
    "\n",
    "def print_local():\n",
    "    print(\"Local\")\n",
    "\n",
    "tdt_rag = HybridGeminiRAG(\n",
    "    provider=provider, \n",
    "    rag_config=provider.get_categories().tdt_gemini, \n",
    "    update_notification_func=print_local\n",
    ")"
   ]
  },
  {
   "cell_type": "code",
   "execution_count": 16,
   "metadata": {},
   "outputs": [
    {
     "data": {
      "text/plain": [
       "(7, 1)"
      ]
     },
     "execution_count": 16,
     "metadata": {},
     "output_type": "execute_result"
    }
   ],
   "source": [
    "import pandas as pd\n",
    "\n",
    "\n",
    "PATH = '../../data/samples/questions.csv'\n",
    "df = pd.read_csv(PATH)\n",
    "df.shape"
   ]
  },
  {
   "cell_type": "code",
   "execution_count": 6,
   "metadata": {},
   "outputs": [
    {
     "name": "stderr",
     "output_type": "stream",
     "text": [
      "/home/h4438/miniconda3/envs/uni/lib/python3.9/site-packages/langchain_core/_api/deprecation.py:117: LangChainDeprecationWarning: The function `__call__` was deprecated in LangChain 0.1.7 and will be removed in 0.2.0. Use invoke instead.\n",
      "  warn_deprecated(\n"
     ]
    },
    {
     "name": "stdout",
     "output_type": "stream",
     "text": [
      "Local\n"
     ]
    },
    {
     "data": {
      "text/plain": [
       "<src.rag.types.RAGResponse at 0x7f02605c5a90>"
      ]
     },
     "execution_count": 6,
     "metadata": {},
     "output_type": "execute_result"
    }
   ],
   "source": [
    "%timeit\n",
    "\n",
    "ques = \"Ngành nào có dạy về toán? Xin hãy cho biết tên và mã ngành\"\n",
    "\n",
    "a = tdt_rag.ask_rag(question=ques)\n",
    "\n",
    "a"
   ]
  },
  {
   "cell_type": "code",
   "execution_count": 7,
   "metadata": {},
   "outputs": [
    {
     "data": {
      "text/plain": [
       "'Toán ứng dụng - 7460112'"
      ]
     },
     "execution_count": 7,
     "metadata": {},
     "output_type": "execute_result"
    }
   ],
   "source": [
    "a.answer"
   ]
  },
  {
   "cell_type": "code",
   "execution_count": 17,
   "metadata": {},
   "outputs": [
    {
     "name": "stdout",
     "output_type": "stream",
     "text": [
      "Local\n",
      "Local\n",
      "Local\n",
      "Local\n",
      "Local\n",
      "Local\n",
      "Local\n"
     ]
    }
   ],
   "source": [
    "df['answer'] = df['question'].apply(lambda e: tdt_rag.ask_rag(e))"
   ]
  },
  {
   "cell_type": "code",
   "execution_count": 20,
   "metadata": {},
   "outputs": [],
   "source": [
    "df['answer_txt'] = df['answer'].apply(lambda e: e.answer)"
   ]
  },
  {
   "cell_type": "code",
   "execution_count": 21,
   "metadata": {},
   "outputs": [
    {
     "data": {
      "text/html": [
       "<div>\n",
       "<style scoped>\n",
       "    .dataframe tbody tr th:only-of-type {\n",
       "        vertical-align: middle;\n",
       "    }\n",
       "\n",
       "    .dataframe tbody tr th {\n",
       "        vertical-align: top;\n",
       "    }\n",
       "\n",
       "    .dataframe thead th {\n",
       "        text-align: right;\n",
       "    }\n",
       "</style>\n",
       "<table border=\"1\" class=\"dataframe\">\n",
       "  <thead>\n",
       "    <tr style=\"text-align: right;\">\n",
       "      <th></th>\n",
       "      <th>question</th>\n",
       "      <th>answer</th>\n",
       "      <th>answer_txt</th>\n",
       "    </tr>\n",
       "  </thead>\n",
       "  <tbody>\n",
       "    <tr>\n",
       "      <th>0</th>\n",
       "      <td>cho em hỏi về ngành CNTT?</td>\n",
       "      <td>&lt;src.rag.types.RAGResponse object at 0x7f02481...</td>\n",
       "      <td>Ngành Khoa học máy tính tại Trường Đại học Tôn...</td>\n",
       "    </tr>\n",
       "    <tr>\n",
       "      <th>1</th>\n",
       "      <td>trường có đào tạo kỹ sư cầu đường không ạ? Xin...</td>\n",
       "      <td>&lt;src.rag.types.RAGResponse object at 0x7f02481...</td>\n",
       "      <td>Có, tên ngành là Kỹ thuật xây dựng công trình ...</td>\n",
       "    </tr>\n",
       "    <tr>\n",
       "      <th>2</th>\n",
       "      <td>Có thông tin nào về ngành thời trang không ạ?</td>\n",
       "      <td>&lt;src.rag.types.RAGResponse object at 0x7f02481...</td>\n",
       "      <td>Ngành thiết kế thời trang</td>\n",
       "    </tr>\n",
       "    <tr>\n",
       "      <th>3</th>\n",
       "      <td>Em không giỏi Toán thì nên tập trung học về ng...</td>\n",
       "      <td>&lt;src.rag.types.RAGResponse object at 0x7f02481...</td>\n",
       "      <td>Ngôn ngữ Anh, Ngôn ngữ Trung Quốc, Công tác xã...</td>\n",
       "    </tr>\n",
       "    <tr>\n",
       "      <th>4</th>\n",
       "      <td>Sinh viên TDTU có đặc điểm như thế nào? Xin hã...</td>\n",
       "      <td>&lt;src.rag.types.RAGResponse object at 0x7f02481...</td>\n",
       "      <td>None</td>\n",
       "    </tr>\n",
       "    <tr>\n",
       "      <th>5</th>\n",
       "      <td>Thông tin về trường TDT?</td>\n",
       "      <td>&lt;src.rag.types.RAGResponse object at 0x7f02481...</td>\n",
       "      <td>Trường Đại học Tôn Đức Thắng (TDTU) là một trư...</td>\n",
       "    </tr>\n",
       "    <tr>\n",
       "      <th>6</th>\n",
       "      <td>Cách nào liên lạc trường Tôn Đức Thắng?</td>\n",
       "      <td>&lt;src.rag.types.RAGResponse object at 0x7f02481...</td>\n",
       "      <td>None</td>\n",
       "    </tr>\n",
       "  </tbody>\n",
       "</table>\n",
       "</div>"
      ],
      "text/plain": [
       "                                            question  \\\n",
       "0                          cho em hỏi về ngành CNTT?   \n",
       "1  trường có đào tạo kỹ sư cầu đường không ạ? Xin...   \n",
       "2      Có thông tin nào về ngành thời trang không ạ?   \n",
       "3  Em không giỏi Toán thì nên tập trung học về ng...   \n",
       "4  Sinh viên TDTU có đặc điểm như thế nào? Xin hã...   \n",
       "5                           Thông tin về trường TDT?   \n",
       "6            Cách nào liên lạc trường Tôn Đức Thắng?   \n",
       "\n",
       "                                              answer  \\\n",
       "0  <src.rag.types.RAGResponse object at 0x7f02481...   \n",
       "1  <src.rag.types.RAGResponse object at 0x7f02481...   \n",
       "2  <src.rag.types.RAGResponse object at 0x7f02481...   \n",
       "3  <src.rag.types.RAGResponse object at 0x7f02481...   \n",
       "4  <src.rag.types.RAGResponse object at 0x7f02481...   \n",
       "5  <src.rag.types.RAGResponse object at 0x7f02481...   \n",
       "6  <src.rag.types.RAGResponse object at 0x7f02481...   \n",
       "\n",
       "                                          answer_txt  \n",
       "0  Ngành Khoa học máy tính tại Trường Đại học Tôn...  \n",
       "1  Có, tên ngành là Kỹ thuật xây dựng công trình ...  \n",
       "2                          Ngành thiết kế thời trang  \n",
       "3  Ngôn ngữ Anh, Ngôn ngữ Trung Quốc, Công tác xã...  \n",
       "4                                               None  \n",
       "5  Trường Đại học Tôn Đức Thắng (TDTU) là một trư...  \n",
       "6                                               None  "
      ]
     },
     "execution_count": 21,
     "metadata": {},
     "output_type": "execute_result"
    }
   ],
   "source": [
    "df"
   ]
  }
 ],
 "metadata": {
  "kernelspec": {
   "display_name": "uni",
   "language": "python",
   "name": "python3"
  },
  "language_info": {
   "codemirror_mode": {
    "name": "ipython",
    "version": 3
   },
   "file_extension": ".py",
   "mimetype": "text/x-python",
   "name": "python",
   "nbconvert_exporter": "python",
   "pygments_lexer": "ipython3",
   "version": "3.9.18"
  }
 },
 "nbformat": 4,
 "nbformat_minor": 2
}
