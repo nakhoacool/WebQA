{
 "cells": [
  {
   "cell_type": "markdown",
   "id": "bbe2f135-d790-4829-9f63-490446a45e3c",
   "metadata": {},
   "source": [
    "# Evaluate RAG"
   ]
  },
  {
   "cell_type": "code",
   "execution_count": 1,
   "id": "ee4d282a-4bca-4bd0-adff-2905184eee69",
   "metadata": {},
   "outputs": [
    {
     "name": "stderr",
     "output_type": "stream",
     "text": [
      "/home/h4438/miniconda3/envs/uni/lib/python3.9/site-packages/tqdm/auto.py:21: TqdmWarning: IProgress not found. Please update jupyter and ipywidgets. See https://ipywidgets.readthedocs.io/en/stable/user_install.html\n",
      "  from .autonotebook import tqdm as notebook_tqdm\n"
     ]
    },
    {
     "name": "stdout",
     "output_type": "stream",
     "text": [
      "loaded index doc\n",
      "loaded index doc\n",
      "loaded index doc\n"
     ]
    }
   ],
   "source": [
    "import os\n",
    "import pandas as pd\n",
    "import sys\n",
    "import random\n",
    "sys.path.append(\"../\")\n",
    "from src.config import Configuration\n",
    "from src.robot import RAGRobot\n",
    "from src.service.provider import ProviderService\n",
    "\n",
    "config = Configuration()\n",
    "provider = ProviderService()\n",
    "robot = RAGRobot(provider=provider)\n",
    "\n",
    "test_folder = \"training_program\"\n",
    "rag = robot.training_prop_rag.chain\n",
    "# rag\n",
    "config.enable_tracing(project=\"Evaluation\")"
   ]
  },
  {
   "cell_type": "code",
   "execution_count": 2,
   "id": "2eb42948",
   "metadata": {},
   "outputs": [],
   "source": [
    "path = f\"../data/{test_folder}/test\"\n",
    "files = os.listdir(path)\n",
    "all_files = [f\"{path}/{f}\" for f in files]\n",
    "df = pd.concat((pd.read_csv(f) for f in all_files), ignore_index=True)\n",
    "\n",
    "df = df[['question', 'answer', 'wrong', 'doc_id']]\n",
    "df['category'] = test_folder\n",
    "df.shape\n",
    "# df.head()\n",
    "df = df.sample(frac = 1)\n",
    "\n",
    "# df = df.iloc[:40]"
   ]
  },
  {
   "cell_type": "code",
   "execution_count": 3,
   "id": "8dfad8d7",
   "metadata": {},
   "outputs": [
    {
     "data": {
      "text/plain": [
       "(22, 5)"
      ]
     },
     "execution_count": 3,
     "metadata": {},
     "output_type": "execute_result"
    }
   ],
   "source": [
    "df.shape"
   ]
  },
  {
   "cell_type": "code",
   "execution_count": 4,
   "id": "076a155e",
   "metadata": {},
   "outputs": [
    {
     "name": "stdout",
     "output_type": "stream",
     "text": [
      "Before the sleep statement\n",
      "After the sleep statement\n"
     ]
    }
   ],
   "source": [
    "import time\n",
    "\n",
    "print(\"Before the sleep statement\")\n",
    "time.sleep(5)\n",
    "print(\"After the sleep statement\")"
   ]
  },
  {
   "cell_type": "code",
   "execution_count": 5,
   "id": "d11a5781",
   "metadata": {},
   "outputs": [
    {
     "name": "stderr",
     "output_type": "stream",
     "text": [
      "/home/h4438/miniconda3/envs/uni/lib/python3.9/site-packages/langchain_core/_api/deprecation.py:117: LangChainDeprecationWarning: The function `__call__` was deprecated in LangChain 0.1.7 and will be removed in 0.2.0. Use invoke instead.\n",
      "  warn_deprecated(\n"
     ]
    },
    {
     "name": "stdout",
     "output_type": "stream",
     "text": [
      "error\n",
      "error\n",
      "error\n",
      "error\n"
     ]
    }
   ],
   "source": [
    "records = []\n",
    "for i, row in df.iterrows():\n",
    "    prompt = \"\"\n",
    "    labels = [\"A\", \"B\", \"C\", \"D\"]\n",
    "    record = {**row.to_dict()}\n",
    "    question = row['question']\n",
    "    if i%3 == 0:\n",
    "        time.sleep(20)\n",
    "    try:\n",
    "        choices = row['wrong'].split(\"\\n- \")[1:]\n",
    "        resp = rag.invoke({\"question\": question})\n",
    "    except:\n",
    "        print(\"error\")\n",
    "        time.sleep(30)\n",
    "        continue\n",
    "    # update\n",
    "    record['pred_doc_id'] = resp.document.id\n",
    "    record['RAG_answer'] = resp.answer\n",
    "    rand_idx = random.randint(0, len(labels) - 1)\n",
    "\n",
    "    record['correct_label'] = labels.pop(rand_idx)\n",
    "    prompt += f\"{record['correct_label']}. {record['answer']}\\n\"\n",
    "    while len(labels) > 0:\n",
    "        rand_idx = random.randint(0, len(labels) - 1)\n",
    "        prompt += f\"{labels.pop(rand_idx)}. {choices.pop()}\\n\"\n",
    "    record['multi_prompt'] = prompt\n",
    "    records.append(record)"
   ]
  },
  {
   "cell_type": "code",
   "execution_count": 6,
   "id": "9c006d02",
   "metadata": {},
   "outputs": [
    {
     "data": {
      "text/plain": [
       "18"
      ]
     },
     "execution_count": 6,
     "metadata": {},
     "output_type": "execute_result"
    }
   ],
   "source": [
    "len(records)"
   ]
  },
  {
   "cell_type": "code",
   "execution_count": 7,
   "id": "f6c501fd",
   "metadata": {},
   "outputs": [],
   "source": [
    "ndf = pd.DataFrame(records)\n",
    "ndf.to_csv(f\"../experiments/results/eval_{test_folder}_gemini_rag.csv\")"
   ]
  },
  {
   "cell_type": "code",
   "execution_count": 8,
   "id": "fd00163d",
   "metadata": {},
   "outputs": [
    {
     "data": {
      "text/plain": [
       "Index(['question', 'answer', 'wrong', 'doc_id', 'category'], dtype='object')"
      ]
     },
     "execution_count": 8,
     "metadata": {},
     "output_type": "execute_result"
    }
   ],
   "source": [
    "df.columns"
   ]
  },
  {
   "cell_type": "code",
   "execution_count": 10,
   "id": "5d0d2e4f",
   "metadata": {},
   "outputs": [
    {
     "data": {
      "text/plain": [
       "Unnamed: 0        0\n",
       "question          0\n",
       "answer            0\n",
       "wrong             0\n",
       "doc_id            0\n",
       "category          0\n",
       "pred_doc_id       0\n",
       "RAG_answer       41\n",
       "correct_label     0\n",
       "multi_prompt      0\n",
       "dtype: int64"
      ]
     },
     "execution_count": 10,
     "metadata": {},
     "output_type": "execute_result"
    }
   ],
   "source": [
    "import pandas as pd\n",
    "\n",
    "df = pd.read_csv(\"../experiments/results/eval_major_rag.csv\")\n",
    "\n",
    "check_nan = df.isnull().sum()\n",
    "check_nan"
   ]
  },
  {
   "cell_type": "code",
   "execution_count": 11,
   "id": "6c6f2284",
   "metadata": {},
   "outputs": [
    {
     "data": {
      "text/html": [
       "<div>\n",
       "<style scoped>\n",
       "    .dataframe tbody tr th:only-of-type {\n",
       "        vertical-align: middle;\n",
       "    }\n",
       "\n",
       "    .dataframe tbody tr th {\n",
       "        vertical-align: top;\n",
       "    }\n",
       "\n",
       "    .dataframe thead th {\n",
       "        text-align: right;\n",
       "    }\n",
       "</style>\n",
       "<table border=\"1\" class=\"dataframe\">\n",
       "  <thead>\n",
       "    <tr style=\"text-align: right;\">\n",
       "      <th></th>\n",
       "      <th>Unnamed: 0</th>\n",
       "      <th>question</th>\n",
       "      <th>answer</th>\n",
       "      <th>wrong</th>\n",
       "      <th>doc_id</th>\n",
       "      <th>category</th>\n",
       "      <th>pred_doc_id</th>\n",
       "      <th>RAG_answer</th>\n",
       "      <th>correct_label</th>\n",
       "      <th>multi_prompt</th>\n",
       "    </tr>\n",
       "  </thead>\n",
       "  <tbody>\n",
       "    <tr>\n",
       "      <th>0</th>\n",
       "      <td>0</td>\n",
       "      <td>Ngành Xã hội học tại TDTU có những hướng chuyê...</td>\n",
       "      <td>Quản lý xã hội và xã hội truyền thông đại chúng</td>\n",
       "      <td>- Tâm lý học xã hội\\n- Nhân học xã hội\\n- Xã h...</td>\n",
       "      <td>e4ce2db8-0c1c-4634-a7b4-3bc03310521c</td>\n",
       "      <td>major</td>\n",
       "      <td>dd0573ae-29a2-4afa-b5c1-303be63b8bfa</td>\n",
       "      <td>NaN</td>\n",
       "      <td>D</td>\n",
       "      <td>D. Quản lý xã hội và xã hội truyền thông đại c...</td>\n",
       "    </tr>\n",
       "    <tr>\n",
       "      <th>1</th>\n",
       "      <td>1</td>\n",
       "      <td>Ngành Xã hội học tại TDTU có thời gian đào tạo...</td>\n",
       "      <td>4 năm</td>\n",
       "      <td>- 3 năm\\n- 5 năm\\n- 6 năm\\n- 7 năm</td>\n",
       "      <td>e4ce2db8-0c1c-4634-a7b4-3bc03310521c</td>\n",
       "      <td>major</td>\n",
       "      <td>dd0573ae-29a2-4afa-b5c1-303be63b8bfa</td>\n",
       "      <td>NaN</td>\n",
       "      <td>D</td>\n",
       "      <td>D. 4 năm\\nC. 7 năm\\nB. 6 năm\\nA. 5 năm\\n</td>\n",
       "    </tr>\n",
       "    <tr>\n",
       "      <th>2</th>\n",
       "      <td>2</td>\n",
       "      <td>Ngành Quy hoạch vùng và đô thị đào tạo về nhữn...</td>\n",
       "      <td>Quy hoạch đô thị và nông thôn</td>\n",
       "      <td>- Kiến trúc\\n- Xây dựng\\n- Kỹ thuật môi trường...</td>\n",
       "      <td>680b5b13-33b0-40b9-9e74-f3f4dd11a04d</td>\n",
       "      <td>major</td>\n",
       "      <td>ded27576-2a47-46d2-a351-cd88df27a109</td>\n",
       "      <td>Quy hoạch sử dụng đất, quy hoạch đô thị, quy h...</td>\n",
       "      <td>D</td>\n",
       "      <td>D. Quy hoạch đô thị và nông thôn\\nB. Quản lý đ...</td>\n",
       "    </tr>\n",
       "    <tr>\n",
       "      <th>3</th>\n",
       "      <td>3</td>\n",
       "      <td>Ngành Quy hoạch vùng và đô thị đào tạo trong b...</td>\n",
       "      <td>4 năm hoặc 5 năm</td>\n",
       "      <td>- 2 năm\\n- 3 năm\\n- 6 năm\\n- 7 năm</td>\n",
       "      <td>680b5b13-33b0-40b9-9e74-f3f4dd11a04d</td>\n",
       "      <td>major</td>\n",
       "      <td>index</td>\n",
       "      <td>4 năm</td>\n",
       "      <td>A</td>\n",
       "      <td>A. 4 năm hoặc 5 năm\\nD. 7 năm\\nC. 6 năm\\nB. 3 ...</td>\n",
       "    </tr>\n",
       "    <tr>\n",
       "      <th>4</th>\n",
       "      <td>4</td>\n",
       "      <td>Ngành Ngôn ngữ Anh tại Trường Đại học Tôn Đức ...</td>\n",
       "      <td>Ngữ âm – âm vị, hình thái học, cú pháp học, ng...</td>\n",
       "      <td>- Toán cao cấp\\n- Vật lý hạt nhân\\n- Hóa học h...</td>\n",
       "      <td>fd6ea7bc-ad3e-4268-8994-dd6b512a30b9</td>\n",
       "      <td>major</td>\n",
       "      <td>dd0573ae-29a2-4afa-b5c1-303be63b8bfa</td>\n",
       "      <td>NaN</td>\n",
       "      <td>C</td>\n",
       "      <td>C. Ngữ âm – âm vị, hình thái học, cú pháp học,...</td>\n",
       "    </tr>\n",
       "  </tbody>\n",
       "</table>\n",
       "</div>"
      ],
      "text/plain": [
       "   Unnamed: 0                                           question  \\\n",
       "0           0  Ngành Xã hội học tại TDTU có những hướng chuyê...   \n",
       "1           1  Ngành Xã hội học tại TDTU có thời gian đào tạo...   \n",
       "2           2  Ngành Quy hoạch vùng và đô thị đào tạo về nhữn...   \n",
       "3           3  Ngành Quy hoạch vùng và đô thị đào tạo trong b...   \n",
       "4           4  Ngành Ngôn ngữ Anh tại Trường Đại học Tôn Đức ...   \n",
       "\n",
       "                                              answer  \\\n",
       "0    Quản lý xã hội và xã hội truyền thông đại chúng   \n",
       "1                                              4 năm   \n",
       "2                      Quy hoạch đô thị và nông thôn   \n",
       "3                                   4 năm hoặc 5 năm   \n",
       "4  Ngữ âm – âm vị, hình thái học, cú pháp học, ng...   \n",
       "\n",
       "                                               wrong  \\\n",
       "0  - Tâm lý học xã hội\\n- Nhân học xã hội\\n- Xã h...   \n",
       "1                 - 3 năm\\n- 5 năm\\n- 6 năm\\n- 7 năm   \n",
       "2  - Kiến trúc\\n- Xây dựng\\n- Kỹ thuật môi trường...   \n",
       "3                 - 2 năm\\n- 3 năm\\n- 6 năm\\n- 7 năm   \n",
       "4  - Toán cao cấp\\n- Vật lý hạt nhân\\n- Hóa học h...   \n",
       "\n",
       "                                 doc_id category  \\\n",
       "0  e4ce2db8-0c1c-4634-a7b4-3bc03310521c    major   \n",
       "1  e4ce2db8-0c1c-4634-a7b4-3bc03310521c    major   \n",
       "2  680b5b13-33b0-40b9-9e74-f3f4dd11a04d    major   \n",
       "3  680b5b13-33b0-40b9-9e74-f3f4dd11a04d    major   \n",
       "4  fd6ea7bc-ad3e-4268-8994-dd6b512a30b9    major   \n",
       "\n",
       "                            pred_doc_id  \\\n",
       "0  dd0573ae-29a2-4afa-b5c1-303be63b8bfa   \n",
       "1  dd0573ae-29a2-4afa-b5c1-303be63b8bfa   \n",
       "2  ded27576-2a47-46d2-a351-cd88df27a109   \n",
       "3                                 index   \n",
       "4  dd0573ae-29a2-4afa-b5c1-303be63b8bfa   \n",
       "\n",
       "                                          RAG_answer correct_label  \\\n",
       "0                                                NaN             D   \n",
       "1                                                NaN             D   \n",
       "2  Quy hoạch sử dụng đất, quy hoạch đô thị, quy h...             D   \n",
       "3                                              4 năm             A   \n",
       "4                                                NaN             C   \n",
       "\n",
       "                                        multi_prompt  \n",
       "0  D. Quản lý xã hội và xã hội truyền thông đại c...  \n",
       "1           D. 4 năm\\nC. 7 năm\\nB. 6 năm\\nA. 5 năm\\n  \n",
       "2  D. Quy hoạch đô thị và nông thôn\\nB. Quản lý đ...  \n",
       "3  A. 4 năm hoặc 5 năm\\nD. 7 năm\\nC. 6 năm\\nB. 3 ...  \n",
       "4  C. Ngữ âm – âm vị, hình thái học, cú pháp học,...  "
      ]
     },
     "execution_count": 11,
     "metadata": {},
     "output_type": "execute_result"
    }
   ],
   "source": [
    "df.head()"
   ]
  },
  {
   "cell_type": "markdown",
   "id": "15941da8",
   "metadata": {},
   "source": [
    "# CHECK 1 FILE"
   ]
  },
  {
   "cell_type": "code",
   "execution_count": 9,
   "id": "a37c366a",
   "metadata": {},
   "outputs": [
    {
     "name": "stdout",
     "output_type": "stream",
     "text": [
      "0.7368421052631579\n",
      "14\n",
      "19\n",
      "              precision    recall  f1-score   support\n",
      "\n",
      "           A       0.86      1.00      0.92         6\n",
      "           B       1.00      1.00      1.00         2\n",
      "           C       1.00      0.60      0.75         5\n",
      "           D       1.00      0.83      0.91         6\n",
      "        None       0.00      0.00      0.00         0\n",
      "\n",
      "    accuracy                           0.84        19\n",
      "   macro avg       0.77      0.69      0.72        19\n",
      "weighted avg       0.95      0.84      0.88        19\n",
      "\n"
     ]
    },
    {
     "name": "stderr",
     "output_type": "stream",
     "text": [
      "/home/h4438/miniconda3/envs/uni/lib/python3.9/site-packages/sklearn/metrics/_classification.py:1509: UndefinedMetricWarning: Recall is ill-defined and being set to 0.0 in labels with no true samples. Use `zero_division` parameter to control this behavior.\n",
      "  _warn_prf(average, modifier, f\"{metric.capitalize()} is\", len(result))\n",
      "/home/h4438/miniconda3/envs/uni/lib/python3.9/site-packages/sklearn/metrics/_classification.py:1509: UndefinedMetricWarning: Recall is ill-defined and being set to 0.0 in labels with no true samples. Use `zero_division` parameter to control this behavior.\n",
      "  _warn_prf(average, modifier, f\"{metric.capitalize()} is\", len(result))\n",
      "/home/h4438/miniconda3/envs/uni/lib/python3.9/site-packages/sklearn/metrics/_classification.py:1509: UndefinedMetricWarning: Recall is ill-defined and being set to 0.0 in labels with no true samples. Use `zero_division` parameter to control this behavior.\n",
      "  _warn_prf(average, modifier, f\"{metric.capitalize()} is\", len(result))\n"
     ]
    }
   ],
   "source": [
    "import pandas as pd\n",
    "import os\n",
    "from sklearn.metrics import classification_report\n",
    "\n",
    "path = \"../experiments/results\"\n",
    "all_files = ['eval_major_gemini_rag.csv', 'eval_training_program_gemini_rag.csv','eval_uni_gemini_rag.csv']\n",
    "\n",
    "\n",
    "file = all_files[2]\n",
    "\n",
    "df = pd.read_csv(os.path.join(path, file))\n",
    "df = df.fillna(\"None\")\n",
    "\n",
    "y = df['doc_id']\n",
    "yhat = df['pred_doc_id']\n",
    "\n",
    "score = 0\n",
    "for a,b in zip(y, yhat):\n",
    "    if a == b:\n",
    "        score += 1\n",
    "\n",
    "print(score/len(y))\n",
    "print(score)\n",
    "print(len(y))\n",
    "\n",
    "\n",
    "labels = df['correct_label']\n",
    "preds = df['RAG_label']\n",
    "report = classification_report(y_true=labels, y_pred=preds)\n",
    "print(report)\n"
   ]
  },
  {
   "cell_type": "markdown",
   "id": "52409175",
   "metadata": {},
   "source": [
    "## Check"
   ]
  },
  {
   "cell_type": "code",
   "execution_count": 1,
   "id": "0d0e8556",
   "metadata": {},
   "outputs": [
    {
     "name": "stderr",
     "output_type": "stream",
     "text": [
      "/home/h4438/miniconda3/envs/uni/lib/python3.9/site-packages/tqdm/auto.py:21: TqdmWarning: IProgress not found. Please update jupyter and ipywidgets. See https://ipywidgets.readthedocs.io/en/stable/user_install.html\n",
      "  from .autonotebook import tqdm as notebook_tqdm\n"
     ]
    }
   ],
   "source": [
    "import os\n",
    "import pandas as pd\n",
    "import sys\n",
    "sys.path.append(\"../\")\n",
    "from src.config import Configuration\n",
    "from src.service.provider import ProviderService\n",
    "\n",
    "config = Configuration()\n",
    "provider = ProviderService()\n",
    "# robot = RAGRobot(provider=provider)\n",
    "\n",
    "ai = provider.get_simple_gemini_pro()\n",
    "\n",
    "\n",
    "path = \"../experiments/results\"\n",
    "all_files = ['eval_major_gemini_rag.csv', 'eval_training_program_gemini_rag.csv','eval_uni_gemini_rag.csv']\n",
    "\n",
    "def choose(ai, pred, choices):\n",
    "    prompt = f\"\"\"Đáp án là \"{pred}\"\n",
    "    .Vậy phải lựa chọn đáp án nào trong danh sách dưới đây\n",
    "    ```\n",
    "    {choices}\n",
    "    ```\n",
    "    \"\"\"\n",
    "    a = ai(prompt)\n",
    "    return a\n",
    "\n",
    "# for file in all_files:\n",
    "#     ans = []\n",
    "#     df = pd.read_csv(os.path.join(path, file))\n",
    "#     df = df.fillna(\"None\")\n",
    "#     for i, row in df.iterrows():\n",
    "#         a = choose(ai, row['RAG_answer'], row['multi_prompt'])\n",
    "#         if \".\" in a:\n",
    "#             a = a.strip()[0]\n",
    "#         if len(a) == 0 or a == \"\":\n",
    "#             a = \"None\"\n",
    "#         ans.append(a)\n",
    "#         print(a)\n",
    "#     df['RAG_label'] = ans\n",
    "#     df.to_csv(os.path.join(path, file))\n",
    "\n",
    "# file = all_files[0]\n",
    "df = pd.concat((pd.read_csv(os.path.join(path, f)) for f in all_files), ignore_index=True)\n",
    "# print(df.shape)\n",
    "# df.columns"
   ]
  },
  {
   "cell_type": "code",
   "execution_count": 2,
   "id": "13fc0403",
   "metadata": {},
   "outputs": [
    {
     "data": {
      "text/html": [
       "<div>\n",
       "<style scoped>\n",
       "    .dataframe tbody tr th:only-of-type {\n",
       "        vertical-align: middle;\n",
       "    }\n",
       "\n",
       "    .dataframe tbody tr th {\n",
       "        vertical-align: top;\n",
       "    }\n",
       "\n",
       "    .dataframe thead th {\n",
       "        text-align: right;\n",
       "    }\n",
       "</style>\n",
       "<table border=\"1\" class=\"dataframe\">\n",
       "  <thead>\n",
       "    <tr style=\"text-align: right;\">\n",
       "      <th></th>\n",
       "      <th>question</th>\n",
       "      <th>answer</th>\n",
       "      <th>wrong</th>\n",
       "      <th>doc_id</th>\n",
       "      <th>category</th>\n",
       "      <th>pred_doc_id</th>\n",
       "      <th>RAG_answer</th>\n",
       "      <th>correct_label</th>\n",
       "      <th>multi_prompt</th>\n",
       "      <th>RAG_label</th>\n",
       "    </tr>\n",
       "  </thead>\n",
       "  <tbody>\n",
       "    <tr>\n",
       "      <th>0</th>\n",
       "      <td>Ngành Khoa học máy tính tại Trường Đại học Tôn...</td>\n",
       "      <td>Tiêu chuẩn, Chất lượng cao, Đại học bằng tiếng...</td>\n",
       "      <td>- Khoa học dữ liệu\\n- Trí tuệ nhân tạo\\n- An n...</td>\n",
       "      <td>94ee4dc5-31b3-407a-9553-8ecf72b83c6f</td>\n",
       "      <td>major</td>\n",
       "      <td>index</td>\n",
       "      <td>NaN</td>\n",
       "      <td>A</td>\n",
       "      <td>A. Tiêu chuẩn, Chất lượng cao, Đại học bằng ti...</td>\n",
       "      <td>NaN</td>\n",
       "    </tr>\n",
       "    <tr>\n",
       "      <th>1</th>\n",
       "      <td>Ngành Kỹ thuật xây dựng công trình giao thông ...</td>\n",
       "      <td>Thiết kế đường, thiết kế cầu, đồ án kết cấu bê...</td>\n",
       "      <td>- Thiết kế máy bay\\n- Thiết kế tàu thủy\\n- Thi...</td>\n",
       "      <td>bdebda50-cc98-422d-b5d8-3d77e662cf06</td>\n",
       "      <td>major</td>\n",
       "      <td>bdebda50-cc98-422d-b5d8-3d77e662cf06</td>\n",
       "      <td>Thiết kế đường, thiết kế cầu, đồ án kết cấu bê...</td>\n",
       "      <td>C</td>\n",
       "      <td>C. Thiết kế đường, thiết kế cầu, đồ án kết cấu...</td>\n",
       "      <td>C</td>\n",
       "    </tr>\n",
       "    <tr>\n",
       "      <th>2</th>\n",
       "      <td>Ngành Dược tại Trường Đại học Tôn Đức Thắng đà...</td>\n",
       "      <td>Toàn thời gian</td>\n",
       "      <td>- Bán thời gian\\n- Từ xa\\n- Liên kết đào tạo\\n...</td>\n",
       "      <td>246435c7-1ad3-496c-8e2c-844fb093786b</td>\n",
       "      <td>major</td>\n",
       "      <td>index</td>\n",
       "      <td>Chính quy</td>\n",
       "      <td>C</td>\n",
       "      <td>C. Toàn thời gian\\nD. Cấp tốc\\nA. Liên kết đào...</td>\n",
       "      <td>C</td>\n",
       "    </tr>\n",
       "    <tr>\n",
       "      <th>3</th>\n",
       "      <td>Ngành Quản trị nguồn nhân lực liên quan đến nh...</td>\n",
       "      <td>Quan hệ lao động, Bảo hộ lao động, Quản lý thể...</td>\n",
       "      <td>- Quản lý tài chính\\n- Quản lý tiếp thị\\n- Quả...</td>\n",
       "      <td>0b3d65ec-469c-41fb-9881-28616cf63b30</td>\n",
       "      <td>major</td>\n",
       "      <td>0b3d65ec-469c-41fb-9881-28616cf63b30</td>\n",
       "      <td>Quan hệ lao động, Bảo hộ lao động, Quản lý thể...</td>\n",
       "      <td>A</td>\n",
       "      <td>A. Quan hệ lao động, Bảo hộ lao động, Quản lý ...</td>\n",
       "      <td>A</td>\n",
       "    </tr>\n",
       "    <tr>\n",
       "      <th>4</th>\n",
       "      <td>Công nghệ sinh học là gì?</td>\n",
       "      <td>Công nghệ sinh học là ngành ứng dụng các kiến ...</td>\n",
       "      <td>- Công nghệ sinh học là ngành nghiên cứu về cá...</td>\n",
       "      <td>21456de7-cc54-4db5-86c3-001b38c6e16d</td>\n",
       "      <td>major</td>\n",
       "      <td>21456de7-cc54-4db5-86c3-001b38c6e16d</td>\n",
       "      <td>Công nghệ sinh học là ứng dụng các kiến thức s...</td>\n",
       "      <td>A</td>\n",
       "      <td>A. Công nghệ sinh học là ngành ứng dụng các ki...</td>\n",
       "      <td>NaN</td>\n",
       "    </tr>\n",
       "  </tbody>\n",
       "</table>\n",
       "</div>"
      ],
      "text/plain": [
       "                                            question  \\\n",
       "0  Ngành Khoa học máy tính tại Trường Đại học Tôn...   \n",
       "1  Ngành Kỹ thuật xây dựng công trình giao thông ...   \n",
       "2  Ngành Dược tại Trường Đại học Tôn Đức Thắng đà...   \n",
       "3  Ngành Quản trị nguồn nhân lực liên quan đến nh...   \n",
       "4                          Công nghệ sinh học là gì?   \n",
       "\n",
       "                                              answer  \\\n",
       "0  Tiêu chuẩn, Chất lượng cao, Đại học bằng tiếng...   \n",
       "1  Thiết kế đường, thiết kế cầu, đồ án kết cấu bê...   \n",
       "2                                     Toàn thời gian   \n",
       "3  Quan hệ lao động, Bảo hộ lao động, Quản lý thể...   \n",
       "4  Công nghệ sinh học là ngành ứng dụng các kiến ...   \n",
       "\n",
       "                                               wrong  \\\n",
       "0  - Khoa học dữ liệu\\n- Trí tuệ nhân tạo\\n- An n...   \n",
       "1  - Thiết kế máy bay\\n- Thiết kế tàu thủy\\n- Thi...   \n",
       "2  - Bán thời gian\\n- Từ xa\\n- Liên kết đào tạo\\n...   \n",
       "3  - Quản lý tài chính\\n- Quản lý tiếp thị\\n- Quả...   \n",
       "4  - Công nghệ sinh học là ngành nghiên cứu về cá...   \n",
       "\n",
       "                                 doc_id category  \\\n",
       "0  94ee4dc5-31b3-407a-9553-8ecf72b83c6f    major   \n",
       "1  bdebda50-cc98-422d-b5d8-3d77e662cf06    major   \n",
       "2  246435c7-1ad3-496c-8e2c-844fb093786b    major   \n",
       "3  0b3d65ec-469c-41fb-9881-28616cf63b30    major   \n",
       "4  21456de7-cc54-4db5-86c3-001b38c6e16d    major   \n",
       "\n",
       "                            pred_doc_id  \\\n",
       "0                                 index   \n",
       "1  bdebda50-cc98-422d-b5d8-3d77e662cf06   \n",
       "2                                 index   \n",
       "3  0b3d65ec-469c-41fb-9881-28616cf63b30   \n",
       "4  21456de7-cc54-4db5-86c3-001b38c6e16d   \n",
       "\n",
       "                                          RAG_answer correct_label  \\\n",
       "0                                                NaN             A   \n",
       "1  Thiết kế đường, thiết kế cầu, đồ án kết cấu bê...             C   \n",
       "2                                          Chính quy             C   \n",
       "3  Quan hệ lao động, Bảo hộ lao động, Quản lý thể...             A   \n",
       "4  Công nghệ sinh học là ứng dụng các kiến thức s...             A   \n",
       "\n",
       "                                        multi_prompt RAG_label  \n",
       "0  A. Tiêu chuẩn, Chất lượng cao, Đại học bằng ti...       NaN  \n",
       "1  C. Thiết kế đường, thiết kế cầu, đồ án kết cấu...         C  \n",
       "2  C. Toàn thời gian\\nD. Cấp tốc\\nA. Liên kết đào...         C  \n",
       "3  A. Quan hệ lao động, Bảo hộ lao động, Quản lý ...         A  \n",
       "4  A. Công nghệ sinh học là ngành ứng dụng các ki...       NaN  "
      ]
     },
     "execution_count": 2,
     "metadata": {},
     "output_type": "execute_result"
    }
   ],
   "source": [
    "df.head()"
   ]
  },
  {
   "cell_type": "code",
   "execution_count": 2,
   "id": "fc8f25a7",
   "metadata": {},
   "outputs": [
    {
     "data": {
      "text/plain": [
       "(77, 10)"
      ]
     },
     "execution_count": 2,
     "metadata": {},
     "output_type": "execute_result"
    }
   ],
   "source": [
    "df = df.fillna(\"None\")\n",
    "df.shape"
   ]
  },
  {
   "cell_type": "code",
   "execution_count": 3,
   "id": "87f34097",
   "metadata": {},
   "outputs": [
    {
     "data": {
      "text/plain": [
       "Unnamed: 0       0\n",
       "question         0\n",
       "answer           0\n",
       "wrong            0\n",
       "doc_id           0\n",
       "category         0\n",
       "pred_doc_id      0\n",
       "RAG_answer       0\n",
       "correct_label    0\n",
       "multi_prompt     0\n",
       "dtype: int64"
      ]
     },
     "execution_count": 3,
     "metadata": {},
     "output_type": "execute_result"
    }
   ],
   "source": [
    "df.isna().sum()"
   ]
  },
  {
   "cell_type": "code",
   "execution_count": 4,
   "id": "8bd188e2",
   "metadata": {},
   "outputs": [
    {
     "name": "stdout",
     "output_type": "stream",
     "text": [
      "0.5714285714285714\n",
      "44\n",
      "77\n"
     ]
    }
   ],
   "source": [
    "y = df['doc_id']\n",
    "yhat = df['pred_doc_id']\n",
    "\n",
    "score = 0\n",
    "for a,b in zip(y, yhat):\n",
    "    if a == b:\n",
    "        score += 1\n",
    "\n",
    "print(score/len(y))\n",
    "print(score)\n",
    "print(len(y))"
   ]
  },
  {
   "cell_type": "code",
   "execution_count": 4,
   "id": "6cf2f769",
   "metadata": {},
   "outputs": [
    {
     "name": "stdout",
     "output_type": "stream",
     "text": [
      "53\n",
      "77\n",
      "0.6883116883116883\n",
      "              precision    recall  f1-score   support\n",
      "\n",
      "           A       0.78      0.86      0.82        21\n",
      "           B       0.75      0.92      0.83        13\n",
      "           C       0.47      0.89      0.62         9\n",
      "           D       0.71      0.94      0.81        16\n",
      "         nan       0.00      0.00      0.00        18\n",
      "\n",
      "    accuracy                           0.69        77\n",
      "   macro avg       0.54      0.72      0.61        77\n",
      "weighted avg       0.54      0.69      0.60        77\n",
      "\n"
     ]
    },
    {
     "name": "stderr",
     "output_type": "stream",
     "text": [
      "/home/h4438/miniconda3/envs/uni/lib/python3.9/site-packages/sklearn/metrics/_classification.py:1509: UndefinedMetricWarning: Precision is ill-defined and being set to 0.0 in labels with no predicted samples. Use `zero_division` parameter to control this behavior.\n",
      "  _warn_prf(average, modifier, f\"{metric.capitalize()} is\", len(result))\n",
      "/home/h4438/miniconda3/envs/uni/lib/python3.9/site-packages/sklearn/metrics/_classification.py:1509: UndefinedMetricWarning: Precision is ill-defined and being set to 0.0 in labels with no predicted samples. Use `zero_division` parameter to control this behavior.\n",
      "  _warn_prf(average, modifier, f\"{metric.capitalize()} is\", len(result))\n",
      "/home/h4438/miniconda3/envs/uni/lib/python3.9/site-packages/sklearn/metrics/_classification.py:1509: UndefinedMetricWarning: Precision is ill-defined and being set to 0.0 in labels with no predicted samples. Use `zero_division` parameter to control this behavior.\n",
      "  _warn_prf(average, modifier, f\"{metric.capitalize()} is\", len(result))\n"
     ]
    }
   ],
   "source": [
    "labels = df['RAG_label'].to_list()\n",
    "preds = df['correct_label'].to_list()\n",
    "\n",
    "correct = 0\n",
    "for y, z in zip(labels, preds):\n",
    "    if y == z:\n",
    "        correct+=1\n",
    "print(correct)\n",
    "print(len(labels))\n",
    "print(correct/len(labels))\n",
    "\n",
    "from sklearn.metrics import classification_report\n",
    "\n",
    "report = classification_report(y_true=labels, y_pred=preds)\n",
    "print(report)"
   ]
  }
 ],
 "metadata": {
  "kernelspec": {
   "display_name": "Python 3 (ipykernel)",
   "language": "python",
   "name": "python3"
  },
  "language_info": {
   "codemirror_mode": {
    "name": "ipython",
    "version": 3
   },
   "file_extension": ".py",
   "mimetype": "text/x-python",
   "name": "python",
   "nbconvert_exporter": "python",
   "pygments_lexer": "ipython3",
   "version": "3.9.18"
  }
 },
 "nbformat": 4,
 "nbformat_minor": 5
}
