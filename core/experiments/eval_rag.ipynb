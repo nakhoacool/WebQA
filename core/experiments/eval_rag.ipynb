{
 "cells": [
  {
   "cell_type": "markdown",
   "id": "bbe2f135-d790-4829-9f63-490446a45e3c",
   "metadata": {},
   "source": [
    "# Evaluate RAG"
   ]
  },
  {
   "cell_type": "code",
   "execution_count": 1,
   "id": "ee4d282a-4bca-4bd0-adff-2905184eee69",
   "metadata": {},
   "outputs": [
    {
     "name": "stderr",
     "output_type": "stream",
     "text": [
      "/home/h4438/miniconda3/envs/uni/lib/python3.9/site-packages/tqdm/auto.py:21: TqdmWarning: IProgress not found. Please update jupyter and ipywidgets. See https://ipywidgets.readthedocs.io/en/stable/user_install.html\n",
      "  from .autonotebook import tqdm as notebook_tqdm\n"
     ]
    },
    {
     "name": "stdout",
     "output_type": "stream",
     "text": [
      "loaded index doc\n",
      "loaded index doc\n",
      "loaded index doc\n"
     ]
    }
   ],
   "source": [
    "import os\n",
    "import pandas as pd\n",
    "import sys\n",
    "import random\n",
    "sys.path.append(\"../\")\n",
    "from src.config import Configuration\n",
    "from src.robot import RAGRobot\n",
    "from src.service.provider import ProviderService\n",
    "\n",
    "config = Configuration()\n",
    "provider = ProviderService()\n",
    "robot = RAGRobot(provider=provider)\n",
    "\n",
    "test_folder = \"training_program\"\n",
    "rag = robot.training_prop_rag.chain\n",
    "# rag\n",
    "config.enable_tracing(project=\"EVALUATE\")"
   ]
  },
  {
   "cell_type": "code",
   "execution_count": 2,
   "id": "2eb42948",
   "metadata": {},
   "outputs": [
    {
     "data": {
      "text/plain": [
       "(22, 5)"
      ]
     },
     "execution_count": 2,
     "metadata": {},
     "output_type": "execute_result"
    }
   ],
   "source": [
    "path = f\"../data/{test_folder}/test\"\n",
    "files = os.listdir(path)\n",
    "all_files = [f\"{path}/{f}\" for f in files]\n",
    "df = pd.concat((pd.read_csv(f) for f in all_files), ignore_index=True)\n",
    "\n",
    "df = df[['question', 'answer', 'wrong', 'doc_id']]\n",
    "df['category'] = \"training\"\n",
    "df.shape\n",
    "# df.head()"
   ]
  },
  {
   "cell_type": "code",
   "execution_count": 3,
   "id": "d11a5781",
   "metadata": {},
   "outputs": [
    {
     "name": "stderr",
     "output_type": "stream",
     "text": [
      "/home/h4438/miniconda3/envs/uni/lib/python3.9/site-packages/langchain_core/_api/deprecation.py:117: LangChainDeprecationWarning: The function `__call__` was deprecated in LangChain 0.1.7 and will be removed in 0.2.0. Use invoke instead.\n",
      "  warn_deprecated(\n"
     ]
    },
    {
     "name": "stdout",
     "output_type": "stream",
     "text": [
      "error\n",
      "error\n",
      "error\n"
     ]
    }
   ],
   "source": [
    "records = []\n",
    "for i, row in df.iterrows():\n",
    "    prompt = \"\"\n",
    "    labels = [\"A\", \"B\", \"C\", \"D\"]\n",
    "    record = {**row.to_dict()}\n",
    "    question = row['question']\n",
    "    try:\n",
    "        choices = row['wrong'].split(\"\\n- \")[1:]\n",
    "        resp = rag.invoke({\"question\": question})\n",
    "    except:\n",
    "        print(\"error\")\n",
    "        continue\n",
    "    # update\n",
    "    record['pred_doc_id'] = resp.document.id\n",
    "    record['RAG_answer'] = resp.answer\n",
    "    rand_idx = random.randint(0, len(labels) - 1)\n",
    "\n",
    "    record['correct_label'] = labels.pop(rand_idx)\n",
    "    prompt += f\"{record['correct_label']}. {record['answer']}\\n\"\n",
    "    while len(labels) > 0:\n",
    "        rand_idx = random.randint(0, len(labels) - 1)\n",
    "        prompt += f\"{labels.pop(rand_idx)}. {choices.pop()}\\n\"\n",
    "    record['multi_prompt'] = prompt\n",
    "    records.append(record)"
   ]
  },
  {
   "cell_type": "code",
   "execution_count": 5,
   "id": "9c006d02",
   "metadata": {},
   "outputs": [
    {
     "data": {
      "text/plain": [
       "nan"
      ]
     },
     "execution_count": 5,
     "metadata": {},
     "output_type": "execute_result"
    }
   ],
   "source": [
    "row['wrong']"
   ]
  },
  {
   "cell_type": "code",
   "execution_count": 4,
   "id": "f6c501fd",
   "metadata": {},
   "outputs": [],
   "source": [
    "ndf = pd.DataFrame(records)\n",
    "ndf.to_csv(f\"../experiments/results/eval_{test_folder}_rag.csv\")"
   ]
  },
  {
   "cell_type": "code",
   "execution_count": 6,
   "id": "965f3329",
   "metadata": {},
   "outputs": [
    {
     "data": {
      "text/html": [
       "<div>\n",
       "<style scoped>\n",
       "    .dataframe tbody tr th:only-of-type {\n",
       "        vertical-align: middle;\n",
       "    }\n",
       "\n",
       "    .dataframe tbody tr th {\n",
       "        vertical-align: top;\n",
       "    }\n",
       "\n",
       "    .dataframe thead th {\n",
       "        text-align: right;\n",
       "    }\n",
       "</style>\n",
       "<table border=\"1\" class=\"dataframe\">\n",
       "  <thead>\n",
       "    <tr style=\"text-align: right;\">\n",
       "      <th></th>\n",
       "      <th>question</th>\n",
       "      <th>answer</th>\n",
       "      <th>wrong</th>\n",
       "      <th>doc_id</th>\n",
       "      <th>category</th>\n",
       "      <th>pred_doc_id</th>\n",
       "      <th>RAG_answer</th>\n",
       "      <th>correct_label</th>\n",
       "      <th>multi_prompt</th>\n",
       "    </tr>\n",
       "  </thead>\n",
       "  <tbody>\n",
       "    <tr>\n",
       "      <th>0</th>\n",
       "      <td>Trường Đại học Tôn Đức Thắng được thành lập th...</td>\n",
       "      <td>Quyết định 787/TTg-QĐ</td>\n",
       "      <td>- Quyết định 687/TTg-QĐ\\n- Quyết định 887/TTg-...</td>\n",
       "      <td>d2324ca0-a1bd-4b91-917b-58f233c5fae6</td>\n",
       "      <td>uni</td>\n",
       "      <td>d2324ca0-a1bd-4b91-917b-58f233c5fae6</td>\n",
       "      <td>Quyết định 787/TTg-QĐ</td>\n",
       "      <td>D</td>\n",
       "      <td>D. Quyết định 787/TTg-QĐ\\nB. Quyết định 787/QĐ...</td>\n",
       "    </tr>\n",
       "    <tr>\n",
       "      <th>1</th>\n",
       "      <td>Trường Đại học Tôn Đức Thắng hướng đến mục tiê...</td>\n",
       "      <td>Một đại học định hướng nghiên cứu có chất lượn...</td>\n",
       "      <td>- Một trường đại học đào tạo nghề có chất lượn...</td>\n",
       "      <td>d2324ca0-a1bd-4b91-917b-58f233c5fae6</td>\n",
       "      <td>uni</td>\n",
       "      <td>38f5d21a-4fdb-4ceb-81cd-4bc968a10ddb</td>\n",
       "      <td>Trường đại học nghiên cứu</td>\n",
       "      <td>A</td>\n",
       "      <td>A. Một đại học định hướng nghiên cứu có chất l...</td>\n",
       "    </tr>\n",
       "    <tr>\n",
       "      <th>2</th>\n",
       "      <td>Tòa nhà ngoại ngữ có bao nhiêu tầng?</td>\n",
       "      <td>6 tầng</td>\n",
       "      <td>- 4 tầng\\n- 8 tầng\\n- 10 tầng\\n- 12 tầng</td>\n",
       "      <td>ba62a0d0-c81e-4fc7-b572-db313e678246</td>\n",
       "      <td>uni</td>\n",
       "      <td>ba62a0d0-c81e-4fc7-b572-db313e678246</td>\n",
       "      <td>6</td>\n",
       "      <td>D</td>\n",
       "      <td>D. 6 tầng\\nA. 12 tầng\\nB. 10 tầng\\nC. 8 tầng\\n</td>\n",
       "    </tr>\n",
       "    <tr>\n",
       "      <th>3</th>\n",
       "      <td>Hồ bơi có diện tích mặt nước là bao nhiêu?</td>\n",
       "      <td>13,5m x 25m</td>\n",
       "      <td>- 10m x 20m\\n- 15m x 30m\\n- 12m x 24m\\n- 14m x...</td>\n",
       "      <td>ba62a0d0-c81e-4fc7-b572-db313e678246</td>\n",
       "      <td>uni</td>\n",
       "      <td>ba62a0d0-c81e-4fc7-b572-db313e678246</td>\n",
       "      <td>13,5m x 25m</td>\n",
       "      <td>C</td>\n",
       "      <td>C. 13,5m x 25m\\nA. 14m x 26m\\nB. 12m x 24m\\nD....</td>\n",
       "    </tr>\n",
       "    <tr>\n",
       "      <th>4</th>\n",
       "      <td>Trường Đại học Tôn Đức Thắng xếp thứ mấy thế g...</td>\n",
       "      <td>601-800</td>\n",
       "      <td>- 1-100\\n- 101-200\\n- 201-400\\n- 401-600</td>\n",
       "      <td>f8318b1a-44a7-4ead-aad8-069ae609f0f9</td>\n",
       "      <td>uni</td>\n",
       "      <td>f8318b1a-44a7-4ead-aad8-069ae609f0f9</td>\n",
       "      <td>601-800</td>\n",
       "      <td>C</td>\n",
       "      <td>C. 601-800\\nD. 401-600\\nA. 201-400\\nB. 101-200\\n</td>\n",
       "    </tr>\n",
       "  </tbody>\n",
       "</table>\n",
       "</div>"
      ],
      "text/plain": [
       "                                            question  \\\n",
       "0  Trường Đại học Tôn Đức Thắng được thành lập th...   \n",
       "1  Trường Đại học Tôn Đức Thắng hướng đến mục tiê...   \n",
       "2               Tòa nhà ngoại ngữ có bao nhiêu tầng?   \n",
       "3         Hồ bơi có diện tích mặt nước là bao nhiêu?   \n",
       "4  Trường Đại học Tôn Đức Thắng xếp thứ mấy thế g...   \n",
       "\n",
       "                                              answer  \\\n",
       "0                              Quyết định 787/TTg-QĐ   \n",
       "1  Một đại học định hướng nghiên cứu có chất lượn...   \n",
       "2                                             6 tầng   \n",
       "3                                        13,5m x 25m   \n",
       "4                                            601-800   \n",
       "\n",
       "                                               wrong  \\\n",
       "0  - Quyết định 687/TTg-QĐ\\n- Quyết định 887/TTg-...   \n",
       "1  - Một trường đại học đào tạo nghề có chất lượn...   \n",
       "2           - 4 tầng\\n- 8 tầng\\n- 10 tầng\\n- 12 tầng   \n",
       "3  - 10m x 20m\\n- 15m x 30m\\n- 12m x 24m\\n- 14m x...   \n",
       "4           - 1-100\\n- 101-200\\n- 201-400\\n- 401-600   \n",
       "\n",
       "                                 doc_id category  \\\n",
       "0  d2324ca0-a1bd-4b91-917b-58f233c5fae6      uni   \n",
       "1  d2324ca0-a1bd-4b91-917b-58f233c5fae6      uni   \n",
       "2  ba62a0d0-c81e-4fc7-b572-db313e678246      uni   \n",
       "3  ba62a0d0-c81e-4fc7-b572-db313e678246      uni   \n",
       "4  f8318b1a-44a7-4ead-aad8-069ae609f0f9      uni   \n",
       "\n",
       "                            pred_doc_id                 RAG_answer  \\\n",
       "0  d2324ca0-a1bd-4b91-917b-58f233c5fae6      Quyết định 787/TTg-QĐ   \n",
       "1  38f5d21a-4fdb-4ceb-81cd-4bc968a10ddb  Trường đại học nghiên cứu   \n",
       "2  ba62a0d0-c81e-4fc7-b572-db313e678246                          6   \n",
       "3  ba62a0d0-c81e-4fc7-b572-db313e678246                13,5m x 25m   \n",
       "4  f8318b1a-44a7-4ead-aad8-069ae609f0f9                    601-800   \n",
       "\n",
       "  correct_label                                       multi_prompt  \n",
       "0             D  D. Quyết định 787/TTg-QĐ\\nB. Quyết định 787/QĐ...  \n",
       "1             A  A. Một đại học định hướng nghiên cứu có chất l...  \n",
       "2             D     D. 6 tầng\\nA. 12 tầng\\nB. 10 tầng\\nC. 8 tầng\\n  \n",
       "3             C  C. 13,5m x 25m\\nA. 14m x 26m\\nB. 12m x 24m\\nD....  \n",
       "4             C   C. 601-800\\nD. 401-600\\nA. 201-400\\nB. 101-200\\n  "
      ]
     },
     "execution_count": 6,
     "metadata": {},
     "output_type": "execute_result"
    }
   ],
   "source": [
    "ndf.head()"
   ]
  }
 ],
 "metadata": {
  "kernelspec": {
   "display_name": "Python 3 (ipykernel)",
   "language": "python",
   "name": "python3"
  },
  "language_info": {
   "codemirror_mode": {
    "name": "ipython",
    "version": 3
   },
   "file_extension": ".py",
   "mimetype": "text/x-python",
   "name": "python",
   "nbconvert_exporter": "python",
   "pygments_lexer": "ipython3",
   "version": "3.9.18"
  }
 },
 "nbformat": 4,
 "nbformat_minor": 5
}
