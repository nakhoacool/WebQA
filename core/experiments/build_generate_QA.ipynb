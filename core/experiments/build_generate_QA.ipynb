{
 "cells": [
  {
   "cell_type": "markdown",
   "metadata": {},
   "source": [
    "# Generate Test, Evaluation data"
   ]
  },
  {
   "cell_type": "code",
   "execution_count": 1,
   "metadata": {},
   "outputs": [
    {
     "name": "stderr",
     "output_type": "stream",
     "text": [
      "/home/h4438/miniconda3/envs/uni/lib/python3.9/site-packages/tqdm/auto.py:21: TqdmWarning: IProgress not found. Please update jupyter and ipywidgets. See https://ipywidgets.readthedocs.io/en/stable/user_install.html\n",
      "  from .autonotebook import tqdm as notebook_tqdm\n"
     ]
    }
   ],
   "source": [
    "import sys\n",
    "sys.path.append(\"../\")\n",
    "from src.service.provider import ProviderService\n",
    "\n",
    "provider = ProviderService()"
   ]
  },
  {
   "cell_type": "code",
   "execution_count": 6,
   "metadata": {
    "colab": {
     "base_uri": "https://localhost:8080/"
    },
    "id": "15BnODH0emlL",
    "outputId": "8b2d40c1-9ced-42f9-fce3-bdb343de5324"
   },
   "outputs": [],
   "source": [
    "import os\n",
    "import pandas as pd\n",
    "from langchain.text_splitter import RecursiveCharacterTextSplitter\n",
    "\n",
    "def create_splitter(chunk_size: int = 460, overlap: int = 20) -> RecursiveCharacterTextSplitter:\n",
    "    \"\"\"\n",
    "        get an instance of a text splitter\n",
    "    \"\"\"\n",
    "    word_len_func = lambda e: len(e.split(\" \"))\n",
    "\n",
    "    text_splitter = RecursiveCharacterTextSplitter(\n",
    "        separators=[\"\\n\\n\\n\",\"\\n\\n\", \"\\n\"],\n",
    "        chunk_size=chunk_size, chunk_overlap=overlap, \n",
    "        length_function=word_len_func, is_separator_regex=False\n",
    "    )\n",
    "    return text_splitter\n",
    "\n",
    "class GeneratePipeline:\n",
    "\n",
    "    def __init__(self, data_folder: str, ai, size) -> None:\n",
    "        self.questions = []\n",
    "        self.records = []\n",
    "        self.data_folder = data_folder\n",
    "        self.ai = ai\n",
    "        self.text_splitter = create_splitter(chunk_size=size, overlap=0)\n",
    "        return\n",
    "\n",
    "    def try_split(self):\n",
    "        files = os.listdir(self.data_folder)\n",
    "        docs = []\n",
    "        for f in files:\n",
    "            if not f.endswith(\".md\"):\n",
    "                continue\n",
    "            DATA = ''\n",
    "            path = os.path.join(self.data_folder, f)\n",
    "            with open(path, \"r\") as f:\n",
    "                DATA = \"\\n\".join(f.readlines())\n",
    "            d = self.text_splitter.create_documents([DATA])\n",
    "            docs = [*docs, *d]\n",
    "        print(len(docs))\n",
    "        return docs\n",
    "\n",
    "    def run_folder(self):\n",
    "        files = os.listdir(self.data_folder)\n",
    "        for f in files:\n",
    "            if not f.endswith(\".md\"):\n",
    "                continue\n",
    "            self.run_one_file(f)\n",
    "        return\n",
    "\n",
    "    def run_one_file(self, file_name:str):\n",
    "        DATA = \"\"\n",
    "        path = os.path.join(self.data_folder, file_name)\n",
    "        with open(path, \"r\") as f:\n",
    "            DATA = \"\\n\".join(f.readlines())\n",
    "\n",
    "        docs = self.text_splitter.create_documents([DATA])\n",
    "        for doc in docs:\n",
    "            record = generate(DATA=doc, questions=self.questions, ai=self.ai)\n",
    "            record['doc_id'] = file_name.replace(\".md\", \"\")\n",
    "            self.records.append(record)\n",
    "            self.questions.append(record['question'])\n",
    "        save_file = file_name.replace(\"md\", \"csv\")\n",
    "        save_path = os.path.join(self.data_folder, f\"test/{save_file}\")\n",
    "        df = pd.DataFrame(self.records)\n",
    "        df.to_csv(save_path)\n",
    "        return\n",
    "\n",
    "def generate(DATA, questions, ai):\n",
    "    question_str = \"\"\n",
    "    for q in questions:\n",
    "        question_str += f\"- {q}\\n\"\n",
    "    PROMPT = f\"\"\"Give you this document. Your task is to create multi-choices QA and the question should be a new one\n",
    "    ```md\n",
    "    {DATA}\n",
    "    ```\n",
    "    Here is a list of your previous asked questions.\n",
    "    Do not repeat any question from the below list.\n",
    "    ```\n",
    "    {question_str}\n",
    "    ```\n",
    "\n",
    "    Please generate a new data in Vietnamese as followed (please strictly follow the format below and do not use any \"*\")\n",
    "    ```output\n",
    "    Question: a quesiton about a fact found in the given document, don't repeat yourself or asking similar question from the previously asked question list\n",
    "    Answer: correct answer for the question. The answer should only be within a line.\n",
    "    Context: show me where is the answer located in the given document\n",
    "    ```\n",
    "    \"\"\"\n",
    "    resp = ai(PROMPT)\n",
    "    print(resp)\n",
    "    data = parse_data(resp)\n",
    "    try:\n",
    "        found = DATA.index(data['context'])\n",
    "        data['faith'] = found\n",
    "    except:\n",
    "        data['faith'] = -1\n",
    "    return data\n",
    "\n",
    "def parse_data(data):\n",
    "    res = {}\n",
    "    cols = [\"Question:\", \"Answer:\", \"Context:\"]\n",
    "    for i in range(len(cols)):\n",
    "        if i < len(cols) - 1:\n",
    "            s = data.index(cols[i])\n",
    "            e = data.index(cols[i+1])\n",
    "            value = data[s:e]\n",
    "        else:\n",
    "            value = data[e:]\n",
    "        key = cols[i].lower().replace(\":\",\"\").strip()\n",
    "        res[key] = value.replace(cols[i], \"\").strip()\n",
    "    return res"
   ]
  },
  {
   "cell_type": "code",
   "execution_count": 8,
   "metadata": {},
   "outputs": [
    {
     "name": "stdout",
     "output_type": "stream",
     "text": [
      "13\n"
     ]
    }
   ],
   "source": [
    "with open(\"../data/training_program/15277b95-6686-48a8-bc4e-89ef50946af9.md\", \"r\") as f:\n",
    "    DATA = \"\\n\".join(f.readlines())\n",
    "\n",
    "\n",
    "ai = provider.get_simple_gemini_pro()\n",
    "pipeline = GeneratePipeline(data_folder=\"../data/training_program/\", ai=ai, size=1000)\n",
    "\n",
    "a = pipeline.try_split()"
   ]
  },
  {
   "cell_type": "code",
   "execution_count": 9,
   "metadata": {},
   "outputs": [
    {
     "name": "stdout",
     "output_type": "stream",
     "text": [
      "Question: Chương trình đào tạo đại học bằng tiếng Anh có những đặc điểm gì?\n",
      "Answer: Đào tạo nguồn nhân lực chất lượng cao đáp ứng yêu cầu hội nhập quốc tế với: Kỹ năng thực hành chuyên môn cao được bổ trợ bằng các chứng chỉ nghề nghiệp quốc gia/quốc tế; đạt trình độ tiếng Anh quốc tế B2 (các chứng chỉ tiếng Anh quốc tế tương đương từ IELTS 6.0); Chứng chỉ tin học MOS đạt từ 750/1000 điểm với 3 ứng dụng Word, Excel, PowerPoint hoặc hoặc chứng chỉ ICDL đạt từ 75% với 3 ứng dụng Documents, Spreadsheets, Presentation.\n",
      "Context: **Đặc điểm Chương trình:**\n",
      "Question: Đối tượng nào được tham gia chương trình 4+1?\n",
      "Answer: Sinh viên trình độ đại học đang học tại Trường từ năm 3 trở đi (so với năm tuyển sinh).\n",
      "Context: ĐỐI TƯỢNG THAM GIA\n",
      "Question: Chương trình đào tạo liên kết quốc tế có đặc điểm gì về đội ngũ giảng viên?\n",
      "Answer: Đội ngũ giảng viên có trình độ chuyên môn cao, tốt nghiệp nước ngoài (hoặc giảng viên nước ngoài) giảng dạy bằng tiếng Anh.\n",
      "Context: Đội ngũ giảng viên có trình độ chuyên môn cao, tốt nghiệp nước ngoài (hoặc giảng viên nước ngoài) giảng dạy bằng tiếng Anh.\n",
      "Question: Chương trình đào tạo đại học bằng tiếng Anh có yêu cầu gì về trình độ tiếng Anh?\n",
      "Answer: Đạt các chứng chỉ quốc tế tương đương từ IELTS 6.0; riêng ngành Ngôn ngữ Anh đạt từ IELTS 7.0 trở lên.\n",
      "Context: Đại học bằng tiếng Anh Tiếng Anh trình độ B2 quốc tế (đạt các chứng chỉ quốc tế tương đương từ IELTS\\n\\n6.0; riêng ngành Ngôn ngữ Anh đạt từ IELTS 7.0 trở lên).\n",
      "Question: Chương trình giáo dục đại học tiêu chuẩn của TDTU có bao nhiêu chương trình?\n",
      "Answer: 40 chương trình\n",
      "Context: **Chương trình giáo dục đại học tiêu chuẩn có 40 chương trình:**\n",
      "Question: Đối tượng nào được tham gia học bổ sung kiến thức?\n",
      "Answer: Người có bằng tốt nghiệp đại học ngành không phải ngành phù hợp với ngành dự tuyển phải học bổ sung kiến thức để đủ điều kiện dự tuyển chương trình đào tạo trình độ thạc sĩ; Người có bằng tốt nghiệp thạc sĩ ngành phải học bổ sung kiến thức để đủ điều kiện dự tuyển chương trình đào tạo trình độ tiến sĩ.\n",
      "Context: **2) ĐỐI TƯỢNG THAM DỰ** a) Người có bằng tốt nghiệp đại học ngành không phải ngành phù hợp với ngành dự tuyển phải học bổ sung kiến thức để đủ điều kiện dự tuyển chương trình đào tạo trình độ thạc sĩ; b) Người có bằng tốt nghiệp thạc sĩ ngành phải học bổ sung kiến thức để đủ điều kiện dự tuyển chương trình đào tạo trình độ tiến sĩ.\n",
      "Question: Chương trình liên kết đào tạo quốc tế trình độ đại học năm 2023 có bao nhiêu ngành đào tạo?\n",
      "Answer: 09 ngành\n",
      "Context: Năm 2023, Trường Đại học Tôn Đức Thắng tổ chức đào tạo  **09** ngành đại học\\n\\nliên kết đào tạo quốc tế:\n",
      "Question: Trường Đại học Tôn Đức Thắng tuyển sinh tiến sĩ ngành nào?\n",
      "Answer: Khoa học tính toán, Kỹ thuật xây dựng\n",
      "Context: |  |  |  |  |  |\n",
      "| --- | --- | --- | --- | --- |\n",
      "| 1 | 9460107 | Khoa học tính toán | [Viện công nghệ tiên tiến](https://iast.tdtu.edu.vn/)  | 05 |\n",
      "| 2 | 9580201 | Kỹ thuật xây dựng | [Kỹ thuật công trình](http://civil.tdtu.edu.vn/)  | 07 |\n",
      "Question: Thời gian nộp hồ sơ dự tuyển là khi nào?\n",
      "Answer: Từ ngày ra thông báo đến hết ngày 04/05/2024\n",
      "Context: * **Nộp hồ sơ dự tuyển** : Từ ngày ra thông báo đến hết ngày\\n\\n **04/05/2024**\n",
      "Question: Chương trình chất lượng cao có những đặc điểm gì?\n",
      "Answer: Đào tạo nguồn nhân lực chất lượng cao đáp ứng yêu cầu hội nhập quốc tế với: Kỹ năng thực hành chuyên môn cao được bổ trợ bằng các chứng chỉ nghề nghiệp quốc gia/quốc tế; Đạt tiếng anh trình độ B2 quốc tế (các Chứng chỉ tiếng Anh quốc tế tương đương IELTS 5.5 trở lên); Chứng chỉ tin học MOS đạt từ 750/1000 điểm với 3 ứng dụng Word, Excel, PowerPoint hoặc chứng chỉ ICDL đạt từ 75% với 3 ứng dụng Documents, Spreadsheets, Presentation.\n",
      "Context: **- Đào tạo nguồn nhân lực chất lượng cao đáp ứng yêu cầu hội nhập quốc tế\\n\\nvới:** Kỹ năng thực hành chuyên môn cao được bổ trợ bằng các chứng chỉ nghề\\n\\nnghiệp quốc gia/quốc tế; Đạt tiếng anh trình độ B2 quốc tế (các Chứng chỉ tiếng\\n\\nAnh quốc tế tương đương IELTS 5.5 trở lên); \\xa0Chứng chỉ tin học MOS đạt từ\\n\\n750/1000 điểm với 3 ứng dụng Word, Excel, PowerPoint hoặc chứng chỉ ICDL đạt từ\\n\\n75% với 3 ứng dụng Documents, Spreadsheets, Presentation.\n",
      "Question: Ngành nào có chỉ tiêu chương trình định hướng ứng dụng cao nhất?\n",
      "Answer: Quản trị kinh doanh\n",
      "Context: |  |  |  |  |  |  |  |\n",
      "| --- | --- | --- | --- | --- | --- | --- |\n",
      "| **STT**  | **Mã ngành**  | **Tên ngành**  | **Khoa chuyên môn**  | \n",
      "**Chỉ tiêu chương trình định hướng ứng dụng** | \n",
      "**Chỉ tiêu chương trình định hướng nghiên cứu** | **Tổng chỉ tiêu**  |\n",
      "| ***Chính quy*** | ***Vừa làm vừa học*** | ***Chính quy*** |\n",
      "| 1 | 8340101 | Quản trị kinh doanh | [Quản trị kinh doanh](http://fba.tdtu.edu.vn/)  | 35 | 00 | 25 | 60 |\n",
      "Question: Người dự tuyển là công dân nước ngoài nếu đăng ký theo học các chương trình đào tạo trình độ thạc sĩ có ngôn ngữ giảng dạy bằng tiếng Việt phải đạt trình độ tiếng Việt từ bậc nào trở lên?\n",
      "Answer: Bậc 4\n",
      "Context: Người dự tuyển là công dân nước ngoài nếu đăng ký theo học các chương trình đào tạo trình độ thạc sĩ có ngôn ngữ giảng dạy bằng tiếng Việt phải đạt trình độ tiếng Việt từ Bậc 4 trở lên theo Khung năng lực tiếng Việt dùng cho người nước ngoài hoặc có bằng tốt nghiệp trình độ đại học trở lên ngành ngôn ngữ tiếng Việt hoặc có bằng tốt nghiệp đại học (hoặc trình độ tương đương trở lên) mà chương trình đào tạo có ngôn ngữ giảng dạy bằng tiếng Việt; đáp ứng yêu cầu về ngoại ngữ thứ hai quy định tại khoản 3\\xa0của mục này.\n",
      "Question: Trường Đại học Tôn Đức Thắng có bao nhiêu địa điểm đào tạo trình độ thạc sĩ?\n",
      "Answer: 2\n",
      "Context: * Số 19 Nguyễn Hữu Thọ, Phường Tân Phong, Quận 7, TP. Hồ Chí Minh.\\n\\n* Số 98 Ngô Tất Tố, Phường 19, Quận Bình Thạnh, TP. Hồ Chí Minh.\n"
     ]
    }
   ],
   "source": [
    "pipeline.run_folder()"
   ]
  },
  {
   "cell_type": "markdown",
   "metadata": {},
   "source": [
    "# Test prompt"
   ]
  },
  {
   "cell_type": "code",
   "execution_count": 38,
   "metadata": {},
   "outputs": [
    {
     "data": {
      "text/plain": [
       "'\"Question\": Đối tượng nào được tham dự khóa học bổ sung kiến thức?\\n\"Answer\": Người có bằng tốt nghiệp đại học ngành không phải ngành phù hợp với ngành dự tuyển phải học bổ sung kiến thức để đủ điều kiện dự tuyển chương trình đào tạo trình độ thạc sĩ; Người có bằng tốt nghiệp thạc sĩ ngành phải học bổ sung kiến thức để đủ điều kiện dự tuyển chương trình đào tạo trình độ tiến sĩ.\\n\"Context\": **2) ĐỐI TƯỢNG THAM DỰ** a) Người có bằng tốt nghiệp đại học ngành không phải ngành phù hợp với ngành dự tuyển phải học bổ sung kiến thức để đủ điều kiện dự tuyển chương trình đào tạo trình độ thạc sĩ; b) Người có bằng tốt nghiệp thạc sĩ ngành phải học bổ sung kiến thức để đủ điều kiện dự tuyển chương trình đào tạo trình độ tiến sĩ.'"
      ]
     },
     "execution_count": 38,
     "metadata": {},
     "output_type": "execute_result"
    }
   ],
   "source": [
    "question_str = \"\"\n",
    "PROMPT = f\"\"\"Give you this document. Your task is to create multi-choices QA and the question should a new one\n",
    "```md\n",
    "{DATA}\n",
    "```\n",
    "Here is a list of your previous asked questions.\n",
    "You must not ask any question similar to the list below\n",
    "```\n",
    "{question_str}\n",
    "```\n",
    "\n",
    "Please generate a new data in Vietnamese as followed (please strictly follow the format below)\n",
    "```output\n",
    "\"Question\": a quesiton about a fact found in the given document, don't repeat yourself or asking similar question from the previously asked question list\n",
    "\"Answer\": correct answer for the question. The answer should only be within a line.\n",
    "\"Context\": show me where is the answer located in the given document\n",
    "```\n",
    "\"\"\"\n",
    "resp = ai(PROMPT)\n",
    "resp"
   ]
  }
 ],
 "metadata": {
  "colab": {
   "collapsed_sections": [
    "mD1H2w-bfcKf"
   ],
   "provenance": []
  },
  "kernelspec": {
   "display_name": "Python 3 (ipykernel)",
   "language": "python",
   "name": "python3"
  },
  "language_info": {
   "codemirror_mode": {
    "name": "ipython",
    "version": 3
   },
   "file_extension": ".py",
   "mimetype": "text/x-python",
   "name": "python",
   "nbconvert_exporter": "python",
   "pygments_lexer": "ipython3",
   "version": "3.9.18"
  }
 },
 "nbformat": 4,
 "nbformat_minor": 4
}
