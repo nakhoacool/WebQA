{
 "cells": [
  {
   "cell_type": "markdown",
   "metadata": {},
   "source": [
    "# Generate Test, Evaluation data"
   ]
  },
  {
   "cell_type": "code",
   "execution_count": 1,
   "metadata": {},
   "outputs": [
    {
     "name": "stderr",
     "output_type": "stream",
     "text": [
      "/home/h4438/miniconda3/envs/uni/lib/python3.9/site-packages/tqdm/auto.py:21: TqdmWarning: IProgress not found. Please update jupyter and ipywidgets. See https://ipywidgets.readthedocs.io/en/stable/user_install.html\n",
      "  from .autonotebook import tqdm as notebook_tqdm\n"
     ]
    }
   ],
   "source": [
    "import sys\n",
    "sys.path.append(\"../\")\n",
    "from src.service.provider import ProviderService\n",
    "\n",
    "provider = ProviderService()"
   ]
  },
  {
   "cell_type": "code",
   "execution_count": 2,
   "metadata": {
    "colab": {
     "base_uri": "https://localhost:8080/"
    },
    "id": "15BnODH0emlL",
    "outputId": "8b2d40c1-9ced-42f9-fce3-bdb343de5324"
   },
   "outputs": [],
   "source": [
    "import os\n",
    "import pandas as pd\n",
    "from langchain.text_splitter import RecursiveCharacterTextSplitter\n",
    "\n",
    "def create_splitter(chunk_size: int = 460, overlap: int = 20) -> RecursiveCharacterTextSplitter:\n",
    "    \"\"\"\n",
    "        get an instance of a text splitter\n",
    "    \"\"\"\n",
    "    word_len_func = lambda e: len(e.split(\" \"))\n",
    "\n",
    "    text_splitter = RecursiveCharacterTextSplitter(\n",
    "        separators=[\"\\n\\n\\n\",\"\\n\\n\", \"\\n\"],\n",
    "        chunk_size=chunk_size, chunk_overlap=overlap, \n",
    "        length_function=word_len_func, is_separator_regex=False\n",
    "    )\n",
    "    return text_splitter\n",
    "\n",
    "class GeneratePipeline:\n",
    "\n",
    "    def __init__(self, data_folder: str, ai, size) -> None:\n",
    "        self.questions = []\n",
    "        self.records = []\n",
    "        self.data_folder = data_folder\n",
    "        self.ai = ai\n",
    "        self.text_splitter = create_splitter(chunk_size=size, overlap=0)\n",
    "        return\n",
    "\n",
    "    def try_split(self):\n",
    "        files = os.listdir(self.data_folder)\n",
    "        docs = []\n",
    "        for f in files:\n",
    "            if not f.endswith(\".md\"):\n",
    "                continue\n",
    "            DATA = ''\n",
    "            path = os.path.join(self.data_folder, f)\n",
    "            with open(path, \"r\") as f:\n",
    "                DATA = \"\\n\".join(f.readlines())\n",
    "            d = self.text_splitter.create_documents([DATA])\n",
    "            docs = [*docs, *d]\n",
    "        print(f\"{len(files)} -> {len(docs)}\")\n",
    "        return docs\n",
    "\n",
    "    def run_folder(self, run_update=False):\n",
    "        files = os.listdir(self.data_folder)\n",
    "        test_path = os.path.join(self.data_folder, \"test\")\n",
    "        for f in files:\n",
    "            if not f.endswith(\".md\"):\n",
    "                continue\n",
    "            if not run_update:\n",
    "                self.run_one_file(f)\n",
    "            elif run_update:\n",
    "                self.update_choices(f)\n",
    "        return\n",
    "    \n",
    "    def update_choices(self, file_name:str):\n",
    "        path = os.path.join(self.data_folder, \"test\")\n",
    "        path = os.path.join(path, file_name.replace(\"md\", \"csv\"))\n",
    "        records_df = pd.read_csv(path)\n",
    "        print(records_df.shape)\n",
    "        choices = []\n",
    "        for i, row in records_df.iterrows():\n",
    "            try:\n",
    "                a = generate_choices(self.ai, row['question'], row['answer'])\n",
    "                choices.append(a)\n",
    "            except:\n",
    "                print(\"ERROR\")\n",
    "                return\n",
    "        records_df['wrong'] = choices\n",
    "        # save file\n",
    "        records_df.to_csv(path)\n",
    "        print(records_df.shape)\n",
    "        return records_df\n",
    "\n",
    "    def run_one_file(self, file_name:str):\n",
    "        DATA = \"\"\n",
    "        records = []\n",
    "        questions = []\n",
    "        path = os.path.join(self.data_folder, file_name)\n",
    "        with open(path, \"r\") as f:\n",
    "            DATA = \"\\n\".join(f.readlines())\n",
    "        docs = self.text_splitter.create_documents([DATA])\n",
    "        for doc in docs:\n",
    "            try:\n",
    "                record = generate(DATA=doc, questions=questions, ai=self.ai)\n",
    "                choices = generate_choices(self.ai, record[\"question\"], record['answer'])\n",
    "            except:\n",
    "                print(\"ERROR\")\n",
    "                continue\n",
    "            record['doc_id'] = file_name.replace(\".md\", \"\")\n",
    "            record['wrong'] = choices\n",
    "            records.append(record)\n",
    "            questions.append(record['question'])\n",
    "        save_file = file_name.replace(\"md\", \"csv\")\n",
    "        save_path = os.path.join(self.data_folder, f\"test/{save_file}\")\n",
    "        df = pd.DataFrame(records)\n",
    "        # save file\n",
    "        df.to_csv(save_path)\n",
    "        return\n",
    "\n",
    "def generate_choices(ai, question, answer):\n",
    "    prompt = f\"\"\"\n",
    "    Cho bạn câu hỏi sau: \"{question}\" \n",
    "    Đáp án là: {answer}\n",
    "    Hãy tạo ra 4 đáp án sai cho câu hỏi trên dưới dạng danh sách, theo mẫu như sau\n",
    "    ```\n",
    "    - ...\n",
    "    - ...\n",
    "    - ...\n",
    "    - ...\n",
    "    ```\n",
    "    \"\"\"\n",
    "    a = ai(prompt)\n",
    "    # choices = [i.strip() for i in a.split(\"-\") if len(i.strip()) > 0]\n",
    "    # return \"@\".join(choices)\n",
    "    return a\n",
    "\n",
    "def generate(DATA, questions, ai):\n",
    "    question_str = \"\"\n",
    "    for q in questions:\n",
    "        question_str += f\"- {q}\\n\"\n",
    "    PROMPT = f\"\"\"Give you this document. Your task is to create multi-choices QA and the question should be a new one\n",
    "    ```md\n",
    "    {DATA}\n",
    "    ```\n",
    "    Here is a list of your previous asked questions.\n",
    "    Do not repeat any question from the below list.\n",
    "    ```\n",
    "    {question_str}\n",
    "    ```\n",
    "\n",
    "    Please generate a new data in Vietnamese as followed (please strictly follow the format below and do not use any \"*\")\n",
    "    ```output\n",
    "    Question: a quesiton about a fact found in the given document, don't repeat yourself or asking similar question from the previously asked question list\n",
    "    Answer: correct answer for the question. The answer should only be within a line.\n",
    "    Context: show me where is the answer located in the given document\n",
    "    ```\n",
    "    \"\"\"\n",
    "    resp = ai(PROMPT)\n",
    "    print(resp)\n",
    "    data = parse_data(resp)\n",
    "    try:\n",
    "        found = DATA.index(data['context'])\n",
    "        data['faith'] = found\n",
    "    except:\n",
    "        data['faith'] = -1\n",
    "    return data\n",
    "\n",
    "def parse_data(data):\n",
    "    res = {}\n",
    "    cols = [\"Question:\", \"Answer:\", \"Context:\"]\n",
    "    for i in range(len(cols)):\n",
    "        if i < len(cols) - 1:\n",
    "            s = data.index(cols[i])\n",
    "            e = data.index(cols[i+1])\n",
    "            value = data[s:e]\n",
    "        else:\n",
    "            value = data[e:]\n",
    "        key = cols[i].lower().replace(\":\",\"\").strip()\n",
    "        res[key] = value.replace(cols[i], \"\").strip()\n",
    "    return res"
   ]
  },
  {
   "cell_type": "code",
   "execution_count": 3,
   "metadata": {},
   "outputs": [
    {
     "name": "stdout",
     "output_type": "stream",
     "text": [
      "42 -> 149\n"
     ]
    }
   ],
   "source": [
    "with open(\"../data/training_program/15277b95-6686-48a8-bc4e-89ef50946af9.md\", \"r\") as f:\n",
    "    DATA = \"\\n\".join(f.readlines())\n",
    "\n",
    "\n",
    "ai = provider.get_simple_gemini_pro()\n",
    "pipeline = GeneratePipeline(data_folder=\"../data/major/\", ai=ai, size=460)\n",
    "\n",
    "a = pipeline.try_split()"
   ]
  },
  {
   "cell_type": "code",
   "execution_count": 4,
   "metadata": {},
   "outputs": [
    {
     "name": "stdout",
     "output_type": "stream",
     "text": [
      "(2, 6)\n"
     ]
    },
    {
     "name": "stderr",
     "output_type": "stream",
     "text": [
      "/home/h4438/miniconda3/envs/uni/lib/python3.9/site-packages/langchain_core/_api/deprecation.py:117: LangChainDeprecationWarning: The function `__call__` was deprecated in LangChain 0.1.7 and will be removed in 0.2.0. Use invoke instead.\n",
      "  warn_deprecated(\n"
     ]
    },
    {
     "name": "stdout",
     "output_type": "stream",
     "text": [
      "(2, 7)\n",
      "(3, 6)\n",
      "(3, 7)\n",
      "(2, 6)\n",
      "(2, 7)\n",
      "(4, 6)\n",
      "(4, 7)\n",
      "(2, 6)\n",
      "(2, 7)\n",
      "(3, 6)\n",
      "(3, 7)\n",
      "(3, 6)\n",
      "(3, 7)\n",
      "(2, 6)\n",
      "(2, 7)\n",
      "(2, 6)\n",
      "(2, 7)\n",
      "(2, 6)\n",
      "(2, 7)\n",
      "(3, 6)\n",
      "(3, 7)\n",
      "(2, 6)\n",
      "(2, 7)\n",
      "(2, 6)\n",
      "(2, 7)\n",
      "(3, 6)\n",
      "(3, 7)\n",
      "(2, 6)\n",
      "(2, 7)\n",
      "(2, 6)\n",
      "(2, 7)\n",
      "(3, 6)\n",
      "(3, 7)\n",
      "(2, 6)\n",
      "(2, 7)\n",
      "(2, 6)\n",
      "(2, 7)\n",
      "(6, 6)\n",
      "(6, 7)\n",
      "(2, 6)\n",
      "(2, 7)\n",
      "(3, 6)\n",
      "(3, 7)\n",
      "(5, 6)\n",
      "(5, 7)\n",
      "(2, 6)\n",
      "(2, 7)\n",
      "(6, 6)\n",
      "(6, 7)\n",
      "(4, 6)\n",
      "(4, 7)\n",
      "(6, 6)\n",
      "(6, 7)\n",
      "(2, 6)\n",
      "(2, 7)\n",
      "(2, 6)\n",
      "(2, 7)\n",
      "(4, 6)\n",
      "(4, 7)\n",
      "(2, 6)\n",
      "(2, 7)\n",
      "(5, 6)\n",
      "(5, 7)\n",
      "(4, 6)\n",
      "(4, 7)\n",
      "(2, 6)\n",
      "(2, 7)\n",
      "(4, 6)\n",
      "(4, 7)\n",
      "(2, 6)\n",
      "(2, 7)\n",
      "(2, 6)\n",
      "(2, 7)\n",
      "(2, 6)\n",
      "(2, 7)\n",
      "(4, 6)\n",
      "(4, 7)\n"
     ]
    }
   ],
   "source": [
    "pipeline.run_folder(run_update=True)"
   ]
  },
  {
   "cell_type": "markdown",
   "metadata": {},
   "source": [
    "# Test prompt"
   ]
  },
  {
   "cell_type": "code",
   "execution_count": 3,
   "metadata": {},
   "outputs": [
    {
     "data": {
      "text/plain": [
       "'- 7520201\\n- 7520203\\n- 7520205\\n- 7520209'"
      ]
     },
     "execution_count": 3,
     "metadata": {},
     "output_type": "execute_result"
    }
   ],
   "source": [
    "question = \"Ngành Kỹ thuật điện tử - viễn thông tại Trường Đại học Tôn Đức Thắng có mã ngành là gì?\"\n",
    "answer = \"7520207\"\n",
    "\n",
    "prompt = f\"\"\"\n",
    "Cho bạn câu hỏi sau: \"{question}\" \n",
    "Đáp án là: {answer}\n",
    "Hãy tạo ra 4 đáp án sai cho câu hỏi trên dưới dạng danh sách, theo mẫu như sau\n",
    "```\n",
    "- ...\n",
    "- ...\n",
    "- ...\n",
    "- ...\n",
    "```\n",
    "\"\"\"\n",
    "\n",
    "ai = provider.get_simple_gemini_pro()\n",
    "\n",
    "a = ai(prompt)\n",
    "a"
   ]
  },
  {
   "cell_type": "code",
   "execution_count": 5,
   "metadata": {},
   "outputs": [
    {
     "data": {
      "text/plain": [
       "['', '7520201\\n', '7520203\\n', '7520205\\n', '7520209']"
      ]
     },
     "execution_count": 5,
     "metadata": {},
     "output_type": "execute_result"
    }
   ],
   "source": [
    "a.split(\"- \")"
   ]
  }
 ],
 "metadata": {
  "colab": {
   "collapsed_sections": [
    "mD1H2w-bfcKf"
   ],
   "provenance": []
  },
  "kernelspec": {
   "display_name": "Python 3 (ipykernel)",
   "language": "python",
   "name": "python3"
  },
  "language_info": {
   "codemirror_mode": {
    "name": "ipython",
    "version": 3
   },
   "file_extension": ".py",
   "mimetype": "text/x-python",
   "name": "python",
   "nbconvert_exporter": "python",
   "pygments_lexer": "ipython3",
   "version": "3.9.18"
  }
 },
 "nbformat": 4,
 "nbformat_minor": 4
}
