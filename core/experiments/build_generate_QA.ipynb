{
 "cells": [
  {
   "cell_type": "markdown",
   "metadata": {},
   "source": [
    "# Generate Test, Evaluation data"
   ]
  },
  {
   "cell_type": "code",
   "execution_count": 3,
   "metadata": {},
   "outputs": [
    {
     "name": "stderr",
     "output_type": "stream",
     "text": [
      "/home/h4438/miniconda3/envs/uni/lib/python3.9/site-packages/tqdm/auto.py:21: TqdmWarning: IProgress not found. Please update jupyter and ipywidgets. See https://ipywidgets.readthedocs.io/en/stable/user_install.html\n",
      "  from .autonotebook import tqdm as notebook_tqdm\n"
     ]
    }
   ],
   "source": [
    "import sys\n",
    "sys.path.append(\"../\")\n",
    "from src.service.provider import ProviderService\n",
    "\n",
    "provider = ProviderService()"
   ]
  },
  {
   "cell_type": "code",
   "execution_count": 4,
   "metadata": {
    "colab": {
     "base_uri": "https://localhost:8080/"
    },
    "id": "15BnODH0emlL",
    "outputId": "8b2d40c1-9ced-42f9-fce3-bdb343de5324"
   },
   "outputs": [],
   "source": [
    "import os\n",
    "import pandas as pd\n",
    "from langchain.text_splitter import RecursiveCharacterTextSplitter\n",
    "\n",
    "def create_splitter(chunk_size: int = 460, overlap: int = 20) -> RecursiveCharacterTextSplitter:\n",
    "    \"\"\"\n",
    "        get an instance of a text splitter\n",
    "    \"\"\"\n",
    "    word_len_func = lambda e: len(e.split(\" \"))\n",
    "\n",
    "    text_splitter = RecursiveCharacterTextSplitter(\n",
    "        separators=[\"\\n\\n\\n\",\"\\n\\n\", \"\\n\"],\n",
    "        chunk_size=chunk_size, chunk_overlap=overlap, \n",
    "        length_function=word_len_func, is_separator_regex=False\n",
    "    )\n",
    "    return text_splitter\n",
    "\n",
    "class GeneratePipeline:\n",
    "\n",
    "    def __init__(self, data_folder: str, ai, size) -> None:\n",
    "        self.questions = []\n",
    "        self.records = []\n",
    "        self.data_folder = data_folder\n",
    "        self.ai = ai\n",
    "        self.text_splitter = create_splitter(chunk_size=size, overlap=0)\n",
    "        return\n",
    "\n",
    "    def try_split(self):\n",
    "        files = os.listdir(self.data_folder)\n",
    "        docs = []\n",
    "        for f in files:\n",
    "            if not f.endswith(\".md\"):\n",
    "                continue\n",
    "            DATA = ''\n",
    "            path = os.path.join(self.data_folder, f)\n",
    "            with open(path, \"r\") as f:\n",
    "                DATA = \"\\n\".join(f.readlines())\n",
    "            d = self.text_splitter.create_documents([DATA])\n",
    "            docs = [*docs, *d]\n",
    "        print(f\"{len(files)} -> {len(docs)}\")\n",
    "        return docs\n",
    "\n",
    "    def run_folder(self):\n",
    "        files = os.listdir(self.data_folder)\n",
    "        for f in files:\n",
    "            if not f.endswith(\".md\"):\n",
    "                continue\n",
    "            self.run_one_file(f)\n",
    "        return\n",
    "\n",
    "    def run_one_file(self, file_name:str):\n",
    "        DATA = \"\"\n",
    "        records = []\n",
    "        questions = []\n",
    "        path = os.path.join(self.data_folder, file_name)\n",
    "        with open(path, \"r\") as f:\n",
    "            DATA = \"\\n\".join(f.readlines())\n",
    "        docs = self.text_splitter.create_documents([DATA])\n",
    "        for doc in docs:\n",
    "            try:\n",
    "                record = generate(DATA=doc, questions=questions, ai=self.ai)\n",
    "            except:\n",
    "                continue\n",
    "            record['doc_id'] = file_name.replace(\".md\", \"\")\n",
    "            records.append(record)\n",
    "            questions.append(record['question'])\n",
    "        save_file = file_name.replace(\"md\", \"csv\")\n",
    "        save_path = os.path.join(self.data_folder, f\"test/{save_file}\")\n",
    "        df = pd.DataFrame(records)\n",
    "        df.to_csv(save_path)\n",
    "        return\n",
    "\n",
    "def generate(DATA, questions, ai):\n",
    "    question_str = \"\"\n",
    "    for q in questions:\n",
    "        question_str += f\"- {q}\\n\"\n",
    "    PROMPT = f\"\"\"Give you this document. Your task is to create multi-choices QA and the question should be a new one\n",
    "    ```md\n",
    "    {DATA}\n",
    "    ```\n",
    "    Here is a list of your previous asked questions.\n",
    "    Do not repeat any question from the below list.\n",
    "    ```\n",
    "    {question_str}\n",
    "    ```\n",
    "\n",
    "    Please generate a new data in Vietnamese as followed (please strictly follow the format below and do not use any \"*\")\n",
    "    ```output\n",
    "    Question: a quesiton about a fact found in the given document, don't repeat yourself or asking similar question from the previously asked question list\n",
    "    Answer: correct answer for the question. The answer should only be within a line.\n",
    "    Context: show me where is the answer located in the given document\n",
    "    ```\n",
    "    \"\"\"\n",
    "    resp = ai(PROMPT)\n",
    "    print(resp)\n",
    "    data = parse_data(resp)\n",
    "    try:\n",
    "        found = DATA.index(data['context'])\n",
    "        data['faith'] = found\n",
    "    except:\n",
    "        data['faith'] = -1\n",
    "    return data\n",
    "\n",
    "def parse_data(data):\n",
    "    res = {}\n",
    "    cols = [\"Question:\", \"Answer:\", \"Context:\"]\n",
    "    for i in range(len(cols)):\n",
    "        if i < len(cols) - 1:\n",
    "            s = data.index(cols[i])\n",
    "            e = data.index(cols[i+1])\n",
    "            value = data[s:e]\n",
    "        else:\n",
    "            value = data[e:]\n",
    "        key = cols[i].lower().replace(\":\",\"\").strip()\n",
    "        res[key] = value.replace(cols[i], \"\").strip()\n",
    "    return res"
   ]
  },
  {
   "cell_type": "code",
   "execution_count": 5,
   "metadata": {},
   "outputs": [
    {
     "name": "stdout",
     "output_type": "stream",
     "text": [
      "13 -> 21\n"
     ]
    }
   ],
   "source": [
    "with open(\"../data/training_program/15277b95-6686-48a8-bc4e-89ef50946af9.md\", \"r\") as f:\n",
    "    DATA = \"\\n\".join(f.readlines())\n",
    "\n",
    "\n",
    "ai = provider.get_simple_gemini_pro()\n",
    "pipeline = GeneratePipeline(data_folder=\"../data/uni/\", ai=ai, size=460)\n",
    "\n",
    "a = pipeline.try_split()"
   ]
  },
  {
   "cell_type": "code",
   "execution_count": 6,
   "metadata": {},
   "outputs": [
    {
     "name": "stderr",
     "output_type": "stream",
     "text": [
      "/home/h4438/miniconda3/envs/uni/lib/python3.9/site-packages/langchain_core/_api/deprecation.py:117: LangChainDeprecationWarning: The function `__call__` was deprecated in LangChain 0.1.7 and will be removed in 0.2.0. Use invoke instead.\n",
      "  warn_deprecated(\n"
     ]
    },
    {
     "name": "stdout",
     "output_type": "stream",
     "text": [
      "Question: Năm 2023, TDTU được FIBAA cấp con dấu chất lượng cho bao nhiêu chương trình đào tạo?\n",
      "Answer: 07 chương trình đào tạo\n",
      "Context: Năm 2023, TDTU một lần nữa khẳng định chất lượng đào tạo khi được FIBAA cấp con dấu chất lượng cho 07 chương trình đào tạo khác, bao gồm:\n",
      "Question: Tổ chức nào đã công nhận 4 chương trình đào tạo bậc đại học của TDTU vào tháng 3/2021?\n",
      "Answer: AUN-QA\n",
      "Context: Tháng 3/2021, AUN-QA công nhận thêm 4 chương trình đào tạo bậc đại học của TDTU gồm:\n",
      "Question: Tổ chức nào đã công nhận 3 chương trình đào tạo bậc đại học của TDTU vào tháng 11/2021?\n",
      "Answer: AUN-QA\n",
      "Context: Tháng 11/2021, AUN-QA tiếp tục công nhận 3 chương trình đào tạo bậc đại học gồm:\n",
      "Question: Trường Đại học Tôn Đức Thắng được chứng nhận ISO 9001: 2015 vào năm nào?\n",
      "Answer: 2008\n",
      "Context: Trường Đại học Tôn Đức Thắng áp dụng hệ thống quản lý chất lượng theo ISO và được chứng nhận đáp ứng tiêu chuẩn ISO 9001 từ năm 2008.\n",
      "Question: Trường Đại học Tôn Đức Thắng xếp thứ mấy thế giới theo bảng xếp hạng THE World University Rankings?\n",
      "Answer: 601-800\n",
      "Context: [Thứ 601-800 thế giới (THE World University Rankings)]\n",
      "Question: Trường Đại học Tôn Đức Thắng có bao nhiêu cơ sở đào tạo?\n",
      "Answer: 4\n",
      "Context: Trường hiện có các cơ sở đào tạo tại TP.HCM, TP. Bảo Lộc (Lâm Đồng), TP. Nha Trang (Khánh Hòa) và TP.Cà Mau (Cà Mau).\n",
      "Question: Tòa nhà ngoại ngữ có bao nhiêu tầng?\n",
      "Answer: 6 tầng\n",
      "Context: **Tòa nhà ngoại ngữ** gồm 6 tầng được trang bị đầy đủ trang thiết bị phục vụ\\n\\ngiảng dạy, học tập và sinh hoạt học thuật các ngoại ngữ: Anh, Nhật, Hàn,\\n\\nTrung,...\n",
      "Question: Hồ bơi có diện tích mặt nước là bao nhiêu?\n",
      "Answer: 13,5m x 25m\n",
      "Context: Hồ bơi được xây dựng trên diện tích 778,5 m2, diện tích mặt nước 13,5m x 25m với 6 làn bơi, có khả năng đáp ứng lớp học lên đến 100 học viên.\n",
      "Question: Trường Đại học Tôn Đức Thắng được trao tặng Huân chương Lao động hạng Nhất vào ngày nào?\n",
      "Answer: Ngày 24/09/2016\n",
      "Context: Ngày 24/09/2016, Trường Đại học Tôn Đức Thắng vinh dự được Chủ tịch nước CHXHCN Việt Nam quyết định trao tặng Huân chương lao động hạng Nhất vì đã có thành tích xuất sắc trong công tác giai đoạn 2011-2015, góp phần vào sự nghiệp xây dựng xã hội, bảo vệ Tổ quốc.\n",
      "Question: Trường Đại học Tôn Đức Thắng được trao tặng Huân chương hữu nghị của Nước Cộng hòa dân chủ nhân dân Lào vào ngày nào?\n",
      "Answer: 23/09/2017\n",
      "Context: Ngày 23/09/2017, tại Lễ kỷ niệm 20 năm xây dựng và phát triển Trường Đại học Tôn Đức Thắng, sau phần khen thưởng của Nhà nước Việt Nam; bà Lachanthaboune Sengdeuane, Bộ trưởng Bộ giáo dục và thể thao Nước Cộng hòa dân chủ nhân dân Lào, bà Vụ trưởng Vụ tổ chức Bộ giáo dục và thể thao Lào, ông Somxay Sanamoune, Tổng lãnh sự Cộng hòa dân chủ nhân dân Lào tại Thành phố Hồ Chí Minh đã đại diện cho Nhà nước Cộng hòa dân chủ nhân dân Lào trao tặng cho Trường Đại học Tôn Đức Thắng Huân chương hữu nghị của Nước Cộng hòa dân chủ nhân dân Lào.\n",
      "Question: Trường Đại học Tôn Đức Thắng được thành lập theo quyết định nào?\n",
      "Answer: Quyết định 787/TTg-QĐ\n",
      "Context: Tiền thân của Trường Đại học Tôn Đức Thắng (Ton Duc Thang University:\\n\\nTDTU) là Trường Đại học Công nghệ Dân lập Tôn Đức Thắng, thành lập theo Quyết\\n\\nđịnh 787/TTg-QĐ ngày 24/9/1997 của Thủ tướng Chính phủ.\n",
      "Question: Trường Đại học Tôn Đức Thắng hướng đến mục tiêu trở thành trường đại học như thế nào?\n",
      "Answer: Một đại học định hướng nghiên cứu có chất lượng trong khu vực và trên thế giới\n",
      "Context: *“Đại học Tôn Đức Thắng chủ động huy động, sử dụng hợp lý, hiệu quả nhất các\\n\\nnguồn lực của trường và xã hội để phát triển Trường Đại học Tôn Đức Thắng thành\\n\\nmột đại học định hướng nghiên cứu có chất lượng trong khu vực và trên thế giới,\\n\\nđồng thời bảo đảm các đối tượng chính sách, đối tượng thuộc hộ nghèo có cơ hội\\n\\ntiếp cận các chương trình đào tạo của trường”.*\n",
      "Question: Ai là Chủ tịch Hội đồng trường nhiệm kỳ 2021-2026?\n",
      "Answer: TS. Vũ Anh Đức\n",
      "Context: ![](/sites/www/files/About/Hoi-dong-truong/VuAnhDuc.jpg) Chủ tịch **TS. Vũ Anh Đức** Bí thư Đảng ủy Trường Đại học Tôn Đức Thắng\n",
      "Question: Chính sách chất lượng nào của TDTU liên quan đến việc tuyển dụng và đào tạo nguồn nhân lực?\n",
      "Answer: Tuyển dụng, đào tạo, duy trì và phát triển nguồn nhân lực chuyên môn, có trình độ khoa học cao, liêm chính, chuyên nghiệp và trách nhiệm.\n",
      "Context: **CHÍNH SÁCH CHẤT LƯỢNG** 2. **Nguồn nhân lực:** tuyển dụng, đào tạo, duy trì và phát triển nguồn nhân lực chuyên môn, có trình độ khoa học cao, liêm chính, chuyên nghiệp và trách nhiệm;\n",
      "Question: Đảng bộ Trường Đại học Tôn Đức Thắng trực thuộc Đảng bộ nào?\n",
      "Answer: Đảng bộ Khối Đại học, Cao đẳng TP. Hồ Chí Minh\n",
      "Context: Đảng bộ Đảng bộ Trường Đại học Tôn Đức Thắng là Đảng bộ cơ sở trực thuộc Đảng bộ Khối Đại học, Cao đẳng TP. Hồ Chí Minh.\n",
      "Question: Địa chỉ email của Đoàn Hợi là gì?\n",
      "Answer: doanhoi@tdtu.edu.vn\n",
      "Context: **Email:**  [doanhoi@tdtu.edu.vn](mailto:doanhoi@tdtu.edu.vn)\n",
      "\n",
      "Question: TDTU hợp tác với những trường đại học nào?\n",
      "Answer: Các đại học TOP 500 của thế giới\n",
      "Context: Tiếp tục mở rộng hợp tác với các đại học TOP 500 của thế giới\n",
      "Question: Đảng bộ Trường Đại học Tôn Đức Thắng trực thuộc Đảng bộ nào?\n",
      "Answer: Đảng bộ Khối Đại học, Cao đẳng TP. Hồ Chí Minh\n",
      "Context: Đảng bộ Đảng bộ Trường Đại học Tôn Đức Thắng là Đảng bộ cơ sở trực thuộc Đảng bộ Khối Đại học, Cao đẳng TP. Hồ Chí Minh.\n",
      "Question: Địa chỉ email của Đoàn Hợi là gì?\n",
      "Answer: doanhoi@tdtu.edu.vn\n",
      "Context: **Email:**  [doanhoi@tdtu.edu.vn](mailto:doanhoi@tdtu.edu.vn)\n",
      "Question: Phòng tuyển dụng của trường Đại học Tôn Đức Thắng nằm ở đâu?\n",
      "Answer: Phòng A0009, Nhà A\n",
      "Context: Phòng tuyển dụng Phòng A0009, Nhà A 19 Nguyễn Hữu Thọ, phường Tân Phong, Quận 7, Thành phố Hồ Chí Minh\n"
     ]
    }
   ],
   "source": [
    "pipeline.run_folder()"
   ]
  },
  {
   "cell_type": "markdown",
   "metadata": {},
   "source": [
    "# Test prompt"
   ]
  },
  {
   "cell_type": "code",
   "execution_count": 38,
   "metadata": {},
   "outputs": [
    {
     "data": {
      "text/plain": [
       "'\"Question\": Đối tượng nào được tham dự khóa học bổ sung kiến thức?\\n\"Answer\": Người có bằng tốt nghiệp đại học ngành không phải ngành phù hợp với ngành dự tuyển phải học bổ sung kiến thức để đủ điều kiện dự tuyển chương trình đào tạo trình độ thạc sĩ; Người có bằng tốt nghiệp thạc sĩ ngành phải học bổ sung kiến thức để đủ điều kiện dự tuyển chương trình đào tạo trình độ tiến sĩ.\\n\"Context\": **2) ĐỐI TƯỢNG THAM DỰ** a) Người có bằng tốt nghiệp đại học ngành không phải ngành phù hợp với ngành dự tuyển phải học bổ sung kiến thức để đủ điều kiện dự tuyển chương trình đào tạo trình độ thạc sĩ; b) Người có bằng tốt nghiệp thạc sĩ ngành phải học bổ sung kiến thức để đủ điều kiện dự tuyển chương trình đào tạo trình độ tiến sĩ.'"
      ]
     },
     "execution_count": 38,
     "metadata": {},
     "output_type": "execute_result"
    }
   ],
   "source": [
    "question_str = \"\"\n",
    "PROMPT = f\"\"\"Give you this document. Your task is to create multi-choices QA and the question should a new one\n",
    "```md\n",
    "{DATA}\n",
    "```\n",
    "Here is a list of your previous asked questions.\n",
    "You must not ask any question similar to the list below\n",
    "```\n",
    "{question_str}\n",
    "```\n",
    "\n",
    "Please generate a new data in Vietnamese as followed (please strictly follow the format below)\n",
    "```output\n",
    "\"Question\": a quesiton about a fact found in the given document, don't repeat yourself or asking similar question from the previously asked question list\n",
    "\"Answer\": correct answer for the question. The answer should only be within a line.\n",
    "\"Context\": show me where is the answer located in the given document\n",
    "```\n",
    "\"\"\"\n",
    "resp = ai(PROMPT)\n",
    "resp"
   ]
  }
 ],
 "metadata": {
  "colab": {
   "collapsed_sections": [
    "mD1H2w-bfcKf"
   ],
   "provenance": []
  },
  "kernelspec": {
   "display_name": "Python 3 (ipykernel)",
   "language": "python",
   "name": "python3"
  },
  "language_info": {
   "codemirror_mode": {
    "name": "ipython",
    "version": 3
   },
   "file_extension": ".py",
   "mimetype": "text/x-python",
   "name": "python",
   "nbconvert_exporter": "python",
   "pygments_lexer": "ipython3",
   "version": "3.9.18"
  }
 },
 "nbformat": 4,
 "nbformat_minor": 4
}
