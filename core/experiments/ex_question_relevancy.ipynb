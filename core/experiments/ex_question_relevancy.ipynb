{
 "cells": [
  {
   "cell_type": "markdown",
   "metadata": {},
   "source": [
    "# One to one"
   ]
  },
  {
   "cell_type": "code",
   "execution_count": 1,
   "metadata": {},
   "outputs": [
    {
     "name": "stderr",
     "output_type": "stream",
     "text": [
      "/home/h4438/miniconda3/envs/uni/lib/python3.9/site-packages/tqdm/auto.py:21: TqdmWarning: IProgress not found. Please update jupyter and ipywidgets. See https://ipywidgets.readthedocs.io/en/stable/user_install.html\n",
      "  from .autonotebook import tqdm as notebook_tqdm\n"
     ]
    },
    {
     "name": "stdout",
     "output_type": "stream",
     "text": [
      "From (44, 5) to 44\n",
      "From (11, 4) to 11\n"
     ]
    }
   ],
   "source": [
    "import sys\n",
    "from langchain_core.prompts import ChatPromptTemplate\n",
    "from langchain_core.runnables import RunnableLambda\n",
    "sys.path.append(\"../\")\n",
    "from src.service.provider import ProviderService\n",
    "from operator import itemgetter\n",
    "from langsmith.run_helpers import traceable\n",
    "\n",
    "provider = ProviderService()\n",
    "provider.config.enable_tracing(project=\"LEARN\")\n",
    "\n",
    "TEMPLATE = \"\"\"\n",
    "Câu hỏi và tiêu đề có liên quan nhau không? nếu có thì trả lời true, không thì false.\n",
    "Câu hỏi: '{question}'\n",
    "Tiêu đề: '{title}'\n",
    "\"\"\"\n",
    "\n",
    "\n",
    "def build_filter_chain(provider: ProviderService):\n",
    "    \"\"\"\n",
    "        Build a filter chain to filter relevant retrieved documents to user query.\n",
    "    \"\"\"\n",
    "    template = 'Is the \"{question}\" relevant to the \"{title}\"? true or fasle.'\n",
    "    prompt = ChatPromptTemplate.from_template(template=template)\n",
    "    chain = ({\n",
    "        \"question\": itemgetter(\"question\"),\n",
    "        \"title\": itemgetter(\"title\")\n",
    "    }\n",
    "    | prompt\n",
    "    | provider.get_simple_gemini_pro())\n",
    "    return chain\n",
    "\n",
    "chain = build_filter_chain(provider=provider)\n",
    "\n",
    "bot_gemini = provider.get_simple_gemini_pro()\n",
    "\n",
    "\n",
    "@traceable(tags=[\"optimize\", \"question_relevancy\"])\n",
    "def run_bot(question, title):\n",
    "    prompt = f'Is the \"{question}\" relevant to the \"{title}\"? true or fasle.'\n",
    "    return bot_gemini(prompt)\n",
    "\n",
    "@traceable(tags=[\"optimize\", \"question_relevancy\"])\n",
    "def run_chain(question, title):\n",
    "    return chain.invoke({\"question\": question, \"title\": title})"
   ]
  },
  {
   "cell_type": "code",
   "execution_count": 2,
   "metadata": {},
   "outputs": [
    {
     "data": {
      "text/plain": [
       "'True'"
      ]
     },
     "execution_count": 2,
     "metadata": {},
     "output_type": "execute_result"
    }
   ],
   "source": [
    "q = \"điểm chuẩn ngành phần mềm năm 2023 là bao nhiêu\"\n",
    "t = \"Ngành Kỹ thuật phần mềm\"\n",
    "a = run_chain(q, t)\n",
    "a"
   ]
  },
  {
   "cell_type": "markdown",
   "metadata": {},
   "source": [
    "# Many to one"
   ]
  },
  {
   "cell_type": "code",
   "execution_count": 15,
   "metadata": {},
   "outputs": [],
   "source": [
    "@traceable(tags=[\"optimize\", \"question_relevancy\"])\n",
    "def run_bot(question, title1, title2):\n",
    "    prompt=f\"\"\"Do not output more than one word\n",
    "    Title 1: {title1}\n",
    "    Title 2: {title2}\n",
    "    Which title is more relevant to the \"{question}\". Output \"one\" or \"two\".\"\"\"\n",
    "    return bot_gemini(prompt)\n"
   ]
  },
  {
   "cell_type": "code",
   "execution_count": 17,
   "metadata": {},
   "outputs": [
    {
     "data": {
      "text/plain": [
       "'two'"
      ]
     },
     "execution_count": 17,
     "metadata": {},
     "output_type": "execute_result"
    }
   ],
   "source": [
    "question = \"Cho em hỏi về ngành Khoa học máy tính\"\n",
    "t1 = \"Ngành Kỹ thuật phần mềm\"\n",
    "t2 = \"Khoa học máy tính\"\n",
    "\n",
    "a = run_bot(question, t1, t2)\n",
    "a"
   ]
  }
 ],
 "metadata": {
  "kernelspec": {
   "display_name": "uni",
   "language": "python",
   "name": "python3"
  },
  "language_info": {
   "codemirror_mode": {
    "name": "ipython",
    "version": 3
   },
   "file_extension": ".py",
   "mimetype": "text/x-python",
   "name": "python",
   "nbconvert_exporter": "python",
   "pygments_lexer": "ipython3",
   "version": "3.9.18"
  },
  "orig_nbformat": 4
 },
 "nbformat": 4,
 "nbformat_minor": 2
}
