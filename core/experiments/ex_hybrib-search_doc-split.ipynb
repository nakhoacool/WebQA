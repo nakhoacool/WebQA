{
 "cells": [
  {
   "cell_type": "markdown",
   "id": "2e21da2d-f63d-4de5-a680-11dcfa0ce358",
   "metadata": {},
   "source": [
    "# Experiment\n",
    "- Hybrid search\n",
    "- Doc split\n",
    "\n",
    "Reference: https://python.langchain.com/docs/modules/data_connection/retrievers/ensemble"
   ]
  },
  {
   "cell_type": "code",
   "execution_count": 1,
   "id": "9b54b1f8-44c4-4678-8bc1-77fc157539f1",
   "metadata": {},
   "outputs": [
    {
     "name": "stderr",
     "output_type": "stream",
     "text": [
      "/home/h4438/miniconda3/envs/uni/lib/python3.9/site-packages/tqdm/auto.py:21: TqdmWarning: IProgress not found. Please update jupyter and ipywidgets. See https://ipywidgets.readthedocs.io/en/stable/user_install.html\n",
      "  from .autonotebook import tqdm as notebook_tqdm\n"
     ]
    }
   ],
   "source": [
    "from langchain.retrievers import BM25Retriever, EnsembleRetriever\n",
    "from langchain_community.embeddings import HuggingFaceInferenceAPIEmbeddings\n",
    "from langchain_community.vectorstores import FAISS\n",
    "import sys\n",
    "import pandas as pd\n",
    "from collections import Counter\n",
    "from langchain.text_splitter import RecursiveCharacterTextSplitter\n",
    "from langchain_core.documents.base import Document\n",
    "sys.path.append(\"../\")\n",
    "from src.config import Configuration\n",
    "from src.prepare.data_load import DocDataLoader"
   ]
  },
  {
   "cell_type": "code",
   "execution_count": 2,
   "id": "9b63b805-ccd3-4e8f-8e67-8539cbff9c29",
   "metadata": {},
   "outputs": [
    {
     "name": "stdout",
     "output_type": "stream",
     "text": [
      "From (44, 4) to Counter({2: 37, 1: 6, 3: 1})\n"
     ]
    }
   ],
   "source": [
    "doc_loader = DocDataLoader()\n",
    "db = doc_loader.load_major_docs(size=460, overlap=20)"
   ]
  },
  {
   "cell_type": "markdown",
   "id": "bbe2f135-d790-4829-9f63-490446a45e3c",
   "metadata": {},
   "source": [
    "# Config"
   ]
  },
  {
   "cell_type": "code",
   "execution_count": 2,
   "id": "ee4d282a-4bca-4bd0-adff-2905184eee69",
   "metadata": {},
   "outputs": [],
   "source": [
    "conf = Configuration()\n",
    "\n",
    "WEIGHTS = [0.5, 0.5]\n",
    "K = 1\n",
    "INDEX = \"labse-major\"\n",
    "# INDEX = \"gemini-major\"\n",
    "\n",
    "MODEL = \"sentence-transformers/LaBSE\"\n",
    "# MODEL = \"models/embedding-001\"\n",
    "\n",
    "DIST = \"EUCLIDEAN_DISTANCE\"\n",
    "\n",
    "META = {\n",
    "    \"model\": MODEL,\n",
    "    \"doc_size\": 460,\n",
    "    \"doc_overlap\": 20,\n",
    "    \"bm25-weight\": WEIGHTS[0],\n",
    "    \"elastic-weight\": WEIGHTS[1],\n",
    "    \"index\": INDEX,\n",
    "    \"top k\": K,\n",
    "    \"distance\": DIST, \n",
    "    \"technique\": f\"{MODEL} + Hybrid\"\n",
    "}"
   ]
  },
  {
   "cell_type": "markdown",
   "id": "6f1fa2ae-f111-489a-8ebe-4cd367fc350a",
   "metadata": {
    "jp-MarkdownHeadingCollapsed": true
   },
   "source": [
    "# Hybrid Retriever"
   ]
  },
  {
   "cell_type": "code",
   "execution_count": 3,
   "id": "8cbc7eb0-fb6c-4c7e-b9db-f7e589fc1245",
   "metadata": {},
   "outputs": [
    {
     "ename": "NameError",
     "evalue": "name 'db' is not defined",
     "output_type": "error",
     "traceback": [
      "\u001b[0;31m---------------------------------------------------------------------------\u001b[0m",
      "\u001b[0;31mNameError\u001b[0m                                 Traceback (most recent call last)",
      "Cell \u001b[0;32mIn[3], line 13\u001b[0m\n\u001b[1;32m      5\u001b[0m embeddings \u001b[38;5;241m=\u001b[39m HuggingFaceInferenceAPIEmbeddings(\n\u001b[1;32m      6\u001b[0m     api_key\u001b[38;5;241m=\u001b[39mconf\u001b[38;5;241m.\u001b[39mload_hg_token(\u001b[38;5;241m1\u001b[39m),\n\u001b[1;32m      7\u001b[0m     model_name\u001b[38;5;241m=\u001b[39mMODEL)\n\u001b[1;32m      9\u001b[0m \u001b[38;5;66;03m# embeddings = GoogleGenerativeAIEmbeddings(model=MODEL,\u001b[39;00m\n\u001b[1;32m     10\u001b[0m \u001b[38;5;66;03m#                                           google_api_key=conf.load_gemini_token())\u001b[39;00m\n\u001b[1;32m     11\u001b[0m \n\u001b[1;32m     12\u001b[0m \u001b[38;5;66;03m# initialize the bm25 retriever and faiss retriever\u001b[39;00m\n\u001b[0;32m---> 13\u001b[0m bm25_retriever \u001b[38;5;241m=\u001b[39m BM25Retriever\u001b[38;5;241m.\u001b[39mfrom_documents(\u001b[43mdb\u001b[49m)\n\u001b[1;32m     14\u001b[0m bm25_retriever\u001b[38;5;241m.\u001b[39mk \u001b[38;5;241m=\u001b[39m K\n\u001b[1;32m     16\u001b[0m elastic_vector_search \u001b[38;5;241m=\u001b[39m ElasticsearchStore(\n\u001b[1;32m     17\u001b[0m             es_connection\u001b[38;5;241m=\u001b[39mconf\u001b[38;5;241m.\u001b[39mload_elasticsearch_connection(),\n\u001b[1;32m     18\u001b[0m             index_name\u001b[38;5;241m=\u001b[39mINDEX,\n\u001b[1;32m     19\u001b[0m             embedding\u001b[38;5;241m=\u001b[39membeddings,\n\u001b[1;32m     20\u001b[0m             distance_strategy\u001b[38;5;241m=\u001b[39mDIST)\n",
      "\u001b[0;31mNameError\u001b[0m: name 'db' is not defined"
     ]
    }
   ],
   "source": [
    "from langchain_community.vectorstores.elasticsearch import ElasticsearchStore\n",
    "from langchain_google_genai import GoogleGenerativeAIEmbeddings\n",
    "from langchain.retrievers import BM25Retriever, EnsembleRetriever\n",
    "\n",
    "embeddings = HuggingFaceInferenceAPIEmbeddings(\n",
    "    api_key=conf.load_hg_token(1),\n",
    "    model_name=MODEL)\n",
    "\n",
    "# embeddings = GoogleGenerativeAIEmbeddings(model=MODEL,\n",
    "#                                           google_api_key=conf.load_gemini_token())\n",
    "\n",
    "# initialize the bm25 retriever and faiss retriever\n",
    "bm25_retriever = BM25Retriever.from_documents(db)\n",
    "bm25_retriever.k = K\n",
    "\n",
    "elastic_vector_search = ElasticsearchStore(\n",
    "            es_connection=conf.load_elasticsearch_connection(),\n",
    "            index_name=INDEX,\n",
    "            embedding=embeddings,\n",
    "            distance_strategy=DIST)\n",
    "\n",
    "es_retriever = elastic_vector_search.as_retriever(search_kwargs={\"k\": K})\n",
    "\n",
    "# initialize the ensemble retriever\n",
    "ensemble_retriever = EnsembleRetriever(\n",
    "    retrievers=[bm25_retriever, es_retriever], weights=WEIGHTS\n",
    ")\n"
   ]
  },
  {
   "cell_type": "markdown",
   "id": "19ff3ebd-7bb7-4613-8f27-42886256ea9d",
   "metadata": {},
   "source": [
    "# My code"
   ]
  },
  {
   "cell_type": "code",
   "execution_count": 4,
   "id": "bb4998e0-191c-457f-9b94-001697d4f738",
   "metadata": {},
   "outputs": [
    {
     "name": "stdout",
     "output_type": "stream",
     "text": [
      "From (44, 5) to 44\n"
     ]
    }
   ],
   "source": [
    "# import\n",
    "import sys\n",
    "sys.path.append(\"../\")\n",
    "\n",
    "from src.rag.hybrid_rag import HybridGeminiRAG\n",
    "from src.service.provider import ProviderService\n",
    "services = ProviderService()\n",
    "\n",
    "major = services.get_categories().major\n",
    "rag = HybridGeminiRAG(\n",
    "    provider=services, \n",
    "    rag_config=services.get_categories().major, \n",
    "    update_notification_func=lambda x: x)\n",
    "\n",
    "ensemble_retriever = rag.ensemble_retriever"
   ]
  },
  {
   "cell_type": "markdown",
   "id": "66575a30-9584-44ac-a3ef-b7c0b58b252e",
   "metadata": {},
   "source": [
    "# Test"
   ]
  },
  {
   "cell_type": "code",
   "execution_count": 10,
   "id": "039d6dcc-742a-4881-8111-0f4ac72dc948",
   "metadata": {},
   "outputs": [
    {
     "name": "stdout",
     "output_type": "stream",
     "text": [
      "docs.csv\t\t    private_test_case.csv  sample_test_case.csv\n",
      "hard_private_test_case.csv  public_test_case.csv\n"
     ]
    }
   ],
   "source": [
    "from src.tests.major_eval import MajorBlogPostEvaluation\n",
    "eval = MajorBlogPostEvaluation(root_path=\"../\", save_path=\"./results\")\n",
    "\n",
    "!ls ../data/test_major"
   ]
  },
  {
   "cell_type": "markdown",
   "id": "bfa75e5d-22a6-4e45-88ff-d540c819e0c7",
   "metadata": {},
   "source": [
    "# Labse"
   ]
  },
  {
   "cell_type": "code",
   "execution_count": 9,
   "id": "c625d3c3-e143-4cbc-bc51-66c2f083658d",
   "metadata": {},
   "outputs": [],
   "source": [
    "eval.eval_sample(\"sample_hybrid_docsplit.txt\", ensemble_retriever, META)"
   ]
  },
  {
   "cell_type": "code",
   "execution_count": 5,
   "id": "66792603-da00-4af8-8641-d93f7c68c66d",
   "metadata": {},
   "outputs": [],
   "source": [
    "eval.eval_public(\"labse_major_hybrid_public_docsplit.txt\", ensemble_retriever, META)"
   ]
  },
  {
   "cell_type": "code",
   "execution_count": 11,
   "id": "b3abc572-22f3-4050-af25-e5565a7411b0",
   "metadata": {},
   "outputs": [],
   "source": [
    "eval.eval_private_hard(\"labse_major_hybrid_hard_private_docsplit.txt\", ensemble_retriever, META)"
   ]
  },
  {
   "cell_type": "markdown",
   "id": "b90a7688-005e-43eb-8fdb-fe8c182972ac",
   "metadata": {},
   "source": [
    "# Gemini"
   ]
  },
  {
   "cell_type": "code",
   "execution_count": 6,
   "id": "040c199e-1320-4eff-8dce-af108f7a639d",
   "metadata": {},
   "outputs": [],
   "source": [
    "eval.eval_public(\"gemini_major_hybrid_public_docsplit.txt\", ensemble_retriever, META)"
   ]
  },
  {
   "cell_type": "code",
   "execution_count": 7,
   "id": "95d2fea6-bce6-4993-be98-80a692b1ad92",
   "metadata": {},
   "outputs": [],
   "source": [
    "eval.eval_private_hard(\"gemini_major_hybrid_hard_private_docsplit.txt\", ensemble_retriever, META)"
   ]
  }
 ],
 "metadata": {
  "kernelspec": {
   "display_name": "Python 3 (ipykernel)",
   "language": "python",
   "name": "python3"
  },
  "language_info": {
   "codemirror_mode": {
    "name": "ipython",
    "version": 3
   },
   "file_extension": ".py",
   "mimetype": "text/x-python",
   "name": "python",
   "nbconvert_exporter": "python",
   "pygments_lexer": "ipython3",
   "version": "3.9.18"
  }
 },
 "nbformat": 4,
 "nbformat_minor": 5
}
