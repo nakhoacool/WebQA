{
 "cells": [
  {
   "cell_type": "markdown",
   "metadata": {},
   "source": [
    "# QA generation"
   ]
  },
  {
   "cell_type": "code",
   "execution_count": 1,
   "metadata": {},
   "outputs": [
    {
     "name": "stderr",
     "output_type": "stream",
     "text": [
      "/home/h4438/miniconda3/envs/uni/lib/python3.9/site-packages/tqdm/auto.py:21: TqdmWarning: IProgress not found. Please update jupyter and ipywidgets. See https://ipywidgets.readthedocs.io/en/stable/user_install.html\n",
      "  from .autonotebook import tqdm as notebook_tqdm\n"
     ]
    }
   ],
   "source": [
    "import sys\n",
    "sys.path.append(\"../\")\n",
    "from src.service.provider import ProviderService\n",
    "\n",
    "provider = ProviderService()\n",
    "ai = provider.get_simple_gemini_pro()"
   ]
  },
  {
   "cell_type": "code",
   "execution_count": null,
   "metadata": {},
   "outputs": [],
   "source": [
    "path = \"../data/training_program/4afbce7d-1642-4458-836f-73f465c6c80e.md\"\n",
    "\n",
    "with open(path, \"r\") as f:\n",
    "    txt = \"\\n\".join(f.readlines()) \n"
   ]
  },
  {
   "cell_type": "code",
   "execution_count": 3,
   "metadata": {},
   "outputs": [
    {
     "data": {
      "text/plain": [
       "'Câu hỏi: Sinh viên được đăng ký học và tích lũy tối đa bao nhiêu tín chỉ của chương trình đào tạo thạc sĩ?\\nĐáp án đúng: 15 tín chỉ\\nĐáp án sai: 30 tín chỉ, 20 tín chỉ, 10 tín chỉ'"
      ]
     },
     "execution_count": 3,
     "metadata": {},
     "output_type": "execute_result"
    }
   ],
   "source": [
    "\n",
    "questions = []\n",
    "\n",
    "prompt = f\"\"\"Please generate a multiple choices question from the given text.\n",
    "Note that the question should be new from the list of previous questions.\n",
    "```md\n",
    "{txt}\n",
    "```\n",
    "\n",
    "Here is a list of your previous questions\n",
    "```\n",
    "{\"\\n\".join(questions)}\n",
    "```\n",
    "\n",
    "Please output in the following format (in Vietnamese):\n",
    "Question:\n",
    "Correct answer:\n",
    "Wrong answer: comma separated list\n",
    "\"\"\"\n",
    "\n",
    "a = ai(prompt)\n",
    "a"
   ]
  },
  {
   "cell_type": "code",
   "execution_count": 5,
   "metadata": {},
   "outputs": [
    {
     "name": "stdout",
     "output_type": "stream",
     "text": [
      "Câu hỏi: Sinh viên được đăng ký học và tích lũy tối đa bao nhiêu tín chỉ của chương trình đào tạo thạc sĩ?\n",
      "Đáp án đúng: 15 tín chỉ\n",
      "Đáp án sai: 30 tín chỉ, 20 tín chỉ, 10 tín chỉ\n",
      "\n",
      "\n",
      "# Tuyển sinh chương trình 4 + 1\n",
      "\n",
      " GIỚI THIỆU CHƯƠNG TRÌNH 4+1 * Chương trình 4+1 cho phép sinh viên trình độ đại học của Trường đăng ký học và tích lũy một số học phần của chương trình đào tạo trình độ thạc sĩ nhằm đáp ứng nhu cầu nâng cao chuyên môn cho người học và rút ngắn thời gian học tập so với tổng thời gian đào tạo trình độ đại học và trình độ thạc sĩ;\n",
      "\n",
      "* Người học được bảo lưu kết quả học tập 05 năm đối với các học phần trình độ thạc sĩ đã học và có kết quả đạt yêu cầu theo quy định của Trường. Thời gian bảo lưu được tính từ thời điểm hoàn thành học phần đến ngày xét công nhận học phần vào chương trình đào tạo trình độ thạc sĩ;\n",
      "\n",
      "* Người học được cấp Bảng điểm tích lũy học phần đối với các học phần của chương trình đào tạo trình độ thạc sĩ có kết quả học tập đạt yêu cầu. ĐỐI TƯỢNG THAM GIA\n",
      "\n",
      "* Sinh viên trình độ đại học đang học tại Trường từ năm 3 trở đi (so với năm tuyển sinh).\n",
      "\n",
      " ĐIỀU KIỆN THAM GIA * Sinh viên tích lũy tối thiểu 70 tín chỉ trong chương trình đào tạo trình độ đại học có học lực tính theo điểm trung bình tích lũy xếp loại khá trở lên tại thời điểm ghi danh tham gia chương trình 4+1;\n",
      "\n",
      "* Ngành đào tạo trình độ đại học phải là ngành nằm trong danh mục ngành phù hợp với ngành đào tạo trình độ thạc sĩ; nếu ngành đào tạo trình độ đại học không nằm trong danh mục ngành phù hợp với ngành đào tạo trình độ thạc sĩ phải được Khoa quản lý ngành đào tạo trình độ thạc sĩ tư vấn và đồng ý;\n",
      "\n",
      "* Sinh viên được đăng ký học và tích lũy tối đa\n",
      "\n",
      " **15 tín chỉ** của chương trình đào tạo thạc sĩ; riêng sinh viên thuộc chương trình đào tạo chuyên sâu đặc thù được đăng ký học và tích lũy tối đa\n",
      "\n",
      " **30 tín chỉ** của chương trình đào tạo thạc sĩ.\n",
      "\n",
      " ĐĂNG KÝ THAM GIA CHƯƠNG TRÌNH 4+1 * Sinh viên đăng ký ghi danh tham gia chương trình 4+1 trên Hệ thống thông tin sinh viên (\n",
      "\n",
      " [xem hướng dẫn](/sites/admission/files/Tuyen-sinh/SGS/SGS-D1-2022/H%C6%B0%E1%BB%9Bng%20d%E1%BA%ABn%20ghi%20danh%20ch%C6%B0%C6%A1ng%20tr%C3%ACnh%204%2B1.pdf) ).\n",
      "\n",
      "* Danh mục ngành phù hợp với ngành đào tạo trình độ thạc sĩ (\n",
      "\n",
      " [xem tại đây](/sites/admission/files/Tuyen-sinh/SGS/4%2B1/Danh%20m%E1%BB%A5c%20ng%C3%A0nh%20ph%C3%B9%20h%E1%BB%A3p.xlsx) )\n",
      "\n",
      " THỜI KHÓA BIỂU * Lịch năm học (\n",
      "\n",
      " [tại đây](https://grad.tdtu.edu.vn/lich-nam-hoc) );\n",
      "\n",
      "* Thời khóa biểu (\n",
      "\n",
      " [tại đây](https://grad.tdtu.edu.vn/dao-tao/thoi-khoa-bieu) ).\n",
      "\n",
      " HỌC BỔNG – HỌC PHÍ * Học bổng: (\n",
      "\n",
      " [tại đây](https://grad.tdtu.edu.vn/hoc-phi-hoc-bong/hoc-bong-chuong-trinh-4-1) )\n",
      "\n",
      "* Học phí năm học 2023-2024:\n",
      "\n",
      "\t+ Học phần chung: 610.000đ/tín chỉ (chưa áp dụng chính sách học bổng);\n",
      "\n",
      "\t+ Học phần cơ sở ngành và chuyên ngành: tùy thuộc vào ngành/chuyên ngành. Mức học phí toàn khóa đào tạo trình độ thạc sĩ tham khảo [tại đây](https://tdtu.edu.vn/sites/www/files/Cong-khai-thong-tin/BM21-1.pdf) .\n",
      "\n",
      " **CÔNG NHẬN MÔN HỌC ĐẠI HỌC VÀ HỌC PHẦN SAU ĐẠI HỌC**\n",
      "\n",
      "|  |  |  |\n",
      "\n",
      "| --- | --- | --- |\n",
      "\n",
      "| **Nội dung**  | **Công nhận môn học bậc đại học**  | **Công nhận học phần bậc cao học**  |\n",
      "\n",
      "| Quyền lợi | Sinh viên được công nhận điểm những môn học ở bậc đại học (nằm trong\n",
      "\n",
      " [danh mục tương đương](http://grad.tdtu.edu.vn/dao-tao/danh-muc-mon-hoc-hoc-phan-tuong-duong) ) khi hoàn thành các học phần ở chương trình 4+1. | Được xem xét công nhận kết quả các học phần đã hoàn thành đạt yêu cầu vào chương trình đào tạo sau đại học ngay khi người học được công nhận là học viên. |\n",
      "\n",
      "| Hồ sơ | * Đơn xin công nhận điểm môn học;\n",
      "\n",
      "* Bảng điểm sau đại học (nộp đơn xin cấp bảng điểm trong hệ thống thông tin học viên).\n",
      "\n",
      " | * Đơn xin công nhận điểm học phần;\n",
      "\n",
      "* Bảng điểm sau đại học (nộp đơn xin cấp bảng điểm trong hệ thống thông tin học viên).\n",
      "\n",
      " |\n",
      "\n",
      "| Thời điểm nhận hồ sơ | Trong vòng 12 tháng tính từ thời điểm hoàn thành học phần | Trong vòng 06 tháng tính từ thời điểm trúng tuyển và nhập học chương trình đào tạo trình độ thạc sĩ và theo thông báo của Phòng Sau đại học |\n",
      "\n",
      "| Nơi nhận hồ sơ | Tổ tư vấn học đường | Phòng Sau đại học |\n",
      "\n",
      "**BIỂU MẪU LIÊN QUAN** \n",
      "\n",
      "* [Hướng dẫn cho sinh viên ghi danh chương trình 4+1](/sites/admission/files/Tuyen-sinh/SGS/SGS-D1-2022/H%C6%B0%E1%BB%9Bng%20d%E1%BA%ABn%20ghi%20danh%20ch%C6%B0%C6%A1ng%20tr%C3%ACnh%204%2B1.pdf) ;\n",
      "\n",
      "* [Đơn xin công nhận điểm môn học;](/sites/admission/files/Tuyen-sinh/SGS/4%2B1/%C4%90%C6%A1n%20xin%20c%C3%B4ng%20nh%E1%BA%ADn%20%C4%91i%E1%BB%83m%20m%C3%B4n%20h%E1%BB%8Dc%20%C4%90H.docx)\n",
      "\n",
      "* [Đơn xin công nhận điểm học phần.](/sites/graduate/files/GRAD/Bi%E1%BB%83u%20m%E1%BA%ABu/Vi%E1%BB%87t%20Nam/Th%E1%BA%A1c%20s%C4%A9/%C4%90%C6%A1n%20xin%20c%C3%B4ng%20nh%E1%BA%ADn%20%C4%91i%E1%BB%83m%20h%E1%BB%8Dc%20ph%E1%BA%A7n%20S%C4%90H.docx)\n",
      "\n"
     ]
    }
   ],
   "source": [
    "print(a)\n",
    "print(txt)"
   ]
  }
 ],
 "metadata": {
  "kernelspec": {
   "display_name": "uni",
   "language": "python",
   "name": "python3"
  },
  "language_info": {
   "codemirror_mode": {
    "name": "ipython",
    "version": 3
   },
   "file_extension": ".py",
   "mimetype": "text/x-python",
   "name": "python",
   "nbconvert_exporter": "python",
   "pygments_lexer": "ipython3",
   "version": "3.9.18"
  },
  "orig_nbformat": 4
 },
 "nbformat": 4,
 "nbformat_minor": 2
}
