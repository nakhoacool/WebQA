{
 "cells": [
  {
   "cell_type": "markdown",
   "id": "e22a1840-bdd7-405a-9efe-74695ab89d12",
   "metadata": {},
   "source": [
    "# Document split experiment\n",
    "@author Hieu\n",
    "@date 30/12/2023\n",
    "\n",
    "1. Tools\n",
    "- FAISS\n",
    "- LaBSE"
   ]
  },
  {
   "cell_type": "code",
   "execution_count": 3,
   "id": "1d85dfde-cba6-4659-9bd0-80bcc20dd05a",
   "metadata": {},
   "outputs": [
    {
     "data": {
      "text/plain": [
       "(40, 3)"
      ]
     },
     "execution_count": 3,
     "metadata": {},
     "output_type": "execute_result"
    }
   ],
   "source": [
    "import pandas as pd\n",
    "from langchain.embeddings import HuggingFaceInferenceAPIEmbeddings, HuggingFaceInstructEmbeddings\n",
    "from langchain_community.vectorstores import FAISS\n",
    "from langchain_community.vectorstores.elasticsearch import ElasticsearchStore\n",
    "from getpass import getpass\n",
    "import sys\n",
    "sys.path.append(\"../\")\n",
    "from src.config import Configuration\n",
    "conf = Configuration()\n",
    "\n",
    "# HUGGING_FACE_KEY = getpass(\"Hugging face key: \")\n",
    "# HUGGING_FACE_KEY = open(\"../.hg_key\").read()\n",
    "db_df = pd.read_csv(\"../data/majors_info.csv\")\n",
    "db_df.shape"
   ]
  },
  {
   "cell_type": "code",
   "execution_count": 4,
   "id": "aba14b9c-2ef0-42b6-91c1-b66670f70ceb",
   "metadata": {},
   "outputs": [],
   "source": [
    "# LaBSE\n",
    "# MODEL = \"sentence-transformers/paraphrase-multilingual-MiniLM-L12-v2\"\n",
    "# MODEL = \"keepitreal/vietnamese-sbert\"\n",
    "\n",
    "MODEL = \"sentence-transformers/LaBSE\"\n",
    "embeddings = HuggingFaceInferenceAPIEmbeddings(\n",
    "    api_key=conf.load_hg_token(3),\n",
    "    model_name=MODEL)\n"
   ]
  },
  {
   "cell_type": "markdown",
   "id": "ca3cd308-1eb1-45c2-b726-ae40d2236024",
   "metadata": {},
   "source": [
    "# Load Data"
   ]
  },
  {
   "cell_type": "code",
   "execution_count": 4,
   "id": "d8381ebc-8d16-4852-8a52-9d7384d5ea63",
   "metadata": {},
   "outputs": [],
   "source": [
    "from langchain.text_splitter import RecursiveCharacterTextSplitter\n",
    "\n",
    "\n",
    "text_splitter = RecursiveCharacterTextSplitter(\n",
    "    separators=[\"\\n\\n\", \"\\n\"],\n",
    "    chunk_size=1600,\n",
    "    chunk_overlap=100,\n",
    "    length_function=len,\n",
    "    is_separator_regex=False,\n",
    ")"
   ]
  },
  {
   "cell_type": "code",
   "execution_count": 5,
   "id": "13eb2e20-155c-4f30-88f1-06a277504e36",
   "metadata": {},
   "outputs": [],
   "source": [
    "db = []\n",
    "dist = []\n",
    "for i, data in db_df.iterrows():\n",
    "    doc = text_splitter.create_documents([data['Description']])\n",
    "    dist.append(len(doc))\n",
    "    [d.metadata.update({\"doc_title\": data['Major']}) for d in doc]\n",
    "    db.extend(doc)"
   ]
  },
  {
   "cell_type": "code",
   "execution_count": 6,
   "id": "a3970735-045a-4d61-a5a3-ecfceee82b13",
   "metadata": {},
   "outputs": [
    {
     "data": {
      "text/plain": [
       "Counter({3: 22, 2: 17, 4: 1})"
      ]
     },
     "execution_count": 6,
     "metadata": {},
     "output_type": "execute_result"
    }
   ],
   "source": [
    "from collections import Counter\n",
    "Counter(dist)"
   ]
  },
  {
   "cell_type": "code",
   "execution_count": 7,
   "id": "6df46f72-ebe6-45f5-b33e-b27ef37982d4",
   "metadata": {},
   "outputs": [
    {
     "data": {
      "text/plain": [
       "104"
      ]
     },
     "execution_count": 7,
     "metadata": {},
     "output_type": "execute_result"
    }
   ],
   "source": [
    "len(db)"
   ]
  },
  {
   "cell_type": "code",
   "execution_count": 5,
   "id": "30afea5f-a276-4d1b-b80a-778aae37b5d2",
   "metadata": {},
   "outputs": [
    {
     "data": {
      "text/plain": [
       "113"
      ]
     },
     "execution_count": 5,
     "metadata": {},
     "output_type": "execute_result"
    }
   ],
   "source": [
    "faiss_db = FAISS.from_documents(db, embeddings)\n",
    "len(db)"
   ]
  },
  {
   "cell_type": "markdown",
   "id": "cf5716ab-9c37-429a-b4b5-e3acca1252db",
   "metadata": {
    "jp-MarkdownHeadingCollapsed": true
   },
   "source": [
    "# Learn"
   ]
  },
  {
   "cell_type": "code",
   "execution_count": 31,
   "id": "3bf586fd-597f-4895-9897-0b71dce0a990",
   "metadata": {},
   "outputs": [
    {
     "name": "stdout",
     "output_type": "stream",
     "text": [
      "1.0123114538765887\n",
      "1.1077420049467213\n",
      "1.095200175904101\n",
      "0.9544046579578791\n",
      "1.2669979125528543\n",
      "1.163662254111237\n",
      "0.973616333800583\n"
     ]
    }
   ],
   "source": [
    "import numpy as np\n",
    "\n",
    "a = embeddings.embed_query(\"Tôi muốn học về lập trình\")\n",
    "test_docs = embeddings.embed_documents(\\\n",
    "    [\"kỹ thuật xây dựng\", \"xây dựng\",\\\n",
    "     \"phần mềm\", \"khoa học máy tính\", \"python\", \"java\",\\\n",
    "     \"Phần mềm vẽ kỹ thuật cho thiết kế\"])\n",
    "\n",
    "npa = np.array(a)\n",
    "for b in test_docs:\n",
    "    npb = np.array(b)\n",
    "    distance = np.linalg.norm(npa - npb)\n",
    "    print(distance)"
   ]
  },
  {
   "cell_type": "markdown",
   "id": "ce9ff1ab-c150-48ff-8509-9235f0c1630a",
   "metadata": {
    "jp-MarkdownHeadingCollapsed": true
   },
   "source": [
    "# RUN"
   ]
  },
  {
   "cell_type": "code",
   "execution_count": 11,
   "id": "30057351-8ae5-4071-9549-b9563528f9d6",
   "metadata": {
    "scrolled": true
   },
   "outputs": [
    {
     "name": "stdout",
     "output_type": "stream",
     "text": [
      "Query: Tôi muốn học về lập trình\n",
      "{'doc_title': 'Kỹ thuật phần mềm'} - euclid:  0.86084354\n",
      "{'doc_title': 'Kiến trúc'} - euclid:  0.8648312\n",
      "{'doc_title': 'Kỹ thuật phần mềm'} - euclid:  0.87316966\n",
      "{'doc_title': 'Kỹ thuật điện tử - viễn thông'} - euclid:  0.9010457\n"
     ]
    }
   ],
   "source": [
    "query = \"Tôi muốn học về lập trình\"\n",
    "res = faiss_db.similarity_search_with_score(query)\n",
    "print(\"Query: \"+query)\n",
    "a = [print(r[0].metadata, \"- euclid: \", r[1]) for r in res]"
   ]
  },
  {
   "cell_type": "code",
   "execution_count": 12,
   "id": "8dcc332b-235d-45ea-a2d9-ef5b38e5af54",
   "metadata": {},
   "outputs": [
    {
     "name": "stdout",
     "output_type": "stream",
     "text": [
      "Query: Hãy tư vấn ngành công nghệ thông tin\n",
      "{'doc_title': 'Khoa học máy tính'} - euclid:  1.101366\n",
      "{'doc_title': 'Khoa học máy tính'} - euclid:  1.1319034\n",
      "{'doc_title': 'Xã hội học'} - euclid:  1.1676772\n",
      "{'doc_title': 'Kỹ thuật phần mềm'} - euclid:  1.1724229\n"
     ]
    }
   ],
   "source": [
    "query = \"Hãy tư vấn ngành công nghệ thông tin\"\n",
    "res = faiss_db.similarity_search_with_score(query)\n",
    "print(\"Query: \"+query)\n",
    "a = [print(r[0].metadata, \"- euclid: \", r[1]) for r in res]"
   ]
  },
  {
   "cell_type": "code",
   "execution_count": 13,
   "id": "2908ac6d-1ee6-4e57-9a2f-5b01c13e9839",
   "metadata": {},
   "outputs": [
    {
     "name": "stdout",
     "output_type": "stream",
     "text": [
      "{'doc_title': 'Toán ứng dụng'} - euclid:  1.0212147\n",
      "{'doc_title': 'Thống kê'} - euclid:  1.0324715\n",
      "{'doc_title': 'Quản trị kinh doanh – Chuyên ngành Quản trị nguồn nhân lực'} - euclid:  1.0586259\n",
      "{'doc_title': 'Thống kê'} - euclid:  1.0705578\n"
     ]
    }
   ],
   "source": [
    "query = \"Tôi học giỏi môn toán nhất, nếu vậy thì nên theo ngành nào\"\n",
    "res = faiss_db.similarity_search_with_score(query)\n",
    "a = [print(r[0].metadata, \"- euclid: \", r[1]) for r in res]"
   ]
  },
  {
   "cell_type": "code",
   "execution_count": 14,
   "id": "385d5e5d-573e-4b53-b220-a99e572b95a4",
   "metadata": {},
   "outputs": [
    {
     "name": "stdout",
     "output_type": "stream",
     "text": [
      "{'doc_title': 'Toán ứng dụng'} - euclid:  0.9985891\n",
      "{'doc_title': 'Thống kê'} - euclid:  1.0013721\n",
      "{'doc_title': 'Thống kê'} - euclid:  1.006902\n",
      "{'doc_title': 'Quản trị kinh doanh – Chuyên ngành Quản trị nguồn nhân lực'} - euclid:  1.0236031\n"
     ]
    }
   ],
   "source": [
    "query = \"Tôi học giỏi môn toán nhất\"\n",
    "res = faiss_db.similarity_search_with_score(query)\n",
    "a = [print(r[0].metadata, \"- euclid: \", r[1]) for r in res]"
   ]
  },
  {
   "cell_type": "code",
   "execution_count": 15,
   "id": "18039e18-71fe-4a8f-a1e5-ebd9a1a0f261",
   "metadata": {},
   "outputs": [
    {
     "name": "stdout",
     "output_type": "stream",
     "text": [
      "{'doc_title': 'Toán ứng dụng'} - euclid:  1.0613945\n",
      "{'doc_title': 'Thống kê'} - euclid:  1.1189573\n",
      "{'doc_title': 'Thống kê'} - euclid:  1.1418173\n",
      "{'doc_title': 'Khoa học máy tính'} - euclid:  1.1636293\n"
     ]
    }
   ],
   "source": [
    "query = \"Toán học\"\n",
    "res = faiss_db.similarity_search_with_score(query)\n",
    "a = [print(r[0].metadata, \"- euclid: \", r[1]) for r in res]"
   ]
  },
  {
   "cell_type": "code",
   "execution_count": 16,
   "id": "4ea3f4c9-11df-4670-b15c-fe9355922076",
   "metadata": {},
   "outputs": [
    {
     "name": "stdout",
     "output_type": "stream",
     "text": [
      "{'doc_title': 'Kỹ thuật phần mềm'} - euclid:  1.0318902\n",
      "{'doc_title': 'Khoa học máy tính'} - euclid:  1.0495627\n",
      "{'doc_title': 'Việt Nam học – Chuyên ngành Du lịch và lữ hành'} - euclid:  1.0708798\n",
      "{'doc_title': 'Việt Nam học – Chuyên ngành Du lịch và Quản lý du lịch'} - euclid:  1.0749915\n"
     ]
    }
   ],
   "source": [
    "query = \"Tôi có định hướng làm về AI thì nên theo học ngành nào?\"\n",
    "res = faiss_db.similarity_search_with_score(query)\n",
    "a = [print(r[0].metadata, \"- euclid: \", r[1]) for r in res]"
   ]
  },
  {
   "cell_type": "code",
   "execution_count": 17,
   "id": "32700f04-fca0-42e6-bc02-c64bf75bdc3d",
   "metadata": {},
   "outputs": [
    {
     "name": "stdout",
     "output_type": "stream",
     "text": [
      "{'doc_title': 'Khoa học máy tính'} - euclid:  1.4101307\n",
      "{'doc_title': 'Khoa học máy tính'} - euclid:  1.4656203\n",
      "{'doc_title': 'Toán ứng dụng'} - euclid:  1.4928157\n",
      "{'doc_title': 'Kỹ thuật phần mềm'} - euclid:  1.495049\n"
     ]
    }
   ],
   "source": [
    "query = \"AI\"\n",
    "res = faiss_db.similarity_search_with_score(query)\n",
    "a = [print(r[0].metadata, \"- euclid: \", r[1]) for r in res]"
   ]
  },
  {
   "cell_type": "code",
   "execution_count": 18,
   "id": "709cbf84-31af-4e60-94c9-c71a8d28c786",
   "metadata": {},
   "outputs": [
    {
     "name": "stdout",
     "output_type": "stream",
     "text": [
      "{'doc_title': 'Kiến trúc'} - euclid:  0.98648745\n",
      "{'doc_title': 'Thiết kế nội thất'} - euclid:  0.98955333\n",
      "{'doc_title': 'Thiết kế đồ họa'} - euclid:  0.99542654\n",
      "{'doc_title': 'Toán ứng dụng'} - euclid:  0.9974606\n"
     ]
    }
   ],
   "source": [
    "query = \"Toán học và vẽ\"\n",
    "res = faiss_db.similarity_search_with_score(query)\n",
    "a = [print(r[0].metadata, \"- euclid: \", r[1]) for r in res]"
   ]
  },
  {
   "cell_type": "code",
   "execution_count": 23,
   "id": "b54feb21-c3a1-4138-bec4-198c4d6b7342",
   "metadata": {},
   "outputs": [
    {
     "name": "stdout",
     "output_type": "stream",
     "text": [
      "{'doc_title': 'Công tác xã hội'} - euclid:  0.88076824\n",
      "{'doc_title': 'Xã hội học'} - euclid:  0.9183835\n",
      "{'doc_title': 'Công tác xã hội'} - euclid:  0.9257453\n",
      "{'doc_title': 'Việt Nam học - Chuyên ngành Việt ngữ học và văn hóa xã hội Việt Nam'} - euclid:  1.018566\n"
     ]
    }
   ],
   "source": [
    "query = \"Tôi muốn cống hiến cho xã hội\"\n",
    "res = faiss_db.similarity_search_with_score(query)\n",
    "a = [print(r[0].metadata, \"- euclid: \", r[1]) for r in res]"
   ]
  },
  {
   "cell_type": "code",
   "execution_count": 25,
   "id": "da1863b7-b6ba-4fba-8e49-3d240c244dfe",
   "metadata": {},
   "outputs": [
    {
     "name": "stdout",
     "output_type": "stream",
     "text": [
      "{'doc_title': 'Luật'} - euclid:  1.42275\n",
      "{'doc_title': 'Công tác xã hội'} - euclid:  1.4256456\n",
      "{'doc_title': 'Công tác xã hội'} - euclid:  1.4261575\n",
      "{'doc_title': 'Thiết kế nội thất'} - euclid:  1.4427919\n"
     ]
    }
   ],
   "source": [
    "query = \"đảng viên\"\n",
    "res = faiss_db.similarity_search_with_score(query)\n",
    "a = [print(r[0].metadata, \"- euclid: \", r[1]) for r in res]"
   ]
  },
  {
   "cell_type": "code",
   "execution_count": null,
   "id": "682448b8-e2a5-40a4-8056-e85fb4c71742",
   "metadata": {},
   "outputs": [],
   "source": [
    "https://github.com/Searchium-ai/hybrid-search"
   ]
  },
  {
   "cell_type": "markdown",
   "id": "d13a6598-fbfe-48ac-9977-4c95366f890f",
   "metadata": {},
   "source": [
    "# TEST"
   ]
  },
  {
   "cell_type": "code",
   "execution_count": 5,
   "id": "1560d21c-53c3-4747-8ed6-5cd02ad12aae",
   "metadata": {},
   "outputs": [],
   "source": [
    "PATH = '../data/test_major'\n",
    "\n",
    "pv_qas = pd.read_csv(f\"{PATH}/private_test_case.csv\")\n",
    "qas = pd.read_csv(f\"{PATH}/public_test_case.csv\")"
   ]
  },
  {
   "cell_type": "code",
   "execution_count": 6,
   "id": "06de0f9c-2a40-4700-b920-b7d4b25f76bc",
   "metadata": {},
   "outputs": [
    {
     "ename": "NameError",
     "evalue": "name 'db' is not defined",
     "output_type": "error",
     "traceback": [
      "\u001b[0;31m---------------------------------------------------------------------------\u001b[0m",
      "\u001b[0;31mNameError\u001b[0m                                 Traceback (most recent call last)",
      "Cell \u001b[0;32mIn[6], line 1\u001b[0m\n\u001b[0;32m----> 1\u001b[0m es \u001b[38;5;241m=\u001b[39m ElasticsearchStore\u001b[38;5;241m.\u001b[39mfrom_documents(\u001b[43mdb\u001b[49m, embedding\u001b[38;5;241m=\u001b[39membeddings,\n\u001b[1;32m      2\u001b[0m                           es_connection\u001b[38;5;241m=\u001b[39mconf\u001b[38;5;241m.\u001b[39mload_elasticsearch_connection(),\n\u001b[1;32m      3\u001b[0m                           index_name\u001b[38;5;241m=\u001b[39m\u001b[38;5;124m\"\u001b[39m\u001b[38;5;124mtest-db\u001b[39m\u001b[38;5;124m\"\u001b[39m,\n\u001b[1;32m      4\u001b[0m                           distance_strategy\u001b[38;5;241m=\u001b[39m\u001b[38;5;124m\"\u001b[39m\u001b[38;5;124mEUCLIDEAN_DISTANCE\u001b[39m\u001b[38;5;124m\"\u001b[39m)\n",
      "\u001b[0;31mNameError\u001b[0m: name 'db' is not defined"
     ]
    }
   ],
   "source": [
    "es = ElasticsearchStore.from_documents(db, embedding=embeddings,\n",
    "                          es_connection=conf.load_elasticsearch_connection(),\n",
    "                          index_name=\"test-db\",\n",
    "                          distance_strategy=\"EUCLIDEAN_DISTANCE\")"
   ]
  },
  {
   "cell_type": "code",
   "execution_count": 7,
   "id": "0d39b3a8-fc1f-412f-a181-798b81d8a0bb",
   "metadata": {},
   "outputs": [],
   "source": [
    "es = ElasticsearchStore(embedding=embeddings,\n",
    "                          es_connection=conf.load_elasticsearch_connection(),\n",
    "                          index_name=\"test-db\",\n",
    "                          distance_strategy=\"EUCLIDEAN_DISTANCE\")"
   ]
  },
  {
   "cell_type": "markdown",
   "id": "ec15ea91-0daf-4f23-a027-66ba1d0aeb44",
   "metadata": {},
   "source": [
    "# Match 1"
   ]
  },
  {
   "cell_type": "code",
   "execution_count": 6,
   "id": "c5e7de9a-0d49-4b30-86ff-064fa5fb9baa",
   "metadata": {},
   "outputs": [
    {
     "data": {
      "text/plain": [
       "0.6858974358974359"
      ]
     },
     "execution_count": 6,
     "metadata": {},
     "output_type": "execute_result"
    }
   ],
   "source": [
    "\n",
    "for id, row in qas.iterrows():\n",
    "    query = row['public question']\n",
    "    res = faiss_db.similarity_search_with_score(query)\n",
    "    target_id = res[0][0].metadata['id']\n",
    "    if(int(target_id) == int(row['doc_id'])):\n",
    "        correct += 1\n",
    "correct/qas.shape[0]"
   ]
  },
  {
   "cell_type": "markdown",
   "id": "1169bb58-81aa-4d75-a942-d31a780298bb",
   "metadata": {},
   "source": [
    "# Benchmark LaBSE"
   ]
  },
  {
   "cell_type": "code",
   "execution_count": 8,
   "id": "d2eba244-b8f3-4156-86ad-8e00a013e883",
   "metadata": {},
   "outputs": [],
   "source": [
    "def test_major(retiever, limit):\n",
    "    # match top 2\n",
    "    correct = 0\n",
    "    total = 0\n",
    "    for id, row in qas.iterrows():\n",
    "        query = row['public question']\n",
    "        total += 1\n",
    "        try:\n",
    "            res = retiever.similarity_search_with_score(query)\n",
    "            for idx, r in enumerate(res):\n",
    "                target_id = r[0].metadata['id']\n",
    "                if(int(target_id) == int(row['doc_id'])):\n",
    "                    correct += 1\n",
    "                    break\n",
    "                if idx+1 == limit:\n",
    "                    break\n",
    "        except:\n",
    "            print(query)\n",
    "    return correct/total\n",
    "\n",
    "def test_major_private(retiever, limit):\n",
    "    # match top 2\n",
    "    correct = 0\n",
    "    total = 0\n",
    "    for id, row in pv_qas.iterrows():\n",
    "        query = row['private question']\n",
    "        total += 1\n",
    "        try:\n",
    "            res = retiever.similarity_search_with_score(query)\n",
    "            for idx, r in enumerate(res):\n",
    "                target_id = r[0].metadata['id']\n",
    "                if(int(target_id) == int(row['doc_id'])):\n",
    "                    correct += 1\n",
    "                    break\n",
    "                if idx+1 == limit:\n",
    "                    break\n",
    "        except Error:\n",
    "            print(e)\n",
    "            print(query)\n",
    "            break\n",
    "    return correct/total"
   ]
  },
  {
   "cell_type": "code",
   "execution_count": 6,
   "id": "bf683bb1-f94b-4934-a6f6-6aa0d2de3f65",
   "metadata": {},
   "outputs": [
    {
     "data": {
      "text/plain": [
       "0.6858974358974359"
      ]
     },
     "execution_count": 6,
     "metadata": {},
     "output_type": "execute_result"
    }
   ],
   "source": [
    "b = test_major(faiss_db, 1)\n",
    "b"
   ]
  },
  {
   "cell_type": "code",
   "execution_count": 7,
   "id": "a58f1953-fd02-4022-9bc7-4557107e0b54",
   "metadata": {},
   "outputs": [
    {
     "data": {
      "text/plain": [
       "0.8269230769230769"
      ]
     },
     "execution_count": 7,
     "metadata": {},
     "output_type": "execute_result"
    }
   ],
   "source": [
    "b = test_major(faiss_db, 2)\n",
    "b"
   ]
  },
  {
   "cell_type": "code",
   "execution_count": 9,
   "id": "6dcd54c4-5177-4a41-b4a9-d956829e68b0",
   "metadata": {},
   "outputs": [
    {
     "ename": "NameError",
     "evalue": "name 'e' is not defined",
     "output_type": "error",
     "traceback": [
      "\u001b[0;31m---------------------------------------------------------------------------\u001b[0m",
      "\u001b[0;31mNotFoundError\u001b[0m                             Traceback (most recent call last)",
      "Cell \u001b[0;32mIn[8], line 29\u001b[0m, in \u001b[0;36mtest_major_private\u001b[0;34m(retiever, limit)\u001b[0m\n\u001b[1;32m     28\u001b[0m \u001b[38;5;28;01mtry\u001b[39;00m:\n\u001b[0;32m---> 29\u001b[0m     res \u001b[38;5;241m=\u001b[39m \u001b[43mretiever\u001b[49m\u001b[38;5;241;43m.\u001b[39;49m\u001b[43msimilarity_search_with_score\u001b[49m\u001b[43m(\u001b[49m\u001b[43mquery\u001b[49m\u001b[43m)\u001b[49m\n\u001b[1;32m     30\u001b[0m     \u001b[38;5;28;01mfor\u001b[39;00m idx, r \u001b[38;5;129;01min\u001b[39;00m \u001b[38;5;28menumerate\u001b[39m(res):\n",
      "File \u001b[0;32m~/miniconda3/envs/uni/lib/python3.9/site-packages/langchain_community/vectorstores/elasticsearch.py:709\u001b[0m, in \u001b[0;36mElasticsearchStore.similarity_search_with_score\u001b[0;34m(self, query, k, filter, **kwargs)\u001b[0m\n\u001b[1;32m    699\u001b[0m \u001b[38;5;250m\u001b[39m\u001b[38;5;124;03m\"\"\"Return Elasticsearch documents most similar to query, along with scores.\u001b[39;00m\n\u001b[1;32m    700\u001b[0m \n\u001b[1;32m    701\u001b[0m \u001b[38;5;124;03mArgs:\u001b[39;00m\n\u001b[0;32m   (...)\u001b[0m\n\u001b[1;32m    707\u001b[0m \u001b[38;5;124;03m    List of Documents most similar to the query and score for each\u001b[39;00m\n\u001b[1;32m    708\u001b[0m \u001b[38;5;124;03m\"\"\"\u001b[39;00m\n\u001b[0;32m--> 709\u001b[0m \u001b[38;5;28;01mreturn\u001b[39;00m \u001b[38;5;28;43mself\u001b[39;49m\u001b[38;5;241;43m.\u001b[39;49m\u001b[43m_search\u001b[49m\u001b[43m(\u001b[49m\u001b[43mquery\u001b[49m\u001b[38;5;241;43m=\u001b[39;49m\u001b[43mquery\u001b[49m\u001b[43m,\u001b[49m\u001b[43m \u001b[49m\u001b[43mk\u001b[49m\u001b[38;5;241;43m=\u001b[39;49m\u001b[43mk\u001b[49m\u001b[43m,\u001b[49m\u001b[43m \u001b[49m\u001b[38;5;28;43mfilter\u001b[39;49m\u001b[38;5;241;43m=\u001b[39;49m\u001b[38;5;28;43mfilter\u001b[39;49m\u001b[43m,\u001b[49m\u001b[43m \u001b[49m\u001b[38;5;241;43m*\u001b[39;49m\u001b[38;5;241;43m*\u001b[39;49m\u001b[43mkwargs\u001b[49m\u001b[43m)\u001b[49m\n",
      "File \u001b[0;32m~/miniconda3/envs/uni/lib/python3.9/site-packages/langchain_community/vectorstores/elasticsearch.py:788\u001b[0m, in \u001b[0;36mElasticsearchStore._search\u001b[0;34m(self, query, k, query_vector, fetch_k, fields, filter, custom_query, doc_builder, **kwargs)\u001b[0m\n\u001b[1;32m    787\u001b[0m \u001b[38;5;66;03m# Perform the kNN search on the Elasticsearch index and return the results.\u001b[39;00m\n\u001b[0;32m--> 788\u001b[0m response \u001b[38;5;241m=\u001b[39m \u001b[38;5;28;43mself\u001b[39;49m\u001b[38;5;241;43m.\u001b[39;49m\u001b[43mclient\u001b[49m\u001b[38;5;241;43m.\u001b[39;49m\u001b[43msearch\u001b[49m\u001b[43m(\u001b[49m\n\u001b[1;32m    789\u001b[0m \u001b[43m    \u001b[49m\u001b[43mindex\u001b[49m\u001b[38;5;241;43m=\u001b[39;49m\u001b[38;5;28;43mself\u001b[39;49m\u001b[38;5;241;43m.\u001b[39;49m\u001b[43mindex_name\u001b[49m\u001b[43m,\u001b[49m\n\u001b[1;32m    790\u001b[0m \u001b[43m    \u001b[49m\u001b[38;5;241;43m*\u001b[39;49m\u001b[38;5;241;43m*\u001b[39;49m\u001b[43mquery_body\u001b[49m\u001b[43m,\u001b[49m\n\u001b[1;32m    791\u001b[0m \u001b[43m    \u001b[49m\u001b[43msize\u001b[49m\u001b[38;5;241;43m=\u001b[39;49m\u001b[43mk\u001b[49m\u001b[43m,\u001b[49m\n\u001b[1;32m    792\u001b[0m \u001b[43m    \u001b[49m\u001b[43msource\u001b[49m\u001b[38;5;241;43m=\u001b[39;49m\u001b[43mfields\u001b[49m\u001b[43m,\u001b[49m\n\u001b[1;32m    793\u001b[0m \u001b[43m\u001b[49m\u001b[43m)\u001b[49m\n\u001b[1;32m    795\u001b[0m \u001b[38;5;28;01mdef\u001b[39;00m \u001b[38;5;21mdefault_doc_builder\u001b[39m(hit: Dict) \u001b[38;5;241m-\u001b[39m\u001b[38;5;241m>\u001b[39m Document:\n",
      "File \u001b[0;32m~/miniconda3/envs/uni/lib/python3.9/site-packages/elasticsearch/_sync/client/utils.py:402\u001b[0m, in \u001b[0;36m_rewrite_parameters.<locals>.wrapper.<locals>.wrapped\u001b[0;34m(*args, **kwargs)\u001b[0m\n\u001b[1;32m    400\u001b[0m             \u001b[38;5;28;01mpass\u001b[39;00m\n\u001b[0;32m--> 402\u001b[0m \u001b[38;5;28;01mreturn\u001b[39;00m \u001b[43mapi\u001b[49m\u001b[43m(\u001b[49m\u001b[38;5;241;43m*\u001b[39;49m\u001b[43margs\u001b[49m\u001b[43m,\u001b[49m\u001b[43m \u001b[49m\u001b[38;5;241;43m*\u001b[39;49m\u001b[38;5;241;43m*\u001b[39;49m\u001b[43mkwargs\u001b[49m\u001b[43m)\u001b[49m\n",
      "File \u001b[0;32m~/miniconda3/envs/uni/lib/python3.9/site-packages/elasticsearch/_sync/client/__init__.py:3733\u001b[0m, in \u001b[0;36mElasticsearch.search\u001b[0;34m(self, index, aggregations, aggs, allow_no_indices, allow_partial_search_results, analyze_wildcard, analyzer, batched_reduce_size, ccs_minimize_roundtrips, collapse, default_operator, df, docvalue_fields, error_trace, expand_wildcards, explain, ext, fields, filter_path, from_, highlight, human, ignore_throttled, ignore_unavailable, indices_boost, knn, lenient, max_concurrent_shard_requests, min_compatible_shard_node, min_score, pit, post_filter, pre_filter_shard_size, preference, pretty, profile, q, query, rank, request_cache, rescore, rest_total_hits_as_int, routing, runtime_mappings, script_fields, scroll, search_after, search_type, seq_no_primary_term, size, slice, sort, source, source_excludes, source_includes, stats, stored_fields, suggest, suggest_field, suggest_mode, suggest_size, suggest_text, terminate_after, timeout, track_scores, track_total_hits, typed_keys, version)\u001b[0m\n\u001b[1;32m   3732\u001b[0m     __headers[\u001b[38;5;124m\"\u001b[39m\u001b[38;5;124mcontent-type\u001b[39m\u001b[38;5;124m\"\u001b[39m] \u001b[38;5;241m=\u001b[39m \u001b[38;5;124m\"\u001b[39m\u001b[38;5;124mapplication/json\u001b[39m\u001b[38;5;124m\"\u001b[39m\n\u001b[0;32m-> 3733\u001b[0m \u001b[38;5;28;01mreturn\u001b[39;00m \u001b[38;5;28;43mself\u001b[39;49m\u001b[38;5;241;43m.\u001b[39;49m\u001b[43mperform_request\u001b[49m\u001b[43m(\u001b[49m\u001b[43m  \u001b[49m\u001b[38;5;66;43;03m# type: ignore[return-value]\u001b[39;49;00m\n\u001b[1;32m   3734\u001b[0m \u001b[43m    \u001b[49m\u001b[38;5;124;43m\"\u001b[39;49m\u001b[38;5;124;43mPOST\u001b[39;49m\u001b[38;5;124;43m\"\u001b[39;49m\u001b[43m,\u001b[49m\u001b[43m \u001b[49m\u001b[43m__path\u001b[49m\u001b[43m,\u001b[49m\u001b[43m \u001b[49m\u001b[43mparams\u001b[49m\u001b[38;5;241;43m=\u001b[39;49m\u001b[43m__query\u001b[49m\u001b[43m,\u001b[49m\u001b[43m \u001b[49m\u001b[43mheaders\u001b[49m\u001b[38;5;241;43m=\u001b[39;49m\u001b[43m__headers\u001b[49m\u001b[43m,\u001b[49m\u001b[43m \u001b[49m\u001b[43mbody\u001b[49m\u001b[38;5;241;43m=\u001b[39;49m\u001b[43m__body\u001b[49m\n\u001b[1;32m   3735\u001b[0m \u001b[43m\u001b[49m\u001b[43m)\u001b[49m\n",
      "File \u001b[0;32m~/miniconda3/envs/uni/lib/python3.9/site-packages/elasticsearch/_sync/client/_base.py:320\u001b[0m, in \u001b[0;36mBaseClient.perform_request\u001b[0;34m(self, method, path, params, headers, body)\u001b[0m\n\u001b[1;32m    318\u001b[0m             \u001b[38;5;28;01mpass\u001b[39;00m\n\u001b[0;32m--> 320\u001b[0m     \u001b[38;5;28;01mraise\u001b[39;00m HTTP_EXCEPTIONS\u001b[38;5;241m.\u001b[39mget(meta\u001b[38;5;241m.\u001b[39mstatus, ApiError)(\n\u001b[1;32m    321\u001b[0m         message\u001b[38;5;241m=\u001b[39mmessage, meta\u001b[38;5;241m=\u001b[39mmeta, body\u001b[38;5;241m=\u001b[39mresp_body\n\u001b[1;32m    322\u001b[0m     )\n\u001b[1;32m    324\u001b[0m \u001b[38;5;66;03m# 'X-Elastic-Product: Elasticsearch' should be on every 2XX response.\u001b[39;00m\n",
      "\u001b[0;31mNotFoundError\u001b[0m: NotFoundError(404, 'index_not_found_exception', 'no such index [test-db]', test-db, index_or_alias)",
      "\nDuring handling of the above exception, another exception occurred:\n",
      "\u001b[0;31mNameError\u001b[0m                                 Traceback (most recent call last)",
      "Cell \u001b[0;32mIn[9], line 1\u001b[0m\n\u001b[0;32m----> 1\u001b[0m b \u001b[38;5;241m=\u001b[39m \u001b[43mtest_major_private\u001b[49m\u001b[43m(\u001b[49m\u001b[43mes\u001b[49m\u001b[43m,\u001b[49m\u001b[43m \u001b[49m\u001b[38;5;241;43m1\u001b[39;49m\u001b[43m)\u001b[49m\n\u001b[1;32m      2\u001b[0m b\n",
      "Cell \u001b[0;32mIn[8], line 37\u001b[0m, in \u001b[0;36mtest_major_private\u001b[0;34m(retiever, limit)\u001b[0m\n\u001b[1;32m     35\u001b[0m         \u001b[38;5;28;01mif\u001b[39;00m idx\u001b[38;5;241m+\u001b[39m\u001b[38;5;241m1\u001b[39m \u001b[38;5;241m==\u001b[39m limit:\n\u001b[1;32m     36\u001b[0m             \u001b[38;5;28;01mbreak\u001b[39;00m\n\u001b[0;32m---> 37\u001b[0m \u001b[38;5;28;01mexcept\u001b[39;00m \u001b[43me\u001b[49m:\n\u001b[1;32m     38\u001b[0m     \u001b[38;5;28mprint\u001b[39m(e)\n\u001b[1;32m     39\u001b[0m     \u001b[38;5;28mprint\u001b[39m(query)\n",
      "\u001b[0;31mNameError\u001b[0m: name 'e' is not defined"
     ]
    }
   ],
   "source": [
    "b = test_major_private(es, 1)\n",
    "b"
   ]
  }
 ],
 "metadata": {
  "kernelspec": {
   "display_name": "Python 3 (ipykernel)",
   "language": "python",
   "name": "python3"
  },
  "language_info": {
   "codemirror_mode": {
    "name": "ipython",
    "version": 3
   },
   "file_extension": ".py",
   "mimetype": "text/x-python",
   "name": "python",
   "nbconvert_exporter": "python",
   "pygments_lexer": "ipython3",
   "version": "3.9.18"
  }
 },
 "nbformat": 4,
 "nbformat_minor": 5
}
