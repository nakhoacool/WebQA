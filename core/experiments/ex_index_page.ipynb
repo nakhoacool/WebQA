{
 "cells": [
  {
   "cell_type": "markdown",
   "metadata": {},
   "source": [
    "# Building and Answer with index page"
   ]
  },
  {
   "cell_type": "code",
   "execution_count": 1,
   "metadata": {},
   "outputs": [
    {
     "name": "stderr",
     "output_type": "stream",
     "text": [
      "/home/h4438/miniconda3/envs/uni/lib/python3.9/site-packages/tqdm/auto.py:21: TqdmWarning: IProgress not found. Please update jupyter and ipywidgets. See https://ipywidgets.readthedocs.io/en/stable/user_install.html\n",
      "  from .autonotebook import tqdm as notebook_tqdm\n"
     ]
    },
    {
     "name": "stdout",
     "output_type": "stream",
     "text": [
      "From (44, 5) to 44\n",
      "From (11, 4) to 11\n"
     ]
    }
   ],
   "source": [
    "import sys\n",
    "sys.path.append(\"../\")\n",
    "from src.service.provider import ProviderService\n",
    "\n",
    "provider = ProviderService()"
   ]
  },
  {
   "cell_type": "code",
   "execution_count": 6,
   "metadata": {},
   "outputs": [],
   "source": [
    "from langchain_core.prompts import ChatPromptTemplate\n",
    "from operator import itemgetter\n",
    "\n",
    "\n",
    "TEMPLATE = \"\"\"You are a helpful admission assistant for Ton Duc Thang university who gives helpful and accurate information.\n",
    "Answer the question mainly using the following context. Output \"None\" if you cannot answer:\n",
    "```\n",
    "{context}\n",
    "```\n",
    "Question: {question}\n",
    "\"\"\"\n",
    "\n",
    "TEMPLATE = \"\"\"\n",
    "Bạn là một người tư vấn viên thân thiện và đầy hiểu biết. Nhiệm vụ của bạn là hỗ trợ người dùng hiểu biết hơn về trường đại học Tôn Đức Thắng.\n",
    "\n",
    "Đây là thông tin mà bạn biết:\n",
    "```\n",
    "Trường có các ngành đào tạo sau\n",
    "\n",
    "- Ngành kỹ thuật phần mềm\n",
    "- Ngành khoa học máy tính\n",
    "- Ngành Dược\n",
    "- Ngành Kỹ thuật công trình\n",
    "\n",
    "```\n",
    "Hãy hỗ trợ thật tốt với yêu cầu sau đến từ người dùng.\n",
    "Yêu cầu: {question}\n",
    "\"\"\"\n",
    "\n",
    "\n",
    "gemini = provider.get_gemini_pro(False)\n",
    "prompt = ChatPromptTemplate.from_template(TEMPLATE)\n",
    "\n",
    "chain = ({\n",
    "    \"question\": itemgetter(\"question\")\n",
    "    } \n",
    "    | prompt \n",
    "    | gemini)"
   ]
  },
  {
   "cell_type": "code",
   "execution_count": 4,
   "metadata": {},
   "outputs": [
    {
     "data": {
      "text/plain": [
       "AIMessage(content='Chào bạn,\\n\\nTôi hiểu bạn đang muốn biết Trường Đại học Tôn Đức Thắng có bao nhiêu ngành đào tạo. Theo thông tin tôi có, trường hiện đang đào tạo **4 ngành** chính, bao gồm:\\n\\n1. Ngành Kỹ thuật phần mềm\\n2. Ngành Khoa học máy tính\\n3. Ngành Dược\\n4. Ngành Kỹ thuật công trình\\n\\nNếu bạn có bất kỳ câu hỏi nào khác về Trường Đại học Tôn Đức Thắng, xin vui lòng cho tôi biết. Tôi luôn sẵn lòng hỗ trợ bạn.')"
      ]
     },
     "execution_count": 4,
     "metadata": {},
     "output_type": "execute_result"
    }
   ],
   "source": [
    "q = \"cho em hỏi trường có bao nhiêu ngành ạ\"\n",
    "a = chain.invoke({\"question\": q})\n",
    "a"
   ]
  },
  {
   "cell_type": "code",
   "execution_count": 7,
   "metadata": {},
   "outputs": [
    {
     "data": {
      "text/plain": [
       "AIMessage(content='Chào bạn,\\n\\nCảm ơn bạn đã quan tâm đến Trường Đại học Tôn Đức Thắng.\\n\\nĐúng vậy, trường có đào tạo ngành liên quan đến IT, cụ thể là:\\n\\n* **Ngành Khoa học máy tính**\\n* **Ngành Kỹ thuật phần mềm**\\n\\nHai ngành này đều cung cấp kiến thức và kỹ năng toàn diện về lĩnh vực công nghệ thông tin, bao gồm:\\n\\n* Thiết kế và phát triển phần mềm\\n* Phân tích dữ liệu\\n* Trí tuệ nhân tạo\\n* An ninh mạng\\n\\nNếu bạn quan tâm đến việc theo đuổi sự nghiệp trong lĩnh vực IT, Trường Đại học Tôn Đức Thắng là một lựa chọn tuyệt vời. Trường có đội ngũ giảng viên giàu kinh nghiệm, cơ sở vật chất hiện đại và các chương trình hợp tác với các công ty công nghệ hàng đầu.\\n\\nHãy cho tôi biết nếu bạn có bất kỳ câu hỏi nào khác. Tôi rất vui được hỗ trợ bạn.')"
      ]
     },
     "execution_count": 7,
     "metadata": {},
     "output_type": "execute_result"
    }
   ],
   "source": [
    "q = \"cho em hỏi trường có bao nhiêu ngành ạ\"\n",
    "q = \"trường có đạo tạo ngành IT không ạ\"\n",
    "a = chain.invoke({\"question\": q})\n",
    "a\n"
   ]
  },
  {
   "cell_type": "markdown",
   "metadata": {},
   "source": [
    "# Test"
   ]
  },
  {
   "cell_type": "code",
   "execution_count": 2,
   "metadata": {},
   "outputs": [
    {
     "name": "stdout",
     "output_type": "stream",
     "text": [
      "From (44, 4) to 44\n",
      "Kỹ thuật hoá học là ngành học\n",
      "Công nghệ sinh học là ngành ư\n"
     ]
    }
   ],
   "source": [
    "from src.prepare.data_load import DocDataLoader\n",
    "from src.chain.followup import LocalFollowUpChain\n",
    "doc_loader = DocDataLoader()\n",
    "config = Configuration()\n",
    "config.enable_tracing(project=\"LEARN\")\n",
    "\n",
    "docs = doc_loader.load_major_docs_full()\n",
    "d1 = docs[15]\n",
    "d2 = docs[6]\n",
    "print(d1.page_content[:30])\n",
    "print(d2.page_content[:30])"
   ]
  },
  {
   "cell_type": "code",
   "execution_count": 3,
   "metadata": {},
   "outputs": [],
   "source": [
    "config.enable_tracing(project=\"LEARN\")\n",
    "followup = LocalFollowUpChain(config=Configuration(), doc_content=d1.page_content)"
   ]
  },
  {
   "cell_type": "code",
   "execution_count": 4,
   "metadata": {},
   "outputs": [
    {
     "name": "stderr",
     "output_type": "stream",
     "text": [
      " followup.log - ERROR - InvokeChainError\n",
      "Traceback (most recent call last):\n",
      "  File \"/home/h4438/Desktop/graduate/WebQA/core/experiments/../src/chain/followup.py\", line 74, in answer\n",
      "    response = self.chain.invoke(inputs)\n",
      "  File \"/home/h4438/miniconda3/envs/uni/lib/python3.9/site-packages/langchain_core/runnables/base.py\", line 2053, in invoke\n",
      "    input = step.invoke(\n",
      "  File \"/home/h4438/miniconda3/envs/uni/lib/python3.9/site-packages/langchain_core/runnables/base.py\", line 2692, in invoke\n",
      "    output = {key: future.result() for key, future in zip(steps, futures)}\n",
      "  File \"/home/h4438/miniconda3/envs/uni/lib/python3.9/site-packages/langchain_core/runnables/base.py\", line 2692, in <dictcomp>\n",
      "    output = {key: future.result() for key, future in zip(steps, futures)}\n",
      "  File \"/home/h4438/miniconda3/envs/uni/lib/python3.9/concurrent/futures/_base.py\", line 446, in result\n",
      "    return self.__get_result()\n",
      "  File \"/home/h4438/miniconda3/envs/uni/lib/python3.9/concurrent/futures/_base.py\", line 391, in __get_result\n",
      "    raise self._exception\n",
      "  File \"/home/h4438/miniconda3/envs/uni/lib/python3.9/concurrent/futures/thread.py\", line 58, in run\n",
      "    result = self.fn(*self.args, **self.kwargs)\n",
      "  File \"/home/h4438/miniconda3/envs/uni/lib/python3.9/site-packages/langchain_core/runnables/base.py\", line 3507, in invoke\n",
      "    return self._call_with_config(\n",
      "  File \"/home/h4438/miniconda3/envs/uni/lib/python3.9/site-packages/langchain_core/runnables/base.py\", line 1246, in _call_with_config\n",
      "    context.run(\n",
      "  File \"/home/h4438/miniconda3/envs/uni/lib/python3.9/site-packages/langchain_core/runnables/config.py\", line 326, in call_func_with_variable_args\n",
      "    return func(input, **kwargs)  # type: ignore[call-arg]\n",
      "  File \"/home/h4438/miniconda3/envs/uni/lib/python3.9/site-packages/langchain_core/runnables/base.py\", line 3383, in _invoke\n",
      "    output = call_func_with_variable_args(\n",
      "  File \"/home/h4438/miniconda3/envs/uni/lib/python3.9/site-packages/langchain_core/runnables/config.py\", line 326, in call_func_with_variable_args\n",
      "    return func(input, **kwargs)  # type: ignore[call-arg]\n",
      "KeyError: 'question'\n"
     ]
    },
    {
     "data": {
      "text/plain": [
       "'[Followup] Sorry! something went wrong'"
      ]
     },
     "execution_count": 4,
     "metadata": {},
     "output_type": "execute_result"
    }
   ],
   "source": [
    "q = \"cho em hỏi chuyên ngành này tên là gì?\"\n",
    "a = followup.answer(question=q)\n",
    "a"
   ]
  },
  {
   "cell_type": "code",
   "execution_count": 6,
   "metadata": {},
   "outputs": [
    {
     "data": {
      "text/plain": [
       "{'history': [HumanMessage(content='Ngành học này tên là gì?'),\n",
       "  AIMessage(content='Việt Nam học – Chuyên ngành Du lịch và Quản lý du lịch')]}"
      ]
     },
     "execution_count": 6,
     "metadata": {},
     "output_type": "execute_result"
    }
   ],
   "source": [
    "followup.memory.load_memory_variables({})"
   ]
  },
  {
   "cell_type": "code",
   "execution_count": 7,
   "metadata": {},
   "outputs": [
    {
     "data": {
      "text/plain": [
       "AIMessage(content='Cử nhân Việt Nam học – Chuyên ngành Du lịch và Quản lý du lịch có thể ứng tuyển vào các vị trí như:\\n- Chuyên viên cung cấp dịch vụ du lịch tại các khu du lịch, điểm vui chơi tham quan du lịch\\n- Chuyên gia tư vấn về chiến lược kinh doanh, khai thác, xây dựng và cung cấp sản phẩm du lịch\\n- Chuyên viên thuộc Bộ và Sở văn hóa – Thể thao – Du lịch như Trung tâm bồi dưỡng nghiệp vụ du lịch, Viện nghiên cứu và phát triển du lịch, Quy hoạch du lịch, Trung tâm xúc tiến du lịch\\n- Tự tạo lập doanh nghiệp du lịch mới với quy mô nhỏ hoặc tham gia giảng dạy tại các cơ sở đào tạo về du lịch')"
      ]
     },
     "execution_count": 7,
     "metadata": {},
     "output_type": "execute_result"
    }
   ],
   "source": [
    "q = \"Vậy cử nhân ngành này có thể ứng tuyển vào vị trí nào?\"\n",
    "a = followup.answer(question=q)\n",
    "a"
   ]
  },
  {
   "cell_type": "code",
   "execution_count": 23,
   "metadata": {},
   "outputs": [
    {
     "data": {
      "text/plain": [
       "'Việt Nam học – Chuyên ngành Du lịch và Quản lý du lịch'"
      ]
     },
     "execution_count": 23,
     "metadata": {},
     "output_type": "execute_result"
    }
   ],
   "source": [
    "a.content"
   ]
  },
  {
   "cell_type": "code",
   "execution_count": 8,
   "metadata": {},
   "outputs": [
    {
     "data": {
      "text/plain": [
       "{'history': [HumanMessage(content='Ngành học này tên là gì?'),\n",
       "  AIMessage(content='Việt Nam học – Chuyên ngành Du lịch và Quản lý du lịch'),\n",
       "  HumanMessage(content='Vậy cử nhân ngành này có thể ứng tuyển vào vị trí nào?'),\n",
       "  AIMessage(content='Cử nhân Việt Nam học – Chuyên ngành Du lịch và Quản lý du lịch có thể ứng tuyển vào các vị trí như:\\n- Chuyên viên cung cấp dịch vụ du lịch tại các khu du lịch, điểm vui chơi tham quan du lịch\\n- Chuyên gia tư vấn về chiến lược kinh doanh, khai thác, xây dựng và cung cấp sản phẩm du lịch\\n- Chuyên viên thuộc Bộ và Sở văn hóa – Thể thao – Du lịch như Trung tâm bồi dưỡng nghiệp vụ du lịch, Viện nghiên cứu và phát triển du lịch, Quy hoạch du lịch, Trung tâm xúc tiến du lịch\\n- Tự tạo lập doanh nghiệp du lịch mới với quy mô nhỏ hoặc tham gia giảng dạy tại các cơ sở đào tạo về du lịch')]}"
      ]
     },
     "execution_count": 8,
     "metadata": {},
     "output_type": "execute_result"
    }
   ],
   "source": [
    "followup.memory.load_memory_variables({})"
   ]
  }
 ],
 "metadata": {
  "kernelspec": {
   "display_name": "Python 3 (ipykernel)",
   "language": "python",
   "name": "python3"
  },
  "language_info": {
   "codemirror_mode": {
    "name": "ipython",
    "version": 3
   },
   "file_extension": ".py",
   "mimetype": "text/x-python",
   "name": "python",
   "nbconvert_exporter": "python",
   "pygments_lexer": "ipython3",
   "version": "3.9.18"
  }
 },
 "nbformat": 4,
 "nbformat_minor": 4
}
