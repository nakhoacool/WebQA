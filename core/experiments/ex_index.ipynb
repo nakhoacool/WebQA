{
 "cells": [
  {
   "cell_type": "markdown",
   "metadata": {},
   "source": [
    "# Index page"
   ]
  },
  {
   "cell_type": "code",
   "execution_count": 1,
   "metadata": {},
   "outputs": [
    {
     "name": "stderr",
     "output_type": "stream",
     "text": [
      "/home/h4438/miniconda3/envs/uni/lib/python3.9/site-packages/tqdm/auto.py:21: TqdmWarning: IProgress not found. Please update jupyter and ipywidgets. See https://ipywidgets.readthedocs.io/en/stable/user_install.html\n",
      "  from .autonotebook import tqdm as notebook_tqdm\n"
     ]
    },
    {
     "name": "stdout",
     "output_type": "stream",
     "text": [
      "From (44, 5) to 44\n",
      "From (11, 4) to 11\n",
      "From (8, 4) to 8\n"
     ]
    }
   ],
   "source": [
    "import sys\n",
    "sys.path.append(\"../\")\n",
    "from src.service.provider import ProviderService\n",
    "\n",
    "provider = ProviderService()\n"
   ]
  },
  {
   "cell_type": "code",
   "execution_count": 18,
   "metadata": {},
   "outputs": [
    {
     "data": {
      "text/plain": [
       "'three'"
      ]
     },
     "execution_count": 18,
     "metadata": {},
     "output_type": "execute_result"
    }
   ],
   "source": [
    "title1 = \"Ngành kỹ thuật phần mềm\"\n",
    "title2 = \"Ngành khoa học máy tính\"\n",
    "title1 = \"chương trình tiêu chuẩn\"\n",
    "title2 = \"chương trình chất lượng cao\"\n",
    "\n",
    "# question = \"ngành khoa học máy tính có rẻ không\"\n",
    "question = \"trường có bao nhiêu ngành ạ\"\n",
    "question = \"trường có bao nhiêu hệ\"\n",
    "\n",
    "prompt=f\"\"\"Do not output more than one word.\n",
    "You are searching for an answer to the question: \"{question}\".\n",
    "Which chapter is likely where the answer from?\n",
    "chapter 1: {title1}\n",
    "chapter 2: {title2}\n",
    "chapter 3: the table of content for the other chapters\n",
    "Output \"one\", \"two\", \"three\".\"\"\"\n",
    "\n",
    "\n",
    "ai = provider.get_simple_gemini_pro()\n",
    "# ai = provider.get_openai()\n",
    "a = ai(prompt)\n",
    "a"
   ]
  },
  {
   "cell_type": "code",
   "execution_count": null,
   "metadata": {},
   "outputs": [],
   "source": []
  }
 ],
 "metadata": {
  "kernelspec": {
   "display_name": "Python 3 (ipykernel)",
   "language": "python",
   "name": "python3"
  },
  "language_info": {
   "codemirror_mode": {
    "name": "ipython",
    "version": 3
   },
   "file_extension": ".py",
   "mimetype": "text/x-python",
   "name": "python",
   "nbconvert_exporter": "python",
   "pygments_lexer": "ipython3",
   "version": "3.9.18"
  }
 },
 "nbformat": 4,
 "nbformat_minor": 4
}
