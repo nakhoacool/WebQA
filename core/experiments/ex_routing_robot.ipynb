{
 "cells": [
  {
   "cell_type": "markdown",
   "metadata": {},
   "source": [
    "# Test Robot"
   ]
  },
  {
   "cell_type": "code",
   "execution_count": 1,
   "metadata": {},
   "outputs": [
    {
     "name": "stderr",
     "output_type": "stream",
     "text": [
      "/home/h4438/miniconda3/envs/uni/lib/python3.9/site-packages/tqdm/auto.py:21: TqdmWarning: IProgress not found. Please update jupyter and ipywidgets. See https://ipywidgets.readthedocs.io/en/stable/user_install.html\n",
      "  from .autonotebook import tqdm as notebook_tqdm\n"
     ]
    },
    {
     "name": "stdout",
     "output_type": "stream",
     "text": [
      "loaded index doc\n",
      "loaded index doc\n",
      "loaded index doc\n"
     ]
    }
   ],
   "source": [
    "from langchain.prompts import PromptTemplate\n",
    "from langchain_core.output_parsers import StrOutputParser\n",
    "from langsmith.run_helpers import traceable\n",
    "import sys\n",
    "sys.path.append(\"../\")\n",
    "from src.config import Configuration\n",
    "from src.robot import RAGRobot\n",
    "from src.service.provider import ProviderService\n",
    "\n",
    "config = Configuration()\n",
    "\n",
    "config.enable_tracing(project=\"LEARN\")\n",
    "provider = ProviderService()\n",
    "robot = RAGRobot(provider=provider)"
   ]
  },
  {
   "cell_type": "markdown",
   "metadata": {},
   "source": [
    "## Test routing"
   ]
  },
  {
   "cell_type": "code",
   "execution_count": 2,
   "metadata": {},
   "outputs": [
    {
     "data": {
      "text/plain": [
       "'Major'"
      ]
     },
     "execution_count": 2,
     "metadata": {},
     "output_type": "execute_result"
    }
   ],
   "source": [
    "q = \"sinh viên tốt nghiệp ngành kỹ thuật hóa học có thể ứng tuyển vào vị trí nào?\"\n",
    "q = \"trường có bao nhiêu ngành tất cả ạ\"\n",
    "a = robot.router.invoke({\"question\": q})\n",
    "a"
   ]
  },
  {
   "cell_type": "code",
   "execution_count": 3,
   "metadata": {},
   "outputs": [
    {
     "data": {
      "text/plain": [
       "'Uni'"
      ]
     },
     "execution_count": 3,
     "metadata": {},
     "output_type": "execute_result"
    }
   ],
   "source": [
    "q = \"sinh viên tốt nghiệp ngành công nghệ phần mềm có thể ứng tuyển vào vị trí nào?\"\n",
    "q = \"cho em hỏi địa chỉ trường Tôn Đức Thắng ạ?\"\n",
    "a = robot.router.invoke({\"question\": q})\n",
    "a"
   ]
  },
  {
   "cell_type": "code",
   "execution_count": 4,
   "metadata": {},
   "outputs": [
    {
     "data": {
      "text/plain": [
       "'Major'"
      ]
     },
     "execution_count": 4,
     "metadata": {},
     "output_type": "execute_result"
    }
   ],
   "source": [
    "q = \"trường có dạy AI không ạ?\"\n",
    "a = robot.router.invoke({\"question\": q})\n",
    "a"
   ]
  },
  {
   "cell_type": "code",
   "execution_count": 4,
   "metadata": {},
   "outputs": [
    {
     "data": {
      "text/plain": [
       "'Uni'"
      ]
     },
     "execution_count": 4,
     "metadata": {},
     "output_type": "execute_result"
    }
   ],
   "source": [
    "q = \"địa chỉ của trường đại học Tôn Đức Thắng ở đâu?\"\n",
    "a = robot.router.invoke({\"question\": q})\n",
    "a\n"
   ]
  },
  {
   "cell_type": "code",
   "execution_count": 5,
   "metadata": {},
   "outputs": [
    {
     "data": {
      "text/plain": [
       "'Uni'"
      ]
     },
     "execution_count": 5,
     "metadata": {},
     "output_type": "execute_result"
    }
   ],
   "source": [
    "q = \"trường có khuôn viên như thế nào?\"\n",
    "a = robot.router.invoke({\"question\": q})\n",
    "a"
   ]
  },
  {
   "cell_type": "code",
   "execution_count": 5,
   "metadata": {},
   "outputs": [
    {
     "data": {
      "text/plain": [
       "'Major'"
      ]
     },
     "execution_count": 5,
     "metadata": {},
     "output_type": "execute_result"
    }
   ],
   "source": [
    "q = \"trường có ngành học nào chuyên về Việt Nam không ạ?\"\n",
    "a = robot.router.invoke({\"question\": q})\n",
    "a"
   ]
  },
  {
   "cell_type": "code",
   "execution_count": 6,
   "metadata": {},
   "outputs": [
    {
     "data": {
      "text/plain": [
       "'Major'"
      ]
     },
     "execution_count": 6,
     "metadata": {},
     "output_type": "execute_result"
    }
   ],
   "source": [
    "q = \"trường có ngành học nào chuyên về Việt Nam không ạ?\"\n",
    "# q = \"em muốn hỏi về ngành Việt Nam học ạ?\"\n",
    "a = robot.router.invoke({\"question\": q})\n",
    "a"
   ]
  },
  {
   "cell_type": "code",
   "execution_count": 7,
   "metadata": {},
   "outputs": [
    {
     "name": "stderr",
     "output_type": "stream",
     "text": [
      "Retrying langchain_google_genai.chat_models._chat_with_retry.<locals>._chat_with_retry in 2.0 seconds as it raised InternalServerError: 500 An internal error has occurred. Please retry or report in https://developers.generativeai.google/guide/troubleshooting.\n"
     ]
    },
    {
     "data": {
      "text/plain": [
       "'Major'"
      ]
     },
     "execution_count": 7,
     "metadata": {},
     "output_type": "execute_result"
    }
   ],
   "source": [
    "q = \"cho em hỏi về ngành kỹ thuật phần mềm?\"\n",
    "a = robot.router.invoke({\"question\": q})\n",
    "a"
   ]
  },
  {
   "cell_type": "code",
   "execution_count": 8,
   "metadata": {},
   "outputs": [
    {
     "data": {
      "text/plain": [
       "'Training'"
      ]
     },
     "execution_count": 8,
     "metadata": {},
     "output_type": "execute_result"
    }
   ],
   "source": [
    "q = \"cho em hỏi về các chương trình đào tạo của trường\"\n",
    "a = robot.router.invoke({\"question\": q})\n",
    "a"
   ]
  },
  {
   "cell_type": "markdown",
   "metadata": {},
   "source": [
    "## Chain test"
   ]
  },
  {
   "cell_type": "code",
   "execution_count": 2,
   "metadata": {},
   "outputs": [
    {
     "name": "stderr",
     "output_type": "stream",
     "text": [
      "/home/h4438/miniconda3/envs/uni/lib/python3.9/site-packages/langchain_core/_api/deprecation.py:117: LangChainDeprecationWarning: The function `__call__` was deprecated in LangChain 0.1.7 and will be removed in 0.2.0. Use invoke instead.\n",
      "  warn_deprecated(\n"
     ]
    },
    {
     "data": {
      "text/plain": [
       "<src.rag.types.RAGResponse at 0x7fe4ccab8d00>"
      ]
     },
     "execution_count": 2,
     "metadata": {},
     "output_type": "execute_result"
    }
   ],
   "source": [
    "q = \"sinh viên tốt nghiệp ngành này có thể ứng tuyển vào vị trí nào?\"\n",
    "q = \"Địa chỉ trường Tôn Đức Thắng là gì ạ?\"\n",
    "q = \"cho em hỏi về ngành phần mềm?\"\n",
    "q = \"cho em hỏi về ngành Dược\"\n",
    "q = \"em muốn biết thông tin về ngành ngôn ngữ Anh\"\n",
    "a = robot.answer(q)\n",
    "a"
   ]
  },
  {
   "cell_type": "code",
   "execution_count": 3,
   "metadata": {},
   "outputs": [
    {
     "data": {
      "text/plain": [
       "'Ngành Ngôn ngữ Anh tại Trường Đại học Tôn Đức Thắng đào tạo sinh viên về ngôn ngữ, văn hóa và văn học Anh - Mỹ, trang bị các kỹ năng nghe, nói, đọc, viết, dịch thuật để đáp ứng nhu cầu phát triển của xã hội.'"
      ]
     },
     "execution_count": 3,
     "metadata": {},
     "output_type": "execute_result"
    }
   ],
   "source": [
    "a.answer"
   ]
  },
  {
   "cell_type": "code",
   "execution_count": 4,
   "metadata": {},
   "outputs": [
    {
     "name": "stderr",
     "output_type": "stream",
     "text": [
      "crawler.log - ERROR - [Error] index.html can't get\n"
     ]
    },
    {
     "data": {
      "text/plain": [
       "'38'"
      ]
     },
     "execution_count": 4,
     "metadata": {},
     "output_type": "execute_result"
    }
   ],
   "source": [
    "q = \"cho em hỏi về chương trình đào tạo chất lượng cao\"\n",
    "q = \"cho em hỏi là trường đào tạo bao nhiêu ngành tất cả ạ\"\n",
    "a = robot.answer(q)\n",
    "a.answer"
   ]
  },
  {
   "cell_type": "code",
   "execution_count": 7,
   "metadata": {},
   "outputs": [
    {
     "name": "stderr",
     "output_type": "stream",
     "text": [
      "crawler.log - ERROR - [Error] index.html can't get\n"
     ]
    },
    {
     "data": {
      "text/plain": [
       "'None'"
      ]
     },
     "execution_count": 7,
     "metadata": {},
     "output_type": "execute_result"
    }
   ],
   "source": [
    "q = \"trường đào tạo bao nhiêu ngành tất cả\"\n",
    "q = \"trường có ngành phần mềm không ạ\"\n",
    "q = \"trường có ngành khoa học máy tính kh\"\n",
    "q = \"trường có bao nhiêu chương trình đào tạo ạ\"\n",
    "q = \"trường có bao nhiêu ngành liên quan đến IT\"\n",
    "q = \"ngành kỹ thuật phần mềm có điểm chuẩn là bao nhiêu\"\n",
    "q = \"\"\n",
    "a = robot.answer(q)\n",
    "a.answer\n"
   ]
  },
  {
   "cell_type": "code",
   "execution_count": 20,
   "metadata": {},
   "outputs": [
    {
     "data": {
      "text/plain": [
       "'\\n## [Mạng máy tính và truyền thông dữ liệu](/dai-hoc/nganh-hoc/mang-may-tinh-va-truyen-thong-du-lieu)\\n## Mạng máy tính và truyền thông dữ liệu\\n[Đăng ký xét tuyển](https://xettuyen.tdtu.edu.vn) \\n[Đặt câu hỏi](../../../../) Mạng máy tính và truyền thông dữ liệu là ngành học ứng dụng kiến thức về các\\nnguyên lý kết nối máy tính thành mạng; điện toán đám mây, cách thiết kế và xây\\ndựng hệ thống mạng từ nội bộ đến mạng diện rộng có kết nối toàn cầu; nguyên tắc\\ntrao đổi thông tin, dữ liệu giữa các thành phần trên mạng; phát triển ứng dụng\\nmạng, phần mềm trên thiết bị di động; … nhằm cung cấp cơ sở hạ tầng và dịch vụ\\nmạng cho các ngành khác vận hành và phát triển. Cử nhân Mạng máy tính và truyền thông dữ liệu sau khi tốt nghiệp tại Trường\\nĐại học Tôn Đức Thắng có thể tự tin ứng tuyển vào các vị trí như: chuyên viên\\nquản trị mạng máy tính và hệ thống, chuyên viên tư vấn hệ thống mạng, lập trình\\nviên tại các công ty phần mềm, chuyên viên thiết kế mạng chuyên nghiệp, chuyên\\nviên phát triển ứng dụng trên di động và mạng không dây, chuyên viên xây dựng và\\nphát triển các ứng dụng truyền thông, … hoặc có thể tiếp tục nghiên cứu và học\\nlên cao học.\\n[Phương thức tuyển sinh](../../../../dai-hoc/tuyen-sinh/phuong-thuc-2024) \\n[Tư vấn trực tuyến](https://www.facebook.com/tuyensinhtdtu) \\n[Gọi hotline tư vấn](../../../../hoc-tai-tdtu/ho-tro-sinh-vien) \\n## Vì sao nên chọn ngành Mạng máy tính và truyền thông dữ liệu tại Trường Đại học Tôn Đức Thắng\\n TDTU thuộc top 500 đại học tốt nhất thế giới (THE World University Rankings) Học phí thấp 100% sinh viên ra trường có việc làm trong vòng 12 tháng kể từ khi tốt nghiệp ## Các chương trình của ngành Mạng máy tính và truyền thông dữ liệu\\n* [Tiêu chuẩn](#tab-wybvj-1)\\n* \\n* \\n* \\n**Mạng máy tính và truyền thông dữ liệu** \\n**- Mã ngành:** \\n**7480102** Đến với ngành học này, ngoài những kiến thức nền tảng thuộc lĩnh vực công nghệ\\nthông tin, sinh viên còn được trang bị thêm kiến thức mang tính ứng dụng và liên\\ntục cập nhật xu hướng mới theo nhu cầu phát triển của xã hội. Ngoài ra, Nhà\\ntrường còn chú trọng đầu tư xây dựng các phòng thực hành với máy móc hiện đại để\\nphục vụ cho nhu cầu học tập và nghiên cứu của sinh viên. Điểm nổi bật của chương trình đào tạo ngành là được xây dựng theo hướng sát\\nvới thực tế và mang tính ứng dụng cao. Các học phần được thiết kế theo chuẩn\\nquốc tế và đi từ cấp độ kiến thức nền cơ bản đến cấp độ sinh viên tự mình phân\\ntích, thiết kế và đề xuất giải pháp phát triển mạng máy tính, đáp ứng nhu cầu\\ncủa một cá nhân hoặc tổ chức. Nhà trường đã chủ động triển khai các chương trình hợp tác, liên kết đào tạo\\nvới các công ty công nghệ thông tin lớn nhằm hỗ trợ sinh viên về chuyên môn,\\ncũng như tiếp nhận sinh viên thực tập và học tập thực tế tại các công ty, doanh\\nnghiệp. Sinh viên tốt nghiệp ngành Mạng máy tính và truyền thông dữ liệu được\\nđào tạo nắm vững lý thuyết chuyên môn và có khả năng quản lý và vận hành những\\ncông nghệ mạng phổ biến như thư tín điện tử, truyền tải tập tin, truyền thông\\nthông tin, hay những công nghệ tiên tiến như điện toán đám mây, tính toán lưới,\\ntính toán di động, xây dựng và vận hành trung tâm dữ liệu, an toàn và bảo mật\\nthông tin, …\\n**Thông tin cần biết** Bằng cấp Cử nhân\\n Thời gian đào tạo Toàn thời gian: 4 năm\\n Chương trình đào tạo [Xem thông tin chi tiết về chương trình đào\\ntạo](https://cktt-cdr.tdtu.edu.vn/chuongtrinhdaotao?type=tuyensinh&hedaotao=0)\\n Chuẩn đầu ra [Xem thông tin chi tiết về chuẩn đầu\\nra](https://cktt-cdr.tdtu.edu.vn/chuandaura?type=tuyensinh&hedaotao=0)\\n Phương thức xét tuyển riêng Tổ hợp: Toán\\\\*2, Anh, Lý KQ ĐGNL\\xa0của ĐHQG TP. HCM Ưu tiên xét tuyển theo TDTU\\n Xét tuyển theo điểm thi THPT Tổ hợp: A00; A01; D01 Điểm trúng tuyển 2023 (thang 40):  **32.1**\\n Khai giảng Học phí Khoảng 31 đến 32 triệu đồng/năm\\n## Cựu sinh viên nói gì về ngành Mạng máy tính và truyền thông dữ liệu\\n![](https://admission.tdtu.edu.vn) Đang cập nhật ...\\n## Các ngành học liên quan\\n[Khoa học máy tính](../../../../dai-hoc/nganh-hoc/khoa-hoc-may-tinh) \\n[Kỹ thuật phần mềm](../../../../dai-hoc/nganh-hoc/ky-thuat-phan-mem) \\n[Toán ứng dụng](../../../../dai-hoc/nganh-hoc/toan-ung-dung) \\n## Làm gì tiếp theo?\\n[Đăng ký xét tuyển](https://xettuyen.tdtu.edu.vn) \\n[Đặt câu hỏi](../../../../) \\nTải cẩm nang tuyển sinh\\n[Xem thông báo tuyển sinh](../../../../dai-hoc/tuyen-sinh/phuong-thuc-2024) \\n[Cơ sở vật chất TDTU](../../../../gioi-thieu/co-so-vat-chat) \\n[Xem thông tin về Khoa](https://it.tdtu.edu.vn/) \\n'"
      ]
     },
     "execution_count": 20,
     "metadata": {},
     "output_type": "execute_result"
    }
   ],
   "source": [
    "a.document.content"
   ]
  },
  {
   "cell_type": "code",
   "execution_count": 12,
   "metadata": {},
   "outputs": [
    {
     "data": {
      "text/plain": [
       "True"
      ]
     },
     "execution_count": 12,
     "metadata": {},
     "output_type": "execute_result"
    }
   ],
   "source": [
    "robot.current_doc.source == a.document.source"
   ]
  },
  {
   "cell_type": "code",
   "execution_count": 13,
   "metadata": {},
   "outputs": [
    {
     "data": {
      "text/plain": [
       "True"
      ]
     },
     "execution_count": 13,
     "metadata": {},
     "output_type": "execute_result"
    }
   ],
   "source": [
    "robot.followup != None"
   ]
  },
  {
   "cell_type": "code",
   "execution_count": 14,
   "metadata": {},
   "outputs": [
    {
     "data": {
      "text/plain": [
       "True"
      ]
     },
     "execution_count": 14,
     "metadata": {},
     "output_type": "execute_result"
    }
   ],
   "source": [
    "robot.followup.current_document.source == a.document.source"
   ]
  },
  {
   "cell_type": "code",
   "execution_count": 15,
   "metadata": {},
   "outputs": [
    {
     "name": "stdout",
     "output_type": "stream",
     "text": [
      "\n",
      "# Chương trình chất lượng cao Là chương trình chất lượng cao giảng dạy bằng tiếng Việt, trong đó có một số\n",
      "học phần chuyên ngành dạy bằng tiếng Anh. Còn được gọi tắt là Chương trình giáo\n",
      "dục chất lượng cao. Chương trình được xây dựng với phương pháp giáo dục đặc biệt, đào tạo người\n",
      "học đạt chuẩn đầu ra cao hơn chương trình tiêu chuẩn về kỹ năng tiếng Anh, kỹ\n",
      "năng mềm, kỹ năng chuyên môn, các chứng chỉ nghề quốc gia /quốc tế.. Khi sinh viên theo học chương trình chất lượng cao, bên cạnh những tiêu chuẩn\n",
      "mà sinh viên trường Đại học Tôn Đức Thắng nhận được, một số đặc trưng của sinh\n",
      "viên chương trình chất lượng cao được Nhà trường tổ chức và đào tạo như sau:\n",
      " **- Đào tạo nguồn nhân lực chất lượng cao đáp ứng yêu cầu hội nhập quốc tế\n",
      "với:** Kỹ năng thực hành chuyên môn cao được bổ trợ bằng các chứng chỉ nghề\n",
      "nghiệp quốc gia/quốc tế; Đạt tiếng anh trình độ B2 quốc tế (các Chứng chỉ tiếng\n",
      "Anh quốc tế tương đương IELTS 5.5 trở lên);  Chứng chỉ tin học MOS đạt từ\n",
      "750/1000 điểm với 3 ứng dụng Word, Excel, PowerPoint hoặc chứng chỉ ICDL đạt từ\n",
      "75% với 3 ứng dụng Documents, Spreadsheets, Presentation.\n",
      " **- Chương trình đào tạo:** được xây dựng theo các tiêu chuẩn kiểm định quốc\n",
      "tế như AUN-QA, FIBBA, ASIIN…và đáp ứng nhu cầu đào tạo nguồn nhân lực của thị\n",
      "trường lao động Việt Nam và quốc tế. Bên cạnh đó, Nhà trường đặc biệt chú ý gắn\n",
      "kết lý thuyết với thực tiễn; kết hợp kiến thức chuyên môn với rèn luyện kỹ năng\n",
      "thực hành; chú trọng đến các kỹ năng mềm và thực tập doanh nghiệp. Trong suốt\n",
      "quá trình đào tạo, Khoa chuyên ngành thường xuyên mời các chuyên gia trong lĩnh\n",
      "vực đến trình bày chuyên đề, chia sẻ kinh nghiệm thực tiễn cũng như trao đổi\n",
      "trực tiếp với sinh viên về ngành nghề đào tạo.\n",
      " **- Quy mô lớp học, Cơ sở vật chất:** lớp học quy mô nhỏ, phòng học, phòng\n",
      "thí nghiệm và phòng mô phỏng được đầu tư hiện đại, trong khuôn viên 30ha tại\n",
      "trung tâm Tp.HCM – được UNESCO công nhận môi trường xanh, sạch, đẹp bậc nhất\n",
      "Việt Nam với 100% phòng học được trang bị máy lạnh.\n",
      " **- Giảng viên, Phương pháp giảng dạy:** đội ngũ giảng viên có trình độ từ\n",
      "thạc sỹ trở lên, có kinh nghiệm giảng dạy, vững chuyên môn. Toàn bộ chương trình\n",
      "áp dụng phương pháp giảng dạy tích cực, lấy sinh viên làm trung tâm, truyền cảm\n",
      "hứng về ngành nghề cho người học.\n",
      " **- Chứng chỉ nghề nghiệp:** trong quá trình đào tạo, sinh viên sẽ được học\n",
      "những môn học thuộc chứng chỉ có giá trị cho nghề nghiệp sau này, giúp sinh viên\n",
      "thêm tự tin trong quá trình phỏng vấn xin việc làm sau tốt nghiệp.\n",
      " **- Học môn chuyên ngành bằng tiếng Anh:** hơn 50% môn chuyên ngành sẽ được\n",
      "giảng dạy bằng tiếng Anh, do các Giảng viên có trình độ chuyên môn sâu, giúp\n",
      "sinh viên không những tăng cường vốn từ chuyên ngành mà còn phát triển kỹ năng\n",
      "ngoại ngữ trong lĩnh vực ngành nghề đào tạo, thuận lợi trong tuyển dụng tại\n",
      "những công ty đa quốc gia.\n",
      " **- Học kỳ nước ngoài:** dự kiến diễn ra vào năm 3 hoặc 4  nhằm giúp sinh\n",
      "viên có cơ hội giao lưu học tập sinh viên quốc tế cũng như rèn luyện khả năng\n",
      "ngoại ngữ. Sinh viên có thể tham gia học tại Đài Loan, Hà Lan, Malaysia, Cộng\n",
      "hòa Séc, Pháp từ 3-4 tháng,…..; và/hoặc thực hiện khóa luận bằng tiếng Anh giúp\n",
      "sinh viên phát triển trình độ chuyên môn, nâng cao năng lực ngoại ngữ.\n",
      " **- Thực tập/kiến tập:** sinh viên được làm khóa luận tốt nghiệp dưới sự\n",
      "hướng dẫn của các GS, TS, ThS, chuyên gia uy tín trong và ngoài nước; được tham\n",
      "gia kiến tập, thực tập tại các tập đoàn, công ty đa quốc gia, công ty lớn giúp\n",
      "SV vận dụng tốt lý thuyết và công việc thực tế.\n",
      " **- Việc làm:** Nhà trường có liên kết với các doanh nghiệp, công ty trong và\n",
      "ngoài nước nên có thể hỗ trợ sinh viên trong vấn đề tìm chỗ thực tập và việc làm\n",
      "sau khi tốt nghiệp. Kết quả đào tạo thể hiện qua thông số hơn 99% sinh viên ra\n",
      "trường có việc làm trong năm đầu tiên. Hiện nay, Trường tổ chức đào tạo  **19** ngành đại học chất lượng cao, bao\n",
      "gồm: 1. [Công nghệ sinh học](/dai-hoc/nganh-hoc/cong-nghe-sinh-hoc) 2. [Kế toán](/dai-hoc/nganh-hoc/ke-toan) 3. [Khoa học máy tính](/dai-hoc/nganh-hoc/khoa-hoc-may-tinh) 4. [Thiết kế đồ họa](/dai-hoc/nganh-hoc/thiet-ke-do-hoa) 5. [Kinh doanh quốc tế](/dai-hoc/nganh-hoc/kinh-doanh-quoc-te) 6. [Kỹ thuật xây dựng](/dai-hoc/nganh-hoc/ky-thuat-xay-dung) 7. [Kỹ thuật phần mềm](/dai-hoc/nganh-hoc/ky-thuat-phan-mem) 8. [Kỹ thuật Điện](/dai-hoc/nganh-hoc/ky-thuat-dien) 9. [Kỹ thuật điện tử\n",
      "viễn thông](/dai-hoc/nganh-hoc/ky-thuat-dien-tu-vien-thong) 10. [Kỹ thuật điều khiển và Tự động\n",
      "hóa](/dai-hoc/nganh-hoc/ky-thuat-dieu-khien-va-tu-dong-hoa) 11. [Luật](/dai-hoc/nganh-hoc/luat) 12. [Ngôn ngữ Anh](/dai-hoc/nganh-hoc/ngon-ngu-anh) 13.  [Marketing](/dai-hoc/nganh-hoc/marketing) 14. [Quản trị kinh doanh - Chuyên ngành quản trị Nhà hàng - Khách\n",
      "sạn](/dai-hoc/nganh-hoc/quan-tri-kinh-doanh-chuyen-nganh-quan-tri-nha-hang-khach-san) 15.  [Quản trị kinh doanh - Chuyên ngành Quản trị nguồn nhân\n",
      "lực](/dai-hoc/nganh-hoc/quan-tri-kinh-doanh-chuyen-nganh-quan-tri-nguon-nhan-luc) 16. [Tài chính - Ngân hàng](/dai-hoc/nganh-hoc/tai-chinh-ngan-hang) 17. [Việt Nam học - Chuyên ngành du lịch và quản lý du\n",
      "lịch](/dai-hoc/nganh-hoc/viet-nam-hoc-chuyen-nganh-du-lich-va-quan-ly-du-lich) 18. [Kiến trúc](/dai-hoc/nganh-hoc/kien-truc) 19. [Kỹ thuật hóa học](/dai-hoc/nganh-hoc/ky-thuat-hoa-hoc)\n",
      " Tags [Chương trình](/taxonomy/term/62) \n",
      "[chất lượng cao](/taxonomy/term/90) \n",
      "[Đại học](/taxonomy/term/55) \n",
      "[Tuyển sinh](/taxonomy/term/46) \n",
      "[tuyển sinh 2019](/taxonomy/term/161) \n",
      "\n"
     ]
    }
   ],
   "source": [
    "print(robot.followup.current_document.content)"
   ]
  },
  {
   "cell_type": "code",
   "execution_count": 7,
   "metadata": {},
   "outputs": [
    {
     "data": {
      "text/plain": [
       "<src.rag.types.RAGResponse at 0x7f8d6ed4d0a0>"
      ]
     },
     "execution_count": 7,
     "metadata": {},
     "output_type": "execute_result"
    }
   ],
   "source": [
    "q = \"trường có ngành học nào chuyên về Việt Nam không ạ?\"\n",
    "q = \"ngành có học phí bao nhiêu?\"\n",
    "a = robot.answer(question=q)\n",
    "a"
   ]
  },
  {
   "cell_type": "code",
   "execution_count": 8,
   "metadata": {},
   "outputs": [
    {
     "data": {
      "text/plain": [
       "'- Kỹ thuật phần mềm: 28.800.000 đồng/năm\\n- Kỹ thuật phần mềm - CLC: Năm 1: 40.790.000 đồng, Năm 2: 47.588.000 đồng, Năm 3: 52.235.000 đồng, Năm 4: 52.235.000 đồng\\n- Kỹ thuật phần mềm - ĐH Anh-Việt: Năm 1: 62.372.000 đồng, Năm 2: 76.406.000 đồng, Năm 3: 78.322.000 đồng, Năm 4: 78.052.000 đồng'"
      ]
     },
     "execution_count": 8,
     "metadata": {},
     "output_type": "execute_result"
    }
   ],
   "source": [
    "a.answer"
   ]
  },
  {
   "cell_type": "code",
   "execution_count": 11,
   "metadata": {},
   "outputs": [
    {
     "name": "stdout",
     "output_type": "stream",
     "text": [
      "Given the user question below, classify it as either being about `Major`, `Local` or `Other`. Known that:\n",
      "```\n",
      "    Local: when the question related to \"Ngành Việt Nam học - Chuyên ngành Việt ngữ học và văn hóa xã hội Việt Nam\" or \"Ngành Việt Nam học - Chuyên ngành Việt ngữ học và văn hóa xã hội Việt Nam trường Tôn Đức Thắng\". This have the highest priority.\n",
      "    Major: when the question related to a training program (major) of Ton Duc Thang university.\n",
      "    Major: khi câu hỏi liên quan đến ngành đào tạo của trường đại học Tôn Đức Thắng. Ví dụ: hỏi về ngành học, trường đào tạo ngành học gì, các ngành học có ...\n",
      "```\n",
      "Do not respond with more than one word.\n",
      "\n",
      "<question>\n",
      "{question}\n",
      "</question>\n",
      "\n",
      "Classification:\n"
     ]
    }
   ],
   "source": [
    "print(robot.tem_ref)"
   ]
  },
  {
   "cell_type": "code",
   "execution_count": 12,
   "metadata": {},
   "outputs": [
    {
     "data": {
      "text/plain": [
       "<src.rag.types.RAGResponse at 0x7f674e92b520>"
      ]
     },
     "execution_count": 12,
     "metadata": {},
     "output_type": "execute_result"
    }
   ],
   "source": [
    "q = \"trường có ngành học nào chuyên về Việt Nam không ạ?\"\n",
    "q = \"cử nhân tốt nghiệp ngành này có thể  ứng tuyển vào vị trí nào?\"\n",
    "a = robot.answer(question=q)\n",
    "a"
   ]
  },
  {
   "cell_type": "code",
   "execution_count": 16,
   "metadata": {},
   "outputs": [
    {
     "data": {
      "text/plain": [
       "'Ngành ngôn ngữ Trung Quốc'"
      ]
     },
     "execution_count": 16,
     "metadata": {},
     "output_type": "execute_result"
    }
   ],
   "source": [
    "a.document.title"
   ]
  },
  {
   "cell_type": "code",
   "execution_count": 17,
   "metadata": {},
   "outputs": [
    {
     "data": {
      "text/plain": [
       "AIMessage(content='- Biên - phiên dịch viên tiếng Trung\\n- Thư ký\\n- Trợ lý lãnh đạo\\n- Tiếp viên hàng không\\n- Nhân viên kinh doanh\\n- Nhân viên xuất nhập khẩu\\n- Chuyên viên tư vấn du học\\n- Nhân viên Đại sứ quán\\n- Giảng viên dạy tiếng Trung\\n- Hướng dẫn viên du lịch')"
      ]
     },
     "execution_count": 17,
     "metadata": {},
     "output_type": "execute_result"
    }
   ],
   "source": [
    "q = \"sinh viên tốt nghiệp ngành ngôn ngữ Trung Quốc có thể ứng tuyển vào vị trí nào?\"\n",
    "a = run_full_chain(q)\n",
    "a\n"
   ]
  },
  {
   "cell_type": "code",
   "execution_count": null,
   "metadata": {},
   "outputs": [],
   "source": []
  },
  {
   "cell_type": "markdown",
   "metadata": {},
   "source": [
    "## Server RAG"
   ]
  },
  {
   "cell_type": "code",
   "execution_count": 3,
   "metadata": {},
   "outputs": [
    {
     "name": "stdout",
     "output_type": "stream",
     "text": [
      "From (44, 4) to 44\n"
     ]
    }
   ],
   "source": [
    "from src.rag.hybrid_rag import HybridGeminiRAG\n",
    "from src.service.provider import ProviderService\n",
    "services = ProviderService()\n",
    "\n",
    "major = services.get_categories().major\n",
    "\n",
    "rag = HybridGeminiRAG(\n",
    "    vector_es_index=\"labse-major\", \n",
    "    txt_es_index=\"text-split-major\", \n",
    "    db_category=major, provider=services)"
   ]
  },
  {
   "cell_type": "markdown",
   "metadata": {},
   "source": [
    "## Local Follow Up"
   ]
  },
  {
   "cell_type": "code",
   "execution_count": 4,
   "metadata": {},
   "outputs": [
    {
     "name": "stdout",
     "output_type": "stream",
     "text": [
      "From (44, 4) to 44\n"
     ]
    },
    {
     "data": {
      "text/plain": [
       "'Kỹ thuật hoá học là ngành học'"
      ]
     },
     "execution_count": 4,
     "metadata": {},
     "output_type": "execute_result"
    }
   ],
   "source": [
    "from src.prepare.data_load import DocDataLoader\n",
    "\n",
    "doc_loader = DocDataLoader()\n",
    "docs = doc_loader.load_major_docs_full()\n",
    "d1 = docs[15]\n",
    "d1.page_content[:30]"
   ]
  },
  {
   "cell_type": "code",
   "execution_count": 5,
   "metadata": {},
   "outputs": [],
   "source": [
    "from src.chain.followup import LocalFollowUpChain\n",
    "followup = LocalFollowUpChain(config=config, doc_content=d1.page_content)"
   ]
  },
  {
   "cell_type": "markdown",
   "metadata": {},
   "source": [
    "## Router"
   ]
  },
  {
   "cell_type": "code",
   "execution_count": 6,
   "metadata": {},
   "outputs": [],
   "source": [
    "from langchain_core.runnables import RunnableBranch\n",
    "\n",
    "\n",
    "branch = RunnableBranch(\n",
    "    (lambda x: \"local\" in x[\"topic\"].lower(), followup.chain),\n",
    "    rag.chain\n",
    ")\n"
   ]
  },
  {
   "cell_type": "code",
   "execution_count": 7,
   "metadata": {},
   "outputs": [],
   "source": [
    "llm = config.get_gemini_pro(convert_system_message=False)\n",
    "template = \"\"\"Given the user question below, classify it as either being about `Local`, or `Other`. Known that:\n",
    "```\n",
    "    Local: when the question related to \"ngành kỹ thuật hóa học\" or \"ngành kỹ thuật hóa học trường Tôn Đức Thắng\".\n",
    "```\n",
    "Do not respond with more than one word.\n",
    "\n",
    "<question>\n",
    "{question}\n",
    "</question>\n",
    "\n",
    "Classification:\"\"\"\n",
    "chain = (\n",
    "    PromptTemplate.from_template(template=template)\n",
    "    | llm\n",
    "    | StrOutputParser()\n",
    ")"
   ]
  },
  {
   "cell_type": "code",
   "execution_count": 8,
   "metadata": {},
   "outputs": [],
   "source": [
    "full_chain = {\"topic\": chain, \"question\": lambda x: x[\"question\"]} | branch"
   ]
  },
  {
   "cell_type": "code",
   "execution_count": 9,
   "metadata": {},
   "outputs": [],
   "source": [
    "config.enable_tracing(project=\"LEARN\")"
   ]
  },
  {
   "cell_type": "code",
   "execution_count": 10,
   "metadata": {},
   "outputs": [],
   "source": [
    "from langsmith.run_helpers import traceable\n",
    "\n",
    "@traceable(tags=['route'])\n",
    "def run_full_chain(q):\n",
    "    a = full_chain.invoke({\"question\": q})\n",
    "    return a"
   ]
  },
  {
   "cell_type": "code",
   "execution_count": 11,
   "metadata": {},
   "outputs": [
    {
     "data": {
      "text/plain": [
       "AIMessage(content='- Chuyên viên vận hành và quản lý sản xuất\\n- Chuyên viên nghiên cứu phát triển sản phẩm\\n- Chuyên viên tư vấn quản lí và chuyển giao công nghệ\\n- Nhân viên kinh doanh hóa chất\\n- Nhân viên kiểm soát chất lượng sản phẩm')"
      ]
     },
     "execution_count": 11,
     "metadata": {},
     "output_type": "execute_result"
    }
   ],
   "source": [
    "q = \"sinh viên tốt nghiệp ngành kỹ thuật hóa học có thể ứng tuyển vào vị trí nào?\"\n",
    "a = run_full_chain(q)\n",
    "a"
   ]
  },
  {
   "cell_type": "code",
   "execution_count": 12,
   "metadata": {},
   "outputs": [
    {
     "data": {
      "text/plain": [
       "'Chuyên viên phân tích yêu cầu (BA), Kiến trúc sư phần mềm (SA), Lập trình viên (Developer), Chuyên viên thử nghiệm phần mềm (Tester), chuyên viên cầu nối (BrSE), chuyên viên nghiên cứu và phát triển ứng dụng (R&D), giảng viên giảng dạy các môn học về ngành kỹ thuật phần mềm'"
      ]
     },
     "execution_count": 12,
     "metadata": {},
     "output_type": "execute_result"
    }
   ],
   "source": [
    "q = \"sinh viên tốt nghiệp ngành công nghệ phần mềm có thể ứng tuyển vào vị trí nào?\"\n",
    "a = run_full_chain(q)\n",
    "a"
   ]
  }
 ],
 "metadata": {
  "kernelspec": {
   "display_name": "Python 3 (ipykernel)",
   "language": "python",
   "name": "python3"
  },
  "language_info": {
   "codemirror_mode": {
    "name": "ipython",
    "version": 3
   },
   "file_extension": ".py",
   "mimetype": "text/x-python",
   "name": "python",
   "nbconvert_exporter": "python",
   "pygments_lexer": "ipython3",
   "version": "3.9.18"
  }
 },
 "nbformat": 4,
 "nbformat_minor": 4
}
