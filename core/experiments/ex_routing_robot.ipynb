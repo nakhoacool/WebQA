{
 "cells": [
  {
   "cell_type": "markdown",
   "metadata": {},
   "source": [
    "# Test Robot"
   ]
  },
  {
   "cell_type": "code",
   "execution_count": 1,
   "metadata": {},
   "outputs": [
    {
     "name": "stderr",
     "output_type": "stream",
     "text": [
      "/home/h4438/miniconda3/envs/uni/lib/python3.9/site-packages/tqdm/auto.py:21: TqdmWarning: IProgress not found. Please update jupyter and ipywidgets. See https://ipywidgets.readthedocs.io/en/stable/user_install.html\n",
      "  from .autonotebook import tqdm as notebook_tqdm\n"
     ]
    },
    {
     "name": "stdout",
     "output_type": "stream",
     "text": [
      "From (44, 5) to 44\n",
      "From (44, 5) to 44\n"
     ]
    }
   ],
   "source": [
    "from langchain.prompts import PromptTemplate\n",
    "from langchain_core.output_parsers import StrOutputParser\n",
    "from langsmith.run_helpers import traceable\n",
    "import sys\n",
    "sys.path.append(\"../\")\n",
    "from src.config import Configuration\n",
    "from src.robot import RAGRobot\n",
    "from src.service.provider import ProviderService\n",
    "\n",
    "config = Configuration()\n",
    "\n",
    "config.enable_tracing(project=\"LEARN\")\n",
    "provider = ProviderService()\n",
    "robot = RAGRobot(provider=provider)\n",
    "\n",
    "@traceable(tags=['route'])\n",
    "def run_full_chain(q):\n",
    "    a = robot.main_chain.invoke({\"question\": q})\n",
    "    return a\n"
   ]
  },
  {
   "cell_type": "markdown",
   "metadata": {
    "jp-MarkdownHeadingCollapsed": true
   },
   "source": [
    "## Test routing"
   ]
  },
  {
   "cell_type": "code",
   "execution_count": 3,
   "metadata": {},
   "outputs": [
    {
     "data": {
      "text/plain": [
       "'Local'"
      ]
     },
     "execution_count": 3,
     "metadata": {},
     "output_type": "execute_result"
    }
   ],
   "source": [
    "q = \"sinh viên tốt nghiệp ngành kỹ thuật hóa học có thể ứng tuyển vào vị trí nào?\"\n",
    "a = robot.router.invoke({\"question\": q})\n",
    "a"
   ]
  },
  {
   "cell_type": "code",
   "execution_count": 4,
   "metadata": {},
   "outputs": [
    {
     "data": {
      "text/plain": [
       "'Major'"
      ]
     },
     "execution_count": 4,
     "metadata": {},
     "output_type": "execute_result"
    }
   ],
   "source": [
    "q = \"sinh viên tốt nghiệp ngành công nghệ phần mềm có thể ứng tuyển vào vị trí nào?\"\n",
    "a = robot.router.invoke({\"question\": q})\n",
    "a"
   ]
  },
  {
   "cell_type": "code",
   "execution_count": 5,
   "metadata": {},
   "outputs": [
    {
     "data": {
      "text/plain": [
       "'Major'"
      ]
     },
     "execution_count": 5,
     "metadata": {},
     "output_type": "execute_result"
    }
   ],
   "source": [
    "q = \"trường có dạy AI không ạ?\"\n",
    "a = robot.router.invoke({\"question\": q})\n",
    "a"
   ]
  },
  {
   "cell_type": "code",
   "execution_count": 6,
   "metadata": {},
   "outputs": [
    {
     "data": {
      "text/plain": [
       "'Other'"
      ]
     },
     "execution_count": 6,
     "metadata": {},
     "output_type": "execute_result"
    }
   ],
   "source": [
    "q = \"trường có khuôn viên như thế nào?\"\n",
    "a = robot.router.invoke({\"question\": q})\n",
    "a"
   ]
  },
  {
   "cell_type": "code",
   "execution_count": 4,
   "metadata": {},
   "outputs": [
    {
     "data": {
      "text/plain": [
       "'Major'"
      ]
     },
     "execution_count": 4,
     "metadata": {},
     "output_type": "execute_result"
    }
   ],
   "source": [
    "q = \"trường có ngành học nào chuyên về Việt Nam không ạ?\"\n",
    "a = robot.router.invoke({\"question\": q})\n",
    "a"
   ]
  },
  {
   "cell_type": "code",
   "execution_count": 3,
   "metadata": {},
   "outputs": [
    {
     "data": {
      "text/plain": [
       "'Major'"
      ]
     },
     "execution_count": 3,
     "metadata": {},
     "output_type": "execute_result"
    }
   ],
   "source": [
    "# q = \"trường có ngành học nào chuyên về Việt Nam không ạ?\"\n",
    "q = \"em muốn hỏi về ngành Việt Nam học ạ?\"\n",
    "a = robot.router.invoke({\"question\": q})\n",
    "a"
   ]
  },
  {
   "cell_type": "markdown",
   "metadata": {},
   "source": [
    "## Chain test"
   ]
  },
  {
   "cell_type": "code",
   "execution_count": 2,
   "metadata": {},
   "outputs": [
    {
     "data": {
      "text/plain": [
       "<src.rag.types.RAGResponse at 0x7fa8f4baefd0>"
      ]
     },
     "execution_count": 2,
     "metadata": {},
     "output_type": "execute_result"
    }
   ],
   "source": [
    "q = \"sinh viên tốt nghiệp ngành này có thể ứng tuyển vào vị trí nào?\"\n",
    "a = robot.answer(q)\n",
    "a"
   ]
  },
  {
   "cell_type": "code",
   "execution_count": 6,
   "metadata": {},
   "outputs": [
    {
     "data": {
      "text/plain": [
       "{'history': [HumanMessage(content='sinh viên tốt nghiệp ngành này có thể ứng tuyển vào vị trí nào?'),\n",
       "  AIMessage(content='- Kỹ sư thiết kế, chế tạo máy móc tự động hóa\\n- Kỹ sư vận hành, bảo trì các hệ thống điện tử công nghiệp, robot công nghiệp trong các dây chuyền sản xuất lắp ráp thông minh\\n- Chuyên viên tư vấn, thiết kế, phân tích mô phỏng nhằm cung cấp giải pháp công nghệ theo yêu cầu của khách hàng\\n- Nhân viên hỗ trợ kỹ thuật hoặc giới thiệu sản phẩm cho các tập đoàn sản xuất thiết bị cơ khí – cơ điện tử')]}"
      ]
     },
     "execution_count": 6,
     "metadata": {},
     "output_type": "execute_result"
    }
   ],
   "source": [
    "robot.followup.memory.load_memory_variables({})"
   ]
  },
  {
   "cell_type": "code",
   "execution_count": 7,
   "metadata": {},
   "outputs": [
    {
     "ename": "TypeError",
     "evalue": "__update_followup() got an unexpected keyword argument 'title'",
     "output_type": "error",
     "traceback": [
      "\u001b[0;31m---------------------------------------------------------------------------\u001b[0m",
      "\u001b[0;31mTypeError\u001b[0m                                 Traceback (most recent call last)",
      "Cell \u001b[0;32mIn[7], line 2\u001b[0m\n\u001b[1;32m      1\u001b[0m q \u001b[38;5;241m=\u001b[39m \u001b[38;5;124m\"\u001b[39m\u001b[38;5;124mtrường có ngành học nào chuyên về Việt Nam không ạ?\u001b[39m\u001b[38;5;124m\"\u001b[39m\n\u001b[0;32m----> 2\u001b[0m a \u001b[38;5;241m=\u001b[39m \u001b[43mrobot\u001b[49m\u001b[38;5;241;43m.\u001b[39;49m\u001b[43manswer\u001b[49m\u001b[43m(\u001b[49m\u001b[43mq\u001b[49m\u001b[43m)\u001b[49m\n\u001b[1;32m      3\u001b[0m a\n",
      "File \u001b[0;32m~/miniconda3/envs/uni/lib/python3.9/site-packages/langsmith/run_helpers.py:453\u001b[0m, in \u001b[0;36mtraceable.<locals>.decorator.<locals>.wrapper\u001b[0;34m(langsmith_extra, *args, **kwargs)\u001b[0m\n\u001b[1;32m    451\u001b[0m     stacktrace \u001b[38;5;241m=\u001b[39m traceback\u001b[38;5;241m.\u001b[39mformat_exc()\n\u001b[1;32m    452\u001b[0m     _container_end(run_container, error\u001b[38;5;241m=\u001b[39mstacktrace)\n\u001b[0;32m--> 453\u001b[0m     \u001b[38;5;28;01mraise\u001b[39;00m e\n\u001b[1;32m    454\u001b[0m \u001b[38;5;28;01mfinally\u001b[39;00m:\n\u001b[1;32m    455\u001b[0m     _PARENT_RUN_TREE\u001b[38;5;241m.\u001b[39mset(context_run)\n",
      "File \u001b[0;32m~/miniconda3/envs/uni/lib/python3.9/site-packages/langsmith/run_helpers.py:449\u001b[0m, in \u001b[0;36mtraceable.<locals>.decorator.<locals>.wrapper\u001b[0;34m(langsmith_extra, *args, **kwargs)\u001b[0m\n\u001b[1;32m    445\u001b[0m         function_result \u001b[38;5;241m=\u001b[39m func(\n\u001b[1;32m    446\u001b[0m             \u001b[38;5;241m*\u001b[39margs, run_tree\u001b[38;5;241m=\u001b[39mrun_container[\u001b[38;5;124m\"\u001b[39m\u001b[38;5;124mnew_run\u001b[39m\u001b[38;5;124m\"\u001b[39m], \u001b[38;5;241m*\u001b[39m\u001b[38;5;241m*\u001b[39mkwargs\n\u001b[1;32m    447\u001b[0m         )\n\u001b[1;32m    448\u001b[0m     \u001b[38;5;28;01melse\u001b[39;00m:\n\u001b[0;32m--> 449\u001b[0m         function_result \u001b[38;5;241m=\u001b[39m \u001b[43mfunc\u001b[49m\u001b[43m(\u001b[49m\u001b[38;5;241;43m*\u001b[39;49m\u001b[43margs\u001b[49m\u001b[43m,\u001b[49m\u001b[43m \u001b[49m\u001b[38;5;241;43m*\u001b[39;49m\u001b[38;5;241;43m*\u001b[39;49m\u001b[43mkwargs\u001b[49m\u001b[43m)\u001b[49m\n\u001b[1;32m    450\u001b[0m \u001b[38;5;28;01mexcept\u001b[39;00m \u001b[38;5;167;01mBaseException\u001b[39;00m \u001b[38;5;28;01mas\u001b[39;00m e:\n\u001b[1;32m    451\u001b[0m     stacktrace \u001b[38;5;241m=\u001b[39m traceback\u001b[38;5;241m.\u001b[39mformat_exc()\n",
      "File \u001b[0;32m~/Desktop/graduate/WebQA/core/experiments/../src/robot.py:106\u001b[0m, in \u001b[0;36mRAGRobot.answer\u001b[0;34m(self, question)\u001b[0m\n\u001b[1;32m    104\u001b[0m resp:RAGResponse \u001b[38;5;241m=\u001b[39m \u001b[38;5;28mself\u001b[39m\u001b[38;5;241m.\u001b[39mmain_chain\u001b[38;5;241m.\u001b[39minvoke({\u001b[38;5;124m\"\u001b[39m\u001b[38;5;124mquestion\u001b[39m\u001b[38;5;124m\"\u001b[39m: question})\n\u001b[1;32m    105\u001b[0m \u001b[38;5;28;01mif\u001b[39;00m \u001b[38;5;28mself\u001b[39m\u001b[38;5;241m.\u001b[39mis_document_update:\n\u001b[0;32m--> 106\u001b[0m     \u001b[38;5;28;43mself\u001b[39;49m\u001b[38;5;241;43m.\u001b[39;49m\u001b[43m__update_followup\u001b[49m\u001b[43m(\u001b[49m\u001b[43mtitle\u001b[49m\u001b[38;5;241;43m=\u001b[39;49m\u001b[43mresp\u001b[49m\u001b[38;5;241;43m.\u001b[39;49m\u001b[43mdocument\u001b[49m\u001b[38;5;241;43m.\u001b[39;49m\u001b[43mtitle\u001b[49m\u001b[43m,\u001b[49m\u001b[43m \u001b[49m\u001b[43mcontent\u001b[49m\u001b[38;5;241;43m=\u001b[39;49m\u001b[43mresp\u001b[49m\u001b[38;5;241;43m.\u001b[39;49m\u001b[43mdocument\u001b[49m\u001b[38;5;241;43m.\u001b[39;49m\u001b[43mcontent\u001b[49m\u001b[43m)\u001b[49m\n\u001b[1;32m    107\u001b[0m     \u001b[38;5;28mself\u001b[39m\u001b[38;5;241m.\u001b[39mis_document_update \u001b[38;5;241m=\u001b[39m \u001b[38;5;28;01mFalse\u001b[39;00m\n\u001b[1;32m    108\u001b[0m     \u001b[38;5;28mself\u001b[39m\u001b[38;5;241m.\u001b[39mprevious_doc \u001b[38;5;241m=\u001b[39m resp\u001b[38;5;241m.\u001b[39mdocument\n",
      "\u001b[0;31mTypeError\u001b[0m: __update_followup() got an unexpected keyword argument 'title'"
     ]
    }
   ],
   "source": [
    "q = \"trường có ngành học nào chuyên về Việt Nam không ạ?\"\n",
    "a = robot.answer(q)\n",
    "a"
   ]
  },
  {
   "cell_type": "code",
   "execution_count": 3,
   "metadata": {},
   "outputs": [
    {
     "data": {
      "text/plain": [
       "<src.rag.types.RAGResponse at 0x7f676fbcb670>"
      ]
     },
     "execution_count": 3,
     "metadata": {},
     "output_type": "execute_result"
    }
   ],
   "source": [
    "q = \"trường có ngành học nào chuyên về Việt Nam không ạ?\"\n",
    "a = robot.answer(question=q)\n",
    "a"
   ]
  },
  {
   "cell_type": "code",
   "execution_count": 9,
   "metadata": {},
   "outputs": [
    {
     "data": {
      "text/plain": [
       "'Việt Nam học - Chuyên ngành Việt ngữ học và văn hóa xã hội Việt Nam là một ngành khoa học nghiên cứu về đất nước, con người Việt Nam theo hướng tiếp cận liên ngành. Chương trình đào tạo ngành Việt Nam học, chuyên ngành Việt ngữ học và Văn hóa xã hội Việt Nam tại Trường Đại học Tôn Đức Thắng là chương trình dành cho đối tượng là người nước ngoài, nhằm đáp ứng nhu cầu về nguồn nhân lực là người nước ngoài sử dụng thông thạo tiếng Việt, am hiểu về đất nước và con người Việt Nam.\\n\\nSau khi tốt nghiệp ngành Việt Nam học, chuyên ngành Việt ngữ học và Văn hóa xã hội Việt Nam, học viên có thể tìm kiếm việc làm phù hợp ở các cơ quan ngoại giao, tổ chức quốc tế, công ty du lịch, văn phòng thương mại, tổ chức chính phủ và phi chính phủ có nhu cầu sử dụng nguồn nhân lực am hiểu về Việt Nam (ở Việt Nam và nước ngoài). Ngoài ra sinh viên cũng có thể làm công tác phiên dịch, biên dịch, nghiên cứu và giảng dạy tiếng Việt tại các trường đại học, cao đẳng hoặc các trung tâm ngôn ngữ trong và ngoài nước. \\nKhi lựa chọn chương trình này, học viên được cung cấp kiến thức toàn diện về ngôn ngữ, đất nước và con người Việt Nam thông qua những môn học mới, hiện đại, được thiết kế để phù hợp với sự phát triển của xã hội và đáp ứng được nhu cầu hội nhập quốc tế.\\n\\nBên cạnh đó, học viên còn được rèn luyện kỹ năng giao tiếp, kỹ năng làm việc nhóm, kỹ năng tổ chức sự kiện, … thông qua các hoạt động ngoại khóa sôi nổi, giúp học viên vững vàng về kiến thức, tự tin, năng động trong môi trường đa văn hóa và xu thế hội nhập.\\n\\nVới phương pháp lấy người học làm trung tâm, chương trình đào tạo ngành học này được biên soạn theo hướng đặt trọng tâm vào thực hành và kỹ năng mềm cần thiết cho học viên sau khi tốt nghiệp, qua đó tăng khả năng tự học, khả năng tự nghiên cứu và xử lý tình huống linh hoạt cho học viên. '"
      ]
     },
     "execution_count": 9,
     "metadata": {},
     "output_type": "execute_result"
    }
   ],
   "source": [
    "robot.previous_doc.content"
   ]
  },
  {
   "cell_type": "code",
   "execution_count": 11,
   "metadata": {},
   "outputs": [
    {
     "name": "stdout",
     "output_type": "stream",
     "text": [
      "Given the user question below, classify it as either being about `Major`, `Local` or `Other`. Known that:\n",
      "```\n",
      "    Local: when the question related to \"Ngành Việt Nam học - Chuyên ngành Việt ngữ học và văn hóa xã hội Việt Nam\" or \"Ngành Việt Nam học - Chuyên ngành Việt ngữ học và văn hóa xã hội Việt Nam trường Tôn Đức Thắng\". This have the highest priority.\n",
      "    Major: when the question related to a training program (major) of Ton Duc Thang university.\n",
      "    Major: khi câu hỏi liên quan đến ngành đào tạo của trường đại học Tôn Đức Thắng. Ví dụ: hỏi về ngành học, trường đào tạo ngành học gì, các ngành học có ...\n",
      "```\n",
      "Do not respond with more than one word.\n",
      "\n",
      "<question>\n",
      "{question}\n",
      "</question>\n",
      "\n",
      "Classification:\n"
     ]
    }
   ],
   "source": [
    "print(robot.tem_ref)"
   ]
  },
  {
   "cell_type": "code",
   "execution_count": 12,
   "metadata": {},
   "outputs": [
    {
     "data": {
      "text/plain": [
       "<src.rag.types.RAGResponse at 0x7f674e92b520>"
      ]
     },
     "execution_count": 12,
     "metadata": {},
     "output_type": "execute_result"
    }
   ],
   "source": [
    "q = \"trường có ngành học nào chuyên về Việt Nam không ạ?\"\n",
    "q = \"cử nhân tốt nghiệp ngành này có thể  ứng tuyển vào vị trí nào?\"\n",
    "a = robot.answer(question=q)\n",
    "a"
   ]
  },
  {
   "cell_type": "code",
   "execution_count": 16,
   "metadata": {},
   "outputs": [
    {
     "data": {
      "text/plain": [
       "'Ngành ngôn ngữ Trung Quốc'"
      ]
     },
     "execution_count": 16,
     "metadata": {},
     "output_type": "execute_result"
    }
   ],
   "source": [
    "a.document.title"
   ]
  },
  {
   "cell_type": "code",
   "execution_count": 17,
   "metadata": {},
   "outputs": [
    {
     "data": {
      "text/plain": [
       "AIMessage(content='- Biên - phiên dịch viên tiếng Trung\\n- Thư ký\\n- Trợ lý lãnh đạo\\n- Tiếp viên hàng không\\n- Nhân viên kinh doanh\\n- Nhân viên xuất nhập khẩu\\n- Chuyên viên tư vấn du học\\n- Nhân viên Đại sứ quán\\n- Giảng viên dạy tiếng Trung\\n- Hướng dẫn viên du lịch')"
      ]
     },
     "execution_count": 17,
     "metadata": {},
     "output_type": "execute_result"
    }
   ],
   "source": [
    "q = \"sinh viên tốt nghiệp ngành ngôn ngữ Trung Quốc có thể ứng tuyển vào vị trí nào?\"\n",
    "a = run_full_chain(q)\n",
    "a\n"
   ]
  },
  {
   "cell_type": "code",
   "execution_count": null,
   "metadata": {},
   "outputs": [],
   "source": []
  },
  {
   "cell_type": "markdown",
   "metadata": {},
   "source": [
    "## Server RAG"
   ]
  },
  {
   "cell_type": "code",
   "execution_count": 3,
   "metadata": {},
   "outputs": [
    {
     "name": "stdout",
     "output_type": "stream",
     "text": [
      "From (44, 4) to 44\n"
     ]
    }
   ],
   "source": [
    "from src.rag.hybrid_rag import HybridGeminiRAG\n",
    "from src.service.provider import ProviderService\n",
    "services = ProviderService()\n",
    "\n",
    "major = services.get_categories().major\n",
    "\n",
    "rag = HybridGeminiRAG(\n",
    "    vector_es_index=\"labse-major\", \n",
    "    txt_es_index=\"text-split-major\", \n",
    "    db_category=major, provider=services)"
   ]
  },
  {
   "cell_type": "markdown",
   "metadata": {},
   "source": [
    "## Local Follow Up"
   ]
  },
  {
   "cell_type": "code",
   "execution_count": 4,
   "metadata": {},
   "outputs": [
    {
     "name": "stdout",
     "output_type": "stream",
     "text": [
      "From (44, 4) to 44\n"
     ]
    },
    {
     "data": {
      "text/plain": [
       "'Kỹ thuật hoá học là ngành học'"
      ]
     },
     "execution_count": 4,
     "metadata": {},
     "output_type": "execute_result"
    }
   ],
   "source": [
    "from src.prepare.data_load import DocDataLoader\n",
    "\n",
    "doc_loader = DocDataLoader()\n",
    "docs = doc_loader.load_major_docs_full()\n",
    "d1 = docs[15]\n",
    "d1.page_content[:30]"
   ]
  },
  {
   "cell_type": "code",
   "execution_count": 5,
   "metadata": {},
   "outputs": [],
   "source": [
    "from src.chain.followup import LocalFollowUpChain\n",
    "followup = LocalFollowUpChain(config=config, doc_content=d1.page_content)"
   ]
  },
  {
   "cell_type": "markdown",
   "metadata": {},
   "source": [
    "## Router"
   ]
  },
  {
   "cell_type": "code",
   "execution_count": 6,
   "metadata": {},
   "outputs": [],
   "source": [
    "from langchain_core.runnables import RunnableBranch\n",
    "\n",
    "\n",
    "branch = RunnableBranch(\n",
    "    (lambda x: \"local\" in x[\"topic\"].lower(), followup.chain),\n",
    "    rag.chain\n",
    ")\n"
   ]
  },
  {
   "cell_type": "code",
   "execution_count": 7,
   "metadata": {},
   "outputs": [],
   "source": [
    "llm = config.get_gemini_pro(convert_system_message=False)\n",
    "template = \"\"\"Given the user question below, classify it as either being about `Local`, or `Other`. Known that:\n",
    "```\n",
    "    Local: when the question related to \"ngành kỹ thuật hóa học\" or \"ngành kỹ thuật hóa học trường Tôn Đức Thắng\".\n",
    "```\n",
    "Do not respond with more than one word.\n",
    "\n",
    "<question>\n",
    "{question}\n",
    "</question>\n",
    "\n",
    "Classification:\"\"\"\n",
    "chain = (\n",
    "    PromptTemplate.from_template(template=template)\n",
    "    | llm\n",
    "    | StrOutputParser()\n",
    ")"
   ]
  },
  {
   "cell_type": "code",
   "execution_count": 8,
   "metadata": {},
   "outputs": [],
   "source": [
    "full_chain = {\"topic\": chain, \"question\": lambda x: x[\"question\"]} | branch"
   ]
  },
  {
   "cell_type": "code",
   "execution_count": 9,
   "metadata": {},
   "outputs": [],
   "source": [
    "config.enable_tracing(project=\"LEARN\")"
   ]
  },
  {
   "cell_type": "code",
   "execution_count": 10,
   "metadata": {},
   "outputs": [],
   "source": [
    "from langsmith.run_helpers import traceable\n",
    "\n",
    "@traceable(tags=['route'])\n",
    "def run_full_chain(q):\n",
    "    a = full_chain.invoke({\"question\": q})\n",
    "    return a"
   ]
  },
  {
   "cell_type": "code",
   "execution_count": 11,
   "metadata": {},
   "outputs": [
    {
     "data": {
      "text/plain": [
       "AIMessage(content='- Chuyên viên vận hành và quản lý sản xuất\\n- Chuyên viên nghiên cứu phát triển sản phẩm\\n- Chuyên viên tư vấn quản lí và chuyển giao công nghệ\\n- Nhân viên kinh doanh hóa chất\\n- Nhân viên kiểm soát chất lượng sản phẩm')"
      ]
     },
     "execution_count": 11,
     "metadata": {},
     "output_type": "execute_result"
    }
   ],
   "source": [
    "q = \"sinh viên tốt nghiệp ngành kỹ thuật hóa học có thể ứng tuyển vào vị trí nào?\"\n",
    "a = run_full_chain(q)\n",
    "a"
   ]
  },
  {
   "cell_type": "code",
   "execution_count": 12,
   "metadata": {},
   "outputs": [
    {
     "data": {
      "text/plain": [
       "'Chuyên viên phân tích yêu cầu (BA), Kiến trúc sư phần mềm (SA), Lập trình viên (Developer), Chuyên viên thử nghiệm phần mềm (Tester), chuyên viên cầu nối (BrSE), chuyên viên nghiên cứu và phát triển ứng dụng (R&D), giảng viên giảng dạy các môn học về ngành kỹ thuật phần mềm'"
      ]
     },
     "execution_count": 12,
     "metadata": {},
     "output_type": "execute_result"
    }
   ],
   "source": [
    "q = \"sinh viên tốt nghiệp ngành công nghệ phần mềm có thể ứng tuyển vào vị trí nào?\"\n",
    "a = run_full_chain(q)\n",
    "a"
   ]
  }
 ],
 "metadata": {
  "kernelspec": {
   "display_name": "Python 3 (ipykernel)",
   "language": "python",
   "name": "python3"
  },
  "language_info": {
   "codemirror_mode": {
    "name": "ipython",
    "version": 3
   },
   "file_extension": ".py",
   "mimetype": "text/x-python",
   "name": "python",
   "nbconvert_exporter": "python",
   "pygments_lexer": "ipython3",
   "version": "3.9.18"
  }
 },
 "nbformat": 4,
 "nbformat_minor": 4
}
