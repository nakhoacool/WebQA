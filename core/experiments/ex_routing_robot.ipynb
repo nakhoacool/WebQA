{
 "cells": [
  {
   "cell_type": "markdown",
   "metadata": {},
   "source": [
    "# Test Robot"
   ]
  },
  {
   "cell_type": "code",
   "execution_count": 1,
   "metadata": {},
   "outputs": [
    {
     "name": "stderr",
     "output_type": "stream",
     "text": [
      "/home/h4438/miniconda3/envs/uni/lib/python3.9/site-packages/tqdm/auto.py:21: TqdmWarning: IProgress not found. Please update jupyter and ipywidgets. See https://ipywidgets.readthedocs.io/en/stable/user_install.html\n",
      "  from .autonotebook import tqdm as notebook_tqdm\n"
     ]
    },
    {
     "name": "stdout",
     "output_type": "stream",
     "text": [
      "From (44, 5) to 44\n",
      "From (11, 4) to 11\n",
      "From (8, 4) to 8\n",
      "From (44, 5) to 44\n"
     ]
    }
   ],
   "source": [
    "from langchain.prompts import PromptTemplate\n",
    "from langchain_core.output_parsers import StrOutputParser\n",
    "from langsmith.run_helpers import traceable\n",
    "import sys\n",
    "sys.path.append(\"../\")\n",
    "from src.config import Configuration\n",
    "from src.robot import RAGRobot\n",
    "from src.service.provider import ProviderService\n",
    "\n",
    "config = Configuration()\n",
    "\n",
    "config.enable_tracing(project=\"LEARN\")\n",
    "provider = ProviderService()\n",
    "robot = RAGRobot(provider=provider)"
   ]
  },
  {
   "cell_type": "markdown",
   "metadata": {},
   "source": [
    "## Test routing"
   ]
  },
  {
   "cell_type": "code",
   "execution_count": 3,
   "metadata": {},
   "outputs": [
    {
     "data": {
      "text/plain": [
       "'Major'"
      ]
     },
     "execution_count": 3,
     "metadata": {},
     "output_type": "execute_result"
    }
   ],
   "source": [
    "q = \"sinh viên tốt nghiệp ngành kỹ thuật hóa học có thể ứng tuyển vào vị trí nào?\"\n",
    "a = robot.router.invoke({\"question\": q})\n",
    "a"
   ]
  },
  {
   "cell_type": "code",
   "execution_count": 5,
   "metadata": {},
   "outputs": [
    {
     "data": {
      "text/plain": [
       "'Uni'"
      ]
     },
     "execution_count": 5,
     "metadata": {},
     "output_type": "execute_result"
    }
   ],
   "source": [
    "q = \"sinh viên tốt nghiệp ngành công nghệ phần mềm có thể ứng tuyển vào vị trí nào?\"\n",
    "q = \"cho em hỏi địa chỉ trường Tôn Đức Thắng ạ?\"\n",
    "a = robot.router.invoke({\"question\": q})\n",
    "a"
   ]
  },
  {
   "cell_type": "code",
   "execution_count": 3,
   "metadata": {},
   "outputs": [
    {
     "data": {
      "text/plain": [
       "'Major'"
      ]
     },
     "execution_count": 3,
     "metadata": {},
     "output_type": "execute_result"
    }
   ],
   "source": [
    "q = \"trường có dạy AI không ạ?\"\n",
    "a = robot.router.invoke({\"question\": q})\n",
    "a"
   ]
  },
  {
   "cell_type": "code",
   "execution_count": 4,
   "metadata": {},
   "outputs": [
    {
     "data": {
      "text/plain": [
       "'Uni'"
      ]
     },
     "execution_count": 4,
     "metadata": {},
     "output_type": "execute_result"
    }
   ],
   "source": [
    "q = \"địa chỉ của trường đại học Tôn Đức Thắng ở đâu?\"\n",
    "a = robot.router.invoke({\"question\": q})\n",
    "a\n"
   ]
  },
  {
   "cell_type": "code",
   "execution_count": 4,
   "metadata": {},
   "outputs": [
    {
     "data": {
      "text/plain": [
       "'Other'"
      ]
     },
     "execution_count": 4,
     "metadata": {},
     "output_type": "execute_result"
    }
   ],
   "source": [
    "q = \"trường có khuôn viên như thế nào?\"\n",
    "a = robot.router.invoke({\"question\": q})\n",
    "a"
   ]
  },
  {
   "cell_type": "code",
   "execution_count": 5,
   "metadata": {},
   "outputs": [
    {
     "data": {
      "text/plain": [
       "'Major'"
      ]
     },
     "execution_count": 5,
     "metadata": {},
     "output_type": "execute_result"
    }
   ],
   "source": [
    "q = \"trường có ngành học nào chuyên về Việt Nam không ạ?\"\n",
    "a = robot.router.invoke({\"question\": q})\n",
    "a"
   ]
  },
  {
   "cell_type": "code",
   "execution_count": 6,
   "metadata": {},
   "outputs": [
    {
     "data": {
      "text/plain": [
       "'Major'"
      ]
     },
     "execution_count": 6,
     "metadata": {},
     "output_type": "execute_result"
    }
   ],
   "source": [
    "q = \"trường có ngành học nào chuyên về Việt Nam không ạ?\"\n",
    "# q = \"em muốn hỏi về ngành Việt Nam học ạ?\"\n",
    "a = robot.router.invoke({\"question\": q})\n",
    "a"
   ]
  },
  {
   "cell_type": "code",
   "execution_count": 7,
   "metadata": {},
   "outputs": [
    {
     "data": {
      "text/plain": [
       "'Major'"
      ]
     },
     "execution_count": 7,
     "metadata": {},
     "output_type": "execute_result"
    }
   ],
   "source": [
    "q = \"cho em hỏi về ngành kỹ thuật phần mềm?\"\n",
    "a = robot.router.invoke({\"question\": q})\n",
    "a"
   ]
  },
  {
   "cell_type": "markdown",
   "metadata": {},
   "source": [
    "## Chain test"
   ]
  },
  {
   "cell_type": "code",
   "execution_count": 2,
   "metadata": {},
   "outputs": [
    {
     "name": "stderr",
     "output_type": "stream",
     "text": [
      "/home/h4438/miniconda3/envs/uni/lib/python3.9/site-packages/langchain_core/_api/deprecation.py:117: LangChainDeprecationWarning: The function `__call__` was deprecated in LangChain 0.1.7 and will be removed in 0.2.0. Use invoke instead.\n",
      "  warn_deprecated(\n"
     ]
    },
    {
     "data": {
      "text/plain": [
       "<src.rag.types.RAGResponse at 0x7f90f056d040>"
      ]
     },
     "execution_count": 2,
     "metadata": {},
     "output_type": "execute_result"
    }
   ],
   "source": [
    "q = \"sinh viên tốt nghiệp ngành này có thể ứng tuyển vào vị trí nào?\"\n",
    "q = \"Địa chỉ trường Tôn Đức Thắng là gì ạ?\"\n",
    "q = \"cho em hỏi về ngành phần mềm?\"\n",
    "q = \"cho em hỏi về ngành Dược\"\n",
    "q = \"em muốn biết thông tin về ngành ngôn ngữ Anh\"\n",
    "a = robot.answer(q)\n",
    "a"
   ]
  },
  {
   "cell_type": "code",
   "execution_count": 3,
   "metadata": {},
   "outputs": [
    {
     "data": {
      "text/plain": [
       "'Ngành Ngôn ngữ Anh tại Trường Đại học Tôn Đức Thắng đào tạo sinh viên về ngôn ngữ, văn hóa và văn học Anh - Mỹ, trang bị các kỹ năng nghe, nói, đọc, viết, dịch thuật để đáp ứng nhu cầu phát triển của xã hội.'"
      ]
     },
     "execution_count": 3,
     "metadata": {},
     "output_type": "execute_result"
    }
   ],
   "source": [
    "a.answer"
   ]
  },
  {
   "cell_type": "code",
   "execution_count": 5,
   "metadata": {},
   "outputs": [
    {
     "data": {
      "text/plain": [
       "'**Chương trình đào tạo chất lượng cao (CLC) về Kỹ thuật phần mềm**\\n\\n* Được xây dựng theo nhu cầu của thị trường lao động\\n* Gắn kết lý thuyết với thực tiễn\\n* Kết hợp kiến thức chuyên môn và chuyên ngành với rèn luyện kỹ năng thực hành\\n* Chú trọng đến các kỹ năng mềm và thực tập doanh nghiệp\\n* Đào tạo ra các Kỹ sư phần mềm nắm vững các thức liên quan đến quy trình phát triển phần mềm một cách chuyên nghiệp nhằm tạo ra sản phẩm phần mềm đạt chất lượng cao, đáp ứng các nhu cầu nghiệp vụ cụ thể trong nền sản xuất của xã hội.\\n* Sinh viên được trang bị các kiến thức chuyên sâu về công nghiệp phần mềm, bao gồm: quy trình phát triển phần mềm, kỹ năng vận dụng các công cụ phần mềm vào việc hỗ trợ phát triển các phần mềm khác; các kiến thức cần thiết liên quan đến các pha thực hiện trong một dự án phần mềm như: thu thập yêu cầu, phân tích, thiết kế, lập trình, kiểm thử, vận hành và bảo trì phần mềm.'"
      ]
     },
     "execution_count": 5,
     "metadata": {},
     "output_type": "execute_result"
    }
   ],
   "source": [
    "q = \"cho em hỏi về chương trình đào tạo chất lượng cao\"\n",
    "a = robot.answer(q)\n",
    "a.answer"
   ]
  },
  {
   "cell_type": "code",
   "execution_count": 3,
   "metadata": {},
   "outputs": [
    {
     "data": {
      "text/plain": [
       "True"
      ]
     },
     "execution_count": 3,
     "metadata": {},
     "output_type": "execute_result"
    }
   ],
   "source": [
    "robot.current_doc.source == a.document.source"
   ]
  },
  {
   "cell_type": "code",
   "execution_count": 4,
   "metadata": {},
   "outputs": [
    {
     "data": {
      "text/plain": [
       "True"
      ]
     },
     "execution_count": 4,
     "metadata": {},
     "output_type": "execute_result"
    }
   ],
   "source": [
    "robot.followup != None"
   ]
  },
  {
   "cell_type": "code",
   "execution_count": 5,
   "metadata": {},
   "outputs": [
    {
     "data": {
      "text/plain": [
       "True"
      ]
     },
     "execution_count": 5,
     "metadata": {},
     "output_type": "execute_result"
    }
   ],
   "source": [
    "robot.followup.current_document.source == a.document.source"
   ]
  },
  {
   "cell_type": "code",
   "execution_count": 6,
   "metadata": {},
   "outputs": [
    {
     "name": "stdout",
     "output_type": "stream",
     "text": [
      "\n",
      "## [Kỹ thuật phần mềm](/dai-hoc/nganh-hoc/ky-thuat-phan-mem)\n",
      "## Kỹ thuật phần mềm\n",
      "[Đăng ký xét tuyển](https://xettuyen.tdtu.edu.vn/dangky) \n",
      "[Đặt câu hỏi](https://connect.tdtu.edu.vn:8443/) Kỹ thuật phần mềm là ngành ứng dụng kiến thức về lập trình, thiết kế phần mềm,\n",
      "quy trình vận hành và phát triển phần mềm, phân tích yêu cầu hệ thống, trí tuệ\n",
      "nhân tạo … để tạo ra sản phẩm phần mềm đạt chất lượng cao, đáp ứng xu hướng phát\n",
      "triển mạnh mẽ của công nghệ và nhu cầu nghiệp vụ cụ thể trong nền sản xuất của\n",
      "xã hội. Cử nhân Kỹ thuật phần mềm có thể tự tin khởi nghiệp hoặc ứng tuyển vào các\n",
      "doanh nghiệp trong và ngoài nước, các cơ quan, ban ngành ở những vị trí: Chuyên\n",
      "viên phân tích yêu cầu (BA), Kiến trúc sư phần mềm (SA), Lập trình viên\n",
      "(Developer), Chuyên viên thử nghiệm phần mềm (Tester), chuyên viên cầu nối\n",
      "(BrSE), chuyên viên nghiên cứu và phát triển ứng dụng (R&D), giảng viên giảng\n",
      "dạy các môn học về ngành kỹ thuật phần mềm hoặc có thể tiếp tục nghiên cứu và\n",
      "học lên cao học.\n",
      "[Phương thức tuyển sinh](../../../../dai-hoc/tuyen-sinh/phuong-thuc-2023) \n",
      "[Tư vấn trực tuyến](https://www.facebook.com/tuyensinhtdtu) \n",
      "[Gọi hotline tư vấn](../../../../hoc-tai-tdtu/ho-tro-sinh-vien) \n",
      "## Vì sao nên chọn ngành Kỹ thuật phần mềm tại Trường Đại học Tôn Đức Thắng\n",
      " TDTU thuộc top 500 đại học tốt nhất thế giới (THE World University Rankings) Học phí thấp 100% sinh viên ra trường có việc làm trong vòng 12 tháng kể từ khi tốt nghiệp ## Các chương trình của ngành Kỹ thuật phần mềm\n",
      "* [Tiêu chuẩn](#tab-9bnar-1)\n",
      "* [Chất lượng cao](#tab-9bnar-2)\n",
      "* [Đại học bằng tiếng Anh](#tab-9bnar-3)\n",
      "* \n",
      "**Kỹ thuật phần mềm - Mã ngành:** \n",
      "**7480103** Sinh viên được cung cấp kiến thức nền cơ sở của kỹ thuật phần mềm và những\n",
      "kiến thức mang tính định hướng theo nhu cầu phát triển của xã hội như: phát\n",
      "triển ứng dụng trên các nền tảng số, thiết bị máy tính, di động thông minh;\n",
      "thiết kế giao diện thân thiện với người dùng; phân tích hệ thống; an toàn thông\n",
      "tin; quản lý dự án công nghệ thông tin; … Ngoài ra, sinh viên còn được tạo điều\n",
      "kiện để củng cố kiến thức chuyên môn và nâng cao tay nghề thông qua các tiết học\n",
      "thực hành trong phòng học được trang bị đầy đủ trang thiết bị tiên tiến và liên\n",
      "tục cập nhật. Số tiết học thực hành được thiết kế để cân bằng với số buổi học lý\n",
      "thuyết, giúp sinh viên có cơ hội rèn luyện và vận dụng những kiến thức đã học\n",
      "vào thực tế. Các học phần được thiết kế mang tính ứng dụng cao, theo hướng tăng dần từ cấp\n",
      "độ cơ bản đến cấp độ sinh viên có đủ kiến thức và kỹ năng để tự thực hiện được\n",
      "một dự án phần mềm, từ giai đoạn thu thập yêu cầu, phân tích, thiết kế, lập\n",
      "trình, kiểm thử đến giai đoạn vận hành và bảo trì phần mềm. Nhà trường còn đẩy\n",
      "mạnh chương trình kết nối mạng lưới doanh nghiệp thân hữu nhằm tạo điều kiện cho\n",
      "sinh viên có cơ hội tham quan và kiến tập từ năm học thứ 2. Bên cạnh đó, đối với\n",
      "một số môn học mang tính chuyên môn, giảng viên sẽ kết hợp với các chuyên gia\n",
      "dày dặn kinh nghiệm trực tiếp giảng dạy, góp phần bồi dưỡng thêm kiến thức và\n",
      "liiên tục cập nhật các tiêu chuẩn mới nhất về công nghệ để tăng khả năng cạnh\n",
      "tranh và hội nhập với nhu cầu ngày càng cao của xã hội. Sinh viên ngành Kỹ thuật phần mềm sau khi tốt nghiệp sẽ được trang bị đầy đủ\n",
      "các kỹ năng như: kỹ năng phân tích, thiết kế, lập trình và kiểm thử các hệ thống\n",
      "phần mềm; kỹ năng triển khai và quản lý các dự án phần mềm cho doanh nghiệp;\n",
      "thuần thục việc ứng dụng các công cụ phần mềm vào việc khai thác, phân tích dữ\n",
      "liệu doanh nghiệp; có khả năng tư vấn giải pháp xây dựng các hệ thống phần mềm,\n",
      "…\n",
      "**Thông tin cần biết** Bằng cấp Cử nhân\n",
      " Thời gian đào tạo Toàn thời gian: 4 năm\n",
      " Chương trình đào tạo [Xem thông tin chi tiết về chương trình đào\n",
      "tạo](https://cktt-cdr.tdtu.edu.vn/chuongtrinhdaotao?type=tuyensinh&hedaotao=0)\n",
      " Chuẩn đầu ra [Xem thông tin chi tiết về chuẩn đầu\n",
      "ra](https://cktt-cdr.tdtu.edu.vn/chuandaura?type=tuyensinh&hedaotao=0)\n",
      " Phương thức xét tuyển riêng Tổ hợp: Toán\\*2, Anh, Lý KQ ĐGNL của ĐHQG TP. HCM Ưu tiên xét tuyển theo TDTU\n",
      " Xét tuyển theo điểm thi THPT Tổ hợp: A00; A01; D01 Điểm trúng tuyển 2022 (thang 40):  **35.4**\n",
      " Khai giảng Tháng 9, năm 2023\n",
      " Học phí 28.800.000 (đồng/năm)\n",
      "**Kỹ thuật phần mềm - Mã ngành:** \n",
      "**F7480103** Chương trình đào tạo chất lượng cao (CLC) về Kỹ thuật phần mềm được xây dựng\n",
      "nhu cầu của thị trường lao động; gắn kết lý thuyết với thực tiễn; kết hợp kiến\n",
      "thức chuyên môn và chuyên ngành với rèn luyện kỹ năng thực hành; chú trọng đến\n",
      "các kỹ năng mềm và thực tập doanh nghiệp Ngành Kỹ thuật phần mềm đào tạo ra các Kỹ sư phần mềm nắm vững các thức liên\n",
      "quan đến quy trình phát triển phần mềm một cách chuyên nghiệp nhằm tạo ra sản\n",
      "phẩm phần mềm đạt chất lượng cao, đáp ứng các nhu cầu nghiệp vụ cụ thể trong nền\n",
      "sản xuất của xã hội. Sinh viên được trang bị các kiến thức chuyên sâu về công\n",
      "nghiệp phần mềm, bao gồm: quy trình phát triển phần mềm, kỹ năng vận dụng các\n",
      "công cụ phần mềm vào việc hỗ trợ phát triển các phần mềm khác; các kiến thức cần\n",
      "thiết liên quan đến các pha thực hiện trong một dự án phần mềm như: thu thập yêu\n",
      "cầu, phân tích, thiết kế, lập trình, kiểm thử, vận hành và bảo trì phần mềm.\n",
      "**Thông tin cần biết** Bằng cấp Cử nhân\n",
      " Thời gian đào tạo Toàn thời gian: 4 năm\n",
      " Chương trình đào tạo [Xem thông tin chi tiết về chương trình đào\n",
      "tạo](https://cktt-cdr.tdtu.edu.vn/chuongtrinhdaotao?type=tuyensinh&hedaotao=H)\n",
      " Chuẩn đầu ra [Xem thông tin chi tiết về chuẩn đầu\n",
      "ra](https://cktt-cdr.tdtu.edu.vn/chuandaura?type=tuyensinh&hedaotao=H)\n",
      " Phương thức xét tuyển riêng Tổ hợp: Toán\\*2, Anh, Lý KQ ĐGNL của ĐHQG TP. HCM Ưu tiên xét tuyển theo TDTU\n",
      " Xét tuyển theo điểm thi THPT Tổ hợp: A00; A01; D01 Điểm trúng tuyển 2022 (thang 40):  **34.5**\n",
      " Khai giảng Tháng 9, năm 2023\n",
      " Học phí Năm 1: 40.790.000 (đồng) Năm 2: 47.588.000 (đồng) Năm 3: 52.235.000 (đồng) Năm 4: 52.235.000 (đồng)\n",
      "**Kỹ thuật phần mềm - Mã ngành:** \n",
      "**FA7480103** Đang cập nhật ...\n",
      "**Thông tin cần biết** Bằng cấp Cử nhân\n",
      " Thời gian đào tạo Toàn thời gian: 4 năm\n",
      " Chương trình đào tạo [Xem thông tin chi tiết về chương trình đào\n",
      "tạo](https://cktt-cdr.tdtu.edu.vn/chuongtrinhdaotao?type=tuyensinh&hedaotao=K)\n",
      " Chuẩn đầu ra [Xem thông tin chi tiết về chuẩn đầu\n",
      "ra](https://cktt-cdr.tdtu.edu.vn/chuandaura?type=tuyensinh&hedaotao=K)\n",
      " Phương thức xét tuyển riêng Xét theo điểm trung bình HK KQ ĐGNL của ĐHQG TP. HCM Ưu tiên xét tuyển theo TDTU\n",
      " Xét tuyển theo điểm thi THPT Tổ hợp: E03; E06; A01; D01 Điểm trúng tuyển 2022 (thang 40):  **24**\n",
      " Khai giảng Tháng 9, năm 2023\n",
      " Học phí Năm 1: 62.372.000 (đồng) Năm 2: 76.406.000 (đồng) Năm 3: 78.322.000 (đồng) Năm 4: 78.052.000 (đồng)\n",
      "## Cựu sinh viên nói gì về ngành Kỹ thuật phần mềm\n",
      "![](https://admission.tdtu.edu.vn) Đang cập nhật ...\n",
      "## Các ngành học liên quan\n",
      "[Khoa học máy tính](../../../../dai-hoc/nganh-hoc/khoa-hoc-may-tinh) \n",
      "[Mạng máy tính và truyền thông dữ liệu](../../../../dai-hoc/nganh-hoc/mang-may-tinh-va-truyen-thong-du-lieu) \n",
      "[Toán ứng dụng](../../../../dai-hoc/nganh-hoc/toan-ung-dung) \n",
      "## Làm gì tiếp theo?\n",
      "[Đăng ký xét tuyển](https://xettuyen.tdtu.edu.vn/dangky) \n",
      "[Đặt câu hỏi](https://connect.tdtu.edu.vn:8443/) \n",
      "Tải cẩm nang tuyển sinh\n",
      "[Xem thông báo tuyển sinh](../../../../dai-hoc/tuyen-sinh/phuong-thuc-2023) \n",
      "[Cơ sở vật chất TDTU](../../../../gioi-thieu/co-so-vat-chat) \n",
      "[Xem thông tin về Khoa](https://it.tdtu.edu.vn/) \n",
      "\n"
     ]
    }
   ],
   "source": [
    "print(robot.followup.current_document.content)"
   ]
  },
  {
   "cell_type": "code",
   "execution_count": 7,
   "metadata": {},
   "outputs": [
    {
     "data": {
      "text/plain": [
       "<src.rag.types.RAGResponse at 0x7f8d6ed4d0a0>"
      ]
     },
     "execution_count": 7,
     "metadata": {},
     "output_type": "execute_result"
    }
   ],
   "source": [
    "q = \"trường có ngành học nào chuyên về Việt Nam không ạ?\"\n",
    "q = \"ngành có học phí bao nhiêu?\"\n",
    "a = robot.answer(question=q)\n",
    "a"
   ]
  },
  {
   "cell_type": "code",
   "execution_count": 8,
   "metadata": {},
   "outputs": [
    {
     "data": {
      "text/plain": [
       "'- Kỹ thuật phần mềm: 28.800.000 đồng/năm\\n- Kỹ thuật phần mềm - CLC: Năm 1: 40.790.000 đồng, Năm 2: 47.588.000 đồng, Năm 3: 52.235.000 đồng, Năm 4: 52.235.000 đồng\\n- Kỹ thuật phần mềm - ĐH Anh-Việt: Năm 1: 62.372.000 đồng, Năm 2: 76.406.000 đồng, Năm 3: 78.322.000 đồng, Năm 4: 78.052.000 đồng'"
      ]
     },
     "execution_count": 8,
     "metadata": {},
     "output_type": "execute_result"
    }
   ],
   "source": [
    "a.answer"
   ]
  },
  {
   "cell_type": "code",
   "execution_count": 11,
   "metadata": {},
   "outputs": [
    {
     "name": "stdout",
     "output_type": "stream",
     "text": [
      "Given the user question below, classify it as either being about `Major`, `Local` or `Other`. Known that:\n",
      "```\n",
      "    Local: when the question related to \"Ngành Việt Nam học - Chuyên ngành Việt ngữ học và văn hóa xã hội Việt Nam\" or \"Ngành Việt Nam học - Chuyên ngành Việt ngữ học và văn hóa xã hội Việt Nam trường Tôn Đức Thắng\". This have the highest priority.\n",
      "    Major: when the question related to a training program (major) of Ton Duc Thang university.\n",
      "    Major: khi câu hỏi liên quan đến ngành đào tạo của trường đại học Tôn Đức Thắng. Ví dụ: hỏi về ngành học, trường đào tạo ngành học gì, các ngành học có ...\n",
      "```\n",
      "Do not respond with more than one word.\n",
      "\n",
      "<question>\n",
      "{question}\n",
      "</question>\n",
      "\n",
      "Classification:\n"
     ]
    }
   ],
   "source": [
    "print(robot.tem_ref)"
   ]
  },
  {
   "cell_type": "code",
   "execution_count": 12,
   "metadata": {},
   "outputs": [
    {
     "data": {
      "text/plain": [
       "<src.rag.types.RAGResponse at 0x7f674e92b520>"
      ]
     },
     "execution_count": 12,
     "metadata": {},
     "output_type": "execute_result"
    }
   ],
   "source": [
    "q = \"trường có ngành học nào chuyên về Việt Nam không ạ?\"\n",
    "q = \"cử nhân tốt nghiệp ngành này có thể  ứng tuyển vào vị trí nào?\"\n",
    "a = robot.answer(question=q)\n",
    "a"
   ]
  },
  {
   "cell_type": "code",
   "execution_count": 16,
   "metadata": {},
   "outputs": [
    {
     "data": {
      "text/plain": [
       "'Ngành ngôn ngữ Trung Quốc'"
      ]
     },
     "execution_count": 16,
     "metadata": {},
     "output_type": "execute_result"
    }
   ],
   "source": [
    "a.document.title"
   ]
  },
  {
   "cell_type": "code",
   "execution_count": 17,
   "metadata": {},
   "outputs": [
    {
     "data": {
      "text/plain": [
       "AIMessage(content='- Biên - phiên dịch viên tiếng Trung\\n- Thư ký\\n- Trợ lý lãnh đạo\\n- Tiếp viên hàng không\\n- Nhân viên kinh doanh\\n- Nhân viên xuất nhập khẩu\\n- Chuyên viên tư vấn du học\\n- Nhân viên Đại sứ quán\\n- Giảng viên dạy tiếng Trung\\n- Hướng dẫn viên du lịch')"
      ]
     },
     "execution_count": 17,
     "metadata": {},
     "output_type": "execute_result"
    }
   ],
   "source": [
    "q = \"sinh viên tốt nghiệp ngành ngôn ngữ Trung Quốc có thể ứng tuyển vào vị trí nào?\"\n",
    "a = run_full_chain(q)\n",
    "a\n"
   ]
  },
  {
   "cell_type": "code",
   "execution_count": null,
   "metadata": {},
   "outputs": [],
   "source": []
  },
  {
   "cell_type": "markdown",
   "metadata": {},
   "source": [
    "## Server RAG"
   ]
  },
  {
   "cell_type": "code",
   "execution_count": 3,
   "metadata": {},
   "outputs": [
    {
     "name": "stdout",
     "output_type": "stream",
     "text": [
      "From (44, 4) to 44\n"
     ]
    }
   ],
   "source": [
    "from src.rag.hybrid_rag import HybridGeminiRAG\n",
    "from src.service.provider import ProviderService\n",
    "services = ProviderService()\n",
    "\n",
    "major = services.get_categories().major\n",
    "\n",
    "rag = HybridGeminiRAG(\n",
    "    vector_es_index=\"labse-major\", \n",
    "    txt_es_index=\"text-split-major\", \n",
    "    db_category=major, provider=services)"
   ]
  },
  {
   "cell_type": "markdown",
   "metadata": {},
   "source": [
    "## Local Follow Up"
   ]
  },
  {
   "cell_type": "code",
   "execution_count": 4,
   "metadata": {},
   "outputs": [
    {
     "name": "stdout",
     "output_type": "stream",
     "text": [
      "From (44, 4) to 44\n"
     ]
    },
    {
     "data": {
      "text/plain": [
       "'Kỹ thuật hoá học là ngành học'"
      ]
     },
     "execution_count": 4,
     "metadata": {},
     "output_type": "execute_result"
    }
   ],
   "source": [
    "from src.prepare.data_load import DocDataLoader\n",
    "\n",
    "doc_loader = DocDataLoader()\n",
    "docs = doc_loader.load_major_docs_full()\n",
    "d1 = docs[15]\n",
    "d1.page_content[:30]"
   ]
  },
  {
   "cell_type": "code",
   "execution_count": 5,
   "metadata": {},
   "outputs": [],
   "source": [
    "from src.chain.followup import LocalFollowUpChain\n",
    "followup = LocalFollowUpChain(config=config, doc_content=d1.page_content)"
   ]
  },
  {
   "cell_type": "markdown",
   "metadata": {},
   "source": [
    "## Router"
   ]
  },
  {
   "cell_type": "code",
   "execution_count": 6,
   "metadata": {},
   "outputs": [],
   "source": [
    "from langchain_core.runnables import RunnableBranch\n",
    "\n",
    "\n",
    "branch = RunnableBranch(\n",
    "    (lambda x: \"local\" in x[\"topic\"].lower(), followup.chain),\n",
    "    rag.chain\n",
    ")\n"
   ]
  },
  {
   "cell_type": "code",
   "execution_count": 7,
   "metadata": {},
   "outputs": [],
   "source": [
    "llm = config.get_gemini_pro(convert_system_message=False)\n",
    "template = \"\"\"Given the user question below, classify it as either being about `Local`, or `Other`. Known that:\n",
    "```\n",
    "    Local: when the question related to \"ngành kỹ thuật hóa học\" or \"ngành kỹ thuật hóa học trường Tôn Đức Thắng\".\n",
    "```\n",
    "Do not respond with more than one word.\n",
    "\n",
    "<question>\n",
    "{question}\n",
    "</question>\n",
    "\n",
    "Classification:\"\"\"\n",
    "chain = (\n",
    "    PromptTemplate.from_template(template=template)\n",
    "    | llm\n",
    "    | StrOutputParser()\n",
    ")"
   ]
  },
  {
   "cell_type": "code",
   "execution_count": 8,
   "metadata": {},
   "outputs": [],
   "source": [
    "full_chain = {\"topic\": chain, \"question\": lambda x: x[\"question\"]} | branch"
   ]
  },
  {
   "cell_type": "code",
   "execution_count": 9,
   "metadata": {},
   "outputs": [],
   "source": [
    "config.enable_tracing(project=\"LEARN\")"
   ]
  },
  {
   "cell_type": "code",
   "execution_count": 10,
   "metadata": {},
   "outputs": [],
   "source": [
    "from langsmith.run_helpers import traceable\n",
    "\n",
    "@traceable(tags=['route'])\n",
    "def run_full_chain(q):\n",
    "    a = full_chain.invoke({\"question\": q})\n",
    "    return a"
   ]
  },
  {
   "cell_type": "code",
   "execution_count": 11,
   "metadata": {},
   "outputs": [
    {
     "data": {
      "text/plain": [
       "AIMessage(content='- Chuyên viên vận hành và quản lý sản xuất\\n- Chuyên viên nghiên cứu phát triển sản phẩm\\n- Chuyên viên tư vấn quản lí và chuyển giao công nghệ\\n- Nhân viên kinh doanh hóa chất\\n- Nhân viên kiểm soát chất lượng sản phẩm')"
      ]
     },
     "execution_count": 11,
     "metadata": {},
     "output_type": "execute_result"
    }
   ],
   "source": [
    "q = \"sinh viên tốt nghiệp ngành kỹ thuật hóa học có thể ứng tuyển vào vị trí nào?\"\n",
    "a = run_full_chain(q)\n",
    "a"
   ]
  },
  {
   "cell_type": "code",
   "execution_count": 12,
   "metadata": {},
   "outputs": [
    {
     "data": {
      "text/plain": [
       "'Chuyên viên phân tích yêu cầu (BA), Kiến trúc sư phần mềm (SA), Lập trình viên (Developer), Chuyên viên thử nghiệm phần mềm (Tester), chuyên viên cầu nối (BrSE), chuyên viên nghiên cứu và phát triển ứng dụng (R&D), giảng viên giảng dạy các môn học về ngành kỹ thuật phần mềm'"
      ]
     },
     "execution_count": 12,
     "metadata": {},
     "output_type": "execute_result"
    }
   ],
   "source": [
    "q = \"sinh viên tốt nghiệp ngành công nghệ phần mềm có thể ứng tuyển vào vị trí nào?\"\n",
    "a = run_full_chain(q)\n",
    "a"
   ]
  }
 ],
 "metadata": {
  "kernelspec": {
   "display_name": "Python 3 (ipykernel)",
   "language": "python",
   "name": "python3"
  },
  "language_info": {
   "codemirror_mode": {
    "name": "ipython",
    "version": 3
   },
   "file_extension": ".py",
   "mimetype": "text/x-python",
   "name": "python",
   "nbconvert_exporter": "python",
   "pygments_lexer": "ipython3",
   "version": "3.9.18"
  }
 },
 "nbformat": 4,
 "nbformat_minor": 4
}
