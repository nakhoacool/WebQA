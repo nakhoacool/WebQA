{
 "cells": [
  {
   "cell_type": "markdown",
   "metadata": {},
   "source": [
    "# Data ETL pipeline"
   ]
  },
  {
   "cell_type": "code",
   "execution_count": 1,
   "metadata": {},
   "outputs": [
    {
     "name": "stderr",
     "output_type": "stream",
     "text": [
      "/home/h4438/miniconda3/envs/uni/lib/python3.9/site-packages/tqdm/auto.py:21: TqdmWarning: IProgress not found. Please update jupyter and ipywidgets. See https://ipywidgets.readthedocs.io/en/stable/user_install.html\n",
      "  from .autonotebook import tqdm as notebook_tqdm\n"
     ]
    }
   ],
   "source": [
    "import sys\n",
    "sys.path.append(\"../\")\n",
    "from src.service.provider import ProviderService\n",
    "from src.prepare.data_etl import DataETL\n",
    "import pandas as pd\n",
    "\n",
    "provider = ProviderService()\n",
    "# fix this\n",
    "config = provider.categories.tdt_gemini\n",
    "\n",
    "DATA_FOLDER = \"tdt\"\n",
    "SIZE = 120\n",
    "OVERLAP = 60\n",
    "\n",
    "# provider.config.enable_tracing(project=\"ETL\")\n",
    "etl = DataETL(provider=provider, rag_config=config)"
   ]
  },
  {
   "cell_type": "code",
   "execution_count": 3,
   "metadata": {},
   "outputs": [
    {
     "name": "stdout",
     "output_type": "stream",
     "text": [
      "From (59, 5) to Counter({18: 5, 15: 5, 16: 4, 24: 4, 20: 3, 19: 3, 13: 3, 8: 3, 30: 2, 28: 2, 44: 2, 14: 2, 25: 2, 17: 2, 4: 2, 12: 2, 6: 2, 2: 2, 35: 1, 23: 1, 33: 1, 34: 1, 21: 1, 40: 1, 11: 1, 41: 1, 9: 1}) -> 1116\n"
     ]
    }
   ],
   "source": [
    "a = etl.try_split_text(data_folder=DATA_FOLDER, size=SIZE, overlap=OVERLAP, use_sitemap=True)"
   ]
  },
  {
   "cell_type": "markdown",
   "metadata": {},
   "source": [
    "## Reset "
   ]
  },
  {
   "cell_type": "code",
   "execution_count": 2,
   "metadata": {},
   "outputs": [
    {
     "name": "stdout",
     "output_type": "stream",
     "text": [
      "-> Delete tdt-vec-gemini\n",
      "-> Delete tdt-text-split-gemini\n",
      "DONE\n"
     ]
    }
   ],
   "source": [
    "etl.reset_config_repo(provider=provider, rag_config=config)"
   ]
  },
  {
   "cell_type": "markdown",
   "metadata": {},
   "source": [
    "## Upload docs"
   ]
  },
  {
   "cell_type": "code",
   "execution_count": 3,
   "metadata": {},
   "outputs": [],
   "source": [
    "## OLD\n",
    "# a = etl.upload_df_docs(\n",
    "#     data_folder=DATA_FOLDER,\n",
    "#     size=SIZE,\n",
    "#     overlap=OVERLAP, re_update=False)"
   ]
  },
  {
   "cell_type": "code",
   "execution_count": 4,
   "metadata": {},
   "outputs": [
    {
     "data": {
      "text/plain": [
       "'tdt-vec-gemini'"
      ]
     },
     "execution_count": 4,
     "metadata": {},
     "output_type": "execute_result"
    }
   ],
   "source": [
    "config.vector_index"
   ]
  },
  {
   "cell_type": "code",
   "execution_count": 5,
   "metadata": {},
   "outputs": [
    {
     "name": "stdout",
     "output_type": "stream",
     "text": [
      "Total run: (59, 5)\n",
      "-> DONE: if upload to elastic search 18 & 18 docs\n",
      "-> DONE: upload to firebase at tdt\n",
      "OK: 0\n",
      "-> DONE: if upload to elastic search 30 & 30 docs\n",
      "-> DONE: upload to firebase at tdt\n",
      "OK: 1\n",
      "-> DONE: if upload to elastic search 16 & 16 docs\n",
      "-> DONE: upload to firebase at tdt\n",
      "OK: 2\n",
      "-> DONE: if upload to elastic search 15 & 15 docs\n",
      "-> DONE: upload to firebase at tdt\n",
      "OK: 3\n",
      "-> DONE: if upload to elastic search 30 & 30 docs\n",
      "-> DONE: upload to firebase at tdt\n",
      "OK: 4\n",
      "-> DONE: if upload to elastic search 35 & 35 docs\n",
      "-> DONE: upload to firebase at tdt\n",
      "OK: 5\n",
      "-> DONE: if upload to elastic search 18 & 18 docs\n",
      "-> DONE: upload to firebase at tdt\n",
      "OK: 6\n",
      "-> DONE: if upload to elastic search 24 & 24 docs\n",
      "-> DONE: upload to firebase at tdt\n",
      "OK: 7\n",
      "-> DONE: if upload to elastic search 23 & 23 docs\n",
      "-> DONE: upload to firebase at tdt\n",
      "OK: 8\n",
      "-> DONE: if upload to elastic search 18 & 18 docs\n",
      "-> DONE: upload to firebase at tdt\n",
      "OK: 9\n",
      "-> DONE: if upload to elastic search 20 & 20 docs\n",
      "-> DONE: upload to firebase at tdt\n",
      "OK: 10\n",
      "-> DONE: if upload to elastic search 24 & 24 docs\n",
      "-> DONE: upload to firebase at tdt\n",
      "OK: 11\n",
      "-> DONE: if upload to elastic search 28 & 28 docs\n",
      "-> DONE: upload to firebase at tdt\n",
      "OK: 12\n",
      "-> DONE: if upload to elastic search 15 & 15 docs\n",
      "-> DONE: upload to firebase at tdt\n",
      "OK: 13\n",
      "-> DONE: if upload to elastic search 28 & 28 docs\n",
      "-> DONE: upload to firebase at tdt\n",
      "OK: 14\n",
      "-> DONE: if upload to elastic search 33 & 33 docs\n",
      "-> DONE: upload to firebase at tdt\n",
      "OK: 15\n",
      "-> DONE: if upload to elastic search 44 & 44 docs\n",
      "-> DONE: upload to firebase at tdt\n",
      "OK: 16\n",
      "-> DONE: if upload to elastic search 19 & 19 docs\n",
      "-> DONE: upload to firebase at tdt\n",
      "OK: 17\n",
      "-> DONE: if upload to elastic search 13 & 13 docs\n",
      "-> DONE: upload to firebase at tdt\n",
      "OK: 18\n",
      "-> DONE: if upload to elastic search 34 & 34 docs\n",
      "-> DONE: upload to firebase at tdt\n",
      "OK: 19\n",
      "-> DONE: if upload to elastic search 24 & 24 docs\n",
      "-> DONE: upload to firebase at tdt\n",
      "OK: 20\n",
      "-> DONE: if upload to elastic search 15 & 15 docs\n",
      "-> DONE: upload to firebase at tdt\n",
      "OK: 21\n",
      "-> DONE: if upload to elastic search 15 & 15 docs\n",
      "-> DONE: upload to firebase at tdt\n",
      "OK: 22\n",
      "-> DONE: if upload to elastic search 16 & 16 docs\n",
      "-> DONE: upload to firebase at tdt\n",
      "OK: 23\n",
      "-> DONE: if upload to elastic search 21 & 21 docs\n",
      "-> DONE: upload to firebase at tdt\n",
      "OK: 24\n",
      "-> DONE: if upload to elastic search 14 & 14 docs\n",
      "-> DONE: upload to firebase at tdt\n",
      "OK: 25\n",
      "-> DONE: if upload to elastic search 20 & 20 docs\n",
      "-> DONE: upload to firebase at tdt\n",
      "OK: 26\n",
      "-> DONE: if upload to elastic search 44 & 44 docs\n",
      "-> DONE: upload to firebase at tdt\n",
      "OK: 27\n",
      "-> DONE: if upload to elastic search 18 & 18 docs\n",
      "-> DONE: upload to firebase at tdt\n",
      "OK: 28\n",
      "-> DONE: if upload to elastic search 40 & 40 docs\n",
      "-> DONE: upload to firebase at tdt\n",
      "OK: 29\n",
      "-> DONE: if upload to elastic search 19 & 19 docs\n",
      "-> DONE: upload to firebase at tdt\n",
      "OK: 30\n",
      "-> DONE: if upload to elastic search 18 & 18 docs\n",
      "-> DONE: upload to firebase at tdt\n",
      "OK: 31\n",
      "-> DONE: if upload to elastic search 25 & 25 docs\n",
      "-> DONE: upload to firebase at tdt\n",
      "OK: 32\n",
      "-> DONE: if upload to elastic search 14 & 14 docs\n",
      "-> DONE: upload to firebase at tdt\n",
      "OK: 33\n",
      "-> DONE: if upload to elastic search 16 & 16 docs\n",
      "-> DONE: upload to firebase at tdt\n",
      "OK: 34\n",
      "-> DONE: if upload to elastic search 13 & 13 docs\n",
      "-> DONE: upload to firebase at tdt\n",
      "OK: 35\n",
      "-> DONE: if upload to elastic search 16 & 16 docs\n",
      "-> DONE: upload to firebase at tdt\n",
      "OK: 36\n",
      "-> DONE: if upload to elastic search 25 & 25 docs\n",
      "-> DONE: upload to firebase at tdt\n",
      "OK: 37\n",
      "-> DONE: if upload to elastic search 19 & 19 docs\n",
      "-> DONE: upload to firebase at tdt\n",
      "OK: 38\n",
      "-> DONE: if upload to elastic search 15 & 15 docs\n",
      "-> DONE: upload to firebase at tdt\n",
      "OK: 39\n",
      "-> DONE: if upload to elastic search 17 & 17 docs\n",
      "-> DONE: upload to firebase at tdt\n",
      "OK: 40\n",
      "-> DONE: if upload to elastic search 13 & 13 docs\n",
      "-> DONE: upload to firebase at tdt\n",
      "OK: 41\n",
      "-> DONE: if upload to elastic search 4 & 4 docs\n",
      "-> DONE: upload to firebase at tdt\n",
      "OK: 42\n",
      "-> DONE: if upload to elastic search 11 & 11 docs\n",
      "-> DONE: upload to firebase at tdt\n",
      "OK: 43\n",
      "-> DONE: if upload to elastic search 12 & 12 docs\n",
      "-> DONE: upload to firebase at tdt\n",
      "OK: 44\n",
      "-> DONE: if upload to elastic search 41 & 41 docs\n",
      "-> DONE: upload to firebase at tdt\n",
      "OK: 45\n",
      "-> DONE: if upload to elastic search 20 & 20 docs\n",
      "-> DONE: upload to firebase at tdt\n",
      "OK: 46\n",
      "-> DONE: if upload to elastic search 24 & 24 docs\n",
      "-> DONE: upload to firebase at tdt\n",
      "OK: 47\n",
      "-> DONE: if upload to elastic search 8 & 8 docs\n",
      "-> DONE: upload to firebase at tdt\n",
      "OK: 48\n",
      "-> DONE: if upload to elastic search 9 & 9 docs\n",
      "-> DONE: upload to firebase at tdt\n",
      "OK: 49\n",
      "-> DONE: if upload to elastic search 6 & 6 docs\n",
      "-> DONE: upload to firebase at tdt\n",
      "OK: 50\n",
      "-> DONE: if upload to elastic search 2 & 2 docs\n",
      "-> DONE: upload to firebase at tdt\n",
      "OK: 51\n",
      "-> DONE: if upload to elastic search 12 & 12 docs\n",
      "-> DONE: upload to firebase at tdt\n",
      "OK: 52\n",
      "-> DONE: if upload to elastic search 4 & 4 docs\n",
      "-> DONE: upload to firebase at tdt\n",
      "OK: 53\n",
      "-> DONE: if upload to elastic search 2 & 2 docs\n",
      "-> DONE: upload to firebase at tdt\n",
      "OK: 54\n",
      "-> DONE: if upload to elastic search 8 & 8 docs\n",
      "-> DONE: upload to firebase at tdt\n",
      "OK: 55\n",
      "-> DONE: if upload to elastic search 8 & 8 docs\n",
      "-> DONE: upload to firebase at tdt\n",
      "OK: 56\n",
      "-> DONE: if upload to elastic search 17 & 17 docs\n",
      "-> DONE: upload to firebase at tdt\n",
      "OK: 57\n",
      "-> DONE: if upload to elastic search 6 & 6 docs\n",
      "-> DONE: upload to firebase at tdt\n",
      "OK: 58\n",
      "-> Update index doc\n",
      "DONE\n"
     ]
    }
   ],
   "source": [
    "a = etl.upload_from_sitemap(\n",
    "    data_folder=DATA_FOLDER, \n",
    "    size=SIZE, overlap=OVERLAP, re_update=True)"
   ]
  },
  {
   "cell_type": "code",
   "execution_count": 5,
   "metadata": {},
   "outputs": [
    {
     "name": "stdout",
     "output_type": "stream",
     "text": [
      "A table of content\n",
      "1. Ngành Bảo hộ lao động\n",
      "2. Ngành Công nghệ sinh học\n",
      "3. Ngành Công tác xã hội\n",
      "4. Ngành Dược\n",
      "5. Ngành Kế toán\n",
      "6. Ngành Khoa học máy tính\n",
      "7. Ngành Khoa học môi trường\n",
      "8. Ngành Kiến trúc\n",
      "9. Ngành Kinh doanh quốc tế\n",
      "10. Ngành Kỹ thuật cơ điện tử\n",
      "11. Ngành Kỹ thuật hóa học\n",
      "12. Ngành Kỹ thuật phần mềm\n",
      "13. Ngành Kỹ thuật Xây dựng\n",
      "14. Ngành Kỹ thuật xây dựng công trình giao thông\n",
      "15. Ngành Kỹ thuật điện\n",
      "16. Ngành Kỹ thuật Điện tử - Viễn thông\n",
      "17. Ngành Kỹ thuật điều khiển và tự động hóa\n",
      "18. Ngành Luật\n",
      "19. Ngành mạng máy tính và truyền thông dữ liệu\n",
      "20. Ngành Marketing\n",
      "21. Ngành ngôn ngữ Anh\n",
      "22. Ngành ngôn ngữ Trung Quốc\n",
      "23. Ngành quan hệ lao động\n",
      "24. Ngành quản lý thể dục thể thao - Chuyên ngành Golf\n",
      "25. Ngành quản lý thể dục thể thao - Chuyên ngành kinh doanh thể thao và tổ chức sự kiện\n",
      "26. Ngành quản lý xây dựng\n",
      "27. Ngành quản trị kinh doanh - Chuyên ngành Quản trị nguồn nhân lực\n",
      "28. Ngành quản trị kinh doanh - Chuyên ngành Quản trị nhà hàng và khách sạn\n",
      "29. Ngành Quy hoạch vùng và đô thị\n",
      "30. Ngành Tài chính và ngân hàng\n",
      "31. Ngành thiết kế nội thất\n",
      "32. Ngành thiết kế thời trang\n",
      "33. Ngành thiết kế đồ họa\n",
      "34. Ngành thống kê\n",
      "35. Ngành toán ứng dụng\n",
      "36. Ngành Việt Nam học - Chuyên ngành Việt ngữ học và văn hóa xã hội Việt Nam\n",
      "37. Ngành Việt Nam học - Chuyên ngành Du lịch và lữ hành\n",
      "38. Ngành Việt Nam học - Chuyên ngành Du lịch và Quản lý du lịch\n",
      "39. Ngành Xã hội học\n",
      "40. Chương trình tiêu chuẩn (dạy-học bằng tiếng Việt)\n",
      "41. Chương trình chất lượng cao\n",
      "42. Chương trình đại học bằng tiếng Anh\n",
      "43. Chương trình liên kết đào tạo quốc tế trình độ đại học năm 2023\n",
      "44. Tuyển học bổ sung kiến thức\n",
      "45. Tuyển sinh chương trình 4 + 1\n",
      "46. Tuyển sinh thạc sĩ\n",
      "47. Tuyển sinh tiến sĩ\n",
      "48. Sự khác biệt giữa các chương trình đào tạo tại TDTU\n",
      "49. Lịch sử hình thành\n",
      "50. Định hướng phát triển\n",
      "51. Sứ mạng, tầm nhìn, chính sách chất lượng\n",
      "52. Vị trí của Trường Đại học Tôn Đức Thắng trong các bảng xếp hạng đại học thế giới:\n",
      "53. Chất lượng đào tạo của trường Tôn Đức Thắng\n",
      "54. Huân chương của trường đại học Tôn Đức Thắng\n",
      "55. Hội đồng trường nhiệm kỳ 2021-2026\n",
      "56. Đảng - Đoàn thể\n",
      "57. Các đơn vị trong trường đại học Tôn Đức Thắng\n",
      "58. Cơ sở vật chất của trường đại học Tôn Đức Thắng\n",
      "59. Thông tin liên lạc, kênh truyền thông\n"
     ]
    }
   ],
   "source": [
    "print(a[-1].content)"
   ]
  },
  {
   "cell_type": "code",
   "execution_count": 4,
   "metadata": {},
   "outputs": [
    {
     "data": {
      "text/plain": [
       "'trường đại học Tôn Đức Thắng: Tiền thân của Trường...\\ntrường đại học Tôn Đức Thắng: \\nSỨ MẠNG của trường ...\\n'"
      ]
     },
     "execution_count": 4,
     "metadata": {},
     "output_type": "execute_result"
    }
   ],
   "source": [
    "len(a)\n",
    "etl.index_page"
   ]
  },
  {
   "cell_type": "code",
   "execution_count": 5,
   "metadata": {},
   "outputs": [],
   "source": [
    "etl.delete_doc(a[0])"
   ]
  },
  {
   "cell_type": "code",
   "execution_count": 6,
   "metadata": {},
   "outputs": [],
   "source": [
    "etl.delete_doc(a[1])"
   ]
  },
  {
   "cell_type": "markdown",
   "metadata": {},
   "source": [
    "## Upload 1 doc"
   ]
  },
  {
   "cell_type": "code",
   "execution_count": 7,
   "metadata": {},
   "outputs": [
    {
     "ename": "TypeError",
     "evalue": "upload_doc() got an unexpected keyword argument 'db_category'",
     "output_type": "error",
     "traceback": [
      "\u001b[0;31m---------------------------------------------------------------------------\u001b[0m",
      "\u001b[0;31mTypeError\u001b[0m                                 Traceback (most recent call last)",
      "\u001b[1;32m/home/h4438/Desktop/graduate/WebQA/core/experiments/build_data_etl.ipynb Cell 10\u001b[0m line \u001b[0;36m3\n\u001b[1;32m      <a href='vscode-notebook-cell:/home/h4438/Desktop/graduate/WebQA/core/experiments/build_data_etl.ipynb#X12sZmlsZQ%3D%3D?line=0'>1</a>\u001b[0m category \u001b[39m=\u001b[39m \u001b[39m\"\u001b[39m\u001b[39mtest_qa\u001b[39m\u001b[39m\"\u001b[39m\n\u001b[0;32m----> <a href='vscode-notebook-cell:/home/h4438/Desktop/graduate/WebQA/core/experiments/build_data_etl.ipynb#X12sZmlsZQ%3D%3D?line=2'>3</a>\u001b[0m etl\u001b[39m.\u001b[39;49mupload_doc(\n\u001b[1;32m      <a href='vscode-notebook-cell:/home/h4438/Desktop/graduate/WebQA/core/experiments/build_data_etl.ipynb#X12sZmlsZQ%3D%3D?line=3'>4</a>\u001b[0m     db_category\u001b[39m=\u001b[39;49mcategory,\n\u001b[1;32m      <a href='vscode-notebook-cell:/home/h4438/Desktop/graduate/WebQA/core/experiments/build_data_etl.ipynb#X12sZmlsZQ%3D%3D?line=4'>5</a>\u001b[0m     data\u001b[39m=\u001b[39;49mdf\u001b[39m.\u001b[39;49miloc[\u001b[39m1\u001b[39;49m],\n\u001b[1;32m      <a href='vscode-notebook-cell:/home/h4438/Desktop/graduate/WebQA/core/experiments/build_data_etl.ipynb#X12sZmlsZQ%3D%3D?line=5'>6</a>\u001b[0m     text_splitter\u001b[39m=\u001b[39;49metl\u001b[39m.\u001b[39;49mcreate_splitter(), \n\u001b[1;32m      <a href='vscode-notebook-cell:/home/h4438/Desktop/graduate/WebQA/core/experiments/build_data_etl.ipynb#X12sZmlsZQ%3D%3D?line=6'>7</a>\u001b[0m     es\u001b[39m=\u001b[39;49mprovider\u001b[39m.\u001b[39;49mget_elasticsearch_store(index\u001b[39m=\u001b[39;49mcategory))\n",
      "\u001b[0;31mTypeError\u001b[0m: upload_doc() got an unexpected keyword argument 'db_category'"
     ]
    }
   ],
   "source": [
    "category = \"test_qa\"\n",
    "\n",
    "etl.upload_doc(\n",
    "    db_category=category,\n",
    "    data=df.iloc[1],\n",
    "    text_splitter=etl.create_splitter(), \n",
    "    es=provider.get_elasticsearch_store(index=category))"
   ]
  },
  {
   "cell_type": "code",
   "execution_count": null,
   "metadata": {},
   "outputs": [
    {
     "data": {
      "text/plain": [
       "[Document(page_content='Bye is a common phrase for departing', metadata={'id': '8af20725-b2e8-4f04-b5ce-0567de3a64ca'})]"
      ]
     },
     "execution_count": 4,
     "metadata": {},
     "output_type": "execute_result"
    }
   ],
   "source": [
    "es = provider.get_elasticsearch_store(index=category)\n",
    "a = es.similarity_search(query=\"bye\")\n",
    "a"
   ]
  },
  {
   "cell_type": "code",
   "execution_count": null,
   "metadata": {},
   "outputs": [
    {
     "data": {
      "text/plain": [
       "<src.prepare.types.TDTDoc at 0x7fc4f4543fd0>"
      ]
     },
     "execution_count": 7,
     "metadata": {},
     "output_type": "execute_result"
    }
   ],
   "source": [
    "id = a[0].metadata['id']\n",
    "a = etl.fire.read_document(collection=category, document_id=id)\n",
    "a"
   ]
  },
  {
   "cell_type": "code",
   "execution_count": null,
   "metadata": {},
   "outputs": [
    {
     "data": {
      "text/plain": [
       "' Bye is a common phrase for departing'"
      ]
     },
     "execution_count": 9,
     "metadata": {},
     "output_type": "execute_result"
    }
   ],
   "source": [
    "a.content"
   ]
  }
 ],
 "metadata": {
  "kernelspec": {
   "display_name": "Python 3 (ipykernel)",
   "language": "python",
   "name": "python3"
  },
  "language_info": {
   "codemirror_mode": {
    "name": "ipython",
    "version": 3
   },
   "file_extension": ".py",
   "mimetype": "text/x-python",
   "name": "python",
   "nbconvert_exporter": "python",
   "pygments_lexer": "ipython3",
   "version": "3.9.18"
  }
 },
 "nbformat": 4,
 "nbformat_minor": 4
}
