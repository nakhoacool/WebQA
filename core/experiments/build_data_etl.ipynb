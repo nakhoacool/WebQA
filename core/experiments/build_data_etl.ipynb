{
 "cells": [
  {
   "cell_type": "markdown",
   "metadata": {},
   "source": [
    "# Data ETL pipeline"
   ]
  },
  {
   "cell_type": "code",
   "execution_count": 1,
   "metadata": {},
   "outputs": [
    {
     "name": "stderr",
     "output_type": "stream",
     "text": [
      "/home/h4438/miniconda3/envs/uni/lib/python3.9/site-packages/tqdm/auto.py:21: TqdmWarning: IProgress not found. Please update jupyter and ipywidgets. See https://ipywidgets.readthedocs.io/en/stable/user_install.html\n",
      "  from .autonotebook import tqdm as notebook_tqdm\n"
     ]
    }
   ],
   "source": [
    "import sys\n",
    "sys.path.append(\"../\")\n",
    "from src.service.provider import ProviderService\n",
    "from src.prepare.data_etl import DataETL\n",
    "import pandas as pd\n",
    "\n",
    "provider = ProviderService()\n",
    "# fix this\n",
    "config = provider.categories.training_hg\n",
    "\n",
    "DATA_FOLDER = config.folder_name\n",
    "SIZE = config.size\n",
    "OVERLAP = config.overlap\n",
    "\n",
    "provider.config.enable_tracing(project=\"ETL\")\n",
    "etl = DataETL(provider=provider, rag_config=config)"
   ]
  },
  {
   "cell_type": "code",
   "execution_count": 2,
   "metadata": {},
   "outputs": [
    {
     "name": "stdout",
     "output_type": "stream",
     "text": [
      "From (8, 5) to Counter({1: 4, 2: 2, 4: 1, 3: 1}) -> 15\n"
     ]
    }
   ],
   "source": [
    "a = etl.try_split_text(data_folder=DATA_FOLDER, size=SIZE, overlap=OVERLAP)"
   ]
  },
  {
   "cell_type": "markdown",
   "metadata": {},
   "source": [
    "## Reset "
   ]
  },
  {
   "cell_type": "code",
   "execution_count": 3,
   "metadata": {},
   "outputs": [
    {
     "name": "stdout",
     "output_type": "stream",
     "text": [
      "-> Delete major-vec-gemini\n",
      "-> Delete major-text-split-gemini\n",
      "DONE\n"
     ]
    }
   ],
   "source": [
    "# etl.reset_config_repo(provider=provider, rag_config=config)"
   ]
  },
  {
   "cell_type": "markdown",
   "metadata": {},
   "source": [
    "## Upload docs"
   ]
  },
  {
   "cell_type": "code",
   "execution_count": 3,
   "metadata": {},
   "outputs": [
    {
     "name": "stdout",
     "output_type": "stream",
     "text": [
      "-> DONE: if upload to elastic search 2 & 2 docs\n",
      "-> DONE: upload to firebase at training\n",
      "-> DONE: if upload to elastic search 2 & 2 docs\n",
      "-> DONE: upload to firebase at training\n",
      "-> DONE: if upload to elastic search 1 & 1 docs\n",
      "-> DONE: upload to firebase at training\n",
      "-> DONE: if upload to elastic search 1 & 1 docs\n",
      "-> DONE: upload to firebase at training\n",
      "-> DONE: if upload to elastic search 1 & 1 docs\n",
      "-> DONE: upload to firebase at training\n",
      "-> DONE: if upload to elastic search 1 & 1 docs\n",
      "-> DONE: upload to firebase at training\n",
      "-> DONE: if upload to elastic search 4 & 4 docs\n",
      "-> DONE: upload to firebase at training\n",
      "-> DONE: if upload to elastic search 3 & 3 docs\n",
      "-> DONE: upload to firebase at training\n",
      "-> Update index doc\n",
      "DONE\n"
     ]
    }
   ],
   "source": [
    "a = etl.upload_df_docs(\n",
    "    data_folder=DATA_FOLDER,\n",
    "    size=SIZE,\n",
    "    overlap=OVERLAP)"
   ]
  },
  {
   "cell_type": "code",
   "execution_count": 6,
   "metadata": {},
   "outputs": [
    {
     "name": "stdout",
     "output_type": "stream",
     "text": [
      "A table of content\n",
      "0. Ngành Bảo hộ lao động\n",
      "1. Ngành Công nghệ sinh học\n",
      "2. Ngành Công tác xã hội\n",
      "3. Ngành Dược\n",
      "4. Ngành Kế toán\n",
      "5. Ngành Khoa học máy tính\n",
      "6. Ngành Khoa học môi trường\n",
      "7. Ngành Kiến trúc\n",
      "8. Ngành Kinh doanh quốc tế\n",
      "9. Ngành Kỹ thuật cơ điện tử\n",
      "10. Ngành Kỹ thuật hóa học\n",
      "11. Ngành Kỹ thuật phần mềm\n",
      "12. Ngành Kỹ thuật Xây dựng\n",
      "13. Ngành Kỹ thuật xây dựng công trình giao thông\n",
      "14. Ngành Kỹ thuật điện\n",
      "15. Ngành Kỹ thuật Điện tử - Viễn thông\n",
      "16. Ngành Kỹ thuật điều khiển và tự động hóa\n",
      "17. Ngành Luật\n",
      "18. Ngành mạng máy tính và truyền thông dữ liệu\n",
      "19. Ngành Marketing\n",
      "20. Ngành ngôn ngữ Anh\n",
      "21. Ngành ngôn ngữ Trung Quốc\n",
      "22. Ngành quan hệ lao động\n",
      "23. Ngành quản lý thể dục thể thao - Chuyên ngành Golf\n",
      "24. Ngành quản lý thể dục thể thao - Chuyên ngành kinh doanh thể thao và tổ chức sự kiện\n",
      "25. Ngành quản lý xây dựng\n",
      "26. Ngành quản trị kinh doanh - Chuyên ngành Quản trị nguồn nhân lực\n",
      "27. Ngành quản trị kinh doanh - Chuyên ngành Quản trị nhà hàng và khách sạn\n",
      "28. Ngành Quy hoạch vùng và đô thị\n",
      "29. Ngành Tài chính và ngân hàng\n",
      "30. Ngành thiết kế nội thất\n",
      "31. Ngành thiết kế thời trang\n",
      "32. Ngành thiết kế đồ họa\n",
      "33. Ngành thống kê\n",
      "34. Ngành toán ứng dụng\n",
      "35. Ngành Việt Nam học - Chuyên ngành Việt ngữ học và văn hóa xã hội Việt Nam\n",
      "36. Ngành Việt Nam học - Chuyên ngành Du lịch và lữ hành\n",
      "37. Ngành Việt Nam học - Chuyên ngành Du lịch và Quản lý du lịch\n",
      "38. Ngành Xã hội học\n"
     ]
    }
   ],
   "source": [
    "print(a[-1].content)"
   ]
  },
  {
   "cell_type": "code",
   "execution_count": 4,
   "metadata": {},
   "outputs": [
    {
     "data": {
      "text/plain": [
       "'trường đại học Tôn Đức Thắng: Tiền thân của Trường...\\ntrường đại học Tôn Đức Thắng: \\nSỨ MẠNG của trường ...\\n'"
      ]
     },
     "execution_count": 4,
     "metadata": {},
     "output_type": "execute_result"
    }
   ],
   "source": [
    "len(a)\n",
    "etl.index_page"
   ]
  },
  {
   "cell_type": "code",
   "execution_count": 5,
   "metadata": {},
   "outputs": [],
   "source": [
    "etl.delete_doc(a[0])"
   ]
  },
  {
   "cell_type": "code",
   "execution_count": 6,
   "metadata": {},
   "outputs": [],
   "source": [
    "etl.delete_doc(a[1])"
   ]
  },
  {
   "cell_type": "markdown",
   "metadata": {},
   "source": [
    "## Upload 1 doc"
   ]
  },
  {
   "cell_type": "code",
   "execution_count": 7,
   "metadata": {},
   "outputs": [
    {
     "ename": "TypeError",
     "evalue": "upload_doc() got an unexpected keyword argument 'db_category'",
     "output_type": "error",
     "traceback": [
      "\u001b[0;31m---------------------------------------------------------------------------\u001b[0m",
      "\u001b[0;31mTypeError\u001b[0m                                 Traceback (most recent call last)",
      "\u001b[1;32m/home/h4438/Desktop/graduate/WebQA/core/experiments/build_data_etl.ipynb Cell 10\u001b[0m line \u001b[0;36m3\n\u001b[1;32m      <a href='vscode-notebook-cell:/home/h4438/Desktop/graduate/WebQA/core/experiments/build_data_etl.ipynb#X12sZmlsZQ%3D%3D?line=0'>1</a>\u001b[0m category \u001b[39m=\u001b[39m \u001b[39m\"\u001b[39m\u001b[39mtest_qa\u001b[39m\u001b[39m\"\u001b[39m\n\u001b[0;32m----> <a href='vscode-notebook-cell:/home/h4438/Desktop/graduate/WebQA/core/experiments/build_data_etl.ipynb#X12sZmlsZQ%3D%3D?line=2'>3</a>\u001b[0m etl\u001b[39m.\u001b[39;49mupload_doc(\n\u001b[1;32m      <a href='vscode-notebook-cell:/home/h4438/Desktop/graduate/WebQA/core/experiments/build_data_etl.ipynb#X12sZmlsZQ%3D%3D?line=3'>4</a>\u001b[0m     db_category\u001b[39m=\u001b[39;49mcategory,\n\u001b[1;32m      <a href='vscode-notebook-cell:/home/h4438/Desktop/graduate/WebQA/core/experiments/build_data_etl.ipynb#X12sZmlsZQ%3D%3D?line=4'>5</a>\u001b[0m     data\u001b[39m=\u001b[39;49mdf\u001b[39m.\u001b[39;49miloc[\u001b[39m1\u001b[39;49m],\n\u001b[1;32m      <a href='vscode-notebook-cell:/home/h4438/Desktop/graduate/WebQA/core/experiments/build_data_etl.ipynb#X12sZmlsZQ%3D%3D?line=5'>6</a>\u001b[0m     text_splitter\u001b[39m=\u001b[39;49metl\u001b[39m.\u001b[39;49mcreate_splitter(), \n\u001b[1;32m      <a href='vscode-notebook-cell:/home/h4438/Desktop/graduate/WebQA/core/experiments/build_data_etl.ipynb#X12sZmlsZQ%3D%3D?line=6'>7</a>\u001b[0m     es\u001b[39m=\u001b[39;49mprovider\u001b[39m.\u001b[39;49mget_elasticsearch_store(index\u001b[39m=\u001b[39;49mcategory))\n",
      "\u001b[0;31mTypeError\u001b[0m: upload_doc() got an unexpected keyword argument 'db_category'"
     ]
    }
   ],
   "source": [
    "category = \"test_qa\"\n",
    "\n",
    "etl.upload_doc(\n",
    "    db_category=category,\n",
    "    data=df.iloc[1],\n",
    "    text_splitter=etl.create_splitter(), \n",
    "    es=provider.get_elasticsearch_store(index=category))"
   ]
  },
  {
   "cell_type": "code",
   "execution_count": null,
   "metadata": {},
   "outputs": [
    {
     "data": {
      "text/plain": [
       "[Document(page_content='Bye is a common phrase for departing', metadata={'id': '8af20725-b2e8-4f04-b5ce-0567de3a64ca'})]"
      ]
     },
     "execution_count": 4,
     "metadata": {},
     "output_type": "execute_result"
    }
   ],
   "source": [
    "es = provider.get_elasticsearch_store(index=category)\n",
    "a = es.similarity_search(query=\"bye\")\n",
    "a"
   ]
  },
  {
   "cell_type": "code",
   "execution_count": null,
   "metadata": {},
   "outputs": [
    {
     "data": {
      "text/plain": [
       "<src.prepare.types.TDTDoc at 0x7fc4f4543fd0>"
      ]
     },
     "execution_count": 7,
     "metadata": {},
     "output_type": "execute_result"
    }
   ],
   "source": [
    "id = a[0].metadata['id']\n",
    "a = etl.fire.read_document(collection=category, document_id=id)\n",
    "a"
   ]
  },
  {
   "cell_type": "code",
   "execution_count": null,
   "metadata": {},
   "outputs": [
    {
     "data": {
      "text/plain": [
       "' Bye is a common phrase for departing'"
      ]
     },
     "execution_count": 9,
     "metadata": {},
     "output_type": "execute_result"
    }
   ],
   "source": [
    "a.content"
   ]
  }
 ],
 "metadata": {
  "kernelspec": {
   "display_name": "Python 3 (ipykernel)",
   "language": "python",
   "name": "python3"
  },
  "language_info": {
   "codemirror_mode": {
    "name": "ipython",
    "version": 3
   },
   "file_extension": ".py",
   "mimetype": "text/x-python",
   "name": "python",
   "nbconvert_exporter": "python",
   "pygments_lexer": "ipython3",
   "version": "3.9.18"
  }
 },
 "nbformat": 4,
 "nbformat_minor": 4
}
