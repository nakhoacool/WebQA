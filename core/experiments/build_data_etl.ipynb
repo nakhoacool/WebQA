{
 "cells": [
  {
   "cell_type": "markdown",
   "metadata": {},
   "source": [
    "# Data ETL pipeline"
   ]
  },
  {
   "cell_type": "code",
   "execution_count": 1,
   "metadata": {},
   "outputs": [
    {
     "name": "stderr",
     "output_type": "stream",
     "text": [
      "/home/h4438/miniconda3/envs/uni/lib/python3.9/site-packages/tqdm/auto.py:21: TqdmWarning: IProgress not found. Please update jupyter and ipywidgets. See https://ipywidgets.readthedocs.io/en/stable/user_install.html\n",
      "  from .autonotebook import tqdm as notebook_tqdm\n"
     ]
    },
    {
     "name": "stdout",
     "output_type": "stream",
     "text": [
      "From (44, 5) to 44\n",
      "From (11, 4) to 11\n",
      "From (8, 4) to 8\n"
     ]
    },
    {
     "data": {
      "text/plain": [
       "(2, 5)"
      ]
     },
     "execution_count": 1,
     "metadata": {},
     "output_type": "execute_result"
    }
   ],
   "source": [
    "import sys\n",
    "sys.path.append(\"../\")\n",
    "from src.service.provider import ProviderService\n",
    "from src.prepare.data_etl import DataETL\n",
    "import pandas as pd\n",
    "from src.rag.types import RAGCategories\n",
    "\n",
    "provider = ProviderService()\n",
    "\n",
    "etl = DataETL(provider=provider, rag_config=provider.categories.sample)\n",
    "df = pd.read_csv(\"../data/test_sample/docs.csv\")\n",
    "df.shape"
   ]
  },
  {
   "cell_type": "code",
   "execution_count": 2,
   "metadata": {},
   "outputs": [
    {
     "name": "stdout",
     "output_type": "stream",
     "text": [
      "From (2, 5) to Counter({2: 1, 1: 1})\n"
     ]
    },
    {
     "data": {
      "text/plain": [
       "[Document(page_content='Tiền thân của Trường Đại học Tôn Đức Thắng (Ton Duc Thang University: TDTU) là Trường Đại học Công nghệ Dân lập Tôn Đức Thắng, thành lập theo Quyết định 787/TTg-QĐ ngày 24/9/1997 của Thủ tướng Chính phủ. Trường do Liên đoàn lao động Thành phố Hồ Chí Minh sáng lập và quản lý thông qua Hội đồng quản trị do Chủ tịch Liên đoàn lao động Thành phố đương nhiệm làm chủ tịch.\\n\\nMục tiêu thành lập TDTU trong giai đoạn đầu là: thực hiện Chương trình 17/TU và Chỉ thị 13 của Thành ủy Thành phố Hồ Chí Minh về đào tạo, đào tạo lại, bồi dưỡng và nâng cao trình độ chuyên môn, tay nghề cho giai cấp công nhân Thành phố; phát triển nguồn nhân lực cho nhu cầu công nghiệp hoá - hiện đại hoá; góp phần đào tạo nhân tài, nhân lực, thực hiện nghiên cứu để phục vụ hệ thống sản xuất, xã hội ở Thành phố Hồ Chí Minh và các tỉnh phía Nam.\\n\\nNgày 28/01/2003, Thủ tướng Chính phủ ra Quyết định số 18/2003/TTg-QĐ chuyển đổi pháp nhân và đổi tên Trường Đại học Công nghệ Dân lập Tôn Đức Thắng thành Trường Đại học Bán công Tôn Đức Thắng trực thuộc Ủy ban nhân dân Thành phố Hồ Chí Minh. Như vậy, sau 5 năm rưỡi là đại học dân lập hoạt động với mục tiêu đào tạo nhân lực, chuyên gia theo mô hình đại học công nghệ-kỹ thuật ứng dụng; bằng quyết định này, TDTU trở thành đại học khoa học ứng dụng đa ngành và không còn pháp nhân dân lập.\\n\\nNgày 11/6/2008, Thủ tướng Chính phủ ra Quyết định số 747/TTg-QĐ đổi tên Trường Đại học Bán công Tôn Đức Thắng thành Trường Đại học Tôn Đức Thắng và chuyển về thuộc Tổng Liên đoàn lao động Việt Nam. Trong thời gian này, mục tiêu của trường được bổ sung thêm là \"trực tiếp phục vụ việc phát triển nguồn nhân lực trong công nhân, người lao động để góp phần xây dựng giai cấp công nhân Việt Nam theo tinh thần Nghị quyết 20-NQ/TW ngày 28/01/2008 của Hội nghị Lần thứ 6 Ban chấp hành trung ương Đảng Khóa 10\".', metadata={'id': 1}),\n",
       " Document(page_content='Ngày 29/01/2015, tại Quyết định số 158/QĐ-TTg, Thủ tướng Chính phủ phê duyệt Đề án thí điểm đổi mới cơ chế hoạt động của Trường Đại học Tôn Đức Thắng giai đoạn 2015-2017. Mục tiêu của Trường Đại học Tôn Đức Thắng được xác định rằng: “Đại học Tôn Đức Thắng chủ động huy động, sử dụng hợp lý, hiệu quả nhất các nguồn lực của trường và xã hội để phát triển Trường Đại học Tôn Đức Thắng thành một đại học định hướng nghiên cứu có chất lượng trong khu vực và trên thế giới, đồng thời bảo đảm các đối tượng chính sách, đối tượng thuộc hộ nghèo có cơ hội tiếp cận các chương trình đào tạo của trường”.', metadata={'id': 1}),\n",
       " Document(page_content='SỨ MẠNG của trường đại học Tôn Đức Thắng: Giáo dục, nghiên cứu và sáng tạo để phát triển nhân loại bền vững\\n\\nTẦM NHÌN của trường đại học Tôn Đức Thắng: Vì sự phát triển con người và một thế giới hòa bình, hạnh phúc\\n\\nCHÍNH SÁCH CHẤT LƯỢNG của trường đại học Tôn Đức Thắng:\\n1. Lãnh đạo và quản lý: bảo đảm hệ thống quản lý tinh gọn, minh bạch và dân chủ; liên tục rà soát và cải tiến nhằm quản lý rủi ro và tăng hiệu quả hoạt động;\\n2. Nguồn nhân lực: tuyển dụng, đào tạo, duy trì và phát triển nguồn nhân lực chuyên môn, có trình độ khoa học cao, liêm chính, chuyên nghiệp và trách nhiệm;\\n3. Tài chính, cơ sở vật chất và hệ thống công nghệ thông tin: vận hành mô hình tài chính bền vững và minh bạch; đầu tư và phát triển cơ sở vật chất bảo đảm sự hiện đại, đầy đủ, chuyên sâu; đẩy mạnh chuyển đổi số để phát triển các dịch vụ thông minh, nhằm phục vụ kịp thời cho việc thực hiện các mục tiêu chiến lược trong từng giai đoạn phát triển;\\n4. Hoạt động đào tạo và khoa học công nghệ: liên tục đổi mới sáng tạo nhằm đáp ứng nhu cầu các bên liên quan; phát triển các lĩnh vực nghiên cứu chuyên sâu đặc thù, đóng góp hiệu quả cho sự phát triển của địa phương, quốc gia và quốc tế;\\n5. Kết nối và phục vụ cộng đồng: truyền thông TDTU trong nước và quốc tế; liên tục mở rộng quan hệ hợp tác với các đối tác và mạng lưới trong và ngoài nước gồm doanh nghiệp, hiệp hội nghề nghiệp, các trường đại học, các tổ chức chính phủ và phi chính phủ để nâng cao vị thế, uy tín của Trường.\\n\\nVĂN HÓA của trường đại học Tôn Đức Thắng: Chất lượng và sự tin cậy\\n\\nNGUYÊN TẮC ỨNG XỬ của trường đại học Tôn Đức Thắng: Công bằng, Hiệu quả, Phụng sự', metadata={'id': 2})]"
      ]
     },
     "execution_count": 2,
     "metadata": {},
     "output_type": "execute_result"
    }
   ],
   "source": [
    "etl.try_split_text(data_folder=\"test_sample\", size=460, overlap=20)"
   ]
  },
  {
   "cell_type": "markdown",
   "metadata": {},
   "source": [
    "## Upload docs"
   ]
  },
  {
   "cell_type": "code",
   "execution_count": 3,
   "metadata": {},
   "outputs": [
    {
     "name": "stdout",
     "output_type": "stream",
     "text": [
      "-> DONE: upload to elastic search 2 & 2 docs\n",
      "-> DONE: upload to firebase at sample\n",
      "-> DONE: upload to elastic search 1 & 1 docs\n",
      "-> DONE: upload to firebase at sample\n",
      "DONE\n"
     ]
    }
   ],
   "source": [
    "a = etl.upload_df_docs(\n",
    "    rag_config=provider.categories.sample,\n",
    "    data_folder=\"test_sample\",\n",
    "    size=460,\n",
    "    overlap=20)"
   ]
  },
  {
   "cell_type": "code",
   "execution_count": 4,
   "metadata": {},
   "outputs": [
    {
     "data": {
      "text/plain": [
       "2"
      ]
     },
     "execution_count": 4,
     "metadata": {},
     "output_type": "execute_result"
    }
   ],
   "source": [
    "len(a)"
   ]
  },
  {
   "cell_type": "code",
   "execution_count": 5,
   "metadata": {},
   "outputs": [],
   "source": [
    "etl.delete_doc(a[0])"
   ]
  },
  {
   "cell_type": "code",
   "execution_count": 6,
   "metadata": {},
   "outputs": [],
   "source": [
    "etl.delete_doc(a[1])"
   ]
  },
  {
   "cell_type": "markdown",
   "metadata": {},
   "source": [
    "## Upload 1 doc"
   ]
  },
  {
   "cell_type": "code",
   "execution_count": 2,
   "metadata": {},
   "outputs": [
    {
     "name": "stdout",
     "output_type": "stream",
     "text": [
      "-> DONE: upload to elastic search 1 docs\n",
      "-> DONE: upload to firebase at test_qa\n"
     ]
    },
    {
     "data": {
      "text/plain": [
       "'- Bye:  Bye is a common phr...\\n'"
      ]
     },
     "execution_count": 2,
     "metadata": {},
     "output_type": "execute_result"
    }
   ],
   "source": [
    "category = \"test_qa\"\n",
    "\n",
    "etl.upload_doc(\n",
    "    db_category=category,\n",
    "    data=df.iloc[1],\n",
    "    text_splitter=etl.create_splitter(), \n",
    "    es=provider.get_elasticsearch_store(index=category))"
   ]
  },
  {
   "cell_type": "code",
   "execution_count": 4,
   "metadata": {},
   "outputs": [
    {
     "data": {
      "text/plain": [
       "[Document(page_content='Bye is a common phrase for departing', metadata={'id': '8af20725-b2e8-4f04-b5ce-0567de3a64ca'})]"
      ]
     },
     "execution_count": 4,
     "metadata": {},
     "output_type": "execute_result"
    }
   ],
   "source": [
    "es = provider.get_elasticsearch_store(index=category)\n",
    "a = es.similarity_search(query=\"bye\")\n",
    "a"
   ]
  },
  {
   "cell_type": "code",
   "execution_count": 7,
   "metadata": {},
   "outputs": [
    {
     "data": {
      "text/plain": [
       "<src.prepare.types.TDTDoc at 0x7fc4f4543fd0>"
      ]
     },
     "execution_count": 7,
     "metadata": {},
     "output_type": "execute_result"
    }
   ],
   "source": [
    "id = a[0].metadata['id']\n",
    "a = etl.fire.read_document(collection=category, document_id=id)\n",
    "a"
   ]
  },
  {
   "cell_type": "code",
   "execution_count": 9,
   "metadata": {},
   "outputs": [
    {
     "data": {
      "text/plain": [
       "' Bye is a common phrase for departing'"
      ]
     },
     "execution_count": 9,
     "metadata": {},
     "output_type": "execute_result"
    }
   ],
   "source": [
    "a.content"
   ]
  }
 ],
 "metadata": {
  "kernelspec": {
   "display_name": ".venv",
   "language": "python",
   "name": "python3"
  },
  "language_info": {
   "codemirror_mode": {
    "name": "ipython",
    "version": 3
   },
   "file_extension": ".py",
   "mimetype": "text/x-python",
   "name": "python",
   "nbconvert_exporter": "python",
   "pygments_lexer": "ipython3",
   "version": "3.9.18"
  }
 },
 "nbformat": 4,
 "nbformat_minor": 2
}
