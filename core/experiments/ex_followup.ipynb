{
 "cells": [
  {
   "cell_type": "markdown",
   "metadata": {},
   "source": [
    "# Follow up answering RAG"
   ]
  },
  {
   "cell_type": "code",
   "execution_count": 2,
   "metadata": {},
   "outputs": [],
   "source": [
    "from langchain_google_genai.chat_models import ChatGoogleGenerativeAI\n",
    "from langchain_community.vectorstores.elasticsearch import ElasticsearchStore\n",
    "from langchain_community.embeddings import HuggingFaceInferenceAPIEmbeddings\n",
    "from langchain.retrievers import BM25Retriever, EnsembleRetriever\n",
    "from langchain_core.output_parsers import StrOutputParser\n",
    "from langsmith.run_helpers import traceable\n",
    "from langchain_core.prompts import ChatPromptTemplate\n",
    "from langchain_core.prompts import ChatPromptTemplate\n",
    "from langchain_core.runnables import RunnableLambda, RunnablePassthrough\n",
    "\n",
    "import sys\n",
    "sys.path.append(\"../\")\n",
    "from src.config import Configuration\n",
    "from src.prepare.data_load import DocDataLoader"
   ]
  },
  {
   "cell_type": "code",
   "execution_count": 4,
   "metadata": {},
   "outputs": [],
   "source": [
    "from operator import itemgetter\n",
    "from typing import List\n",
    "from langchain_core.documents import Document\n",
    "\n",
    "class FollowUpChain:\n",
    "    def __init__(self, config: Configuration) -> None:\n",
    "        # chat model\n",
    "        self.chat_model = ChatGoogleGenerativeAI(\n",
    "            model=\"gemini-pro\", \n",
    "            temperature=0, \n",
    "            google_api_key=config.load_gemini_token()\n",
    "        )\n",
    "        self._build_chain()\n",
    "        return\n",
    "\n",
    "    def _build_chain(self):\n",
    "        template = \"\"\"\\\n",
    "            Answer the question based only on the following context. Output \"None\" if you cannot answer: \\\n",
    "            ```\n",
    "            {context} \\\n",
    "            ```\n",
    "            Question: {question}\"\"\"\n",
    "        self.prompt = ChatPromptTemplate.from_template(template)\n",
    "        self.chain = {\n",
    "            \"context\": itemgetter(\"context\"),\n",
    "            \"question\": itemgetter(\"question\")\n",
    "        } | self.prompt | self.chat_model | StrOutputParser()\n",
    "        return\n",
    "\n",
    "    def answer(self, docs: List[Document], question: str) -> str:\n",
    "        ans = \"\"\n",
    "        for doc in docs:\n",
    "            ans = self.chain.invoke({\"context\": doc.page_content, \"question\": question})\n",
    "            if ans.lower() != \"none\":\n",
    "                break\n",
    "        return ans"
   ]
  },
  {
   "cell_type": "code",
   "execution_count": 5,
   "metadata": {},
   "outputs": [],
   "source": [
    "followup = FollowUpChain(config=Configuration())"
   ]
  },
  {
   "cell_type": "code",
   "execution_count": 12,
   "metadata": {},
   "outputs": [
    {
     "data": {
      "text/plain": [
       "'None'"
      ]
     },
     "execution_count": 12,
     "metadata": {},
     "output_type": "execute_result"
    }
   ],
   "source": [
    "db = [Document(page_content=\"Tom is a 40 years old AI developer\"), \n",
    "      Document(page_content=\"John is 23 years old web developer\")]\n",
    "q = \"What Tim does\"\n",
    "a = followup.answer(docs=db, question=q)\n",
    "a"
   ]
  },
  {
   "cell_type": "code",
   "execution_count": null,
   "metadata": {},
   "outputs": [],
   "source": []
  }
 ],
 "metadata": {
  "kernelspec": {
   "display_name": "Python 3 (ipykernel)",
   "language": "python",
   "name": "python3"
  },
  "language_info": {
   "codemirror_mode": {
    "name": "ipython",
    "version": 3
   },
   "file_extension": ".py",
   "mimetype": "text/x-python",
   "name": "python",
   "nbconvert_exporter": "python",
   "pygments_lexer": "ipython3",
   "version": "3.9.18"
  }
 },
 "nbformat": 4,
 "nbformat_minor": 4
}
