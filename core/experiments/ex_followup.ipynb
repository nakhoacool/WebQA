{
 "cells": [
  {
   "cell_type": "markdown",
   "metadata": {},
   "source": [
    "# Follow up answering RAG"
   ]
  },
  {
   "cell_type": "code",
   "execution_count": 20,
   "metadata": {},
   "outputs": [],
   "source": [
    "from langchain_google_genai.chat_models import ChatGoogleGenerativeAI\n",
    "from langchain_google_genai.llms import GoogleGenerativeAI\n",
    "from langchain_community.vectorstores.elasticsearch import ElasticsearchStore\n",
    "from langchain_community.embeddings import HuggingFaceInferenceAPIEmbeddings\n",
    "from langchain.retrievers import BM25Retriever, EnsembleRetriever\n",
    "from langchain_core.output_parsers import StrOutputParser\n",
    "from langsmith.run_helpers import traceable\n",
    "from langchain_core.prompts import ChatPromptTemplate, MessagesPlaceholder\n",
    "from langchain_core.runnables import RunnableLambda, RunnablePassthrough\n",
    "from langchain.memory import ConversationBufferMemory\n",
    "from operator import itemgetter\n",
    "from typing import List\n",
    "from langchain_core.documents import Document\n",
    "\n",
    "import sys\n",
    "sys.path.append(\"../\")\n",
    "from src.config import Configuration\n",
    "\n",
    "\n",
    "class FollowUpChain:\n",
    "    def __init__(self, config: Configuration, doc_content: str) -> None:\n",
    "        # chat model\n",
    "        self.chat_model = ChatGoogleGenerativeAI(\n",
    "            model=\"gemini-pro\",\n",
    "            temperature=0,\n",
    "            convert_system_message_to_human=True,\n",
    "            google_api_key=config.load_gemini_token()\n",
    "        )\n",
    "        self.prompt = ChatPromptTemplate.from_messages([\n",
    "            (\"system\", f'You are a helpful admission assitant for Ton Duc Thang university.\\nGive you the following context to answer my questions. Output \"None\" if you cannot answer:\\n```\\n{doc_content}\\n```\\n'),\n",
    "            MessagesPlaceholder(variable_name=\"history\"),\n",
    "            (\"human\", \"{question}\")])\n",
    "\n",
    "        self.memory = ConversationBufferMemory(return_messages=True)\n",
    "        self.chain = RunnablePassthrough.aschain = (\n",
    "            {\n",
    "                \"question\": itemgetter(\"question\")\n",
    "            }\n",
    "            |RunnablePassthrough.assign(\n",
    "                history=RunnableLambda(self.memory.load_memory_variables) | itemgetter(\"history\"),\n",
    "            )\n",
    "            | self.prompt\n",
    "            | self.chat_model\n",
    "        )\n",
    "        return\n",
    "\n",
    "    @traceable(tags=[\"followup\"])\n",
    "    def answer(self, question: str) -> str:\n",
    "        inputs = {\"question\": question}\n",
    "        response = self.chain.invoke(inputs)\n",
    "        self.memory.save_context(inputs=inputs, outputs={\"output\": response.content})\n",
    "        return response\n",
    "\n"
   ]
  },
  {
   "cell_type": "markdown",
   "metadata": {},
   "source": [
    "# Test"
   ]
  },
  {
   "cell_type": "code",
   "execution_count": 2,
   "metadata": {},
   "outputs": [
    {
     "name": "stdout",
     "output_type": "stream",
     "text": [
      "From (44, 4) to Counter({2: 37, 1: 6, 3: 1})\n",
      "From (44, 4) to 44\n"
     ]
    }
   ],
   "source": [
    "from src.rag.hybrid_gemini import HybridGeminiRag\n",
    "config = Configuration()\n",
    "rag = HybridGeminiRag(\n",
    "    config=config, \n",
    "    es_index=\"labse-major\", \n",
    "    embed_model=\"sentence-transformers/LaBSE\")"
   ]
  },
  {
   "cell_type": "code",
   "execution_count": 3,
   "metadata": {},
   "outputs": [
    {
     "data": {
      "text/plain": [
       "'- Sinh viên sau khi tốt nghiệp có khả năng phân tích vấn đề, giá trị, xu hướng của du lịch trong thời kỳ mới và bối cảnh kinh tế toàn cầu.\\n- Sinh viên có thể phân tích, đánh giá và vận dụng kiến thức chuyên ngành của khoa học quản lý vào kinh doanh du lịch, đặc biệt trong lĩnh vực kinh doanh điểm đến du lịch và công nghệ giải trí du lịch.\\n- Sinh viên có thể khai thác sản phẩm du lịch, tổ chức quản lý trong hoạt động du lịch.'"
      ]
     },
     "execution_count": 3,
     "metadata": {},
     "output_type": "execute_result"
    }
   ],
   "source": [
    "from pprint import pprint\n",
    "rag_resp = rag.ask_rag(question=\"Em muốn biết thêm về ngành du lịch của trường\")\n",
    "rag_resp.answer\n"
   ]
  },
  {
   "cell_type": "code",
   "execution_count": 21,
   "metadata": {},
   "outputs": [],
   "source": [
    "config.enable_tracing(project=\"LEARN\")\n",
    "followup = FollowUpChain(config=Configuration(), doc_content=rag_resp.document.content)"
   ]
  },
  {
   "cell_type": "code",
   "execution_count": 22,
   "metadata": {},
   "outputs": [
    {
     "data": {
      "text/plain": [
       "AIMessage(content='Việt Nam học – Chuyên ngành Du lịch và Quản lý du lịch')"
      ]
     },
     "execution_count": 22,
     "metadata": {},
     "output_type": "execute_result"
    }
   ],
   "source": [
    "q = \"Ngành học này tên là gì?\"\n",
    "a = followup.answer(question=q)\n",
    "a"
   ]
  },
  {
   "cell_type": "code",
   "execution_count": 6,
   "metadata": {},
   "outputs": [
    {
     "data": {
      "text/plain": [
       "{'history': [HumanMessage(content='Ngành học này tên là gì?'),\n",
       "  AIMessage(content='Việt Nam học – Chuyên ngành Du lịch và Quản lý du lịch')]}"
      ]
     },
     "execution_count": 6,
     "metadata": {},
     "output_type": "execute_result"
    }
   ],
   "source": [
    "followup.memory.load_memory_variables({})"
   ]
  },
  {
   "cell_type": "code",
   "execution_count": 7,
   "metadata": {},
   "outputs": [
    {
     "data": {
      "text/plain": [
       "AIMessage(content='Cử nhân Việt Nam học – Chuyên ngành Du lịch và Quản lý du lịch có thể ứng tuyển vào các vị trí như:\\n- Chuyên viên cung cấp dịch vụ du lịch tại các khu du lịch, điểm vui chơi tham quan du lịch\\n- Chuyên gia tư vấn về chiến lược kinh doanh, khai thác, xây dựng và cung cấp sản phẩm du lịch\\n- Chuyên viên thuộc Bộ và Sở văn hóa – Thể thao – Du lịch như Trung tâm bồi dưỡng nghiệp vụ du lịch, Viện nghiên cứu và phát triển du lịch, Quy hoạch du lịch, Trung tâm xúc tiến du lịch\\n- Tự tạo lập doanh nghiệp du lịch mới với quy mô nhỏ hoặc tham gia giảng dạy tại các cơ sở đào tạo về du lịch')"
      ]
     },
     "execution_count": 7,
     "metadata": {},
     "output_type": "execute_result"
    }
   ],
   "source": [
    "q = \"Vậy cử nhân ngành này có thể ứng tuyển vào vị trí nào?\"\n",
    "a = followup.answer(question=q)\n",
    "a"
   ]
  },
  {
   "cell_type": "code",
   "execution_count": 23,
   "metadata": {},
   "outputs": [
    {
     "data": {
      "text/plain": [
       "'Việt Nam học – Chuyên ngành Du lịch và Quản lý du lịch'"
      ]
     },
     "execution_count": 23,
     "metadata": {},
     "output_type": "execute_result"
    }
   ],
   "source": [
    "a.content"
   ]
  },
  {
   "cell_type": "code",
   "execution_count": 8,
   "metadata": {},
   "outputs": [
    {
     "data": {
      "text/plain": [
       "{'history': [HumanMessage(content='Ngành học này tên là gì?'),\n",
       "  AIMessage(content='Việt Nam học – Chuyên ngành Du lịch và Quản lý du lịch'),\n",
       "  HumanMessage(content='Vậy cử nhân ngành này có thể ứng tuyển vào vị trí nào?'),\n",
       "  AIMessage(content='Cử nhân Việt Nam học – Chuyên ngành Du lịch và Quản lý du lịch có thể ứng tuyển vào các vị trí như:\\n- Chuyên viên cung cấp dịch vụ du lịch tại các khu du lịch, điểm vui chơi tham quan du lịch\\n- Chuyên gia tư vấn về chiến lược kinh doanh, khai thác, xây dựng và cung cấp sản phẩm du lịch\\n- Chuyên viên thuộc Bộ và Sở văn hóa – Thể thao – Du lịch như Trung tâm bồi dưỡng nghiệp vụ du lịch, Viện nghiên cứu và phát triển du lịch, Quy hoạch du lịch, Trung tâm xúc tiến du lịch\\n- Tự tạo lập doanh nghiệp du lịch mới với quy mô nhỏ hoặc tham gia giảng dạy tại các cơ sở đào tạo về du lịch')]}"
      ]
     },
     "execution_count": 8,
     "metadata": {},
     "output_type": "execute_result"
    }
   ],
   "source": [
    "followup.memory.load_memory_variables({})"
   ]
  }
 ],
 "metadata": {
  "kernelspec": {
   "display_name": "Python 3 (ipykernel)",
   "language": "python",
   "name": "python3"
  },
  "language_info": {
   "codemirror_mode": {
    "name": "ipython",
    "version": 3
   },
   "file_extension": ".py",
   "mimetype": "text/x-python",
   "name": "python",
   "nbconvert_exporter": "python",
   "pygments_lexer": "ipython3",
   "version": "3.9.18"
  }
 },
 "nbformat": 4,
 "nbformat_minor": 4
}
