{
 "cells": [
  {
   "cell_type": "code",
   "execution_count": 1,
   "metadata": {
    "colab": {
     "base_uri": "https://localhost:8080/"
    },
    "id": "15BnODH0emlL",
    "outputId": "8b2d40c1-9ced-42f9-fce3-bdb343de5324"
   },
   "outputs": [
    {
     "name": "stdout",
     "output_type": "stream",
     "text": [
      "crawler_config\t    test_dormitory  test_sample\n",
      "db\t\t    test_major\t    test_training_program\n",
      "dormitory_info.csv  test_routing    test_uni\n"
     ]
    }
   ],
   "source": [
    "import pandas as pd\n",
    "GPATH = \"../data\"\n",
    "!ls {GPATH}"
   ]
  },
  {
   "cell_type": "code",
   "execution_count": 2,
   "metadata": {
    "colab": {
     "base_uri": "https://localhost:8080/"
    },
    "id": "JJpmdrRZ9w38",
    "outputId": "849b8c60-31ab-46d5-ff53-e3dfcf670c37"
   },
   "outputs": [
    {
     "data": {
      "text/plain": [
       "(8, 4)"
      ]
     },
     "execution_count": 2,
     "metadata": {},
     "output_type": "execute_result"
    }
   ],
   "source": [
    "folder = \"test_training_program\"\n",
    "PATH = f\"../data/{folder}\"\n",
    "df = pd.read_csv(f\"{PATH}/docs.csv\")\n",
    "df.shape"
   ]
  },
  {
   "cell_type": "code",
   "execution_count": 3,
   "metadata": {
    "colab": {
     "base_uri": "https://localhost:8080/",
     "height": 293
    },
    "id": "S-kpCwBeBBSf",
    "outputId": "98e5e23d-0188-4c50-8b47-5cffec2f9368"
   },
   "outputs": [
    {
     "data": {
      "text/html": [
       "<div>\n",
       "<style scoped>\n",
       "    .dataframe tbody tr th:only-of-type {\n",
       "        vertical-align: middle;\n",
       "    }\n",
       "\n",
       "    .dataframe tbody tr th {\n",
       "        vertical-align: top;\n",
       "    }\n",
       "\n",
       "    .dataframe thead th {\n",
       "        text-align: right;\n",
       "    }\n",
       "</style>\n",
       "<table border=\"1\" class=\"dataframe\">\n",
       "  <thead>\n",
       "    <tr style=\"text-align: right;\">\n",
       "      <th></th>\n",
       "      <th>id</th>\n",
       "      <th>title</th>\n",
       "      <th>content</th>\n",
       "      <th>source</th>\n",
       "    </tr>\n",
       "  </thead>\n",
       "  <tbody>\n",
       "    <tr>\n",
       "      <th>0</th>\n",
       "      <td>1</td>\n",
       "      <td>Chương trình tiêu chuẩn (dạy-học bằng tiếng Việt)</td>\n",
       "      <td>Chương trình tiêu chuẩn (dạy-học bằng tiếng Vi...</td>\n",
       "      <td>https://admission.tdtu.edu.vn/dai-hoc/chuong-t...</td>\n",
       "    </tr>\n",
       "    <tr>\n",
       "      <th>1</th>\n",
       "      <td>2</td>\n",
       "      <td>Chương trình chất lượng cao</td>\n",
       "      <td>Chương trình chất lượng cao \\nLà chương trình ...</td>\n",
       "      <td>https://admission.tdtu.edu.vn/dai-hoc/chuong-t...</td>\n",
       "    </tr>\n",
       "    <tr>\n",
       "      <th>2</th>\n",
       "      <td>3</td>\n",
       "      <td>Chương trình đại học bằng tiếng Anh</td>\n",
       "      <td>Chương trình đại học bằng tiếng Anh \\nLà chươn...</td>\n",
       "      <td>https://admission.tdtu.edu.vn/dai-hoc/chuong-t...</td>\n",
       "    </tr>\n",
       "    <tr>\n",
       "      <th>3</th>\n",
       "      <td>4</td>\n",
       "      <td>Chương trình liên kết đào tạo quốc tế trình độ...</td>\n",
       "      <td>Chương trình liên kết đào tạo quốc tế (trình đ...</td>\n",
       "      <td>https://admission.tdtu.edu.vn/du-hoc/chuong-tr...</td>\n",
       "    </tr>\n",
       "    <tr>\n",
       "      <th>4</th>\n",
       "      <td>5</td>\n",
       "      <td>Tuyển học bổ sung kiến thức</td>\n",
       "      <td>Tuyển học bổ sung kiến thức \\nTuyển sinh Bổ su...</td>\n",
       "      <td>https://admission.tdtu.edu.vn/sau-dai-hoc/tuye...</td>\n",
       "    </tr>\n",
       "  </tbody>\n",
       "</table>\n",
       "</div>"
      ],
      "text/plain": [
       "   id                                              title  \\\n",
       "0   1  Chương trình tiêu chuẩn (dạy-học bằng tiếng Việt)   \n",
       "1   2                       Chương trình chất lượng cao    \n",
       "2   3               Chương trình đại học bằng tiếng Anh    \n",
       "3   4  Chương trình liên kết đào tạo quốc tế trình độ...   \n",
       "4   5                       Tuyển học bổ sung kiến thức    \n",
       "\n",
       "                                             content  \\\n",
       "0  Chương trình tiêu chuẩn (dạy-học bằng tiếng Vi...   \n",
       "1  Chương trình chất lượng cao \\nLà chương trình ...   \n",
       "2  Chương trình đại học bằng tiếng Anh \\nLà chươn...   \n",
       "3  Chương trình liên kết đào tạo quốc tế (trình đ...   \n",
       "4  Tuyển học bổ sung kiến thức \\nTuyển sinh Bổ su...   \n",
       "\n",
       "                                              source  \n",
       "0  https://admission.tdtu.edu.vn/dai-hoc/chuong-t...  \n",
       "1  https://admission.tdtu.edu.vn/dai-hoc/chuong-t...  \n",
       "2  https://admission.tdtu.edu.vn/dai-hoc/chuong-t...  \n",
       "3  https://admission.tdtu.edu.vn/du-hoc/chuong-tr...  \n",
       "4  https://admission.tdtu.edu.vn/sau-dai-hoc/tuye...  "
      ]
     },
     "execution_count": 3,
     "metadata": {},
     "output_type": "execute_result"
    }
   ],
   "source": [
    "df.head()"
   ]
  },
  {
   "cell_type": "code",
   "execution_count": 4,
   "metadata": {
    "id": "b-9FsiMa-YHy"
   },
   "outputs": [],
   "source": [
    "from uuid import uuid4\n",
    "id_col = df['id']\n",
    "min_id = min(id_col)\n",
    "max_id = max(id_col)\n",
    "ids = [str(uuid4()) for i in range(df.shape[0])]\n",
    "map_ids = {i:ids[i-min_id] for i in range(min_id, max_id+1)}\n",
    "len(map_ids) == len(ids)\n",
    "\n",
    "\n",
    "df['id'] = df['id'].apply(lambda id: map_ids[id])\n",
    "df.to_csv(f\"{PATH}/docs.csv\")"
   ]
  },
  {
   "cell_type": "code",
   "execution_count": 5,
   "metadata": {
    "colab": {
     "base_uri": "https://localhost:8080/",
     "height": 293
    },
    "id": "2NyZi5MJCoZD",
    "outputId": "5896f6c0-7291-4f25-aee5-825be9b1db87"
   },
   "outputs": [
    {
     "data": {
      "text/html": [
       "<div>\n",
       "<style scoped>\n",
       "    .dataframe tbody tr th:only-of-type {\n",
       "        vertical-align: middle;\n",
       "    }\n",
       "\n",
       "    .dataframe tbody tr th {\n",
       "        vertical-align: top;\n",
       "    }\n",
       "\n",
       "    .dataframe thead th {\n",
       "        text-align: right;\n",
       "    }\n",
       "</style>\n",
       "<table border=\"1\" class=\"dataframe\">\n",
       "  <thead>\n",
       "    <tr style=\"text-align: right;\">\n",
       "      <th></th>\n",
       "      <th>id</th>\n",
       "      <th>title</th>\n",
       "      <th>content</th>\n",
       "      <th>source</th>\n",
       "    </tr>\n",
       "  </thead>\n",
       "  <tbody>\n",
       "    <tr>\n",
       "      <th>0</th>\n",
       "      <td>ded27576-2a47-46d2-a351-cd88df27a109</td>\n",
       "      <td>Chương trình tiêu chuẩn (dạy-học bằng tiếng Việt)</td>\n",
       "      <td>Chương trình tiêu chuẩn (dạy-học bằng tiếng Vi...</td>\n",
       "      <td>https://admission.tdtu.edu.vn/dai-hoc/chuong-t...</td>\n",
       "    </tr>\n",
       "    <tr>\n",
       "      <th>1</th>\n",
       "      <td>6d6250f6-7d74-4c5d-9bdf-73ff6b203808</td>\n",
       "      <td>Chương trình chất lượng cao</td>\n",
       "      <td>Chương trình chất lượng cao \\nLà chương trình ...</td>\n",
       "      <td>https://admission.tdtu.edu.vn/dai-hoc/chuong-t...</td>\n",
       "    </tr>\n",
       "    <tr>\n",
       "      <th>2</th>\n",
       "      <td>a66661db-197b-45f8-b5b8-b906f0339323</td>\n",
       "      <td>Chương trình đại học bằng tiếng Anh</td>\n",
       "      <td>Chương trình đại học bằng tiếng Anh \\nLà chươn...</td>\n",
       "      <td>https://admission.tdtu.edu.vn/dai-hoc/chuong-t...</td>\n",
       "    </tr>\n",
       "    <tr>\n",
       "      <th>3</th>\n",
       "      <td>75956006-00ad-4b8b-8a18-17eecce4422b</td>\n",
       "      <td>Chương trình liên kết đào tạo quốc tế trình độ...</td>\n",
       "      <td>Chương trình liên kết đào tạo quốc tế (trình đ...</td>\n",
       "      <td>https://admission.tdtu.edu.vn/du-hoc/chuong-tr...</td>\n",
       "    </tr>\n",
       "    <tr>\n",
       "      <th>4</th>\n",
       "      <td>15277b95-6686-48a8-bc4e-89ef50946af9</td>\n",
       "      <td>Tuyển học bổ sung kiến thức</td>\n",
       "      <td>Tuyển học bổ sung kiến thức \\nTuyển sinh Bổ su...</td>\n",
       "      <td>https://admission.tdtu.edu.vn/sau-dai-hoc/tuye...</td>\n",
       "    </tr>\n",
       "  </tbody>\n",
       "</table>\n",
       "</div>"
      ],
      "text/plain": [
       "                                     id  \\\n",
       "0  ded27576-2a47-46d2-a351-cd88df27a109   \n",
       "1  6d6250f6-7d74-4c5d-9bdf-73ff6b203808   \n",
       "2  a66661db-197b-45f8-b5b8-b906f0339323   \n",
       "3  75956006-00ad-4b8b-8a18-17eecce4422b   \n",
       "4  15277b95-6686-48a8-bc4e-89ef50946af9   \n",
       "\n",
       "                                               title  \\\n",
       "0  Chương trình tiêu chuẩn (dạy-học bằng tiếng Việt)   \n",
       "1                       Chương trình chất lượng cao    \n",
       "2               Chương trình đại học bằng tiếng Anh    \n",
       "3  Chương trình liên kết đào tạo quốc tế trình độ...   \n",
       "4                       Tuyển học bổ sung kiến thức    \n",
       "\n",
       "                                             content  \\\n",
       "0  Chương trình tiêu chuẩn (dạy-học bằng tiếng Vi...   \n",
       "1  Chương trình chất lượng cao \\nLà chương trình ...   \n",
       "2  Chương trình đại học bằng tiếng Anh \\nLà chươn...   \n",
       "3  Chương trình liên kết đào tạo quốc tế (trình đ...   \n",
       "4  Tuyển học bổ sung kiến thức \\nTuyển sinh Bổ su...   \n",
       "\n",
       "                                              source  \n",
       "0  https://admission.tdtu.edu.vn/dai-hoc/chuong-t...  \n",
       "1  https://admission.tdtu.edu.vn/dai-hoc/chuong-t...  \n",
       "2  https://admission.tdtu.edu.vn/dai-hoc/chuong-t...  \n",
       "3  https://admission.tdtu.edu.vn/du-hoc/chuong-tr...  \n",
       "4  https://admission.tdtu.edu.vn/sau-dai-hoc/tuye...  "
      ]
     },
     "execution_count": 5,
     "metadata": {},
     "output_type": "execute_result"
    }
   ],
   "source": [
    "df.head(5)"
   ]
  },
  {
   "cell_type": "code",
   "execution_count": 6,
   "metadata": {
    "colab": {
     "base_uri": "https://localhost:8080/"
    },
    "id": "VdtkxWAqFgao",
    "outputId": "ce49b74d-a961-4736-a6a0-c500383d32ff"
   },
   "outputs": [
    {
     "name": "stdout",
     "output_type": "stream",
     "text": [
      "(2, 4)\n",
      "(38, 4)\n"
     ]
    }
   ],
   "source": [
    "import os\n",
    "files = os.listdir(PATH)\n",
    "for f in files:\n",
    "  if \"test_case\" not in f:\n",
    "    continue\n",
    "  tmp = pd.read_csv(f\"{PATH}/{f}\")\n",
    "  print(tmp.shape)\n",
    "  tmp['doc_id'] = tmp['doc_id'].apply(lambda x: map_ids[x])\n",
    "  tmp.to_csv(f\"{PATH}/{f}\")"
   ]
  },
  {
   "cell_type": "code",
   "execution_count": 7,
   "metadata": {
    "colab": {
     "base_uri": "https://localhost:8080/",
     "height": 484
    },
    "id": "bzFwr2EvGikP",
    "outputId": "51455e3d-8397-4171-db9d-a74f259e0ad9"
   },
   "outputs": [
    {
     "data": {
      "text/html": [
       "<div>\n",
       "<style scoped>\n",
       "    .dataframe tbody tr th:only-of-type {\n",
       "        vertical-align: middle;\n",
       "    }\n",
       "\n",
       "    .dataframe tbody tr th {\n",
       "        vertical-align: top;\n",
       "    }\n",
       "\n",
       "    .dataframe thead th {\n",
       "        text-align: right;\n",
       "    }\n",
       "</style>\n",
       "<table border=\"1\" class=\"dataframe\">\n",
       "  <thead>\n",
       "    <tr style=\"text-align: right;\">\n",
       "      <th></th>\n",
       "      <th>doc_id</th>\n",
       "      <th>public question</th>\n",
       "      <th>answer</th>\n",
       "      <th>key</th>\n",
       "    </tr>\n",
       "  </thead>\n",
       "  <tbody>\n",
       "    <tr>\n",
       "      <th>0</th>\n",
       "      <td>ded27576-2a47-46d2-a351-cd88df27a109</td>\n",
       "      <td>Chương trình giáo dục đại học của TDTU bao gồm...</td>\n",
       "      <td>Chương trình giáo dục đại học của TDTU bao gồm...</td>\n",
       "      <td>Chương trình đào tạo đại học của TDTU bao gồm ...</td>\n",
       "    </tr>\n",
       "    <tr>\n",
       "      <th>1</th>\n",
       "      <td>ded27576-2a47-46d2-a351-cd88df27a109</td>\n",
       "      <td>Chương trình đào tạo đại học của TDTU được xây...</td>\n",
       "      <td>Chương trình đào tạo đại học của TDTU được xây...</td>\n",
       "      <td>Chương trình đào tạo đại học của TDTU được xây...</td>\n",
       "    </tr>\n",
       "    <tr>\n",
       "      <th>2</th>\n",
       "      <td>ded27576-2a47-46d2-a351-cd88df27a109</td>\n",
       "      <td>Sinh viên tốt nghiệp chương trình đại học của ...</td>\n",
       "      <td>Sinh viên tốt nghiệp chương trình đại học của ...</td>\n",
       "      <td>Sinh viên tốt nghiệp chương trình đại học của ...</td>\n",
       "    </tr>\n",
       "    <tr>\n",
       "      <th>3</th>\n",
       "      <td>ded27576-2a47-46d2-a351-cd88df27a109</td>\n",
       "      <td>Chương trình giáo dục đại học tiêu chuẩn của T...</td>\n",
       "      <td>Chương trình giáo dục đại học tiêu chuẩn có 40...</td>\n",
       "      <td>Chương trình giáo dục đại học tiêu chuẩn có 40...</td>\n",
       "    </tr>\n",
       "    <tr>\n",
       "      <th>4</th>\n",
       "      <td>6d6250f6-7d74-4c5d-9bdf-73ff6b203808</td>\n",
       "      <td>Chương trình giáo dục chất lượng cao có những ...</td>\n",
       "      <td>Chương trình giáo dục chất lượng cao tại trườn...</td>\n",
       "      <td>Đào tạo nguồn nhân lực chất lượng cao, Chương ...</td>\n",
       "    </tr>\n",
       "  </tbody>\n",
       "</table>\n",
       "</div>"
      ],
      "text/plain": [
       "                                 doc_id  \\\n",
       "0  ded27576-2a47-46d2-a351-cd88df27a109   \n",
       "1  ded27576-2a47-46d2-a351-cd88df27a109   \n",
       "2  ded27576-2a47-46d2-a351-cd88df27a109   \n",
       "3  ded27576-2a47-46d2-a351-cd88df27a109   \n",
       "4  6d6250f6-7d74-4c5d-9bdf-73ff6b203808   \n",
       "\n",
       "                                     public question  \\\n",
       "0  Chương trình giáo dục đại học của TDTU bao gồm...   \n",
       "1  Chương trình đào tạo đại học của TDTU được xây...   \n",
       "2  Sinh viên tốt nghiệp chương trình đại học của ...   \n",
       "3  Chương trình giáo dục đại học tiêu chuẩn của T...   \n",
       "4  Chương trình giáo dục chất lượng cao có những ...   \n",
       "\n",
       "                                              answer  \\\n",
       "0  Chương trình giáo dục đại học của TDTU bao gồm...   \n",
       "1  Chương trình đào tạo đại học của TDTU được xây...   \n",
       "2  Sinh viên tốt nghiệp chương trình đại học của ...   \n",
       "3  Chương trình giáo dục đại học tiêu chuẩn có 40...   \n",
       "4  Chương trình giáo dục chất lượng cao tại trườn...   \n",
       "\n",
       "                                                 key  \n",
       "0  Chương trình đào tạo đại học của TDTU bao gồm ...  \n",
       "1  Chương trình đào tạo đại học của TDTU được xây...  \n",
       "2  Sinh viên tốt nghiệp chương trình đại học của ...  \n",
       "3  Chương trình giáo dục đại học tiêu chuẩn có 40...  \n",
       "4  Đào tạo nguồn nhân lực chất lượng cao, Chương ...  "
      ]
     },
     "execution_count": 7,
     "metadata": {},
     "output_type": "execute_result"
    }
   ],
   "source": [
    "tmp.head()"
   ]
  }
 ],
 "metadata": {
  "colab": {
   "collapsed_sections": [
    "mD1H2w-bfcKf"
   ],
   "provenance": []
  },
  "kernelspec": {
   "display_name": "Python 3 (ipykernel)",
   "language": "python",
   "name": "python3"
  },
  "language_info": {
   "codemirror_mode": {
    "name": "ipython",
    "version": 3
   },
   "file_extension": ".py",
   "mimetype": "text/x-python",
   "name": "python",
   "nbconvert_exporter": "python",
   "pygments_lexer": "ipython3",
   "version": "3.9.18"
  }
 },
 "nbformat": 4,
 "nbformat_minor": 4
}
