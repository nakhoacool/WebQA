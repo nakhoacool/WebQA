{
 "cells": [
  {
   "cell_type": "markdown",
   "metadata": {},
   "source": [
    "# Build data with raptor"
   ]
  },
  {
   "cell_type": "code",
   "execution_count": 1,
   "metadata": {},
   "outputs": [],
   "source": [
    "import sys\n",
    "sys.path.append(\"../..\")\n",
    "from datasets import load_dataset\n",
    "from src.service.provider import ProviderService\n",
    "provider = ProviderService()"
   ]
  },
  {
   "cell_type": "code",
   "execution_count": 2,
   "metadata": {},
   "outputs": [
    {
     "data": {
      "text/plain": [
       "Dataset({\n",
       "    features: ['content', 'url', 'doc_id', 'shards', 'splits', 'split', 'propositions', 'proposition_list'],\n",
       "    num_rows: 344\n",
       "})"
      ]
     },
     "execution_count": 2,
     "metadata": {},
     "output_type": "execute_result"
    }
   ],
   "source": [
    "DATA_REPO = \"BroDeadlines/TEST.edu_tdt_proposition_data\"\n",
    "# SPLIT = \"TEST.basic_index_TDT_clean\"\n",
    "SPLIT = \"INDEX.medium_index_TDT_clean\"\n",
    "test_dataset = load_dataset(DATA_REPO, split= SPLIT)\n",
    "test_dataset"
   ]
  },
  {
   "cell_type": "code",
   "execution_count": 3,
   "metadata": {},
   "outputs": [
    {
     "data": {
      "text/plain": [
       "Dataset({\n",
       "    features: ['content', 'url', 'doc_id', 'shards', 'splits', 'split', 'propositions', 'proposition_list'],\n",
       "    num_rows: 144\n",
       "})"
      ]
     },
     "execution_count": 3,
     "metadata": {},
     "output_type": "execute_result"
    }
   ],
   "source": [
    "rows = test_dataset.filter(lambda e: e['url'] == \"https://tuvanhocduong.tdtu.edu.vn/News\")\n",
    "rows"
   ]
  },
  {
   "cell_type": "markdown",
   "metadata": {},
   "source": [
    "## Update the splits"
   ]
  },
  {
   "cell_type": "code",
   "execution_count": 4,
   "metadata": {},
   "outputs": [
    {
     "data": {
      "text/plain": [
       "Dataset({\n",
       "    features: ['content', 'url', 'doc_id', 'propositions', 'proposition_list'],\n",
       "    num_rows: 344\n",
       "})"
      ]
     },
     "execution_count": 4,
     "metadata": {},
     "output_type": "execute_result"
    }
   ],
   "source": [
    "dataset = test_dataset.remove_columns(['split', 'splits', 'shards'])\n",
    "dataset"
   ]
  },
  {
   "cell_type": "code",
   "execution_count": 5,
   "metadata": {},
   "outputs": [
    {
     "name": "stdout",
     "output_type": "stream",
     "text": [
      "From 344 texts -> 1603\n",
      "Distribution: Counter({1: 129, 5: 46, 2: 27, 4: 26, 6: 25, 3: 15, 8: 15, 7: 12, 9: 11, 10: 8, 11: 6, 12: 6, 13: 5, 27: 2, 40: 2, 17: 2, 15: 2, 14: 1, 20: 1, 21: 1, 24: 1, 28: 1})\n",
      "== About the splits ==\n",
      "The mean of the splits is: 4.659883720930233\n",
      "The median of the splits is: 4.0\n",
      "== About the splits length ==\n",
      "The mean of the split length is: 236.15658140985653\n",
      "The median of the split length is: 251.0\n"
     ]
    }
   ],
   "source": [
    "from src.utils.text_utils import create_splitter, try_split_texts\n",
    "from src.chain.proposition import create_proposition_chain\n",
    "\n",
    "contents = dataset['content']\n",
    "splitter = create_splitter(chunk_size=300, overlap=0, separators=[\".\", \"\\n\"])\n",
    "try_split_texts(texts=contents, splitter=splitter)"
   ]
  },
  {
   "cell_type": "code",
   "execution_count": 6,
   "metadata": {},
   "outputs": [
    {
     "data": {
      "text/plain": [
       "Dataset({\n",
       "    features: ['content', 'url', 'doc_id', 'propositions', 'proposition_list', 'splits'],\n",
       "    num_rows: 344\n",
       "})"
      ]
     },
     "execution_count": 6,
     "metadata": {},
     "output_type": "execute_result"
    }
   ],
   "source": [
    "def create_split(row):\n",
    "    docs = splitter.split_text(row['content'])\n",
    "    return {**row, \"splits\": docs}\n",
    "    \n",
    "new_ds = dataset.map(create_split)\n",
    "new_ds"
   ]
  },
  {
   "cell_type": "code",
   "execution_count": 7,
   "metadata": {},
   "outputs": [
    {
     "data": {
      "text/plain": [
       "2"
      ]
     },
     "execution_count": 7,
     "metadata": {},
     "output_type": "execute_result"
    }
   ],
   "source": [
    "a = new_ds[10]['splits']\n",
    "len(a)"
   ]
  },
  {
   "cell_type": "markdown",
   "metadata": {},
   "source": [
    "## Build RAPTOR tree"
   ]
  },
  {
   "cell_type": "code",
   "execution_count": 1,
   "metadata": {},
   "outputs": [
    {
     "ename": "ModuleNotFoundError",
     "evalue": "No module named 'src'",
     "output_type": "error",
     "traceback": [
      "\u001b[0;31m---------------------------------------------------------------------------\u001b[0m",
      "\u001b[0;31mModuleNotFoundError\u001b[0m                       Traceback (most recent call last)",
      "Cell \u001b[0;32mIn[1], line 1\u001b[0m\n\u001b[0;32m----> 1\u001b[0m \u001b[38;5;28;01mfrom\u001b[39;00m \u001b[38;5;21;01msrc\u001b[39;00m\u001b[38;5;21;01m.\u001b[39;00m\u001b[38;5;21;01mrag\u001b[39;00m\u001b[38;5;21;01m.\u001b[39;00m\u001b[38;5;21;01mraptor\u001b[39;00m \u001b[38;5;28;01mimport\u001b[39;00m RAPTOR\n\u001b[1;32m      2\u001b[0m raptor \u001b[38;5;241m=\u001b[39m RAPTOR(provider)\n\u001b[1;32m      4\u001b[0m \u001b[38;5;66;03m# vec_idx = \"vec-raptor-basic_index_tdt_clean\"\u001b[39;00m\n\u001b[1;32m      5\u001b[0m \u001b[38;5;66;03m# text_idx = \"text-raptor-basic_index_tdt_clean\"\u001b[39;00m\n\u001b[1;32m      6\u001b[0m \n\u001b[1;32m      7\u001b[0m \u001b[38;5;66;03m# text_idx = \"text-raptor-medium_index_tdt\"\u001b[39;00m\n\u001b[1;32m      8\u001b[0m \u001b[38;5;66;03m# vec_idx = \"vec-raptor-medium_index_tdt\"\u001b[39;00m\n",
      "\u001b[0;31mModuleNotFoundError\u001b[0m: No module named 'src'"
     ]
    }
   ],
   "source": [
    "from src.rag.raptor import RAPTOR\n",
    "raptor = RAPTOR(provider)\n",
    "\n",
    "# vec_idx = \"vec-raptor-basic_index_tdt_clean\"\n",
    "# text_idx = \"text-raptor-basic_index_tdt_clean\"\n",
    "\n",
    "text_idx = \"text-raptor-medium_index_tdt\"\n",
    "vec_idx = \"vec-raptor-medium_index_tdt\"\n",
    "\n",
    "# text_idx = \"text-raptor-medium_index_tdt\"\n",
    "# vec_idx = \"vec-raptor-medium_index_tdt\"\n",
    "\n",
    "es = provider.get_elasticsearch_store(vec_idx)\n",
    "bm = provider.get_elasticsearch_bm25(text_idx)"
   ]
  },
  {
   "cell_type": "code",
   "execution_count": 10,
   "metadata": {},
   "outputs": [
    {
     "data": {
      "application/vnd.jupyter.widget-view+json": {
       "model_id": "8db5cd5df7024066a0493b5b5b826606",
       "version_major": 2,
       "version_minor": 0
      },
      "text/plain": [
       "Map:   0%|          | 0/344 [00:00<?, ? examples/s]"
      ]
     },
     "metadata": {},
     "output_type": "display_data"
    },
    {
     "name": "stdout",
     "output_type": "stream",
     "text": [
      "1603 - 1603\n"
     ]
    },
    {
     "data": {
      "text/plain": [
       "Dataset({\n",
       "    features: ['content', 'url', 'doc_id', 'propositions', 'proposition_list', 'splits'],\n",
       "    num_rows: 344\n",
       "})"
      ]
     },
     "execution_count": 10,
     "metadata": {},
     "output_type": "execute_result"
    }
   ],
   "source": [
    "leaf_ids = []\n",
    "leaf_texts = []\n",
    "\n",
    "def collect_new_data(row):\n",
    "    docs = row['splits']\n",
    "    for d in docs:\n",
    "        leaf_ids.append(row['doc_id'])\n",
    "        leaf_texts.append(d)\n",
    "    return row\n",
    "\n",
    "a = new_ds.map(collect_new_data)\n",
    "print(len(leaf_texts) ,\"-\", len(leaf_ids))\n",
    "a"
   ]
  },
  {
   "cell_type": "code",
   "execution_count": 11,
   "metadata": {},
   "outputs": [
    {
     "name": "stdout",
     "output_type": "stream",
     "text": [
      "--Generated 264 clusters--\n",
      "--Generated 58 clusters--\n",
      "--Generated 10 clusters--\n"
     ]
    }
   ],
   "source": [
    "results = raptor.recursive_embed_cluster_summarize(leaf_texts, leaf_ids, level=1, n_levels=3)"
   ]
  },
  {
   "cell_type": "markdown",
   "metadata": {},
   "source": [
    "### Up to Hugging Face"
   ]
  },
  {
   "cell_type": "code",
   "execution_count": 27,
   "metadata": {},
   "outputs": [],
   "source": [
    "import pandas as pd\n",
    "\n",
    "def assign_level_id(raptor_tree):\n",
    "    levels = raptor_tree.keys()\n",
    "    for level in levels:\n",
    "        raptor_tree[level][0]['level_id'] = f\"tree_{level}\"\n",
    "        raptor_tree[level][1]['level_id'] = f\"tree_{level}\"\n",
    "    return\n",
    "\n",
    "def print_raptor_info(results):\n",
    "    print(results.keys())\n",
    "    for i in results.keys():\n",
    "        print(\"=======\")\n",
    "        print(len(results[i]))\n",
    "        print(results[i][0].keys())\n",
    "        print(\"->\",results[i][0].shape)\n",
    "        print(results[i][0]['level_id'].unique())\n",
    "        print(results[i][1].keys())\n",
    "        print(\"->\",results[i][1].shape)\n",
    "    return\n",
    "\n",
    "def flatten_tree(raptor_tree):\n",
    "    clusters = []\n",
    "    summarizes = []\n",
    "    for level in raptor_tree.keys():\n",
    "        clusters.append(raptor_tree[level][0])\n",
    "        summarizes.append(raptor_tree[level][1])\n",
    "    return pd.concat(clusters), pd.concat(summarizes)"
   ]
  },
  {
   "cell_type": "code",
   "execution_count": 28,
   "metadata": {},
   "outputs": [
    {
     "name": "stdout",
     "output_type": "stream",
     "text": [
      "dict_keys([1, 2, 3])\n",
      "=======\n",
      "2\n",
      "Index(['text', 'embd', 'cluster', 'doc_ids', 'level_id'], dtype='object')\n",
      "-> (1603, 5)\n",
      "['tree_1']\n",
      "Index(['summaries', 'level', 'cluster', 'doc_ids', 'level_id'], dtype='object')\n",
      "-> (264, 5)\n",
      "=======\n",
      "2\n",
      "Index(['text', 'embd', 'cluster', 'doc_ids', 'level_id'], dtype='object')\n",
      "-> (264, 5)\n",
      "['tree_2']\n",
      "Index(['summaries', 'level', 'cluster', 'doc_ids', 'level_id'], dtype='object')\n",
      "-> (58, 5)\n",
      "=======\n",
      "2\n",
      "Index(['text', 'embd', 'cluster', 'doc_ids', 'level_id'], dtype='object')\n",
      "-> (58, 5)\n",
      "['tree_3']\n",
      "Index(['summaries', 'level', 'cluster', 'doc_ids', 'level_id'], dtype='object')\n",
      "-> (10, 5)\n"
     ]
    }
   ],
   "source": [
    "# assign_level_id(results)\n",
    "print_raptor_info(results)\n",
    "# clusters, summarizes = flatten_tree(results)"
   ]
  },
  {
   "cell_type": "code",
   "execution_count": 19,
   "metadata": {},
   "outputs": [
    {
     "name": "stdout",
     "output_type": "stream",
     "text": [
      "Dataset({\n",
      "    features: ['text', 'embd', 'cluster', 'doc_ids', 'level_id', '__index_level_0__'],\n",
      "    num_rows: 1925\n",
      "})\n"
     ]
    },
    {
     "data": {
      "text/plain": [
       "Dataset({\n",
       "    features: ['summaries', 'level', 'cluster', 'doc_ids', 'level_id', '__index_level_0__'],\n",
       "    num_rows: 332\n",
       "})"
      ]
     },
     "execution_count": 19,
     "metadata": {},
     "output_type": "execute_result"
    }
   ],
   "source": [
    "from datasets import Dataset\n",
    "cluster_dataset = Dataset.from_pandas(clusters)\n",
    "print(cluster_dataset)\n",
    "summerize_dataset = Dataset.from_pandas(summarizes)\n",
    "summerize_dataset"
   ]
  },
  {
   "cell_type": "code",
   "execution_count": 20,
   "metadata": {},
   "outputs": [],
   "source": [
    "CLUSTER_REPO = \"BroDeadlines/TEST.PART_CLUSTER.raptor.edu_tdt_data\"\n",
    "SUMMERIZE_REPO = \"BroDeadlines/TEST.PART_SUMMERIZE.raptor.edu_tdt_data\"\n",
    "SPLIT = \"TEST.medium_tdt_raptor\""
   ]
  },
  {
   "cell_type": "code",
   "execution_count": 21,
   "metadata": {},
   "outputs": [
    {
     "data": {
      "application/vnd.jupyter.widget-view+json": {
       "model_id": "3a776e47c14048b2b0a572049fd48b5a",
       "version_major": 2,
       "version_minor": 0
      },
      "text/plain": [
       "Uploading the dataset shards:   0%|          | 0/1 [00:00<?, ?it/s]"
      ]
     },
     "metadata": {},
     "output_type": "display_data"
    },
    {
     "data": {
      "application/vnd.jupyter.widget-view+json": {
       "model_id": "292ae89f69674c6ebdd545c78a784e4d",
       "version_major": 2,
       "version_minor": 0
      },
      "text/plain": [
       "Creating parquet from Arrow format:   0%|          | 0/2 [00:00<?, ?ba/s]"
      ]
     },
     "metadata": {},
     "output_type": "display_data"
    },
    {
     "data": {
      "application/vnd.jupyter.widget-view+json": {
       "model_id": "73fefcb5fa4544e0b70782ce03cc70f7",
       "version_major": 2,
       "version_minor": 0
      },
      "text/plain": [
       "README.md:   0%|          | 0.00/513 [00:00<?, ?B/s]"
      ]
     },
     "metadata": {},
     "output_type": "display_data"
    },
    {
     "data": {
      "text/plain": [
       "CommitInfo(commit_url='https://huggingface.co/datasets/BroDeadlines/TEST.PART_CLUSTER.raptor.edu_tdt_data/commit/cf890fb6073bec9afc6b67fa28defec4bf1f8a6e', commit_message='Upload dataset', commit_description='', oid='cf890fb6073bec9afc6b67fa28defec4bf1f8a6e', pr_url=None, pr_revision=None, pr_num=None)"
      ]
     },
     "execution_count": 21,
     "metadata": {},
     "output_type": "execute_result"
    }
   ],
   "source": [
    "cluster_dataset.push_to_hub(CLUSTER_REPO, split=SPLIT)"
   ]
  },
  {
   "cell_type": "code",
   "execution_count": 22,
   "metadata": {},
   "outputs": [
    {
     "data": {
      "application/vnd.jupyter.widget-view+json": {
       "model_id": "052bc40bf7924e01af4f1df2b87bfb04",
       "version_major": 2,
       "version_minor": 0
      },
      "text/plain": [
       "Uploading the dataset shards:   0%|          | 0/1 [00:00<?, ?it/s]"
      ]
     },
     "metadata": {},
     "output_type": "display_data"
    },
    {
     "data": {
      "application/vnd.jupyter.widget-view+json": {
       "model_id": "1df82b8c650c4f21b031c1e735b460f4",
       "version_major": 2,
       "version_minor": 0
      },
      "text/plain": [
       "Creating parquet from Arrow format:   0%|          | 0/1 [00:00<?, ?ba/s]"
      ]
     },
     "metadata": {},
     "output_type": "display_data"
    },
    {
     "data": {
      "application/vnd.jupyter.widget-view+json": {
       "model_id": "c89f3460d42e48d4aa1d9ce09948259a",
       "version_major": 2,
       "version_minor": 0
      },
      "text/plain": [
       "README.md:   0%|          | 0.00/654 [00:00<?, ?B/s]"
      ]
     },
     "metadata": {},
     "output_type": "display_data"
    },
    {
     "data": {
      "text/plain": [
       "CommitInfo(commit_url='https://huggingface.co/datasets/BroDeadlines/TEST.PART_SUMMERIZE.raptor.edu_tdt_data/commit/077f9bf847f38e45aebf89809c20db15b45e1d64', commit_message='Upload dataset', commit_description='', oid='077f9bf847f38e45aebf89809c20db15b45e1d64', pr_url=None, pr_revision=None, pr_num=None)"
      ]
     },
     "execution_count": 22,
     "metadata": {},
     "output_type": "execute_result"
    }
   ],
   "source": [
    "summerize_dataset.push_to_hub(SUMMERIZE_REPO, split=SPLIT)"
   ]
  },
  {
   "cell_type": "markdown",
   "metadata": {},
   "source": [
    "### Up to ES"
   ]
  },
  {
   "cell_type": "code",
   "execution_count": 29,
   "metadata": {},
   "outputs": [
    {
     "name": "stdout",
     "output_type": "stream",
     "text": [
      "dict_keys([1, 2, 3])\n",
      "=======\n",
      "2\n",
      "Index(['text', 'embd', 'cluster', 'doc_ids', 'level_id'], dtype='object')\n",
      "-> (1603, 5)\n",
      "['tree_1']\n",
      "Index(['summaries', 'level', 'cluster', 'doc_ids', 'level_id'], dtype='object')\n",
      "-> (264, 5)\n",
      "=======\n",
      "2\n",
      "Index(['text', 'embd', 'cluster', 'doc_ids', 'level_id'], dtype='object')\n",
      "-> (264, 5)\n",
      "['tree_2']\n",
      "Index(['summaries', 'level', 'cluster', 'doc_ids', 'level_id'], dtype='object')\n",
      "-> (58, 5)\n",
      "=======\n",
      "2\n",
      "Index(['text', 'embd', 'cluster', 'doc_ids', 'level_id'], dtype='object')\n",
      "-> (58, 5)\n",
      "['tree_3']\n",
      "Index(['summaries', 'level', 'cluster', 'doc_ids', 'level_id'], dtype='object')\n",
      "-> (10, 5)\n"
     ]
    }
   ],
   "source": [
    "print_raptor_info(results)\n"
   ]
  },
  {
   "cell_type": "code",
   "execution_count": 23,
   "metadata": {},
   "outputs": [
    {
     "data": {
      "text/plain": [
       "Document(page_content='Trong thời gian đóng học phí theo thông báo của phòng Tài chính, sinh viên thuộc diện khó khăn (có minh chứng) có thể nộp đơn xin gia hạn học phí trực tuyến bằng cách vào Hệ thống thông tin sinh viên, phân hệ Nộp đơn trực tuyến, chọn học kỳ muốn gia hạn học phí, chọn loại đơn cần nộp và tiến hành điền các thông tin cần thiết. Sinh viên theo dõi kết quả trả lời đơn để biết đơn có được cho gia hạn hay không. Việc nộp đơn trực tuyến chỉ áp dụng với đợt đóng học phí đầu tiên của học kỳ chính.\\n\\nNếu sinh viên có nguyện vọng gia hạn thời gian đóng học phí ở các đợt đóng tiếp theo, sinh viên có thể nộp đơn gia hạn thời gian đóng học phí, đính kèm minh chứng và nộp về cho phòng Công tác tác Học sinh - Sinh viên (A.0003) trong thời gian đóng học phí.', metadata={'doc_id': '573ca174-1b6d-11ef-a755-d38426455a06'})"
      ]
     },
     "execution_count": 23,
     "metadata": {},
     "output_type": "execute_result"
    }
   ],
   "source": [
    "from src.utils.type_utils import create_langchain_doc\n",
    "# Initialize all_texts with leaf_texts\n",
    "all_texts = [create_langchain_doc(txt, {\"doc_id\": id}) for txt, id in zip(leaf_texts, leaf_ids)]\n",
    "all_texts[0]"
   ]
  },
  {
   "cell_type": "code",
   "execution_count": 32,
   "metadata": {},
   "outputs": [
    {
     "data": {
      "text/plain": [
       "1935"
      ]
     },
     "execution_count": 32,
     "metadata": {},
     "output_type": "execute_result"
    }
   ],
   "source": [
    "1603 + 264 + 58 + 10"
   ]
  },
  {
   "cell_type": "code",
   "execution_count": 24,
   "metadata": {},
   "outputs": [
    {
     "data": {
      "text/plain": [
       "1603"
      ]
     },
     "execution_count": 24,
     "metadata": {},
     "output_type": "execute_result"
    }
   ],
   "source": [
    "len(all_texts)"
   ]
  },
  {
   "cell_type": "code",
   "execution_count": 25,
   "metadata": {},
   "outputs": [],
   "source": [
    "\n",
    "# Iterate through the results to extract summaries from each level and add them to all_texts\n",
    "for level in sorted(results.keys()):\n",
    "    # Extract summaries from the current level's DataFrame\n",
    "    summaries = results[level][1][\"summaries\"].tolist()\n",
    "    d_ids = results[level][1][\"doc_ids\"].tolist()\n",
    "    # Extend all_texts with the summaries from the current level\n",
    "    all_texts.extend([create_langchain_doc(txt, {\"doc_id\": id}) for txt, id in zip(summaries, d_ids)])\n"
   ]
  },
  {
   "cell_type": "code",
   "execution_count": 31,
   "metadata": {},
   "outputs": [
    {
     "data": {
      "text/plain": [
       "1935"
      ]
     },
     "execution_count": 31,
     "metadata": {},
     "output_type": "execute_result"
    }
   ],
   "source": [
    "len(all_texts)"
   ]
  },
  {
   "cell_type": "code",
   "execution_count": 33,
   "metadata": {},
   "outputs": [],
   "source": [
    "b = bm.add_documents(all_texts)"
   ]
  },
  {
   "cell_type": "code",
   "execution_count": 35,
   "metadata": {},
   "outputs": [],
   "source": [
    "with open(\"bm_ids.txt\", \"w\") as f:\n",
    "    f.write(\"\\n\".join(b))"
   ]
  },
  {
   "cell_type": "code",
   "execution_count": 36,
   "metadata": {},
   "outputs": [],
   "source": [
    "a = es.add_documents(all_texts)"
   ]
  },
  {
   "cell_type": "code",
   "execution_count": 37,
   "metadata": {},
   "outputs": [],
   "source": [
    "with open(\"es_ids.txt\", \"w\") as f:\n",
    "    f.write(\"\\n\".join(a))"
   ]
  },
  {
   "cell_type": "code",
   "execution_count": 72,
   "metadata": {},
   "outputs": [
    {
     "data": {
      "text/plain": [
       "['9fa72e72-fd64-4884-b53e-db4bb733dc5f',\n",
       " '6d987e23-848e-4459-b0fa-d0c0e100344d',\n",
       " '6e458c05-1c10-4c48-a512-6bab38abceb5',\n",
       " 'd1382816-a86b-4986-90fb-47ceb6579e24',\n",
       " '85a355c6-1b7d-4c40-926b-3498807f80ab',\n",
       " '1e78e3b5-3c8a-4eb2-a3c4-7a55bc603c9a',\n",
       " '647cf3e2-2460-4a52-ad6f-50078c7d62ce',\n",
       " '4366da21-0ce1-4499-9376-17aa453b91c9',\n",
       " '46714ac8-cce6-40ac-a929-1350c6fb441f',\n",
       " 'ba72db72-43c3-44f6-9afe-6703c03d4085',\n",
       " '16ea42fc-7445-4ccf-9fa0-9e80e31cbc5a',\n",
       " 'e09c451d-d501-42dc-b54a-7d09d3996d28',\n",
       " 'ecb9eb53-1014-4d0f-9bdb-e56c8e232bcb',\n",
       " '09a32930-e81d-4078-aa3a-795bc352508e',\n",
       " 'c6009ebf-f340-47ee-82d6-df25ae8bc707',\n",
       " '10ad2171-5136-4c36-bb6e-cec729c036c2',\n",
       " '730802cd-8237-47f1-9bd9-8fc75c04c1f3',\n",
       " '2157f697-223c-47a3-b65c-e8aa6f10007b',\n",
       " '47381643-c416-42c2-9a5e-c75f8aa6ffff',\n",
       " 'a1815ff3-ba25-4cc9-91ac-525f3a280273',\n",
       " 'e670e988-2a2f-492c-8e75-8adebcfe482a',\n",
       " '86a4ca28-3051-462f-8e44-bd9b27a04fde',\n",
       " '80de9b5e-9c6a-4468-8d90-8732d5c0763d',\n",
       " '0bccdf8f-a753-4f12-9eb8-7413b67389cb',\n",
       " '37d01bf2-fcea-4fad-8ede-ef70227241fa',\n",
       " 'd99b56cd-7206-4808-9b0c-2bf85fa2a672',\n",
       " 'edd27890-b12e-4dbf-9ee9-4f597ed9fbf9',\n",
       " 'd6a270c7-b1c1-4dac-a8e5-60ebca986897',\n",
       " '1cc74ef7-6212-4a0f-8319-c42b6108f325',\n",
       " '6a360755-1f7f-426f-9cbd-5964679de380',\n",
       " '0500397d-46f0-4642-bd4f-3c3633723e26',\n",
       " '20f06a76-2c23-4680-9435-e4d71e5ee51e',\n",
       " '87991f2c-9aa4-490a-be54-84bb42bf8dec',\n",
       " '4799c53f-fefc-40f0-bd86-e1983d665f50',\n",
       " '1a633788-6c16-4164-80cf-b11761da68a1',\n",
       " 'a43d6016-3b17-446c-8732-d91b3be7e562',\n",
       " '2ce69de2-1468-4204-adf3-5185909e73d8',\n",
       " '02286790-27a8-4931-ba90-6756221d3408',\n",
       " 'fb5f35e3-2e31-434e-9b3c-77ac30b76744',\n",
       " '2ab584db-bc90-489a-9b20-6876d5d53e3b',\n",
       " '175ee9e3-c902-482a-b156-d76134be69bf',\n",
       " '078f2c93-f034-44e2-8303-cb8a37c659a5',\n",
       " '93349f58-b798-4a96-b511-af3d915eb9ac',\n",
       " 'c003fc5c-ab12-40d3-ac53-e9d3f67b844a',\n",
       " '1ef89e88-7cfc-4c5f-9e5e-a4d369cc1485',\n",
       " '0f4c5ffe-721c-4870-bd91-a2542c0bd0fc',\n",
       " 'd159217e-baa4-47e8-b9b0-f817f8cbc9fb',\n",
       " '5b587269-2bf0-447f-bf04-dadae187c750',\n",
       " '6ee42fdc-8bf0-4c75-8511-0c013f10bfa3',\n",
       " '66dd1830-8e97-4103-b046-927b6e20d797',\n",
       " '48d1b39a-92f1-4604-9272-3087cb854999',\n",
       " 'e4a2e04e-8cd4-4a8e-8914-953165870eee',\n",
       " '32bc62bc-f934-4644-8514-a1fafac51097',\n",
       " 'c8877072-ab2b-4d79-a78a-d6bce35f1b02',\n",
       " 'b3df75b9-6e05-4dfa-a2f8-a52179d2cc69',\n",
       " '58ec4e04-4ec3-4a5f-9e5d-db1c8eb37400',\n",
       " '4e14dfc7-4907-4dd6-a517-b9912bbb418a',\n",
       " '0b85ae4c-dcc0-4711-95e8-1c81f582b72a',\n",
       " '2b2a4aa7-22f1-4dc6-94e6-908cb57915f3',\n",
       " 'dcddea42-56f1-4468-9b35-9cab169ea932',\n",
       " 'd1c7266c-f06a-4941-982e-ee016af3fa49',\n",
       " 'd3d5ead9-35b0-410f-ad43-7851e2cb3d40',\n",
       " 'ca36e6ef-3928-4c82-b171-e64d616840fe',\n",
       " '91f9c2b8-4fba-45a3-a2f8-65cff2e86764',\n",
       " 'fdb3dbb1-077e-4d7c-b240-26e0f1ac6188',\n",
       " '8d4c2af2-7ca5-424e-b795-57c8eeab8f7f',\n",
       " '90ec36f1-6c03-4f5b-89fe-cfb03ca2ae21',\n",
       " 'f53053df-44aa-4f7b-b387-5082bde2274e',\n",
       " '0bb3977a-5345-4f4f-9f08-7cdd0c2a88a4',\n",
       " '2446f842-663e-42b9-be66-218457954489',\n",
       " 'dc664324-b691-4366-a195-029631c32b87',\n",
       " 'ee961d17-7265-4a3d-aacd-400fd287191b',\n",
       " '2a51e5eb-a907-4c1f-81aa-c2d61aa11578',\n",
       " '57766a98-3730-43f0-b527-8f1317a2213b',\n",
       " 'df9c6905-c8af-48b7-9799-6d22590df06b',\n",
       " 'aad370f2-cc0f-4dfd-af97-993b0f0b1286',\n",
       " '6c8bff9d-ebba-41ca-b993-77af7e012954',\n",
       " 'd35f723a-95af-4264-848d-5417f743b0df',\n",
       " 'ef64d0ac-fdf1-4793-9569-88d0a60d8dcc',\n",
       " 'deed43d1-c2ab-42fa-b9a5-0063c55ae95e',\n",
       " 'c6f86f83-712d-4ac0-a6c1-3166050c3ef5',\n",
       " 'a9168743-03d7-43d3-b28c-29361a828e6b',\n",
       " 'dce98716-8a79-4fea-9da1-c4d2b0460374',\n",
       " 'a48ca9bf-5088-489a-bd04-5a3dd323c2f2',\n",
       " '84bf1d86-c4b6-4d16-8d5b-b45d79f4fc4f',\n",
       " 'cc6d426f-9b37-4b45-8700-155e22aa2a21',\n",
       " 'ffbade45-27cb-4737-9b7f-ae181dabcbe3',\n",
       " 'ea129af4-9fe5-4909-b784-94ba97fe98e5',\n",
       " '6368c2ca-98f6-4960-9a01-496033fc4cd8',\n",
       " 'a30c2c9b-a2f7-4714-b0de-1e0c4fd58760',\n",
       " 'eec91a25-2576-4330-84ee-c76ccc427b09',\n",
       " '3e68c0fa-f96d-492e-9737-a64dd4984899',\n",
       " 'f22654c0-c884-4248-b373-cda51e478c05',\n",
       " '9c857e72-bf93-49aa-872c-2d3497caa3ee',\n",
       " '0c2c9440-3554-4ab1-989c-a24b1462b5b4',\n",
       " '7e160e55-58f6-46b3-ba46-c7c06b578f41',\n",
       " 'df9a31dc-b73b-4a39-9dbb-79a067565e73',\n",
       " '1b16a83e-88a1-4c76-a814-24b3b8078498',\n",
       " '550f026d-9880-4f58-abbf-514aa397fa2a',\n",
       " '17448d21-1f36-4bc1-9e88-1bee02971597',\n",
       " '72f9d9f7-c7bc-403a-808d-70eac3fa978b',\n",
       " 'b356f5d1-0f21-4306-91a0-7c8999394da3',\n",
       " '18f6b00a-4eb8-4453-aad3-117da8298194',\n",
       " 'ec659e7b-ba57-49c2-a7e5-1fa974145e8a',\n",
       " '3c4c3fdf-ace5-4b54-8a2c-7ba7bbd129e4',\n",
       " '690eb729-487f-41da-9337-5ecb865ac6e0',\n",
       " '815e61ef-9bcc-4acd-ab37-35ca029639a5',\n",
       " '68953ff8-947f-4213-8cf9-de929fd09c29',\n",
       " '248dead0-ce00-41e3-ba20-e8326b319685',\n",
       " 'fcbe6566-70b7-4523-aeea-2b9697ea3ce5',\n",
       " 'cceb1897-1957-4dce-804e-749d01186247',\n",
       " '2fc97f7b-2856-4e71-9438-4e71c8b48995',\n",
       " '707bf08c-53fe-4f85-b293-2c7c635790f9',\n",
       " '30833e45-939a-4aa2-8360-dee4a6f080b0',\n",
       " '9db81b0a-2c53-43ff-83f3-d844bcedef78',\n",
       " '15ec9246-3ccc-47e2-80cf-2a1b8c564f7a',\n",
       " '5306c3c5-4b24-4a9e-8047-15e4143b5f45',\n",
       " 'a70fd654-f348-4268-90ef-1d45ab40181c']"
      ]
     },
     "execution_count": 72,
     "metadata": {},
     "output_type": "execute_result"
    }
   ],
   "source": [
    "es.add_documents(all_texts)"
   ]
  },
  {
   "cell_type": "code",
   "execution_count": 73,
   "metadata": {},
   "outputs": [
    {
     "data": {
      "text/plain": [
       "['607baae7-5d53-4fc2-b0e8-cb5ce2ec8907',\n",
       " '527ce5d8-606d-4383-b05a-3266bf65e604',\n",
       " 'b86d30d1-4673-4f37-8265-3fc00398ad4a',\n",
       " '0a175630-6557-45f2-a41f-dd5566d347e6',\n",
       " '926c01bf-5463-4381-9694-14b18386094a',\n",
       " '9bfbdd09-1a1e-42a1-9870-9b9fbc16742a',\n",
       " '3092a61b-2a78-4715-a4cc-cb001e95a018',\n",
       " 'e62c729b-f63e-475d-9a9a-02c4372c1674',\n",
       " '9ba78eeb-7487-4679-9059-cdf25c15f507',\n",
       " '6e92f07f-819c-4f21-aa1c-d7b48ae39a4a',\n",
       " 'c1de9a0d-7896-4f2f-a971-1f220bd3c3d3',\n",
       " '5b7d9828-c6f1-46be-8c7c-22046ef9b33e',\n",
       " 'f2e9e8b5-b0a8-43c7-a1be-02eff71e45c3',\n",
       " 'e419504a-2966-4c42-a384-a0a1b1aa4eab',\n",
       " 'bf16690e-7af5-4633-9cb3-b71810fd87a7',\n",
       " '85c911bc-c4cc-4597-91a8-b74a806fa773',\n",
       " '90bdeaa7-b10e-4cc9-8779-b25d7f2790ba',\n",
       " '65d86756-1017-4be5-b150-580bb721cc5e',\n",
       " 'f21727ab-051a-4cdc-a9ac-ee4fb2627f59',\n",
       " '9f0bec38-902d-406c-b716-0809681d8861',\n",
       " '0f93f264-9b2a-4244-b75c-0075ab2916b8',\n",
       " 'ed617ef1-fed8-4f49-81d7-a5f264998879',\n",
       " '90c98915-3bfb-4298-b01d-6a523c3aac94',\n",
       " '96d4c5d8-c443-4ee4-9745-191781753388',\n",
       " '6ede84f4-41ef-46e1-be3e-aa2debb9a240',\n",
       " 'f61baf5d-8f5b-436c-91b2-f885e9444773',\n",
       " '74c0d557-8e24-49bd-9079-16e11b2d5845',\n",
       " '4c5ba59c-e59c-4c1b-8a34-2007c717b78f',\n",
       " 'bd99866a-0a93-4a6c-b653-c23f1d3f632e',\n",
       " 'c208cf8e-32b0-4f63-aec1-a50a33d38c11',\n",
       " 'ee1588ed-4f21-4eb5-b8fe-e2eac6a8e6ef',\n",
       " 'ca5321da-e4dd-45ce-a24a-bac824cf3945',\n",
       " '332b517b-272c-4c71-b838-e707732f6361',\n",
       " '426a686e-044f-4d2a-88cc-555b325bcdae',\n",
       " 'dab9bb14-dae4-4e44-9714-94cb49c1d8c1',\n",
       " 'e59b9bc8-a44c-459a-a6ae-2cd5c10d7caa',\n",
       " '6e5d3781-be57-47ff-b0cf-92661b350878',\n",
       " 'fcebd3d1-1207-4936-9997-3e8599633c75',\n",
       " '4847a0b5-2a32-4248-9c18-001c6b327e71',\n",
       " 'd4681fd0-f71d-4030-9b61-7dae600fc6f3',\n",
       " 'a704e899-c352-49a2-956e-0319431e6449',\n",
       " '509e0605-dccd-4486-b6d9-55f9a868db69',\n",
       " '1f1f8f10-37b7-4300-bf6b-cf44cf89765e',\n",
       " 'f23400e9-38af-4928-893e-8997126c0435',\n",
       " '7b304ed3-5d89-4b51-8626-171c54cec417',\n",
       " '0a29244b-ded9-40d3-b092-c37c42a69aee',\n",
       " '8fbc2543-632d-4b65-8a8c-70c6e4392cf5',\n",
       " '06ab608c-38b3-487f-84bd-328a097ada90',\n",
       " 'ca9aac83-ecb7-456c-9410-b668560dcc0f',\n",
       " '8c165d8f-3a01-4cd3-b16e-7282f99400d4',\n",
       " '0bfe9db1-661d-41d6-b365-f72a983c53ae',\n",
       " '342d881d-634d-44fe-9f81-3200126ad2bb',\n",
       " 'bd8ff9e2-f0e0-4c6b-8eff-e7ec13a12820',\n",
       " 'd6006743-abc0-40aa-a84a-2820c377f4d2',\n",
       " '94b702f3-e904-4eed-8fc7-8825bc215a28',\n",
       " '7e01375e-987b-40fc-8d0c-44b5fd61f197',\n",
       " '722e14a4-1138-4eba-ab44-0a8932a83ba7',\n",
       " 'd21d2b45-e7c8-4396-9617-301ce79ab2f5',\n",
       " 'eaeba8f1-6a85-483c-aa9d-c72997a0772c',\n",
       " '4f4b6016-1af4-4657-aab5-cb03df33211c',\n",
       " 'b90e0a38-2ec9-4a57-aeed-c1cdfe9312d9',\n",
       " 'b8f79832-f7cf-425b-a7c7-791124ef4bca',\n",
       " '9d9604cd-1a7a-4cb2-ab6c-8617b04c24ed',\n",
       " '72e2e99e-56f5-470b-ab2e-4f3e1e030d5a',\n",
       " '13e34fa1-76e2-41f6-8a6a-7f94199ca140',\n",
       " '80deb8d9-0feb-41b2-a2ee-e46f4ed67853',\n",
       " '1bea7519-a386-4a8f-9fe1-d29d50234a38',\n",
       " '9ce09d17-5425-44b9-b721-ec8752897246',\n",
       " '191c0253-a70e-4f04-a13c-6f4854c3c13c',\n",
       " '80d8bd8f-5387-4d21-84c4-b703b091db15',\n",
       " 'dd28ed2f-0e88-474e-a925-1b363527d97c',\n",
       " 'b2576702-bbc6-4ead-9ef8-b4479ea06f45',\n",
       " 'e11197d5-5660-4c7e-b9af-ef2c133ddc1f',\n",
       " '998a9363-6b37-4fcf-a204-85e389f644b3',\n",
       " '81dd7cfd-7ed4-4053-b373-dc5e593065ba',\n",
       " '8d0f0c7c-b5fa-4094-a28a-e23a9e5a8728',\n",
       " 'b1701782-bdcc-4a4d-a972-e7cd34774c8b',\n",
       " '534e8799-7752-4e46-a0fb-26a5f4e6592e',\n",
       " '822f0c2b-ac60-45e9-be93-b622562b91e1',\n",
       " '397f1864-3d32-4ee0-909f-0ecb57a79e90',\n",
       " 'ca201978-58fb-4c4f-8bdf-09bc83a0de04',\n",
       " 'a05539af-7080-434f-b018-f79e9bed9b25',\n",
       " '0c4a69c9-a839-4e17-81eb-bbd208e49df3',\n",
       " 'a1d380a4-4c30-4f8f-8514-ab6683e02007',\n",
       " '8bf237a0-9fbf-486c-b27f-cbdb22d470e1',\n",
       " 'aac49c4f-0544-44d4-a348-aa0560dc6699',\n",
       " '31119ecc-0cde-4a28-9092-debc187ab7b0',\n",
       " 'fbc411f0-6ac0-45df-b905-9667e1428a7e',\n",
       " '705e2ef5-b1fa-432f-bdd1-1af96c1e80f1',\n",
       " '5e606ae4-023a-4b8e-9a53-fa7cea4acbcb',\n",
       " 'd205b662-9d14-4f67-958a-3ba58073f8ff',\n",
       " 'ac6bd819-6747-477f-bfd0-31c81f7dff24',\n",
       " 'd51613cd-0c88-43c1-b6ca-8679feca0c02',\n",
       " '5a4f8747-57ce-4f4e-b585-26f3ae47fd5e',\n",
       " '52fc3f43-2412-4906-8ffc-0338c81d0822',\n",
       " '31f9d4e9-e02e-48fd-b697-7a97a843cbff',\n",
       " '4dcd6158-0676-4557-bd06-a2616d902744',\n",
       " '5c3284ea-43ca-4490-85ca-552f70170c55',\n",
       " '31dd2f76-46a9-4720-aab0-22f86fdf93d8',\n",
       " '137a29bc-6714-42a7-b4b1-e9b800d12d81',\n",
       " 'e0c1184d-2419-4311-9511-c0cd933eae00',\n",
       " 'd554443a-1336-4ad9-9c34-dd2fea7dbe5f',\n",
       " 'd5169e5c-f227-4c41-9593-b49c5ce54d76',\n",
       " '2402c8d6-8d7e-47b3-9d5a-fc0824fec62d',\n",
       " '45b27441-c28b-4dfa-8f1c-7710df30a20c',\n",
       " '91de5817-912e-423a-bd23-9c9143729837',\n",
       " '682daadc-e57d-4a31-9d85-4e3aa5d741c3',\n",
       " '010f707f-cfb0-4fd2-8b3a-76048859a0f1',\n",
       " '634fd437-d58b-4fe4-ba71-0fd6d9a27d79',\n",
       " '3e388779-2696-4bad-b7e4-2269428de90d',\n",
       " '59980be0-b259-4341-8b56-edcbd4264e98',\n",
       " '15140c83-3810-454f-8724-c74ffbe60115',\n",
       " '3d33a14e-6884-4e64-82d4-e1ebb6b1d90b',\n",
       " '517aaef6-f65a-4bd7-96fb-f7c6580eeb04',\n",
       " '8da8d090-e4ee-47f9-8d24-8826e654421c',\n",
       " 'c36806f1-fcb7-43a9-ba3c-322fd3a112fd',\n",
       " '670b2dfe-5dd0-40ec-b6b3-eaaf7c45fd6c',\n",
       " '5c3ab790-f454-43d4-967e-65536aba5930']"
      ]
     },
     "execution_count": 73,
     "metadata": {},
     "output_type": "execute_result"
    }
   ],
   "source": [
    "bm.add_documents(all_texts)"
   ]
  },
  {
   "cell_type": "markdown",
   "metadata": {},
   "source": [
    "## Update shards"
   ]
  },
  {
   "cell_type": "code",
   "execution_count": 39,
   "metadata": {},
   "outputs": [
    {
     "name": "stdout",
     "output_type": "stream",
     "text": [
      "1935\n"
     ]
    },
    {
     "data": {
      "text/plain": [
       "Document(page_content='Trong thời gian đóng học phí theo thông báo của phòng Tài chính, sinh viên thuộc diện khó khăn (có minh chứng) có thể nộp đơn xin gia hạn học phí trực tuyến bằng cách vào Hệ thống thông tin sinh viên, phân hệ Nộp đơn trực tuyến, chọn học kỳ muốn gia hạn học phí, chọn loại đơn cần nộp và tiến hành điền các thông tin cần thiết. Sinh viên theo dõi kết quả trả lời đơn để biết đơn có được cho gia hạn hay không. Việc nộp đơn trực tuyến chỉ áp dụng với đợt đóng học phí đầu tiên của học kỳ chính.\\n\\nNếu sinh viên có nguyện vọng gia hạn thời gian đóng học phí ở các đợt đóng tiếp theo, sinh viên có thể nộp đơn gia hạn thời gian đóng học phí, đính kèm minh chứng và nộp về cho phòng Công tác tác Học sinh - Sinh viên (A.0003) trong thời gian đóng học phí.', metadata={'doc_id': '573ca174-1b6d-11ef-a755-d38426455a06'})"
      ]
     },
     "execution_count": 39,
     "metadata": {},
     "output_type": "execute_result"
    }
   ],
   "source": [
    "print(len(all_texts))\n",
    "all_texts[0]"
   ]
  },
  {
   "cell_type": "code",
   "execution_count": 48,
   "metadata": {},
   "outputs": [
    {
     "name": "stdout",
     "output_type": "stream",
     "text": [
      "1935\n",
      "8810\n"
     ]
    }
   ],
   "source": [
    "def build_shards(all_data):\n",
    "    shards_map = {}\n",
    "    shards = {}\n",
    "    for doc in all_data:\n",
    "        d_id = doc.metadata['doc_id']\n",
    "        # update new record\n",
    "        if d_id not in shards_map:\n",
    "            shards_map[d_id] = 1\n",
    "            shards[d_id] = 1\n",
    "        else:\n",
    "            shards_map[d_id] += 1\n",
    "            shards[d_id] += 1\n",
    "        # update sub-tree\n",
    "        if \";\" not in d_id:\n",
    "            continue\n",
    "        keys = shards_map.keys()\n",
    "        for k in keys:\n",
    "            if k in d_id:\n",
    "                shards_map[k] += 1\n",
    "    return shards, shards_map\n",
    "\n",
    "shards, hard_shards = build_shards(all_texts)\n",
    "print(sum(shards.values()))\n",
    "print(sum(hard_shards.values()))"
   ]
  },
  {
   "cell_type": "code",
   "execution_count": 47,
   "metadata": {},
   "outputs": [
    {
     "name": "stdout",
     "output_type": "stream",
     "text": [
      "Dataset({\n",
      "    features: ['text', 'embd', 'cluster', 'doc_ids', 'level_id', '__index_level_0__'],\n",
      "    num_rows: 1925\n",
      "})\n"
     ]
    },
    {
     "data": {
      "text/plain": [
       "Dataset({\n",
       "    features: ['summaries', 'level', 'cluster', 'doc_ids', 'level_id', '__index_level_0__'],\n",
       "    num_rows: 332\n",
       "})"
      ]
     },
     "execution_count": 47,
     "metadata": {},
     "output_type": "execute_result"
    }
   ],
   "source": [
    "print(cluster_dataset)\n",
    "summerize_dataset"
   ]
  },
  {
   "cell_type": "code",
   "execution_count": 50,
   "metadata": {},
   "outputs": [
    {
     "data": {
      "application/vnd.jupyter.widget-view+json": {
       "model_id": "7d29b6305c2c45f3a168da2542f0fc88",
       "version_major": 2,
       "version_minor": 0
      },
      "text/plain": [
       "Map:   0%|          | 0/1925 [00:00<?, ? examples/s]"
      ]
     },
     "metadata": {},
     "output_type": "display_data"
    },
    {
     "data": {
      "application/vnd.jupyter.widget-view+json": {
       "model_id": "fc0d73cc29274427a3973392e40772a4",
       "version_major": 2,
       "version_minor": 0
      },
      "text/plain": [
       "Map:   0%|          | 0/332 [00:00<?, ? examples/s]"
      ]
     },
     "metadata": {},
     "output_type": "display_data"
    }
   ],
   "source": [
    "def update_shards(row):\n",
    "    row['easy_shards'] = shards[row['doc_ids']]\n",
    "    row['hard_shards'] = hard_shards[row['doc_ids']]\n",
    "    return row\n",
    "    \n",
    "cluster_dataset_one = cluster_dataset.map(update_shards)\n",
    "summerize_dataset_one = summerize_dataset.map(update_shards)"
   ]
  },
  {
   "cell_type": "code",
   "execution_count": 52,
   "metadata": {},
   "outputs": [
    {
     "name": "stdout",
     "output_type": "stream",
     "text": [
      "Dataset({\n",
      "    features: ['text', 'embd', 'cluster', 'doc_ids', 'level_id', 'easy_shards', 'hard_shards'],\n",
      "    num_rows: 1925\n",
      "})\n"
     ]
    },
    {
     "data": {
      "text/plain": [
       "Dataset({\n",
       "    features: ['summaries', 'level', 'cluster', 'doc_ids', 'level_id', 'easy_shards', 'hard_shards'],\n",
       "    num_rows: 332\n",
       "})"
      ]
     },
     "execution_count": 52,
     "metadata": {},
     "output_type": "execute_result"
    }
   ],
   "source": [
    "summerize_dataset_one = summerize_dataset_one.remove_columns(['__index_level_0__'])\n",
    "cluster_dataset_one = cluster_dataset_one.remove_columns(['__index_level_0__'])\n",
    "print(cluster_dataset_one)\n",
    "summerize_dataset_one"
   ]
  },
  {
   "cell_type": "code",
   "execution_count": 55,
   "metadata": {},
   "outputs": [
    {
     "data": {
      "application/vnd.jupyter.widget-view+json": {
       "model_id": "558cf93f3c2c441f953557490b3593ac",
       "version_major": 2,
       "version_minor": 0
      },
      "text/plain": [
       "Uploading the dataset shards:   0%|          | 0/1 [00:00<?, ?it/s]"
      ]
     },
     "metadata": {},
     "output_type": "display_data"
    },
    {
     "data": {
      "application/vnd.jupyter.widget-view+json": {
       "model_id": "1bdae1fa3a4f4796817a39685a271ab7",
       "version_major": 2,
       "version_minor": 0
      },
      "text/plain": [
       "Creating parquet from Arrow format:   0%|          | 0/2 [00:00<?, ?ba/s]"
      ]
     },
     "metadata": {},
     "output_type": "display_data"
    },
    {
     "data": {
      "application/vnd.jupyter.widget-view+json": {
       "model_id": "904f8c7b30ea49878f2793d4b51fe431",
       "version_major": 2,
       "version_minor": 0
      },
      "text/plain": [
       "README.md:   0%|          | 0.00/556 [00:00<?, ?B/s]"
      ]
     },
     "metadata": {},
     "output_type": "display_data"
    },
    {
     "data": {
      "text/plain": [
       "CommitInfo(commit_url='https://huggingface.co/datasets/BroDeadlines/TEST.NEW.PART_CLUSTER.raptor.edu_tdt_data/commit/1b87bbfa25f53ec27d7ac5284baeef337e3a2268', commit_message='Upload dataset', commit_description='', oid='1b87bbfa25f53ec27d7ac5284baeef337e3a2268', pr_url=None, pr_revision=None, pr_num=None)"
      ]
     },
     "execution_count": 55,
     "metadata": {},
     "output_type": "execute_result"
    }
   ],
   "source": [
    "CLUSTER_REPO = \"BroDeadlines/TEST.NEW.PART_CLUSTER.raptor.edu_tdt_data\"\n",
    "SUMMERIZE_REPO = \"BroDeadlines/TEST.NEW.PART_SUMMERIZE.raptor.edu_tdt_data\"\n",
    "SPLIT = \"TEST.medium_tdt_raptor\"\n",
    "\n",
    "cluster_dataset_one.push_to_hub(CLUSTER_REPO, split=SPLIT)"
   ]
  },
  {
   "cell_type": "code",
   "execution_count": 56,
   "metadata": {},
   "outputs": [
    {
     "data": {
      "application/vnd.jupyter.widget-view+json": {
       "model_id": "ef07f9f6ca504feabbb3f2afe755fcf4",
       "version_major": 2,
       "version_minor": 0
      },
      "text/plain": [
       "Uploading the dataset shards:   0%|          | 0/1 [00:00<?, ?it/s]"
      ]
     },
     "metadata": {},
     "output_type": "display_data"
    },
    {
     "data": {
      "application/vnd.jupyter.widget-view+json": {
       "model_id": "6d5ff3bf2f814a39b3fde3bda7b0e888",
       "version_major": 2,
       "version_minor": 0
      },
      "text/plain": [
       "Creating parquet from Arrow format:   0%|          | 0/1 [00:00<?, ?ba/s]"
      ]
     },
     "metadata": {},
     "output_type": "display_data"
    },
    {
     "data": {
      "application/vnd.jupyter.widget-view+json": {
       "model_id": "565a431288d34f619cfc925fef6840ab",
       "version_major": 2,
       "version_minor": 0
      },
      "text/plain": [
       "README.md:   0%|          | 0.00/549 [00:00<?, ?B/s]"
      ]
     },
     "metadata": {},
     "output_type": "display_data"
    },
    {
     "data": {
      "text/plain": [
       "CommitInfo(commit_url='https://huggingface.co/datasets/BroDeadlines/TEST.NEW.PART_SUMMERIZE.raptor.edu_tdt_data/commit/5f3635160e0d1a5bbb4ac575e6bb60255e8532bc', commit_message='Upload dataset', commit_description='', oid='5f3635160e0d1a5bbb4ac575e6bb60255e8532bc', pr_url=None, pr_revision=None, pr_num=None)"
      ]
     },
     "execution_count": 56,
     "metadata": {},
     "output_type": "execute_result"
    }
   ],
   "source": [
    "summerize_dataset_one.push_to_hub(SUMMERIZE_REPO, split=SPLIT)"
   ]
  },
  {
   "cell_type": "code",
   "execution_count": 2,
   "metadata": {},
   "outputs": [
    {
     "data": {
      "application/vnd.jupyter.widget-view+json": {
       "model_id": "7b77975b444c44b0a1cf782352ad5599",
       "version_major": 2,
       "version_minor": 0
      },
      "text/plain": [
       "Downloading readme:   0%|          | 0.00/654 [00:00<?, ?B/s]"
      ]
     },
     "metadata": {},
     "output_type": "display_data"
    },
    {
     "name": "stderr",
     "output_type": "stream",
     "text": [
      "Downloading data: 100%|████████████████████████████████████████| 30.0k/30.0k [00:01<00:00, 26.7kB/s]\n"
     ]
    },
    {
     "data": {
      "application/vnd.jupyter.widget-view+json": {
       "model_id": "2074532efe0240a0b0c2bb85394d74f3",
       "version_major": 2,
       "version_minor": 0
      },
      "text/plain": [
       "Generating TEST.basic_tdt_raptor split:   0%|          | 0/19 [00:00<?, ? examples/s]"
      ]
     },
     "metadata": {},
     "output_type": "display_data"
    },
    {
     "data": {
      "text/plain": [
       "Dataset({\n",
       "    features: ['summaries', 'level', 'cluster', 'doc_ids', 'level_id', '__index_level_0__'],\n",
       "    num_rows: 19\n",
       "})"
      ]
     },
     "execution_count": 2,
     "metadata": {},
     "output_type": "execute_result"
    }
   ],
   "source": [
    "SUM_REPO = \"BroDeadlines/TEST.PART_SUMMERIZE.raptor.edu_tdt_data\"\n",
    "CLU_REPO = \"BroDeadlines/TEST.PART_CLUSTER.raptor.edu_tdt_data\"\n",
    "SPLIT = \"TEST.basic_tdt_raptor\"\n",
    "sum_dataset = load_dataset(SUM_REPO, split= SPLIT)\n",
    "sum_dataset"
   ]
  },
  {
   "cell_type": "code",
   "execution_count": 3,
   "metadata": {},
   "outputs": [
    {
     "data": {
      "application/vnd.jupyter.widget-view+json": {
       "model_id": "82fd43779b1a445ab1cc78fc019adc5e",
       "version_major": 2,
       "version_minor": 0
      },
      "text/plain": [
       "Downloading readme:   0%|          | 0.00/513 [00:00<?, ?B/s]"
      ]
     },
     "metadata": {},
     "output_type": "display_data"
    },
    {
     "name": "stderr",
     "output_type": "stream",
     "text": [
      "Downloading data: 100%|███████████████████████████████████████████| 922k/922k [00:01<00:00, 803kB/s]\n"
     ]
    },
    {
     "data": {
      "application/vnd.jupyter.widget-view+json": {
       "model_id": "dc41539b85a847adb26ada90b3f36fd8",
       "version_major": 2,
       "version_minor": 0
      },
      "text/plain": [
       "Generating TEST.basic_tdt_raptor split:   0%|          | 0/117 [00:00<?, ? examples/s]"
      ]
     },
     "metadata": {},
     "output_type": "display_data"
    },
    {
     "data": {
      "text/plain": [
       "Dataset({\n",
       "    features: ['text', 'embd', 'cluster', 'doc_ids', 'level_id', '__index_level_0__'],\n",
       "    num_rows: 117\n",
       "})"
      ]
     },
     "execution_count": 3,
     "metadata": {},
     "output_type": "execute_result"
    }
   ],
   "source": [
    "CLU_REPO = \"BroDeadlines/TEST.PART_CLUSTER.raptor.edu_tdt_data\"\n",
    "SPLIT = \"TEST.basic_tdt_raptor\"\n",
    "cluster_dataset = load_dataset(CLU_REPO, split= SPLIT)\n",
    "cluster_dataset"
   ]
  },
  {
   "cell_type": "code",
   "execution_count": null,
   "metadata": {},
   "outputs": [],
   "source": []
  },
  {
   "cell_type": "markdown",
   "metadata": {},
   "source": [
    "## Done"
   ]
  }
 ],
 "metadata": {
  "kernelspec": {
   "display_name": "Python 3 (ipykernel)",
   "language": "python",
   "name": "python3"
  },
  "language_info": {
   "codemirror_mode": {
    "name": "ipython",
    "version": 3
   },
   "file_extension": ".py",
   "mimetype": "text/x-python",
   "name": "python",
   "nbconvert_exporter": "python",
   "pygments_lexer": "ipython3",
   "version": "3.9.18"
  }
 },
 "nbformat": 4,
 "nbformat_minor": 4
}
