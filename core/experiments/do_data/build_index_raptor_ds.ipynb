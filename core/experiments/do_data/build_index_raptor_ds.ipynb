{
 "cells": [
  {
   "cell_type": "markdown",
   "metadata": {},
   "source": [
    "# Build data with raptor"
   ]
  },
  {
   "cell_type": "code",
   "execution_count": 1,
   "metadata": {},
   "outputs": [],
   "source": [
    "import sys\n",
    "sys.path.append(\"../..\")\n",
    "from datasets import load_dataset\n",
    "from src.service.provider import ProviderService\n",
    "provider = ProviderService()\n",
    "provider.config.enable_tracing(\"PARA_BOT_DEMO\")"
   ]
  },
  {
   "cell_type": "code",
   "execution_count": 2,
   "metadata": {},
   "outputs": [
    {
     "data": {
      "text/plain": [
       "Dataset({\n",
       "    features: ['url', 'content', 'doc_id', 'metadata', 'split', 'shards', 'propositions', 'proposition_list', '__index_level_0__'],\n",
       "    num_rows: 196\n",
       "})"
      ]
     },
     "execution_count": 2,
     "metadata": {},
     "output_type": "execute_result"
    }
   ],
   "source": [
    "DATA_REPO = \"BroDeadlines/TEST.UEH.ueh_copora_data\"\n",
    "SPLIT = \"train\"\n",
    "SUBSET = 'default'\n",
    "# test_dataset = load_dataset(DATA_REPO, split= SPLIT)\n",
    "test_dataset = load_dataset(DATA_REPO, SUBSET)\n",
    "test_dataset = test_dataset['train']\n",
    "\n",
    "test_dataset"
   ]
  },
  {
   "cell_type": "code",
   "execution_count": 3,
   "metadata": {},
   "outputs": [
    {
     "data": {
      "text/plain": [
       "Dataset({\n",
       "    features: ['url', 'content', 'doc_id', 'metadata', 'split', 'shards', 'propositions', 'proposition_list', '__index_level_0__'],\n",
       "    num_rows: 54\n",
       "})"
      ]
     },
     "execution_count": 3,
     "metadata": {},
     "output_type": "execute_result"
    }
   ],
   "source": [
    "rows = test_dataset.filter(lambda e: len(e['metadata']) > 0)\n",
    "rows"
   ]
  },
  {
   "cell_type": "markdown",
   "metadata": {},
   "source": [
    "## Update the splits"
   ]
  },
  {
   "cell_type": "code",
   "execution_count": 4,
   "metadata": {},
   "outputs": [
    {
     "data": {
      "text/plain": [
       "Dataset({\n",
       "    features: ['url', 'content', 'doc_id', 'metadata', 'split', 'shards', 'propositions', 'proposition_list', '__index_level_0__'],\n",
       "    num_rows: 196\n",
       "})"
      ]
     },
     "execution_count": 4,
     "metadata": {},
     "output_type": "execute_result"
    }
   ],
   "source": [
    "# dataset = test_dataset.remove_columns(['split', 'splits', 'shards'])\n",
    "dataset = test_dataset\n",
    "dataset"
   ]
  },
  {
   "cell_type": "code",
   "execution_count": 9,
   "metadata": {},
   "outputs": [
    {
     "name": "stdout",
     "output_type": "stream",
     "text": [
      "From 196 texts -> 391\n",
      "Distribution: Counter({1: 123, 3: 22, 2: 21, 5: 10, 4: 8, 6: 5, 8: 3, 7: 2, 0: 1, 10: 1})\n",
      "== About the splits ==\n",
      "The mean of the splits is: 1.9948979591836735\n",
      "The median of the splits is: 1.0\n",
      "The max of the split is: 10\n",
      "The min of the split is: 0\n",
      "== About the splits length ==\n",
      "The max of the split length is: 446\n",
      "The min of the split length is: 8\n",
      "The mean of the split length is: 273.6547314578005\n",
      "The median of the split length is: 324.0\n"
     ]
    }
   ],
   "source": [
    "from src.utils.text_utils import create_splitter, try_split_texts\n",
    "from src.chain.proposition import create_proposition_chain\n",
    "\n",
    "contents = dataset['content']\n",
    "splitter = create_splitter(chunk_size=450, overlap=50, separators=[\"\\n\\n\\n\",\"\\n\\n\", \"\\n\", '.'])\n",
    "db, dist,lens = try_split_texts(texts=contents, splitter=splitter)"
   ]
  },
  {
   "cell_type": "code",
   "execution_count": 10,
   "metadata": {},
   "outputs": [
    {
     "data": {
      "image/png": "[encoded data removed]",
      "text/plain": [
       "<Figure size 1000x700 with 1 Axes>"
      ]
     },
     "metadata": {},
     "output_type": "display_data"
    }
   ],
   "source": [
    "from matplotlib import pyplot as plt \n",
    "fig = plt.figure(figsize =(10, 7))\n",
    "plt.hist(lens)\n",
    "plt.show()"
   ]
  },
  {
   "cell_type": "code",
   "execution_count": 11,
   "metadata": {},
   "outputs": [
    {
     "name": "stdout",
     "output_type": "stream",
     "text": [
      "<Họ tên>, <MSSV>, <nộp học phí học kỳ đầu năm 2024>\n",
      "Lưu ý: Thông tin mã sinh viên xem trong danh sách trúng tuyển.\n",
      "Thông tin học phí xem tại link.\n",
      "Mọi thắc mắc vui lòng gửi đến email tuyensinhvlvh@ueh.edu.vn\n",
      "\n",
      "CHUẨN BỊ HỒ SƠ NHẬP HỌC\n",
      "Hồ sơ nhập học gồm có:\n",
      "– Hồ sơ sinh viên (In trong tài khoản đăng ký);\n",
      "– Phiếu thông tin sinh viên VB1VLVH (In trong tài khoản đăng ký);\n",
      "– 02 (hai) Bản sao (photo công chứng) bằng tốt nghiệp THPT/Bổ túc THPT/Trung cấp hoặc Giấy chứng nhận tốt nghiệp tạm thời còn trong thời hạn quy định;\n",
      "– 01 (một) Bản sao (photo công chứng) Học bạ THPT/Giấy chứng nhận kết quả học THPT/Trung cấp;\n",
      "– 01 (một) Bản sao (photo công chứng) giấy khai sinh (hoặc CMND/CCCD có đầy đủ ngày tháng năm sinh);\n",
      "– Thí sinh đã tốt nghiệp Đại học, Cao đẳng/Cao đẳng nghề, Trung cấp/Trung cấp nghề nộp thêm 02 (hai) Bản sao (Photo công chứng) bằng Tốt nghiệp và 01 (một) Bản sao (photo công chứng) kết quả học tập, ghi rõ tên môn học, số tín chỉ, điểm từng môn bậc Đại học/Cao đẳng/Trung cấp. Trường hợp thí sinh tốt nghiệp Đại học do liên thông từ Cao đẳng/Trung cấp nộp thêm 02 (hai) Bản sao (photo công chứng) bằng tốt nghiệp và 01 (một) Bản sao (photo công chứng) kết quả học tập, ghi rõ tên môn học, số tín chỉ, điểm từng môn bậc Cao đẳng/Trung cấp. Trường hợp thí sinh tốt nghiệp Cao đẳng do liên thông từ Trung cấp nộp thêm 02 (hai) Bản sao (photo công chứng) bằng Tốt nghiệp và 01 (một) Bản sao (photo công chứng) kết quả học tập, ghi rõ tên môn học, số tín chỉ, điểm từng môn bậc Trung cấp.\n",
      "Lưu ý:\n",
      "– Thí sinh chỉ cần chuẩn bị các loại giấy tờ trên, không cần chuẩn bị bìa hồ sơ.\n",
      "– Thí sinh sử dụng CMND/CCCD và email khi đăng ký xét tuyển, đăng nhập website… in Phiếu thông tin (dành cho thí sinh đã trúng tuyển), dòng màu cam ở cuối trang:\n",
      "+ Hồ sơ sinh viên: Thí sinh chỉ ký tên và dán ảnh. Không xin xác nhận của cơ quan, tổ chức có thẩm quyền trên giấy này.\n",
      "+ Phiếu thông tin sinh viên: thí sinh ký tên, dán ảnh và xác nhận tại cơ quan, tổ chức có thẩm quyền (UBND Phường/Xã hoặc văn phòng công chứng).\n",
      "– Thí sinh tốt nghiệp trường quốc tế cần nộp văn bằng và bảng điểm tiếng Việt, kèm Giấy chứng nhận của Cục quản lý chất lượng, Bộ Giáo dục và Đào tạo (tham khảo tại https://naric.edu.vn/).\n",
      "Mọi thắc mắc vui lòng gửi đến email tuyensinhvlvh@ueh.edu.vn\n",
      "\n",
      "#gap-1520630324 {\n"
     ]
    }
   ],
   "source": [
    "max_idx = lens.argmax()\n",
    "lens[max_idx]\n",
    "txt = db[max_idx].page_content\n",
    "print(txt)"
   ]
  },
  {
   "cell_type": "code",
   "execution_count": 12,
   "metadata": {},
   "outputs": [
    {
     "data": {
      "application/vnd.jupyter.widget-view+json": {
       "model_id": "4220c3c3fe244561989baa140a162374",
       "version_major": 2,
       "version_minor": 0
      },
      "text/plain": [
       "Map:   0%|          | 0/196 [00:00<?, ? examples/s]"
      ]
     },
     "metadata": {},
     "output_type": "display_data"
    },
    {
     "data": {
      "text/plain": [
       "Dataset({\n",
       "    features: ['url', 'content', 'doc_id', 'metadata', 'split', 'shards', 'propositions', 'proposition_list', '__index_level_0__', 'splits'],\n",
       "    num_rows: 196\n",
       "})"
      ]
     },
     "execution_count": 12,
     "metadata": {},
     "output_type": "execute_result"
    }
   ],
   "source": [
    "def create_split(row):\n",
    "    docs = splitter.split_text(row['content'])\n",
    "    return {**row, \"splits\": docs}\n",
    "    \n",
    "new_ds = dataset.map(create_split)\n",
    "new_ds"
   ]
  },
  {
   "cell_type": "code",
   "execution_count": 13,
   "metadata": {},
   "outputs": [
    {
     "data": {
      "text/plain": [
       "4"
      ]
     },
     "execution_count": 13,
     "metadata": {},
     "output_type": "execute_result"
    }
   ],
   "source": [
    "a = new_ds[10]['splits']\n",
    "len(a)"
   ]
  },
  {
   "cell_type": "markdown",
   "metadata": {},
   "source": [
    "## Build RAPTOR tree"
   ]
  },
  {
   "cell_type": "code",
   "execution_count": 14,
   "metadata": {},
   "outputs": [],
   "source": [
    "from src.rag.raptor import RAPTOR\n",
    "raptor = RAPTOR(provider, reduce_method=\"summary\")\n"
   ]
  },
  {
   "cell_type": "code",
   "execution_count": 15,
   "metadata": {},
   "outputs": [],
   "source": [
    "from src.rag.raptor import RAPTOR\n",
    "raptor = RAPTOR(provider, reduce_method=\"summary\")\n",
    "\n",
    "# vec_idx = \"vec-raptor-basic_index_tdt_clean\"\n",
    "# text_idx = \"text-raptor-basic_index_tdt_clean\"\n",
    "\n",
    "text_idx = \"text-raptor-ueh-data-tree-unique\"\n",
    "vec_idx = \"vec-raptor-ueh-data-tree-unique\"\n",
    "\n",
    "# text_idx = \"text-raptor-medium_index_tdt\"\n",
    "# vec_idx = \"vec-raptor-medium_index_tdt\"\n",
    "\n",
    "es = provider.get_elasticsearch_store(vec_idx)\n",
    "bm = provider.get_elasticsearch_bm25(text_idx)"
   ]
  },
  {
   "cell_type": "code",
   "execution_count": 16,
   "metadata": {},
   "outputs": [
    {
     "data": {
      "application/vnd.jupyter.widget-view+json": {
       "model_id": "5e4c6937c76747e0aa279257bd735473",
       "version_major": 2,
       "version_minor": 0
      },
      "text/plain": [
       "Map:   0%|          | 0/196 [00:00<?, ? examples/s]"
      ]
     },
     "metadata": {},
     "output_type": "display_data"
    },
    {
     "name": "stdout",
     "output_type": "stream",
     "text": [
      "391 - 391\n"
     ]
    },
    {
     "data": {
      "text/plain": [
       "Dataset({\n",
       "    features: ['url', 'content', 'doc_id', 'metadata', 'split', 'shards', 'propositions', 'proposition_list', '__index_level_0__', 'splits'],\n",
       "    num_rows: 196\n",
       "})"
      ]
     },
     "execution_count": 16,
     "metadata": {},
     "output_type": "execute_result"
    }
   ],
   "source": [
    "leaf_ids = []\n",
    "leaf_texts = []\n",
    "\n",
    "def collect_data12(row):\n",
    "    docs = row['splits']\n",
    "    for d in docs:\n",
    "        leaf_ids.append(row['doc_id'])\n",
    "        leaf_texts.append(d)\n",
    "    return row\n",
    "\n",
    "a = new_ds.map(collect_data12)\n",
    "print(len(leaf_texts) ,\"-\", len(leaf_ids))\n",
    "a"
   ]
  },
  {
   "cell_type": "code",
   "execution_count": 17,
   "metadata": {},
   "outputs": [
    {
     "name": "stdout",
     "output_type": "stream",
     "text": [
      "391 - 391\n"
     ]
    }
   ],
   "source": [
    "print(len(leaf_texts) ,\"-\", len(leaf_ids))"
   ]
  },
  {
   "cell_type": "code",
   "execution_count": 18,
   "metadata": {},
   "outputs": [
    {
     "name": "stderr",
     "output_type": "stream",
     "text": [
      "raptor.log - ERROR - Hello\n",
      "NoneType: None\n",
      "raptor.log - ERROR - Hello\n",
      "NoneType: None\n"
     ]
    }
   ],
   "source": [
    "raptor.test_log(\"Hello\")"
   ]
  },
  {
   "cell_type": "code",
   "execution_count": 19,
   "metadata": {},
   "outputs": [
    {
     "name": "stdout",
     "output_type": "stream",
     "text": [
      "--Generated 68 clusters--\n"
     ]
    },
    {
     "name": "stderr",
     "output_type": "stream",
     "text": [
      "Retrying langchain_google_genai.llms._completion_with_retry.<locals>._completion_with_retry in 4.0 seconds as it raised ResourceExhausted: 429 Resource has been exhausted (e.g. check quota)..\n",
      "Retrying langchain_google_genai.llms._completion_with_retry.<locals>._completion_with_retry in 4.0 seconds as it raised ResourceExhausted: 429 Resource has been exhausted (e.g. check quota)..\n",
      "Retrying langchain_google_genai.llms._completion_with_retry.<locals>._completion_with_retry in 4.0 seconds as it raised ResourceExhausted: 429 Resource has been exhausted (e.g. check quota)..\n",
      "Retrying langchain_google_genai.llms._completion_with_retry.<locals>._completion_with_retry in 8.0 seconds as it raised ResourceExhausted: 429 Resource has been exhausted (e.g. check quota)..\n",
      "Retrying langchain_google_genai.llms._completion_with_retry.<locals>._completion_with_retry in 4.0 seconds as it raised ResourceExhausted: 429 Resource has been exhausted (e.g. check quota)..\n",
      "Retrying langchain_google_genai.llms._completion_with_retry.<locals>._completion_with_retry in 4.0 seconds as it raised ResourceExhausted: 429 Resource has been exhausted (e.g. check quota)..\n",
      "Retrying langchain_google_genai.llms._completion_with_retry.<locals>._completion_with_retry in 4.0 seconds as it raised ResourceExhausted: 429 Resource has been exhausted (e.g. check quota)..\n",
      "Retrying langchain_google_genai.llms._completion_with_retry.<locals>._completion_with_retry in 4.0 seconds as it raised ResourceExhausted: 429 Resource has been exhausted (e.g. check quota)..\n"
     ]
    },
    {
     "name": "stdout",
     "output_type": "stream",
     "text": [
      "--Generated 16 clusters--\n",
      "--Generated 4 clusters--\n"
     ]
    }
   ],
   "source": [
    "results = raptor.recursive_embed_cluster_summarize(leaf_texts, leaf_ids, level=1, n_levels=3)"
   ]
  },
  {
   "cell_type": "markdown",
   "metadata": {},
   "source": [
    "### Save pickle"
   ]
  },
  {
   "cell_type": "code",
   "execution_count": 20,
   "metadata": {},
   "outputs": [],
   "source": [
    "import pickle\n",
    "\n",
    "with open('ueh_tree_prop_raptor_new.pickle', 'wb') as handle:\n",
    "    pickle.dump(results, handle, protocol=pickle.HIGHEST_PROTOCOL)\n"
   ]
  },
  {
   "cell_type": "code",
   "execution_count": 3,
   "metadata": {},
   "outputs": [],
   "source": [
    "import pickle\n",
    "\n",
    "# Load data from a file\n",
    "with open('ueh_tree_prop_raptor_vi.pickle', 'rb') as f:\n",
    "    results = pickle.load(f)\n",
    "\n",
    "# results"
   ]
  },
  {
   "cell_type": "markdown",
   "metadata": {},
   "source": [
    "### Up to Hugging Face"
   ]
  },
  {
   "cell_type": "code",
   "execution_count": 21,
   "metadata": {},
   "outputs": [],
   "source": [
    "import pandas as pd\n",
    "\n",
    "def assign_level_id(raptor_tree):\n",
    "    levels = raptor_tree.keys()\n",
    "    for level in levels:\n",
    "        raptor_tree[level][0]['level_id'] = f\"tree_{level}\"\n",
    "        raptor_tree[level][1]['level_id'] = f\"tree_{level}\"\n",
    "    return\n",
    "\n",
    "def print_raptor_info(results):\n",
    "    print(results.keys())\n",
    "    for i in results.keys():\n",
    "        print(\"=======\")\n",
    "        print(len(results[i]))\n",
    "        print(results[i][0].keys())\n",
    "        print(\"->\",results[i][0].shape)\n",
    "        print(results[i][0]['level_id'].unique())\n",
    "        print(results[i][1].keys())\n",
    "        print(\"->\",results[i][1].shape)\n",
    "    return\n",
    "\n",
    "def flatten_tree(raptor_tree):\n",
    "    clusters = []\n",
    "    summarizes = []\n",
    "    for level in raptor_tree.keys():\n",
    "        clusters.append(raptor_tree[level][0])\n",
    "        summarizes.append(raptor_tree[level][1])\n",
    "    return pd.concat(clusters), pd.concat(summarizes)"
   ]
  },
  {
   "cell_type": "code",
   "execution_count": 22,
   "metadata": {},
   "outputs": [
    {
     "name": "stdout",
     "output_type": "stream",
     "text": [
      "dict_keys([1, 2, 3])\n",
      "=======\n",
      "2\n",
      "Index(['text', 'embd', 'cluster', 'doc_ids', 'level_id'], dtype='object')\n",
      "-> (391, 5)\n",
      "['tree_1']\n",
      "Index(['summaries', 'level', 'cluster', 'doc_ids', 'level_id'], dtype='object')\n",
      "-> (68, 5)\n",
      "=======\n",
      "2\n",
      "Index(['text', 'embd', 'cluster', 'doc_ids', 'level_id'], dtype='object')\n",
      "-> (68, 5)\n",
      "['tree_2']\n",
      "Index(['summaries', 'level', 'cluster', 'doc_ids', 'level_id'], dtype='object')\n",
      "-> (16, 5)\n",
      "=======\n",
      "2\n",
      "Index(['text', 'embd', 'cluster', 'doc_ids', 'level_id'], dtype='object')\n",
      "-> (16, 5)\n",
      "['tree_3']\n",
      "Index(['summaries', 'level', 'cluster', 'doc_ids', 'level_id'], dtype='object')\n",
      "-> (4, 5)\n"
     ]
    }
   ],
   "source": [
    "assign_level_id(results)\n",
    "print_raptor_info(results)\n",
    "clusters, summarizes = flatten_tree(results)"
   ]
  },
  {
   "cell_type": "code",
   "execution_count": 26,
   "metadata": {},
   "outputs": [
    {
     "data": {
      "text/plain": [
       "479"
      ]
     },
     "execution_count": 26,
     "metadata": {},
     "output_type": "execute_result"
    }
   ],
   "source": [
    "391 + 68 + 16 + 4"
   ]
  },
  {
   "cell_type": "code",
   "execution_count": 23,
   "metadata": {},
   "outputs": [
    {
     "name": "stdout",
     "output_type": "stream",
     "text": [
      "Dataset({\n",
      "    features: ['text', 'embd', 'cluster', 'doc_ids', 'level_id', '__index_level_0__'],\n",
      "    num_rows: 475\n",
      "})\n"
     ]
    },
    {
     "data": {
      "text/plain": [
       "Dataset({\n",
       "    features: ['summaries', 'level', 'cluster', 'doc_ids', 'level_id', '__index_level_0__'],\n",
       "    num_rows: 88\n",
       "})"
      ]
     },
     "execution_count": 23,
     "metadata": {},
     "output_type": "execute_result"
    }
   ],
   "source": [
    "from datasets import Dataset\n",
    "cluster_dataset = Dataset.from_pandas(clusters)\n",
    "print(cluster_dataset)\n",
    "summerize_dataset = Dataset.from_pandas(summarizes)\n",
    "summerize_dataset"
   ]
  },
  {
   "cell_type": "code",
   "execution_count": 27,
   "metadata": {},
   "outputs": [],
   "source": [
    "CLUSTER_REPO = \"BroDeadlines/TEST.PART_CLUSTER.UEH.raptor.edu_data\"\n",
    "SUMMERIZE_REPO = \"BroDeadlines/TEST.PART_SUMMERIZE.UEH.raptor.edu_tdt_data\"\n",
    "SUBSET = 'unique'"
   ]
  },
  {
   "cell_type": "code",
   "execution_count": 28,
   "metadata": {},
   "outputs": [
    {
     "data": {
      "application/vnd.jupyter.widget-view+json": {
       "model_id": "97550b18c0af4e9b9ef12f58e018e7ad",
       "version_major": 2,
       "version_minor": 0
      },
      "text/plain": [
       "Uploading the dataset shards:   0%|          | 0/1 [00:00<?, ?it/s]"
      ]
     },
     "metadata": {},
     "output_type": "display_data"
    },
    {
     "data": {
      "application/vnd.jupyter.widget-view+json": {
       "model_id": "5ce0dc71bb3640138867028beddb8dfd",
       "version_major": 2,
       "version_minor": 0
      },
      "text/plain": [
       "Creating parquet from Arrow format:   0%|          | 0/1 [00:00<?, ?ba/s]"
      ]
     },
     "metadata": {},
     "output_type": "display_data"
    },
    {
     "data": {
      "application/vnd.jupyter.widget-view+json": {
       "model_id": "fc48d7297ea247cb9c282531bfd0d308",
       "version_major": 2,
       "version_minor": 0
      },
      "text/plain": [
       "README.md:   0%|          | 0.00/501 [00:00<?, ?B/s]"
      ]
     },
     "metadata": {},
     "output_type": "display_data"
    },
    {
     "data": {
      "text/plain": [
       "CommitInfo(commit_url='https://huggingface.co/datasets/BroDeadlines/TEST.PART_CLUSTER.UEH.raptor.edu_data/commit/edf1399745f061ee2a11749fc4900884f064b56a', commit_message='Upload dataset', commit_description='', oid='edf1399745f061ee2a11749fc4900884f064b56a', pr_url=None, pr_revision=None, pr_num=None)"
      ]
     },
     "execution_count": 28,
     "metadata": {},
     "output_type": "execute_result"
    }
   ],
   "source": [
    "cluster_dataset.push_to_hub(CLUSTER_REPO, SUBSET)"
   ]
  },
  {
   "cell_type": "code",
   "execution_count": 29,
   "metadata": {},
   "outputs": [
    {
     "data": {
      "application/vnd.jupyter.widget-view+json": {
       "model_id": "5a1032405d0e43edb5242e64285cf205",
       "version_major": 2,
       "version_minor": 0
      },
      "text/plain": [
       "Uploading the dataset shards:   0%|          | 0/1 [00:00<?, ?it/s]"
      ]
     },
     "metadata": {},
     "output_type": "display_data"
    },
    {
     "data": {
      "application/vnd.jupyter.widget-view+json": {
       "model_id": "d2e04ed64ee440e688375b9ae0793427",
       "version_major": 2,
       "version_minor": 0
      },
      "text/plain": [
       "Creating parquet from Arrow format:   0%|          | 0/1 [00:00<?, ?ba/s]"
      ]
     },
     "metadata": {},
     "output_type": "display_data"
    },
    {
     "data": {
      "application/vnd.jupyter.widget-view+json": {
       "model_id": "4ec30d713a844bf1a5b528d204ef7a51",
       "version_major": 2,
       "version_minor": 0
      },
      "text/plain": [
       "README.md:   0%|          | 0.00/495 [00:00<?, ?B/s]"
      ]
     },
     "metadata": {},
     "output_type": "display_data"
    },
    {
     "data": {
      "text/plain": [
       "CommitInfo(commit_url='https://huggingface.co/datasets/BroDeadlines/TEST.PART_SUMMERIZE.UEH.raptor.edu_tdt_data/commit/114d2c189c2b49ab6b068db684150dbb03d5e4fe', commit_message='Upload dataset', commit_description='', oid='114d2c189c2b49ab6b068db684150dbb03d5e4fe', pr_url=None, pr_revision=None, pr_num=None)"
      ]
     },
     "execution_count": 29,
     "metadata": {},
     "output_type": "execute_result"
    }
   ],
   "source": [
    "summerize_dataset.push_to_hub(SUMMERIZE_REPO, SUBSET)"
   ]
  },
  {
   "cell_type": "code",
   "execution_count": 25,
   "metadata": {},
   "outputs": [
    {
     "data": {
      "application/vnd.jupyter.widget-view+json": {
       "model_id": "cb66a594bb9148169736a387eadea86b",
       "version_major": 2,
       "version_minor": 0
      },
      "text/plain": [
       "Downloading readme:   0%|          | 0.00/468 [00:00<?, ?B/s]"
      ]
     },
     "metadata": {},
     "output_type": "display_data"
    },
    {
     "name": "stderr",
     "output_type": "stream",
     "text": [
      "Downloading data: 100%|████████████████████████████████████████| 6.04M/6.04M [00:01<00:00, 4.18MB/s]\n"
     ]
    },
    {
     "data": {
      "application/vnd.jupyter.widget-view+json": {
       "model_id": "64acb6fa60d44d28b777d4cafe31891c",
       "version_major": 2,
       "version_minor": 0
      },
      "text/plain": [
       "Generating train split:   0%|          | 0/882 [00:00<?, ? examples/s]"
      ]
     },
     "metadata": {},
     "output_type": "display_data"
    },
    {
     "data": {
      "application/vnd.jupyter.widget-view+json": {
       "model_id": "ec160f08eae146948e7c2ff32aada9ce",
       "version_major": 2,
       "version_minor": 0
      },
      "text/plain": [
       "Downloading readme:   0%|          | 0.00/462 [00:00<?, ?B/s]"
      ]
     },
     "metadata": {},
     "output_type": "display_data"
    },
    {
     "name": "stderr",
     "output_type": "stream",
     "text": [
      "Downloading data: 100%|████████████████████████████████████████| 95.1k/95.1k [00:01<00:00, 81.4kB/s]\n"
     ]
    },
    {
     "data": {
      "application/vnd.jupyter.widget-view+json": {
       "model_id": "394e9f9113b8448eb31273187add8ba9",
       "version_major": 2,
       "version_minor": 0
      },
      "text/plain": [
       "Generating train split:   0%|          | 0/193 [00:00<?, ? examples/s]"
      ]
     },
     "metadata": {},
     "output_type": "display_data"
    }
   ],
   "source": [
    "cluster_dataset = load_dataset(CLUSTER_REPO, split=SPLIT)\n",
    "summerize_dataset = load_dataset(SUMMERIZE_REPO, split=SPLIT)"
   ]
  },
  {
   "cell_type": "markdown",
   "metadata": {},
   "source": [
    "### Up to ES"
   ]
  },
  {
   "cell_type": "code",
   "execution_count": 30,
   "metadata": {},
   "outputs": [
    {
     "name": "stdout",
     "output_type": "stream",
     "text": [
      "dict_keys([1, 2, 3])\n",
      "=======\n",
      "2\n",
      "Index(['text', 'embd', 'cluster', 'doc_ids', 'level_id'], dtype='object')\n",
      "-> (391, 5)\n",
      "['tree_1']\n",
      "Index(['summaries', 'level', 'cluster', 'doc_ids', 'level_id'], dtype='object')\n",
      "-> (68, 5)\n",
      "=======\n",
      "2\n",
      "Index(['text', 'embd', 'cluster', 'doc_ids', 'level_id'], dtype='object')\n",
      "-> (68, 5)\n",
      "['tree_2']\n",
      "Index(['summaries', 'level', 'cluster', 'doc_ids', 'level_id'], dtype='object')\n",
      "-> (16, 5)\n",
      "=======\n",
      "2\n",
      "Index(['text', 'embd', 'cluster', 'doc_ids', 'level_id'], dtype='object')\n",
      "-> (16, 5)\n",
      "['tree_3']\n",
      "Index(['summaries', 'level', 'cluster', 'doc_ids', 'level_id'], dtype='object')\n",
      "-> (4, 5)\n"
     ]
    }
   ],
   "source": [
    "print_raptor_info(results)"
   ]
  },
  {
   "cell_type": "code",
   "execution_count": 31,
   "metadata": {},
   "outputs": [
    {
     "data": {
      "text/plain": [
       "479"
      ]
     },
     "execution_count": 31,
     "metadata": {},
     "output_type": "execute_result"
    }
   ],
   "source": [
    "391 + 68 + 16 + 4"
   ]
  },
  {
   "cell_type": "code",
   "execution_count": 32,
   "metadata": {},
   "outputs": [
    {
     "data": {
      "text/plain": [
       "Document(metadata={'doc_id': 'e500cddd-2fa4-41ea-8971-300d89059838'}, page_content='HỌC BỔNG TẠI PHÂN HIỆU VĨNH LONG\\n\\nTrên cơ sở thế mạnh uy tín, chất lượng đào tạo đã được tạo lập trong 47 năm qua, Đại học Kinh tế TP. Hồ Chí Minh (UEH) luôn tiên phong đổi mới để đón đầu và đáp ứng các xu thế phát triển của thị trường, cung cấp nguồn nhân lực chất lượng cao cho nền kinh tế. Đặc biệt, kể từ khi thực hiện chiến lược trở thành Đại học Đa ngành và Bền vững, với định hướng “Đào tạo công dân toàn cầu”, UEH đã có những bước phát triển mạnh mẽ và gặt hái được nhiều thành tích nổi bật trong công tác tuyển sinh, đào tạo.\\n\\nĐến với UEH, sinh viên Khóa 49 được tự do lựa chọn chương trình học, cách học, và đa dạng cơ hội để trở thành những phiên bản tốt hơn của chính mình. Bên cạnh việc trải nghiệm môi trường giáo dục chuẩn quốc tế, sinh viên còn có cơ hội nhận được nhiều loại học bổng như một lời động viên cho những thí sinh đã có nỗ lực học tập tốt và trúng tuyển vào UEH với kết quả xét tuyển cao cũng như tạo cơ hội học tập cho các em có hoàn cảnh khó khăn, UEH dành nhiều suất học bổng cho tân sinh viên Đại học chính quy, khóa 49.\\n\\n56 suất học bổng tuyển sinh dành cho tân sinh viên trúng tuyển tại Phân Hiệu Vĩnh Long với kết quả xét tuyển cao\\n\\nHọc bổng tuyển sinh bao gồm 05 suất học bổng xuất sắc, 15 suất học bổng toàn phần và 36 suất bán phần, có giá trị lần lượt là 13.500.000 VND, 9.000.000 VND và 4.500.000 VND. Đặc biệt, 100% sinh viên tại Phân hiệu Vĩnh Long theo học 3 chương trình đào tạo (Công nghệ và đổi mới sáng tạo; Robot và trí tuệ nhân tạo (hệ kỹ sư) và Kinh doanh nông nghiệp) có hộ khẩu tại khu vực ĐBSCL được nhận học bổng 100% học phí học kỳ đầu (đối với sinh viên có tiêu chí xét tuyển đạt loại giỏi), 50% học phí học kỳ đầu (sinh viên còn lại). Thông qua chính sách học bổng này, UEH muốn gửi đến các bạn tân sinh viên lời động viên, lời công nhận cho tài năng, nỗ lực mà các bạn trong suốt 12 năm học tập. Hy vọng, các bạn sẽ tiếp tục phấn đấu và tự tin khẳng định bản thân tại mái nhà chung UEH.\\n\\n15 suất học bổng hỗ trợ học tập dành cho tân sinh viên có hoàn cảnh khó khăn')"
      ]
     },
     "execution_count": 32,
     "metadata": {},
     "output_type": "execute_result"
    }
   ],
   "source": [
    "from src.utils.type_utils import create_langchain_doc\n",
    "# Initialize all_texts with leaf_texts\n",
    "all_texts = [create_langchain_doc(txt, {\"doc_id\": id}) for txt, id in zip(leaf_texts, leaf_ids)]\n",
    "all_texts[0]"
   ]
  },
  {
   "cell_type": "code",
   "execution_count": 33,
   "metadata": {},
   "outputs": [],
   "source": [
    "\n",
    "# Iterate through the results to extract summaries from each level and add them to all_texts\n",
    "for level in sorted(results.keys()):\n",
    "    # Extract summaries from the current level's DataFrame\n",
    "    summaries = results[level][1][\"summaries\"].tolist()\n",
    "    d_ids = results[level][1][\"doc_ids\"].tolist()\n",
    "    # Extend all_texts with the summaries from the current level\n",
    "    all_texts.extend([create_langchain_doc(txt, {\"doc_id\": id}) for txt, id in zip(summaries, d_ids)])\n"
   ]
  },
  {
   "cell_type": "code",
   "execution_count": 34,
   "metadata": {},
   "outputs": [
    {
     "data": {
      "text/plain": [
       "479"
      ]
     },
     "execution_count": 34,
     "metadata": {},
     "output_type": "execute_result"
    }
   ],
   "source": [
    "len(all_texts)"
   ]
  },
  {
   "cell_type": "code",
   "execution_count": 35,
   "metadata": {},
   "outputs": [
    {
     "name": "stdout",
     "output_type": "stream",
     "text": [
      "vec-raptor-ueh-data-tree-unique\n",
      "text-raptor-ueh-data-tree-unique\n"
     ]
    }
   ],
   "source": [
    "print(vec_idx)\n",
    "print(text_idx)"
   ]
  },
  {
   "cell_type": "code",
   "execution_count": 36,
   "metadata": {},
   "outputs": [],
   "source": [
    "b = bm.add_documents(all_texts)"
   ]
  },
  {
   "cell_type": "code",
   "execution_count": 37,
   "metadata": {},
   "outputs": [],
   "source": [
    "with open(\"bm_prop_ids_vi.txt\", \"w\") as f:\n",
    "    f.write(\"\\n\".join(b))"
   ]
  },
  {
   "cell_type": "code",
   "execution_count": 38,
   "metadata": {},
   "outputs": [],
   "source": [
    "a = es.add_documents(all_texts)"
   ]
  },
  {
   "cell_type": "code",
   "execution_count": 39,
   "metadata": {},
   "outputs": [],
   "source": [
    "with open(\"es_ids_vi.txt\", \"w\") as f:\n",
    "    f.write(\"\\n\".join(a))"
   ]
  },
  {
   "cell_type": "markdown",
   "metadata": {},
   "source": [
    "## Update shards"
   ]
  },
  {
   "cell_type": "code",
   "execution_count": 40,
   "metadata": {},
   "outputs": [
    {
     "name": "stdout",
     "output_type": "stream",
     "text": [
      "479\n"
     ]
    },
    {
     "data": {
      "text/plain": [
       "Document(metadata={'doc_id': 'e500cddd-2fa4-41ea-8971-300d89059838'}, page_content='HỌC BỔNG TẠI PHÂN HIỆU VĨNH LONG\\n\\nTrên cơ sở thế mạnh uy tín, chất lượng đào tạo đã được tạo lập trong 47 năm qua, Đại học Kinh tế TP. Hồ Chí Minh (UEH) luôn tiên phong đổi mới để đón đầu và đáp ứng các xu thế phát triển của thị trường, cung cấp nguồn nhân lực chất lượng cao cho nền kinh tế. Đặc biệt, kể từ khi thực hiện chiến lược trở thành Đại học Đa ngành và Bền vững, với định hướng “Đào tạo công dân toàn cầu”, UEH đã có những bước phát triển mạnh mẽ và gặt hái được nhiều thành tích nổi bật trong công tác tuyển sinh, đào tạo.\\n\\nĐến với UEH, sinh viên Khóa 49 được tự do lựa chọn chương trình học, cách học, và đa dạng cơ hội để trở thành những phiên bản tốt hơn của chính mình. Bên cạnh việc trải nghiệm môi trường giáo dục chuẩn quốc tế, sinh viên còn có cơ hội nhận được nhiều loại học bổng như một lời động viên cho những thí sinh đã có nỗ lực học tập tốt và trúng tuyển vào UEH với kết quả xét tuyển cao cũng như tạo cơ hội học tập cho các em có hoàn cảnh khó khăn, UEH dành nhiều suất học bổng cho tân sinh viên Đại học chính quy, khóa 49.\\n\\n56 suất học bổng tuyển sinh dành cho tân sinh viên trúng tuyển tại Phân Hiệu Vĩnh Long với kết quả xét tuyển cao\\n\\nHọc bổng tuyển sinh bao gồm 05 suất học bổng xuất sắc, 15 suất học bổng toàn phần và 36 suất bán phần, có giá trị lần lượt là 13.500.000 VND, 9.000.000 VND và 4.500.000 VND. Đặc biệt, 100% sinh viên tại Phân hiệu Vĩnh Long theo học 3 chương trình đào tạo (Công nghệ và đổi mới sáng tạo; Robot và trí tuệ nhân tạo (hệ kỹ sư) và Kinh doanh nông nghiệp) có hộ khẩu tại khu vực ĐBSCL được nhận học bổng 100% học phí học kỳ đầu (đối với sinh viên có tiêu chí xét tuyển đạt loại giỏi), 50% học phí học kỳ đầu (sinh viên còn lại). Thông qua chính sách học bổng này, UEH muốn gửi đến các bạn tân sinh viên lời động viên, lời công nhận cho tài năng, nỗ lực mà các bạn trong suốt 12 năm học tập. Hy vọng, các bạn sẽ tiếp tục phấn đấu và tự tin khẳng định bản thân tại mái nhà chung UEH.\\n\\n15 suất học bổng hỗ trợ học tập dành cho tân sinh viên có hoàn cảnh khó khăn')"
      ]
     },
     "execution_count": 40,
     "metadata": {},
     "output_type": "execute_result"
    }
   ],
   "source": [
    "print(len(all_texts))\n",
    "all_texts[0]"
   ]
  },
  {
   "cell_type": "code",
   "execution_count": 41,
   "metadata": {},
   "outputs": [
    {
     "name": "stdout",
     "output_type": "stream",
     "text": [
      "479\n",
      "1614\n"
     ]
    }
   ],
   "source": [
    "def build_shards(all_data):\n",
    "    shards_map = {}\n",
    "    shards = {}\n",
    "    for doc in all_data:\n",
    "        d_id = doc.metadata['doc_id']\n",
    "        # update new record\n",
    "        if d_id not in shards_map:\n",
    "            shards_map[d_id] = 1\n",
    "            shards[d_id] = 1\n",
    "        else:\n",
    "            shards_map[d_id] += 1\n",
    "            shards[d_id] += 1\n",
    "        # update sub-tree\n",
    "        if \";\" not in d_id:\n",
    "            continue\n",
    "        keys = shards_map.keys()\n",
    "        for k in keys:\n",
    "            if k in d_id:\n",
    "                shards_map[k] += 1\n",
    "    return shards, shards_map\n",
    "\n",
    "shards, hard_shards = build_shards(all_texts)\n",
    "print(sum(shards.values()))\n",
    "print(sum(hard_shards.values()))"
   ]
  },
  {
   "cell_type": "code",
   "execution_count": 42,
   "metadata": {},
   "outputs": [
    {
     "name": "stdout",
     "output_type": "stream",
     "text": [
      "Dataset({\n",
      "    features: ['text', 'embd', 'cluster', 'doc_ids', 'level_id', '__index_level_0__'],\n",
      "    num_rows: 475\n",
      "})\n"
     ]
    },
    {
     "data": {
      "text/plain": [
       "Dataset({\n",
       "    features: ['summaries', 'level', 'cluster', 'doc_ids', 'level_id', '__index_level_0__'],\n",
       "    num_rows: 88\n",
       "})"
      ]
     },
     "execution_count": 42,
     "metadata": {},
     "output_type": "execute_result"
    }
   ],
   "source": [
    "print(cluster_dataset)\n",
    "summerize_dataset"
   ]
  },
  {
   "cell_type": "code",
   "execution_count": 43,
   "metadata": {},
   "outputs": [
    {
     "data": {
      "application/vnd.jupyter.widget-view+json": {
       "model_id": "11811d86d70f40b88921344dd26c5965",
       "version_major": 2,
       "version_minor": 0
      },
      "text/plain": [
       "Map:   0%|          | 0/475 [00:00<?, ? examples/s]"
      ]
     },
     "metadata": {},
     "output_type": "display_data"
    },
    {
     "data": {
      "application/vnd.jupyter.widget-view+json": {
       "model_id": "757a30cb78aa47abb5eacd33d9c8cb4c",
       "version_major": 2,
       "version_minor": 0
      },
      "text/plain": [
       "Map:   0%|          | 0/88 [00:00<?, ? examples/s]"
      ]
     },
     "metadata": {},
     "output_type": "display_data"
    }
   ],
   "source": [
    "def update_shards(row):\n",
    "    row['easy_shards'] = shards[row['doc_ids']]\n",
    "    row['hard_shards'] = hard_shards[row['doc_ids']]\n",
    "    return row\n",
    "    \n",
    "cluster_dataset_one = cluster_dataset.map(update_shards)\n",
    "summerize_dataset_one = summerize_dataset.map(update_shards)"
   ]
  },
  {
   "cell_type": "code",
   "execution_count": 44,
   "metadata": {},
   "outputs": [
    {
     "name": "stdout",
     "output_type": "stream",
     "text": [
      "Dataset({\n",
      "    features: ['text', 'embd', 'cluster', 'doc_ids', 'level_id', 'easy_shards', 'hard_shards'],\n",
      "    num_rows: 475\n",
      "})\n"
     ]
    },
    {
     "data": {
      "text/plain": [
       "Dataset({\n",
       "    features: ['summaries', 'level', 'cluster', 'doc_ids', 'level_id', 'easy_shards', 'hard_shards'],\n",
       "    num_rows: 88\n",
       "})"
      ]
     },
     "execution_count": 44,
     "metadata": {},
     "output_type": "execute_result"
    }
   ],
   "source": [
    "summerize_dataset_one = summerize_dataset_one.remove_columns(['__index_level_0__'])\n",
    "cluster_dataset_one = cluster_dataset_one.remove_columns(['__index_level_0__'])\n",
    "print(cluster_dataset_one)\n",
    "summerize_dataset_one"
   ]
  },
  {
   "cell_type": "code",
   "execution_count": 45,
   "metadata": {},
   "outputs": [
    {
     "name": "stdout",
     "output_type": "stream",
     "text": [
      "BroDeadlines/TEST.PART_CLUSTER.UEH.raptor.edu_data\n",
      "BroDeadlines/TEST.PART_SUMMERIZE.UEH.raptor.edu_tdt_data\n"
     ]
    },
    {
     "data": {
      "text/plain": [
       "'train'"
      ]
     },
     "execution_count": 45,
     "metadata": {},
     "output_type": "execute_result"
    }
   ],
   "source": [
    "print(CLUSTER_REPO)\n",
    "print(SUMMERIZE_REPO)\n",
    "SPLIT"
   ]
  },
  {
   "cell_type": "code",
   "execution_count": 46,
   "metadata": {},
   "outputs": [
    {
     "data": {
      "application/vnd.jupyter.widget-view+json": {
       "model_id": "c1421a8cf4604239b5034ac895693569",
       "version_major": 2,
       "version_minor": 0
      },
      "text/plain": [
       "Uploading the dataset shards:   0%|          | 0/1 [00:00<?, ?it/s]"
      ]
     },
     "metadata": {},
     "output_type": "display_data"
    },
    {
     "data": {
      "application/vnd.jupyter.widget-view+json": {
       "model_id": "65502283ba3548e195b689d6a89f14b0",
       "version_major": 2,
       "version_minor": 0
      },
      "text/plain": [
       "Creating parquet from Arrow format:   0%|          | 0/1 [00:00<?, ?ba/s]"
      ]
     },
     "metadata": {},
     "output_type": "display_data"
    },
    {
     "data": {
      "application/vnd.jupyter.widget-view+json": {
       "model_id": "a57052ad024f46c6ba3e97ecd0986f3d",
       "version_major": 2,
       "version_minor": 0
      },
      "text/plain": [
       "README.md:   0%|          | 0.00/984 [00:00<?, ?B/s]"
      ]
     },
     "metadata": {},
     "output_type": "display_data"
    },
    {
     "data": {
      "text/plain": [
       "CommitInfo(commit_url='https://huggingface.co/datasets/BroDeadlines/TEST.PART_CLUSTER.UEH.raptor.edu_data/commit/c29fe76ac0ed5f98d386d142ca5cb6086bf678fe', commit_message='Upload dataset', commit_description='', oid='c29fe76ac0ed5f98d386d142ca5cb6086bf678fe', pr_url=None, pr_revision=None, pr_num=None)"
      ]
     },
     "execution_count": 46,
     "metadata": {},
     "output_type": "execute_result"
    }
   ],
   "source": [
    "cluster_dataset_one.push_to_hub(CLUSTER_REPO, SUBSET)"
   ]
  },
  {
   "cell_type": "code",
   "execution_count": 47,
   "metadata": {},
   "outputs": [
    {
     "data": {
      "application/vnd.jupyter.widget-view+json": {
       "model_id": "0d1cb4ea35a248fc8955bbf9c034e2d7",
       "version_major": 2,
       "version_minor": 0
      },
      "text/plain": [
       "Uploading the dataset shards:   0%|          | 0/1 [00:00<?, ?it/s]"
      ]
     },
     "metadata": {},
     "output_type": "display_data"
    },
    {
     "data": {
      "application/vnd.jupyter.widget-view+json": {
       "model_id": "779f33813d364bcfa2401f51f84453ee",
       "version_major": 2,
       "version_minor": 0
      },
      "text/plain": [
       "Creating parquet from Arrow format:   0%|          | 0/1 [00:00<?, ?ba/s]"
      ]
     },
     "metadata": {},
     "output_type": "display_data"
    },
    {
     "data": {
      "application/vnd.jupyter.widget-view+json": {
       "model_id": "8e3ff74fd5584fe8ad9692750ac1ee92",
       "version_major": 2,
       "version_minor": 0
      },
      "text/plain": [
       "README.md:   0%|          | 0.00/969 [00:00<?, ?B/s]"
      ]
     },
     "metadata": {},
     "output_type": "display_data"
    },
    {
     "data": {
      "text/plain": [
       "CommitInfo(commit_url='https://huggingface.co/datasets/BroDeadlines/TEST.PART_SUMMERIZE.UEH.raptor.edu_tdt_data/commit/6731d21ad3c893f677deba30dc8229b2d8719279', commit_message='Upload dataset', commit_description='', oid='6731d21ad3c893f677deba30dc8229b2d8719279', pr_url=None, pr_revision=None, pr_num=None)"
      ]
     },
     "execution_count": 47,
     "metadata": {},
     "output_type": "execute_result"
    }
   ],
   "source": [
    "summerize_dataset_one.push_to_hub(SUMMERIZE_REPO, SUBSET)"
   ]
  },
  {
   "cell_type": "markdown",
   "metadata": {},
   "source": [
    "## Done"
   ]
  }
 ],
 "metadata": {
  "kernelspec": {
   "display_name": "Python 3 (ipykernel)",
   "language": "python",
   "name": "python3"
  },
  "language_info": {
   "codemirror_mode": {
    "name": "ipython",
    "version": 3
   },
   "file_extension": ".py",
   "mimetype": "text/x-python",
   "name": "python",
   "nbconvert_exporter": "python",
   "pygments_lexer": "ipython3",
   "version": "3.9.18"
  }
 },
 "nbformat": 4,
 "nbformat_minor": 4
}
