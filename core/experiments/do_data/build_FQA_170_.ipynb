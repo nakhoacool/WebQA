{
 "cells": [
  {
   "cell_type": "code",
   "execution_count": 1,
   "id": "2b976d06-98a4-482e-ac62-47e8157d9181",
   "metadata": {},
   "outputs": [],
   "source": [
    "import sys\n",
    "sys.path.append(\"../..\")\n",
    "from src.utils.text_utils import window_slide_split"
   ]
  },
  {
   "cell_type": "markdown",
   "id": "60094d56-0706-476b-8ee0-7082c5cb59da",
   "metadata": {
    "jp-MarkdownHeadingCollapsed": true
   },
   "source": [
    "# Prepare QA set"
   ]
  },
  {
   "cell_type": "code",
   "execution_count": 5,
   "id": "f4174683-b693-40ff-b8d9-6039cf6bc3a4",
   "metadata": {},
   "outputs": [
    {
     "name": "stdout",
     "output_type": "stream",
     "text": [
      "(170, 2)\n"
     ]
    },
    {
     "data": {
      "text/html": [
       "<div>\n",
       "<style scoped>\n",
       "    .dataframe tbody tr th:only-of-type {\n",
       "        vertical-align: middle;\n",
       "    }\n",
       "\n",
       "    .dataframe tbody tr th {\n",
       "        vertical-align: top;\n",
       "    }\n",
       "\n",
       "    .dataframe thead th {\n",
       "        text-align: right;\n",
       "    }\n",
       "</style>\n",
       "<table border=\"1\" class=\"dataframe\">\n",
       "  <thead>\n",
       "    <tr style=\"text-align: right;\">\n",
       "      <th></th>\n",
       "      <th>question</th>\n",
       "      <th>answer</th>\n",
       "    </tr>\n",
       "  </thead>\n",
       "  <tbody>\n",
       "    <tr>\n",
       "      <th>0</th>\n",
       "      <td>Thủ tục và cách thức gia hạn đóng học phí như ...</td>\n",
       "      <td>Trong thời gian đóng học phí theo thông báo củ...</td>\n",
       "    </tr>\n",
       "    <tr>\n",
       "      <th>1</th>\n",
       "      <td>Xin cho em hỏi về thời gian và cách thức đổi B...</td>\n",
       "      <td>Thời gian đổi biên lai học phí của từng học k...</td>\n",
       "    </tr>\n",
       "    <tr>\n",
       "      <th>2</th>\n",
       "      <td>Lệ phí thi chứng chỉ MOS là bao nhiêu</td>\n",
       "      <td>Trong mỗi đợt thi MOS, Phòng Đại học có thông ...</td>\n",
       "    </tr>\n",
       "    <tr>\n",
       "      <th>3</th>\n",
       "      <td>Tiền tạm thu khi nhập học sẽ được sử dụng như ...</td>\n",
       "      <td>Đầu năm khi làm thủ tục nhập học, sinh viên s...</td>\n",
       "    </tr>\n",
       "    <tr>\n",
       "      <th>4</th>\n",
       "      <td>Nếu học ngành 2 thì học phí sẽ được tính như t...</td>\n",
       "      <td>Nếu sinh viên học ngành 2, mức học phí sẽ đượ...</td>\n",
       "    </tr>\n",
       "  </tbody>\n",
       "</table>\n",
       "</div>"
      ],
      "text/plain": [
       "                                            question  \\\n",
       "0  Thủ tục và cách thức gia hạn đóng học phí như ...   \n",
       "1  Xin cho em hỏi về thời gian và cách thức đổi B...   \n",
       "2              Lệ phí thi chứng chỉ MOS là bao nhiêu   \n",
       "3  Tiền tạm thu khi nhập học sẽ được sử dụng như ...   \n",
       "4  Nếu học ngành 2 thì học phí sẽ được tính như t...   \n",
       "\n",
       "                                              answer  \n",
       "0  Trong thời gian đóng học phí theo thông báo củ...  \n",
       "1   Thời gian đổi biên lai học phí của từng học k...  \n",
       "2  Trong mỗi đợt thi MOS, Phòng Đại học có thông ...  \n",
       "3   Đầu năm khi làm thủ tục nhập học, sinh viên s...  \n",
       "4   Nếu sinh viên học ngành 2, mức học phí sẽ đượ...  "
      ]
     },
     "execution_count": 5,
     "metadata": {},
     "output_type": "execute_result"
    }
   ],
   "source": [
    "import pandas as pd\n",
    "PATH = \"~/Downloads/QA.json\"\n",
    "\n",
    "df = pd.read_json(PATH)\n",
    "print(df.shape)\n",
    "df.head()"
   ]
  },
  {
   "cell_type": "code",
   "execution_count": 6,
   "id": "a177ae93-ee5e-40e4-8894-4a5b90a31b46",
   "metadata": {},
   "outputs": [],
   "source": [
    "df['url'] = \"https://tuvanhocduong.tdtu.edu.vn/News\""
   ]
  },
  {
   "cell_type": "code",
   "execution_count": 7,
   "id": "ae322a1b-b367-44af-abf6-9abe85323c96",
   "metadata": {},
   "outputs": [],
   "source": [
    "groups = []\n",
    "groups.extend([\"Câu hỏi liên quan học phí\"]*9)\n",
    "groups.extend([\"Hoạt động sinh viên\"]*2)\n",
    "groups.extend([\"Câu hỏi liên quan Tiếng Anh\"]*12)\n",
    "groups.extend([\"Hỗ trợ, khen thưởng, xử lý vi phạm sinh viên\"]*18)\n",
    "groups.extend([\"Các câu hỏi khác\"]*23)\n",
    "groups.extend([\"Xét và công nhận tốt nghiệp\"]*12)\n",
    "groups.extend([\"Đánh giá môn học\"]*37)\n",
    "groups.extend([\"Đăng ký môn học\"]*33)\n",
    "groups.extend([\"Tổ chức đào tạo\"]*8)\n",
    "groups.extend([\"Chương trình đào tạo\"]*16)"
   ]
  },
  {
   "cell_type": "code",
   "execution_count": 8,
   "id": "1b4dcbb0-d53f-48de-be46-3d3e90486883",
   "metadata": {},
   "outputs": [],
   "source": [
    "df['group'] = groups"
   ]
  },
  {
   "cell_type": "code",
   "execution_count": 13,
   "id": "aad66a33-2f07-473a-9781-f876e0aca09c",
   "metadata": {},
   "outputs": [
    {
     "data": {
      "text/html": [
       "<div>\n",
       "<style scoped>\n",
       "    .dataframe tbody tr th:only-of-type {\n",
       "        vertical-align: middle;\n",
       "    }\n",
       "\n",
       "    .dataframe tbody tr th {\n",
       "        vertical-align: top;\n",
       "    }\n",
       "\n",
       "    .dataframe thead th {\n",
       "        text-align: right;\n",
       "    }\n",
       "</style>\n",
       "<table border=\"1\" class=\"dataframe\">\n",
       "  <thead>\n",
       "    <tr style=\"text-align: right;\">\n",
       "      <th></th>\n",
       "      <th>question</th>\n",
       "      <th>answer</th>\n",
       "      <th>url</th>\n",
       "      <th>group</th>\n",
       "    </tr>\n",
       "  </thead>\n",
       "  <tbody>\n",
       "    <tr>\n",
       "      <th>0</th>\n",
       "      <td>Thủ tục và cách thức gia hạn đóng học phí như ...</td>\n",
       "      <td>Trong thời gian đóng học phí theo thông báo củ...</td>\n",
       "      <td>https://tuvanhocduong.tdtu.edu.vn/News</td>\n",
       "      <td>Câu hỏi liên quan học phí</td>\n",
       "    </tr>\n",
       "    <tr>\n",
       "      <th>1</th>\n",
       "      <td>Xin cho em hỏi về thời gian và cách thức đổi B...</td>\n",
       "      <td>Thời gian đổi biên lai học phí của từng học k...</td>\n",
       "      <td>https://tuvanhocduong.tdtu.edu.vn/News</td>\n",
       "      <td>Câu hỏi liên quan học phí</td>\n",
       "    </tr>\n",
       "    <tr>\n",
       "      <th>2</th>\n",
       "      <td>Lệ phí thi chứng chỉ MOS là bao nhiêu</td>\n",
       "      <td>Trong mỗi đợt thi MOS, Phòng Đại học có thông ...</td>\n",
       "      <td>https://tuvanhocduong.tdtu.edu.vn/News</td>\n",
       "      <td>Câu hỏi liên quan học phí</td>\n",
       "    </tr>\n",
       "    <tr>\n",
       "      <th>3</th>\n",
       "      <td>Tiền tạm thu khi nhập học sẽ được sử dụng như ...</td>\n",
       "      <td>Đầu năm khi làm thủ tục nhập học, sinh viên s...</td>\n",
       "      <td>https://tuvanhocduong.tdtu.edu.vn/News</td>\n",
       "      <td>Câu hỏi liên quan học phí</td>\n",
       "    </tr>\n",
       "    <tr>\n",
       "      <th>4</th>\n",
       "      <td>Nếu học ngành 2 thì học phí sẽ được tính như t...</td>\n",
       "      <td>Nếu sinh viên học ngành 2, mức học phí sẽ đượ...</td>\n",
       "      <td>https://tuvanhocduong.tdtu.edu.vn/News</td>\n",
       "      <td>Câu hỏi liên quan học phí</td>\n",
       "    </tr>\n",
       "    <tr>\n",
       "      <th>...</th>\n",
       "      <td>...</td>\n",
       "      <td>...</td>\n",
       "      <td>...</td>\n",
       "      <td>...</td>\n",
       "    </tr>\n",
       "    <tr>\n",
       "      <th>165</th>\n",
       "      <td>Khi học học phần Tiếng Anh cuối cùng của chươn...</td>\n",
       "      <td>Trong trường hợp sinh viên đủ điều kiện dự thi...</td>\n",
       "      <td>https://tuvanhocduong.tdtu.edu.vn/News</td>\n",
       "      <td>Chương trình đào tạo</td>\n",
       "    </tr>\n",
       "    <tr>\n",
       "      <th>166</th>\n",
       "      <td>Sinh viên có vật giá trị trong cặp xách/ Balo ...</td>\n",
       "      <td>Qui định để đồ tại tầng hầm lửng của T...</td>\n",
       "      <td>https://tuvanhocduong.tdtu.edu.vn/News</td>\n",
       "      <td>Chương trình đào tạo</td>\n",
       "    </tr>\n",
       "    <tr>\n",
       "      <th>167</th>\n",
       "      <td>Các lỗi vi phạm khi Sinh viên ở ký túc xá có l...</td>\n",
       "      <td>Tùy theo số lần vi phạm và mức độ vi phạm củ...</td>\n",
       "      <td>https://tuvanhocduong.tdtu.edu.vn/News</td>\n",
       "      <td>Chương trình đào tạo</td>\n",
       "    </tr>\n",
       "    <tr>\n",
       "      <th>168</th>\n",
       "      <td>Em ở Thành phố Hồ Chí Minh nhưng ở khu vực quậ...</td>\n",
       "      <td>Đối với sinh viên có hộ khẩu thường trú tại T...</td>\n",
       "      <td>https://tuvanhocduong.tdtu.edu.vn/News</td>\n",
       "      <td>Chương trình đào tạo</td>\n",
       "    </tr>\n",
       "    <tr>\n",
       "      <th>169</th>\n",
       "      <td>Em thuộc diện con của cán bộ công đoàn thì đượ...</td>\n",
       "      <td>Theo công văn hỗ trợ con em CBCĐ, mỗi tháng s...</td>\n",
       "      <td>https://tuvanhocduong.tdtu.edu.vn/News</td>\n",
       "      <td>Chương trình đào tạo</td>\n",
       "    </tr>\n",
       "  </tbody>\n",
       "</table>\n",
       "<p>170 rows × 4 columns</p>\n",
       "</div>"
      ],
      "text/plain": [
       "                                              question  \\\n",
       "0    Thủ tục và cách thức gia hạn đóng học phí như ...   \n",
       "1    Xin cho em hỏi về thời gian và cách thức đổi B...   \n",
       "2                Lệ phí thi chứng chỉ MOS là bao nhiêu   \n",
       "3    Tiền tạm thu khi nhập học sẽ được sử dụng như ...   \n",
       "4    Nếu học ngành 2 thì học phí sẽ được tính như t...   \n",
       "..                                                 ...   \n",
       "165  Khi học học phần Tiếng Anh cuối cùng của chươn...   \n",
       "166  Sinh viên có vật giá trị trong cặp xách/ Balo ...   \n",
       "167  Các lỗi vi phạm khi Sinh viên ở ký túc xá có l...   \n",
       "168  Em ở Thành phố Hồ Chí Minh nhưng ở khu vực quậ...   \n",
       "169  Em thuộc diện con của cán bộ công đoàn thì đượ...   \n",
       "\n",
       "                                                answer  \\\n",
       "0    Trong thời gian đóng học phí theo thông báo củ...   \n",
       "1     Thời gian đổi biên lai học phí của từng học k...   \n",
       "2    Trong mỗi đợt thi MOS, Phòng Đại học có thông ...   \n",
       "3     Đầu năm khi làm thủ tục nhập học, sinh viên s...   \n",
       "4     Nếu sinh viên học ngành 2, mức học phí sẽ đượ...   \n",
       "..                                                 ...   \n",
       "165  Trong trường hợp sinh viên đủ điều kiện dự thi...   \n",
       "166          Qui định để đồ tại tầng hầm lửng của T...   \n",
       "167    Tùy theo số lần vi phạm và mức độ vi phạm củ...   \n",
       "168   Đối với sinh viên có hộ khẩu thường trú tại T...   \n",
       "169   Theo công văn hỗ trợ con em CBCĐ, mỗi tháng s...   \n",
       "\n",
       "                                        url                      group  \n",
       "0    https://tuvanhocduong.tdtu.edu.vn/News  Câu hỏi liên quan học phí  \n",
       "1    https://tuvanhocduong.tdtu.edu.vn/News  Câu hỏi liên quan học phí  \n",
       "2    https://tuvanhocduong.tdtu.edu.vn/News  Câu hỏi liên quan học phí  \n",
       "3    https://tuvanhocduong.tdtu.edu.vn/News  Câu hỏi liên quan học phí  \n",
       "4    https://tuvanhocduong.tdtu.edu.vn/News  Câu hỏi liên quan học phí  \n",
       "..                                      ...                        ...  \n",
       "165  https://tuvanhocduong.tdtu.edu.vn/News       Chương trình đào tạo  \n",
       "166  https://tuvanhocduong.tdtu.edu.vn/News       Chương trình đào tạo  \n",
       "167  https://tuvanhocduong.tdtu.edu.vn/News       Chương trình đào tạo  \n",
       "168  https://tuvanhocduong.tdtu.edu.vn/News       Chương trình đào tạo  \n",
       "169  https://tuvanhocduong.tdtu.edu.vn/News       Chương trình đào tạo  \n",
       "\n",
       "[170 rows x 4 columns]"
      ]
     },
     "execution_count": 13,
     "metadata": {},
     "output_type": "execute_result"
    }
   ],
   "source": [
    "df"
   ]
  },
  {
   "cell_type": "code",
   "execution_count": 52,
   "id": "02a771fa-500e-4de7-872d-4496914d85e5",
   "metadata": {},
   "outputs": [
    {
     "data": {
      "application/vnd.jupyter.widget-view+json": {
       "model_id": "61173bb1f6a64a6994d59c5640fb1895",
       "version_major": 2,
       "version_minor": 0
      },
      "text/plain": [
       "VBox(children=(HTML(value='<center> <img\\nsrc=https://huggingface.co/front/assets/huggingface_logo-noborder.sv…"
      ]
     },
     "metadata": {},
     "output_type": "display_data"
    }
   ],
   "source": [
    "from huggingface_hub import notebook_login\n",
    "\n",
    "notebook_login()"
   ]
  },
  {
   "cell_type": "code",
   "execution_count": 12,
   "id": "6a08a02a-e3d3-4b96-8210-b295e7fc67ea",
   "metadata": {},
   "outputs": [],
   "source": [
    "from datasets import Dataset\n",
    "\n",
    "# Assuming your DataFrame is called 'df'\n",
    "dataset = Dataset.from_pandas(df)"
   ]
  },
  {
   "cell_type": "code",
   "execution_count": 14,
   "id": "3eca37da-3521-4ba8-9327-75e7c9894c8a",
   "metadata": {},
   "outputs": [
    {
     "data": {
      "application/vnd.jupyter.widget-view+json": {
       "model_id": "3686bf0f08fe4781b67de5b5e885ad42",
       "version_major": 2,
       "version_minor": 0
      },
      "text/plain": [
       "Uploading the dataset shards:   0%|          | 0/1 [00:00<?, ?it/s]"
      ]
     },
     "metadata": {},
     "output_type": "display_data"
    },
    {
     "data": {
      "application/vnd.jupyter.widget-view+json": {
       "model_id": "ab6412404b434c79bbfb726c3ee10ba6",
       "version_major": 2,
       "version_minor": 0
      },
      "text/plain": [
       "Creating parquet from Arrow format:   0%|          | 0/1 [00:00<?, ?ba/s]"
      ]
     },
     "metadata": {},
     "output_type": "display_data"
    },
    {
     "data": {
      "text/plain": [
       "CommitInfo(commit_url='https://huggingface.co/datasets/BroDeadlines/QA.FQA_tu_van_hoc_duong/commit/accfd2196d2ced55a59050351773865b2064209e', commit_message='Upload dataset', commit_description='', oid='accfd2196d2ced55a59050351773865b2064209e', pr_url=None, pr_revision=None, pr_num=None)"
      ]
     },
     "execution_count": 14,
     "metadata": {},
     "output_type": "execute_result"
    }
   ],
   "source": [
    "# from datasets import push_to_hub\n",
    "\n",
    "# Replace with your Hub username and repository name\n",
    "repository_id = \"BroDeadlines/QA.FQA_tu_van_hoc_duong\"\n",
    "\n",
    "dataset.push_to_hub(repository_id)"
   ]
  },
  {
   "cell_type": "code",
   "execution_count": 15,
   "id": "4d64e606-c823-4cd9-9c49-82540831ac65",
   "metadata": {},
   "outputs": [
    {
     "data": {
      "text/plain": [
       "0      Trong thời gian đóng học phí theo thông báo củ...\n",
       "1       Thời gian đổi biên lai học phí của từng học k...\n",
       "2      Trong mỗi đợt thi MOS, Phòng Đại học có thông ...\n",
       "3       Đầu năm khi làm thủ tục nhập học, sinh viên s...\n",
       "4       Nếu sinh viên học ngành 2, mức học phí sẽ đượ...\n",
       "                             ...                        \n",
       "165    Trong trường hợp sinh viên đủ điều kiện dự thi...\n",
       "166            Qui định để đồ tại tầng hầm lửng của T...\n",
       "167      Tùy theo số lần vi phạm và mức độ vi phạm củ...\n",
       "168     Đối với sinh viên có hộ khẩu thường trú tại T...\n",
       "169     Theo công văn hỗ trợ con em CBCĐ, mỗi tháng s...\n",
       "Name: answer, Length: 170, dtype: object"
      ]
     },
     "execution_count": 15,
     "metadata": {},
     "output_type": "execute_result"
    }
   ],
   "source": [
    "df['answer']"
   ]
  },
  {
   "cell_type": "markdown",
   "id": "4b9c95fc-44f1-4b4b-a701-478c0a167c5b",
   "metadata": {},
   "source": [
    "# DATASET"
   ]
  },
  {
   "cell_type": "code",
   "execution_count": 2,
   "id": "b6d9a0da-48d8-4257-8b8c-b30844711081",
   "metadata": {},
   "outputs": [],
   "source": [
    "from datasets import load_dataset\n",
    "\n",
    "dataset = load_dataset(\"BroDeadlines/CRAWL.admission.tdtu.edu.vn_dai-hoc\")"
   ]
  },
  {
   "cell_type": "code",
   "execution_count": 2,
   "id": "2b6fef68-4d9f-45da-b062-6c0614d52773",
   "metadata": {},
   "outputs": [
    {
     "data": {
      "text/plain": [
       "{'train': ['url',\n",
       "  'html_name',\n",
       "  'skipped',\n",
       "  'markdown',\n",
       "  'text',\n",
       "  'batch',\n",
       "  'doc_id',\n",
       "  'split_markdown',\n",
       "  'slide_markdown']}"
      ]
     },
     "execution_count": 2,
     "metadata": {},
     "output_type": "execute_result"
    }
   ],
   "source": [
    "dataset.column_names"
   ]
  },
  {
   "cell_type": "code",
   "execution_count": 3,
   "id": "00699f2b-20d2-431c-a809-582e5b4f371c",
   "metadata": {},
   "outputs": [
    {
     "data": {
      "application/vnd.jupyter.widget-view+json": {
       "model_id": "faf8ad6e64544840828dadc0a33534b0",
       "version_major": 2,
       "version_minor": 0
      },
      "text/plain": [
       "Map:   0%|          | 0/223 [00:00<?, ? examples/s]"
      ]
     },
     "metadata": {},
     "output_type": "display_data"
    }
   ],
   "source": [
    "new_ds = []\n",
    "\n",
    "def prepare_ds(row):\n",
    "    a_row = {\"content\": row['text'], \"doc_id\": row['doc_id'], \"url\": row['url']}\n",
    "    new_ds.append(a_row)\n",
    "    return\n",
    "\n",
    "b_dataset = dataset.map(prepare_ds)"
   ]
  },
  {
   "cell_type": "code",
   "execution_count": 4,
   "id": "ed21bb82-f4cc-4c9c-b025-a7b63e691b6c",
   "metadata": {},
   "outputs": [
    {
     "data": {
      "text/html": [
       "<div>\n",
       "<style scoped>\n",
       "    .dataframe tbody tr th:only-of-type {\n",
       "        vertical-align: middle;\n",
       "    }\n",
       "\n",
       "    .dataframe tbody tr th {\n",
       "        vertical-align: top;\n",
       "    }\n",
       "\n",
       "    .dataframe thead th {\n",
       "        text-align: right;\n",
       "    }\n",
       "</style>\n",
       "<table border=\"1\" class=\"dataframe\">\n",
       "  <thead>\n",
       "    <tr style=\"text-align: right;\">\n",
       "      <th></th>\n",
       "      <th>content</th>\n",
       "      <th>doc_id</th>\n",
       "      <th>url</th>\n",
       "    </tr>\n",
       "  </thead>\n",
       "  <tbody>\n",
       "    <tr>\n",
       "      <th>0</th>\n",
       "      <td>Chương trình đại học bằng tiếng Anh | Tuyển si...</td>\n",
       "      <td>ebe45bee-13cc-11ef-b548-0242ac1c000c</td>\n",
       "      <td>https://admission.tdtu.edu.vn/dai-hoc/chuong-t...</td>\n",
       "    </tr>\n",
       "    <tr>\n",
       "      <th>1</th>\n",
       "      <td>Phương thức tuyển sinh năm 2024 | Tuyển sinh N...</td>\n",
       "      <td>ebe493c0-13cc-11ef-b548-0242ac1c000c</td>\n",
       "      <td>https://admission.tdtu.edu.vn/dai-hoc/tuyen-si...</td>\n",
       "    </tr>\n",
       "    <tr>\n",
       "      <th>2</th>\n",
       "      <td>Kết quả trúng tuyển đại học chính quy năm 2019...</td>\n",
       "      <td>ebe4af0e-13cc-11ef-b548-0242ac1c000c</td>\n",
       "      <td>https://admission.tdtu.edu.vn/dai-hoc/ket-qua-...</td>\n",
       "    </tr>\n",
       "    <tr>\n",
       "      <th>3</th>\n",
       "      <td>Thông báo tuyển sinh Đại học chính quy 2019 | ...</td>\n",
       "      <td>ebe4b79c-13cc-11ef-b548-0242ac1c000c</td>\n",
       "      <td>https://admission.tdtu.edu.vn/dai-hoc/thong-ba...</td>\n",
       "    </tr>\n",
       "    <tr>\n",
       "      <th>4</th>\n",
       "      <td>Tuyển thẳng năm 2018 | Tuyển sinh Nhảy đến nội...</td>\n",
       "      <td>ebe4bcc4-13cc-11ef-b548-0242ac1c000c</td>\n",
       "      <td>https://admission.tdtu.edu.vn/dai-hoc-chinh-qu...</td>\n",
       "    </tr>\n",
       "    <tr>\n",
       "      <th>...</th>\n",
       "      <td>...</td>\n",
       "      <td>...</td>\n",
       "      <td>...</td>\n",
       "    </tr>\n",
       "    <tr>\n",
       "      <th>218</th>\n",
       "      <td>Thông báo điểm trúng tuyển đại học và thủ tục ...</td>\n",
       "      <td>ebe8b658-13cc-11ef-b548-0242ac1c000c</td>\n",
       "      <td>https://admission.tdtu.edu.vn/dai-hoc/thong-ba...</td>\n",
       "    </tr>\n",
       "    <tr>\n",
       "      <th>219</th>\n",
       "      <td>Thông báo kết quả trúng tuyển có điều kiện của...</td>\n",
       "      <td>ebe8ba9a-13cc-11ef-b548-0242ac1c000c</td>\n",
       "      <td>https://admission.tdtu.edu.vn/dai-hoc/thong-ba...</td>\n",
       "    </tr>\n",
       "    <tr>\n",
       "      <th>220</th>\n",
       "      <td>Thông báo điểm trúng tuyển đại học và thủ tục ...</td>\n",
       "      <td>ebe8c292-13cc-11ef-b548-0242ac1c000c</td>\n",
       "      <td>https://admission.tdtu.edu.vn/dai-hoc/thong-ba...</td>\n",
       "    </tr>\n",
       "    <tr>\n",
       "      <th>221</th>\n",
       "      <td>Thông báo điểm trúng tuyển đại học và thủ tục ...</td>\n",
       "      <td>ebe8c68e-13cc-11ef-b548-0242ac1c000c</td>\n",
       "      <td>https://admission.tdtu.edu.vn/dai-hoc/thong-ba...</td>\n",
       "    </tr>\n",
       "    <tr>\n",
       "      <th>222</th>\n",
       "      <td>Danh mục ngành học | Tuyển sinh Nhảy đến nội d...</td>\n",
       "      <td>ebe8ca1c-13cc-11ef-b548-0242ac1c000c</td>\n",
       "      <td>https://admission.tdtu.edu.vn/dai-hoc/nganh-hoc</td>\n",
       "    </tr>\n",
       "  </tbody>\n",
       "</table>\n",
       "<p>223 rows × 3 columns</p>\n",
       "</div>"
      ],
      "text/plain": [
       "                                               content  \\\n",
       "0    Chương trình đại học bằng tiếng Anh | Tuyển si...   \n",
       "1    Phương thức tuyển sinh năm 2024 | Tuyển sinh N...   \n",
       "2    Kết quả trúng tuyển đại học chính quy năm 2019...   \n",
       "3    Thông báo tuyển sinh Đại học chính quy 2019 | ...   \n",
       "4    Tuyển thẳng năm 2018 | Tuyển sinh Nhảy đến nội...   \n",
       "..                                                 ...   \n",
       "218  Thông báo điểm trúng tuyển đại học và thủ tục ...   \n",
       "219  Thông báo kết quả trúng tuyển có điều kiện của...   \n",
       "220  Thông báo điểm trúng tuyển đại học và thủ tục ...   \n",
       "221  Thông báo điểm trúng tuyển đại học và thủ tục ...   \n",
       "222  Danh mục ngành học | Tuyển sinh Nhảy đến nội d...   \n",
       "\n",
       "                                   doc_id  \\\n",
       "0    ebe45bee-13cc-11ef-b548-0242ac1c000c   \n",
       "1    ebe493c0-13cc-11ef-b548-0242ac1c000c   \n",
       "2    ebe4af0e-13cc-11ef-b548-0242ac1c000c   \n",
       "3    ebe4b79c-13cc-11ef-b548-0242ac1c000c   \n",
       "4    ebe4bcc4-13cc-11ef-b548-0242ac1c000c   \n",
       "..                                    ...   \n",
       "218  ebe8b658-13cc-11ef-b548-0242ac1c000c   \n",
       "219  ebe8ba9a-13cc-11ef-b548-0242ac1c000c   \n",
       "220  ebe8c292-13cc-11ef-b548-0242ac1c000c   \n",
       "221  ebe8c68e-13cc-11ef-b548-0242ac1c000c   \n",
       "222  ebe8ca1c-13cc-11ef-b548-0242ac1c000c   \n",
       "\n",
       "                                                   url  \n",
       "0    https://admission.tdtu.edu.vn/dai-hoc/chuong-t...  \n",
       "1    https://admission.tdtu.edu.vn/dai-hoc/tuyen-si...  \n",
       "2    https://admission.tdtu.edu.vn/dai-hoc/ket-qua-...  \n",
       "3    https://admission.tdtu.edu.vn/dai-hoc/thong-ba...  \n",
       "4    https://admission.tdtu.edu.vn/dai-hoc-chinh-qu...  \n",
       "..                                                 ...  \n",
       "218  https://admission.tdtu.edu.vn/dai-hoc/thong-ba...  \n",
       "219  https://admission.tdtu.edu.vn/dai-hoc/thong-ba...  \n",
       "220  https://admission.tdtu.edu.vn/dai-hoc/thong-ba...  \n",
       "221  https://admission.tdtu.edu.vn/dai-hoc/thong-ba...  \n",
       "222    https://admission.tdtu.edu.vn/dai-hoc/nganh-hoc  \n",
       "\n",
       "[223 rows x 3 columns]"
      ]
     },
     "execution_count": 4,
     "metadata": {},
     "output_type": "execute_result"
    }
   ],
   "source": [
    "import pandas as pd\n",
    "new_df = pd.DataFrame(new_ds)\n",
    "new_df"
   ]
  },
  {
   "cell_type": "code",
   "execution_count": 9,
   "id": "bc30ce39-821f-4b89-ae0a-f689058cb524",
   "metadata": {},
   "outputs": [
    {
     "data": {
      "text/html": [
       "<div>\n",
       "<style scoped>\n",
       "    .dataframe tbody tr th:only-of-type {\n",
       "        vertical-align: middle;\n",
       "    }\n",
       "\n",
       "    .dataframe tbody tr th {\n",
       "        vertical-align: top;\n",
       "    }\n",
       "\n",
       "    .dataframe thead th {\n",
       "        text-align: right;\n",
       "    }\n",
       "</style>\n",
       "<table border=\"1\" class=\"dataframe\">\n",
       "  <thead>\n",
       "    <tr style=\"text-align: right;\">\n",
       "      <th></th>\n",
       "      <th>content</th>\n",
       "      <th>url</th>\n",
       "      <th>doc_id</th>\n",
       "    </tr>\n",
       "  </thead>\n",
       "  <tbody>\n",
       "    <tr>\n",
       "      <th>100</th>\n",
       "      <td>- Sinh viên phải xuất trình Chứng minh nhân d...</td>\n",
       "      <td>https://tuvanhocduong.tdtu.edu.vn/News</td>\n",
       "      <td>3369b8d4-1b47-11ef-a755-d38426455a06</td>\n",
       "    </tr>\n",
       "    <tr>\n",
       "      <th>157</th>\n",
       "      <td>Sinh viên niên chế: được cộng thêm 1 năm học ...</td>\n",
       "      <td>https://tuvanhocduong.tdtu.edu.vn/News</td>\n",
       "      <td>3369b8d5-1b47-11ef-a755-d38426455a06</td>\n",
       "    </tr>\n",
       "    <tr>\n",
       "      <th>111</th>\n",
       "      <td>Chứng chỉ MOS thi bằng tiếng Anh hay tiếng Vi...</td>\n",
       "      <td>https://tuvanhocduong.tdtu.edu.vn/News</td>\n",
       "      <td>3369b8d6-1b47-11ef-a755-d38426455a06</td>\n",
       "    </tr>\n",
       "    <tr>\n",
       "      <th>112</th>\n",
       "      <td>Sinh viên chuẩn bị hình thẻ 3x4 chuẩn Quốc tế ...</td>\n",
       "      <td>https://tuvanhocduong.tdtu.edu.vn/News</td>\n",
       "      <td>3369b8d7-1b47-11ef-a755-d38426455a06</td>\n",
       "    </tr>\n",
       "    <tr>\n",
       "      <th>43</th>\n",
       "      <td>-         Đối với bảng điểm không đóng dấu: em...</td>\n",
       "      <td>https://tuvanhocduong.tdtu.edu.vn/News</td>\n",
       "      <td>3369b8d8-1b47-11ef-a755-d38426455a06</td>\n",
       "    </tr>\n",
       "    <tr>\n",
       "      <th>152</th>\n",
       "      <td>Dành cho sinh viên khóa tuyển sinh năm 2020 tr...</td>\n",
       "      <td>https://tuvanhocduong.tdtu.edu.vn/News</td>\n",
       "      <td>3369b8d9-1b47-11ef-a755-d38426455a06</td>\n",
       "    </tr>\n",
       "    <tr>\n",
       "      <th>19</th>\n",
       "      <td>1.     Sinh viên học theo chương trình tiêu ch...</td>\n",
       "      <td>https://tuvanhocduong.tdtu.edu.vn/News</td>\n",
       "      <td>3369b8da-1b47-11ef-a755-d38426455a06</td>\n",
       "    </tr>\n",
       "    <tr>\n",
       "      <th>97</th>\n",
       "      <td>Thang điểm đạt tính theo chuẩn quốc tế MOS như...</td>\n",
       "      <td>https://tuvanhocduong.tdtu.edu.vn/News</td>\n",
       "      <td>3369b8db-1b47-11ef-a755-d38426455a06</td>\n",
       "    </tr>\n",
       "    <tr>\n",
       "      <th>159</th>\n",
       "      <td>Tín chỉ được sử dụng để  tính khối lượng ...</td>\n",
       "      <td>https://tuvanhocduong.tdtu.edu.vn/News</td>\n",
       "      <td>3369b8dc-1b47-11ef-a755-d38426455a06</td>\n",
       "    </tr>\n",
       "    <tr>\n",
       "      <th>104</th>\n",
       "      <td>Nếu Chứng minh nhân dân không hợp lệ em phải ...</td>\n",
       "      <td>https://tuvanhocduong.tdtu.edu.vn/News</td>\n",
       "      <td>3369b8dd-1b47-11ef-a755-d38426455a06</td>\n",
       "    </tr>\n",
       "    <tr>\n",
       "      <th>154</th>\n",
       "      <td>1.   Môn học bắt buộc\\n\\nĐây là các môn học tr...</td>\n",
       "      <td>https://tuvanhocduong.tdtu.edu.vn/News</td>\n",
       "      <td>3369b8de-1b47-11ef-a755-d38426455a06</td>\n",
       "    </tr>\n",
       "    <tr>\n",
       "      <th>105</th>\n",
       "      <td>Em có thể truy cập vào website https://www.cer...</td>\n",
       "      <td>https://tuvanhocduong.tdtu.edu.vn/News</td>\n",
       "      <td>3369b8df-1b47-11ef-a755-d38426455a06</td>\n",
       "    </tr>\n",
       "    <tr>\n",
       "      <th>28</th>\n",
       "      <td>Sinh viên có hoàn cảnh khó khăn không được va...</td>\n",
       "      <td>https://tuvanhocduong.tdtu.edu.vn/News</td>\n",
       "      <td>3369b8e0-1b47-11ef-a755-d38426455a06</td>\n",
       "    </tr>\n",
       "    <tr>\n",
       "      <th>3</th>\n",
       "      <td>Đầu năm khi làm thủ tục nhập học, sinh viên s...</td>\n",
       "      <td>https://tuvanhocduong.tdtu.edu.vn/News</td>\n",
       "      <td>3369b8e1-1b47-11ef-a755-d38426455a06</td>\n",
       "    </tr>\n",
       "    <tr>\n",
       "      <th>13</th>\n",
       "      <td>Khi giảng viên không đạt yêu cầu, si...</td>\n",
       "      <td>https://tuvanhocduong.tdtu.edu.vn/News</td>\n",
       "      <td>3369b8e2-1b47-11ef-a755-d38426455a06</td>\n",
       "    </tr>\n",
       "    <tr>\n",
       "      <th>142</th>\n",
       "      <td>Nhà trường sẽ tổ chức mở lớp ôn tập cho sinh v...</td>\n",
       "      <td>https://tuvanhocduong.tdtu.edu.vn/News</td>\n",
       "      <td>3369b8e3-1b47-11ef-a755-d38426455a06</td>\n",
       "    </tr>\n",
       "    <tr>\n",
       "      <th>79</th>\n",
       "      <td>Nếu sinh viên bị bệnh không thể học môn Bơi lộ...</td>\n",
       "      <td>https://tuvanhocduong.tdtu.edu.vn/News</td>\n",
       "      <td>3369b8e4-1b47-11ef-a755-d38426455a06</td>\n",
       "    </tr>\n",
       "    <tr>\n",
       "      <th>94</th>\n",
       "      <td>Em làm đơn phản ánh vấn đề trên, ghi rõ số điệ...</td>\n",
       "      <td>https://tuvanhocduong.tdtu.edu.vn/News</td>\n",
       "      <td>3369b8e5-1b47-11ef-a755-d38426455a06</td>\n",
       "    </tr>\n",
       "    <tr>\n",
       "      <th>141</th>\n",
       "      <td>Theo qui định hiện hành của Trường, sinh viên ...</td>\n",
       "      <td>https://tuvanhocduong.tdtu.edu.vn/News</td>\n",
       "      <td>3369b8e6-1b47-11ef-a755-d38426455a06</td>\n",
       "    </tr>\n",
       "    <tr>\n",
       "      <th>21</th>\n",
       "      <td>\\n\\nSinh viên có đăng ký học phần tiếng Anh c...</td>\n",
       "      <td>https://tuvanhocduong.tdtu.edu.vn/News</td>\n",
       "      <td>3369b8e7-1b47-11ef-a755-d38426455a06</td>\n",
       "    </tr>\n",
       "  </tbody>\n",
       "</table>\n",
       "</div>"
      ],
      "text/plain": [
       "                                               content  \\\n",
       "100   - Sinh viên phải xuất trình Chứng minh nhân d...   \n",
       "157   Sinh viên niên chế: được cộng thêm 1 năm học ...   \n",
       "111   Chứng chỉ MOS thi bằng tiếng Anh hay tiếng Vi...   \n",
       "112  Sinh viên chuẩn bị hình thẻ 3x4 chuẩn Quốc tế ...   \n",
       "43   -         Đối với bảng điểm không đóng dấu: em...   \n",
       "152  Dành cho sinh viên khóa tuyển sinh năm 2020 tr...   \n",
       "19   1.     Sinh viên học theo chương trình tiêu ch...   \n",
       "97   Thang điểm đạt tính theo chuẩn quốc tế MOS như...   \n",
       "159       Tín chỉ được sử dụng để  tính khối lượng ...   \n",
       "104   Nếu Chứng minh nhân dân không hợp lệ em phải ...   \n",
       "154  1.   Môn học bắt buộc\\n\\nĐây là các môn học tr...   \n",
       "105  Em có thể truy cập vào website https://www.cer...   \n",
       "28    Sinh viên có hoàn cảnh khó khăn không được va...   \n",
       "3     Đầu năm khi làm thủ tục nhập học, sinh viên s...   \n",
       "13             Khi giảng viên không đạt yêu cầu, si...   \n",
       "142  Nhà trường sẽ tổ chức mở lớp ôn tập cho sinh v...   \n",
       "79   Nếu sinh viên bị bệnh không thể học môn Bơi lộ...   \n",
       "94   Em làm đơn phản ánh vấn đề trên, ghi rõ số điệ...   \n",
       "141  Theo qui định hiện hành của Trường, sinh viên ...   \n",
       "21    \\n\\nSinh viên có đăng ký học phần tiếng Anh c...   \n",
       "\n",
       "                                        url  \\\n",
       "100  https://tuvanhocduong.tdtu.edu.vn/News   \n",
       "157  https://tuvanhocduong.tdtu.edu.vn/News   \n",
       "111  https://tuvanhocduong.tdtu.edu.vn/News   \n",
       "112  https://tuvanhocduong.tdtu.edu.vn/News   \n",
       "43   https://tuvanhocduong.tdtu.edu.vn/News   \n",
       "152  https://tuvanhocduong.tdtu.edu.vn/News   \n",
       "19   https://tuvanhocduong.tdtu.edu.vn/News   \n",
       "97   https://tuvanhocduong.tdtu.edu.vn/News   \n",
       "159  https://tuvanhocduong.tdtu.edu.vn/News   \n",
       "104  https://tuvanhocduong.tdtu.edu.vn/News   \n",
       "154  https://tuvanhocduong.tdtu.edu.vn/News   \n",
       "105  https://tuvanhocduong.tdtu.edu.vn/News   \n",
       "28   https://tuvanhocduong.tdtu.edu.vn/News   \n",
       "3    https://tuvanhocduong.tdtu.edu.vn/News   \n",
       "13   https://tuvanhocduong.tdtu.edu.vn/News   \n",
       "142  https://tuvanhocduong.tdtu.edu.vn/News   \n",
       "79   https://tuvanhocduong.tdtu.edu.vn/News   \n",
       "94   https://tuvanhocduong.tdtu.edu.vn/News   \n",
       "141  https://tuvanhocduong.tdtu.edu.vn/News   \n",
       "21   https://tuvanhocduong.tdtu.edu.vn/News   \n",
       "\n",
       "                                   doc_id  \n",
       "100  3369b8d4-1b47-11ef-a755-d38426455a06  \n",
       "157  3369b8d5-1b47-11ef-a755-d38426455a06  \n",
       "111  3369b8d6-1b47-11ef-a755-d38426455a06  \n",
       "112  3369b8d7-1b47-11ef-a755-d38426455a06  \n",
       "43   3369b8d8-1b47-11ef-a755-d38426455a06  \n",
       "152  3369b8d9-1b47-11ef-a755-d38426455a06  \n",
       "19   3369b8da-1b47-11ef-a755-d38426455a06  \n",
       "97   3369b8db-1b47-11ef-a755-d38426455a06  \n",
       "159  3369b8dc-1b47-11ef-a755-d38426455a06  \n",
       "104  3369b8dd-1b47-11ef-a755-d38426455a06  \n",
       "154  3369b8de-1b47-11ef-a755-d38426455a06  \n",
       "105  3369b8df-1b47-11ef-a755-d38426455a06  \n",
       "28   3369b8e0-1b47-11ef-a755-d38426455a06  \n",
       "3    3369b8e1-1b47-11ef-a755-d38426455a06  \n",
       "13   3369b8e2-1b47-11ef-a755-d38426455a06  \n",
       "142  3369b8e3-1b47-11ef-a755-d38426455a06  \n",
       "79   3369b8e4-1b47-11ef-a755-d38426455a06  \n",
       "94   3369b8e5-1b47-11ef-a755-d38426455a06  \n",
       "141  3369b8e6-1b47-11ef-a755-d38426455a06  \n",
       "21   3369b8e7-1b47-11ef-a755-d38426455a06  "
      ]
     },
     "execution_count": 9,
     "metadata": {},
     "output_type": "execute_result"
    }
   ],
   "source": [
    "import uuid\n",
    "\n",
    "relevant_docs = df.sample(20).drop(['question', \"group\"], axis=1)  # Specify axis=1 for columns\n",
    "relevant_docs = relevant_docs.rename(columns={'answer': 'content'})\n",
    "relevant_docs['doc_id'] = [str(uuid.uuid1()) for i in range(20)]\n",
    "\n",
    "relevant_docs"
   ]
  },
  {
   "cell_type": "code",
   "execution_count": 10,
   "id": "e287cfbc-a407-49df-b9a9-0223978cf281",
   "metadata": {},
   "outputs": [
    {
     "name": "stdout",
     "output_type": "stream",
     "text": [
      "(20, 3)\n"
     ]
    }
   ],
   "source": [
    "print(relevant_docs.shape)\n",
    "new_df = new_df.sample(80)"
   ]
  },
  {
   "cell_type": "code",
   "execution_count": 11,
   "id": "d24a9a2b-7533-44e4-8a32-692536e0fa36",
   "metadata": {},
   "outputs": [
    {
     "data": {
      "text/plain": [
       "(100, 3)"
      ]
     },
     "execution_count": 11,
     "metadata": {},
     "output_type": "execute_result"
    }
   ],
   "source": [
    "combine_df = pd.concat([relevant_docs, new_df], axis=0)\n",
    "\n",
    "combine_df.shape"
   ]
  },
  {
   "cell_type": "code",
   "execution_count": 12,
   "id": "4c5d0c28-7c07-415d-a39e-ad22c15b6e0a",
   "metadata": {},
   "outputs": [
    {
     "data": {
      "text/plain": [
       "content    Thông báo kết quả trúng tuyển phương thức xét ...\n",
       "url        https://admission.tdtu.edu.vn/dai-hoc/thong-ba...\n",
       "doc_id                  ebe8175c-13cc-11ef-b548-0242ac1c000c\n",
       "Name: 179, dtype: object"
      ]
     },
     "execution_count": 12,
     "metadata": {},
     "output_type": "execute_result"
    }
   ],
   "source": [
    "sample = combine_df.sample(5).iloc[0]\n",
    "sample"
   ]
  },
  {
   "cell_type": "code",
   "execution_count": 31,
   "id": "4443a5af-35dc-497b-af93-3393e00b0661",
   "metadata": {},
   "outputs": [
    {
     "name": "stdout",
     "output_type": "stream",
     "text": [
      "12329\n"
     ]
    },
    {
     "data": {
      "text/plain": [
       "23"
      ]
     },
     "execution_count": 31,
     "metadata": {},
     "output_type": "execute_result"
    }
   ],
   "source": [
    "slides = window_slide_split(sample['content'], step=50, chunk_size=1500)\n",
    "print(len(sample['content']))\n",
    "len(slides)"
   ]
  },
  {
   "cell_type": "code",
   "execution_count": 33,
   "id": "4eef27ff-b404-4be4-83c2-c42a6edb6b7b",
   "metadata": {},
   "outputs": [
    {
     "data": {
      "text/plain": [
       "1491"
      ]
     },
     "execution_count": 33,
     "metadata": {},
     "output_type": "execute_result"
    }
   ],
   "source": [
    "len(slides[0].split())"
   ]
  },
  {
   "cell_type": "code",
   "execution_count": 46,
   "id": "ded18457-bbe9-4c5e-bfbe-8d8350409ebb",
   "metadata": {},
   "outputs": [],
   "source": [
    "split_data = []\n",
    "for idx, row in combine_df.iterrows():\n",
    "    tmp = window_slide_split(row['content'], step=50, chunk_size=1500)\n",
    "    a_row = {\"shards\": len(tmp), \"splits\": tmp, \"doc_id\": row['doc_id']}\n",
    "    split_data.append(a_row)"
   ]
  },
  {
   "cell_type": "code",
   "execution_count": 48,
   "id": "2037c01c-6bbc-4725-ad4d-b3df303b5740",
   "metadata": {},
   "outputs": [
    {
     "data": {
      "text/plain": [
       "(100, 3)"
      ]
     },
     "execution_count": 48,
     "metadata": {},
     "output_type": "execute_result"
    }
   ],
   "source": [
    "split_data_df = pd.DataFrame(split_data)\n",
    "split_data_df.shape"
   ]
  },
  {
   "cell_type": "code",
   "execution_count": 49,
   "id": "b0bc43f8-cf19-4c90-bd29-2fd7d7fa5bb2",
   "metadata": {},
   "outputs": [],
   "source": [
    "\n",
    "df_joined = pd.merge(combine_df, split_data_df, on='doc_id')"
   ]
  },
  {
   "cell_type": "code",
   "execution_count": 55,
   "id": "b3c0cead-2f1e-45e0-8c0c-13efa671014f",
   "metadata": {},
   "outputs": [],
   "source": [
    "from datasets import Dataset\n",
    "\n",
    "# Assuming your DataFrame is called 'df'\n",
    "dataset_test = Dataset.from_pandas(df_joined)"
   ]
  },
  {
   "cell_type": "code",
   "execution_count": 56,
   "id": "55352327-26f6-4bb9-8e84-a7665ba9d51e",
   "metadata": {},
   "outputs": [
    {
     "data": {
      "application/vnd.jupyter.widget-view+json": {
       "model_id": "ecaeaea1caad4920b7a32eb9b8d9cd6f",
       "version_major": 2,
       "version_minor": 0
      },
      "text/plain": [
       "Uploading the dataset shards:   0%|          | 0/1 [00:00<?, ?it/s]"
      ]
     },
     "metadata": {},
     "output_type": "display_data"
    },
    {
     "data": {
      "application/vnd.jupyter.widget-view+json": {
       "model_id": "1795917c4e874132b63cf3da2c76bda6",
       "version_major": 2,
       "version_minor": 0
      },
      "text/plain": [
       "Creating parquet from Arrow format:   0%|          | 0/1 [00:00<?, ?ba/s]"
      ]
     },
     "metadata": {},
     "output_type": "display_data"
    },
    {
     "data": {
      "application/vnd.jupyter.widget-view+json": {
       "model_id": "1d8752c0be0146b4b091c1a0188c2a19",
       "version_major": 2,
       "version_minor": 0
      },
      "text/plain": [
       "README.md:   0%|          | 0.00/700 [00:00<?, ?B/s]"
      ]
     },
     "metadata": {},
     "output_type": "display_data"
    },
    {
     "data": {
      "text/plain": [
       "CommitInfo(commit_url='https://huggingface.co/datasets/BroDeadlines/TEST.basic_test_tdt_dataset/commit/55048b24914a5e3d8235ce3c08a95596efc36764', commit_message='Upload dataset', commit_description='', oid='55048b24914a5e3d8235ce3c08a95596efc36764', pr_url=None, pr_revision=None, pr_num=None)"
      ]
     },
     "execution_count": 56,
     "metadata": {},
     "output_type": "execute_result"
    }
   ],
   "source": [
    "# from datasets import push_to_hub\n",
    "\n",
    "# Replace with your Hub username and repository name\n",
    "repository_id = \"BroDeadlines/TEST.basic_test_tdt_dataset\"\n",
    "\n",
    "dataset_test.push_to_hub(repository_id)"
   ]
  },
  {
   "cell_type": "code",
   "execution_count": 57,
   "id": "3ffc1a73-c4cf-43bc-b993-e4cba737aaa0",
   "metadata": {},
   "outputs": [
    {
     "data": {
      "text/html": [
       "<div>\n",
       "<style scoped>\n",
       "    .dataframe tbody tr th:only-of-type {\n",
       "        vertical-align: middle;\n",
       "    }\n",
       "\n",
       "    .dataframe tbody tr th {\n",
       "        vertical-align: top;\n",
       "    }\n",
       "\n",
       "    .dataframe thead th {\n",
       "        text-align: right;\n",
       "    }\n",
       "</style>\n",
       "<table border=\"1\" class=\"dataframe\">\n",
       "  <thead>\n",
       "    <tr style=\"text-align: right;\">\n",
       "      <th></th>\n",
       "      <th>content</th>\n",
       "      <th>url</th>\n",
       "      <th>doc_id</th>\n",
       "      <th>shards</th>\n",
       "      <th>splits</th>\n",
       "    </tr>\n",
       "  </thead>\n",
       "  <tbody>\n",
       "    <tr>\n",
       "      <th>0</th>\n",
       "      <td>- Sinh viên phải xuất trình Chứng minh nhân d...</td>\n",
       "      <td>https://tuvanhocduong.tdtu.edu.vn/News</td>\n",
       "      <td>3369b8d4-1b47-11ef-a755-d38426455a06</td>\n",
       "      <td>1</td>\n",
       "      <td>[ - Sinh viên phải xuất trình Chứng minh nhân ...</td>\n",
       "    </tr>\n",
       "    <tr>\n",
       "      <th>1</th>\n",
       "      <td>Sinh viên niên chế: được cộng thêm 1 năm học ...</td>\n",
       "      <td>https://tuvanhocduong.tdtu.edu.vn/News</td>\n",
       "      <td>3369b8d5-1b47-11ef-a755-d38426455a06</td>\n",
       "      <td>1</td>\n",
       "      <td>[ Sinh viên niên chế: được cộng thêm 1 năm học...</td>\n",
       "    </tr>\n",
       "    <tr>\n",
       "      <th>2</th>\n",
       "      <td>Chứng chỉ MOS thi bằng tiếng Anh hay tiếng Vi...</td>\n",
       "      <td>https://tuvanhocduong.tdtu.edu.vn/News</td>\n",
       "      <td>3369b8d6-1b47-11ef-a755-d38426455a06</td>\n",
       "      <td>1</td>\n",
       "      <td>[ Chứng chỉ MOS thi bằng tiếng Anh hay tiếng V...</td>\n",
       "    </tr>\n",
       "    <tr>\n",
       "      <th>3</th>\n",
       "      <td>Sinh viên chuẩn bị hình thẻ 3x4 chuẩn Quốc tế ...</td>\n",
       "      <td>https://tuvanhocduong.tdtu.edu.vn/News</td>\n",
       "      <td>3369b8d7-1b47-11ef-a755-d38426455a06</td>\n",
       "      <td>1</td>\n",
       "      <td>[Sinh viên chuẩn bị hình thẻ 3x4 chuẩn Quốc tế...</td>\n",
       "    </tr>\n",
       "    <tr>\n",
       "      <th>4</th>\n",
       "      <td>-         Đối với bảng điểm không đóng dấu: em...</td>\n",
       "      <td>https://tuvanhocduong.tdtu.edu.vn/News</td>\n",
       "      <td>3369b8d8-1b47-11ef-a755-d38426455a06</td>\n",
       "      <td>1</td>\n",
       "      <td>[-         Đối với bảng điểm không đóng dấu: e...</td>\n",
       "    </tr>\n",
       "    <tr>\n",
       "      <th>...</th>\n",
       "      <td>...</td>\n",
       "      <td>...</td>\n",
       "      <td>...</td>\n",
       "      <td>...</td>\n",
       "      <td>...</td>\n",
       "    </tr>\n",
       "    <tr>\n",
       "      <th>95</th>\n",
       "      <td>Thông báo kết quả xét tuyển chương trình liên ...</td>\n",
       "      <td>https://admission.tdtu.edu.vn/dai-hoc-lien-ket...</td>\n",
       "      <td>ebe71618-13cc-11ef-b548-0242ac1c000c</td>\n",
       "      <td>1</td>\n",
       "      <td>[Thông báo kết quả xét tuyển chương trình liên...</td>\n",
       "    </tr>\n",
       "    <tr>\n",
       "      <th>96</th>\n",
       "      <td>Công nghệ kỹ thuật môi trường - Chuyên ngành C...</td>\n",
       "      <td>https://admission.tdtu.edu.vn/dai-hoc/nganh-ho...</td>\n",
       "      <td>ebe540e0-13cc-11ef-b548-0242ac1c000c</td>\n",
       "      <td>1</td>\n",
       "      <td>[Công nghệ kỹ thuật môi trường - Chuyên ngành ...</td>\n",
       "    </tr>\n",
       "    <tr>\n",
       "      <th>97</th>\n",
       "      <td>Thông báo tổ chức thi năng khiếu, năng lực tiế...</td>\n",
       "      <td>https://admission.tdtu.edu.vn/dai-hoc/thong-ba...</td>\n",
       "      <td>ebe62956-13cc-11ef-b548-0242ac1c000c</td>\n",
       "      <td>30</td>\n",
       "      <td>[Thông báo tổ chức thi năng khiếu, năng lực ti...</td>\n",
       "    </tr>\n",
       "    <tr>\n",
       "      <th>98</th>\n",
       "      <td>Công tác xã hội | Tuyển sinh Nhảy đến nội dung...</td>\n",
       "      <td>https://admission.tdtu.edu.vn/dai-hoc/nganh-ho...</td>\n",
       "      <td>ebe6a142-13cc-11ef-b548-0242ac1c000c</td>\n",
       "      <td>1</td>\n",
       "      <td>[Công tác xã hội | Tuyển sinh Nhảy đến nội dun...</td>\n",
       "    </tr>\n",
       "    <tr>\n",
       "      <th>99</th>\n",
       "      <td>Marketing | Tuyển sinh Nhảy đến nội dung x Tuy...</td>\n",
       "      <td>https://admission.tdtu.edu.vn/dai-hoc/nganh-ho...</td>\n",
       "      <td>ebe7612c-13cc-11ef-b548-0242ac1c000c</td>\n",
       "      <td>15</td>\n",
       "      <td>[Marketing | Tuyển sinh Nhảy đến nội dung x Tu...</td>\n",
       "    </tr>\n",
       "  </tbody>\n",
       "</table>\n",
       "<p>100 rows × 5 columns</p>\n",
       "</div>"
      ],
      "text/plain": [
       "                                              content  \\\n",
       "0    - Sinh viên phải xuất trình Chứng minh nhân d...   \n",
       "1    Sinh viên niên chế: được cộng thêm 1 năm học ...   \n",
       "2    Chứng chỉ MOS thi bằng tiếng Anh hay tiếng Vi...   \n",
       "3   Sinh viên chuẩn bị hình thẻ 3x4 chuẩn Quốc tế ...   \n",
       "4   -         Đối với bảng điểm không đóng dấu: em...   \n",
       "..                                                ...   \n",
       "95  Thông báo kết quả xét tuyển chương trình liên ...   \n",
       "96  Công nghệ kỹ thuật môi trường - Chuyên ngành C...   \n",
       "97  Thông báo tổ chức thi năng khiếu, năng lực tiế...   \n",
       "98  Công tác xã hội | Tuyển sinh Nhảy đến nội dung...   \n",
       "99  Marketing | Tuyển sinh Nhảy đến nội dung x Tuy...   \n",
       "\n",
       "                                                  url  \\\n",
       "0              https://tuvanhocduong.tdtu.edu.vn/News   \n",
       "1              https://tuvanhocduong.tdtu.edu.vn/News   \n",
       "2              https://tuvanhocduong.tdtu.edu.vn/News   \n",
       "3              https://tuvanhocduong.tdtu.edu.vn/News   \n",
       "4              https://tuvanhocduong.tdtu.edu.vn/News   \n",
       "..                                                ...   \n",
       "95  https://admission.tdtu.edu.vn/dai-hoc-lien-ket...   \n",
       "96  https://admission.tdtu.edu.vn/dai-hoc/nganh-ho...   \n",
       "97  https://admission.tdtu.edu.vn/dai-hoc/thong-ba...   \n",
       "98  https://admission.tdtu.edu.vn/dai-hoc/nganh-ho...   \n",
       "99  https://admission.tdtu.edu.vn/dai-hoc/nganh-ho...   \n",
       "\n",
       "                                  doc_id  shards  \\\n",
       "0   3369b8d4-1b47-11ef-a755-d38426455a06       1   \n",
       "1   3369b8d5-1b47-11ef-a755-d38426455a06       1   \n",
       "2   3369b8d6-1b47-11ef-a755-d38426455a06       1   \n",
       "3   3369b8d7-1b47-11ef-a755-d38426455a06       1   \n",
       "4   3369b8d8-1b47-11ef-a755-d38426455a06       1   \n",
       "..                                   ...     ...   \n",
       "95  ebe71618-13cc-11ef-b548-0242ac1c000c       1   \n",
       "96  ebe540e0-13cc-11ef-b548-0242ac1c000c       1   \n",
       "97  ebe62956-13cc-11ef-b548-0242ac1c000c      30   \n",
       "98  ebe6a142-13cc-11ef-b548-0242ac1c000c       1   \n",
       "99  ebe7612c-13cc-11ef-b548-0242ac1c000c      15   \n",
       "\n",
       "                                               splits  \n",
       "0   [ - Sinh viên phải xuất trình Chứng minh nhân ...  \n",
       "1   [ Sinh viên niên chế: được cộng thêm 1 năm học...  \n",
       "2   [ Chứng chỉ MOS thi bằng tiếng Anh hay tiếng V...  \n",
       "3   [Sinh viên chuẩn bị hình thẻ 3x4 chuẩn Quốc tế...  \n",
       "4   [-         Đối với bảng điểm không đóng dấu: e...  \n",
       "..                                                ...  \n",
       "95  [Thông báo kết quả xét tuyển chương trình liên...  \n",
       "96  [Công nghệ kỹ thuật môi trường - Chuyên ngành ...  \n",
       "97  [Thông báo tổ chức thi năng khiếu, năng lực ti...  \n",
       "98  [Công tác xã hội | Tuyển sinh Nhảy đến nội dun...  \n",
       "99  [Marketing | Tuyển sinh Nhảy đến nội dung x Tu...  \n",
       "\n",
       "[100 rows x 5 columns]"
      ]
     },
     "execution_count": 57,
     "metadata": {},
     "output_type": "execute_result"
    }
   ],
   "source": [
    "df_joined"
   ]
  }
 ],
 "metadata": {
  "kernelspec": {
   "display_name": "Python 3 (ipykernel)",
   "language": "python",
   "name": "python3"
  },
  "language_info": {
   "codemirror_mode": {
    "name": "ipython",
    "version": 3
   },
   "file_extension": ".py",
   "mimetype": "text/x-python",
   "name": "python",
   "nbconvert_exporter": "python",
   "pygments_lexer": "ipython3",
   "version": "3.9.18"
  }
 },
 "nbformat": 4,
 "nbformat_minor": 5
}
