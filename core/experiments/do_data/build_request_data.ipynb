{
 "cells": [
  {
   "cell_type": "code",
   "execution_count": 3,
   "id": "0888b6eb-f4eb-4fd7-af1b-a6b1d9690151",
   "metadata": {},
   "outputs": [
    {
     "name": "stdout",
     "output_type": "stream",
     "text": [
      "departments.csv  UEH-qa-1.json\t UEH-sub-2.json  UEH-sub-5.json  UE-qa-2.json\n",
      "mk_ques.csv\t UEH-qa-3.json\t UEH-sub-3.json  UEH-sub-6.json\n",
      "UEH-main.json\t UEH-sub-1.json  UEH-sub-4.json  UEH-sub-7.json\n"
     ]
    }
   ],
   "source": [
    "PATH = \"../../../../../KhoaData\" \n",
    "!ls {PATH}"
   ]
  },
  {
   "cell_type": "markdown",
   "id": "c6e41849-1f12-47dc-91ee-7698f9bf2db2",
   "metadata": {},
   "source": [
    "# TDT data"
   ]
  },
  {
   "cell_type": "code",
   "execution_count": 1,
   "id": "649b0357-399d-4194-b8dc-c4680866aa22",
   "metadata": {},
   "outputs": [],
   "source": [
    "from datasets import load_dataset\n",
    "\n",
    "QA = \"BroDeadlines/QA.TDT.FQA_tu_van_hoc_duong\"\n",
    "DS = \"BroDeadlines/CRAWL.TDT.mini.dai-hoc\"\n",
    "# qa = load_dataset(QA)\n",
    "# ds = load_dataset(DS, \"compact\")"
   ]
  },
  {
   "cell_type": "code",
   "execution_count": 2,
   "id": "1c6f8d59-65ec-4802-85f8-a4d26d82111d",
   "metadata": {},
   "outputs": [
    {
     "data": {
      "text/plain": [
       "DatasetDict({\n",
       "    train: Dataset({\n",
       "        features: ['url', 'html_name', 'skipped', 'text'],\n",
       "        num_rows: 399\n",
       "    })\n",
       "})"
      ]
     },
     "execution_count": 2,
     "metadata": {},
     "output_type": "execute_result"
    }
   ],
   "source": [
    "ds"
   ]
  },
  {
   "cell_type": "markdown",
   "id": "f22b1932-3512-4a31-8ce9-a2befda6b1ba",
   "metadata": {},
   "source": [
    "### New copora"
   ]
  },
  {
   "cell_type": "code",
   "execution_count": 4,
   "id": "5dddb716-fecd-4065-849a-86fcc1c19d2f",
   "metadata": {},
   "outputs": [
    {
     "data": {
      "text/plain": [
       "Dataset({\n",
       "    features: ['question', 'answer', 'url', 'group', 'doc_id', 'metadata'],\n",
       "    num_rows: 144\n",
       "})"
      ]
     },
     "execution_count": 4,
     "metadata": {},
     "output_type": "execute_result"
    }
   ],
   "source": [
    "qa['INDEX.medium_index_TDT']"
   ]
  },
  {
   "cell_type": "code",
   "execution_count": 18,
   "id": "8f23283f-3db7-40bb-b614-b179ffa2e644",
   "metadata": {},
   "outputs": [
    {
     "data": {
      "text/plain": [
       "DatasetDict({\n",
       "    train: Dataset({\n",
       "        features: ['url', 'content', 'metadata'],\n",
       "        num_rows: 399\n",
       "    })\n",
       "})"
      ]
     },
     "execution_count": 18,
     "metadata": {},
     "output_type": "execute_result"
    }
   ],
   "source": [
    "ads = ds.rename_column(\"text\", \"content\")\n",
    "ads = ads.map(lambda a: {**a, \"metadata\": \"\"})\n",
    "ads = ads.remove_columns(['html_name', \"skipped\"])\n",
    "ads"
   ]
  },
  {
   "cell_type": "code",
   "execution_count": 20,
   "id": "60dbfbe9-3bb8-43b7-8ff4-c9ba54379679",
   "metadata": {},
   "outputs": [
    {
     "data": {
      "application/vnd.jupyter.widget-view+json": {
       "model_id": "74f2ea89139e4243854228e4a9bac899",
       "version_major": 2,
       "version_minor": 0
      },
      "text/plain": [
       "Map:   0%|          | 0/399 [00:00<?, ? examples/s]"
      ]
     },
     "metadata": {},
     "output_type": "display_data"
    },
    {
     "data": {
      "text/plain": [
       "DatasetDict({\n",
       "    train: Dataset({\n",
       "        features: ['url', 'content', 'metadata', 'doc_id'],\n",
       "        num_rows: 399\n",
       "    })\n",
       "})"
      ]
     },
     "execution_count": 20,
     "metadata": {},
     "output_type": "execute_result"
    }
   ],
   "source": [
    "from uuid import uuid4\n",
    "ads = ads.map(lambda e: {**e, \"doc_id\": str(uuid4())})\n",
    "ads"
   ]
  },
  {
   "cell_type": "code",
   "execution_count": 8,
   "id": "48a2971a-d804-4d92-8411-6af1edc40d84",
   "metadata": {},
   "outputs": [
    {
     "data": {
      "text/plain": [
       "Dataset({\n",
       "    features: ['content', 'url', 'doc_id', 'metadata'],\n",
       "    num_rows: 144\n",
       "})"
      ]
     },
     "execution_count": 8,
     "metadata": {},
     "output_type": "execute_result"
    }
   ],
   "source": [
    "import json\n",
    "\n",
    "def reformat(row):\n",
    "    row['metadata'] = json.dumps({\"isQA\": True})\n",
    "    return row\n",
    "    \n",
    "aqa = qa['INDEX.medium_index_TDT'].map(reformat)\n",
    "aqa = aqa.remove_columns(['question', 'group'])\n",
    "aqa = aqa.rename_column(\"answer\", 'content')\n",
    "aqa"
   ]
  },
  {
   "cell_type": "code",
   "execution_count": 22,
   "id": "934106ea-787b-46ff-ba25-2d92b41cf0e7",
   "metadata": {},
   "outputs": [
    {
     "data": {
      "application/vnd.jupyter.widget-view+json": {
       "model_id": "4c8c91554d5447c9afbda4cf640bbb6f",
       "version_major": 2,
       "version_minor": 0
      },
      "text/plain": [
       "Uploading the dataset shards:   0%|          | 0/1 [00:00<?, ?it/s]"
      ]
     },
     "metadata": {},
     "output_type": "display_data"
    },
    {
     "data": {
      "application/vnd.jupyter.widget-view+json": {
       "model_id": "51a3679b38e24a45a999eb84ceb4d243",
       "version_major": 2,
       "version_minor": 0
      },
      "text/plain": [
       "Creating parquet from Arrow format:   0%|          | 0/1 [00:00<?, ?ba/s]"
      ]
     },
     "metadata": {},
     "output_type": "display_data"
    },
    {
     "data": {
      "application/vnd.jupyter.widget-view+json": {
       "model_id": "6f89064c18354115b944ef7f0ee5b773",
       "version_major": 2,
       "version_minor": 0
      },
      "text/plain": [
       "README.md:   0%|          | 0.00/873 [00:00<?, ?B/s]"
      ]
     },
     "metadata": {},
     "output_type": "display_data"
    },
    {
     "data": {
      "text/plain": [
       "CommitInfo(commit_url='https://huggingface.co/datasets/BroDeadlines/TEST.TDT.mini.tdt_copora_data/commit/c6ff13c3ebdda1d0041dc0f2eb59ed5e3ab3f59c', commit_message='Upload dataset', commit_description='', oid='c6ff13c3ebdda1d0041dc0f2eb59ed5e3ab3f59c', pr_url=None, pr_revision=None, pr_num=None)"
      ]
     },
     "execution_count": 22,
     "metadata": {},
     "output_type": "execute_result"
    }
   ],
   "source": [
    "from datasets import concatenate_datasets\n",
    "\n",
    "aads = concatenate_datasets([ads['train'], aqa])\n",
    "\n",
    "aads\n",
    "\n",
    "aads.push_to_hub(\"BroDeadlines/TEST.TDT.mini.tdt_copora_data\", \"compact\")"
   ]
  },
  {
   "cell_type": "markdown",
   "id": "45af2857-b745-4fe1-b8b1-6327edbdfbfa",
   "metadata": {
    "jp-MarkdownHeadingCollapsed": true
   },
   "source": [
    "## Remove to Compact"
   ]
  },
  {
   "cell_type": "code",
   "execution_count": 42,
   "id": "2dc9f481-1499-4d8d-9b1e-c19117749388",
   "metadata": {},
   "outputs": [
    {
     "data": {
      "application/vnd.jupyter.widget-view+json": {
       "model_id": "2c315ec4fed6418182e21cea5f40e6b5",
       "version_major": 2,
       "version_minor": 0
      },
      "text/plain": [
       "Filter:   0%|          | 0/422 [00:00<?, ? examples/s]"
      ]
     },
     "metadata": {},
     "output_type": "display_data"
    },
    {
     "data": {
      "text/plain": [
       "DatasetDict({\n",
       "    train: Dataset({\n",
       "        features: ['url', 'html_name', 'skipped', 'text'],\n",
       "        num_rows: 400\n",
       "    })\n",
       "})"
      ]
     },
     "execution_count": 42,
     "metadata": {},
     "output_type": "execute_result"
    }
   ],
   "source": [
    "removes = [\"enlabsafe\", \"clb\", \"tracuu\", \"hoc-bong\", \"ban-giam-hieu\", \n",
    "           \"hoi-dong\", \"don-vi\", \"so-lieu\", \"itc\", \"doi-nhom\", \"cham-dut\", \n",
    "           \"ChuyenDeTamLy\", \"hanh-chinh\", \"kiem-dinh\", \"thanh-tich\", \"student.tdtu.edu.vn/doi-\", \n",
    "           \"band\", \"kiem-dinh\", \"tuyen_dung\", \"aggregator\", \"fms\", \"law\"]\n",
    "filtered_dataset = ds\n",
    "for r in removes: \n",
    "    filtered_dataset = filtered_dataset.filter(lambda e: r not in e['url'])\n",
    "filtered_dataset"
   ]
  },
  {
   "cell_type": "code",
   "execution_count": 43,
   "id": "d29bda5e-2464-4412-9c37-b1a821dbd57a",
   "metadata": {},
   "outputs": [
    {
     "data": {
      "application/vnd.jupyter.widget-view+json": {
       "model_id": "ec4cc81db53d4de1be56865dc2ee995d",
       "version_major": 2,
       "version_minor": 0
      },
      "text/plain": [
       "Filter:   0%|          | 0/400 [00:00<?, ? examples/s]"
      ]
     },
     "metadata": {},
     "output_type": "display_data"
    },
    {
     "data": {
      "text/plain": [
       "DatasetDict({\n",
       "    train: Dataset({\n",
       "        features: ['url', 'html_name', 'skipped', 'text'],\n",
       "        num_rows: 399\n",
       "    })\n",
       "})"
      ]
     },
     "execution_count": 43,
     "metadata": {},
     "output_type": "execute_result"
    }
   ],
   "source": [
    "filtered_dataset = filtered_dataset.filter(lambda e: \"Javascript\" not in e['text'])\n",
    "filtered_dataset"
   ]
  },
  {
   "cell_type": "code",
   "execution_count": 44,
   "id": "21a39688-8989-4f03-a463-12dba3ad7b84",
   "metadata": {},
   "outputs": [
    {
     "data": {
      "text/plain": [
       "Dataset({\n",
       "    features: ['url', 'html_name', 'skipped', 'text'],\n",
       "    num_rows: 399\n",
       "})"
      ]
     },
     "execution_count": 44,
     "metadata": {},
     "output_type": "execute_result"
    }
   ],
   "source": [
    "import pandas as pd\n",
    "from datasets import Dataset\n",
    "\n",
    "df = pd.DataFrame(filtered_dataset['train'])\n",
    "df = df.drop_duplicates(subset=\"url\", keep='first')  # or 'last'\n",
    "fin_dataset = Dataset.from_pandas(df)\n",
    "fin_dataset"
   ]
  },
  {
   "cell_type": "code",
   "execution_count": 46,
   "id": "628c6896-72ce-4acf-be58-1f5728eb8b3c",
   "metadata": {},
   "outputs": [
    {
     "data": {
      "text/plain": [
       "DatasetDict({\n",
       "    train: Dataset({\n",
       "        features: ['url', 'html_name', 'skipped', 'text'],\n",
       "        num_rows: 399\n",
       "    })\n",
       "})"
      ]
     },
     "execution_count": 46,
     "metadata": {},
     "output_type": "execute_result"
    }
   ],
   "source": [
    "filtered_dataset"
   ]
  },
  {
   "cell_type": "code",
   "execution_count": 50,
   "id": "57d80b4f-964e-442b-9e0d-5dfada887067",
   "metadata": {},
   "outputs": [
    {
     "data": {
      "application/vnd.jupyter.widget-view+json": {
       "model_id": "97626dc290ad47118693a255f179d430",
       "version_major": 2,
       "version_minor": 0
      },
      "text/plain": [
       "Uploading the dataset shards:   0%|          | 0/1 [00:00<?, ?it/s]"
      ]
     },
     "metadata": {},
     "output_type": "display_data"
    },
    {
     "data": {
      "application/vnd.jupyter.widget-view+json": {
       "model_id": "ac7b87c9917940d99ba72f19bacae327",
       "version_major": 2,
       "version_minor": 0
      },
      "text/plain": [
       "Creating parquet from Arrow format:   0%|          | 0/1 [00:00<?, ?ba/s]"
      ]
     },
     "metadata": {},
     "output_type": "display_data"
    },
    {
     "data": {
      "application/vnd.jupyter.widget-view+json": {
       "model_id": "1755511161fa478c9699a301cd0c4d07",
       "version_major": 2,
       "version_minor": 0
      },
      "text/plain": [
       "README.md:   0%|          | 0.00/901 [00:00<?, ?B/s]"
      ]
     },
     "metadata": {},
     "output_type": "display_data"
    },
    {
     "data": {
      "text/plain": [
       "CommitInfo(commit_url='https://huggingface.co/datasets/BroDeadlines/CRAWL.TDT.mini.dai-hoc/commit/7d002cb223c64e87e44809887964c53d0df6e4d8', commit_message='Upload dataset', commit_description='', oid='7d002cb223c64e87e44809887964c53d0df6e4d8', pr_url=None, pr_revision=None, pr_num=None)"
      ]
     },
     "execution_count": 50,
     "metadata": {},
     "output_type": "execute_result"
    }
   ],
   "source": [
    "ds.push_to_hub(DS)"
   ]
  },
  {
   "cell_type": "code",
   "execution_count": 54,
   "id": "6cefeb1b-9efd-4f06-a8d0-7283033f7df2",
   "metadata": {},
   "outputs": [
    {
     "data": {
      "text/plain": [
       "'BroDeadlines/CRAWL.TDT.mini.dai-hoc'"
      ]
     },
     "execution_count": 54,
     "metadata": {},
     "output_type": "execute_result"
    }
   ],
   "source": [
    "DS"
   ]
  },
  {
   "cell_type": "code",
   "execution_count": 55,
   "id": "0f994c91-c40c-46a0-98fa-875563621cfa",
   "metadata": {},
   "outputs": [
    {
     "data": {
      "application/vnd.jupyter.widget-view+json": {
       "model_id": "9c50e13a726440168da9f53a3e48db4e",
       "version_major": 2,
       "version_minor": 0
      },
      "text/plain": [
       "Uploading the dataset shards:   0%|          | 0/1 [00:00<?, ?it/s]"
      ]
     },
     "metadata": {},
     "output_type": "display_data"
    },
    {
     "data": {
      "application/vnd.jupyter.widget-view+json": {
       "model_id": "ad1809c0332b41dab9475c05b26961b6",
       "version_major": 2,
       "version_minor": 0
      },
      "text/plain": [
       "Creating parquet from Arrow format:   0%|          | 0/1 [00:00<?, ?ba/s]"
      ]
     },
     "metadata": {},
     "output_type": "display_data"
    },
    {
     "data": {
      "text/plain": [
       "CommitInfo(commit_url='https://huggingface.co/datasets/BroDeadlines/CRAWL.TDT.mini.compact.dai-hoc/commit/fd8928cfd8ff968300ab9f66bbbcec2eca1b9e7e', commit_message='Upload dataset', commit_description='', oid='fd8928cfd8ff968300ab9f66bbbcec2eca1b9e7e', pr_url=None, pr_revision=None, pr_num=None)"
      ]
     },
     "execution_count": 55,
     "metadata": {},
     "output_type": "execute_result"
    }
   ],
   "source": [
    "filtered_dataset.push_to_hub('BroDeadlines/CRAWL.TDT.mini.compact.dai-hoc')"
   ]
  },
  {
   "cell_type": "markdown",
   "id": "b179b453-c33a-449a-a1e3-3a013f319473",
   "metadata": {},
   "source": [
    "# HUB data"
   ]
  },
  {
   "cell_type": "code",
   "execution_count": 2,
   "id": "9f2fa2e7-128a-4662-88cc-edb2720a5db0",
   "metadata": {},
   "outputs": [
    {
     "name": "stdout",
     "output_type": "stream",
     "text": [
      "(4687, 4)\n"
     ]
    },
    {
     "data": {
      "text/plain": [
       "(4618, 4)"
      ]
     },
     "execution_count": 2,
     "metadata": {},
     "output_type": "execute_result"
    }
   ],
   "source": [
    "import pandas as pd\n",
    "\n",
    "df = pd.read_json(\"~/Downloads/ts_hub_records.jsonl\", lines=True)\n",
    "\n",
    "print(df.shape)\n",
    "\n",
    "adf = df[df['content'].str.strip().str.len() > 0]\n",
    "adf.shape"
   ]
  },
  {
   "cell_type": "code",
   "execution_count": 3,
   "id": "f64c5a76-6ecc-463d-9699-dd3df0c68bb2",
   "metadata": {},
   "outputs": [],
   "source": [
    "import re\n",
    "\n",
    "def clean_txt(doc):\n",
    "  strips = [\"\\n{3,}\", \"\\s{3,}\", \"\\t{3, }\"]\n",
    "  replaces = [\"\\n\", \" \", \" \"]\n",
    "  for strip, replace in zip(strips, replaces):\n",
    "      doc = re.sub(strip, replace, doc)\n",
    "  return doc\n",
    "\n",
    "contents = adf['content'].apply(clean_txt)\n",
    "titles = adf['title'].apply(lambda e: e.strip())"
   ]
  },
  {
   "cell_type": "code",
   "execution_count": 4,
   "id": "6657c55e-a96e-4a99-a52b-f08c7549b940",
   "metadata": {},
   "outputs": [
    {
     "name": "stderr",
     "output_type": "stream",
     "text": [
      "/tmp/ipykernel_12913/3932715025.py:1: SettingWithCopyWarning: \n",
      "A value is trying to be set on a copy of a slice from a DataFrame.\n",
      "Try using .loc[row_indexer,col_indexer] = value instead\n",
      "\n",
      "See the caveats in the documentation: https://pandas.pydata.org/pandas-docs/stable/user_guide/indexing.html#returning-a-view-versus-a-copy\n",
      "  adf['title'] = titles\n",
      "/tmp/ipykernel_12913/3932715025.py:2: SettingWithCopyWarning: \n",
      "A value is trying to be set on a copy of a slice from a DataFrame.\n",
      "Try using .loc[row_indexer,col_indexer] = value instead\n",
      "\n",
      "See the caveats in the documentation: https://pandas.pydata.org/pandas-docs/stable/user_guide/indexing.html#returning-a-view-versus-a-copy\n",
      "  adf['content'] = contents\n"
     ]
    }
   ],
   "source": [
    "adf['title'] = titles\n",
    "adf['content'] = contents"
   ]
  },
  {
   "cell_type": "code",
   "execution_count": 5,
   "id": "b58f07e1-fc0c-4fd2-a295-25765087e7b4",
   "metadata": {},
   "outputs": [
    {
     "data": {
      "text/plain": [
       "(4618, 4)"
      ]
     },
     "execution_count": 5,
     "metadata": {},
     "output_type": "execute_result"
    }
   ],
   "source": [
    "df = adf.drop_duplicates()\n",
    "df.shape"
   ]
  },
  {
   "cell_type": "markdown",
   "id": "c4bae0f0-d512-4967-bfc3-f827cfd45f54",
   "metadata": {},
   "source": [
    "### Filter QA"
   ]
  },
  {
   "cell_type": "code",
   "execution_count": 11,
   "id": "fecd9459-2a99-4fce-8b6c-3f393d1227d2",
   "metadata": {},
   "outputs": [],
   "source": [
    "KEY = \"cau-hoi\"\n",
    "\n",
    "ddf = df[df['url'].str.contains(KEY)]\n",
    "adf = df[~df['url'].str.contains(KEY)]"
   ]
  },
  {
   "cell_type": "code",
   "execution_count": 14,
   "id": "26178166-a0aa-4f1d-9173-99447b34233c",
   "metadata": {},
   "outputs": [],
   "source": [
    "df = ddf\n",
    "df.shape"
   ]
  },
  {
   "cell_type": "code",
   "execution_count": 16,
   "id": "1fbcd1a8-b107-4ffb-83d3-14060636aa03",
   "metadata": {},
   "outputs": [],
   "source": [
    "choose = [\".2024\", \"9.2023\", \"8.2023\", \"7.2023\"]\n",
    "CHOOSES = \"|\".join(choose)\n",
    "\n",
    "ddf = df[df['content'].str.contains(CHOOSES)]\n",
    "adf = df[~df['content'].str.contains(CHOOSES)]"
   ]
  },
  {
   "cell_type": "code",
   "execution_count": 17,
   "id": "1da20c06-ef7a-4df0-a7a3-02fbd71b3925",
   "metadata": {},
   "outputs": [
    {
     "data": {
      "text/plain": [
       "(104, 4)"
      ]
     },
     "execution_count": 17,
     "metadata": {},
     "output_type": "execute_result"
    }
   ],
   "source": [
    "ddf.shape"
   ]
  },
  {
   "cell_type": "code",
   "execution_count": 22,
   "id": "6b9807b8-da13-4626-8516-a4c69ecaa679",
   "metadata": {},
   "outputs": [
    {
     "data": {
      "text/plain": [
       "(103, 4)"
      ]
     },
     "execution_count": 22,
     "metadata": {},
     "output_type": "execute_result"
    }
   ],
   "source": [
    "fdf = ddf.iloc[1: , :]\n",
    "fdf.shape"
   ]
  },
  {
   "cell_type": "code",
   "execution_count": 29,
   "id": "84521950-d27a-436b-9f6e-72a8d3e816d9",
   "metadata": {},
   "outputs": [
    {
     "data": {
      "text/plain": [
       "Index(['url', 'skipped', 'title', 'content'], dtype='object')"
      ]
     },
     "execution_count": 29,
     "metadata": {},
     "output_type": "execute_result"
    }
   ],
   "source": [
    "fdf.columns"
   ]
  },
  {
   "cell_type": "code",
   "execution_count": 27,
   "id": "af838759-09ce-40d2-be3c-489c7630d9f5",
   "metadata": {},
   "outputs": [
    {
     "data": {
      "text/plain": [
       "[' Nộp học bạ đầy đủ 3 năm là HK1, HK2 lớp 11 và HK1 lớp 12 đúng ko vậy ạ ',\n",
       " ' Chào em, Với phương thức xét tuyển tổng hợp (học bạ và thành tích bậc THPT) em nộp hồ sơ gồm: - Phiếu đăng ký xét tuyển (Sau khi đăng ký xét tuyển trực tuyến thành công, thí sinh in phiếu đăng ký và ký tên lên phiếu); -\\xa0\\nChứng minh nhân dân/Thẻ căn cước công dân (bản photo chứng thực); -\\xa0\\nChứng nhận đối tượng ưu tiên (bản photo chứng thực) (nếu có); - Chứng chỉ Tiếng Anh quốc tế (bản photo chứng thực) (nếu có); -\\xa0\\nGiấy chứng nhận đạt giải kỳ thi chọn học sinh giỏi, kỳ thi Olympic, Quốc gia, cấp tỉnh và thành phố trực t\\nhuộc trung ương (bản photo chứng thực) (nếu có); - Giấy xác nhận điểm hoặc bản sao học bạ cụ thể như sau: +\\xa0\\nTrường hợp thí sinh chưa tốt nghiệp THPT\\n: Nộp giấy xác nhận điểm có xác nhận của trường THPT (Mẫu giấy xác nhận điểm đính kèm tại thông báo).\\xa0\\nTrường sẽ yêu cầu thí sinh nộp Giấy chứng nhận tốt nghiệp tạm thời và học bạ đầy đủ 3 năm học THPT (bản photo chứng thực) và các hồ sơ khác theo quy định vào thời điểm trúng tuyển và làm thủ tục xác nhận nhập học. +\\xa0\\nTrường hợp thí sinh đã tốt nghiệp THPT năm 2023: Nộp bằng tốt nghiệp THPT và học bạ đầy đủ 3 năm học THPT (bản photo chứng thực). Như vậy, HUB yêu cầu thí sinh nộp học bạ đầy đủ 3 năm học là lớp 10, 11, 12 vào thời điểm nhập học (sau khi trúng tuyển). Còn ở bước nộp hồ sơ, trường hợp nộp bản sao công chứng học bạ, em chỉ cần nộp học bạ có đầy đủ điểm đến HK 1 lớp 12 là được em nhé. Em xem thêm thông tin chi tiết tại:\\xa0https://hub.edu.vn/tin-tuc-su-kien/thong-tin-tuyen-sinh-dai-hoc-chinh-quy-nam-2024-truong-dai-hoc-ngan-hang-tp-ho-chi-minh-du-kien-105793.html Cần hỗ trợ trực tiếp em có thể liên hệ: 0888 35 34 88 Trân trọng ./. ']"
      ]
     },
     "execution_count": 27,
     "metadata": {},
     "output_type": "execute_result"
    }
   ],
   "source": [
    "a = fdf.iloc[0]['content']\n",
    "aa = a.split(\"Trả lời:\")\n",
    "\n",
    "aa"
   ]
  },
  {
   "cell_type": "code",
   "execution_count": 37,
   "id": "579aecd3-18e7-497d-b158-6ca90dd54558",
   "metadata": {},
   "outputs": [],
   "source": [
    "QAs = []\n",
    "def build_QA(row):\n",
    "    d = row['content']\n",
    "    dd = d.split(\"Trả lời:\")\n",
    "    if len(dd) == 1:\n",
    "        dd = d.split(\"trả lời:\")\n",
    "    if len(dd) < 2:\n",
    "        print(f\"Error: {d}\")\n",
    "        return\n",
    "    data = {\n",
    "        \"url\": row['url'],\n",
    "        \"group\": row['title'],\n",
    "        \"question\": dd[0].replace(\"\\xa0\", \"\").strip(),\n",
    "        \"answer\": dd[1].replace(\"\\xa0\", \"\").strip()\n",
    "    }\n",
    "    QAs.append(data)\n",
    "    return data\n",
    "    "
   ]
  },
  {
   "cell_type": "code",
   "execution_count": 44,
   "id": "ea6a89ae-dff4-4c85-be0e-6adbb85f0c13",
   "metadata": {},
   "outputs": [
    {
     "data": {
      "text/plain": [
       "102"
      ]
     },
     "execution_count": 44,
     "metadata": {},
     "output_type": "execute_result"
    }
   ],
   "source": [
    "# [build_QA(r) for idx, r in fdf.iterrows()]\n",
    "\n",
    "len(QAs)"
   ]
  },
  {
   "cell_type": "markdown",
   "id": "4d0908dd-85fd-46b4-8c17-ec77109f6fc9",
   "metadata": {},
   "source": [
    "#### Swap"
   ]
  },
  {
   "cell_type": "code",
   "execution_count": 58,
   "id": "ff61987b-70c2-4ac0-b7dc-857e2c94a9db",
   "metadata": {},
   "outputs": [
    {
     "data": {
      "application/vnd.jupyter.widget-view+json": {
       "model_id": "b890482591ef47b2a6e8552406bbb28c",
       "version_major": 2,
       "version_minor": 0
      },
      "text/plain": [
       "Downloading readme:   0%|          | 0.00/372 [00:00<?, ?B/s]"
      ]
     },
     "metadata": {},
     "output_type": "display_data"
    },
    {
     "name": "stderr",
     "output_type": "stream",
     "text": [
      "Downloading data: 100%|████████████████████████████████████████| 39.3k/39.3k [00:00<00:00, 54.6kB/s]\n"
     ]
    },
    {
     "data": {
      "application/vnd.jupyter.widget-view+json": {
       "model_id": "bcf66d8f67ea4729baa87ab11cde3152",
       "version_major": 2,
       "version_minor": 0
      },
      "text/plain": [
       "Generating train split:   0%|          | 0/102 [00:00<?, ? examples/s]"
      ]
     },
     "metadata": {},
     "output_type": "display_data"
    },
    {
     "data": {
      "text/plain": [
       "DatasetDict({\n",
       "    train: Dataset({\n",
       "        features: ['url', 'group', 'question', 'answer'],\n",
       "        num_rows: 102\n",
       "    })\n",
       "})"
      ]
     },
     "execution_count": 58,
     "metadata": {},
     "output_type": "execute_result"
    }
   ],
   "source": [
    "repo = \"BroDeadlines/QA.HUB.QA_tu_van_tuyen_sinh\"\n",
    "from datasets import load_dataset\n",
    "\n",
    "ds = load_dataset(repo)\n",
    "ds"
   ]
  },
  {
   "cell_type": "code",
   "execution_count": 59,
   "id": "8b8b8f3a-2076-47fb-babd-336af31c195a",
   "metadata": {},
   "outputs": [
    {
     "data": {
      "application/vnd.jupyter.widget-view+json": {
       "model_id": "e08f78f789f64e4992611263be69b48f",
       "version_major": 2,
       "version_minor": 0
      },
      "text/plain": [
       "Map:   0%|          | 0/102 [00:00<?, ? examples/s]"
      ]
     },
     "metadata": {},
     "output_type": "display_data"
    },
    {
     "name": "stdout",
     "output_type": "stream",
     "text": [
      "SWAP\n"
     ]
    },
    {
     "data": {
      "text/plain": [
       "DatasetDict({\n",
       "    train: Dataset({\n",
       "        features: ['url', 'group', 'question', 'answer'],\n",
       "        num_rows: 102\n",
       "    })\n",
       "})"
      ]
     },
     "execution_count": 59,
     "metadata": {},
     "output_type": "execute_result"
    }
   ],
   "source": [
    "def swap(row):\n",
    "    g = row['group']\n",
    "    q = row['question']\n",
    "    if len(g) > len(q):\n",
    "        print(\"SWAP\")\n",
    "        row['question'] = g\n",
    "        row['group'] = q\n",
    "    return row\n",
    "\n",
    "ads = ds.map(swap)\n",
    "ads"
   ]
  },
  {
   "cell_type": "code",
   "execution_count": 60,
   "id": "40c87f90-1475-4ab1-aab2-384a6f6e4e47",
   "metadata": {},
   "outputs": [
    {
     "data": {
      "application/vnd.jupyter.widget-view+json": {
       "model_id": "02dab74119084bd190d77d1fcca83545",
       "version_major": 2,
       "version_minor": 0
      },
      "text/plain": [
       "Uploading the dataset shards:   0%|          | 0/1 [00:00<?, ?it/s]"
      ]
     },
     "metadata": {},
     "output_type": "display_data"
    },
    {
     "data": {
      "application/vnd.jupyter.widget-view+json": {
       "model_id": "2d91518069724aeb9545e6a6e8c35150",
       "version_major": 2,
       "version_minor": 0
      },
      "text/plain": [
       "Creating parquet from Arrow format:   0%|          | 0/1 [00:00<?, ?ba/s]"
      ]
     },
     "metadata": {},
     "output_type": "display_data"
    },
    {
     "data": {
      "application/vnd.jupyter.widget-view+json": {
       "model_id": "83d8ccaff6514e6c95371f8911d0f50e",
       "version_major": 2,
       "version_minor": 0
      },
      "text/plain": [
       "README.md:   0%|          | 0.00/372 [00:00<?, ?B/s]"
      ]
     },
     "metadata": {},
     "output_type": "display_data"
    },
    {
     "data": {
      "text/plain": [
       "CommitInfo(commit_url='https://huggingface.co/datasets/BroDeadlines/QA.HUB.QA_tu_van_tuyen_sinh/commit/8a463acd459a7dfab713dceae882674eb473f311', commit_message='Upload dataset', commit_description='', oid='8a463acd459a7dfab713dceae882674eb473f311', pr_url=None, pr_revision=None, pr_num=None)"
      ]
     },
     "execution_count": 60,
     "metadata": {},
     "output_type": "execute_result"
    }
   ],
   "source": [
    "ads.push_to_hub(repo)"
   ]
  },
  {
   "cell_type": "markdown",
   "id": "edb16a7e-17f0-415e-b30f-6be7142559b0",
   "metadata": {},
   "source": [
    "### Re-clean"
   ]
  },
  {
   "cell_type": "code",
   "execution_count": 52,
   "id": "a60708e7-7119-4013-85ab-2826620f06cc",
   "metadata": {},
   "outputs": [
    {
     "data": {
      "application/vnd.jupyter.widget-view+json": {
       "model_id": "f67c9a0ce1d7463e8970e5c4a290e44c",
       "version_major": 2,
       "version_minor": 0
      },
      "text/plain": [
       "Downloading readme:   0%|          | 0.00/422 [00:00<?, ?B/s]"
      ]
     },
     "metadata": {},
     "output_type": "display_data"
    },
    {
     "name": "stderr",
     "output_type": "stream",
     "text": [
      "Downloading data: 100%|███████████████████████████████████████████| 718k/718k [00:00<00:00, 741kB/s]\n"
     ]
    },
    {
     "data": {
      "application/vnd.jupyter.widget-view+json": {
       "model_id": "f00afe740d1f4acd8192db0752c0a035",
       "version_major": 2,
       "version_minor": 0
      },
      "text/plain": [
       "Generating train split:   0%|          | 0/316 [00:00<?, ? examples/s]"
      ]
     },
     "metadata": {},
     "output_type": "display_data"
    },
    {
     "data": {
      "text/plain": [
       "DatasetDict({\n",
       "    train: Dataset({\n",
       "        features: ['url', 'skipped', 'title', 'content', '__index_level_0__'],\n",
       "        num_rows: 316\n",
       "    })\n",
       "})"
      ]
     },
     "execution_count": 52,
     "metadata": {},
     "output_type": "execute_result"
    }
   ],
   "source": [
    "repo = \"BroDeadlines/CRAWL.HUB.tuyensinh.edu\"\n",
    "repo = \"BroDeadlines/CRAWL.HUB.mini.tuyensinh.edu\"\n",
    "from datasets import load_dataset\n",
    "\n",
    "ds = load_dataset(repo)\n",
    "ds"
   ]
  },
  {
   "cell_type": "code",
   "execution_count": 53,
   "id": "133c04bf-8fce-4852-947f-3379db06628b",
   "metadata": {},
   "outputs": [
    {
     "data": {
      "text/plain": [
       "DatasetDict({\n",
       "    train: Dataset({\n",
       "        features: ['url', 'skipped', 'title', 'content'],\n",
       "        num_rows: 316\n",
       "    })\n",
       "})"
      ]
     },
     "execution_count": 53,
     "metadata": {},
     "output_type": "execute_result"
    }
   ],
   "source": [
    "ds = ds.remove_columns([\"__index_level_0__\"])\n",
    "ds"
   ]
  },
  {
   "cell_type": "code",
   "execution_count": 54,
   "id": "47772498-38ca-4582-83a9-059a97be01d9",
   "metadata": {},
   "outputs": [],
   "source": [
    "def clean(row):\n",
    "    defect = \"\\xa0\"\n",
    "    row['title'] = row['title'].replace(defect,\"\").strip()\n",
    "    row['content'] = row['content'].replace(defect,\"\").strip()\n",
    "    row['isClean'] = True\n",
    "    return row"
   ]
  },
  {
   "cell_type": "code",
   "execution_count": 55,
   "id": "5fc8268d-43a7-4a8c-aaea-a4f4af68df40",
   "metadata": {},
   "outputs": [
    {
     "data": {
      "application/vnd.jupyter.widget-view+json": {
       "model_id": "a6dfcb6c26a24102a6e15edc74c9fbab",
       "version_major": 2,
       "version_minor": 0
      },
      "text/plain": [
       "Map:   0%|          | 0/316 [00:00<?, ? examples/s]"
      ]
     },
     "metadata": {},
     "output_type": "display_data"
    }
   ],
   "source": [
    "ads = ds.map(clean)"
   ]
  },
  {
   "cell_type": "code",
   "execution_count": 56,
   "id": "807db93e-3823-41ec-a3e3-f044c0f6f6e4",
   "metadata": {},
   "outputs": [
    {
     "data": {
      "text/plain": [
       "DatasetDict({\n",
       "    train: Dataset({\n",
       "        features: ['url', 'skipped', 'title', 'content'],\n",
       "        num_rows: 316\n",
       "    })\n",
       "})"
      ]
     },
     "execution_count": 56,
     "metadata": {},
     "output_type": "execute_result"
    }
   ],
   "source": [
    "ads = ads.remove_columns([\"isClean\"])\n",
    "ads"
   ]
  },
  {
   "cell_type": "code",
   "execution_count": 57,
   "id": "2d81944a-7ac8-4933-b358-bb1611e1b6dd",
   "metadata": {},
   "outputs": [
    {
     "name": "stdout",
     "output_type": "stream",
     "text": [
      "BroDeadlines/CRAWL.HUB.mini.tuyensinh.edu\n"
     ]
    },
    {
     "data": {
      "application/vnd.jupyter.widget-view+json": {
       "model_id": "10e0d07cfa4344bbb701e2108af5129b",
       "version_major": 2,
       "version_minor": 0
      },
      "text/plain": [
       "Uploading the dataset shards:   0%|          | 0/1 [00:00<?, ?it/s]"
      ]
     },
     "metadata": {},
     "output_type": "display_data"
    },
    {
     "data": {
      "application/vnd.jupyter.widget-view+json": {
       "model_id": "0024b5f2971e4f018e047291b3a175eb",
       "version_major": 2,
       "version_minor": 0
      },
      "text/plain": [
       "Creating parquet from Arrow format:   0%|          | 0/1 [00:00<?, ?ba/s]"
      ]
     },
     "metadata": {},
     "output_type": "display_data"
    },
    {
     "data": {
      "application/vnd.jupyter.widget-view+json": {
       "model_id": "756fc7aa2b4d4536a8aa128720b8f0b3",
       "version_major": 2,
       "version_minor": 0
      },
      "text/plain": [
       "README.md:   0%|          | 0.00/422 [00:00<?, ?B/s]"
      ]
     },
     "metadata": {},
     "output_type": "display_data"
    },
    {
     "data": {
      "text/plain": [
       "CommitInfo(commit_url='https://huggingface.co/datasets/BroDeadlines/CRAWL.HUB.mini.tuyensinh.edu/commit/15192f618ba0267d0a9ab7eada52c96455e49fa2', commit_message='Upload dataset', commit_description='', oid='15192f618ba0267d0a9ab7eada52c96455e49fa2', pr_url=None, pr_revision=None, pr_num=None)"
      ]
     },
     "execution_count": 57,
     "metadata": {},
     "output_type": "execute_result"
    }
   ],
   "source": [
    "print(repo)\n",
    "ads.push_to_hub(repo)"
   ]
  },
  {
   "cell_type": "markdown",
   "id": "85e851fc-e440-45f7-986a-3aa7eecf07fa",
   "metadata": {},
   "source": [
    "### Text copora"
   ]
  },
  {
   "cell_type": "code",
   "execution_count": 1,
   "id": "db9ad0f3-248a-457e-aafe-bb91c8d19879",
   "metadata": {},
   "outputs": [
    {
     "data": {
      "application/vnd.jupyter.widget-view+json": {
       "model_id": "d851204d8d5a49b5b1beb10ae72a63a2",
       "version_major": 2,
       "version_minor": 0
      },
      "text/plain": [
       "Downloading readme:   0%|          | 0.00/372 [00:00<?, ?B/s]"
      ]
     },
     "metadata": {},
     "output_type": "display_data"
    },
    {
     "name": "stderr",
     "output_type": "stream",
     "text": [
      "Downloading data: 100%|████████████████████████████████████████| 39.3k/39.3k [00:00<00:00, 41.4kB/s]\n"
     ]
    },
    {
     "data": {
      "application/vnd.jupyter.widget-view+json": {
       "model_id": "80d4a1934f5241019287177620db4b97",
       "version_major": 2,
       "version_minor": 0
      },
      "text/plain": [
       "Generating train split:   0%|          | 0/102 [00:00<?, ? examples/s]"
      ]
     },
     "metadata": {},
     "output_type": "display_data"
    },
    {
     "data": {
      "application/vnd.jupyter.widget-view+json": {
       "model_id": "1d84956bee224534b4641806a859a873",
       "version_major": 2,
       "version_minor": 0
      },
      "text/plain": [
       "Downloading readme:   0%|          | 0.00/377 [00:00<?, ?B/s]"
      ]
     },
     "metadata": {},
     "output_type": "display_data"
    },
    {
     "name": "stderr",
     "output_type": "stream",
     "text": [
      "Downloading data: 100%|███████████████████████████████████████████| 712k/712k [00:01<00:00, 628kB/s]\n"
     ]
    },
    {
     "data": {
      "application/vnd.jupyter.widget-view+json": {
       "model_id": "f7a79dd1da1f42ef9fbf28010f68866a",
       "version_major": 2,
       "version_minor": 0
      },
      "text/plain": [
       "Generating train split:   0%|          | 0/316 [00:00<?, ? examples/s]"
      ]
     },
     "metadata": {},
     "output_type": "display_data"
    },
    {
     "name": "stdout",
     "output_type": "stream",
     "text": [
      "DatasetDict({\n",
      "    train: Dataset({\n",
      "        features: ['url', 'group', 'question', 'answer'],\n",
      "        num_rows: 102\n",
      "    })\n",
      "})\n"
     ]
    },
    {
     "data": {
      "text/plain": [
       "DatasetDict({\n",
       "    train: Dataset({\n",
       "        features: ['url', 'skipped', 'title', 'content'],\n",
       "        num_rows: 316\n",
       "    })\n",
       "})"
      ]
     },
     "execution_count": 1,
     "metadata": {},
     "output_type": "execute_result"
    }
   ],
   "source": [
    "from uuid import uuid4\n",
    "from datasets import load_dataset\n",
    "qa_repo = \"BroDeadlines/QA.HUB.QA_tu_van_tuyen_sinh\"\n",
    "da_repo = \"BroDeadlines/CRAWL.HUB.mini.tuyensinh.edu\"\n",
    "\n",
    "qa_ds = load_dataset(qa_repo)\n",
    "da_ds = load_dataset(da_repo)\n",
    "\n",
    "print(qa_ds)\n",
    "da_ds"
   ]
  },
  {
   "cell_type": "code",
   "execution_count": 21,
   "id": "98cb1bfd-0e34-40bf-9808-7cf3c9e036ea",
   "metadata": {},
   "outputs": [],
   "source": [
    "def qa_to_ds(row):\n",
    "    data = {\n",
    "        \"title\": row['group'],\n",
    "        \"url\": row['url'],\n",
    "        \"doc_id\": row['doc_id']\n",
    "    }\n",
    "    content = row['answer']\n",
    "    removes = [\"Chào em,\", \"Chào em!\", \"Chào em\"]\n",
    "    for r in removes:\n",
    "        if r in content:\n",
    "            content = content.replace(r, \"\").strip()\n",
    "        if \"\\xa0\" in content:\n",
    "            print(\"ERROR\")\n",
    "    data['content'] = content\n",
    "    return data"
   ]
  },
  {
   "cell_type": "code",
   "execution_count": 22,
   "id": "b2c67bbd-38f1-4074-9d16-dda23c6c5e93",
   "metadata": {},
   "outputs": [
    {
     "name": "stdout",
     "output_type": "stream",
     "text": [
      "DatasetDict({\n",
      "    train: Dataset({\n",
      "        features: ['url', 'group', 'question', 'answer', 'doc_id'],\n",
      "        num_rows: 102\n",
      "    })\n",
      "})\n"
     ]
    },
    {
     "data": {
      "text/plain": [
       "DatasetDict({\n",
       "    train: Dataset({\n",
       "        features: ['url', 'skipped', 'title', 'content', 'doc_id'],\n",
       "        num_rows: 316\n",
       "    })\n",
       "})"
      ]
     },
     "execution_count": 22,
     "metadata": {},
     "output_type": "execute_result"
    }
   ],
   "source": [
    "print(qa_ds)\n",
    "da_ds"
   ]
  },
  {
   "cell_type": "code",
   "execution_count": 29,
   "id": "1777b49b-9add-49bf-a715-85b2fd3362c5",
   "metadata": {},
   "outputs": [
    {
     "data": {
      "text/plain": [
       "DatasetDict({\n",
       "    train: Dataset({\n",
       "        features: ['url', 'doc_id', 'title', 'content'],\n",
       "        num_rows: 102\n",
       "    })\n",
       "})"
      ]
     },
     "execution_count": 29,
     "metadata": {},
     "output_type": "execute_result"
    }
   ],
   "source": [
    "qa_ads = qa_ds.map(qa_to_ds)\n",
    "qa_ads = qa_ads.remove_columns(['group', 'question', 'answer'])\n",
    "qa_ads"
   ]
  },
  {
   "cell_type": "code",
   "execution_count": 31,
   "id": "6aa87056-3858-4aae-a98d-5f28680c8764",
   "metadata": {},
   "outputs": [
    {
     "data": {
      "text/plain": [
       "DatasetDict({\n",
       "    train: Dataset({\n",
       "        features: ['url', 'title', 'content', 'doc_id'],\n",
       "        num_rows: 316\n",
       "    })\n",
       "})"
      ]
     },
     "execution_count": 31,
     "metadata": {},
     "output_type": "execute_result"
    }
   ],
   "source": [
    "da_ads = da_ds.remove_columns(['skipped'])\n",
    "da_ads"
   ]
  },
  {
   "cell_type": "code",
   "execution_count": 33,
   "id": "aac1e83c-0a10-4ef3-b00c-9aedc38f32b1",
   "metadata": {},
   "outputs": [
    {
     "data": {
      "text/plain": [
       "Dataset({\n",
       "    features: ['url', 'doc_id', 'title', 'content'],\n",
       "    num_rows: 418\n",
       "})"
      ]
     },
     "execution_count": 33,
     "metadata": {},
     "output_type": "execute_result"
    }
   ],
   "source": [
    "from datasets import concatenate_datasets\n",
    "bds = concatenate_datasets([qa_ads['train'], da_ads['train']])\n",
    "\n",
    "bds"
   ]
  },
  {
   "cell_type": "code",
   "execution_count": 37,
   "id": "7769bf4c-3d99-4eb8-84c9-7bf0cceffa54",
   "metadata": {},
   "outputs": [
    {
     "data": {
      "application/vnd.jupyter.widget-view+json": {
       "model_id": "b28c7d7583354318a34f9bda69447875",
       "version_major": 2,
       "version_minor": 0
      },
      "text/plain": [
       "Uploading the dataset shards:   0%|          | 0/1 [00:00<?, ?it/s]"
      ]
     },
     "metadata": {},
     "output_type": "display_data"
    },
    {
     "data": {
      "application/vnd.jupyter.widget-view+json": {
       "model_id": "122207e48b53476da65d1b97678a60af",
       "version_major": 2,
       "version_minor": 0
      },
      "text/plain": [
       "Creating parquet from Arrow format:   0%|          | 0/1 [00:00<?, ?ba/s]"
      ]
     },
     "metadata": {},
     "output_type": "display_data"
    },
    {
     "data": {
      "text/plain": [
       "CommitInfo(commit_url='https://huggingface.co/datasets/BroDeadlines/TEST.HUB.mini.hub_copora_data/commit/616ecbb3c2e4d2e39a0918f66d2d113e545288ff', commit_message='Upload dataset', commit_description='', oid='616ecbb3c2e4d2e39a0918f66d2d113e545288ff', pr_url=None, pr_revision=None, pr_num=None)"
      ]
     },
     "execution_count": 37,
     "metadata": {},
     "output_type": "execute_result"
    }
   ],
   "source": [
    "shuf_bds = bds.shuffle(29)\n",
    "\n",
    "shuf_bds.push_to_hub(\"BroDeadlines/TEST.HUB.mini.hub_copora_data\")"
   ]
  },
  {
   "cell_type": "markdown",
   "id": "d0e07fbf-df67-4251-92cd-f85363a52f3f",
   "metadata": {},
   "source": [
    "### Push"
   ]
  },
  {
   "cell_type": "code",
   "execution_count": 39,
   "id": "122fc3a0-d4cf-4c66-a9b4-9786764ede2d",
   "metadata": {},
   "outputs": [
    {
     "name": "stdout",
     "output_type": "stream",
     "text": [
      "102\n"
     ]
    },
    {
     "data": {
      "text/plain": [
       "Dataset({\n",
       "    features: ['url', 'group', 'question', 'answer'],\n",
       "    num_rows: 102\n",
       "})"
      ]
     },
     "execution_count": 39,
     "metadata": {},
     "output_type": "execute_result"
    }
   ],
   "source": [
    "from datasets import Dataset\n",
    "print(len(QAs))\n",
    "ds = Dataset.from_list(QAs)\n",
    "\n",
    "ds"
   ]
  },
  {
   "cell_type": "code",
   "execution_count": 40,
   "id": "114231b0-c1c9-4339-9ea8-7b0b6345bf5d",
   "metadata": {},
   "outputs": [
    {
     "data": {
      "application/vnd.jupyter.widget-view+json": {
       "model_id": "71e3148e41dd4800bf164a7c70835ba0",
       "version_major": 2,
       "version_minor": 0
      },
      "text/plain": [
       "Uploading the dataset shards:   0%|          | 0/1 [00:00<?, ?it/s]"
      ]
     },
     "metadata": {},
     "output_type": "display_data"
    },
    {
     "data": {
      "application/vnd.jupyter.widget-view+json": {
       "model_id": "e073dd0a462b495f80b5ec3564137ccd",
       "version_major": 2,
       "version_minor": 0
      },
      "text/plain": [
       "Creating parquet from Arrow format:   0%|          | 0/1 [00:00<?, ?ba/s]"
      ]
     },
     "metadata": {},
     "output_type": "display_data"
    },
    {
     "data": {
      "text/plain": [
       "CommitInfo(commit_url='https://huggingface.co/datasets/BroDeadlines/QA.HUB.QA_tu_van_tuyen_sinh/commit/66914c1de91e2cf307b03949fafbbb4c33c5823a', commit_message='Upload dataset', commit_description='', oid='66914c1de91e2cf307b03949fafbbb4c33c5823a', pr_url=None, pr_revision=None, pr_num=None)"
      ]
     },
     "execution_count": 40,
     "metadata": {},
     "output_type": "execute_result"
    }
   ],
   "source": [
    "repo = \"BroDeadlines/QA.HUB.QA_tu_van_tuyen_sinh\"\n",
    "\n",
    "ds.push_to_hub(repo)"
   ]
  },
  {
   "cell_type": "code",
   "execution_count": 7,
   "id": "1748c1cc-1802-4492-8260-de069fe83088",
   "metadata": {},
   "outputs": [
    {
     "name": "stdout",
     "output_type": "stream",
     "text": [
      "Old:(4618, 4)\n"
     ]
    },
    {
     "data": {
      "text/plain": [
       "(316, 4)"
      ]
     },
     "execution_count": 7,
     "metadata": {},
     "output_type": "execute_result"
    }
   ],
   "source": [
    "print(f\"Old:{df.shape}\")\n",
    "adf.shape"
   ]
  },
  {
   "cell_type": "code",
   "execution_count": null,
   "id": "d8858e0c-5136-4526-a1a1-a2a5007cb123",
   "metadata": {},
   "outputs": [],
   "source": [
    "adf = adf[adf['url'].str.contains(\"\")]"
   ]
  },
  {
   "cell_type": "code",
   "execution_count": 30,
   "id": "8649a380-2802-47ea-8199-fcefb3006995",
   "metadata": {},
   "outputs": [
    {
     "data": {
      "text/plain": [
       "Dataset({\n",
       "    features: ['url', 'skipped', 'title', 'content', '__index_level_0__'],\n",
       "    num_rows: 316\n",
       "})"
      ]
     },
     "execution_count": 30,
     "metadata": {},
     "output_type": "execute_result"
    }
   ],
   "source": [
    "# adf = adf.drop(['__index_level_0__'])\n",
    "minids = Dataset.from_pandas(adf)\n",
    "minids"
   ]
  },
  {
   "cell_type": "code",
   "execution_count": 34,
   "id": "183c4861-adf7-4ff2-942d-22f5a7910ce3",
   "metadata": {},
   "outputs": [
    {
     "data": {
      "application/vnd.jupyter.widget-view+json": {
       "model_id": "53c94357ee4b4a51af24a0cdfb15072a",
       "version_major": 2,
       "version_minor": 0
      },
      "text/plain": [
       "Uploading the dataset shards:   0%|          | 0/1 [00:00<?, ?it/s]"
      ]
     },
     "metadata": {},
     "output_type": "display_data"
    },
    {
     "data": {
      "application/vnd.jupyter.widget-view+json": {
       "model_id": "cc66cd59a6e6473ba33a19227f424239",
       "version_major": 2,
       "version_minor": 0
      },
      "text/plain": [
       "Creating parquet from Arrow format:   0%|          | 0/1 [00:00<?, ?ba/s]"
      ]
     },
     "metadata": {},
     "output_type": "display_data"
    },
    {
     "data": {
      "text/plain": [
       "CommitInfo(commit_url='https://huggingface.co/datasets/BroDeadlines/CRAWL.HUB.mini.tuyensinh.edu/commit/e40753ee008fdb69b6e2a48c25aa7b59e8b924cb', commit_message='Upload dataset', commit_description='', oid='e40753ee008fdb69b6e2a48c25aa7b59e8b924cb', pr_url=None, pr_revision=None, pr_num=None)"
      ]
     },
     "execution_count": 34,
     "metadata": {},
     "output_type": "execute_result"
    }
   ],
   "source": [
    "repo = \"BroDeadlines/CRAWL.HUB.mini.tuyensinh.edu\"\n",
    "\n",
    "minids.push_to_hub(repo)"
   ]
  },
  {
   "cell_type": "markdown",
   "id": "49439bb6-372f-4858-b4c1-a5a89ca16656",
   "metadata": {},
   "source": [
    "# UEH data"
   ]
  },
  {
   "cell_type": "code",
   "execution_count": 2,
   "id": "55e82490-c17d-4058-944c-804c55319f07",
   "metadata": {},
   "outputs": [
    {
     "data": {
      "text/plain": [
       "['UEH-main.json',\n",
       " 'UEH-sub-1.json',\n",
       " 'UEH-sub-2.json',\n",
       " 'UEH-sub-3.json',\n",
       " 'UEH-sub-4.json',\n",
       " 'UEH-sub-5.json',\n",
       " 'UEH-sub-6.json',\n",
       " 'UEH-sub-7.json']"
      ]
     },
     "execution_count": 2,
     "metadata": {},
     "output_type": "execute_result"
    }
   ],
   "source": [
    "files = ['UEH-main.json', *[f\"UEH-sub-{i}.json\" for i in range(1,8)]]\n",
    "files"
   ]
  },
  {
   "cell_type": "code",
   "execution_count": 3,
   "id": "40691ecf-2118-4920-b97e-15d2f1f26348",
   "metadata": {},
   "outputs": [
    {
     "name": "stdout",
     "output_type": "stream",
     "text": [
      "(196, 3)\n",
      "(1, 3)\n",
      "(1, 3)\n",
      "(1, 3)\n",
      "(1, 3)\n",
      "(1, 3)\n",
      "(1, 3)\n",
      "(1, 3)\n"
     ]
    }
   ],
   "source": [
    "import pandas as pd\n",
    "fin_df = None\n",
    "for f in files:\n",
    "    df = pd.read_json(f\"{PATH}/{f}\")\n",
    "    print(df.shape)\n",
    "    if fin_df is None:\n",
    "        fin_df = df\n",
    "    else:\n",
    "        fin_df = pd.concat([fin_df, df])"
   ]
  },
  {
   "cell_type": "code",
   "execution_count": 4,
   "id": "41ccceec-01a3-44c5-8754-47c77eef5ca0",
   "metadata": {},
   "outputs": [],
   "source": [
    "REMOVES = [\"CHỌN HỆ ĐÀO TẠO\\nSkip to content\\n\", \"n\\nTin, ảnh, video: Phân hiệu Vĩnh Long\\n\\nTrang chủ\\nTư vấn trước nhập học\\nĐăng ký nhập học\\nĐịnh hướng sau nhập học\\nTư vấn Chương trình đào tạo\\nTư vấn qua điện thoại, email\\nTham quan UEH\\nKhám phá UEH\\nUEH Shop\\nWe love UEH (video)\\nNhịp sống sinh viên\\n360 UEH\\nUEH Green Campus\\nBản tin UEH\\nUEH Hotel\\n\\n© Copyright Đại học Kinh tế TP. Hồ Chí Minh\"]\n"
   ]
  },
  {
   "cell_type": "code",
   "execution_count": 17,
   "id": "754b818b-9f28-49e6-ac68-30e6f3ef3807",
   "metadata": {},
   "outputs": [],
   "source": [
    "import re\n",
    "\n",
    "def clean_txt(doc):\n",
    "  strips = [\"\\n{3,}\", \"\\s{3,}\", \"\\t{3, }\"]\n",
    "  replaces = [\"\\n\\n\", \"\\n\\n\", \" \"]\n",
    "  for strip, replace in zip(strips, replaces):\n",
    "      doc = re.sub(strip, replace, doc)\n",
    "  return doc\n",
    "\n",
    "def clean(txt):\n",
    "    for r in REMOVES:\n",
    "        txt = txt.replace(r, \"\")\n",
    "        txt = txt.replace(u'\\xa0', u' ')\n",
    "        txt = clean_txt(txt)\n",
    "    return txt.strip()\n",
    "    \n",
    "clean_txts = fin_df['html'].apply(clean)"
   ]
  },
  {
   "cell_type": "code",
   "execution_count": 19,
   "id": "d2928aee-81bf-4e2f-8fd5-5f17b4d156f4",
   "metadata": {
    "scrolled": true
   },
   "outputs": [
    {
     "name": "stdout",
     "output_type": "stream",
     "text": [
      "| BƯỚC 1\n",
      "| BƯỚC 2\n",
      "| BƯỚC 3\n",
      "| BƯỚC 4\n",
      "hòa nhập ueh\n",
      "\n",
      "#gap-559077276 {\n",
      "\n",
      "padding-top: 10px;\n",
      "}\n",
      "\n",
      "ĐÓNG LỆ PHÍ XÉT TUYỂN\n",
      "Sinh viên đã thực hiện đóng lệ phí bỏ qua bước này.\n",
      "Sinh viên thực hiện đóng lệ phí, hạn chót ngày 16/8/2024, theo 1 trong 2 cách sau:\n",
      "Cách 1 (khuyến nghị áp dụng): \n",
      "– Truy cập link https://xettuyendaihoc.ueh.edu.vn/lttc-vlvh\n",
      "– Chọn “Kê khai hồ sơ”; đăng nhập theo thông tin đã kê khai.\n",
      "– Chọn “Nộp tiền Online”, nằm ở cuối trang, dòng tô màu xanh.\n",
      "Cách 2\n",
      "– Truy cập link go.ueh.edu.vn/phixettuyenVLVH\n",
      "– Nhập “Mã hồ sơ” thí sinh đã được nhận qua email, bấm “Tìm”.\n",
      "– Bấm “Tiếp tục”\n",
      "– Bước 2: Đánh dấu (check) vào mục điều kiện thanh toán “Tôi đã đọc kỹ và tuân thủ…”\n",
      "– Chọn Phương thức thanh toán, bấm “Payoo” để thực hiện thanh toán.\n",
      "\n",
      "Mọi thắc mắc vui lòng gửi đến email tuyensinhvlvh@ueh.edu.vn\n",
      "\n",
      "#gap-1625639550 {\n",
      "\n",
      "padding-top: 10px;\n",
      "}\n",
      "\n",
      "Đóng học phí\n",
      "Sinh viên thực hiện đóng học phí theo thời hạn đã thông tin trong thông báo trúng tuyển, thực hiện đóng học phí theo 1 trong 2 cách sau:\n",
      "Cách 1 (khuyến nghị áp dụng): Đóng học phí thông qua cổng thanh toán trực tuyến https://payment.ueh.edu.vn/\n",
      "– Chọn mục Học phí tín chỉ, bấm “Xem thêm”;\n",
      "– Chọn đợt thu: “Thu học phí tín chỉ hệ Vừa làm vừa học”,\n",
      "\n",
      "Bước 1: Nhập Mã sinh viên (tra cứu trong danh sách trúng tuyển), bấm “Tìm”,\n",
      "\n",
      "Bấm “Tiếp tục”\n",
      "\n",
      "Bước 2: Đánh dấu (check) vào mục điều kiện thanh toán “Tôi đã đọc kỹ và tuân thủ…”\n",
      "– Chọn Phương thức thanh toán, bấm “Payoo” để thực hiện thanh toán.\n",
      "Cách 2: Sinh viên nộp học phí bằng hình thức chuyển khoản theo thông tin cụ thể như sau:\n",
      "– Tên tài khoản:\n",
      "\n",
      "Đại học Kinh tế Thành phố Hồ Chí Minh\n",
      "– Số tài khoản:\n",
      "\n",
      "0036100000119009\n",
      "– Tên ngân hàng:\n",
      "\n",
      "Ngân hàng TMCP Phương Đông – Chi nhánh Gia Định\n",
      "– Nội dung:\n",
      "\n",
      "<Họ tên>, <MSSV>, <nộp học phí học kỳ đầu năm 2024>\n",
      "Lưu ý: Thông tin mã sinh viên xem trong danh sách trúng tuyển.\n",
      "Thông tin học phí xem tại link.\n",
      "Mọi thắc mắc vui lòng gửi đến email tuyensinhvlvh@ueh.edu.vn\n",
      "\n",
      "CHUẨN BỊ HỒ SƠ NHẬP HỌC\n",
      "Hồ sơ nhập học gồm có:\n",
      "– Hồ sơ sinh viên (In trong tài khoản đăng ký);\n",
      "– Phiếu thông tin sinh viên LTTCVLVH (In trong tài khoản đăng ký);\n",
      "– 02 (hai) Bản sao (photo công chứng) bằng tốt nghiệp Trung cấp;\n",
      "– 02 (hai) Bản sao (photo công chứng) bằng tốt nghiệp THPT;\n",
      "– 01 (một) Bản sao (photo công chứng) kết quả học tập, ghi rõ tên môn học, số tín chỉ, điểm từng môn;\n",
      "– 01 (một) Bản sao (photo công chứng) giấy khai sinh (hoặc CMND/CCCD có đầy đủ ngày tháng năm sinh);\n",
      "Lưu ý: \n",
      "– Thí sinh chỉ cần chuẩn bị các loại giấy tờ trên, không cần chuẩn bị bìa hồ sơ.\n",
      "– Thí sinh sử dụng CMND/CCCD và email khi đăng ký xét tuyển, đăng nhập website: https://tuyensinhvb2dhcq.ueh.edu.vn/ in Phiếu thông tin (dành cho thí sinh đã trúng tuyển), dòng màu cam ở cuối trang:\n",
      "+ Hồ sơ sinh viên: Thí sinh chỉ ký tên và dán ảnh. Không xin xác nhận của cơ quan, tổ chức có thẩm quyền trên giấy này.\n",
      "+ Phiếu thông tin sinh viên: thí sinh ký tên, dán ảnh và xác nhận tại cơ quan, tổ chức có thẩm quyền (UBND Phường/Xã hoặc văn phòng công chứng).\n",
      "– Thí sinh tốt nghiệp trường quốc tế cần nộp văn bằng và bảng điểm tiếng Việt, kèm Giấy chứng nhận của Cục quản lý chất lượng, Bộ Giáo dục và Đào tạo (tham khảo tại https://naric.edu.vn/).\n",
      "Mọi thắc mắc vui lòng gửi đến email tuyensinh@ueh.edu.vn\n",
      "\n",
      "#gap-1570853863 {\n",
      "\n",
      "padding-top: 10px;\n",
      "}\n",
      "\n",
      "NỘP HỒ SƠ NHẬP HỌC\n",
      "Sinh viên thực hiện nộp hồ sơ nhập học từ ngày 25/9/2024 đến hết ngày 27/9/2024.\n",
      "– Thời gian: Buổi sáng từ 07g30 đến 11g00; chiều từ 13g30 đến 16g00.\n",
      "– Địa điểm: Ban Đào tạo, A0.14 – Tầng trệt, 59C Nguyễn Đình Chiểu, Quận 3, TP.HCM.\n",
      "Mọi thắc mắc vui lòng gửi đến email tuyensinhvlvh@ueh.edu.vn\n",
      "\n",
      "#gap-1767971897 {\n",
      "\n",
      "padding-top: 10px;\n",
      "}\n",
      "\n",
      "Sau khi hoàn tất thủ tục nhập học, các bạn đã chính thức trở thành Tân sinh viên của Đại học Kinh tế Thành phố Hồ Chí Minh, là thành viên của Đại gia đình UEH. Các bạn sinh viên nên tìm hiểu thêm nhiều điều thú vị hoạt động thú vị liên quan đến hành trang học tập, hoạt động rèn luyện, về những dịch vụ hỗ trợ – chăm sóc người học cùng những hoạt động nghiên cứu khoa học, … thông qua chuyên mục “Tư vấn sau nhập học”.\n",
      "Để khép lại hành trình khám phá Platform với nhiều nội dung hữu ích, chào mừng bạn tham quan và trải nghiệm các cơ sở của Đại học Kinh tế Thành phố Hồ Chí Minh qua không gian thực tế ảo UEH Virtual tour 360 độ qua mục “Tham quan UEH” để có thể trải nghiệm và chứng kiến một cách chân thực về ngôi trường UEH.\n"
     ]
    }
   ],
   "source": [
    "print(clean_txts.iloc[-1])"
   ]
  },
  {
   "cell_type": "markdown",
   "id": "0f12c453-0a48-4623-b3b7-1b908f9a3114",
   "metadata": {},
   "source": [
    "## Upload data"
   ]
  },
  {
   "cell_type": "code",
   "execution_count": 21,
   "id": "26e75db1-f26f-41c1-821c-fe479d7a97d8",
   "metadata": {},
   "outputs": [
    {
     "data": {
      "text/plain": [
       "Dataset({\n",
       "    features: ['title', 'url', 'html', '__index_level_0__'],\n",
       "    num_rows: 203\n",
       "})"
      ]
     },
     "execution_count": 21,
     "metadata": {},
     "output_type": "execute_result"
    }
   ],
   "source": [
    "from datasets import Dataset\n",
    "\n",
    "ds = Dataset.from_pandas(fin_df)\n",
    "\n",
    "ds"
   ]
  },
  {
   "cell_type": "code",
   "execution_count": 22,
   "id": "52320b58-0351-41d5-8675-52c31000f0d1",
   "metadata": {},
   "outputs": [
    {
     "data": {
      "application/vnd.jupyter.widget-view+json": {
       "model_id": "746511b84de74f119af3457038319e3f",
       "version_major": 2,
       "version_minor": 0
      },
      "text/plain": [
       "Map:   0%|          | 0/203 [00:00<?, ? examples/s]"
      ]
     },
     "metadata": {},
     "output_type": "display_data"
    },
    {
     "data": {
      "text/plain": [
       "Dataset({\n",
       "    features: ['title', 'url', 'html', '__index_level_0__', 'content', 'doc_id'],\n",
       "    num_rows: 203\n",
       "})"
      ]
     },
     "execution_count": 22,
     "metadata": {},
     "output_type": "execute_result"
    }
   ],
   "source": [
    "from uuid import uuid4\n",
    "\n",
    "def format(row):\n",
    "    txt = row['html']\n",
    "    row['content'] = clean(txt)\n",
    "    row['doc_id'] = str(uuid4())\n",
    "    return row\n",
    "\n",
    "ads = ds.map(format)\n",
    "\n",
    "ads"
   ]
  },
  {
   "cell_type": "code",
   "execution_count": 24,
   "id": "a5641e00-9184-40d6-9068-819189909922",
   "metadata": {},
   "outputs": [
    {
     "data": {
      "text/plain": [
       "Dataset({\n",
       "    features: ['title', 'url', 'html', 'content', 'doc_id'],\n",
       "    num_rows: 203\n",
       "})"
      ]
     },
     "execution_count": 24,
     "metadata": {},
     "output_type": "execute_result"
    }
   ],
   "source": [
    "ads = ads.remove_columns(['__index_level_0__'])\n",
    "ads"
   ]
  },
  {
   "cell_type": "code",
   "execution_count": 25,
   "id": "274410f3-fac7-472d-b819-2aebf23b082f",
   "metadata": {},
   "outputs": [
    {
     "data": {
      "application/vnd.jupyter.widget-view+json": {
       "model_id": "ff59947f1a894bfab414700693095d0d",
       "version_major": 2,
       "version_minor": 0
      },
      "text/plain": [
       "Uploading the dataset shards:   0%|          | 0/1 [00:00<?, ?it/s]"
      ]
     },
     "metadata": {},
     "output_type": "display_data"
    },
    {
     "data": {
      "application/vnd.jupyter.widget-view+json": {
       "model_id": "46656b42c38a4bb285896d3c1bd01253",
       "version_major": 2,
       "version_minor": 0
      },
      "text/plain": [
       "Creating parquet from Arrow format:   0%|          | 0/1 [00:00<?, ?ba/s]"
      ]
     },
     "metadata": {},
     "output_type": "display_data"
    },
    {
     "data": {
      "text/plain": [
       "CommitInfo(commit_url='https://huggingface.co/datasets/BroDeadlines/CRAWL.UEH.tuyensinh.edu/commit/141c9a12a0ab022790770956a4928d2ee8dc6f08', commit_message='Upload dataset', commit_description='', oid='141c9a12a0ab022790770956a4928d2ee8dc6f08', pr_url=None, pr_revision=None, pr_num=None)"
      ]
     },
     "execution_count": 25,
     "metadata": {},
     "output_type": "execute_result"
    }
   ],
   "source": [
    "ads.push_to_hub(\"BroDeadlines/CRAWL.UEH.tuyensinh.edu\")"
   ]
  },
  {
   "cell_type": "markdown",
   "id": "8990ce50-45ea-46a2-ad18-60c89ba90ef2",
   "metadata": {},
   "source": [
    "## QA data"
   ]
  },
  {
   "cell_type": "code",
   "execution_count": 39,
   "id": "bee7f541-23eb-4c05-a21a-6fac80983720",
   "metadata": {},
   "outputs": [
    {
     "data": {
      "text/plain": [
       "(54, 4)"
      ]
     },
     "execution_count": 39,
     "metadata": {},
     "output_type": "execute_result"
    }
   ],
   "source": [
    "import pandas as pd\n",
    "\n",
    "fin_df = pd.read_csv(f\"{PATH}/QA_UEH.csv\")\n",
    "fin_df.shape"
   ]
  },
  {
   "cell_type": "code",
   "execution_count": 41,
   "id": "63e7ea87-c54f-4030-95bf-4601a0ce14f6",
   "metadata": {},
   "outputs": [
    {
     "data": {
      "text/plain": [
       "Dataset({\n",
       "    features: ['question', 'answer', 'url', 'group'],\n",
       "    num_rows: 54\n",
       "})"
      ]
     },
     "execution_count": 41,
     "metadata": {},
     "output_type": "execute_result"
    }
   ],
   "source": [
    "from datasets import Dataset\n",
    "\n",
    "ds = Dataset.from_pandas(fin_df)\n",
    "ds"
   ]
  },
  {
   "cell_type": "code",
   "execution_count": 43,
   "id": "592eb6b9-a61a-48b8-8043-fbd313727121",
   "metadata": {},
   "outputs": [],
   "source": [
    "from uuid import uuid4\n",
    "\n",
    "def format(row):\n",
    "    row['question'] = row['question'].strip()\n",
    "    row['answer'] = row['answer'].strip()\n",
    "    row['doc_id'] = str(uuid4())\n",
    "    return row"
   ]
  },
  {
   "cell_type": "code",
   "execution_count": 44,
   "id": "649e04be-4d61-4477-8a93-f9fae185f77d",
   "metadata": {},
   "outputs": [
    {
     "data": {
      "application/vnd.jupyter.widget-view+json": {
       "model_id": "706b5c21ee914c4d8e5851544725fdee",
       "version_major": 2,
       "version_minor": 0
      },
      "text/plain": [
       "Map:   0%|          | 0/54 [00:00<?, ? examples/s]"
      ]
     },
     "metadata": {},
     "output_type": "display_data"
    },
    {
     "data": {
      "text/plain": [
       "Dataset({\n",
       "    features: ['question', 'answer', 'url', 'group', 'doc_id'],\n",
       "    num_rows: 54\n",
       "})"
      ]
     },
     "execution_count": 44,
     "metadata": {},
     "output_type": "execute_result"
    }
   ],
   "source": [
    "ads = ds.map(format)\n",
    "ads"
   ]
  },
  {
   "cell_type": "code",
   "execution_count": 45,
   "id": "8af002d6-5f8a-4cb9-bb73-dbb9314a09c1",
   "metadata": {},
   "outputs": [
    {
     "data": {
      "application/vnd.jupyter.widget-view+json": {
       "model_id": "21bf5aebf96248c28552e9d7b156a9ee",
       "version_major": 2,
       "version_minor": 0
      },
      "text/plain": [
       "Uploading the dataset shards:   0%|          | 0/1 [00:00<?, ?it/s]"
      ]
     },
     "metadata": {},
     "output_type": "display_data"
    },
    {
     "data": {
      "application/vnd.jupyter.widget-view+json": {
       "model_id": "08af57bd148b4e36b7bd92988926f46c",
       "version_major": 2,
       "version_minor": 0
      },
      "text/plain": [
       "Creating parquet from Arrow format:   0%|          | 0/1 [00:00<?, ?ba/s]"
      ]
     },
     "metadata": {},
     "output_type": "display_data"
    },
    {
     "data": {
      "text/plain": [
       "CommitInfo(commit_url='https://huggingface.co/datasets/BroDeadlines/QA.UEH.QA_tu_van_tuyen_sinh/commit/71f0ced8dd491bbd88bc663546c557c6b38561f4', commit_message='Upload dataset', commit_description='', oid='71f0ced8dd491bbd88bc663546c557c6b38561f4', pr_url=None, pr_revision=None, pr_num=None)"
      ]
     },
     "execution_count": 45,
     "metadata": {},
     "output_type": "execute_result"
    }
   ],
   "source": [
    "ads.push_to_hub(\"BroDeadlines/QA.UEH.QA_tu_van_tuyen_sinh\")"
   ]
  },
  {
   "cell_type": "markdown",
   "id": "e51e1278-9638-47e5-8166-05731df71bfb",
   "metadata": {},
   "source": [
    "## COpora"
   ]
  },
  {
   "cell_type": "code",
   "execution_count": 3,
   "id": "2bc34e2d-a7f5-4f44-9105-5f4c41c4ca4f",
   "metadata": {},
   "outputs": [
    {
     "data": {
      "application/vnd.jupyter.widget-view+json": {
       "model_id": "d20f559d28ff4e4ba3fad8c8c8e5bb46",
       "version_major": 2,
       "version_minor": 0
      },
      "text/plain": [
       "Downloading readme:   0%|          | 0.00/409 [00:00<?, ?B/s]"
      ]
     },
     "metadata": {},
     "output_type": "display_data"
    },
    {
     "name": "stderr",
     "output_type": "stream",
     "text": [
      "Downloading data: 100%|███████████████████████████████████████████| 536k/536k [00:00<00:00, 621kB/s]\n"
     ]
    },
    {
     "data": {
      "application/vnd.jupyter.widget-view+json": {
       "model_id": "d20c8144ca76415f960f840b446fe4e8",
       "version_major": 2,
       "version_minor": 0
      },
      "text/plain": [
       "Generating train split:   0%|          | 0/203 [00:00<?, ? examples/s]"
      ]
     },
     "metadata": {},
     "output_type": "display_data"
    },
    {
     "data": {
      "application/vnd.jupyter.widget-view+json": {
       "model_id": "3f08badb2b6c4833a4f753afd1bacf74",
       "version_major": 2,
       "version_minor": 0
      },
      "text/plain": [
       "Downloading readme:   0%|          | 0.00/406 [00:00<?, ?B/s]"
      ]
     },
     "metadata": {},
     "output_type": "display_data"
    },
    {
     "name": "stderr",
     "output_type": "stream",
     "text": [
      "Downloading data: 100%|████████████████████████████████████████| 30.9k/30.9k [00:00<00:00, 37.8kB/s]\n"
     ]
    },
    {
     "data": {
      "application/vnd.jupyter.widget-view+json": {
       "model_id": "da972872389e4d50bf1e810c9939ab3e",
       "version_major": 2,
       "version_minor": 0
      },
      "text/plain": [
       "Generating train split:   0%|          | 0/54 [00:00<?, ? examples/s]"
      ]
     },
     "metadata": {},
     "output_type": "display_data"
    }
   ],
   "source": [
    "repo1 = \"BroDeadlines/CRAWL.UEH.tuyensinh.edu\"\n",
    "repo2 = \"BroDeadlines/QA.UEH.QA_tu_van_tuyen_sinh\"\n",
    "ds1 = load_dataset(repo1)\n",
    "ds2 = load_dataset(repo2)"
   ]
  },
  {
   "cell_type": "code",
   "execution_count": 8,
   "id": "ec97f927-967a-4c9e-8a6d-22721aa57aac",
   "metadata": {},
   "outputs": [
    {
     "data": {
      "text/plain": [
       "DatasetDict({\n",
       "    train: Dataset({\n",
       "        features: ['content', 'url', 'doc_id'],\n",
       "        num_rows: 54\n",
       "    })\n",
       "})"
      ]
     },
     "execution_count": 8,
     "metadata": {},
     "output_type": "execute_result"
    }
   ],
   "source": [
    "ads2 = ds2.remove_columns(['question', 'group'])\n",
    "\n",
    "ads2 = ads2.rename_column(\"answer\", \"content\")\n",
    "\n",
    "ads2"
   ]
  },
  {
   "cell_type": "code",
   "execution_count": 18,
   "id": "9de7a876-3d5e-420b-a108-8f2ca08ceedc",
   "metadata": {},
   "outputs": [
    {
     "data": {
      "application/vnd.jupyter.widget-view+json": {
       "model_id": "a373d71db06446e9888d9105079affc8",
       "version_major": 2,
       "version_minor": 0
      },
      "text/plain": [
       "Map:   0%|          | 0/54 [00:00<?, ? examples/s]"
      ]
     },
     "metadata": {},
     "output_type": "display_data"
    },
    {
     "data": {
      "text/plain": [
       "DatasetDict({\n",
       "    train: Dataset({\n",
       "        features: ['content', 'url', 'doc_id', 'metadata'],\n",
       "        num_rows: 54\n",
       "    })\n",
       "})"
      ]
     },
     "execution_count": 18,
     "metadata": {},
     "output_type": "execute_result"
    }
   ],
   "source": [
    "import json\n",
    "ads2 = ads2.map(lambda e: {**e, \"metadata\":json.dumps({\"isQA\": True})})\n",
    "ads2"
   ]
  },
  {
   "cell_type": "code",
   "execution_count": 16,
   "id": "a6479f60-c338-4a97-8b88-c28610f6b9f6",
   "metadata": {},
   "outputs": [
    {
     "data": {
      "application/vnd.jupyter.widget-view+json": {
       "model_id": "06894a42f9b24b0383b71ac36f1dab8c",
       "version_major": 2,
       "version_minor": 0
      },
      "text/plain": [
       "Map:   0%|          | 0/203 [00:00<?, ? examples/s]"
      ]
     },
     "metadata": {},
     "output_type": "display_data"
    },
    {
     "data": {
      "text/plain": [
       "DatasetDict({\n",
       "    train: Dataset({\n",
       "        features: ['url', 'content', 'doc_id', 'metadata'],\n",
       "        num_rows: 203\n",
       "    })\n",
       "})"
      ]
     },
     "execution_count": 16,
     "metadata": {},
     "output_type": "execute_result"
    }
   ],
   "source": [
    "ads1 = ds1.remove_columns(['html', 'title'])\n",
    "ads1 = ads1.map(lambda e: {**e, \"metadata\": \"\"})\n",
    "ads1"
   ]
  },
  {
   "cell_type": "code",
   "execution_count": 21,
   "id": "a1ad6e54-9c2f-4f0c-bcd4-34cb0141ebab",
   "metadata": {},
   "outputs": [
    {
     "data": {
      "text/plain": [
       "Dataset({\n",
       "    features: ['url', 'content', 'doc_id', 'metadata'],\n",
       "    num_rows: 257\n",
       "})"
      ]
     },
     "execution_count": 21,
     "metadata": {},
     "output_type": "execute_result"
    }
   ],
   "source": [
    "from datasets import concatenate_datasets\n",
    "\n",
    "fads = concatenate_datasets([ads1['train'], ads2['train']])\n",
    "fads"
   ]
  },
  {
   "cell_type": "code",
   "execution_count": 22,
   "id": "ca7a4acb-1e54-4adf-a301-eb826e8adfc8",
   "metadata": {},
   "outputs": [
    {
     "data": {
      "application/vnd.jupyter.widget-view+json": {
       "model_id": "6fce6283e21741fdab89cebc23a0e78b",
       "version_major": 2,
       "version_minor": 0
      },
      "text/plain": [
       "Uploading the dataset shards:   0%|          | 0/1 [00:00<?, ?it/s]"
      ]
     },
     "metadata": {},
     "output_type": "display_data"
    },
    {
     "data": {
      "application/vnd.jupyter.widget-view+json": {
       "model_id": "68de6de40ec449db8edbaed8eb862491",
       "version_major": 2,
       "version_minor": 0
      },
      "text/plain": [
       "Creating parquet from Arrow format:   0%|          | 0/1 [00:00<?, ?ba/s]"
      ]
     },
     "metadata": {},
     "output_type": "display_data"
    },
    {
     "data": {
      "text/plain": [
       "CommitInfo(commit_url='https://huggingface.co/datasets/BroDeadlines/TEST.UEH.ueh_copora_data/commit/55e918f87ec7b99d7484aa85b4ab0825c3ce44bb', commit_message='Upload dataset', commit_description='', oid='55e918f87ec7b99d7484aa85b4ab0825c3ce44bb', pr_url=None, pr_revision=None, pr_num=None)"
      ]
     },
     "execution_count": 22,
     "metadata": {},
     "output_type": "execute_result"
    }
   ],
   "source": [
    "fads.push_to_hub(\"BroDeadlines/TEST.UEH.ueh_copora_data\")"
   ]
  },
  {
   "cell_type": "markdown",
   "id": "2e038150-160e-4238-92b7-932e7433e128",
   "metadata": {},
   "source": [
    "# TDT"
   ]
  },
  {
   "cell_type": "markdown",
   "id": "4821d71b-8509-4ada-8e60-515e94627e5c",
   "metadata": {
    "jp-MarkdownHeadingCollapsed": true
   },
   "source": [
    "## Build text-copora"
   ]
  },
  {
   "cell_type": "code",
   "execution_count": 1,
   "id": "bac2768e-f703-467f-9918-44f71d845d3d",
   "metadata": {},
   "outputs": [
    {
     "data": {
      "application/vnd.jupyter.widget-view+json": {
       "model_id": "be04bf2bd92944df8a642415173ecce1",
       "version_major": 2,
       "version_minor": 0
      },
      "text/plain": [
       "Downloading readme:   0%|          | 0.00/378 [00:00<?, ?B/s]"
      ]
     },
     "metadata": {},
     "output_type": "display_data"
    },
    {
     "name": "stderr",
     "output_type": "stream",
     "text": [
      "Downloading data: 100%|███████████████████████████████████████████| 981k/981k [00:01<00:00, 679kB/s]\n"
     ]
    },
    {
     "data": {
      "application/vnd.jupyter.widget-view+json": {
       "model_id": "5d685630940d450c9386757cef046c04",
       "version_major": 2,
       "version_minor": 0
      },
      "text/plain": [
       "Generating train split:   0%|          | 0/597 [00:00<?, ? examples/s]"
      ]
     },
     "metadata": {},
     "output_type": "display_data"
    },
    {
     "data": {
      "text/plain": [
       "DatasetDict({\n",
       "    train: Dataset({\n",
       "        features: ['url', 'html_name', 'skipped', 'text'],\n",
       "        num_rows: 597\n",
       "    })\n",
       "})"
      ]
     },
     "execution_count": 1,
     "metadata": {},
     "output_type": "execute_result"
    }
   ],
   "source": [
    "from datasets import load_dataset\n",
    "\n",
    "main_ds = load_dataset(\"BroDeadlines/CRAWL.TDT.mini.dai-hoc\")\n",
    "main_ds"
   ]
  },
  {
   "cell_type": "code",
   "execution_count": 2,
   "id": "74f119a3-e97a-451e-88cb-10f0e127d76f",
   "metadata": {},
   "outputs": [
    {
     "data": {
      "text/plain": [
       "DatasetDict({\n",
       "    train: Dataset({\n",
       "        features: ['question', 'answer', 'url', 'group', 'doc_id', 'metadata'],\n",
       "        num_rows: 215\n",
       "    })\n",
       "    TEST.basic_test_tdt_dataset: Dataset({\n",
       "        features: ['question', 'answer', 'url', 'group', 'doc_id', 'metadata'],\n",
       "        num_rows: 20\n",
       "    })\n",
       "    INDEX.medium_index_TDT: Dataset({\n",
       "        features: ['question', 'answer', 'url', 'group', 'doc_id', 'metadata'],\n",
       "        num_rows: 144\n",
       "    })\n",
       "})"
      ]
     },
     "execution_count": 2,
     "metadata": {},
     "output_type": "execute_result"
    }
   ],
   "source": [
    "eval_ds = load_dataset(\"BroDeadlines/QA.TDT.FQA_tu_van_hoc_duong\")\n",
    "eval_ds"
   ]
  },
  {
   "cell_type": "code",
   "execution_count": 3,
   "id": "dcb464e1-91a5-433d-93c4-a66646e67235",
   "metadata": {},
   "outputs": [
    {
     "data": {
      "text/plain": [
       "Dataset({\n",
       "    features: ['question', 'answer', 'url', 'group', 'doc_id', 'metadata'],\n",
       "    num_rows: 185\n",
       "})"
      ]
     },
     "execution_count": 3,
     "metadata": {},
     "output_type": "execute_result"
    }
   ],
   "source": [
    "import json\n",
    "def notClone(row):\n",
    "    d = row['metadata']\n",
    "    if len(d) == 0:\n",
    "        return True\n",
    "    d = json.loads(d)\n",
    "    return not d['isCloned']\n",
    "    \n",
    "filter_ds = eval_ds['train'].filter(notClone)\n",
    "filter_ds"
   ]
  },
  {
   "cell_type": "code",
   "execution_count": 4,
   "id": "97105c5c-63b6-4a04-beb1-fb6def169fb1",
   "metadata": {},
   "outputs": [
    {
     "data": {
      "application/vnd.jupyter.widget-view+json": {
       "model_id": "53cc29a7f33b4ea1a0514c5619e14856",
       "version_major": 2,
       "version_minor": 0
      },
      "text/plain": [
       "Map:   0%|          | 0/597 [00:00<?, ? examples/s]"
      ]
     },
     "metadata": {},
     "output_type": "display_data"
    },
    {
     "data": {
      "text/plain": [
       "DatasetDict({\n",
       "    train: Dataset({\n",
       "        features: ['url', 'html_name', 'skipped', 'text', 'content', 'doc_id', 'metadata'],\n",
       "        num_rows: 597\n",
       "    })\n",
       "})"
      ]
     },
     "execution_count": 4,
     "metadata": {},
     "output_type": "execute_result"
    }
   ],
   "source": [
    "from uuid import uuid4\n",
    "IDS = [str(uuid4()) for i in range(2995)]\n",
    "\n",
    "def mini(e):\n",
    "    d = {\"url\": e['url'], \"content\": e['text'], \"doc_id\": IDS.pop(), \"metadata\": \"\"}\n",
    "    return d\n",
    "\n",
    "main_ds_one = main_ds.map(mini)\n",
    "main_ds_one"
   ]
  },
  {
   "cell_type": "code",
   "execution_count": 6,
   "id": "7e3ca1ec-3074-46e9-bd1e-f76259024e4d",
   "metadata": {},
   "outputs": [
    {
     "data": {
      "text/plain": [
       "DatasetDict({\n",
       "    train: Dataset({\n",
       "        features: ['url', 'content', 'doc_id', 'metadata'],\n",
       "        num_rows: 597\n",
       "    })\n",
       "})"
      ]
     },
     "execution_count": 6,
     "metadata": {},
     "output_type": "execute_result"
    }
   ],
   "source": [
    "main_ds_two = main_ds_one.remove_columns(['html_name', \"skipped\", \"text\"])\n",
    "main_ds_two"
   ]
  },
  {
   "cell_type": "code",
   "execution_count": 7,
   "id": "9f96ff96-5930-4e5d-bdf7-2d315f8989b2",
   "metadata": {},
   "outputs": [
    {
     "data": {
      "text/plain": [
       "Dataset({\n",
       "    features: ['content', 'url', 'doc_id', 'metadata'],\n",
       "    num_rows: 185\n",
       "})"
      ]
     },
     "execution_count": 7,
     "metadata": {},
     "output_type": "execute_result"
    }
   ],
   "source": [
    "filter_ds_one = filter_ds.remove_columns(['question', 'group']).rename_column(\"answer\", \"content\")\n",
    "filter_ds_one"
   ]
  },
  {
   "cell_type": "code",
   "execution_count": 8,
   "id": "5903db39-e595-449b-9aee-c0507995f335",
   "metadata": {},
   "outputs": [
    {
     "data": {
      "application/vnd.jupyter.widget-view+json": {
       "model_id": "abfc7cdcfac14f7db266fa6f20037114",
       "version_major": 2,
       "version_minor": 0
      },
      "text/plain": [
       "Map:   0%|          | 0/185 [00:00<?, ? examples/s]"
      ]
     },
     "metadata": {},
     "output_type": "display_data"
    },
    {
     "data": {
      "text/plain": [
       "Dataset({\n",
       "    features: ['content', 'url', 'doc_id', 'metadata'],\n",
       "    num_rows: 185\n",
       "})"
      ]
     },
     "execution_count": 8,
     "metadata": {},
     "output_type": "execute_result"
    }
   ],
   "source": [
    "import json\n",
    "\n",
    "filter_ds_one = filter_ds_one.map(lambda e: {\"metadata\": json.dumps({\"isQA\": True})})\n",
    "\n",
    "filter_ds_one"
   ]
  },
  {
   "cell_type": "code",
   "execution_count": 35,
   "id": "20f734a2-8746-49d4-b4ca-c0a1f6571d25",
   "metadata": {},
   "outputs": [
    {
     "data": {
      "text/plain": [
       "{'text': 'Trong thời gian đóng học phí theo thông báo của phòng Tài chính, sinh viên thuộc diện khó khăn (có minh chứng) có thể nộp đơn xin gia hạn học phí trực tuyến bằng cách vào Hệ thống thông tin sinh viên, phân hệ Nộp đơn trực tuyến, chọn học kỳ muốn gia hạn học phí, chọn loại đơn cần nộp và tiến hành điền các thông tin cần thiết. Sinh viên theo dõi kết quả trả lời đơn để biết đơn có được cho gia hạn hay không. Việc nộp đơn trực tuyến chỉ áp dụng với đợt đóng học phí đầu tiên của học kỳ chính.\\n\\nNếu sinh viên có nguyện vọng gia hạn thời gian đóng học phí ở các đợt đóng tiếp theo, sinh viên có thể nộp đơn gia hạn thời gian đóng học phí, đính kèm minh chứng và nộp về cho phòng Công tác tác Học sinh - Sinh viên (A.0003) trong thời gian đóng học phí.',\n",
       " 'url': 'https://tuvanhocduong.tdtu.edu.vn/News',\n",
       " 'doc_id': '573ca174-1b6d-11ef-a755-d38426455a06',\n",
       " 'metadata': '{\"isQA\": true}'}"
      ]
     },
     "execution_count": 35,
     "metadata": {},
     "output_type": "execute_result"
    }
   ],
   "source": [
    "filter_ds_one[0]"
   ]
  },
  {
   "cell_type": "code",
   "execution_count": 10,
   "id": "528dc70b-96ed-47b9-8fcb-66009f217bc3",
   "metadata": {},
   "outputs": [
    {
     "data": {
      "application/vnd.jupyter.widget-view+json": {
       "model_id": "e3ea99249bc045f388491cd58a463cdc",
       "version_major": 2,
       "version_minor": 0
      },
      "text/plain": [
       "Filter:   0%|          | 0/782 [00:00<?, ? examples/s]"
      ]
     },
     "metadata": {},
     "output_type": "display_data"
    },
    {
     "data": {
      "text/plain": [
       "Dataset({\n",
       "    features: ['url', 'content', 'doc_id', 'metadata'],\n",
       "    num_rows: 781\n",
       "})"
      ]
     },
     "execution_count": 10,
     "metadata": {},
     "output_type": "execute_result"
    }
   ],
   "source": [
    "from datasets import concatenate_datasets\n",
    "index_ds = concatenate_datasets([main_ds_two['train'],filter_ds_one])\n",
    "\n",
    "index_ds_one = index_ds.filter(lambda e: \"javascript\" not in e['content'].lower())\n",
    "index_ds_one"
   ]
  },
  {
   "cell_type": "code",
   "execution_count": 11,
   "id": "52852433-1afc-40bf-aaf1-dd7d68f2438e",
   "metadata": {},
   "outputs": [
    {
     "data": {
      "application/vnd.jupyter.widget-view+json": {
       "model_id": "0ee7bafb760e409bbf9ab05b4951dc57",
       "version_major": 2,
       "version_minor": 0
      },
      "text/plain": [
       "Filter:   0%|          | 0/781 [00:00<?, ? examples/s]"
      ]
     },
     "metadata": {},
     "output_type": "display_data"
    },
    {
     "data": {
      "text/plain": [
       "Dataset({\n",
       "    features: ['url', 'content', 'doc_id', 'metadata'],\n",
       "    num_rows: 185\n",
       "})"
      ]
     },
     "execution_count": 11,
     "metadata": {},
     "output_type": "execute_result"
    }
   ],
   "source": [
    "def check_QA(row):\n",
    "    d = row['metadata']\n",
    "    if d == \"\":\n",
    "        return False\n",
    "    d = json.loads(d)\n",
    "    return d['isQA']\n",
    "index_ds_one.filter(check_QA)"
   ]
  },
  {
   "cell_type": "code",
   "execution_count": 12,
   "id": "e0f113bf-4e5e-4174-b84e-4bc7b8777a6a",
   "metadata": {},
   "outputs": [
    {
     "data": {
      "application/vnd.jupyter.widget-view+json": {
       "model_id": "3481b54815f741a393d204f12f1d7bd7",
       "version_major": 2,
       "version_minor": 0
      },
      "text/plain": [
       "Uploading the dataset shards:   0%|          | 0/1 [00:00<?, ?it/s]"
      ]
     },
     "metadata": {},
     "output_type": "display_data"
    },
    {
     "data": {
      "application/vnd.jupyter.widget-view+json": {
       "model_id": "0d7bf1a603ca48c09bff24386788ae69",
       "version_major": 2,
       "version_minor": 0
      },
      "text/plain": [
       "Creating parquet from Arrow format:   0%|          | 0/1 [00:00<?, ?ba/s]"
      ]
     },
     "metadata": {},
     "output_type": "display_data"
    },
    {
     "data": {
      "text/plain": [
       "CommitInfo(commit_url='https://huggingface.co/datasets/BroDeadlines/TEST.TDT.mini.tdt_copora_data/commit/cc5e9ad3b50fb0a955b11bcefc01869582fc39ca', commit_message='Upload dataset', commit_description='', oid='cc5e9ad3b50fb0a955b11bcefc01869582fc39ca', pr_url=None, pr_revision=None, pr_num=None)"
      ]
     },
     "execution_count": 12,
     "metadata": {},
     "output_type": "execute_result"
    }
   ],
   "source": [
    "hub = 'BroDeadlines/TEST.TDT.mini.tdt_copora_data'\n",
    "index_ds_one.push_to_hub(hub)"
   ]
  },
  {
   "cell_type": "markdown",
   "id": "6e575a4a-6a11-4b9c-b969-ca750967d059",
   "metadata": {},
   "source": [
    "## Upload new QA evaluate data for TDT"
   ]
  },
  {
   "cell_type": "code",
   "execution_count": 5,
   "id": "2cc14e3f-98ce-4a72-aa38-cf9402d11576",
   "metadata": {},
   "outputs": [
    {
     "data": {
      "text/plain": [
       "Dataset({\n",
       "    features: ['question', 'answer', 'url', 'group', 'doc_id', 'metadata'],\n",
       "    num_rows: 170\n",
       "})"
      ]
     },
     "execution_count": 5,
     "metadata": {},
     "output_type": "execute_result"
    }
   ],
   "source": [
    "from datasets import load_dataset\n",
    "main_ds = load_dataset(\"BroDeadlines/QA.TDT.FQA_tu_van_hoc_duong\",split=\"train\")\n",
    "main_ds"
   ]
  },
  {
   "cell_type": "code",
   "execution_count": 3,
   "id": "0113ea57-7bf7-4185-82cd-dae5fd704531",
   "metadata": {},
   "outputs": [
    {
     "data": {
      "text/html": [
       "<div>\n",
       "<style scoped>\n",
       "    .dataframe tbody tr th:only-of-type {\n",
       "        vertical-align: middle;\n",
       "    }\n",
       "\n",
       "    .dataframe tbody tr th {\n",
       "        vertical-align: top;\n",
       "    }\n",
       "\n",
       "    .dataframe thead th {\n",
       "        text-align: right;\n",
       "    }\n",
       "</style>\n",
       "<table border=\"1\" class=\"dataframe\">\n",
       "  <thead>\n",
       "    <tr style=\"text-align: right;\">\n",
       "      <th></th>\n",
       "      <th>ID</th>\n",
       "      <th>department</th>\n",
       "      <th>tel</th>\n",
       "      <th>email</th>\n",
       "      <th>website</th>\n",
       "      <th>feature</th>\n",
       "    </tr>\n",
       "  </thead>\n",
       "  <tbody>\n",
       "    <tr>\n",
       "      <th>0</th>\n",
       "      <td>1</td>\n",
       "      <td>Phòng Công tác Học sinh – Sinh viên (A0003)</td>\n",
       "      <td>(028) 37755054</td>\n",
       "      <td>phongctct-hssv@tdtu.edu.vn</td>\n",
       "      <td>https://student.tdtu.edu.vn</td>\n",
       "      <td>- Quản lý dữ liệu sinh viên, cấp Thẻ sinh viên...</td>\n",
       "    </tr>\n",
       "    <tr>\n",
       "      <th>1</th>\n",
       "      <td>2</td>\n",
       "      <td>Phòng Tài chính (A0007)</td>\n",
       "      <td>(028) 37755070</td>\n",
       "      <td>phongkhtc@tdtu.edu.vn</td>\n",
       "      <td>NaN</td>\n",
       "      <td>- Thông báo học phí và giải đáp các thắc mắc l...</td>\n",
       "    </tr>\n",
       "    <tr>\n",
       "      <th>2</th>\n",
       "      <td>3</td>\n",
       "      <td>Phòng Khảo thí và Kiểm định chất lượng (A0302)</td>\n",
       "      <td>(028) 37755042</td>\n",
       "      <td>dtqa@tdtu.edu.vn</td>\n",
       "      <td>NaN</td>\n",
       "      <td>- Phản ánh các vấn đề về đề thi, giảng viên.\\n...</td>\n",
       "    </tr>\n",
       "    <tr>\n",
       "      <th>3</th>\n",
       "      <td>4</td>\n",
       "      <td>Phòng Đại học (A0005)</td>\n",
       "      <td>(028) 37 755 051 - (028) 37755052</td>\n",
       "      <td>phongdaihoc@tdtu.edu.vn</td>\n",
       "      <td>https://undergrad.tdtu.edu.vn</td>\n",
       "      <td>- Tổ chức và xử lý các vấn đề đăng ký KHHT, đă...</td>\n",
       "    </tr>\n",
       "    <tr>\n",
       "      <th>4</th>\n",
       "      <td>5</td>\n",
       "      <td>Phòng Y tế (Nhà thi đấu - Phòng 104)</td>\n",
       "      <td>(028) 22 137 081</td>\n",
       "      <td>NaN</td>\n",
       "      <td>NaN</td>\n",
       "      <td>\\n- Cung cấp dịch vụ sơ cứu và chăm sóc sức kh...</td>\n",
       "    </tr>\n",
       "  </tbody>\n",
       "</table>\n",
       "</div>"
      ],
      "text/plain": [
       "  ID                                      department  \\\n",
       "0  1     Phòng Công tác Học sinh – Sinh viên (A0003)   \n",
       "1  2                         Phòng Tài chính (A0007)   \n",
       "2  3  Phòng Khảo thí và Kiểm định chất lượng (A0302)   \n",
       "3  4                           Phòng Đại học (A0005)   \n",
       "4  5            Phòng Y tế (Nhà thi đấu - Phòng 104)   \n",
       "\n",
       "                                 tel                       email  \\\n",
       "0                     (028) 37755054  phongctct-hssv@tdtu.edu.vn   \n",
       "1                     (028) 37755070       phongkhtc@tdtu.edu.vn   \n",
       "2                     (028) 37755042            dtqa@tdtu.edu.vn   \n",
       "3  (028) 37 755 051 - (028) 37755052     phongdaihoc@tdtu.edu.vn   \n",
       "4                   (028) 22 137 081                         NaN   \n",
       "\n",
       "                         website  \\\n",
       "0    https://student.tdtu.edu.vn   \n",
       "1                            NaN   \n",
       "2                            NaN   \n",
       "3  https://undergrad.tdtu.edu.vn   \n",
       "4                            NaN   \n",
       "\n",
       "                                             feature  \n",
       "0  - Quản lý dữ liệu sinh viên, cấp Thẻ sinh viên...  \n",
       "1  - Thông báo học phí và giải đáp các thắc mắc l...  \n",
       "2  - Phản ánh các vấn đề về đề thi, giảng viên.\\n...  \n",
       "3  - Tổ chức và xử lý các vấn đề đăng ký KHHT, đă...  \n",
       "4  \\n- Cung cấp dịch vụ sơ cứu và chăm sóc sức kh...  "
      ]
     },
     "execution_count": 3,
     "metadata": {},
     "output_type": "execute_result"
    }
   ],
   "source": [
    "import pandas as pd\n",
    "from uuid import uuid4\n",
    "\n",
    "df = pd.read_csv(f\"{PATH}/departments.csv\")\n",
    "ques_df = pd.read_csv(f\"{PATH}/mk_ques.csv\")\n",
    "df.head(5)"
   ]
  },
  {
   "cell_type": "code",
   "execution_count": 10,
   "id": "4840c33d-f79d-4377-bb86-618ba5a2f373",
   "metadata": {},
   "outputs": [
    {
     "data": {
      "text/plain": [
       "15"
      ]
     },
     "execution_count": 10,
     "metadata": {},
     "output_type": "execute_result"
    }
   ],
   "source": [
    "IDS = [uuid4() for i in range(df.shape[0])]\n",
    "len(IDS)"
   ]
  },
  {
   "cell_type": "code",
   "execution_count": 12,
   "id": "e1bb9a21-7c6f-4f2b-b78a-3626520a3dd1",
   "metadata": {},
   "outputs": [],
   "source": [
    "import json\n",
    "\n",
    "\n",
    "a = {\"isCloned\": True}\n",
    "\n",
    "def build_phone(row):\n",
    "    ques = \"Số điện thoại của {department} là gì?\".format(department=row['department'])\n",
    "    ans = \"{tel}\".format(tel=row['tel'])\n",
    "    url = row['website']\n",
    "    if not url:\n",
    "        url = \"\"\n",
    "    return {\"question\": ques, \"answer\": ans, \"url\": url, \"group\": \"hỏi về các phòng chức năng\", \"doc_id\": row['doc_id'], \"metadata\": json.dumps(a)}\n",
    "\n",
    "def build_email(row):\n",
    "    ques = \"Email của {department} là gì?\".format(department=row['department'])\n",
    "    ans = \"{email}\".format(email=row['email'])\n",
    "    url = row['website']\n",
    "    if not url:\n",
    "        url = \"\"\n",
    "    return {\"question\": ques, \"answer\": ans, \"url\": url, \"group\": \"hỏi về các phòng chức năng\", \"doc_id\": row['doc_id'], \"metadata\": json.dumps(a)}\n",
    "\n",
    "def build_feature(row):\n",
    "    ques = \"Chức năng của {department} là gì?\".format(department=row['department'])\n",
    "    ans = \"{department} được mô tả như sau\\n{feature}\".format(department=row['department'], feature=row['feature'])\n",
    "    url = row['website']\n",
    "    if not url:\n",
    "        url = \"\"\n",
    "    return {\"question\": ques, \"answer\": ans, \"url\": url, \"group\": \"hỏi về các phòng chức năng\", \"doc_id\": row['doc_id'], \"metadata\": \"\"}"
   ]
  },
  {
   "cell_type": "code",
   "execution_count": 13,
   "id": "dd014dac-2381-4761-9700-f2709ef994e3",
   "metadata": {},
   "outputs": [
    {
     "data": {
      "text/html": [
       "<div>\n",
       "<style scoped>\n",
       "    .dataframe tbody tr th:only-of-type {\n",
       "        vertical-align: middle;\n",
       "    }\n",
       "\n",
       "    .dataframe tbody tr th {\n",
       "        vertical-align: top;\n",
       "    }\n",
       "\n",
       "    .dataframe thead th {\n",
       "        text-align: right;\n",
       "    }\n",
       "</style>\n",
       "<table border=\"1\" class=\"dataframe\">\n",
       "  <thead>\n",
       "    <tr style=\"text-align: right;\">\n",
       "      <th></th>\n",
       "      <th>ID</th>\n",
       "      <th>department</th>\n",
       "      <th>tel</th>\n",
       "      <th>email</th>\n",
       "      <th>website</th>\n",
       "      <th>feature</th>\n",
       "    </tr>\n",
       "  </thead>\n",
       "  <tbody>\n",
       "    <tr>\n",
       "      <th>0</th>\n",
       "      <td>1</td>\n",
       "      <td>Phòng Công tác Học sinh – Sinh viên (A0003)</td>\n",
       "      <td>(028) 37755054</td>\n",
       "      <td>phongctct-hssv@tdtu.edu.vn</td>\n",
       "      <td>https://student.tdtu.edu.vn</td>\n",
       "      <td>- Quản lý dữ liệu sinh viên, cấp Thẻ sinh viên...</td>\n",
       "    </tr>\n",
       "    <tr>\n",
       "      <th>1</th>\n",
       "      <td>2</td>\n",
       "      <td>Phòng Tài chính (A0007)</td>\n",
       "      <td>(028) 37755070</td>\n",
       "      <td>phongkhtc@tdtu.edu.vn</td>\n",
       "      <td>NaN</td>\n",
       "      <td>- Thông báo học phí và giải đáp các thắc mắc l...</td>\n",
       "    </tr>\n",
       "    <tr>\n",
       "      <th>2</th>\n",
       "      <td>3</td>\n",
       "      <td>Phòng Khảo thí và Kiểm định chất lượng (A0302)</td>\n",
       "      <td>(028) 37755042</td>\n",
       "      <td>dtqa@tdtu.edu.vn</td>\n",
       "      <td>NaN</td>\n",
       "      <td>- Phản ánh các vấn đề về đề thi, giảng viên.\\n...</td>\n",
       "    </tr>\n",
       "    <tr>\n",
       "      <th>3</th>\n",
       "      <td>4</td>\n",
       "      <td>Phòng Đại học (A0005)</td>\n",
       "      <td>(028) 37 755 051 - (028) 37755052</td>\n",
       "      <td>phongdaihoc@tdtu.edu.vn</td>\n",
       "      <td>https://undergrad.tdtu.edu.vn</td>\n",
       "      <td>- Tổ chức và xử lý các vấn đề đăng ký KHHT, đă...</td>\n",
       "    </tr>\n",
       "    <tr>\n",
       "      <th>4</th>\n",
       "      <td>5</td>\n",
       "      <td>Phòng Y tế (Nhà thi đấu - Phòng 104)</td>\n",
       "      <td>(028) 22 137 081</td>\n",
       "      <td>NaN</td>\n",
       "      <td>NaN</td>\n",
       "      <td>\\n- Cung cấp dịch vụ sơ cứu và chăm sóc sức kh...</td>\n",
       "    </tr>\n",
       "    <tr>\n",
       "      <th>5</th>\n",
       "      <td>6</td>\n",
       "      <td>Thư viện Truyền cảm hứng (Tòa nhà G)</td>\n",
       "      <td>(028) 37 755 057</td>\n",
       "      <td>library@tdtu.edu.vn</td>\n",
       "      <td>lib.tdtu.edu.vn</td>\n",
       "      <td>\\n- Tiếp nhận yêu cầu và/hoặc giải đáp các thắ...</td>\n",
       "    </tr>\n",
       "    <tr>\n",
       "      <th>6</th>\n",
       "      <td>7a</td>\n",
       "      <td>Văn phòng Tư vấn và Hỗ trợ người học (E0001) -...</td>\n",
       "      <td>(028) 37 775 015</td>\n",
       "      <td>thamvantamly@tdtu.edu.vn</td>\n",
       "      <td>https://tuvanhocduong.tdtu.edu.vn</td>\n",
       "      <td>\\n- Tiếp nhận hỗ trợ các khó khăn về tâm lý/ ...</td>\n",
       "    </tr>\n",
       "    <tr>\n",
       "      <th>7</th>\n",
       "      <td>7b</td>\n",
       "      <td>Văn phòng Tư vấn và Hỗ trợ người học (E0001) -...</td>\n",
       "      <td>(028) 22477215</td>\n",
       "      <td>tuvanhocduong@tdtu.edu.vn</td>\n",
       "      <td>https://tuvanhocduong.tdtu.edu.vn</td>\n",
       "      <td>\\n- Tư vấn học vụ (quy chế/quy định liên quan ...</td>\n",
       "    </tr>\n",
       "    <tr>\n",
       "      <th>8</th>\n",
       "      <td>8</td>\n",
       "      <td>Văn phòng Đoàn - Hội (A0004)</td>\n",
       "      <td>(028) 37755027</td>\n",
       "      <td>vanphongdoanhoi@tdtu.edu.vn</td>\n",
       "      <td>https://vanphongdoanhoi.tdtu.edu.vn</td>\n",
       "      <td>- Nhận và trả sổ Đoàn.\\n- Tiếp nhận và xử lý c...</td>\n",
       "    </tr>\n",
       "    <tr>\n",
       "      <th>9</th>\n",
       "      <td>9</td>\n",
       "      <td>Ký túc xá (I0005)</td>\n",
       "      <td>(028) 37 760 652</td>\n",
       "      <td>ktx@tdtu.edu.vn</td>\n",
       "      <td>https://dormitory.tdtu.edu.vn</td>\n",
       "      <td>- Tiếp nhận và giải quyết các thủ tục tại Ký t...</td>\n",
       "    </tr>\n",
       "    <tr>\n",
       "      <th>10</th>\n",
       "      <td>10</td>\n",
       "      <td>Trung tâm Ngôn ngữ sáng tạo (TDT CLC) (E0012)</td>\n",
       "      <td>(028) 37755064</td>\n",
       "      <td>clc@tdtu.edu.vn</td>\n",
       "      <td>https://clc.tdtu.edu.vn</td>\n",
       "      <td>- Đào tạo các chương trình Tiếng Anh gồm: Tiến...</td>\n",
       "    </tr>\n",
       "    <tr>\n",
       "      <th>11</th>\n",
       "      <td>11</td>\n",
       "      <td>Trung tâm Tin học (A0506)</td>\n",
       "      <td>(028)37761046</td>\n",
       "      <td>trungtamtinhoc@tdtu.edu.vn</td>\n",
       "      <td>http://cait.tdtu.edu.vn</td>\n",
       "      <td>- Quản lý và thực hiện đào tạo các học phần ti...</td>\n",
       "    </tr>\n",
       "    <tr>\n",
       "      <th>12</th>\n",
       "      <td>12</td>\n",
       "      <td>Trung tâm Hợp tác doanh nghiệp và Cựu sinh viê...</td>\n",
       "      <td>(028)37761042</td>\n",
       "      <td>htdn@tdtu.edu.vn</td>\n",
       "      <td>https://ceca.tdtu.edu.vn</td>\n",
       "      <td>- Giới thiệu các công việc part-time, full-tim...</td>\n",
       "    </tr>\n",
       "    <tr>\n",
       "      <th>13</th>\n",
       "      <td>13</td>\n",
       "      <td>Trung tâm Giáo dục quốc phòng và an ninh (M0003)</td>\n",
       "      <td>(+84) 941608746</td>\n",
       "      <td>gdqp-an@tdtu.edu.vn</td>\n",
       "      <td>https://dsec.tdtu.edu.vn</td>\n",
       "      <td>\\nGiáo dục kiến thức quốc phòng và an ninh cho...</td>\n",
       "    </tr>\n",
       "    <tr>\n",
       "      <th>14</th>\n",
       "      <td>14</td>\n",
       "      <td>Trung tâm Đào tạo phát triển xã hội (SDTC) (E0...</td>\n",
       "      <td>(028) 22 426 789</td>\n",
       "      <td>sdtc@tdtu.edu.vn</td>\n",
       "      <td>https://sdtc.tdtu.edu.vn</td>\n",
       "      <td>\\nSDTC là trung tâm chuyên bồi dưỡng các khóa ...</td>\n",
       "    </tr>\n",
       "  </tbody>\n",
       "</table>\n",
       "</div>"
      ],
      "text/plain": [
       "    ID                                         department  \\\n",
       "0    1        Phòng Công tác Học sinh – Sinh viên (A0003)   \n",
       "1    2                            Phòng Tài chính (A0007)   \n",
       "2    3     Phòng Khảo thí và Kiểm định chất lượng (A0302)   \n",
       "3    4                              Phòng Đại học (A0005)   \n",
       "4    5               Phòng Y tế (Nhà thi đấu - Phòng 104)   \n",
       "5    6               Thư viện Truyền cảm hứng (Tòa nhà G)   \n",
       "6   7a  Văn phòng Tư vấn và Hỗ trợ người học (E0001) -...   \n",
       "7   7b  Văn phòng Tư vấn và Hỗ trợ người học (E0001) -...   \n",
       "8    8                       Văn phòng Đoàn - Hội (A0004)   \n",
       "9    9                                  Ký túc xá (I0005)   \n",
       "10  10      Trung tâm Ngôn ngữ sáng tạo (TDT CLC) (E0012)   \n",
       "11  11                          Trung tâm Tin học (A0506)   \n",
       "12  12  Trung tâm Hợp tác doanh nghiệp và Cựu sinh viê...   \n",
       "13  13   Trung tâm Giáo dục quốc phòng và an ninh (M0003)   \n",
       "14  14  Trung tâm Đào tạo phát triển xã hội (SDTC) (E0...   \n",
       "\n",
       "                                  tel                        email  \\\n",
       "0                      (028) 37755054   phongctct-hssv@tdtu.edu.vn   \n",
       "1                      (028) 37755070        phongkhtc@tdtu.edu.vn   \n",
       "2                      (028) 37755042             dtqa@tdtu.edu.vn   \n",
       "3   (028) 37 755 051 - (028) 37755052      phongdaihoc@tdtu.edu.vn   \n",
       "4                    (028) 22 137 081                          NaN   \n",
       "5                    (028) 37 755 057          library@tdtu.edu.vn   \n",
       "6                    (028) 37 775 015     thamvantamly@tdtu.edu.vn   \n",
       "7                      (028) 22477215    tuvanhocduong@tdtu.edu.vn   \n",
       "8                      (028) 37755027  vanphongdoanhoi@tdtu.edu.vn   \n",
       "9                    (028) 37 760 652              ktx@tdtu.edu.vn   \n",
       "10                     (028) 37755064              clc@tdtu.edu.vn   \n",
       "11                      (028)37761046   trungtamtinhoc@tdtu.edu.vn   \n",
       "12                      (028)37761042             htdn@tdtu.edu.vn   \n",
       "13                    (+84) 941608746          gdqp-an@tdtu.edu.vn   \n",
       "14                   (028) 22 426 789             sdtc@tdtu.edu.vn   \n",
       "\n",
       "                                website  \\\n",
       "0           https://student.tdtu.edu.vn   \n",
       "1                                   NaN   \n",
       "2                                   NaN   \n",
       "3         https://undergrad.tdtu.edu.vn   \n",
       "4                                   NaN   \n",
       "5                       lib.tdtu.edu.vn   \n",
       "6     https://tuvanhocduong.tdtu.edu.vn   \n",
       "7     https://tuvanhocduong.tdtu.edu.vn   \n",
       "8   https://vanphongdoanhoi.tdtu.edu.vn   \n",
       "9         https://dormitory.tdtu.edu.vn   \n",
       "10              https://clc.tdtu.edu.vn   \n",
       "11              http://cait.tdtu.edu.vn   \n",
       "12             https://ceca.tdtu.edu.vn   \n",
       "13             https://dsec.tdtu.edu.vn   \n",
       "14             https://sdtc.tdtu.edu.vn   \n",
       "\n",
       "                                              feature  \n",
       "0   - Quản lý dữ liệu sinh viên, cấp Thẻ sinh viên...  \n",
       "1   - Thông báo học phí và giải đáp các thắc mắc l...  \n",
       "2   - Phản ánh các vấn đề về đề thi, giảng viên.\\n...  \n",
       "3   - Tổ chức và xử lý các vấn đề đăng ký KHHT, đă...  \n",
       "4   \\n- Cung cấp dịch vụ sơ cứu và chăm sóc sức kh...  \n",
       "5   \\n- Tiếp nhận yêu cầu và/hoặc giải đáp các thắ...  \n",
       "6   \\n- Tiếp nhận hỗ trợ các khó khăn về tâm lý/ ...  \n",
       "7   \\n- Tư vấn học vụ (quy chế/quy định liên quan ...  \n",
       "8   - Nhận và trả sổ Đoàn.\\n- Tiếp nhận và xử lý c...  \n",
       "9   - Tiếp nhận và giải quyết các thủ tục tại Ký t...  \n",
       "10  - Đào tạo các chương trình Tiếng Anh gồm: Tiến...  \n",
       "11  - Quản lý và thực hiện đào tạo các học phần ti...  \n",
       "12  - Giới thiệu các công việc part-time, full-tim...  \n",
       "13  \\nGiáo dục kiến thức quốc phòng và an ninh cho...  \n",
       "14  \\nSDTC là trung tâm chuyên bồi dưỡng các khóa ...  "
      ]
     },
     "execution_count": 13,
     "metadata": {},
     "output_type": "execute_result"
    }
   ],
   "source": [
    "df"
   ]
  },
  {
   "cell_type": "code",
   "execution_count": 14,
   "id": "f20fd481-8545-47f6-a2fc-ea7aef268253",
   "metadata": {},
   "outputs": [],
   "source": [
    "data = []\n",
    "for index, row in df.iterrows():\n",
    "    row['doc_id'] = str(IDS.pop())\n",
    "    r = build_phone(row)\n",
    "    data.append(r)\n",
    "    r = build_email(row)\n",
    "    data.append(r)\n",
    "    r = build_feature(row)\n",
    "    data.append(r)"
   ]
  },
  {
   "cell_type": "code",
   "execution_count": 16,
   "id": "e6cc2d50-105a-4cd0-96f2-afb957a4fb53",
   "metadata": {},
   "outputs": [
    {
     "data": {
      "text/plain": [
       "Dataset({\n",
       "    features: ['question', 'answer', 'url', 'group', 'doc_id', 'metadata'],\n",
       "    num_rows: 170\n",
       "})"
      ]
     },
     "execution_count": 16,
     "metadata": {},
     "output_type": "execute_result"
    }
   ],
   "source": [
    "main_ds"
   ]
  },
  {
   "cell_type": "code",
   "execution_count": 28,
   "id": "50060b9a-c907-4c6d-887e-cba6679bd85f",
   "metadata": {},
   "outputs": [],
   "source": [
    "from datasets import concatenate_datasets, Dataset\n",
    "import pandas as pd\n",
    "\n",
    "ndf = pd.DataFrame(data)\n",
    "# nds = Dataset.from_list(data)\n",
    "ndf = ndf.fillna(\"\")"
   ]
  },
  {
   "cell_type": "code",
   "execution_count": 35,
   "id": "74266e72-07ad-4403-92eb-1871425381cb",
   "metadata": {},
   "outputs": [],
   "source": [
    "ndf['doc_id'] = ndf['doc_id'].apply(lambda e: str(e))"
   ]
  },
  {
   "cell_type": "code",
   "execution_count": 37,
   "id": "51021a14-a395-45ec-9202-d462cd02b919",
   "metadata": {},
   "outputs": [
    {
     "data": {
      "text/plain": [
       "Dataset({\n",
       "    features: ['question', 'answer', 'url', 'group', 'doc_id', 'metadata'],\n",
       "    num_rows: 45\n",
       "})"
      ]
     },
     "execution_count": 37,
     "metadata": {},
     "output_type": "execute_result"
    }
   ],
   "source": [
    "nds"
   ]
  },
  {
   "cell_type": "code",
   "execution_count": 40,
   "id": "cc64617c-533f-4763-8a0b-5efddd3460d1",
   "metadata": {},
   "outputs": [
    {
     "data": {
      "text/plain": [
       "Dataset({\n",
       "    features: ['question', 'answer', 'url', 'group', 'doc_id', 'metadata'],\n",
       "    num_rows: 215\n",
       "})"
      ]
     },
     "execution_count": 40,
     "metadata": {},
     "output_type": "execute_result"
    }
   ],
   "source": [
    "fin_ds"
   ]
  },
  {
   "cell_type": "code",
   "execution_count": 39,
   "id": "73cf9364-6c1b-46a6-83da-62e2a9b353a2",
   "metadata": {},
   "outputs": [
    {
     "data": {
      "application/vnd.jupyter.widget-view+json": {
       "model_id": "fac0a74b65564d718e31882449ba4420",
       "version_major": 2,
       "version_minor": 0
      },
      "text/plain": [
       "Uploading the dataset shards:   0%|          | 0/1 [00:00<?, ?it/s]"
      ]
     },
     "metadata": {},
     "output_type": "display_data"
    },
    {
     "data": {
      "application/vnd.jupyter.widget-view+json": {
       "model_id": "e77057ccc9ec418ea34ad198723b050e",
       "version_major": 2,
       "version_minor": 0
      },
      "text/plain": [
       "Creating parquet from Arrow format:   0%|          | 0/1 [00:00<?, ?ba/s]"
      ]
     },
     "metadata": {},
     "output_type": "display_data"
    },
    {
     "data": {
      "application/vnd.jupyter.widget-view+json": {
       "model_id": "d111f60d422949488b22149ca5846d15",
       "version_major": 2,
       "version_minor": 0
      },
      "text/plain": [
       "README.md:   0%|          | 0.00/786 [00:00<?, ?B/s]"
      ]
     },
     "metadata": {},
     "output_type": "display_data"
    },
    {
     "data": {
      "text/plain": [
       "CommitInfo(commit_url='https://huggingface.co/datasets/BroDeadlines/QA.TDT.FQA_tu_van_hoc_duong/commit/339a4ccad552cd75f86aa5daa2412a2abcda7f93', commit_message='Upload dataset', commit_description='', oid='339a4ccad552cd75f86aa5daa2412a2abcda7f93', pr_url=None, pr_revision=None, pr_num=None)"
      ]
     },
     "execution_count": 39,
     "metadata": {},
     "output_type": "execute_result"
    }
   ],
   "source": [
    "fin_ds = concatenate_datasets([main_ds, nds])\n",
    "fin_ds.push_to_hub(\"BroDeadlines/QA.TDT.FQA_tu_van_hoc_duong\", split=\"train\")"
   ]
  },
  {
   "cell_type": "markdown",
   "id": "1117a6f0-3413-455f-bc66-f7670808e4f6",
   "metadata": {},
   "source": [
    "## Crawl QA data"
   ]
  },
  {
   "cell_type": "code",
   "execution_count": 1,
   "id": "dadf6535-954a-44b6-bfe2-f1e029a81fbc",
   "metadata": {},
   "outputs": [],
   "source": [
    "import requests\n",
    "from bs4 import BeautifulSoup\n",
    "\n",
    "def download_and_process(url):\n",
    "  \"\"\"Downloads the HTML content from the given URL and processes it using BeautifulSoup.\n",
    "\n",
    "  Args:\n",
    "    url: The URL of the webpage to download.\n",
    "\n",
    "  Returns:\n",
    "    A BeautifulSoup object representing the parsed HTML content.\n",
    "  \"\"\"\n",
    "\n",
    "  try:\n",
    "    response = requests.get(url)\n",
    "    response.raise_for_status()  # Raise an exception for error HTTP statuses\n",
    "    soup = BeautifulSoup(response.content, 'html.parser')\n",
    "    return soup\n",
    "  except requests.exceptions.RequestException as e:\n",
    "    print(f\"Error downloading HTML: {e}\")\n",
    "  except Exception as e:\n",
    "    print(f\"Error processing HTML: {e}\")\n",
    "  return None\n",
    "\n",
    "# Example usage:\n",
    "url = \"http://tuyensinh.hub.edu.vn/he-dao-tao/cau-hoi-tuyen-sinh-2023-106.html\"\n",
    "soup = download_and_process(url)"
   ]
  },
  {
   "cell_type": "code",
   "execution_count": 4,
   "id": "02903220-0c48-4e73-a267-6e03d41a2aee",
   "metadata": {},
   "outputs": [
    {
     "data": {
      "text/plain": [
       "'Câu hỏi tuyển sinh 2024'"
      ]
     },
     "execution_count": 4,
     "metadata": {},
     "output_type": "execute_result"
    }
   ],
   "source": [
    "title = soup.title.string\n",
    "title"
   ]
  },
  {
   "cell_type": "code",
   "execution_count": 16,
   "id": "75bd1301-bc1f-497f-a079-ee7fb5da128d",
   "metadata": {},
   "outputs": [],
   "source": [
    "title = soup.select(\".thongbao_tieude\")[0]\n",
    "content = soup.select(\".thongbao_text\")[0]\n",
    "# content.text"
   ]
  },
  {
   "cell_type": "code",
   "execution_count": 18,
   "id": "05731efc-e738-484c-8a6d-b2bac8c299e0",
   "metadata": {},
   "outputs": [
    {
     "data": {
      "text/plain": [
       "59"
      ]
     },
     "execution_count": 18,
     "metadata": {},
     "output_type": "execute_result"
    }
   ],
   "source": [
    "txts = content.text.split(\"?\")\n",
    "len(txts)"
   ]
  },
  {
   "cell_type": "code",
   "execution_count": 43,
   "id": "cea928d6-dff5-4a69-b6f5-d25fb0808591",
   "metadata": {},
   "outputs": [
    {
     "data": {
      "text/plain": [
       "62"
      ]
     },
     "execution_count": 43,
     "metadata": {},
     "output_type": "execute_result"
    }
   ],
   "source": [
    "import re\n",
    "pattern = r\"Câu| .\\d.*\\?\"\n",
    "str = content.text\n",
    "a = re.split(pattern, str)\n",
    "len(a)"
   ]
  },
  {
   "cell_type": "code",
   "execution_count": 44,
   "id": "9c47ea32-fe2b-4e49-88c4-34677f955eb5",
   "metadata": {},
   "outputs": [
    {
     "data": {
      "text/plain": [
       "'\\n\\nTRƯỜNG ĐẠI HỌC NGÂN HÀNG TP.HCM\\n\\nPHÒNG TƯ VẤN TUYỂN SINH VÀ PHÁT TRIỂN THƯƠNG HIỆU\\n\\r\\n\\t\\xa0\\n\\nCÁC CÂU HỎI TUYỂN SINH ĐẠI HỌC CHÍNH QUY NĂM 2023 THƯỜNG GẶP\\n\\r\\n\\t\\xa0\\n\\n\\n1. Trường Đại học Ngân hàng TP.HCM là đại học công lập hay đại học dân lập? Đã được thành lập lâu chưa ?\\xa0\\n\\n\\r\\n\\t\\t\\t- Trường ĐH Ngân hàng TP.HCM là trường ĐH công lập, trực thuộc Ngân hàng nhà nước Việt Nam. Trường Đại học Ngân hàng TP.HCM chính thức được thành lập ngày 16/12/1976. Trải qua nhiều giai đoạn phát triển với những tên gọi khác nhau, ngày 20/8/2003, Trường chính thức lấy tên gọi là Trường Đại học Ngân hàng Tp. Hồ Chí Minh theo Quyết định số 174/2003/QĐ-TTg của Thủ tướng Chính phủ.\\xa0\\xa0\\n\\r\\n\\t\\t\\t- Với lịch sử gần 50năm hình thành và phát triển, Trường ngày càng khẳng định được vị thế của một trong những trường đại học đa ngành hàng đầu về đào tạo, nghiên cứu khoa học, chuyển giao công nghệ trong lĩnh vực kinh tế, tài chính- ngân hàng, kinh doanh, quản lý, luật, ngôn ngữ, công nghệ\\n\\r\\n\\t\\t\\t- Trường Đại học Ngân hàng TP.HCM đã trở thành cái nôi đào tạo nhiều thế hệ chuyên gia, nhà quản lý, doanh nhân thành đạt.\\xa0\\n\\r\\n\\t\\t\\t- Trường đã được cấp các chứng nhận kiểm định trong và ngoài nước như: Chứng nhận kiểm định chất lượng giáo dục đại học theo tiêu chuẩn của Bộ GD&ĐT Việt Nam (MOET); 06 Chương trình đào tạo được cấp Chứng nhận kiểm định quốc tế theo bộ tiêu chuẩn của Hiệp hội các trường đại học Đông Nam Á (Asean University Network – Quality Assurance - AUN-QA); Chứng nhận Hệ thống quản lý chất lượng theo tiêu chuẩn ISO 9001:2015 của Tổ chức Afnor Cộng hòa Pháp.\\n\\n\\r\\n\\t\\t\\xa0\\n\\n2. Trường Đại học Ngân hàng có các bậc hệ và ngành đào tạo nào ?\\n\\n\\r\\n\\t\\t\\t\\xa0 \\xa0 \\xa0 \\xa0 \\xa0 Trường có các chương trình và hình thức đào tạo đa dang đáp ứng nhu cầu của người học với 7 ngành, các bậc đào tạo từ đại học, thạc sĩ, đến tiến sĩvới khoảng 40 chương trình đào tạo.\\xa0\\xa0\\n\\r\\n\\t\\t\\tChương trình Tiến sĩ : Ngành Tài chính Ngân hàng(ĐH Ngân hàng cấp bằng), Quản trị kinh doanh (ĐH Ngân hàng cấp bằng), Tài chính ngân hàng (liên kết đào tạo với ĐH Bolton, Anh Quốc; ĐH Bolton cấp bằng).\\n\\r\\n\\t\\t\\t\\xa0\\xa0\\xa0\\xa0\\xa0\\xa0 Chương trình Thạc sĩ : Tài chính Ngân hàng, Quản trị kinh doanh, Thạc sĩ luật kinh tế, Thạc sĩ Quản trị kinh doanh (liên kết với Đại học Bolton, Anh Quốc).\\n\\r\\n\\t\\t\\t\\xa0\\xa0\\xa0\\xa0\\xa0\\xa0 Chương trình ĐHCQ chất lượng cao gồm các ngành: Tài chính Ngân hàng, Kế toán, Quản trị kinh doanh\\n\\r\\n\\t\\t\\t\\xa0\\xa0\\xa0\\xa0\\xa0\\xa0\\xa0 Chương trình ĐHCQ quốc tế cấp song bằng gồm các ngành: Quản trị kinh doanh (ĐH Bolton, Anh Quốc và ĐH Ngân hàng TP.HCM cấp bằng)với các chương trình: Quản trị kinh doanh, Tài chính, Marketing, Quản lý chuỗi cung ứng\\n\\r\\n\\t\\t\\t\\xa0\\xa0\\xa0\\xa0\\xa0\\xa0 Chương trình ĐHCQ chuẩn (Chương trình đại trà) gồm các ngành: Tài chính Ngân hàng, Kế toán, Quản trị kinh doanh, Hệ thống thông tin quản lý, Kinh tế quốc tế, Luật kinh tế, Ngôn ngữ Anh.\\n\\r\\n\\t\\t\\t\\xa0\\xa0\\xa0\\xa0\\xa0\\xa0 Chương trình ĐHCQ quốc tế do đối tác cấp bằng: Quản trị kinh doanh (ĐH Bolton, Anh Quốc cấp bằng)với các chương trình: Quản trị kinh doanh, Tài chính, Marketing, Quản lý chuỗi cung ứng.\\n\\r\\n\\t\\t\\tChương trình Đại học hệ vừa làm vừa học: Tài chính Ngân hàng\\n\\r\\n\\t\\t\\t\\xa0\\xa0\\xa0\\xa0\\xa0\\xa0 Đặc biệt Trường có 08 chương trình đào tạo theo định hướng chuyển đổi số như: Công nghệ tài chính (Fintech), Kinh doanh số (E – Business), Kế toán số (Digital Accounting), Hệ thống thông tin kinh doanh và chuyển đổi số, Quản trị thương mại điện tử, Khoa học dữ liệu trong kinh doanh, Kinh tế và kinh doanh số, Digital Marketing.\\n\\r\\n\\t\\t\\t\\xa0\\xa0\\xa0\\xa0\\xa0\\xa0 Các chương trình đào tạo ngoại ngữ tin học được triển khai tại Trung tâm Ngoại ngữ Tin Học (www.flic.edu.vn).\\n\\r\\n\\t\\t\\t\\xa0\\xa0\\xa0\\xa0\\xa0\\xa0\\xa0 Các chương trình đào tạo bồi dưỡng ngắn hạn, được triển khai đào tạo tại Trung tâm Đào tạo Kinh tế - Tài chính – Ngân hàng (www.fbc.buh.edu.vn)\\n\\r\\n\\t\\t\\t\\xa0\\n\\n\\n3. Trường có bao nhiêu cơ sở, sinh viên sẽ học tại đâu ?\\n\\n\\r\\n\\t\\t\\tTrường hiện có 03 cơ sở đào tạo : Trụ sở chính nằm tại 36 Tôn Tất Đạm - Quận 1, cơ sở 39 Hàm Nghi - Quận 1 và Cơ sở đào tạo lớn nhất nằm tại số\\xa0 là 56 Hoàng Diệu 2 – Thành phốThủ Đức.\\n\\n\\r\\n\\t\\t\\xa0\\n\\n4. Sinh viên đại học chính quy sẽ học tại cơ sở nào ?\\n\\n\\r\\n\\t\\t\\t- Chương trình Đại học chính quy chuẩn, ĐHCQ chất lượng caohọc tập trung tại cơ sở 56 Hoàng Diệu 2, Phường Linh Chiểu, Quận Thủ Đức, TP.Hồ Chí Minh.\\n\\r\\n\\t\\t\\t- Chương trình Đại học chính quy chất lượng cao có thể lựa chọn đăng ký một số học phần học tại cơ sở 36 Tôn Thất Đạm, Quận 1, TP.HCM\\n\\r\\n\\t\\t\\t- \\xa0Chương trình Đại học chính quy quốc tế cấp song bằng, ĐHCQ quốc tế do đối tác cấp bằnghọc tại cơ sở 39 Hàm Nghi, Quận 1, trường hợp đủ số lượng sinh viên đăng ký Trường có thể mở lớp tại cơ sở Thủ Đức.\\n\\n\\r\\n\\t\\t\\xa0\\n\\n5. Năm'"
      ]
     },
     "execution_count": 44,
     "metadata": {},
     "output_type": "execute_result"
    }
   ],
   "source": [
    "a[0]"
   ]
  }
 ],
 "metadata": {
  "kernelspec": {
   "display_name": "Python 3 (ipykernel)",
   "language": "python",
   "name": "python3"
  },
  "language_info": {
   "codemirror_mode": {
    "name": "ipython",
    "version": 3
   },
   "file_extension": ".py",
   "mimetype": "text/x-python",
   "name": "python",
   "nbconvert_exporter": "python",
   "pygments_lexer": "ipython3",
   "version": "3.9.18"
  }
 },
 "nbformat": 4,
 "nbformat_minor": 5
}
