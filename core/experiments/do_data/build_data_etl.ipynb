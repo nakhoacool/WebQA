{
 "cells": [
  {
   "cell_type": "code",
   "execution_count": 1,
   "metadata": {},
   "outputs": [],
   "source": [
    "import sys\n",
    "sys.path.append(\"../..\")\n",
    "from datasets import load_dataset\n",
    "from src.service.provider import ProviderService\n",
    "from src.utils.type_utils import create_langchain_doc\n",
    "\n",
    "DATA_REPO = \"BroDeadlines/TEST.TDT.mini.tdt_copora_data\"\n",
    "DATA_REPO = \"BroDeadlines/TEST.UEH.ueh_copora_data\"\n",
    "SUBSET = \"compact\"\n",
    "provider = ProviderService()"
   ]
  },
  {
   "cell_type": "markdown",
   "metadata": {
    "jp-MarkdownHeadingCollapsed": true
   },
   "source": [
    "# Push Hugging Face dataset to ES\n",
    "\n",
    "- data from hugging face\n",
    "- push vector data \n"
   ]
  },
  {
   "cell_type": "code",
   "execution_count": 2,
   "metadata": {},
   "outputs": [],
   "source": [
    "dataset = load_dataset(DATA_REPO, split=SPLIT)\n",
    "index = SPLIT.lower()\n",
    "\n",
    "vec_idx = f\"vec-{index}\"\n",
    "text_idx = f\"text-{index}\"\n",
    "\n",
    "es = provider.get_elasticsearch_store(vec_idx)\n",
    "bm = provider.get_elasticsearch_bm25(text_idx)"
   ]
  },
  {
   "cell_type": "code",
   "execution_count": 3,
   "metadata": {},
   "outputs": [
    {
     "data": {
      "text/plain": [
       "Dataset({\n",
       "    features: ['content', 'url', 'doc_id', 'shards', 'splits'],\n",
       "    num_rows: 344\n",
       "})"
      ]
     },
     "execution_count": 3,
     "metadata": {},
     "output_type": "execute_result"
    }
   ],
   "source": [
    "dataset"
   ]
  },
  {
   "cell_type": "code",
   "execution_count": 4,
   "metadata": {},
   "outputs": [
    {
     "name": "stdout",
     "output_type": "stream",
     "text": [
      "4.863739013671875e-05\n"
     ]
    }
   ],
   "source": [
    "from time import time\n",
    "start = time()\n",
    "a = [212]*455\n",
    "end = time()\n",
    "print(end - start)"
   ]
  },
  {
   "cell_type": "code",
   "execution_count": 5,
   "metadata": {},
   "outputs": [],
   "source": [
    "start = time()\n",
    "for row in dataset:\n",
    "    meta = {\"doc_id\": row['doc_id']}\n",
    "    docs = [create_langchain_doc(content=split, metadata=meta) for split in row['splits']]\n",
    "    es.add_documents(docs)\n",
    "    bm.add_documents(docs)\n",
    "\n",
    "end = time()"
   ]
  },
  {
   "cell_type": "code",
   "execution_count": 6,
   "metadata": {},
   "outputs": [
    {
     "data": {
      "text/plain": [
       "5.594338897864024"
      ]
     },
     "execution_count": 6,
     "metadata": {},
     "output_type": "execute_result"
    }
   ],
   "source": [
    "(end-start) / 60"
   ]
  },
  {
   "cell_type": "code",
   "execution_count": 8,
   "metadata": {},
   "outputs": [
    {
     "data": {
      "text/plain": [
       "'vec-index.medium_index_tdt'"
      ]
     },
     "execution_count": 8,
     "metadata": {},
     "output_type": "execute_result"
    }
   ],
   "source": [
    "vec_idx"
   ]
  },
  {
   "cell_type": "code",
   "execution_count": 9,
   "metadata": {},
   "outputs": [
    {
     "data": {
      "text/plain": [
       "'text-index.medium_index_tdt'"
      ]
     },
     "execution_count": 9,
     "metadata": {},
     "output_type": "execute_result"
    }
   ],
   "source": [
    "text_idx"
   ]
  },
  {
   "cell_type": "markdown",
   "metadata": {},
   "source": [
    "# Push Proposition dataset to ES"
   ]
  },
  {
   "cell_type": "code",
   "execution_count": 2,
   "metadata": {},
   "outputs": [
    {
     "data": {
      "text/plain": [
       "DatasetDict({\n",
       "    train: Dataset({\n",
       "        features: ['url', 'content', 'doc_id', 'metadata', 'split', 'shards', 'propositions', 'proposition_list', '__index_level_0__'],\n",
       "        num_rows: 196\n",
       "    })\n",
       "})"
      ]
     },
     "execution_count": 2,
     "metadata": {},
     "output_type": "execute_result"
    }
   ],
   "source": [
    "proposition_ds = load_dataset(DATA_REPO)\n",
    "proposition_ds"
   ]
  },
  {
   "cell_type": "code",
   "execution_count": 5,
   "metadata": {},
   "outputs": [
    {
     "data": {
      "application/vnd.jupyter.widget-view+json": {
       "model_id": "efae7b307013484aa27b9aec78837c92",
       "version_major": 2,
       "version_minor": 0
      },
      "text/plain": [
       "Map:   0%|          | 0/257 [00:00<?, ? examples/s]"
      ]
     },
     "metadata": {},
     "output_type": "display_data"
    },
    {
     "name": "stdout",
     "output_type": "stream",
     "text": [
      "Counter()\n"
     ]
    }
   ],
   "source": [
    "from collections import Counter\n",
    "lengths = []\n",
    "list_lengths = []\n",
    "\n",
    "def check_length(row):\n",
    "    # lnstr = f\"len{len(row['proposition_str'])}\"\n",
    "    list_lengths.append(f\"len{len(row['proposition_list'])}\")\n",
    "    # lengths.append(lnstr)\n",
    "    return\n",
    "\n",
    "proposition_ds.map(check_length)\n",
    "print(Counter(lengths))\n",
    "# Counter(list_lengths)"
   ]
  },
  {
   "cell_type": "code",
   "execution_count": 3,
   "metadata": {},
   "outputs": [
    {
     "data": {
      "application/vnd.jupyter.widget-view+json": {
       "model_id": "b901c75856074c29b99cce0f34ead6eb",
       "version_major": 2,
       "version_minor": 0
      },
      "text/plain": [
       "Filter:   0%|          | 0/196 [00:00<?, ? examples/s]"
      ]
     },
     "metadata": {},
     "output_type": "display_data"
    },
    {
     "data": {
      "text/plain": [
       "DatasetDict({\n",
       "    train: Dataset({\n",
       "        features: ['url', 'content', 'doc_id', 'metadata', 'split', 'shards', 'propositions', 'proposition_list', '__index_level_0__'],\n",
       "        num_rows: 195\n",
       "    })\n",
       "})"
      ]
     },
     "execution_count": 3,
     "metadata": {},
     "output_type": "execute_result"
    }
   ],
   "source": [
    "# proposition_filtered_ds = proposition_ds.filter(lambda e: e['url'] == \"https://tuvanhocduong.tdtu.edu.vn/News\" and sum([len(a) for a in e['propositions']]) > 0)\n",
    "proposition_filtered_ds = proposition_ds.filter(lambda e: len(e['proposition_list']) > 0)\n",
    "proposition_filtered_ds"
   ]
  },
  {
   "cell_type": "markdown",
   "metadata": {},
   "source": [
    "## Full-text option"
   ]
  },
  {
   "cell_type": "code",
   "execution_count": 4,
   "metadata": {},
   "outputs": [],
   "source": [
    "index = \"ueh-unique\"\n",
    "\n",
    "vec_idx = f\"vec-sentence-{index}\"\n",
    "text_idx = f\"text-sentence-{index}\"\n",
    "\n",
    "es = provider.get_elasticsearch_store(vec_idx)\n",
    "bm = provider.get_elasticsearch_bm25(text_idx)\n",
    "\n",
    "errors = []\n",
    "\n",
    "def build_doc_upload(row):\n",
    "    # full-text\n",
    "    propos = row['propositions']\n",
    "    meta = {\"doc_id\": row['doc_id']}\n",
    "    docs = [create_langchain_doc(content=prop, metadata=meta) for prop in row['propositions']]\n",
    "    try:\n",
    "        es.add_documents(docs)\n",
    "        bm.add_documents(docs)\n",
    "    except:\n",
    "        errors.append(meta['doc_id'])\n",
    "        print(\"ERROR\")\n",
    "    return\n",
    "\n",
    "def build_doc_upload_v2(row):\n",
    "    # sentence-level\n",
    "    meta = {\"doc_id\": row['doc_id']}\n",
    "    docs = [create_langchain_doc(content=prop, metadata=meta) for prop in row['proposition_list']]\n",
    "    try:\n",
    "        es.add_documents(docs)\n",
    "        bm.add_documents(docs)\n",
    "    except:\n",
    "        errors.append(meta['doc_id'])\n",
    "        print(\"ERROR\")\n",
    "    return"
   ]
  },
  {
   "cell_type": "code",
   "execution_count": 5,
   "metadata": {},
   "outputs": [
    {
     "name": "stdout",
     "output_type": "stream",
     "text": [
      "vec-sentence-ueh-unique\n",
      "text-sentence-ueh-unique\n"
     ]
    }
   ],
   "source": [
    "print(vec_idx)\n",
    "print(text_idx)"
   ]
  },
  {
   "cell_type": "code",
   "execution_count": 6,
   "metadata": {},
   "outputs": [
    {
     "name": "stderr",
     "output_type": "stream",
     "text": [
      "Parameter 'function'=<function build_doc_upload_v2 at 0x7f80347e35e0> of the transform datasets.arrow_dataset.Dataset._map_single couldn't be hashed properly, a random hash was used instead. Make sure your transforms and parameters are serializable with pickle or dill for the dataset fingerprinting and caching to work. If you reuse this transform, the caching mechanism will consider it to be different from the previous calls and recompute everything. This warning is only showed once. Subsequent hashing failures won't be showed.\n"
     ]
    },
    {
     "data": {
      "application/vnd.jupyter.widget-view+json": {
       "model_id": "589ce4bb781a4bd2875bf81a9aa4017e",
       "version_major": 2,
       "version_minor": 0
      },
      "text/plain": [
       "Map:   0%|          | 0/195 [00:00<?, ? examples/s]"
      ]
     },
     "metadata": {},
     "output_type": "display_data"
    },
    {
     "data": {
      "text/plain": [
       "DatasetDict({\n",
       "    train: Dataset({\n",
       "        features: ['url', 'content', 'doc_id', 'metadata', 'split', 'shards', 'propositions', 'proposition_list', '__index_level_0__'],\n",
       "        num_rows: 195\n",
       "    })\n",
       "})"
      ]
     },
     "execution_count": 6,
     "metadata": {},
     "output_type": "execute_result"
    }
   ],
   "source": [
    "proposition_filtered_ds.map(build_doc_upload_v2)"
   ]
  },
  {
   "cell_type": "code",
   "execution_count": 11,
   "metadata": {},
   "outputs": [
    {
     "data": {
      "text/plain": [
       "[]"
      ]
     },
     "execution_count": 11,
     "metadata": {},
     "output_type": "execute_result"
    }
   ],
   "source": [
    "errors"
   ]
  }
 ],
 "metadata": {
  "kernelspec": {
   "display_name": "Python 3 (ipykernel)",
   "language": "python",
   "name": "python3"
  },
  "language_info": {
   "codemirror_mode": {
    "name": "ipython",
    "version": 3
   },
   "file_extension": ".py",
   "mimetype": "text/x-python",
   "name": "python",
   "nbconvert_exporter": "python",
   "pygments_lexer": "ipython3",
   "version": "3.9.18"
  }
 },
 "nbformat": 4,
 "nbformat_minor": 4
}
