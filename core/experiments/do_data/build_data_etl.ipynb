{
 "cells": [
  {
   "cell_type": "code",
   "execution_count": 1,
   "metadata": {},
   "outputs": [],
   "source": [
    "import sys\n",
    "sys.path.append(\"../..\")\n",
    "from datasets import load_dataset\n",
    "from src.service.provider import ProviderService\n",
    "from src.utils.type_utils import create_langchain_doc\n",
    "\n",
    "DATA_REPO = \"BroDeadlines/TEST.basic_test_tdt_dataset\"\n",
    "SPLIT = \"INDEX.medium_index_TDT\"\n",
    "provider = ProviderService()"
   ]
  },
  {
   "cell_type": "markdown",
   "metadata": {
    "jp-MarkdownHeadingCollapsed": true
   },
   "source": [
    "# Push Hugging Face dataset to ES\n",
    "\n",
    "- data from hugging face\n",
    "- push vector data \n"
   ]
  },
  {
   "cell_type": "code",
   "execution_count": 2,
   "metadata": {},
   "outputs": [],
   "source": [
    "dataset = load_dataset(DATA_REPO, split=SPLIT)\n",
    "index = SPLIT.lower()\n",
    "\n",
    "vec_idx = f\"vec-{index}\"\n",
    "text_idx = f\"text-{index}\"\n",
    "\n",
    "es = provider.get_elasticsearch_store(vec_idx)\n",
    "bm = provider.get_elasticsearch_bm25(text_idx)"
   ]
  },
  {
   "cell_type": "code",
   "execution_count": 3,
   "metadata": {},
   "outputs": [
    {
     "data": {
      "text/plain": [
       "Dataset({\n",
       "    features: ['content', 'url', 'doc_id', 'shards', 'splits'],\n",
       "    num_rows: 344\n",
       "})"
      ]
     },
     "execution_count": 3,
     "metadata": {},
     "output_type": "execute_result"
    }
   ],
   "source": [
    "dataset"
   ]
  },
  {
   "cell_type": "code",
   "execution_count": 4,
   "metadata": {},
   "outputs": [
    {
     "name": "stdout",
     "output_type": "stream",
     "text": [
      "4.863739013671875e-05\n"
     ]
    }
   ],
   "source": [
    "from time import time\n",
    "start = time()\n",
    "a = [212]*455\n",
    "end = time()\n",
    "print(end - start)"
   ]
  },
  {
   "cell_type": "code",
   "execution_count": 5,
   "metadata": {},
   "outputs": [],
   "source": [
    "start = time()\n",
    "for row in dataset:\n",
    "    meta = {\"doc_id\": row['doc_id']}\n",
    "    docs = [create_langchain_doc(content=split, metadata=meta) for split in row['splits']]\n",
    "    es.add_documents(docs)\n",
    "    bm.add_documents(docs)\n",
    "\n",
    "end = time()"
   ]
  },
  {
   "cell_type": "code",
   "execution_count": 6,
   "metadata": {},
   "outputs": [
    {
     "data": {
      "text/plain": [
       "5.594338897864024"
      ]
     },
     "execution_count": 6,
     "metadata": {},
     "output_type": "execute_result"
    }
   ],
   "source": [
    "(end-start) / 60"
   ]
  },
  {
   "cell_type": "code",
   "execution_count": 8,
   "metadata": {},
   "outputs": [
    {
     "data": {
      "text/plain": [
       "'vec-index.medium_index_tdt'"
      ]
     },
     "execution_count": 8,
     "metadata": {},
     "output_type": "execute_result"
    }
   ],
   "source": [
    "vec_idx"
   ]
  },
  {
   "cell_type": "code",
   "execution_count": 9,
   "metadata": {},
   "outputs": [
    {
     "data": {
      "text/plain": [
       "'text-index.medium_index_tdt'"
      ]
     },
     "execution_count": 9,
     "metadata": {},
     "output_type": "execute_result"
    }
   ],
   "source": [
    "text_idx"
   ]
  },
  {
   "cell_type": "markdown",
   "metadata": {},
   "source": [
    "# Push Proposition dataset to ES"
   ]
  },
  {
   "cell_type": "code",
   "execution_count": 2,
   "metadata": {},
   "outputs": [
    {
     "data": {
      "application/vnd.jupyter.widget-view+json": {
       "model_id": "f0f4bd72d3c7495bb87a47dd1d97901e",
       "version_major": 2,
       "version_minor": 0
      },
      "text/plain": [
       "Downloading readme:   0%|          | 0.00/1.55k [00:00<?, ?B/s]"
      ]
     },
     "metadata": {},
     "output_type": "display_data"
    },
    {
     "name": "stderr",
     "output_type": "stream",
     "text": [
      "Downloading data: 100%|████████████████████████████████████████| 5.02M/5.02M [00:01<00:00, 3.62MB/s]\n",
      "Downloading data: 100%|████████████████████████████████████████| 5.02M/5.02M [00:01<00:00, 3.85MB/s]\n",
      "Downloading data: 100%|████████████████████████████████████████| 5.02M/5.02M [00:00<00:00, 6.24MB/s]\n"
     ]
    },
    {
     "data": {
      "application/vnd.jupyter.widget-view+json": {
       "model_id": "b752f0b861a743e688d915cc950c141f",
       "version_major": 2,
       "version_minor": 0
      },
      "text/plain": [
       "Generating propositon_medium_edu_tdt split:   0%|          | 0/344 [00:00<?, ? examples/s]"
      ]
     },
     "metadata": {},
     "output_type": "display_data"
    },
    {
     "data": {
      "application/vnd.jupyter.widget-view+json": {
       "model_id": "b20b89fe78524e1da3244a18a83732f1",
       "version_major": 2,
       "version_minor": 0
      },
      "text/plain": [
       "Generating INDEX.medium_index_TDT split:   0%|          | 0/344 [00:00<?, ? examples/s]"
      ]
     },
     "metadata": {},
     "output_type": "display_data"
    },
    {
     "data": {
      "application/vnd.jupyter.widget-view+json": {
       "model_id": "35462175da58471d923ebc2fbf7b5bc4",
       "version_major": 2,
       "version_minor": 0
      },
      "text/plain": [
       "Generating INDEX.medium_index_TDT_clean split:   0%|          | 0/344 [00:00<?, ? examples/s]"
      ]
     },
     "metadata": {},
     "output_type": "display_data"
    }
   ],
   "source": [
    "DATA_REPO = \"BroDeadlines/TEST.edu_tdt_proposition_data\"\n",
    "# SPLIT = \"propositon_medium_edu_tdt\"\n",
    "SPLIT = \"INDEX.medium_index_TDT_clean\"\n",
    "\n",
    "proposition_ds = load_dataset(DATA_REPO, split=SPLIT)"
   ]
  },
  {
   "cell_type": "code",
   "execution_count": 4,
   "metadata": {},
   "outputs": [
    {
     "data": {
      "text/plain": [
       "['Trong thời gian đóng học phí theo thông báo của phòng Tài chính, sinh viên thuộc diện khó khăn (có minh chứng) có thể nộp đơn xin gia hạn học phí trực tuyến.\\nSinh viên nộp đơn xin gia hạn học phí trực tuyến bằng cách vào Hệ thống thông tin sinh viên, phân hệ Nộp đơn trực tuyến.\\nSinh viên chọn học kỳ muốn gia hạn học phí.\\nSinh viên chọn loại đơn cần nộp.\\nSinh viên tiến hành điền các thông tin cần thiết.\\nSinh viên theo dõi kết quả trả lời đơn để biết đơn có được cho gia hạn hay không.\\nViệc nộp đơn trực tuyến chỉ áp dụng với đợt đóng học phí đầu tiên của học kỳ chính.\\nNếu sinh viên có nguyện vọng gia hạn thời gian đóng học phí ở các đợt đóng tiếp theo, sinh viên có thể nộp đơn gia hạn thời gian đóng học phí.\\nSinh viên đính kèm minh chứng khi nộp đơn gia hạn thời gian đóng học phí.\\nSinh viên nộp đơn gia hạn thời gian đóng học phí về cho phòng Công tác tác Học sinh - Sinh viên (A.0003) trong thời gian đóng học phí.']"
      ]
     },
     "execution_count": 4,
     "metadata": {},
     "output_type": "execute_result"
    }
   ],
   "source": [
    "proposition_ds[0]['propositions']"
   ]
  },
  {
   "cell_type": "code",
   "execution_count": 5,
   "metadata": {},
   "outputs": [
    {
     "data": {
      "application/vnd.jupyter.widget-view+json": {
       "model_id": "33d0a66295fc49eda06c36837d73bb3e",
       "version_major": 2,
       "version_minor": 0
      },
      "text/plain": [
       "Map:   0%|          | 0/344 [00:00<?, ? examples/s]"
      ]
     },
     "metadata": {},
     "output_type": "display_data"
    },
    {
     "name": "stdout",
     "output_type": "stream",
     "text": [
      "Counter({'len1': 344})\n"
     ]
    }
   ],
   "source": [
    "from collections import Counter\n",
    "lengths = []\n",
    "list_lengths = []\n",
    "\n",
    "def check_length(row):\n",
    "    lnstr = f\"len{len(row['propositions'])}\"\n",
    "    list_lengths.append(f\"len{len(row['proposition_list'])}\")\n",
    "    lengths.append(lnstr)\n",
    "    return\n",
    "\n",
    "proposition_ds.map(check_length)\n",
    "print(Counter(lengths))\n",
    "# Counter(list_lengths)"
   ]
  },
  {
   "cell_type": "code",
   "execution_count": 6,
   "metadata": {},
   "outputs": [
    {
     "data": {
      "application/vnd.jupyter.widget-view+json": {
       "model_id": "c2d48afa99414f6780f6017fb20fbdbb",
       "version_major": 2,
       "version_minor": 0
      },
      "text/plain": [
       "Filter:   0%|          | 0/344 [00:00<?, ? examples/s]"
      ]
     },
     "metadata": {},
     "output_type": "display_data"
    },
    {
     "data": {
      "text/plain": [
       "Dataset({\n",
       "    features: ['content', 'url', 'doc_id', 'shards', 'splits', 'split', 'propositions', 'proposition_list'],\n",
       "    num_rows: 144\n",
       "})"
      ]
     },
     "execution_count": 6,
     "metadata": {},
     "output_type": "execute_result"
    }
   ],
   "source": [
    "proposition_filtered_ds = proposition_ds.filter(lambda e: e['url'] == \"https://tuvanhocduong.tdtu.edu.vn/News\" and sum([len(a) for a in e['propositions']]) > 0)\n",
    "proposition_filtered_ds"
   ]
  },
  {
   "cell_type": "code",
   "execution_count": 7,
   "metadata": {},
   "outputs": [
    {
     "name": "stdout",
     "output_type": "stream",
     "text": [
      "Trong thời gian đóng học phí theo thông báo của phòng Tài chính, sinh viên thuộc diện khó khăn (có minh chứng) có thể nộp đơn xin gia hạn học phí trực tuyến.\n",
      "Sinh viên nộp đơn xin gia hạn học phí trực tuyến bằng cách vào Hệ thống thông tin sinh viên, phân hệ Nộp đơn trực tuyến.\n",
      "Sinh viên chọn học kỳ muốn gia hạn học phí.\n",
      "Sinh viên chọn loại đơn cần nộp.\n",
      "Sinh viên tiến hành điền các thông tin cần thiết.\n",
      "Sinh viên theo dõi kết quả trả lời đơn để biết đơn có được cho gia hạn hay không.\n",
      "Việc nộp đơn trực tuyến chỉ áp dụng với đợt đóng học phí đầu tiên của học kỳ chính.\n",
      "Nếu sinh viên có nguyện vọng gia hạn thời gian đóng học phí ở các đợt đóng tiếp theo, sinh viên có thể nộp đơn gia hạn thời gian đóng học phí.\n",
      "Sinh viên đính kèm minh chứng khi nộp đơn gia hạn thời gian đóng học phí.\n",
      "Sinh viên nộp đơn gia hạn thời gian đóng học phí về cho phòng Công tác tác Học sinh - Sinh viên (A.0003) trong thời gian đóng học phí.\n"
     ]
    }
   ],
   "source": [
    "import json\n",
    "a = proposition_ds[0]['propositions']\n",
    "b = json.loads(a[0])\n",
    "c = \"\\n\".join(b)\n",
    "print(c)"
   ]
  },
  {
   "cell_type": "code",
   "execution_count": 28,
   "metadata": {},
   "outputs": [
    {
     "data": {
      "text/plain": [
       "268151"
      ]
     },
     "execution_count": 28,
     "metadata": {},
     "output_type": "execute_result"
    }
   ],
   "source": [
    "len(errors)"
   ]
  },
  {
   "cell_type": "markdown",
   "metadata": {},
   "source": [
    "## Full-text option"
   ]
  },
  {
   "cell_type": "code",
   "execution_count": 7,
   "metadata": {},
   "outputs": [],
   "source": [
    "index = SPLIT.lower()\n",
    "\n",
    "vec_idx = f\"vec-sentence-{index}\"\n",
    "text_idx = f\"text-sentence-{index}\"\n",
    "\n",
    "es = provider.get_elasticsearch_store(vec_idx)\n",
    "bm = provider.get_elasticsearch_bm25(text_idx)\n",
    "\n",
    "errors = []\n",
    "\n",
    "def build_doc_upload(row):\n",
    "    # full-text\n",
    "    propos = row['propositions']\n",
    "    meta = {\"doc_id\": row['doc_id']}\n",
    "    docs = [create_langchain_doc(content=prop, metadata=meta) for prop in row['propositions']]\n",
    "    try:\n",
    "        es.add_documents(docs)\n",
    "        bm.add_documents(docs)\n",
    "    except:\n",
    "        errors.append(meta['doc_id'])\n",
    "        print(\"ERROR\")\n",
    "    return\n",
    "\n",
    "def build_doc_upload_v2(row):\n",
    "    # sentence-level\n",
    "    propos = row['propositions']\n",
    "    meta = {\"doc_id\": row['doc_id']}\n",
    "    docs = [create_langchain_doc(content=prop, metadata=meta) for prop in row['proposition_list']]\n",
    "    try:\n",
    "        es.add_documents(docs)\n",
    "        bm.add_documents(docs)\n",
    "    except:\n",
    "        errors.append(meta['doc_id'])\n",
    "        print(\"ERROR\")\n",
    "    return"
   ]
  },
  {
   "cell_type": "code",
   "execution_count": 8,
   "metadata": {},
   "outputs": [
    {
     "name": "stdout",
     "output_type": "stream",
     "text": [
      "vec-sentence-index.medium_index_tdt_clean\n"
     ]
    },
    {
     "data": {
      "text/plain": [
       "'text-sentence-index.medium_index_tdt_clean'"
      ]
     },
     "execution_count": 8,
     "metadata": {},
     "output_type": "execute_result"
    }
   ],
   "source": [
    "print(vec_idx)\n",
    "text_idx"
   ]
  },
  {
   "cell_type": "code",
   "execution_count": 9,
   "metadata": {},
   "outputs": [
    {
     "name": "stderr",
     "output_type": "stream",
     "text": [
      "Parameter 'function'=<function build_doc_upload at 0x7f3da82d2820> of the transform datasets.arrow_dataset.Dataset._map_single couldn't be hashed properly, a random hash was used instead. Make sure your transforms and parameters are serializable with pickle or dill for the dataset fingerprinting and caching to work. If you reuse this transform, the caching mechanism will consider it to be different from the previous calls and recompute everything. This warning is only showed once. Subsequent hashing failures won't be showed.\n"
     ]
    },
    {
     "data": {
      "application/vnd.jupyter.widget-view+json": {
       "model_id": "1a81145cff4a4c5783889a34df515d8c",
       "version_major": 2,
       "version_minor": 0
      },
      "text/plain": [
       "Map:   0%|          | 0/344 [00:00<?, ? examples/s]"
      ]
     },
     "metadata": {},
     "output_type": "display_data"
    },
    {
     "name": "stdout",
     "output_type": "stream",
     "text": [
      "ERROR\n"
     ]
    },
    {
     "data": {
      "text/plain": [
       "Dataset({\n",
       "    features: ['content', 'url', 'doc_id', 'shards', 'splits', 'split', 'propositions', 'proposition_list'],\n",
       "    num_rows: 344\n",
       "})"
      ]
     },
     "execution_count": 9,
     "metadata": {},
     "output_type": "execute_result"
    }
   ],
   "source": [
    "proposition_ds.map(build_doc_upload)"
   ]
  },
  {
   "cell_type": "code",
   "execution_count": 10,
   "metadata": {},
   "outputs": [
    {
     "data": {
      "text/plain": [
       "['ebe87ce2-13cc-11ef-b548-0242ac1c000c']"
      ]
     },
     "execution_count": 10,
     "metadata": {},
     "output_type": "execute_result"
    }
   ],
   "source": [
    "errors"
   ]
  }
 ],
 "metadata": {
  "kernelspec": {
   "display_name": "Python 3 (ipykernel)",
   "language": "python",
   "name": "python3"
  },
  "language_info": {
   "codemirror_mode": {
    "name": "ipython",
    "version": 3
   },
   "file_extension": ".py",
   "mimetype": "text/x-python",
   "name": "python",
   "nbconvert_exporter": "python",
   "pygments_lexer": "ipython3",
   "version": "3.9.18"
  }
 },
 "nbformat": 4,
 "nbformat_minor": 4
}
