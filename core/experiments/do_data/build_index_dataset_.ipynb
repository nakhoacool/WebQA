{
 "cells": [
  {
   "cell_type": "code",
   "execution_count": 1,
   "id": "2b976d06-98a4-482e-ac62-47e8157d9181",
   "metadata": {},
   "outputs": [],
   "source": [
    "import sys\n",
    "sys.path.append(\"../..\")\n",
    "from src.utils.text_utils import window_slide_split\n",
    "from datasets import concatenate_datasets, load_dataset"
   ]
  },
  {
   "cell_type": "markdown",
   "id": "60094d56-0706-476b-8ee0-7082c5cb59da",
   "metadata": {},
   "source": [
    "# Prepare QA set\n",
    "\n",
    "Create a new index dataset that ready for pushing to Vector DB"
   ]
  },
  {
   "cell_type": "markdown",
   "id": "25fde612",
   "metadata": {},
   "source": [
    "## Initial \n",
    "*Please* ignore if you has runned it before."
   ]
  },
  {
   "cell_type": "code",
   "execution_count": 5,
   "id": "f4174683-b693-40ff-b8d9-6039cf6bc3a4",
   "metadata": {},
   "outputs": [
    {
     "name": "stdout",
     "output_type": "stream",
     "text": [
      "(170, 2)\n"
     ]
    },
    {
     "data": {
      "text/html": [
       "<div>\n",
       "<style scoped>\n",
       "    .dataframe tbody tr th:only-of-type {\n",
       "        vertical-align: middle;\n",
       "    }\n",
       "\n",
       "    .dataframe tbody tr th {\n",
       "        vertical-align: top;\n",
       "    }\n",
       "\n",
       "    .dataframe thead th {\n",
       "        text-align: right;\n",
       "    }\n",
       "</style>\n",
       "<table border=\"1\" class=\"dataframe\">\n",
       "  <thead>\n",
       "    <tr style=\"text-align: right;\">\n",
       "      <th></th>\n",
       "      <th>question</th>\n",
       "      <th>answer</th>\n",
       "    </tr>\n",
       "  </thead>\n",
       "  <tbody>\n",
       "    <tr>\n",
       "      <th>0</th>\n",
       "      <td>Thủ tục và cách thức gia hạn đóng học phí như ...</td>\n",
       "      <td>Trong thời gian đóng học phí theo thông báo củ...</td>\n",
       "    </tr>\n",
       "    <tr>\n",
       "      <th>1</th>\n",
       "      <td>Xin cho em hỏi về thời gian và cách thức đổi B...</td>\n",
       "      <td>Thời gian đổi biên lai học phí của từng học k...</td>\n",
       "    </tr>\n",
       "    <tr>\n",
       "      <th>2</th>\n",
       "      <td>Lệ phí thi chứng chỉ MOS là bao nhiêu</td>\n",
       "      <td>Trong mỗi đợt thi MOS, Phòng Đại học có thông ...</td>\n",
       "    </tr>\n",
       "    <tr>\n",
       "      <th>3</th>\n",
       "      <td>Tiền tạm thu khi nhập học sẽ được sử dụng như ...</td>\n",
       "      <td>Đầu năm khi làm thủ tục nhập học, sinh viên s...</td>\n",
       "    </tr>\n",
       "    <tr>\n",
       "      <th>4</th>\n",
       "      <td>Nếu học ngành 2 thì học phí sẽ được tính như t...</td>\n",
       "      <td>Nếu sinh viên học ngành 2, mức học phí sẽ đượ...</td>\n",
       "    </tr>\n",
       "  </tbody>\n",
       "</table>\n",
       "</div>"
      ],
      "text/plain": [
       "                                            question  \\\n",
       "0  Thủ tục và cách thức gia hạn đóng học phí như ...   \n",
       "1  Xin cho em hỏi về thời gian và cách thức đổi B...   \n",
       "2              Lệ phí thi chứng chỉ MOS là bao nhiêu   \n",
       "3  Tiền tạm thu khi nhập học sẽ được sử dụng như ...   \n",
       "4  Nếu học ngành 2 thì học phí sẽ được tính như t...   \n",
       "\n",
       "                                              answer  \n",
       "0  Trong thời gian đóng học phí theo thông báo củ...  \n",
       "1   Thời gian đổi biên lai học phí của từng học k...  \n",
       "2  Trong mỗi đợt thi MOS, Phòng Đại học có thông ...  \n",
       "3   Đầu năm khi làm thủ tục nhập học, sinh viên s...  \n",
       "4   Nếu sinh viên học ngành 2, mức học phí sẽ đượ...  "
      ]
     },
     "execution_count": 5,
     "metadata": {},
     "output_type": "execute_result"
    }
   ],
   "source": [
    "import pandas as pd\n",
    "PATH = \"~/Downloads/QA.json\"\n",
    "\n",
    "df = pd.read_json(PATH)\n",
    "print(df.shape)\n",
    "df.head()"
   ]
  },
  {
   "cell_type": "code",
   "execution_count": 6,
   "id": "a177ae93-ee5e-40e4-8894-4a5b90a31b46",
   "metadata": {},
   "outputs": [],
   "source": [
    "df['url'] = \"https://tuvanhocduong.tdtu.edu.vn/News\""
   ]
  },
  {
   "cell_type": "code",
   "execution_count": 7,
   "id": "ae322a1b-b367-44af-abf6-9abe85323c96",
   "metadata": {},
   "outputs": [],
   "source": [
    "groups = []\n",
    "groups.extend([\"Câu hỏi liên quan học phí\"]*9)\n",
    "groups.extend([\"Hoạt động sinh viên\"]*2)\n",
    "groups.extend([\"Câu hỏi liên quan Tiếng Anh\"]*12)\n",
    "groups.extend([\"Hỗ trợ, khen thưởng, xử lý vi phạm sinh viên\"]*18)\n",
    "groups.extend([\"Các câu hỏi khác\"]*23)\n",
    "groups.extend([\"Xét và công nhận tốt nghiệp\"]*12)\n",
    "groups.extend([\"Đánh giá môn học\"]*37)\n",
    "groups.extend([\"Đăng ký môn học\"]*33)\n",
    "groups.extend([\"Tổ chức đào tạo\"]*8)\n",
    "groups.extend([\"Chương trình đào tạo\"]*16)"
   ]
  },
  {
   "cell_type": "code",
   "execution_count": 8,
   "id": "1b4dcbb0-d53f-48de-be46-3d3e90486883",
   "metadata": {},
   "outputs": [],
   "source": [
    "df['group'] = groups"
   ]
  },
  {
   "cell_type": "code",
   "execution_count": 13,
   "id": "aad66a33-2f07-473a-9781-f876e0aca09c",
   "metadata": {},
   "outputs": [
    {
     "data": {
      "text/html": [
       "<div>\n",
       "<style scoped>\n",
       "    .dataframe tbody tr th:only-of-type {\n",
       "        vertical-align: middle;\n",
       "    }\n",
       "\n",
       "    .dataframe tbody tr th {\n",
       "        vertical-align: top;\n",
       "    }\n",
       "\n",
       "    .dataframe thead th {\n",
       "        text-align: right;\n",
       "    }\n",
       "</style>\n",
       "<table border=\"1\" class=\"dataframe\">\n",
       "  <thead>\n",
       "    <tr style=\"text-align: right;\">\n",
       "      <th></th>\n",
       "      <th>question</th>\n",
       "      <th>answer</th>\n",
       "      <th>url</th>\n",
       "      <th>group</th>\n",
       "    </tr>\n",
       "  </thead>\n",
       "  <tbody>\n",
       "    <tr>\n",
       "      <th>0</th>\n",
       "      <td>Thủ tục và cách thức gia hạn đóng học phí như ...</td>\n",
       "      <td>Trong thời gian đóng học phí theo thông báo củ...</td>\n",
       "      <td>https://tuvanhocduong.tdtu.edu.vn/News</td>\n",
       "      <td>Câu hỏi liên quan học phí</td>\n",
       "    </tr>\n",
       "    <tr>\n",
       "      <th>1</th>\n",
       "      <td>Xin cho em hỏi về thời gian và cách thức đổi B...</td>\n",
       "      <td>Thời gian đổi biên lai học phí của từng học k...</td>\n",
       "      <td>https://tuvanhocduong.tdtu.edu.vn/News</td>\n",
       "      <td>Câu hỏi liên quan học phí</td>\n",
       "    </tr>\n",
       "    <tr>\n",
       "      <th>2</th>\n",
       "      <td>Lệ phí thi chứng chỉ MOS là bao nhiêu</td>\n",
       "      <td>Trong mỗi đợt thi MOS, Phòng Đại học có thông ...</td>\n",
       "      <td>https://tuvanhocduong.tdtu.edu.vn/News</td>\n",
       "      <td>Câu hỏi liên quan học phí</td>\n",
       "    </tr>\n",
       "    <tr>\n",
       "      <th>3</th>\n",
       "      <td>Tiền tạm thu khi nhập học sẽ được sử dụng như ...</td>\n",
       "      <td>Đầu năm khi làm thủ tục nhập học, sinh viên s...</td>\n",
       "      <td>https://tuvanhocduong.tdtu.edu.vn/News</td>\n",
       "      <td>Câu hỏi liên quan học phí</td>\n",
       "    </tr>\n",
       "    <tr>\n",
       "      <th>4</th>\n",
       "      <td>Nếu học ngành 2 thì học phí sẽ được tính như t...</td>\n",
       "      <td>Nếu sinh viên học ngành 2, mức học phí sẽ đượ...</td>\n",
       "      <td>https://tuvanhocduong.tdtu.edu.vn/News</td>\n",
       "      <td>Câu hỏi liên quan học phí</td>\n",
       "    </tr>\n",
       "    <tr>\n",
       "      <th>...</th>\n",
       "      <td>...</td>\n",
       "      <td>...</td>\n",
       "      <td>...</td>\n",
       "      <td>...</td>\n",
       "    </tr>\n",
       "    <tr>\n",
       "      <th>165</th>\n",
       "      <td>Khi học học phần Tiếng Anh cuối cùng của chươn...</td>\n",
       "      <td>Trong trường hợp sinh viên đủ điều kiện dự thi...</td>\n",
       "      <td>https://tuvanhocduong.tdtu.edu.vn/News</td>\n",
       "      <td>Chương trình đào tạo</td>\n",
       "    </tr>\n",
       "    <tr>\n",
       "      <th>166</th>\n",
       "      <td>Sinh viên có vật giá trị trong cặp xách/ Balo ...</td>\n",
       "      <td>Qui định để đồ tại tầng hầm lửng của T...</td>\n",
       "      <td>https://tuvanhocduong.tdtu.edu.vn/News</td>\n",
       "      <td>Chương trình đào tạo</td>\n",
       "    </tr>\n",
       "    <tr>\n",
       "      <th>167</th>\n",
       "      <td>Các lỗi vi phạm khi Sinh viên ở ký túc xá có l...</td>\n",
       "      <td>Tùy theo số lần vi phạm và mức độ vi phạm củ...</td>\n",
       "      <td>https://tuvanhocduong.tdtu.edu.vn/News</td>\n",
       "      <td>Chương trình đào tạo</td>\n",
       "    </tr>\n",
       "    <tr>\n",
       "      <th>168</th>\n",
       "      <td>Em ở Thành phố Hồ Chí Minh nhưng ở khu vực quậ...</td>\n",
       "      <td>Đối với sinh viên có hộ khẩu thường trú tại T...</td>\n",
       "      <td>https://tuvanhocduong.tdtu.edu.vn/News</td>\n",
       "      <td>Chương trình đào tạo</td>\n",
       "    </tr>\n",
       "    <tr>\n",
       "      <th>169</th>\n",
       "      <td>Em thuộc diện con của cán bộ công đoàn thì đượ...</td>\n",
       "      <td>Theo công văn hỗ trợ con em CBCĐ, mỗi tháng s...</td>\n",
       "      <td>https://tuvanhocduong.tdtu.edu.vn/News</td>\n",
       "      <td>Chương trình đào tạo</td>\n",
       "    </tr>\n",
       "  </tbody>\n",
       "</table>\n",
       "<p>170 rows × 4 columns</p>\n",
       "</div>"
      ],
      "text/plain": [
       "                                              question  \\\n",
       "0    Thủ tục và cách thức gia hạn đóng học phí như ...   \n",
       "1    Xin cho em hỏi về thời gian và cách thức đổi B...   \n",
       "2                Lệ phí thi chứng chỉ MOS là bao nhiêu   \n",
       "3    Tiền tạm thu khi nhập học sẽ được sử dụng như ...   \n",
       "4    Nếu học ngành 2 thì học phí sẽ được tính như t...   \n",
       "..                                                 ...   \n",
       "165  Khi học học phần Tiếng Anh cuối cùng của chươn...   \n",
       "166  Sinh viên có vật giá trị trong cặp xách/ Balo ...   \n",
       "167  Các lỗi vi phạm khi Sinh viên ở ký túc xá có l...   \n",
       "168  Em ở Thành phố Hồ Chí Minh nhưng ở khu vực quậ...   \n",
       "169  Em thuộc diện con của cán bộ công đoàn thì đượ...   \n",
       "\n",
       "                                                answer  \\\n",
       "0    Trong thời gian đóng học phí theo thông báo củ...   \n",
       "1     Thời gian đổi biên lai học phí của từng học k...   \n",
       "2    Trong mỗi đợt thi MOS, Phòng Đại học có thông ...   \n",
       "3     Đầu năm khi làm thủ tục nhập học, sinh viên s...   \n",
       "4     Nếu sinh viên học ngành 2, mức học phí sẽ đượ...   \n",
       "..                                                 ...   \n",
       "165  Trong trường hợp sinh viên đủ điều kiện dự thi...   \n",
       "166          Qui định để đồ tại tầng hầm lửng của T...   \n",
       "167    Tùy theo số lần vi phạm và mức độ vi phạm củ...   \n",
       "168   Đối với sinh viên có hộ khẩu thường trú tại T...   \n",
       "169   Theo công văn hỗ trợ con em CBCĐ, mỗi tháng s...   \n",
       "\n",
       "                                        url                      group  \n",
       "0    https://tuvanhocduong.tdtu.edu.vn/News  Câu hỏi liên quan học phí  \n",
       "1    https://tuvanhocduong.tdtu.edu.vn/News  Câu hỏi liên quan học phí  \n",
       "2    https://tuvanhocduong.tdtu.edu.vn/News  Câu hỏi liên quan học phí  \n",
       "3    https://tuvanhocduong.tdtu.edu.vn/News  Câu hỏi liên quan học phí  \n",
       "4    https://tuvanhocduong.tdtu.edu.vn/News  Câu hỏi liên quan học phí  \n",
       "..                                      ...                        ...  \n",
       "165  https://tuvanhocduong.tdtu.edu.vn/News       Chương trình đào tạo  \n",
       "166  https://tuvanhocduong.tdtu.edu.vn/News       Chương trình đào tạo  \n",
       "167  https://tuvanhocduong.tdtu.edu.vn/News       Chương trình đào tạo  \n",
       "168  https://tuvanhocduong.tdtu.edu.vn/News       Chương trình đào tạo  \n",
       "169  https://tuvanhocduong.tdtu.edu.vn/News       Chương trình đào tạo  \n",
       "\n",
       "[170 rows x 4 columns]"
      ]
     },
     "execution_count": 13,
     "metadata": {},
     "output_type": "execute_result"
    }
   ],
   "source": [
    "df"
   ]
  },
  {
   "cell_type": "markdown",
   "id": "97bd86b2",
   "metadata": {},
   "source": [
    "## Comeback"
   ]
  },
  {
   "cell_type": "code",
   "execution_count": 2,
   "id": "76cac626",
   "metadata": {},
   "outputs": [
    {
     "data": {
      "application/vnd.jupyter.widget-view+json": {
       "model_id": "7ae2d3f1bfbb4616b10b474883aa7d95",
       "version_major": 2,
       "version_minor": 0
      },
      "text/plain": [
       "VBox(children=(HTML(value='<center> <img\\nsrc=https://huggingface.co/front/assets/huggingface_logo-noborder.sv…"
      ]
     },
     "metadata": {},
     "output_type": "display_data"
    }
   ],
   "source": [
    "from huggingface_hub import notebook_login\n",
    "notebook_login()"
   ]
  },
  {
   "cell_type": "markdown",
   "id": "60b2d375",
   "metadata": {},
   "source": [
    "## Hugging face"
   ]
  },
  {
   "cell_type": "code",
   "execution_count": 3,
   "id": "3eca37da-3521-4ba8-9327-75e7c9894c8a",
   "metadata": {},
   "outputs": [],
   "source": [
    "# Replace with your Hub username and repository name\n",
    "repository_id = \"BroDeadlines/QA.FQA_tu_van_hoc_duong\"\n",
    "qa_dataset = load_dataset(repository_id)"
   ]
  },
  {
   "cell_type": "code",
   "execution_count": 4,
   "id": "4d64e606-c823-4cd9-9c49-82540831ac65",
   "metadata": {},
   "outputs": [
    {
     "data": {
      "text/plain": [
       "Dataset({\n",
       "    features: ['question', 'answer', 'url', 'group', 'doc_id', 'metadata'],\n",
       "    num_rows: 144\n",
       "})"
      ]
     },
     "execution_count": 4,
     "metadata": {},
     "output_type": "execute_result"
    }
   ],
   "source": [
    "filter_qa_dataset = qa_dataset['train'].filter(lambda e: len(e['answer']) > 100)\n",
    "filter_qa_dataset"
   ]
  },
  {
   "cell_type": "code",
   "execution_count": 5,
   "id": "b2ed8b2c-c07c-4314-b11a-6702564d4e15",
   "metadata": {},
   "outputs": [
    {
     "data": {
      "application/vnd.jupyter.widget-view+json": {
       "model_id": "0ea6cfb7cebc425681bc226940673325",
       "version_major": 2,
       "version_minor": 0
      },
      "text/plain": [
       "Uploading the dataset shards:   0%|          | 0/1 [00:00<?, ?it/s]"
      ]
     },
     "metadata": {},
     "output_type": "display_data"
    },
    {
     "data": {
      "application/vnd.jupyter.widget-view+json": {
       "model_id": "2dec6a8f86ee472b8bef99792dcc36e8",
       "version_major": 2,
       "version_minor": 0
      },
      "text/plain": [
       "Creating parquet from Arrow format:   0%|          | 0/1 [00:00<?, ?ba/s]"
      ]
     },
     "metadata": {},
     "output_type": "display_data"
    },
    {
     "data": {
      "application/vnd.jupyter.widget-view+json": {
       "model_id": "4548c5b95db8446ca0e551eec5d69fc3",
       "version_major": 2,
       "version_minor": 0
      },
      "text/plain": [
       "README.md:   0%|          | 0.00/610 [00:00<?, ?B/s]"
      ]
     },
     "metadata": {},
     "output_type": "display_data"
    },
    {
     "data": {
      "text/plain": [
       "CommitInfo(commit_url='https://huggingface.co/datasets/BroDeadlines/QA.FQA_tu_van_hoc_duong/commit/b05c889b450e0b644fd868583b9f95ef2363a74f', commit_message='Upload dataset', commit_description='', oid='b05c889b450e0b644fd868583b9f95ef2363a74f', pr_url=None, pr_revision=None, pr_num=None)"
      ]
     },
     "execution_count": 5,
     "metadata": {},
     "output_type": "execute_result"
    }
   ],
   "source": [
    "filter_qa_dataset.push_to_hub(repository_id, split=\"INDEX.medium_index_TDT\")"
   ]
  },
  {
   "cell_type": "code",
   "execution_count": 5,
   "id": "5bd48430",
   "metadata": {},
   "outputs": [
    {
     "data": {
      "text/plain": [
       "Dataset({\n",
       "    features: ['content', 'url', 'doc_id'],\n",
       "    num_rows: 144\n",
       "})"
      ]
     },
     "execution_count": 5,
     "metadata": {},
     "output_type": "execute_result"
    }
   ],
   "source": [
    "remove_cols = ['question', 'group', 'metadata']\n",
    "qa_ds = filter_qa_dataset.remove_columns(column_names=remove_cols)\n",
    "qa_ds = qa_ds.rename_columns({'answer': 'content'})\n",
    "qa_ds"
   ]
  },
  {
   "cell_type": "markdown",
   "id": "4b9c95fc-44f1-4b4b-a701-478c0a167c5b",
   "metadata": {},
   "source": [
    "# DATASET"
   ]
  },
  {
   "cell_type": "code",
   "execution_count": 6,
   "id": "b6d9a0da-48d8-4257-8b8c-b30844711081",
   "metadata": {},
   "outputs": [],
   "source": [
    "from datasets import load_dataset\n",
    "dataset = load_dataset(\"BroDeadlines/CRAWL.admission.tdtu.edu.vn_dai-hoc\")"
   ]
  },
  {
   "cell_type": "code",
   "execution_count": 13,
   "id": "2b6fef68-4d9f-45da-b062-6c0614d52773",
   "metadata": {},
   "outputs": [],
   "source": [
    "remove_cols = ['html_name', 'skipped', 'markdown', 'batch', 'split_markdown', 'slide_markdown']\n",
    "crawl_ds = dataset['train'].shuffle().select(range(200))\n",
    "crawl_ds = crawl_ds.remove_columns(remove_cols)\n",
    "crawl_ds = crawl_ds.rename_columns({'text': 'content'})"
   ]
  },
  {
   "cell_type": "code",
   "execution_count": 14,
   "id": "25718bb2",
   "metadata": {},
   "outputs": [
    {
     "data": {
      "text/plain": [
       "Dataset({\n",
       "    features: ['url', 'content', 'doc_id'],\n",
       "    num_rows: 200\n",
       "})"
      ]
     },
     "execution_count": 14,
     "metadata": {},
     "output_type": "execute_result"
    }
   ],
   "source": [
    "crawl_ds"
   ]
  },
  {
   "cell_type": "code",
   "execution_count": 15,
   "id": "8b61c858",
   "metadata": {},
   "outputs": [
    {
     "data": {
      "text/plain": [
       "Dataset({\n",
       "    features: ['content', 'url', 'doc_id'],\n",
       "    num_rows: 344\n",
       "})"
      ]
     },
     "execution_count": 15,
     "metadata": {},
     "output_type": "execute_result"
    }
   ],
   "source": [
    "fin_ds = concatenate_datasets(dsets=[qa_ds, crawl_ds])\n",
    "\n",
    "fin_ds"
   ]
  },
  {
   "cell_type": "code",
   "execution_count": 16,
   "id": "ded18457-bbe9-4c5e-bfbe-8d8350409ebb",
   "metadata": {},
   "outputs": [
    {
     "data": {
      "application/vnd.jupyter.widget-view+json": {
       "model_id": "c6e4bf7c7b854f8291a540da057fc63e",
       "version_major": 2,
       "version_minor": 0
      },
      "text/plain": [
       "Map:   0%|          | 0/344 [00:00<?, ? examples/s]"
      ]
     },
     "metadata": {},
     "output_type": "display_data"
    },
    {
     "data": {
      "text/plain": [
       "Dataset({\n",
       "    features: ['content', 'url', 'doc_id', 'shards', 'splits'],\n",
       "    num_rows: 344\n",
       "})"
      ]
     },
     "execution_count": 16,
     "metadata": {},
     "output_type": "execute_result"
    }
   ],
   "source": [
    "def process_split(row):\n",
    "    chunks = window_slide_split(row['content'], step=50, chunk_size=1500)\n",
    "    return {**row,\"shards\": len(chunks), \"splits\": chunks}\n",
    "\n",
    "\n",
    "push_ds = fin_ds.map(process_split)\n",
    "push_ds"
   ]
  },
  {
   "cell_type": "code",
   "execution_count": 17,
   "id": "55352327-26f6-4bb9-8e84-a7665ba9d51e",
   "metadata": {},
   "outputs": [
    {
     "data": {
      "application/vnd.jupyter.widget-view+json": {
       "model_id": "2147e5748d8246ebbf8de2bb89c13129",
       "version_major": 2,
       "version_minor": 0
      },
      "text/plain": [
       "Uploading the dataset shards:   0%|          | 0/1 [00:00<?, ?it/s]"
      ]
     },
     "metadata": {},
     "output_type": "display_data"
    },
    {
     "data": {
      "application/vnd.jupyter.widget-view+json": {
       "model_id": "656c914351c84fc9a8e991966aa857e9",
       "version_major": 2,
       "version_minor": 0
      },
      "text/plain": [
       "Creating parquet from Arrow format:   0%|          | 0/1 [00:00<?, ?ba/s]"
      ]
     },
     "metadata": {},
     "output_type": "display_data"
    },
    {
     "data": {
      "application/vnd.jupyter.widget-view+json": {
       "model_id": "034fd1114da34c18a4b535f018c73099",
       "version_major": 2,
       "version_minor": 0
      },
      "text/plain": [
       "README.md:   0%|          | 0.00/584 [00:00<?, ?B/s]"
      ]
     },
     "metadata": {},
     "output_type": "display_data"
    },
    {
     "data": {
      "text/plain": [
       "CommitInfo(commit_url='https://huggingface.co/datasets/BroDeadlines/TEST.basic_test_tdt_dataset/commit/72c5239787075d1eafffd23a6e43bc585e689f0a', commit_message='Upload dataset', commit_description='', oid='72c5239787075d1eafffd23a6e43bc585e689f0a', pr_url=None, pr_revision=None, pr_num=None)"
      ]
     },
     "execution_count": 17,
     "metadata": {},
     "output_type": "execute_result"
    }
   ],
   "source": [
    "# from datasets import push_to_hub\n",
    "\n",
    "# Replace with your Hub username and repository name\n",
    "repository_id = \"BroDeadlines/TEST.basic_test_tdt_dataset\"\n",
    "\n",
    "SPLIT = \"INDEX.medium_index_TDT\"\n",
    "\n",
    "push_ds.push_to_hub(repository_id, split=SPLIT)"
   ]
  }
 ],
 "metadata": {
  "kernelspec": {
   "display_name": "Python 3 (ipykernel)",
   "language": "python",
   "name": "python3"
  },
  "language_info": {
   "codemirror_mode": {
    "name": "ipython",
    "version": 3
   },
   "file_extension": ".py",
   "mimetype": "text/x-python",
   "name": "python",
   "nbconvert_exporter": "python",
   "pygments_lexer": "ipython3",
   "version": "3.9.18"
  }
 },
 "nbformat": 4,
 "nbformat_minor": 5
}
