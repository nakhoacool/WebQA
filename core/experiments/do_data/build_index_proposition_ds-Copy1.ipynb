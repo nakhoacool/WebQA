{
 "cells": [
  {
   "cell_type": "markdown",
   "metadata": {},
   "source": [
    "# Build data with proposition (main)"
   ]
  },
  {
   "cell_type": "code",
   "execution_count": 1,
   "metadata": {},
   "outputs": [],
   "source": [
    "import sys\n",
    "sys.path.append(\"../..\")\n",
    "from datasets import load_dataset\n",
    "from src.service.provider import ProviderService\n",
    "\n",
    "provider = ProviderService()\n",
    "\n",
    "provider.config.enable_tracing(project=\"CODEBOT\")"
   ]
  },
  {
   "cell_type": "code",
   "execution_count": 2,
   "metadata": {},
   "outputs": [
    {
     "data": {
      "application/vnd.jupyter.widget-view+json": {
       "model_id": "8bc1fcd989084ce5a2702294ee5c4224",
       "version_major": 2,
       "version_minor": 0
      },
      "text/plain": [
       "Downloading readme:   0%|          | 0.00/1.16k [00:00<?, ?B/s]"
      ]
     },
     "metadata": {},
     "output_type": "display_data"
    },
    {
     "name": "stderr",
     "output_type": "stream",
     "text": [
      "Downloading data: 100%|█████████████████████████████████████████| 1.10M/1.10M [00:01<00:00, 937kB/s]\n"
     ]
    },
    {
     "data": {
      "application/vnd.jupyter.widget-view+json": {
       "model_id": "62202b10d4b94db4bf3a189c61f32659",
       "version_major": 2,
       "version_minor": 0
      },
      "text/plain": [
       "Generating train split:   0%|          | 0/196 [00:00<?, ? examples/s]"
      ]
     },
     "metadata": {},
     "output_type": "display_data"
    },
    {
     "data": {
      "text/plain": [
       "DatasetDict({\n",
       "    train: Dataset({\n",
       "        features: ['url', 'content', 'doc_id', 'metadata', 'split', 'shards', 'propositions', 'proposition_list', '__index_level_0__'],\n",
       "        num_rows: 196\n",
       "    })\n",
       "})"
      ]
     },
     "execution_count": 2,
     "metadata": {},
     "output_type": "execute_result"
    }
   ],
   "source": [
    "DATA_REPO = \"BroDeadlines/TEST.UEH.ueh_copora_data\"\n",
    "# SUBSET = \"\"\n",
    "# SUBSET = \"duplicate\"\n",
    "\n",
    "test_dataset = load_dataset(DATA_REPO)\n",
    "test_dataset"
   ]
  },
  {
   "cell_type": "code",
   "execution_count": 3,
   "metadata": {},
   "outputs": [
    {
     "data": {
      "application/vnd.jupyter.widget-view+json": {
       "model_id": "d6ed657670ea47a2925f0dcd25f1dec8",
       "version_major": 2,
       "version_minor": 0
      },
      "text/plain": [
       "Filter:   0%|          | 0/196 [00:00<?, ? examples/s]"
      ]
     },
     "metadata": {},
     "output_type": "display_data"
    },
    {
     "data": {
      "text/plain": [
       "DatasetDict({\n",
       "    train: Dataset({\n",
       "        features: ['url', 'content', 'doc_id', 'metadata', 'split', 'shards', 'propositions', 'proposition_list', '__index_level_0__'],\n",
       "        num_rows: 54\n",
       "    })\n",
       "})"
      ]
     },
     "execution_count": 3,
     "metadata": {},
     "output_type": "execute_result"
    }
   ],
   "source": [
    "# qas = test_dataset.filter(lambda e: len(e['metadata']) > 0 and e['doc_id'] in DOS)\n",
    "qas = test_dataset.filter(lambda e: len(e['metadata']) > 0)\n",
    "qas"
   ]
  },
  {
   "cell_type": "code",
   "execution_count": 5,
   "metadata": {},
   "outputs": [
    {
     "data": {
      "application/vnd.jupyter.widget-view+json": {
       "model_id": "eff30d74f9bf470ca134ddc551797dd5",
       "version_major": 2,
       "version_minor": 0
      },
      "text/plain": [
       "Map:   0%|          | 0/257 [00:00<?, ? examples/s]"
      ]
     },
     "metadata": {},
     "output_type": "display_data"
    },
    {
     "data": {
      "text/plain": [
       "257"
      ]
     },
     "execution_count": 5,
     "metadata": {},
     "output_type": "execute_result"
    }
   ],
   "source": [
    "lengths = []\n",
    "def count_len(row):\n",
    "    lengths.append(len(row['content']))\n",
    "    return\n",
    "\n",
    "contents = []\n",
    "def get_content(row):\n",
    "    contents.append(row['content'])\n",
    "    return\n",
    "\n",
    "test_dataset.map(get_content)\n",
    "len(lengths)\n",
    "len(contents)"
   ]
  },
  {
   "cell_type": "code",
   "execution_count": 8,
   "metadata": {},
   "outputs": [
    {
     "name": "stdout",
     "output_type": "stream",
     "text": [
      "From 257 texts -> 383\n",
      "Distribution: Counter({1: 177, 2: 45, 3: 19, 4: 11, 5: 3, 0: 2})\n",
      "== About the splits ==\n",
      "The mean of the splits is: 1.490272373540856\n",
      "The median of the splits is: 1.0\n",
      "The max of the split is: 5\n",
      "The min of the split is: 0\n",
      "== About the splits length ==\n",
      "The max of the split length is: 779\n",
      "The min of the split length is: 8\n",
      "The mean of the split length is: 401.0704960835509\n",
      "The median of the split length is: 382.0\n"
     ]
    }
   ],
   "source": [
    "from src.utils.text_utils import create_splitter, try_split_texts, window_slide_chunks\n",
    "from src.chain.proposition import create_proposition_chain, create_proposition_chain_openai\n",
    "\n",
    "splitter = create_splitter(chunk_size=800, overlap=50)\n",
    "proponizer = create_proposition_chain(provider=provider)\n",
    "a, b, lengths = try_split_texts(texts=contents, splitter=splitter)\n",
    "# a"
   ]
  },
  {
   "cell_type": "code",
   "execution_count": 9,
   "metadata": {},
   "outputs": [
    {
     "data": {
      "image/png": "[encoded data removed]",
      "text/plain": [
       "<Figure size 1000x700 with 1 Axes>"
      ]
     },
     "metadata": {},
     "output_type": "display_data"
    }
   ],
   "source": [
    "from matplotlib import pyplot as plt \n",
    "fig = plt.figure(figsize =(10, 7))\n",
    "plt.hist(lengths)\n",
    "plt.show()"
   ]
  },
  {
   "cell_type": "code",
   "execution_count": 10,
   "metadata": {},
   "outputs": [
    {
     "data": {
      "text/plain": [
       "['\\n\\n\\n', '\\n\\n', '\\n', '.']"
      ]
     },
     "execution_count": 10,
     "metadata": {},
     "output_type": "execute_result"
    }
   ],
   "source": [
    "splitter._separators"
   ]
  },
  {
   "cell_type": "code",
   "execution_count": 9,
   "metadata": {},
   "outputs": [
    {
     "data": {
      "text/plain": [
       "'```json\\n[\\n\"Câu lạc bộ tiếng Anh được thành lập vào ngày 21/12/2008.\",\\n\"Câu lạc bộ tiếng Anh là điểm hẹn cho những ai yêu thích thực hành tiếng Anh.\",\\n\"Câu lạc bộ tiếng Anh là nơi gặp gỡ, giao lưu, kết bạn.\",\\n\"Câu lạc bộ tiếng Anh là môi trường chủ động rèn luyện kỹ năng và tổ chức sự kiện.\",\\n\"L.E.O là câu lạc bộ tiếng Anh tiền nhiệm.\",\\n\"L.E.O là viết tắt của Leading English Organization.\",\\n\"A.C.E được thành lập vào năm học 2023-2024.\",\\n\"A.C.E được thành lập để tiếp tục phát triển những giá trị mà L.E.O đã mang lại.\",\\n\"A.C.E có bộ nhận diện mới, tên gọi mới, logo mới, màu sắc mới.\",\\n\"A.C.E tạo nên một môi trường vừa học vừa chơi mới mẻ và sáng tạo.\",\\n\"A.C.E là môi trường để sinh viên Trường Đại học Tôn Đức Thắng nói chung và sinh viên khoa Ngoại ngữ nói riêng có thể trau dồi vốn tiếng Anh và các kỹ năng mềm khác.\",\\n\"A.C.E tượng trưng cho ba đặc điểm nổi bật của sinh viên đó là Ambitious - Curious - Energetic (Khát vọng - Hiếu kỳ - Năng động).\",\\n\"A.C.E là nơi giao lưu, gặp gỡ của những sinh viên yêu thích tiếng Anh.\",\\n\"A.C.E là môi trường giúp các sinh viên có cơ hội thể hiện cũng như trau dồi kỹ năng ngôn ngữ của mình.\",\\n\"CLB A.C.E thường tổ chức các buổi sinh hoạt học thuật theo định kỳ hàng tháng.\",\\n\"CLB A.C.E thường tổ chức các cuộc thi tiếng Anh theo định kỳ hàng năm.\",\\n\"Email CLB A.C.E là leoffl@tdtu.edu.vn.\",\\n\"Fanpage CLB A.C.E là https://www.facebook.com/FFL.A.C.E.TDT?mibextid=ZbWKwL.\",\\n\"Cuộc thi \\\\\"FFL - Here We Go\\\\\" là cơ hội tuyệt vời để chia sẻ những trải nghiệm.\",\\n\"Cuộc thi \\\\\"FFL - Here We Go\\\\\" là cơ hội tuyệt vời để trau dồi kỹ năng thuyết trình bằng tiếng Anh.\",\\n\"Đối tượng của cuộc thi \\\\\"FFL - Here We Go\\\\\" là SV Khoa Ngoại ngữ TDTU.\"\\n]\\n```'"
      ]
     },
     "execution_count": 9,
     "metadata": {},
     "output_type": "execute_result"
    }
   ],
   "source": [
    "aa = 'CLB tiếng Anh | Khoa Ngoại Ngữ Nhảy đến nội dung Đại học Tôn Đức Thắng  English | 中文 Khoa Ngoại Ngữ Main navigation Giới thiệu Đào tạo Nghiên cứu Hợp tác quốc tế Doanh nghiệp Tuyển sinh Giảng viên/Viên chức  Sinh viên  Cựu sinh viên Search CLB tiếng Anh CÂU LẠC BỘ TIẾNG ANH - A.C.E  A.C.E - \"Ambitious - Curious - Energetic\" (Khát vọng - Hiếu kỳ - Năng động) 1. Giới thiệu:  Câu lạc bộ tiếng Anh được thành lập vào ngày 21/12/2008, là điểm hẹn cho những ai yêu thích thực hành tiếng Anh, nơi gặp gỡ, giao lưu, kết bạn và môi trường chủ động rèn luyện kỹ năng và tổ chức sự kiện.  Tiếp nối sự thành công của câu lạc bộ tiền nhiệm - L.E.O (Leading English Organization), A.C.E được thành lập vào năm học 2023-2024 để tiếp tục phát triển những giá trị mà L.E.O đã mang lại.  A.C.E với bộ nhận diện mới, tên gọi mới, logo mới, màu sắc mới sẽ tạo nên một môi trường vừa học vừa chơi mới mẻ và sáng tạo để các sinh viên Trường Đại học Tôn Đức Thắng nói chung và sinh viên khoa Ngoại ngữ nói riêng có thể trau dồi vốn tiếng Anh và các kỹ năng mềm khác.  A.C.E tượng trưng cho ba đặc điểm nổi bật của sinh viên đó là Ambitious - Curious - Energetic (Khát vọng - Hiếu kỳ - Năng động).  Đây sẽ là nơi giao lưu, gặp gỡ của những sinh viên yêu thích tiếng Anh và là môi trường giúp các sinh viên có cơ hội thể hiện cũng như trau dồi kỹ năng ngôn ngữ của mình.  CLB A.C.E thường tổ chức các buổi sinh hoạt học thuật theo định kỳ hàng tháng, và các cuộc thi tiếng Anh theo định kỳ hàng năm.  * Thông tin liên hệ:  Email CLB: leoffl@tdtu.edu.vn  Fanpage: https://www.facebook.com/FFL.A.C.E.TDT?mibextid=ZbWKwL  2. Các hoạt động của CLB A.C.E: Cuộc thi \"FFL - Here We Go\" CLB Tiếng Anh  | 10 Th4 24  Cuộc thi \"FFL - Here We Go\" là cơ hội tuyệt vời để chia sẻ những trải nghiệm đồng thời trau dồi kỹ năng thuyết trình bằng tiếng Anh. Đối tượng: SV Khoa Ngoại ngữ TDTU.'\n",
    "resp = proponizer.invoke({\"context\": aa})\n",
    "\n",
    "resp"
   ]
  },
  {
   "cell_type": "code",
   "execution_count": 10,
   "metadata": {},
   "outputs": [],
   "source": [
    "import traceback\n",
    "import jsonlines\n",
    "\n",
    "NAME = \"ueh_propostion.jsonl\"\n",
    "ERR_NAME = \"ueh_error.jsonl\"\n",
    "\n",
    "def save_ai_response(filename, data):\n",
    "    with jsonlines.open(filename, mode='a') as writer:\n",
    "        writer.write(data)\n",
    "    return"
   ]
  },
  {
   "cell_type": "code",
   "execution_count": 11,
   "metadata": {},
   "outputs": [
    {
     "data": {
      "text/plain": [
       "{}"
      ]
     },
     "execution_count": 11,
     "metadata": {},
     "output_type": "execute_result"
    }
   ],
   "source": [
    "DOS = ['7129f855-c9ef-4c22-a14d-52fb6437b402',\n",
    " '67735473-e9f3-435c-96ea-b237aeddd4d6']\n",
    "DOS = []\n",
    "\n",
    "DOS = {d:1 for d in DOS}\n",
    "\n",
    "DOS"
   ]
  },
  {
   "cell_type": "code",
   "execution_count": 12,
   "metadata": {},
   "outputs": [],
   "source": [
    "def build_proposition_data(row):\n",
    "    if len(DOS) > 0: \n",
    "        if row['doc_id'] not in DOS:\n",
    "            return row\n",
    "    content = row['content']\n",
    "    splits = splitter.split_text(content)\n",
    "    row['split'] = splits\n",
    "    row['shards'] = len(splits)\n",
    "    propositions = []\n",
    "    for sidx, split in enumerate(splits):\n",
    "        save_data = {\"doc_id\": row['doc_id'], \"split_idx\": sidx, \"split\": split}\n",
    "        try:\n",
    "            pr_position = proponizer.invoke({\"context\": split})\n",
    "            propositions.append(pr_position)\n",
    "            # Save AI repsonses\n",
    "            save_data['proposition'] = pr_position\n",
    "            save_ai_response(NAME, save_data)\n",
    "        except Exception :\n",
    "            # Save exceptions\n",
    "            save_ai_response(ERR_NAME, save_data)\n",
    "            print(f\"===> Exception: {row['doc_id']}: {sidx}\")\n",
    "            traceback.print_exc()\n",
    "    row['propositions'] = propositions\n",
    "    return row"
   ]
  },
  {
   "cell_type": "code",
   "execution_count": 13,
   "metadata": {},
   "outputs": [
    {
     "data": {
      "text/plain": [
       "DatasetDict({\n",
       "    train: Dataset({\n",
       "        features: ['url', 'content', 'doc_id', 'metadata'],\n",
       "        num_rows: 257\n",
       "    })\n",
       "})"
      ]
     },
     "execution_count": 13,
     "metadata": {},
     "output_type": "execute_result"
    }
   ],
   "source": [
    "test_dataset"
   ]
  },
  {
   "cell_type": "code",
   "execution_count": 14,
   "metadata": {},
   "outputs": [
    {
     "data": {
      "application/vnd.jupyter.widget-view+json": {
       "model_id": "e308573f1661459590f07c8687c8c271",
       "version_major": 2,
       "version_minor": 0
      },
      "text/plain": [
       "Map:   0%|          | 0/257 [00:00<?, ? examples/s]"
      ]
     },
     "metadata": {},
     "output_type": "display_data"
    },
    {
     "name": "stderr",
     "output_type": "stream",
     "text": [
      "Retrying langchain_google_genai.llms._completion_with_retry.<locals>._completion_with_retry in 4.0 seconds as it raised ResourceExhausted: 429 Resource has been exhausted (e.g. check quota)..\n",
      "Retrying langchain_google_genai.llms._completion_with_retry.<locals>._completion_with_retry in 4.0 seconds as it raised ResourceExhausted: 429 Resource has been exhausted (e.g. check quota)..\n",
      "Retrying langchain_google_genai.llms._completion_with_retry.<locals>._completion_with_retry in 4.0 seconds as it raised ResourceExhausted: 429 Resource has been exhausted (e.g. check quota)..\n",
      "Retrying langchain_google_genai.llms._completion_with_retry.<locals>._completion_with_retry in 4.0 seconds as it raised ResourceExhausted: 429 Resource has been exhausted (e.g. check quota)..\n",
      "Retrying langchain_google_genai.llms._completion_with_retry.<locals>._completion_with_retry in 4.0 seconds as it raised ResourceExhausted: 429 Resource has been exhausted (e.g. check quota)..\n",
      "Retrying langchain_google_genai.llms._completion_with_retry.<locals>._completion_with_retry in 4.0 seconds as it raised ResourceExhausted: 429 Resource has been exhausted (e.g. check quota)..\n",
      "Retrying langchain_google_genai.llms._completion_with_retry.<locals>._completion_with_retry in 4.0 seconds as it raised ResourceExhausted: 429 Resource has been exhausted (e.g. check quota)..\n",
      "Retrying langchain_google_genai.llms._completion_with_retry.<locals>._completion_with_retry in 4.0 seconds as it raised ResourceExhausted: 429 Resource has been exhausted (e.g. check quota)..\n",
      "Retrying langchain_google_genai.llms._completion_with_retry.<locals>._completion_with_retry in 8.0 seconds as it raised ResourceExhausted: 429 Resource has been exhausted (e.g. check quota)..\n",
      "Retrying langchain_google_genai.llms._completion_with_retry.<locals>._completion_with_retry in 10.0 seconds as it raised ResourceExhausted: 429 Resource has been exhausted (e.g. check quota)..\n"
     ]
    }
   ],
   "source": [
    "newds = test_dataset.map(build_proposition_data)"
   ]
  },
  {
   "cell_type": "code",
   "execution_count": 15,
   "metadata": {},
   "outputs": [
    {
     "data": {
      "text/plain": [
       "DatasetDict({\n",
       "    train: Dataset({\n",
       "        features: ['url', 'content', 'doc_id', 'metadata', 'split', 'shards', 'propositions'],\n",
       "        num_rows: 257\n",
       "    })\n",
       "})"
      ]
     },
     "execution_count": 15,
     "metadata": {},
     "output_type": "execute_result"
    }
   ],
   "source": [
    "newds"
   ]
  },
  {
   "cell_type": "code",
   "execution_count": 9,
   "metadata": {},
   "outputs": [
    {
     "name": "stdout",
     "output_type": "stream",
     "text": [
      "BroDeadlines/TEST.TDT.mini.tdt_copora_data\n",
      "compact\n"
     ]
    },
    {
     "data": {
      "text/plain": [
       "DatasetDict({\n",
       "    train: Dataset({\n",
       "        features: ['url', 'content', 'metadata', 'doc_id', 'split', 'shards', 'propositions'],\n",
       "        num_rows: 543\n",
       "    })\n",
       "})"
      ]
     },
     "execution_count": 9,
     "metadata": {},
     "output_type": "execute_result"
    }
   ],
   "source": [
    "print(DATA_REPO)\n",
    "print(SUBSET)\n",
    "newds"
   ]
  },
  {
   "cell_type": "code",
   "execution_count": 13,
   "metadata": {},
   "outputs": [
    {
     "data": {
      "application/vnd.jupyter.widget-view+json": {
       "model_id": "2e9061aa6be04fb68c7fb32336a6a0c8",
       "version_major": 2,
       "version_minor": 0
      },
      "text/plain": [
       "Uploading the dataset shards:   0%|          | 0/1 [00:00<?, ?it/s]"
      ]
     },
     "metadata": {},
     "output_type": "display_data"
    },
    {
     "data": {
      "application/vnd.jupyter.widget-view+json": {
       "model_id": "ab916e5e722f4f0aa840280476c4f4d9",
       "version_major": 2,
       "version_minor": 0
      },
      "text/plain": [
       "Creating parquet from Arrow format:   0%|          | 0/1 [00:00<?, ?ba/s]"
      ]
     },
     "metadata": {},
     "output_type": "display_data"
    },
    {
     "data": {
      "application/vnd.jupyter.widget-view+json": {
       "model_id": "ccb337756ade45169448ebce9e110949",
       "version_major": 2,
       "version_minor": 0
      },
      "text/plain": [
       "README.md:   0%|          | 0.00/915 [00:00<?, ?B/s]"
      ]
     },
     "metadata": {},
     "output_type": "display_data"
    },
    {
     "data": {
      "text/plain": [
       "CommitInfo(commit_url='https://huggingface.co/datasets/BroDeadlines/TEST.TDT.mini.tdt_copora_data/commit/b36b19bda751ba43c21f87450cd9be72998608b4', commit_message='Upload dataset', commit_description='', oid='b36b19bda751ba43c21f87450cd9be72998608b4', pr_url=None, pr_revision=None, pr_num=None)"
      ]
     },
     "execution_count": 13,
     "metadata": {},
     "output_type": "execute_result"
    }
   ],
   "source": [
    "newds.push_to_hub(DATA_REPO, SUBSET)"
   ]
  },
  {
   "cell_type": "markdown",
   "metadata": {},
   "source": [
    "### Fix-miss doc"
   ]
  },
  {
   "cell_type": "code",
   "execution_count": 32,
   "metadata": {},
   "outputs": [
    {
     "data": {
      "text/plain": [
       "''"
      ]
     },
     "execution_count": 32,
     "metadata": {},
     "output_type": "execute_result"
    }
   ],
   "source": [
    "context = \"Khoa Học Ứng Dụng thuộc trường Đại học Tôn Đức Thắng được thành lập năm 2001, đào tạo kỹ sư của 02 ngành Kỹ thuật Hóa học và Công nghệ sinh học. Khoa KHUD đã từng bước khẳng định vị trí của mình trong hệ thống các cơ sở đào tạo kỹ sư kỹ thuật hóa học và công nghệ sinh học. Chương trình và nội dung đào tạo của các ngành có quan mật thiết với nhau và thường xuyên được cập nhật, cải tiến theo tình hình thực tế, đáp ứng nhu cầu xã hội. Hiện nay, tất cả các chương trình đào tạo của hai ngành đều được biên soạn theo khung chương trình tham khảo từ các trường Đại học thuộc top 100 trên thế giới nhằm giúp thu ngắn khoảng cách giữa đào tạo đại học tại Việt Nam với các nước.  Khoa có hai hình thức đào tạo đại học là chính quy và chất lượng cao. Ngoài ra, Khoa còn đào tạo trình độ Thạc sỹ ngành kỹ thuật hóa học. Bên cạnh đó các khóa đào tạo ngắn hạn cũng thường xuyên được Khoa tổ chức giảng dạy theo yêu cầu của doanh nghiệp.  Trong quá trình học tập, sinh viên có rất nhiều cơ hội tham gia các hội thảo, hội nghị quốc tế diễn ra tại trường; tham gia học tập cùng các đoàn sinh viên quốc tế đến từ nhiều nước trên thế giới. Ngoài ra, sinh viên còn được đi kiến tập thực tế tại các doanh nghiệp thân hữu của khoa, các trường đại học ở nước ngoài để có thể tiếp cận với môi trường làm việc thực tế và đáp ứng nhu cầu hội nhập quốc tế. Khi tốt nghiệp sinh viên có đủ khả năng và tự tin để làm việc tại các Trường đại học, cao đẳng; các Viện nghiên cứu; các doanh nghiệp sản xuất, kinh doanh liên quan đến hóa chất và sinh học.  Khoa KHUD không ngừng trưởng thành và phát triển với triết lý đào tạo:  “ĐÀO TẠO CON NGƯỜI CÓ PHẨM CHẤT ĐẠO ĐỨC TỐT, CÓ TRÌNH ĐỘ CHUYÊN MÔN SÂU”  Clip giới thiệu Khoa Khoa Học Ứng Dụng Giới thiệu Ban lãnh đạo  Giảng viên - Nhà khoa học  Cơ sở vật chất  Về trang GIỚI THIỆU Giới thiệu  Giáo dục  Nghiên cứu  Tuyển sinh  Hợp tác Tin tức & sự kiện  Khoa học & kỹ thuật  Hợp tác doanh nghiệp  Cựu sinh viên tiêu biểu Khoa Khoa học ứng dụng Địa chỉ: Phòng C006, số 19 Nguyễn Hữu Thọ, phường Tân Phong, Quận 7, TP. Hồ Chí Minh  Số điện thoại: (84 - 028) 377 55 058  Email: khud@tdtu.edu.vn\"\n",
    "a = proponizer.invoke({\"context\": context})\n",
    "a"
   ]
  },
  {
   "cell_type": "markdown",
   "metadata": {
    "jp-MarkdownHeadingCollapsed": true
   },
   "source": [
    "### Fix-error: Manually run error documents"
   ]
  },
  {
   "cell_type": "code",
   "execution_count": 16,
   "metadata": {},
   "outputs": [
    {
     "data": {
      "text/plain": [
       "(3, 3)"
      ]
     },
     "execution_count": 16,
     "metadata": {},
     "output_type": "execute_result"
    }
   ],
   "source": [
    "import pandas as pd\n",
    "err_df = pd.read_json(ERR_NAME, lines=True)\n",
    "err_df.shape"
   ]
  },
  {
   "cell_type": "code",
   "execution_count": 30,
   "metadata": {},
   "outputs": [],
   "source": [
    "split = err_df['split'][2]\n",
    "# split\n",
    "# extras = []"
   ]
  },
  {
   "cell_type": "code",
   "execution_count": 32,
   "metadata": {},
   "outputs": [],
   "source": [
    "pr_position = proponizer.invoke({\"context\": split})\n",
    "extras.append({\"doc_id\": err_df['doc_id'][2], \"prop\": pr_position})"
   ]
  },
  {
   "cell_type": "code",
   "execution_count": 38,
   "metadata": {},
   "outputs": [
    {
     "data": {
      "text/plain": [
       "2"
      ]
     },
     "execution_count": 38,
     "metadata": {},
     "output_type": "execute_result"
    }
   ],
   "source": [
    "# extras_ls = extras\n",
    "len(extras_ls)"
   ]
  },
  {
   "cell_type": "code",
   "execution_count": 40,
   "metadata": {},
   "outputs": [],
   "source": [
    "extras = {i['doc_id']:i['prop'] for i in extras_ls}"
   ]
  },
  {
   "cell_type": "code",
   "execution_count": 43,
   "metadata": {},
   "outputs": [
    {
     "data": {
      "application/vnd.jupyter.widget-view+json": {
       "model_id": "a50d78902e4444ff837b419fb9324b29",
       "version_major": 2,
       "version_minor": 0
      },
      "text/plain": [
       "Map:   0%|          | 0/418 [00:00<?, ? examples/s]"
      ]
     },
     "metadata": {},
     "output_type": "display_data"
    },
    {
     "name": "stdout",
     "output_type": "stream",
     "text": [
      "Update\n",
      "Update\n"
     ]
    }
   ],
   "source": [
    "def update(row):\n",
    "    did = row['doc_id']\n",
    "    if did not in extras:\n",
    "        return row\n",
    "    print(\"Update\")\n",
    "    row['propositions'].insert(0, extras[did])\n",
    "    return row\n",
    "\n",
    "newds1 = newds.map(update)"
   ]
  },
  {
   "cell_type": "code",
   "execution_count": 45,
   "metadata": {},
   "outputs": [
    {
     "data": {
      "application/vnd.jupyter.widget-view+json": {
       "model_id": "068ac579be4d4001b09e9334abe54784",
       "version_major": 2,
       "version_minor": 0
      },
      "text/plain": [
       "Uploading the dataset shards:   0%|          | 0/1 [00:00<?, ?it/s]"
      ]
     },
     "metadata": {},
     "output_type": "display_data"
    },
    {
     "data": {
      "application/vnd.jupyter.widget-view+json": {
       "model_id": "cebdb18ac64645e78288a47c7c45197f",
       "version_major": 2,
       "version_minor": 0
      },
      "text/plain": [
       "Creating parquet from Arrow format:   0%|          | 0/1 [00:00<?, ?ba/s]"
      ]
     },
     "metadata": {},
     "output_type": "display_data"
    },
    {
     "data": {
      "application/vnd.jupyter.widget-view+json": {
       "model_id": "45d13836b1db425b84a4e335684b5a32",
       "version_major": 2,
       "version_minor": 0
      },
      "text/plain": [
       "README.md:   0%|          | 0.00/492 [00:00<?, ?B/s]"
      ]
     },
     "metadata": {},
     "output_type": "display_data"
    },
    {
     "data": {
      "text/plain": [
       "CommitInfo(commit_url='https://huggingface.co/datasets/BroDeadlines/TEST.HUB.mini.hub_copora_data/commit/dcb5dcdedafc6d80e1f5fbc523a96f06f0cf4a1a', commit_message='Upload dataset', commit_description='', oid='dcb5dcdedafc6d80e1f5fbc523a96f06f0cf4a1a', pr_url=None, pr_revision=None, pr_num=None)"
      ]
     },
     "execution_count": 45,
     "metadata": {},
     "output_type": "execute_result"
    }
   ],
   "source": [
    "newds1.push_to_hub(DATA_REPO)"
   ]
  },
  {
   "cell_type": "markdown",
   "metadata": {},
   "source": [
    "## Build JSON list: Convert JSON str to list"
   ]
  },
  {
   "cell_type": "code",
   "execution_count": 16,
   "metadata": {},
   "outputs": [],
   "source": [
    "def parse_error_json_list(inputdata):\n",
    "    data = []\n",
    "    rows = inputdata.split(\"\\n\")\n",
    "    for r in rows:\n",
    "        if len(r) < 10:\n",
    "            continue\n",
    "        tmp = r.strip()\n",
    "        if tmp[-2:] == '\",':\n",
    "            tmp = tmp[:-2]\n",
    "        if tmp[0] == '\"':\n",
    "            tmp = tmp[1:]\n",
    "        if tmp[-1] == '\"':\n",
    "            tmp = tmp[:-1]\n",
    "        data.append(tmp)\n",
    "    return data\n",
    "\n",
    "\n",
    "def parse_json(row):\n",
    "    data = []\n",
    "    data_list = row['propositions']\n",
    "    for d in data_list:\n",
    "        try:\n",
    "            tmp_list = json.loads(d)\n",
    "        except:\n",
    "            # print(\"Can't parse\")\n",
    "            tmp_list = parse_error_json_list(d)\n",
    "            # errors.extend(d)\n",
    "            # continue\n",
    "        data.extend(tmp_list)\n",
    "    row['proposition_list'] = data\n",
    "    return row"
   ]
  },
  {
   "cell_type": "code",
   "execution_count": 17,
   "metadata": {},
   "outputs": [
    {
     "data": {
      "application/vnd.jupyter.widget-view+json": {
       "model_id": "41481582e40f430f8a8045cb993f4c64",
       "version_major": 2,
       "version_minor": 0
      },
      "text/plain": [
       "Map:   0%|          | 0/257 [00:00<?, ? examples/s]"
      ]
     },
     "metadata": {},
     "output_type": "display_data"
    },
    {
     "data": {
      "application/vnd.jupyter.widget-view+json": {
       "model_id": "80f6fcdca3dd4e91a95563f769f8696c",
       "version_major": 2,
       "version_minor": 0
      },
      "text/plain": [
       "Filter:   0%|          | 0/257 [00:00<?, ? examples/s]"
      ]
     },
     "metadata": {},
     "output_type": "display_data"
    },
    {
     "data": {
      "text/plain": [
       "DatasetDict({\n",
       "    train: Dataset({\n",
       "        features: ['url', 'content', 'doc_id', 'metadata', 'split', 'shards', 'propositions', 'proposition_list'],\n",
       "        num_rows: 2\n",
       "    })\n",
       "})"
      ]
     },
     "execution_count": 17,
     "metadata": {},
     "output_type": "execute_result"
    }
   ],
   "source": [
    "# newds = test_dataset\n",
    "newds_two = newds.map(parse_json)\n",
    "out=newds_two.filter(lambda e: len(e['proposition_list']) == 0)\n",
    "out"
   ]
  },
  {
   "cell_type": "code",
   "execution_count": 25,
   "metadata": {},
   "outputs": [
    {
     "data": {
      "text/plain": [
       "['7129f855-c9ef-4c22-a14d-52fb6437b402',\n",
       " '67735473-e9f3-435c-96ea-b237aeddd4d6']"
      ]
     },
     "execution_count": 25,
     "metadata": {},
     "output_type": "execute_result"
    }
   ],
   "source": [
    "out['train']['doc_id']"
   ]
  },
  {
   "cell_type": "code",
   "execution_count": 12,
   "metadata": {},
   "outputs": [
    {
     "data": {
      "application/vnd.jupyter.widget-view+json": {
       "model_id": "1f2b63f0d8094f41943b3b7bb73552c7",
       "version_major": 2,
       "version_minor": 0
      },
      "text/plain": [
       "Filter:   0%|          | 0/543 [00:00<?, ? examples/s]"
      ]
     },
     "metadata": {},
     "output_type": "display_data"
    },
    {
     "data": {
      "text/plain": [
       "DatasetDict({\n",
       "    train: Dataset({\n",
       "        features: ['url', 'content', 'metadata', 'doc_id', 'split', 'shards', 'propositions', 'proposition_list'],\n",
       "        num_rows: 541\n",
       "    })\n",
       "})"
      ]
     },
     "execution_count": 12,
     "metadata": {},
     "output_type": "execute_result"
    }
   ],
   "source": [
    "choose_ds=newds_two.filter(lambda e: len(e['proposition_list']) > 0)\n",
    "choose_ds"
   ]
  },
  {
   "cell_type": "code",
   "execution_count": 16,
   "metadata": {},
   "outputs": [
    {
     "data": {
      "text/plain": [
       "DatasetDict({\n",
       "    train: Dataset({\n",
       "        features: ['url', 'content', 'metadata', 'doc_id', 'split', 'shards', 'proposition_str', 'proposition_list'],\n",
       "        num_rows: 541\n",
       "    })\n",
       "})"
      ]
     },
     "execution_count": 16,
     "metadata": {},
     "output_type": "execute_result"
    }
   ],
   "source": [
    "newds_two = choose_ds.rename_column(\"propositions\", \"proposition_str\")\n",
    "newds_two"
   ]
  },
  {
   "cell_type": "code",
   "execution_count": 18,
   "metadata": {},
   "outputs": [
    {
     "data": {
      "text/plain": [
       "'BroDeadlines/TEST.UEH.ueh_copora_data'"
      ]
     },
     "execution_count": 18,
     "metadata": {},
     "output_type": "execute_result"
    }
   ],
   "source": [
    "DATA_REPO"
   ]
  },
  {
   "cell_type": "code",
   "execution_count": 19,
   "metadata": {},
   "outputs": [
    {
     "data": {
      "text/plain": [
       "''"
      ]
     },
     "execution_count": 19,
     "metadata": {},
     "output_type": "execute_result"
    }
   ],
   "source": [
    "SUBSET"
   ]
  },
  {
   "cell_type": "code",
   "execution_count": 21,
   "metadata": {},
   "outputs": [
    {
     "data": {
      "text/plain": [
       "DatasetDict({\n",
       "    train: Dataset({\n",
       "        features: ['url', 'content', 'doc_id', 'metadata', 'split', 'shards', 'propositions', 'proposition_list'],\n",
       "        num_rows: 257\n",
       "    })\n",
       "})"
      ]
     },
     "execution_count": 21,
     "metadata": {},
     "output_type": "execute_result"
    }
   ],
   "source": [
    "newds_two"
   ]
  },
  {
   "cell_type": "code",
   "execution_count": 22,
   "metadata": {},
   "outputs": [
    {
     "data": {
      "text/plain": [
       "'BroDeadlines/TEST.UEH.ueh_copora_data'"
      ]
     },
     "execution_count": 22,
     "metadata": {},
     "output_type": "execute_result"
    }
   ],
   "source": []
  },
  {
   "cell_type": "code",
   "execution_count": 24,
   "metadata": {},
   "outputs": [
    {
     "data": {
      "application/vnd.jupyter.widget-view+json": {
       "model_id": "738159d0c70e4495bde96da1e29c3d9d",
       "version_major": 2,
       "version_minor": 0
      },
      "text/plain": [
       "Uploading the dataset shards:   0%|          | 0/1 [00:00<?, ?it/s]"
      ]
     },
     "metadata": {},
     "output_type": "display_data"
    },
    {
     "data": {
      "application/vnd.jupyter.widget-view+json": {
       "model_id": "e158406982184b59ab23f1edabc04290",
       "version_major": 2,
       "version_minor": 0
      },
      "text/plain": [
       "Creating parquet from Arrow format:   0%|          | 0/1 [00:00<?, ?ba/s]"
      ]
     },
     "metadata": {},
     "output_type": "display_data"
    },
    {
     "data": {
      "text/plain": [
       "CommitInfo(commit_url='https://huggingface.co/datasets/BroDeadlines/TEST.UEH.ueh_copora_data/commit/848bb4d9642decec233d813bfc0de37d5e51dff7', commit_message='Upload dataset', commit_description='', oid='848bb4d9642decec233d813bfc0de37d5e51dff7', pr_url=None, pr_revision=None, pr_num=None)"
      ]
     },
     "execution_count": 24,
     "metadata": {},
     "output_type": "execute_result"
    }
   ],
   "source": [
    "newds_two.push_to_hub(DATA_REPO)"
   ]
  },
  {
   "cell_type": "markdown",
   "metadata": {
    "jp-MarkdownHeadingCollapsed": true
   },
   "source": [
    "## Update DS: Build clean parent document for propositions"
   ]
  },
  {
   "cell_type": "code",
   "execution_count": 18,
   "metadata": {},
   "outputs": [
    {
     "data": {
      "text/plain": [
       "Dataset({\n",
       "    features: ['url', 'doc_id', 'title', 'content', 'split', 'shards', 'proposition_str', 'proposition_list'],\n",
       "    num_rows: 418\n",
       "})"
      ]
     },
     "execution_count": 18,
     "metadata": {},
     "output_type": "execute_result"
    }
   ],
   "source": [
    "# DATA_REPO = \"BroDeadlines/TEST.edu_tdt_proposition_data\"\n",
    "\n",
    "# test_dataset = load_dataset(DATA_REPO)\n",
    "\n",
    "test_dataset = newds_two\n",
    "\n",
    "test_dataset"
   ]
  },
  {
   "cell_type": "code",
   "execution_count": 19,
   "metadata": {},
   "outputs": [
    {
     "data": {
      "application/vnd.jupyter.widget-view+json": {
       "model_id": "b85cbbce57fe4d63be526dd50120f9e0",
       "version_major": 2,
       "version_minor": 0
      },
      "text/plain": [
       "Map:   0%|          | 0/418 [00:00<?, ? examples/s]"
      ]
     },
     "metadata": {},
     "output_type": "display_data"
    }
   ],
   "source": [
    "def clean_propositions(row):\n",
    "    data = {**row}\n",
    "    data['propositions'] = [\"\\n\".join(row[\"proposition_list\"])]\n",
    "    return data\n",
    "    \n",
    "ds_new = test_dataset.map(clean_propositions)"
   ]
  },
  {
   "cell_type": "code",
   "execution_count": 22,
   "metadata": {},
   "outputs": [],
   "source": [
    "DATA_REPO = \"BroDeadlines/TEST.HUB.mini.hub_copora_data\""
   ]
  },
  {
   "cell_type": "code",
   "execution_count": 23,
   "metadata": {},
   "outputs": [
    {
     "data": {
      "application/vnd.jupyter.widget-view+json": {
       "model_id": "f7a8a0138de249d8823b3d1c04e3a487",
       "version_major": 2,
       "version_minor": 0
      },
      "text/plain": [
       "Uploading the dataset shards:   0%|          | 0/1 [00:00<?, ?it/s]"
      ]
     },
     "metadata": {},
     "output_type": "display_data"
    },
    {
     "data": {
      "application/vnd.jupyter.widget-view+json": {
       "model_id": "69bf677b9cbd421c943dee85a91ac186",
       "version_major": 2,
       "version_minor": 0
      },
      "text/plain": [
       "Creating parquet from Arrow format:   0%|          | 0/1 [00:00<?, ?ba/s]"
      ]
     },
     "metadata": {},
     "output_type": "display_data"
    },
    {
     "data": {
      "application/vnd.jupyter.widget-view+json": {
       "model_id": "0211aee6181d484fa0733bdb9bf0f653",
       "version_major": 2,
       "version_minor": 0
      },
      "text/plain": [
       "README.md:   0%|          | 0.00/646 [00:00<?, ?B/s]"
      ]
     },
     "metadata": {},
     "output_type": "display_data"
    },
    {
     "data": {
      "text/plain": [
       "CommitInfo(commit_url='https://huggingface.co/datasets/BroDeadlines/TEST.HUB.mini.hub_copora_data/commit/497e0d7220ae488af84074281c6f9987fa8711f9', commit_message='Upload dataset', commit_description='', oid='497e0d7220ae488af84074281c6f9987fa8711f9', pr_url=None, pr_revision=None, pr_num=None)"
      ]
     },
     "execution_count": 23,
     "metadata": {},
     "output_type": "execute_result"
    }
   ],
   "source": [
    "ds_new.push_to_hub(DATA_REPO)"
   ]
  },
  {
   "cell_type": "markdown",
   "metadata": {
    "jp-MarkdownHeadingCollapsed": true
   },
   "source": [
    "# Create split on Test.basic"
   ]
  },
  {
   "cell_type": "code",
   "execution_count": 43,
   "metadata": {},
   "outputs": [
    {
     "data": {
      "text/plain": [
       "Dataset({\n",
       "    features: ['question', 'answer', 'url', 'group', 'doc_id', 'evaluation', 'metadata'],\n",
       "    num_rows: 144\n",
       "})"
      ]
     },
     "execution_count": 43,
     "metadata": {},
     "output_type": "execute_result"
    }
   ],
   "source": [
    "EVAL = 'BroDeadlines/EVAL.IR_evaluation'\n",
    "\n",
    "SPLIT = 'INDEX.medium_index_TDT'\n",
    "test_dataset = load_dataset(EVAL, split=SPLIT)\n",
    "\n",
    "test_dataset"
   ]
  },
  {
   "cell_type": "code",
   "execution_count": 7,
   "metadata": {},
   "outputs": [
    {
     "data": {
      "application/vnd.jupyter.widget-view+json": {
       "model_id": "78c1c5b641b547d58e20abce0cd73798",
       "version_major": 2,
       "version_minor": 0
      },
      "text/plain": [
       "Map:   0%|          | 0/20 [00:00<?, ? examples/s]"
      ]
     },
     "metadata": {},
     "output_type": "display_data"
    },
    {
     "data": {
      "text/plain": [
       "Dataset({\n",
       "    features: ['question', 'answer', 'url', 'group', 'doc_id', 'evaluation', 'metadata'],\n",
       "    num_rows: 20\n",
       "})"
      ]
     },
     "execution_count": 7,
     "metadata": {},
     "output_type": "execute_result"
    }
   ],
   "source": [
    "ids = {}\n",
    "def build_ids(row):\n",
    "    ids[row['doc_id']] = 1\n",
    "    return row\n",
    "\n",
    "test_dataset.map(build_ids)"
   ]
  },
  {
   "cell_type": "code",
   "execution_count": 8,
   "metadata": {},
   "outputs": [
    {
     "data": {
      "text/plain": [
       "Dataset({\n",
       "    features: ['content', 'url', 'doc_id', 'shards', 'splits', 'split', 'propositions', 'proposition_list'],\n",
       "    num_rows: 344\n",
       "})"
      ]
     },
     "execution_count": 8,
     "metadata": {},
     "output_type": "execute_result"
    }
   ],
   "source": [
    "REPO = 'BroDeadlines/TEST.edu_tdt_proposition_data'\n",
    "\n",
    "SPLIT = 'INDEX.medium_index_TDT_clean'\n",
    "repo_dataset = load_dataset(REPO, split=SPLIT)\n",
    "\n",
    "repo_dataset"
   ]
  },
  {
   "cell_type": "code",
   "execution_count": 33,
   "metadata": {},
   "outputs": [
    {
     "data": {
      "text/plain": [
       "Dataset({\n",
       "    features: ['content', 'url', 'doc_id', 'shards', 'splits', 'split', 'propositions', 'proposition_list'],\n",
       "    num_rows: 344\n",
       "})"
      ]
     },
     "execution_count": 33,
     "metadata": {},
     "output_type": "execute_result"
    }
   ],
   "source": [
    "repo_dataset"
   ]
  },
  {
   "cell_type": "code",
   "execution_count": 36,
   "metadata": {},
   "outputs": [
    {
     "data": {
      "text/plain": [
       "Dataset({\n",
       "    features: ['content', 'url', 'doc_id', 'shards', 'splits', 'split', 'propositions', 'proposition_list'],\n",
       "    num_rows: 10\n",
       "})"
      ]
     },
     "execution_count": 36,
     "metadata": {},
     "output_type": "execute_result"
    }
   ],
   "source": [
    "repo_fil = repo_dataset.filter(lambda row: row['url'] == 'https://tuvanhocduong.tdtu.edu.vn/News').shuffle().select(range(10))\n",
    "repo_fil"
   ]
  },
  {
   "cell_type": "code",
   "execution_count": 38,
   "metadata": {},
   "outputs": [
    {
     "data": {
      "text/plain": [
       "Dataset({\n",
       "    features: ['content', 'url', 'doc_id', 'shards', 'splits', 'split', 'propositions', 'proposition_list'],\n",
       "    num_rows: 10\n",
       "})"
      ]
     },
     "execution_count": 38,
     "metadata": {},
     "output_type": "execute_result"
    }
   ],
   "source": [
    "repo_qa = repo_dataset.filter(lambda row: row['url'] != 'https://tuvanhocduong.tdtu.edu.vn/News').shuffle().select(range(10))\n",
    "repo_qa "
   ]
  },
  {
   "cell_type": "code",
   "execution_count": 41,
   "metadata": {},
   "outputs": [
    {
     "data": {
      "text/plain": [
       "Dataset({\n",
       "    features: ['content', 'url', 'doc_id', 'shards', 'splits', 'split', 'propositions', 'proposition_list'],\n",
       "    num_rows: 20\n",
       "})"
      ]
     },
     "execution_count": 41,
     "metadata": {},
     "output_type": "execute_result"
    }
   ],
   "source": [
    "from datasets import concatenate_datasets\n",
    "\n",
    "repo = concatenate_datasets([repo_qa, repo_fil])\n",
    "repo"
   ]
  },
  {
   "cell_type": "code",
   "execution_count": 42,
   "metadata": {},
   "outputs": [
    {
     "data": {
      "application/vnd.jupyter.widget-view+json": {
       "model_id": "c57269c5e6154a58a53a4baad4ef883e",
       "version_major": 2,
       "version_minor": 0
      },
      "text/plain": [
       "Uploading the dataset shards:   0%|          | 0/1 [00:00<?, ?it/s]"
      ]
     },
     "metadata": {},
     "output_type": "display_data"
    },
    {
     "data": {
      "application/vnd.jupyter.widget-view+json": {
       "model_id": "a35c75136bba4d3aa255feb960d537bd",
       "version_major": 2,
       "version_minor": 0
      },
      "text/plain": [
       "Creating parquet from Arrow format:   0%|          | 0/1 [00:00<?, ?ba/s]"
      ]
     },
     "metadata": {},
     "output_type": "display_data"
    },
    {
     "data": {
      "application/vnd.jupyter.widget-view+json": {
       "model_id": "cd7531c2275946a1afea58840c632ead",
       "version_major": 2,
       "version_minor": 0
      },
      "text/plain": [
       "README.md:   0%|          | 0.00/1.73k [00:00<?, ?B/s]"
      ]
     },
     "metadata": {},
     "output_type": "display_data"
    },
    {
     "data": {
      "text/plain": [
       "CommitInfo(commit_url='https://huggingface.co/datasets/BroDeadlines/TEST.edu_tdt_proposition_data/commit/64d7e163f6d3ec0138a9e000baaf6452863cb881', commit_message='Upload dataset', commit_description='', oid='64d7e163f6d3ec0138a9e000baaf6452863cb881', pr_url=None, pr_revision=None, pr_num=None)"
      ]
     },
     "execution_count": 42,
     "metadata": {},
     "output_type": "execute_result"
    }
   ],
   "source": [
    "REPO = 'BroDeadlines/TEST.edu_tdt_proposition_data'\n",
    "\n",
    "SPLIT = 'TEST.basic_index_TDT_clean'\n",
    "repo.push_to_hub(REPO, split=SPLIT)"
   ]
  }
 ],
 "metadata": {
  "kernelspec": {
   "display_name": "Python 3 (ipykernel)",
   "language": "python",
   "name": "python3"
  },
  "language_info": {
   "codemirror_mode": {
    "name": "ipython",
    "version": 3
   },
   "file_extension": ".py",
   "mimetype": "text/x-python",
   "name": "python",
   "nbconvert_exporter": "python",
   "pygments_lexer": "ipython3",
   "version": "3.9.18"
  }
 },
 "nbformat": 4,
 "nbformat_minor": 4
}
