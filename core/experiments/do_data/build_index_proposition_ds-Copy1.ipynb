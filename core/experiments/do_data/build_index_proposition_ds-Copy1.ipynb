{
 "cells": [
  {
   "cell_type": "markdown",
   "metadata": {},
   "source": [
    "# Build data with proposition"
   ]
  },
  {
   "cell_type": "code",
   "execution_count": 1,
   "metadata": {},
   "outputs": [],
   "source": [
    "import sys\n",
    "sys.path.append(\"../..\")\n",
    "from datasets import load_dataset\n",
    "from src.service.provider import ProviderService\n",
    "\n",
    "DATA_REPO = \"BroDeadlines/TEST.edu_tdt_data\"\n",
    "SPLIT = \"INDEX.medium_index_TDT\"\n",
    "provider = ProviderService()"
   ]
  },
  {
   "cell_type": "code",
   "execution_count": null,
   "metadata": {},
   "outputs": [],
   "source": [
    "test_dataset = load_dataset(DATA_REPO, split= SPLIT)\n",
    "test_dataset"
   ]
  },
  {
   "cell_type": "code",
   "execution_count": null,
   "metadata": {},
   "outputs": [],
   "source": [
    "rows = test_dataset.filter(lambda e: e['url'] == \"https://tuvanhocduong.tdtu.edu.vn/News\")\n",
    "rows"
   ]
  },
  {
   "cell_type": "code",
   "execution_count": 6,
   "metadata": {},
   "outputs": [
    {
     "data": {
      "application/vnd.jupyter.widget-view+json": {
       "model_id": "d5f30485243e415a9682cbb30b39c2ed",
       "version_major": 2,
       "version_minor": 0
      },
      "text/plain": [
       "Map:   0%|          | 0/344 [00:00<?, ? examples/s]"
      ]
     },
     "metadata": {},
     "output_type": "display_data"
    },
    {
     "data": {
      "text/plain": [
       "344"
      ]
     },
     "execution_count": 6,
     "metadata": {},
     "output_type": "execute_result"
    }
   ],
   "source": [
    "lengths = []\n",
    "def count_len(row):\n",
    "    lengths.append(len(row['content']))\n",
    "    return\n",
    "\n",
    "contents = []\n",
    "def get_content(row):\n",
    "    contents.append(row['content'])\n",
    "    return\n",
    "\n",
    "test_dataset.map(get_content)\n",
    "len(lengths)\n",
    "len(contents)"
   ]
  },
  {
   "cell_type": "code",
   "execution_count": 12,
   "metadata": {},
   "outputs": [
    {
     "name": "stdout",
     "output_type": "stream",
     "text": [
      "The mean of the data is: 670.2569444444445\n",
      "The mean of the data is: 374.5\n"
     ]
    }
   ],
   "source": [
    "import numpy as np\n",
    "\n",
    "data = np.array(lengths)\n",
    "\n",
    "mean_value = np.mean(data)\n",
    "print(\"The mean of the data is:\", mean_value)\n",
    "\n",
    "meandia_value = np.median(lengths)\n",
    "print(\"The median of the data is:\", meandia_value)"
   ]
  },
  {
   "cell_type": "code",
   "execution_count": 4,
   "metadata": {},
   "outputs": [],
   "source": [
    "from src.utils.text_utils import create_splitter, try_split_texts\n",
    "from src.chain.proposition import create_proposition_chain\n",
    "\n",
    "splitter = create_splitter(chunk_size=400, overlap=50)\n",
    "proponizer = create_proposition_chain(provider=provider)\n",
    "# try_split_texts(texts=contents, splitter=splitter)\n"
   ]
  },
  {
   "cell_type": "code",
   "execution_count": 14,
   "metadata": {},
   "outputs": [
    {
     "data": {
      "application/vnd.jupyter.widget-view+json": {
       "model_id": "b6c7c2f2c2124118b2a47f8184b28233",
       "version_major": 2,
       "version_minor": 0
      },
      "text/plain": [
       "Map:   0%|          | 0/344 [00:00<?, ? examples/s]"
      ]
     },
     "metadata": {},
     "output_type": "display_data"
    }
   ],
   "source": [
    "def build_data_func(row):\n",
    "    content = row['content']\n",
    "    splits = splitter.split_text(content)\n",
    "    row['split'] = splits\n",
    "    row['shards'] = len(splits)\n",
    "    propositions = []\n",
    "    for split in splits:\n",
    "        try:\n",
    "            pr_position = proponizer.invoke({\"para\": split})\n",
    "            propositions.append(pr_position)\n",
    "        except Exception:\n",
    "            print(Exception)\n",
    "    row['propositions'] = propositions\n",
    "    return row\n",
    "\n",
    "newds = test_dataset.map(build_data_func)"
   ]
  },
  {
   "cell_type": "code",
   "execution_count": 15,
   "metadata": {},
   "outputs": [
    {
     "data": {
      "application/vnd.jupyter.widget-view+json": {
       "model_id": "9d0369a72b8d424c92b5cd45e68bb618",
       "version_major": 2,
       "version_minor": 0
      },
      "text/plain": [
       "Uploading the dataset shards:   0%|          | 0/1 [00:00<?, ?it/s]"
      ]
     },
     "metadata": {},
     "output_type": "display_data"
    },
    {
     "data": {
      "application/vnd.jupyter.widget-view+json": {
       "model_id": "a7a8516efb2d43c6a57ee386b35bc2fb",
       "version_major": 2,
       "version_minor": 0
      },
      "text/plain": [
       "Creating parquet from Arrow format:   0%|          | 0/1 [00:00<?, ?ba/s]"
      ]
     },
     "metadata": {},
     "output_type": "display_data"
    },
    {
     "data": {
      "text/plain": [
       "CommitInfo(commit_url='https://huggingface.co/datasets/BroDeadlines/TEST.proposition.edu_tdt_data/commit/728f5f60a7f8e6c61aa223b2c04af5c9a1c356d4', commit_message='Upload dataset', commit_description='', oid='728f5f60a7f8e6c61aa223b2c04af5c9a1c356d4', pr_url=None, pr_revision=None, pr_num=None)"
      ]
     },
     "execution_count": 15,
     "metadata": {},
     "output_type": "execute_result"
    }
   ],
   "source": [
    "DATA_REPO = \"BroDeadlines/TEST.proposition.edu_tdt_data\"\n",
    "\n",
    "newds.push_to_hub(DATA_REPO, split=\"medium_edu_tdt\")"
   ]
  },
  {
   "cell_type": "code",
   "execution_count": 17,
   "metadata": {},
   "outputs": [
    {
     "data": {
      "text/plain": [
       "{'content': 'Trong thời gian đóng học phí theo thông báo của phòng Tài chính, sinh viên thuộc diện khó khăn (có minh chứng) có thể nộp đơn xin gia hạn học phí trực tuyến bằng cách vào Hệ thống thông tin sinh viên, phân hệ Nộp đơn trực tuyến, chọn học kỳ muốn gia hạn học phí, chọn loại đơn cần nộp và tiến hành điền các thông tin cần thiết. Sinh viên theo dõi kết quả trả lời đơn để biết đơn có được cho gia hạn hay không. Việc nộp đơn trực tuyến chỉ áp dụng với đợt đóng học phí đầu tiên của học kỳ chính.\\n\\nNếu sinh viên có nguyện vọng gia hạn thời gian đóng học phí ở các đợt đóng tiếp theo, sinh viên có thể nộp đơn gia hạn thời gian đóng học phí, đính kèm minh chứng và nộp về cho phòng Công tác tác Học sinh - Sinh viên (A.0003) trong thời gian đóng học phí.',\n",
       " 'url': 'https://tuvanhocduong.tdtu.edu.vn/News',\n",
       " 'doc_id': '573ca174-1b6d-11ef-a755-d38426455a06',\n",
       " 'shards': 1,\n",
       " 'splits': ['Trong thời gian đóng học phí theo thông báo của phòng Tài chính, sinh viên thuộc diện khó khăn (có minh chứng) có thể nộp đơn xin gia hạn học phí trực tuyến bằng cách vào Hệ thống thông tin sinh viên, phân hệ Nộp đơn trực tuyến, chọn học kỳ muốn gia hạn học phí, chọn loại đơn cần nộp và tiến hành điền các thông tin cần thiết. Sinh viên theo dõi kết quả trả lời đơn để biết đơn có được cho gia hạn hay không. Việc nộp đơn trực tuyến chỉ áp dụng với đợt đóng học phí đầu tiên của học kỳ chính.\\n\\nNếu sinh viên có nguyện vọng gia hạn thời gian đóng học phí ở các đợt đóng tiếp theo, sinh viên có thể nộp đơn gia hạn thời gian đóng học phí, đính kèm minh chứng và nộp về cho phòng Công tác tác Học sinh - Sinh viên (A.0003) trong thời gian đóng học phí.'],\n",
       " 'split': ['Trong thời gian đóng học phí theo thông báo của phòng Tài chính, sinh viên thuộc diện khó khăn (có minh chứng) có thể nộp đơn xin gia hạn học phí trực tuyến bằng cách vào Hệ thống thông tin sinh viên, phân hệ Nộp đơn trực tuyến, chọn học kỳ muốn gia hạn học phí, chọn loại đơn cần nộp và tiến hành điền các thông tin cần thiết. Sinh viên theo dõi kết quả trả lời đơn để biết đơn có được cho gia hạn hay không. Việc nộp đơn trực tuyến chỉ áp dụng với đợt đóng học phí đầu tiên của học kỳ chính.\\n\\nNếu sinh viên có nguyện vọng gia hạn thời gian đóng học phí ở các đợt đóng tiếp theo, sinh viên có thể nộp đơn gia hạn thời gian đóng học phí, đính kèm minh chứng và nộp về cho phòng Công tác tác Học sinh - Sinh viên (A.0003) trong thời gian đóng học phí.'],\n",
       " 'propositions': ['[\\n  \"Trong thời gian đóng học phí theo thông báo của phòng Tài chính, sinh viên thuộc diện khó khăn (có minh chứng) có thể nộp đơn xin gia hạn học phí trực tuyến.\",\\n  \"Sinh viên nộp đơn xin gia hạn học phí trực tuyến bằng cách vào Hệ thống thông tin sinh viên, phân hệ Nộp đơn trực tuyến.\",\\n  \"Sinh viên chọn học kỳ muốn gia hạn học phí.\",\\n  \"Sinh viên chọn loại đơn cần nộp.\",\\n  \"Sinh viên tiến hành điền các thông tin cần thiết.\",\\n  \"Sinh viên theo dõi kết quả trả lời đơn để biết đơn có được cho gia hạn hay không.\",\\n  \"Việc nộp đơn trực tuyến chỉ áp dụng với đợt đóng học phí đầu tiên của học kỳ chính.\",\\n  \"Nếu sinh viên có nguyện vọng gia hạn thời gian đóng học phí ở các đợt đóng tiếp theo, sinh viên có thể nộp đơn gia hạn thời gian đóng học phí.\",\\n  \"Sinh viên đính kèm minh chứng khi nộp đơn gia hạn thời gian đóng học phí.\",\\n  \"Sinh viên nộp đơn gia hạn thời gian đóng học phí về cho phòng Công tác tác Học sinh - Sinh viên (A.0003) trong thời gian đóng học phí.\"\\n]']}"
      ]
     },
     "execution_count": 17,
     "metadata": {},
     "output_type": "execute_result"
    }
   ],
   "source": [
    "newds[0]['proppo']"
   ]
  },
  {
   "cell_type": "markdown",
   "metadata": {},
   "source": [
    "## Build JSON list"
   ]
  },
  {
   "cell_type": "code",
   "execution_count": 1,
   "metadata": {},
   "outputs": [],
   "source": [
    "def parse_error_json_list(inputdata):\n",
    "    data = []\n",
    "    rows = inputdata.split(\"\\n\")\n",
    "    for r in rows:\n",
    "        if len(r) < 10:\n",
    "            print(r)\n",
    "            continue\n",
    "        tmp = r.strip()\n",
    "        if tmp[-2:] == '\",':\n",
    "            tmp = tmp[:-2]\n",
    "        if tmp[0] == '\"':\n",
    "            tmp = tmp[1:]\n",
    "        if tmp[-1] == '\"':\n",
    "            tmp = tmp[:-1]\n",
    "        data.append(tmp)\n",
    "    return data\n",
    "\n",
    "def parse_json(row):\n",
    "    data = []\n",
    "    data_list = row['propositions']\n",
    "    for d in data_list:\n",
    "        try:\n",
    "            tmp_list = json.loads(d)\n",
    "        except:\n",
    "            # print(\"Can't parse\")\n",
    "            tmp_list = parse_error_json_list(d)\n",
    "            # errors.extend(d)\n",
    "            # continue\n",
    "        data.extend(tmp_list)\n",
    "    row['proposition_list'] = data\n",
    "    return row"
   ]
  },
  {
   "cell_type": "markdown",
   "metadata": {},
   "source": [
    "## Update DS"
   ]
  },
  {
   "cell_type": "code",
   "execution_count": 2,
   "metadata": {},
   "outputs": [
    {
     "data": {
      "text/plain": [
       "DatasetDict({\n",
       "    propositon_medium_edu_tdt: Dataset({\n",
       "        features: ['content', 'url', 'doc_id', 'shards', 'splits', 'split', 'propositions', 'proposition_list'],\n",
       "        num_rows: 344\n",
       "    })\n",
       "    INDEX.medium_index_TDT: Dataset({\n",
       "        features: ['content', 'url', 'doc_id', 'shards', 'splits', 'split', 'propositions', 'proposition_list'],\n",
       "        num_rows: 344\n",
       "    })\n",
       "    INDEX.medium_index_TDT_clean: Dataset({\n",
       "        features: ['content', 'url', 'doc_id', 'shards', 'splits', 'split', 'propositions', 'proposition_list'],\n",
       "        num_rows: 344\n",
       "    })\n",
       "})"
      ]
     },
     "execution_count": 2,
     "metadata": {},
     "output_type": "execute_result"
    }
   ],
   "source": [
    "DATA_REPO = \"BroDeadlines/TEST.edu_tdt_proposition_data\"\n",
    "\n",
    "test_dataset = load_dataset(DATA_REPO)\n",
    "\n",
    "test_dataset"
   ]
  },
  {
   "cell_type": "code",
   "execution_count": 5,
   "metadata": {},
   "outputs": [
    {
     "data": {
      "text/plain": [
       "['[\\n  \"Trong thời gian đóng học phí theo thông báo của phòng Tài chính, sinh viên thuộc diện khó khăn (có minh chứng) có thể nộp đơn xin gia hạn học phí trực tuyến.\",\\n  \"Sinh viên nộp đơn xin gia hạn học phí trực tuyến bằng cách vào Hệ thống thông tin sinh viên, phân hệ Nộp đơn trực tuyến.\",\\n  \"Sinh viên chọn học kỳ muốn gia hạn học phí.\",\\n  \"Sinh viên chọn loại đơn cần nộp.\",\\n  \"Sinh viên tiến hành điền các thông tin cần thiết.\",\\n  \"Sinh viên theo dõi kết quả trả lời đơn để biết đơn có được cho gia hạn hay không.\",\\n  \"Việc nộp đơn trực tuyến chỉ áp dụng với đợt đóng học phí đầu tiên của học kỳ chính.\",\\n  \"Nếu sinh viên có nguyện vọng gia hạn thời gian đóng học phí ở các đợt đóng tiếp theo, sinh viên có thể nộp đơn gia hạn thời gian đóng học phí.\",\\n  \"Sinh viên đính kèm minh chứng khi nộp đơn gia hạn thời gian đóng học phí.\",\\n  \"Sinh viên nộp đơn gia hạn thời gian đóng học phí về cho phòng Công tác tác Học sinh - Sinh viên (A.0003) trong thời gian đóng học phí.\"\\n]']"
      ]
     },
     "execution_count": 5,
     "metadata": {},
     "output_type": "execute_result"
    }
   ],
   "source": [
    "a = test_dataset['INDEX.medium_index_TDT_clean'][0]['propositions']\n",
    "a"
   ]
  },
  {
   "cell_type": "code",
   "execution_count": 7,
   "metadata": {},
   "outputs": [
    {
     "data": {
      "text/plain": [
       "'Trong thời gian đóng học phí theo thông báo của phòng Tài chính, sinh viên thuộc diện khó khăn (có minh chứng) có thể nộp đơn xin gia hạn học phí trực tuyến.\\nSinh viên nộp đơn xin gia hạn học phí trực tuyến bằng cách vào Hệ thống thông tin sinh viên, phân hệ Nộp đơn trực tuyến.\\nSinh viên chọn học kỳ muốn gia hạn học phí.\\nSinh viên chọn loại đơn cần nộp.\\nSinh viên tiến hành điền các thông tin cần thiết.\\nSinh viên theo dõi kết quả trả lời đơn để biết đơn có được cho gia hạn hay không.\\nViệc nộp đơn trực tuyến chỉ áp dụng với đợt đóng học phí đầu tiên của học kỳ chính.\\nNếu sinh viên có nguyện vọng gia hạn thời gian đóng học phí ở các đợt đóng tiếp theo, sinh viên có thể nộp đơn gia hạn thời gian đóng học phí.\\nSinh viên đính kèm minh chứng khi nộp đơn gia hạn thời gian đóng học phí.\\nSinh viên nộp đơn gia hạn thời gian đóng học phí về cho phòng Công tác tác Học sinh - Sinh viên (A.0003) trong thời gian đóng học phí.'"
      ]
     },
     "execution_count": 7,
     "metadata": {},
     "output_type": "execute_result"
    }
   ],
   "source": [
    "a = test_dataset['INDEX.medium_index_TDT'][0]['proposition_list']\n",
    "b = \"\\n\".join(a)\n",
    "b"
   ]
  },
  {
   "cell_type": "code",
   "execution_count": 16,
   "metadata": {},
   "outputs": [
    {
     "data": {
      "application/vnd.jupyter.widget-view+json": {
       "model_id": "84f8d290474444e7babea1da09e2d081",
       "version_major": 2,
       "version_minor": 0
      },
      "text/plain": [
       "Map:   0%|          | 0/344 [00:00<?, ? examples/s]"
      ]
     },
     "metadata": {},
     "output_type": "display_data"
    }
   ],
   "source": [
    "def clean_propositions(row):\n",
    "    data = {**row}\n",
    "    data['propositions'] = [\"\\n\".join(row[\"proposition_list\"])]\n",
    "    return data\n",
    "    \n",
    "ds_new = test_dataset['INDEX.medium_index_TDT'].map(clean_propositions)"
   ]
  },
  {
   "cell_type": "code",
   "execution_count": 17,
   "metadata": {},
   "outputs": [
    {
     "data": {
      "text/plain": [
       "['Trong thời gian đóng học phí theo thông báo của phòng Tài chính, sinh viên thuộc diện khó khăn (có minh chứng) có thể nộp đơn xin gia hạn học phí trực tuyến.\\nSinh viên nộp đơn xin gia hạn học phí trực tuyến bằng cách vào Hệ thống thông tin sinh viên, phân hệ Nộp đơn trực tuyến.\\nSinh viên chọn học kỳ muốn gia hạn học phí.\\nSinh viên chọn loại đơn cần nộp.\\nSinh viên tiến hành điền các thông tin cần thiết.\\nSinh viên theo dõi kết quả trả lời đơn để biết đơn có được cho gia hạn hay không.\\nViệc nộp đơn trực tuyến chỉ áp dụng với đợt đóng học phí đầu tiên của học kỳ chính.\\nNếu sinh viên có nguyện vọng gia hạn thời gian đóng học phí ở các đợt đóng tiếp theo, sinh viên có thể nộp đơn gia hạn thời gian đóng học phí.\\nSinh viên đính kèm minh chứng khi nộp đơn gia hạn thời gian đóng học phí.\\nSinh viên nộp đơn gia hạn thời gian đóng học phí về cho phòng Công tác tác Học sinh - Sinh viên (A.0003) trong thời gian đóng học phí.']"
      ]
     },
     "execution_count": 17,
     "metadata": {},
     "output_type": "execute_result"
    }
   ],
   "source": [
    "a = ds_new[0]['propositions']\n",
    "a"
   ]
  },
  {
   "cell_type": "code",
   "execution_count": 18,
   "metadata": {},
   "outputs": [
    {
     "data": {
      "application/vnd.jupyter.widget-view+json": {
       "model_id": "90ecf7a955d140059b1b3f2eb724386d",
       "version_major": 2,
       "version_minor": 0
      },
      "text/plain": [
       "Uploading the dataset shards:   0%|          | 0/1 [00:00<?, ?it/s]"
      ]
     },
     "metadata": {},
     "output_type": "display_data"
    },
    {
     "data": {
      "application/vnd.jupyter.widget-view+json": {
       "model_id": "0741303f35ec435590f2910a3d95840c",
       "version_major": 2,
       "version_minor": 0
      },
      "text/plain": [
       "Creating parquet from Arrow format:   0%|          | 0/1 [00:00<?, ?ba/s]"
      ]
     },
     "metadata": {},
     "output_type": "display_data"
    },
    {
     "data": {
      "text/plain": [
       "CommitInfo(commit_url='https://huggingface.co/datasets/BroDeadlines/TEST.edu_tdt_proposition_data/commit/34e00f2c2b082b27cb8268c35fd0f0812b4a6c0e', commit_message='Upload dataset', commit_description='', oid='34e00f2c2b082b27cb8268c35fd0f0812b4a6c0e', pr_url=None, pr_revision=None, pr_num=None)"
      ]
     },
     "execution_count": 18,
     "metadata": {},
     "output_type": "execute_result"
    }
   ],
   "source": [
    "ds_new.push_to_hub(DATA_REPO, split='INDEX.medium_index_TDT_clean')"
   ]
  },
  {
   "cell_type": "markdown",
   "metadata": {},
   "source": [
    "## Create split on Test.basic"
   ]
  },
  {
   "cell_type": "code",
   "execution_count": 43,
   "metadata": {},
   "outputs": [
    {
     "data": {
      "text/plain": [
       "Dataset({\n",
       "    features: ['question', 'answer', 'url', 'group', 'doc_id', 'evaluation', 'metadata'],\n",
       "    num_rows: 144\n",
       "})"
      ]
     },
     "execution_count": 43,
     "metadata": {},
     "output_type": "execute_result"
    }
   ],
   "source": [
    "EVAL = 'BroDeadlines/EVAL.IR_evaluation'\n",
    "\n",
    "SPLIT = 'INDEX.medium_index_TDT'\n",
    "test_dataset = load_dataset(EVAL, split=SPLIT)\n",
    "\n",
    "test_dataset"
   ]
  },
  {
   "cell_type": "code",
   "execution_count": 7,
   "metadata": {},
   "outputs": [
    {
     "data": {
      "application/vnd.jupyter.widget-view+json": {
       "model_id": "78c1c5b641b547d58e20abce0cd73798",
       "version_major": 2,
       "version_minor": 0
      },
      "text/plain": [
       "Map:   0%|          | 0/20 [00:00<?, ? examples/s]"
      ]
     },
     "metadata": {},
     "output_type": "display_data"
    },
    {
     "data": {
      "text/plain": [
       "Dataset({\n",
       "    features: ['question', 'answer', 'url', 'group', 'doc_id', 'evaluation', 'metadata'],\n",
       "    num_rows: 20\n",
       "})"
      ]
     },
     "execution_count": 7,
     "metadata": {},
     "output_type": "execute_result"
    }
   ],
   "source": [
    "ids = {}\n",
    "def build_ids(row):\n",
    "    ids[row['doc_id']] = 1\n",
    "    return row\n",
    "\n",
    "test_dataset.map(build_ids)"
   ]
  },
  {
   "cell_type": "code",
   "execution_count": 8,
   "metadata": {},
   "outputs": [
    {
     "data": {
      "text/plain": [
       "Dataset({\n",
       "    features: ['content', 'url', 'doc_id', 'shards', 'splits', 'split', 'propositions', 'proposition_list'],\n",
       "    num_rows: 344\n",
       "})"
      ]
     },
     "execution_count": 8,
     "metadata": {},
     "output_type": "execute_result"
    }
   ],
   "source": [
    "REPO = 'BroDeadlines/TEST.edu_tdt_proposition_data'\n",
    "\n",
    "SPLIT = 'INDEX.medium_index_TDT_clean'\n",
    "repo_dataset = load_dataset(REPO, split=SPLIT)\n",
    "\n",
    "repo_dataset"
   ]
  },
  {
   "cell_type": "code",
   "execution_count": 33,
   "metadata": {},
   "outputs": [
    {
     "data": {
      "text/plain": [
       "Dataset({\n",
       "    features: ['content', 'url', 'doc_id', 'shards', 'splits', 'split', 'propositions', 'proposition_list'],\n",
       "    num_rows: 344\n",
       "})"
      ]
     },
     "execution_count": 33,
     "metadata": {},
     "output_type": "execute_result"
    }
   ],
   "source": [
    "repo_dataset"
   ]
  },
  {
   "cell_type": "code",
   "execution_count": 36,
   "metadata": {},
   "outputs": [
    {
     "data": {
      "text/plain": [
       "Dataset({\n",
       "    features: ['content', 'url', 'doc_id', 'shards', 'splits', 'split', 'propositions', 'proposition_list'],\n",
       "    num_rows: 10\n",
       "})"
      ]
     },
     "execution_count": 36,
     "metadata": {},
     "output_type": "execute_result"
    }
   ],
   "source": [
    "repo_fil = repo_dataset.filter(lambda row: row['url'] == 'https://tuvanhocduong.tdtu.edu.vn/News').shuffle().select(range(10))\n",
    "repo_fil"
   ]
  },
  {
   "cell_type": "code",
   "execution_count": 38,
   "metadata": {},
   "outputs": [
    {
     "data": {
      "text/plain": [
       "Dataset({\n",
       "    features: ['content', 'url', 'doc_id', 'shards', 'splits', 'split', 'propositions', 'proposition_list'],\n",
       "    num_rows: 10\n",
       "})"
      ]
     },
     "execution_count": 38,
     "metadata": {},
     "output_type": "execute_result"
    }
   ],
   "source": [
    "repo_qa = repo_dataset.filter(lambda row: row['url'] != 'https://tuvanhocduong.tdtu.edu.vn/News').shuffle().select(range(10))\n",
    "repo_qa "
   ]
  },
  {
   "cell_type": "code",
   "execution_count": 41,
   "metadata": {},
   "outputs": [
    {
     "data": {
      "text/plain": [
       "Dataset({\n",
       "    features: ['content', 'url', 'doc_id', 'shards', 'splits', 'split', 'propositions', 'proposition_list'],\n",
       "    num_rows: 20\n",
       "})"
      ]
     },
     "execution_count": 41,
     "metadata": {},
     "output_type": "execute_result"
    }
   ],
   "source": [
    "from datasets import concatenate_datasets\n",
    "\n",
    "repo = concatenate_datasets([repo_qa, repo_fil])\n",
    "repo"
   ]
  },
  {
   "cell_type": "code",
   "execution_count": 42,
   "metadata": {},
   "outputs": [
    {
     "data": {
      "application/vnd.jupyter.widget-view+json": {
       "model_id": "c57269c5e6154a58a53a4baad4ef883e",
       "version_major": 2,
       "version_minor": 0
      },
      "text/plain": [
       "Uploading the dataset shards:   0%|          | 0/1 [00:00<?, ?it/s]"
      ]
     },
     "metadata": {},
     "output_type": "display_data"
    },
    {
     "data": {
      "application/vnd.jupyter.widget-view+json": {
       "model_id": "a35c75136bba4d3aa255feb960d537bd",
       "version_major": 2,
       "version_minor": 0
      },
      "text/plain": [
       "Creating parquet from Arrow format:   0%|          | 0/1 [00:00<?, ?ba/s]"
      ]
     },
     "metadata": {},
     "output_type": "display_data"
    },
    {
     "data": {
      "application/vnd.jupyter.widget-view+json": {
       "model_id": "cd7531c2275946a1afea58840c632ead",
       "version_major": 2,
       "version_minor": 0
      },
      "text/plain": [
       "README.md:   0%|          | 0.00/1.73k [00:00<?, ?B/s]"
      ]
     },
     "metadata": {},
     "output_type": "display_data"
    },
    {
     "data": {
      "text/plain": [
       "CommitInfo(commit_url='https://huggingface.co/datasets/BroDeadlines/TEST.edu_tdt_proposition_data/commit/64d7e163f6d3ec0138a9e000baaf6452863cb881', commit_message='Upload dataset', commit_description='', oid='64d7e163f6d3ec0138a9e000baaf6452863cb881', pr_url=None, pr_revision=None, pr_num=None)"
      ]
     },
     "execution_count": 42,
     "metadata": {},
     "output_type": "execute_result"
    }
   ],
   "source": [
    "REPO = 'BroDeadlines/TEST.edu_tdt_proposition_data'\n",
    "\n",
    "SPLIT = 'TEST.basic_index_TDT_clean'\n",
    "repo.push_to_hub(REPO, split=SPLIT)"
   ]
  },
  {
   "cell_type": "markdown",
   "metadata": {},
   "source": [
    "### Up to test data"
   ]
  },
  {
   "cell_type": "code",
   "execution_count": 44,
   "metadata": {},
   "outputs": [
    {
     "data": {
      "application/vnd.jupyter.widget-view+json": {
       "model_id": "75feeb843d514363972fb4dff96c66e1",
       "version_major": 2,
       "version_minor": 0
      },
      "text/plain": [
       "Map:   0%|          | 0/10 [00:00<?, ? examples/s]"
      ]
     },
     "metadata": {},
     "output_type": "display_data"
    },
    {
     "data": {
      "text/plain": [
       "Dataset({\n",
       "    features: ['content', 'url', 'doc_id', 'shards', 'splits', 'split', 'propositions', 'proposition_list'],\n",
       "    num_rows: 10\n",
       "})"
      ]
     },
     "execution_count": 44,
     "metadata": {},
     "output_type": "execute_result"
    }
   ],
   "source": [
    "ids = {}\n",
    "def build_ids(row):\n",
    "    ids[row['doc_id']] = 1\n",
    "    return row\n",
    "\n",
    "repo_fil.map(build_ids)"
   ]
  },
  {
   "cell_type": "code",
   "execution_count": 47,
   "metadata": {},
   "outputs": [
    {
     "data": {
      "application/vnd.jupyter.widget-view+json": {
       "model_id": "3581ba4259d64383a10900ec8d4030e7",
       "version_major": 2,
       "version_minor": 0
      },
      "text/plain": [
       "Filter:   0%|          | 0/144 [00:00<?, ? examples/s]"
      ]
     },
     "metadata": {},
     "output_type": "display_data"
    },
    {
     "data": {
      "text/plain": [
       "Dataset({\n",
       "    features: ['question', 'answer', 'url', 'group', 'doc_id', 'evaluation', 'metadata'],\n",
       "    num_rows: 10\n",
       "})"
      ]
     },
     "execution_count": 47,
     "metadata": {},
     "output_type": "execute_result"
    }
   ],
   "source": [
    "a = test_dataset.filter(lambda e: e['doc_id'] in ids)\n",
    "\n",
    "a"
   ]
  },
  {
   "cell_type": "code",
   "execution_count": 48,
   "metadata": {},
   "outputs": [
    {
     "data": {
      "application/vnd.jupyter.widget-view+json": {
       "model_id": "c779308ddc4e4b31bb8338f68c8fa9fe",
       "version_major": 2,
       "version_minor": 0
      },
      "text/plain": [
       "Uploading the dataset shards:   0%|          | 0/1 [00:00<?, ?it/s]"
      ]
     },
     "metadata": {},
     "output_type": "display_data"
    },
    {
     "data": {
      "application/vnd.jupyter.widget-view+json": {
       "model_id": "283a4c3725f64938a38815d64754529a",
       "version_major": 2,
       "version_minor": 0
      },
      "text/plain": [
       "Creating parquet from Arrow format:   0%|          | 0/1 [00:00<?, ?ba/s]"
      ]
     },
     "metadata": {},
     "output_type": "display_data"
    },
    {
     "data": {
      "application/vnd.jupyter.widget-view+json": {
       "model_id": "e709f68f8d4643c6896d14f1170dac13",
       "version_major": 2,
       "version_minor": 0
      },
      "text/plain": [
       "README.md:   0%|          | 0.00/6.19k [00:00<?, ?B/s]"
      ]
     },
     "metadata": {},
     "output_type": "display_data"
    },
    {
     "data": {
      "text/plain": [
       "CommitInfo(commit_url='https://huggingface.co/datasets/BroDeadlines/EVAL.IR_evaluation/commit/6d6ba39fa4ffa48b70b02d278342210f1a33b8fe', commit_message='Upload dataset', commit_description='', oid='6d6ba39fa4ffa48b70b02d278342210f1a33b8fe', pr_url=None, pr_revision=None, pr_num=None)"
      ]
     },
     "execution_count": 48,
     "metadata": {},
     "output_type": "execute_result"
    }
   ],
   "source": [
    "EVAL = 'BroDeadlines/EVAL.IR_evaluation'\n",
    "\n",
    "SPLIT = 'TEST.basic_raptor_TDT'\n",
    "a.push_to_hub(EVAL, split=SPLIT)"
   ]
  }
 ],
 "metadata": {
  "kernelspec": {
   "display_name": "Python 3 (ipykernel)",
   "language": "python",
   "name": "python3"
  },
  "language_info": {
   "codemirror_mode": {
    "name": "ipython",
    "version": 3
   },
   "file_extension": ".py",
   "mimetype": "text/x-python",
   "name": "python",
   "nbconvert_exporter": "python",
   "pygments_lexer": "ipython3",
   "version": "3.9.18"
  }
 },
 "nbformat": 4,
 "nbformat_minor": 4
}
