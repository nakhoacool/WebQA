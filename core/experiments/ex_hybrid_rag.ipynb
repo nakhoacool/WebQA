{
 "cells": [
  {
   "cell_type": "markdown",
   "id": "2613784c",
   "metadata": {},
   "source": [
    "# Hybrid RAG"
   ]
  },
  {
   "cell_type": "code",
   "execution_count": 1,
   "id": "6bb336f2",
   "metadata": {},
   "outputs": [
    {
     "name": "stderr",
     "output_type": "stream",
     "text": [
      "/home/h4438/miniconda3/envs/uni/lib/python3.9/site-packages/tqdm/auto.py:21: TqdmWarning: IProgress not found. Please update jupyter and ipywidgets. See https://ipywidgets.readthedocs.io/en/stable/user_install.html\n",
      "  from .autonotebook import tqdm as notebook_tqdm\n"
     ]
    }
   ],
   "source": [
    "from langchain_google_genai.chat_models import ChatGoogleGenerativeAI\n",
    "from langchain_community.vectorstores.elasticsearch import ElasticsearchStore\n",
    "from langchain_community.embeddings import HuggingFaceInferenceAPIEmbeddings\n",
    "from langchain.retrievers import BM25Retriever, EnsembleRetriever\n",
    "from langchain_core.output_parsers import StrOutputParser\n",
    "from langsmith.run_helpers import traceable\n",
    "from langchain_core.prompts import ChatPromptTemplate\n",
    "from langchain_core.prompts import ChatPromptTemplate\n",
    "from langchain_core.runnables import RunnableLambda, RunnablePassthrough\n",
    "from operator import itemgetter\n",
    "import uuid\n",
    "import sys\n",
    "sys.path.append(\"../\")\n",
    "from src.config import Configuration\n",
    "from src.prepare.data_load import DocDataLoader\n",
    "from src.rag.types import RAGResponse, RAGCategories"
   ]
  },
  {
   "cell_type": "code",
   "execution_count": 10,
   "id": "0f1863ae",
   "metadata": {},
   "outputs": [],
   "source": [
    "class HybridGeminiRag:\n",
    "    \"\"\"\n",
    "        Formula: RAG = Gemini + ES + Hybrid Search\n",
    "        Features:\n",
    "        - Vector Store Memory\n",
    "    \"\"\"\n",
    "\n",
    "    def __init__(self, es_index: str, embed_model: str, config: Configuration):\n",
    "        \"\"\"\n",
    "            Initialize the RAG\n",
    "            @param es_index elastic search index\n",
    "            @param embed_model hugging face sentence-transformer model\n",
    "            @param config Configuration\n",
    "        \"\"\"\n",
    "        self.chat_model = ChatGoogleGenerativeAI(\n",
    "            model=\"gemini-pro\", \n",
    "            temperature=0, \n",
    "            google_api_key=config.load_gemini_token()\n",
    "        )\n",
    "        self.ask_memory = {}\n",
    "        template = \"\"\n",
    "        template += \"You are a helpful admission assistant for Ton Duc Thang university who gives helpful and accurate information.\\n\"\n",
    "        template += 'Answer the question mainly using the following context. Output \"None\" if you cannot answer:'\n",
    "        template += \"\\n```\\n{context}\\n```\\n\"\n",
    "        template += \"Question: {question}\\n\"\n",
    "        prompt = ChatPromptTemplate.from_template(template)\n",
    "        self._init_retriever(es_index=es_index, embed_model=embed_model, config=config)\n",
    "        self.rag = (\n",
    "            {\"context\": itemgetter(\"question\") | self.ensemble_retriever, \n",
    "             \"question\": itemgetter(\"question\"), \"ask_id\": itemgetter(\"ask_id\")}\n",
    "            | RunnableLambda(self._format_doc)\n",
    "            | prompt\n",
    "            | self.chat_model\n",
    "            | StrOutputParser()\n",
    "        ) \n",
    "        return\n",
    "    \n",
    "    def _format_doc(self, input_dict):\n",
    "        retrieve_doc = input_dict['context'][0]\n",
    "        doc_id = retrieve_doc.metadata['id']\n",
    "        document = self.database[doc_id]\n",
    "        # store to a temporary mem\n",
    "        self.ask_memory[input_dict['ask_id']] = document\n",
    "        input_dict['context'] = document.content\n",
    "        return input_dict\n",
    "\n",
    "    @traceable(tags=['hybrid_gemini'])\n",
    "    def ask_rag(self, question: str) -> RAGResponse:\n",
    "        \"\"\"\n",
    "            Ask the RAG a question.\n",
    "            @param question\n",
    "\n",
    "            @return answer, 'None' if it can't\n",
    "        \"\"\"\n",
    "        ask_id = uuid.uuid1().int\n",
    "        if question == None:\n",
    "            return \"No question was asked\"\n",
    "        if ask_id == None:\n",
    "            return \"Went wrong. Cannot generate uuid\"\n",
    "        answer = self.rag.invoke({\"question\": question, \"ask_id\": ask_id})\n",
    "        return RAGResponse(answer=answer.strip(), category=RAGCategories.major, document=self.ask_memory.pop(ask_id))\n",
    "\n",
    "    def _init_retriever(self, es_index:str, embed_model:str, config:Configuration):\n",
    "        \"\"\"\n",
    "            Initialize Elastic, BM25 instances and combine them into hybrid search\n",
    "            This method is intented for private use. Please be cautious modifying.\n",
    "        \"\"\"\n",
    "        embeddings = HuggingFaceInferenceAPIEmbeddings(\n",
    "            model_name=embed_model, api_key=config.load_hg_token())\n",
    "        # elastic\n",
    "        es = ElasticsearchStore(\n",
    "            es_connection=config.load_elasticsearch_connection(),\n",
    "            embedding=embeddings,\n",
    "            index_name=es_index, distance_strategy=\"EUCLIDEAN_DISTANCE\") \n",
    "        self.es_retriever = es.as_retriever(search_kwargs={\"k\": 1})\n",
    "        # BM-25\n",
    "        doc_loader = DocDataLoader()\n",
    "        db = doc_loader.load_major_docs(size=460, overlap=20)\n",
    "        self.database = doc_loader.load_major_docs_full_asmap()\n",
    "        self.bm25_retriever = BM25Retriever.from_documents(db)\n",
    "        self.bm25_retriever.k = 1\n",
    "        self.ensemble_retriever = EnsembleRetriever(\n",
    "            retrievers=[self.bm25_retriever, self.es_retriever],\n",
    "            weights=[0.5, 0.5])\n",
    "        del doc_loader\n",
    "        return \n"
   ]
  },
  {
   "cell_type": "code",
   "execution_count": 11,
   "id": "9ce55edc-c7d8-44e9-ac80-e18d559b3faf",
   "metadata": {},
   "outputs": [
    {
     "name": "stdout",
     "output_type": "stream",
     "text": [
      "From (44, 4) to Counter({2: 37, 1: 6, 3: 1})\n",
      "From (44, 4) to 44\n"
     ]
    }
   ],
   "source": [
    "config = Configuration()\n",
    "rag = HybridGeminiRag(\"labse-major\", \"sentence-transformers/LaBSE\", config)\n",
    "\n",
    "config.enable_tracing(project=\"LEARN\")"
   ]
  },
  {
   "cell_type": "markdown",
   "id": "800c0de6",
   "metadata": {},
   "source": [
    "# My code"
   ]
  },
  {
   "cell_type": "code",
   "execution_count": 1,
   "id": "b52ca284",
   "metadata": {},
   "outputs": [
    {
     "name": "stderr",
     "output_type": "stream",
     "text": [
      "/home/h4438/miniconda3/envs/uni/lib/python3.9/site-packages/tqdm/auto.py:21: TqdmWarning: IProgress not found. Please update jupyter and ipywidgets. See https://ipywidgets.readthedocs.io/en/stable/user_install.html\n",
      "  from .autonotebook import tqdm as notebook_tqdm\n"
     ]
    },
    {
     "name": "stdout",
     "output_type": "stream",
     "text": [
      "From (44, 5) to 44\n",
      "From (11, 4) to 11\n"
     ]
    }
   ],
   "source": [
    "# import\n",
    "import sys\n",
    "sys.path.append(\"../\")\n",
    "\n",
    "from src.rag.hybrid_rag import HybridGeminiRAG\n",
    "from src.service.provider import ProviderService\n",
    "services = ProviderService()\n",
    "\n",
    "major = services.get_categories().major\n",
    "rag = HybridGeminiRAG(provider=services, rag_config=major, update_notification_func=lambda x: x)\n"
   ]
  },
  {
   "cell_type": "code",
   "execution_count": 2,
   "id": "8420e3dc",
   "metadata": {},
   "outputs": [
    {
     "name": "stdout",
     "output_type": "stream",
     "text": [
      "2\n",
      "cho em hỏi về ngành phần mềm\n"
     ]
    },
    {
     "data": {
      "text/plain": [
       "<src.rag.types.RAGResponse at 0x7ff202723af0>"
      ]
     },
     "execution_count": 2,
     "metadata": {},
     "output_type": "execute_result"
    }
   ],
   "source": [
    "q = \"cho em hỏi về ngành phần mềm\"\n",
    "a = rag.ask_rag(question=q)\n",
    "a"
   ]
  },
  {
   "cell_type": "code",
   "execution_count": 4,
   "id": "5b7e3e4e",
   "metadata": {},
   "outputs": [
    {
     "data": {
      "text/plain": [
       "'**Ngành Kỹ thuật Phần mềm tại Trường Đại học Tôn Đức Thắng**\\n\\n**Giới thiệu**\\n\\nNgành Kỹ thuật Phần mềm ứng dụng kiến thức về lập trình, thiết kế phần mềm, quy trình vận hành và phát triển phần mềm, phân tích yêu cầu hệ thống, trí tuệ nhân tạo... để tạo ra các sản phẩm phần mềm chất lượng cao đáp ứng nhu cầu của xã hội.\\n\\n**Cơ hội nghề nghiệp**\\n\\nSinh viên tốt nghiệp ngành Kỹ thuật Phần mềm có thể làm việc tại các vị trí sau:\\n\\n* Chuyên viên phân tích yêu cầu (BA)\\n* Kiến trúc sư phần mềm (SA)\\n* Lập trình viên (Developer)\\n* Chuyên viên thử nghiệm phần mềm (Tester)\\n* Chuyên viên cầu nối (BrSE)\\n* Chuyên viên nghiên cứu và phát triển ứng dụng (R&D)\\n* Giảng viên giảng dạy các môn học về kỹ thuật phần mềm\\n\\n**Điểm mạnh của chương trình**\\n\\n* Kiến thức nền tảng vững chắc về kỹ thuật phần mềm\\n* Kiến thức chuyên sâu về các lĩnh vực như phát triển ứng dụng, thiết kế giao diện, phân tích hệ thống, an toàn thông tin...\\n* Cân bằng giữa lý thuyết và thực hành với nhiều tiết học thực hành trong phòng học hiện đại\\n* Học phần được thiết kế theo hướng ứng dụng cao, giúp sinh viên có thể tự thực hiện các dự án phần mềm\\n* Chương trình kết nối mạng lưới doanh nghiệp thân hữu, tạo cơ hội cho sinh viên tham quan và kiến tập\\n* Giảng viên giàu kinh nghiệm và chuyên gia trong ngành trực tiếp giảng dạy\\n\\n**Kỹ năng sau khi tốt nghiệp**\\n\\nSinh viên tốt nghiệp ngành Kỹ thuật Phần mềm sẽ được trang bị các kỹ năng sau:\\n\\n* Phân tích, thiết kế, lập trình và kiểm thử hệ thống phần mềm\\n* Triển khai và quản lý dự án phần mềm\\n* Ứng dụng các công cụ phần mềm để khai thác và phân tích dữ liệu\\n* Tư vấn giải pháp xây dựng hệ thống phần mềm'"
      ]
     },
     "execution_count": 4,
     "metadata": {},
     "output_type": "execute_result"
    }
   ],
   "source": [
    "a.answer"
   ]
  },
  {
   "cell_type": "markdown",
   "id": "3a196c89-cd8c-41fe-8537-f37e4cdfae86",
   "metadata": {},
   "source": [
    "## test retrievers"
   ]
  },
  {
   "cell_type": "code",
   "execution_count": 5,
   "id": "a42f8bd2-af9f-499c-9616-22b87b947767",
   "metadata": {},
   "outputs": [
    {
     "data": {
      "text/plain": [
       "[Document(page_content='Các học phần được thiết kế mang tính ứng dụng cao, theo hướng tăng dần từ cấp độ cơ bản đến cấp độ sinh viên có đủ kiến thức và kỹ năng để tự thực hiện được một dự án phần mềm, từ giai đoạn thu thập yêu cầu, phân tích, thiết kế, lập trình, kiểm thử đến giai đoạn vận hành và bảo trì phần mềm. Nhà trường còn đẩy mạnh chương trình kết nối mạng lưới doanh nghiệp thân hữu nhằm tạo điều kiện cho sinh viên có cơ hội tham quan và kiến tập từ năm học thứ 2. Bên cạnh đó, đối với một số môn học mang tính chuyên môn, giảng viên sẽ kết hợp với các chuyên gia dày dặn kinh nghiệm trực tiếp giảng dạy, góp phần bồi dưỡng thêm kiến thức và liiên tục cập nhật các tiêu chuẩn mới nhất về công nghệ để tăng khả năng cạnh tranh và hội nhập với nhu cầu ngày càng cao của xã hội.\\n\\nSinh viên ngành Kỹ thuật phần mềm sau khi tốt nghiệp sẽ được trang bị đầy đủ các kỹ năng như: kỹ năng phân tích, thiết kế, lập trình và kiểm thử các hệ thống phần mềm; kỹ năng triển khai và quản lý các dự án phần mềm cho doanh nghiệp; thuần thục việc ứng dụng các công cụ phần mềm vào việc khai thác, phân tích dữ liệu doanh nghiệp; có khả năng tư vấn giải pháp xây dựng các hệ thống phần mềm, …', metadata={'id': 17})]"
      ]
     },
     "execution_count": 5,
     "metadata": {},
     "output_type": "execute_result"
    }
   ],
   "source": [
    "q = \"em muốn biết thêm về ngành kỹ thuật phần mềm\"\n",
    "q = \"hãy tư vấn ngành kỹ thuật phần mềm\"\n",
    "d = rag.bm25.get_relevant_documents(q)\n",
    "d"
   ]
  },
  {
   "cell_type": "markdown",
   "id": "075664c6-199f-4d41-a707-e4a7ba463a9f",
   "metadata": {},
   "source": [
    "## test chain"
   ]
  },
  {
   "cell_type": "code",
   "execution_count": 8,
   "id": "eb81effe",
   "metadata": {},
   "outputs": [
    {
     "ename": "NameError",
     "evalue": "name 'aa' is not defined",
     "output_type": "error",
     "traceback": [
      "\u001b[0;31m---------------------------------------------------------------------------\u001b[0m",
      "\u001b[0;31mNameError\u001b[0m                                 Traceback (most recent call last)",
      "Cell \u001b[0;32mIn[8], line 5\u001b[0m\n\u001b[1;32m      3\u001b[0m q \u001b[38;5;241m=\u001b[39m \u001b[38;5;124m\"\u001b[39m\u001b[38;5;124mem muốn biết thêm về ngành kỹ thuật phần mềm ạ\u001b[39m\u001b[38;5;124m\"\u001b[39m\n\u001b[1;32m      4\u001b[0m a \u001b[38;5;241m=\u001b[39m rag\u001b[38;5;241m.\u001b[39mchain\u001b[38;5;241m.\u001b[39minvoke({\u001b[38;5;124m\"\u001b[39m\u001b[38;5;124mquestion\u001b[39m\u001b[38;5;124m\"\u001b[39m: q})\n\u001b[0;32m----> 5\u001b[0m \u001b[43maa\u001b[49m\n",
      "\u001b[0;31mNameError\u001b[0m: name 'aa' is not defined"
     ]
    }
   ],
   "source": [
    "q = \"Trường có đạo tạo chuyên ngành về Việt Nam không ạ?\"\n",
    "q = \"Cho em biết thông tin về ngành Dược ạ\"\n",
    "q = \"em muốn biết thêm về ngành ỹ thuật phần mềm ạ\"\n",
    "a = rag.chain.invoke({\"question\": q})\n",
    "aa"
   ]
  },
  {
   "cell_type": "code",
   "execution_count": 10,
   "id": "0187a7e2",
   "metadata": {},
   "outputs": [
    {
     "data": {
      "text/plain": [
       "'None'"
      ]
     },
     "execution_count": 10,
     "metadata": {},
     "output_type": "execute_result"
    }
   ],
   "source": [
    "a.answer"
   ]
  },
  {
   "cell_type": "code",
   "execution_count": 7,
   "id": "f47eadf6-47a7-4231-a658-383baa2900ab",
   "metadata": {},
   "outputs": [
    {
     "data": {
      "text/plain": [
       "'- Dược học là ngành học ứng dụng khoa học công nghệ để nghiên cứu về sự tương quan giữa thuốc với cơ thể người và cách sử dụng thuốc trong điều trị bệnh, đảm bảo chất lượng và phân phối thuốc cũng như cung cấp thông tin, hướng dẫn sử dụng thuốc cho cộng đồng.\\n- Sinh viên sau khi tốt nghiệp được trang bị đầy đủ kiến thức và kỹ năng chuyên môn về quản lý, bào chế, sản xuất và lưu thông thuốc để có đủ tự tin hòa nhập vào đội ngũ y tế cộng đồng và tham gia vào tất cả các cơ sở hành nghề dược với các vị trí như: dược sĩ tư vấn sử dụng thuốc tại các nhà thuốc; dược sĩ nghiên cứu và phát triển thuốc của các công ty, xí nghiệp sản xuất thuốc tân dược, đông dược và sinh phẩm y tế, công ty xuất nhập khẩu và phân phối thuốc; chuyên viên kiểm nghiệm chất lượng và nguyên liệu làm thuốc tại các bệnh viện, trung tâm kiểm nghiệm của Trung ương, địa phương; dược sĩ cung ứng thuốc nội - ngoại trú bệnh viện; giảng viên giảng dạy chuyên ngành Dược tại các trường Đại học, …\\n- Sinh viên theo học ngành Dược được trang bị khối kiến thức khoa học cơ bản và dược học cơ sở như hoá đại cương, sinh học đại cương, vật lý đại cương, giải phẫu - sinh lý, thực vật dược, công nghệ sinh học Dược, hóa lý dược, hóa phân tích, … Nhà trường còn cung cấp kiến thức chuyên môn cũng như kỹ năng về tất cả các lĩnh vực của chuyên ngành dược như hoá dược, dược liệu, dược lý, dược lâm sàng, kiểm nghiệm - đảm bảo chất lượng thuốc, kinh tế dược, quản lý và phân phối thuốc, …'"
      ]
     },
     "execution_count": 7,
     "metadata": {},
     "output_type": "execute_result"
    }
   ],
   "source": [
    "a.answer"
   ]
  },
  {
   "cell_type": "code",
   "execution_count": 12,
   "id": "a15be1bc-2883-46bd-9227-9700bcfeacc4",
   "metadata": {},
   "outputs": [
    {
     "data": {
      "text/plain": [
       "<src.rag.types.RAGResponse at 0x7fae429dfeb0>"
      ]
     },
     "execution_count": 12,
     "metadata": {},
     "output_type": "execute_result"
    }
   ],
   "source": [
    "@traceable(tags=['hybrid-rag', \"debug-format\"])\n",
    "def run_rag(q):\n",
    "    return rag.ask_rag(question=q)\n",
    "\n",
    "q = \"Cho em biết thông tin về ngành Dược ạ\"\n",
    "q = \"Trường có đạo tạo chuyên ngành về Việt Nam không ạ?\"\n",
    "\n",
    "a = run_rag(q)\n",
    "a"
   ]
  },
  {
   "cell_type": "code",
   "execution_count": 5,
   "id": "0728b292",
   "metadata": {},
   "outputs": [
    {
     "data": {
      "text/plain": [
       "'https://admission.tdtu.edu.vn/dai-hoc/nganh-hoc/viet-nam-hoc-chuyen-nganh-viet-ngu-hoc-va-van-hoa-xa-hoi-viet-nam'"
      ]
     },
     "execution_count": 5,
     "metadata": {},
     "output_type": "execute_result"
    }
   ],
   "source": [
    "a.answer\n",
    "a.document.source"
   ]
  },
  {
   "cell_type": "code",
   "execution_count": 7,
   "id": "4e7fe20d",
   "metadata": {},
   "outputs": [
    {
     "data": {
      "text/plain": [
       "'Việt Nam học - Chuyên ngành Việt ngữ học và văn hóa xã hội Việt Nam là một ngành khoa học nghiên cứu về đất nước, con người Việt Nam theo hướng tiếp cận liên ngành. Chương trình đào tạo ngành Việt Nam học, chuyên ngành Việt ngữ học và Văn hóa xã hội Việt Nam tại Trường Đại học Tôn Đức Thắng là chương trình dành cho đối tượng là người nước ngoài, nhằm đáp ứng nhu cầu về nguồn nhân lực là người nước ngoài sử dụng thông thạo tiếng Việt, am hiểu về đất nước và con người Việt Nam.\\n\\nSau khi tốt nghiệp ngành Việt Nam học, chuyên ngành Việt ngữ học và Văn hóa xã hội Việt Nam, học viên có thể tìm kiếm việc làm phù hợp ở các cơ quan ngoại giao, tổ chức quốc tế, công ty du lịch, văn phòng thương mại, tổ chức chính phủ và phi chính phủ có nhu cầu sử dụng nguồn nhân lực am hiểu về Việt Nam (ở Việt Nam và nước ngoài). Ngoài ra sinh viên cũng có thể làm công tác phiên dịch, biên dịch, nghiên cứu và giảng dạy tiếng Việt tại các trường đại học, cao đẳng hoặc các trung tâm ngôn ngữ trong và ngoài nước. \\nKhi lựa chọn chương trình này, học viên được cung cấp kiến thức toàn diện về ngôn ngữ, đất nước và con người Việt Nam thông qua những môn học mới, hiện đại, được thiết kế để phù hợp với sự phát triển của xã hội và đáp ứng được nhu cầu hội nhập quốc tế.\\n\\nBên cạnh đó, học viên còn được rèn luyện kỹ năng giao tiếp, kỹ năng làm việc nhóm, kỹ năng tổ chức sự kiện, … thông qua các hoạt động ngoại khóa sôi nổi, giúp học viên vững vàng về kiến thức, tự tin, năng động trong môi trường đa văn hóa và xu thế hội nhập.\\n\\nVới phương pháp lấy người học làm trung tâm, chương trình đào tạo ngành học này được biên soạn theo hướng đặt trọng tâm vào thực hành và kỹ năng mềm cần thiết cho học viên sau khi tốt nghiệp, qua đó tăng khả năng tự học, khả năng tự nghiên cứu và xử lý tình huống linh hoạt cho học viên. '"
      ]
     },
     "execution_count": 7,
     "metadata": {},
     "output_type": "execute_result"
    }
   ],
   "source": [
    "a.document.content"
   ]
  },
  {
   "cell_type": "code",
   "execution_count": 5,
   "id": "f5d75c6d-8a68-40f4-bdc9-63083e233321",
   "metadata": {},
   "outputs": [
    {
     "data": {
      "text/plain": [
       "'Tôi không tìm thấy thông tin về ngành CNTT trường Tôn Đức Thắng trong các văn bản được cung cấp.'"
      ]
     },
     "execution_count": 5,
     "metadata": {},
     "output_type": "execute_result"
    }
   ],
   "source": [
    "ans = rag.rag.invoke(\"Tư vấn về ngành CNTT trường Tôn Đức Thắng\")\n",
    "ans"
   ]
  },
  {
   "cell_type": "code",
   "execution_count": 8,
   "id": "751f123f-a074-4400-9f9f-09fe29ce806f",
   "metadata": {},
   "outputs": [
    {
     "data": {
      "text/plain": [
       "'- Khoa học máy tính là ngành ứng dụng kiến thức về thuật toán, phương pháp tính toán, ngôn ngữ lập trình, phương pháp phân tích và xây dựng hệ thống thông tin, … để giải quyết các vấn đề thuộc lĩnh vực Khoa học máy tính; phát triển các hệ thống phần mềm máy tính, mô hình tính toán thông minh, các ứng dụng trên các nền tảng hiện đại để phục vụ cho nhiệm vụ công nghiệp hoá, hiện đại hoá đất nước trong lĩnh vực chuyển đổi số.\\n- Sau khi tốt nghiệp, cử nhân Khoa học máy tính có thể tự tin đảm nhận tốt các vị trí như chuyên viên thiết kế và xây dựng các phần mềm máy tính, ứng dụng cho thiết bị di động, ứng dụng thương mại điện tử trên nền Web, các trò chơi trên máy tính và di động; chuyên viên quản trị và xây dựng các giải pháp đảm bảo an toàn cho các hệ thống máy tính và hệ thống mạng máy tính; chuyên viên lập trình; chuyên viên phát triển hệ thống thông minh; chuyên viên tư vấn, thẩm định và phát triển các dự án, giải pháp công nghệ thông tin; cán bộ chuyên trách tại các cơ quan nhà nước, … hoặc có thể tiếp tục học tập và nghiên cứu ở các bậc học cao hơn.\\n- Khi lựa chọn ngành học này tại TDTU, học viên được trang bị kiến thức nền tảng của khoa học máy tính và những kiến thức mang tính định hướng theo xu hướng của doanh nghiệp như: lập trình; phân tích và thiết kế thuật toán; xây dựng trang web, trí tuệ nhân tạo, bảo mật và an toàn máy tính … Sinh viên cũng được trang bị các kiến thức nghiệp vụ về tài chính kế toán, quản trị kinh doanh, … nhằm hiểu được nhu cầu của doanh nghiệp trong việc phát triển các hệ thống thông tin. Nhà trường còn chú trọng đầu tư xây dựng các phòng học thực hành với trang thiết bị hiện đại và liên tục cập nhật để phục vụ cho nhu cầu học tập và nghiên cứu của học viên.\\n- Số tiết học thực hành chiếm khoảng 40 – 50% trong chương trình đào tạo, giúp sinh viên được trải nghiệm thực tế, góp phần nâng cao tay nghề bên cạnh việc tiếp thu kiến thức chuyên môn.'"
      ]
     },
     "execution_count": 8,
     "metadata": {},
     "output_type": "execute_result"
    }
   ],
   "source": [
    "ans = rag.rag.invoke(\"Tư vấn về ngành CNTT\")\n",
    "ans"
   ]
  },
  {
   "cell_type": "code",
   "execution_count": 7,
   "id": "2ee4b7af-95be-4ff4-9a54-91ca3bf6e572",
   "metadata": {},
   "outputs": [
    {
     "data": {
      "text/plain": [
       "'- Khoa học máy tính là ngành ứng dụng kiến thức về thuật toán, phương pháp tính toán, ngôn ngữ lập trình, phương pháp phân tích và xây dựng hệ thống thông tin, … để giải quyết các vấn đề thuộc lĩnh vực Khoa học máy tính; phát triển các hệ thống phần mềm máy tính, mô hình tính toán thông minh, các ứng dụng trên các nền tảng hiện đại để phục vụ cho nhiệm vụ công nghiệp hoá, hiện đại hoá đất nước trong lĩnh vực chuyển đổi số.\\n- Sau khi tốt nghiệp, cử nhân Khoa học máy tính có thể tự tin đảm nhận tốt các vị trí như chuyên viên thiết kế và xây dựng các phần mềm máy tính, ứng dụng cho thiết bị di động, ứng dụng thương mại điện tử trên nền Web, các trò chơi trên máy tính và di động; chuyên viên quản trị và xây dựng các giải pháp đảm bảo an toàn cho các hệ thống máy tính và hệ thống mạng máy tính; chuyên viên lập trình; chuyên viên phát triển hệ thống thông minh; chuyên viên tư vấn, thẩm định và phát triển các dự án, giải pháp công nghệ thông tin; cán bộ chuyên trách tại các cơ quan nhà nước, … hoặc có thể tiếp tục học tập và nghiên cứu ở các bậc học cao hơn.\\n- Khi lựa chọn ngành học này tại TDTU, học viên được trang bị kiến thức nền tảng của khoa học máy tính và những kiến thức mang tính định hướng theo xu hướng của doanh nghiệp như: lập trình; phân tích và thiết kế thuật toán; xây dựng trang web, trí tuệ nhân tạo, bảo mật và an toàn máy tính … Sinh viên cũng được trang bị các kiến thức nghiệp vụ về tài chính kế toán, quản trị kinh doanh, … nhằm hiểu được nhu cầu của doanh nghiệp trong việc phát triển các hệ thống thông tin. Nhà trường còn chú trọng đầu tư xây dựng các phòng học thực hành với trang thiết bị hiện đại và liên tục cập nhật để phục vụ cho nhu cầu học tập và nghiên cứu của học viên.\\n- Số tiết học thực hành chiếm khoảng 40 – 50% trong chương trình đào tạo, giúp sinh viên được trải nghiệm thực tế, góp phần nâng cao tay nghề bên cạnh việc tiếp thu kiến thức chuyên môn.'"
      ]
     },
     "execution_count": 7,
     "metadata": {},
     "output_type": "execute_result"
    }
   ],
   "source": [
    "ans = rag.rag.invoke(\"Tư vấn về ngành Khoa học máy tính\")\n",
    "ans"
   ]
  },
  {
   "cell_type": "code",
   "execution_count": 4,
   "id": "e9c676c1-2cde-49e1-bf00-4cb515d1c071",
   "metadata": {},
   "outputs": [
    {
     "data": {
      "text/plain": [
       "[Document(page_content='Ngành Kỹ thuật Điện tử - Viễn thông là ngành học nghiên cứu từ những hệ thống hiện đại như các mạng thông tin di động thế hệ mới, công nghệ IoT, cho đến các thiết bị điện tử ứng dụng trong đời sống hàng ngày như mạch báo cháy, báo trộm, … nhằm phục vụ cho đời sống sinh hoạt và sự phát triển kinh tế của mỗi quốc gia.\\nChương trình được thiết kế theo tiêu chuẩn kiểm định quốc tế, được đối sánh với các chương trình đại học uy tín trên thế giới và chuẩn đầu ra tin học đạt chứng chỉ tin học Microsoft Office Specialist tối thiểu 750/1000 điểm và kỹ năng ngoại ngữ đạt chứng chỉ tiếng Anh tối thiểu IELTS 5.0 hoặc chứng chỉ khác tương đương. Ngoài các kiến thức cơ bản về lý thuyết mạch điện - điện tử, kỹ thuật đo lường điện-điện tử, kỹ thuật mô phỏng bằng phần mềm, ngành học còn cung cấp cho sinh viên kiến thức về chuyên ngành như các phương pháp điều khiển kinh điển và hiện đại, các mạng truyền thông công nghiệp, công nghệ internet kết nối vạn vật, công nghệ robot, tự động hóa quá trình sản xuất, …\\n\\nChương trình đào tạo chú trọng kết hợp chặt chẽ giữa lý thuyết và thực hành. Sinh viên được thực hành trên các hệ thống trang thiết bị hiện đại, đa số được tài trợ bởi các tập đoàn, doanh nghiệp lớn trong ngành như Siemens, ABB, Mitsubishi, Endress+Hausser… Ngoài ra, thông qua các đồ án môn học và đồ án tốt nghiệp, sinh viên được tiếp cận và thực hiện các đề tài đang là vấn đề cấp bách trong thực tế như chuyển đổi số trong công nghiệp, công nghệ internet kết nối vạn vật, xe tự hành, nông-lâm-ngư nghiệp-nhà thông minh, năng lượng tái tạo, …', metadata={'id': 21}),\n",
       " Document(page_content='Trong bối cảnh hiện nay, Marketing đã không còn quá xa lạ với mọi người và có tầm quan trọng đặc biệt đối với các doanh nghiệp, xã hội đang phát triển và hội nhập quốc tế như Việt Nam. Đây cũng được xem là một trong số những ngành “hot”; thu hút sự quan tâm đông đảo của học sinh, sinh viên trên cả nước.\\n\\nCử nhân marketing sau khi ra trường có thể tự tin ứng tuyển vào các vị trí như chuyên viên tại các công ty hoạt động trong lĩnh vực Marketing; chuyên viên nghiên cứu thị trường, tổ chức sự kiện; chuyên viên chăm sóc khách hàng; chuyên viên truyền thông và quan hệ công chúng; chuyên viên phát triển nội dung; chuyên viên phát triển và quản trị thương hiệu. Ngoài ra, cử nhân Marketing còn có thể tham gia giảng dạy, nghiên cứu về lĩnh vực tiếp thị và quảng cáo hoặc tiếp tục nghiên cứu và học tập các bậc học cao hơn ở các chương trình sau đại học. \\nSinh viên được trang bị hệ thống kiến thức nền tảng về Marketing hiện đại; cung cấp nhiều kiến thức về tiếp thị kỹ thuật số, nghiên cứu thị trường, hành vi khách hàng, quản lý bán hàng, truyền thông tích hợp quảng cáo và tổ chức sự kiện, xây dựng và phát triển các mối quan hệ khách hàng, tiếp thị quốc tế, tiếp thị xã hội, quản lý sản phẩm và bán hàng chuyên nghiệp, …\\n\\nVới mục tiêu đào tạo sinh viên trở thành một Marketer toàn diện về cả năng lực chuyên môn lẫn kỹ năng nghề nghiệp, chương trình học được nghiên cứu và xây dựng theo hướng kết hợp hài hoà giữa lý thuyết và thực tiễn thông qua các bài giảng trên lớp và kinh nghiệm thực tế từ các đợt thực tập, kiến tập tại doanh nghiệp, các buổi hội thảo chuyên ngành hiện đại.\\n\\nSinh viên còn có cơ hội học hỏi, thực hiện dự án thực tế thông qua các bài tập mô phỏng, vận dụng kiến thức để phân tích, tổng hợp thông tin và đưa ra giải pháp nhằm giải quyết tình huống cụ thể.\\n\\nTrong một số môn học chuyên sâu, các chuyên gia hàng đầu trong lĩnh vực Marketing sẽ cùng với giảng viên của trường trực tiếp giảng dạy và hướng dẫn sinh viên thực hiện các dự án thực tế ngay tại doanh nghiệp, đồng thời tham gia vào các buổi chia sẻ và định hướng nghề nghiệp với vai trò là các diễn giả, giúp sinh viên chủ động hoạch định con đường nghề nghiệp cho tương lai.\\n\\nTính ứng dụng của các học phần được thiết kế theo hướng tăng dần từ cấp độ kiến thức cơ bản cho đến cấp độ sinh viên có khả năng tự tiếp nhận tình huống, phân tích mục tiêu và đối tượng khách hàng, lên ý tưởng triển khai một dự án tiếp thị hoàn chỉnh. Bên cạnh đó, sinh viên ngành Marketing được hỗ trợ dự thi các chứng chỉ nghề quốc tế để phục vụ cho mục đích công việc.\\n\\nSinh viên tốt nghiệp ngành Marketing tại Trường Đại học Tôn Đức Thắng được cung cấp đầy đủ kiến thức và kỹ năng chuyên môn để tham gia vào gần như tất cả các khía cạnh của hoạt động kinh doanh, bắt đầu bằng việc xác định sứ mệnh của công ty, đánh giá mong muốn và nhu cầu của người tiêu dùng, xây dựng chiến lược, thiết kế sản phẩm và dịch vụ, thực hiện các chương trình khuyến mãi và giám sát sự hài lòng của người tiêu dùng với sản phẩm của công ty.', metadata={'id': 25}),\n",
       " Document(page_content='Khoa học máy tính là ngành ứng dụng kiến thức về thuật toán, phương pháp tính toán, ngôn ngữ lập trình, phương pháp phân tích và xây dựng hệ thống thông tin, … để giải quyết các vấn đề thuộc lĩnh vực Khoa học máy tính; phát triển các hệ thống phần mềm máy tính, mô hình tính toán thông minh, các ứng dụng trên các nền tảng hiện đại để phục vụ cho nhiệm vụ công nghiệp hoá, hiện đại hoá đất nước trong lĩnh vực chuyển đổi số.\\n\\nSau khi tốt nghiệp, cử nhân Khoa học máy tính có thể tự tin đảm nhận tốt các vị trí như chuyên viên thiết kế và xây dựng các phần mềm máy tính, ứng dụng cho thiết bị di động, ứng dụng thương mại điện tử trên nền Web, các trò chơi trên máy tính và di động; chuyên viên quản trị và xây dựng các giải pháp đảm bảo an toàn cho các hệ thống máy tính và hệ thống mạng máy tính; chuyên viên lập trình; chuyên viên phát triển hệ thống thông minh; chuyên viên tư vấn, thẩm định và phát triển các dự án, giải pháp công nghệ thông tin; cán bộ chuyên trách tại các cơ quan nhà nước, … hoặc có thể tiếp tục học tập và nghiên cứu ở các bậc học cao hơn.\\nKhi lựa chọn ngành học này tại TDTU, học viên được trang bị kiến thức nền tảng của khoa học máy tính và những kiến thức mang tính định hướng theo xu hướng của doanh nghiệp như: lập trình; phân tích và thiết kế thuật toán; xây dựng trang web, trí tuệ nhân tạo, bảo mật và an toàn máy tính … Sinh viên cũng được trang bị các kiến thức nghiệp vụ về tài chính kế toán, quản trị kinh doanh, … nhằm hiểu được nhu cầu của doanh nghiệp trong việc phát triển các hệ thống thông tin. Nhà trường còn chú trọng đầu tư xây dựng các phòng học thực hành với trang thiết bị hiện đại và liên tục cập nhật để phục vụ cho nhu cầu học tập và nghiên cứu của học viên.\\n\\nSố tiết học thực hành chiếm khoảng 40 – 50% trong chương trình đào tạo, giúp sinh viên được trải nghiệm thực tế, góp phần nâng cao tay nghề bên cạnh việc tiếp thu kiến thức chuyên môn.', metadata={'id': 11}),\n",
       " Document(page_content='Sinh viên có thể liên hệ với Văn phòng Tư vấn và Hỗ trợ các vấn đề sau:\\n\\nCác vấn đề liên quan đến học vụ như: Đăng ký môn học (Kế hoạch học tập, đăng ký môn học, thời khóa biểu,…); Đánh giá môn học (Lịch thi, hoãn thi, chuyển giờ thi, dự thi sau khi hoãn thi, phúc khảo, xem lại bài thi sau khi phúc khảo, quy định miễn học Anh văn, xét miễn học phần,…);\\nCác công tác khác liên quan đến việc quản lý học vụ như: nghỉ học tạm thời, thôi học, chuyển bậc, chuyển hệ đào tạo, danh sách xử lý học vụ,…\\nGiải đáp thắc mắc về các vấn đề liên quan đến chương trình đào tạo, học ngành 2, thực tập và tốt nghiệp,...\\nHỗ trợ, chia sẻ những khó khăn trong quá trình học tập, cùng sinh viên tìm hiểu về chuyên ngành và định hướng nghề nghiệp của bản thân trong tương lai.\\nGiải đáp những thắc mắc của sinh viên trong nhiều lĩnh vực khác nhau như: tình bạn, tình yêu, tâm sinh lý hay những khó khăn trong các mối quan hệ cá nhân,…(tham vấn tâm lý)\\n* Thông tin liên hệ\\n\\nVăn phòng Tư vấn và hỗ trợ\\nPhòng E0001 (nhà E)\\nEmail: tuvanhocduong@tdtu.edu.vn\\nWebsite: tuvanhocduong.tdt.edu.vn\\nĐiện thoại: (028) 22 477 215', metadata={'id': 5})]"
      ]
     },
     "execution_count": 4,
     "metadata": {},
     "output_type": "execute_result"
    }
   ],
   "source": [
    "\n",
    "\n",
    "docs = rag.ensemble_retriever.invoke(\"Tôi muốn học IT\")\n",
    "\n",
    "docs"
   ]
  }
 ],
 "metadata": {
  "kernelspec": {
   "display_name": "Python 3 (ipykernel)",
   "language": "python",
   "name": "python3"
  },
  "language_info": {
   "codemirror_mode": {
    "name": "ipython",
    "version": 3
   },
   "file_extension": ".py",
   "mimetype": "text/x-python",
   "name": "python",
   "nbconvert_exporter": "python",
   "pygments_lexer": "ipython3",
   "version": "3.9.18"
  }
 },
 "nbformat": 4,
 "nbformat_minor": 5
}
