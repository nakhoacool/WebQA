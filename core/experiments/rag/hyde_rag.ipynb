{
 "cells": [
  {
   "cell_type": "markdown",
   "metadata": {},
   "source": [
    "# Construct HyDE RAG"
   ]
  },
  {
   "cell_type": "code",
   "execution_count": 1,
   "metadata": {},
   "outputs": [],
   "source": [
    "import sys\n",
    "sys.path.append(\"../..\")\n",
    "from src.rag.hyde_rag import HydeRAG, HydeHybridSearchRAG\n",
    "from src.service.provider import ProviderService\n",
    "\n",
    "provider = ProviderService()"
   ]
  },
  {
   "cell_type": "markdown",
   "metadata": {},
   "source": [
    "## Test"
   ]
  },
  {
   "cell_type": "code",
   "execution_count": 5,
   "metadata": {},
   "outputs": [],
   "source": [
    "provider.config.enable_tracing(\"CODEBOT\")"
   ]
  },
  {
   "cell_type": "code",
   "execution_count": 3,
   "metadata": {},
   "outputs": [],
   "source": [
    "from src.utils.config_utils import get_gemini_hyde_config\n",
    "text_idx = \"text-raptor-medium_index_tdt_vi\"\n",
    "vec_idx = \"vec-raptor-medium_index_tdt_vi\"\n",
    "\n",
    "config = get_gemini_hyde_config()\n",
    "config.vector_index = vec_idx\n",
    "config.text_index = text_idx\n",
    "\n",
    "rag = HydeHybridSearchRAG(provider=provider, k=4, config=config)"
   ]
  },
  {
   "cell_type": "code",
   "execution_count": 4,
   "metadata": {},
   "outputs": [
    {
     "data": {
      "text/plain": [
       "'Thông tin bạn cung cấp không đề cập đến việc cần mang theo giấy tờ gì khi nhận bằng tốt nghiệp. \\n\\nTuy nhiên, bạn nên liên hệ trực tiếp với trường Đại học Tôn Đức Thắng để xác nhận chính xác những giấy tờ cần thiết trước khi đến nhận bằng. \\n'"
      ]
     },
     "execution_count": 4,
     "metadata": {},
     "output_type": "execute_result"
    }
   ],
   "source": [
    "ques = \"Nếu học ngành 2 thì học phí sẽ được tính như thế nào\"\n",
    "ques = \"Thời hạn cuối cùng để nộp bảng điểm Tiếng Anh chuẩn đầu ra để được xét tốt nghiệp là khi nào\"\n",
    "ques = \"Chuẩn đầu ra Tiếng Anh của Sinh viên\"\n",
    "ques = \"Điểm P cho học phần Tiếng Anh cuối có nghĩa là gì\"\n",
    "ques = \"Em là sinh viên ở kí túc xá, theo quy định thì sinh viên nội trú phải tham gia câu lạc bộ, nếu em tham gia câu lạc bộ của khoa-ngành của mình thì có được tính không\"\n",
    "ques = \"Khi nhận bằng tốt nghiệp cần mang theo giấy tờ gì\"\n",
    "ans = rag.answer(ques)\n",
    "ans"
   ]
  },
  {
   "cell_type": "code",
   "execution_count": 6,
   "metadata": {},
   "outputs": [
    {
     "data": {
      "text/plain": [
       "[[Document(page_content='. Những giấy tờ cần mang theo khi làm Thủ tục nhập học  - Giấy chứng nhận kết quả thi THPT quốc gia năm 2018 : bản chính;  -\\xa0Giấy báo nhập học (chỉ xuất trình khi làm thủ tục nhập học, không nộp);  -\\xa0Sơ yếu lý lịch sinh viên (tải tại đây) , Giấy xác nhận tìm hiểu thông tin “Những điều cần biết khi học tại TDTU” (tải tại đây) : 01 bản;  -\\xa0Giấy khai sinh: 01 bản sao hoặc bản photocopy (có công chứng);  -\\xa0Học bạ THPT: 02 bản photocopy (có công chứng);  -\\xa0Bằng tốt nghiệp THPT (tốt nghiệp trước năm 2018) hoặc Giấy chứng nhận tốt nghiệp tạm thời (tốt nghiệp năm 2018): 03 bản photocopy (có công chứng);  -\\xa0Giấy chứng nhận hưởng chế độ ưu tiên tuyển sinh (nếu thuộc diện ưu tiên): 01 bản photocopy (có công chứng);  -\\xa0Giấy chứng minh nhân dân hoặc Căn cước công dân: 02 bản photocopy (có công chứng); -\\xa0Hộ khẩu: 01 bản photocopy (có công chứng);  -\\xa0Bản photocopy chứng chỉ tiếng Anh quốc tế còn thời hạn (nếu có - nộp lúc xác nhận nhập học);  -\\xa0Giấy chứng nhận đăng ký nghĩa vụ quân sự do Ban chỉ huy quân sự cấp huyện cấp và Giấy xác nhận đăng ký vắng mặt do Ban chỉ huy quân sự cấp xã nơi cư trú cấp (đối với nam trong độ tuổi nghĩa vụ quân sự): 01 bản photocopy;  Ghi chú: - Tất cả giấy tờ đựng trong túi hồ sơ.  - Thí sinh nhập đầy đủ thông tin tại http://enroll.tdt.edu.vn trước khi đến làm thủ tục nhập học (xem hướng dẫn nhập thông tin tại đây)  - Thí sinh khi đến làm thủ tục nhập học mặc sơ mi trắng để chụp hình làm thẻ sinh viên.  6.2.\\xa0Địa điểm, thời gian làm thủ tục nhập học  -\\xa0Địa điểm làm thủ tục nhập học: Trường đại học Tôn Đức Thắng - Số 19, Nguyễn Hữu Thọ, Phường Tân Phong, Quận 7, TP', metadata={'doc_id': 'ebe592de-13cc-11ef-b548-0242ac1c000c'}),\n",
       "  Document(page_content='Theo quy định hiện hành thì sinh viên chỉ cần tích luỹ đủ số tín chỉ theo chương trình đào tạo thì sẽ được tốt nghiệp. Tuy nhiên, các em cần có kế hoạch học tập thông minh, không nên hấp tấp, vội vàng mà nên căn cứ vào sức học của mình mà đăng ký môn học.', metadata={'doc_id': '573ca202-1b6d-11ef-a755-d38426455a06'}),\n",
       "  Document(page_content='Thủ tục nhập học | Tuyển sinh Nhảy đến nội dung x Tuyển sinh English Main navigation Đại học Sau đại học Tư vấn Open Day 2024 Giảng viên/Viên chức  Sinh viên  Cựu sinh viên Thủ tục nhập học 1. Căn cứ vào kết quả thông báo tiếp nhận nhập học\\xa0trên website http://tuyensinh.tdtu.edu.vn, Thí sinh được tiếp nhận nhập học Đại học Tôn Đức Thắng nộp Phiếu điểm thi THPT quốc gia năm 2018 và nhận Giấy báo nhập học trực tiếp tại trường theo thời gian TDTU thông báo.  - Mặt sau Giấy báo nhập học sẽ có thủ tục nhập học đầy đủ, bao gồm những giấy tờ cần thiết, số tiền nhập học và các thông tin liên quan.  - Mọi thông tin về tuyển sinh, trúng tuyển, thí sinh có thể xem chi tiết theo địa chỉ: http://tuyensinh.tdtu.edu.vn  2. Thí sinh đến trường làm thủ tục nhập học và bắt buộc phải nhập thông tin cá nhân tại website: http://enroll.tdt.edu.vn , những thông tin này là bắt buộc để Trường liên lạc với sinh viên, với gia đình, hỗ trợ sinh viên trong quá trình học cũng như là thông tin để cấp phát văn bằng đầu ra khi sinh viên tốt nghiệp. Thí sinh cam kết chịu trách nhiệm trong việc cung cấp thông tin chính xác và cập nhật khi có thay đổi.  3. Thí sinh và phụ huynh tìm hiểu các quy định học vụ, chính sách, nội quy của TDTU khi nhập học để hiểu rõ và xác nhận đồng ý thực hiện theo các chính sách của TDTU.  4. Khi thí sinh hoàn tất các thủ tục nhập học như đóng lệ phí, nộp hồ sơ… thí sinh sẽ chính thức là sinh viên của trường. Khi đó Tân sinh viên sẽ được cung cấp các thông tin:  Mã số sinh viên: Đây là mã số sinh viên sẽ dùng suốt trong quá trình học tập tại trường', metadata={'doc_id': 'ebe592de-13cc-11ef-b548-0242ac1c000c'}),\n",
       "  Document(page_content='Văn bản cung cấp thông tin về quy trình nhập học tại Trường Đại học Tôn Đức Thắng, bao gồm:\\n\\n* **Đăng ký thi năng khiếu:** Thí sinh có thể đăng ký thi năng khiếu ở cả 3 đợt, điểm cao nhất sẽ được sử dụng để xét tuyển.\\n* **Nhập học trực tuyến:** Thí sinh phải khai báo thông tin chính xác và thực hiện đầy đủ các bước nhập học trực tuyến.\\n* **Nộp hồ sơ:** Thí sinh nộp hồ sơ sinh viên, chụp hình thẻ sinh viên, đăng ký ký túc xá và theo dõi thông báo trên Cổng thông tin sinh viên.\\n* **Hậu kiểm hồ sơ:** Nhà trường sẽ tiến hành hậu kiểm hồ sơ nhập học và xử lý nghiêm minh các trường hợp khai báo thông tin sai lệch.\\n* **Học bổng và bảo hiểm y tế:** Thí sinh được nhận học bổng tuyển sinh và hoàn trả bảo hiểm y tế sẽ được xét và hoàn trả sau khi đóng đủ phí nhập học.\\n* **Lưu ý:** Thí sinh cần theo dõi thông báo về lịch thi tiếng Anh đầu khóa, sinh hoạt công dân đầu năm, khám sức khỏe, thời khóa biểu, v.v.\\n\\nVăn bản cũng cung cấp thông tin liên lạc để thí sinh liên hệ với nhà trường trong trường hợp gặp khó khăn.\\n', metadata={'doc_id': 'ebe721c6-13cc-11ef-b548-0242ac1c000c;ebe5e572-13cc-11ef-b548-0242ac1c000c;ebe883e0-13cc-11ef-b548-0242ac1c000c;ebe8b658-13cc-11ef-b548-0242ac1c000c;ebe5e14e-13cc-11ef-b548-0242ac1c000c'}),\n",
       "  Document(page_content='1.\\xa0Trường hợp 1:\\xa0Vắng do lý do chủ quan bao gồm:\\n\\n- Vắng vì lý do cá nhân: Đám giỗ, đám cưới, về quê, không theo dõi/quên lịch học, ốm nhẹ, không có kế hoạch học tập nghiêm túc. --> Không giải quyết học bù\\n\\n- Lịch học thêm bên ngoài thay đổi đột xuất hoặc/và lịch làm thêm đột xuất trong giờ có lịch học, khám/tái khám bệnh có giấy hợp lệ của bác sĩ,… --> Xem xét đơn học bù căn cứ vào từng trường hợp cụ thể.\\n\\n2.\\xa0\\xa0Trường hợp 2: Vắng do lý do khách quan bao gồm:\\n\\n- Tang gia (có giấy chứng tử), ốm đau cần phải thăm khám (có giấy khám bệnh hợp lệ của bác sĩ).\\n\\n- Vắng vì lý do bất khả kháng (nhưng có minh chứng): Tai nạn giao thông trên đường đi học, hoãn chuyến bay, triệu tập của chính quyền địa phương,…\\n\\n- Ốm đau nặng phải nhập viện (có giấy ra viện).\\n\\n- Vắng do trùng lịch học, lịch thi, đồ án tại trường hoặc/và do nhận/được sắp xếp lịch học trễ (có đơn xác nhận của Khoa/Phòng Đại học).\\n\\n--> Giải quyết học bù (nếu có lớp phù hợp)\\n\\nTrường hợp 3:\\xa0Sinh viên học trễ lộ trình nhưng có chứng chỉ TOEIC (hoặc tương đương) tương ứng với khung điểm Đạt của học phần AV đang học theo quy định học tiếng Anh của Nhà trường. --> Xem xét học bù (nếu có lớp phù hợp)\\n\\nSinh viên phải học bù kiến thức của buổi vắng học. Vì vậy, sinh viên cần nộp đơn ngay khi biết mình sẽ vắng học. Trường hợp vắng đột xuất và không thể nộp đơn ngay, sinh viên có thể gọi điện, email, nhờ bạn hoặc người thân nộp đơn để Trung tâm kịp sắp xếp lịch học bù phù hợp. Trường hợp không có lớp học bù phù hợp, Trung tâm CLC \\xa0không giải quyết học bù.', metadata={'doc_id': '573ca17f-1b6d-11ef-a755-d38426455a06'}),\n",
       "  Document(page_content='Văn bản cung cấp thông tin về các môn thi năng khiếu và năng lực tiếng Anh, bao gồm danh sách dụng cụ cần thiết cho mỗi môn và hướng dẫn đăng ký thi. \\n\\n**Nội dung chính:**\\n\\n* **Danh sách dụng cụ thi:**  Văn bản liệt kê dụng cụ cần thiết cho các môn thi năng khiếu như Vẽ Trang trí màu, Vẽ Hình họa mỹ thuật, Năng khiếu Thể dục, thể thao và Năng lực tiếng Anh.\\n* **Đăng ký thi:**  Thí sinh đăng ký thi thành công sẽ được cấp tài khoản để đăng nhập vào hệ thống, in phiếu đăng ký, kiểm tra thông tin cá nhân và tra cứu lịch thi, điểm thi.\\n* **Lưu ý:**  Văn bản nhắc nhở thí sinh về việc đăng ký thi năng khiếu/năng lực tiếng Anh ở cả 2 đợt. \\n', metadata={'doc_id': 'ebe7afce-13cc-11ef-b548-0242ac1c000c;ebe858ca-13cc-11ef-b548-0242ac1c000c;ebe4d1fa-13cc-11ef-b548-0242ac1c000c;ebe851cc-13cc-11ef-b548-0242ac1c000c'}),\n",
       "  Document(page_content='Văn bản cung cấp thông tin chi tiết về các ngành học, quy trình tuyển sinh và nhập học tại Đại học Tôn Đức Thắng. Nội dung bao gồm:\\n\\n* **Giới thiệu các ngành học:** Mô tả ngành học, triển vọng nghề nghiệp và yêu cầu đầu vào.\\n* **Thông tin tuyển sinh:** Hướng dẫn đăng ký thi năng khiếu, thi tiếng Anh, danh sách dụng cụ cần thiết và cách đăng ký thi.\\n* **Quy trình nhập học:** Hướng dẫn đăng ký nhập học trực tuyến, nộp hồ sơ, hậu kiểm hồ sơ, học bổng và bảo hiểm y tế.\\n* **Lưu ý:** Nhắc nhở thí sinh về việc đăng ký thi năng khiếu/năng lực tiếng Anh ở cả 2 đợt, theo dõi thông báo về lịch thi tiếng Anh đầu khóa, sinh hoạt công dân đầu năm, khám sức khỏe, thời khóa biểu, v.v.\\n\\nVăn bản nhằm mục đích giới thiệu các ngành học và thu hút sinh viên đăng ký học tại Đại học Tôn Đức Thắng. \\n', metadata={'doc_id': 'ebe7a61e-13cc-11ef-b548-0242ac1c000c;ebe63d10-13cc-11ef-b548-0242ac1c000c;ebe6960c-13cc-11ef-b548-0242ac1c000c;ebe65c50-13cc-11ef-b548-0242ac1c000c;ebe5b87c-13cc-11ef-b548-0242ac1c000c;ebe5a486-13cc-11ef-b548-0242ac1c000c;ebe6352c-13cc-11ef-b548-0242ac1c000c;ebe7afce-13cc-11ef-b548-0242ac1c000c;ebe858ca-13cc-11ef-b548-0242ac1c000c;ebe4d1fa-13cc-11ef-b548-0242ac1c000c;ebe851cc-13cc-11ef-b548-0242ac1c000c;ebe721c6-13cc-11ef-b548-0242ac1c000c;ebe5e572-13cc-11ef-b548-0242ac1c000c;ebe883e0-13cc-11ef-b548-0242ac1c000c;ebe8b658-13cc-11ef-b548-0242ac1c000c;ebe5e14e-13cc-11ef-b548-0242ac1c000c'}),\n",
       "  Document(page_content='. Sinh viên còn có cơ hội học tập thêm các chứng chỉ quốc tế về kế toán, kiểm toán để mở rộng cơ hội nghề nghiệp tại các doanh nghiệp nước ngoài và các tập đoàn đa quốc gia. Thông tin cần biết Bằng cấp  Cử nhân Thời gian đào tạo  Toàn thời gian: 4 năm Chương trình đào tạo  Xem thông tin chi tiết về chương trình đào tạo Chuẩn đầu ra  Xem thông tin chi tiết về chuẩn đầu ra Phương thức xét tuyển riêng  Tổ hợp: Toán*2, Văn, Anh  KQ ĐGNL\\xa0của ĐHQG TP. HCM  Ưu tiên xét tuyển theo TDTU Xét tuyển theo điểm thi THPT  Tổ hợp: A00; A01; C01; D01  Điểm trúng tuyển 2023 (thang 40): 31.6 Khai giảng  Tháng 9, năm 2024 Học phí  Khoảng 27 đến 28 triệu đồng/năm Kế toán - Mã ngành: F7340301  Sinh viên được trang bị thêm các kỹ năng nghề nghiệp cần thiết cho tương lai cùng các cơ hội thực tập sớm, cơ hội giao lưu nghề nghiệp trong nước và quốc tế ngay trong quá trình học.  Nếu bạn muốn trở thành một kế toán viên, đây là chương trình dành cho bạn. Tấm bằng cử nhân Kế toán - Chất lượng cao tại TDTU sẽ là thẻ thông hành để bạn làm việc bất cứ nơi nào trên thế giới. Các vị trí nghề nghiệp về tài chính, kế toán, kiểm toán, tư vấn tài chính, tư vấn thuế, quản trị rủi ro, kiểm soát nội bộ… tại bất kỳ ngành nghề và lĩnh vực nào từ các cơ quan nhà nước, doanh nghiệp trong nước và quốc tế, công ty đa quốc gia, tổ chức tài chính (ngân hàng, chứng khoán, bảo hiểm, quỹ tài chính), tổ chức phi chính phủ cũng như quản lý doanh nghiệp gia đình. Thông tin cần biết Bằng cấp  Cử nhân Thời gian đào tạo  Toàn thời gian: 4 năm Chương trình đào tạo  Xem thông tin chi tiết về chương trình đào tạo Chuẩn đầu ra  Xem thông tin chi tiết về chuẩn đầu ra Phương thức xét tuyển riêng  Tổ hợp: Toán, Văn, Anh*2  KQ ĐGNL\\xa0của ĐHQG TP', metadata={'doc_id': 'ebe7402a-13cc-11ef-b548-0242ac1c000c'})]]"
      ]
     },
     "execution_count": 6,
     "metadata": {},
     "output_type": "execute_result"
    }
   ],
   "source": [
    "rag.retrieve_docs"
   ]
  },
  {
   "cell_type": "markdown",
   "metadata": {},
   "source": [
    "## Learn"
   ]
  },
  {
   "cell_type": "code",
   "execution_count": 2,
   "metadata": {},
   "outputs": [],
   "source": [
    "rag = HydeRAG(provider=provider, index=\"test-basic_test_tdt_dataset\")"
   ]
  },
  {
   "cell_type": "code",
   "execution_count": 7,
   "metadata": {},
   "outputs": [],
   "source": [
    "provider.config.enable_tracing(project=\"playground\")\n",
    "resp = rag.embeddings.invoke(\"Việt nam là quốc gia như thế nào?\")"
   ]
  },
  {
   "cell_type": "code",
   "execution_count": 8,
   "metadata": {},
   "outputs": [
    {
     "data": {
      "text/plain": [
       "{'QUESTION': 'Việt nam là quốc gia như thế nào?',\n",
       " 'text': 'Việt Nam là một quốc gia nằm ở Đông Nam Á, với đường bờ biển dài và nhiều cảnh quan thiên nhiên đa dạng, từ đồng bằng trù phú đến những ngọn núi hùng vĩ. Đất nước này có lịch sử lâu đời và phong phú, với nhiều di tích lịch sử và văn hóa. Việt Nam cũng là một quốc gia năng động và đang phát triển, với nền kinh tế phát triển nhanh chóng và một nền văn hóa sôi động. Người dân Việt Nam được biết đến với sự thân thiện, hiếu khách và tinh thần cộng đồng mạnh mẽ.'}"
      ]
     },
     "execution_count": 8,
     "metadata": {},
     "output_type": "execute_result"
    }
   ],
   "source": [
    "resp"
   ]
  },
  {
   "cell_type": "code",
   "execution_count": 9,
   "metadata": {},
   "outputs": [
    {
     "data": {
      "text/plain": [
       "[(Document(page_content='Nhà trường sẽ tổ chức mở lớp ôn tập cho sinh viên được cứu xét gia hạn đào tạo nếu môn học không còn mở hoặc môn học không có tổ chức giảng dạy trong học kỳ hiện tại. Sinh viên khi được cứu xét gia hạn đào tạo phải liên hệ với Văn phòng Khoa để được hướng dẫn đăng ký học cho kịp xét tốt nghiệp theo đúng thời hạn được cứu xét gia hạn.', metadata={'doc_id': '3369b8e3-1b47-11ef-a755-d38426455a06'}),\n",
       "  0.8390565),\n",
       " (Document(page_content='10 điểm;  - Ngành Kiến trúc, Thiết kế đồ họa, Thiết kế nội thất, Thiết kế thời trang, Thiết kế công nghiệp thí sinh phải đạt yêu cầu về năng khiếu do khoa chuyên môn xét;  - Thí sinh người nước ngoài học tập và tốt nghiệp THPT Quốc gia tại Việt Nam phải xếp loại học lực 3 năm THPT từ khá trở lên;  - Thí sinh đăng ký tuyển sinh chương trình đại học bằng tiếng Việt phải đạt trình độ tiếng Việt tương đương B2 (bậc 4/6) trở lên theo Khung năng lực tiếng Việ t theo quy định tại Thông tư số 17/2015/TT-BGDĐT ngày 01/9/2015 của Bộ trưởng Bộ Giáo dục và Đào tạo, riêng ngành Việt Nam học chuyên ngành Việt Ngữ và Văn hóa xã hội Việt Nam thí sinh đạt trình độ từ A1 (bậc 1/6) trở lên; Thí sinh là người nước ngoài tốt nghiệp THPT Quốc gia tại Việt Nam không xét điều kiện năng lực tiếng Việt.  i) Thí sinh có hộ khẩu thường trú từ 3 năm trở lên, học 3 năm và tốt nghiệp THPT tại các huyện nghèo (học sinh học phổ thông dân tộc nội trú tính theo hộ khẩu thường trú), tính đến ngày nộp hồ sơ đăng ký xét tuyển theo quy định tại Nghị quyết số 30a/2008/NQ-CP ngày 27/12/2008 của Chính phủ về Chương trình hỗ trợ giảm nghèo nhanh và bền vững đối với 61 huyện nghèo và Quyết định số 293/QĐ-TTg ngày 05/02/2013 của Thủ tướng Chính phủ về việc hỗ trợ có mục tiêu từ ngân sách trung ương cho 23 huyện có tỷ lệ hộ nghèo cao được áp dụng cơ chế, chính sách đầu tư cơ sở hạ tầng theo quy định của Nghị quyết số 30a/2008/NQ-CP về Chương trình hỗ trợ giảm nghèo nhanh và bền vững đối với 61 huyện nghèo; thí sinh là người dân tộc thiểu số rất ít người theo quy định hiện hành của Chính phủ và thí sinh 20 huyện nghèo biên giới, hải đảo thuộc khu vực Tây Nam Bộ. Chỉ tiêu xét tuyển không quá 0,3% tổng chỉ tiêu tuyển sinh của Nhà trường. Căn cứ tổng bình quân của điểm tổng kết 3 năm lớp 10, 11, 12, Nhà trường xét tuyển theo thứ tự từ cao xuống thấp cho đến hết chỉ tiêu. Đối với ngành Dược thí sinh phải xếp loại học lực lớp 12 từ giỏi trở lên; ngành Thiết kế đồ họa, Thiết kế nội thất, Thiết kế thời trang, Thiết kế công nghiệp, Kiến trúc thí sinh phải dự thi Năng khiếu và đạt yêu cầu của Trường. Những thí sinh trúng tuyển phải học bổ sung kiến thức 1 năm trước khi vào học chính thức .  l ) Người đạt một trong các giải nhất, nhì, ba tại các kỳ thi tay nghề khu vực ASEAN và thi tay nghề quốc tế, nếu có bằng tốt nghiệp trung học phổ thông hoặc bằng tốt nghiệp trung cấp, đã học và thi đạt yêu cầu đủ khối lượng kiến thức văn hóa trung học phổ thông theo quy định của pháp luật thì được tuyển thẳng vào trường để học ngành, nghề phù hợp với nghề đã đạt giải. Đối với ngành Dược thí sinh phải xếp loại học lực lớp 12 từ giỏi trở lên; ngành Thiết kế đồ họa, Thiết kế nội thất, Thiết kế thời trang, Thiết kế công nghiệp, Kiến trúc thí sinh phải dự thi Năng khiếu và đạt yêu cầu của Trường 1.2. Đối tượng ưu tiên xét tuyển Chỉ tiêu xét tuyển không quá 0,2% tổng chỉ tiêu tuyển sinh của Nhà trường  a) Đối với thí sinh đoạt giải trong kỳ thi chọn học sinh giỏi quốc gia, đoạt giải trong cuộc thi khoa học, kỹ thuật cấp quốc gia và đã tốt nghiệp trung học, nếu có kết quả thi THPT quốc gia đáp ứng tiêu chí đảm bảo chất lượng đầu vào quy định của Quy chế, Hiệu trưởng xem xét, quyết định cho vào học;  b) Thí sinh đoạt huy chương vàng các giải vô địch hạng nhất quốc gia tổ chức một lần trong năm và thí sinh được Tổng cục thể dục thể thao có quyết định công nhận là kiện tướng quốc gia đã tham dự kỳ thi THPT quốc gia, không có môn nào có kết quả từ 1,0 điểm trở xuống, được ưu tiên xét tuyển vào ngành Quản lý thể dục thể thao, ngành Golf . Thời gian được tính để hưởng ưu tiên là không quá 4 năm tính đến ngày xét tuyển vào trường.  c) Người đạt một trong các giải nhất, nhì, ba tại các kỳ thi tay nghề khu vực ASEAN và thi tay nghề quốc tế, nếu có bằng tốt nghiệp trung học phổ thông hoặc bằng tốt nghiệp trung cấp, đã học và thi đạt yêu cầu đủ khối lượng kiến thức văn hóa trung học phổ thông theo quy định của pháp luật thì được Hiệu trưởng xem xét, quyết định ưu tiên xét tuyển vào trường để học ngành, nghề phù hợp với nghề đã đạt giải theo quy định của trường. 2. DANH MỤC NGÀNH TUYỂN THẲNG 1. Thí sinh đoạt giải nhất, nhì, ba kỳ thi chọn học sinh giỏi quốc gia (HSGQG) được tuyển thẳng vào đại học theo quy định sau:  - HSGQG môn Toán được tuyển thẳng vào ngành: Toán ứng dụng; Thống kê, Kỹ thuật điện, Khoa học máy tính, Kỹ thuật phần mềm.  - HSGQG môn Hóa học được tuyển thẳng vào ngành: Dược học, Khoa học môi trường, Kỹ thuật hóa học, Kỹ thuật công nghệ môi trường.  - HSGQG môn Sinh học được tuyển thẳng vào ngành: Công nghệ sinh học, Khoa học môi trường.  - HSGQG môn Ngữ văn được tuyển thẳng vào ngành: Việt Nam học, Luật, Xã hội học, Công tác xã hội  - HSGQG môn Tin học được tuyển thẳng vào ngành: Khoa học máy tính, Kỹ thuật phần mềm, Mạng máy tính và truyền thông dữ liệu, Kỹ thuật điện tử -viễn thông.  - HSGQG môn Tiếng Anh tuyển thẳng vào ngành: Ngôn ngữ Anh.  - HSGQG môn Tiếng Trung Quốc được tuyển thẳng vào ngành: Ngôn ngữ Trung Quốc.  2. Đối với thí sinh đoạt giải trong Cuộc thi khoa học kỹ thuật quốc gia: Căn cứ vào kết quả dự án, đề tài nghiên cứu khoa học kỹ thuật của thí sinh đoạt giải và danh mục ngành xét tuyển theo quy định Bộ Giáo dục và Đào tạo; Trường sẽ xem xét tuyển thẳng vào ngành học phù hợp với kết quả dự án hoặc đề tài mà thí sinh đoạt giải. 3. HỒ SƠ ĐĂNG KÝ 3.1. Hồ sơ đăng ký xét tuyển thẳng Thí sinh thuộc diện xét tuyển thẳng nộp hồ sơ ĐKXT tại sở GD&ĐT trước ngày 20/05/2019 , riêng thí sinh người nước ngoài nộp trực tiếp tại Trường từ ngày 01/4/2019 đến 26/8/2019 .  a) Hồ sơ ĐKXT của thí sinh thuộc diện tuyển thẳng được quy định tại điểm a, b, c, d, e , l mục đối tượng xét tuyển thẳng gồm:  +\\xa0Phiếu đăng ký\\xa0xét\\xa0tuyển thẳng (Tải mẫu phiếu tại đây) ;  + Ít nhất một trong các bản\\xa0photocopy\\xa0sau:\\xa0chứng nhận là thành viên tham dự kỳ thi chọn đội tuyển quốc gia dự thi Olympic khu vực và quốc tế hoặc chứng nhận là thành viên đội tuyển tham dự cuộc thi Khoa học kỹ thuật quốc tế (có tên trong danh sách của Bộ GDĐT); Giấy chứng nhận đoạt giải Kỳ thi chọn HSG quốc gia; Giấy chứng nhận đoạt giải Cuộc thi Khoa học kỹ thuật quốc gia;\\xa0Giấy chứng nhận đoạt giải quốc tế về thể dục thể thao, năng khiếu nghệ thuật;\\xa0Giấy chứng nhận đoạt giải\\xa0kỳ thi tay nghề khu vực ASEAN và thi tay nghề quốc tế\\xa0và giấy chứng nhận các đối tượng ưu tiên tuyển thẳng khác. Đối với ngành Dược thí sinh phải bổ sung học bạ THPT;  +\\xa0Hai phong bì đã dán tem và ghi rõ họ tên, địa chỉ liên lạc, số điện thoại của thí sinh; hai ảnh chân dung cỡ 4 x 6 cm.  b) Hồ sơ ĐKXT của thí sinh thuộc diện tuyển thẳng tại điểm g, i mục Đối tượng xét tuyển thẳng gồm:  + Phiếu đăng ký tuyển thẳng (Tải mẫu phiếu tại đây) ;  + Bản photocopy học bạ 3 năm học THPT;  + Hai phong bì đã dán tem và ghi rõ họ tên, địa chỉ liên lạc, số điện thoại của thí sinh; hai ảnh chân dung cỡ 4 x 6.  + Bản photocopy hộ khẩu thường trú (đối với diện xét tuyển thẳng tại điểm i).  + Bản photocopy', metadata={'doc_id': 'ebe4cc50-13cc-11ef-b548-0242ac1c000c'}),\n",
       "  0.8317665),\n",
       " (Document(page_content='\\xa0Sinh viên có hoàn cảnh khó khăn không được vay vốn khi sinh viên bị các cơ quan xử phạt hành chính trở lên về các hành vi: Cờ bạc, nghiện hút, trộm cắp, buôn lậu.', metadata={'doc_id': '3369b8e0-1b47-11ef-a755-d38426455a06'}),\n",
       "  0.8309319),\n",
       " (Document(page_content='tác xã hội Việt Nam học (*) 3 Hóa Sinh Hóa-Sinh phân tích; Hóa-Sinh tổng hợp; Hóa-Sinh-Y; Hóa-Sinh cấu trúc;... Công nghệ sinh học (*) Kỹ thuật hóa học\\xa0 (*) 4 Y Sinh và khoa học Sức khỏe Chẩn đoán; Điều trị; Phát triển và thử nghiệm\\xa0dược liệu; Dịch tễ học; Dinh dưỡng; Sinh lý học và Bệnh lý học;... Dược học\\xa0 (*) Công nghệ sinh học (*) 5 Kỹ\\xa0thuật Y Sinh Vật liệu Y Sinh; Cơ chế Sinh học; Thiết bị Y sinh; Kỹ thuật tế bào và mô; Sinh học tổng hợp;.., Công nghệ sinh học (*) 6 Sinh học tế bào và phân tử Sinh lý tế bào; Gen; Miễn dịch; Sinh học phân tử; Sinh học thần kinh;... Công nghệ sinh học (*) 7 Hóa học Hóa phân tích; Hóa học trên máy tính; Hóa môi trường; Hóa vô cơ; Hóa vật liệu; Hóa hữu cơ; Hóa Lý;... Kỹ thuật hóa học (*) Dược học (*) Khoa học môi trường 8 Sinh học trên máy tính và Sinh-Tin Kỹ\\xa0thuật Y sinh; Dược lý trên máy tính; Sinh học mô hình trên máy tính; Tiến hóa sinh học trên máy tính; Khoa học thần kinh trên máy tính; Gen;... Công nghệ sinh học (*) 9 Khoa học Trái đất và Môi trường Khí quyển; Khí hậu; Ảnh hưởng của môi trường lên hệ sinh thái; Địa chất; Nước;... Khoa học môi trường (*) Công nghệ kỹ thuật môi trường 10 Hệ thống nhúng Kỹ thuật mạch; Vi điều khiển; Giao tiếp mạng và dữ liệu; Quang học; Cảm biến; Gia công tín hiệu;... Kỹ thuật điện và điện tử viễn thông (*) Kỹ thuật điều khiển và tự động hóa (*) Kỹ thuật cơ điện tử (*) 11 Năng lượng: Hóa học Nhiên liệu thay thế; Năng lượng hóa thạch; Phát triển tế bào nhiên liệu và pin; Vật liệu năng lượng mặt trời;.,. Kỹ thuật hóa học (*) 12 Năng lượng: Vật lý Năng lượng thủy điện; Năng lượng hạt nhân; Năng lượng mặt trời; Năng lượng nhiệt; Năng lượng gió;... Kỹ thuật điện 13 Kỹ thuật cơ khí Kỹ thuật hàng không và vũ trụ; Kỹ thuật dân dụng; Cơ khí trên máy tính; Lý thuyết điều khiển; Hệ thống vận tải mặt đất; Kỹ thuật gia công công nghiệp; Kỹ thuật cơ khí;\\xa0Hệ thống\\xa0hàng hải;... Kỹ thuật cơ điện tử 14 Kỹ thuật môi trường Xử lý môi trường bằng phương pháp sinh học; Khai thác đất; Kiểm soát ô nhiễm; Quản lý chất thải và tái sử dụng; Quản lý nguồn nước;... Công nghệ kỹ thuật môi trường (*) Khoa học môi trường (*) 15 Khoa học vật liệu Vật liệu sinh học; Gốm và Thủy tinh; Vật liệu composite; Lý thuyết và tính toán; Vật liệu điện tử, quang và từ; Vật liệu nano; Pô-li-me;... Kỹ thuật hóa học 16 Toán học Đại số; Phân tích; Rời rạc; Lý thuyết Game và Graph; Hình học và Tô pô; Lý thuyết số; Xác suất và thống kê;... Toán ứng dụng (*) Thống kê 17 Vi Sinh Vi\\xa0trùng và kháng sinh; Vi sinh ứng dụng; Vi\\xa0khuẩn; Vi sinh môi trường; Kháng sinh tổng hợp; Vi-rút;... Dược học Công nghệ sinh học 18 Khoa học Thực vật Nông nghiệp; Mối liên hệ và tương tác với môi trường tự nhiên; Gen và sinh sản; Tăng trưởng và phát triển; Bệnh lý thực vật; Sinh lý thực vật; Hệ thống và tiến hóa;... Công nghệ sinh học 19 Rô bốt và máy thông minh Máy sinh học; Lý thuyết điều khiển; Rô bốt động lực;... Kỹ thuật điện và điện tử viễn thông (*) Kỹ thuật điều khiển và tự động hóa (*) Kỹ thuật cơ điện tử (*) 20 Phần mềm hệ thống Thuật toán; An ninh máy tính; Cơ sở dữ liệu; Hệ điều hành; Ngôn ngữ lập trình;... Kỹ thuật phần mềm (*) Khoa học máy tính (*) Mạng máy tính và truyền thông dữ liệu (*) 21 Y học chuyển dịch Khám bệnh và chuẩn đoán; Phòng bệnh; Điều trị; Kiểm định thuốc; Nghiên cứu tiền lâm sang,… Dược học Ghi chú: Những ngành có dấu (*) là ngành đúng, các ngành còn lại là ngành gần.  III. HỒ SƠ ĐĂNG KÝ TUYỂN THẲNG, ƯU TIÊN XÉT TUYỂN VÀ XÉT TUYỂN THẲNG  1. Hồ sơ đăng ký xét tuyển thẳng  a) Hồ sơ ĐKXT của thí sinh thuộc diện tuyển thẳng được quy định tại điểm a, b, c, d, e , l mục đối tượng xét tuyển thẳng gồm:  +\\xa0Phiếu đăng ký\\xa0xét\\xa0tuyển thẳng ( Tải mẫu phiếu );  + Ít nhất một trong các bản photocopy sau: Chứng nhận là thành viên được triệu tập tham dự kỳ thi chọn đội tuyển quốc gia dự thi Olympic khu vực và quốc tế hoặc chứng nhận là thành viên đội tuyển tham dự cuộc thi Khoa học kỹ thuật quốc tế (có tên trong danh sách của Bộ GDĐT); Giấy chứng nhận đoạt giải Kỳ thi chọn HSG quốc gia; Giấy chứng nhận đoạt giải Cuộc thi Khoa học kỹ thuật quốc gia; Giấy chứng nhận đoạt giải quốc tế về thể dục thể thao; Giấy chứng nhận đoạt giải kỳ thi tay nghề khu vực ASEAN và thi tay nghề quốc tế và giấy chứng nhận các đối tượng ưu tiên tuyển thẳng khác. Đối với ngành Dược thí sinh phải bổ sung học bạ THPT (Thí sinh phải đạt học lực lớp 12 loại Giỏi);  +\\xa0Hai phong bì đã dán tem và ghi rõ họ tên, địa chỉ liên lạc, số điện thoại của thí sinh; hai ảnh chân dung cỡ 4 x 6 cm.  b) Hồ sơ ĐKXT của thí sinh thuộc diện tuyển thẳng tại điểm g, i mục Đối tượng xét tuyển thẳng gồm:  + Phiếu đăng ký tuyển thẳng ( Tải mẫu phiếu )  + Bản photocopy học bạ 3 năm học THPT;  + Hai phong bì đã dán tem và ghi rõ họ tên, địa chỉ liên lạc, số điện thoại của thí sinh; hai ảnh chân dung cỡ 4 x 6.  + Bản photocopy hộ khẩu thường trú (đối với diện xét tuyển thẳng tại điểm i).  + Bản photocopy có chứng thực Giấy xác nhận thí sinh là người khuyết tật đặc biệt nặng do cơ quan có thẩm quyền cấp theo quy định (đối với diện xét tuyển thẳng tại điểm g);  c) Hồ sơ ĐKXT của thí sinh tuyển thẳng thuộc diện người nước ngoài được quy định tại điểm h mục Đối tượng xét tuyển thẳng của thông báo này:  + Phiếu đăng ký tuyển thẳng ( Tải mẫu phiếu );  + Bản sao bằng tốt nghiệp trung học phổ thông hoặc tương đương có công chứng hoặc xác nhận của cơ quan có thẩm quyền (kèm bản dịch tiếng Việt hoặc tiếng Anh).  + Bản sao học bạ hoặc bảng điểm bậc trung học phổ thông hoặc tương đương có công chứng hoặc xác nhận của cơ quan có thẩm quyền (kèm bản dịch tiếng Việt hoặc tiếng Anh).  + Bản sao chứng chỉ trình độ tiếng Việt do cơ sở giáo dục có thẩm quyền cấp (nếu học bằng tiếng Việt).  + Bản sao chứng chỉ trình độ tiếng Anh do cơ sở đào tạo có thẩm quyền cấp (nếu có).  + Bản sao Thẻ căn cước (ID card) hoặc bản sao hộ chiếu có thời hạn sử dụng ít nhất 01 năm tính từ ngày dự kiến nhập học tại TDTU.  + Cam kết về khả năng tài chính đảm bảo học tập, nghiên cứu, sinh hoạt đối với các quốc gia Việt Nam đã có chính sách hạn chế cho phép nhập cảnh).  + Giấy khám sức khỏe do cơ sở y tế có thẩm quyền cấp không quá 06 tháng tính đến ngày nộp hồ sơ.  2. Hồ sơ đăng ký ưu tiên xét tuyển  Thí sinh cần đăng ký thi tốt nghiệp THPT, nộp hồ sơ đăng ký ưu tiên xét tuyển tại Sở GD&ĐT trước ngày 30/5/2021 . Hồ sơ đăng ký ưu tiên xét tuyển gồm:  + Phiếu đăng ký ưu tiên xét tuyển ( Tải mẫu phiếu )  + Ít nhất một trong các bản photocopy sau: Giấy chứng nhận đoạt giải Kỳ thi chọn HSG quốc gia; Giấy chứng nhận đoạt giải Cuộc thi Khoa học kỹ thuật quốc gia, quốc tế; Giấy chứng nhận đoạt giải quốc tế về thể dục thể thao, Giấy chứng nhận đoạt giải kỳ thi tay nghề khu vực ASEAN và thi tay nghề quốc tế. Đối với ngành Dược học thí sinh phải bổ sung học bạ THPT (Thí sinh phải đạt học lực lớp 12 loại Giỏi).  IV. THỜI GIAN ĐĂNG KÝ, CHI PHÍ XÉT TUYỂN  1. Thời gian đăng ký xét tuyển thẳng, ưu', metadata={'doc_id': 'ebe7f54c-13cc-11ef-b548-0242ac1c000c'}),\n",
       "  0.8306302)]"
      ]
     },
     "execution_count": 9,
     "metadata": {},
     "output_type": "execute_result"
    }
   ],
   "source": [
    "docs = rag.es.similarity_search_with_relevance_scores(query=resp['text'], k=4)\n",
    "docs"
   ]
  },
  {
   "cell_type": "code",
   "execution_count": 10,
   "metadata": {},
   "outputs": [
    {
     "data": {
      "text/plain": [
       "[Document(page_content='Nhà trường sẽ tổ chức mở lớp ôn tập cho sinh viên được cứu xét gia hạn đào tạo nếu môn học không còn mở hoặc môn học không có tổ chức giảng dạy trong học kỳ hiện tại. Sinh viên khi được cứu xét gia hạn đào tạo phải liên hệ với Văn phòng Khoa để được hướng dẫn đăng ký học cho kịp xét tốt nghiệp theo đúng thời hạn được cứu xét gia hạn.', metadata={'doc_id': '3369b8e3-1b47-11ef-a755-d38426455a06'}),\n",
       " Document(page_content='Quốc gia tại Việt Nam phải xếp loại học lực 3 năm THPT từ khá trở lên;  - Thí sinh đăng ký tuyển sinh chương trình đại học bằng tiếng Việt phải đạt trình độ tiếng Việt tương đương B2 (bậc 4/6) trở lên theo Khung năng lực tiếng Việ t theo quy định tại Thông tư số 17/2015/TT-BGDĐT ngày 01/9/2015 của Bộ trưởng Bộ Giáo dục và Đào tạo, riêng ngành Việt Nam học chuyên ngành Việt Ngữ và Văn hóa xã hội Việt Nam thí sinh đạt trình độ từ A1 (bậc 1/6) trở lên; Thí sinh là người nước ngoài tốt nghiệp THPT Quốc gia tại Việt Nam không xét điều kiện năng lực tiếng Việt.  i) Thí sinh có hộ khẩu thường trú từ 3 năm trở lên, học 3 năm và tốt nghiệp THPT tại các huyện nghèo (học sinh học phổ thông dân tộc nội trú tính theo hộ khẩu thường trú), tính đến ngày nộp hồ sơ đăng ký xét tuyển theo quy định tại Nghị quyết số 30a/2008/NQ-CP ngày 27/12/2008 của Chính phủ về Chương trình hỗ trợ giảm nghèo nhanh và bền vững đối với 61 huyện nghèo và Quyết định số 293/QĐ-TTg ngày 05/02/2013 của Thủ tướng Chính phủ về việc hỗ trợ có mục tiêu từ ngân sách trung ương cho 23 huyện có tỷ lệ hộ nghèo cao được áp dụng cơ chế, chính sách đầu tư cơ sở hạ tầng theo quy định của Nghị quyết số 30a/2008/NQ-CP về Chương trình hỗ trợ giảm nghèo nhanh và bền vững đối với 61 huyện nghèo; thí sinh là người dân tộc thiểu số rất ít người theo quy định hiện hành của Chính phủ và thí sinh 20 huyện nghèo biên giới, hải đảo thuộc khu vực Tây Nam Bộ. Chỉ tiêu xét tuyển không quá 0,3% tổng chỉ tiêu tuyển sinh của Nhà trường. Căn cứ tổng bình quân của điểm tổng kết 3 năm lớp 10, 11, 12, Nhà trường xét tuyển theo thứ tự từ cao xuống thấp cho đến hết chỉ tiêu. Đối với ngành Dược thí sinh phải xếp loại học lực lớp 12 từ giỏi trở lên; ngành Thiết kế đồ họa, Thiết kế nội thất, Thiết kế thời trang, Thiết kế công nghiệp, Kiến trúc thí sinh phải dự thi Năng khiếu và đạt yêu cầu của Trường. Những thí sinh trúng tuyển phải học bổ sung kiến thức 1 năm trước khi vào học chính thức .  l ) Người đạt một trong các giải nhất, nhì, ba tại các kỳ thi tay nghề khu vực ASEAN và thi tay nghề quốc tế, nếu có bằng tốt nghiệp trung học phổ thông hoặc bằng tốt nghiệp trung cấp, đã học và thi đạt yêu cầu đủ khối lượng kiến thức văn hóa trung học phổ thông theo quy định của pháp luật thì được tuyển thẳng vào trường để học ngành, nghề phù hợp với nghề đã đạt giải. Đối với ngành Dược thí sinh phải xếp loại học lực lớp 12 từ giỏi trở lên; ngành Thiết kế đồ họa, Thiết kế nội thất, Thiết kế thời trang, Thiết kế công nghiệp, Kiến trúc thí sinh phải dự thi Năng khiếu và đạt yêu cầu của Trường 1.2. Đối tượng ưu tiên xét tuyển Chỉ tiêu xét tuyển không quá 0,2% tổng chỉ tiêu tuyển sinh của Nhà trường  a) Đối với thí sinh đoạt giải trong kỳ thi chọn học sinh giỏi quốc gia, đoạt giải trong cuộc thi khoa học, kỹ thuật cấp quốc gia và đã tốt nghiệp trung học, nếu có kết quả thi THPT quốc gia đáp ứng tiêu chí đảm bảo chất lượng đầu vào quy định của Quy chế, Hiệu trưởng xem xét, quyết định cho vào học;  b) Thí sinh đoạt huy chương vàng các giải vô địch hạng nhất quốc gia tổ chức một lần trong năm và thí sinh được Tổng cục thể dục thể thao có quyết định công nhận là kiện tướng quốc gia đã tham dự kỳ thi THPT quốc gia, không có môn nào có kết quả từ 1,0 điểm trở xuống, được ưu tiên xét tuyển vào ngành Quản lý thể dục thể thao, ngành Golf . Thời gian được tính để hưởng ưu tiên là không quá 4 năm tính đến ngày xét tuyển vào trường.  c) Người đạt một trong các giải nhất, nhì, ba tại các kỳ thi tay nghề khu vực ASEAN và thi tay nghề quốc tế, nếu có bằng tốt nghiệp trung học phổ thông hoặc bằng tốt nghiệp trung cấp, đã học và thi đạt yêu cầu đủ khối lượng kiến thức văn hóa trung học phổ thông theo quy định của pháp luật thì được Hiệu trưởng xem xét, quyết định ưu tiên xét tuyển vào trường để học ngành, nghề phù hợp với nghề đã đạt giải theo quy định của trường. 2. DANH MỤC NGÀNH TUYỂN THẲNG 1. Thí sinh đoạt giải nhất, nhì, ba kỳ thi chọn học sinh giỏi quốc gia (HSGQG) được tuyển thẳng vào đại học theo quy định sau:  - HSGQG môn Toán được tuyển thẳng vào ngành: Toán ứng dụng; Thống kê, Kỹ thuật điện, Khoa học máy tính, Kỹ thuật phần mềm.  - HSGQG môn Hóa học được tuyển thẳng vào ngành: Dược học, Khoa học môi trường, Kỹ thuật hóa học, Kỹ thuật công nghệ môi trường.  - HSGQG môn Sinh học được tuyển thẳng vào ngành: Công nghệ sinh học, Khoa học môi trường.  - HSGQG môn Ngữ văn được tuyển thẳng vào ngành: Việt Nam học, Luật, Xã hội học, Công tác xã hội  - HSGQG môn Tin học được tuyển thẳng vào ngành: Khoa học máy tính, Kỹ thuật phần mềm, Mạng máy tính và truyền thông dữ liệu, Kỹ thuật điện tử -viễn thông.  - HSGQG môn Tiếng Anh tuyển thẳng vào ngành: Ngôn ngữ Anh.  - HSGQG môn Tiếng Trung Quốc được tuyển thẳng vào ngành: Ngôn ngữ Trung Quốc.  2. Đối với thí sinh đoạt giải trong Cuộc thi khoa học kỹ thuật quốc gia: Căn cứ vào kết quả dự án, đề tài nghiên cứu khoa học kỹ thuật của thí sinh đoạt giải và danh mục ngành xét tuyển theo quy định Bộ Giáo dục và Đào tạo; Trường sẽ xem xét tuyển thẳng vào ngành học phù hợp với kết quả dự án hoặc đề tài mà thí sinh đoạt giải. 3. HỒ SƠ ĐĂNG KÝ 3.1. Hồ sơ đăng ký xét tuyển thẳng Thí sinh thuộc diện xét tuyển thẳng nộp hồ sơ ĐKXT tại sở GD&ĐT trước ngày 20/05/2019 , riêng thí sinh người nước ngoài nộp trực tiếp tại Trường từ ngày 01/4/2019 đến 26/8/2019 .  a) Hồ sơ ĐKXT của thí sinh thuộc diện tuyển thẳng được quy định tại điểm a, b, c, d, e , l mục đối tượng xét tuyển thẳng gồm:  +\\xa0Phiếu đăng ký\\xa0xét\\xa0tuyển thẳng (Tải mẫu phiếu tại đây) ;  + Ít nhất một trong các bản\\xa0photocopy\\xa0sau:\\xa0chứng nhận là thành viên tham dự kỳ thi chọn đội tuyển quốc gia dự thi Olympic khu vực và quốc tế hoặc chứng nhận là thành viên đội tuyển tham dự cuộc thi Khoa học kỹ thuật quốc tế (có tên trong danh sách của Bộ GDĐT); Giấy chứng nhận đoạt giải Kỳ thi chọn HSG quốc gia; Giấy chứng nhận đoạt giải Cuộc thi Khoa học kỹ thuật quốc gia;\\xa0Giấy chứng nhận đoạt giải quốc tế về thể dục thể thao, năng khiếu nghệ thuật;\\xa0Giấy chứng nhận đoạt giải\\xa0kỳ thi tay nghề khu vực ASEAN và thi tay nghề quốc tế\\xa0và giấy chứng nhận các đối tượng ưu tiên tuyển thẳng khác. Đối với ngành Dược thí sinh phải bổ sung học bạ THPT;  +\\xa0Hai phong bì đã dán tem và ghi rõ họ tên, địa chỉ liên lạc, số điện thoại của thí sinh; hai ảnh chân dung cỡ 4 x 6 cm.  b) Hồ sơ ĐKXT của thí sinh thuộc diện tuyển thẳng tại điểm g, i mục Đối tượng xét tuyển thẳng gồm:  + Phiếu đăng ký tuyển thẳng (Tải mẫu phiếu tại đây) ;  + Bản photocopy học bạ 3 năm học THPT;  + Hai phong bì đã dán tem và ghi rõ họ tên, địa chỉ liên lạc, số điện thoại của thí sinh; hai ảnh chân dung cỡ 4 x 6.  + Bản photocopy hộ khẩu thường trú (đối với diện xét tuyển thẳng tại điểm i).  + Bản photocopy có chứng thực Giấy xác nhận thí sinh là người khuyết tật đặc biệt nặng do cơ quan có thẩm quyền cấp theo quy định (đối với diện xét tuyển thẳng tại điểm g );  c) Hồ sơ ĐKXT của thí sinh tuyển thẳng thuộc diện người nước ngoài', metadata={'doc_id': 'ebe4cc50-13cc-11ef-b548-0242ac1c000c'}),\n",
       " Document(page_content='tác xã hội Việt Nam học (*) 3 Hóa Sinh Hóa-Sinh phân tích; Hóa-Sinh tổng hợp; Hóa-Sinh-Y; Hóa-Sinh cấu trúc;... Công nghệ sinh học (*) Kỹ thuật hóa học\\xa0 (*) 4 Y Sinh và khoa học Sức khỏe Chẩn đoán; Điều trị; Phát triển và thử nghiệm\\xa0dược liệu; Dịch tễ học; Dinh dưỡng; Sinh lý học và Bệnh lý học;... Dược học\\xa0 (*) Công nghệ sinh học (*) 5 Kỹ\\xa0thuật Y Sinh Vật liệu Y Sinh; Cơ chế Sinh học; Thiết bị Y sinh; Kỹ thuật tế bào và mô; Sinh học tổng hợp;.., Công nghệ sinh học (*) 6 Sinh học tế bào và phân tử Sinh lý tế bào; Gen; Miễn dịch; Sinh học phân tử; Sinh học thần kinh;... Công nghệ sinh học (*) 7 Hóa học Hóa phân tích; Hóa học trên máy tính; Hóa môi trường; Hóa vô cơ; Hóa vật liệu; Hóa hữu cơ; Hóa Lý;... Kỹ thuật hóa học (*) Dược học (*) Khoa học môi trường 8 Sinh học trên máy tính và Sinh-Tin Kỹ\\xa0thuật Y sinh; Dược lý trên máy tính; Sinh học mô hình trên máy tính; Tiến hóa sinh học trên máy tính; Khoa học thần kinh trên máy tính; Gen;... Công nghệ sinh học (*) 9 Khoa học Trái đất và Môi trường Khí quyển; Khí hậu; Ảnh hưởng của môi trường lên hệ sinh thái; Địa chất; Nước;... Khoa học môi trường (*) Công nghệ kỹ thuật môi trường 10 Hệ thống nhúng Kỹ thuật mạch; Vi điều khiển; Giao tiếp mạng và dữ liệu; Quang học; Cảm biến; Gia công tín hiệu;... Kỹ thuật điện và điện tử viễn thông (*) Kỹ thuật điều khiển và tự động hóa (*) Kỹ thuật cơ điện tử (*) 11 Năng lượng: Hóa học Nhiên liệu thay thế; Năng lượng hóa thạch; Phát triển tế bào nhiên liệu và pin; Vật liệu năng lượng mặt trời;.,. Kỹ thuật hóa học (*) 12 Năng lượng: Vật lý Năng lượng thủy điện; Năng lượng hạt nhân; Năng lượng mặt trời; Năng lượng nhiệt; Năng lượng gió;... Kỹ thuật điện 13 Kỹ thuật cơ khí Kỹ thuật hàng không và vũ trụ; Kỹ thuật dân dụng; Cơ khí trên máy tính; Lý thuyết điều khiển; Hệ thống vận tải mặt đất; Kỹ thuật gia công công nghiệp; Kỹ thuật cơ khí;\\xa0Hệ thống\\xa0hàng hải;... Kỹ thuật cơ điện tử 14 Kỹ thuật môi trường Xử lý môi trường bằng phương pháp sinh học; Khai thác đất; Kiểm soát ô nhiễm; Quản lý chất thải và tái sử dụng; Quản lý nguồn nước;... Công nghệ kỹ thuật môi trường (*) Khoa học môi trường (*) 15 Khoa học vật liệu Vật liệu sinh học; Gốm và Thủy tinh; Vật liệu composite; Lý thuyết và tính toán; Vật liệu điện tử, quang và từ; Vật liệu nano; Pô-li-me;... Kỹ thuật hóa học 16 Toán học Đại số; Phân tích; Rời rạc; Lý thuyết Game và Graph; Hình học và Tô pô; Lý thuyết số; Xác suất và thống kê;... Toán ứng dụng (*) Thống kê 17 Vi Sinh Vi\\xa0trùng và kháng sinh; Vi sinh ứng dụng; Vi\\xa0khuẩn; Vi sinh môi trường; Kháng sinh tổng hợp; Vi-rút;... Dược học Công nghệ sinh học 18 Khoa học Thực vật Nông nghiệp; Mối liên hệ và tương tác với môi trường tự nhiên; Gen và sinh sản; Tăng trưởng và phát triển; Bệnh lý thực vật; Sinh lý thực vật; Hệ thống và tiến hóa;... Công nghệ sinh học 19 Rô bốt và máy thông minh Máy sinh học; Lý thuyết điều khiển; Rô bốt động lực;... Kỹ thuật điện và điện tử viễn thông (*) Kỹ thuật điều khiển và tự động hóa (*) Kỹ thuật cơ điện tử (*) 20 Phần mềm hệ thống Thuật toán; An ninh máy tính; Cơ sở dữ liệu; Hệ điều hành; Ngôn ngữ lập trình;... Kỹ thuật phần mềm (*) Khoa học máy tính (*) Mạng máy tính và truyền thông dữ liệu (*) 21 Y học chuyển dịch Khám bệnh và chuẩn đoán; Phòng bệnh; Điều trị; Kiểm định thuốc; Nghiên cứu tiền lâm sang,… Dược học Ghi chú: Những ngành có dấu (*) là ngành đúng, các ngành còn lại là ngành gần.  III. HỒ SƠ ĐĂNG KÝ TUYỂN THẲNG, ƯU TIÊN XÉT TUYỂN VÀ XÉT TUYỂN THẲNG  1. Hồ sơ đăng ký xét tuyển thẳng  a) Hồ sơ ĐKXT của thí sinh thuộc diện tuyển thẳng được quy định tại điểm a, b, c, d, e , l mục đối tượng xét tuyển thẳng gồm:  +\\xa0Phiếu đăng ký\\xa0xét\\xa0tuyển thẳng ( Tải mẫu phiếu );  + Ít nhất một trong các bản photocopy sau: Chứng nhận là thành viên được triệu tập tham dự kỳ thi chọn đội tuyển quốc gia dự thi Olympic khu vực và quốc tế hoặc chứng nhận là thành viên đội tuyển tham dự cuộc thi Khoa học kỹ thuật quốc tế (có tên trong danh sách của Bộ GDĐT); Giấy chứng nhận đoạt giải Kỳ thi chọn HSG quốc gia; Giấy chứng nhận đoạt giải Cuộc thi Khoa học kỹ thuật quốc gia; Giấy chứng nhận đoạt giải quốc tế về thể dục thể thao; Giấy chứng nhận đoạt giải kỳ thi tay nghề khu vực ASEAN và thi tay nghề quốc tế và giấy chứng nhận các đối tượng ưu tiên tuyển thẳng khác. Đối với ngành Dược thí sinh phải bổ sung học bạ THPT (Thí sinh phải đạt học lực lớp 12 loại Giỏi);  +\\xa0Hai phong bì đã dán tem và ghi rõ họ tên, địa chỉ liên lạc, số điện thoại của thí sinh; hai ảnh chân dung cỡ 4 x 6 cm.  b) Hồ sơ ĐKXT của thí sinh thuộc diện tuyển thẳng tại điểm g, i mục Đối tượng xét tuyển thẳng gồm:  + Phiếu đăng ký tuyển thẳng ( Tải mẫu phiếu )  + Bản photocopy học bạ 3 năm học THPT;  + Hai phong bì đã dán tem và ghi rõ họ tên, địa chỉ liên lạc, số điện thoại của thí sinh; hai ảnh chân dung cỡ 4 x 6.  + Bản photocopy hộ khẩu thường trú (đối với diện xét tuyển thẳng tại điểm i).  + Bản photocopy có chứng thực Giấy xác nhận thí sinh là người khuyết tật đặc biệt nặng do cơ quan có thẩm quyền cấp theo quy định (đối với diện xét tuyển thẳng tại điểm g);  c) Hồ sơ ĐKXT của thí sinh tuyển thẳng thuộc diện người nước ngoài được quy định tại điểm h mục Đối tượng xét tuyển thẳng của thông báo này:  + Phiếu đăng ký tuyển thẳng ( Tải mẫu phiếu );  + Bản sao bằng tốt nghiệp trung học phổ thông hoặc tương đương có công chứng hoặc xác nhận của cơ quan có thẩm quyền (kèm bản dịch tiếng Việt hoặc tiếng Anh).  + Bản sao học bạ hoặc bảng điểm bậc trung học phổ thông hoặc tương đương có công chứng hoặc xác nhận của cơ quan có thẩm quyền (kèm bản dịch tiếng Việt hoặc tiếng Anh).  + Bản sao chứng chỉ trình độ tiếng Việt do cơ sở giáo dục có thẩm quyền cấp (nếu học bằng tiếng Việt).  + Bản sao chứng chỉ trình độ tiếng Anh do cơ sở đào tạo có thẩm quyền cấp (nếu có).  + Bản sao Thẻ căn cước (ID card) hoặc bản sao hộ chiếu có thời hạn sử dụng ít nhất 01 năm tính từ ngày dự kiến nhập học tại TDTU.  + Cam kết về khả năng tài chính đảm bảo học tập, nghiên cứu, sinh hoạt đối với các quốc gia Việt Nam đã có chính sách hạn chế cho phép nhập cảnh).  + Giấy khám sức khỏe do cơ sở y tế có thẩm quyền cấp không quá 06 tháng tính đến ngày nộp hồ sơ.  2. Hồ sơ đăng ký ưu tiên xét tuyển  Thí sinh cần đăng ký thi tốt nghiệp THPT, nộp hồ sơ đăng ký ưu tiên xét tuyển tại Sở GD&ĐT trước ngày 30/5/2021 . Hồ sơ đăng ký ưu tiên xét tuyển gồm:  + Phiếu đăng ký ưu tiên xét tuyển ( Tải mẫu phiếu )  + Ít nhất một trong các bản photocopy sau: Giấy chứng nhận đoạt giải Kỳ thi chọn HSG quốc gia; Giấy chứng nhận đoạt giải Cuộc thi Khoa học kỹ thuật quốc gia, quốc tế; Giấy chứng nhận đoạt giải quốc tế về thể dục thể thao, Giấy chứng nhận đoạt giải kỳ thi tay nghề khu vực ASEAN và thi tay nghề quốc tế. Đối với ngành Dược học thí sinh phải bổ sung học bạ THPT (Thí sinh phải đạt học lực lớp 12 loại Giỏi).  IV. THỜI GIAN ĐĂNG KÝ, CHI PHÍ XÉT TUYỂN  1. Thời gian đăng ký xét tuyển thẳng, ưu', metadata={'doc_id': 'ebe7f54c-13cc-11ef-b548-0242ac1c000c'}),\n",
       " Document(page_content=' Nếu Chứng minh nhân dân không hợp lệ em phải làm gì', metadata={'doc_id': '3369b8dd-1b47-11ef-a755-d38426455a06'})]"
      ]
     },
     "execution_count": 10,
     "metadata": {},
     "output_type": "execute_result"
    }
   ],
   "source": [
    "docs = rag.es.max_marginal_relevance_search(query=resp['text'], k=4)\n",
    "\n",
    "docs"
   ]
  }
 ],
 "metadata": {
  "kernelspec": {
   "display_name": "Python 3 (ipykernel)",
   "language": "python",
   "name": "python3"
  },
  "language_info": {
   "codemirror_mode": {
    "name": "ipython",
    "version": 3
   },
   "file_extension": ".py",
   "mimetype": "text/x-python",
   "name": "python",
   "nbconvert_exporter": "python",
   "pygments_lexer": "ipython3",
   "version": "3.9.18"
  }
 },
 "nbformat": 4,
 "nbformat_minor": 4
}
