{
 "cells": [
  {
   "cell_type": "code",
   "execution_count": 1,
   "id": "0fea0587-c107-40a5-8045-4c21ff296bf9",
   "metadata": {},
   "outputs": [],
   "source": [
    "import sys\n",
    "sys.path.append(\"../..\")\n",
    "from src.service.provider import ProviderService\n",
    "from src.rag.hg_parent_retriever import ConfigParentRAG, HugFaceParentRAG\n",
    "provider = ProviderService()"
   ]
  },
  {
   "cell_type": "code",
   "execution_count": 2,
   "id": "182d398e-62f5-4c0b-a378-849c34a57d51",
   "metadata": {},
   "outputs": [],
   "source": [
    "from datasets import load_dataset\n",
    "\n",
    "DATA_REPO = \"BroDeadlines/TEST.TDT.edu_tdt_proposition_data\"\n",
    "SPLIT = \"INDEX.medium_index_TDT_clean\"\n",
    "\n",
    "dataset = load_dataset(DATA_REPO, split=SPLIT)"
   ]
  },
  {
   "cell_type": "code",
   "execution_count": 3,
   "id": "265affeb-97ed-4800-9b36-160f1a548f5a",
   "metadata": {},
   "outputs": [],
   "source": [
    "config:ConfigParentRAG = {}\n",
    "\n",
    "config[\"vec_index\"] = \"vec-sentence-propositon_medium_edu_tdt\"\n",
    "config[\"txt_index\"] = \"text-sentence-propositon_medium_edu_tdt\"\n",
    "config['vec_weight'] = 0.5\n",
    "config['txt_weight'] = 0.5\n",
    "config['total_k'] = 4\n",
    "config['llm'] = \"gemini-1.5-flash\""
   ]
  },
  {
   "cell_type": "code",
   "execution_count": 4,
   "id": "e4eb7f09-456d-4e7d-93b7-8fe42b5281f8",
   "metadata": {},
   "outputs": [],
   "source": [
    "rag = HugFaceParentRAG(provider=provider, config=config, text_corpora=dataset)"
   ]
  },
  {
   "cell_type": "code",
   "execution_count": 7,
   "id": "ceecd6b4-c448-4c0b-baf1-66a7487c6cdf",
   "metadata": {},
   "outputs": [
    {
     "name": "stdout",
     "output_type": "stream",
     "text": [
      "page_content='Nhà trường sẽ tiến hành hậu kiểm hồ sơ\\xa0nhập học sau khi thí sinh đã nộp hồ sơ nhập học (bản giấy).' metadata={'doc_id': 'ebe5e14e-13cc-11ef-b548-0242ac1c000c'}\n"
     ]
    },
    {
     "data": {
      "application/vnd.jupyter.widget-view+json": {
       "model_id": "b65d52df1c654921925860b706e51dfd",
       "version_major": 2,
       "version_minor": 0
      },
      "text/plain": [
       "Filter:   0%|          | 0/344 [00:00<?, ? examples/s]"
      ]
     },
     "metadata": {},
     "output_type": "display_data"
    },
    {
     "name": "stdout",
     "output_type": "stream",
     "text": [
      "page_content='Những môn học được quy định không tham gia tính điểm trung bình sẽ không đưa vào công thức này để tính' metadata={'doc_id': '573ca1c3-1b6d-11ef-a755-d38426455a06'}\n"
     ]
    },
    {
     "data": {
      "application/vnd.jupyter.widget-view+json": {
       "model_id": "aae3f6b2f07046c2bad8ddc8aaaab783",
       "version_major": 2,
       "version_minor": 0
      },
      "text/plain": [
       "Filter:   0%|          | 0/344 [00:00<?, ? examples/s]"
      ]
     },
     "metadata": {},
     "output_type": "display_data"
    },
    {
     "name": "stdout",
     "output_type": "stream",
     "text": [
      "page_content='Thẻ tạm hoặc phiếu báo mất thẻ sinh viên không được sử dụng cho bất kỳ lý do nào khác.' metadata={'doc_id': '573ca190-1b6d-11ef-a755-d38426455a06'}\n"
     ]
    },
    {
     "data": {
      "application/vnd.jupyter.widget-view+json": {
       "model_id": "b034851e5fb6469ab07654e47d83ccc6",
       "version_major": 2,
       "version_minor": 0
      },
      "text/plain": [
       "Filter:   0%|          | 0/344 [00:00<?, ? examples/s]"
      ]
     },
     "metadata": {},
     "output_type": "display_data"
    },
    {
     "name": "stdout",
     "output_type": "stream",
     "text": [
      "page_content='Số tiền còn nợ bằng học phí phải nộp của học kỳ trừ đi số tiền đã nộp (học phí tạm thu).' metadata={'doc_id': '3369b8e1-1b47-11ef-a755-d38426455a06'}\n"
     ]
    },
    {
     "data": {
      "application/vnd.jupyter.widget-view+json": {
       "model_id": "7d92bc0641cd4e9392268fdc608afe60",
       "version_major": 2,
       "version_minor": 0
      },
      "text/plain": [
       "Filter:   0%|          | 0/344 [00:00<?, ? examples/s]"
      ]
     },
     "metadata": {},
     "output_type": "display_data"
    },
    {
     "name": "stdout",
     "output_type": "stream",
     "text": [
      "page_content='Phần chênh lệch học phí của học kỳ 1 sẽ được cấn trừ sang học kỳ 2 (trong cột nợ kỳ trước).' metadata={'doc_id': '3369b8e1-1b47-11ef-a755-d38426455a06'}\n",
      "page_content='Môn học thay thế được sử dụng khi một môn học có trong CTĐT nhưng nay không còn tổ chức giảng dạy nữa và được thay thế bằng một môn học khác đang còn tổ chức giảng dạy.' metadata={'doc_id': '3369b8de-1b47-11ef-a755-d38426455a06'}\n"
     ]
    },
    {
     "data": {
      "application/vnd.jupyter.widget-view+json": {
       "model_id": "04d082b86de04f5fbc86ab9fa75d5b5b",
       "version_major": 2,
       "version_minor": 0
      },
      "text/plain": [
       "Filter:   0%|          | 0/344 [00:00<?, ? examples/s]"
      ]
     },
     "metadata": {},
     "output_type": "display_data"
    },
    {
     "data": {
      "text/plain": [
       "{'answer': 'Tiền tạm thu khi nhập học sẽ được cấn trừ vào học phí của học kỳ 1. Phần chênh lệch học phí sẽ được cấn trừ sang học kỳ 2. \\n',\n",
       " 'retrieved_docs': [Document(page_content='Nhà trường sẽ tiến hành hậu kiểm hồ sơ\\xa0nhập học sau khi thí sinh đã nộp hồ sơ nhập học (bản giấy).', metadata={'doc_id': 'ebe5e14e-13cc-11ef-b548-0242ac1c000c'}),\n",
       "  Document(page_content='Những môn học được quy định không tham gia tính điểm trung bình sẽ không đưa vào công thức này để tính', metadata={'doc_id': '573ca1c3-1b6d-11ef-a755-d38426455a06'}),\n",
       "  Document(page_content='Thẻ tạm hoặc phiếu báo mất thẻ sinh viên không được sử dụng cho bất kỳ lý do nào khác.', metadata={'doc_id': '573ca190-1b6d-11ef-a755-d38426455a06'}),\n",
       "  Document(page_content='Số tiền còn nợ bằng học phí phải nộp của học kỳ trừ đi số tiền đã nộp (học phí tạm thu).', metadata={'doc_id': '3369b8e1-1b47-11ef-a755-d38426455a06'}),\n",
       "  Document(page_content='Phần chênh lệch học phí của học kỳ 1 sẽ được cấn trừ sang học kỳ 2 (trong cột nợ kỳ trước).', metadata={'doc_id': '3369b8e1-1b47-11ef-a755-d38426455a06'}),\n",
       "  Document(page_content='Môn học thay thế được sử dụng khi một môn học có trong CTĐT nhưng nay không còn tổ chức giảng dạy nữa và được thay thế bằng một môn học khác đang còn tổ chức giảng dạy.', metadata={'doc_id': '3369b8de-1b47-11ef-a755-d38426455a06'})],\n",
       " 'exc_second': 5.5424346923828125}"
      ]
     },
     "execution_count": 7,
     "metadata": {},
     "output_type": "execute_result"
    }
   ],
   "source": [
    "question = \"Em đi thi mà đề thi không nằm trong đề cương môn học thì em phải làm sao\"\n",
    "question = \"Tiền tạm thu khi nhập học sẽ được sử dụng như thế nào có được cấn trừ qua học kỳ kế tiếp không\"\n",
    "res = rag.answer(question=question)\n",
    "\n",
    "res"
   ]
  },
  {
   "cell_type": "code",
   "execution_count": 2,
   "id": "adf590c8-42c8-4d21-a83b-f015f635f270",
   "metadata": {},
   "outputs": [],
   "source": [
    "\n",
    "ground = \" Đầu năm khi làm thủ tục nhập học, sinh viên sẽ nộp học phí tạm thu của học kỳ 1 năm nhất và các khoản chi phí khác. Sinh viên có thể kiểm lại học phí của học kỳ 1 Nhà Trường đã công bố, Số tiền còn nợ = Học phí phải nộp của học kỳ - Số tiền đã nộp (Học phí tạm thu). Phần chênh lệch học phí của học kỳ 1 sẽ được cấn trừ sang học kỳ 2 (trong cột nợ kỳ trước).\"\n",
    "res = \"Tiền tạm thu khi nhập học sẽ được cấn trừ vào học phí của học kỳ 1. Phần chênh lệch học phí sẽ được cấn trừ sang học kỳ 2. \\n\"\n",
    "\n"
   ]
  },
  {
   "cell_type": "code",
   "execution_count": 2,
   "id": "b8d56469-8d65-4950-a08a-b9e6c01aa813",
   "metadata": {},
   "outputs": [
    {
     "name": "stdout",
     "output_type": "stream",
     "text": [
      "0.0670546934524819\n"
     ]
    },
    {
     "data": {
      "text/plain": [
       "0.11090996875656291"
      ]
     },
     "execution_count": 2,
     "metadata": {},
     "output_type": "execute_result"
    }
   ],
   "source": [
    "from nltk.translate.bleu_score import sentence_bleu\n",
    "\n",
    "reference = [ground.strip().split(\" \")]\n",
    "candidate = res.strip().split(\" \")\n",
    "score = sentence_bleu(reference, candidate)\n",
    "print(score)\n",
    "score1 = sentence_bleu(reference, candidate, weights=(1, 0, 0, 0))\n",
    "score1"
   ]
  },
  {
   "cell_type": "code",
   "execution_count": 3,
   "id": "ccb19dc2-65c8-4a67-a5fb-c0f543c2e0e6",
   "metadata": {},
   "outputs": [
    {
     "data": {
      "text/plain": [
       "{'rouge1': Score(precision=0.9777777777777777, recall=0.34108527131782945, fmeasure=0.5057471264367815),\n",
       " 'rouge2': Score(precision=0.75, recall=0.2578125, fmeasure=0.38372093023255816),\n",
       " 'rougeL': Score(precision=0.8888888888888888, recall=0.31007751937984496, fmeasure=0.4597701149425287)}"
      ]
     },
     "execution_count": 3,
     "metadata": {},
     "output_type": "execute_result"
    }
   ],
   "source": [
    "from rouge_score import rouge_scorer\n",
    "scorer = rouge_scorer.RougeScorer(['rouge1', 'rouge2', 'rougeL'], use_stemmer=True)\n",
    "\n",
    "scores = scorer.score(ground, res)\n",
    "\n",
    "scores"
   ]
  },
  {
   "cell_type": "code",
   "execution_count": 6,
   "id": "64762a8b-f780-458b-a1c2-b09257acfb82",
   "metadata": {},
   "outputs": [
    {
     "data": {
      "text/plain": [
       "0.8888888888888888"
      ]
     },
     "execution_count": 6,
     "metadata": {},
     "output_type": "execute_result"
    }
   ],
   "source": [
    "scores['rougeL'].precision"
   ]
  },
  {
   "cell_type": "code",
   "execution_count": 2,
   "id": "0072f206-6b1d-406c-81a3-f00943bf60b7",
   "metadata": {},
   "outputs": [
    {
     "data": {
      "text/plain": [
       "4.0"
      ]
     },
     "execution_count": 2,
     "metadata": {},
     "output_type": "execute_result"
    }
   ],
   "source": [
    "import numpy as np\n",
    "a = [3, 4, 5]\n",
    "\n",
    "a= np.array(a)\n",
    "\n",
    "np.median(a)"
   ]
  },
  {
   "cell_type": "code",
   "execution_count": 3,
   "id": "3de1aa94-5091-4e43-a268-f75d99af7178",
   "metadata": {},
   "outputs": [
    {
     "data": {
      "text/plain": [
       "4.0"
      ]
     },
     "execution_count": 3,
     "metadata": {},
     "output_type": "execute_result"
    }
   ],
   "source": [
    "a.mean()"
   ]
  }
 ],
 "metadata": {
  "kernelspec": {
   "display_name": "Python 3 (ipykernel)",
   "language": "python",
   "name": "python3"
  },
  "language_info": {
   "codemirror_mode": {
    "name": "ipython",
    "version": 3
   },
   "file_extension": ".py",
   "mimetype": "text/x-python",
   "name": "python",
   "nbconvert_exporter": "python",
   "pygments_lexer": "ipython3",
   "version": "3.9.18"
  }
 },
 "nbformat": 4,
 "nbformat_minor": 5
}
