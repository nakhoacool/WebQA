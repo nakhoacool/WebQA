{
 "cells": [
  {
   "cell_type": "code",
   "execution_count": 1,
   "metadata": {},
   "outputs": [],
   "source": [
    "import sys\n",
    "sys.path.append(\"../..\")\n",
    "from src.rag.hybrid_rank_rag import HybridRFFGeminiRAG\n",
    "from src.service.provider import ProviderService\n",
    "\n",
    "provider = ProviderService()\n",
    "config = provider.categories.full_data\n",
    "\n",
    "provider.config.enable_tracing(project=\"CODEBOT\")"
   ]
  },
  {
   "cell_type": "code",
   "execution_count": 2,
   "metadata": {},
   "outputs": [
    {
     "name": "stdout",
     "output_type": "stream",
     "text": [
      "loaded index doc\n"
     ]
    }
   ],
   "source": [
    "rag = HybridRFFGeminiRAG(provider=provider, rag_config=config, update_notification_func=None)"
   ]
  },
  {
   "cell_type": "markdown",
   "metadata": {},
   "source": [
    "# Answer"
   ]
  },
  {
   "cell_type": "code",
   "execution_count": 5,
   "metadata": {},
   "outputs": [],
   "source": [
    "question = \"Sinh viên trường Tôn Đức Thắng có đặc điểm như thế nào?\"\n",
    "\n",
    "resp = rag.ask_rag(question=question)"
   ]
  },
  {
   "cell_type": "code",
   "execution_count": 6,
   "metadata": {},
   "outputs": [
    {
     "data": {
      "text/plain": [
       "'Sinh viên trường Tôn Đức Thắng được biết đến với sự chuyên nghiệp, liêm chính và trách nhiệm.'"
      ]
     },
     "execution_count": 6,
     "metadata": {},
     "output_type": "execute_result"
    }
   ],
   "source": [
    "resp.answer"
   ]
  },
  {
   "cell_type": "code",
   "execution_count": 10,
   "metadata": {},
   "outputs": [],
   "source": [
    "a = list(rag.map_answer.values()) "
   ]
  },
  {
   "cell_type": "code",
   "execution_count": 12,
   "metadata": {},
   "outputs": [
    {
     "data": {
      "text/plain": [
       "['None',\n",
       " 'None',\n",
       " 'None',\n",
       " 'None',\n",
       " 'Ngành Dược tại Trường Đại học Tôn Đức Thắng đào tạo sinh viên về khoa học và công nghệ liên quan đến thuốc, bao gồm nghiên cứu, sản xuất, phân phối và sử dụng thuốc.']"
      ]
     },
     "execution_count": 12,
     "metadata": {},
     "output_type": "execute_result"
    }
   ],
   "source": [
    "a"
   ]
  },
  {
   "cell_type": "markdown",
   "metadata": {},
   "source": [
    "# Debug\n"
   ]
  },
  {
   "cell_type": "code",
   "execution_count": 18,
   "metadata": {},
   "outputs": [],
   "source": [
    "gemini = provider.get_simple_gemini_pro()\n",
    "with open('debug_prompt.txt', 'r') as f:\n",
    "    txt = f.read()\n",
    "resp = gemini(txt)"
   ]
  },
  {
   "cell_type": "code",
   "execution_count": 19,
   "metadata": {},
   "outputs": [
    {
     "data": {
      "text/plain": [
       "'Trường có 4 chương trình đào tạo:\\n- Chương trình tiêu chuẩn (dạy-học bằng tiếng Việt)\\n- Chương trình chất lượng cao\\n- Chương trình đại học bằng tiếng Anh\\n- Chương trình liên kết đào tạo quốc tế trình độ đại học'"
      ]
     },
     "execution_count": 19,
     "metadata": {},
     "output_type": "execute_result"
    }
   ],
   "source": [
    "resp"
   ]
  },
  {
   "cell_type": "markdown",
   "metadata": {},
   "source": [
    "# Retriever"
   ]
  },
  {
   "cell_type": "code",
   "execution_count": 5,
   "metadata": {},
   "outputs": [],
   "source": [
    "ques = \"Ngành Công nghệ thông tin\"\n",
    "resp = rag.ensemble_retriever.invoke(ques)"
   ]
  },
  {
   "cell_type": "code",
   "execution_count": 6,
   "metadata": {},
   "outputs": [
    {
     "data": {
      "text/plain": [
       "[Document(page_content='Ngành Kinh doanh quốc tế \\n Khai giảng Tháng 9, năm 2024\\n\\n Học phí Giai đoạn 1: khoảng 82 đến 83 triệu đồng/năm\\n\\n <!--//--><![CDATA[// ><!--', metadata={'id': '4cf41260-556a-4e10-b1bb-7d9a50f3754b'}),\n",
       " Document(page_content='Ngành Marketing \\n xúc và đinh hướng làm việc tại các công ty tư vấn, agency, nghiên cứu thị trường\\n\\nhàng đầu thế giới như các công ty hàng đầu thế giới như: PricewaterhouseCoopers\\n\\n(PwC), Deloitte (Deloitte), Ernst and Young (EY), KPMG, BCG, Mc Kinsey, Nielsen,\\n\\nKantar, Ogilvy and Mather...\\n\\n**Thông tin cần biết** Bằng cấp Cử nhân\\n\\n Thời gian đào tạo Toàn thời gian: 4 năm\\n\\n Chương trình đào tạo [Xem thông tin chi tiết về chương trình đào\\n\\ntạo](https://cktt-cdr.tdtu.edu.vn/chuongtrinhdaotao?type=tuyensinh&hedaotao=K)\\n\\n Chuẩn đầu ra [Xem thông tin chi tiết về chuẩn đầu\\n\\nra](https://cktt-cdr.tdtu.edu.vn/chuandaura?type=tuyensinh&hedaotao=K)\\n\\n Phương thức xét tuyển riêng Xét theo điểm trung bình HK KQ ĐGNL\\xa0của ĐHQG TP. HCM Ưu tiên xét tuyển theo TDTU\\n\\n Xét tuyển theo điểm thi THPT Tổ hợp: D01; A01; E04; E06 Điểm trúng tuyển 2023 (thang 40):  **31.5**\\n\\n Khai giảng Tháng 9, năm 2024\\n\\n Học phí Khoảng 83 đến 84 triệu đồng/năm\\n\\n**Quản trị kinh doanh tại Trường Đại học kinh tế Praha, Cộng hòa Séc** \\n\\n**- Mã ngành: K** \\n\\n**7340101** ![](/sites/admission23/files/Admission-2023/Chuong-trinh-LK/KDQT_VSE.png)\\n\\n**Tìm hiểu về Trường Đại học kinh tế Praha** \\n\\n[Website Trường Đại học kinh tế Praha](https://www.vse.cz/english/) \\n\\n[Khám phá Trường Đại học kinh tế Praha](https://www.youtube.com/watch?v=NIsGTi6kSNk) \\n\\n**Thông tin cần biết** Bằng cấp Cử nhân (song bằng)\\n\\n Thời gian đào tạo 4 năm (2 năm đầu học tại TDTU, 2 năm sau học tại Trường liên kết)\\n\\n Chương trình đào tạo [Xem thông tin chi tiết về chương trình đào\\n\\ntạo](https://cktt-cdr.tdtu.edu.vn/chuongtrinhdaotao?type=tuyensinh&hedaotao=C)\\n\\n Chuẩn đầu ra [Xem thông tin chi tiết về chuẩn đầu\\n\\nra](https://cktt-cdr.tdtu.edu.vn/chuandaura?type=tuyensinh&hedaotao=C)\\n\\n Phương thức xét tuyển riêng Xét theo điểm trung bình HK KQ ĐGNL\\xa0của ĐHQG TP. HCM Ưu tiên xét tuyển theo TDTU\\n\\n Xét tuyển theo điểm thi THPT Tổ hợp: E04; E06; A01; D01 Điểm trúng tuyển 2023 (thang 40):  **28**\\n\\n Khai giảng Tháng 9, năm 2024\\n\\n Học phí Giai đoạn 1: khoảng 78 đến 79 triệu đồng/năm\\n\\n**Quản trị kinh doanh tại Trường Đại học Khoa học và Công nghệ Lunghwa, Đài Loan** \\n\\n**- Mã ngành: K** \\n\\n**7340101L** ![](/sites/admission23/files/Tuyen-sinh/2024/LKQT/KDQT-Lunghwa.jpg)\\n\\n**Tìm hiểu về Trường Đại học Khoa học và Công nghệ Lunghwa** \\n\\n[Website Trường Đại học Khoa học và Công nghệ Lunghwa](http://english.lhu.edu.tw) \\n\\n[Khám phá Trường Đại học Khoa học và Công nghệ Lunghwa](https://www.youtube.com/watch?v=gZbbxYCAQRY) \\n\\n**Thông tin cần biết** Bằng cấp Cử nhân (đơn bằng)\\n\\n Thời gian đào tạo 4 năm (3 năm đầu học tại TDTU, 1 năm sau học tại Trường liên kết)', metadata={'id': 'a0fda896-0fa2-4e67-b685-f8c5ed514ecf'}),\n",
       " Document(page_content='Ngành mạng máy tính và truyền thông dữ liệu \\n trường còn chú trọng đầu tư xây dựng các phòng thực hành với máy móc hiện đại để\\n\\nphục vụ cho nhu cầu học tập và nghiên cứu của sinh viên. Điểm nổi bật của chương trình đào tạo ngành là được xây dựng theo hướng sát\\n\\nvới thực tế và mang tính ứng dụng cao. Các học phần được thiết kế theo chuẩn\\n\\nquốc tế và đi từ cấp độ kiến thức nền cơ bản đến cấp độ sinh viên tự mình phân\\n\\ntích, thiết kế và đề xuất giải pháp phát triển mạng máy tính, đáp ứng nhu cầu\\n\\ncủa một cá nhân hoặc tổ chức. Nhà trường đã chủ động triển khai các chương trình hợp tác, liên kết đào tạo\\n\\nvới các công ty công nghệ thông tin lớn nhằm hỗ trợ sinh viên về chuyên môn,\\n\\ncũng như tiếp nhận sinh viên thực tập và học tập thực tế tại các công ty, doanh\\n\\nnghiệp. Sinh viên tốt nghiệp ngành Mạng máy tính và truyền thông dữ liệu được\\n\\nđào tạo nắm vững lý thuyết chuyên môn và có khả năng quản lý và vận hành những\\n\\ncông nghệ mạng phổ biến như thư tín điện tử, truyền tải tập tin, truyền thông\\n\\nthông tin, hay những công nghệ tiên tiến như điện toán đám mây, tính toán lưới,\\n\\ntính toán di động, xây dựng và vận hành trung tâm dữ liệu, an toàn và bảo mật\\n\\nthông tin, …\\n\\n**Thông tin cần biết** Bằng cấp Cử nhân\\n\\n Thời gian đào tạo Toàn thời gian: 4 năm\\n\\n Chương trình đào tạo [Xem thông tin chi tiết về chương trình đào\\n\\ntạo](https://cktt-cdr.tdtu.edu.vn/chuongtrinhdaotao?type=tuyensinh&hedaotao=0)\\n\\n Chuẩn đầu ra [Xem thông tin chi tiết về chuẩn đầu\\n\\nra](https://cktt-cdr.tdtu.edu.vn/chuandaura?type=tuyensinh&hedaotao=0)\\n\\n Phương thức xét tuyển riêng Tổ hợp: Toán\\\\*2, Anh, Lý KQ ĐGNL\\xa0của ĐHQG TP. HCM Ưu tiên xét tuyển theo TDTU\\n\\n Xét tuyển theo điểm thi THPT Tổ hợp: A00; A01; D01 Điểm trúng tuyển 2023 (thang 40):  **32.1**\\n\\n Khai giảng Học phí Khoảng 31 đến 32 triệu đồng/năm\\n\\n## Cựu sinh viên nói gì về ngành Mạng máy tính và truyền thông dữ liệu\\n\\n![](https://admission.tdtu.edu.vn) Đang cập nhật ...\\n\\n## Các ngành học liên quan\\n\\n[Khoa học máy tính](../../../../dai-hoc/nganh-hoc/khoa-hoc-may-tinh) \\n\\n[Kỹ thuật phần mềm](../../../../dai-hoc/nganh-hoc/ky-thuat-phan-mem) \\n\\n[Toán ứng dụng](../../../../dai-hoc/nganh-hoc/toan-ung-dung) \\n\\n## Làm gì tiếp theo?\\n\\n[Đăng ký xét tuyển](https://xettuyen.tdtu.edu.vn) \\n\\n[Đặt câu hỏi](../../../../) \\n\\nTải cẩm nang tuyển sinh\\n\\n[Xem thông báo tuyển sinh](../../../../dai-hoc/tuyen-sinh/phuong-thuc-2024) \\n\\n[Cơ sở vật chất TDTU](../../../../gioi-thieu/co-so-vat-chat) \\n\\n[Xem thông tin về Khoa](https://it.tdtu.edu.vn/)', metadata={'id': 'c95e5cc7-25ab-40a9-851e-9f58789dc4df'})]"
      ]
     },
     "execution_count": 6,
     "metadata": {},
     "output_type": "execute_result"
    }
   ],
   "source": [
    "resp"
   ]
  },
  {
   "cell_type": "code",
   "execution_count": 10,
   "metadata": {},
   "outputs": [],
   "source": [
    "ques = \"Ngành kỹ thuật phần mềm\"\n",
    "resp = rag.ensemble_retriever.get_relevant_documents(ques)\n"
   ]
  },
  {
   "cell_type": "code",
   "execution_count": 12,
   "metadata": {},
   "outputs": [
    {
     "data": {
      "text/plain": [
       "Document(page_content='Định hướng phát triển \\n * Tiếp tục mở rộng hợp tác với các đại học TOP 500 của thế giới; tạo nhiều cơ hội học tập kinh nghiệm quản lý hiện đại, tiếp cận nền học thuật tiên tiến và phương thức giáo dục tối ưu; bảo đảm chất lượng đạt chuẩn quốc tế. Chương trình giáo dục và văn bằng của TDTU được kiểm định và công nhận bởi các Tổ chức quốc tế.', metadata={'id': '38f5d21a-4fdb-4ceb-81cd-4bc968a10ddb'})"
      ]
     },
     "execution_count": 12,
     "metadata": {},
     "output_type": "execute_result"
    }
   ],
   "source": [
    "resp[0]"
   ]
  }
 ],
 "metadata": {
  "kernelspec": {
   "display_name": "Python 3 (ipykernel)",
   "language": "python",
   "name": "python3"
  },
  "language_info": {
   "codemirror_mode": {
    "name": "ipython",
    "version": 3
   },
   "file_extension": ".py",
   "mimetype": "text/x-python",
   "name": "python",
   "nbconvert_exporter": "python",
   "pygments_lexer": "ipython3",
   "version": "3.9.18"
  }
 },
 "nbformat": 4,
 "nbformat_minor": 4
}
