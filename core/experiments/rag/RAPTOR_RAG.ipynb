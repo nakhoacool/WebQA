{
 "cells": [
  {
   "cell_type": "markdown",
   "metadata": {},
   "source": [
    "# Build RAPTOR RAG\n",
    "\n",
    "*_Algorithm_*\n",
    "- Input: array of strings\n",
    "- Step 1: split each string into contiguous chunks with len <= 100\n",
    "- Step 2: group chunks into clusters\n",
    "- step 3: summarize the clusters\n",
    "\n",
    "Ref: https://github.com/langchain-ai/langchain/blob/master/cookbook/RAPTOR.ipynb"
   ]
  },
  {
   "cell_type": "markdown",
   "metadata": {},
   "source": [
    "## Lessons\n",
    "- split the orginal text into chunks\n",
    "- embed question into document"
   ]
  },
  {
   "cell_type": "code",
   "execution_count": 1,
   "metadata": {},
   "outputs": [],
   "source": [
    "import sys\n",
    "sys.path.append(\"../..\")\n",
    "from src.utils.text_utils import create_splitter\n",
    "\n",
    "splitter = create_splitter(chunk_size=200, overlap=0, separators=[\".\", \"\\n\"])"
   ]
  },
  {
   "cell_type": "code",
   "execution_count": 15,
   "metadata": {},
   "outputs": [
    {
     "name": "stdout",
     "output_type": "stream",
     "text": [
      "Help on method create_documents in module langchain.text_splitter:\n",
      "\n",
      "create_documents(texts: 'List[str]', metadatas: 'Optional[List[dict]]' = None) -> 'List[Document]' method of langchain.text_splitter.RecursiveCharacterTextSplitter instance\n",
      "    Create documents from a list of texts.\n",
      "\n"
     ]
    }
   ],
   "source": [
    "help(splitter.create_documents)"
   ]
  },
  {
   "cell_type": "markdown",
   "metadata": {},
   "source": [
    "## Load data"
   ]
  },
  {
   "cell_type": "code",
   "execution_count": 2,
   "metadata": {},
   "outputs": [
    {
     "data": {
      "text/plain": [
       "Dataset({\n",
       "    features: ['content', 'url', 'doc_id', 'shards', 'splits', 'split', 'propositions', 'proposition_list'],\n",
       "    num_rows: 20\n",
       "})"
      ]
     },
     "execution_count": 2,
     "metadata": {},
     "output_type": "execute_result"
    }
   ],
   "source": [
    "from datasets import load_dataset\n",
    "REPO = 'BroDeadlines/TEST.edu_tdt_proposition_data'\n",
    "SPLIT = 'TEST.basic_index_TDT_clean'\n",
    "repo_data = load_dataset(REPO, split=SPLIT)\n",
    "repo_data"
   ]
  },
  {
   "cell_type": "code",
   "execution_count": 7,
   "metadata": {},
   "outputs": [
    {
     "data": {
      "application/vnd.jupyter.widget-view+json": {
       "model_id": "4c398cdfbce1488ebb0472c688e6ba02",
       "version_major": 2,
       "version_minor": 0
      },
      "text/plain": [
       "Map:   0%|          | 0/20 [00:00<?, ? examples/s]"
      ]
     },
     "metadata": {},
     "output_type": "display_data"
    },
    {
     "data": {
      "text/plain": [
       "99"
      ]
     },
     "execution_count": 7,
     "metadata": {},
     "output_type": "execute_result"
    }
   ],
   "source": [
    "from src.utils.type_utils import create_langchain_doc\n",
    "\n",
    "docs_texts = []\n",
    "\n",
    "def make_langchain_documents(row):\n",
    "    docs = splitter.create_documents([row['content']], [{\"doc_id\": row['doc_id']}])\n",
    "    docs_texts.extend(docs)\n",
    "    return row\n",
    "    \n",
    "d = repo_data.map(make_langchain_documents)\n",
    "len(docs_texts)"
   ]
  },
  {
   "cell_type": "code",
   "execution_count": 8,
   "metadata": {},
   "outputs": [
    {
     "data": {
      "text/plain": [
       "True"
      ]
     },
     "execution_count": 8,
     "metadata": {},
     "output_type": "execute_result"
    }
   ],
   "source": [
    "docs_texts[0].metadata['doc_id'] == docs_texts[1].metadata['doc_id']"
   ]
  },
  {
   "cell_type": "code",
   "execution_count": 9,
   "metadata": {},
   "outputs": [
    {
     "data": {
      "text/plain": [
       "Document(page_content='. Điểm trúng tuyển  Phương thức xét tuyển theo kết quả học tập THPT (PT1) – Đợt bổ sung (xét theo điểm 6HK): Điểm xét tuyển được thực hiện theo đúng đề án tuyển sinh đại học năm 2022, thang điểm 40 và được làm tròn đến 02 chữ số thập phân (đã bao gồm điểm ưu tiên khu vực, đối tượng, hệ số trường THPT, điểm ưu tiên thành tích học sinh giỏi).  Phương thức xét tuyển theo điểm thi THPT năm 2022 (PT2) : Điểm xét tuyển được thực hiện theo đúng đề án tuyển sinh đại học năm 2022, là tổng điểm của 3 môn theo tổ hợp (có nhân hệ số môn theo tổ hợp, ngành xét tuyển theo thang điểm 40), cộng với điểm ưu tiên khu vực, đối tượng theo thang điểm 40 (nếu có), được làm tròn đến 2 chữ số thập phân theo quy định của Bộ GD&ĐT', metadata={'doc_id': 'ebe883e0-13cc-11ef-b548-0242ac1c000c'})"
      ]
     },
     "execution_count": 9,
     "metadata": {},
     "output_type": "execute_result"
    }
   ],
   "source": [
    "docs_texts[1]"
   ]
  },
  {
   "cell_type": "markdown",
   "metadata": {},
   "source": [
    "## Build RAPTOR"
   ]
  },
  {
   "cell_type": "code",
   "execution_count": 2,
   "metadata": {},
   "outputs": [
    {
     "ename": "NameError",
     "evalue": "name 'docs_texts' is not defined",
     "output_type": "error",
     "traceback": [
      "\u001b[0;31m---------------------------------------------------------------------------\u001b[0m",
      "\u001b[0;31mNameError\u001b[0m                                 Traceback (most recent call last)",
      "Cell \u001b[0;32mIn[2], line 3\u001b[0m\n\u001b[1;32m      1\u001b[0m \u001b[38;5;28;01mimport\u001b[39;00m \u001b[38;5;21;01mrandom\u001b[39;00m\n\u001b[0;32m----> 3\u001b[0m rand_docs \u001b[38;5;241m=\u001b[39m random\u001b[38;5;241m.\u001b[39msample(\u001b[43mdocs_texts\u001b[49m, \u001b[38;5;241m20\u001b[39m)\n\u001b[1;32m      4\u001b[0m \u001b[38;5;28mlen\u001b[39m(rand_docs)\n",
      "\u001b[0;31mNameError\u001b[0m: name 'docs_texts' is not defined"
     ]
    }
   ],
   "source": [
    "import random\n",
    "\n",
    "rand_docs = random.sample(docs_texts, 20)\n",
    "len(rand_docs)"
   ]
  },
  {
   "cell_type": "code",
   "execution_count": 11,
   "metadata": {},
   "outputs": [],
   "source": [
    "from src.rag.raptor import RAPTOR\n",
    "from src.service.provider import ProviderService\n",
    "provider = ProviderService()\n",
    "raptor = RAPTOR(provider)\n",
    "\n",
    "vec_idx = \"vec-raptor-basic_index_tdt_clean\"\n",
    "text_idx = \"text-raptor-basic_index_tdt_clean\"\n",
    "\n",
    "es = provider.get_elasticsearch_store(vec_idx)\n",
    "bm = provider.get_elasticsearch_bm25(text_idx)"
   ]
  },
  {
   "cell_type": "code",
   "execution_count": 12,
   "metadata": {},
   "outputs": [
    {
     "name": "stdout",
     "output_type": "stream",
     "text": [
      "--Generated 1 clusters--\n"
     ]
    }
   ],
   "source": [
    "leaf_ids = [d.metadata['doc_id'] for d in rand_docs]\n",
    "leaf_texts = [d.page_content for d in rand_docs]\n",
    "results = raptor.recursive_embed_cluster_summarize(leaf_texts, leaf_ids, level=1, n_levels=3)"
   ]
  },
  {
   "cell_type": "code",
   "execution_count": 16,
   "metadata": {},
   "outputs": [
    {
     "data": {
      "text/plain": [
       "(                                                text  \\\n",
       " 0  .vn Đại học  Phương thức tuyển sinh 2024  Quy ...   \n",
       " 1  .  Các kỹ năng sáng tác, thiết kế trong lĩnh v...   \n",
       " 2  .  Các hồ sơ đủ điều kiện sẽ được Hội đồng tuy...   \n",
       " 3  .vn Đại học  Phương thức tuyển sinh 2024  Quy ...   \n",
       " 4  . THỜI GIAN THÔNG BÁO KẾT QUẢ XÉT TUYỂN VÀ XÁC...   \n",
       " 5  .vn  Tư vấn liên kết đào tạo quốc tế:  Hotline...   \n",
       " 6  Theo quy định hiện tại nếu sinh viên đã được g...   \n",
       " 7  .  Với cách tiếp cận và xây dựng chương trình ...   \n",
       " 8  .vn Đại học  Phương thức tuyển sinh 2024  Quy ...   \n",
       " 9  .  2015: FCU lọt vào danh sách các trường đứng...   \n",
       " \n",
       "                                                 embd cluster  \\\n",
       " 0  [0.027457751, 0.0007100709, -0.02268081, -0.01...     [0]   \n",
       " 1  [0.05544808, -0.018173132, -0.025689853, -0.02...     [0]   \n",
       " 2  [0.018899338, -0.013088818, -0.06511452, -0.02...     [0]   \n",
       " 3  [0.027457751, 0.0007100709, -0.02268081, -0.01...     [0]   \n",
       " 4  [0.023355095, -0.013827138, -0.03150953, -0.02...     [0]   \n",
       " 5  [0.02027384, -0.003945768, -0.031104557, -0.02...     [0]   \n",
       " 6  [0.015671903, -0.014704511, -0.051873207, -0.0...     [0]   \n",
       " 7  [0.025035096, -0.024194429, -0.04007154, -0.03...     [0]   \n",
       " 8  [0.027457751, 0.0007100709, -0.02268081, -0.01...     [0]   \n",
       " 9  [0.036705103, -0.0057765595, -0.028469881, -0....     [0]   \n",
       " \n",
       "                                 doc_ids  \n",
       " 0  ebe4ec8a-13cc-11ef-b548-0242ac1c000c  \n",
       " 1  ebe64c7e-13cc-11ef-b548-0242ac1c000c  \n",
       " 2  ebe88ade-13cc-11ef-b548-0242ac1c000c  \n",
       " 3  ebe5b412-13cc-11ef-b548-0242ac1c000c  \n",
       " 4  ebe88ade-13cc-11ef-b548-0242ac1c000c  \n",
       " 5  ebe535dc-13cc-11ef-b548-0242ac1c000c  \n",
       " 6  573ca185-1b6d-11ef-a755-d38426455a06  \n",
       " 7  ebe7534e-13cc-11ef-b548-0242ac1c000c  \n",
       " 8  ebe64c7e-13cc-11ef-b548-0242ac1c000c  \n",
       " 9  ebe4ec8a-13cc-11ef-b548-0242ac1c000c  ,\n",
       "                                            summaries  level  cluster  \\\n",
       " 0  **Trường Đại học Tôn Đức Thắng**\\n\\n**Phương t...      1        0   \n",
       " \n",
       "                                              doc_ids  \n",
       " 0  ebe4ec8a-13cc-11ef-b548-0242ac1c000c;ebe64c7e-...  )"
      ]
     },
     "execution_count": 16,
     "metadata": {},
     "output_type": "execute_result"
    }
   ],
   "source": [
    "results[1]"
   ]
  },
  {
   "cell_type": "code",
   "execution_count": 14,
   "metadata": {},
   "outputs": [],
   "source": [
    "# Initialize all_texts with leaf_texts\n",
    "all_texts = leaf_texts.copy()\n",
    "\n",
    "# Iterate through the results to extract summaries from each level and add them to all_texts\n",
    "for level in sorted(results.keys()):\n",
    "    # Extract summaries from the current level's DataFrame\n",
    "    summaries = results[level][1][\"summaries\"].tolist()\n",
    "    # Extend all_texts with the summaries from the current level\n",
    "    all_texts.extend(summaries)\n",
    "\n"
   ]
  },
  {
   "cell_type": "code",
   "execution_count": 15,
   "metadata": {},
   "outputs": [
    {
     "data": {
      "text/plain": [
       "['a2ff63ad-44a5-4a13-b7ed-5a93b5dd3a68',\n",
       " '6f6ffe8d-63f1-40d4-a625-5a9d329d65dc',\n",
       " '93895eab-6982-4acc-91e2-bb964de17b81',\n",
       " '93c359bd-d3c5-43f4-a27e-7d9107ffadf3',\n",
       " 'e76036b0-75d6-4671-b868-ccc3c6773ca4',\n",
       " '80c63860-5900-47b4-8c32-ea972a5729d0',\n",
       " '233eaacf-e6c3-40c7-ba43-ef962747f27e',\n",
       " '4ce0cd93-3af7-47c5-b5d0-f7ad06a097e0',\n",
       " '59eac8bf-c805-4e2c-9390-08f47a09e8bf',\n",
       " '07a6194d-6010-4501-b985-e351329d79e4',\n",
       " '3bc79d4f-dcfd-4abf-b953-89529cb96c54',\n",
       " 'dc255e0b-91e5-4675-b6e9-55ef880ad38e',\n",
       " 'e0b8e576-6411-4b1b-ae22-0958ffa95e34',\n",
       " 'd6e741a5-c2e4-4913-a132-dc960abd5672',\n",
       " '9b9e278e-0af9-4fba-a768-539dbe065f86',\n",
       " 'ef461593-705d-47fa-afc0-b4e68ff7fec6',\n",
       " 'a906fb31-5177-4c9b-a1a9-aaeb5dc4168d',\n",
       " '98936e67-45e3-4c3f-8b95-3c8c16af0d35',\n",
       " 'f8333c91-8270-4a1d-a7bf-8c1bfe1024aa',\n",
       " 'c90d52e6-c83a-45dc-8ebe-289787d114ef',\n",
       " 'da25f970-f1da-4b05-b86b-a32537f4026a',\n",
       " '77faafa5-445e-47a7-8ce1-656218ca4ab9',\n",
       " '0d8d7b8d-e4f9-40eb-b175-dc108f03e31f',\n",
       " '7c4e3d3b-5b73-42ea-b404-9d411a403958',\n",
       " 'd2e83ec3-42e4-4ba8-ac4f-b526030f714e']"
      ]
     },
     "execution_count": 15,
     "metadata": {},
     "output_type": "execute_result"
    }
   ],
   "source": [
    "es.add_texts(all_texts)"
   ]
  },
  {
   "cell_type": "code",
   "execution_count": 18,
   "metadata": {},
   "outputs": [
    {
     "data": {
      "text/plain": [
       "['920e5b64-53de-4b83-87c5-380e29d4317e',\n",
       " 'b623f279-f765-4d6f-ac43-6ec429f4ca57',\n",
       " 'd6e90354-7889-4246-a066-4ab13ebe920b',\n",
       " '8ea50352-2a13-4c5e-8cc8-2a2d3ff703a1',\n",
       " '9c56c2ff-ba30-464b-ba11-e6905649a2e3',\n",
       " 'b15ecb6f-de3d-4957-b0cc-a9065ab1c853',\n",
       " '1cf39952-668d-49e6-95fc-39447b921a95',\n",
       " '84d30c46-1506-4302-bc88-0a268fa9f42f',\n",
       " '29ff4d79-20d5-45f7-8332-0e8d25b31bb8',\n",
       " '33524bff-27d0-416b-9362-35fe8fc96881',\n",
       " '7001c763-e340-4284-a003-fe34163a65f1',\n",
       " '44436ffb-8e4e-4551-94a5-bdab65b56d60',\n",
       " '925b6ce4-e6be-4c97-a313-9d59a1776093',\n",
       " '2248f9de-e5c0-4aa1-ad1d-d2a9e3c34ebb',\n",
       " 'f1100b56-f273-4d3b-8ae0-89addeffa4e8',\n",
       " 'e7922445-fc58-45e3-89ea-2d03e5e82812',\n",
       " 'dc020d32-40b1-4626-98b2-4c620d8ef0dc',\n",
       " 'dff9294f-91c0-47aa-8af5-21195d766604',\n",
       " '7c382646-f4ba-486f-8c38-bea42fd263b8',\n",
       " '84d6e64e-96a8-4152-8103-4c4ed932a4be',\n",
       " '250b37f9-c81f-416a-93dc-38fd25b5eabf',\n",
       " '3f83f642-7814-451e-9c83-54b6792fda5f',\n",
       " '203aa2a9-2042-4a18-8ef7-c5c7ef95ccf6',\n",
       " '6ed59172-cfc3-478e-9bca-4f1c7997ab80',\n",
       " '227a255d-5643-42d1-bbd6-e171c53eee98']"
      ]
     },
     "execution_count": 18,
     "metadata": {},
     "output_type": "execute_result"
    }
   ],
   "source": [
    "bm.add_texts(all_texts, metadatas={})"
   ]
  },
  {
   "cell_type": "code",
   "execution_count": 5,
   "metadata": {},
   "outputs": [],
   "source": [
    "from src.rag.hyde_rag import HydeRAG, HydeHybridSearchRAG\n",
    "from src.utils.config_utils import get_gemini_hyde_config\n",
    "\n",
    "# rag = HydeRAG(provider=provider, index=\"test-basic_test_tdt_dataset\")\n",
    "config = get_gemini_hyde_config()\n",
    "config.vector_index = vec_idx\n",
    "config.text_index = text_idx\n",
    "\n",
    "# config.vector_index = \"vec-sentence-propositon_medium_edu_tdt\"\n",
    "# config.text_index = 'text-sentence-propositon_medium_edu_tdt'\n",
    "\n",
    "# rag = HydeRAG(provider=provider, index=config.vector_index)\n",
    "rag = HydeHybridSearchRAG(provider=provider,config=config, k=4)\n",
    "\n"
   ]
  },
  {
   "cell_type": "code",
   "execution_count": 6,
   "metadata": {},
   "outputs": [],
   "source": [
    "from langchain import hub\n",
    "from langchain_core.runnables import RunnablePassthrough\n",
    "from langchain_core.output_parsers import StrOutputParser\n",
    "retriever = rag.ensemble_retriever\n",
    "model = provider.get_simple_gemini_pro()\n",
    "# Prompt\n",
    "prompt = hub.pull(\"rlm/rag-prompt\")\n",
    "\n",
    "\n",
    "# Post-processing\n",
    "def format_docs(docs):\n",
    "    return \"\\n\\n\".join(doc.page_content for doc in docs)\n",
    "\n",
    "\n",
    "# Chain\n",
    "rag_chain = (\n",
    "    {\"context\": retriever | format_docs, \"question\": RunnablePassthrough()}\n",
    "    | prompt\n",
    "    | model\n",
    "    | StrOutputParser()\n",
    ")\n",
    "\n",
    "# Question\n",
    "# rag_chain.invoke(\"How to define a RAG chain? Give me a specific code example.\")"
   ]
  },
  {
   "cell_type": "code",
   "execution_count": 7,
   "metadata": {},
   "outputs": [],
   "source": [
    "provider.config.enable_tracing(\"CODEBOT\")"
   ]
  },
  {
   "cell_type": "code",
   "execution_count": 10,
   "metadata": {},
   "outputs": [
    {
     "data": {
      "text/plain": [
       "'Tôi không tìm thấy thông tin về mối liên hệ giữa các lỗi vi phạm của sinh viên ở ký túc xá với kết quả học tập rèn luyện của họ trong tài liệu được cung cấp.'"
      ]
     },
     "execution_count": 10,
     "metadata": {},
     "output_type": "execute_result"
    }
   ],
   "source": [
    "# Question\n",
    "\n",
    "# ques = \"Lệ phí tập sự nghề nghiệp,ôn và thi tốt nghiệp,khóa luận tính như thế nào\"\n",
    "ques = \"Sinh viên muốn làm giấy xác nhận để đi xe buýt thì phải làm sao\"\n",
    "ques = \"Sinh viên thi TOEIC/MOS do IIG tổ chức tại trường Đại học Tôn Đức Thắng nhưng CMND bị mờ, ép dẻo, ép lụa, ép lại, bong tróc mép để hở phần giấy bên trong thì làm thế nào\"\n",
    "ques = \"Các lỗi vi phạm khi Sinh viên ở ký túc xá có liên quan hay ảnh hưởng gì với kết quả học tập rèn luyện gì trường học hay không\"\n",
    "answ = rag_chain.invoke(ques)\n",
    "\n",
    "answ"
   ]
  }
 ],
 "metadata": {
  "kernelspec": {
   "display_name": "Python 3 (ipykernel)",
   "language": "python",
   "name": "python3"
  },
  "language_info": {
   "codemirror_mode": {
    "name": "ipython",
    "version": 3
   },
   "file_extension": ".py",
   "mimetype": "text/x-python",
   "name": "python",
   "nbconvert_exporter": "python",
   "pygments_lexer": "ipython3",
   "version": "3.9.18"
  }
 },
 "nbformat": 4,
 "nbformat_minor": 4
}
