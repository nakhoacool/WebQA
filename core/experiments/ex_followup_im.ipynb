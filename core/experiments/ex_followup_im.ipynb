{
 "cells": [
  {
   "cell_type": "markdown",
   "metadata": {},
   "source": [
    "# Follow up answering RAG"
   ]
  },
  {
   "cell_type": "code",
   "execution_count": 1,
   "metadata": {},
   "outputs": [
    {
     "name": "stderr",
     "output_type": "stream",
     "text": [
      "/home/h4438/miniconda3/envs/uni/lib/python3.9/site-packages/tqdm/auto.py:21: TqdmWarning: IProgress not found. Please update jupyter and ipywidgets. See https://ipywidgets.readthedocs.io/en/stable/user_install.html\n",
      "  from .autonotebook import tqdm as notebook_tqdm\n"
     ]
    }
   ],
   "source": [
    "from langchain_google_genai.chat_models import ChatGoogleGenerativeAI\n",
    "from langsmith.run_helpers import traceable\n",
    "from langchain_core.prompts import ChatPromptTemplate, MessagesPlaceholder\n",
    "from langchain_core.runnables import RunnableLambda, RunnablePassthrough\n",
    "from langchain.memory import ConversationBufferMemory\n",
    "from operator import itemgetter\n",
    "\n",
    "import sys\n",
    "sys.path.append(\"../\")\n",
    "from src.config import Configuration\n",
    "\n",
    "\n",
    "class FollowUpChain:\n",
    "    def __init__(self, config: Configuration, doc_content: str) -> None:\n",
    "        # chat model\n",
    "        self.chat_model = ChatGoogleGenerativeAI(\n",
    "            model=\"gemini-pro\",\n",
    "            temperature=0,\n",
    "            convert_system_message_to_human=True,\n",
    "            google_api_key=config.load_gemini_token()\n",
    "        )\n",
    "        self.memory = ConversationBufferMemory(return_messages=True)\n",
    "        self.chain = None\n",
    "        self.doc = doc_content\n",
    "        self._build_chain()\n",
    "        return\n",
    "\n",
    "    def _build_chain(self, reset_memory: False):\n",
    "        if self.chain != None:\n",
    "            del self.chain\n",
    "        system_msg = \"You are a helpful admission assitant for Ton Duc Thang university.\\n\"\n",
    "        system_msg += 'Give you the following context to answer my questions. Output \"None\" if you cannot answer:\\n'\n",
    "        system_msg += f'```\\n{self.doc}\\n```\\n' \n",
    "        self.prompt = ChatPromptTemplate.from_messages([\n",
    "            (\"system\", system_msg),\n",
    "            MessagesPlaceholder(variable_name=\"history\"),\n",
    "            (\"human\", \"{question}\")])\n",
    "        if reset_memory:\n",
    "            self.memory = ConversationBufferMemory(return_messages=True)\n",
    "\n",
    "        self.chain = RunnablePassthrough.aschain = (\n",
    "            {\n",
    "                \"doc_content\": itemgetter(\"doc_content\"),\n",
    "                \"question\": itemgetter(\"question\"),\n",
    "            }\n",
    "            |RunnablePassthrough.assign(\n",
    "                history=RunnableLambda(self.memory.load_memory_variables) | itemgetter(\"history\"),\n",
    "            )\n",
    "            | self.prompt\n",
    "            | self.chat_model\n",
    "        )\n",
    "        return\n",
    "\n",
    "    def set_doc(self, doc_content: str):\n",
    "        self.doc = doc_content\n",
    "        self._build_chain(reset_memory=False)\n",
    "        return \n",
    "\n",
    "    @traceable(tags=[\"followup\"])\n",
    "    def answer(self, question: str) -> str:\n",
    "        if self.doc == None:\n",
    "            return 404\n",
    "        inputs = {\"question\": question, \"doc_content\": self.doc}\n",
    "        response = self.chain.invoke(inputs)\n",
    "        self.memory.save_context(inputs=inputs, outputs={\"output\": response.content})\n",
    "        return response\n",
    "\n"
   ]
  },
  {
   "cell_type": "markdown",
   "metadata": {},
   "source": [
    "# Test"
   ]
  },
  {
   "cell_type": "code",
   "execution_count": 2,
   "metadata": {},
   "outputs": [
    {
     "name": "stdout",
     "output_type": "stream",
     "text": [
      "From (44, 4) to 44\n",
      "Kỹ thuật hoá học là ngành học\n",
      "Công nghệ sinh học là ngành ư\n"
     ]
    }
   ],
   "source": [
    "from src.prepare.data_load import DocDataLoader\n",
    "from src.chain.followup import LocalFollowUpChain\n",
    "doc_loader = DocDataLoader()\n",
    "config = Configuration()\n",
    "config.enable_tracing(project=\"LEARN\")\n",
    "\n",
    "docs = doc_loader.load_major_docs_full()\n",
    "d1 = docs[15]\n",
    "d2 = docs[6]\n",
    "print(d1.page_content[:30])\n",
    "print(d2.page_content[:30])"
   ]
  },
  {
   "cell_type": "code",
   "execution_count": 3,
   "metadata": {},
   "outputs": [],
   "source": [
    "config.enable_tracing(project=\"LEARN\")\n",
    "followup = LocalFollowUpChain(config=Configuration(), doc_content=d1.page_content)"
   ]
  },
  {
   "cell_type": "code",
   "execution_count": 4,
   "metadata": {},
   "outputs": [
    {
     "name": "stderr",
     "output_type": "stream",
     "text": [
      " followup.log - ERROR - InvokeChainError\n",
      "Traceback (most recent call last):\n",
      "  File \"/home/h4438/Desktop/graduate/WebQA/core/experiments/../src/chain/followup.py\", line 74, in answer\n",
      "    response = self.chain.invoke(inputs)\n",
      "  File \"/home/h4438/miniconda3/envs/uni/lib/python3.9/site-packages/langchain_core/runnables/base.py\", line 2053, in invoke\n",
      "    input = step.invoke(\n",
      "  File \"/home/h4438/miniconda3/envs/uni/lib/python3.9/site-packages/langchain_core/runnables/base.py\", line 2692, in invoke\n",
      "    output = {key: future.result() for key, future in zip(steps, futures)}\n",
      "  File \"/home/h4438/miniconda3/envs/uni/lib/python3.9/site-packages/langchain_core/runnables/base.py\", line 2692, in <dictcomp>\n",
      "    output = {key: future.result() for key, future in zip(steps, futures)}\n",
      "  File \"/home/h4438/miniconda3/envs/uni/lib/python3.9/concurrent/futures/_base.py\", line 446, in result\n",
      "    return self.__get_result()\n",
      "  File \"/home/h4438/miniconda3/envs/uni/lib/python3.9/concurrent/futures/_base.py\", line 391, in __get_result\n",
      "    raise self._exception\n",
      "  File \"/home/h4438/miniconda3/envs/uni/lib/python3.9/concurrent/futures/thread.py\", line 58, in run\n",
      "    result = self.fn(*self.args, **self.kwargs)\n",
      "  File \"/home/h4438/miniconda3/envs/uni/lib/python3.9/site-packages/langchain_core/runnables/base.py\", line 3507, in invoke\n",
      "    return self._call_with_config(\n",
      "  File \"/home/h4438/miniconda3/envs/uni/lib/python3.9/site-packages/langchain_core/runnables/base.py\", line 1246, in _call_with_config\n",
      "    context.run(\n",
      "  File \"/home/h4438/miniconda3/envs/uni/lib/python3.9/site-packages/langchain_core/runnables/config.py\", line 326, in call_func_with_variable_args\n",
      "    return func(input, **kwargs)  # type: ignore[call-arg]\n",
      "  File \"/home/h4438/miniconda3/envs/uni/lib/python3.9/site-packages/langchain_core/runnables/base.py\", line 3383, in _invoke\n",
      "    output = call_func_with_variable_args(\n",
      "  File \"/home/h4438/miniconda3/envs/uni/lib/python3.9/site-packages/langchain_core/runnables/config.py\", line 326, in call_func_with_variable_args\n",
      "    return func(input, **kwargs)  # type: ignore[call-arg]\n",
      "KeyError: 'question'\n"
     ]
    },
    {
     "data": {
      "text/plain": [
       "'[Followup] Sorry! something went wrong'"
      ]
     },
     "execution_count": 4,
     "metadata": {},
     "output_type": "execute_result"
    }
   ],
   "source": [
    "q = \"cho em hỏi chuyên ngành này tên là gì?\"\n",
    "a = followup.answer(question=q)\n",
    "a"
   ]
  },
  {
   "cell_type": "code",
   "execution_count": 6,
   "metadata": {},
   "outputs": [
    {
     "data": {
      "text/plain": [
       "{'history': [HumanMessage(content='Ngành học này tên là gì?'),\n",
       "  AIMessage(content='Việt Nam học – Chuyên ngành Du lịch và Quản lý du lịch')]}"
      ]
     },
     "execution_count": 6,
     "metadata": {},
     "output_type": "execute_result"
    }
   ],
   "source": [
    "followup.memory.load_memory_variables({})"
   ]
  },
  {
   "cell_type": "code",
   "execution_count": 7,
   "metadata": {},
   "outputs": [
    {
     "data": {
      "text/plain": [
       "AIMessage(content='Cử nhân Việt Nam học – Chuyên ngành Du lịch và Quản lý du lịch có thể ứng tuyển vào các vị trí như:\\n- Chuyên viên cung cấp dịch vụ du lịch tại các khu du lịch, điểm vui chơi tham quan du lịch\\n- Chuyên gia tư vấn về chiến lược kinh doanh, khai thác, xây dựng và cung cấp sản phẩm du lịch\\n- Chuyên viên thuộc Bộ và Sở văn hóa – Thể thao – Du lịch như Trung tâm bồi dưỡng nghiệp vụ du lịch, Viện nghiên cứu và phát triển du lịch, Quy hoạch du lịch, Trung tâm xúc tiến du lịch\\n- Tự tạo lập doanh nghiệp du lịch mới với quy mô nhỏ hoặc tham gia giảng dạy tại các cơ sở đào tạo về du lịch')"
      ]
     },
     "execution_count": 7,
     "metadata": {},
     "output_type": "execute_result"
    }
   ],
   "source": [
    "q = \"Vậy cử nhân ngành này có thể ứng tuyển vào vị trí nào?\"\n",
    "a = followup.answer(question=q)\n",
    "a"
   ]
  },
  {
   "cell_type": "code",
   "execution_count": 23,
   "metadata": {},
   "outputs": [
    {
     "data": {
      "text/plain": [
       "'Việt Nam học – Chuyên ngành Du lịch và Quản lý du lịch'"
      ]
     },
     "execution_count": 23,
     "metadata": {},
     "output_type": "execute_result"
    }
   ],
   "source": [
    "a.content"
   ]
  },
  {
   "cell_type": "code",
   "execution_count": 8,
   "metadata": {},
   "outputs": [
    {
     "data": {
      "text/plain": [
       "{'history': [HumanMessage(content='Ngành học này tên là gì?'),\n",
       "  AIMessage(content='Việt Nam học – Chuyên ngành Du lịch và Quản lý du lịch'),\n",
       "  HumanMessage(content='Vậy cử nhân ngành này có thể ứng tuyển vào vị trí nào?'),\n",
       "  AIMessage(content='Cử nhân Việt Nam học – Chuyên ngành Du lịch và Quản lý du lịch có thể ứng tuyển vào các vị trí như:\\n- Chuyên viên cung cấp dịch vụ du lịch tại các khu du lịch, điểm vui chơi tham quan du lịch\\n- Chuyên gia tư vấn về chiến lược kinh doanh, khai thác, xây dựng và cung cấp sản phẩm du lịch\\n- Chuyên viên thuộc Bộ và Sở văn hóa – Thể thao – Du lịch như Trung tâm bồi dưỡng nghiệp vụ du lịch, Viện nghiên cứu và phát triển du lịch, Quy hoạch du lịch, Trung tâm xúc tiến du lịch\\n- Tự tạo lập doanh nghiệp du lịch mới với quy mô nhỏ hoặc tham gia giảng dạy tại các cơ sở đào tạo về du lịch')]}"
      ]
     },
     "execution_count": 8,
     "metadata": {},
     "output_type": "execute_result"
    }
   ],
   "source": [
    "followup.memory.load_memory_variables({})"
   ]
  }
 ],
 "metadata": {
  "kernelspec": {
   "display_name": "Python 3 (ipykernel)",
   "language": "python",
   "name": "python3"
  },
  "language_info": {
   "codemirror_mode": {
    "name": "ipython",
    "version": 3
   },
   "file_extension": ".py",
   "mimetype": "text/x-python",
   "name": "python",
   "nbconvert_exporter": "python",
   "pygments_lexer": "ipython3",
   "version": "3.9.18"
  }
 },
 "nbformat": 4,
 "nbformat_minor": 4
}
