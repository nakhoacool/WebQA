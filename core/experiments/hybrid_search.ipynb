{
 "cells": [
  {
   "cell_type": "markdown",
   "metadata": {},
   "source": [
    "# Hybrid Search\n",
    "\n",
    "combine vector, keyword\n",
    "\n",
    "What does it do:\n",
    "- it run search on multiple retrievers parallel\n",
    "- it then use Reciprocal Rank Fusion to sort the document"
   ]
  },
  {
   "cell_type": "code",
   "execution_count": 2,
   "metadata": {},
   "outputs": [
    {
     "name": "stderr",
     "output_type": "stream",
     "text": [
      "/home/h4438/miniconda3/envs/uni/lib/python3.9/site-packages/tqdm/auto.py:21: TqdmWarning: IProgress not found. Please update jupyter and ipywidgets. See https://ipywidgets.readthedocs.io/en/stable/user_install.html\n",
      "  from .autonotebook import tqdm as notebook_tqdm\n"
     ]
    },
    {
     "name": "stdout",
     "output_type": "stream",
     "text": [
      "From (44, 5) to 44\n",
      "From (11, 4) to 11\n"
     ]
    }
   ],
   "source": [
    "import sys\n",
    "sys.path.append(\"../\")\n",
    "\n",
    "from src.service.provider import ProviderService\n",
    "\n",
    "provider = ProviderService()"
   ]
  },
  {
   "cell_type": "code",
   "execution_count": 1,
   "metadata": {},
   "outputs": [],
   "source": [
    "import os\n",
    "os.environ[\"LANGCHAIN_TRACING_V2\"]=\"true\"\n",
    "os.environ[\"LANGCHAIN_ENDPOINT\"]=\"https://api.smith.langchain.com\"\n",
    "os.environ[\"LANGCHAIN_API_KEY\"]=\"ls__bccd1a22537542bab44282ee1316a124\"\n",
    "os.environ[\"LANGCHAIN_PROJECT\"]=\"LEARN\"\n",
    "\n",
    "K = 2 #seach K documents"
   ]
  },
  {
   "cell_type": "markdown",
   "metadata": {},
   "source": [
    "## BM25 retriever"
   ]
  },
  {
   "cell_type": "code",
   "execution_count": 3,
   "metadata": {},
   "outputs": [],
   "source": [
    "from __future__ import annotations\n",
    "\n",
    "from typing import Any, Dict, Iterable, List\n",
    "\n",
    "from langchain_core.documents import Document\n",
    "import uuid\n",
    "from elasticsearch import Elasticsearch\n",
    "\n",
    "from langchain_core.retrievers import BaseRetriever\n",
    "from langchain_core.callbacks import CallbackManagerForRetrieverRun\n",
    "\n",
    "class MyElasticSearchBM25Retriever(BaseRetriever):\n",
    "    \"\"\"`Elasticsearch` retriever that uses `BM25` extended version.\n",
    "        @param client ElasticSearchClient\n",
    "        @param index_name an index\n",
    "    \"\"\"\n",
    "\n",
    "    k: int = 4\n",
    "    \"\"\"k size search\"\"\"\n",
    "\n",
    "    client: Elasticsearch\n",
    "    \"\"\"Elasticsearch client.\"\"\"\n",
    "\n",
    "    index_name: str\n",
    "    \"\"\"Name of the index to use in Elasticsearch.\"\"\"\n",
    "\n",
    "    def add_texts(\n",
    "        self,\n",
    "        texts: Iterable[str],\n",
    "        metadatas: Dict,\n",
    "        refresh_indices: bool = True,\n",
    "    ) -> List[str]:\n",
    "        \"\"\"Run more texts through the embeddings and add to the retriever.\n",
    "\n",
    "        Args:\n",
    "            texts: Iterable of strings to add to the retriever.\n",
    "            refresh_indices: bool to refresh ElasticSearch indices\n",
    "\n",
    "        Returns:\n",
    "            List of ids from adding the texts into the retriever.\n",
    "        \"\"\"\n",
    "        try:\n",
    "            from elasticsearch.helpers import bulk\n",
    "        except ImportError:\n",
    "            raise ValueError(\n",
    "                \"Could not import elasticsearch python package. \"\n",
    "                \"Please install it with `pip install elasticsearch`.\"\n",
    "            )\n",
    "        requests = []\n",
    "        ids = []\n",
    "        for i, text in enumerate(texts):\n",
    "            metadata = metadatas[i] if metadatas else {}\n",
    "            _id = str(uuid.uuid4())\n",
    "            request = {\n",
    "                \"_op_type\": \"index\",\n",
    "                \"_index\": self.index_name,\n",
    "                \"content\": text,\n",
    "                \"metadata\": metadata,\n",
    "                \"_id\": _id,\n",
    "            }\n",
    "            ids.append(_id)\n",
    "            requests.append(request)\n",
    "        bulk(self.client, requests)\n",
    "\n",
    "        if refresh_indices:\n",
    "            self.client.indices.refresh(index=self.index_name)\n",
    "        return ids\n",
    "    \n",
    "    def add_documents(self, documents: List[Document], **kwargs: Any) -> List[str]:\n",
    "        \"\"\"Run more documents through the embeddings and add to the vectorstore.\n",
    "\n",
    "        Args:\n",
    "            documents (List[Document]: Documents to add to the vectorstore.\n",
    "\n",
    "        Returns:\n",
    "            List[str]: List of IDs of the added texts.\n",
    "        \"\"\"\n",
    "        # TODO: Handle the case where the user doesn't provide ids on the Collection\n",
    "        texts = [doc.page_content for doc in documents]\n",
    "        metadatas = [doc.metadata for doc in documents]\n",
    "        return self.add_texts(texts, metadatas, **kwargs)\n",
    "\n",
    "    def get_relevant_documents(\n",
    "        self, query: str, *, run_manager: CallbackManagerForRetrieverRun\n",
    "    ) -> List[Document]:\n",
    "        query_dict = {\"query\": {\"match\": {\"content\": query}}, \"size\": self.k}\n",
    "        response = self.client.search(index=self.index_name, body=query_dict)\n",
    "\n",
    "        def default_doc_builder(hit: Dict) -> Document:\n",
    "            return Document(\n",
    "                page_content=hit[\"_source\"].get(self.query_field, \"\"),\n",
    "                metadata=hit[\"_source\"][\"metadata\"],\n",
    "            )\n",
    "        \n",
    "        doc_builder = default_doc_builder\n",
    "\n",
    "        result_docs = []\n",
    "        for r in response[\"hits\"][\"hits\"]:\n",
    "            d = Document(page_content=r[\"_source\"][\"content\"])\n",
    "            d.metadata.update(r[\"_source\"][\"metadata\"])\n",
    "            result_docs.append(d)\n",
    "        return result_docs\n"
   ]
  },
  {
   "cell_type": "code",
   "execution_count": 4,
   "metadata": {},
   "outputs": [],
   "source": [
    "es = Elasticsearch(\"http://localhost:9200\") # check https://elasticsearch-py.readthedocs.io/en/v8.12.1/\n",
    "\n",
    "b_index = \"text-split-major\"\n",
    "\n",
    "bm25 = MyElasticSearchBM25Retriever(client=es, index_name=b_index)\n",
    "bm25.k = 2"
   ]
  },
  {
   "cell_type": "markdown",
   "metadata": {},
   "source": [
    "## Vector retriever"
   ]
  },
  {
   "cell_type": "code",
   "execution_count": 9,
   "metadata": {},
   "outputs": [],
   "source": [
    "from langchain_community.vectorstores.elasticsearch import ElasticsearchStore\n",
    "\n",
    "embedding = provider.get_gemini_embeddings() # replace with yours\n",
    "\n",
    "v_index = \"labse-major\"\n",
    "\n",
    "elastic_vector_search = ElasticsearchStore(\n",
    "    es_connection=es,\n",
    "    index_name=v_index,\n",
    "    embedding=embedding,\n",
    ")\n",
    "\n",
    "vector_retriever = elastic_vector_search.as_retriever(search_kwargs={\"k\": 2})\n"
   ]
  },
  {
   "cell_type": "markdown",
   "metadata": {},
   "source": [
    "## Hybrid search"
   ]
  },
  {
   "cell_type": "code",
   "execution_count": 10,
   "metadata": {},
   "outputs": [],
   "source": [
    "from langchain.retrievers import EnsembleRetriever\n",
    "\n",
    "ensemble_retriever = EnsembleRetriever(\n",
    "    retrievers=[bm25, vector_retriever],\n",
    "    weights=[0.5, 0.5])\n"
   ]
  },
  {
   "cell_type": "code",
   "execution_count": 12,
   "metadata": {},
   "outputs": [
    {
     "ename": "ConnectionError",
     "evalue": "Connection error caused by: ConnectionError(Connection error caused by: NewConnectionError(<urllib3.connection.HTTPConnection object at 0x7f5147bde6d0>: Failed to establish a new connection: [Errno 111] Connection refused))",
     "output_type": "error",
     "traceback": [
      "\u001b[0;31m---------------------------------------------------------------------------\u001b[0m",
      "\u001b[0;31mConnectionError\u001b[0m                           Traceback (most recent call last)",
      "\u001b[1;32m/home/h4438/Desktop/graduate/WebQA/core/experiments/hybrid_search.ipynb Cell 11\u001b[0m line \u001b[0;36m2\n\u001b[1;32m      <a href='vscode-notebook-cell:/home/h4438/Desktop/graduate/WebQA/core/experiments/hybrid_search.ipynb#X12sZmlsZQ%3D%3D?line=0'>1</a>\u001b[0m q \u001b[39m=\u001b[39m \u001b[39m\"\u001b[39m\u001b[39mphần mềm\u001b[39m\u001b[39m\"\u001b[39m\n\u001b[0;32m----> <a href='vscode-notebook-cell:/home/h4438/Desktop/graduate/WebQA/core/experiments/hybrid_search.ipynb#X12sZmlsZQ%3D%3D?line=1'>2</a>\u001b[0m docs \u001b[39m=\u001b[39m ensemble_retriever\u001b[39m.\u001b[39;49minvoke(\u001b[39minput\u001b[39;49m\u001b[39m=\u001b[39;49mq)\n\u001b[1;32m      <a href='vscode-notebook-cell:/home/h4438/Desktop/graduate/WebQA/core/experiments/hybrid_search.ipynb#X12sZmlsZQ%3D%3D?line=2'>3</a>\u001b[0m docs\n",
      "File \u001b[0;32m~/miniconda3/envs/uni/lib/python3.9/site-packages/langchain/retrievers/ensemble.py:81\u001b[0m, in \u001b[0;36mEnsembleRetriever.invoke\u001b[0;34m(self, input, config, **kwargs)\u001b[0m\n\u001b[1;32m     79\u001b[0m \u001b[39mexcept\u001b[39;00m \u001b[39mException\u001b[39;00m \u001b[39mas\u001b[39;00m e:\n\u001b[1;32m     80\u001b[0m     run_manager\u001b[39m.\u001b[39mon_retriever_error(e)\n\u001b[0;32m---> 81\u001b[0m     \u001b[39mraise\u001b[39;00m e\n\u001b[1;32m     82\u001b[0m \u001b[39melse\u001b[39;00m:\n\u001b[1;32m     83\u001b[0m     run_manager\u001b[39m.\u001b[39mon_retriever_end(\n\u001b[1;32m     84\u001b[0m         result,\n\u001b[1;32m     85\u001b[0m         \u001b[39m*\u001b[39m\u001b[39m*\u001b[39mkwargs,\n\u001b[1;32m     86\u001b[0m     )\n",
      "File \u001b[0;32m~/miniconda3/envs/uni/lib/python3.9/site-packages/langchain/retrievers/ensemble.py:78\u001b[0m, in \u001b[0;36mEnsembleRetriever.invoke\u001b[0;34m(self, input, config, **kwargs)\u001b[0m\n\u001b[1;32m     71\u001b[0m run_manager \u001b[39m=\u001b[39m callback_manager\u001b[39m.\u001b[39mon_retriever_start(\n\u001b[1;32m     72\u001b[0m     dumpd(\u001b[39mself\u001b[39m),\n\u001b[1;32m     73\u001b[0m     \u001b[39minput\u001b[39m,\n\u001b[1;32m     74\u001b[0m     name\u001b[39m=\u001b[39mconfig\u001b[39m.\u001b[39mget(\u001b[39m\"\u001b[39m\u001b[39mrun_name\u001b[39m\u001b[39m\"\u001b[39m),\n\u001b[1;32m     75\u001b[0m     \u001b[39m*\u001b[39m\u001b[39m*\u001b[39mkwargs,\n\u001b[1;32m     76\u001b[0m )\n\u001b[1;32m     77\u001b[0m \u001b[39mtry\u001b[39;00m:\n\u001b[0;32m---> 78\u001b[0m     result \u001b[39m=\u001b[39m \u001b[39mself\u001b[39;49m\u001b[39m.\u001b[39;49mrank_fusion(\u001b[39minput\u001b[39;49m, run_manager\u001b[39m=\u001b[39;49mrun_manager, config\u001b[39m=\u001b[39;49mconfig)\n\u001b[1;32m     79\u001b[0m \u001b[39mexcept\u001b[39;00m \u001b[39mException\u001b[39;00m \u001b[39mas\u001b[39;00m e:\n\u001b[1;32m     80\u001b[0m     run_manager\u001b[39m.\u001b[39mon_retriever_error(e)\n",
      "File \u001b[0;32m~/miniconda3/envs/uni/lib/python3.9/site-packages/langchain/retrievers/ensemble.py:185\u001b[0m, in \u001b[0;36mEnsembleRetriever.rank_fusion\u001b[0;34m(self, query, run_manager, config)\u001b[0m\n\u001b[1;32m    173\u001b[0m \u001b[39m\u001b[39m\u001b[39m\"\"\"\u001b[39;00m\n\u001b[1;32m    174\u001b[0m \u001b[39mRetrieve the results of the retrievers and use rank_fusion_func to get\u001b[39;00m\n\u001b[1;32m    175\u001b[0m \u001b[39mthe final result.\u001b[39;00m\n\u001b[0;32m   (...)\u001b[0m\n\u001b[1;32m    181\u001b[0m \u001b[39m    A list of reranked documents.\u001b[39;00m\n\u001b[1;32m    182\u001b[0m \u001b[39m\"\"\"\u001b[39;00m\n\u001b[1;32m    184\u001b[0m \u001b[39m# Get the results of all retrievers.\u001b[39;00m\n\u001b[0;32m--> 185\u001b[0m retriever_docs \u001b[39m=\u001b[39m [\n\u001b[1;32m    186\u001b[0m     retriever\u001b[39m.\u001b[39minvoke(\n\u001b[1;32m    187\u001b[0m         query,\n\u001b[1;32m    188\u001b[0m         patch_config(\n\u001b[1;32m    189\u001b[0m             config, callbacks\u001b[39m=\u001b[39mrun_manager\u001b[39m.\u001b[39mget_child(tag\u001b[39m=\u001b[39m\u001b[39mf\u001b[39m\u001b[39m\"\u001b[39m\u001b[39mretriever_\u001b[39m\u001b[39m{\u001b[39;00mi\u001b[39m+\u001b[39m\u001b[39m1\u001b[39m\u001b[39m}\u001b[39;00m\u001b[39m\"\u001b[39m)\n\u001b[1;32m    190\u001b[0m         ),\n\u001b[1;32m    191\u001b[0m     )\n\u001b[1;32m    192\u001b[0m     \u001b[39mfor\u001b[39;00m i, retriever \u001b[39min\u001b[39;00m \u001b[39menumerate\u001b[39m(\u001b[39mself\u001b[39m\u001b[39m.\u001b[39mretrievers)\n\u001b[1;32m    193\u001b[0m ]\n\u001b[1;32m    195\u001b[0m \u001b[39m# Enforce that retrieved docs are Documents for each list in retriever_docs\u001b[39;00m\n\u001b[1;32m    196\u001b[0m \u001b[39mfor\u001b[39;00m i \u001b[39min\u001b[39;00m \u001b[39mrange\u001b[39m(\u001b[39mlen\u001b[39m(retriever_docs)):\n",
      "File \u001b[0;32m~/miniconda3/envs/uni/lib/python3.9/site-packages/langchain/retrievers/ensemble.py:186\u001b[0m, in \u001b[0;36m<listcomp>\u001b[0;34m(.0)\u001b[0m\n\u001b[1;32m    173\u001b[0m \u001b[39m\u001b[39m\u001b[39m\"\"\"\u001b[39;00m\n\u001b[1;32m    174\u001b[0m \u001b[39mRetrieve the results of the retrievers and use rank_fusion_func to get\u001b[39;00m\n\u001b[1;32m    175\u001b[0m \u001b[39mthe final result.\u001b[39;00m\n\u001b[0;32m   (...)\u001b[0m\n\u001b[1;32m    181\u001b[0m \u001b[39m    A list of reranked documents.\u001b[39;00m\n\u001b[1;32m    182\u001b[0m \u001b[39m\"\"\"\u001b[39;00m\n\u001b[1;32m    184\u001b[0m \u001b[39m# Get the results of all retrievers.\u001b[39;00m\n\u001b[1;32m    185\u001b[0m retriever_docs \u001b[39m=\u001b[39m [\n\u001b[0;32m--> 186\u001b[0m     retriever\u001b[39m.\u001b[39;49minvoke(\n\u001b[1;32m    187\u001b[0m         query,\n\u001b[1;32m    188\u001b[0m         patch_config(\n\u001b[1;32m    189\u001b[0m             config, callbacks\u001b[39m=\u001b[39;49mrun_manager\u001b[39m.\u001b[39;49mget_child(tag\u001b[39m=\u001b[39;49m\u001b[39mf\u001b[39;49m\u001b[39m\"\u001b[39;49m\u001b[39mretriever_\u001b[39;49m\u001b[39m{\u001b[39;49;00mi\u001b[39m+\u001b[39;49m\u001b[39m1\u001b[39;49m\u001b[39m}\u001b[39;49;00m\u001b[39m\"\u001b[39;49m)\n\u001b[1;32m    190\u001b[0m         ),\n\u001b[1;32m    191\u001b[0m     )\n\u001b[1;32m    192\u001b[0m     \u001b[39mfor\u001b[39;00m i, retriever \u001b[39min\u001b[39;00m \u001b[39menumerate\u001b[39m(\u001b[39mself\u001b[39m\u001b[39m.\u001b[39mretrievers)\n\u001b[1;32m    193\u001b[0m ]\n\u001b[1;32m    195\u001b[0m \u001b[39m# Enforce that retrieved docs are Documents for each list in retriever_docs\u001b[39;00m\n\u001b[1;32m    196\u001b[0m \u001b[39mfor\u001b[39;00m i \u001b[39min\u001b[39;00m \u001b[39mrange\u001b[39m(\u001b[39mlen\u001b[39m(retriever_docs)):\n",
      "File \u001b[0;32m~/miniconda3/envs/uni/lib/python3.9/site-packages/langchain_core/retrievers.py:121\u001b[0m, in \u001b[0;36mBaseRetriever.invoke\u001b[0;34m(self, input, config, **kwargs)\u001b[0m\n\u001b[1;32m    117\u001b[0m \u001b[39mdef\u001b[39;00m \u001b[39minvoke\u001b[39m(\n\u001b[1;32m    118\u001b[0m     \u001b[39mself\u001b[39m, \u001b[39minput\u001b[39m: \u001b[39mstr\u001b[39m, config: Optional[RunnableConfig] \u001b[39m=\u001b[39m \u001b[39mNone\u001b[39;00m, \u001b[39m*\u001b[39m\u001b[39m*\u001b[39mkwargs: Any\n\u001b[1;32m    119\u001b[0m ) \u001b[39m-\u001b[39m\u001b[39m>\u001b[39m List[Document]:\n\u001b[1;32m    120\u001b[0m     config \u001b[39m=\u001b[39m ensure_config(config)\n\u001b[0;32m--> 121\u001b[0m     \u001b[39mreturn\u001b[39;00m \u001b[39mself\u001b[39;49m\u001b[39m.\u001b[39;49mget_relevant_documents(\n\u001b[1;32m    122\u001b[0m         \u001b[39minput\u001b[39;49m,\n\u001b[1;32m    123\u001b[0m         callbacks\u001b[39m=\u001b[39;49mconfig\u001b[39m.\u001b[39;49mget(\u001b[39m\"\u001b[39;49m\u001b[39mcallbacks\u001b[39;49m\u001b[39m\"\u001b[39;49m),\n\u001b[1;32m    124\u001b[0m         tags\u001b[39m=\u001b[39;49mconfig\u001b[39m.\u001b[39;49mget(\u001b[39m\"\u001b[39;49m\u001b[39mtags\u001b[39;49m\u001b[39m\"\u001b[39;49m),\n\u001b[1;32m    125\u001b[0m         metadata\u001b[39m=\u001b[39;49mconfig\u001b[39m.\u001b[39;49mget(\u001b[39m\"\u001b[39;49m\u001b[39mmetadata\u001b[39;49m\u001b[39m\"\u001b[39;49m),\n\u001b[1;32m    126\u001b[0m         run_name\u001b[39m=\u001b[39;49mconfig\u001b[39m.\u001b[39;49mget(\u001b[39m\"\u001b[39;49m\u001b[39mrun_name\u001b[39;49m\u001b[39m\"\u001b[39;49m),\n\u001b[1;32m    127\u001b[0m         \u001b[39m*\u001b[39;49m\u001b[39m*\u001b[39;49mkwargs,\n\u001b[1;32m    128\u001b[0m     )\n",
      "File \u001b[0;32m~/miniconda3/envs/uni/lib/python3.9/site-packages/langchain_core/retrievers.py:224\u001b[0m, in \u001b[0;36mBaseRetriever.get_relevant_documents\u001b[0;34m(self, query, callbacks, tags, metadata, run_name, **kwargs)\u001b[0m\n\u001b[1;32m    222\u001b[0m \u001b[39mexcept\u001b[39;00m \u001b[39mException\u001b[39;00m \u001b[39mas\u001b[39;00m e:\n\u001b[1;32m    223\u001b[0m     run_manager\u001b[39m.\u001b[39mon_retriever_error(e)\n\u001b[0;32m--> 224\u001b[0m     \u001b[39mraise\u001b[39;00m e\n\u001b[1;32m    225\u001b[0m \u001b[39melse\u001b[39;00m:\n\u001b[1;32m    226\u001b[0m     run_manager\u001b[39m.\u001b[39mon_retriever_end(\n\u001b[1;32m    227\u001b[0m         result,\n\u001b[1;32m    228\u001b[0m     )\n",
      "File \u001b[0;32m~/miniconda3/envs/uni/lib/python3.9/site-packages/langchain_core/retrievers.py:217\u001b[0m, in \u001b[0;36mBaseRetriever.get_relevant_documents\u001b[0;34m(self, query, callbacks, tags, metadata, run_name, **kwargs)\u001b[0m\n\u001b[1;32m    215\u001b[0m _kwargs \u001b[39m=\u001b[39m kwargs \u001b[39mif\u001b[39;00m \u001b[39mself\u001b[39m\u001b[39m.\u001b[39m_expects_other_args \u001b[39melse\u001b[39;00m {}\n\u001b[1;32m    216\u001b[0m \u001b[39mif\u001b[39;00m \u001b[39mself\u001b[39m\u001b[39m.\u001b[39m_new_arg_supported:\n\u001b[0;32m--> 217\u001b[0m     result \u001b[39m=\u001b[39m \u001b[39mself\u001b[39;49m\u001b[39m.\u001b[39;49m_get_relevant_documents(\n\u001b[1;32m    218\u001b[0m         query, run_manager\u001b[39m=\u001b[39;49mrun_manager, \u001b[39m*\u001b[39;49m\u001b[39m*\u001b[39;49m_kwargs\n\u001b[1;32m    219\u001b[0m     )\n\u001b[1;32m    220\u001b[0m \u001b[39melse\u001b[39;00m:\n\u001b[1;32m    221\u001b[0m     result \u001b[39m=\u001b[39m \u001b[39mself\u001b[39m\u001b[39m.\u001b[39m_get_relevant_documents(query, \u001b[39m*\u001b[39m\u001b[39m*\u001b[39m_kwargs)\n",
      "\u001b[1;32m/home/h4438/Desktop/graduate/WebQA/core/experiments/hybrid_search.ipynb Cell 11\u001b[0m line \u001b[0;36m8\n\u001b[1;32m     <a href='vscode-notebook-cell:/home/h4438/Desktop/graduate/WebQA/core/experiments/hybrid_search.ipynb#X12sZmlsZQ%3D%3D?line=82'>83</a>\u001b[0m \u001b[39mdef\u001b[39;00m \u001b[39mget_relevant_documents\u001b[39m(\n\u001b[1;32m     <a href='vscode-notebook-cell:/home/h4438/Desktop/graduate/WebQA/core/experiments/hybrid_search.ipynb#X12sZmlsZQ%3D%3D?line=83'>84</a>\u001b[0m     \u001b[39mself\u001b[39m, query: \u001b[39mstr\u001b[39m, \u001b[39m*\u001b[39m, run_manager: CallbackManagerForRetrieverRun\n\u001b[1;32m     <a href='vscode-notebook-cell:/home/h4438/Desktop/graduate/WebQA/core/experiments/hybrid_search.ipynb#X12sZmlsZQ%3D%3D?line=84'>85</a>\u001b[0m ) \u001b[39m-\u001b[39m\u001b[39m>\u001b[39m List[Document]:\n\u001b[1;32m     <a href='vscode-notebook-cell:/home/h4438/Desktop/graduate/WebQA/core/experiments/hybrid_search.ipynb#X12sZmlsZQ%3D%3D?line=85'>86</a>\u001b[0m     query_dict \u001b[39m=\u001b[39m {\u001b[39m\"\u001b[39m\u001b[39mquery\u001b[39m\u001b[39m\"\u001b[39m: {\u001b[39m\"\u001b[39m\u001b[39mmatch\u001b[39m\u001b[39m\"\u001b[39m: {\u001b[39m\"\u001b[39m\u001b[39mcontent\u001b[39m\u001b[39m\"\u001b[39m: query}}, \u001b[39m\"\u001b[39m\u001b[39msize\u001b[39m\u001b[39m\"\u001b[39m: \u001b[39mself\u001b[39m\u001b[39m.\u001b[39mk}\n\u001b[0;32m---> <a href='vscode-notebook-cell:/home/h4438/Desktop/graduate/WebQA/core/experiments/hybrid_search.ipynb#X12sZmlsZQ%3D%3D?line=86'>87</a>\u001b[0m     response \u001b[39m=\u001b[39m \u001b[39mself\u001b[39;49m\u001b[39m.\u001b[39;49mclient\u001b[39m.\u001b[39;49msearch(index\u001b[39m=\u001b[39;49m\u001b[39mself\u001b[39;49m\u001b[39m.\u001b[39;49mindex_name, body\u001b[39m=\u001b[39;49mquery_dict)\n\u001b[1;32m     <a href='vscode-notebook-cell:/home/h4438/Desktop/graduate/WebQA/core/experiments/hybrid_search.ipynb#X12sZmlsZQ%3D%3D?line=88'>89</a>\u001b[0m     \u001b[39mdef\u001b[39;00m \u001b[39mdefault_doc_builder\u001b[39m(hit: Dict) \u001b[39m-\u001b[39m\u001b[39m>\u001b[39m Document:\n\u001b[1;32m     <a href='vscode-notebook-cell:/home/h4438/Desktop/graduate/WebQA/core/experiments/hybrid_search.ipynb#X12sZmlsZQ%3D%3D?line=89'>90</a>\u001b[0m         \u001b[39mreturn\u001b[39;00m Document(\n\u001b[1;32m     <a href='vscode-notebook-cell:/home/h4438/Desktop/graduate/WebQA/core/experiments/hybrid_search.ipynb#X12sZmlsZQ%3D%3D?line=90'>91</a>\u001b[0m             page_content\u001b[39m=\u001b[39mhit[\u001b[39m\"\u001b[39m\u001b[39m_source\u001b[39m\u001b[39m\"\u001b[39m]\u001b[39m.\u001b[39mget(\u001b[39mself\u001b[39m\u001b[39m.\u001b[39mquery_field, \u001b[39m\"\u001b[39m\u001b[39m\"\u001b[39m),\n\u001b[1;32m     <a href='vscode-notebook-cell:/home/h4438/Desktop/graduate/WebQA/core/experiments/hybrid_search.ipynb#X12sZmlsZQ%3D%3D?line=91'>92</a>\u001b[0m             metadata\u001b[39m=\u001b[39mhit[\u001b[39m\"\u001b[39m\u001b[39m_source\u001b[39m\u001b[39m\"\u001b[39m][\u001b[39m\"\u001b[39m\u001b[39mmetadata\u001b[39m\u001b[39m\"\u001b[39m],\n\u001b[1;32m     <a href='vscode-notebook-cell:/home/h4438/Desktop/graduate/WebQA/core/experiments/hybrid_search.ipynb#X12sZmlsZQ%3D%3D?line=92'>93</a>\u001b[0m         )\n",
      "File \u001b[0;32m~/miniconda3/envs/uni/lib/python3.9/site-packages/elasticsearch/_sync/client/utils.py:402\u001b[0m, in \u001b[0;36m_rewrite_parameters.<locals>.wrapper.<locals>.wrapped\u001b[0;34m(*args, **kwargs)\u001b[0m\n\u001b[1;32m    399\u001b[0m         \u001b[39mexcept\u001b[39;00m \u001b[39mKeyError\u001b[39;00m:\n\u001b[1;32m    400\u001b[0m             \u001b[39mpass\u001b[39;00m\n\u001b[0;32m--> 402\u001b[0m \u001b[39mreturn\u001b[39;00m api(\u001b[39m*\u001b[39;49margs, \u001b[39m*\u001b[39;49m\u001b[39m*\u001b[39;49mkwargs)\n",
      "File \u001b[0;32m~/miniconda3/envs/uni/lib/python3.9/site-packages/elasticsearch/_sync/client/__init__.py:3733\u001b[0m, in \u001b[0;36mElasticsearch.search\u001b[0;34m(self, index, aggregations, aggs, allow_no_indices, allow_partial_search_results, analyze_wildcard, analyzer, batched_reduce_size, ccs_minimize_roundtrips, collapse, default_operator, df, docvalue_fields, error_trace, expand_wildcards, explain, ext, fields, filter_path, from_, highlight, human, ignore_throttled, ignore_unavailable, indices_boost, knn, lenient, max_concurrent_shard_requests, min_compatible_shard_node, min_score, pit, post_filter, pre_filter_shard_size, preference, pretty, profile, q, query, rank, request_cache, rescore, rest_total_hits_as_int, routing, runtime_mappings, script_fields, scroll, search_after, search_type, seq_no_primary_term, size, slice, sort, source, source_excludes, source_includes, stats, stored_fields, suggest, suggest_field, suggest_mode, suggest_size, suggest_text, terminate_after, timeout, track_scores, track_total_hits, typed_keys, version)\u001b[0m\n\u001b[1;32m   3731\u001b[0m \u001b[39mif\u001b[39;00m __body \u001b[39mis\u001b[39;00m \u001b[39mnot\u001b[39;00m \u001b[39mNone\u001b[39;00m:\n\u001b[1;32m   3732\u001b[0m     __headers[\u001b[39m\"\u001b[39m\u001b[39mcontent-type\u001b[39m\u001b[39m\"\u001b[39m] \u001b[39m=\u001b[39m \u001b[39m\"\u001b[39m\u001b[39mapplication/json\u001b[39m\u001b[39m\"\u001b[39m\n\u001b[0;32m-> 3733\u001b[0m \u001b[39mreturn\u001b[39;00m \u001b[39mself\u001b[39;49m\u001b[39m.\u001b[39;49mperform_request(  \u001b[39m# type: ignore[return-value]\u001b[39;49;00m\n\u001b[1;32m   3734\u001b[0m     \u001b[39m\"\u001b[39;49m\u001b[39mPOST\u001b[39;49m\u001b[39m\"\u001b[39;49m, __path, params\u001b[39m=\u001b[39;49m__query, headers\u001b[39m=\u001b[39;49m__headers, body\u001b[39m=\u001b[39;49m__body\n\u001b[1;32m   3735\u001b[0m )\n",
      "File \u001b[0;32m~/miniconda3/envs/uni/lib/python3.9/site-packages/elasticsearch/_sync/client/_base.py:285\u001b[0m, in \u001b[0;36mBaseClient.perform_request\u001b[0;34m(self, method, path, params, headers, body)\u001b[0m\n\u001b[1;32m    282\u001b[0m \u001b[39melse\u001b[39;00m:\n\u001b[1;32m    283\u001b[0m     target \u001b[39m=\u001b[39m path\n\u001b[0;32m--> 285\u001b[0m meta, resp_body \u001b[39m=\u001b[39m \u001b[39mself\u001b[39;49m\u001b[39m.\u001b[39;49mtransport\u001b[39m.\u001b[39;49mperform_request(\n\u001b[1;32m    286\u001b[0m     method,\n\u001b[1;32m    287\u001b[0m     target,\n\u001b[1;32m    288\u001b[0m     headers\u001b[39m=\u001b[39;49mrequest_headers,\n\u001b[1;32m    289\u001b[0m     body\u001b[39m=\u001b[39;49mbody,\n\u001b[1;32m    290\u001b[0m     request_timeout\u001b[39m=\u001b[39;49m\u001b[39mself\u001b[39;49m\u001b[39m.\u001b[39;49m_request_timeout,\n\u001b[1;32m    291\u001b[0m     max_retries\u001b[39m=\u001b[39;49m\u001b[39mself\u001b[39;49m\u001b[39m.\u001b[39;49m_max_retries,\n\u001b[1;32m    292\u001b[0m     retry_on_status\u001b[39m=\u001b[39;49m\u001b[39mself\u001b[39;49m\u001b[39m.\u001b[39;49m_retry_on_status,\n\u001b[1;32m    293\u001b[0m     retry_on_timeout\u001b[39m=\u001b[39;49m\u001b[39mself\u001b[39;49m\u001b[39m.\u001b[39;49m_retry_on_timeout,\n\u001b[1;32m    294\u001b[0m     client_meta\u001b[39m=\u001b[39;49m\u001b[39mself\u001b[39;49m\u001b[39m.\u001b[39;49m_client_meta,\n\u001b[1;32m    295\u001b[0m )\n\u001b[1;32m    297\u001b[0m \u001b[39m# HEAD with a 404 is returned as a normal response\u001b[39;00m\n\u001b[1;32m    298\u001b[0m \u001b[39m# since this is used as an 'exists' functionality.\u001b[39;00m\n\u001b[1;32m    299\u001b[0m \u001b[39mif\u001b[39;00m \u001b[39mnot\u001b[39;00m (method \u001b[39m==\u001b[39m \u001b[39m\"\u001b[39m\u001b[39mHEAD\u001b[39m\u001b[39m\"\u001b[39m \u001b[39mand\u001b[39;00m meta\u001b[39m.\u001b[39mstatus \u001b[39m==\u001b[39m \u001b[39m404\u001b[39m) \u001b[39mand\u001b[39;00m (\n\u001b[1;32m    300\u001b[0m     \u001b[39mnot\u001b[39;00m \u001b[39m200\u001b[39m \u001b[39m<\u001b[39m\u001b[39m=\u001b[39m meta\u001b[39m.\u001b[39mstatus \u001b[39m<\u001b[39m \u001b[39m299\u001b[39m\n\u001b[1;32m    301\u001b[0m     \u001b[39mand\u001b[39;00m (\n\u001b[0;32m   (...)\u001b[0m\n\u001b[1;32m    305\u001b[0m     )\n\u001b[1;32m    306\u001b[0m ):\n",
      "File \u001b[0;32m~/miniconda3/envs/uni/lib/python3.9/site-packages/elastic_transport/_transport.py:328\u001b[0m, in \u001b[0;36mTransport.perform_request\u001b[0;34m(self, method, target, body, headers, max_retries, retry_on_status, retry_on_timeout, request_timeout, client_meta)\u001b[0m\n\u001b[1;32m    326\u001b[0m start_time \u001b[39m=\u001b[39m time\u001b[39m.\u001b[39mtime()\n\u001b[1;32m    327\u001b[0m \u001b[39mtry\u001b[39;00m:\n\u001b[0;32m--> 328\u001b[0m     meta, raw_data \u001b[39m=\u001b[39m node\u001b[39m.\u001b[39;49mperform_request(\n\u001b[1;32m    329\u001b[0m         method,\n\u001b[1;32m    330\u001b[0m         target,\n\u001b[1;32m    331\u001b[0m         body\u001b[39m=\u001b[39;49mrequest_body,\n\u001b[1;32m    332\u001b[0m         headers\u001b[39m=\u001b[39;49mrequest_headers,\n\u001b[1;32m    333\u001b[0m         request_timeout\u001b[39m=\u001b[39;49mrequest_timeout,\n\u001b[1;32m    334\u001b[0m     )\n\u001b[1;32m    335\u001b[0m     _logger\u001b[39m.\u001b[39minfo(\n\u001b[1;32m    336\u001b[0m         \u001b[39m\"\u001b[39m\u001b[39m%s\u001b[39;00m\u001b[39m \u001b[39m\u001b[39m%s\u001b[39;00m\u001b[39m%s\u001b[39;00m\u001b[39m [status:\u001b[39m\u001b[39m%s\u001b[39;00m\u001b[39m duration:\u001b[39m\u001b[39m%.3f\u001b[39;00m\u001b[39ms]\u001b[39m\u001b[39m\"\u001b[39m\n\u001b[1;32m    337\u001b[0m         \u001b[39m%\u001b[39m (\n\u001b[0;32m   (...)\u001b[0m\n\u001b[1;32m    343\u001b[0m         )\n\u001b[1;32m    344\u001b[0m     )\n\u001b[1;32m    346\u001b[0m     \u001b[39mif\u001b[39;00m method \u001b[39m!=\u001b[39m \u001b[39m\"\u001b[39m\u001b[39mHEAD\u001b[39m\u001b[39m\"\u001b[39m:\n",
      "File \u001b[0;32m~/miniconda3/envs/uni/lib/python3.9/site-packages/elastic_transport/_node/_http_urllib3.py:202\u001b[0m, in \u001b[0;36mUrllib3HttpNode.perform_request\u001b[0;34m(self, method, target, body, headers, request_timeout)\u001b[0m\n\u001b[1;32m    194\u001b[0m         err \u001b[39m=\u001b[39m \u001b[39mConnectionError\u001b[39;00m(\u001b[39mstr\u001b[39m(e), errors\u001b[39m=\u001b[39m(e,))\n\u001b[1;32m    195\u001b[0m     \u001b[39mself\u001b[39m\u001b[39m.\u001b[39m_log_request(\n\u001b[1;32m    196\u001b[0m         method\u001b[39m=\u001b[39mmethod,\n\u001b[1;32m    197\u001b[0m         target\u001b[39m=\u001b[39mtarget,\n\u001b[0;32m   (...)\u001b[0m\n\u001b[1;32m    200\u001b[0m         exception\u001b[39m=\u001b[39merr,\n\u001b[1;32m    201\u001b[0m     )\n\u001b[0;32m--> 202\u001b[0m     \u001b[39mraise\u001b[39;00m err \u001b[39mfrom\u001b[39;00m \u001b[39mNone\u001b[39;00m\n\u001b[1;32m    204\u001b[0m meta \u001b[39m=\u001b[39m ApiResponseMeta(\n\u001b[1;32m    205\u001b[0m     node\u001b[39m=\u001b[39m\u001b[39mself\u001b[39m\u001b[39m.\u001b[39mconfig,\n\u001b[1;32m    206\u001b[0m     duration\u001b[39m=\u001b[39mduration,\n\u001b[0;32m   (...)\u001b[0m\n\u001b[1;32m    209\u001b[0m     headers\u001b[39m=\u001b[39mresponse_headers,\n\u001b[1;32m    210\u001b[0m )\n\u001b[1;32m    211\u001b[0m \u001b[39mself\u001b[39m\u001b[39m.\u001b[39m_log_request(\n\u001b[1;32m    212\u001b[0m     method\u001b[39m=\u001b[39mmethod,\n\u001b[1;32m    213\u001b[0m     target\u001b[39m=\u001b[39mtarget,\n\u001b[0;32m   (...)\u001b[0m\n\u001b[1;32m    217\u001b[0m     response\u001b[39m=\u001b[39mdata,\n\u001b[1;32m    218\u001b[0m )\n",
      "\u001b[0;31mConnectionError\u001b[0m: Connection error caused by: ConnectionError(Connection error caused by: NewConnectionError(<urllib3.connection.HTTPConnection object at 0x7f5147bde6d0>: Failed to establish a new connection: [Errno 111] Connection refused))"
     ]
    }
   ],
   "source": [
    "q = \"phần mềm\"\n",
    "docs = ensemble_retriever.invoke(input=q)\n",
    "docs"
   ]
  },
  {
   "cell_type": "markdown",
   "metadata": {},
   "source": [
    "https://smith.langchain.com/public/44599da9-84dd-49d7-8f23-6da4876eff87/r\n",
    "\n",
    "https://smith.langchain.com/public/79b56c17-e5b1-4e74-95b5-98b183749477/r"
   ]
  }
 ],
 "metadata": {
  "kernelspec": {
   "display_name": "uni",
   "language": "python",
   "name": "python3"
  },
  "language_info": {
   "codemirror_mode": {
    "name": "ipython",
    "version": 3
   },
   "file_extension": ".py",
   "mimetype": "text/x-python",
   "name": "python",
   "nbconvert_exporter": "python",
   "pygments_lexer": "ipython3",
   "version": "3.9.18"
  },
  "orig_nbformat": 4
 },
 "nbformat": 4,
 "nbformat_minor": 2
}
