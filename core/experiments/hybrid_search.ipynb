{
 "cells": [
  {
   "cell_type": "markdown",
   "metadata": {},
   "source": [
    "# Hybrid Search\n",
    "\n",
    "combine vector, keyword\n",
    "\n",
    "What does it do:\n",
    "- it run search on multiple retrievers parallel\n",
    "- it then use Reciprocal Rank Fusion to sort the document"
   ]
  },
  {
   "cell_type": "code",
   "execution_count": 16,
   "metadata": {},
   "outputs": [],
   "source": [
    "import os\n",
    "os.environ[\"LANGCHAIN_TRACING_V2\"]=\"true\"\n",
    "os.environ[\"LANGCHAIN_ENDPOINT\"]=\"https://api.smith.langchain.com\"\n",
    "os.environ[\"LANGCHAIN_API_KEY\"]=\"ls__bccd1a22537542bab44282ee1316a124\"\n",
    "os.environ[\"LANGCHAIN_PROJECT\"]=\"LEARN\"\n",
    "\n",
    "K = 2 #seach K documents"
   ]
  },
  {
   "cell_type": "markdown",
   "metadata": {},
   "source": [
    "## BM25 retriever"
   ]
  },
  {
   "cell_type": "code",
   "execution_count": 4,
   "metadata": {},
   "outputs": [],
   "source": [
    "from __future__ import annotations\n",
    "\n",
    "from typing import Any, Dict, Iterable, List\n",
    "\n",
    "from langchain_core.documents import Document\n",
    "import uuid\n",
    "from elasticsearch import Elasticsearch\n",
    "\n",
    "from langchain_core.retrievers import BaseRetriever\n",
    "from langchain_core.callbacks import CallbackManagerForRetrieverRun\n",
    "\n",
    "class MyElasticSearchBM25Retriever(BaseRetriever):\n",
    "    \"\"\"`Elasticsearch` retriever that uses `BM25` extended version.\n",
    "        @param client ElasticSearchClient\n",
    "        @param index_name an index\n",
    "    \"\"\"\n",
    "\n",
    "    k: int = 4\n",
    "    \"\"\"k size search\"\"\"\n",
    "\n",
    "    client: Elasticsearch\n",
    "    \"\"\"Elasticsearch client.\"\"\"\n",
    "\n",
    "    index_name: str\n",
    "    \"\"\"Name of the index to use in Elasticsearch.\"\"\"\n",
    "\n",
    "    def add_texts(\n",
    "        self,\n",
    "        texts: Iterable[str],\n",
    "        metadatas: Dict,\n",
    "        refresh_indices: bool = True,\n",
    "    ) -> List[str]:\n",
    "        \"\"\"Run more texts through the embeddings and add to the retriever.\n",
    "\n",
    "        Args:\n",
    "            texts: Iterable of strings to add to the retriever.\n",
    "            refresh_indices: bool to refresh ElasticSearch indices\n",
    "\n",
    "        Returns:\n",
    "            List of ids from adding the texts into the retriever.\n",
    "        \"\"\"\n",
    "        try:\n",
    "            from elasticsearch.helpers import bulk\n",
    "        except ImportError:\n",
    "            raise ValueError(\n",
    "                \"Could not import elasticsearch python package. \"\n",
    "                \"Please install it with `pip install elasticsearch`.\"\n",
    "            )\n",
    "        requests = []\n",
    "        ids = []\n",
    "        for i, text in enumerate(texts):\n",
    "            metadata = metadatas[i] if metadatas else {}\n",
    "            _id = str(uuid.uuid4())\n",
    "            request = {\n",
    "                \"_op_type\": \"index\",\n",
    "                \"_index\": self.index_name,\n",
    "                \"content\": text,\n",
    "                \"metadata\": metadata,\n",
    "                \"_id\": _id,\n",
    "            }\n",
    "            ids.append(_id)\n",
    "            requests.append(request)\n",
    "        bulk(self.client, requests)\n",
    "\n",
    "        if refresh_indices:\n",
    "            self.client.indices.refresh(index=self.index_name)\n",
    "        return ids\n",
    "    \n",
    "    def add_documents(self, documents: List[Document], **kwargs: Any) -> List[str]:\n",
    "        \"\"\"Run more documents through the embeddings and add to the vectorstore.\n",
    "\n",
    "        Args:\n",
    "            documents (List[Document]: Documents to add to the vectorstore.\n",
    "\n",
    "        Returns:\n",
    "            List[str]: List of IDs of the added texts.\n",
    "        \"\"\"\n",
    "        # TODO: Handle the case where the user doesn't provide ids on the Collection\n",
    "        texts = [doc.page_content for doc in documents]\n",
    "        metadatas = [doc.metadata for doc in documents]\n",
    "        return self.add_texts(texts, metadatas, **kwargs)\n",
    "\n",
    "    def get_relevant_documents(\n",
    "        self, query: str, *, run_manager: CallbackManagerForRetrieverRun\n",
    "    ) -> List[Document]:\n",
    "        query_dict = {\"query\": {\"match\": {\"content\": query}}, \"size\": self.k}\n",
    "        response = self.client.search(index=self.index_name, body=query_dict)\n",
    "\n",
    "        def default_doc_builder(hit: Dict) -> Document:\n",
    "            return Document(\n",
    "                page_content=hit[\"_source\"].get(self.query_field, \"\"),\n",
    "                metadata=hit[\"_source\"][\"metadata\"],\n",
    "            )\n",
    "        \n",
    "        doc_builder = default_doc_builder\n",
    "\n",
    "        result_docs = []\n",
    "        for r in response[\"hits\"][\"hits\"]:\n",
    "            d = Document(page_content=r[\"_source\"][\"content\"])\n",
    "            d.metadata.update(r[\"_source\"][\"metadata\"])\n",
    "            result_docs.append(d)\n",
    "        return result_docs\n"
   ]
  },
  {
   "cell_type": "code",
   "execution_count": 17,
   "metadata": {},
   "outputs": [],
   "source": [
    "es = Elasticsearch(\"http://localhost:9200\") # check https://elasticsearch-py.readthedocs.io/en/v8.12.1/\n",
    "\n",
    "b_index = \"text-split-major\"\n",
    "\n",
    "bm25 = MyElasticSearchBM25Retriever(client=es, index_name=b_index)\n",
    "bm25.k = K"
   ]
  },
  {
   "cell_type": "markdown",
   "metadata": {},
   "source": [
    "## Vector retriever"
   ]
  },
  {
   "cell_type": "code",
   "execution_count": 18,
   "metadata": {},
   "outputs": [],
   "source": [
    "from langchain_community.vectorstores.elasticsearch import ElasticsearchStore\n",
    "\n",
    "embedding = provider.get_gemini_embeddings() # replace with yours\n",
    "\n",
    "v_index = \"labse-major\"\n",
    "\n",
    "elastic_vector_search = ElasticsearchStore(\n",
    "    es_connection=es,\n",
    "    index_name=v_index,\n",
    "    embedding=embedding,\n",
    ")\n",
    "\n",
    "vector_retriever = elastic_vector_search.as_retriever(search_kwargs={\"k\": K})\n"
   ]
  },
  {
   "cell_type": "markdown",
   "metadata": {},
   "source": [
    "## Hybrid search"
   ]
  },
  {
   "cell_type": "code",
   "execution_count": 19,
   "metadata": {},
   "outputs": [],
   "source": [
    "from langchain.retrievers import EnsembleRetriever\n",
    "\n",
    "ensemble_retriever = EnsembleRetriever(\n",
    "    retrievers=[bm25, vector_retriever],\n",
    "    weights=[0.5, 0.5])\n"
   ]
  },
  {
   "cell_type": "code",
   "execution_count": 21,
   "metadata": {},
   "outputs": [
    {
     "data": {
      "text/plain": [
       "[Document(page_content='Công nghệ sinh học là ngành ứng dụng các kiến thức trong lĩnh vực sinh học nhằm nghiên cứu và sản xuất ra các sản phẩm sinh học thiết yếu, sản phẩm có giá trị cao như vaccine, kháng sinh, xăng sinh học; cải tiến chất lượng giống cây trồng, ứng dụng vi sinh để xử lý nước thải công nghiệp, ứng dụng các hợp chất tự nhiên để điều trị bệnh và những ứng dụng khác phục vụ cho đời sống con người.\\n\\nVới cách tiếp cận và xây dựng chương trình đào tạo hiện đại, tiệm cận với các nền giáo dục tiên tiến và sát với yêu cầu về nguồn nhân lực của thị trường lao động, sinh viên sau khi tốt nghiệp ngành Công nghệ sinh học có thể đảm nhiệm các vị trí như: Phụ trách nghiên cứu và phát triển sản phẩm mới; phụ trách quản lý hệ thống và kiểm định dây chuyền sản xuất của nhà máy; phụ trách theo dõi và kiểm soát vi sinh sản phẩm; chẩn đoán bệnh bằng công nghệ di truyền, liệu pháp gene, công nghệ tế bào gốc; phụ trách theo dõi và phát triển phôi thụ tinh trong ống nghiệm, nghiên cứu và chế tạo vaccine; phụ trách lai tạo, chuyển gen để tạo ra giống cây trồng mới, … Ngoài ra, Kỹ sư Công nghệ sinh học còn có thể tiếp tục học lên cao học trong các lĩnh vực tin sinh học, di truyền, …\\nSinh viên được học các kiến thức từ cơ bản đến chuyên sâu như sinh học phân tử, sinh học tế bào, di truyền học, vi sinh vật học, hóa sinh, hóa lý, sinh thái học, công nghệ protein - enzyme, công nghệ gene tái tổ hợp…\\n\\nNgoài kiến thức chuyên môn được trang bị theo chương trình đào tạo quốc tế, sinh viên còn được thực hành trong các trung tâm thí nghiệm với thiết bị hiện đại và liên tục cập nhật. Ngoài ra, Nhà trường còn chú trọng đầu tư xây dựng các phòng thí nghiệm vi sinh, sinh học phân tử, nuôi cấy mô, vườn ươm, nhà kính thủy canh, nhà nấm, vườn dược liệu, … nhằm phục vụ nhu cầu học tập và nghiên cứu của sinh viên.\\n\\nSố tiết học thực hành chiếm khoảng 50% trong chương trình đào tạo, giúp sinh viên được trải nghiệm thực tế, góp phần nâng cao tay nghề bên cạnh việc tiếp thu kiến thức chuyên môn.', metadata={'id': 7}),\n",
       " Document(page_content='Kỹ thuật phần mềm là ngành ứng dụng kiến thức về lập trình, thiết kế phần mềm, quy trình vận hành và phát triển phần mềm, phân tích yêu cầu hệ thống, trí tuệ nhân tạo … để tạo ra sản phẩm phần mềm đạt chất lượng cao, đáp ứng xu hướng phát triển mạnh mẽ của công nghệ và nhu cầu nghiệp vụ cụ thể trong nền sản xuất của xã hội.\\n\\nCử nhân Kỹ thuật phần mềm có thể tự tin khởi nghiệp hoặc ứng tuyển vào các doanh nghiệp trong và ngoài nước, các cơ quan, ban ngành ở những vị trí: Chuyên viên phân tích yêu cầu (BA), Kiến trúc sư phần mềm (SA), Lập trình viên (Developer), Chuyên viên thử nghiệm phần mềm (Tester), chuyên viên cầu nối (BrSE), chuyên viên nghiên cứu và phát triển ứng dụng (R&D), giảng viên giảng dạy các môn học về ngành kỹ thuật phần mềm hoặc có thể tiếp tục nghiên cứu và học lên cao học. \\nSinh viên được cung cấp kiến thức nền cơ sở của kỹ thuật phần mềm và những kiến thức mang tính định hướng theo nhu cầu phát triển của xã hội như: phát triển ứng dụng trên các nền tảng số, thiết bị máy tính, di động thông minh; thiết kế giao diện thân thiện với người dùng; phân tích hệ thống; an toàn thông tin; quản lý dự án công nghệ thông tin; … Ngoài ra, sinh viên còn được tạo điều kiện để củng cố kiến thức chuyên môn và nâng cao tay nghề thông qua các tiết học thực hành trong phòng học được trang bị đầy đủ trang thiết bị tiên tiến và liên tục cập nhật. Số tiết học thực hành được thiết kế để cân bằng với số buổi học lý thuyết, giúp sinh viên có cơ hội rèn luyện và vận dụng những kiến thức đã học vào thực tế.', metadata={'id': 17}),\n",
       " Document(page_content='Số tiết học thực hành chiếm khoảng 50% trong chương trình đào tạo, giúp sinh viên được trải nghiệm thực tế, góp phần nâng cao tay nghề bên cạnh việc tiếp thu kiến thức chuyên môn. Trong suốt quá trình học, sinh viên được hướng dẫn ôn tập và ứng dụng kiến thức đã học vào thực tiễn thông qua mạng lưới kết nối doanh nghiệp dưới hình thức tham quan, trải nghiệm thực tế quy trình sản xuất, quá trình vận hành thiết bị, … qua đó nâng cao khả năng tư duy logic để phân tích tình huống, lập luận và giải quyết vấn đề kỹ thuật một cách thực tiễn và tối ưu. Trong một số môn học chuyên sâu, giảng viên sẽ đồng hành cùng với các chuyên gia dày dặn kinh nghiệm đến từ doanh nghiệp trực tiếp giảng dạy và hướng dẫn sinh viên thực hiện các dự án nghiên cứu, từ đó nâng cao khả năng thực hành nghề nghiệp cho sinh viên ngay khi còn ngồi trên ghế Nhà trường.\\n\\nHiểu được nhu cầu của xã hội về nguồn nhân lực có tay nghề cao, Nhà trường luôn tạo điều kiện để sinh viên tham gia vào các dự án nghiên cứu khoa học và các cuộc thi học thuật thuộc lĩnh vực chuyên môn, giúp sinh viên trau dồi và phát huy năng lực tìm tòi, sáng tạo và vận dụng thuần thục các kỹ năng đã được trang bị trong quá trình học tập.', metadata={'id': 16}),\n",
       " Document(page_content='Các học phần được thiết kế mang tính ứng dụng cao, theo hướng tăng dần từ cấp độ cơ bản đến cấp độ sinh viên có đủ kiến thức và kỹ năng để tự thực hiện được một dự án phần mềm, từ giai đoạn thu thập yêu cầu, phân tích, thiết kế, lập trình, kiểm thử đến giai đoạn vận hành và bảo trì phần mềm. Nhà trường còn đẩy mạnh chương trình kết nối mạng lưới doanh nghiệp thân hữu nhằm tạo điều kiện cho sinh viên có cơ hội tham quan và kiến tập từ năm học thứ 2. Bên cạnh đó, đối với một số môn học mang tính chuyên môn, giảng viên sẽ kết hợp với các chuyên gia dày dặn kinh nghiệm trực tiếp giảng dạy, góp phần bồi dưỡng thêm kiến thức và liiên tục cập nhật các tiêu chuẩn mới nhất về công nghệ để tăng khả năng cạnh tranh và hội nhập với nhu cầu ngày càng cao của xã hội.\\n\\nSinh viên ngành Kỹ thuật phần mềm sau khi tốt nghiệp sẽ được trang bị đầy đủ các kỹ năng như: kỹ năng phân tích, thiết kế, lập trình và kiểm thử các hệ thống phần mềm; kỹ năng triển khai và quản lý các dự án phần mềm cho doanh nghiệp; thuần thục việc ứng dụng các công cụ phần mềm vào việc khai thác, phân tích dữ liệu doanh nghiệp; có khả năng tư vấn giải pháp xây dựng các hệ thống phần mềm, …', metadata={'id': 17})]"
      ]
     },
     "execution_count": 21,
     "metadata": {},
     "output_type": "execute_result"
    }
   ],
   "source": [
    "q = \"phần mềm\"\n",
    "docs = ensemble_retriever.invoke(input=q)\n",
    "docs"
   ]
  },
  {
   "cell_type": "markdown",
   "metadata": {},
   "source": [
    "https://smith.langchain.com/public/44599da9-84dd-49d7-8f23-6da4876eff87/r\n",
    "\n",
    "https://smith.langchain.com/public/79b56c17-e5b1-4e74-95b5-98b183749477/r"
   ]
  }
 ],
 "metadata": {
  "kernelspec": {
   "display_name": "uni",
   "language": "python",
   "name": "python3"
  },
  "language_info": {
   "codemirror_mode": {
    "name": "ipython",
    "version": 3
   },
   "file_extension": ".py",
   "mimetype": "text/x-python",
   "name": "python",
   "nbconvert_exporter": "python",
   "pygments_lexer": "ipython3",
   "version": "3.9.18"
  },
  "orig_nbformat": 4
 },
 "nbformat": 4,
 "nbformat_minor": 2
}
