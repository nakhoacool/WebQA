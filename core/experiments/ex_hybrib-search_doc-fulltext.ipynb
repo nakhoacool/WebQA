{
 "cells": [
  {
   "cell_type": "markdown",
   "id": "2e21da2d-f63d-4de5-a680-11dcfa0ce358",
   "metadata": {},
   "source": [
    "# Experiment\n",
    "- Hybrid search\n",
    "- Doc split\n",
    "\n",
    "Reference: https://python.langchain.com/docs/modules/data_connection/retrievers/ensemble"
   ]
  },
  {
   "cell_type": "code",
   "execution_count": 1,
   "id": "9b54b1f8-44c4-4678-8bc1-77fc157539f1",
   "metadata": {},
   "outputs": [],
   "source": [
    "from langchain.retrievers import BM25Retriever, EnsembleRetriever\n",
    "from langchain_community.embeddings import HuggingFaceInferenceAPIEmbeddings\n",
    "from langchain_community.vectorstores import FAISS\n",
    "import sys\n",
    "import pandas as pd\n",
    "from collections import Counter\n",
    "from langchain.text_splitter import RecursiveCharacterTextSplitter\n",
    "from langchain_core.documents.base import Document\n",
    "sys.path.append(\"../\")\n",
    "from src.config import Configuration\n",
    "from src.prepare.data_load import DocDataLoader"
   ]
  },
  {
   "cell_type": "code",
   "execution_count": 2,
   "id": "9b63b805-ccd3-4e8f-8e67-8539cbff9c29",
   "metadata": {},
   "outputs": [
    {
     "name": "stdout",
     "output_type": "stream",
     "text": [
      "From (44, 4) to 44\n"
     ]
    }
   ],
   "source": [
    "doc_loader = DocDataLoader()\n",
    "db = doc_loader.load_major_docs_full()"
   ]
  },
  {
   "cell_type": "markdown",
   "id": "bbe2f135-d790-4829-9f63-490446a45e3c",
   "metadata": {},
   "source": [
    "# Config"
   ]
  },
  {
   "cell_type": "code",
   "execution_count": 3,
   "id": "ee4d282a-4bca-4bd0-adff-2905184eee69",
   "metadata": {},
   "outputs": [],
   "source": [
    "conf = Configuration()\n",
    "\n",
    "WEIGHTS = [0.5, 0.5]\n",
    "K = 1\n",
    "\n",
    "# INDEX = \"labse-major\"\n",
    "INDEX = \"gemini-major\"\n",
    "\n",
    "# MODEL = \"sentence-transformers/LaBSE\"\n",
    "MODEL = \"models/embedding-001\"\n",
    "\n",
    "\n",
    "DIST = \"EUCLIDEAN_DISTANCE\"\n",
    "META = {\n",
    "    \"model\": MODEL, \n",
    "    \"bm25-weight\": WEIGHTS[0],\n",
    "    \"elastic-weight\": WEIGHTS[1],\n",
    "    \"index\": INDEX,\n",
    "    \"top k\": K,\n",
    "    \"distance\": DIST, \n",
    "    \"technique\": f\"{MODEL} + Hybrid (full text at BM25)\"\n",
    "}"
   ]
  },
  {
   "cell_type": "markdown",
   "id": "6f1fa2ae-f111-489a-8ebe-4cd367fc350a",
   "metadata": {},
   "source": [
    "# Hybrid Retriever"
   ]
  },
  {
   "cell_type": "code",
   "execution_count": 4,
   "id": "8cbc7eb0-fb6c-4c7e-b9db-f7e589fc1245",
   "metadata": {},
   "outputs": [
    {
     "name": "stderr",
     "output_type": "stream",
     "text": [
      "/home/h4438/miniconda3/envs/uni/lib/python3.9/site-packages/tqdm/auto.py:21: TqdmWarning: IProgress not found. Please update jupyter and ipywidgets. See https://ipywidgets.readthedocs.io/en/stable/user_install.html\n",
      "  from .autonotebook import tqdm as notebook_tqdm\n"
     ]
    }
   ],
   "source": [
    "from langchain_community.vectorstores.elasticsearch import ElasticsearchStore\n",
    "from langchain_google_genai import GoogleGenerativeAIEmbeddings\n",
    "\n",
    "# embeddings = HuggingFaceInferenceAPIEmbeddings(\n",
    "#     api_key=conf.load_hg_token(),\n",
    "#     model_name=MODEL)\n",
    "\n",
    "embeddings = GoogleGenerativeAIEmbeddings(model=MODEL,\n",
    "                                          google_api_key=conf.load_gemini_token())\n",
    "\n",
    "# initialize the bm25 retriever and faiss retriever\n",
    "bm25_retriever = BM25Retriever.from_documents(db)\n",
    "bm25_retriever.k = K\n",
    "\n",
    "elastic_vector_search = ElasticsearchStore(\n",
    "            es_connection=conf.load_elasticsearch_connection(),\n",
    "            index_name=INDEX,\n",
    "            embedding=embeddings,\n",
    "            distance_strategy=DIST)\n",
    "\n",
    "es_retriever = elastic_vector_search.as_retriever(search_kwargs={\"k\": K})\n",
    "\n",
    "# initialize the ensemble retriever\n",
    "ensemble_retriever = EnsembleRetriever(\n",
    "    retrievers=[bm25_retriever, es_retriever], weights=WEIGHTS\n",
    ")\n"
   ]
  },
  {
   "cell_type": "markdown",
   "id": "66575a30-9584-44ac-a3ef-b7c0b58b252e",
   "metadata": {},
   "source": [
    "# Test"
   ]
  },
  {
   "cell_type": "code",
   "execution_count": 5,
   "id": "039d6dcc-742a-4881-8111-0f4ac72dc948",
   "metadata": {},
   "outputs": [
    {
     "name": "stdout",
     "output_type": "stream",
     "text": [
      "docs.csv\t\t    private_test_case.csv  sample_test_case.csv\n",
      "hard_private_test_case.csv  public_test_case.csv\n"
     ]
    }
   ],
   "source": [
    "from tests.major_eval import MajorBlogPostEvaluation\n",
    "eval = MajorBlogPostEvaluation(root_path=\"../\", save_path=\"./results\")\n",
    "\n",
    "!ls ../data/test_major"
   ]
  },
  {
   "cell_type": "code",
   "execution_count": 6,
   "id": "c625d3c3-e143-4cbc-bc51-66c2f083658d",
   "metadata": {},
   "outputs": [],
   "source": [
    "eval.eval_sample(\"sample_hybrid_fulltext.txt\", ensemble_retriever, META)"
   ]
  },
  {
   "cell_type": "code",
   "execution_count": 6,
   "id": "a7448abb-eff9-4e46-8397-2719a744201b",
   "metadata": {},
   "outputs": [],
   "source": [
    "eval.eval_public(\"gemini_major_hybrid_public_fulltext.txt\", ensemble_retriever, META)"
   ]
  },
  {
   "cell_type": "code",
   "execution_count": 10,
   "id": "2c264d2a-5b34-4481-8e19-2b77242e2b73",
   "metadata": {},
   "outputs": [],
   "source": [
    "with open(\"./results/labse_major_hybrid_bm25full_private.txt\", \"a\") as f:\n",
    "    top = 1\n",
    "    c, t = test_major_private(ensemble_retriever, 1)\n",
    "    # c, t = [1, 2]\n",
    "    write_info(f)\n",
    "    f.write(f\"Find Top: {top}\\n\")\n",
    "    f.write(f\"Correct: {str(c)}\\n\")\n",
    "    f.write(f\"Total: {str(t)}\\n\")\n",
    "    f.write(f\"Score: {str(c/t)}\\n\")"
   ]
  },
  {
   "cell_type": "code",
   "execution_count": 11,
   "id": "66792603-da00-4af8-8641-d93f7c68c66d",
   "metadata": {},
   "outputs": [],
   "source": [
    "\n",
    "with open(\"./results/labse_major_hybrid_bm25full_private.txt\", \"a\") as f:\n",
    "    top = 2\n",
    "    c, t = test_major_private(ensemble_retriever, top)\n",
    "    # c, t = [1, 2]\n",
    "    write_info(f)\n",
    "    f.write(f\"Find Top: {top}\\n\")\n",
    "    f.write(f\"Correct: {str(c)}\\n\")\n",
    "    f.write(f\"Total: {str(t)}\\n\")\n",
    "    f.write(f\"Score: {str(c/t)}\\n\")"
   ]
  }
 ],
 "metadata": {
  "kernelspec": {
   "display_name": "Python 3 (ipykernel)",
   "language": "python",
   "name": "python3"
  },
  "language_info": {
   "codemirror_mode": {
    "name": "ipython",
    "version": 3
   },
   "file_extension": ".py",
   "mimetype": "text/x-python",
   "name": "python",
   "nbconvert_exporter": "python",
   "pygments_lexer": "ipython3",
   "version": "3.9.18"
  }
 },
 "nbformat": 4,
 "nbformat_minor": 5
}
